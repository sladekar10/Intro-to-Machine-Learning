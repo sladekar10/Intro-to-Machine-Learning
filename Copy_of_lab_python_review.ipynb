{
 "cells": [
  {
   "cell_type": "markdown",
   "metadata": {
    "id": "JvTvU7DHSh6d"
   },
   "source": [
    "# Intro to Python and ML Libraries\n",
    "## ITCS 4156 Intro to Machine Learning\n",
    "### Instructor: Xiang Zhang"
   ]
  },
  {
   "cell_type": "markdown",
   "metadata": {
    "id": "p75uSP1USh6h"
   },
   "source": [
    "\n",
    "For those new to Python or NumPy this notebook aims to provide you with a quick and basic introduction to these concepts. You should refer back to this notebook throughout the semester when you need programming help!\n",
    "\n",
    "Each Python library is super comprehensive, and you need around one week for each library if you really want to master it. You don't have enough time to learn everything for sure. So my suggestion is: to get a high-level idea of each tool/library, and search the specific command/function when it's needed in coding. \n",
    " \n",
    "\n",
    "Check the Python cheatsheets for [Numpy, Pandas, Matplotlib, and Sk-Learn](https://web.itu.edu.tr/iguzel/files/Python_Cheat_Sheets.pdf). \n",
    "\n",
    "\n",
    "### Topics\n",
    "- Brief Introduction to Jupyter Notebooks\n",
    "\n",
    "- Python\n",
    "    - Basic Data Types\n",
    "    - Containers\n",
    "    - For Loops and List Comprehension \n",
    "    - Lambda Functions\n",
    "    - Debugging\n",
    "- NumPy\n",
    "    - Generating Arrays (ndarray)\n",
    "    - Indexing Arrays\n",
    "    - Copying and Slices\n",
    "    - Reshaping and Adding New Dimensions\n",
    "    - What is an Axis?\n",
    "    - Datatypes\n",
    "    - List Comprehension with Arrays\n",
    "    - Searching Arrays: Finding Specific Values and Indexes\n",
    "    - Array Operations\n",
    "    - Matmul, Shape Mismatch, and Broadcasting Errors\n",
    "- Pandas\n",
    "    - DataFrames\n",
    "    - Indexing DataFrames\n",
    "- Matplotlib\n",
    "    - Basic Line Plotting\n",
    "<hr>\n",
    "\n",
    "**References**\n",
    "  - [1] Python Numpy Tutorial (with Jupyter and Colab).” https://cs231n.github.io/python-numpy-tutorial/#python\n"
   ]
  },
  {
   "cell_type": "code",
   "execution_count": 45,
   "metadata": {
    "id": "w3XTHKirSh6i"
   },
   "outputs": [],
   "source": [
    "# Additional imports beyond the scope of this lab\n",
    "import traceback # Useful for printing errors cause by try-catches\n",
    "import random\n",
    "\n",
    "# Set NumPy random seed for replication\n",
    "random.seed(0)\n",
    "\n",
    "# Varaible for enabling or disabling debugging\n",
    "# in the debugging sub-section. For TA convenience! \n",
    "enable_debug = True\n",
    "\n",
    "# Assert whether TODO gives the desired output\n",
    "def todo_check(condi_err):\n",
    "    failed_err = \"You passed {}/{} and FAILED the following code checks:{}\"\n",
    "    failed = \"\"\n",
    "    n_failed = 0\n",
    "    for check, (condi, err) in enumerate(condi_err):\n",
    "        if not condi:\n",
    "            n_failed += 1\n",
    "            failed += f\"\\nFailed check [{check+1}]:\\n\\t Tip: {err}\"\n",
    "\n",
    "    if len(failed) != 0:\n",
    "        passed = len(condi_err) - n_failed\n",
    "        err = failed_err.format(passed, len(condi_err), failed)\n",
    "        raise AssertionError(err.format(failed))\n",
    "    print(\"Your code PASSED the code check!\")"
   ]
  },
  {
   "cell_type": "markdown",
   "metadata": {
    "id": "hxKF7fmuSh6k"
   },
   "source": [
    "# What is a Jupyter Notebook?"
   ]
  },
  {
   "cell_type": "markdown",
   "metadata": {
    "id": "w_N9tbzuSh6k"
   },
   "source": [
    "A Jupyter notebook is made up of a number of cells. Each cell can contain Python code. There are two main types of cells: `Code` cells and `Markdown` cells. This particular cell is a `Markdown` cell. You can execute a particular cell by double clicking on it (the highlight color will switch from blue to green) and pressing `Shift-Enter`. When you do so, if the cell is a `Code` cell, the code in the cell will run, and the output of the cell will be displayed beneath the cell, and if the cell is a `Markdown` cell, the markdown text will get rendered beneath the cell [1].\n",
    "\n",
    "**On the top menu, click \"Help\" --> \"Edit Keyboard Shortcuts\" to customize the shortcuts that fit your taste!**\n",
    "\n",
    "Go ahead and try executing this cell."
   ]
  },
  {
   "cell_type": "markdown",
   "metadata": {
    "id": "l9WgeqF7Sh6l"
   },
   "source": [
    "The cell below is a `Code` cell. Go ahead and click it, then execute it as well."
   ]
  },
  {
   "cell_type": "code",
   "execution_count": null,
   "metadata": {
    "colab": {
     "base_uri": "https://localhost:8080/"
    },
    "id": "wkH_UEIiSh6l",
    "outputId": "13a48147-08f3-44ba-daf7-604f112567ef"
   },
   "outputs": [
    {
     "name": "stdout",
     "output_type": "stream",
     "text": [
      "1\n"
     ]
    }
   ],
   "source": [
    "x = 1\n",
    "print(x)"
   ]
  },
  {
   "cell_type": "markdown",
   "metadata": {
    "id": "n8C_sv8rSh6m"
   },
   "source": [
    "**Global variables** are shared between cells. Notice, **that the `x` defined in the previous cell carries over to this cell.**"
   ]
  },
  {
   "cell_type": "code",
   "execution_count": null,
   "metadata": {
    "colab": {
     "base_uri": "https://localhost:8080/"
    },
    "id": "aPl9F6gYSh6m",
    "outputId": "0c718652-01ce-4ac3-9a7c-1e1ad73e72fa"
   },
   "outputs": [
    {
     "name": "stdout",
     "output_type": "stream",
     "text": [
      "2\n"
     ]
    }
   ],
   "source": [
    "y = 2 * x\n",
    "print(y)"
   ]
  },
  {
   "cell_type": "markdown",
   "metadata": {
    "id": "PMYEK9Y-Sh6n"
   },
   "source": [
    "While these global definitions can be useful that can also give beginners some trouble. If you run cells out of order you might get errors you weren't expecting as some cells might depend on other cells being ran first! You typically want to run a notebook sequentially unless you know what you are doing. \n",
    "\n",
    "Notice, when you run the below cell we get the error `NameError: name 'my_variable' is not defined` (notice we caught said error with a try-catch). This is because we haven't ran the cell that defines `my_variable` yet."
   ]
  },
  {
   "cell_type": "code",
   "execution_count": null,
   "metadata": {
    "colab": {
     "base_uri": "https://localhost:8080/"
    },
    "id": "rRYfJk0oSh6n",
    "outputId": "1ed18fb8-2ffe-4df8-801d-b6c0a4d70325"
   },
   "outputs": [
    {
     "name": "stderr",
     "output_type": "stream",
     "text": [
      "Traceback (most recent call last):\n",
      "  File \"<ipython-input-4-e45cce0f4a4a>\", line 2, in <module>\n",
      "    print(my_variable)\n",
      "NameError: name 'my_variable' is not defined\n"
     ]
    }
   ],
   "source": [
    "try:\n",
    "    print(my_variable)\n",
    "except Exception as e:\n",
    "    traceback.print_exc()"
   ]
  },
  {
   "cell_type": "code",
   "execution_count": null,
   "metadata": {
    "id": "nuOeJbdOSh6o"
   },
   "outputs": [],
   "source": [
    "my_variable = \"This variable is now initialized!\""
   ]
  },
  {
   "cell_type": "markdown",
   "metadata": {
    "id": "q2WbJ1OsSh6p"
   },
   "source": [
    "Once we initialize `my_variable`. We can call it without any errors!"
   ]
  },
  {
   "cell_type": "code",
   "execution_count": null,
   "metadata": {
    "colab": {
     "base_uri": "https://localhost:8080/"
    },
    "id": "GuHRVJoASh6p",
    "outputId": "266afb6a-bd4d-46e6-d0b6-10bdecb0386c"
   },
   "outputs": [
    {
     "name": "stdout",
     "output_type": "stream",
     "text": [
      "This variable is now initialized!\n"
     ]
    }
   ],
   "source": [
    "print(my_variable)"
   ]
  },
  {
   "cell_type": "markdown",
   "metadata": {
    "id": "Edv16IYzSh6q"
   },
   "source": [
    "## Keyboard Shortcuts\n",
    "\n",
    "There are a few keyboard shortcuts you should be aware of to make your notebook experience more pleasant. \n",
    "\n",
    "* Double click a Markdown cell to edit it\n",
    "* To run a cell and move to the next cell, press `shift+enter`\n",
    "    * Running a Markdown cell will render the cell!\n",
    "* To run a cell and remain on the current cell, press `control+enter`\n",
    "* To place a cell below the current one, press `esc+b`.\n",
    "* To place a cell above the current one, press `esc+a`.\n",
    "* To delete a cell, press `esc+dd`.\n",
    "* To undo deleted cell, press `esc+z`.\n",
    "* To convert a cell to `Markdown` press `esc+m`.\n",
    "* To convert it back to `Code` press `esc+y`.\n",
    "\n",
    "Get familiar with these keyboard shortcuts, they really help!"
   ]
  },
  {
   "cell_type": "markdown",
   "metadata": {
    "id": "NJ_jIIseSh6q"
   },
   "source": [
    "### Restarting the notebook kernel\n",
    "You can restart a notebook and clear all cells by clicking `Kernel -> Restart & Clear Output`. If you don't want to clear cell outputs, just hit `Kernel -> Restart`. Once again, restarting will be your go to option when you are getting any weird errors. It is akin to restarting your computer when you run into weird computer errors [1]."
   ]
  },
  {
   "cell_type": "markdown",
   "metadata": {
    "id": "-1oMpC4cSh6q"
   },
   "source": [
    "### Saving the notebook\n",
    "After you have modified a notebook for one of the assignments by modifying or executing some of its cells, remember to save your changes! You can save with the `Command/Control + s` shortcut or by clicking `File -> Save and Checkpoint` [1]."
   ]
  },
  {
   "cell_type": "markdown",
   "metadata": {
    "id": "D2EBYOAtSh6r"
   },
   "source": [
    "# Python\n",
    "\n",
    "Python is a high-level, [dynamically typed](https://stackoverflow.com/questions/1517582/what-is-the-difference-between-statically-typed-and-dynamically-typed-languages) (we don't have to specify the type for the variable) [multiparadigm programming language](https://msritse2012.wordpress.com/2013/01/31/the-concept-of-multi-paradigm-programming-language-manjunath-m/) (supports multiple programming paradigms such as functional and object oriented). Python code is often said to be almost like pseudocode, since it allows you to express very powerful ideas in very few lines of code while being very readable [1].\n",
    "\n",
    "**For this class we will be using Python 3.8 and above.** The below code checks to see if your python version is 3.8 or greater. If it is note, please install a version of Python that is 3.8 or above. You can do so by entering the following line into your command line or Anaconda prompt `conda install python=3.8` or see this [post](https://stackoverflow.com/questions/52035673/how-can-i-update-to-the-latest-python-version-using-conda)."
   ]
  },
  {
   "cell_type": "code",
   "execution_count": null,
   "metadata": {
    "colab": {
     "base_uri": "https://localhost:8080/"
    },
    "id": "-939fAz8Sh6r",
    "outputId": "df187eeb-9214-4b74-f1f4-2c99ec1f4290"
   },
   "outputs": [
    {
     "name": "stdout",
     "output_type": "stream",
     "text": [
      "Your python version is 3.8.10\n"
     ]
    }
   ],
   "source": [
    "from platform import python_version\n",
    "import sys\n",
    "print(f\"Your python version is {python_version()}\")\n",
    "assert sys.version_info >= (3, 8), \"Your python version {python_version()} is less than the required version for this course! Please try updating you python version.\""
   ]
  },
  {
   "cell_type": "markdown",
   "metadata": {
    "id": "FZqMvdL5Sh6s"
   },
   "source": [
    "## Basic Data Types\n",
    "\n",
    "Like most languages, Python has a number of basic types including integers, floats, booleans, and strings. These data types behave in ways that are familiar from other programming languages [1]."
   ]
  },
  {
   "cell_type": "markdown",
   "metadata": {
    "id": "mIXz2ZYeSh6s"
   },
   "source": [
    "### Numbers \n",
    "\n",
    "Integers and floats work as you would expect from other languages.\n",
    "\n",
    "Note that we use Python's built in `type` function to check the type of a variable!"
   ]
  },
  {
   "cell_type": "markdown",
   "metadata": {
    "id": "F1MLmknLSh6s"
   },
   "source": [
    "#### TODO 1\n",
    "1. Declare a Python integer by  declaring a variable `x` and setting it equal to 3 using the `=` symbol.\n",
    "\n",
    "**Write your code below the line of \"TODO\"**"
   ]
  },
  {
   "cell_type": "code",
   "execution_count": 46,
   "metadata": {
    "colab": {
     "base_uri": "https://localhost:8080/"
    },
    "id": "O_qcSkV1Sh6s",
    "outputId": "430dd819-1bf6-42b8-86aa-c91bd92b8c1f"
   },
   "outputs": [
    {
     "name": "stdout",
     "output_type": "stream",
     "text": [
      "x is equal to 3\n",
      "Your code PASSED the code check!\n"
     ]
    }
   ],
   "source": [
    "# TODO 1.1 \n",
    "x = 3\n",
    "print(f\"x is equal to {x}\")\n",
    "\n",
    "# This a automatic check to make sue your todo was completed correctly!\n",
    "# If you pass this check then you are likely to receive full points on the TODO if \n",
    "# you completed it as specified!\n",
    "todo_check([\n",
    "    (x == 3, 'x is must be set to 3!')\n",
    "])"
   ]
  },
  {
   "cell_type": "markdown",
   "metadata": {
    "id": "j_eIrwYaSh6s"
   },
   "source": [
    "Below are examples some different operations we can perform on integers!"
   ]
  },
  {
   "cell_type": "code",
   "execution_count": null,
   "metadata": {
    "colab": {
     "base_uri": "https://localhost:8080/"
    },
    "id": "YK-v9OhVSh6t",
    "outputId": "861bb2a9-41c5-4ee1-da33-ff93e7522ffc"
   },
   "outputs": [
    {
     "name": "stdout",
     "output_type": "stream",
     "text": [
      "Check type of x using `type(x)`: <class 'int'>\n",
      "Value of x: 3\n",
      "Value of x + 1: 4\n",
      "Value of x - 1: 2\n",
      "Value of x * 2: 6\n",
      "Value of x^2 or x**2: 9\n"
     ]
    }
   ],
   "source": [
    "print(f\"Check type of x using `type(x)`: {type(x)}\") # Prints \"<class 'int'>\"\n",
    "print(f\"Value of x: {x}\")       # Prints \"3\"\n",
    "print(f\"Value of x + 1: {x + 1}\")   # Addition; prints \"4\"\n",
    "print(f\"Value of x - 1: {x - 1}\")   # Subtraction; prints \"2\"\n",
    "print(f\"Value of x * 2: {x * 2}\")   # Multiplication; prints \"6\"\n",
    "print(f\"Value of x^2 or x**2: {x ** 2}\")  # Exponentiation; prints \"9\""
   ]
  },
  {
   "cell_type": "markdown",
   "metadata": {
    "id": "t27USV6XSh6t"
   },
   "source": [
    "We can quickly add to `x` by doing the following. Likewise, this same idea works for multiplication and subtraction."
   ]
  },
  {
   "cell_type": "code",
   "execution_count": null,
   "metadata": {
    "colab": {
     "base_uri": "https://localhost:8080/"
    },
    "id": "H1u44AEtSh6t",
    "outputId": "e4a20e3a-88cd-4184-832d-cf2c5a203252"
   },
   "outputs": [
    {
     "data": {
      "text/plain": [
       "4"
      ]
     },
     "execution_count": 14,
     "metadata": {},
     "output_type": "execute_result"
    }
   ],
   "source": [
    "x += 1\n",
    "x"
   ]
  },
  {
   "cell_type": "markdown",
   "metadata": {
    "id": "LEp7lvI6Sh6t"
   },
   "source": [
    "Next we can see the same ideas apply to floats.\n",
    "\n",
    "#### TODO 2\n",
    "1. Declare a Python float by declaring a variable `y` and setting it equal to 2.5 using the `=` symbol."
   ]
  },
  {
   "cell_type": "code",
   "execution_count": null,
   "metadata": {
    "colab": {
     "base_uri": "https://localhost:8080/"
    },
    "id": "rEQjQbaKSh6t",
    "outputId": "7cc1e5e9-f319-4415-b4a0-0af865da1017"
   },
   "outputs": [
    {
     "name": "stdout",
     "output_type": "stream",
     "text": [
      "y is equal to 2.5\n",
      "Your code PASSED the code check!\n"
     ]
    }
   ],
   "source": [
    "# TODO 2.1\n",
    "y = 2.5\n",
    "print(f\"y is equal to {y}\")\n",
    "\n",
    "todo_check([\n",
    "    (y == 2.5, 'y is must be set to 2.5!')\n",
    "])"
   ]
  },
  {
   "cell_type": "code",
   "execution_count": null,
   "metadata": {
    "id": "MWmFPUjNSh6t"
   },
   "outputs": [],
   "source": [
    "print(f\"Check type of x using `type(y)`: {type(y)}\") # Prints \"<class 'int'>\"\n",
    "print(f\"Value of y: {y}\")       # Prints \"3\"\n",
    "print(f\"Value of y + 1: {y + 1}\")   # Addition; prints \"4\"\n",
    "print(f\"Value of y - 1: {y - 1}\")   # Subtraction; prints \"2\"\n",
    "print(f\"Value of y * 2: {y * 2}\")   # Multiplication; prints \"6\"\n",
    "print(f\"Value of y^2 or y**2: {y ** 2}\")  # Exponentiation; prints \"9\""
   ]
  },
  {
   "cell_type": "markdown",
   "metadata": {
    "id": "p9KG1CTiSh6u"
   },
   "source": [
    "### Booleans\n",
    "\n",
    "Python implements all of the usual operators for Boolean logic, but uses English words rather than symbols ($\\&\\&$, $||$, etc.) [1].\n"
   ]
  },
  {
   "cell_type": "markdown",
   "metadata": {
    "id": "Y6YKxwMNSh6u"
   },
   "source": [
    "#### TODO 3\n",
    "1. Declare a Python boolean by declaring the variable `t` and setting it equal to True using the `=` symbol. \n",
    "2. Next, declare a Python boolean by declaring the variable `f` and setting it equal to False using the `=` symbol."
   ]
  },
  {
   "cell_type": "code",
   "execution_count": null,
   "metadata": {
    "colab": {
     "base_uri": "https://localhost:8080/"
    },
    "id": "8eNoW4IHSh6u",
    "outputId": "9b1102d3-52cf-417e-8933-30af55337c6f"
   },
   "outputs": [
    {
     "name": "stdout",
     "output_type": "stream",
     "text": [
      "Your code PASSED the code check!\n"
     ]
    }
   ],
   "source": [
    "# TODO 3.1\n",
    "t = True\n",
    "# TODO 3.2\n",
    "f = False\n",
    "todo_check([\n",
    "    (t == True, 't must be equal to True!'),\n",
    "    (f == False, 'f must be equal to False!'),\n",
    "])\n"
   ]
  },
  {
   "cell_type": "markdown",
   "metadata": {
    "id": "fsQJDciJSh6u"
   },
   "source": [
    "Given two booleans we can perform different boolean operations such as \"and\" and \"or\"."
   ]
  },
  {
   "cell_type": "code",
   "execution_count": null,
   "metadata": {
    "colab": {
     "base_uri": "https://localhost:8080/"
    },
    "id": "VluqaFmUSh6u",
    "outputId": "b41f8f66-85b5-43ac-f8af-5f5ea8397431"
   },
   "outputs": [
    {
     "name": "stdout",
     "output_type": "stream",
     "text": [
      "Check type of t using `type(t)`: <class 'bool'>\n",
      "Logical AND: False\n",
      "Logical OR: True\n",
      "NOT or opposite of t value: False\n",
      "Logical XOR: True\n"
     ]
    }
   ],
   "source": [
    "print(f\"Check type of t using `type(t)`: {type(t)}\") # Prints \"<class 'bool'>\"\n",
    "print(f\"Logical AND: {t and f}\") # Logical AND; prints \"False\"\n",
    "print(f\"Logical OR: {t or f}\") \n",
    "print(f\"NOT or opposite of t value: {not t}\") \n",
    "print(f\"Logical XOR: {t != f}\") "
   ]
  },
  {
   "cell_type": "markdown",
   "metadata": {
    "id": "FErQITa-Sh6v"
   },
   "source": [
    "### Strings\n",
    "Python has great support for strings, checkout some of the following things you can do [1].\n",
    "\n",
    "Let's practice declaring strings using either single quotes ' ' or double quotes \" \" to declare a string. Typically, people use single quotes ' ' when creating a string that is a single character or word. Likewise, people use double quotes \" \" when creating a string that is a sentence. However, this rule is rather arbitrary and either can be used in practice.  \n",
    "\n",
    "#### TODO 4\n",
    "\n",
    "1. Declare the string \"hello\" and store the it in the variable `hello`.\n",
    "2. Declare the string \"world\" and store the it in the variable `world`."
   ]
  },
  {
   "cell_type": "code",
   "execution_count": null,
   "metadata": {
    "colab": {
     "base_uri": "https://localhost:8080/"
    },
    "id": "gMAzI4aVSh6v",
    "outputId": "0751bcaa-f09c-4e3f-8f37-41a6f94bccbc"
   },
   "outputs": [
    {
     "name": "stdout",
     "output_type": "stream",
     "text": [
      "hello world\n",
      "Your code PASSED the code check!\n"
     ]
    }
   ],
   "source": [
    "# TODO 4.1\n",
    "hello = \"hello\"\n",
    "# TODO 4.2\n",
    "world = \"world\"\n",
    "\n",
    "print(hello, world)\n",
    "todo_check([\n",
    "    (hello == 'hello', \"hello should be set to 'hello'\"),\n",
    "    (world == 'world', \"world should be set to 'world'\"),\n",
    "])"
   ]
  },
  {
   "cell_type": "markdown",
   "metadata": {
    "id": "Fbu_yAGISh6v"
   },
   "source": [
    "As we will see, strings are essentially lists so we can use Python's `len()` function to check the length of a string."
   ]
  },
  {
   "cell_type": "code",
   "execution_count": null,
   "metadata": {
    "colab": {
     "base_uri": "https://localhost:8080/"
    },
    "id": "ce3-y4BZSh6v",
    "outputId": "aedac5e8-cf22-475a-875a-8526e938ec35"
   },
   "outputs": [
    {
     "name": "stdout",
     "output_type": "stream",
     "text": [
      "5\n"
     ]
    }
   ],
   "source": [
    "print(len(hello))  # String length; prints \"5\""
   ]
  },
  {
   "cell_type": "markdown",
   "metadata": {
    "id": "cJNCfUQ-Sh6v"
   },
   "source": [
    "We can concatenate strings by doing the following."
   ]
  },
  {
   "cell_type": "code",
   "execution_count": null,
   "metadata": {
    "colab": {
     "base_uri": "https://localhost:8080/",
     "height": 35
    },
    "id": "4-T3xvX3Sh6v",
    "outputId": "642a59cc-8462-43fb-a8d5-0c6354071614"
   },
   "outputs": [
    {
     "data": {
      "application/vnd.google.colaboratory.intrinsic+json": {
       "type": "string"
      },
      "text/plain": [
       "'hello world'"
      ]
     },
     "execution_count": 21,
     "metadata": {},
     "output_type": "execute_result"
    }
   ],
   "source": [
    "hw = hello + ' ' + world  # String concatenation\n",
    "hw"
   ]
  },
  {
   "cell_type": "markdown",
   "metadata": {
    "id": "BGyc3CT1Sh60"
   },
   "source": [
    "Additionally, we can create formatted strings by doing either of the following. Note that the first two methods are the more modern versions of formatting string while the third method is the classical way for formatting string, regardless any of the following are fine."
   ]
  },
  {
   "cell_type": "code",
   "execution_count": null,
   "metadata": {
    "colab": {
     "base_uri": "https://localhost:8080/"
    },
    "id": "6oCBged3Sh60",
    "outputId": "2ac9c374-8b30-4223-a7be-6c94d2e9a43a"
   },
   "outputs": [
    {
     "name": "stdout",
     "output_type": "stream",
     "text": [
      "hello world 12\n",
      "hello world 12\n",
      "hello world 12\n"
     ]
    }
   ],
   "source": [
    "hw12 = f\"{hello} {world} {12}\"\n",
    "print(hw12)\n",
    "\n",
    "hw12 = \"{} {} {}\".format(hello, world, 12)\n",
    "print(hw12)\n",
    "\n",
    "hw12 = '%s %s %d' % (hello, world, 12)  # sprintf style string formatting\n",
    "print(hw12)\n"
   ]
  },
  {
   "cell_type": "markdown",
   "metadata": {
    "id": "hGCtA1u9Sh60"
   },
   "source": [
    "## Containers\n",
    "\n",
    "Python includes several built-in container types: lists, dictionaries, sets, and tuples [1].\n",
    "\n",
    "### Lists\n",
    "\n",
    "A list is the Python equivalent of an array from Java or C++, however Python lists are resizable and can contain elements of different types. (Soon we will see how NumPy arrays build upon this idea of lists!)\n",
    "\n",
    "- Additional Sources\n",
    "    - [Python List Official Docs](https://docs.python.org/3.5/tutorial/datastructures.html#more-on-lists)\n",
    "    - [Real Python Introduction to Lists and Tuples](https://realpython.com/python-lists-tuples/)"
   ]
  },
  {
   "cell_type": "markdown",
   "metadata": {
    "id": "Loq7OkfjSh61"
   },
   "source": [
    "To do so, use the using the square bracket syntax `[ ]` as shown in this [guide](https://realpython.com/python-lists-tuples/). "
   ]
  },
  {
   "cell_type": "code",
   "execution_count": null,
   "metadata": {
    "colab": {
     "base_uri": "https://localhost:8080/"
    },
    "id": "FlpqXbgYSh61",
    "outputId": "781e1854-a116-48c6-c922-8ecc335036cc"
   },
   "outputs": [
    {
     "name": "stdout",
     "output_type": "stream",
     "text": [
      "x_list was set to [3, 1, 2]\n"
     ]
    }
   ],
   "source": [
    "x_list = [3, 1, 2]\n",
    "print(f\"x_list was set to {x_list}\")"
   ]
  },
  {
   "cell_type": "markdown",
   "metadata": {
    "id": "V7slOuHcSh61"
   },
   "source": [
    "We can check the length of a list using the Python `len()` function mentioned earlier and passing the list to the function `len(x_list)`."
   ]
  },
  {
   "cell_type": "code",
   "execution_count": null,
   "metadata": {
    "colab": {
     "base_uri": "https://localhost:8080/"
    },
    "id": "BFYFC410Sh61",
    "outputId": "d2753fdc-3191-46be-e234-6e488f6e95e4"
   },
   "outputs": [
    {
     "name": "stdout",
     "output_type": "stream",
     "text": [
      "The length of x_list is 3\n"
     ]
    }
   ],
   "source": [
    "x_list_len = len(x_list)\n",
    "print(f\"The length of x_list is {x_list_len}\")"
   ]
  },
  {
   "cell_type": "markdown",
   "metadata": {
    "id": "YWt3SUsFSh61"
   },
   "source": [
    "Here we can index the second element simply by doing the following! (We will look at indexing multiple values in the List Comprehension section which utilizes for loops)"
   ]
  },
  {
   "cell_type": "markdown",
   "metadata": {
    "id": "0at4EvpESh61"
   },
   "source": [
    "The index of the elements start from *0* not 1. Which means, `x_list[0]` is the first element in list `x_list`."
   ]
  },
  {
   "cell_type": "code",
   "execution_count": null,
   "metadata": {
    "colab": {
     "base_uri": "https://localhost:8080/"
    },
    "id": "rwejK0ErSh62",
    "outputId": "8ef00feb-49db-4731-cc46-555f9316dfad"
   },
   "outputs": [
    {
     "data": {
      "text/plain": [
       "1"
      ]
     },
     "execution_count": 25,
     "metadata": {},
     "output_type": "execute_result"
    }
   ],
   "source": [
    "x_list[1]"
   ]
  },
  {
   "cell_type": "markdown",
   "metadata": {
    "id": "piljEPB3Sh62"
   },
   "source": [
    "Notice that a negative index indicates indexing is down from the end of the list instead. This is a very important idea as it applies to most all container types in Python and also NumPy arrays! "
   ]
  },
  {
   "cell_type": "code",
   "execution_count": null,
   "metadata": {
    "colab": {
     "base_uri": "https://localhost:8080/"
    },
    "id": "uQycixxcSh62",
    "outputId": "828c0e5d-5a22-4148-b1eb-93f7528fe8d7"
   },
   "outputs": [
    {
     "data": {
      "text/plain": [
       "2"
      ]
     },
     "execution_count": 26,
     "metadata": {},
     "output_type": "execute_result"
    }
   ],
   "source": [
    "x_list[-1]"
   ]
  },
  {
   "cell_type": "markdown",
   "metadata": {
    "id": "18BgPU6VSh62"
   },
   "source": [
    "Lists can contain elements of different types and we can set an element by doing the following"
   ]
  },
  {
   "cell_type": "code",
   "execution_count": null,
   "metadata": {
    "colab": {
     "base_uri": "https://localhost:8080/"
    },
    "id": "4gsmVuo4Sh63",
    "outputId": "f37b42a8-2c6d-4d59-c87f-e1cea60efff7"
   },
   "outputs": [
    {
     "data": {
      "text/plain": [
       "[3, 1, 'foo']"
      ]
     },
     "execution_count": 27,
     "metadata": {},
     "output_type": "execute_result"
    }
   ],
   "source": [
    "x_list[2] = 'foo'\n",
    "x_list # displays \"[3, 1, 'foo']\""
   ]
  },
  {
   "cell_type": "markdown",
   "metadata": {
    "id": "i7IgmWcjSh63"
   },
   "source": [
    "Add a new element to the end of the list."
   ]
  },
  {
   "cell_type": "code",
   "execution_count": null,
   "metadata": {
    "id": "9VRKIFQzSh63",
    "outputId": "1d8dc5cd-9b6a-4c12-8f25-43089fc9e9a8"
   },
   "outputs": [
    {
     "data": {
      "text/plain": [
       "[3, 1, 'foo', 'bar']"
      ]
     },
     "execution_count": 8,
     "metadata": {},
     "output_type": "execute_result"
    }
   ],
   "source": [
    "x_list.append('bar')\n",
    "x_list"
   ]
  },
  {
   "cell_type": "markdown",
   "metadata": {
    "id": "wmLTfy-1Sh63"
   },
   "source": [
    "Remove and return the last element of the list."
   ]
  },
  {
   "cell_type": "code",
   "execution_count": null,
   "metadata": {
    "id": "hdDhJSsvSh63",
    "outputId": "a837937f-669c-460f-c29b-f1c2da5a5eeb"
   },
   "outputs": [
    {
     "name": "stdout",
     "output_type": "stream",
     "text": [
      "bar [3, 1, 'foo']\n"
     ]
    }
   ],
   "source": [
    "x = x_list.pop()\n",
    "print(x, x_list)\n"
   ]
  },
  {
   "cell_type": "markdown",
   "metadata": {
    "id": "01nElK-kSh63"
   },
   "source": [
    "#### Slicing/Indexing\n",
    "\n",
    "In addition to accessing list elements one at a time, Python provides concise syntax to access sublists or multiple elements of data in a list at once. This is known as slicing. (This same idea of slicing will apply to NumPy arrays, TensorFlow Tensors, and Pandas DataFrames later on.)\n",
    "\n",
    "- Additional Sources\n",
    "    - [Stackoverflow discussion](https://stackoverflow.com/questions/4012340/colon-in-python-list-index) on using `:` with lists\n",
    "    - [Real Python intro to slicing](https://realpython.com/lessons/indexing-and-slicing/)"
   ]
  },
  {
   "cell_type": "markdown",
   "metadata": {
    "id": "migEwyD4Sh64"
   },
   "source": [
    "We can quickly define a list by using Python's built-in functions `list` and `range`. Range is a built-in function that creates a generator of integers. [Generators](https://realpython.com/introduction-to-python-generators/) are objects that generator outputs on the fly instead of creating all the desired outputs at once and filling up memory."
   ]
  },
  {
   "cell_type": "code",
   "execution_count": null,
   "metadata": {
    "id": "Tm8jMpozSh65",
    "outputId": "1e40f691-4974-4002-9214-3baedf0302e4"
   },
   "outputs": [
    {
     "data": {
      "text/plain": [
       "[0, 1, 2, 3, 4]"
      ]
     },
     "execution_count": 19,
     "metadata": {},
     "output_type": "execute_result"
    }
   ],
   "source": [
    "nums = list(range(5))# range is a built-in function that creates a list of integers\n",
    "nums"
   ]
  },
  {
   "cell_type": "markdown",
   "metadata": {
    "id": "v47FHlS_Sh65"
   },
   "source": [
    "We can easily specify a slice of a list by using a colon `:`. To get a slice from index 2 to 4 (exclusive) we do the following."
   ]
  },
  {
   "cell_type": "code",
   "execution_count": null,
   "metadata": {
    "id": "i-h52Zm-Sh65",
    "outputId": "7f526c6d-c679-41e6-ce6d-dc71c37a0393"
   },
   "outputs": [
    {
     "data": {
      "text/plain": [
       "[2, 3]"
      ]
     },
     "execution_count": 20,
     "metadata": {},
     "output_type": "execute_result"
    }
   ],
   "source": [
    "nums[2:4]"
   ]
  },
  {
   "cell_type": "markdown",
   "metadata": {
    "id": "yzkzPjyXSh66"
   },
   "source": [
    "To get a slice from index 2 to the end we do."
   ]
  },
  {
   "cell_type": "code",
   "execution_count": null,
   "metadata": {
    "colab": {
     "base_uri": "https://localhost:8080/",
     "height": 169
    },
    "id": "4ZKH4ZEySh66",
    "outputId": "fc16a435-2e5e-4fda-9a58-d74d9a79a8d9"
   },
   "outputs": [
    {
     "ename": "NameError",
     "evalue": "ignored",
     "output_type": "error",
     "traceback": [
      "\u001b[0;31m---------------------------------------------------------------------------\u001b[0m",
      "\u001b[0;31mNameError\u001b[0m                                 Traceback (most recent call last)",
      "\u001b[0;32m<ipython-input-29-45399115e3b3>\u001b[0m in \u001b[0;36m<module>\u001b[0;34m\u001b[0m\n\u001b[0;32m----> 1\u001b[0;31m \u001b[0mnums\u001b[0m\u001b[0;34m[\u001b[0m\u001b[0;36m2\u001b[0m\u001b[0;34m:\u001b[0m\u001b[0;36m8\u001b[0m\u001b[0;34m]\u001b[0m\u001b[0;34m\u001b[0m\u001b[0;34m\u001b[0m\u001b[0m\n\u001b[0m",
      "\u001b[0;31mNameError\u001b[0m: name 'nums' is not defined"
     ]
    }
   ],
   "source": [
    "nums[2:]"
   ]
  },
  {
   "cell_type": "markdown",
   "metadata": {
    "id": "GfMETol6Sh66"
   },
   "source": [
    "To get a slice that starts at the beginning and ends at the index 2 (exclusive)."
   ]
  },
  {
   "cell_type": "code",
   "execution_count": null,
   "metadata": {
    "colab": {
     "base_uri": "https://localhost:8080/",
     "height": 169
    },
    "id": "XNvXRIcxSh66",
    "outputId": "11c5719c-ea52-498b-cd5e-8afdd42f5452"
   },
   "outputs": [
    {
     "ename": "NameError",
     "evalue": "ignored",
     "output_type": "error",
     "traceback": [
      "\u001b[0;31m---------------------------------------------------------------------------\u001b[0m",
      "\u001b[0;31mNameError\u001b[0m                                 Traceback (most recent call last)",
      "\u001b[0;32m<ipython-input-30-46565da76c1b>\u001b[0m in \u001b[0;36m<module>\u001b[0;34m\u001b[0m\n\u001b[0;32m----> 1\u001b[0;31m \u001b[0mnums\u001b[0m\u001b[0;34m[\u001b[0m\u001b[0;34m:\u001b[0m\u001b[0;36m2\u001b[0m\u001b[0;34m]\u001b[0m\u001b[0;34m\u001b[0m\u001b[0;34m\u001b[0m\u001b[0m\n\u001b[0m",
      "\u001b[0;31mNameError\u001b[0m: name 'nums' is not defined"
     ]
    }
   ],
   "source": [
    "nums[:2]"
   ]
  },
  {
   "cell_type": "markdown",
   "metadata": {
    "id": "rUc-pmlpSh66"
   },
   "source": [
    "Get a slice of the whole list"
   ]
  },
  {
   "cell_type": "code",
   "execution_count": null,
   "metadata": {
    "id": "zPEFewDCSh66",
    "outputId": "e5aaedbe-42b5-4015-e081-6dae29f59ffc"
   },
   "outputs": [
    {
     "data": {
      "text/plain": [
       "[0, 1, 2, 3, 4]"
      ]
     },
     "execution_count": 23,
     "metadata": {},
     "output_type": "execute_result"
    }
   ],
   "source": [
    "nums[:]"
   ]
  },
  {
   "cell_type": "markdown",
   "metadata": {
    "id": "qETTi9WUSh66"
   },
   "source": [
    "Slice indices can be negative as well."
   ]
  },
  {
   "cell_type": "code",
   "execution_count": null,
   "metadata": {
    "id": "I0evvLwzSh67",
    "outputId": "2a459186-412d-4eee-caf4-035313cc8777"
   },
   "outputs": [
    {
     "data": {
      "text/plain": [
       "[0, 1, 2, 3]"
      ]
     },
     "execution_count": 24,
     "metadata": {},
     "output_type": "execute_result"
    }
   ],
   "source": [
    "nums[:-1]"
   ]
  },
  {
   "cell_type": "markdown",
   "metadata": {
    "id": "OPGLsM0kSh67"
   },
   "source": [
    "Finally, we can assign a sub-list to a slice."
   ]
  },
  {
   "cell_type": "code",
   "execution_count": null,
   "metadata": {
    "id": "gTUXvgFYSh67",
    "outputId": "9d6a6283-38b7-4fd8-8215-902e079cc27b"
   },
   "outputs": [
    {
     "data": {
      "text/plain": [
       "[0, 1, 8, 9, 4]"
      ]
     },
     "execution_count": 25,
     "metadata": {},
     "output_type": "execute_result"
    }
   ],
   "source": [
    "nums[2:4] = [8, 9]\n",
    "nums  "
   ]
  },
  {
   "cell_type": "markdown",
   "metadata": {
    "id": "YdJs3i5ZSh67"
   },
   "source": [
    "\n",
    "### TODO 5\n",
    "List and indexing practice.\n",
    "\n",
    "1. Create a list containing all even numbers up to and including 100. Store the list in a variable called `even_list`. Try using Pythons `range()` function ([docs](https://docs.python.org/3/library/functions.html#func-range))and then casting it as a list using `list()`. **You SHOULD NOT write out the list by hand or you will not get any points!** \n",
    "3. Check the length of the `even_list`. Store the output into the `even_list_length` variable.\n",
    "2. Use list indexing to return the last 5 elements of the `even_list`. Store the output into `last_five_even_elements`.\n",
    "3. Use list indexing to return the second to last element of the `even_list`. Store the output into `second_to_last_even_element`.\n",
    "4. Use list indexing to return the first 10 elements of the `even_list`. Store the output into `first_ten_even_elements`."
   ]
  },
  {
   "cell_type": "code",
   "execution_count": null,
   "metadata": {
    "colab": {
     "base_uri": "https://localhost:8080/"
    },
    "id": "xU91yBxoSh67",
    "outputId": "bb5579ba-65ef-4432-a9c9-25eb1dc74096"
   },
   "outputs": [
    {
     "name": "stdout",
     "output_type": "stream",
     "text": [
      "even_list output: [2, 4, 6, 8, 10, 12, 14, 16, 18, 20, 22, 24, 26, 28, 30, 32, 34, 36, 38, 40, 42, 44, 46, 48, 50, 52, 54, 56, 58, 60, 62, 64, 66, 68, 70, 72, 74, 76, 78, 80, 82, 84, 86, 88, 90, 92, 94, 96, 98, 100]\n",
      "Your code PASSED the code check!\n"
     ]
    }
   ],
   "source": [
    "# TODO 5.1\n",
    "even_list = list(range(2,101,2))\n",
    "print(f\"even_list output: {even_list}\")\n",
    "\n",
    "todo_check([\n",
    "    (even_list == [2,  4,  6,  8,  10,  12,  14,  16,  18,  20,  22,  24,  26,  28,  30,  32,  34,  36,  38,  40,  42,  44,  46,  48,  50,  52,  54,  56,  58,  60,  62,  64,  66,  68,  70,  72,  74,  76,  78,  80,  82,  84,  86,  88,  90,  92,  94,  96,  98,  100],\n",
    "    'even_list does not match the desired output! Make sure you have even numbers from 2 to and including 100!')\n",
    "    ])"
   ]
  },
  {
   "cell_type": "code",
   "execution_count": null,
   "metadata": {
    "colab": {
     "base_uri": "https://localhost:8080/"
    },
    "id": "5dQinKPzSh67",
    "outputId": "688b380f-e2b3-4a31-e071-423ca647b47a"
   },
   "outputs": [
    {
     "name": "stdout",
     "output_type": "stream",
     "text": [
      "even_list_length output: 50\n",
      "Your code PASSED the code check!\n"
     ]
    }
   ],
   "source": [
    "# TODO 5.2\n",
    "even_list_length = len(even_list)\n",
    "print(f\"even_list_length output: {even_list_length}\")\n",
    "\n",
    "todo_check([\n",
    "    (even_list_length == 50, 'even_list_length should be 50')\n",
    "])"
   ]
  },
  {
   "cell_type": "code",
   "execution_count": null,
   "metadata": {
    "colab": {
     "base_uri": "https://localhost:8080/"
    },
    "id": "iMB8dS3gSh68",
    "outputId": "fe92c223-470d-451e-b531-fc6a47aeca2f"
   },
   "outputs": [
    {
     "name": "stdout",
     "output_type": "stream",
     "text": [
      "last_five_even_elements output: [92, 94, 96, 98, 100]\n",
      "Your code PASSED the code check!\n"
     ]
    }
   ],
   "source": [
    "# TODO 5.3\n",
    "last_five_even_elements = even_list[-5:]\n",
    "print(f\"last_five_even_elements output: {last_five_even_elements}\")\n",
    "\n",
    "todo_check([\n",
    "    (last_five_even_elements == [92, 94, 96, 98, 100], 'last_five_even_elements does not match [92, 94, 96, 98, 100]'),\n",
    "])"
   ]
  },
  {
   "cell_type": "code",
   "execution_count": null,
   "metadata": {
    "colab": {
     "base_uri": "https://localhost:8080/"
    },
    "id": "JwweelaZSh68",
    "outputId": "0713f379-0c21-400d-a401-64ace062ef4b"
   },
   "outputs": [
    {
     "name": "stdout",
     "output_type": "stream",
     "text": [
      "second_to_last_even_element output: 98\n",
      "Your code PASSED the code check!\n"
     ]
    }
   ],
   "source": [
    "# TODO 5.4\n",
    "second_to_last_even_element = even_list[-2]\n",
    "print(f\"second_to_last_even_element output: {second_to_last_even_element}\")\n",
    "\n",
    "todo_check([\n",
    "    (second_to_last_even_element == 98, \"second_to_last_even_element should be 98\")\n",
    "])"
   ]
  },
  {
   "cell_type": "code",
   "execution_count": null,
   "metadata": {
    "colab": {
     "base_uri": "https://localhost:8080/"
    },
    "id": "ZQdmPBYjSh68",
    "outputId": "709ba4b0-09d6-494a-e593-1f661f908d30"
   },
   "outputs": [
    {
     "name": "stdout",
     "output_type": "stream",
     "text": [
      "first_ten_even_elements output: [2, 4, 6, 8, 10, 12, 14, 16, 18, 20]\n",
      "Your code PASSED the code check!\n"
     ]
    }
   ],
   "source": [
    "# TODO 5.5\n",
    "first_ten_even_elements = even_list[:10]\n",
    "print(f\"first_ten_even_elements output: {first_ten_even_elements}\")\n",
    "\n",
    "todo_check([\n",
    "    (first_ten_even_elements == [2,  4,  6,  8,  10,  12,  14,  16,  18,  20],\n",
    "    \"first_ten_even_elements should be [2,  4,  6,  8,  10,  12,  14,  16,  18,  20]\")\n",
    "])"
   ]
  },
  {
   "cell_type": "markdown",
   "metadata": {
    "id": "gawMx2YnSh68"
   },
   "source": [
    "### Dictionaries\n",
    "\n",
    "A dictionary stores key-value pairs, similar to a Map in Java. Keys are unique within a dictionary while values may not be. The values of a dictionary can be of any type, but the keys must be of an immutable data type (meaning its values can't be changed once set) such as strings, numbers, or tuples.\n",
    "\n",
    "- Additional Information\n",
    "    - [Real Python Dictionary Tutorial](https://realpython.com/python-dicts/)."
   ]
  },
  {
   "cell_type": "markdown",
   "metadata": {
    "id": "o79UIOecSh68"
   },
   "source": [
    "We can create a dictionary simply by doing either of the following."
   ]
  },
  {
   "cell_type": "code",
   "execution_count": null,
   "metadata": {
    "colab": {
     "base_uri": "https://localhost:8080/"
    },
    "id": "xRTxYB3vSh68",
    "outputId": "6c81451f-132d-46e5-f839-2e09b3dd8af7"
   },
   "outputs": [
    {
     "data": {
      "text/plain": [
       "{'cat': 'cute', 'dog': 'furry'}"
      ]
     },
     "execution_count": 48,
     "metadata": {},
     "output_type": "execute_result"
    }
   ],
   "source": [
    "d = {'cat': 'cute', 'dog': 'furry'}\n",
    "d"
   ]
  },
  {
   "cell_type": "code",
   "execution_count": null,
   "metadata": {
    "id": "AJNu8wE4Sh69",
    "outputId": "e551da7c-cd10-4b9d-e1ee-71acc8528497"
   },
   "outputs": [
    {
     "data": {
      "text/plain": [
       "{'cat': 'cute', 'dog': 'furry'}"
      ]
     },
     "execution_count": 29,
     "metadata": {},
     "output_type": "execute_result"
    }
   ],
   "source": [
    "# OR\n",
    "d = dict(cat='cute', dog='furry')\n",
    "d"
   ]
  },
  {
   "cell_type": "markdown",
   "metadata": {
    "id": "LvXvFUkFSh69"
   },
   "source": [
    "To get a value of a particular key simply index said key."
   ]
  },
  {
   "cell_type": "code",
   "execution_count": null,
   "metadata": {
    "id": "rKKJ7lacSh69",
    "outputId": "5a502838-f8f5-4d51-bdc4-88c7f18c0071"
   },
   "outputs": [
    {
     "name": "stdout",
     "output_type": "stream",
     "text": [
      "cute\n"
     ]
    }
   ],
   "source": [
    "print(d['cat'])"
   ]
  },
  {
   "cell_type": "markdown",
   "metadata": {
    "id": "m9tqKhdkSh69"
   },
   "source": [
    "We can easily create an entry by doing the following."
   ]
  },
  {
   "cell_type": "code",
   "execution_count": null,
   "metadata": {
    "id": "vRy0sx4iSh69",
    "outputId": "bedf6f58-f5f1-4d14-fcf3-9ab764f26d9c"
   },
   "outputs": [
    {
     "data": {
      "text/plain": [
       "'wet'"
      ]
     },
     "execution_count": 31,
     "metadata": {},
     "output_type": "execute_result"
    }
   ],
   "source": [
    "d['fish'] = 'wet'\n",
    "d['fish']"
   ]
  },
  {
   "cell_type": "markdown",
   "metadata": {
    "id": "fQ9j5-b8Sh69"
   },
   "source": [
    "If the key doesn't exist Python will throw a runtime error! Below we catch this error for you."
   ]
  },
  {
   "cell_type": "code",
   "execution_count": null,
   "metadata": {
    "id": "XtNKYK-ySh69",
    "outputId": "45e28171-1cf2-4bef-bac1-b4e25911cad0"
   },
   "outputs": [
    {
     "name": "stderr",
     "output_type": "stream",
     "text": [
      "Traceback (most recent call last):\n",
      "  File \"/tmp/ipykernel_80/2298354547.py\", line 2, in <module>\n",
      "    print(d['monkey'])\n",
      "KeyError: 'monkey'\n"
     ]
    }
   ],
   "source": [
    "try:\n",
    "    print(d['monkey']) \n",
    "except KeyError as e:\n",
    "    traceback.print_exc()"
   ]
  },
  {
   "cell_type": "markdown",
   "metadata": {
    "id": "Gd1NMU9CSh6-"
   },
   "source": [
    "To check if the key exists, to avoid errors simply use the `in` Python keyword."
   ]
  },
  {
   "cell_type": "code",
   "execution_count": null,
   "metadata": {
    "id": "8Bc5tKlbSh6-",
    "outputId": "e62594b7-23c4-4a4e-97d4-26fb58fa375e"
   },
   "outputs": [
    {
     "name": "stdout",
     "output_type": "stream",
     "text": [
      "True\n"
     ]
    }
   ],
   "source": [
    "print('cat' in d) "
   ]
  },
  {
   "cell_type": "markdown",
   "metadata": {
    "id": "ZP2HMxOcSh6-"
   },
   "source": [
    "If we don't know if a key will exists we can use the `.get()` method to get an element where a default value is return if the key is not found. If no default value is given, then Python uses `None` as the default value."
   ]
  },
  {
   "cell_type": "code",
   "execution_count": null,
   "metadata": {
    "id": "zRgpLmFfSh6-",
    "outputId": "f278e5c7-39fe-4276-8ab3-f914a5897d95"
   },
   "outputs": [
    {
     "data": {
      "text/plain": [
       "'Key does not exist'"
      ]
     },
     "execution_count": 34,
     "metadata": {},
     "output_type": "execute_result"
    }
   ],
   "source": [
    "d.get('monkey', 'Key does not exist')"
   ]
  },
  {
   "cell_type": "markdown",
   "metadata": {
    "id": "85NnSJUCSh6-"
   },
   "source": [
    "Get an element with a default value where key exists."
   ]
  },
  {
   "cell_type": "code",
   "execution_count": null,
   "metadata": {
    "id": "gNMGqA_3Sh6-",
    "outputId": "72d6eeb4-de26-4093-925f-081bb9bd35d0"
   },
   "outputs": [
    {
     "data": {
      "text/plain": [
       "'wet'"
      ]
     },
     "execution_count": 35,
     "metadata": {},
     "output_type": "execute_result"
    }
   ],
   "source": [
    "d.get('fish', 'Key does not exist')"
   ]
  },
  {
   "cell_type": "markdown",
   "metadata": {
    "id": "IZCwRdseSh6_"
   },
   "source": [
    "To remove an element from a dictionary. Notice the key \"fish\" is no longer a key so we get \"N/A\" the default value when using `.get()`."
   ]
  },
  {
   "cell_type": "code",
   "execution_count": null,
   "metadata": {
    "id": "nSSV1lhVSh6_"
   },
   "outputs": [],
   "source": [
    "d['fish'] = 'wet'\n",
    "d['fish']"
   ]
  },
  {
   "cell_type": "code",
   "execution_count": null,
   "metadata": {
    "id": "Auin_YOcSh6_",
    "outputId": "8a7d4a79-bb08-4cad-959e-84d8d4047853"
   },
   "outputs": [
    {
     "data": {
      "text/plain": [
       "'Key does not exist'"
      ]
     },
     "execution_count": 36,
     "metadata": {},
     "output_type": "execute_result"
    }
   ],
   "source": [
    "del d['fish'] \n",
    "d.get('fish', 'Key does not exist')"
   ]
  },
  {
   "cell_type": "markdown",
   "metadata": {
    "id": "k2zVGDOCSh6_"
   },
   "source": [
    "### Tuples\n",
    "\n",
    "A tuple is an immutable (meaning its values can't be changed once set) ordered list of values. A tuple is in many ways similar to a list; one of the most important differences is that tuples can be used as keys in dictionaries and as elements of sets, while lists cannot."
   ]
  },
  {
   "cell_type": "code",
   "execution_count": null,
   "metadata": {
    "id": "81zUGo3QSh7C",
    "outputId": "53ad67fa-c210-48cc-b549-6b686f3d9a0e"
   },
   "outputs": [
    {
     "data": {
      "text/plain": [
       "(1, 2, 3, 4, 5)"
      ]
     },
     "execution_count": 37,
     "metadata": {},
     "output_type": "execute_result"
    }
   ],
   "source": [
    "t = (1, 2, 3, 4, 5)\n",
    "t"
   ]
  },
  {
   "cell_type": "markdown",
   "metadata": {
    "id": "NGfo_-D-Sh7C"
   },
   "source": [
    "Notice, since tuples are immutable we can't change a value once set, otherwise we get an error!"
   ]
  },
  {
   "cell_type": "code",
   "execution_count": null,
   "metadata": {
    "id": "NnF1aBEkSh7D",
    "outputId": "ccdde45e-dfd6-4e53-fff0-30bea6817ec8"
   },
   "outputs": [
    {
     "name": "stderr",
     "output_type": "stream",
     "text": [
      "Traceback (most recent call last):\n",
      "  File \"/tmp/ipykernel_80/1780791338.py\", line 2, in <module>\n",
      "    t[0] =2\n",
      "TypeError: 'tuple' object does not support item assignment\n"
     ]
    }
   ],
   "source": [
    "try: \n",
    "    t[0] =2\n",
    "except TypeError as e:\n",
    "    traceback.print_exc()"
   ]
  },
  {
   "cell_type": "markdown",
   "metadata": {
    "id": "KVYh7brMSh7D"
   },
   "source": [
    "## Functions\n",
    "Python is a functional language, functions in Python can be defined by using Python's keyword `def`. Recall, a function is a block of code which only runs when it is called in which you can pass *arguments* to.\n",
    "\n",
    "- Additional Resources\n",
    "    - [Real Python Function Tutorial](https://realpython.com/defining-your-own-python-function/)"
   ]
  },
  {
   "cell_type": "markdown",
   "metadata": {
    "id": "rUqnWuYYSh7D"
   },
   "source": [
    "Below is a very basic function definition."
   ]
  },
  {
   "cell_type": "code",
   "execution_count": null,
   "metadata": {
    "id": "_fA7M3FQSh7D"
   },
   "outputs": [],
   "source": [
    "def basic_func(a, b, c='default'):\n",
    "    print(a, b, c)"
   ]
  },
  {
   "cell_type": "markdown",
   "metadata": {
    "id": "7rB60FxGSh7D"
   },
   "source": [
    "We can call a function by specifying all the required arguments. In the above case, we only are required to specify `a` and `b`. Notice, the argument `c` has a default value. This means if we pass nothing to `c` it will use whatever the default value is set to."
   ]
  },
  {
   "cell_type": "code",
   "execution_count": null,
   "metadata": {
    "id": "u1EKU_tOSh7E",
    "outputId": "81f31857-a7c3-475f-c1fa-311714a8040e"
   },
   "outputs": [
    {
     "name": "stdout",
     "output_type": "stream",
     "text": [
      "this is a default\n"
     ]
    }
   ],
   "source": [
    "basic_func('this', 'is a')"
   ]
  },
  {
   "cell_type": "markdown",
   "metadata": {
    "id": "fX8PCw0ISh7E"
   },
   "source": [
    "Notice all the arguments are passed in order. Since the value 'this' is first, it is assigned to `a`. As the value 'is a' is second, it is assigned to `b`.\n",
    "\n",
    "We can pass *keyword arguments* to the function by specifying which argument should receive each value. Notice we also override the default value for `c`!"
   ]
  },
  {
   "cell_type": "code",
   "execution_count": null,
   "metadata": {
    "id": "wCDwTAROSh7E",
    "outputId": "5741fa27-b153-41a6-b883-eeda3d05fa79"
   },
   "outputs": [
    {
     "name": "stdout",
     "output_type": "stream",
     "text": [
      "this is a test\n"
     ]
    }
   ],
   "source": [
    "basic_func(a='this', b='is a', c='test')"
   ]
  },
  {
   "cell_type": "markdown",
   "metadata": {
    "id": "bzxSZ54cSh7E"
   },
   "source": [
    "By default, all functions return `None` or no value, similar to Java's `null`."
   ]
  },
  {
   "cell_type": "code",
   "execution_count": null,
   "metadata": {
    "id": "ZkatbyLkSh7E",
    "outputId": "d0dab495-8b34-4e5c-dfae-6eeda9bf49d9"
   },
   "outputs": [
    {
     "name": "stdout",
     "output_type": "stream",
     "text": [
      "this is a test\n",
      "function output: None\n"
     ]
    }
   ],
   "source": [
    "output = basic_func('this', 'is a', 'test')\n",
    "print(f\"function output: {output}\")"
   ]
  },
  {
   "cell_type": "markdown",
   "metadata": {
    "id": "uoqLtDguSh7F"
   },
   "source": [
    "To return a single or multiple values simply add the `return` keyword."
   ]
  },
  {
   "cell_type": "code",
   "execution_count": null,
   "metadata": {
    "id": "rAffT35wSh7F"
   },
   "outputs": [],
   "source": [
    "def basic_func(a, b, c):\n",
    "    print(a, b, c)\n",
    "    return a, b, c"
   ]
  },
  {
   "cell_type": "code",
   "execution_count": null,
   "metadata": {
    "colab": {
     "base_uri": "https://localhost:8080/"
    },
    "id": "5loimQ87Sh7F",
    "outputId": "6830a0ee-72b5-4a31-80aa-5fb839399a14"
   },
   "outputs": [
    {
     "name": "stdout",
     "output_type": "stream",
     "text": [
      "this is a test\n",
      "function returned: this is a test\n"
     ]
    }
   ],
   "source": [
    "a, b, c = basic_func('this', 'is a', 'test')\n",
    "print(f\"function returned: {a} {b} {c}\")"
   ]
  },
  {
   "cell_type": "markdown",
   "metadata": {
    "id": "QIlLm6dUSh7F"
   },
   "source": [
    "### TODO 6\n",
    "Complete the following TODO by defining a function called `add_func()`.\n",
    "\n",
    "1. Define a function called `add_func()` that takes two arguments. The function should adds the two arguments together using `+` and return the output. For example, if the input values for the arguments are 1 and 2, then 3 should be returned. Likewise, if the input arguments are \"good\" and \" day\", then \"good day\" should be returned."
   ]
  },
  {
   "cell_type": "code",
   "execution_count": 47,
   "metadata": {
    "colab": {
     "base_uri": "https://localhost:8080/"
    },
    "id": "rUlTmHs-Sh7F",
    "outputId": "49a86fa1-d756-4e82-f4d1-5be6fd672263"
   },
   "outputs": [
    {
     "name": "stdout",
     "output_type": "stream",
     "text": [
      "3\n",
      "add_func output for 1 + 2: 3\n",
      "good day\n",
      "add_func output for good + day: good day\n",
      "3\n",
      "good day\n",
      "Your code PASSED the code check!\n"
     ]
    }
   ],
   "source": [
    "# TODO 6.1\n",
    "def add_func(x,y):\n",
    "  print(x+y)\n",
    "  return x+y\n",
    "\n",
    "print(f\"add_func output for 1 + 2: {add_func(1, 2)}\")\n",
    "print(f\"add_func output for good + day: {add_func('good',' day')}\")\n",
    "\n",
    "todo_check([\n",
    "    (add_func(1, 2) == 3, 'add_func() did not return 3 when using input values 1 and 2.'), \n",
    "    (add_func('good', ' day') == \"good day\", 'add_func() did not return \"good day\" when using input values \"good\" and \" day\"')\n",
    "])"
   ]
  },
  {
   "cell_type": "markdown",
   "metadata": {
    "id": "fgdgyQ7wSh7F"
   },
   "source": [
    "## Classes\n",
    "\n",
    "As Python is also an object oriented programming language, classes can be defined by using Python's keyword `class`.\n",
    "\n",
    "- Additional Resources\n",
    "    - [Real Python Classes Tutorial](https://realpython.com/python3-object-oriented-programming/)\n",
    "    - [Understanding 'self'](https://pythonprogramminglanguage.com/python-self/)    - "
   ]
  },
  {
   "cell_type": "markdown",
   "metadata": {
    "id": "XiBJUF2ySh7G"
   },
   "source": [
    "Below is a very basic class definition. Notice, we use the `class` keyword to define a class.\n",
    "\n",
    "Further, the `def` keywords are used to declared methods. Notice all methods typically take in the `self` argument which is a reference to  current instance of the class, similar to `this` in Java. `self` is used to refer to the class's methods and arguments from inside the class. \n",
    "\n",
    "The constructor for the class is defined by the `__init__` method (though is not required) which is called anytime an class is instantiated. Methods with double leading and trailing underscores are typically methods defined by Python. There are many other types of these methods such as `__call__`, `__str__`, and `__add__`, however a deeper look at this is out of scope for this lab."
   ]
  },
  {
   "cell_type": "code",
   "execution_count": null,
   "metadata": {
    "id": "UdjmweRhSh7G"
   },
   "outputs": [],
   "source": [
    "class BasicClass():\n",
    "    def __init__(self, a, b, c):\n",
    "        self.a = a \n",
    "        self.b = b\n",
    "        self.c = c\n",
    "        \n",
    "    def print_args(self):\n",
    "        print(self.a, self.b, self.c)"
   ]
  },
  {
   "cell_type": "code",
   "execution_count": null,
   "metadata": {
    "colab": {
     "base_uri": "https://localhost:8080/"
    },
    "id": "GdRXElCBSh7G",
    "outputId": "35d63a5e-1a46-44a8-f07b-e3d4d36fdf22"
   },
   "outputs": [
    {
     "name": "stdout",
     "output_type": "stream",
     "text": [
      "this is a test\n"
     ]
    }
   ],
   "source": [
    "# Initialize class\n",
    "basic_class = BasicClass('this', 'is a', 'test')\n",
    "# Call method\n",
    "basic_class.print_args()"
   ]
  },
  {
   "cell_type": "markdown",
   "metadata": {
    "id": "rIqHkpLqSh7G"
   },
   "source": [
    "### Inheritance\n",
    "\n",
    "First recall the following inheritance:\n",
    "\n",
    "**Parent class** is the class being inherited from, also called base class.\n",
    "\n",
    "**Child class** is the class that inherits from another class, also called derived class.\n",
    "\n",
    "\n",
    "Thus, inheritance of classes is what is called an *is a* relationship. This means that when you have a Derived class that inherits from a Base class, you created a relationship where Derived is a specialized version of Base.\n",
    "\n",
    "All this means is that inheritance allows us to define a class that inherits all the methods and arguments from another class. (Having inheritance in Python allows Python to be an object oriented language). Essentially, this helps us to organize our code and reuse aspects of our code as well."
   ]
  },
  {
   "cell_type": "markdown",
   "metadata": {
    "id": "siEgk1tNSh7G"
   },
   "source": [
    "In Python, to create a class that inherits the methods and variables from another class, send the parent class as an argument when creating the child class as seen below `class Child(Parent)`.\n",
    "\n",
    "Note that the `super().__init__()` line allows us to run the parent classes `__init__` method which then initializes the parent class. Without doing this we wouldn't have access to `self.parent_name` or any variables defined in the `__init__` of the parent class."
   ]
  },
  {
   "cell_type": "code",
   "execution_count": null,
   "metadata": {
    "id": "se3ByTdGSh7G"
   },
   "outputs": [],
   "source": [
    "class Parent():\n",
    "    def __init__(self):\n",
    "        self.parent_name = \"Parent\"\n",
    "        self.base_variable = 0\n",
    "    \n",
    "    def base_class_method(self):\n",
    "        print(f\"This is a base class method\")\n",
    "\n",
    "class Child(Parent):\n",
    "    def __init__(self):\n",
    "        super().__init__()\n",
    "        self.child_name = \"child\"\n",
    "        self.base_variable = 1"
   ]
  },
  {
   "cell_type": "markdown",
   "metadata": {
    "id": "G3L9guuASh7G"
   },
   "source": [
    "After we create an instance of the `Child` class which inherits the `Parent` class, we can use the methods and variables in `Parent`."
   ]
  },
  {
   "cell_type": "code",
   "execution_count": null,
   "metadata": {
    "id": "UnEZBH7KSh7H"
   },
   "outputs": [],
   "source": [
    "parent = Parent()\n",
    "child = Child()"
   ]
  },
  {
   "cell_type": "markdown",
   "metadata": {
    "id": "edz4lxiYSh7H"
   },
   "source": [
    "First, we can start off by referring to the `Parent` class's variables from the `Child` class."
   ]
  },
  {
   "cell_type": "code",
   "execution_count": null,
   "metadata": {
    "colab": {
     "base_uri": "https://localhost:8080/"
    },
    "id": "LYqTkaZvSh7H",
    "outputId": "f7aec191-92c2-46bf-db6a-51383e5d7f60"
   },
   "outputs": [
    {
     "name": "stdout",
     "output_type": "stream",
     "text": [
      "The child's parent name is Parent\n"
     ]
    }
   ],
   "source": [
    "print(f\"The child's parent name is {child.parent_name}\")"
   ]
  },
  {
   "cell_type": "markdown",
   "metadata": {
    "id": "QbhUBX6lSh7H"
   },
   "source": [
    "Next, we can try using one of the `Parent` class's methods."
   ]
  },
  {
   "cell_type": "code",
   "execution_count": null,
   "metadata": {
    "colab": {
     "base_uri": "https://localhost:8080/"
    },
    "id": "BhcQlLXjSh7H",
    "outputId": "a237b854-2f5c-4d2c-f5b3-882bdd966b1e"
   },
   "outputs": [
    {
     "name": "stdout",
     "output_type": "stream",
     "text": [
      "This is a base class method\n"
     ]
    }
   ],
   "source": [
    "child.base_class_method()"
   ]
  },
  {
   "cell_type": "markdown",
   "metadata": {
    "id": "RFnhL4g5Sh7H"
   },
   "source": [
    "Notice, we still have access to the `Child` class's variables as well (this goes for methods as well). "
   ]
  },
  {
   "cell_type": "code",
   "execution_count": null,
   "metadata": {
    "colab": {
     "base_uri": "https://localhost:8080/"
    },
    "id": "3IgJ9MZCSh7H",
    "outputId": "5e73bea1-9e25-40e4-bd67-aa072576cc7f"
   },
   "outputs": [
    {
     "name": "stdout",
     "output_type": "stream",
     "text": [
      "The child's name is child\n"
     ]
    }
   ],
   "source": [
    "print(f\"The child's name is {child.child_name}\")"
   ]
  },
  {
   "cell_type": "markdown",
   "metadata": {
    "id": "XbKtI0BZSh7I"
   },
   "source": [
    "However, also notice that we can overwrite the `Parents` class variables when we inherit (this goes for methods as well)."
   ]
  },
  {
   "cell_type": "code",
   "execution_count": null,
   "metadata": {
    "colab": {
     "base_uri": "https://localhost:8080/"
    },
    "id": "xNCq6rs3Sh7I",
    "outputId": "b2d44c12-0fbe-462b-f0e0-9c648f1323ea"
   },
   "outputs": [
    {
     "name": "stdout",
     "output_type": "stream",
     "text": [
      "The parents's base_variable is 0\n",
      "The child's base_variable is 1\n"
     ]
    }
   ],
   "source": [
    "print(f\"The parents's base_variable is {parent.base_variable}\")\n",
    "print(f\"The child's base_variable is {child.base_variable}\")"
   ]
  },
  {
   "cell_type": "markdown",
   "metadata": {
    "id": "53QwT-GLSh7I"
   },
   "source": [
    "## For Loops and List Comprehension\n",
    "\n",
    "- Additional Sources\n",
    "    - [GeeksforGeeks Python for loops](https://www.geeksforgeeks.org/python-for-loops/)\n",
    "    - [Python List Comprehension](https://www.programiz.com/python-programming/list-comprehension)\n",
    "    - [Python range() function](https://www.pythoncentral.io/pythons-range-function-explained/)\n",
    "    - [Generators in Python](https://www.edureka.co/blog/generators-in-python/)"
   ]
  },
  {
   "cell_type": "markdown",
   "metadata": {
    "id": "Z9MHEWrySh7I"
   },
   "source": [
    "### For Loops\n"
   ]
  },
  {
   "cell_type": "markdown",
   "metadata": {
    "id": "teb7kZlwSh7J"
   },
   "source": [
    "A common way to loop over a list or any other sequence (tuple, set, dictionary, strings or any [Iterable object](https://pythonbasics.org/iterable/)) is to pair `for` with the keyword `in`. In the below example you can see that the `in` keyword allows us to loop over each element in the list."
   ]
  },
  {
   "cell_type": "code",
   "execution_count": null,
   "metadata": {
    "colab": {
     "base_uri": "https://localhost:8080/"
    },
    "id": "u_gQ-ypgSh7J",
    "outputId": "f9711ec8-d4e5-4880-c36b-0ef9ce9d0051"
   },
   "outputs": [
    {
     "name": "stdout",
     "output_type": "stream",
     "text": [
      "0\n",
      "1\n",
      "2\n"
     ]
    }
   ],
   "source": [
    "l = [0, 1, 2]\n",
    "for i in l:\n",
    "    print(i)"
   ]
  },
  {
   "cell_type": "markdown",
   "metadata": {
    "id": "2z5QpUczSh7J"
   },
   "source": [
    "If you want to use a `for` loop to simply repeat some operation a certain number of times, we can once again use the Python keyword range to do so. This operates closer to traditional for loops like `for (i=0; i<n; i++)` in C or Java."
   ]
  },
  {
   "cell_type": "code",
   "execution_count": null,
   "metadata": {
    "id": "8LJpyPs1Sh7K",
    "outputId": "90aecb29-2b59-4278-8240-fd6243338ef7"
   },
   "outputs": [
    {
     "name": "stdout",
     "output_type": "stream",
     "text": [
      "0\n",
      "1\n",
      "2\n"
     ]
    }
   ],
   "source": [
    "for i in range(3):\n",
    "    print(i)"
   ]
  },
  {
   "cell_type": "markdown",
   "metadata": {
    "id": "1rNusvbvSh7K"
   },
   "source": [
    "Lastly, we can still use keywords like `break` to break out of a `for` loop or `continue` to skip a single iteration of a `for` loop."
   ]
  },
  {
   "cell_type": "code",
   "execution_count": null,
   "metadata": {
    "colab": {
     "base_uri": "https://localhost:8080/"
    },
    "id": "yiIRZwfFSh7K",
    "outputId": "8ac55ea3-cf82-4b36-8d29-e4f61ac52ae8"
   },
   "outputs": [
    {
     "name": "stdout",
     "output_type": "stream",
     "text": [
      "0\n",
      "2\n"
     ]
    }
   ],
   "source": [
    "for i in range(3):\n",
    "    if i == 1:\n",
    "        continue\n",
    "    print(i)"
   ]
  },
  {
   "cell_type": "code",
   "execution_count": null,
   "metadata": {
    "colab": {
     "base_uri": "https://localhost:8080/"
    },
    "id": "ueVWdTO-Sh7K",
    "outputId": "439850e5-a3fd-40d6-b62b-780f85cb9b11"
   },
   "outputs": [
    {
     "name": "stdout",
     "output_type": "stream",
     "text": [
      "0\n"
     ]
    }
   ],
   "source": [
    "for i in range(3):\n",
    "    if i == 1:\n",
    "        break\n",
    "    print(i)"
   ]
  },
  {
   "cell_type": "markdown",
   "metadata": {
    "id": "-IanpWBMSh7K"
   },
   "source": [
    "### List Comprehension\n",
    "One useful concept that Python allows for is list comprehension. List comprehension allows us to create lists from other lists or iterable objects in **one line of code**. List comprehension can also be thought of as a one line `for` loop.\n",
    "\n",
    "The basic outline for list comprehension is as follows:\n",
    "```\n",
    "[expression for item in list]\n",
    "```\n",
    "Here the `[]` brackets indicate list comprehension and our output will be a list, `expression` represents code that will run and its output will be stored in our list, and `for item in list` loops through each item in the iterable object.\n",
    "\n",
    "Let's test list comprehension by creating a list that contains the numbers 1-10. Recall that `range(1,11)` creates a sequence of numbers. These numbers are given in the form of a Python [generator](https://realpython.com/introduction-to-python-generators/) that we loop over. (Recall, a generator creates the numbers on the fly instead of creating them all at once and filling up memory.)"
   ]
  },
  {
   "cell_type": "code",
   "execution_count": null,
   "metadata": {
    "id": "7CcCaXsBSh7L",
    "outputId": "1c19d19c-c053-499e-eebf-9bc0848c20fc"
   },
   "outputs": [
    {
     "data": {
      "text/plain": [
       "[1, 2, 3, 4, 5, 6, 7, 8, 9, 10]"
      ]
     },
     "execution_count": 56,
     "metadata": {},
     "output_type": "execute_result"
    }
   ],
   "source": [
    "x_list = [ele for ele in range(1, 11)]\n",
    "x_list"
   ]
  },
  {
   "cell_type": "markdown",
   "metadata": {
    "id": "-29ariwCSh7L"
   },
   "source": [
    "**What if we wanted only even numbers? How do we add a condition?**\n",
    "\n",
    "The basic outline for list comprehension with a condition is as follows:\n",
    "```\n",
    "[expression for item in list if condition]\n",
    "```\n",
    "\n",
    "All the below line of code says is iterate over the the list `x_list`, if the the element `ele` is an even number, then store it in our new list. Recall, that the [modulo symbol](https://realpython.com/python-modulo-operator/) `%` computes the remainder."
   ]
  },
  {
   "cell_type": "code",
   "execution_count": null,
   "metadata": {
    "id": "Y5iIAnwWSh7L",
    "outputId": "4649c892-b015-479e-bbca-2e70347c3744"
   },
   "outputs": [
    {
     "data": {
      "text/plain": [
       "[2, 4, 6, 8, 10]"
      ]
     },
     "execution_count": 57,
     "metadata": {},
     "output_type": "execute_result"
    }
   ],
   "source": [
    "[ele for ele in range(1, 11) if ele%2 == 0]"
   ]
  },
  {
   "cell_type": "markdown",
   "metadata": {
    "id": "9imQynljSh7L"
   },
   "source": [
    "Additionally, we can create **set** and **dictionary** by replacing the square brackets `[]` with curly braces `{}`."
   ]
  },
  {
   "cell_type": "code",
   "execution_count": null,
   "metadata": {
    "id": "5olWLWzsSh7L",
    "outputId": "81a828c0-6522-49d1-9c14-d6bc2f5639b2"
   },
   "outputs": [
    {
     "data": {
      "text/plain": [
       "{2, 4, 6, 8, 10}"
      ]
     },
     "execution_count": 58,
     "metadata": {},
     "output_type": "execute_result"
    }
   ],
   "source": [
    "# Creates a set (unordered list)\n",
    "{ele for ele in range(1, 11) if ele%2 == 0}"
   ]
  },
  {
   "cell_type": "code",
   "execution_count": null,
   "metadata": {
    "id": "D839_9QGSh7L",
    "outputId": "2463823d-c5d9-4687-d874-d22361e3e68d"
   },
   "outputs": [
    {
     "data": {
      "text/plain": [
       "{1: 2, 3: 4, 5: 6, 7: 8, 9: 10}"
      ]
     },
     "execution_count": 59,
     "metadata": {},
     "output_type": "execute_result"
    }
   ],
   "source": [
    "# Creates a dictionary\n",
    "{idx:ele for idx, ele in enumerate(x_list) if ele%2 == 0}"
   ]
  },
  {
   "cell_type": "markdown",
   "metadata": {
    "id": "zYVirSMrSh7M"
   },
   "source": [
    "Note, that `enumerate` is a built in Python function that returns the index of each element (denoted by `idx` the first position in the loop) in the list and is often used in loops such that we get the index position of the element and the actual element itself. Here it is used to simply create a key."
   ]
  },
  {
   "cell_type": "markdown",
   "metadata": {
    "id": "BbIuIGdxSh7M"
   },
   "source": [
    "### TODO 7\n",
    "1. Create a list of all odd numbers up to 50 using list comprehension. Recall, you can use an `if` condition to check if the modulo left over is equal to 1. If true, the list will then only store odd numbers! Store the output into the `odd_list` variable."
   ]
  },
  {
   "cell_type": "code",
   "execution_count": 48,
   "metadata": {
    "colab": {
     "base_uri": "https://localhost:8080/"
    },
    "id": "vBkiaL8jSh7M",
    "outputId": "97ec4622-0b29-4381-f9b5-f66ab65a4a41"
   },
   "outputs": [
    {
     "name": "stdout",
     "output_type": "stream",
     "text": [
      "odd_list output: [1, 3, 5, 7, 9, 11, 13, 15, 17, 19, 21, 23, 25, 27, 29, 31, 33, 35, 37, 39, 41, 43, 45, 47, 49]\n",
      "Your code PASSED the code check!\n"
     ]
    }
   ],
   "source": [
    "#TODO 7.1\n",
    "odd_list = [num for num in range(1, 51) if num % 2 == 1]\n",
    "print(f\"odd_list output: {odd_list}\")\n",
    "\n",
    "todo_check([\n",
    "    (odd_list==[1,  3,  5,  7,  9,  11,  13,  15,  17,  19,  21,  23,  25,  27,  29,  31,  33,  35,  37,  39,  41,  43,  45,  47,  49],\n",
    "     'odd_list does not contain all odd numbers between 1 and 49')\n",
    "    ])"
   ]
  },
  {
   "cell_type": "markdown",
   "metadata": {
    "id": "y52tteZbSh7M"
   },
   "source": [
    "## Lambda Functions\n",
    "Sometimes it can be useful to define functions on the go or for only a short period of time. This is where `lambda` functions come into play. The `lambda` keyword allows us to declare an anonymous function or a function with no name on the fly.\n",
    "\n",
    "- Additional Sources\n",
    "    - [What are Lambda Functions?](https://stackabuse.com/lambda-functions-in-python/)\n",
    "    - [Why are Python lambdas useful? - Stack Overflow](https://stackoverflow.com/questions/890128/why-are-python-lambdas-useful)"
   ]
  },
  {
   "cell_type": "code",
   "execution_count": null,
   "metadata": {
    "colab": {
     "base_uri": "https://localhost:8080/"
    },
    "id": "iaMx6XX_Sh7M",
    "outputId": "f9ea01d7-59b0-4a18-9d9f-54873ff44a43"
   },
   "outputs": [
    {
     "data": {
      "text/plain": [
       "[1, 2, 3, 4, 5]"
      ]
     },
     "execution_count": 22,
     "metadata": {},
     "output_type": "execute_result"
    }
   ],
   "source": [
    "x_list = list(range(1, 6))\n",
    "x_list"
   ]
  },
  {
   "cell_type": "markdown",
   "metadata": {
    "id": "Q38V5OksSh7M"
   },
   "source": [
    "If we wanted to double every element in `x_list` we might define a function and use list comprehension. "
   ]
  },
  {
   "cell_type": "code",
   "execution_count": null,
   "metadata": {
    "colab": {
     "base_uri": "https://localhost:8080/"
    },
    "id": "Ff7Ar8vASh7M",
    "outputId": "478ce246-d6e4-4caa-b468-e75cf0b03467"
   },
   "outputs": [
    {
     "data": {
      "text/plain": [
       "[2, 4, 6, 8, 10]"
      ]
     },
     "execution_count": 23,
     "metadata": {},
     "output_type": "execute_result"
    }
   ],
   "source": [
    "def double(x):\n",
    "    return x * 2\n",
    "[double(ele) for ele in x_list]"
   ]
  },
  {
   "cell_type": "markdown",
   "metadata": {
    "id": "op2Ai6qVSh7N"
   },
   "source": [
    "Alternatively, instead of defining a function we could define a `lambda` function.\n",
    "\n",
    "The basic outline for a `lambda` function is given below where `p1`, `p2` are the arguments of the function.\n",
    "\n",
    "```\n",
    "lambda p1, p2, ...: expression \n",
    "```"
   ]
  },
  {
   "cell_type": "code",
   "execution_count": null,
   "metadata": {
    "colab": {
     "base_uri": "https://localhost:8080/"
    },
    "id": "xYYf-beMSh7N",
    "outputId": "cbe009af-4f73-46e3-8a17-5a3ea0e6615e"
   },
   "outputs": [
    {
     "data": {
      "text/plain": [
       "[2, 4, 6, 8, 10]"
      ]
     },
     "execution_count": 26,
     "metadata": {},
     "output_type": "execute_result"
    }
   ],
   "source": [
    "# Nameless function stored inside a variable\n",
    "double_lambda = lambda x: x*2 \n",
    "[double_lambda(ele) for ele in x_list]"
   ]
  },
  {
   "cell_type": "markdown",
   "metadata": {
    "id": "zx3g5p1-Sh7N"
   },
   "source": [
    "The real usefullness of `lambda` functions arises when a function takes as input another function. Take the built-in Python function [map](https://realpython.com/python-map-function/) for example. The `map` function applies a the passed function to every element in the list (basically it loops over a list and applies a function to every element like we just did). Note, we need to wrap the `map()` output in a list as maps returns a generator and we want a list so we can see all the output at once.\n",
    "\n",
    "So, we could define a function `double` and then pass it to `map`."
   ]
  },
  {
   "cell_type": "code",
   "execution_count": null,
   "metadata": {
    "colab": {
     "base_uri": "https://localhost:8080/"
    },
    "id": "vP0WiannSh7S",
    "outputId": "5dd0e6be-9353-4390-aca8-ca7ef2a0c860"
   },
   "outputs": [
    {
     "data": {
      "text/plain": [
       "[2, 4, 6, 8, 10]"
      ]
     },
     "execution_count": 28,
     "metadata": {},
     "output_type": "execute_result"
    }
   ],
   "source": [
    "def double(x):\n",
    "    return x * 2\n",
    "list(map(double, x_list))"
   ]
  },
  {
   "cell_type": "markdown",
   "metadata": {
    "id": "ZloPB6A-Sh7S"
   },
   "source": [
    "However, we can actually do the same thing in one line of code and forego defining a function by using `lambda` functions."
   ]
  },
  {
   "cell_type": "code",
   "execution_count": null,
   "metadata": {
    "colab": {
     "base_uri": "https://localhost:8080/"
    },
    "id": "gT7U917iSh7S",
    "outputId": "07194cb6-e85c-4c5c-ef2b-427dda913c66"
   },
   "outputs": [
    {
     "data": {
      "text/plain": [
       "[2, 4, 6, 8, 10]"
      ]
     },
     "execution_count": 29,
     "metadata": {},
     "output_type": "execute_result"
    }
   ],
   "source": [
    "list(map(lambda x: x*2, x_list))"
   ]
  },
  {
   "cell_type": "markdown",
   "metadata": {
    "id": "izbVCzBXSh7S"
   },
   "source": [
    "## Debugging\n",
    "\n",
    "Frequently you'll find yourself very confused about why you are getting a certain error. One of your best tools to over come errors is through debugging. Learning how to debug in Python is crucial for this class!"
   ]
  },
  {
   "cell_type": "markdown",
   "metadata": {
    "id": "YiWy0hFPSh7S"
   },
   "source": [
    "### Debugging with `print`\n",
    "The most naive form of debugging that most of us are familiar with is printing out the values of a variable. This is a great method if you just need some quick debugging."
   ]
  },
  {
   "cell_type": "code",
   "execution_count": null,
   "metadata": {
    "colab": {
     "base_uri": "https://localhost:8080/"
    },
    "id": "EYFTPjciSh7T",
    "outputId": "aeb942d2-d917-4915-c851-ecd767a0ff9c"
   },
   "outputs": [
    {
     "name": "stdout",
     "output_type": "stream",
     "text": [
      "Samples: 2 Features: 10\n",
      "Weight shapes: (10,)\n"
     ]
    }
   ],
   "source": [
    "def toy_print_example():\n",
    "    import numpy as np\n",
    "    \n",
    "    samples = 2\n",
    "    features = 10\n",
    "    print(\"Samples: {} Features: {}\".format(samples, features))\n",
    "    \n",
    "    weights = np.zeros((features,))\n",
    "    print(\"Weight shapes:\", weights.shape)\n",
    "                       \n",
    "toy_print_example()"
   ]
  },
  {
   "cell_type": "markdown",
   "metadata": {
    "id": "UC3K3RHQSh7T"
   },
   "source": [
    "### Debugging with set_trace()\n",
    "\n",
    "The `set_trace()` method either from `pdb` or `IPython.core.debugger` allows for you to manually set a breakpoint in the code. When the code reaches the `set_trace()` it will pause the code and bring up a terminal like interface that allows you interact the local code scope that has ran so far. `IPython.core.debugger` is specifically adapts `pdb` for Jupyter notebook and adds a little better functionality in Jupyter.\n",
    "\n",
    "- Additional Sources\n",
    "    - [Python PDB documentation](https://docs.python.org/3/library/pdb.html)"
   ]
  },
  {
   "cell_type": "code",
   "execution_count": null,
   "metadata": {
    "id": "K4ngxAEKSh7U"
   },
   "outputs": [],
   "source": [
    "from IPython.core.debugger import set_trace"
   ]
  },
  {
   "cell_type": "markdown",
   "metadata": {
    "id": "iGf16Y60Sh7U"
   },
   "source": [
    "While not recommended, you can use `pdb.set_trace()` though you might run into more errors. For instance, if you run the code cell twice without quiting with `q` the cell will lock-up. Use `pdb.set_trace()` when using an IDE or text editor!"
   ]
  },
  {
   "cell_type": "code",
   "execution_count": null,
   "metadata": {
    "id": "IqgXtoTaSh7U"
   },
   "outputs": [],
   "source": [
    "# from pdb import set_trace"
   ]
  },
  {
   "cell_type": "markdown",
   "metadata": {
    "id": "fl_aXbjXSh7U"
   },
   "source": [
    "### Breakpoints\n",
    "When the code reaches the breakpoint an input box or terminal will appear where you enter code you want to run or debug commands (see below). For instance, if we want to print a variable called `weights` we can do so by entering either `weights` or `print(weights)` into the terminal. This will be useful when you need to debug your NumPy array shapes so keep this in mind! Further, you can also define new variables by simply entering a variable declaration like `new_variable = 3`.\n",
    "\n",
    "\n",
    "### Useful Commands\n",
    "- `c` Goes to the next breakpoint\n",
    "- `q` exits the debugger\n",
    "- `l` prints out the lines of code relative to the debugger\n",
    "- See [Python PDB documentation](https://docs.python.org/3/library/pdb.html) for all commands"
   ]
  },
  {
   "cell_type": "markdown",
   "metadata": {
    "id": "WVLk4sxzSh7U"
   },
   "source": [
    "Below is an example of a function that has breakpoints set by calling `set_trace()`. Try running the below code. Wait for the interactive debugger terminal to appear once the first breakpoint has been reached. Next, try printing values of samples and features. Next, enter 'c' to continue to the next breakpoint and try printing value and shape of weights.\n",
    "\n",
    "Note, if you run the below cell and a terminal does not appear then make sure the `enable_debug = True` (`enable_debug` is defined at the top of this notebook in the 1st code cell)."
   ]
  },
  {
   "cell_type": "code",
   "execution_count": null,
   "metadata": {
    "colab": {
     "base_uri": "https://localhost:8080/",
     "height": 204
    },
    "id": "VuyOjOPVSh7V",
    "outputId": "e01c3cb9-9810-4e03-acc8-317f25aaf5e0",
    "scrolled": true
   },
   "outputs": [
    {
     "ename": "NameError",
     "evalue": "ignored",
     "output_type": "error",
     "traceback": [
      "\u001b[0;31m---------------------------------------------------------------------------\u001b[0m",
      "\u001b[0;31mNameError\u001b[0m                                 Traceback (most recent call last)",
      "\u001b[0;32m<ipython-input-33-6848b90ab837>\u001b[0m in \u001b[0;36m<module>\u001b[0;34m\u001b[0m\n\u001b[1;32m     16\u001b[0m         \u001b[0mset_trace\u001b[0m\u001b[0;34m(\u001b[0m\u001b[0;34m)\u001b[0m\u001b[0;34m\u001b[0m\u001b[0;34m\u001b[0m\u001b[0m\n\u001b[1;32m     17\u001b[0m \u001b[0;34m\u001b[0m\u001b[0m\n\u001b[0;32m---> 18\u001b[0;31m \u001b[0mtoy_ipython_example\u001b[0m\u001b[0;34m(\u001b[0m\u001b[0menable\u001b[0m\u001b[0;34m=\u001b[0m\u001b[0menable_debug\u001b[0m\u001b[0;34m)\u001b[0m\u001b[0;34m\u001b[0m\u001b[0;34m\u001b[0m\u001b[0m\n\u001b[0m",
      "\u001b[0;31mNameError\u001b[0m: name 'enable_debug' is not defined"
     ]
    }
   ],
   "source": [
    "def toy_ipython_example(enable=True):\n",
    "    import numpy as np\n",
    "    \n",
    "    samples = 2\n",
    "    features = 10\n",
    "    # Try printing values of samples and features\n",
    "    # enter the command 'c' to move to the next break point\n",
    "    if enable:\n",
    "        set_trace()\n",
    "    \n",
    "    weights = np.zeros((features,))\n",
    "    # Try printing value and shape of weights\n",
    "    # enter the command 'c' to continue running the code or use\n",
    "    # 'q' to qui\n",
    "    if enable: \n",
    "        set_trace()\n",
    "                       \n",
    "toy_ipython_example(enable=enable_debug)"
   ]
  },
  {
   "cell_type": "markdown",
   "metadata": {
    "id": "eFELgY8_Sh7V"
   },
   "source": [
    " # NumPy\n",
    "\n",
    "NumPy is a scientific library that is frequently used for its highly optimized linear algebra powers. One of NumPy's main attractions is its N-dimensional array objects which work great for storing and manipulating datasets! As we will come to see, most datasets are just 2D arrays where the number of data samples corresponds to the number of rows and the number of features corresponds to the number of columns. \n",
    "\n",
    "In later labs we will see examples of N-dimensional datasets. With this in mind, NumPy will be a library we use in almost every lab as it is so essential to manipulating datasets. "
   ]
  },
  {
   "cell_type": "code",
   "execution_count": null,
   "metadata": {
    "id": "aNB-xYs-Sh7V"
   },
   "outputs": [],
   "source": [
    "import numpy as np\n",
    "\n",
    "# Sets NumPy gloabl seed such that any\n",
    "# randomly generation done by NumPy is seeded\n",
    "np.random.seed(0)"
   ]
  },
  {
   "cell_type": "markdown",
   "metadata": {
    "id": "8JuN8jUYSh7V"
   },
   "source": [
    "## Generating Arrays\n",
    "\n",
    "A numpy array is a grid of values, typically all of the same type. Array values can be indexed by either a integer or tuple/list of nonnegative integers. The number of dimensions is usually referred to as the rank of the array; the shape of an array is a tuple of integers giving the size of the array along each dimension [1].\n",
    "\n",
    "Let's make this definition concrete by first creating a rank 1 array or an array with 1 dimension (1D)! Notice, we can make an array simply by passing a list as input!"
   ]
  },
  {
   "cell_type": "code",
   "execution_count": null,
   "metadata": {
    "id": "UMF_S_4eSh7V"
   },
   "outputs": [],
   "source": [
    "a = np.array([1, 2, 3])   # Create a rank 1 array\n",
    "a"
   ]
  },
  {
   "cell_type": "markdown",
   "metadata": {
    "id": "Ftb_GOupSh7V"
   },
   "source": [
    "We can check the type just like before."
   ]
  },
  {
   "cell_type": "code",
   "execution_count": null,
   "metadata": {
    "id": "ou7z2M9rSh7W",
    "outputId": "aa689c2b-4fd5-4281-f9be-da1cb314d9d1"
   },
   "outputs": [
    {
     "data": {
      "text/plain": [
       "numpy.ndarray"
      ]
     },
     "execution_count": 84,
     "metadata": {},
     "output_type": "execute_result"
    }
   ],
   "source": [
    "type(a)"
   ]
  },
  {
   "cell_type": "markdown",
   "metadata": {
    "id": "acvhjBQ2Sh7W"
   },
   "source": [
    "Further, we can check the shape of the array which specifies the length of each dimensions. Since we have a 1D array we can only see one dimension!"
   ]
  },
  {
   "cell_type": "code",
   "execution_count": null,
   "metadata": {
    "id": "fXI2PcJSSh7W",
    "outputId": "70ff6e8d-6f33-4109-fb05-52d1d9fdd642"
   },
   "outputs": [
    {
     "data": {
      "text/plain": [
       "(3,)"
      ]
     },
     "execution_count": 85,
     "metadata": {},
     "output_type": "execute_result"
    }
   ],
   "source": [
    "a.shape"
   ]
  },
  {
   "cell_type": "markdown",
   "metadata": {
    "id": "wwtzTRJbSh7W"
   },
   "source": [
    "We can also use Python's `len` built-in function however it only checks the length of the first dimension! So, let's use `shape` for arrays."
   ]
  },
  {
   "cell_type": "code",
   "execution_count": null,
   "metadata": {
    "id": "71vYyorNSh7W",
    "outputId": "7fff3629-4850-412a-a59b-a23af4011d31"
   },
   "outputs": [
    {
     "data": {
      "text/plain": [
       "3"
      ]
     },
     "execution_count": 86,
     "metadata": {},
     "output_type": "execute_result"
    }
   ],
   "source": [
    "len(a)"
   ]
  },
  {
   "cell_type": "markdown",
   "metadata": {
    "id": "Jy05VZXdSh7W"
   },
   "source": [
    "NumPy also let's generate arrays of different sizes that are automatically filled with values. For example, we can generate many different types of 2x2 arrays that are filled with different values automatically. Notice, we pass a tuple of `(2,2)` to define the shape we want.\n",
    "\n",
    "See the [Array Creation Routines docs](https://numpy.org/doc/stable/reference/routines.array-creation.html) to see all the different ways NumPy can generate different arrays."
   ]
  },
  {
   "cell_type": "markdown",
   "metadata": {
    "id": "SsUKscUySh7W"
   },
   "source": [
    "`np.zeros` creates an array of zeros."
   ]
  },
  {
   "cell_type": "code",
   "execution_count": null,
   "metadata": {
    "id": "wkXSD6rXSh7W",
    "outputId": "c4948834-f3f6-4735-bed1-54cfff446ac2"
   },
   "outputs": [
    {
     "data": {
      "text/plain": [
       "array([[0., 0.],\n",
       "       [0., 0.]])"
      ]
     },
     "execution_count": 87,
     "metadata": {},
     "output_type": "execute_result"
    }
   ],
   "source": [
    "zeros_arr = np.zeros((2, 2))\n",
    "zeros_arr"
   ]
  },
  {
   "cell_type": "markdown",
   "metadata": {
    "id": "L4ChbVzGSh7X"
   },
   "source": [
    "If we check the shape we can see `zeros_arr` does indeed have 2 rows and 2 columns!"
   ]
  },
  {
   "cell_type": "code",
   "execution_count": null,
   "metadata": {
    "id": "qz9yt4UnSh7X",
    "outputId": "4e8fd4b2-da00-4ff7-e142-e8a580743d7b"
   },
   "outputs": [
    {
     "data": {
      "text/plain": [
       "(2, 2)"
      ]
     },
     "execution_count": 88,
     "metadata": {},
     "output_type": "execute_result"
    }
   ],
   "source": [
    "zeros_arr.shape"
   ]
  },
  {
   "cell_type": "markdown",
   "metadata": {
    "id": "98gDlYRnSh7X"
   },
   "source": [
    "`np.ones` creates an array of ones."
   ]
  },
  {
   "cell_type": "code",
   "execution_count": null,
   "metadata": {
    "id": "ANoOVElfSh7X",
    "outputId": "17560563-9554-4555-a6f4-aca59777c505"
   },
   "outputs": [
    {
     "data": {
      "text/plain": [
       "array([[1., 1.],\n",
       "       [1., 1.]])"
      ]
     },
     "execution_count": 89,
     "metadata": {},
     "output_type": "execute_result"
    }
   ],
   "source": [
    "ones_arr = np.ones((2, 2))\n",
    "ones_arr"
   ]
  },
  {
   "cell_type": "markdown",
   "metadata": {
    "id": "yhqQrspbSh7X"
   },
   "source": [
    "`np.full` fills and array with any specified number."
   ]
  },
  {
   "cell_type": "code",
   "execution_count": null,
   "metadata": {
    "id": "d4VeQDheSh7X",
    "outputId": "44abde55-7552-4336-a6d5-c1a82e8b930b"
   },
   "outputs": [
    {
     "data": {
      "text/plain": [
       "array([[10, 10],\n",
       "       [10, 10]])"
      ]
     },
     "execution_count": 90,
     "metadata": {},
     "output_type": "execute_result"
    }
   ],
   "source": [
    "tens_arr = np.full((2, 2), 10)\n",
    "tens_arr"
   ]
  },
  {
   "cell_type": "markdown",
   "metadata": {
    "id": "P0KLgStqSh7X"
   },
   "source": [
    "`np.arange` makes an array of evenly spaced values within a given interval (much like Python's range function)."
   ]
  },
  {
   "cell_type": "code",
   "execution_count": null,
   "metadata": {
    "id": "loNVqjYKSh7X",
    "outputId": "2333952a-35a7-40f4-977d-a2141100ec35"
   },
   "outputs": [
    {
     "data": {
      "text/plain": [
       "array([0, 1, 2, 3, 4, 5, 6, 7, 8, 9])"
      ]
     },
     "execution_count": 91,
     "metadata": {},
     "output_type": "execute_result"
    }
   ],
   "source": [
    "aranged_arr = np.arange(10)\n",
    "aranged_arr"
   ]
  },
  {
   "cell_type": "markdown",
   "metadata": {
    "id": "6SiObHZKSh7Y"
   },
   "source": [
    "`np.random.rand` creates an array with random values. Note that you can use `np.random.seed` to set a global seed such that the same random array will always be generated. You can also use `rng = np.random.RandomState` to set a local seed and then use `rng.rand` to use said local seed!"
   ]
  },
  {
   "cell_type": "code",
   "execution_count": null,
   "metadata": {
    "id": "188xedmkSh7Y",
    "outputId": "e60629bb-3112-415d-e1e5-d178d387c89c"
   },
   "outputs": [
    {
     "data": {
      "text/plain": [
       "array([[0.5488135 , 0.71518937],\n",
       "       [0.60276338, 0.54488318],\n",
       "       [0.4236548 , 0.64589411]])"
      ]
     },
     "execution_count": 92,
     "metadata": {},
     "output_type": "execute_result"
    }
   ],
   "source": [
    "# Creates an array with random values using global seed\n",
    "random_arr = np.random.rand(3,2)\n",
    "random_arr"
   ]
  },
  {
   "cell_type": "code",
   "execution_count": null,
   "metadata": {
    "id": "dzBWfnLTSh7Y",
    "outputId": "900789f8-54ad-4d91-b357-04df0a0dde0e"
   },
   "outputs": [
    {
     "data": {
      "text/plain": [
       "array([[0.4359949 , 0.02592623],\n",
       "       [0.54966248, 0.43532239],\n",
       "       [0.4203678 , 0.33033482]])"
      ]
     },
     "execution_count": 93,
     "metadata": {},
     "output_type": "execute_result"
    }
   ],
   "source": [
    "# Creates an array with random values using local seed\n",
    "rng = np.random.RandomState(2) \n",
    "random_arr = rng.rand(3,2)\n",
    "random_arr"
   ]
  },
  {
   "cell_type": "markdown",
   "metadata": {
    "id": "SgUPSiwNSh7Y"
   },
   "source": [
    "### TODO 8\n",
    "1. Create an array of ones that has a size (10 , 1). Store the output into a variable called `bias_array`.\n",
    "2. Create an array from a the list `[100, 50, 32, 1000]`. Store the output into a variable called `array_from_list`."
   ]
  },
  {
   "cell_type": "code",
   "execution_count": 49,
   "metadata": {
    "colab": {
     "base_uri": "https://localhost:8080/"
    },
    "id": "9znEBLAeSh7Y",
    "outputId": "2220ef0c-8ff1-49bf-90ef-0f849df3cc12"
   },
   "outputs": [
    {
     "name": "stdout",
     "output_type": "stream",
     "text": [
      "bias_array output: \n",
      "[[1.]\n",
      " [1.]\n",
      " [1.]\n",
      " [1.]\n",
      " [1.]\n",
      " [1.]\n",
      " [1.]\n",
      " [1.]\n",
      " [1.]\n",
      " [1.]]\n",
      "bias_array shape: (10, 1)\n",
      "Your code PASSED the code check!\n"
     ]
    }
   ],
   "source": [
    "# TODO 8.1\n",
    "import numpy as np\n",
    "bias_array = np.ones((10,1))\n",
    "\n",
    "print(f\"bias_array output: \\n{bias_array}\")\n",
    "print(f\"bias_array shape: {bias_array.shape}\")\n",
    "\n",
    "todo_check([\n",
    "    (bias_array.shape == (10, 1), 'bias_array does not have the shape (10, 1)'),\n",
    "    (np.all(bias_array == 1), 'all values in bias_array are not 1')\n",
    "])"
   ]
  },
  {
   "cell_type": "code",
   "execution_count": 50,
   "metadata": {
    "colab": {
     "base_uri": "https://localhost:8080/"
    },
    "id": "PI8LmnS7Sh7a",
    "outputId": "63d00b99-d1c3-4a5d-ad70-2908016aff86"
   },
   "outputs": [
    {
     "name": "stdout",
     "output_type": "stream",
     "text": [
      "array_from_list output: \n",
      "[ 100   50   32 1000]\n",
      "array_from_list shape: (4,)\n",
      "Your code PASSED the code check!\n"
     ]
    }
   ],
   "source": [
    "# TODO 8.2\n",
    "array_from_list = np.array([100,50,32,1000])\n",
    "\n",
    "print(f\"array_from_list output: \\n{array_from_list}\")\n",
    "print(f\"array_from_list shape: {array_from_list.shape}\")\n",
    "\n",
    "todo_check([\n",
    "    (array_from_list.shape == (4,), 'array_from_list did not have the shape (4,)'),\n",
    "    (list(array_from_list) == [100, 50, 32, 1000], 'array_from_list did not contain the values [100, 50, 32, 1000]')\n",
    "])"
   ]
  },
  {
   "cell_type": "markdown",
   "metadata": {
    "id": "_rWRKJDYSh7a"
   },
   "source": [
    "## Indexing Arrays\n",
    "Indexing works just like with lists. Let's take a look at some examples."
   ]
  },
  {
   "cell_type": "markdown",
   "metadata": {
    "id": "G77JN0lRSh7a"
   },
   "source": [
    "Indexing a rank 1 array or 1D array is very straight forward and most similar to indexing lists."
   ]
  },
  {
   "cell_type": "code",
   "execution_count": 52,
   "metadata": {
    "colab": {
     "base_uri": "https://localhost:8080/"
    },
    "id": "LWXxl-bFSh7a",
    "outputId": "75e61710-65ec-4925-88f1-c6197d7c2f48"
   },
   "outputs": [
    {
     "data": {
      "text/plain": [
       "array([1, 2, 3])"
      ]
     },
     "execution_count": 52,
     "metadata": {},
     "output_type": "execute_result"
    }
   ],
   "source": [
    "one_d = np.array([1, 2, 3])\n",
    "one_d"
   ]
  },
  {
   "cell_type": "code",
   "execution_count": 53,
   "metadata": {
    "colab": {
     "base_uri": "https://localhost:8080/"
    },
    "id": "7Nz1Db0TSh7a",
    "outputId": "b1735920-e168-4ba1-a437-f7854e1acd85"
   },
   "outputs": [
    {
     "name": "stdout",
     "output_type": "stream",
     "text": [
      "1 2 3\n"
     ]
    }
   ],
   "source": [
    "print(one_d[0], one_d[1], one_d[2])"
   ]
  },
  {
   "cell_type": "markdown",
   "metadata": {
    "id": "cquH41OxSh7a"
   },
   "source": [
    "Furthermore, we can index NumPy arrays with lists or tuples such that we index multiple elements at once! \n",
    "\n",
    "Notice, we have to add a comma after the tuple, otherwise NumPy attempts to check multiple dimensions which we don't have as we only have a rank 1 array!"
   ]
  },
  {
   "cell_type": "code",
   "execution_count": 54,
   "metadata": {
    "colab": {
     "base_uri": "https://localhost:8080/"
    },
    "id": "EvVqwUlASh7b",
    "outputId": "520fd1d9-117d-431e-80ff-c585d4f65059"
   },
   "outputs": [
    {
     "name": "stdout",
     "output_type": "stream",
     "text": [
      "[1 2 3]\n",
      "[1 2 3]\n"
     ]
    }
   ],
   "source": [
    "print(one_d[(0,1,2),])\n",
    "print(one_d[[0,1,2]])"
   ]
  },
  {
   "cell_type": "markdown",
   "metadata": {
    "id": "nv5-UApfSh7b"
   },
   "source": [
    "We can change an element just like lists."
   ]
  },
  {
   "cell_type": "code",
   "execution_count": 55,
   "metadata": {
    "colab": {
     "base_uri": "https://localhost:8080/"
    },
    "id": "V3I9npXTSh7b",
    "outputId": "f2a004c8-24ae-419a-ed7e-e2c17b0446d3"
   },
   "outputs": [
    {
     "data": {
      "text/plain": [
       "array([5, 2, 3])"
      ]
     },
     "execution_count": 55,
     "metadata": {},
     "output_type": "execute_result"
    }
   ],
   "source": [
    "one_d[0] = 5 \n",
    "one_d"
   ]
  },
  {
   "cell_type": "markdown",
   "metadata": {
    "id": "_p2wfzMUSh7b"
   },
   "source": [
    "Now let's check indexing with a rank 2 array or a 2D array as follows."
   ]
  },
  {
   "cell_type": "code",
   "execution_count": 56,
   "metadata": {
    "colab": {
     "base_uri": "https://localhost:8080/"
    },
    "id": "ECxf9fNSSh7b",
    "outputId": "884c1123-4e75-4771-a56c-e1643dcb5790"
   },
   "outputs": [
    {
     "data": {
      "text/plain": [
       "array([[1, 2, 3],\n",
       "       [4, 5, 6]])"
      ]
     },
     "execution_count": 56,
     "metadata": {},
     "output_type": "execute_result"
    }
   ],
   "source": [
    "two_d = np.array([[1,2,3],[4,5,6]]) \n",
    "two_d"
   ]
  },
  {
   "cell_type": "markdown",
   "metadata": {
    "id": "xnZXXmCzSh7b"
   },
   "source": [
    "Like before we can get the shape of the array. Notice, since we are a 2D array we now have two dimensions we can index!"
   ]
  },
  {
   "cell_type": "code",
   "execution_count": 57,
   "metadata": {
    "colab": {
     "base_uri": "https://localhost:8080/"
    },
    "id": "zo9WdviRSh7b",
    "outputId": "10d95020-6064-45b9-c554-54ddc591f721"
   },
   "outputs": [
    {
     "data": {
      "text/plain": [
       "(2, 3)"
      ]
     },
     "execution_count": 57,
     "metadata": {},
     "output_type": "execute_result"
    }
   ],
   "source": [
    "two_d.shape"
   ]
  },
  {
   "cell_type": "markdown",
   "metadata": {
    "id": "tgYv1dQMSh7c"
   },
   "source": [
    "Also we can use `len` but notice only the length of the first dimension is returned!"
   ]
  },
  {
   "cell_type": "code",
   "execution_count": 58,
   "metadata": {
    "colab": {
     "base_uri": "https://localhost:8080/"
    },
    "id": "4jlGKuUMSh7c",
    "outputId": "5d72becc-edaf-4575-c018-3bb98de4aedc"
   },
   "outputs": [
    {
     "data": {
      "text/plain": [
       "2"
      ]
     },
     "execution_count": 58,
     "metadata": {},
     "output_type": "execute_result"
    }
   ],
   "source": [
    "len(two_d)"
   ]
  },
  {
   "cell_type": "markdown",
   "metadata": {
    "id": "AI59FxRNSh7c"
   },
   "source": [
    "Next, we can index each element by specifying two indices (one for the first dimension and one for the second)."
   ]
  },
  {
   "cell_type": "code",
   "execution_count": 59,
   "metadata": {
    "colab": {
     "base_uri": "https://localhost:8080/"
    },
    "id": "gIvM7SgPSh7c",
    "outputId": "aaea34be-ba00-4a1f-c2b0-8ddc5d5d3ed2"
   },
   "outputs": [
    {
     "name": "stdout",
     "output_type": "stream",
     "text": [
      "1 2 4\n"
     ]
    }
   ],
   "source": [
    "print(two_d[0, 0], two_d[0, 1], two_d[1, 0])"
   ]
  },
  {
   "cell_type": "markdown",
   "metadata": {
    "id": "JGG912XwSh7c"
   },
   "source": [
    "Likewise, we can slice arrays just like lists."
   ]
  },
  {
   "cell_type": "code",
   "execution_count": 60,
   "metadata": {
    "colab": {
     "base_uri": "https://localhost:8080/"
    },
    "id": "Kmn1B1EgSh7c",
    "outputId": "e9d84ecc-9555-4698-faf5-ad97eaaa371d"
   },
   "outputs": [
    {
     "name": "stdout",
     "output_type": "stream",
     "text": [
      "Returns the first column for all rows: [1 4]\n",
      "Return all columns for the first row: [1 2 3]\n",
      "Returns the first two columns for all rows: \n",
      " [[1 2]\n",
      " [4 5]]\n"
     ]
    }
   ],
   "source": [
    "print(f\"Returns the first column for all rows: {two_d[:, 0]}\")\n",
    "print(f\"Return all columns for the first row: {two_d[0, :]}\")\n",
    "print(f\"Returns the first two columns for all rows: \\n {two_d[:, :2]}\")"
   ]
  },
  {
   "cell_type": "markdown",
   "metadata": {
    "id": "ROZO22DaSh7c"
   },
   "source": [
    "Finally, once again we can index using tuples or lists."
   ]
  },
  {
   "cell_type": "code",
   "execution_count": 61,
   "metadata": {
    "colab": {
     "base_uri": "https://localhost:8080/"
    },
    "id": "aL3FUB3oSh7c",
    "outputId": "89e83c02-5f3c-4579-b5e3-6bb34899e0e3"
   },
   "outputs": [
    {
     "name": "stdout",
     "output_type": "stream",
     "text": [
      "Tuple Indexing - Returns the first and last colums for all rows:\n",
      " [[1 3]\n",
      " [4 6]]\n",
      "List Indexing - Returns the first and last colums for all rows:\n",
      " [[1 3]\n",
      " [4 6]]\n"
     ]
    }
   ],
   "source": [
    "print(f\"Tuple Indexing - Returns the first and last colums for all rows:\\n {two_d[:, (0, -1)]}\")\n",
    "print(f\"List Indexing - Returns the first and last colums for all rows:\\n {two_d[:, [0, -1]]}\")"
   ]
  },
  {
   "cell_type": "markdown",
   "metadata": {
    "id": "sBbIUHe6Sh7d"
   },
   "source": [
    "### TODO 9\n",
    "Using the `dummy_array` given below, complete the following indexing/slicing TODOs.\n",
    "\n",
    "1. Index/slice the first (index 0), third (index 2), and last (index 4 or -1) columns of the array `dummy_array`. Store the output into the variable `column_slice`.\n",
    "    1. Hint: The output shape should be a (2, 3)!\n",
    "2. Index ONLY the first row (think about the corresponding index value) of `dummy_array`. Store the output into the variable `row_slice`.\n",
    "3. Index ONLY the second row and first two columns of `dummy_array`. Store the output into the variable `slice_array`."
   ]
  },
  {
   "cell_type": "code",
   "execution_count": 62,
   "metadata": {
    "colab": {
     "base_uri": "https://localhost:8080/"
    },
    "id": "RayoyCf0Sh7d",
    "outputId": "6780cab3-1708-491d-e885-404c02226303"
   },
   "outputs": [
    {
     "name": "stdout",
     "output_type": "stream",
     "text": [
      "dummy_array output: \n",
      " [[0 1 2 3 4]\n",
      " [5 6 7 8 9]]\n",
      "dummy_array shape: (2, 5)\n"
     ]
    }
   ],
   "source": [
    "dummy_array = np.arange(10).reshape(2, -1)\n",
    "print(f\"dummy_array output: \\n {dummy_array}\")\n",
    "print(f\"dummy_array shape: {dummy_array.shape}\")"
   ]
  },
  {
   "cell_type": "code",
   "execution_count": 79,
   "metadata": {
    "colab": {
     "base_uri": "https://localhost:8080/"
    },
    "id": "TFTjD73iSh7d",
    "outputId": "bc8f977e-b2d8-4547-cd3b-eac6b656050a"
   },
   "outputs": [
    {
     "name": "stdout",
     "output_type": "stream",
     "text": [
      "column_slice output: \n",
      " [[0 2 4]\n",
      " [5 7 9]]\n",
      "column_slice shape: (2, 3)\n",
      "Your code PASSED the code check!\n"
     ]
    }
   ],
   "source": [
    "# TODO 9.1\n",
    "column_slice = dummy_array[:, [0,2,4]]#([([dummy_array[0,0],dummy_array[0,2],dummy_array[0,4]]),([dummy_array[1,0],dummy_array[1,2],dummy_array[1,4]])])\n",
    "\n",
    "print(f\"column_slice output: \\n {column_slice}\")\n",
    "print(f\"column_slice shape: {column_slice.shape}\")\n",
    "\n",
    "todo_check([\n",
    "    (column_slice.shape == (2, 3), 'column_slice did not return the correct shape of (2, 3)'),\n",
    "    (np.all(column_slice == np.array([[0, 2, 4], [5, 7, 9]])), 'column_slice did not return the correct values!')\n",
    "])"
   ]
  },
  {
   "cell_type": "code",
   "execution_count": 80,
   "metadata": {
    "colab": {
     "base_uri": "https://localhost:8080/"
    },
    "id": "rfl4Vy_1Sh7d",
    "outputId": "568da20d-e30b-4e27-bca1-d51f343cf6bf"
   },
   "outputs": [
    {
     "name": "stdout",
     "output_type": "stream",
     "text": [
      "row_slice output: \n",
      " [0 1 2 3 4]\n",
      "row_slice shape: (5,)\n",
      "Your code PASSED the code check!\n"
     ]
    }
   ],
   "source": [
    "# TODO 9.2\n",
    "row_slice = dummy_array[0,:]\n",
    "\n",
    "print(f\"row_slice output: \\n {row_slice}\")\n",
    "print(f\"row_slice shape: {row_slice.shape}\")\n",
    "\n",
    "todo_check([\n",
    "    (row_slice.shape == (5,) or row_slice.shape == (1,5), 'row_slice does not have the correct shape of (5,) or (1, 5)' ),\n",
    "    (np.all(row_slice == np.array([0, 1, 2, 3, 4])), 'row_slice does not contain the correct values')\n",
    "])"
   ]
  },
  {
   "cell_type": "code",
   "execution_count": 85,
   "metadata": {
    "colab": {
     "base_uri": "https://localhost:8080/"
    },
    "id": "o2Ow9fABSh7e",
    "outputId": "97e2cecf-dcf7-411c-8b22-a3374e8b72f6"
   },
   "outputs": [
    {
     "name": "stdout",
     "output_type": "stream",
     "text": [
      "slice_array output: \n",
      " [5 6]\n",
      "slice_array shape: (2,)\n",
      "Your code PASSED the code check!\n"
     ]
    }
   ],
   "source": [
    "# TODO 9.3\n",
    "slice_array = dummy_array[1,:2]\n",
    "\n",
    "print(f\"slice_array output: \\n {slice_array}\")\n",
    "print(f\"slice_array shape: {slice_array.shape}\")\n",
    "\n",
    "todo_check([\n",
    "    (slice_array.shape == (2,) or slice_array.shape == (1, 2), 'slice_array does not have the correct shape of (2,) or (1, 2)'),\n",
    "    (np.all(slice_array == np.array([5, 6])), 'slice_array does not contain the correct values')\n",
    "])"
   ]
  },
  {
   "cell_type": "markdown",
   "metadata": {
    "id": "BUsk8w8xSh7e"
   },
   "source": [
    "## Copying and Slices\n",
    "\n",
    "An important and sometimes confusing concept regarding NumPy arrays is copying. There are typically two methods for copying arrays (and copying in general): shallow copying and deep copying.\n",
    "\n",
    "*Shallow copying* either copies the object or elements memory addresses such that if a copied element is changed then the change is reflected in the original and vice-versa. Further, NumPy allows for what they call *views* or *slices*. Views or slices can be naively thought of as shallow copies of an entire or only part of an array.\n",
    "\n",
    "> View/Slice: An array that does not own its data, but refers to another array’s data instead. For example, we may create a view that only shows every second element of another array:\n",
    "\n",
    "*Deep copying* make stores data in a new memory address such that if we make changes to a copied object or element the changes are **not** reflected in the original and vica-versa.\n",
    "\n",
    "- Additional Sources\n",
    "    - [Offical NumPy slicing docs](https://numpy.org/doc/stable/reference/arrays.indexing.html)\n",
    "    - [Views versus copies in NumPy](https://scipy-cookbook.readthedocs.io/items/ViewsVsCopies.html)\n",
    "    - [Copy and View in NumPy Array](https://www.geeksforgeeks.org/copy-and-view-in-numpy-array/)\n",
    "    - [What's the difference between a view and a shallow copy of a numpy array?](https://stackoverflow.com/questions/50593483/whats-the-difference-between-a-view-and-a-shallow-copy-of-a-numpy-array)"
   ]
  },
  {
   "cell_type": "markdown",
   "metadata": {
    "id": "tKUSpd83Sh7e"
   },
   "source": [
    "Below is an example of which operations will result in a shallow copy and which operations will result in a deep copy. We can check whether a certain operation acted as a shallow or deep copy by looking at the memory address and by physically changing an element of the original array and seeing if the change is reflected in the copied array.\n",
    "\n",
    "Notice that all the copied arrays that mention deep copy have a different memory ID from `a`, the original array. Also notice that the deep copy arrays second index remains unchanged by the change to the original arrays."
   ]
  },
  {
   "cell_type": "markdown",
   "metadata": {
    "id": "9EMbrLXlSh7e"
   },
   "source": [
    "**In short: if you want to modify the copied arrary while not affact the original array, use .copy() to get the copied array.**"
   ]
  },
  {
   "cell_type": "code",
   "execution_count": 86,
   "metadata": {
    "colab": {
     "base_uri": "https://localhost:8080/"
    },
    "id": "DPTosrlwSh7e",
    "outputId": "32ed6cd6-6caf-4721-92a2-5cd5bbd21042",
    "scrolled": true
   },
   "outputs": [
    {
     "name": "stdout",
     "output_type": "stream",
     "text": [
      "Original before change: [0 1 2 3 4 5 6 7 8 9] Memory address: 140286327015152\n",
      "------------------------------------------------------------------------------------------\n",
      "Original after change \n",
      " Array: [  0 999   2   3   4   5   6   7   8   9] Memory address: 140286327015152\n",
      "Simple shallow copy of entire array \n",
      " Array: [  0 999   2   3   4   5   6   7   8   9] Memory address: 140286327015152\n",
      "Slice shallow copy \n",
      " Array: [999   2   3   4] Memory address: 140286327014864\n",
      "Slice enitre array and shallow copy \n",
      " Array: [  0 999   2   3   4   5   6   7   8   9] Memory address: 140286327014000\n",
      "Slice array and deep copy \n",
      " Array: [1 2 3 4] Memory address: 140286327014768\n",
      "Entire array and deep copy with NumPy \n",
      " Array: [0 1 2 3 4 5 6 7 8 9] Memory address: 140286327016880\n",
      "Enitre array and deep copy with Python \n",
      " Array: [0 1 2 3 4 5 6 7 8 9] Memory address: 140286327016784\n",
      "Deep copy elements of `a` into new array `c` \n",
      " Array: [0. 1. 2. 3. 4. 5. 6. 7. 8. 9.] Memory address: 140286327016400\n"
     ]
    }
   ],
   "source": [
    "import copy\n",
    "\n",
    "# Original array\n",
    "a = np.arange(10)\n",
    "\n",
    "object_copy = a # Copy object \n",
    "slice_shallow1 = a[1:5] # Copy select elements\n",
    "slice_shallow2 = a[:] # Copy all elements\n",
    "slice_deep1 = a[1:5].copy() # deep copy select elements\n",
    "deep1 = a.copy() # deep copy all elemenets using NumPy\n",
    "deep2 = copy.deepcopy(a) # deep copy all elements using Python\n",
    "\n",
    "c = np.zeros(a.shape)\n",
    "c[:] = a[:] # deep copy elements of a into a new array\n",
    "\n",
    "print(f\"Original before change: {a} Memory address: {id(a)}\")\n",
    "\n",
    "# Update index 1\n",
    "a[1] = 999\n",
    "\n",
    "# Debug information\n",
    "print('-'*90)\n",
    "print(f\"Original after change \\n Array: {a} Memory address: {id(a)}\")\n",
    "print(f\"Simple shallow copy of entire array \\n Array: {object_copy} Memory address: {id(object_copy)}\")\n",
    "print(f\"Slice shallow copy \\n Array: {slice_shallow1} Memory address: {id(slice_shallow1)}\")\n",
    "print(f\"Slice enitre array and shallow copy \\n Array: {slice_shallow2} Memory address: {id(slice_shallow2)}\")\n",
    "print(f'Slice array and deep copy \\n Array: {slice_deep1} Memory address: {id(slice_deep1)}')\n",
    "print(f'Entire array and deep copy with NumPy \\n Array: {deep1} Memory address: {id(deep1)}')\n",
    "print(f'Enitre array and deep copy with Python \\n Array: {deep2} Memory address: {id(deep2)}')\n",
    "print(f'Deep copy elements of `a` into new array `c` \\n Array: {c} Memory address: {id(c)}')"
   ]
  },
  {
   "cell_type": "markdown",
   "metadata": {
    "id": "hBBqqM1CSh7f"
   },
   "source": [
    "## Reshaping and Adding New Dimensions\n",
    "\n",
    "Reshaping allows you to change the shapes of an array without changing data of array. Reshaping is a frequently used functions for making sure array mathematical operations such as the dot product work as intended and errors don't arise (we will see these specific errors shortly)."
   ]
  },
  {
   "cell_type": "code",
   "execution_count": null,
   "metadata": {
    "id": "qaoxvw2RSh7f",
    "outputId": "04e4ab88-9786-4702-80e9-bf65979495c3"
   },
   "outputs": [
    {
     "data": {
      "text/plain": [
       "array([1, 2, 3, 4, 5, 6])"
      ]
     },
     "execution_count": 111,
     "metadata": {},
     "output_type": "execute_result"
    }
   ],
   "source": [
    "reshaping_array = np.arange(1, 7)\n",
    "reshaping_array"
   ]
  },
  {
   "cell_type": "markdown",
   "metadata": {
    "id": "WFPs_SD0Sh7f"
   },
   "source": [
    "If we wanted to change our rank 1 array into a rank 2 array we could then simply do a reshape as follows."
   ]
  },
  {
   "cell_type": "code",
   "execution_count": null,
   "metadata": {
    "id": "Yu4OIH2ESh7f",
    "outputId": "ad80f72d-265a-44d0-a33b-e8b95f0e2854"
   },
   "outputs": [
    {
     "data": {
      "text/plain": [
       "array([[1, 2, 3],\n",
       "       [4, 5, 6]])"
      ]
     },
     "execution_count": 112,
     "metadata": {},
     "output_type": "execute_result"
    }
   ],
   "source": [
    "reshaping_array.reshape(2, 3)"
   ]
  },
  {
   "cell_type": "markdown",
   "metadata": {
    "id": "3-qUGSU0Sh7f"
   },
   "source": [
    "Notice $2*3 = 6$ where 6 is the total number of elements. This means if we tried to reshape to a  (2,4) we would get an error as follows."
   ]
  },
  {
   "cell_type": "markdown",
   "metadata": {
    "id": "OI6CmwSiSh7f"
   },
   "source": [
    "In reshaping, Numpy will fill all the elments into the new shape **row by row**。"
   ]
  },
  {
   "cell_type": "code",
   "execution_count": 87,
   "metadata": {
    "colab": {
     "base_uri": "https://localhost:8080/",
     "height": 222
    },
    "id": "gptNz1TxSh7f",
    "outputId": "35eeafa0-42a3-44bb-8176-c2143801a7a3",
    "scrolled": true
   },
   "outputs": [
    {
     "ename": "NameError",
     "evalue": "ignored",
     "output_type": "error",
     "traceback": [
      "\u001b[0;31m---------------------------------------------------------------------------\u001b[0m",
      "\u001b[0;31mNameError\u001b[0m                                 Traceback (most recent call last)",
      "\u001b[0;32m<ipython-input-87-ce646fa4ba88>\u001b[0m in \u001b[0;36m<module>\u001b[0;34m\u001b[0m\n\u001b[1;32m      1\u001b[0m \u001b[0;32mtry\u001b[0m\u001b[0;34m:\u001b[0m\u001b[0;34m\u001b[0m\u001b[0;34m\u001b[0m\u001b[0m\n\u001b[0;32m----> 2\u001b[0;31m     \u001b[0mreshaping_array\u001b[0m\u001b[0;34m.\u001b[0m\u001b[0mreshape\u001b[0m\u001b[0;34m(\u001b[0m\u001b[0;36m2\u001b[0m\u001b[0;34m,\u001b[0m \u001b[0;36m4\u001b[0m\u001b[0;34m)\u001b[0m\u001b[0;34m\u001b[0m\u001b[0;34m\u001b[0m\u001b[0m\n\u001b[0m\u001b[1;32m      3\u001b[0m \u001b[0;32mexcept\u001b[0m \u001b[0mValueError\u001b[0m \u001b[0;32mas\u001b[0m \u001b[0me\u001b[0m\u001b[0;34m:\u001b[0m\u001b[0;34m\u001b[0m\u001b[0;34m\u001b[0m\u001b[0m\n\u001b[1;32m      4\u001b[0m     \u001b[0mtraceback\u001b[0m\u001b[0;34m.\u001b[0m\u001b[0mprint_exc\u001b[0m\u001b[0;34m(\u001b[0m\u001b[0;34m)\u001b[0m\u001b[0;34m\u001b[0m\u001b[0;34m\u001b[0m\u001b[0m\n",
      "\u001b[0;31mNameError\u001b[0m: name 'reshaping_array' is not defined"
     ]
    }
   ],
   "source": [
    "try:\n",
    "    reshaping_array.reshape(2, 4)\n",
    "except ValueError as e:\n",
    "    traceback.print_exc()"
   ]
  },
  {
   "cell_type": "markdown",
   "metadata": {
    "id": "XqdWaTweSh7f"
   },
   "source": [
    "Further, note we can use `-1` in a dimensions. This allows NumPy to automatically determine what the dimension size should be based on the other dimensions!\n",
    "\n",
    "Below is an example of automatically determining the size of the column dimension."
   ]
  },
  {
   "cell_type": "code",
   "execution_count": null,
   "metadata": {
    "id": "ls7YciVeSh7f",
    "outputId": "a02c03d1-86cc-4fdd-d182-9d1e65386089"
   },
   "outputs": [
    {
     "name": "stdout",
     "output_type": "stream",
     "text": [
      "[[1 2 3]\n",
      " [4 5 6]]\n",
      "(2, 3)\n"
     ]
    }
   ],
   "source": [
    "print(reshaping_array.reshape(2, -1))\n",
    "print(reshaping_array.reshape(2, -1).shape)"
   ]
  },
  {
   "cell_type": "markdown",
   "metadata": {
    "id": "R8Exa8WxSh7g"
   },
   "source": [
    "Below is an example of automatically determining the size of the row dimension."
   ]
  },
  {
   "cell_type": "code",
   "execution_count": null,
   "metadata": {
    "id": "yVPtXBosSh7g",
    "outputId": "469183f6-898b-42f9-e887-e7182a708a03"
   },
   "outputs": [
    {
     "name": "stdout",
     "output_type": "stream",
     "text": [
      "[[1 2 3]\n",
      " [4 5 6]]\n",
      "(2, 3)\n"
     ]
    }
   ],
   "source": [
    "print(reshaping_array.reshape(-1, 3))\n",
    "print(reshaping_array.reshape(-1, 3).shape)"
   ]
  },
  {
   "cell_type": "markdown",
   "metadata": {
    "id": "fz9C4PUQSh7g"
   },
   "source": [
    "Lastly, we can also add new dimensions when using reshape by adding a 1."
   ]
  },
  {
   "cell_type": "code",
   "execution_count": null,
   "metadata": {
    "id": "8P7F06KkSh7g",
    "outputId": "6c783972-7aa3-45b8-b227-b19a87c02998"
   },
   "outputs": [
    {
     "data": {
      "text/plain": [
       "(2, 3, 1)"
      ]
     },
     "execution_count": 116,
     "metadata": {},
     "output_type": "execute_result"
    }
   ],
   "source": [
    "reshaping_array.reshape(-1 ,3 ,1).shape"
   ]
  },
  {
   "cell_type": "markdown",
   "metadata": {
    "id": "bLaRlBHrSh7g"
   },
   "source": [
    "Alternatively, we can do the following as well to add a new dimensions."
   ]
  },
  {
   "cell_type": "code",
   "execution_count": null,
   "metadata": {
    "id": "0XHcqrCHSh7g",
    "outputId": "eef41930-a7c0-4727-dc67-75c530b8ed42"
   },
   "outputs": [
    {
     "name": "stdout",
     "output_type": "stream",
     "text": [
      "reshaping_array original shape: (6,)\n"
     ]
    },
    {
     "data": {
      "text/plain": [
       "(6, 1, 1)"
      ]
     },
     "execution_count": 117,
     "metadata": {},
     "output_type": "execute_result"
    }
   ],
   "source": [
    "print(f\"reshaping_array original shape: {reshaping_array.shape}\")\n",
    "reshaping_array[:, None, None].shape"
   ]
  },
  {
   "cell_type": "markdown",
   "metadata": {
    "id": "WvXbA7tcSh7g"
   },
   "source": [
    "### TODO 10\n",
    "\n",
    "Use `twod_array` defined below to complete the following TODOs\n",
    "\n",
    "1. Reshape `twod_array` to have the shape (10, 1). Store the output into the variable `reshaped_array`. If you want, try using `-1` instead of hard coding 10! \n",
    "2. Add a third dimension to the `twod_array` such that the shape is (5, 2, 1). Store the output into the variable `three_d_array`"
   ]
  },
  {
   "cell_type": "code",
   "execution_count": 88,
   "metadata": {
    "colab": {
     "base_uri": "https://localhost:8080/"
    },
    "id": "PTY6SZOLSh7g",
    "outputId": "df1fe62d-330e-433a-f963-0efd916b2a62"
   },
   "outputs": [
    {
     "name": "stdout",
     "output_type": "stream",
     "text": [
      "twod_array output: \n",
      " [[0. 1.]\n",
      " [0. 1.]\n",
      " [0. 1.]\n",
      " [0. 1.]\n",
      " [0. 1.]]\n",
      "twod_array shape: (5, 2)\n"
     ]
    }
   ],
   "source": [
    "twod_array = np.hstack([np.zeros((5, 1)), np.ones((5, 1))])\n",
    "\n",
    "print(f\"twod_array output: \\n {twod_array}\")\n",
    "print(f\"twod_array shape: {twod_array.shape}\")"
   ]
  },
  {
   "cell_type": "code",
   "execution_count": 90,
   "metadata": {
    "colab": {
     "base_uri": "https://localhost:8080/"
    },
    "id": "MUp7R3cMSh7h",
    "outputId": "cbba0b34-1816-4abf-cab4-28f5328288a8"
   },
   "outputs": [
    {
     "name": "stdout",
     "output_type": "stream",
     "text": [
      "reshaped_array output: \n",
      " [[0.]\n",
      " [1.]\n",
      " [0.]\n",
      " [1.]\n",
      " [0.]\n",
      " [1.]\n",
      " [0.]\n",
      " [1.]\n",
      " [0.]\n",
      " [1.]]\n",
      "reshaped_array shape: (10, 1)\n",
      "Your code PASSED the code check!\n"
     ]
    }
   ],
   "source": [
    "# TODO 10.1\n",
    "reshaped_array = twod_array.reshape(-1,1)\n",
    "\n",
    "print(f\"reshaped_array output: \\n {reshaped_array}\")\n",
    "print(f\"reshaped_array shape: {reshaped_array.shape}\")\n",
    "\n",
    "todo_check([\n",
    "    (reshaped_array.shape == (10,1), 'reshaped_array does not have the correct shape of (10 ,1)')\n",
    "])"
   ]
  },
  {
   "cell_type": "code",
   "execution_count": 92,
   "metadata": {
    "colab": {
     "base_uri": "https://localhost:8080/"
    },
    "id": "RioFXmnkSh7i",
    "outputId": "a91824be-67b4-421d-b0cb-f91f32a7ddba"
   },
   "outputs": [
    {
     "name": "stdout",
     "output_type": "stream",
     "text": [
      "three_d_array output: \n",
      " [[[0.]\n",
      "  [1.]]\n",
      "\n",
      " [[0.]\n",
      "  [1.]]\n",
      "\n",
      " [[0.]\n",
      "  [1.]]\n",
      "\n",
      " [[0.]\n",
      "  [1.]]\n",
      "\n",
      " [[0.]\n",
      "  [1.]]]\n",
      "three_d_array shape: (5, 2, 1)\n",
      "Your code PASSED the code check!\n"
     ]
    }
   ],
   "source": [
    "# TODO 10.2\n",
    "three_d_array = twod_array.reshape(-1,2,1)\n",
    "\n",
    "print(f\"three_d_array output: \\n {three_d_array}\")\n",
    "print(f\"three_d_array shape: {three_d_array.shape}\")\n",
    "\n",
    "todo_check([\n",
    "    (three_d_array.shape == (5, 2, 1), 'three_d_array does not have the correct shape of (5, 2, 1)')\n",
    "])"
   ]
  },
  {
   "cell_type": "markdown",
   "metadata": {
    "id": "JWPwoV4JSh7i"
   },
   "source": [
    "## What is an Axis?\n",
    "Axis is a very common parameter found in many NumPy functions that determines which dimension the function will be applied across. In other words, the axis parameter essentially refers to which axis gets collapsed! Below we cover the simple rank 2 array or a 2D array. This idea of axes is correlated with dimensions so if we have a N-dimensional array we can apply a function across any of the possible dimensions.\n",
    "\n",
    "This idea can be really tricky for beginners so don't worry if it doesn't make complete sense at first. Please seek help or check the additional resources below if you are left really confused.\n",
    "\n",
    "```\n",
    "axis=None: Apply function or operation across the entire array-wise.\n",
    "\n",
    "axis=0: Apply operation column-wise, function or operation is applied across all rows for each column \n",
    "(i.e., 1 output for each column).\n",
    "\n",
    "axis=1: Apply operation row-wise, function or operation is applied across all columns for each row \n",
    "(i.e., 1 output for each row).\n",
    "```\n",
    "\n",
    "![](https://vrzkj25a871bpq7t1ugcgmn9-wpengine.netdna-ssl.com/wp-content/uploads/2018/11/numpy-arrays-have-axes.png)\n",
    "\n",
    "- Additional Sources\n",
    "    - [How to Set Axis for Rows and Columns in NumPy](https://machinelearningmastery.com/numpy-axis-for-rows-and-columns/)\n",
    "    - [NumPy Axes explained](https://www.sharpsightlabs.com/blog/numpy-axes-explained/)"
   ]
  },
  {
   "cell_type": "markdown",
   "metadata": {
    "id": "KVHGU_ZzSh7i"
   },
   "source": [
    "Let's create a simply array with a shape of (3, 4). Notice, we use NumPy's `arange` function ([docs](https://numpy.org/doc/stable/reference/generated/numpy.arange.html)) to quickly generate 3 1D arrays and `vstack` ([docs](https://numpy.org/doc/stable/reference/generated/numpy.vstack.html)) function to stack said arrays into a (3, 4) array."
   ]
  },
  {
   "cell_type": "code",
   "execution_count": 93,
   "metadata": {
    "colab": {
     "base_uri": "https://localhost:8080/"
    },
    "id": "IwRsdWCtSh7i",
    "outputId": "88684147-1433-415a-df74-ce5262d15ce3"
   },
   "outputs": [
    {
     "name": "stdout",
     "output_type": "stream",
     "text": [
      "axis_array output: \n",
      " [[1 2 3 4]\n",
      " [1 2 3 4]\n",
      " [1 2 3 4]]\n",
      "axis_array shap|e: (3, 4)\n"
     ]
    }
   ],
   "source": [
    "axis_array = np.vstack([np.arange(1,5), np.arange(1,5), np.arange(1,5)])\n",
    "\n",
    "print(f\"axis_array output: \\n {axis_array}\")\n",
    "print(f\"axis_array shap|e: {axis_array.shape}\")"
   ]
  },
  {
   "cell_type": "markdown",
   "metadata": {
    "id": "6QOP3kreSh7i"
   },
   "source": [
    "Alternatively, we could have used NumPy's `stack` function ([docs](https://numpy.org/doc/stable/reference/generated/numpy.stack.html)) and specified `axis=0` to indicate we have to vertically stack each array on top of one another."
   ]
  },
  {
   "cell_type": "code",
   "execution_count": 94,
   "metadata": {
    "colab": {
     "base_uri": "https://localhost:8080/"
    },
    "id": "TImr7nXzSh7j",
    "outputId": "3fba5442-0d33-48f6-9014-e870319bf5d2"
   },
   "outputs": [
    {
     "name": "stdout",
     "output_type": "stream",
     "text": [
      "axis_array output: \n",
      " [[1 2 3 4]\n",
      " [1 2 3 4]\n",
      " [1 2 3 4]]\n",
      "axis_array shape: (3, 4)\n"
     ]
    }
   ],
   "source": [
    "axis_array = np.stack([np.arange(1,5), np.arange(1,5), np.arange(1,5)], axis=0)\n",
    "\n",
    "print(f\"axis_array output: \\n {axis_array}\")\n",
    "print(f\"axis_array shape: {axis_array.shape}\")"
   ]
  },
  {
   "cell_type": "markdown",
   "metadata": {
    "id": "DmSne4PMSh7j"
   },
   "source": [
    "Here we take the sum with no axis parameter given (in other words, `axis=None` by default). Thus, the sum of the entire array is computed."
   ]
  },
  {
   "cell_type": "code",
   "execution_count": null,
   "metadata": {
    "id": "ciKNyssnSh7j",
    "outputId": "208744f2-1723-427e-b3a2-63c579578759"
   },
   "outputs": [
    {
     "data": {
      "text/plain": [
       "30"
      ]
     },
     "execution_count": 123,
     "metadata": {},
     "output_type": "execute_result"
    }
   ],
   "source": [
    "np.sum(axis_array)"
   ]
  },
  {
   "cell_type": "markdown",
   "metadata": {
    "id": "n1l6SaAISh7j"
   },
   "source": [
    "Likewise, we can apply the same idea to the `max` function where the max of the entire array is taken."
   ]
  },
  {
   "cell_type": "code",
   "execution_count": null,
   "metadata": {
    "id": "0qaddZdVSh7j",
    "outputId": "cf02b51a-d475-42ab-e61a-5385cb4d2c72"
   },
   "outputs": [
    {
     "data": {
      "text/plain": [
       "4"
      ]
     },
     "execution_count": 124,
     "metadata": {},
     "output_type": "execute_result"
    }
   ],
   "source": [
    "np.max(axis_array)"
   ]
  },
  {
   "cell_type": "markdown",
   "metadata": {
    "id": "16mSQnulSh7j"
   },
   "source": [
    "Here we take the sum and max for each column by passing `axis=0` which means the 1st dimension (the row dimension) is collapsed. Meaning, we now want to take the sum/max across columns! \n",
    "\n",
    "Alternatively, think about the axis visually. Recall, `axis=0` points down vertically (see above picture). This means the operation is applied for each column."
   ]
  },
  {
   "cell_type": "code",
   "execution_count": null,
   "metadata": {
    "id": "53_dwRObSh7j",
    "outputId": "f26d9864-305d-488c-ab16-0f7e680e28b2"
   },
   "outputs": [
    {
     "data": {
      "text/plain": [
       "array([ 3,  6,  9, 12])"
      ]
     },
     "execution_count": 125,
     "metadata": {},
     "output_type": "execute_result"
    }
   ],
   "source": [
    "# Column-wise: 1 number for each column\n",
    "np.sum(axis_array,  axis=0)"
   ]
  },
  {
   "cell_type": "code",
   "execution_count": null,
   "metadata": {
    "id": "UEQGqm_oSh7j",
    "outputId": "688d2bf5-dd76-41d4-8189-026fc478b4ce"
   },
   "outputs": [
    {
     "data": {
      "text/plain": [
       "array([1, 2, 3, 4])"
      ]
     },
     "execution_count": 126,
     "metadata": {},
     "output_type": "execute_result"
    }
   ],
   "source": [
    "# Another example but now using max\n",
    "np.max(axis_array, axis=0)"
   ]
  },
  {
   "cell_type": "markdown",
   "metadata": {
    "id": "mGCpKEmZSh7k"
   },
   "source": [
    "Here we take the sum and max row-wise (for each row) by passing `axis=1` which means the 2nd dimension (the column dimension) is collapsed. Meaning, we now want to take the sum/max across rows!\n",
    "\n",
    "Alternatively, think about the axis visually. Recall, `axis=1` points across the array horizontally (see above picture). This means the operation is applied for each row."
   ]
  },
  {
   "cell_type": "code",
   "execution_count": null,
   "metadata": {
    "id": "ngRvHJoTSh7k",
    "outputId": "f333de55-ebb5-42b2-dd83-f993addc9547"
   },
   "outputs": [
    {
     "data": {
      "text/plain": [
       "array([10, 10, 10])"
      ]
     },
     "execution_count": 127,
     "metadata": {},
     "output_type": "execute_result"
    }
   ],
   "source": [
    "# Row-wise: 1 number for each row\n",
    "np.sum(axis_array,  axis=1)"
   ]
  },
  {
   "cell_type": "code",
   "execution_count": null,
   "metadata": {
    "id": "29L2Mv-ySh7k",
    "outputId": "5348c256-884c-44f1-97b0-b0bfbc85b8ea"
   },
   "outputs": [
    {
     "data": {
      "text/plain": [
       "array([4, 4, 4])"
      ]
     },
     "execution_count": 128,
     "metadata": {},
     "output_type": "execute_result"
    }
   ],
   "source": [
    "# Another example but now using max\n",
    "np.max(axis_array, axis=1)"
   ]
  },
  {
   "cell_type": "markdown",
   "metadata": {
    "id": "Ru7uC2euSh7k"
   },
   "source": [
    "### TODO 11\n",
    "\n",
    "Using the `axis_array` defined below complete the following TODOs.\n",
    "\n",
    "**Hint: Think about which axis is being collapsed or the direction of the arrow for each axis in the above picture.**\n",
    "\n",
    "1. Compute the average using `np.average` **for each row**. Store the output into the variable `row_avg`. \n",
    "2. Find the minimum value using `np.min` **for each column**. Store the output into the variable `col_min`."
   ]
  },
  {
   "cell_type": "code",
   "execution_count": 95,
   "metadata": {
    "colab": {
     "base_uri": "https://localhost:8080/"
    },
    "id": "twNdzVN9Sh7k",
    "outputId": "1507ae18-dd57-47f8-a5bb-0831cb51305c"
   },
   "outputs": [
    {
     "name": "stdout",
     "output_type": "stream",
     "text": [
      "axis_array output: \n",
      " [[2 2 2 2 2]\n",
      " [5 5 5 5 5]]\n",
      "axis_array shape: (2, 5)\n"
     ]
    }
   ],
   "source": [
    "axis_array = np.vstack([np.full((1, 5), 2), np.full((1, 5), 5)])\n",
    "print(f\"axis_array output: \\n {axis_array}\")\n",
    "print(f\"axis_array shape: {axis_array.shape}\")"
   ]
  },
  {
   "cell_type": "code",
   "execution_count": 96,
   "metadata": {
    "colab": {
     "base_uri": "https://localhost:8080/"
    },
    "id": "DO9AoilhSh7k",
    "outputId": "738647b1-5e1d-4ed9-b65b-d8d3c5fc18cd"
   },
   "outputs": [
    {
     "name": "stdout",
     "output_type": "stream",
     "text": [
      "row_avg output: \n",
      " [2. 5.]\n",
      "row_avg shape: (2,)\n",
      "Your code PASSED the code check!\n"
     ]
    }
   ],
   "source": [
    "# TODO 11.1\n",
    "row_avg = np.average(axis_array, axis=1)\n",
    "\n",
    "print(f\"row_avg output: \\n {row_avg}\")\n",
    "print(f\"row_avg shape: {row_avg.shape}\")\n",
    "\n",
    "todo_check([\n",
    "    (row_avg.shape == (2,), 'row_avg does not have the correct shape of (2,)'),\n",
    "    (np.all(row_avg == np.array([2, 5])), 'row_avg does not have the correct values')\n",
    "])"
   ]
  },
  {
   "cell_type": "code",
   "execution_count": 97,
   "metadata": {
    "colab": {
     "base_uri": "https://localhost:8080/"
    },
    "id": "ZGkAkIivSh7k",
    "outputId": "31f525c7-4dfd-4e25-a539-93b53b5a9437"
   },
   "outputs": [
    {
     "name": "stdout",
     "output_type": "stream",
     "text": [
      "col_min output: \n",
      " [2 2 2 2 2]\n",
      "col_min shape: (5,)\n",
      "Your code PASSED the code check!\n"
     ]
    }
   ],
   "source": [
    "# TODO 11.2\n",
    "col_min = np.min(axis_array, axis=0)\n",
    "\n",
    "print(f\"col_min output: \\n {col_min}\")\n",
    "print(f\"col_min shape: {col_min.shape}\")\n",
    "\n",
    "todo_check([\n",
    "    (col_min.shape == (5,), \"col_min does not have the correct shape of (5,)\"),\n",
    "    (np.all(col_min == np.array([2, 2, 2, 2, 2])), 'col_min does not have the correct values')\n",
    "])"
   ]
  },
  {
   "cell_type": "markdown",
   "metadata": {
    "id": "MAQP6o01Sh7l"
   },
   "source": [
    "## Datatypes\n",
    "\n",
    "Every NumPy array is a grid of elements of the same type. NumPy provides a large set of numeric datatypes that you can use to construct arrays. NumPy tries to guess a datatype when you create an array, but functions that construct arrays usually also includes an optional argument to explicitly specify the datatype [1]. "
   ]
  },
  {
   "cell_type": "markdown",
   "metadata": {
    "id": "dgQw6LOjSh7l"
   },
   "source": [
    "As we can see below, NumPy automatically detects our list being converted into an array is integers. We use the `dtype` method to check the type of the elements."
   ]
  },
  {
   "cell_type": "code",
   "execution_count": 98,
   "metadata": {
    "colab": {
     "base_uri": "https://localhost:8080/"
    },
    "id": "yDd4bybWSh7l",
    "outputId": "78c2158c-8441-4bfe-bbe3-78639509453e"
   },
   "outputs": [
    {
     "data": {
      "text/plain": [
       "dtype('int64')"
      ]
     },
     "execution_count": 98,
     "metadata": {},
     "output_type": "execute_result"
    }
   ],
   "source": [
    "x = np.array([1, 2])  \n",
    "x.dtype"
   ]
  },
  {
   "cell_type": "markdown",
   "metadata": {
    "id": "cCXsvu2nSh7l"
   },
   "source": [
    "Likewise the same applies to floats."
   ]
  },
  {
   "cell_type": "code",
   "execution_count": 99,
   "metadata": {
    "colab": {
     "base_uri": "https://localhost:8080/"
    },
    "id": "UnvtcFnBSh7l",
    "outputId": "c8565b1f-011f-4206-af06-9ed73d254ca9"
   },
   "outputs": [
    {
     "data": {
      "text/plain": [
       "dtype('float64')"
      ]
     },
     "execution_count": 99,
     "metadata": {},
     "output_type": "execute_result"
    }
   ],
   "source": [
    "x = np.array([1.0, 2.0])\n",
    "x.dtype        "
   ]
  },
  {
   "cell_type": "markdown",
   "metadata": {
    "id": "bDkAvDIHSh7l"
   },
   "source": [
    "Lastly, we can specify the type either when initializing the array or after the array has been initialized."
   ]
  },
  {
   "cell_type": "code",
   "execution_count": 100,
   "metadata": {
    "colab": {
     "base_uri": "https://localhost:8080/"
    },
    "id": "v_GvofM1Sh7l",
    "outputId": "cd1c49ab-26a0-4a2e-e10b-adaecc598a42"
   },
   "outputs": [
    {
     "data": {
      "text/plain": [
       "dtype('float64')"
      ]
     },
     "execution_count": 100,
     "metadata": {},
     "output_type": "execute_result"
    }
   ],
   "source": [
    "x = np.array([1, 2], dtype=np.float64)\n",
    "x.dtype"
   ]
  },
  {
   "cell_type": "code",
   "execution_count": 101,
   "metadata": {
    "colab": {
     "base_uri": "https://localhost:8080/"
    },
    "id": "FvQPz-AnSh7l",
    "outputId": "24a02f39-e9ba-4750-c9c0-439030085439"
   },
   "outputs": [
    {
     "data": {
      "text/plain": [
       "dtype('int64')"
      ]
     },
     "execution_count": 101,
     "metadata": {},
     "output_type": "execute_result"
    }
   ],
   "source": [
    "x = x.astype(np.int64)\n",
    "x.dtype"
   ]
  },
  {
   "cell_type": "markdown",
   "metadata": {
    "id": "O2e-sl-oSh7l"
   },
   "source": [
    "## List Comprehension with Arrays"
   ]
  },
  {
   "cell_type": "markdown",
   "metadata": {
    "id": "z5KJ2YRlSh7m"
   },
   "source": [
    "The same idea of list comprehension applies to NumPy arrays. However, now when we a 2D array you we need nested loops!"
   ]
  },
  {
   "cell_type": "code",
   "execution_count": null,
   "metadata": {
    "id": "mbj4lej0Sh7m",
    "outputId": "80bff15c-2225-4247-cda3-90e6efef0c12"
   },
   "outputs": [
    {
     "data": {
      "text/plain": [
       "array([[ 1,  2,  3,  4,  5],\n",
       "       [ 6,  7,  8,  9, 10]])"
      ]
     },
     "execution_count": 136,
     "metadata": {},
     "output_type": "execute_result"
    }
   ],
   "source": [
    "x_list = np.arange(1, 11).reshape(2,5)\n",
    "x_list"
   ]
  },
  {
   "cell_type": "markdown",
   "metadata": {
    "id": "fH4k_XtySh7m"
   },
   "source": [
    "Normally, If we wanted to loop through this array to find all the even numbers we would need a nested for loop."
   ]
  },
  {
   "cell_type": "code",
   "execution_count": 102,
   "metadata": {
    "colab": {
     "base_uri": "https://localhost:8080/",
     "height": 240
    },
    "id": "MgGqEUWgSh7m",
    "outputId": "9b2a1b2d-181c-476d-a7b9-3aa4f25e602e",
    "tags": []
   },
   "outputs": [
    {
     "ename": "TypeError",
     "evalue": "ignored",
     "output_type": "error",
     "traceback": [
      "\u001b[0;31m---------------------------------------------------------------------------\u001b[0m",
      "\u001b[0;31mTypeError\u001b[0m                                 Traceback (most recent call last)",
      "\u001b[0;32m<ipython-input-102-6abaed909e2c>\u001b[0m in \u001b[0;36m<module>\u001b[0;34m\u001b[0m\n\u001b[1;32m      1\u001b[0m \u001b[0meven\u001b[0m \u001b[0;34m=\u001b[0m \u001b[0;34m[\u001b[0m\u001b[0;34m]\u001b[0m\u001b[0;34m\u001b[0m\u001b[0;34m\u001b[0m\u001b[0m\n\u001b[1;32m      2\u001b[0m \u001b[0;32mfor\u001b[0m \u001b[0mrow\u001b[0m \u001b[0;32min\u001b[0m \u001b[0mx_list\u001b[0m\u001b[0;34m:\u001b[0m\u001b[0;34m\u001b[0m\u001b[0;34m\u001b[0m\u001b[0m\n\u001b[0;32m----> 3\u001b[0;31m     \u001b[0;32mfor\u001b[0m \u001b[0mcol\u001b[0m \u001b[0;32min\u001b[0m \u001b[0mrow\u001b[0m\u001b[0;34m:\u001b[0m\u001b[0;34m\u001b[0m\u001b[0;34m\u001b[0m\u001b[0m\n\u001b[0m\u001b[1;32m      4\u001b[0m         \u001b[0;32mif\u001b[0m \u001b[0mcol\u001b[0m\u001b[0;34m%\u001b[0m\u001b[0;36m2\u001b[0m \u001b[0;34m==\u001b[0m \u001b[0;36m0\u001b[0m\u001b[0;34m:\u001b[0m\u001b[0;34m\u001b[0m\u001b[0;34m\u001b[0m\u001b[0m\n\u001b[1;32m      5\u001b[0m             \u001b[0meven\u001b[0m\u001b[0;34m.\u001b[0m\u001b[0mappend\u001b[0m\u001b[0;34m(\u001b[0m\u001b[0mcol\u001b[0m\u001b[0;34m)\u001b[0m\u001b[0;34m\u001b[0m\u001b[0;34m\u001b[0m\u001b[0m\n",
      "\u001b[0;31mTypeError\u001b[0m: 'int' object is not iterable"
     ]
    }
   ],
   "source": [
    "even = []\n",
    "for row in x_list:\n",
    "    for col in row:\n",
    "        if col%2 == 0:\n",
    "            even.append(col)\n",
    "np.array(even)"
   ]
  },
  {
   "cell_type": "markdown",
   "metadata": {
    "id": "ae9wJBvVSh7m"
   },
   "source": [
    " However, we can easily write this in one line of code with list comprehension, which basically flattens the above nested for loop.\n",
    " \n",
    "The basic outline for list comprehension with nested loops and a condition is as follows:\n",
    " ```\n",
    "[expression for item in list for item2 in item condition]\n",
    "```"
   ]
  },
  {
   "cell_type": "code",
   "execution_count": null,
   "metadata": {
    "id": "nuRKAuc3Sh7m",
    "outputId": "8c4b3c5a-648c-4325-cfdf-d44a091661e9"
   },
   "outputs": [
    {
     "data": {
      "text/plain": [
       "array([ 2,  4,  6,  8, 10])"
      ]
     },
     "execution_count": 138,
     "metadata": {},
     "output_type": "execute_result"
    }
   ],
   "source": [
    "evens_array = np.array([col for row in x_list for col in row if col%2==0])\n",
    "evens_array"
   ]
  },
  {
   "cell_type": "markdown",
   "metadata": {
    "id": "IMMotJmsSh7m"
   },
   "source": [
    "## Searching Arrays: Finding Specific Values and Indexes \n",
    "\n",
    "Frequently in machine learning when you have a dataset you will need to select only certain data samples. For instance, you might want to select only data samples that belong to certain class (in other words, selecting data samples with certain a \"label\"). Luckily, NumPy makes this idea of finding values relatively simply by using concepts such as subsetting.\n",
    "\n",
    "- Additional Sources\n",
    "    - [numpy.where() – Explained with examples](https://thispointer.com/numpy-where-tutorial-examples-python/)\n",
    "    - [fast python numpy where functionality?](https://stackoverflow.com/questions/18452591/fast-python-numpy-where-functionality)\n",
    "    -[np.where docs](https://numpy.org/doc/stable/reference/generated/numpy.where.html)"
   ]
  },
  {
   "cell_type": "markdown",
   "metadata": {
    "id": "F-Ut5jVBSh7m"
   },
   "source": [
    "Let's say we have a fake dataset where `X` contains the features and `y` contains the labels which correspond to the class each data sample belongs to.\n",
    "\n",
    "Further, let's say we our fake dataset has 20 data samples (rows) and there are 5 features (columns). Additionally, our fake label array `y` contains 20 labels whose values can be either 0, 1, or 2 where each value indicates which class each data sample in `X` belongs to. **Keep in mind, each row in `y` corresponds to the same row in `X`.**"
   ]
  },
  {
   "cell_type": "markdown",
   "metadata": {
    "id": "MQH3Ov_FSh7m"
   },
   "source": [
    "Below creates a fake data set with corresponding labels. We use some NumPy functions to randomly generate them."
   ]
  },
  {
   "cell_type": "code",
   "execution_count": 103,
   "metadata": {
    "id": "ez1A2VNjSh7n"
   },
   "outputs": [],
   "source": [
    "# Here we set a seed such that everytime we run this cell we can the same random array!\n",
    "rng = np.random.RandomState(0) \n",
    "X = rng.normal(size=(20, 5))\n",
    "y = rng.randint(0, 3, size=20)"
   ]
  },
  {
   "cell_type": "code",
   "execution_count": 106,
   "metadata": {
    "colab": {
     "base_uri": "https://localhost:8080/"
    },
    "id": "j_H_7vIJSh7n",
    "outputId": "7075ad3c-b9d7-4f9a-cc3f-179702fbccfd"
   },
   "outputs": [
    {
     "data": {
      "text/plain": [
       "array([[ 1.76405235,  0.40015721,  0.97873798,  2.2408932 ,  1.86755799],\n",
       "       [-0.97727788,  0.95008842, -0.15135721, -0.10321885,  0.4105985 ],\n",
       "       [ 0.14404357,  1.45427351,  0.76103773,  0.12167502,  0.44386323],\n",
       "       [ 0.33367433,  1.49407907, -0.20515826,  0.3130677 , -0.85409574],\n",
       "       [-2.55298982,  0.6536186 ,  0.8644362 , -0.74216502,  2.26975462],\n",
       "       [-1.45436567,  0.04575852, -0.18718385,  1.53277921,  1.46935877],\n",
       "       [ 0.15494743,  0.37816252, -0.88778575, -1.98079647, -0.34791215],\n",
       "       [ 0.15634897,  1.23029068,  1.20237985, -0.38732682, -0.30230275],\n",
       "       [-1.04855297, -1.42001794, -1.70627019,  1.9507754 , -0.50965218],\n",
       "       [-0.4380743 , -1.25279536,  0.77749036, -1.61389785, -0.21274028],\n",
       "       [-0.89546656,  0.3869025 , -0.51080514, -1.18063218, -0.02818223],\n",
       "       [ 0.42833187,  0.06651722,  0.3024719 , -0.63432209, -0.36274117],\n",
       "       [-0.67246045, -0.35955316, -0.81314628, -1.7262826 ,  0.17742614],\n",
       "       [-0.40178094, -1.63019835,  0.46278226, -0.90729836,  0.0519454 ],\n",
       "       [ 0.72909056,  0.12898291,  1.13940068, -1.23482582,  0.40234164],\n",
       "       [-0.68481009, -0.87079715, -0.57884966, -0.31155253,  0.05616534],\n",
       "       [-1.16514984,  0.90082649,  0.46566244, -1.53624369,  1.48825219],\n",
       "       [ 1.89588918,  1.17877957, -0.17992484, -1.07075262,  1.05445173],\n",
       "       [-0.40317695,  1.22244507,  0.20827498,  0.97663904,  0.3563664 ],\n",
       "       [ 0.70657317,  0.01050002,  1.78587049,  0.12691209,  0.40198936]])"
      ]
     },
     "execution_count": 106,
     "metadata": {},
     "output_type": "execute_result"
    }
   ],
   "source": [
    "X"
   ]
  },
  {
   "cell_type": "code",
   "execution_count": 107,
   "metadata": {
    "colab": {
     "base_uri": "https://localhost:8080/"
    },
    "id": "prrq0dswSh7n",
    "outputId": "879b2fad-f619-4093-d86f-f0d1286f9e0b"
   },
   "outputs": [
    {
     "data": {
      "text/plain": [
       "array([[0],\n",
       "       [0],\n",
       "       [1],\n",
       "       [2],\n",
       "       [1],\n",
       "       [1],\n",
       "       [0],\n",
       "       [0],\n",
       "       [1],\n",
       "       [2],\n",
       "       [0],\n",
       "       [2],\n",
       "       [2],\n",
       "       [1],\n",
       "       [1],\n",
       "       [1],\n",
       "       [2],\n",
       "       [0],\n",
       "       [0],\n",
       "       [1]])"
      ]
     },
     "execution_count": 107,
     "metadata": {},
     "output_type": "execute_result"
    }
   ],
   "source": [
    "y.reshape(-1, 1)"
   ]
  },
  {
   "cell_type": "markdown",
   "metadata": {
    "id": "YdsCZI8vSh7n"
   },
   "source": [
    "Remember that the first data sample `X[0, :]` corresponds to the first label `y[0]`!"
   ]
  },
  {
   "cell_type": "code",
   "execution_count": 108,
   "metadata": {
    "colab": {
     "base_uri": "https://localhost:8080/"
    },
    "id": "hJCoRZYkSh7n",
    "outputId": "1db632ea-9167-47aa-e975-bb3a86c0a5e3"
   },
   "outputs": [
    {
     "name": "stdout",
     "output_type": "stream",
     "text": [
      "1st data sample: [1.76405235 0.40015721 0.97873798 2.2408932  1.86755799] \n",
      "1st data sample's label: 0\n"
     ]
    }
   ],
   "source": [
    "print(f\"1st data sample: {X[0, :]} \\n1st data sample's label: {y[0]}\")"
   ]
  },
  {
   "cell_type": "markdown",
   "metadata": {
    "id": "wIE3ZOmHSh7n"
   },
   "source": [
    "### Subsetting (Boolean Indexing)\n",
    "\n",
    "Subsetting entails finding values in a array based on some condition. This condition creates a boolean array, which is then used to select all the data samples that are true (i.e., meets the specified condition)."
   ]
  },
  {
   "cell_type": "code",
   "execution_count": 109,
   "metadata": {
    "colab": {
     "base_uri": "https://localhost:8080/"
    },
    "id": "aytxJyzwSh7n",
    "outputId": "c0c39421-6d93-43a9-962e-89b19bfca687"
   },
   "outputs": [
    {
     "data": {
      "text/plain": [
       "array([0, 0, 1, 2, 1, 1, 0, 0, 1, 2, 0, 2, 2, 1, 1, 1, 2, 0, 0, 1])"
      ]
     },
     "execution_count": 109,
     "metadata": {},
     "output_type": "execute_result"
    }
   ],
   "source": [
    "y"
   ]
  },
  {
   "cell_type": "markdown",
   "metadata": {
    "id": "z1OMYbCASh7n"
   },
   "source": [
    "First, we can make a condition where we only want the labels whose class is 1. Notice that all the 1 elements in the below output are set to True while all the 0 and 2 elements are False."
   ]
  },
  {
   "cell_type": "code",
   "execution_count": 110,
   "metadata": {
    "colab": {
     "base_uri": "https://localhost:8080/"
    },
    "id": "D-914b83Sh7n",
    "outputId": "6119073c-f068-4fb6-af4a-f048c1334572"
   },
   "outputs": [
    {
     "data": {
      "text/plain": [
       "array([False, False,  True, False,  True,  True, False, False,  True,\n",
       "       False, False, False, False,  True,  True,  True, False, False,\n",
       "       False,  True])"
      ]
     },
     "execution_count": 110,
     "metadata": {},
     "output_type": "execute_result"
    }
   ],
   "source": [
    "y == 1"
   ]
  },
  {
   "cell_type": "markdown",
   "metadata": {
    "id": "BSesnqdLSh7o"
   },
   "source": [
    "Now we can perform some sort of computation on our selected data. Let's take the mean for each feature/column for all the data samples whose class labels are 1."
   ]
  },
  {
   "cell_type": "code",
   "execution_count": 111,
   "metadata": {
    "colab": {
     "base_uri": "https://localhost:8080/"
    },
    "id": "2qNson5xSh7o",
    "outputId": "376f5054-84bf-4a24-de88-c707acf1d6b7"
   },
   "outputs": [
    {
     "data": {
      "text/plain": [
       "array([-0.57034902, -0.20348499,  0.31765296,  0.0670375 ,  0.57322077])"
      ]
     },
     "execution_count": 111,
     "metadata": {},
     "output_type": "execute_result"
    }
   ],
   "source": [
    "np.mean(X[y == 1], axis=0)"
   ]
  },
  {
   "cell_type": "markdown",
   "metadata": {
    "id": "f-d8-xxZSh7o"
   },
   "source": [
    "We can also check the means of the other classes as well!"
   ]
  },
  {
   "cell_type": "code",
   "execution_count": 112,
   "metadata": {
    "colab": {
     "base_uri": "https://localhost:8080/"
    },
    "id": "3rBK0BjLSh7o",
    "outputId": "cca555b4-a5af-4793-edd6-95bd8f4c4a26"
   },
   "outputs": [
    {
     "data": {
      "text/plain": [
       "array([ 0.24218808,  0.82097514,  0.09421713, -0.21502782,  0.4300825 ])"
      ]
     },
     "execution_count": 112,
     "metadata": {},
     "output_type": "execute_result"
    }
   ],
   "source": [
    "np.mean(X[y == 0], axis=0)"
   ]
  },
  {
   "cell_type": "code",
   "execution_count": 113,
   "metadata": {
    "colab": {
     "base_uri": "https://localhost:8080/"
    },
    "id": "alYs3muGSh7o",
    "outputId": "ed084bd4-6a5b-472e-831c-d31b84ba1c97"
   },
   "outputs": [
    {
     "data": {
      "text/plain": [
       "array([-0.30273568,  0.16981485,  0.10546403, -1.03953571,  0.04722023])"
      ]
     },
     "execution_count": 113,
     "metadata": {},
     "output_type": "execute_result"
    }
   ],
   "source": [
    "np.mean(X[y == 2], axis=0)"
   ]
  },
  {
   "cell_type": "markdown",
   "metadata": {
    "id": "cv3I6yt3Sh7p"
   },
   "source": [
    "Additionally, we can combine conditions (**make sure to include parenthesis surrounding each condition**). So we can want to take the mean of the data samples whose class labels are 1 and 2."
   ]
  },
  {
   "cell_type": "code",
   "execution_count": null,
   "metadata": {
    "id": "FOb_rTGNSh7p",
    "outputId": "618590b0-896b-4fb7-d685-5fa4392ebd0a"
   },
   "outputs": [
    {
     "data": {
      "text/plain": [
       "array([-0.46742081, -0.05990812,  0.23604183, -0.35856758,  0.37091287])"
      ]
     },
     "execution_count": 148,
     "metadata": {},
     "output_type": "execute_result"
    }
   ],
   "source": [
    "np.mean( X[(y == 1) | (y == 2)], axis=0)"
   ]
  },
  {
   "cell_type": "markdown",
   "metadata": {
    "id": "8Yh-RxyfSh7q"
   },
   "source": [
    "### Finding Data Locations\n",
    "Subsetting is great for accessing data but what if we want the indexes or locations instead? For instance, what do we do if we want to get all the data sample **indexes** whose class label is 1? This is where the NumPy `where()` function comes into play as it will find all the indexes in the array that satisfy some condition.\n",
    "\n",
    "**Note, we index `np.where(y == 1)[0]` at 0 because `np.where` returns a tuple of rows and columns indexes. Since our labels `y` is a 1D array it only returns a tuple with only row information.**"
   ]
  },
  {
   "cell_type": "code",
   "execution_count": 120,
   "metadata": {
    "id": "9d1hhCXwSh7q"
   },
   "outputs": [],
   "source": [
    "locs = np.where(y == 1)[0]"
   ]
  },
  {
   "cell_type": "markdown",
   "metadata": {
    "id": "MfXnBtp5Sh7q"
   },
   "source": [
    "Here we can see `locs` holds all the index values which have labels equal to 1."
   ]
  },
  {
   "cell_type": "code",
   "execution_count": 121,
   "metadata": {
    "colab": {
     "base_uri": "https://localhost:8080/"
    },
    "id": "gXAXR1SySh7q",
    "outputId": "a9f83a14-f075-4eef-f810-ea7875d31f0c"
   },
   "outputs": [
    {
     "data": {
      "text/plain": [
       "array([ 2,  4,  5,  8, 13, 14, 15, 19])"
      ]
     },
     "execution_count": 121,
     "metadata": {},
     "output_type": "execute_result"
    }
   ],
   "source": [
    "locs"
   ]
  },
  {
   "cell_type": "markdown",
   "metadata": {
    "id": "ueUYassYSh7q"
   },
   "source": [
    "We can see what the corresponding data samples are by indexing `X` with `locs`. "
   ]
  },
  {
   "cell_type": "code",
   "execution_count": 116,
   "metadata": {
    "colab": {
     "base_uri": "https://localhost:8080/"
    },
    "id": "xeWsA9FQSh7r",
    "outputId": "e10a3314-a395-489e-ca8c-443b0a797300"
   },
   "outputs": [
    {
     "data": {
      "text/plain": [
       "array([[ 0.14404357,  1.45427351,  0.76103773,  0.12167502,  0.44386323],\n",
       "       [-2.55298982,  0.6536186 ,  0.8644362 , -0.74216502,  2.26975462],\n",
       "       [-1.45436567,  0.04575852, -0.18718385,  1.53277921,  1.46935877],\n",
       "       [-1.04855297, -1.42001794, -1.70627019,  1.9507754 , -0.50965218],\n",
       "       [-0.40178094, -1.63019835,  0.46278226, -0.90729836,  0.0519454 ],\n",
       "       [ 0.72909056,  0.12898291,  1.13940068, -1.23482582,  0.40234164],\n",
       "       [-0.68481009, -0.87079715, -0.57884966, -0.31155253,  0.05616534],\n",
       "       [ 0.70657317,  0.01050002,  1.78587049,  0.12691209,  0.40198936]])"
      ]
     },
     "execution_count": 116,
     "metadata": {},
     "output_type": "execute_result"
    }
   ],
   "source": [
    "X[locs]"
   ]
  },
  {
   "cell_type": "markdown",
   "metadata": {
    "id": "yB4AsZolSh7r"
   },
   "source": [
    "Moreover, we can check to make sure each sample has label 1 by indexing `T` with `locs`."
   ]
  },
  {
   "cell_type": "code",
   "execution_count": 117,
   "metadata": {
    "colab": {
     "base_uri": "https://localhost:8080/"
    },
    "id": "hilrMFXwSh7r",
    "outputId": "96779e1c-a0eb-44f1-90ea-7530723e8ec1"
   },
   "outputs": [
    {
     "data": {
      "text/plain": [
       "array([1, 1, 1, 1, 1, 1, 1, 1])"
      ]
     },
     "execution_count": 117,
     "metadata": {},
     "output_type": "execute_result"
    }
   ],
   "source": [
    "y[locs]"
   ]
  },
  {
   "cell_type": "markdown",
   "metadata": {
    "id": "BbiTkunvSh7r"
   },
   "source": [
    "Once again we can perform some operation on all the data samples whose class is 1 just like with subsetting."
   ]
  },
  {
   "cell_type": "code",
   "execution_count": 118,
   "metadata": {
    "colab": {
     "base_uri": "https://localhost:8080/"
    },
    "id": "tkdnUXjqSh7r",
    "outputId": "99db9115-952a-4a5c-f5a4-309fc3592cd7"
   },
   "outputs": [
    {
     "data": {
      "text/plain": [
       "array([-0.57034902, -0.20348499,  0.31765296,  0.0670375 ,  0.57322077])"
      ]
     },
     "execution_count": 118,
     "metadata": {},
     "output_type": "execute_result"
    }
   ],
   "source": [
    "X[locs].mean(axis=0)"
   ]
  },
  {
   "cell_type": "markdown",
   "metadata": {
    "id": "bnAavuCxSh7r"
   },
   "source": [
    "Additionally, we can combine conditions just like with subsetting (make sure to include parenthesis surrounding each condition)."
   ]
  },
  {
   "cell_type": "code",
   "execution_count": 119,
   "metadata": {
    "colab": {
     "base_uri": "https://localhost:8080/"
    },
    "id": "z99cT-mJSh7r",
    "outputId": "c47ab1d8-3f2d-4e84-f2b3-1c317a2cc6de",
    "scrolled": true
   },
   "outputs": [
    {
     "data": {
      "text/plain": [
       "array([ 2,  3,  4,  5,  8,  9, 11, 12, 13, 14, 15, 16, 19])"
      ]
     },
     "execution_count": 119,
     "metadata": {},
     "output_type": "execute_result"
    }
   ],
   "source": [
    "np.where((y == 1) | (y == 2))[0]"
   ]
  },
  {
   "cell_type": "markdown",
   "metadata": {
    "id": "klVsKdmeSh7r"
   },
   "source": [
    "### TODO 12\n",
    "Use `X` and `y` defined below to complete the following TODOs.\n",
    "1. Using `np.where` and the label array `y`, find all the **indexes** whose labels are equal to 2. Store the output into `two_class_idx`.\n",
    "    1. Hint: Don't forget to index `np.where()` at 0 like we did above! Otherwise, you might not pass the todo check!"
   ]
  },
  {
   "cell_type": "code",
   "execution_count": 122,
   "metadata": {
    "colab": {
     "base_uri": "https://localhost:8080/"
    },
    "id": "Zt8pUAt9Sh7r",
    "outputId": "cba81b78-4f29-4724-cf81-dcf98615ae31"
   },
   "outputs": [
    {
     "name": "stdout",
     "output_type": "stream",
     "text": [
      "two_class_idx output: \n",
      " [ 3  9 11 12 16]\n",
      "two_class_idx shape: (5,)\n",
      "Your code PASSED the code check!\n"
     ]
    }
   ],
   "source": [
    "# TODO 12.1\n",
    "two_class_idx = np.where(y==2)[0]\n",
    "\n",
    "print(f\"two_class_idx output: \\n {two_class_idx}\")\n",
    "try:\n",
    "    print(f\"two_class_idx shape: {two_class_idx.shape}\")\n",
    "except Exception:\n",
    "    pass\n",
    "\n",
    "todo_check([\n",
    "    (isinstance(two_class_idx, np.ndarray), f'two_class_idx is not an NumPy array! two_class_idx is currently a {type(two_class_idx)}'),\n",
    "    (np.all(two_class_idx == np.array([ 3,  9, 11, 12, 16])), 'two_class_idx does not contain the correct location values')\n",
    "])"
   ]
  },
  {
   "cell_type": "markdown",
   "metadata": {
    "id": "vmsbLaMWSh7s"
   },
   "source": [
    "## Array Operations\n",
    "NumPy array allows for basic matrix/array operations to be conducted using minimal syntax. For more advanced linear algebra operations, NumPy has specific methods and functions."
   ]
  },
  {
   "cell_type": "code",
   "execution_count": 123,
   "metadata": {
    "id": "fXzkSiZjSh7s"
   },
   "outputs": [],
   "source": [
    "x = np.array([[1,2],[3,4]])\n",
    "y = np.array([[5,6],[7,8]])"
   ]
  },
  {
   "cell_type": "code",
   "execution_count": 124,
   "metadata": {
    "colab": {
     "base_uri": "https://localhost:8080/"
    },
    "id": "RXf0mdxoSh7s",
    "outputId": "181c5d63-ddc5-41eb-feab-a5ea0d617378"
   },
   "outputs": [
    {
     "data": {
      "text/plain": [
       "array([[1, 2],\n",
       "       [3, 4]])"
      ]
     },
     "execution_count": 124,
     "metadata": {},
     "output_type": "execute_result"
    }
   ],
   "source": [
    "x"
   ]
  },
  {
   "cell_type": "code",
   "execution_count": 125,
   "metadata": {
    "colab": {
     "base_uri": "https://localhost:8080/"
    },
    "id": "_x68cp8iSh7s",
    "outputId": "68bdebc8-3353-42cf-cff5-f2a063d51d2b"
   },
   "outputs": [
    {
     "data": {
      "text/plain": [
       "array([[5, 6],\n",
       "       [7, 8]])"
      ]
     },
     "execution_count": 125,
     "metadata": {},
     "output_type": "execute_result"
    }
   ],
   "source": [
    "y"
   ]
  },
  {
   "cell_type": "markdown",
   "metadata": {
    "id": "9c3zOTltSh7s"
   },
   "source": [
    "Below performs elementwise addition"
   ]
  },
  {
   "cell_type": "code",
   "execution_count": 126,
   "metadata": {
    "colab": {
     "base_uri": "https://localhost:8080/"
    },
    "id": "r3Gu6-5YSh7s",
    "outputId": "c75d39b1-bc9f-422b-e845-43b9e7ba34a4"
   },
   "outputs": [
    {
     "data": {
      "text/plain": [
       "array([[ 6,  8],\n",
       "       [10, 12]])"
      ]
     },
     "execution_count": 126,
     "metadata": {},
     "output_type": "execute_result"
    }
   ],
   "source": [
    "x + y"
   ]
  },
  {
   "cell_type": "markdown",
   "metadata": {
    "id": "34SSVP2ySh7s"
   },
   "source": [
    "Below performs elementwise subtraction"
   ]
  },
  {
   "cell_type": "code",
   "execution_count": 127,
   "metadata": {
    "colab": {
     "base_uri": "https://localhost:8080/"
    },
    "id": "In5gU8noSh7s",
    "outputId": "bf2fd357-7595-486f-adf7-edba8d3bd65e"
   },
   "outputs": [
    {
     "data": {
      "text/plain": [
       "array([[-4, -4],\n",
       "       [-4, -4]])"
      ]
     },
     "execution_count": 127,
     "metadata": {},
     "output_type": "execute_result"
    }
   ],
   "source": [
    "x - y"
   ]
  },
  {
   "cell_type": "markdown",
   "metadata": {
    "id": "k5RHAD82Sh7s"
   },
   "source": [
    "Below performs elementwise multiplication"
   ]
  },
  {
   "cell_type": "code",
   "execution_count": 128,
   "metadata": {
    "colab": {
     "base_uri": "https://localhost:8080/"
    },
    "id": "thHP-JstSh7t",
    "outputId": "f402a298-4a26-4733-f523-62bdbe1a7f56"
   },
   "outputs": [
    {
     "data": {
      "text/plain": [
       "array([[ 5, 12],\n",
       "       [21, 32]])"
      ]
     },
     "execution_count": 128,
     "metadata": {},
     "output_type": "execute_result"
    }
   ],
   "source": [
    "x * y"
   ]
  },
  {
   "cell_type": "markdown",
   "metadata": {
    "id": "bghw2ntUSh7t"
   },
   "source": [
    "Below performs elementwise division"
   ]
  },
  {
   "cell_type": "code",
   "execution_count": 129,
   "metadata": {
    "colab": {
     "base_uri": "https://localhost:8080/"
    },
    "id": "HxTDqLZTSh7t",
    "outputId": "409cc898-dad6-4d0d-f9a0-fddaef1e8818"
   },
   "outputs": [
    {
     "data": {
      "text/plain": [
       "array([[0.2       , 0.33333333],\n",
       "       [0.42857143, 0.5       ]])"
      ]
     },
     "execution_count": 129,
     "metadata": {},
     "output_type": "execute_result"
    }
   ],
   "source": [
    "x / y"
   ]
  },
  {
   "cell_type": "markdown",
   "metadata": {
    "id": "CnDEXCaLSh7t"
   },
   "source": [
    "Below performs the [dot product](https://www.mathsisfun.com/algebra/vectors-dot-product.html)"
   ]
  },
  {
   "cell_type": "code",
   "execution_count": 130,
   "metadata": {
    "colab": {
     "base_uri": "https://localhost:8080/"
    },
    "id": "Ih__5a-aSh7t",
    "outputId": "981d0183-5e09-4cef-b7bc-5dc66ad45b59"
   },
   "outputs": [
    {
     "data": {
      "text/plain": [
       "array([[19, 22],\n",
       "       [43, 50]])"
      ]
     },
     "execution_count": 130,
     "metadata": {},
     "output_type": "execute_result"
    }
   ],
   "source": [
    "x @ y"
   ]
  },
  {
   "cell_type": "markdown",
   "metadata": {
    "id": "E46fLhxJSh7t"
   },
   "source": [
    "## Matmul, Shape Mismatch, and Broadcasting Errors"
   ]
  },
  {
   "cell_type": "markdown",
   "metadata": {
    "id": "5Q8F-ONASh7t"
   },
   "source": [
    "### Matmul and Shape Mismatch Errors\n",
    "\n",
    "Throughout this course you will frequently run into what we refer to as \"matmul\" errors. Matmul errors typically arise when taking the dot product of two arrays and the shapes of the arrays aren't compatible. Recall that the **dot product requires the columns of the first array and rows of the second array to match**!\n",
    "\n",
    "For this example, let's assume `A` is some fake data and `b` is a weight vector. Let's then try to make a prediction by taking the dot product of our data and weights (this is something we will do frequently throughout the semester). \n",
    "\n",
    "Below are a few different ways to compute the dot product. The main difference between `@` or `np.matmul` and `np.dot` only really comes into play when dealing with arrays with dimensions greater than 3. For those interested, see this [post](https://stackoverflow.com/questions/34142485/difference-between-numpy-dot-and-python-3-5-matrix-multiplication) on the differences between the methods. For now, we can assume that all operations are roughly doing the same thing - computing the dot product. "
   ]
  },
  {
   "cell_type": "code",
   "execution_count": 131,
   "metadata": {
    "colab": {
     "base_uri": "https://localhost:8080/"
    },
    "id": "ED1Elog6Sh7t",
    "outputId": "4ae504c2-c211-4b07-ca6f-e14fcf24d395",
    "scrolled": true
   },
   "outputs": [
    {
     "name": "stdout",
     "output_type": "stream",
     "text": [
      "A shape: (5, 3)\n",
      "b shape: (1, 3)\n"
     ]
    }
   ],
   "source": [
    "A = np.ones((5, 3))\n",
    "b = np.arange(3).reshape(1, -1)\n",
    "print(f\"A shape: {A.shape}\")\n",
    "print(f\"b shape: {b.shape}\")"
   ]
  },
  {
   "cell_type": "markdown",
   "metadata": {
    "id": "bfeW5wUUSh7u"
   },
   "source": [
    "Based on these shapes given above, can you see the error we are about to run into? Take a second to think about what conditions need to be met in order for the dot product to be taken."
   ]
  },
  {
   "cell_type": "code",
   "execution_count": null,
   "metadata": {
    "id": "qkJLqx7mSh7u",
    "outputId": "ade2cf15-1e30-4f4e-d7fd-84c6904619e0"
   },
   "outputs": [
    {
     "name": "stderr",
     "output_type": "stream",
     "text": [
      "Traceback (most recent call last):\n",
      "  File \"/tmp/ipykernel_134/4201264362.py\", line 2, in <module>\n",
      "    A @ b\n",
      "ValueError: matmul: Input operand 1 has a mismatch in its core dimension 0, with gufunc signature (n?,k),(k,m?)->(n?,m?) (size 1 is different from 3)\n"
     ]
    }
   ],
   "source": [
    "try:\n",
    "    A @ b\n",
    "except ValueError as e:\n",
    "    traceback.print_exc()"
   ]
  },
  {
   "cell_type": "code",
   "execution_count": null,
   "metadata": {
    "id": "EN4oXlfzSh7u",
    "outputId": "f04e3861-32df-452e-c755-dbbbd3b46f8d"
   },
   "outputs": [
    {
     "name": "stderr",
     "output_type": "stream",
     "text": [
      "Traceback (most recent call last):\n",
      "  File \"/tmp/ipykernel_134/46849502.py\", line 2, in <module>\n",
      "    np.matmul(A, b)\n",
      "ValueError: matmul: Input operand 1 has a mismatch in its core dimension 0, with gufunc signature (n?,k),(k,m?)->(n?,m?) (size 1 is different from 3)\n"
     ]
    }
   ],
   "source": [
    "try:\n",
    "    np.matmul(A, b)\n",
    "except ValueError as e:\n",
    "    traceback.print_exc()"
   ]
  },
  {
   "cell_type": "code",
   "execution_count": null,
   "metadata": {
    "id": "kn8fjfv8Sh7u",
    "outputId": "e8ad95ad-e317-4c2e-b0c3-a2966af97fbf"
   },
   "outputs": [
    {
     "name": "stderr",
     "output_type": "stream",
     "text": [
      "Traceback (most recent call last):\n",
      "  File \"/tmp/ipykernel_134/391474462.py\", line 2, in <module>\n",
      "    np.dot(A, b)\n",
      "  File \"<__array_function__ internals>\", line 5, in dot\n",
      "ValueError: shapes (5,3) and (1,3) not aligned: 3 (dim 1) != 1 (dim 0)\n"
     ]
    }
   ],
   "source": [
    "try:\n",
    "    np.dot(A, b)\n",
    "except ValueError as e:\n",
    "    traceback.print_exc()"
   ]
  },
  {
   "cell_type": "markdown",
   "metadata": {
    "id": "TOjPnNAxSh7u"
   },
   "source": [
    "Notice that none of the above methods work because the shapes of the arrays don't match which means the dot product can't be computed! Also, note that the first two throw slightly different errors than the last method."
   ]
  },
  {
   "cell_type": "markdown",
   "metadata": {
    "id": "eTOG3rweSh7u"
   },
   "source": [
    "**Templating print statements for equations:**\n",
    "Often times these `matmul` errors leave beginners scratching their heads at what they did wrong. The issue here is that our shapes don't match. One useful method for debugging shape issues is to print the equation of interest where you replace the variables with their shapes. This is a useful practice when you are first learning to covert matrix equations to code.\n",
    "\n",
    "For instance given \n",
    "```\n",
    "A @ b\n",
    "```\n",
    "\n",
    "It can be useful to add the shapes next to the variables in print statements.\n",
    "```\n",
    "A(5, 3) @ b(1, 3)\n",
    "```"
   ]
  },
  {
   "cell_type": "code",
   "execution_count": 132,
   "metadata": {
    "colab": {
     "base_uri": "https://localhost:8080/"
    },
    "id": "SjRcEV_vSh7u",
    "outputId": "592d5b29-34d3-4a01-f885-fe1727da2371"
   },
   "outputs": [
    {
     "name": "stdout",
     "output_type": "stream",
     "text": [
      "A(5, 3) @ b(1, 3)\n"
     ]
    }
   ],
   "source": [
    "print(f\"A{A.shape} @ b{b.shape}\")"
   ]
  },
  {
   "cell_type": "markdown",
   "metadata": {
    "id": "pMLjeyYSSh7v"
   },
   "source": [
    "See, notice the rows of `b` don't match the columns of `A`. What do we need to do to fix this? One possible solution is simply to transpose `b` using the `.T` method for NumPy arrays."
   ]
  },
  {
   "cell_type": "code",
   "execution_count": 142,
   "metadata": {
    "colab": {
     "base_uri": "https://localhost:8080/"
    },
    "id": "YMtK2AsJSh7v",
    "outputId": "81528cac-a699-410a-ecab-450bbe6b889c"
   },
   "outputs": [
    {
     "name": "stdout",
     "output_type": "stream",
     "text": [
      "A(5, 3) @ b(3, 1)\n"
     ]
    }
   ],
   "source": [
    "print(f\"A{A.shape} @ b{b.T.shape}\")"
   ]
  },
  {
   "cell_type": "markdown",
   "metadata": {
    "id": "BXtkAWVUSh7v"
   },
   "source": [
    "Now, notice the columns of `A` and rows of `b` match! Let's try recomputing the dot product with the rows and columns matching."
   ]
  },
  {
   "cell_type": "code",
   "execution_count": 133,
   "metadata": {
    "colab": {
     "base_uri": "https://localhost:8080/"
    },
    "id": "CWzInDZnSh7v",
    "outputId": "7dbf6199-747f-4788-d729-500a8a71961c"
   },
   "outputs": [
    {
     "name": "stdout",
     "output_type": "stream",
     "text": [
      "Result shape: (5, 1)\n"
     ]
    },
    {
     "data": {
      "text/plain": [
       "array([[3.],\n",
       "       [3.],\n",
       "       [3.],\n",
       "       [3.],\n",
       "       [3.]])"
      ]
     },
     "execution_count": 133,
     "metadata": {},
     "output_type": "execute_result"
    }
   ],
   "source": [
    "result = A @ b.T\n",
    "print(f\"Result shape: {result.shape}\")\n",
    "result"
   ]
  },
  {
   "cell_type": "markdown",
   "metadata": {
    "id": "sCW6UTrrSh7v"
   },
   "source": [
    "Alternatively, we can reshape `b` to fix this issue as well."
   ]
  },
  {
   "cell_type": "code",
   "execution_count": null,
   "metadata": {
    "id": "s0xQyPoqSh7v",
    "outputId": "2aa1b140-737f-4dd2-d59c-0458deac4c73"
   },
   "outputs": [
    {
     "name": "stdout",
     "output_type": "stream",
     "text": [
      "Result shape: (5, 1)\n"
     ]
    },
    {
     "data": {
      "text/plain": [
       "array([[3.],\n",
       "       [3.],\n",
       "       [3.],\n",
       "       [3.],\n",
       "       [3.]])"
      ]
     },
     "execution_count": 171,
     "metadata": {},
     "output_type": "execute_result"
    }
   ],
   "source": [
    "result = A @ b.reshape(-1, 1)\n",
    "print(f\"Result shape: {result.shape}\")\n",
    "result"
   ]
  },
  {
   "cell_type": "markdown",
   "metadata": {
    "id": "DuM9ym8VSh7v"
   },
   "source": [
    "### TODO 13\n",
    "\n",
    "Given the below arrays `X` and `w` complete the following TODOs.\n",
    "\n",
    "1. Compute the dot product between `X` and `w`. Store the output into the variable `dotted_array`."
   ]
  },
  {
   "cell_type": "code",
   "execution_count": 141,
   "metadata": {
    "colab": {
     "base_uri": "https://localhost:8080/"
    },
    "id": "KXRUAcmGSh7v",
    "outputId": "95a23874-15fc-41dc-fc8d-bca31742f76e"
   },
   "outputs": [
    {
     "name": "stdout",
     "output_type": "stream",
     "text": [
      "X shape: (5, 5)\n",
      "w shape: (1, 5)\n"
     ]
    }
   ],
   "source": [
    "X = np.ones((5, 5))\n",
    "w = np.arange(5).reshape(1, -1)\n",
    "print(f\"X shape: {X.shape}\")\n",
    "print(f\"w shape: {w.shape}\")"
   ]
  },
  {
   "cell_type": "code",
   "execution_count": 144,
   "metadata": {
    "colab": {
     "base_uri": "https://localhost:8080/"
    },
    "id": "GJPQOmVRSh7w",
    "outputId": "fe1a7ec3-c524-40e3-99e0-45d78ea75e80"
   },
   "outputs": [
    {
     "name": "stdout",
     "output_type": "stream",
     "text": [
      "dotted_array output: \n",
      " [[10.]\n",
      " [10.]\n",
      " [10.]\n",
      " [10.]\n",
      " [10.]]\n",
      "dotted_array shape: (5, 1)\n",
      "Your code PASSED the code check!\n"
     ]
    }
   ],
   "source": [
    "# TODO 13.1\n",
    "dotted_array = X @ w.T\n",
    "\n",
    "print(f\"dotted_array output: \\n {dotted_array}\")\n",
    "print(f\"dotted_array shape: {dotted_array.shape}\")\n",
    "\n",
    "todo_check([\n",
    "    (dotted_array.shape == (5, 1), 'dotted_array does not have the correct shape of (5,1)'),\n",
    "    (np.all(dotted_array == np.array([10, 10, 10, 10, 10])), 'dotted_array does not have the correct values')\n",
    "])"
   ]
  },
  {
   "cell_type": "markdown",
   "metadata": {
    "id": "WLqT0kukSh7w"
   },
   "source": [
    "### Broadcasting\n",
    "\n",
    "Broadcasting is an implicit functionality of NumPy to allow arithmetic between arrays of different dimensions or shapes. This is a functionality you will be aware of as it will naturally arise in your code and can potentially cause you headaches if you don't know how it works! Below are the three general rules that broadcasting follows.\n",
    "\n",
    "> Rule 1: If the two arrays differ in their number of dimensions, the shape of the one with fewer dimensions has its shape padded with ones on its leading (left) side.\n",
    "\n",
    "> Rule 2: If the shape of the two arrays does not match in any dimension, the array with shape equal to 1 in that dimension is stretched to match the other shape.\n",
    "\n",
    "> Rule 3: If in any dimension sizes disagree and neither is equal to 1, an error is raised.\n",
    "\n",
    "\n",
    "Given these rules, let's take a deeper look at what they are actually saying. We are going to reproduce the examples given in the image below and step through them and see how each rule applies to each example. Lastly, note that idea of braodcasting is not limited to the addition operation!\n",
    "\n",
    "![](https://jakevdp.github.io/PythonDataScienceHandbook/figures/02.05-broadcasting.png)\n",
    "\n",
    "- Additional Sources\n",
    "    - [Gentle Introduction to Broadcasting](https://machinelearningmastery.com/broadcasting-with-numpy-arrays)\n",
    "    - [Numpy Broadcasting Docs](https://docs.scipy.org/doc/numpy/user/basics.broadcasting.html)\n",
    "    - [Introduction to Broadcasting](https://jakevdp.github.io/PythonDataScienceHandbook/02.05-computation-on-arrays-broadcasting.html)"
   ]
  },
  {
   "cell_type": "markdown",
   "metadata": {
    "id": "nN5ym2WXSh7w"
   },
   "source": [
    "**Example 1 - Adding a scalar to an array**\n",
    "\n",
    "1. Initial shapes: \n",
    "Note that `a` is a 1D array and `b` is a scalar and therefore has no shape!\n",
    "```\n",
    "    a.shape = (3,)\n",
    "    b.shape = ()\n",
    "```\n",
    "2. Convert to array: \n",
    "NumPy first turns the scalar `b` into a 1D array.\n",
    "```\n",
    "    a.shape = (3,)\n",
    "    b.shape = (1,)\n",
    "```\n",
    "\n",
    "\n",
    "3. Apply rule 2: \n",
    "NumPy stretches `b` by copying the scalar value of `b` repeatedly until the first dimension of `b` matches the first dimension of `a`. Refer to the above picture where the 5 is copied two more times!\n",
    "```\n",
    "    a.shape = (3,)\n",
    "    b.shape = (3,)\n",
    "```"
   ]
  },
  {
   "cell_type": "code",
   "execution_count": 145,
   "metadata": {
    "colab": {
     "base_uri": "https://localhost:8080/"
    },
    "id": "jSSp2UFXSh7w",
    "outputId": "638f78e2-4ddb-4f81-88b0-d242f8fc250e"
   },
   "outputs": [
    {
     "data": {
      "text/plain": [
       "array([5, 6, 7])"
      ]
     },
     "execution_count": 145,
     "metadata": {},
     "output_type": "execute_result"
    }
   ],
   "source": [
    "a = np.arange(3)\n",
    "b = 5\n",
    "\n",
    "a + 5"
   ]
  },
  {
   "cell_type": "markdown",
   "metadata": {
    "id": "umqHSl11Sh7w"
   },
   "source": [
    "**Example 2 - Adding a 1D array to a 2D array (MOST COMMON SCENARIO)**\n",
    "1. Beginning shapes:\n",
    "```\n",
    "    A.shape = (3, 3)\n",
    "    b.shape = (3,)\n",
    "```\n",
    "\n",
    "\n",
    "2. Apply rule 1 to `b`: NumPy does so by adding a new dimension to the left of the existing dimensions of `b`.\n",
    "\n",
    "```\n",
    "    A.shape = (3, 3)\n",
    "    b.shape = (1, 3)\n",
    "```\n",
    "\n",
    "\n",
    "3. Apply rule 2 to `b`: NumPy stretches `b` by copying `b` repeatedly until the first dimension of `b` matches the first dimension of `A`.  Refer to the above picture where `b` is copied two more additional times!\n",
    "\n",
    "```\n",
    "    A.shape = (3, 3)\n",
    "    b.shape = (3, 3)\n",
    "```"
   ]
  },
  {
   "cell_type": "code",
   "execution_count": 146,
   "metadata": {
    "colab": {
     "base_uri": "https://localhost:8080/"
    },
    "id": "ZQ-i17hWSh7w",
    "outputId": "037be9c6-e0c7-4ef9-9227-aa496587b209"
   },
   "outputs": [
    {
     "data": {
      "text/plain": [
       "array([[1., 2., 3.],\n",
       "       [1., 2., 3.],\n",
       "       [1., 2., 3.]])"
      ]
     },
     "execution_count": 146,
     "metadata": {},
     "output_type": "execute_result"
    }
   ],
   "source": [
    "A = np.ones((3, 3))\n",
    "b = np.arange(3,)\n",
    "\n",
    "A + b"
   ]
  },
  {
   "cell_type": "markdown",
   "metadata": {
    "id": "au6wlGRnSh7w"
   },
   "source": [
    "**Example 3 - Adding 1D array to a 2D array**\n",
    "1. Beginning shapes:\n",
    "```\n",
    "    A.shape = (3, 1)\n",
    "    b.shape = (3,)\n",
    "```\n",
    "\n",
    "\n",
    "2. Apply rule 1 to `b`: NumPy does so by adding a new dimension to the left of the existing dimensions for `b`.\n",
    "```\n",
    "    A.shape = (3, 1)\n",
    "    b.shape = (1, 3)\n",
    "```\n",
    "\n",
    "\n",
    "3. Apply rule 2 to `A` and `b`: \n",
    "Notice now NumPy needs to stretch both `A` and `b` so their dimension lengths match! NumPy does this once again by copying the values of `A` and `b` each twice.\n",
    "```\n",
    "    A.shape = (3, 3)\n",
    "    b.shape = (3, 3)\n",
    "```"
   ]
  },
  {
   "cell_type": "code",
   "execution_count": 147,
   "metadata": {
    "colab": {
     "base_uri": "https://localhost:8080/"
    },
    "id": "UlAp8UPpSh7x",
    "outputId": "d3e256e6-5007-46ce-a917-891a952d74c4"
   },
   "outputs": [
    {
     "data": {
      "text/plain": [
       "array([[0, 1, 2],\n",
       "       [1, 2, 3],\n",
       "       [2, 3, 4]])"
      ]
     },
     "execution_count": 147,
     "metadata": {},
     "output_type": "execute_result"
    }
   ],
   "source": [
    "A = np.arange(3).reshape((3, 1))\n",
    "b = np.arange(3)\n",
    "\n",
    "A + b"
   ]
  },
  {
   "cell_type": "markdown",
   "metadata": {
    "id": "erl4ARIISh7y"
   },
   "source": [
    "**Example 4 - Broadcasting Error (No corresponding image)**\n",
    "1. Beginning shapes:\n",
    "```\n",
    "    A.shape = (3, 2)\n",
    "    b.shape = (3,)\n",
    "```\n",
    "2. Apply rule 1 to `b`: \n",
    "NumPy does so by adding a new dimension to the left of the existing dimensions for `b`.\n",
    "```\n",
    "    A.shape = (3, 2)\n",
    "    b.shape = (1, 3)\n",
    "```\n",
    "\n",
    "\n",
    "3. Apply rule 2 to `b`:\n",
    "NumPy stretches `b` by copying `b` repeatedly until the first dimension of `b` matches the first dimension of `A`. \n",
    "```\n",
    "    A.shape = (3, 2)\n",
    "    b.shape = (3, 3)\n",
    "```\n",
    "\n",
    "3. Mismatch error is thrown because `A`'s second dimension does not have a length of `1` which means rule 2 can't be applied to it! Meaning, the shapes can not be made to match!\n",
    "```\n",
    "    (3, 2) != (3, 3)\n",
    "```"
   ]
  },
  {
   "cell_type": "code",
   "execution_count": 148,
   "metadata": {
    "colab": {
     "base_uri": "https://localhost:8080/"
    },
    "id": "HmCCn9r7Sh7y",
    "outputId": "f6ae5b0f-3256-4f80-b132-c2f1fb0e787b"
   },
   "outputs": [
    {
     "name": "stderr",
     "output_type": "stream",
     "text": [
      "Traceback (most recent call last):\n",
      "  File \"<ipython-input-148-1daa010f9210>\", line 5, in <module>\n",
      "    A + b\n",
      "ValueError: operands could not be broadcast together with shapes (3,2) (3,) \n"
     ]
    }
   ],
   "source": [
    "A =  np.ones((3, 2))\n",
    "b = np.arange(3)\n",
    "\n",
    "try:\n",
    "    A + b\n",
    "except ValueError as e:\n",
    "    traceback.print_exc()"
   ]
  },
  {
   "cell_type": "markdown",
   "metadata": {
    "id": "31G4HbeLSh7z"
   },
   "source": [
    "# Pandas\n",
    "\n",
    "While NumPy is great for performing numerical operations with data, Pandas acts as a high-level data analysis and manipulation tool. Typically, our workflow will involves loading data with Pandas, filtering, cleaning, and observing data trends and then converting out data to NumPy arrays to then be used by our machine learning algorithms. \n",
    "\n",
    "In this section we'll take a quick look at Pandas basics and we'll build/reinforce these basics in following labs!\n",
    "\n",
    "- Addtional Sources\n",
    "    - [Pandas Cheat Sheet PDF](https://pandas.pydata.org/Pandas_Cheat_Sheet.pdf)\n",
    "    - [tutorial: loc vs iloc](https://www.marsja.se/how-to-use-iloc-and-loc-for-indexing-and-slicing-pandas-dataframes/)\n",
    "    - [RealPython: Exploring Datasets with Pandas Tutorial](https://realpython.com/pandas-python-explore-dataset/)"
   ]
  },
  {
   "cell_type": "markdown",
   "metadata": {
    "id": "dxFe6iq-Sh7z"
   },
   "source": [
    "## DataFrames\n",
    "\n",
    "The main object that the Pandas library is centered around is the `DataFrame` class ([docs](https://pandas.pydata.org/pandas-docs/stable/reference/api/pandas.DataFrame.html)). A `DataFrame` is a 2 dimensional data structure, like a 2 dimensional array, or a table with rows and columns. However, a `DataFrame` is much more akin to what a CSV file is like when using Google Sheets or Excel! Note, `DataFrames` are built ontop of NumPy arrays!\n",
    "\n",
    "Let's take a look to really understand what exactly a `DataFrame` is! "
   ]
  },
  {
   "cell_type": "code",
   "execution_count": 149,
   "metadata": {
    "id": "xWtFlCYoSh7z"
   },
   "outputs": [],
   "source": [
    "import pandas as pd"
   ]
  },
  {
   "cell_type": "markdown",
   "metadata": {
    "id": "s0Iyd0UeSh7z"
   },
   "source": [
    "To start off we need some fake data, so we generate some using NumPy where we have 20 data samples and 5 features"
   ]
  },
  {
   "cell_type": "code",
   "execution_count": 151,
   "metadata": {
    "colab": {
     "base_uri": "https://localhost:8080/"
    },
    "id": "WqnzuXTFSh7z",
    "outputId": "26f8fce4-b547-43b7-aa25-4ee18b1215d7"
   },
   "outputs": [
    {
     "data": {
      "text/plain": [
       "array([[ 1.76405235,  0.40015721,  0.97873798,  2.2408932 ,  1.86755799],\n",
       "       [-0.97727788,  0.95008842, -0.15135721, -0.10321885,  0.4105985 ],\n",
       "       [ 0.14404357,  1.45427351,  0.76103773,  0.12167502,  0.44386323],\n",
       "       [ 0.33367433,  1.49407907, -0.20515826,  0.3130677 , -0.85409574],\n",
       "       [-2.55298982,  0.6536186 ,  0.8644362 , -0.74216502,  2.26975462],\n",
       "       [-1.45436567,  0.04575852, -0.18718385,  1.53277921,  1.46935877],\n",
       "       [ 0.15494743,  0.37816252, -0.88778575, -1.98079647, -0.34791215],\n",
       "       [ 0.15634897,  1.23029068,  1.20237985, -0.38732682, -0.30230275],\n",
       "       [-1.04855297, -1.42001794, -1.70627019,  1.9507754 , -0.50965218],\n",
       "       [-0.4380743 , -1.25279536,  0.77749036, -1.61389785, -0.21274028],\n",
       "       [-0.89546656,  0.3869025 , -0.51080514, -1.18063218, -0.02818223],\n",
       "       [ 0.42833187,  0.06651722,  0.3024719 , -0.63432209, -0.36274117],\n",
       "       [-0.67246045, -0.35955316, -0.81314628, -1.7262826 ,  0.17742614],\n",
       "       [-0.40178094, -1.63019835,  0.46278226, -0.90729836,  0.0519454 ],\n",
       "       [ 0.72909056,  0.12898291,  1.13940068, -1.23482582,  0.40234164],\n",
       "       [-0.68481009, -0.87079715, -0.57884966, -0.31155253,  0.05616534],\n",
       "       [-1.16514984,  0.90082649,  0.46566244, -1.53624369,  1.48825219],\n",
       "       [ 1.89588918,  1.17877957, -0.17992484, -1.07075262,  1.05445173],\n",
       "       [-0.40317695,  1.22244507,  0.20827498,  0.97663904,  0.3563664 ],\n",
       "       [ 0.70657317,  0.01050002,  1.78587049,  0.12691209,  0.40198936]])"
      ]
     },
     "execution_count": 151,
     "metadata": {},
     "output_type": "execute_result"
    }
   ],
   "source": [
    "# Set s generate same data everytime\n",
    "rng = np.random.RandomState(0)\n",
    "rand_data = rng.normal(size=(20, 5))\n",
    "rand_data"
   ]
  },
  {
   "cell_type": "markdown",
   "metadata": {
    "id": "3MEscWXuSh7z"
   },
   "source": [
    "We can easily convert a NumPy array into a `DataFrame` as follows."
   ]
  },
  {
   "cell_type": "code",
   "execution_count": 153,
   "metadata": {
    "colab": {
     "base_uri": "https://localhost:8080/",
     "height": 677
    },
    "id": "a7UA0aAMSh70",
    "outputId": "e8b76213-3a63-40ab-91f1-c8000618f594"
   },
   "outputs": [
    {
     "data": {
      "text/html": [
       "\n",
       "  <div id=\"df-87e9026d-f319-434d-aefd-d626569360d5\">\n",
       "    <div class=\"colab-df-container\">\n",
       "      <div>\n",
       "<style scoped>\n",
       "    .dataframe tbody tr th:only-of-type {\n",
       "        vertical-align: middle;\n",
       "    }\n",
       "\n",
       "    .dataframe tbody tr th {\n",
       "        vertical-align: top;\n",
       "    }\n",
       "\n",
       "    .dataframe thead th {\n",
       "        text-align: right;\n",
       "    }\n",
       "</style>\n",
       "<table border=\"1\" class=\"dataframe\">\n",
       "  <thead>\n",
       "    <tr style=\"text-align: right;\">\n",
       "      <th></th>\n",
       "      <th>A</th>\n",
       "      <th>B</th>\n",
       "      <th>C</th>\n",
       "      <th>D</th>\n",
       "      <th>E</th>\n",
       "    </tr>\n",
       "  </thead>\n",
       "  <tbody>\n",
       "    <tr>\n",
       "      <th>0</th>\n",
       "      <td>1.764052</td>\n",
       "      <td>0.400157</td>\n",
       "      <td>0.978738</td>\n",
       "      <td>2.240893</td>\n",
       "      <td>1.867558</td>\n",
       "    </tr>\n",
       "    <tr>\n",
       "      <th>1</th>\n",
       "      <td>-0.977278</td>\n",
       "      <td>0.950088</td>\n",
       "      <td>-0.151357</td>\n",
       "      <td>-0.103219</td>\n",
       "      <td>0.410599</td>\n",
       "    </tr>\n",
       "    <tr>\n",
       "      <th>2</th>\n",
       "      <td>0.144044</td>\n",
       "      <td>1.454274</td>\n",
       "      <td>0.761038</td>\n",
       "      <td>0.121675</td>\n",
       "      <td>0.443863</td>\n",
       "    </tr>\n",
       "    <tr>\n",
       "      <th>3</th>\n",
       "      <td>0.333674</td>\n",
       "      <td>1.494079</td>\n",
       "      <td>-0.205158</td>\n",
       "      <td>0.313068</td>\n",
       "      <td>-0.854096</td>\n",
       "    </tr>\n",
       "    <tr>\n",
       "      <th>4</th>\n",
       "      <td>-2.552990</td>\n",
       "      <td>0.653619</td>\n",
       "      <td>0.864436</td>\n",
       "      <td>-0.742165</td>\n",
       "      <td>2.269755</td>\n",
       "    </tr>\n",
       "    <tr>\n",
       "      <th>5</th>\n",
       "      <td>-1.454366</td>\n",
       "      <td>0.045759</td>\n",
       "      <td>-0.187184</td>\n",
       "      <td>1.532779</td>\n",
       "      <td>1.469359</td>\n",
       "    </tr>\n",
       "    <tr>\n",
       "      <th>6</th>\n",
       "      <td>0.154947</td>\n",
       "      <td>0.378163</td>\n",
       "      <td>-0.887786</td>\n",
       "      <td>-1.980796</td>\n",
       "      <td>-0.347912</td>\n",
       "    </tr>\n",
       "    <tr>\n",
       "      <th>7</th>\n",
       "      <td>0.156349</td>\n",
       "      <td>1.230291</td>\n",
       "      <td>1.202380</td>\n",
       "      <td>-0.387327</td>\n",
       "      <td>-0.302303</td>\n",
       "    </tr>\n",
       "    <tr>\n",
       "      <th>8</th>\n",
       "      <td>-1.048553</td>\n",
       "      <td>-1.420018</td>\n",
       "      <td>-1.706270</td>\n",
       "      <td>1.950775</td>\n",
       "      <td>-0.509652</td>\n",
       "    </tr>\n",
       "    <tr>\n",
       "      <th>9</th>\n",
       "      <td>-0.438074</td>\n",
       "      <td>-1.252795</td>\n",
       "      <td>0.777490</td>\n",
       "      <td>-1.613898</td>\n",
       "      <td>-0.212740</td>\n",
       "    </tr>\n",
       "    <tr>\n",
       "      <th>10</th>\n",
       "      <td>-0.895467</td>\n",
       "      <td>0.386902</td>\n",
       "      <td>-0.510805</td>\n",
       "      <td>-1.180632</td>\n",
       "      <td>-0.028182</td>\n",
       "    </tr>\n",
       "    <tr>\n",
       "      <th>11</th>\n",
       "      <td>0.428332</td>\n",
       "      <td>0.066517</td>\n",
       "      <td>0.302472</td>\n",
       "      <td>-0.634322</td>\n",
       "      <td>-0.362741</td>\n",
       "    </tr>\n",
       "    <tr>\n",
       "      <th>12</th>\n",
       "      <td>-0.672460</td>\n",
       "      <td>-0.359553</td>\n",
       "      <td>-0.813146</td>\n",
       "      <td>-1.726283</td>\n",
       "      <td>0.177426</td>\n",
       "    </tr>\n",
       "    <tr>\n",
       "      <th>13</th>\n",
       "      <td>-0.401781</td>\n",
       "      <td>-1.630198</td>\n",
       "      <td>0.462782</td>\n",
       "      <td>-0.907298</td>\n",
       "      <td>0.051945</td>\n",
       "    </tr>\n",
       "    <tr>\n",
       "      <th>14</th>\n",
       "      <td>0.729091</td>\n",
       "      <td>0.128983</td>\n",
       "      <td>1.139401</td>\n",
       "      <td>-1.234826</td>\n",
       "      <td>0.402342</td>\n",
       "    </tr>\n",
       "    <tr>\n",
       "      <th>15</th>\n",
       "      <td>-0.684810</td>\n",
       "      <td>-0.870797</td>\n",
       "      <td>-0.578850</td>\n",
       "      <td>-0.311553</td>\n",
       "      <td>0.056165</td>\n",
       "    </tr>\n",
       "    <tr>\n",
       "      <th>16</th>\n",
       "      <td>-1.165150</td>\n",
       "      <td>0.900826</td>\n",
       "      <td>0.465662</td>\n",
       "      <td>-1.536244</td>\n",
       "      <td>1.488252</td>\n",
       "    </tr>\n",
       "    <tr>\n",
       "      <th>17</th>\n",
       "      <td>1.895889</td>\n",
       "      <td>1.178780</td>\n",
       "      <td>-0.179925</td>\n",
       "      <td>-1.070753</td>\n",
       "      <td>1.054452</td>\n",
       "    </tr>\n",
       "    <tr>\n",
       "      <th>18</th>\n",
       "      <td>-0.403177</td>\n",
       "      <td>1.222445</td>\n",
       "      <td>0.208275</td>\n",
       "      <td>0.976639</td>\n",
       "      <td>0.356366</td>\n",
       "    </tr>\n",
       "    <tr>\n",
       "      <th>19</th>\n",
       "      <td>0.706573</td>\n",
       "      <td>0.010500</td>\n",
       "      <td>1.785870</td>\n",
       "      <td>0.126912</td>\n",
       "      <td>0.401989</td>\n",
       "    </tr>\n",
       "  </tbody>\n",
       "</table>\n",
       "</div>\n",
       "      <button class=\"colab-df-convert\" onclick=\"convertToInteractive('df-87e9026d-f319-434d-aefd-d626569360d5')\"\n",
       "              title=\"Convert this dataframe to an interactive table.\"\n",
       "              style=\"display:none;\">\n",
       "        \n",
       "  <svg xmlns=\"http://www.w3.org/2000/svg\" height=\"24px\"viewBox=\"0 0 24 24\"\n",
       "       width=\"24px\">\n",
       "    <path d=\"M0 0h24v24H0V0z\" fill=\"none\"/>\n",
       "    <path d=\"M18.56 5.44l.94 2.06.94-2.06 2.06-.94-2.06-.94-.94-2.06-.94 2.06-2.06.94zm-11 1L8.5 8.5l.94-2.06 2.06-.94-2.06-.94L8.5 2.5l-.94 2.06-2.06.94zm10 10l.94 2.06.94-2.06 2.06-.94-2.06-.94-.94-2.06-.94 2.06-2.06.94z\"/><path d=\"M17.41 7.96l-1.37-1.37c-.4-.4-.92-.59-1.43-.59-.52 0-1.04.2-1.43.59L10.3 9.45l-7.72 7.72c-.78.78-.78 2.05 0 2.83L4 21.41c.39.39.9.59 1.41.59.51 0 1.02-.2 1.41-.59l7.78-7.78 2.81-2.81c.8-.78.8-2.07 0-2.86zM5.41 20L4 18.59l7.72-7.72 1.47 1.35L5.41 20z\"/>\n",
       "  </svg>\n",
       "      </button>\n",
       "      \n",
       "  <style>\n",
       "    .colab-df-container {\n",
       "      display:flex;\n",
       "      flex-wrap:wrap;\n",
       "      gap: 12px;\n",
       "    }\n",
       "\n",
       "    .colab-df-convert {\n",
       "      background-color: #E8F0FE;\n",
       "      border: none;\n",
       "      border-radius: 50%;\n",
       "      cursor: pointer;\n",
       "      display: none;\n",
       "      fill: #1967D2;\n",
       "      height: 32px;\n",
       "      padding: 0 0 0 0;\n",
       "      width: 32px;\n",
       "    }\n",
       "\n",
       "    .colab-df-convert:hover {\n",
       "      background-color: #E2EBFA;\n",
       "      box-shadow: 0px 1px 2px rgba(60, 64, 67, 0.3), 0px 1px 3px 1px rgba(60, 64, 67, 0.15);\n",
       "      fill: #174EA6;\n",
       "    }\n",
       "\n",
       "    [theme=dark] .colab-df-convert {\n",
       "      background-color: #3B4455;\n",
       "      fill: #D2E3FC;\n",
       "    }\n",
       "\n",
       "    [theme=dark] .colab-df-convert:hover {\n",
       "      background-color: #434B5C;\n",
       "      box-shadow: 0px 1px 3px 1px rgba(0, 0, 0, 0.15);\n",
       "      filter: drop-shadow(0px 1px 2px rgba(0, 0, 0, 0.3));\n",
       "      fill: #FFFFFF;\n",
       "    }\n",
       "  </style>\n",
       "\n",
       "      <script>\n",
       "        const buttonEl =\n",
       "          document.querySelector('#df-87e9026d-f319-434d-aefd-d626569360d5 button.colab-df-convert');\n",
       "        buttonEl.style.display =\n",
       "          google.colab.kernel.accessAllowed ? 'block' : 'none';\n",
       "\n",
       "        async function convertToInteractive(key) {\n",
       "          const element = document.querySelector('#df-87e9026d-f319-434d-aefd-d626569360d5');\n",
       "          const dataTable =\n",
       "            await google.colab.kernel.invokeFunction('convertToInteractive',\n",
       "                                                     [key], {});\n",
       "          if (!dataTable) return;\n",
       "\n",
       "          const docLinkHtml = 'Like what you see? Visit the ' +\n",
       "            '<a target=\"_blank\" href=https://colab.research.google.com/notebooks/data_table.ipynb>data table notebook</a>'\n",
       "            + ' to learn more about interactive tables.';\n",
       "          element.innerHTML = '';\n",
       "          dataTable['output_type'] = 'display_data';\n",
       "          await google.colab.output.renderOutput(dataTable, element);\n",
       "          const docLink = document.createElement('div');\n",
       "          docLink.innerHTML = docLinkHtml;\n",
       "          element.appendChild(docLink);\n",
       "        }\n",
       "      </script>\n",
       "    </div>\n",
       "  </div>\n",
       "  "
      ],
      "text/plain": [
       "           A         B         C         D         E\n",
       "0   1.764052  0.400157  0.978738  2.240893  1.867558\n",
       "1  -0.977278  0.950088 -0.151357 -0.103219  0.410599\n",
       "2   0.144044  1.454274  0.761038  0.121675  0.443863\n",
       "3   0.333674  1.494079 -0.205158  0.313068 -0.854096\n",
       "4  -2.552990  0.653619  0.864436 -0.742165  2.269755\n",
       "5  -1.454366  0.045759 -0.187184  1.532779  1.469359\n",
       "6   0.154947  0.378163 -0.887786 -1.980796 -0.347912\n",
       "7   0.156349  1.230291  1.202380 -0.387327 -0.302303\n",
       "8  -1.048553 -1.420018 -1.706270  1.950775 -0.509652\n",
       "9  -0.438074 -1.252795  0.777490 -1.613898 -0.212740\n",
       "10 -0.895467  0.386902 -0.510805 -1.180632 -0.028182\n",
       "11  0.428332  0.066517  0.302472 -0.634322 -0.362741\n",
       "12 -0.672460 -0.359553 -0.813146 -1.726283  0.177426\n",
       "13 -0.401781 -1.630198  0.462782 -0.907298  0.051945\n",
       "14  0.729091  0.128983  1.139401 -1.234826  0.402342\n",
       "15 -0.684810 -0.870797 -0.578850 -0.311553  0.056165\n",
       "16 -1.165150  0.900826  0.465662 -1.536244  1.488252\n",
       "17  1.895889  1.178780 -0.179925 -1.070753  1.054452\n",
       "18 -0.403177  1.222445  0.208275  0.976639  0.356366\n",
       "19  0.706573  0.010500  1.785870  0.126912  0.401989"
      ]
     },
     "execution_count": 153,
     "metadata": {},
     "output_type": "execute_result"
    }
   ],
   "source": [
    "df = pd.DataFrame(rand_data, columns=['A', 'B', 'C', 'D', 'E'])\n",
    "df"
   ]
  },
  {
   "cell_type": "markdown",
   "metadata": {
    "id": "XIQEznAFSh70"
   },
   "source": [
    "Notice how much nicer, visually, the table looks compared to the NumPy version. This is just one benefit of Pandas! Note, if we print the `DataFrame` using `print` we lose some of the nice formatting. However, we can easily recover the formatting by using the `display` provided by Jupyter Notebook."
   ]
  },
  {
   "cell_type": "code",
   "execution_count": null,
   "metadata": {
    "id": "8Wzw2kiWSh70",
    "outputId": "84b0bc22-960d-4fcb-ebbf-0577993d948f"
   },
   "outputs": [
    {
     "name": "stdout",
     "output_type": "stream",
     "text": [
      "           A         B         C         D         E\n",
      "0   1.764052  0.400157  0.978738  2.240893  1.867558\n",
      "1  -0.977278  0.950088 -0.151357 -0.103219  0.410599\n",
      "2   0.144044  1.454274  0.761038  0.121675  0.443863\n",
      "3   0.333674  1.494079 -0.205158  0.313068 -0.854096\n",
      "4  -2.552990  0.653619  0.864436 -0.742165  2.269755\n",
      "5  -1.454366  0.045759 -0.187184  1.532779  1.469359\n",
      "6   0.154947  0.378163 -0.887786 -1.980796 -0.347912\n",
      "7   0.156349  1.230291  1.202380 -0.387327 -0.302303\n",
      "8  -1.048553 -1.420018 -1.706270  1.950775 -0.509652\n",
      "9  -0.438074 -1.252795  0.777490 -1.613898 -0.212740\n",
      "10 -0.895467  0.386902 -0.510805 -1.180632 -0.028182\n",
      "11  0.428332  0.066517  0.302472 -0.634322 -0.362741\n",
      "12 -0.672460 -0.359553 -0.813146 -1.726283  0.177426\n",
      "13 -0.401781 -1.630198  0.462782 -0.907298  0.051945\n",
      "14  0.729091  0.128983  1.139401 -1.234826  0.402342\n",
      "15 -0.684810 -0.870797 -0.578850 -0.311553  0.056165\n",
      "16 -1.165150  0.900826  0.465662 -1.536244  1.488252\n",
      "17  1.895889  1.178780 -0.179925 -1.070753  1.054452\n",
      "18 -0.403177  1.222445  0.208275  0.976639  0.356366\n",
      "19  0.706573  0.010500  1.785870  0.126912  0.401989\n"
     ]
    }
   ],
   "source": [
    "print(df)"
   ]
  },
  {
   "cell_type": "code",
   "execution_count": null,
   "metadata": {
    "id": "iEk0eWfpSh70",
    "outputId": "b9021674-c7da-45cc-d322-cc7e5f010e7d"
   },
   "outputs": [
    {
     "data": {
      "text/html": [
       "<div>\n",
       "<style scoped>\n",
       "    .dataframe tbody tr th:only-of-type {\n",
       "        vertical-align: middle;\n",
       "    }\n",
       "\n",
       "    .dataframe tbody tr th {\n",
       "        vertical-align: top;\n",
       "    }\n",
       "\n",
       "    .dataframe thead th {\n",
       "        text-align: right;\n",
       "    }\n",
       "</style>\n",
       "<table border=\"1\" class=\"dataframe\">\n",
       "  <thead>\n",
       "    <tr style=\"text-align: right;\">\n",
       "      <th></th>\n",
       "      <th>A</th>\n",
       "      <th>B</th>\n",
       "      <th>C</th>\n",
       "      <th>D</th>\n",
       "      <th>E</th>\n",
       "    </tr>\n",
       "  </thead>\n",
       "  <tbody>\n",
       "    <tr>\n",
       "      <th>0</th>\n",
       "      <td>1.764052</td>\n",
       "      <td>0.400157</td>\n",
       "      <td>0.978738</td>\n",
       "      <td>2.240893</td>\n",
       "      <td>1.867558</td>\n",
       "    </tr>\n",
       "    <tr>\n",
       "      <th>1</th>\n",
       "      <td>-0.977278</td>\n",
       "      <td>0.950088</td>\n",
       "      <td>-0.151357</td>\n",
       "      <td>-0.103219</td>\n",
       "      <td>0.410599</td>\n",
       "    </tr>\n",
       "    <tr>\n",
       "      <th>2</th>\n",
       "      <td>0.144044</td>\n",
       "      <td>1.454274</td>\n",
       "      <td>0.761038</td>\n",
       "      <td>0.121675</td>\n",
       "      <td>0.443863</td>\n",
       "    </tr>\n",
       "    <tr>\n",
       "      <th>3</th>\n",
       "      <td>0.333674</td>\n",
       "      <td>1.494079</td>\n",
       "      <td>-0.205158</td>\n",
       "      <td>0.313068</td>\n",
       "      <td>-0.854096</td>\n",
       "    </tr>\n",
       "    <tr>\n",
       "      <th>4</th>\n",
       "      <td>-2.552990</td>\n",
       "      <td>0.653619</td>\n",
       "      <td>0.864436</td>\n",
       "      <td>-0.742165</td>\n",
       "      <td>2.269755</td>\n",
       "    </tr>\n",
       "    <tr>\n",
       "      <th>5</th>\n",
       "      <td>-1.454366</td>\n",
       "      <td>0.045759</td>\n",
       "      <td>-0.187184</td>\n",
       "      <td>1.532779</td>\n",
       "      <td>1.469359</td>\n",
       "    </tr>\n",
       "    <tr>\n",
       "      <th>6</th>\n",
       "      <td>0.154947</td>\n",
       "      <td>0.378163</td>\n",
       "      <td>-0.887786</td>\n",
       "      <td>-1.980796</td>\n",
       "      <td>-0.347912</td>\n",
       "    </tr>\n",
       "    <tr>\n",
       "      <th>7</th>\n",
       "      <td>0.156349</td>\n",
       "      <td>1.230291</td>\n",
       "      <td>1.202380</td>\n",
       "      <td>-0.387327</td>\n",
       "      <td>-0.302303</td>\n",
       "    </tr>\n",
       "    <tr>\n",
       "      <th>8</th>\n",
       "      <td>-1.048553</td>\n",
       "      <td>-1.420018</td>\n",
       "      <td>-1.706270</td>\n",
       "      <td>1.950775</td>\n",
       "      <td>-0.509652</td>\n",
       "    </tr>\n",
       "    <tr>\n",
       "      <th>9</th>\n",
       "      <td>-0.438074</td>\n",
       "      <td>-1.252795</td>\n",
       "      <td>0.777490</td>\n",
       "      <td>-1.613898</td>\n",
       "      <td>-0.212740</td>\n",
       "    </tr>\n",
       "    <tr>\n",
       "      <th>10</th>\n",
       "      <td>-0.895467</td>\n",
       "      <td>0.386902</td>\n",
       "      <td>-0.510805</td>\n",
       "      <td>-1.180632</td>\n",
       "      <td>-0.028182</td>\n",
       "    </tr>\n",
       "    <tr>\n",
       "      <th>11</th>\n",
       "      <td>0.428332</td>\n",
       "      <td>0.066517</td>\n",
       "      <td>0.302472</td>\n",
       "      <td>-0.634322</td>\n",
       "      <td>-0.362741</td>\n",
       "    </tr>\n",
       "    <tr>\n",
       "      <th>12</th>\n",
       "      <td>-0.672460</td>\n",
       "      <td>-0.359553</td>\n",
       "      <td>-0.813146</td>\n",
       "      <td>-1.726283</td>\n",
       "      <td>0.177426</td>\n",
       "    </tr>\n",
       "    <tr>\n",
       "      <th>13</th>\n",
       "      <td>-0.401781</td>\n",
       "      <td>-1.630198</td>\n",
       "      <td>0.462782</td>\n",
       "      <td>-0.907298</td>\n",
       "      <td>0.051945</td>\n",
       "    </tr>\n",
       "    <tr>\n",
       "      <th>14</th>\n",
       "      <td>0.729091</td>\n",
       "      <td>0.128983</td>\n",
       "      <td>1.139401</td>\n",
       "      <td>-1.234826</td>\n",
       "      <td>0.402342</td>\n",
       "    </tr>\n",
       "    <tr>\n",
       "      <th>15</th>\n",
       "      <td>-0.684810</td>\n",
       "      <td>-0.870797</td>\n",
       "      <td>-0.578850</td>\n",
       "      <td>-0.311553</td>\n",
       "      <td>0.056165</td>\n",
       "    </tr>\n",
       "    <tr>\n",
       "      <th>16</th>\n",
       "      <td>-1.165150</td>\n",
       "      <td>0.900826</td>\n",
       "      <td>0.465662</td>\n",
       "      <td>-1.536244</td>\n",
       "      <td>1.488252</td>\n",
       "    </tr>\n",
       "    <tr>\n",
       "      <th>17</th>\n",
       "      <td>1.895889</td>\n",
       "      <td>1.178780</td>\n",
       "      <td>-0.179925</td>\n",
       "      <td>-1.070753</td>\n",
       "      <td>1.054452</td>\n",
       "    </tr>\n",
       "    <tr>\n",
       "      <th>18</th>\n",
       "      <td>-0.403177</td>\n",
       "      <td>1.222445</td>\n",
       "      <td>0.208275</td>\n",
       "      <td>0.976639</td>\n",
       "      <td>0.356366</td>\n",
       "    </tr>\n",
       "    <tr>\n",
       "      <th>19</th>\n",
       "      <td>0.706573</td>\n",
       "      <td>0.010500</td>\n",
       "      <td>1.785870</td>\n",
       "      <td>0.126912</td>\n",
       "      <td>0.401989</td>\n",
       "    </tr>\n",
       "  </tbody>\n",
       "</table>\n",
       "</div>"
      ],
      "text/plain": [
       "           A         B         C         D         E\n",
       "0   1.764052  0.400157  0.978738  2.240893  1.867558\n",
       "1  -0.977278  0.950088 -0.151357 -0.103219  0.410599\n",
       "2   0.144044  1.454274  0.761038  0.121675  0.443863\n",
       "3   0.333674  1.494079 -0.205158  0.313068 -0.854096\n",
       "4  -2.552990  0.653619  0.864436 -0.742165  2.269755\n",
       "5  -1.454366  0.045759 -0.187184  1.532779  1.469359\n",
       "6   0.154947  0.378163 -0.887786 -1.980796 -0.347912\n",
       "7   0.156349  1.230291  1.202380 -0.387327 -0.302303\n",
       "8  -1.048553 -1.420018 -1.706270  1.950775 -0.509652\n",
       "9  -0.438074 -1.252795  0.777490 -1.613898 -0.212740\n",
       "10 -0.895467  0.386902 -0.510805 -1.180632 -0.028182\n",
       "11  0.428332  0.066517  0.302472 -0.634322 -0.362741\n",
       "12 -0.672460 -0.359553 -0.813146 -1.726283  0.177426\n",
       "13 -0.401781 -1.630198  0.462782 -0.907298  0.051945\n",
       "14  0.729091  0.128983  1.139401 -1.234826  0.402342\n",
       "15 -0.684810 -0.870797 -0.578850 -0.311553  0.056165\n",
       "16 -1.165150  0.900826  0.465662 -1.536244  1.488252\n",
       "17  1.895889  1.178780 -0.179925 -1.070753  1.054452\n",
       "18 -0.403177  1.222445  0.208275  0.976639  0.356366\n",
       "19  0.706573  0.010500  1.785870  0.126912  0.401989"
      ]
     },
     "metadata": {},
     "output_type": "display_data"
    }
   ],
   "source": [
    "display(df)"
   ]
  },
  {
   "cell_type": "markdown",
   "metadata": {
    "id": "-LGSh86jSh70"
   },
   "source": [
    "One of the useful methods we can call on our `DataFrame` is the `describe()` method which provides a statistical summary of our data. Here we can see the mean, std, min, max, ect stats for each feature or column in our `DataFrame`."
   ]
  },
  {
   "cell_type": "code",
   "execution_count": null,
   "metadata": {
    "id": "Ahf5A6GNSh70",
    "outputId": "7c1acf18-7365-4373-8eba-424646539ef6"
   },
   "outputs": [
    {
     "data": {
      "text/html": [
       "<div>\n",
       "<style scoped>\n",
       "    .dataframe tbody tr th:only-of-type {\n",
       "        vertical-align: middle;\n",
       "    }\n",
       "\n",
       "    .dataframe tbody tr th {\n",
       "        vertical-align: top;\n",
       "    }\n",
       "\n",
       "    .dataframe thead th {\n",
       "        text-align: right;\n",
       "    }\n",
       "</style>\n",
       "<table border=\"1\" class=\"dataframe\">\n",
       "  <thead>\n",
       "    <tr style=\"text-align: right;\">\n",
       "      <th></th>\n",
       "      <th>A</th>\n",
       "      <th>B</th>\n",
       "      <th>C</th>\n",
       "      <th>D</th>\n",
       "      <th>E</th>\n",
       "    </tr>\n",
       "  </thead>\n",
       "  <tbody>\n",
       "    <tr>\n",
       "      <th>count</th>\n",
       "      <td>20.000000</td>\n",
       "      <td>20.000000</td>\n",
       "      <td>20.000000</td>\n",
       "      <td>20.000000</td>\n",
       "      <td>20.000000</td>\n",
       "    </tr>\n",
       "    <tr>\n",
       "      <th>mean</th>\n",
       "      <td>-0.219058</td>\n",
       "      <td>0.248401</td>\n",
       "      <td>0.186403</td>\n",
       "      <td>-0.308329</td>\n",
       "      <td>0.391622</td>\n",
       "    </tr>\n",
       "    <tr>\n",
       "      <th>std</th>\n",
       "      <td>1.061908</td>\n",
       "      <td>0.953088</td>\n",
       "      <td>0.851692</td>\n",
       "      <td>1.220991</td>\n",
       "      <td>0.836367</td>\n",
       "    </tr>\n",
       "    <tr>\n",
       "      <th>min</th>\n",
       "      <td>-2.552990</td>\n",
       "      <td>-1.630198</td>\n",
       "      <td>-1.706270</td>\n",
       "      <td>-1.980796</td>\n",
       "      <td>-0.854096</td>\n",
       "    </tr>\n",
       "    <tr>\n",
       "      <th>25%</th>\n",
       "      <td>-0.915919</td>\n",
       "      <td>-0.082013</td>\n",
       "      <td>-0.281570</td>\n",
       "      <td>-1.194181</td>\n",
       "      <td>-0.235131</td>\n",
       "    </tr>\n",
       "    <tr>\n",
       "      <th>50%</th>\n",
       "      <td>-0.402479</td>\n",
       "      <td>0.382533</td>\n",
       "      <td>0.255373</td>\n",
       "      <td>-0.510824</td>\n",
       "      <td>0.266896</td>\n",
       "    </tr>\n",
       "    <tr>\n",
       "      <th>75%</th>\n",
       "      <td>0.357339</td>\n",
       "      <td>1.007261</td>\n",
       "      <td>0.799227</td>\n",
       "      <td>0.173451</td>\n",
       "      <td>0.596510</td>\n",
       "    </tr>\n",
       "    <tr>\n",
       "      <th>max</th>\n",
       "      <td>1.895889</td>\n",
       "      <td>1.494079</td>\n",
       "      <td>1.785870</td>\n",
       "      <td>2.240893</td>\n",
       "      <td>2.269755</td>\n",
       "    </tr>\n",
       "  </tbody>\n",
       "</table>\n",
       "</div>"
      ],
      "text/plain": [
       "               A          B          C          D          E\n",
       "count  20.000000  20.000000  20.000000  20.000000  20.000000\n",
       "mean   -0.219058   0.248401   0.186403  -0.308329   0.391622\n",
       "std     1.061908   0.953088   0.851692   1.220991   0.836367\n",
       "min    -2.552990  -1.630198  -1.706270  -1.980796  -0.854096\n",
       "25%    -0.915919  -0.082013  -0.281570  -1.194181  -0.235131\n",
       "50%    -0.402479   0.382533   0.255373  -0.510824   0.266896\n",
       "75%     0.357339   1.007261   0.799227   0.173451   0.596510\n",
       "max     1.895889   1.494079   1.785870   2.240893   2.269755"
      ]
     },
     "execution_count": 183,
     "metadata": {},
     "output_type": "execute_result"
    }
   ],
   "source": [
    "df.describe()"
   ]
  },
  {
   "cell_type": "markdown",
   "metadata": {
    "id": "8sgIstGXSh70"
   },
   "source": [
    "To get back out NumPy array we can use the `values` method."
   ]
  },
  {
   "cell_type": "code",
   "execution_count": null,
   "metadata": {
    "id": "OFCZB4m1Sh71",
    "outputId": "13852054-dcdd-445d-ab8a-033c08e6aebf"
   },
   "outputs": [
    {
     "data": {
      "text/plain": [
       "array([[ 1.76405235,  0.40015721,  0.97873798,  2.2408932 ,  1.86755799],\n",
       "       [-0.97727788,  0.95008842, -0.15135721, -0.10321885,  0.4105985 ],\n",
       "       [ 0.14404357,  1.45427351,  0.76103773,  0.12167502,  0.44386323],\n",
       "       [ 0.33367433,  1.49407907, -0.20515826,  0.3130677 , -0.85409574],\n",
       "       [-2.55298982,  0.6536186 ,  0.8644362 , -0.74216502,  2.26975462],\n",
       "       [-1.45436567,  0.04575852, -0.18718385,  1.53277921,  1.46935877],\n",
       "       [ 0.15494743,  0.37816252, -0.88778575, -1.98079647, -0.34791215],\n",
       "       [ 0.15634897,  1.23029068,  1.20237985, -0.38732682, -0.30230275],\n",
       "       [-1.04855297, -1.42001794, -1.70627019,  1.9507754 , -0.50965218],\n",
       "       [-0.4380743 , -1.25279536,  0.77749036, -1.61389785, -0.21274028],\n",
       "       [-0.89546656,  0.3869025 , -0.51080514, -1.18063218, -0.02818223],\n",
       "       [ 0.42833187,  0.06651722,  0.3024719 , -0.63432209, -0.36274117],\n",
       "       [-0.67246045, -0.35955316, -0.81314628, -1.7262826 ,  0.17742614],\n",
       "       [-0.40178094, -1.63019835,  0.46278226, -0.90729836,  0.0519454 ],\n",
       "       [ 0.72909056,  0.12898291,  1.13940068, -1.23482582,  0.40234164],\n",
       "       [-0.68481009, -0.87079715, -0.57884966, -0.31155253,  0.05616534],\n",
       "       [-1.16514984,  0.90082649,  0.46566244, -1.53624369,  1.48825219],\n",
       "       [ 1.89588918,  1.17877957, -0.17992484, -1.07075262,  1.05445173],\n",
       "       [-0.40317695,  1.22244507,  0.20827498,  0.97663904,  0.3563664 ],\n",
       "       [ 0.70657317,  0.01050002,  1.78587049,  0.12691209,  0.40198936]])"
      ]
     },
     "execution_count": 184,
     "metadata": {},
     "output_type": "execute_result"
    }
   ],
   "source": [
    "df.values"
   ]
  },
  {
   "cell_type": "markdown",
   "metadata": {
    "id": "ypJMqe4tSh71"
   },
   "source": [
    "Lastly, Pandas shares many similarly named methods to NumPy. For instance, if we wanted to check the shape of the `DataFrame` we still use the `shape` method."
   ]
  },
  {
   "cell_type": "code",
   "execution_count": null,
   "metadata": {
    "id": "augkbiaHSh71",
    "outputId": "981a6b13-2e00-40a9-a97f-832aa2d88db5"
   },
   "outputs": [
    {
     "data": {
      "text/plain": [
       "(20, 5)"
      ]
     },
     "execution_count": 185,
     "metadata": {},
     "output_type": "execute_result"
    }
   ],
   "source": [
    "df.shape"
   ]
  },
  {
   "cell_type": "markdown",
   "metadata": {
    "id": "NfzZIU_7Sh71"
   },
   "source": [
    "## Indexing DataFrames\n",
    "\n",
    "Indexing DataFrames can be a little weird for beginners as it is slightly different from NumPy. To index we have three options: `iloc`, `loc`, and brackets `[ ]`."
   ]
  },
  {
   "cell_type": "markdown",
   "metadata": {
    "id": "tCoP6sZqSh71"
   },
   "source": [
    "`iloc` ([docs](https://pandas.pydata.org/pandas-docs/stable/reference/api/pandas.DataFrame.iloc.html)) works similar to NumPy where you use integers to index the `DataFrame`. Note that the idea of dimensions still applies just like in NumPy."
   ]
  },
  {
   "cell_type": "markdown",
   "metadata": {
    "id": "9rOWEqSUSh71"
   },
   "source": [
    "To index the first row we can simply pass `0`."
   ]
  },
  {
   "cell_type": "code",
   "execution_count": 154,
   "metadata": {
    "colab": {
     "base_uri": "https://localhost:8080/"
    },
    "id": "qVy2AGDkSh71",
    "outputId": "aa214826-5a6c-4938-ff21-5ff277135d82"
   },
   "outputs": [
    {
     "data": {
      "text/plain": [
       "A    1.764052\n",
       "B    0.400157\n",
       "C    0.978738\n",
       "D    2.240893\n",
       "E    1.867558\n",
       "Name: 0, dtype: float64"
      ]
     },
     "execution_count": 154,
     "metadata": {},
     "output_type": "execute_result"
    }
   ],
   "source": [
    "df.iloc[0]"
   ]
  },
  {
   "cell_type": "markdown",
   "metadata": {
    "id": "N6QzSusrSh72"
   },
   "source": [
    "To index all rows we can pass `:` and to index the first column we can additionally pass `0` just like in NumPy."
   ]
  },
  {
   "cell_type": "code",
   "execution_count": 155,
   "metadata": {
    "colab": {
     "base_uri": "https://localhost:8080/"
    },
    "id": "NNgLahI8Sh72",
    "outputId": "d37d118c-45a1-4540-80e9-da203fd045f6"
   },
   "outputs": [
    {
     "data": {
      "text/plain": [
       "0     1.764052\n",
       "1    -0.977278\n",
       "2     0.144044\n",
       "3     0.333674\n",
       "4    -2.552990\n",
       "5    -1.454366\n",
       "6     0.154947\n",
       "7     0.156349\n",
       "8    -1.048553\n",
       "9    -0.438074\n",
       "10   -0.895467\n",
       "11    0.428332\n",
       "12   -0.672460\n",
       "13   -0.401781\n",
       "14    0.729091\n",
       "15   -0.684810\n",
       "16   -1.165150\n",
       "17    1.895889\n",
       "18   -0.403177\n",
       "19    0.706573\n",
       "Name: A, dtype: float64"
      ]
     },
     "execution_count": 155,
     "metadata": {},
     "output_type": "execute_result"
    }
   ],
   "source": [
    "df.iloc[:, 0]"
   ]
  },
  {
   "cell_type": "markdown",
   "metadata": {
    "id": "v5uiqvH_Sh72"
   },
   "source": [
    "Slicing a part of the `DataFrame` also works just like in NumPy."
   ]
  },
  {
   "cell_type": "code",
   "execution_count": 156,
   "metadata": {
    "colab": {
     "base_uri": "https://localhost:8080/",
     "height": 175
    },
    "id": "wd4WxeQRSh72",
    "outputId": "716c96ff-77f2-4a62-ae80-26015e8deea6"
   },
   "outputs": [
    {
     "data": {
      "text/html": [
       "\n",
       "  <div id=\"df-d446d074-fcad-46b0-8f61-a956bfbaf598\">\n",
       "    <div class=\"colab-df-container\">\n",
       "      <div>\n",
       "<style scoped>\n",
       "    .dataframe tbody tr th:only-of-type {\n",
       "        vertical-align: middle;\n",
       "    }\n",
       "\n",
       "    .dataframe tbody tr th {\n",
       "        vertical-align: top;\n",
       "    }\n",
       "\n",
       "    .dataframe thead th {\n",
       "        text-align: right;\n",
       "    }\n",
       "</style>\n",
       "<table border=\"1\" class=\"dataframe\">\n",
       "  <thead>\n",
       "    <tr style=\"text-align: right;\">\n",
       "      <th></th>\n",
       "      <th>C</th>\n",
       "      <th>D</th>\n",
       "    </tr>\n",
       "  </thead>\n",
       "  <tbody>\n",
       "    <tr>\n",
       "      <th>1</th>\n",
       "      <td>-0.151357</td>\n",
       "      <td>-0.103219</td>\n",
       "    </tr>\n",
       "    <tr>\n",
       "      <th>2</th>\n",
       "      <td>0.761038</td>\n",
       "      <td>0.121675</td>\n",
       "    </tr>\n",
       "    <tr>\n",
       "      <th>3</th>\n",
       "      <td>-0.205158</td>\n",
       "      <td>0.313068</td>\n",
       "    </tr>\n",
       "    <tr>\n",
       "      <th>4</th>\n",
       "      <td>0.864436</td>\n",
       "      <td>-0.742165</td>\n",
       "    </tr>\n",
       "  </tbody>\n",
       "</table>\n",
       "</div>\n",
       "      <button class=\"colab-df-convert\" onclick=\"convertToInteractive('df-d446d074-fcad-46b0-8f61-a956bfbaf598')\"\n",
       "              title=\"Convert this dataframe to an interactive table.\"\n",
       "              style=\"display:none;\">\n",
       "        \n",
       "  <svg xmlns=\"http://www.w3.org/2000/svg\" height=\"24px\"viewBox=\"0 0 24 24\"\n",
       "       width=\"24px\">\n",
       "    <path d=\"M0 0h24v24H0V0z\" fill=\"none\"/>\n",
       "    <path d=\"M18.56 5.44l.94 2.06.94-2.06 2.06-.94-2.06-.94-.94-2.06-.94 2.06-2.06.94zm-11 1L8.5 8.5l.94-2.06 2.06-.94-2.06-.94L8.5 2.5l-.94 2.06-2.06.94zm10 10l.94 2.06.94-2.06 2.06-.94-2.06-.94-.94-2.06-.94 2.06-2.06.94z\"/><path d=\"M17.41 7.96l-1.37-1.37c-.4-.4-.92-.59-1.43-.59-.52 0-1.04.2-1.43.59L10.3 9.45l-7.72 7.72c-.78.78-.78 2.05 0 2.83L4 21.41c.39.39.9.59 1.41.59.51 0 1.02-.2 1.41-.59l7.78-7.78 2.81-2.81c.8-.78.8-2.07 0-2.86zM5.41 20L4 18.59l7.72-7.72 1.47 1.35L5.41 20z\"/>\n",
       "  </svg>\n",
       "      </button>\n",
       "      \n",
       "  <style>\n",
       "    .colab-df-container {\n",
       "      display:flex;\n",
       "      flex-wrap:wrap;\n",
       "      gap: 12px;\n",
       "    }\n",
       "\n",
       "    .colab-df-convert {\n",
       "      background-color: #E8F0FE;\n",
       "      border: none;\n",
       "      border-radius: 50%;\n",
       "      cursor: pointer;\n",
       "      display: none;\n",
       "      fill: #1967D2;\n",
       "      height: 32px;\n",
       "      padding: 0 0 0 0;\n",
       "      width: 32px;\n",
       "    }\n",
       "\n",
       "    .colab-df-convert:hover {\n",
       "      background-color: #E2EBFA;\n",
       "      box-shadow: 0px 1px 2px rgba(60, 64, 67, 0.3), 0px 1px 3px 1px rgba(60, 64, 67, 0.15);\n",
       "      fill: #174EA6;\n",
       "    }\n",
       "\n",
       "    [theme=dark] .colab-df-convert {\n",
       "      background-color: #3B4455;\n",
       "      fill: #D2E3FC;\n",
       "    }\n",
       "\n",
       "    [theme=dark] .colab-df-convert:hover {\n",
       "      background-color: #434B5C;\n",
       "      box-shadow: 0px 1px 3px 1px rgba(0, 0, 0, 0.15);\n",
       "      filter: drop-shadow(0px 1px 2px rgba(0, 0, 0, 0.3));\n",
       "      fill: #FFFFFF;\n",
       "    }\n",
       "  </style>\n",
       "\n",
       "      <script>\n",
       "        const buttonEl =\n",
       "          document.querySelector('#df-d446d074-fcad-46b0-8f61-a956bfbaf598 button.colab-df-convert');\n",
       "        buttonEl.style.display =\n",
       "          google.colab.kernel.accessAllowed ? 'block' : 'none';\n",
       "\n",
       "        async function convertToInteractive(key) {\n",
       "          const element = document.querySelector('#df-d446d074-fcad-46b0-8f61-a956bfbaf598');\n",
       "          const dataTable =\n",
       "            await google.colab.kernel.invokeFunction('convertToInteractive',\n",
       "                                                     [key], {});\n",
       "          if (!dataTable) return;\n",
       "\n",
       "          const docLinkHtml = 'Like what you see? Visit the ' +\n",
       "            '<a target=\"_blank\" href=https://colab.research.google.com/notebooks/data_table.ipynb>data table notebook</a>'\n",
       "            + ' to learn more about interactive tables.';\n",
       "          element.innerHTML = '';\n",
       "          dataTable['output_type'] = 'display_data';\n",
       "          await google.colab.output.renderOutput(dataTable, element);\n",
       "          const docLink = document.createElement('div');\n",
       "          docLink.innerHTML = docLinkHtml;\n",
       "          element.appendChild(docLink);\n",
       "        }\n",
       "      </script>\n",
       "    </div>\n",
       "  </div>\n",
       "  "
      ],
      "text/plain": [
       "          C         D\n",
       "1 -0.151357 -0.103219\n",
       "2  0.761038  0.121675\n",
       "3 -0.205158  0.313068\n",
       "4  0.864436 -0.742165"
      ]
     },
     "execution_count": 156,
     "metadata": {},
     "output_type": "execute_result"
    }
   ],
   "source": [
    "df.iloc[1:5, 2:4]"
   ]
  },
  {
   "cell_type": "markdown",
   "metadata": {
    "id": "ILmCa7crSh72"
   },
   "source": [
    "Next, is `loc` ([docs](https://pandas.pydata.org/pandas-docs/stable/reference/api/pandas.DataFrame.loc.html)) which access the rows and columns of the `DataFrame` using the labels."
   ]
  },
  {
   "cell_type": "markdown",
   "metadata": {
    "id": "H0mkC5xFSh72"
   },
   "source": [
    "To see the labels for your rows you can use the `index` method. You can also manually set the `index` label but by default it is just a sequence of numbers."
   ]
  },
  {
   "cell_type": "code",
   "execution_count": 157,
   "metadata": {
    "colab": {
     "base_uri": "https://localhost:8080/"
    },
    "id": "p4YEoc3aSh72",
    "outputId": "5fc8a90a-829b-4fcd-b991-91fca9e0b59f"
   },
   "outputs": [
    {
     "data": {
      "text/plain": [
       "[0, 1, 2, 3, 4, 5, 6, 7, 8, 9, 10, 11, 12, 13, 14, 15, 16, 17, 18, 19]"
      ]
     },
     "execution_count": 157,
     "metadata": {},
     "output_type": "execute_result"
    }
   ],
   "source": [
    "list(df.index)"
   ]
  },
  {
   "cell_type": "markdown",
   "metadata": {
    "id": "dXnspq0hSh72"
   },
   "source": [
    "To see the labels for your columns you can use the `columns` method. Note, we set the columns when we created the `DataFrame`. You can also change the `column` labels after creation. "
   ]
  },
  {
   "cell_type": "code",
   "execution_count": 158,
   "metadata": {
    "colab": {
     "base_uri": "https://localhost:8080/"
    },
    "id": "LsWqHPPQSh73",
    "outputId": "f0de912f-c9a4-4402-bd2c-c6ef76f42913"
   },
   "outputs": [
    {
     "data": {
      "text/plain": [
       "Index(['A', 'B', 'C', 'D', 'E'], dtype='object')"
      ]
     },
     "execution_count": 158,
     "metadata": {},
     "output_type": "execute_result"
    }
   ],
   "source": [
    "df.columns"
   ]
  },
  {
   "cell_type": "markdown",
   "metadata": {
    "id": "2qhLkio4Sh73"
   },
   "source": [
    "Knowing what our row and column labels are we can now index using `iloc`. We can index a single row by referring to its label. In this case, it is just an integer so it works just like `loc`!"
   ]
  },
  {
   "cell_type": "code",
   "execution_count": 159,
   "metadata": {
    "colab": {
     "base_uri": "https://localhost:8080/"
    },
    "id": "TUwGKDewSh73",
    "outputId": "33ef6a78-4695-4d29-d5c0-c1d82c5eb4cd"
   },
   "outputs": [
    {
     "data": {
      "text/plain": [
       "A    1.764052\n",
       "B    0.400157\n",
       "C    0.978738\n",
       "D    2.240893\n",
       "E    1.867558\n",
       "Name: 0, dtype: float64"
      ]
     },
     "execution_count": 159,
     "metadata": {},
     "output_type": "execute_result"
    }
   ],
   "source": [
    "df.loc[0]"
   ]
  },
  {
   "cell_type": "markdown",
   "metadata": {
    "id": "4vqDVQnjSh73"
   },
   "source": [
    "We can index all rows using `:` and a single column by referring to its label as well."
   ]
  },
  {
   "cell_type": "code",
   "execution_count": 160,
   "metadata": {
    "colab": {
     "base_uri": "https://localhost:8080/"
    },
    "id": "3HTIRErvSh73",
    "outputId": "5403c972-72a6-45e7-ccf5-cee69e23efaa"
   },
   "outputs": [
    {
     "data": {
      "text/plain": [
       "0     1.764052\n",
       "1    -0.977278\n",
       "2     0.144044\n",
       "3     0.333674\n",
       "4    -2.552990\n",
       "5    -1.454366\n",
       "6     0.154947\n",
       "7     0.156349\n",
       "8    -1.048553\n",
       "9    -0.438074\n",
       "10   -0.895467\n",
       "11    0.428332\n",
       "12   -0.672460\n",
       "13   -0.401781\n",
       "14    0.729091\n",
       "15   -0.684810\n",
       "16   -1.165150\n",
       "17    1.895889\n",
       "18   -0.403177\n",
       "19    0.706573\n",
       "Name: A, dtype: float64"
      ]
     },
     "execution_count": 160,
     "metadata": {},
     "output_type": "execute_result"
    }
   ],
   "source": [
    "df.loc[:, 'A']"
   ]
  },
  {
   "cell_type": "markdown",
   "metadata": {
    "id": "tYxwjM6fSh73"
   },
   "source": [
    "Since we only passed a single column a Pandas `Series` ([docs](https://pandas.pydata.org/pandas-docs/stable/reference/api/pandas.Series.html)) was returned instead of another `DataFrame`. A `Series` is essentially just a 1D DataFrame. (Notice some of the nice formating features are gone!)"
   ]
  },
  {
   "cell_type": "code",
   "execution_count": 161,
   "metadata": {
    "colab": {
     "base_uri": "https://localhost:8080/"
    },
    "id": "cTTBIMEaSh73",
    "outputId": "32a4262c-4589-4af5-fa9b-d52f3482b5b3"
   },
   "outputs": [
    {
     "data": {
      "text/plain": [
       "pandas.core.series.Series"
      ]
     },
     "execution_count": 161,
     "metadata": {},
     "output_type": "execute_result"
    }
   ],
   "source": [
    "type(df.loc[:, 'A'])"
   ]
  },
  {
   "cell_type": "markdown",
   "metadata": {
    "id": "ijEAkvd8Sh73"
   },
   "source": [
    "To get back a `DataFrame` simply pass the desired column in a list."
   ]
  },
  {
   "cell_type": "code",
   "execution_count": 162,
   "metadata": {
    "colab": {
     "base_uri": "https://localhost:8080/",
     "height": 677
    },
    "id": "QycDYd8fSh73",
    "outputId": "d410a424-7a8e-4c18-b4a2-5c3fb81d4b84"
   },
   "outputs": [
    {
     "data": {
      "text/html": [
       "\n",
       "  <div id=\"df-4e550bda-ec22-4a8f-9af0-005396a79e41\">\n",
       "    <div class=\"colab-df-container\">\n",
       "      <div>\n",
       "<style scoped>\n",
       "    .dataframe tbody tr th:only-of-type {\n",
       "        vertical-align: middle;\n",
       "    }\n",
       "\n",
       "    .dataframe tbody tr th {\n",
       "        vertical-align: top;\n",
       "    }\n",
       "\n",
       "    .dataframe thead th {\n",
       "        text-align: right;\n",
       "    }\n",
       "</style>\n",
       "<table border=\"1\" class=\"dataframe\">\n",
       "  <thead>\n",
       "    <tr style=\"text-align: right;\">\n",
       "      <th></th>\n",
       "      <th>A</th>\n",
       "    </tr>\n",
       "  </thead>\n",
       "  <tbody>\n",
       "    <tr>\n",
       "      <th>0</th>\n",
       "      <td>1.764052</td>\n",
       "    </tr>\n",
       "    <tr>\n",
       "      <th>1</th>\n",
       "      <td>-0.977278</td>\n",
       "    </tr>\n",
       "    <tr>\n",
       "      <th>2</th>\n",
       "      <td>0.144044</td>\n",
       "    </tr>\n",
       "    <tr>\n",
       "      <th>3</th>\n",
       "      <td>0.333674</td>\n",
       "    </tr>\n",
       "    <tr>\n",
       "      <th>4</th>\n",
       "      <td>-2.552990</td>\n",
       "    </tr>\n",
       "    <tr>\n",
       "      <th>5</th>\n",
       "      <td>-1.454366</td>\n",
       "    </tr>\n",
       "    <tr>\n",
       "      <th>6</th>\n",
       "      <td>0.154947</td>\n",
       "    </tr>\n",
       "    <tr>\n",
       "      <th>7</th>\n",
       "      <td>0.156349</td>\n",
       "    </tr>\n",
       "    <tr>\n",
       "      <th>8</th>\n",
       "      <td>-1.048553</td>\n",
       "    </tr>\n",
       "    <tr>\n",
       "      <th>9</th>\n",
       "      <td>-0.438074</td>\n",
       "    </tr>\n",
       "    <tr>\n",
       "      <th>10</th>\n",
       "      <td>-0.895467</td>\n",
       "    </tr>\n",
       "    <tr>\n",
       "      <th>11</th>\n",
       "      <td>0.428332</td>\n",
       "    </tr>\n",
       "    <tr>\n",
       "      <th>12</th>\n",
       "      <td>-0.672460</td>\n",
       "    </tr>\n",
       "    <tr>\n",
       "      <th>13</th>\n",
       "      <td>-0.401781</td>\n",
       "    </tr>\n",
       "    <tr>\n",
       "      <th>14</th>\n",
       "      <td>0.729091</td>\n",
       "    </tr>\n",
       "    <tr>\n",
       "      <th>15</th>\n",
       "      <td>-0.684810</td>\n",
       "    </tr>\n",
       "    <tr>\n",
       "      <th>16</th>\n",
       "      <td>-1.165150</td>\n",
       "    </tr>\n",
       "    <tr>\n",
       "      <th>17</th>\n",
       "      <td>1.895889</td>\n",
       "    </tr>\n",
       "    <tr>\n",
       "      <th>18</th>\n",
       "      <td>-0.403177</td>\n",
       "    </tr>\n",
       "    <tr>\n",
       "      <th>19</th>\n",
       "      <td>0.706573</td>\n",
       "    </tr>\n",
       "  </tbody>\n",
       "</table>\n",
       "</div>\n",
       "      <button class=\"colab-df-convert\" onclick=\"convertToInteractive('df-4e550bda-ec22-4a8f-9af0-005396a79e41')\"\n",
       "              title=\"Convert this dataframe to an interactive table.\"\n",
       "              style=\"display:none;\">\n",
       "        \n",
       "  <svg xmlns=\"http://www.w3.org/2000/svg\" height=\"24px\"viewBox=\"0 0 24 24\"\n",
       "       width=\"24px\">\n",
       "    <path d=\"M0 0h24v24H0V0z\" fill=\"none\"/>\n",
       "    <path d=\"M18.56 5.44l.94 2.06.94-2.06 2.06-.94-2.06-.94-.94-2.06-.94 2.06-2.06.94zm-11 1L8.5 8.5l.94-2.06 2.06-.94-2.06-.94L8.5 2.5l-.94 2.06-2.06.94zm10 10l.94 2.06.94-2.06 2.06-.94-2.06-.94-.94-2.06-.94 2.06-2.06.94z\"/><path d=\"M17.41 7.96l-1.37-1.37c-.4-.4-.92-.59-1.43-.59-.52 0-1.04.2-1.43.59L10.3 9.45l-7.72 7.72c-.78.78-.78 2.05 0 2.83L4 21.41c.39.39.9.59 1.41.59.51 0 1.02-.2 1.41-.59l7.78-7.78 2.81-2.81c.8-.78.8-2.07 0-2.86zM5.41 20L4 18.59l7.72-7.72 1.47 1.35L5.41 20z\"/>\n",
       "  </svg>\n",
       "      </button>\n",
       "      \n",
       "  <style>\n",
       "    .colab-df-container {\n",
       "      display:flex;\n",
       "      flex-wrap:wrap;\n",
       "      gap: 12px;\n",
       "    }\n",
       "\n",
       "    .colab-df-convert {\n",
       "      background-color: #E8F0FE;\n",
       "      border: none;\n",
       "      border-radius: 50%;\n",
       "      cursor: pointer;\n",
       "      display: none;\n",
       "      fill: #1967D2;\n",
       "      height: 32px;\n",
       "      padding: 0 0 0 0;\n",
       "      width: 32px;\n",
       "    }\n",
       "\n",
       "    .colab-df-convert:hover {\n",
       "      background-color: #E2EBFA;\n",
       "      box-shadow: 0px 1px 2px rgba(60, 64, 67, 0.3), 0px 1px 3px 1px rgba(60, 64, 67, 0.15);\n",
       "      fill: #174EA6;\n",
       "    }\n",
       "\n",
       "    [theme=dark] .colab-df-convert {\n",
       "      background-color: #3B4455;\n",
       "      fill: #D2E3FC;\n",
       "    }\n",
       "\n",
       "    [theme=dark] .colab-df-convert:hover {\n",
       "      background-color: #434B5C;\n",
       "      box-shadow: 0px 1px 3px 1px rgba(0, 0, 0, 0.15);\n",
       "      filter: drop-shadow(0px 1px 2px rgba(0, 0, 0, 0.3));\n",
       "      fill: #FFFFFF;\n",
       "    }\n",
       "  </style>\n",
       "\n",
       "      <script>\n",
       "        const buttonEl =\n",
       "          document.querySelector('#df-4e550bda-ec22-4a8f-9af0-005396a79e41 button.colab-df-convert');\n",
       "        buttonEl.style.display =\n",
       "          google.colab.kernel.accessAllowed ? 'block' : 'none';\n",
       "\n",
       "        async function convertToInteractive(key) {\n",
       "          const element = document.querySelector('#df-4e550bda-ec22-4a8f-9af0-005396a79e41');\n",
       "          const dataTable =\n",
       "            await google.colab.kernel.invokeFunction('convertToInteractive',\n",
       "                                                     [key], {});\n",
       "          if (!dataTable) return;\n",
       "\n",
       "          const docLinkHtml = 'Like what you see? Visit the ' +\n",
       "            '<a target=\"_blank\" href=https://colab.research.google.com/notebooks/data_table.ipynb>data table notebook</a>'\n",
       "            + ' to learn more about interactive tables.';\n",
       "          element.innerHTML = '';\n",
       "          dataTable['output_type'] = 'display_data';\n",
       "          await google.colab.output.renderOutput(dataTable, element);\n",
       "          const docLink = document.createElement('div');\n",
       "          docLink.innerHTML = docLinkHtml;\n",
       "          element.appendChild(docLink);\n",
       "        }\n",
       "      </script>\n",
       "    </div>\n",
       "  </div>\n",
       "  "
      ],
      "text/plain": [
       "           A\n",
       "0   1.764052\n",
       "1  -0.977278\n",
       "2   0.144044\n",
       "3   0.333674\n",
       "4  -2.552990\n",
       "5  -1.454366\n",
       "6   0.154947\n",
       "7   0.156349\n",
       "8  -1.048553\n",
       "9  -0.438074\n",
       "10 -0.895467\n",
       "11  0.428332\n",
       "12 -0.672460\n",
       "13 -0.401781\n",
       "14  0.729091\n",
       "15 -0.684810\n",
       "16 -1.165150\n",
       "17  1.895889\n",
       "18 -0.403177\n",
       "19  0.706573"
      ]
     },
     "execution_count": 162,
     "metadata": {},
     "output_type": "execute_result"
    }
   ],
   "source": [
    "df.loc[:, ['A']]"
   ]
  },
  {
   "cell_type": "code",
   "execution_count": 163,
   "metadata": {
    "colab": {
     "base_uri": "https://localhost:8080/"
    },
    "id": "CMWa5d0qSh74",
    "outputId": "81eea9f2-3dce-418c-cd46-426e6ac347dc"
   },
   "outputs": [
    {
     "data": {
      "text/plain": [
       "pandas.core.frame.DataFrame"
      ]
     },
     "execution_count": 163,
     "metadata": {},
     "output_type": "execute_result"
    }
   ],
   "source": [
    "type(df.loc[:, ['A']])"
   ]
  },
  {
   "cell_type": "markdown",
   "metadata": {
    "id": "qpHmDaqASh74"
   },
   "source": [
    "Further, a group of columns also just requires a list of labels to be passed."
   ]
  },
  {
   "cell_type": "code",
   "execution_count": 164,
   "metadata": {
    "colab": {
     "base_uri": "https://localhost:8080/",
     "height": 677
    },
    "id": "6gt_8JjxSh74",
    "outputId": "03f0d6a9-c20a-4bf0-a62c-c22ba1595be7"
   },
   "outputs": [
    {
     "data": {
      "text/html": [
       "\n",
       "  <div id=\"df-9be4e846-591b-430a-8a56-a62689fe1847\">\n",
       "    <div class=\"colab-df-container\">\n",
       "      <div>\n",
       "<style scoped>\n",
       "    .dataframe tbody tr th:only-of-type {\n",
       "        vertical-align: middle;\n",
       "    }\n",
       "\n",
       "    .dataframe tbody tr th {\n",
       "        vertical-align: top;\n",
       "    }\n",
       "\n",
       "    .dataframe thead th {\n",
       "        text-align: right;\n",
       "    }\n",
       "</style>\n",
       "<table border=\"1\" class=\"dataframe\">\n",
       "  <thead>\n",
       "    <tr style=\"text-align: right;\">\n",
       "      <th></th>\n",
       "      <th>A</th>\n",
       "      <th>C</th>\n",
       "    </tr>\n",
       "  </thead>\n",
       "  <tbody>\n",
       "    <tr>\n",
       "      <th>0</th>\n",
       "      <td>1.764052</td>\n",
       "      <td>0.978738</td>\n",
       "    </tr>\n",
       "    <tr>\n",
       "      <th>1</th>\n",
       "      <td>-0.977278</td>\n",
       "      <td>-0.151357</td>\n",
       "    </tr>\n",
       "    <tr>\n",
       "      <th>2</th>\n",
       "      <td>0.144044</td>\n",
       "      <td>0.761038</td>\n",
       "    </tr>\n",
       "    <tr>\n",
       "      <th>3</th>\n",
       "      <td>0.333674</td>\n",
       "      <td>-0.205158</td>\n",
       "    </tr>\n",
       "    <tr>\n",
       "      <th>4</th>\n",
       "      <td>-2.552990</td>\n",
       "      <td>0.864436</td>\n",
       "    </tr>\n",
       "    <tr>\n",
       "      <th>5</th>\n",
       "      <td>-1.454366</td>\n",
       "      <td>-0.187184</td>\n",
       "    </tr>\n",
       "    <tr>\n",
       "      <th>6</th>\n",
       "      <td>0.154947</td>\n",
       "      <td>-0.887786</td>\n",
       "    </tr>\n",
       "    <tr>\n",
       "      <th>7</th>\n",
       "      <td>0.156349</td>\n",
       "      <td>1.202380</td>\n",
       "    </tr>\n",
       "    <tr>\n",
       "      <th>8</th>\n",
       "      <td>-1.048553</td>\n",
       "      <td>-1.706270</td>\n",
       "    </tr>\n",
       "    <tr>\n",
       "      <th>9</th>\n",
       "      <td>-0.438074</td>\n",
       "      <td>0.777490</td>\n",
       "    </tr>\n",
       "    <tr>\n",
       "      <th>10</th>\n",
       "      <td>-0.895467</td>\n",
       "      <td>-0.510805</td>\n",
       "    </tr>\n",
       "    <tr>\n",
       "      <th>11</th>\n",
       "      <td>0.428332</td>\n",
       "      <td>0.302472</td>\n",
       "    </tr>\n",
       "    <tr>\n",
       "      <th>12</th>\n",
       "      <td>-0.672460</td>\n",
       "      <td>-0.813146</td>\n",
       "    </tr>\n",
       "    <tr>\n",
       "      <th>13</th>\n",
       "      <td>-0.401781</td>\n",
       "      <td>0.462782</td>\n",
       "    </tr>\n",
       "    <tr>\n",
       "      <th>14</th>\n",
       "      <td>0.729091</td>\n",
       "      <td>1.139401</td>\n",
       "    </tr>\n",
       "    <tr>\n",
       "      <th>15</th>\n",
       "      <td>-0.684810</td>\n",
       "      <td>-0.578850</td>\n",
       "    </tr>\n",
       "    <tr>\n",
       "      <th>16</th>\n",
       "      <td>-1.165150</td>\n",
       "      <td>0.465662</td>\n",
       "    </tr>\n",
       "    <tr>\n",
       "      <th>17</th>\n",
       "      <td>1.895889</td>\n",
       "      <td>-0.179925</td>\n",
       "    </tr>\n",
       "    <tr>\n",
       "      <th>18</th>\n",
       "      <td>-0.403177</td>\n",
       "      <td>0.208275</td>\n",
       "    </tr>\n",
       "    <tr>\n",
       "      <th>19</th>\n",
       "      <td>0.706573</td>\n",
       "      <td>1.785870</td>\n",
       "    </tr>\n",
       "  </tbody>\n",
       "</table>\n",
       "</div>\n",
       "      <button class=\"colab-df-convert\" onclick=\"convertToInteractive('df-9be4e846-591b-430a-8a56-a62689fe1847')\"\n",
       "              title=\"Convert this dataframe to an interactive table.\"\n",
       "              style=\"display:none;\">\n",
       "        \n",
       "  <svg xmlns=\"http://www.w3.org/2000/svg\" height=\"24px\"viewBox=\"0 0 24 24\"\n",
       "       width=\"24px\">\n",
       "    <path d=\"M0 0h24v24H0V0z\" fill=\"none\"/>\n",
       "    <path d=\"M18.56 5.44l.94 2.06.94-2.06 2.06-.94-2.06-.94-.94-2.06-.94 2.06-2.06.94zm-11 1L8.5 8.5l.94-2.06 2.06-.94-2.06-.94L8.5 2.5l-.94 2.06-2.06.94zm10 10l.94 2.06.94-2.06 2.06-.94-2.06-.94-.94-2.06-.94 2.06-2.06.94z\"/><path d=\"M17.41 7.96l-1.37-1.37c-.4-.4-.92-.59-1.43-.59-.52 0-1.04.2-1.43.59L10.3 9.45l-7.72 7.72c-.78.78-.78 2.05 0 2.83L4 21.41c.39.39.9.59 1.41.59.51 0 1.02-.2 1.41-.59l7.78-7.78 2.81-2.81c.8-.78.8-2.07 0-2.86zM5.41 20L4 18.59l7.72-7.72 1.47 1.35L5.41 20z\"/>\n",
       "  </svg>\n",
       "      </button>\n",
       "      \n",
       "  <style>\n",
       "    .colab-df-container {\n",
       "      display:flex;\n",
       "      flex-wrap:wrap;\n",
       "      gap: 12px;\n",
       "    }\n",
       "\n",
       "    .colab-df-convert {\n",
       "      background-color: #E8F0FE;\n",
       "      border: none;\n",
       "      border-radius: 50%;\n",
       "      cursor: pointer;\n",
       "      display: none;\n",
       "      fill: #1967D2;\n",
       "      height: 32px;\n",
       "      padding: 0 0 0 0;\n",
       "      width: 32px;\n",
       "    }\n",
       "\n",
       "    .colab-df-convert:hover {\n",
       "      background-color: #E2EBFA;\n",
       "      box-shadow: 0px 1px 2px rgba(60, 64, 67, 0.3), 0px 1px 3px 1px rgba(60, 64, 67, 0.15);\n",
       "      fill: #174EA6;\n",
       "    }\n",
       "\n",
       "    [theme=dark] .colab-df-convert {\n",
       "      background-color: #3B4455;\n",
       "      fill: #D2E3FC;\n",
       "    }\n",
       "\n",
       "    [theme=dark] .colab-df-convert:hover {\n",
       "      background-color: #434B5C;\n",
       "      box-shadow: 0px 1px 3px 1px rgba(0, 0, 0, 0.15);\n",
       "      filter: drop-shadow(0px 1px 2px rgba(0, 0, 0, 0.3));\n",
       "      fill: #FFFFFF;\n",
       "    }\n",
       "  </style>\n",
       "\n",
       "      <script>\n",
       "        const buttonEl =\n",
       "          document.querySelector('#df-9be4e846-591b-430a-8a56-a62689fe1847 button.colab-df-convert');\n",
       "        buttonEl.style.display =\n",
       "          google.colab.kernel.accessAllowed ? 'block' : 'none';\n",
       "\n",
       "        async function convertToInteractive(key) {\n",
       "          const element = document.querySelector('#df-9be4e846-591b-430a-8a56-a62689fe1847');\n",
       "          const dataTable =\n",
       "            await google.colab.kernel.invokeFunction('convertToInteractive',\n",
       "                                                     [key], {});\n",
       "          if (!dataTable) return;\n",
       "\n",
       "          const docLinkHtml = 'Like what you see? Visit the ' +\n",
       "            '<a target=\"_blank\" href=https://colab.research.google.com/notebooks/data_table.ipynb>data table notebook</a>'\n",
       "            + ' to learn more about interactive tables.';\n",
       "          element.innerHTML = '';\n",
       "          dataTable['output_type'] = 'display_data';\n",
       "          await google.colab.output.renderOutput(dataTable, element);\n",
       "          const docLink = document.createElement('div');\n",
       "          docLink.innerHTML = docLinkHtml;\n",
       "          element.appendChild(docLink);\n",
       "        }\n",
       "      </script>\n",
       "    </div>\n",
       "  </div>\n",
       "  "
      ],
      "text/plain": [
       "           A         C\n",
       "0   1.764052  0.978738\n",
       "1  -0.977278 -0.151357\n",
       "2   0.144044  0.761038\n",
       "3   0.333674 -0.205158\n",
       "4  -2.552990  0.864436\n",
       "5  -1.454366 -0.187184\n",
       "6   0.154947 -0.887786\n",
       "7   0.156349  1.202380\n",
       "8  -1.048553 -1.706270\n",
       "9  -0.438074  0.777490\n",
       "10 -0.895467 -0.510805\n",
       "11  0.428332  0.302472\n",
       "12 -0.672460 -0.813146\n",
       "13 -0.401781  0.462782\n",
       "14  0.729091  1.139401\n",
       "15 -0.684810 -0.578850\n",
       "16 -1.165150  0.465662\n",
       "17  1.895889 -0.179925\n",
       "18 -0.403177  0.208275\n",
       "19  0.706573  1.785870"
      ]
     },
     "execution_count": 164,
     "metadata": {},
     "output_type": "execute_result"
    }
   ],
   "source": [
    "df.loc[:, ['A', 'C']]"
   ]
  },
  {
   "cell_type": "markdown",
   "metadata": {
    "id": "asCkK_gTSh74"
   },
   "source": [
    "Lastly, to quickly access just columns you can simply use `[ ]` following the `DataFrame`."
   ]
  },
  {
   "cell_type": "code",
   "execution_count": 165,
   "metadata": {
    "colab": {
     "base_uri": "https://localhost:8080/",
     "height": 677
    },
    "id": "FToCEgS_Sh74",
    "outputId": "c5553eff-200c-43c8-a8a1-6d6c1525fc6b"
   },
   "outputs": [
    {
     "data": {
      "text/html": [
       "\n",
       "  <div id=\"df-7f6e17b4-077b-4068-9275-bed53a6ebbf5\">\n",
       "    <div class=\"colab-df-container\">\n",
       "      <div>\n",
       "<style scoped>\n",
       "    .dataframe tbody tr th:only-of-type {\n",
       "        vertical-align: middle;\n",
       "    }\n",
       "\n",
       "    .dataframe tbody tr th {\n",
       "        vertical-align: top;\n",
       "    }\n",
       "\n",
       "    .dataframe thead th {\n",
       "        text-align: right;\n",
       "    }\n",
       "</style>\n",
       "<table border=\"1\" class=\"dataframe\">\n",
       "  <thead>\n",
       "    <tr style=\"text-align: right;\">\n",
       "      <th></th>\n",
       "      <th>A</th>\n",
       "    </tr>\n",
       "  </thead>\n",
       "  <tbody>\n",
       "    <tr>\n",
       "      <th>0</th>\n",
       "      <td>1.764052</td>\n",
       "    </tr>\n",
       "    <tr>\n",
       "      <th>1</th>\n",
       "      <td>-0.977278</td>\n",
       "    </tr>\n",
       "    <tr>\n",
       "      <th>2</th>\n",
       "      <td>0.144044</td>\n",
       "    </tr>\n",
       "    <tr>\n",
       "      <th>3</th>\n",
       "      <td>0.333674</td>\n",
       "    </tr>\n",
       "    <tr>\n",
       "      <th>4</th>\n",
       "      <td>-2.552990</td>\n",
       "    </tr>\n",
       "    <tr>\n",
       "      <th>5</th>\n",
       "      <td>-1.454366</td>\n",
       "    </tr>\n",
       "    <tr>\n",
       "      <th>6</th>\n",
       "      <td>0.154947</td>\n",
       "    </tr>\n",
       "    <tr>\n",
       "      <th>7</th>\n",
       "      <td>0.156349</td>\n",
       "    </tr>\n",
       "    <tr>\n",
       "      <th>8</th>\n",
       "      <td>-1.048553</td>\n",
       "    </tr>\n",
       "    <tr>\n",
       "      <th>9</th>\n",
       "      <td>-0.438074</td>\n",
       "    </tr>\n",
       "    <tr>\n",
       "      <th>10</th>\n",
       "      <td>-0.895467</td>\n",
       "    </tr>\n",
       "    <tr>\n",
       "      <th>11</th>\n",
       "      <td>0.428332</td>\n",
       "    </tr>\n",
       "    <tr>\n",
       "      <th>12</th>\n",
       "      <td>-0.672460</td>\n",
       "    </tr>\n",
       "    <tr>\n",
       "      <th>13</th>\n",
       "      <td>-0.401781</td>\n",
       "    </tr>\n",
       "    <tr>\n",
       "      <th>14</th>\n",
       "      <td>0.729091</td>\n",
       "    </tr>\n",
       "    <tr>\n",
       "      <th>15</th>\n",
       "      <td>-0.684810</td>\n",
       "    </tr>\n",
       "    <tr>\n",
       "      <th>16</th>\n",
       "      <td>-1.165150</td>\n",
       "    </tr>\n",
       "    <tr>\n",
       "      <th>17</th>\n",
       "      <td>1.895889</td>\n",
       "    </tr>\n",
       "    <tr>\n",
       "      <th>18</th>\n",
       "      <td>-0.403177</td>\n",
       "    </tr>\n",
       "    <tr>\n",
       "      <th>19</th>\n",
       "      <td>0.706573</td>\n",
       "    </tr>\n",
       "  </tbody>\n",
       "</table>\n",
       "</div>\n",
       "      <button class=\"colab-df-convert\" onclick=\"convertToInteractive('df-7f6e17b4-077b-4068-9275-bed53a6ebbf5')\"\n",
       "              title=\"Convert this dataframe to an interactive table.\"\n",
       "              style=\"display:none;\">\n",
       "        \n",
       "  <svg xmlns=\"http://www.w3.org/2000/svg\" height=\"24px\"viewBox=\"0 0 24 24\"\n",
       "       width=\"24px\">\n",
       "    <path d=\"M0 0h24v24H0V0z\" fill=\"none\"/>\n",
       "    <path d=\"M18.56 5.44l.94 2.06.94-2.06 2.06-.94-2.06-.94-.94-2.06-.94 2.06-2.06.94zm-11 1L8.5 8.5l.94-2.06 2.06-.94-2.06-.94L8.5 2.5l-.94 2.06-2.06.94zm10 10l.94 2.06.94-2.06 2.06-.94-2.06-.94-.94-2.06-.94 2.06-2.06.94z\"/><path d=\"M17.41 7.96l-1.37-1.37c-.4-.4-.92-.59-1.43-.59-.52 0-1.04.2-1.43.59L10.3 9.45l-7.72 7.72c-.78.78-.78 2.05 0 2.83L4 21.41c.39.39.9.59 1.41.59.51 0 1.02-.2 1.41-.59l7.78-7.78 2.81-2.81c.8-.78.8-2.07 0-2.86zM5.41 20L4 18.59l7.72-7.72 1.47 1.35L5.41 20z\"/>\n",
       "  </svg>\n",
       "      </button>\n",
       "      \n",
       "  <style>\n",
       "    .colab-df-container {\n",
       "      display:flex;\n",
       "      flex-wrap:wrap;\n",
       "      gap: 12px;\n",
       "    }\n",
       "\n",
       "    .colab-df-convert {\n",
       "      background-color: #E8F0FE;\n",
       "      border: none;\n",
       "      border-radius: 50%;\n",
       "      cursor: pointer;\n",
       "      display: none;\n",
       "      fill: #1967D2;\n",
       "      height: 32px;\n",
       "      padding: 0 0 0 0;\n",
       "      width: 32px;\n",
       "    }\n",
       "\n",
       "    .colab-df-convert:hover {\n",
       "      background-color: #E2EBFA;\n",
       "      box-shadow: 0px 1px 2px rgba(60, 64, 67, 0.3), 0px 1px 3px 1px rgba(60, 64, 67, 0.15);\n",
       "      fill: #174EA6;\n",
       "    }\n",
       "\n",
       "    [theme=dark] .colab-df-convert {\n",
       "      background-color: #3B4455;\n",
       "      fill: #D2E3FC;\n",
       "    }\n",
       "\n",
       "    [theme=dark] .colab-df-convert:hover {\n",
       "      background-color: #434B5C;\n",
       "      box-shadow: 0px 1px 3px 1px rgba(0, 0, 0, 0.15);\n",
       "      filter: drop-shadow(0px 1px 2px rgba(0, 0, 0, 0.3));\n",
       "      fill: #FFFFFF;\n",
       "    }\n",
       "  </style>\n",
       "\n",
       "      <script>\n",
       "        const buttonEl =\n",
       "          document.querySelector('#df-7f6e17b4-077b-4068-9275-bed53a6ebbf5 button.colab-df-convert');\n",
       "        buttonEl.style.display =\n",
       "          google.colab.kernel.accessAllowed ? 'block' : 'none';\n",
       "\n",
       "        async function convertToInteractive(key) {\n",
       "          const element = document.querySelector('#df-7f6e17b4-077b-4068-9275-bed53a6ebbf5');\n",
       "          const dataTable =\n",
       "            await google.colab.kernel.invokeFunction('convertToInteractive',\n",
       "                                                     [key], {});\n",
       "          if (!dataTable) return;\n",
       "\n",
       "          const docLinkHtml = 'Like what you see? Visit the ' +\n",
       "            '<a target=\"_blank\" href=https://colab.research.google.com/notebooks/data_table.ipynb>data table notebook</a>'\n",
       "            + ' to learn more about interactive tables.';\n",
       "          element.innerHTML = '';\n",
       "          dataTable['output_type'] = 'display_data';\n",
       "          await google.colab.output.renderOutput(dataTable, element);\n",
       "          const docLink = document.createElement('div');\n",
       "          docLink.innerHTML = docLinkHtml;\n",
       "          element.appendChild(docLink);\n",
       "        }\n",
       "      </script>\n",
       "    </div>\n",
       "  </div>\n",
       "  "
      ],
      "text/plain": [
       "           A\n",
       "0   1.764052\n",
       "1  -0.977278\n",
       "2   0.144044\n",
       "3   0.333674\n",
       "4  -2.552990\n",
       "5  -1.454366\n",
       "6   0.154947\n",
       "7   0.156349\n",
       "8  -1.048553\n",
       "9  -0.438074\n",
       "10 -0.895467\n",
       "11  0.428332\n",
       "12 -0.672460\n",
       "13 -0.401781\n",
       "14  0.729091\n",
       "15 -0.684810\n",
       "16 -1.165150\n",
       "17  1.895889\n",
       "18 -0.403177\n",
       "19  0.706573"
      ]
     },
     "execution_count": 165,
     "metadata": {},
     "output_type": "execute_result"
    }
   ],
   "source": [
    "df[['A']]"
   ]
  },
  {
   "cell_type": "markdown",
   "metadata": {
    "id": "DGaknbMMSh74"
   },
   "source": [
    "### TODO 14\n",
    "Use `df` defined above to complete the following TODOs.\n",
    "1. Index the rows 10-15 and columns 'B' and 'C' using either `iloc` or `loc`. Store the output into the `df_slice` variable."
   ]
  },
  {
   "cell_type": "code",
   "execution_count": 169,
   "metadata": {
    "colab": {
     "base_uri": "https://localhost:8080/",
     "height": 273
    },
    "id": "nCl0iuMKSh77",
    "outputId": "dbf8d4ae-6c65-44ed-f87e-e3557cec4f09"
   },
   "outputs": [
    {
     "data": {
      "text/html": [
       "\n",
       "  <div id=\"df-ec506c65-ca7c-4cef-a152-f9303b4b2fe6\">\n",
       "    <div class=\"colab-df-container\">\n",
       "      <div>\n",
       "<style scoped>\n",
       "    .dataframe tbody tr th:only-of-type {\n",
       "        vertical-align: middle;\n",
       "    }\n",
       "\n",
       "    .dataframe tbody tr th {\n",
       "        vertical-align: top;\n",
       "    }\n",
       "\n",
       "    .dataframe thead th {\n",
       "        text-align: right;\n",
       "    }\n",
       "</style>\n",
       "<table border=\"1\" class=\"dataframe\">\n",
       "  <thead>\n",
       "    <tr style=\"text-align: right;\">\n",
       "      <th></th>\n",
       "      <th>B</th>\n",
       "      <th>C</th>\n",
       "    </tr>\n",
       "  </thead>\n",
       "  <tbody>\n",
       "    <tr>\n",
       "      <th>10</th>\n",
       "      <td>0.386902</td>\n",
       "      <td>-0.510805</td>\n",
       "    </tr>\n",
       "    <tr>\n",
       "      <th>11</th>\n",
       "      <td>0.066517</td>\n",
       "      <td>0.302472</td>\n",
       "    </tr>\n",
       "    <tr>\n",
       "      <th>12</th>\n",
       "      <td>-0.359553</td>\n",
       "      <td>-0.813146</td>\n",
       "    </tr>\n",
       "    <tr>\n",
       "      <th>13</th>\n",
       "      <td>-1.630198</td>\n",
       "      <td>0.462782</td>\n",
       "    </tr>\n",
       "    <tr>\n",
       "      <th>14</th>\n",
       "      <td>0.128983</td>\n",
       "      <td>1.139401</td>\n",
       "    </tr>\n",
       "    <tr>\n",
       "      <th>15</th>\n",
       "      <td>-0.870797</td>\n",
       "      <td>-0.578850</td>\n",
       "    </tr>\n",
       "  </tbody>\n",
       "</table>\n",
       "</div>\n",
       "      <button class=\"colab-df-convert\" onclick=\"convertToInteractive('df-ec506c65-ca7c-4cef-a152-f9303b4b2fe6')\"\n",
       "              title=\"Convert this dataframe to an interactive table.\"\n",
       "              style=\"display:none;\">\n",
       "        \n",
       "  <svg xmlns=\"http://www.w3.org/2000/svg\" height=\"24px\"viewBox=\"0 0 24 24\"\n",
       "       width=\"24px\">\n",
       "    <path d=\"M0 0h24v24H0V0z\" fill=\"none\"/>\n",
       "    <path d=\"M18.56 5.44l.94 2.06.94-2.06 2.06-.94-2.06-.94-.94-2.06-.94 2.06-2.06.94zm-11 1L8.5 8.5l.94-2.06 2.06-.94-2.06-.94L8.5 2.5l-.94 2.06-2.06.94zm10 10l.94 2.06.94-2.06 2.06-.94-2.06-.94-.94-2.06-.94 2.06-2.06.94z\"/><path d=\"M17.41 7.96l-1.37-1.37c-.4-.4-.92-.59-1.43-.59-.52 0-1.04.2-1.43.59L10.3 9.45l-7.72 7.72c-.78.78-.78 2.05 0 2.83L4 21.41c.39.39.9.59 1.41.59.51 0 1.02-.2 1.41-.59l7.78-7.78 2.81-2.81c.8-.78.8-2.07 0-2.86zM5.41 20L4 18.59l7.72-7.72 1.47 1.35L5.41 20z\"/>\n",
       "  </svg>\n",
       "      </button>\n",
       "      \n",
       "  <style>\n",
       "    .colab-df-container {\n",
       "      display:flex;\n",
       "      flex-wrap:wrap;\n",
       "      gap: 12px;\n",
       "    }\n",
       "\n",
       "    .colab-df-convert {\n",
       "      background-color: #E8F0FE;\n",
       "      border: none;\n",
       "      border-radius: 50%;\n",
       "      cursor: pointer;\n",
       "      display: none;\n",
       "      fill: #1967D2;\n",
       "      height: 32px;\n",
       "      padding: 0 0 0 0;\n",
       "      width: 32px;\n",
       "    }\n",
       "\n",
       "    .colab-df-convert:hover {\n",
       "      background-color: #E2EBFA;\n",
       "      box-shadow: 0px 1px 2px rgba(60, 64, 67, 0.3), 0px 1px 3px 1px rgba(60, 64, 67, 0.15);\n",
       "      fill: #174EA6;\n",
       "    }\n",
       "\n",
       "    [theme=dark] .colab-df-convert {\n",
       "      background-color: #3B4455;\n",
       "      fill: #D2E3FC;\n",
       "    }\n",
       "\n",
       "    [theme=dark] .colab-df-convert:hover {\n",
       "      background-color: #434B5C;\n",
       "      box-shadow: 0px 1px 3px 1px rgba(0, 0, 0, 0.15);\n",
       "      filter: drop-shadow(0px 1px 2px rgba(0, 0, 0, 0.3));\n",
       "      fill: #FFFFFF;\n",
       "    }\n",
       "  </style>\n",
       "\n",
       "      <script>\n",
       "        const buttonEl =\n",
       "          document.querySelector('#df-ec506c65-ca7c-4cef-a152-f9303b4b2fe6 button.colab-df-convert');\n",
       "        buttonEl.style.display =\n",
       "          google.colab.kernel.accessAllowed ? 'block' : 'none';\n",
       "\n",
       "        async function convertToInteractive(key) {\n",
       "          const element = document.querySelector('#df-ec506c65-ca7c-4cef-a152-f9303b4b2fe6');\n",
       "          const dataTable =\n",
       "            await google.colab.kernel.invokeFunction('convertToInteractive',\n",
       "                                                     [key], {});\n",
       "          if (!dataTable) return;\n",
       "\n",
       "          const docLinkHtml = 'Like what you see? Visit the ' +\n",
       "            '<a target=\"_blank\" href=https://colab.research.google.com/notebooks/data_table.ipynb>data table notebook</a>'\n",
       "            + ' to learn more about interactive tables.';\n",
       "          element.innerHTML = '';\n",
       "          dataTable['output_type'] = 'display_data';\n",
       "          await google.colab.output.renderOutput(dataTable, element);\n",
       "          const docLink = document.createElement('div');\n",
       "          docLink.innerHTML = docLinkHtml;\n",
       "          element.appendChild(docLink);\n",
       "        }\n",
       "      </script>\n",
       "    </div>\n",
       "  </div>\n",
       "  "
      ],
      "text/plain": [
       "           B         C\n",
       "10  0.386902 -0.510805\n",
       "11  0.066517  0.302472\n",
       "12 -0.359553 -0.813146\n",
       "13 -1.630198  0.462782\n",
       "14  0.128983  1.139401\n",
       "15 -0.870797 -0.578850"
      ]
     },
     "metadata": {},
     "output_type": "display_data"
    },
    {
     "name": "stdout",
     "output_type": "stream",
     "text": [
      "df_slice shape: (6, 2)\n",
      "Your code PASSED the code check!\n"
     ]
    }
   ],
   "source": [
    "# TODO 14.1\n",
    "df_slice = df.iloc[10:16, 1:3]\n",
    "\n",
    "display(df_slice)\n",
    "print(f\"df_slice shape: {df_slice.shape}\")\n",
    "\n",
    "todo_check([\n",
    "    (df_slice.shape == (6,2), 'df_slice does not have the correct shape of (6, 2)'),\n",
    "    (np.all(np.isclose(df_slice.values.flatten(), np.array([ 0.3869025 , -0.51080514,  0.06651722,  0.3024719 , -0.35955316,        -0.81314628, -1.63019835,  0.46278226,  0.12898291,  1.13940068,        -0.87079715, -0.57884966]) ,rtol=.001)), 'df_slice does not contain the correct values')\n",
    "])"
   ]
  },
  {
   "cell_type": "markdown",
   "metadata": {
    "id": "1NewXO6iSh77"
   },
   "source": [
    "# Matplotlib\n",
    "\n",
    "Visualization is key to observe your data and analyze the experimental results produced by ML model. Matplotlib helps you to produce the graphs and plots so you can easily observe trends in your data and results.\n",
    "\n",
    "In up coming labs we'll be taking a deep look at different plots Matplotlib has to offer. For now, let's just look at the basics.\n",
    "\n",
    "- Additional Sources\n",
    "    - [Purpose of “%matplotlib inline”](https://stackoverflow.com/questions/43027980/purpose-of-matplotlib-inline)\n",
    "    - [Pyplot vs Object Oriented Interface](https://matplotlib.org/matplotblog/posts/pyplot-vs-object-oriented-interface/)\n",
    "    - [plt.plot() docs](https://matplotlib.org/stable/api/_as_gen/matplotlib.pyplot.plot.html#matplotlib.pyplot.plot)"
   ]
  },
  {
   "cell_type": "markdown",
   "metadata": {
    "id": "O2Pp4L7SSh77"
   },
   "source": [
    "To import Matplotlib we typically do following do\n",
    "\n",
    "```python\n",
    "import matplotlib.pyplot as plt\n",
    "```\n",
    "\n",
    "We import pyplot to gain some extra scripting features that don't require to use the object-oriented (OO) syntax. However, we still have access to the OO syntax when using pyplot. Additionally, the OO syntax is better when we want to have finer control over our plotting settings.\n",
    "\n",
    "Furthermore, notice the following line:\n",
    "```python\n",
    "%matplotlib inline\n",
    "```\n",
    "\n",
    "This line is specific to Jupyter Notebook and allows us to embed the plots directly into the notebook."
   ]
  },
  {
   "cell_type": "code",
   "execution_count": 171,
   "metadata": {
    "id": "Pq-j4X4ySh78"
   },
   "outputs": [],
   "source": [
    "import matplotlib.pyplot as plt\n",
    "%matplotlib inline"
   ]
  },
  {
   "cell_type": "markdown",
   "metadata": {
    "id": "9A1Kn5D3Sh78"
   },
   "source": [
    "## Basic Line Plotting\n",
    "\n",
    "The below code is an example of how to make an extremely simple line plot.\n",
    "\n",
    "Here `plt.plot()` is used to plot the data where `x` corresponds to the x-coords and `y` to the y-coords. Also, notice that matplotlib works with NumPy arrays!\n",
    "\n",
    "Further, `plt.ylabel` and `plt.xlabel` allow you to edit the x and y axis labels while `plt.title()` sets the title for the plot.\n",
    "\n",
    "Finally,`plt.show()` displays the actual plot and should always be called last!"
   ]
  },
  {
   "cell_type": "code",
   "execution_count": 172,
   "metadata": {
    "colab": {
     "base_uri": "https://localhost:8080/",
     "height": 295
    },
    "id": "im2XqxFBSh78",
    "outputId": "17128cd4-4b9d-4ba2-fae6-ae44213e6e67"
   },
   "outputs": [
    {
     "data": {
      "image/png": "[encoded data removed]",
      "text/plain": [
       "<Figure size 432x288 with 1 Axes>"
      ]
     },
     "metadata": {
      "needs_background": "light"
     },
     "output_type": "display_data"
    }
   ],
   "source": [
    "x = [0, 1, 2, 3]\n",
    "y =  np.array([2, 1, 3, 4])\n",
    "plt.plot(x, y)\n",
    "plt.ylabel('y values')\n",
    "plt.xlabel('x values')\n",
    "plt.title(\"Basic Line Plot\")\n",
    "plt.show()"
   ]
  },
  {
   "cell_type": "markdown",
   "metadata": {
    "id": "S5gbD2pHSh79"
   },
   "source": [
    "Notice, we don't even have to specify x-coords as matplotlib will automatically generate coordinates for us if none are given."
   ]
  },
  {
   "cell_type": "code",
   "execution_count": 173,
   "metadata": {
    "colab": {
     "base_uri": "https://localhost:8080/",
     "height": 295
    },
    "id": "vh8UcQxTSh79",
    "outputId": "db6dcd0d-b396-42ec-ccbf-7c5eaf9c3106"
   },
   "outputs": [
    {
     "data": {
      "image/png": "[encoded data removed]",
      "text/plain": [
       "<Figure size 432x288 with 1 Axes>"
      ]
     },
     "metadata": {
      "needs_background": "light"
     },
     "output_type": "display_data"
    }
   ],
   "source": [
    "plt.plot(y)\n",
    "plt.ylabel('y values')\n",
    "plt.xlabel('x values')\n",
    "plt.title(\"Autogenerated X-coords\")\n",
    "plt.show()"
   ]
  },
  {
   "cell_type": "markdown",
   "metadata": {
    "id": "_VS4lg82Sh79"
   },
   "source": [
    "Furthermore, the `plt.plot()` method takes in format strings which allow us to combine different colors, line shapes, and plot marker types. Take a look at the below examples, they should speak for themselves!\n",
    "\n",
    "For more information on all the different arguments the format strings take for `plt.plot()` see the [official docs](https://matplotlib.org/stable/api/_as_gen/matplotlib.pyplot.plot.html#matplotlib.pyplot.plot). "
   ]
  },
  {
   "cell_type": "code",
   "execution_count": 174,
   "metadata": {
    "colab": {
     "base_uri": "https://localhost:8080/",
     "height": 295
    },
    "id": "dCZ-gHx2Sh79",
    "outputId": "51ac5db6-18b8-43b5-a552-5e4d4ea6f8cc"
   },
   "outputs": [
    {
     "data": {
      "image/png": "[encoded data removed]",
      "text/plain": [
       "<Figure size 432x288 with 1 Axes>"
      ]
     },
     "metadata": {
      "needs_background": "light"
     },
     "output_type": "display_data"
    }
   ],
   "source": [
    "plt.plot(y, 'b-')\n",
    "plt.plot(y+1, 'r--')\n",
    "plt.plot(y+2, 'g-.')\n",
    "plt.plot(y+3, 'k:')\n",
    "plt.ylabel('y values')\n",
    "plt.xlabel('x values')\n",
    "plt.title(\"Line and Color Types\")\n",
    "plt.show()"
   ]
  },
  {
   "cell_type": "code",
   "execution_count": 175,
   "metadata": {
    "colab": {
     "base_uri": "https://localhost:8080/",
     "height": 295
    },
    "id": "m5syt_YxSh79",
    "outputId": "e598c2b9-ae08-4d2f-8d8a-70542764ad5d"
   },
   "outputs": [
    {
     "data": {
      "image/png": "[encoded data removed]",
      "text/plain": [
       "<Figure size 432x288 with 1 Axes>"
      ]
     },
     "metadata": {
      "needs_background": "light"
     },
     "output_type": "display_data"
    }
   ],
   "source": [
    "plt.plot(y, 'bo-')\n",
    "plt.plot(y+1, 'r.-')\n",
    "plt.plot(y+2, 'g*-')\n",
    "plt.ylabel('y values')\n",
    "plt.xlabel('x values')\n",
    "plt.title(\"Marker Types with Lines\")\n",
    "plt.show()"
   ]
  },
  {
   "cell_type": "code",
   "execution_count": 176,
   "metadata": {
    "colab": {
     "base_uri": "https://localhost:8080/",
     "height": 295
    },
    "id": "Zg32s6NZSh79",
    "outputId": "8a11f524-f2f7-4c3e-9a36-8c739b1f056f"
   },
   "outputs": [
    {
     "data": {
      "image/png": "[encoded data removed]",
      "text/plain": [
       "<Figure size 432x288 with 1 Axes>"
      ]
     },
     "metadata": {
      "needs_background": "light"
     },
     "output_type": "display_data"
    }
   ],
   "source": [
    "plt.plot(y, 'bo')\n",
    "plt.plot(y+1, 'r.')\n",
    "plt.plot(y+2, 'g*')\n",
    "plt.ylabel('y values')\n",
    "plt.xlabel('x values')\n",
    "plt.title(\"Marker Types\")\n",
    "plt.show()"
   ]
  },
  {
   "cell_type": "markdown",
   "metadata": {
    "id": "CI4G81MmSh7-"
   },
   "source": [
    "There is a lot more to matplotlib but this should give you a very basic understanding of how to generate a simple line plots. In future weeks, we'll take a deeper look at other types of plots and how we can use them to gain insight into our data."
   ]
  },
  {
   "cell_type": "markdown",
   "metadata": {
    "id": "MOWAayNGSh7-"
   },
   "source": [
    "# Equations to code\n",
    "\n",
    "Throughout this class you will need to convert equations into code. Thus, the below practice will focus on converting some different equations into code."
   ]
  },
  {
   "cell_type": "markdown",
   "metadata": {
    "id": "O43l6i70Sh7-"
   },
   "source": [
    "## TODO 15\n",
    "Let's start off by converting the definition of the dot product into code! Complete this TODO by creating a class called `CosineSimilarity` which computes the cosine similarity (angle between two vectors) between any two vectors. You are **NOT** allowed to use any existing libraries to compute the angle, however you can use NumPy to compute the square root, arccos, and to convert your radians to degrees.\n",
    "\n",
    "<img src=\"https://qph.fs.quoracdn.net/main-qimg-121e33a016058274e82f77b05c92aa50\" width=300 height=300>\n",
    "\n",
    "1. Create the `CosineSimilarity` by following the below instructions:\n",
    "    1. Define the class `CosineSimilarity` using the `class` keyword. \n",
    "    2. Define the `__init__()` method which takes in three arguments `self`, `x`, and `z` and saves them as class variables. These two arguments will be the vectors in which the cosine similarity will be computed.\n",
    "    3. Define a method called `compute_angle()` that takes in no arguments other than `self` (remember `self` is a required argument for methods).\n",
    "    4. Within the `compute_angle()` method compute the angle between two vectors and return the answer in __degrees__.  Use the following equation to compute the angle between two vector.\n",
    "    $$ \\theta = \\text{arccos}(\\frac{\\mathbf{x} \\cdot \\mathbf{z}}{||\\mathbf{x}||_2 ||\\mathbf{z}||_2})\n",
    "    $$\n",
    "        1. Hint 1: Recall from the quiz that $\\cdot$ represents the dot product and $||\\cdot||_2$ represents the L2 norm \n",
    "    $$\n",
    "    ||\\mathbf{x}||_2 = \\sqrt{x_1^2 + x_2^2 + ... + x_n^2} = \\sqrt{\\mathbf{x} \\cdot \\mathbf{x}}\n",
    "    $$\n",
    "    where a vector dotted with itself is the same as squaring the vector.\n",
    "        2. Hint 2: Use `np.sqrt()` to compute the square root and `np.arccos()` to compute arccos.\n",
    "        3. Hint 3: The output of `np.arccos()` is in radians! **Be sure** to use `np.degrees()` to convert your output into degrees. If you don't do this you will fail the test.\n",
    "        4. Hint 4: Due to rounding errors your answer should be close to ~180 degrees."
   ]
  },
  {
   "cell_type": "code",
   "execution_count": 196,
   "metadata": {
    "colab": {
     "base_uri": "https://localhost:8080/"
    },
    "id": "GqIxjzlUSh7_",
    "outputId": "41af43c1-9eec-4183-b6f4-a4da4bae49b5"
   },
   "outputs": [
    {
     "data": {
      "text/plain": [
       "47.43438825967524"
      ]
     },
     "execution_count": 196,
     "metadata": {},
     "output_type": "execute_result"
    }
   ],
   "source": [
    "# TODO 15.1\n",
    "import numpy as np\n",
    "class CosineSimilarity():\n",
    "  def __init__(self,x,z):\n",
    "    self.x = x\n",
    "    self.z = z\n",
    "\n",
    "  def compute_angle(self,x,z):\n",
    "    rad = np.arccos(np.dot(x, z)/((np.dot(x,x) **.5) * (np.dot(z,z) ** .5)))\n",
    "    deg = np.degrees(rad)\n",
    "    return deg\n",
    "\n",
    "x = [1,4,2,7]\n",
    "z = [1,2,5,2]\n",
    "\n",
    "cs = CosineSimilarity(x,z)\n",
    "cs.compute_angle(x,z)"
   ]
  },
  {
   "cell_type": "markdown",
   "metadata": {
    "id": "S5E5DaYsSh7_"
   },
   "source": [
    "Run the below code to test your implementation of the `CosineSimilarity` class."
   ]
  },
  {
   "cell_type": "code",
   "execution_count": 198,
   "metadata": {
    "colab": {
     "base_uri": "https://localhost:8080/"
    },
    "id": "v2XQ_4IUSh7_",
    "outputId": "726388af-3100-4d58-e27e-051eb1116626"
   },
   "outputs": [
    {
     "name": "stdout",
     "output_type": "stream",
     "text": [
      "angle output: 179.99999879258172\n",
      "Your code PASSED the code check!\n"
     ]
    }
   ],
   "source": [
    "x = np.array([1, 1])\n",
    "z = np.array([-2, -2])\n",
    "cosin_sim = CosineSimilarity(x, z)\n",
    "angle = cosin_sim.compute_angle(x,z)\n",
    "\n",
    "print(f\"angle output: {angle}\")\n",
    "\n",
    "todo_check([\n",
    "    (np.isclose(angle, 180.0), 'The value of the angle is not approximately 180 degrees! Make sure you converted from radians to degrees.')\n",
    "])"
   ]
  },
  {
   "cell_type": "markdown",
   "metadata": {
    "id": "1TIbvkHeSh7_"
   },
   "source": [
    "## TODO 16\n",
    "\n",
    "Next, let's review what [normal or Gaussian distribution](https://machinelearningmastery.com/statistical-data-distributions/) is while also practicing some equation to code conversion. Now this weeks math review didn't mention normal distributions but we did lightly cover probability distributions. Recall **a probability distribution is a list of outcomes and their associated probabilities**. Meaning, **a distribution is simply a collection of values or frequencies for a given observation**, like age of a population. A normal distribution is a specific type of probability distribution which looks like the following.\n",
    "<img src=\"https://external-content.duckduckgo.com/iu/?u=https%3A%2F%2Fupload.wikimedia.org%2Fwikipedia%2Fcommons%2Fthumb%2Fc%2Fc8%2FGaussian_distribution.svg%2F1280px-Gaussian_distribution.svg.png&f=1&nofb=1\" width=500 height=500>\n",
    "\n",
    "Further recall a normal distribution has the parameters $\\mu$ (referred to as mu) which represents the mean and $\\sigma$ (referred to as sigma) represents the standard deviation. Throughout the semester we'll frequently make the assumption that our data is normally distributed. This is because many natural phenomena are like age, height, test-scores, IQ scores, sum of the rolls of two dices and so on follow normal distributions, thus making such an assumption reasonable. As normal distributions are found in so many different places they are one of the important probability distribution in statistics and machine learning!\n",
    "\n",
    "The formula for a normal distribution is given as follows:\n",
    "\n",
    "![](https://wikimedia.org/api/rest_v1/media/math/render/svg/00cb9b2c9b866378626bcfa45c86a6de2f2b2e40)\n",
    "\n",
    "For this TODO let's convert the normal distribution equation to code and plot what a normal distribution looks like using Matplotlib.\n",
    "\n",
    "1. Define a function called `gaussian()` that takes in the arguments `x`, `mu`, and `sig`. Convert the above normal equation into code and return the output of the equation. Recall that `mu` represents $\\mu$ and `sig` represents $\\sigma$.\n",
    "2. Use the NumPy function `np.linspace()` ([docs](https://numpy.org/doc/stable/reference/generated/numpy.linspace.html)) to generate an array of 120 numbers between -4 and 4. Pass the arguments -4, 4, and 120 to do so. Store the output into the variable `x_values`.\n",
    "3. Call the `gaussian()` function that receives `x_values`, `mu`, and `sig`. Store the output into the variable `y_values`.\n",
    "5. Plot the `x_values` and `y_values` using Matplotlib `plt.plot()` function. You should see a normal distribution being plotted like in the above image!\n"
   ]
  },
  {
   "cell_type": "code",
   "execution_count": 219,
   "metadata": {
    "id": "hFFi2zjuSh8G"
   },
   "outputs": [],
   "source": [
    "# TODO 16.1\n",
    "import numpy as np\n",
    "import matplotlib.pyplot as plt\n",
    "def gaussian(x,mu,sig):\n",
    "  y = []\n",
    "\n",
    "  for ele in x:\n",
    "    norm_distr = (1/(sig * np.sqrt(2*np.pi))) * np.exp(-0.5*((ele-mu)/sig)**2)\n",
    "    #y.append(norm_distr)\n",
    "  return y"
   ]
  },
  {
   "cell_type": "code",
   "execution_count": 204,
   "metadata": {
    "colab": {
     "base_uri": "https://localhost:8080/"
    },
    "id": "SAmetl73Sh8G",
    "outputId": "e30e0032-4c29-4bcb-ff80-cde5c2b484c3"
   },
   "outputs": [
    {
     "data": {
      "text/plain": [
       "array([-4.        , -3.93277311, -3.86554622, -3.79831933, -3.73109244,\n",
       "       -3.66386555, -3.59663866, -3.52941176, -3.46218487, -3.39495798,\n",
       "       -3.32773109, -3.2605042 , -3.19327731, -3.12605042, -3.05882353,\n",
       "       -2.99159664, -2.92436975, -2.85714286, -2.78991597, -2.72268908,\n",
       "       -2.65546218, -2.58823529, -2.5210084 , -2.45378151, -2.38655462,\n",
       "       -2.31932773, -2.25210084, -2.18487395, -2.11764706, -2.05042017,\n",
       "       -1.98319328, -1.91596639, -1.8487395 , -1.78151261, -1.71428571,\n",
       "       -1.64705882, -1.57983193, -1.51260504, -1.44537815, -1.37815126,\n",
       "       -1.31092437, -1.24369748, -1.17647059, -1.1092437 , -1.04201681,\n",
       "       -0.97478992, -0.90756303, -0.84033613, -0.77310924, -0.70588235,\n",
       "       -0.63865546, -0.57142857, -0.50420168, -0.43697479, -0.3697479 ,\n",
       "       -0.30252101, -0.23529412, -0.16806723, -0.10084034, -0.03361345,\n",
       "        0.03361345,  0.10084034,  0.16806723,  0.23529412,  0.30252101,\n",
       "        0.3697479 ,  0.43697479,  0.50420168,  0.57142857,  0.63865546,\n",
       "        0.70588235,  0.77310924,  0.84033613,  0.90756303,  0.97478992,\n",
       "        1.04201681,  1.1092437 ,  1.17647059,  1.24369748,  1.31092437,\n",
       "        1.37815126,  1.44537815,  1.51260504,  1.57983193,  1.64705882,\n",
       "        1.71428571,  1.78151261,  1.8487395 ,  1.91596639,  1.98319328,\n",
       "        2.05042017,  2.11764706,  2.18487395,  2.25210084,  2.31932773,\n",
       "        2.38655462,  2.45378151,  2.5210084 ,  2.58823529,  2.65546218,\n",
       "        2.72268908,  2.78991597,  2.85714286,  2.92436975,  2.99159664,\n",
       "        3.05882353,  3.12605042,  3.19327731,  3.2605042 ,  3.32773109,\n",
       "        3.39495798,  3.46218487,  3.52941176,  3.59663866,  3.66386555,\n",
       "        3.73109244,  3.79831933,  3.86554622,  3.93277311,  4.        ])"
      ]
     },
     "execution_count": 204,
     "metadata": {},
     "output_type": "execute_result"
    }
   ],
   "source": [
    "np.linspace(-4, 4, 120).flatten()"
   ]
  },
  {
   "cell_type": "code",
   "execution_count": 225,
   "metadata": {
    "colab": {
     "base_uri": "https://localhost:8080/",
     "height": 463
    },
    "id": "yQtV6ph8Sh8G",
    "outputId": "5b12af64-7ffd-4325-8fc9-ef440528a54a",
    "scrolled": true
   },
   "outputs": [
    {
     "data": {
      "text/plain": [
       "array([-4.        , -3.93277311, -3.86554622, -3.79831933, -3.73109244,\n",
       "       -3.66386555, -3.59663866, -3.52941176, -3.46218487, -3.39495798,\n",
       "       -3.32773109, -3.2605042 , -3.19327731, -3.12605042, -3.05882353,\n",
       "       -2.99159664, -2.92436975, -2.85714286, -2.78991597, -2.72268908,\n",
       "       -2.65546218, -2.58823529, -2.5210084 , -2.45378151, -2.38655462,\n",
       "       -2.31932773, -2.25210084, -2.18487395, -2.11764706, -2.05042017,\n",
       "       -1.98319328, -1.91596639, -1.8487395 , -1.78151261, -1.71428571,\n",
       "       -1.64705882, -1.57983193, -1.51260504, -1.44537815, -1.37815126,\n",
       "       -1.31092437, -1.24369748, -1.17647059, -1.1092437 , -1.04201681,\n",
       "       -0.97478992, -0.90756303, -0.84033613, -0.77310924, -0.70588235,\n",
       "       -0.63865546, -0.57142857, -0.50420168, -0.43697479, -0.3697479 ,\n",
       "       -0.30252101, -0.23529412, -0.16806723, -0.10084034, -0.03361345,\n",
       "        0.03361345,  0.10084034,  0.16806723,  0.23529412,  0.30252101,\n",
       "        0.3697479 ,  0.43697479,  0.50420168,  0.57142857,  0.63865546,\n",
       "        0.70588235,  0.77310924,  0.84033613,  0.90756303,  0.97478992,\n",
       "        1.04201681,  1.1092437 ,  1.17647059,  1.24369748,  1.31092437,\n",
       "        1.37815126,  1.44537815,  1.51260504,  1.57983193,  1.64705882,\n",
       "        1.71428571,  1.78151261,  1.8487395 ,  1.91596639,  1.98319328,\n",
       "        2.05042017,  2.11764706,  2.18487395,  2.25210084,  2.31932773,\n",
       "        2.38655462,  2.45378151,  2.5210084 ,  2.58823529,  2.65546218,\n",
       "        2.72268908,  2.78991597,  2.85714286,  2.92436975,  2.99159664,\n",
       "        3.05882353,  3.12605042,  3.19327731,  3.2605042 ,  3.32773109,\n",
       "        3.39495798,  3.46218487,  3.52941176,  3.59663866,  3.66386555,\n",
       "        3.73109244,  3.79831933,  3.86554622,  3.93277311,  4.        ])"
      ]
     },
     "metadata": {},
     "output_type": "display_data"
    },
    {
     "name": "stdout",
     "output_type": "stream",
     "text": [
      "Your code PASSED the code check!\n"
     ]
    }
   ],
   "source": [
    "mu = 0 # mean\n",
    "sig = 1 # std\n",
    "\n",
    "# TODO 16.2\n",
    "x_values = np.linspace(-4,4,num=120)\n",
    "mu = np.mean(x_values)\n",
    "sig = np.std(x_values)\n",
    "display(x_values)\n",
    "\n",
    "todo_check([\n",
    "   (x_values.shape == (120,), 'x_values does not have the correct shape of (120,)'),\n",
    "   (np.all(np.isclose(x_values, np.array([-4.        , -3.93277311, -3.86554622, -3.79831933, -3.73109244,        -3.66386555, -3.59663866, -3.52941176, -3.46218487, -3.39495798,        -3.32773109, -3.2605042 , -3.19327731, -3.12605042, -3.05882353,        -2.99159664, -2.92436975, -2.85714286, -2.78991597, -2.72268908,        -2.65546218, -2.58823529, -2.5210084 , -2.45378151, -2.38655462,        -2.31932773, -2.25210084, -2.18487395, -2.11764706, -2.05042017,        -1.98319328, -1.91596639, -1.8487395 , -1.78151261, -1.71428571,        -1.64705882, -1.57983193, -1.51260504, -1.44537815, -1.37815126,        -1.31092437, -1.24369748, -1.17647059, -1.1092437 , -1.04201681,        -0.97478992, -0.90756303, -0.84033613, -0.77310924, -0.70588235,        -0.63865546, -0.57142857, -0.50420168, -0.43697479, -0.3697479 ,        -0.30252101, -0.23529412, -0.16806723, -0.10084034, -0.03361345,         0.03361345,  0.10084034,  0.16806723,  0.23529412,  0.30252101,         0.3697479 ,  0.43697479,  0.50420168,  0.57142857,  0.63865546,         0.70588235,  0.77310924,  0.84033613,  0.90756303,  0.97478992,         1.04201681,  1.1092437 ,  1.17647059,  1.24369748,  1.31092437,         1.37815126,  1.44537815,  1.51260504,  1.57983193,  1.64705882,         1.71428571,  1.78151261,  1.8487395 ,  1.91596639,  1.98319328,         2.05042017,  2.11764706,  2.18487395,  2.25210084,  2.31932773,         2.38655462,  2.45378151,  2.5210084 ,  2.58823529,  2.65546218,         2.72268908,  2.78991597,  2.85714286,  2.92436975,  2.99159664,         3.05882353,  3.12605042,  3.19327731,  3.2605042 ,  3.32773109,         3.39495798,  3.46218487,  3.52941176,  3.59663866,  3.66386555,         3.73109244,  3.79831933,  3.86554622,  3.93277311,  4.        ]), rtol=.001)), 'x_values does not have the correct values')\n",
    "])"
   ]
  },
  {
   "cell_type": "code",
   "execution_count": 223,
   "metadata": {
    "colab": {
     "base_uri": "https://localhost:8080/",
     "height": 329
    },
    "id": "_6aD7kb4Sh8G",
    "outputId": "d7fe0621-0394-46b1-de81-fb9faf0699d5",
    "scrolled": true
   },
   "outputs": [
    {
     "data": {
      "text/plain": [
       "[]"
      ]
     },
     "metadata": {},
     "output_type": "display_data"
    },
    {
     "ename": "AttributeError",
     "evalue": "ignored",
     "output_type": "error",
     "traceback": [
      "\u001b[0;31m---------------------------------------------------------------------------\u001b[0m",
      "\u001b[0;31mAttributeError\u001b[0m                            Traceback (most recent call last)",
      "\u001b[0;32m<ipython-input-223-91d96e3d0f2d>\u001b[0m in \u001b[0;36m<module>\u001b[0;34m\u001b[0m\n\u001b[1;32m      5\u001b[0m \u001b[0;34m\u001b[0m\u001b[0m\n\u001b[1;32m      6\u001b[0m todo_check([\n\u001b[0;32m----> 7\u001b[0;31m     \u001b[0;34m(\u001b[0m\u001b[0my_values\u001b[0m\u001b[0;34m.\u001b[0m\u001b[0mshape\u001b[0m \u001b[0;34m==\u001b[0m \u001b[0;34m(\u001b[0m\u001b[0;36m120\u001b[0m\u001b[0;34m,\u001b[0m\u001b[0;34m)\u001b[0m\u001b[0;34m,\u001b[0m \u001b[0;34m'y_values does not have the correct shape of (120,)'\u001b[0m\u001b[0;34m)\u001b[0m\u001b[0;34m,\u001b[0m\u001b[0;34m\u001b[0m\u001b[0;34m\u001b[0m\u001b[0m\n\u001b[0m\u001b[1;32m      8\u001b[0m     \u001b[0;34m(\u001b[0m\u001b[0mnp\u001b[0m\u001b[0;34m.\u001b[0m\u001b[0mall\u001b[0m\u001b[0;34m(\u001b[0m\u001b[0mnp\u001b[0m\u001b[0;34m.\u001b[0m\u001b[0misclose\u001b[0m\u001b[0;34m(\u001b[0m\u001b[0my_values\u001b[0m\u001b[0;34m,\u001b[0m \u001b[0mnp\u001b[0m\u001b[0;34m.\u001b[0m\u001b[0marray\u001b[0m\u001b[0;34m(\u001b[0m\u001b[0;34m[\u001b[0m\u001b[0;36m1.33830226e-04\u001b[0m\u001b[0;34m,\u001b[0m \u001b[0;36m1.74726145e-04\u001b[0m\u001b[0;34m,\u001b[0m \u001b[0;36m2.27090415e-04\u001b[0m\u001b[0;34m,\u001b[0m \u001b[0;36m2.93817012e-04\u001b[0m\u001b[0;34m,\u001b[0m        \u001b[0;36m3.78435874e-04\u001b[0m\u001b[0;34m,\u001b[0m \u001b[0;36m4.85226918e-04\u001b[0m\u001b[0;34m,\u001b[0m \u001b[0;36m6.19347941e-04\u001b[0m\u001b[0;34m,\u001b[0m \u001b[0;36m7.86976449e-04\u001b[0m\u001b[0;34m,\u001b[0m        \u001b[0;36m9.95465009e-04\u001b[0m\u001b[0;34m,\u001b[0m \u001b[0;36m1.25350909e-03\u001b[0m\u001b[0;34m,\u001b[0m \u001b[0;36m1.57132566e-03\u001b[0m\u001b[0;34m,\u001b[0m \u001b[0;36m1.96083994e-03\u001b[0m\u001b[0;34m,\u001b[0m        \u001b[0;36m2.43587675e-03\u001b[0m\u001b[0;34m,\u001b[0m \u001b[0;36m3.01235189e-03\u001b[0m\u001b[0;34m,\u001b[0m \u001b[0;36m3.70845762e-03\u001b[0m\u001b[0;34m,\u001b[0m \u001b[0;36m4.54483545e-03\u001b[0m\u001b[0;34m,\u001b[0m        \u001b[0;36m5.54472782e-03\u001b[0m\u001b[0;34m,\u001b[0m \u001b[0;36m6.73409948e-03\u001b[0m\u001b[0;34m,\u001b[0m \u001b[0;36m8.14171785e-03\u001b[0m\u001b[0;34m,\u001b[0m \u001b[0;36m9.79918133e-03\u001b[0m\u001b[0;34m,\u001b[0m        \u001b[0;36m1.17408832e-02\u001b[0m\u001b[0;34m,\u001b[0m \u001b[0;36m1.40038988e-02\u001b[0m\u001b[0;34m,\u001b[0m \u001b[0;36m1.66277845e-02\u001b[0m\u001b[0;34m,\u001b[0m \u001b[0;36m1.96542754e-02\u001b[0m\u001b[0;34m,\u001b[0m        \u001b[0;36m2.31268728e-02\u001b[0m\u001b[0;34m,\u001b[0m \u001b[0;36m2.70903123e-02\u001b[0m\u001b[0;34m,\u001b[0m \u001b[0;36m3.15899063e-02\u001b[0m\u001b[0;34m,\u001b[0m \u001b[0;36m3.66707582e-02\u001b[0m\u001b[0;34m,\u001b[0m        \u001b[0;36m4.23768496e-02\u001b[0m\u001b[0;34m,\u001b[0m \u001b[0;36m4.87500056e-02\u001b[0m\u001b[0;34m,\u001b[0m \u001b[0;36m5.58287494e-02\u001b[0m\u001b[0;34m,\u001b[0m \u001b[0;36m6.36470609e-02\u001b[0m\u001b[0;34m,\u001b[0m        \u001b[0;...\n\u001b[1;32m      9\u001b[0m ])\n",
      "\u001b[0;31mAttributeError\u001b[0m: 'list' object has no attribute 'shape'"
     ]
    }
   ],
   "source": [
    "# TODO 16.3\n",
    "y_values = gaussian(x_values, mu, sig)\n",
    "\n",
    "display(y_values)\n",
    "\n",
    "todo_check([\n",
    "    (y_values.shape == (120,), 'y_values does not have the correct shape of (120,)'),\n",
    "    (np.all(np.isclose(y_values, np.array([1.33830226e-04, 1.74726145e-04, 2.27090415e-04, 2.93817012e-04,        3.78435874e-04, 4.85226918e-04, 6.19347941e-04, 7.86976449e-04,        9.95465009e-04, 1.25350909e-03, 1.57132566e-03, 1.96083994e-03,        2.43587675e-03, 3.01235189e-03, 3.70845762e-03, 4.54483545e-03,        5.54472782e-03, 6.73409948e-03, 8.14171785e-03, 9.79918133e-03,        1.17408832e-02, 1.40038988e-02, 1.66277845e-02, 1.96542754e-02,        2.31268728e-02, 2.70903123e-02, 3.15899063e-02, 3.66707582e-02,        4.23768496e-02, 4.87500056e-02, 5.58287494e-02, 6.36470609e-02,        7.22330635e-02, 8.16076628e-02, 9.17831740e-02, 1.02761972e-01,        1.14535209e-01, 1.27081643e-01, 1.40366624e-01, 1.54341287e-01,        1.68941989e-01, 1.84090049e-01, 1.99691809e-01, 2.15639052e-01,        2.31809806e-01, 2.48069526e-01, 2.64272673e-01, 2.80264650e-01,        2.95884091e-01, 3.10965445e-01, 3.25341808e-01, 3.38847936e-01,        3.51323369e-01, 3.62615579e-01, 3.72583059e-01, 3.81098269e-01,        3.88050344e-01, 3.93347502e-01, 3.96919051e-01, 3.98716969e-01,        3.98716969e-01, 3.96919051e-01, 3.93347502e-01, 3.88050344e-01,        3.81098269e-01, 3.72583059e-01, 3.62615579e-01, 3.51323369e-01,        3.38847936e-01, 3.25341808e-01, 3.10965445e-01, 2.95884091e-01,        2.80264650e-01, 2.64272673e-01, 2.48069526e-01, 2.31809806e-01,        2.15639052e-01, 1.99691809e-01, 1.84090049e-01, 1.68941989e-01,        1.54341287e-01, 1.40366624e-01, 1.27081643e-01, 1.14535209e-01,        1.02761972e-01, 9.17831740e-02, 8.16076628e-02, 7.22330635e-02,        6.36470609e-02, 5.58287494e-02, 4.87500056e-02, 4.23768496e-02,        3.66707582e-02, 3.15899063e-02, 2.70903123e-02, 2.31268728e-02,        1.96542754e-02, 1.66277845e-02, 1.40038988e-02, 1.17408832e-02,        9.79918133e-03, 8.14171785e-03, 6.73409948e-03, 5.54472782e-03,        4.54483545e-03, 3.70845762e-03, 3.01235189e-03, 2.43587675e-03,        1.96083994e-03, 1.57132566e-03, 1.25350909e-03, 9.95465009e-04,        7.86976449e-04, 6.19347941e-04, 4.85226918e-04, 3.78435874e-04,        2.93817012e-04, 2.27090415e-04, 1.74726145e-04, 1.33830226e-04]),rtol=.001)), 'y_values does not contain the correct values')\n",
    "])"
   ]
  },
  {
   "cell_type": "code",
   "execution_count": 227,
   "metadata": {
    "colab": {
     "base_uri": "https://localhost:8080/",
     "height": 588
    },
    "id": "AoFKdON3Sh8H",
    "outputId": "59924db8-723d-43d4-b307-e9f6c43c02a0"
   },
   "outputs": [
    {
     "ename": "ValueError",
     "evalue": "ignored",
     "output_type": "error",
     "traceback": [
      "\u001b[0;31m---------------------------------------------------------------------------\u001b[0m",
      "\u001b[0;31mValueError\u001b[0m                                Traceback (most recent call last)",
      "\u001b[0;32m<ipython-input-227-0c5f6e3b513e>\u001b[0m in \u001b[0;36m<module>\u001b[0;34m\u001b[0m\n\u001b[1;32m      1\u001b[0m \u001b[0;31m# TODO 16.4\u001b[0m\u001b[0;34m\u001b[0m\u001b[0;34m\u001b[0m\u001b[0;34m\u001b[0m\u001b[0m\n\u001b[0;32m----> 2\u001b[0;31m \u001b[0mplots\u001b[0m \u001b[0;34m=\u001b[0m \u001b[0mplt\u001b[0m\u001b[0;34m.\u001b[0m\u001b[0mplot\u001b[0m\u001b[0;34m(\u001b[0m\u001b[0mx_values\u001b[0m\u001b[0;34m,\u001b[0m \u001b[0my_values\u001b[0m\u001b[0;34m)\u001b[0m\u001b[0;34m\u001b[0m\u001b[0;34m\u001b[0m\u001b[0m\n\u001b[0m",
      "\u001b[0;32m/usr/local/lib/python3.8/dist-packages/matplotlib/pyplot.py\u001b[0m in \u001b[0;36mplot\u001b[0;34m(scalex, scaley, data, *args, **kwargs)\u001b[0m\n\u001b[1;32m   2765\u001b[0m \u001b[0;34m@\u001b[0m\u001b[0m_copy_docstring_and_deprecators\u001b[0m\u001b[0;34m(\u001b[0m\u001b[0mAxes\u001b[0m\u001b[0;34m.\u001b[0m\u001b[0mplot\u001b[0m\u001b[0;34m)\u001b[0m\u001b[0;34m\u001b[0m\u001b[0;34m\u001b[0m\u001b[0m\n\u001b[1;32m   2766\u001b[0m \u001b[0;32mdef\u001b[0m \u001b[0mplot\u001b[0m\u001b[0;34m(\u001b[0m\u001b[0;34m*\u001b[0m\u001b[0margs\u001b[0m\u001b[0;34m,\u001b[0m \u001b[0mscalex\u001b[0m\u001b[0;34m=\u001b[0m\u001b[0;32mTrue\u001b[0m\u001b[0;34m,\u001b[0m \u001b[0mscaley\u001b[0m\u001b[0;34m=\u001b[0m\u001b[0;32mTrue\u001b[0m\u001b[0;34m,\u001b[0m \u001b[0mdata\u001b[0m\u001b[0;34m=\u001b[0m\u001b[0;32mNone\u001b[0m\u001b[0;34m,\u001b[0m \u001b[0;34m**\u001b[0m\u001b[0mkwargs\u001b[0m\u001b[0;34m)\u001b[0m\u001b[0;34m:\u001b[0m\u001b[0;34m\u001b[0m\u001b[0;34m\u001b[0m\u001b[0m\n\u001b[0;32m-> 2767\u001b[0;31m     return gca().plot(\n\u001b[0m\u001b[1;32m   2768\u001b[0m         \u001b[0;34m*\u001b[0m\u001b[0margs\u001b[0m\u001b[0;34m,\u001b[0m \u001b[0mscalex\u001b[0m\u001b[0;34m=\u001b[0m\u001b[0mscalex\u001b[0m\u001b[0;34m,\u001b[0m \u001b[0mscaley\u001b[0m\u001b[0;34m=\u001b[0m\u001b[0mscaley\u001b[0m\u001b[0;34m,\u001b[0m\u001b[0;34m\u001b[0m\u001b[0;34m\u001b[0m\u001b[0m\n\u001b[1;32m   2769\u001b[0m         **({\"data\": data} if data is not None else {}), **kwargs)\n",
      "\u001b[0;32m/usr/local/lib/python3.8/dist-packages/matplotlib/axes/_axes.py\u001b[0m in \u001b[0;36mplot\u001b[0;34m(self, scalex, scaley, data, *args, **kwargs)\u001b[0m\n\u001b[1;32m   1633\u001b[0m         \"\"\"\n\u001b[1;32m   1634\u001b[0m         \u001b[0mkwargs\u001b[0m \u001b[0;34m=\u001b[0m \u001b[0mcbook\u001b[0m\u001b[0;34m.\u001b[0m\u001b[0mnormalize_kwargs\u001b[0m\u001b[0;34m(\u001b[0m\u001b[0mkwargs\u001b[0m\u001b[0;34m,\u001b[0m \u001b[0mmlines\u001b[0m\u001b[0;34m.\u001b[0m\u001b[0mLine2D\u001b[0m\u001b[0;34m)\u001b[0m\u001b[0;34m\u001b[0m\u001b[0;34m\u001b[0m\u001b[0m\n\u001b[0;32m-> 1635\u001b[0;31m         \u001b[0mlines\u001b[0m \u001b[0;34m=\u001b[0m \u001b[0;34m[\u001b[0m\u001b[0;34m*\u001b[0m\u001b[0mself\u001b[0m\u001b[0;34m.\u001b[0m\u001b[0m_get_lines\u001b[0m\u001b[0;34m(\u001b[0m\u001b[0;34m*\u001b[0m\u001b[0margs\u001b[0m\u001b[0;34m,\u001b[0m \u001b[0mdata\u001b[0m\u001b[0;34m=\u001b[0m\u001b[0mdata\u001b[0m\u001b[0;34m,\u001b[0m \u001b[0;34m**\u001b[0m\u001b[0mkwargs\u001b[0m\u001b[0;34m)\u001b[0m\u001b[0;34m]\u001b[0m\u001b[0;34m\u001b[0m\u001b[0;34m\u001b[0m\u001b[0m\n\u001b[0m\u001b[1;32m   1636\u001b[0m         \u001b[0;32mfor\u001b[0m \u001b[0mline\u001b[0m \u001b[0;32min\u001b[0m \u001b[0mlines\u001b[0m\u001b[0;34m:\u001b[0m\u001b[0;34m\u001b[0m\u001b[0;34m\u001b[0m\u001b[0m\n\u001b[1;32m   1637\u001b[0m             \u001b[0mself\u001b[0m\u001b[0;34m.\u001b[0m\u001b[0madd_line\u001b[0m\u001b[0;34m(\u001b[0m\u001b[0mline\u001b[0m\u001b[0;34m)\u001b[0m\u001b[0;34m\u001b[0m\u001b[0;34m\u001b[0m\u001b[0m\n",
      "\u001b[0;32m/usr/local/lib/python3.8/dist-packages/matplotlib/axes/_base.py\u001b[0m in \u001b[0;36m__call__\u001b[0;34m(self, data, *args, **kwargs)\u001b[0m\n\u001b[1;32m    310\u001b[0m                 \u001b[0mthis\u001b[0m \u001b[0;34m+=\u001b[0m \u001b[0margs\u001b[0m\u001b[0;34m[\u001b[0m\u001b[0;36m0\u001b[0m\u001b[0;34m]\u001b[0m\u001b[0;34m,\u001b[0m\u001b[0;34m\u001b[0m\u001b[0;34m\u001b[0m\u001b[0m\n\u001b[1;32m    311\u001b[0m                 \u001b[0margs\u001b[0m \u001b[0;34m=\u001b[0m \u001b[0margs\u001b[0m\u001b[0;34m[\u001b[0m\u001b[0;36m1\u001b[0m\u001b[0;34m:\u001b[0m\u001b[0;34m]\u001b[0m\u001b[0;34m\u001b[0m\u001b[0;34m\u001b[0m\u001b[0m\n\u001b[0;32m--> 312\u001b[0;31m             \u001b[0;32myield\u001b[0m \u001b[0;32mfrom\u001b[0m \u001b[0mself\u001b[0m\u001b[0;34m.\u001b[0m\u001b[0m_plot_args\u001b[0m\u001b[0;34m(\u001b[0m\u001b[0mthis\u001b[0m\u001b[0;34m,\u001b[0m \u001b[0mkwargs\u001b[0m\u001b[0;34m)\u001b[0m\u001b[0;34m\u001b[0m\u001b[0;34m\u001b[0m\u001b[0m\n\u001b[0m\u001b[1;32m    313\u001b[0m \u001b[0;34m\u001b[0m\u001b[0m\n\u001b[1;32m    314\u001b[0m     \u001b[0;32mdef\u001b[0m \u001b[0mget_next_color\u001b[0m\u001b[0;34m(\u001b[0m\u001b[0mself\u001b[0m\u001b[0;34m)\u001b[0m\u001b[0;34m:\u001b[0m\u001b[0;34m\u001b[0m\u001b[0;34m\u001b[0m\u001b[0m\n",
      "\u001b[0;32m/usr/local/lib/python3.8/dist-packages/matplotlib/axes/_base.py\u001b[0m in \u001b[0;36m_plot_args\u001b[0;34m(self, tup, kwargs, return_kwargs)\u001b[0m\n\u001b[1;32m    496\u001b[0m \u001b[0;34m\u001b[0m\u001b[0m\n\u001b[1;32m    497\u001b[0m         \u001b[0;32mif\u001b[0m \u001b[0mx\u001b[0m\u001b[0;34m.\u001b[0m\u001b[0mshape\u001b[0m\u001b[0;34m[\u001b[0m\u001b[0;36m0\u001b[0m\u001b[0;34m]\u001b[0m \u001b[0;34m!=\u001b[0m \u001b[0my\u001b[0m\u001b[0;34m.\u001b[0m\u001b[0mshape\u001b[0m\u001b[0;34m[\u001b[0m\u001b[0;36m0\u001b[0m\u001b[0;34m]\u001b[0m\u001b[0;34m:\u001b[0m\u001b[0;34m\u001b[0m\u001b[0;34m\u001b[0m\u001b[0m\n\u001b[0;32m--> 498\u001b[0;31m             raise ValueError(f\"x and y must have same first dimension, but \"\n\u001b[0m\u001b[1;32m    499\u001b[0m                              f\"have shapes {x.shape} and {y.shape}\")\n\u001b[1;32m    500\u001b[0m         \u001b[0;32mif\u001b[0m \u001b[0mx\u001b[0m\u001b[0;34m.\u001b[0m\u001b[0mndim\u001b[0m \u001b[0;34m>\u001b[0m \u001b[0;36m2\u001b[0m \u001b[0;32mor\u001b[0m \u001b[0my\u001b[0m\u001b[0;34m.\u001b[0m\u001b[0mndim\u001b[0m \u001b[0;34m>\u001b[0m \u001b[0;36m2\u001b[0m\u001b[0;34m:\u001b[0m\u001b[0;34m\u001b[0m\u001b[0;34m\u001b[0m\u001b[0m\n",
      "\u001b[0;31mValueError\u001b[0m: x and y must have same first dimension, but have shapes (120,) and (0,)"
     ]
    },
    {
     "data": {
      "image/png": "[encoded data removed]",
      "text/plain": [
       "<Figure size 432x288 with 1 Axes>"
      ]
     },
     "metadata": {
      "needs_background": "light"
     },
     "output_type": "display_data"
    }
   ],
   "source": [
    "# TODO 16.4\n",
    "plots = plt.plot(x_values, y_values)"
   ]
  },
  {
   "cell_type": "code",
   "execution_count": 228,
   "metadata": {
    "colab": {
     "base_uri": "https://localhost:8080/",
     "height": 588
    },
    "id": "jaexNHxVSh8H",
    "outputId": "d7c4c97e-6502-4001-f7f3-f89c47ea3ac8"
   },
   "outputs": [
    {
     "ename": "ValueError",
     "evalue": "ignored",
     "output_type": "error",
     "traceback": [
      "\u001b[0;31m---------------------------------------------------------------------------\u001b[0m",
      "\u001b[0;31mValueError\u001b[0m                                Traceback (most recent call last)",
      "\u001b[0;32m<ipython-input-228-0c5f6e3b513e>\u001b[0m in \u001b[0;36m<module>\u001b[0;34m\u001b[0m\n\u001b[1;32m      1\u001b[0m \u001b[0;31m# TODO 16.4\u001b[0m\u001b[0;34m\u001b[0m\u001b[0;34m\u001b[0m\u001b[0;34m\u001b[0m\u001b[0m\n\u001b[0;32m----> 2\u001b[0;31m \u001b[0mplots\u001b[0m \u001b[0;34m=\u001b[0m \u001b[0mplt\u001b[0m\u001b[0;34m.\u001b[0m\u001b[0mplot\u001b[0m\u001b[0;34m(\u001b[0m\u001b[0mx_values\u001b[0m\u001b[0;34m,\u001b[0m \u001b[0my_values\u001b[0m\u001b[0;34m)\u001b[0m\u001b[0;34m\u001b[0m\u001b[0;34m\u001b[0m\u001b[0m\n\u001b[0m",
      "\u001b[0;32m/usr/local/lib/python3.8/dist-packages/matplotlib/pyplot.py\u001b[0m in \u001b[0;36mplot\u001b[0;34m(scalex, scaley, data, *args, **kwargs)\u001b[0m\n\u001b[1;32m   2765\u001b[0m \u001b[0;34m@\u001b[0m\u001b[0m_copy_docstring_and_deprecators\u001b[0m\u001b[0;34m(\u001b[0m\u001b[0mAxes\u001b[0m\u001b[0;34m.\u001b[0m\u001b[0mplot\u001b[0m\u001b[0;34m)\u001b[0m\u001b[0;34m\u001b[0m\u001b[0;34m\u001b[0m\u001b[0m\n\u001b[1;32m   2766\u001b[0m \u001b[0;32mdef\u001b[0m \u001b[0mplot\u001b[0m\u001b[0;34m(\u001b[0m\u001b[0;34m*\u001b[0m\u001b[0margs\u001b[0m\u001b[0;34m,\u001b[0m \u001b[0mscalex\u001b[0m\u001b[0;34m=\u001b[0m\u001b[0;32mTrue\u001b[0m\u001b[0;34m,\u001b[0m \u001b[0mscaley\u001b[0m\u001b[0;34m=\u001b[0m\u001b[0;32mTrue\u001b[0m\u001b[0;34m,\u001b[0m \u001b[0mdata\u001b[0m\u001b[0;34m=\u001b[0m\u001b[0;32mNone\u001b[0m\u001b[0;34m,\u001b[0m \u001b[0;34m**\u001b[0m\u001b[0mkwargs\u001b[0m\u001b[0;34m)\u001b[0m\u001b[0;34m:\u001b[0m\u001b[0;34m\u001b[0m\u001b[0;34m\u001b[0m\u001b[0m\n\u001b[0;32m-> 2767\u001b[0;31m     return gca().plot(\n\u001b[0m\u001b[1;32m   2768\u001b[0m         \u001b[0;34m*\u001b[0m\u001b[0margs\u001b[0m\u001b[0;34m,\u001b[0m \u001b[0mscalex\u001b[0m\u001b[0;34m=\u001b[0m\u001b[0mscalex\u001b[0m\u001b[0;34m,\u001b[0m \u001b[0mscaley\u001b[0m\u001b[0;34m=\u001b[0m\u001b[0mscaley\u001b[0m\u001b[0;34m,\u001b[0m\u001b[0;34m\u001b[0m\u001b[0;34m\u001b[0m\u001b[0m\n\u001b[1;32m   2769\u001b[0m         **({\"data\": data} if data is not None else {}), **kwargs)\n",
      "\u001b[0;32m/usr/local/lib/python3.8/dist-packages/matplotlib/axes/_axes.py\u001b[0m in \u001b[0;36mplot\u001b[0;34m(self, scalex, scaley, data, *args, **kwargs)\u001b[0m\n\u001b[1;32m   1633\u001b[0m         \"\"\"\n\u001b[1;32m   1634\u001b[0m         \u001b[0mkwargs\u001b[0m \u001b[0;34m=\u001b[0m \u001b[0mcbook\u001b[0m\u001b[0;34m.\u001b[0m\u001b[0mnormalize_kwargs\u001b[0m\u001b[0;34m(\u001b[0m\u001b[0mkwargs\u001b[0m\u001b[0;34m,\u001b[0m \u001b[0mmlines\u001b[0m\u001b[0;34m.\u001b[0m\u001b[0mLine2D\u001b[0m\u001b[0;34m)\u001b[0m\u001b[0;34m\u001b[0m\u001b[0;34m\u001b[0m\u001b[0m\n\u001b[0;32m-> 1635\u001b[0;31m         \u001b[0mlines\u001b[0m \u001b[0;34m=\u001b[0m \u001b[0;34m[\u001b[0m\u001b[0;34m*\u001b[0m\u001b[0mself\u001b[0m\u001b[0;34m.\u001b[0m\u001b[0m_get_lines\u001b[0m\u001b[0;34m(\u001b[0m\u001b[0;34m*\u001b[0m\u001b[0margs\u001b[0m\u001b[0;34m,\u001b[0m \u001b[0mdata\u001b[0m\u001b[0;34m=\u001b[0m\u001b[0mdata\u001b[0m\u001b[0;34m,\u001b[0m \u001b[0;34m**\u001b[0m\u001b[0mkwargs\u001b[0m\u001b[0;34m)\u001b[0m\u001b[0;34m]\u001b[0m\u001b[0;34m\u001b[0m\u001b[0;34m\u001b[0m\u001b[0m\n\u001b[0m\u001b[1;32m   1636\u001b[0m         \u001b[0;32mfor\u001b[0m \u001b[0mline\u001b[0m \u001b[0;32min\u001b[0m \u001b[0mlines\u001b[0m\u001b[0;34m:\u001b[0m\u001b[0;34m\u001b[0m\u001b[0;34m\u001b[0m\u001b[0m\n\u001b[1;32m   1637\u001b[0m             \u001b[0mself\u001b[0m\u001b[0;34m.\u001b[0m\u001b[0madd_line\u001b[0m\u001b[0;34m(\u001b[0m\u001b[0mline\u001b[0m\u001b[0;34m)\u001b[0m\u001b[0;34m\u001b[0m\u001b[0;34m\u001b[0m\u001b[0m\n",
      "\u001b[0;32m/usr/local/lib/python3.8/dist-packages/matplotlib/axes/_base.py\u001b[0m in \u001b[0;36m__call__\u001b[0;34m(self, data, *args, **kwargs)\u001b[0m\n\u001b[1;32m    310\u001b[0m                 \u001b[0mthis\u001b[0m \u001b[0;34m+=\u001b[0m \u001b[0margs\u001b[0m\u001b[0;34m[\u001b[0m\u001b[0;36m0\u001b[0m\u001b[0;34m]\u001b[0m\u001b[0;34m,\u001b[0m\u001b[0;34m\u001b[0m\u001b[0;34m\u001b[0m\u001b[0m\n\u001b[1;32m    311\u001b[0m                 \u001b[0margs\u001b[0m \u001b[0;34m=\u001b[0m \u001b[0margs\u001b[0m\u001b[0;34m[\u001b[0m\u001b[0;36m1\u001b[0m\u001b[0;34m:\u001b[0m\u001b[0;34m]\u001b[0m\u001b[0;34m\u001b[0m\u001b[0;34m\u001b[0m\u001b[0m\n\u001b[0;32m--> 312\u001b[0;31m             \u001b[0;32myield\u001b[0m \u001b[0;32mfrom\u001b[0m \u001b[0mself\u001b[0m\u001b[0;34m.\u001b[0m\u001b[0m_plot_args\u001b[0m\u001b[0;34m(\u001b[0m\u001b[0mthis\u001b[0m\u001b[0;34m,\u001b[0m \u001b[0mkwargs\u001b[0m\u001b[0;34m)\u001b[0m\u001b[0;34m\u001b[0m\u001b[0;34m\u001b[0m\u001b[0m\n\u001b[0m\u001b[1;32m    313\u001b[0m \u001b[0;34m\u001b[0m\u001b[0m\n\u001b[1;32m    314\u001b[0m     \u001b[0;32mdef\u001b[0m \u001b[0mget_next_color\u001b[0m\u001b[0;34m(\u001b[0m\u001b[0mself\u001b[0m\u001b[0;34m)\u001b[0m\u001b[0;34m:\u001b[0m\u001b[0;34m\u001b[0m\u001b[0;34m\u001b[0m\u001b[0m\n",
      "\u001b[0;32m/usr/local/lib/python3.8/dist-packages/matplotlib/axes/_base.py\u001b[0m in \u001b[0;36m_plot_args\u001b[0;34m(self, tup, kwargs, return_kwargs)\u001b[0m\n\u001b[1;32m    496\u001b[0m \u001b[0;34m\u001b[0m\u001b[0m\n\u001b[1;32m    497\u001b[0m         \u001b[0;32mif\u001b[0m \u001b[0mx\u001b[0m\u001b[0;34m.\u001b[0m\u001b[0mshape\u001b[0m\u001b[0;34m[\u001b[0m\u001b[0;36m0\u001b[0m\u001b[0;34m]\u001b[0m \u001b[0;34m!=\u001b[0m \u001b[0my\u001b[0m\u001b[0;34m.\u001b[0m\u001b[0mshape\u001b[0m\u001b[0;34m[\u001b[0m\u001b[0;36m0\u001b[0m\u001b[0;34m]\u001b[0m\u001b[0;34m:\u001b[0m\u001b[0;34m\u001b[0m\u001b[0;34m\u001b[0m\u001b[0m\n\u001b[0;32m--> 498\u001b[0;31m             raise ValueError(f\"x and y must have same first dimension, but \"\n\u001b[0m\u001b[1;32m    499\u001b[0m                              f\"have shapes {x.shape} and {y.shape}\")\n\u001b[1;32m    500\u001b[0m         \u001b[0;32mif\u001b[0m \u001b[0mx\u001b[0m\u001b[0;34m.\u001b[0m\u001b[0mndim\u001b[0m \u001b[0;34m>\u001b[0m \u001b[0;36m2\u001b[0m \u001b[0;32mor\u001b[0m \u001b[0my\u001b[0m\u001b[0;34m.\u001b[0m\u001b[0mndim\u001b[0m \u001b[0;34m>\u001b[0m \u001b[0;36m2\u001b[0m\u001b[0;34m:\u001b[0m\u001b[0;34m\u001b[0m\u001b[0;34m\u001b[0m\u001b[0m\n",
      "\u001b[0;31mValueError\u001b[0m: x and y must have same first dimension, but have shapes (120,) and (0,)"
     ]
    },
    {
     "data": {
      "image/png": "[encoded data removed]",
      "text/plain": [
       "<Figure size 432x288 with 1 Axes>"
      ]
     },
     "metadata": {
      "needs_background": "light"
     },
     "output_type": "display_data"
    }
   ],
   "source": [
    "# TODO 16.4\n",
    "plots = plt.plot(x_values, y_values)"
   ]
  }
 ],
 "metadata": {
  "colab": {
   "provenance": []
  },
  "kernelspec": {
   "display_name": "Python 3",
   "language": "python",
   "name": "python3"
  },
  "language_info": {
   "codemirror_mode": {
    "name": "ipython",
    "version": 3
   },
   "file_extension": ".py",
   "mimetype": "text/x-python",
   "name": "python",
   "nbconvert_exporter": "python",
   "pygments_lexer": "ipython3",
   "version": "3.8.8"
  },
  "toc": {
   "base_numbering": 1,
   "nav_menu": {},
   "number_sections": true,
   "sideBar": true,
   "skip_h1_title": false,
   "title_cell": "Table of Contents",
   "title_sidebar": "Contents",
   "toc_cell": false,
   "toc_position": {
    "height": "calc(100% - 180px)",
    "left": "10px",
    "top": "150px",
    "width": "236px"
   },
   "toc_section_display": true,
   "toc_window_display": true
  }
 },
 "nbformat": 4,
 "nbformat_minor": 1
}
