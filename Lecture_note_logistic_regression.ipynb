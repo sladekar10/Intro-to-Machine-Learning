{
 "cells": [
  {
   "cell_type": "code",
   "execution_count": 1,
   "metadata": {
    "id": "PnrrPSj9V3x7"
   },
   "outputs": [],
   "source": [
    "from typing import List, Tuple\n",
    "\n",
    "import numpy as np\n",
    "import pandas as pd\n",
    "import seaborn as sns\n",
    "import matplotlib.pyplot as plt\n",
    "%matplotlib inline\n",
    "\n",
    "np.set_printoptions(suppress=True) "
   ]
  },
  {
   "cell_type": "markdown",
   "metadata": {
    "id": "V7kpwAbPV3x9"
   },
   "source": [
    "$\\newcommand{\\xv}{\\mathbf{x}}\n",
    " \\newcommand{\\wv}{\\mathbf{w}}\n",
    " \\newcommand{\\yv}{\\mathbf{y}}\n",
    " \\newcommand{\\zv}{\\mathbf{z}}\n",
    " \\newcommand{\\uv}{\\mathbf{u}}\n",
    " \\newcommand{\\vv}{\\mathbf{v}}\n",
    " \\newcommand{\\tv}{\\mathbf{t}}\n",
    "  \\newcommand{\\bv}{\\mathbf{b}}\n",
    " \\newcommand{\\Chi}{\\mathcal{X}}\n",
    " \\newcommand{\\R}{\\rm I\\!R}\n",
    " \\newcommand{\\sign}{\\text{sign}}\n",
    " \\newcommand{\\Tm}{\\mathbf{T}}\n",
    " \\newcommand{\\Xm}{\\mathbf{X}}\n",
    " \\newcommand{\\Zm}{\\mathbf{Z}}\n",
    " \\newcommand{\\Im}{\\mathbf{I}}\n",
    " \\newcommand{\\Um}{\\mathbf{U}}\n",
    " \\newcommand{\\Vm}{\\mathbf{V}} \n",
    " \\newcommand{\\muv}{\\boldsymbol\\mu}\n",
    " \\newcommand{\\Sigmav}{\\boldsymbol\\Sigma}\n",
    " \\newcommand{\\Lambdav}{\\boldsymbol\\Lambda}\n",
    "$\n",
    "# Logistic Regression Setup\n",
    "\n",
    "\n",
    "Before we get into logistic regression, we need to review the concepts regarding *Rosenblatt's perceptron* and *probabilistic classification*. As will soon be seen, logistic regression essentially combines these two ideas to create an algorithm that allows for the direct estimation of the posterior probability $P(y | x)$ by using gradient descent in conjunction with the preceptron learning framework. Additionally, we'll need a loss function to optimize which is where maximum likelihood estimation (MLE) will come into play.\n",
    "\n",
    "*Note that logistic regression DOES NOT refer to regression, thus the name can be rather deceiving. A better name might have been logistic classification.*"
   ]
  },
  {
   "cell_type": "markdown",
   "metadata": {
    "id": "IWGRjOOjV3x_"
   },
   "source": [
    "## Table of notation\n",
    "\n",
    "| Symbol                     | Meaning                     | Symbol    | Meaning                                                          |\n",
    "|----------------------------|-----------------------------|-----------|------------------------------------------------------------------|\n",
    "| $\\xv$ or $\\vec{x}$         | feature/input vector        | $x_i$     | $i$th element of $\\xv$                                           |\n",
    "| $\\Xm$                      | input matrix                | $x_{i,j}$ | $i$th row and $j$th column of $\\Xm$                              |\n",
    "| $\\yv$ or $\\tv$             | labels/targets              | $n$       | number of features or columns \n",
    "| $\\wv$ or $\\mathbf{\\theta}$ | weight/parameter vector     | $m$       | number of data samples <br>(also used to refer to the slope) |samples or rows                                   |\n",
    "| $f$ or $h$                 | hypothesis function <br> (i.e., a model)        | $\\hat{\\yv}$ <br> $f(\\xv {;} \\wv)$<br>$h(\\xv {;} \\wv)$ | predictions <br> y-hat |\n",
    "| $E$              | error or sum of error (loss)  | $SSE$      | sum of squared error function                                            |\n",
    "| $MSE$                      | mean squared error| $\\nabla$  | gradient (nabla)                                       |\n",
    "| $\\partial$                 | partial derivative          | $\\alpha$  | learning rate (alpha)                                  |       \n",
    "| $J$ | general placeholder for <br>the objective function | $x^T$| transpose of a vector or matrix |\n",
    "$b$ | bias or y-intercept term | $T$ | Threshold |\n",
    "$*$| element-wise<br> multiplication | $\\cdot$ | dot product|\n",
    "| $z$<br>$\\zv$| value before applying activation function |  $X, Y$ | Random variables |\n",
    "| $K$| number/set of classes | $k$ | current class|\n",
    "| $MLE$|  maximum likelihood estimation | $ML$ |  maximum likelihood|\n",
    "| $MLL$|  maximum log likelihood | $LL$ | log likelihood |\n",
    "| $L$|  likelihood | $NLL$ | negative log likelihood |\n",
    "| $g$ | activation function | |"
   ]
  },
  {
   "cell_type": "markdown",
   "metadata": {
    "id": "ZClhcwEMV3x_"
   },
   "source": [
    "## Perceptron\n",
    "\n",
    "Recall that the perceptron framework worked by dotting inputs $\\Xm$ with the weights $\\wv$ to get an output $\\zv$. An activation function $g$, specifically the $\\sign$ function, is then applied to the continuous outputs $g(\\zv)$ which squashes the values into discrete values that act as the class label predictions $\\hat{\\yv}$.  \n",
    "<img src=\"https://sebastianraschka.com/images/faq/logisticregr-neuralnet/schematic.png\" width=500 height=500>\n",
    "\n",
    "With logistic regression this same idea will be applied, however we are going to use different activation function, such as the sigmoid and softmax functions, to squash the continuous outputs $\\zv$ into probabilities instead of discrete labels! \n",
    "\n",
    "Thus, the order of events for computing probabilistic predictions when using logistic regression will go as follows:\n",
    "\n",
    "1. First, just like in linear modeling, we take the dot product of our input features $\\Xm$ and weights $\\wv$ (with a bias/threshold term added). Recall that taking the dot product is the same as multiplying each feature by the corresponding weight and summing! This gives us a continuous value, we'll refer to as $\\zv$.\n",
    "\n",
    "$$\n",
    "\\zv = \\Xm \\wv\n",
    "$$\n",
    "\n",
    "2. Next, an *activation function* $g$ is applied to our continuous values $\\zv$. \n",
    "\n",
    "$$\n",
    "\\hat{\\yv}_\\text{probs} = g(\\zv)\n",
    "$$\n",
    "\n",
    "3. Finally, a *thresholding function* is applied, such as the $\\arg \\max$, which selects the class label predictions from the probabilities.\n",
    "$$\n",
    "\\begin{align}\n",
    "\\hat{\\yv} &= \\arg \\max \\hat{\\yv}_\\text{probs} \\\\ \n",
    "&= \\arg \\max g(\\zv)\n",
    "\\end{align}\n",
    "$$ "
   ]
  },
  {
   "cell_type": "markdown",
   "metadata": {
    "id": "sa0TcUh5V3yA"
   },
   "source": [
    "## Probabilistic Classification\n",
    "\n",
    "Given logistic regression will be outputting probabilities, it is now time to tie in the ideas of probabilistic classification covered in the Naive Bayes module. The first idea to recall is the maximum likelihood (ML) equation for predicting labels. \n",
    "\n",
    "$$\n",
    "\\begin{align}\n",
    "\\hat{y}_{ML} &= \\arg \\max_{k \\in \\{1,...,K\\}} P(\\xv \\mid y_k) \\\\\n",
    "% &= \\arg \\max_{k \\in \\{1,...,K\\}} \\prod_{i=0}^n P(x_i|y_k)\n",
    "\\end{align}\n",
    "$$\n",
    "where in this equation\n",
    "- $K$ is the set of classes or total number of class. For instance, if we had 3 classes then $K$ would contain the set $K \\in \\{1,2,3\\}$\n",
    "- $\\arg \\max$, in general terms, refers to the point that maximizes a given function. In relation to our problem, $\\arg \\max$ refers to selecting the **label** for the class that has the highest probability.\n",
    "\n",
    "<!-- Further, recall that the $\\arg \\max$ of the likelihood is equal to the posterior probability as was shown in the Naive Bayes module by deriving ML from Bayes rule:\n",
    "$$\n",
    "\\begin{align}\n",
    "\\hat{y}_{ML} &= \\arg \\max_{k \\in \\{1,...,K\\}} P(\\xv \\mid y_k) \\\\\n",
    "\\end{align}\n",
    "$$ -->\n",
    "\n",
    "On the other hand, the prediction $\\hat{y}_{ML}$ is in fact denoting posterior probability: \n",
    "\n",
    "$$\n",
    "\\begin{align}\n",
    "\\hat{y}_{ML} &= \\arg \\max_{k \\in \\{1,...,K\\}} P(y_k \\mid \\xv)\n",
    "\\end{align}\n",
    "$$\n",
    "\n",
    "Going a step further, we can also say that posterior probability $ P(y_k \\mid \\xv)$ proportional to the likelihood $ P(\\xv \\mid y_k)$.\n",
    "\n",
    "$$\n",
    "\\begin{align}\n",
    " P(y_k \\mid \\xv)  &\\propto P(\\xv \\mid y_k)\n",
    "\\end{align}\n",
    "$$\n",
    "\n",
    "Here the symbol $\\propto$ means the values are proportional to each other but not equal. Meaning, if we applied the $\\arg \\max$ to both sets of values we would get the same predicted class labels, however the values themselves are not equal.\n",
    "\n",
    "In the Naive Bayes module the $=$ symbol was often used. However for ML and MAP, it is more accurate to say the ML and MAP equations are proportional to ($\\propto$) instead of equivalent ($=$) since the evidence and prior are dropped for ML and the evidence is dropped for MAP. "
   ]
  },
  {
   "cell_type": "markdown",
   "metadata": {
    "id": "nELwHsIBV3yA"
   },
   "source": [
    "# Maximum Likelihood Estimation (MLE)\n",
    "\n",
    "Maximum likelihood estimation refers to the general process of maximizing the likelihood (which can be done in different ways). In Naive Bayes, we encountered two specific methods for going about MLE. Recall these two methods are maximum likelihood (ML) and maximum log likelihood (MLL).\n",
    "\n",
    "Once again, we going to apply the general process of MLE, however we will need to take the ideas of ML and MLL and slightly reformulate them to include the weights/parameters $w$ of a model. With basic or categorical Naive Bayes there are no weights/parameters, the goal is to maximize the likelihood computed directly from the data. In the case of logistic regression and other models, we'll need weights in order to predict the posterior probabilities and class labels.\n",
    "\n",
    "The goal of MLE is to find the posterior probability such that given some data $\\xv$ and weights $\\wv$, we want the observed labels $y$ to be the most probable for each data sample.\n",
    "\n",
    "$$\n",
    "\\begin{align}\n",
    "ML(w) &=  \\arg \\max_w P(y \\mid \\xv; w) \\\\\n",
    "&= \\arg \\max_w \\prod_{i=1}^{m} P(y_i \\mid \\xv_i; w)\n",
    "\\end{align}\n",
    "$$\n",
    "\n",
    "where in this equation:\n",
    "\n",
    "- $ML(w)$  denotes the maximum likelihood of the weights/parameters\n",
    "- $ \\arg \\max_w$ denotes finding that weights best explain (i.e., predict) the labels $y$ for the given data. \n",
    "- $P(y \\mid \\xv; w)$ denotes the probability of a label $y$ given a data sample $\\xv$ parameterized by the weights $w$. The semi-colon notation is used to indicate that the parameters of a model/function that are either learned or will be learned. In this case, since we will be using a logistic regression to predict the probabilities we need to learn some weights $w$ to make said predictions. As we'll soon see, we can reformulate $P(y \\mid \\xv; w)$ as the output of our model $f(\\xv;w)$ where this semi-colon notation makes more sense as the weights $w$ are being used by said model. \n",
    "\n",
    "\n",
    "<!-- Notice we are using posterior probability itself $\\arg \\max_w P(y \\mid \\xv; w)$ and not the likelihood $\\arg \\max P(\\xv;w \\mid y) $ like we saw with Naive Bayes. This will be explained next. -->\n",
    "\n",
    "*Note, weights are given by this more general lowercase notation $w$ as they can now be either a matrix of shape (number of features, number of classes) or vector of shape (number of features, 1). Also, recall that you will often see the weighs referred to as parameters $\\theta$ as well.*\n",
    "\n"
   ]
  },
  {
   "cell_type": "markdown",
   "metadata": {
    "id": "DzrDDE-vV3yA"
   },
   "source": [
    "### Hidden likelihood term\n",
    "\n",
    "You might notice that the goal ML is to find the posterior probability, however the likelihood term $P(\\xv; w \\mid y)$ is not given in the above $ML(w)$ equation. So where does the likelihood term come into play? \n",
    "\n",
    "Recall, in Naive Bayes the likelihood term was a very tangible algorithm because we were able to compute the likelihood using the training data. However, this week the likelihood term will be more abstract. There are a few ways to interpret how the likelihood is implicitly contained with in the MLE idea even though the likelihood isn't always explicitly stated in MLE equations. Below is some interpretations that hopefully provide some more intuition about how the likelihood term is factors into everything.\n",
    "\n",
    "\n",
    "#### Interpretation 1\n",
    "\n",
    "First, remember that the likelihood is proportional to the posterior probability as shown by deriving ML from Bayes rule.\n",
    "\n",
    "$$\n",
    "P(y_k \\mid \\xv;w)  \\propto P(\\xv;w \\mid y_k) \\\\\n",
    "$$\n",
    "\n",
    "Thus, you can interpret the two as being substituted in for one-another such that solving for either one will produce the same results when predicting the class labels. Keep in mind, to predict the class labels the $\\arg \\max$ is required. \n",
    "\n",
    "As we'll see, instead of predicting the likelihood as the output, logistic regression will output the probability.\n",
    "\n",
    "For simplify, you can understand the likelihood and probability as below:\n",
    "- P(y|x): probability\n",
    "- P(x|y): likelihood\n",
    "\n",
    "We use the probability instead as it is more interpretable than the likelihood. Due to this proportionality idea, we can thing simply plug in the probability instead of the likelihood into the $ML(w)$ equation as seen below.\n",
    "\n",
    "$$\n",
    "\\begin{align}\n",
    "ML(w) &= \\arg \\max_w P(\\xv;w \\mid y) \\\\\n",
    "&=  \\arg \\max_w P(y \\mid \\xv; w) \\\\\n",
    "&= \\arg \\max_w \\prod_{i=1}^{m} P(y_i \\mid \\xv_i; w)\n",
    "\\end{align}\n",
    "$$\n",
    "\n",
    "#### Interpretation 2\n",
    "\n",
    "While the goal of MLE might be to find the posterior probability, recall we often have to use the likelihood to find it. It turns out that the optimization process through gradient descent acts as an abstraction of the of the likelihood term $ P(\\xv;w \\mid y_k)$. Recall the likelihood term can be read as the following: *given the labels $y$, find the features $\\xv$ and weights $w$ that are most likely to correspond to said class/label*.\n",
    "\n",
    "This is exactly the idea of the optimization process. Given some class or labels $y$, we want to find the weights $w$ using features $\\xv$ that are most likely for the given class. This is the inherit goal when trying to find the optimal weights! Keep in mind, we are actually trying to find the optimal weights that produce optimal predictions for EVERY class. "
   ]
  },
  {
   "cell_type": "markdown",
   "metadata": {
    "id": "P0hR5B3bV3yB"
   },
   "source": [
    "## Loss function\n",
    "\n",
    "Given this idea of MLE, now we need to convert it into a loss function such that we can use gradient descent to solve our classification problem at hand. Remember that the goal of any loss function is to minimize the value of the loss function. Doing so, we'll find weights that minimize total loss. For example, recall that for means square error (MSE) we want to minimize the mean of the squared errors. Turning MLE into a loss function will follow a similar idea. \n",
    "\n",
    "\n",
    "First, we start off by just computing the likelihood equation, also called the *likelihood function*. This often referred to as likelihood of the weights $L(w)$. Intuitively this can be interpreted as saying *how likely do the current weights make the observed labels, across ALL data samples, most probable*. Here the higher the value for $L(w)$, the better the weights are doing at predicting the labels across the entire dataset. The equation for $L(w)$ is defined as follows:\n",
    "$$\n",
    "\\begin{align}\n",
    "L(w) &=  P(y \\mid \\xv; w) \\\\\n",
    "&= \\prod_{i=1}^{m} P(y_i \\mid \\xv_i; w).\n",
    "\\end{align}\n",
    "$$\n",
    "\n",
    "where in this equation:\n",
    "- $m$ denotes the number of data samples\n",
    "- $i$ denotes the $i$th data sample\n",
    "- $P(y_i \\mid \\xv_i; w)$  denotes the probability of the observed true class label $y_i$ given the current features $\\xv_i$ using the weights $w$. \n",
    "\n",
    "\n",
    "Notice, once again, the product term is include which can cause numerical instability when multiplying many large or small numbers repeatedly. To fix this we simply take the $\\log$ of the likelihood function. The equation is called the *log likelihood function* and is defined as follows:\n",
    "\n",
    "\n",
    "$$\n",
    "\\begin{align}\n",
    "LL(w) &=  \\log P(y \\mid \\xv; w) \\\\\n",
    "&= \\sum_{i=1}^{m}  \\log P(y_i \\mid \\xv_i; w).\n",
    "\\end{align}\n",
    "$$\n",
    "\n",
    "Next, recall logistic regression outputs the posterior probability $P(y \\mid \\xv; w)$. Thus, we can represent $P(y \\mid \\xv; w)$ as the output of a function $f(\\xv; w)$ that takes in data $\\xv$ and is parameterized by weights $w$. Keep in mind, $f$ represents the model/algorithm - in this case logistic regression. The following is then true:\n",
    "\n",
    "\n",
    "$$\n",
    "P(y \\mid \\xv; w) = f(\\xv; w).\n",
    "$$\n",
    "\n",
    "Thus, the $LL(w)$ equation can be written as follows:\n",
    "\n",
    "$$\n",
    "\\begin{align}\n",
    "LL(w) &= \\log P(y \\mid \\xv; w) \\\\\n",
    "&= \\log f(\\xv; w) \\\\\n",
    "&= \\sum_{i=1}^{m}  \\log f(\\xv; w).\n",
    "\\end{align}\n",
    "$$\n",
    "\n",
    "Finally, recall the original goal of log likelihood is to *maximize* the log likelihood. We can convert this maximization problem into a minimization problem by using the *negative log likelihood (NLL)* function given as follows:\n",
    "$$\n",
    "\\begin{align}\n",
    "NLL(w) &=  - \\log f(\\xv; w) \\\\\n",
    "&= - \\sum_{i=1}^{m}  \\log f(\\xv; w).\n",
    "\\end{align}\n",
    "$$\n",
    "\n",
    "Notice, only a negative sign was added. \n",
    "\n",
    "The benefit of using NLL instead of LL is that NLL will return a positive sum where as LL will return a negative sum. This is because the $\\log_e$ of any number between 0 and 1 is as always negative. Therefore, a sum of negative numbers multiplied by a negative, produces a positive number. **Thus, in order to find the weights that make the observed labels most probable, we must minimize the NLL function, as seen below.**\n",
    "\n",
    "$$\n",
    "\\begin{align}\n",
    "NLL(w) &=  \\min - \\log f(\\xv; w) \\\\\n",
    "&= \\min - \\sum_{i=1}^{m}  \\log f(\\xv; w)\n",
    "\\end{align}\n",
    "$$\n",
    "\n",
    "Lastly, for $NLL(w)$ we can say the smaller the number, the better the weights are doing at predicting the labels across the entire dataset.  "
   ]
  },
  {
   "cell_type": "markdown",
   "metadata": {
    "id": "lfssGDR6V3yB"
   },
   "source": [
    "# Logistic Regression \n",
    "Recall that in Naive Bayes our goal was to make assumptions about how to model the likelihood $P(\\xv \\mid y)$ where we could use categorical Naive Bayes, Gaussian Naive Bayes or another distribution to do so. \n",
    "\n",
    "For logistic regression, we will now make assumptions about how to directly model posterior probabilities $P(y \\mid \\xv)$. To do so, we will use the sigmoid and softmax functions. "
   ]
  },
  {
   "cell_type": "markdown",
   "metadata": {
    "id": "YZDyV060V3yB"
   },
   "source": [
    "## Binary classification: **sigmoid** activation function\n",
    "\n",
    "The first activation function we can use to estimate $P(y \\mid \\xv; \\wv)$ is the sigmoid activation function. The sigmoid activation function equation is given as follows:\n",
    "\n",
    "$$\n",
    "\\begin{align}\n",
    "P(y \\mid \\xv; \\wv) = f(\\xv; \\wv) &= \\frac{1}{1 + e^{-z}} \\\\\n",
    "&= \\frac{1}{1 + e^{-\\wv^\\top \\xv}} \n",
    "\\end{align}\n",
    "$$\n",
    "\n",
    "\n",
    "For a given data sample's features $\\xv$, the sigmoid function simply allows us to squash the continuous output $z$ to values that range from 0 to 1. Can you see where this is going yet? Thus, we can use a binary classification setup where logistic regression with the sigmoid activation outputs a single probability which we say corresponds to the positive class probability.\n",
    "\n",
    "Note, an alternative way to formulate the sigmoid is as follows:\n",
    "\n",
    "$$\n",
    "\\begin{align}\n",
    "P(y \\mid \\xv; \\wv) = f(\\xv; \\wv) &= \\frac{e^z}{1 + e^{z}} \\\\\n",
    "&= \\frac{e^{\\wv^\\top \\xv}}{1 + e^{\\wv^\\top \\xv}} \n",
    "\\end{align}\n",
    "$$\n",
    "\n",
    "This form $\\frac{e^z}{1 + e^{z}}$ is useful to known about when programming as it can prevent overflow errors when $z$ is a very small negative value. Meanwhile, the original sigmoid formulation $\\frac{1}{1 + e^{-z}}$ can prevent overflow when $z$ is a very large positive value."
   ]
  },
  {
   "cell_type": "markdown",
   "metadata": {
    "id": "0Kk5rpqnV3yC"
   },
   "source": [
    "Below is the sigmoid equation defined as the `sigmoid()` function."
   ]
  },
  {
   "cell_type": "code",
   "execution_count": null,
   "metadata": {
    "id": "bqL52uLmV3yC"
   },
   "outputs": [],
   "source": [
    "def sigmoid(z):\n",
    "    return 1 / (1 + np.exp(-z))"
   ]
  },
  {
   "cell_type": "markdown",
   "metadata": {
    "id": "snZebKo3V3yC"
   },
   "source": [
    "Additionally, the below function `plot_sigmoid()` plots the sigmoid function.\n",
    "\n",
    "Here we can say all values approximately less than or equal to 0.5 are assigned the label of 0 (i.e., negative class) and all values approximately greater than 0.5 are assigned the label 1 (i.e., positive class). \n",
    "\n",
    "Further, the sigmoid activation function is essentially just a smoothed sign activation function. Recall we used the sign activation function with Rosenblatt's perceptron!"
   ]
  },
  {
   "cell_type": "code",
   "execution_count": null,
   "metadata": {
    "id": "hyyBHhQdV3yC",
    "outputId": "d8094d30-3308-4b0d-c1ea-da1d88e2e6f9"
   },
   "outputs": [
    {
     "data": {
      "image/png": "[encoded data removed]",
      "text/plain": [
       "<Figure size 432x288 with 1 Axes>"
      ]
     },
     "metadata": {
      "needs_background": "light"
     },
     "output_type": "display_data"
    }
   ],
   "source": [
    "def plot_sigmoid():\n",
    "\n",
    "    x_values = np.linspace(-10, 10, 120)\n",
    "    y_values = sigmoid(x_values)\n",
    "    plt.plot(x_values, y_values, 'r')\n",
    "    plt.hlines(y=.5, xmin=x_values.min(), xmax=x_values.max(), \n",
    "               colors='black', linestyles='dotted')\n",
    "    plt.yticks(np.arange(0, 1+.1, .1))\n",
    "    plt.ylabel(\"Probability\")\n",
    "    \n",
    "plot_sigmoid()\n",
    "plt.show()"
   ]
  },
  {
   "cell_type": "markdown",
   "metadata": {
    "id": "yxf94voMV3yD"
   },
   "source": [
    "### **Negative log likelihood loss function**\n",
    "For binary classification, we can formulate the NLL loss function as an indicator function where $y \\in [0, 1]$ as follows:\n",
    "\n",
    "\n",
    "$$\n",
    "NLL(\\wv) =\\begin{cases}\n",
    "    & -\\log(f(\\xv;\\wv)) \\, \\text{if} \\, y = 1\\\\\n",
    "    & -\\log(1- f(\\xv;\\wv)) \\ \\text{if} \\ y = 0\\\\\n",
    "\\end{cases}\n",
    "$$\n",
    "\n",
    "where $P(y \\mid \\xv; \\wv) = f(\\xv; \\wv)$. Sadly, formulating NLL loss function as an indicator function isn't very useful for optimization with gradient descent as the derivative can NOT be computed from the indicator function. Instead we can actually turn said indicator function into an actual equation.\n",
    "\n",
    "We can reformulate the NLL loss function into an actual equation by utilizing the [Bernoulli probability mass function equation](https://en.wikipedia.org/wiki/Bernoulli_distribution). Without applying the $\\log$, we get the following equation:\n",
    "\n",
    "\n",
    "$$\n",
    "NLL(\\wv) = - \\prod_{i=1}^{m} f(\\xv_i;\\wv)^{y_i} (1 - f(\\xv_i;\\wv))^{1 - y_i}     \n",
    "$$\n",
    "\n",
    "Applying the $\\log$, we then get the following NLL loss function for binary classification:\n",
    "$$\n",
    "NLL(\\wv) = - \\sum_{i=1}^{m} {y_i}\\log[f(\\xv_i;\\wv)] + ({1 - y_i})\\log[1 - f(\\xv_i;\\wv)]     \n",
    "$$\n",
    "\n",
    "Finally, we can compute the *average* loss for NLL by simply dividing by $m$ or the number of data samples.\n",
    "\n",
    "$$\n",
    "NLL(\\wv) = - \\frac{1}{m}\\sum_{i=1}^{m} {y_i}\\log[f(\\xv_i;\\wv)] + ({1 - y_i})\\log[1 - f(\\xv_i;\\wv)] \n",
    "$$"
   ]
  },
  {
   "cell_type": "markdown",
   "metadata": {
    "id": "3GSxbdLAV3yD"
   },
   "source": [
    "Often times, like with MSE, it is better to compute the mean of a loss function instead simply summing. Thus, below we define the binary NLL loss/loss function using the `binary_nllloss()` function to compute the average loss. Recall, loss functions measure how well a model/algorithm are performing. "
   ]
  },
  {
   "cell_type": "code",
   "execution_count": null,
   "metadata": {
    "id": "-zFz4SyWV3yD"
   },
   "outputs": [],
   "source": [
    "def binary_nll(y, pred_probs, epsilon=1e-4):\n",
    "    pos_class_probs = pred_probs+epsilon\n",
    "    neg_class_probs = 1-pred_probs+epsilon\n",
    "\n",
    "    losses = y*np.log(pos_class_probs) + (1-y)*np.log(neg_class_probs)\n",
    "    avg_loss = -np.sum(losses) / len(y)\n",
    "    \n",
    "    \n",
    "    return avg_loss"
   ]
  },
  {
   "cell_type": "markdown",
   "metadata": {
    "id": "PbRPCzTDV3yD"
   },
   "source": [
    "### Computing negative log likelihood gradient\n",
    "\n",
    "Since the sigmoid activation function is a smoothed version of the sign function, we can actually compute the gradient of the sigmoid activation! This means we can compute the gradient of our loss function. Thus, we can use the gradient of the NLL loss function with gradient descent to learn the weights that make the observed labels most probable.\n",
    "\n",
    "We can learn the best weights using any form of gradient descent such as online, mini-batch, or batch gradient descent. The below equation computes the batch gradient as we'll be using batch gradient in this module. \n",
    "\n",
    "$$\n",
    "\\begin{align}\n",
    "\\nabla NLL(\\wv) &= - \\sum_{i=1}^{m} (f(\\xv_i;\\wv) - y_i)\\xv_i \\\\\n",
    "&= - \\Xm^\\top \\big (f(\\Xm;\\wv) - \\yv \\big ) \n",
    "\\end{align}\n",
    "$$\n",
    "\n",
    "\n",
    "Extending to mini-batch and online is simply done by indexing an mini-batch or single sample at a time. For mini-batch gradient descent recall that you would need to compute the average gradient!\n",
    "\n",
    "The weight update using batch gradient for NLL is also as follows:\n",
    "$$\n",
    "\\begin{align}\n",
    "\\wv_{k+1} &= \\wv_{k} + \\alpha \\nabla NLL(\\wv_k)\\\\\n",
    "&=  \\wv_{k}- \\alpha \\big [ \\Xm^\\top \\big (f(\\Xm;\\wv) - \\yv \\big ) \\big ]\n",
    "\\end{align}\n",
    "$$\n",
    "\n",
    "\n",
    "*Note, often times you will see people derive and the log likelihood instead of the negative log likelihood. This produces the gradient that looks like the following: $ \\Xm^\\top \\big (\\yv - f(\\Xm;\\wv) \\big )$ where the order of subtraction is reversed.*"
   ]
  },
  {
   "cell_type": "markdown",
   "metadata": {
    "id": "uLIcMQZQV3yE"
   },
   "source": [
    "### Deriving negative log likelihood\n",
    "For those interested in how to derive the NLL loss function we can use the chain rule (for derivatives) to compute the derivatives of NLL one at a time. (Note, we'll see the chain rule appear again for neural networks!)\n",
    " \n",
    "$$\n",
    "\\frac{\\partial NLL(\\wv)}{\\partial \\wv} = \\frac{\\partial NLL(\\wv)}{\\partial f(\\xv;\\wv)}  \\frac{\\partial f(\\xv;\\wv)}{\\partial z}  \\frac{\\partial \\zv}{\\partial \\wv}\n",
    "$$\n",
    "<hr>\n",
    "\n",
    "Below is the derivative of the NLL equation with respect to $f(\\xv;\\wv)$. All we do is apply the derivative of the [natural log rule](https://web.ma.utexas.edu/users/m408n/m408c/CurrentWeb/LM3-6-2.php).\n",
    "\n",
    "$$\n",
    "\\begin{align}\n",
    "NLL(\\wv) &= -y\\log[f(\\xv;\\wv)] - (1 - y)\\log[1 - f(\\xv;\\wv)] \\\\\n",
    "\\frac{\\partial NLL(\\wv)}{\\partial f(\\xv;\\wv)} &= -\\frac{y}{f(\\xv;\\wv)} + \\frac{1-y}{1-f(\\xv;\\wv)} \\tag{1}\n",
    "\\end{align}\n",
    "$$\n",
    "\n",
    "<hr>\n",
    "\n",
    "\n",
    "\n",
    "Next, let's check the second item. The sigmoid function can be written as:\n",
    "$$\n",
    "f(\\xv; \\wv) = \\frac{1}{1 + e^{-z}} \n",
    "$$\n",
    "Then, we can calculate the derivative of the sigmoid function with respect to $z$. If you are interested in more details, [check here](https://math.stackexchange.com/questions/78575/derivative-of-sigmoid-function-sigma-x-frac11e-x).\n",
    "$$\n",
    "\\begin{align}\n",
    "\\frac{\\partial f(\\xv;\\wv)}{\\partial z} &= \\big( \\frac{1}{1 + e^{-z}} \\big) \\big( 1- \\frac{1}{1 + e^{-z}} \\big) \\\\ \n",
    "&=  f(\\xv; \\wv ) \\big( 1- f(\\xv; \\wv) \\big) \\tag{2}\n",
    "\\end{align}\n",
    "$$\n",
    "\n",
    "<hr>\n",
    "\n",
    "Below is the derivative of $z$ using matrix derivative:\n",
    "\n",
    "$$\n",
    "\\begin{align}\n",
    "z &= \\wv^\\top \\xv \\\\\n",
    "\\frac{\\partial \\zv}{\\partial \\wv} &= \\xv \\tag{3}\n",
    "\\end{align}\n",
    "$$\n",
    "\n",
    "<hr>\n",
    "\n",
    "Applying the chain rule, combinbing Eqs (1)-(3), we get the following:\n",
    "\n",
    "\n",
    "$$\n",
    "\\begin{align}\n",
    "\\frac{\\partial NLL(\\wv)}{\\partial \\wv} &= \\frac{\\partial NLL(\\wv)}{\\partial f(\\xv;\\wv)}  \\frac{\\partial f(\\xv;\\wv)}{\\partial z}  \\frac{\\partial \\zv}{\\partial \\wv} \\\\\n",
    "&= \\bigg [ - \\frac{y}{f(\\xv;\\wv)} + \\frac{1-y}{1-f(\\xv;\\wv)} \\bigg ]   f(\\xv; \\wv ) \\big( 1- f(\\xv; \\wv) \\big)  \\xv \\\\\n",
    "&= \\big [-y(1- f(\\xv; \\wv)) + (1- y) f(\\xv; \\wv ) \\big ]  \\xv \\\\ \n",
    "&= \\big [-y + yf(\\xv; \\wv) +  f(\\xv; \\wv )- yf(\\xv; \\wv )) \\big ]  \\xv \\\\\n",
    "&= [-y +  f(\\xv; \\wv )]  \\xv \\\\ \n",
    "&= [f(\\xv; \\wv ) - y]  \\xv \\tag{4}\n",
    "\\end{align}\n",
    "$$"
   ]
  },
  {
   "cell_type": "markdown",
   "metadata": {
    "id": "3QiqEoP9V3yE"
   },
   "source": [
    "## Code\n",
    "Now, let's go over the code and work with some toy data. \n",
    "\n",
    "### Utility functions\n",
    "\n",
    "Below are some utility functions for drawing the decision boundary given by the `plot_line_decision_boundary()` and plotting the toy data give by the `plot_2D_data()` function."
   ]
  },
  {
   "cell_type": "code",
   "execution_count": null,
   "metadata": {
    "id": "WeKZA9QeV3yE"
   },
   "outputs": [],
   "source": [
    "def plot_line_decision_boundary(\n",
    "    X: np.ndarray, \n",
    "    y: np.ndarray,\n",
    "    w: np.ndarray,\n",
    "    xlabel: str = '',\n",
    "    ylabel: str = '',\n",
    "    includes_bias:bool = False,\n",
    "    class_names: dict = None\n",
    "):\n",
    "    if len(w) > 3:\n",
    "        raise ValueError(\"To plot boundary requires at most 3 weights\")\n",
    "        \n",
    "    # Create decision boundary\n",
    "    line_X = np.linspace(np.min(X[:, 1])-1, np.max(X[:, 1])+1, len(X)).reshape(-1,1)\n",
    "    slope = -(w[0] / w[2]) / (w[0] / w[1])\n",
    "    y_intercept = -w[0]/ w[2]\n",
    "    decision_boundry = slope * line_X + y_intercept\n",
    "    \n",
    "    # plot data\n",
    "    plot_2D_data(\n",
    "        X, \n",
    "        y,\n",
    "        xlabel=xlabel,\n",
    "        ylabel=ylabel,\n",
    "        includes_bias=includes_bias, \n",
    "        class_names=class_names)\n",
    "    \n",
    "    plt.plot(line_X, decision_boundry)\n",
    "    plt.ylim(np.min(X[:, 2])-1, np.max(X[:, 2])+1)\n",
    "    plt.xlim(np.min(X[:, 1])-1, np.max(X[:, 1])+1)\n",
    "    plt.legend()\n",
    "    \n",
    "def plot_2D_data(\n",
    "    X: np.ndarray, \n",
    "    y: np.ndarray,\n",
    "    xlabel: str = '',\n",
    "    ylabel: str = '',\n",
    "    includes_bias=False, \n",
    "    class_names=None\n",
    "):\n",
    "    if class_names is None:\n",
    "        class_names = {}\n",
    "        \n",
    "    class_labels = np.unique(y)\n",
    "            \n",
    "    if includes_bias:\n",
    "        col_1, col_2 = 1, 2\n",
    "    else:\n",
    "        col_1, col_2 = 0, 1\n",
    "    \n",
    "    for l in class_labels:\n",
    "        class_locs = np.where(y == l)[0]\n",
    "        class_X = X[class_locs]\n",
    "        class_name = class_names.get(l, f'class {l}')\n",
    "\n",
    "        plt.scatter(class_X[:, col_1],\n",
    "                    class_X[:, col_2], \n",
    "                    label=class_name)\n",
    "\n",
    "    # Plot data\n",
    "    plt.xlim([np.min(X[:, col_1])-.5, np.max(X[:, col_1])+.5])\n",
    "    plt.ylim([np.min(X[:, col_2])-.5, np.max(X[:, col_2])+.5])\n",
    "    plt.xlabel(xlabel)\n",
    "    plt.ylabel(ylabel)\n",
    "    plt.legend()"
   ]
  },
  {
   "cell_type": "markdown",
   "metadata": {
    "id": "fb4w-vhdV3yE"
   },
   "source": [
    "Further, the function `nonseparable_linear_data()` creates some non-separable linear data."
   ]
  },
  {
   "cell_type": "code",
   "execution_count": null,
   "metadata": {
    "id": "72c3AQKJV3yE",
    "outputId": "dfe586b8-babc-444d-ba4f-154ca0dd4488"
   },
   "outputs": [
    {
     "name": "stdout",
     "output_type": "stream",
     "text": [
      "X shape: (100, 3)\n",
      "y shape: (100, 1)\n"
     ]
    },
    {
     "data": {
      "image/png": "[encoded data removed]",
      "text/plain": [
       "<Figure size 432x288 with 1 Axes>"
      ]
     },
     "metadata": {
      "needs_background": "light"
     },
     "output_type": "display_data"
    }
   ],
   "source": [
    "def nonseparable_linear_data(C1_size=50, C2_size=50):\n",
    "    mu1 = [-1, -1]\n",
    "    cov1 = np.eye(2) * 3\n",
    "\n",
    "    mu2 = [3, 4]\n",
    "    cov2 = np.eye(2) * 5\n",
    "    rng = np.random.RandomState(42)\n",
    "    C1 = rng.multivariate_normal(mu1, cov1, C1_size)\n",
    "    C2 = rng.multivariate_normal(mu2, cov2, C2_size)\n",
    "    \n",
    "    y = np.ones(len(C1)+len(C2))\n",
    "    y[:len(y)//2] = 0\n",
    "    bias = np.ones([C1_size+C2_size, 1])\n",
    "\n",
    "    X = np.vstack([C1, C2])\n",
    "    X = np.hstack([bias, X])\n",
    "    return X, y.reshape(-1, 1)\n",
    "\n",
    "X, y = nonseparable_linear_data()\n",
    "print(f\"X shape: {X.shape}\")\n",
    "print(f\"y shape: {y.shape}\")\n",
    "plot_2D_data(X, y, includes_bias=True)\n",
    "plt.show()"
   ]
  },
  {
   "cell_type": "markdown",
   "metadata": {
    "id": "0M6VVUqOV3yE"
   },
   "source": [
    "### Binary linear regression"
   ]
  },
  {
   "cell_type": "markdown",
   "metadata": {
    "id": "sV1cZgFgV3yE"
   },
   "source": [
    "Now we define the  `batch_gradient_descent()` function which uses gradient descent for finding the best weights. The `batch_gradient_descent()` functions works as follows.\n",
    "\n",
    "First, we start off by defining the random weights `w` as always. However, notice that shape of the weights `w` is set to `(X.shape[1], 1)`. Doing so ensures the weights are a 2D array as this is simply another way of doing so without using the `reshape()` method.\n",
    "\n",
    "```Python\n",
    "rng = np.random.RandomState(seed)\n",
    "w = rng.rand(X.shape[1], 1)\n",
    "```\n",
    "\n",
    "Next, we simply loop over the epochs as we are doing batch gradient descent which means we update the weights using every data samples at least once. We also define the `epoch_losses` list to hold the average loss over all data samples for each epoch.\n",
    "\n",
    "```Python\n",
    "epoch_losses = []\n",
    "for e in range(epochs):\n",
    "```\n",
    "\n",
    "We can then compute the continuous predictions `z` and pass them to the sigmoid function. Notice, we use ALL the data `X` as we are performing batch gradient descent.\n",
    "\n",
    "```Python\n",
    "z = X @ w\n",
    "probs = sigmoid(z)\n",
    "```\n",
    "\n",
    "Using the probabilities `prob`, we then compute the gradient of the NLL loss function. Notice that we use the dot product `@` which computes the gradient for each feature and sums across samples automatically. For instance, if `X.T`had shape (2,100) and `probs - y` had shape (100 , 1) then the gradient would be (2, 1). We then divide by the total number of samples to compute the average gradient\n",
    "\n",
    "*Note, before we broke the summing and dividing into separate parts as we used element wise multiplication. Using the dot product we can compute the gradients for every data sample and compute the sum for each feature at the same time!*\n",
    "\n",
    "```Python\n",
    "avg_gradient = (X.T @ (probs - y)) / len(y)\n",
    "```\n",
    "Next we update the weights using the true gradient.\n",
    "\n",
    "```Python\n",
    "w -= alpha * avg_gradient\n",
    "```\n",
    "Lastly, we compute the NLL loss for all data samples and then compute the total loss and store it in a list.\n",
    "```Python\n",
    "avg_loss = binary_nll(y, probs)\n",
    "epoch_losses.append(avg_loss)\n",
    "```"
   ]
  },
  {
   "cell_type": "code",
   "execution_count": null,
   "metadata": {
    "id": "7tjAA8bNV3yF"
   },
   "outputs": [],
   "source": [
    "def batch_gradient_descent(X, y, alpha, epochs=1, seed=0):\n",
    "    rng = np.random.RandomState(seed)\n",
    "    w = rng.rand(X.shape[1], 1)\n",
    "    \n",
    "    epoch_losses = []\n",
    "    for e in range(epochs):\n",
    "        z = X @ w\n",
    "        probs = sigmoid(z)\n",
    "        avg_gradient = (X.T @ (probs - y)) / len(y)\n",
    "        w -= alpha * avg_gradient\n",
    "        \n",
    "        # Pay attention to the order of the args!\n",
    "        avg_loss = binary_nll(y, probs)\n",
    "        epoch_losses.append(avg_loss)\n",
    "        \n",
    "    return epoch_losses, w"
   ]
  },
  {
   "cell_type": "code",
   "execution_count": null,
   "metadata": {
    "id": "zYn6zuKSV3yF"
   },
   "outputs": [],
   "source": [
    "X, y = nonseparable_linear_data()\n",
    "loss, w = batch_gradient_descent(\n",
    "    X=X, \n",
    "    y=y,\n",
    "    alpha=.5, \n",
    "    epochs=200\n",
    ")"
   ]
  },
  {
   "cell_type": "markdown",
   "metadata": {
    "id": "mekSwfyPV3yF"
   },
   "source": [
    "Below we can see our weights."
   ]
  },
  {
   "cell_type": "code",
   "execution_count": null,
   "metadata": {
    "id": "i0NWKpvmV3yF",
    "outputId": "f94d242e-9244-407c-c33f-640bdf4f131b"
   },
   "outputs": [
    {
     "data": {
      "text/plain": [
       "array([[-2.62815356],\n",
       "       [ 1.32325989],\n",
       "       [ 1.50445294]])"
      ]
     },
     "execution_count": 11,
     "metadata": {},
     "output_type": "execute_result"
    }
   ],
   "source": [
    "w"
   ]
  },
  {
   "cell_type": "markdown",
   "metadata": {
    "id": "0ijCNCzuV3yF"
   },
   "source": [
    "This graph displays the average loss for each epoch. Notice as training goes on our loss slowly drops. Plotting the average loss for each epoch is typically referred to as the \"learning curve\" of the training. [Learning curves](https://en.wikipedia.org/wiki/Learning_curve_(machine_learning)) help us to visualize the learning process overtime. "
   ]
  },
  {
   "cell_type": "code",
   "execution_count": null,
   "metadata": {
    "id": "QHa8RmAGV3yF",
    "outputId": "4e8f9a92-7243-4bab-fad4-5463fcb2b29b"
   },
   "outputs": [
    {
     "data": {
      "image/png": "[encoded data removed]",
      "text/plain": [
       "<Figure size 432x288 with 1 Axes>"
      ]
     },
     "metadata": {
      "needs_background": "light"
     },
     "output_type": "display_data"
    }
   ],
   "source": [
    "plt.plot(loss, label='Traing loss')\n",
    "plt.title(\"Learning Curve\")\n",
    "plt.ylabel(\"NLL Average loss\")\n",
    "plt.xlabel(\"Epoch\")\n",
    "plt.legend()\n",
    "plt.show()"
   ]
  },
  {
   "cell_type": "markdown",
   "metadata": {
    "id": "KxGu9Zz6V3yF"
   },
   "source": [
    "If we plot the decision boundary using the learned weights we can see that logistic regression has learned to separate the data."
   ]
  },
  {
   "cell_type": "code",
   "execution_count": null,
   "metadata": {
    "id": "0fmM4mc8V3yF",
    "outputId": "4ddb690f-21bd-4e11-e564-ed9a31f0afc6"
   },
   "outputs": [
    {
     "data": {
      "image/png": "[encoded data removed]",
      "text/plain": [
       "<Figure size 432x288 with 1 Axes>"
      ]
     },
     "metadata": {
      "needs_background": "light"
     },
     "output_type": "display_data"
    }
   ],
   "source": [
    "plot_line_decision_boundary(X, y, w, includes_bias=True)"
   ]
  },
  {
   "cell_type": "markdown",
   "metadata": {
    "id": "h-60gauEV3yG"
   },
   "source": [
    "Next, we can make predictions using the learned weights `w`. Recall that in order to determine if a sample is a positive or negative sample we simply use a 0.5 threshold. \n",
    "\n",
    "This means, if the predicted positive probability is above 0.5 then it will be a positive sample (label 1) and if it is less than or equal to 0.5 it will be a negative sample (label 0).\n",
    "\n",
    "We can simply check for this using the following code. Here `False` indicates the positive probability is below the threshold and `True` indicates it is above the threshold."
   ]
  },
  {
   "cell_type": "code",
   "execution_count": null,
   "metadata": {
    "id": "0pWQSRPWV3yG",
    "outputId": "4722a11b-bf2e-4cbb-aab1-4435bdbea9bc",
    "scrolled": true
   },
   "outputs": [
    {
     "data": {
      "text/plain": [
       "array([[False],\n",
       "       [False],\n",
       "       [False],\n",
       "       [ True],\n",
       "       [False],\n",
       "       [False],\n",
       "       [False],\n",
       "       [False],\n",
       "       [False],\n",
       "       [False],\n",
       "       [False],\n",
       "       [False],\n",
       "       [False],\n",
       "       [False],\n",
       "       [False],\n",
       "       [False],\n",
       "       [False],\n",
       "       [False],\n",
       "       [False],\n",
       "       [False],\n",
       "       [False],\n",
       "       [False],\n",
       "       [False],\n",
       "       [False],\n",
       "       [False],\n",
       "       [False],\n",
       "       [False],\n",
       "       [False],\n",
       "       [False],\n",
       "       [False],\n",
       "       [False],\n",
       "       [False],\n",
       "       [False],\n",
       "       [False],\n",
       "       [False],\n",
       "       [False],\n",
       "       [False],\n",
       "       [False],\n",
       "       [False],\n",
       "       [False],\n",
       "       [False],\n",
       "       [False],\n",
       "       [False],\n",
       "       [False],\n",
       "       [False],\n",
       "       [False],\n",
       "       [False],\n",
       "       [False],\n",
       "       [False],\n",
       "       [False],\n",
       "       [ True],\n",
       "       [ True],\n",
       "       [ True],\n",
       "       [ True],\n",
       "       [ True],\n",
       "       [ True],\n",
       "       [ True],\n",
       "       [ True],\n",
       "       [ True],\n",
       "       [ True],\n",
       "       [ True],\n",
       "       [ True],\n",
       "       [ True],\n",
       "       [ True],\n",
       "       [ True],\n",
       "       [ True],\n",
       "       [ True],\n",
       "       [ True],\n",
       "       [ True],\n",
       "       [ True],\n",
       "       [ True],\n",
       "       [ True],\n",
       "       [ True],\n",
       "       [False],\n",
       "       [ True],\n",
       "       [ True],\n",
       "       [ True],\n",
       "       [ True],\n",
       "       [ True],\n",
       "       [ True],\n",
       "       [ True],\n",
       "       [ True],\n",
       "       [ True],\n",
       "       [ True],\n",
       "       [ True],\n",
       "       [ True],\n",
       "       [ True],\n",
       "       [ True],\n",
       "       [ True],\n",
       "       [ True],\n",
       "       [ True],\n",
       "       [ True],\n",
       "       [ True],\n",
       "       [ True],\n",
       "       [False],\n",
       "       [ True],\n",
       "       [ True],\n",
       "       [ True],\n",
       "       [ True],\n",
       "       [ True]])"
      ]
     },
     "execution_count": 14,
     "metadata": {},
     "output_type": "execute_result"
    }
   ],
   "source": [
    "z = X @ w\n",
    "pos_probs = sigmoid(z)\n",
    "(pos_probs > 0.5)"
   ]
  },
  {
   "cell_type": "markdown",
   "metadata": {
    "id": "x7MLRcWhV3yG"
   },
   "source": [
    "Wrapping the boolean function in `np.uint8` converts the boolean array into a array of integers where `False` is assigned the value of 0 (i.e., a negative sample) and `True` is assigned the value 1 (i.e., a positive sample)."
   ]
  },
  {
   "cell_type": "code",
   "execution_count": null,
   "metadata": {
    "id": "AxXk_2BlV3yG",
    "outputId": "4b7b75fe-0b09-4fee-cc6d-4903800ed321",
    "scrolled": true
   },
   "outputs": [
    {
     "data": {
      "text/plain": [
       "array([[0],\n",
       "       [0],\n",
       "       [0],\n",
       "       [1],\n",
       "       [0],\n",
       "       [0],\n",
       "       [0],\n",
       "       [0],\n",
       "       [0],\n",
       "       [0],\n",
       "       [0],\n",
       "       [0],\n",
       "       [0],\n",
       "       [0],\n",
       "       [0],\n",
       "       [0],\n",
       "       [0],\n",
       "       [0],\n",
       "       [0],\n",
       "       [0],\n",
       "       [0],\n",
       "       [0],\n",
       "       [0],\n",
       "       [0],\n",
       "       [0],\n",
       "       [0],\n",
       "       [0],\n",
       "       [0],\n",
       "       [0],\n",
       "       [0],\n",
       "       [0],\n",
       "       [0],\n",
       "       [0],\n",
       "       [0],\n",
       "       [0],\n",
       "       [0],\n",
       "       [0],\n",
       "       [0],\n",
       "       [0],\n",
       "       [0],\n",
       "       [0],\n",
       "       [0],\n",
       "       [0],\n",
       "       [0],\n",
       "       [0],\n",
       "       [0],\n",
       "       [0],\n",
       "       [0],\n",
       "       [0],\n",
       "       [0],\n",
       "       [1],\n",
       "       [1],\n",
       "       [1],\n",
       "       [1],\n",
       "       [1],\n",
       "       [1],\n",
       "       [1],\n",
       "       [1],\n",
       "       [1],\n",
       "       [1],\n",
       "       [1],\n",
       "       [1],\n",
       "       [1],\n",
       "       [1],\n",
       "       [1],\n",
       "       [1],\n",
       "       [1],\n",
       "       [1],\n",
       "       [1],\n",
       "       [1],\n",
       "       [1],\n",
       "       [1],\n",
       "       [1],\n",
       "       [0],\n",
       "       [1],\n",
       "       [1],\n",
       "       [1],\n",
       "       [1],\n",
       "       [1],\n",
       "       [1],\n",
       "       [1],\n",
       "       [1],\n",
       "       [1],\n",
       "       [1],\n",
       "       [1],\n",
       "       [1],\n",
       "       [1],\n",
       "       [1],\n",
       "       [1],\n",
       "       [1],\n",
       "       [1],\n",
       "       [1],\n",
       "       [1],\n",
       "       [1],\n",
       "       [0],\n",
       "       [1],\n",
       "       [1],\n",
       "       [1],\n",
       "       [1],\n",
       "       [1]], dtype=uint8)"
      ]
     },
     "execution_count": 15,
     "metadata": {},
     "output_type": "execute_result"
    }
   ],
   "source": [
    " np.uint8(pos_probs > 0.5)"
   ]
  },
  {
   "cell_type": "markdown",
   "metadata": {
    "id": "nkxTWEgGV3yG"
   },
   "source": [
    "Putting all this into the `sigmoid_predict()` function then let's us make predictions."
   ]
  },
  {
   "cell_type": "code",
   "execution_count": null,
   "metadata": {
    "id": "u92fE5ypV3yG"
   },
   "outputs": [],
   "source": [
    "def sigmoid_predict(X, w):\n",
    "    z = X @ w\n",
    "    pos_probs = sigmoid(z)\n",
    "    y_hat = np.uint8(pos_probs > 0.5)\n",
    "    return y_hat.reshape(-1,1)"
   ]
  },
  {
   "cell_type": "code",
   "execution_count": null,
   "metadata": {
    "id": "mIuS_zBQV3yG"
   },
   "outputs": [],
   "source": [
    "y_hat = sigmoid_predict(X, w)"
   ]
  },
  {
   "cell_type": "code",
   "execution_count": null,
   "metadata": {
    "id": "sf6u4vOoV3yG",
    "outputId": "1af308b7-cceb-488f-e181-21757838acb3"
   },
   "outputs": [
    {
     "data": {
      "text/plain": [
       "array([0, 0, 0, 1, 0, 0, 0, 0, 0, 0, 0, 0, 0, 0, 0, 0, 0, 0, 0, 0, 0, 0,\n",
       "       0, 0, 0, 0, 0, 0, 0, 0, 0, 0, 0, 0, 0, 0, 0, 0, 0, 0, 0, 0, 0, 0,\n",
       "       0, 0, 0, 0, 0, 0, 1, 1, 1, 1, 1, 1, 1, 1, 1, 1, 1, 1, 1, 1, 1, 1,\n",
       "       1, 1, 1, 1, 1, 1, 1, 0, 1, 1, 1, 1, 1, 1, 1, 1, 1, 1, 1, 1, 1, 1,\n",
       "       1, 1, 1, 1, 1, 1, 0, 1, 1, 1, 1, 1], dtype=uint8)"
      ]
     },
     "execution_count": 18,
     "metadata": {},
     "output_type": "execute_result"
    }
   ],
   "source": [
    "y_hat.flatten()"
   ]
  },
  {
   "cell_type": "code",
   "execution_count": null,
   "metadata": {
    "id": "IC2JGR-1V3yG",
    "outputId": "2420b710-c8fd-45e9-cf89-ed5884e3cb4a"
   },
   "outputs": [
    {
     "data": {
      "text/plain": [
       "0.97"
      ]
     },
     "execution_count": 19,
     "metadata": {},
     "output_type": "execute_result"
    }
   ],
   "source": [
    "from sklearn.metrics import accuracy_score\n",
    "accuracy_score(y, y_hat)"
   ]
  },
  {
   "cell_type": "markdown",
   "metadata": {
    "id": "e7LtXs3WV3yH"
   },
   "source": [
    "Lastly, we can compute the probabilities both for the positive and negative classes. To compute the negative probabilities we simply compute one minus the positive probabilities."
   ]
  },
  {
   "cell_type": "code",
   "execution_count": null,
   "metadata": {
    "id": "8URFm6EvV3yH"
   },
   "outputs": [],
   "source": [
    "def sigmoid_probabilities(X, w):\n",
    "    z = X @ w\n",
    "    pos_probs = sigmoid(z)\n",
    "    neg_probs = 1 - pos_probs\n",
    "    probs = np.hstack([neg_probs, pos_probs])\n",
    "    return probs"
   ]
  },
  {
   "cell_type": "code",
   "execution_count": null,
   "metadata": {
    "id": "PXE-eG8YV3yH",
    "outputId": "04c07a89-be93-4c72-96a6-2d168c7cd924",
    "scrolled": true
   },
   "outputs": [
    {
     "data": {
      "text/plain": [
       "array([[0.9907854 , 0.0092146 ],\n",
       "       [0.50067503, 0.49932497],\n",
       "       [0.99864507, 0.00135493],\n",
       "       [0.45924347, 0.54075653],\n",
       "       [0.99404815, 0.00595185],\n",
       "       [0.99956145, 0.00043855],\n",
       "       [0.99994917, 0.00005083],\n",
       "       [0.99998107, 0.00001893],\n",
       "       [0.99905025, 0.00094975],\n",
       "       [0.99998656, 0.00001344],\n",
       "       [0.9361353 , 0.0638647 ],\n",
       "       [0.99987828, 0.00012172],\n",
       "       [0.99836508, 0.00163492],\n",
       "       [0.99918776, 0.00081224],\n",
       "       [0.99949608, 0.00050392],\n",
       "       [0.88166618, 0.11833382],\n",
       "       [0.99973697, 0.00026303],\n",
       "       [0.9988327 , 0.0011673 ],\n",
       "       [0.99995824, 0.00004176],\n",
       "       [0.99966027, 0.00033973],\n",
       "       [0.9650002 , 0.0349998 ],\n",
       "       [0.9985071 , 0.0014929 ],\n",
       "       [0.99997791, 0.00002209],\n",
       "       [0.97717906, 0.02282094],\n",
       "       [0.99990508, 0.00009492],\n",
       "       [0.99671967, 0.00328033],\n",
       "       [0.99556349, 0.00443651],\n",
       "       [0.66063923, 0.33936077],\n",
       "       [0.99972129, 0.00027871],\n",
       "       [0.89609425, 0.10390575],\n",
       "       [0.9991228 , 0.0008772 ],\n",
       "       [0.99998502, 0.00001498],\n",
       "       [0.51487557, 0.48512443],\n",
       "       [0.95284065, 0.04715935],\n",
       "       [0.99818175, 0.00181825],\n",
       "       [0.65016529, 0.34983471],\n",
       "       [0.81166217, 0.18833783],\n",
       "       [0.99991026, 0.00008974],\n",
       "       [0.99761343, 0.00238657],\n",
       "       [0.99997031, 0.00002969],\n",
       "       [0.99349582, 0.00650418],\n",
       "       [0.96829631, 0.03170369],\n",
       "       [0.99981892, 0.00018108],\n",
       "       [0.9242225 , 0.0757775 ],\n",
       "       [0.99519167, 0.00480833],\n",
       "       [0.9375723 , 0.0624277 ],\n",
       "       [0.99963628, 0.00036372],\n",
       "       [0.99996163, 0.00003837],\n",
       "       [0.983648  , 0.016352  ],\n",
       "       [0.9976604 , 0.0023396 ],\n",
       "       [0.1472389 , 0.8527611 ],\n",
       "       [0.02541996, 0.97458004],\n",
       "       [0.00026343, 0.99973657],\n",
       "       [0.00000133, 0.99999867],\n",
       "       [0.00038148, 0.99961852],\n",
       "       [0.16899126, 0.83100874],\n",
       "       [0.00000013, 0.99999987],\n",
       "       [0.00040765, 0.99959235],\n",
       "       [0.03471581, 0.96528419],\n",
       "       [0.00000172, 0.99999828],\n",
       "       [0.00130429, 0.99869571],\n",
       "       [0.00111894, 0.99888106],\n",
       "       [0.00000007, 0.99999993],\n",
       "       [0.07422832, 0.92577168],\n",
       "       [0.0025718 , 0.9974282 ],\n",
       "       [0.04734321, 0.95265679],\n",
       "       [0.00299032, 0.99700968],\n",
       "       [0.00005259, 0.99994741],\n",
       "       [0.01873523, 0.98126477],\n",
       "       [0.00359055, 0.99640945],\n",
       "       [0.000004  , 0.999996  ],\n",
       "       [0.03826599, 0.96173401],\n",
       "       [0.00002126, 0.99997874],\n",
       "       [0.6775791 , 0.3224209 ],\n",
       "       [0.00005003, 0.99994997],\n",
       "       [0.00009457, 0.99990543],\n",
       "       [0.00217483, 0.99782517],\n",
       "       [0.00294855, 0.99705145],\n",
       "       [0.00000052, 0.99999948],\n",
       "       [0.00236838, 0.99763162],\n",
       "       [0.00080549, 0.99919451],\n",
       "       [0.00032649, 0.99967351],\n",
       "       [0.00000918, 0.99999082],\n",
       "       [0.00000009, 0.99999991],\n",
       "       [0.01633868, 0.98366132],\n",
       "       [0.12099722, 0.87900278],\n",
       "       [0.00025374, 0.99974626],\n",
       "       [0.00001737, 0.99998263],\n",
       "       [0.00000461, 0.99999539],\n",
       "       [0.00000015, 0.99999985],\n",
       "       [0.00178385, 0.99821615],\n",
       "       [0.00297705, 0.99702295],\n",
       "       [0.00011163, 0.99988837],\n",
       "       [0.00020046, 0.99979954],\n",
       "       [0.56024952, 0.43975048],\n",
       "       [0.00013377, 0.99986623],\n",
       "       [0.02183464, 0.97816536],\n",
       "       [0.0001043 , 0.9998957 ],\n",
       "       [0.0051616 , 0.9948384 ],\n",
       "       [0.0244433 , 0.9755567 ]])"
      ]
     },
     "execution_count": 21,
     "metadata": {},
     "output_type": "execute_result"
    }
   ],
   "source": [
    "probs = sigmoid_probabilities(X, w)\n",
    "probs"
   ]
  },
  {
   "cell_type": "markdown",
   "metadata": {
    "id": "N_xGrR3_V3yH"
   },
   "source": [
    "# Extending Logistic Regression (**Softmax** Regression)\n",
    "\n",
    "We can extend logistic regression to multi-class classification for linearly separable data by modeling the observed labels using a new activation function called the [softmax activation function](https://deepai.org/machine-learning-glossary-and-terms/softmax-layer). This form of logistic regression is often referred to as *softmax regression*.\n",
    "\n",
    "**Multi-class logistic regression with the softmax function is a generalization of binary logistic regression with the sigmoid function**. \n",
    "In short:\n",
    "- Binary classification: Sigmoid function\n",
    "- Multi-class classification: Softmax function\n",
    "\n",
    "Notice, the softmax formula is very similar to the sigmoid function. When performing binary classification with the softmax function acts exactly the same as if the sigmoid activation function was being used! \n",
    "\n",
    "The softmax activation function equation is given as follows, at the signle-sample level:\n",
    "\n",
    "$$\n",
    "\\begin{align}\n",
    "P(y \\mid \\xv; \\wv) = f(\\xv; \\wv) &= \\frac{e^{\\zv_i}}{\\sum_{k=1}^K e^{\\zv_k}}\n",
    "\\end{align}\n",
    "$$\n",
    "\n",
    "where in this equation\n",
    "- $K$ the number of classes.\n",
    "- $i$/$k$ refers to **the $i$th/$k$th element in the vector $\\zv$** (i.e., $i$th/$k$th class or column). \n",
    "- $\\zv$ is a continuous vector which contains the continuous predictions from the model. When using batch or mini-batches $\\zv$ will be a matrix $\\Zm$ with shape (number of features, number of classes).\n",
    "- $e^{\\zv_i}$ exponentiates each element in $\\zv$. The exponential $e$ is used to prevent negative values. Further, values will be very small if the input is negative, and very large if the input is large. However, simply using $e$ means the value range is still not fixed between (0, 1) which is what is required of a probability.\n",
    "- $\\sum_{k=1}^K e^{\\zv_k}$ is the normalizing term which ensures all values in $e^\\zv$ sum to 1. Meaning, the range of all values will be between (0, 1) and sum to 1. To do so, the sum over all elements in $e^\\zv$ is computed."
   ]
  },
  {
   "cell_type": "markdown",
   "metadata": {
    "id": "n9IKXOBBV3yH"
   },
   "source": [
    "Below is the code for the softmax activation function. However, note it is different from the given equation. The main difference is that we are subtracting max of each data sample over the columns from `z`. We do this to make the softmax function more numerically stable. See this [post](https://stackoverflow.com/a/49212689) to learn more!"
   ]
  },
  {
   "cell_type": "code",
   "execution_count": null,
   "metadata": {
    "id": "0s3ihjbXV3yH"
   },
   "outputs": [],
   "source": [
    "def softmax(z):\n",
    "    z = z - np.max(z, axis=-1, keepdims=True)\n",
    "    e_z = np.exp(z)\n",
    "    denominator = np.sum(e_z, axis=-1, keepdims=True)\n",
    "\n",
    "    return e_z / denominator"
   ]
  },
  {
   "cell_type": "markdown",
   "metadata": {
    "id": "HvVta3KxV3yH"
   },
   "source": [
    "Further, the below code shows how the `softmax` function works both on vectors and matricies."
   ]
  },
  {
   "cell_type": "code",
   "execution_count": null,
   "metadata": {
    "id": "DYwpHvGgV3yH",
    "outputId": "d9d40e9a-7819-4701-a1e0-daf135a4a849"
   },
   "outputs": [
    {
     "data": {
      "text/plain": [
       "array([[0.5488135 , 0.71518937, 0.60276338]])"
      ]
     },
     "execution_count": 23,
     "metadata": {},
     "output_type": "execute_result"
    }
   ],
   "source": [
    "rng = np.random.RandomState(0)\n",
    "rnd_data = rng.rand(1, 3)\n",
    "rnd_data"
   ]
  },
  {
   "cell_type": "code",
   "execution_count": null,
   "metadata": {
    "id": "cfeZftMyV3yH",
    "outputId": "956707ff-d777-49e8-a0ec-7c2031149070"
   },
   "outputs": [
    {
     "data": {
      "text/plain": [
       "array([[0.30898065, 0.36491138, 0.32610797]])"
      ]
     },
     "execution_count": 24,
     "metadata": {},
     "output_type": "execute_result"
    }
   ],
   "source": [
    "softmax_probs = softmax(rnd_data)\n",
    "softmax_probs"
   ]
  },
  {
   "cell_type": "markdown",
   "metadata": {
    "id": "8EKbT4EOV3yH"
   },
   "source": [
    "Notice, the sum is near one but isn't exactly 1. This is most likely due floating point imprecisions."
   ]
  },
  {
   "cell_type": "code",
   "execution_count": null,
   "metadata": {
    "id": "hi7gOx3HV3yH",
    "outputId": "69925f22-c71c-4b49-e879-06b04f693c78"
   },
   "outputs": [
    {
     "data": {
      "text/plain": [
       "0.9999999999999998"
      ]
     },
     "execution_count": 25,
     "metadata": {},
     "output_type": "execute_result"
    }
   ],
   "source": [
    "np.sum(softmax_probs)"
   ]
  },
  {
   "cell_type": "code",
   "execution_count": null,
   "metadata": {
    "id": "0iOC4nk2V3yI",
    "outputId": "f20a019a-aa12-4d96-96ed-d8088683db20"
   },
   "outputs": [
    {
     "data": {
      "text/plain": [
       "array([[0.5488135 , 0.71518937, 0.60276338],\n",
       "       [0.54488318, 0.4236548 , 0.64589411],\n",
       "       [0.43758721, 0.891773  , 0.96366276],\n",
       "       [0.38344152, 0.79172504, 0.52889492],\n",
       "       [0.56804456, 0.92559664, 0.07103606],\n",
       "       [0.0871293 , 0.0202184 , 0.83261985],\n",
       "       [0.77815675, 0.87001215, 0.97861834],\n",
       "       [0.79915856, 0.46147936, 0.78052918],\n",
       "       [0.11827443, 0.63992102, 0.14335329],\n",
       "       [0.94466892, 0.52184832, 0.41466194]])"
      ]
     },
     "execution_count": 26,
     "metadata": {},
     "output_type": "execute_result"
    }
   ],
   "source": [
    "rng = np.random.RandomState(0)\n",
    "rnd_matrix_data = rng.rand(10, 3)\n",
    "rnd_matrix_data"
   ]
  },
  {
   "cell_type": "code",
   "execution_count": null,
   "metadata": {
    "id": "el4r4PlkV3yI",
    "outputId": "c525d3f5-3c2a-45f5-80ed-173a8ce06995"
   },
   "outputs": [
    {
     "data": {
      "text/plain": [
       "array([[0.30898065, 0.36491138, 0.32610797],\n",
       "       [0.33421115, 0.29605481, 0.36973403],\n",
       "       [0.23434743, 0.36907156, 0.396581  ],\n",
       "       [0.27316453, 0.41090326, 0.31593222],\n",
       "       [0.3291452 , 0.47062004, 0.20023476],\n",
       "       [0.24735616, 0.23134691, 0.52129693],\n",
       "       [0.30137067, 0.33036442, 0.36826491],\n",
       "       [0.37106203, 0.2647246 , 0.36421337],\n",
       "       [0.26952757, 0.45409994, 0.27637249],\n",
       "       [0.44567311, 0.29200331, 0.26232358]])"
      ]
     },
     "execution_count": 27,
     "metadata": {},
     "output_type": "execute_result"
    }
   ],
   "source": [
    "softmax_matrix_probs = softmax(rnd_matrix_data)\n",
    "softmax_matrix_probs"
   ]
  },
  {
   "cell_type": "code",
   "execution_count": null,
   "metadata": {
    "id": "e06HpjnvV3yI",
    "outputId": "7ec57dd0-5d32-4952-e09f-1f390cb32e89"
   },
   "outputs": [
    {
     "data": {
      "text/plain": [
       "array([[1.],\n",
       "       [1.],\n",
       "       [1.],\n",
       "       [1.],\n",
       "       [1.],\n",
       "       [1.],\n",
       "       [1.],\n",
       "       [1.],\n",
       "       [1.],\n",
       "       [1.]])"
      ]
     },
     "execution_count": 28,
     "metadata": {},
     "output_type": "execute_result"
    }
   ],
   "source": [
    "np.sum(softmax_matrix_probs, axis=1, keepdims=True)"
   ]
  },
  {
   "cell_type": "markdown",
   "metadata": {
    "id": "YcTvjnAEV3yI"
   },
   "source": [
    "### Negative log likelihood loss function\n",
    "\n",
    "By using the softmax we can generalize the NLL loss function for multiple classes. This generalization is also referred to as the [*cross-entropy*](https://en.wikipedia.org/wiki/Cross_entropy) loss function. The generalized NLL loss function is given as follows:\n",
    "\n",
    "$$\n",
    "NLL(\\wv) = - \\sum_{i=1}^{m} {\\yv_i} * \\log[f(\\xv_i;\\wv)]     \n",
    "$$\n",
    "\n",
    "In the sigmoid function for binary classification, $\\yv_i \\in \\{0, 1\\}$; for softmax function for multiclass situation, $\\yv_i \\in \\{0, 1, \\cdots, N\\}$ where N denotes the number of all classes. \n",
    "\n",
    "<!-- - Another difference between sigmoid and softmax is that the function $f(\\xv_i;\\wv)$ is differnet.  -->\n",
    "\n",
    "<!-- The idea being that we compute the loss for each sample with respect to the observed true class label and the predicted probability for the observed true class label ONLY! -->\n",
    "\n",
    "<!-- Remember, we were doing exactly the same thing with the binary version of NLL, however we only had the positive class probabilities and we derived the negative probabilities using the positive class probabilities. Now, we have access to the probabilities for ALL classes thanks to the softmax function! -->\n",
    "\n",
    "Recall we can easily compute the mean NLL loss by dividing by $m$ data samples as follows:\n",
    "\n",
    "$$\n",
    "NLL(\\wv) = - \\frac{1}{m}\\sum_{i=1}^{m} {\\yv_i} * \\log[f(\\xv_i;\\wv)].    \n",
    "$$\n",
    "\n",
    "Below the `nll()` function contains the code for the mean of the generalized NLL loss function."
   ]
  },
  {
   "cell_type": "code",
   "execution_count": null,
   "metadata": {
    "id": "9UqD132RV3yI"
   },
   "outputs": [],
   "source": [
    "def nll(y, pred_probs, epsilon=1e-5):\n",
    "    pred_probs = pred_probs + epsilon\n",
    "    \n",
    "    loss = y * np.log(pred_probs)\n",
    "    cost = -np.sum(loss)\n",
    "    \n",
    "    return cost"
   ]
  },
  {
   "cell_type": "markdown",
   "metadata": {
    "id": "QqdiqzXGV3yI"
   },
   "source": [
    "#### One-hot encoding \n",
    " In order for the NLL to work as intended, we first need to make sure that the labels $y$ have been converted in to one hot encodings. Recall that we are multiplying $y$ by $\\log[f(\\xv_i;\\wv)]$ where $f(\\xv_i;\\wv)$ outputs probabilities for each class.\n",
    " \n",
    " \n",
    "By converting the labels into a one-hot encoding this ensures that the loss for each sample is computed with respect to the observed true class label and the predicted probability for the observed true class label ONLY. This is because a given label's one-hot encoding will contain the value 1 only for the column of the corresponding ground truth class! This means the rest of the class columns will be zero causing their loss values to not be considered as 0 multiplied by anything is zero.\n",
    "\n",
    "For example, using a single data sample let's assume the true class label $y_i$ is 1 and the possible classes are $\\{0,1,2\\}$, thus the one-hot encoding is $[0, 1, 0]$. Further, let's say the predicted probabilities output by model $f$ are $f(\\xv_i;\\wv) = [ 0.2, 0.7, 0.1]$. After taking argmax operation, $[ 0.2, 0.7, 0.1]$ becomes $[0, 1, 0]$. Thus, the NLL loss function would look as follows:\n",
    "\n",
    "\n",
    "\\begin{align}\n",
    "  \\begin{bmatrix}\n",
    "            0, 1, 0 \\\\\n",
    "  \\end{bmatrix} * \\log \\big (\n",
    "  \\begin{bmatrix}\n",
    "      0.2, 0.7, 0.1\n",
    "  \\end{bmatrix} \\big ).\n",
    "\\end{align}\n",
    "\n",
    "which is the same as saying the following:\n",
    "\n",
    "$$\n",
    "1 * \\log(0.7).\n",
    "$$"
   ]
  },
  {
   "cell_type": "markdown",
   "metadata": {
    "id": "W4Bse9tqV3yI"
   },
   "source": [
    "Below the `onehot()` functions converts a vector of labels into matrix of one-hot encodings using NumPy. "
   ]
  },
  {
   "cell_type": "code",
   "execution_count": null,
   "metadata": {
    "id": "AmbvvNcDV3yI"
   },
   "outputs": [],
   "source": [
    "def onehot(y):\n",
    "    n_values = np.max(y) + 1\n",
    "    oh = np.eye(n_values)[y.flatten()]\n",
    "    return oh"
   ]
  },
  {
   "cell_type": "code",
   "execution_count": null,
   "metadata": {
    "id": "8GJwi66OV3yI",
    "outputId": "105b2405-8232-496a-8c05-81601b3a3d18"
   },
   "outputs": [
    {
     "data": {
      "text/plain": [
       "array([1, 0, 2, 4, 3, 1])"
      ]
     },
     "execution_count": 31,
     "metadata": {},
     "output_type": "execute_result"
    }
   ],
   "source": [
    "labels = np.array([1,0,2,4,3,1])\n",
    "labels"
   ]
  },
  {
   "cell_type": "code",
   "execution_count": null,
   "metadata": {
    "id": "nCJ9z8IrV3yJ",
    "outputId": "47897cee-c2e5-496e-ea48-01ba13cea647"
   },
   "outputs": [
    {
     "data": {
      "text/plain": [
       "array([[0., 1., 0., 0., 0.],\n",
       "       [1., 0., 0., 0., 0.],\n",
       "       [0., 0., 1., 0., 0.],\n",
       "       [0., 0., 0., 0., 1.],\n",
       "       [0., 0., 0., 1., 0.],\n",
       "       [0., 1., 0., 0., 0.]])"
      ]
     },
     "execution_count": 32,
     "metadata": {},
     "output_type": "execute_result"
    }
   ],
   "source": [
    "labels_oh = onehot(labels)\n",
    "labels_oh"
   ]
  },
  {
   "cell_type": "markdown",
   "metadata": {
    "id": "uKfZlrbwV3yJ"
   },
   "source": [
    "Below is the same one-hot encoding but converted into a DataFrame to increase readability. Notice how the 1st column corresponds to label 0,  the 2nd column corresponds to label 1, and so on. Keep in mind, the rows corresponds to the data samples."
   ]
  },
  {
   "cell_type": "code",
   "execution_count": null,
   "metadata": {
    "id": "SHZTuOkOV3yJ",
    "outputId": "72beed90-2077-4093-bd43-972c4fae2cd2"
   },
   "outputs": [
    {
     "data": {
      "text/html": [
       "<div>\n",
       "<style scoped>\n",
       "    .dataframe tbody tr th:only-of-type {\n",
       "        vertical-align: middle;\n",
       "    }\n",
       "\n",
       "    .dataframe tbody tr th {\n",
       "        vertical-align: top;\n",
       "    }\n",
       "\n",
       "    .dataframe thead th {\n",
       "        text-align: right;\n",
       "    }\n",
       "</style>\n",
       "<table border=\"1\" class=\"dataframe\">\n",
       "  <thead>\n",
       "    <tr style=\"text-align: right;\">\n",
       "      <th></th>\n",
       "      <th>Label 0</th>\n",
       "      <th>Label 1</th>\n",
       "      <th>Label 2</th>\n",
       "      <th>Label 3</th>\n",
       "      <th>Label 4</th>\n",
       "    </tr>\n",
       "  </thead>\n",
       "  <tbody>\n",
       "    <tr>\n",
       "      <th>0</th>\n",
       "      <td>0.0</td>\n",
       "      <td>1.0</td>\n",
       "      <td>0.0</td>\n",
       "      <td>0.0</td>\n",
       "      <td>0.0</td>\n",
       "    </tr>\n",
       "    <tr>\n",
       "      <th>1</th>\n",
       "      <td>1.0</td>\n",
       "      <td>0.0</td>\n",
       "      <td>0.0</td>\n",
       "      <td>0.0</td>\n",
       "      <td>0.0</td>\n",
       "    </tr>\n",
       "    <tr>\n",
       "      <th>2</th>\n",
       "      <td>0.0</td>\n",
       "      <td>0.0</td>\n",
       "      <td>1.0</td>\n",
       "      <td>0.0</td>\n",
       "      <td>0.0</td>\n",
       "    </tr>\n",
       "    <tr>\n",
       "      <th>3</th>\n",
       "      <td>0.0</td>\n",
       "      <td>0.0</td>\n",
       "      <td>0.0</td>\n",
       "      <td>0.0</td>\n",
       "      <td>1.0</td>\n",
       "    </tr>\n",
       "    <tr>\n",
       "      <th>4</th>\n",
       "      <td>0.0</td>\n",
       "      <td>0.0</td>\n",
       "      <td>0.0</td>\n",
       "      <td>1.0</td>\n",
       "      <td>0.0</td>\n",
       "    </tr>\n",
       "    <tr>\n",
       "      <th>5</th>\n",
       "      <td>0.0</td>\n",
       "      <td>1.0</td>\n",
       "      <td>0.0</td>\n",
       "      <td>0.0</td>\n",
       "      <td>0.0</td>\n",
       "    </tr>\n",
       "  </tbody>\n",
       "</table>\n",
       "</div>"
      ],
      "text/plain": [
       "   Label 0  Label 1  Label 2  Label 3  Label 4\n",
       "0      0.0      1.0      0.0      0.0      0.0\n",
       "1      1.0      0.0      0.0      0.0      0.0\n",
       "2      0.0      0.0      1.0      0.0      0.0\n",
       "3      0.0      0.0      0.0      0.0      1.0\n",
       "4      0.0      0.0      0.0      1.0      0.0\n",
       "5      0.0      1.0      0.0      0.0      0.0"
      ]
     },
     "execution_count": 33,
     "metadata": {},
     "output_type": "execute_result"
    }
   ],
   "source": [
    "label_names = [f\"Label {l}\"for l in np.unique(labels)]\n",
    "\n",
    "labels_oh_df = pd.DataFrame(labels_oh, columns=label_names)\n",
    "labels_oh_df"
   ]
  },
  {
   "cell_type": "markdown",
   "metadata": {
    "id": "VE1dKGZPV3yJ"
   },
   "source": [
    "## Code\n",
    "Now, let's go over the code and work with some toy data. \n",
    "\n",
    "### Utility functions\n",
    "\n",
    "Below are some utility functions. The `plot_fill_decision_boundary()` function is for coloring the decision boundary."
   ]
  },
  {
   "cell_type": "code",
   "execution_count": null,
   "metadata": {
    "id": "Aamfd5bwV3yJ"
   },
   "outputs": [],
   "source": [
    "def plot_fill_decision_boundary(\n",
    "    predict, \n",
    "    X: np.ndarray, \n",
    "    y: np.ndarray,\n",
    "    w: np.ndarray,\n",
    "    xlabel: str = '',\n",
    "    ylabel: str = '',\n",
    "    includes_bias: bool = False,\n",
    "    class_names=None):\n",
    "               \n",
    "    if includes_bias:\n",
    "        col_1, col_2 = 1, 2\n",
    "    else:\n",
    "        col_1, col_2 = 0, 1\n",
    "        \n",
    "    # Generate fake data to cover entire space of our input features X\n",
    "    buffer = .5\n",
    "    x_min, x_max = X[:, col_1].min() - buffer, X[:, col_1].max() + buffer\n",
    "    y_min, y_max = X[:, col_2].min() - buffer, X[:, col_2].max() + buffer\n",
    "    xx, yy = np.meshgrid(np.arange(x_min, x_max, .02),\n",
    "                         np.arange(y_min, y_max, .02))\n",
    "    bias = np.ones(xx.ravel().shape)\n",
    "    fake_data = np.c_[bias, xx.ravel(), yy.ravel()].reshape(-1,3)\n",
    "\n",
    "    # Make prediction\n",
    "    y_hat = predict(fake_data, w)\n",
    "\n",
    "    # Plot\n",
    "    plt.contourf(xx, yy, y_hat.reshape(xx.shape))\n",
    " \n",
    "    plot_2D_data(\n",
    "        X, \n",
    "        y,\n",
    "        xlabel=xlabel,\n",
    "        ylabel=ylabel,\n",
    "        includes_bias=includes_bias, \n",
    "        class_names=class_names)\n",
    "    \n",
    "    plt.xlim(xx.min(), xx.max())\n",
    "    plt.ylim(yy.min(), yy.max())\n",
    "    plt.xlabel(xlabel)\n",
    "    plt.ylabel(ylabel)\n",
    "    plt.legend()\n",
    "    plt.show()"
   ]
  },
  {
   "cell_type": "markdown",
   "metadata": {
    "id": "CPgJInVvV3yJ"
   },
   "source": [
    "Further, the function `multi_class_data()` creates multi-class non-separable linear data."
   ]
  },
  {
   "cell_type": "code",
   "execution_count": null,
   "metadata": {
    "id": "H3TrrGGrV3yJ",
    "outputId": "8b238edc-862a-487a-b114-030dc3c64343"
   },
   "outputs": [
    {
     "name": "stdout",
     "output_type": "stream",
     "text": [
      "X shape: (1000, 3)\n",
      "y shape: (1000, 1)\n"
     ]
    },
    {
     "data": {
      "image/png": "[encoded data removed]",
      "text/plain": [
       "<Figure size 432x288 with 1 Axes>"
      ]
     },
     "metadata": {
      "needs_background": "light"
     },
     "output_type": "display_data"
    }
   ],
   "source": [
    "from sklearn.datasets import make_blobs\n",
    "\n",
    "def multi_class_data(\n",
    "    n_samples: int = 1000, \n",
    "    balance: List = None,\n",
    "    seed: int = 42\n",
    ") -> List[np.ndarray]:\n",
    "    X, y = make_blobs(n_samples=1000,\n",
    "                      random_state=seed,  \n",
    "                      centers=[[2, 1.5], [-1.5, -1], [1, -1]],\n",
    "                      cluster_std=0.6)\n",
    "    \n",
    "    # Add bias\n",
    "    X = np.hstack([np.ones([len(X), 1]), X])\n",
    "    return X, y.reshape(-1, 1)\n",
    "    \n",
    "X, y = multi_class_data()\n",
    "print(f\"X shape: {X.shape}\")\n",
    "print(f\"y shape: {y.shape}\")\n",
    "plot_2D_data(X, y, includes_bias=True)\n",
    "plt.show()"
   ]
  },
  {
   "cell_type": "markdown",
   "metadata": {
    "id": "5Rfw3qYhV3yJ"
   },
   "source": [
    "### Multi-class logistic regression\n",
    "\n",
    "Below is the function `batch_gradient_descent()` for finding the optimal weights using the softmax and generalized NLL. There are three major differences that need to be pointed out.\n",
    "\n",
    "First, notice that when defining the random weights `w` the shape of the weights `w` is set to `(X.shape[1], y.shape[1])`. This is because the weight matrix now needs to have a column for EACH class in our data. This means the `w` has the shape (number of features, number of classes). Recall we do this because we want to output a probability for EACH class!\n",
    "\n",
    "```Python\n",
    "rng = np.random.RandomState(seed)\n",
    "w = rng.rand(X.shape[1], y.shape[1])\n",
    "```\n",
    "\n",
    "Second, notice that we are now using the softmax activation function `softmax()` to compute the `probs` instead of the sigmoid. \n",
    "\n",
    "```Python\n",
    "probs = softmax(z)\n",
    "```\n",
    "\n",
    "Third, we are now using the generalized NLL loss function `nll()`.\n",
    "\n",
    "```Python\n",
    "avg_loss = nll(y, probs)\n",
    "epoch_losses.append(avg_loss)\n",
    "```"
   ]
  },
  {
   "cell_type": "code",
   "execution_count": null,
   "metadata": {
    "id": "yYiIhWSBV3yK"
   },
   "outputs": [],
   "source": [
    "def batch_gradient_descent(X, y, alpha, epochs=1, seed=0):\n",
    "    rng = np.random.RandomState(seed)\n",
    "    w = rng.rand(X.shape[1], y.shape[1])\n",
    "    \n",
    "    epoch_losses = []\n",
    "    for e in range(epochs):\n",
    "        z = X @ w\n",
    "        probs = softmax(z)\n",
    "        avg_gradient = (X.T @ (probs - y)) / len(y)\n",
    "        w -= alpha * avg_gradient\n",
    "        \n",
    "        avg_loss = nll(y, probs)\n",
    "        epoch_losses.append(avg_loss)\n",
    "        \n",
    "    return epoch_losses, w"
   ]
  },
  {
   "cell_type": "code",
   "execution_count": null,
   "metadata": {
    "id": "FHpiifQhV3yK"
   },
   "outputs": [],
   "source": [
    "# Generate data\n",
    "X, y = multi_class_data()\n",
    "# Convert labels to one-hots\n",
    "y_oh = onehot(y)\n",
    "# learn weights\n",
    "loss, w = batch_gradient_descent(\n",
    "    X=X, \n",
    "    y=y_oh,\n",
    "    alpha=.1, \n",
    "    epochs=100)"
   ]
  },
  {
   "cell_type": "code",
   "execution_count": null,
   "metadata": {
    "id": "DhXHXF7wV3yK",
    "outputId": "fa74d2b5-d6a1-43e0-ab98-6366168de5b6",
    "scrolled": true
   },
   "outputs": [
    {
     "data": {
      "image/png": "[encoded data removed]",
      "text/plain": [
       "<Figure size 432x288 with 1 Axes>"
      ]
     },
     "metadata": {
      "needs_background": "light"
     },
     "output_type": "display_data"
    }
   ],
   "source": [
    "plt.plot(loss, label='Traing loss')\n",
    "plt.title(\"Learning Curve\")\n",
    "plt.ylabel(\"NLL Average loss\")\n",
    "plt.xlabel(\"Epoch\")\n",
    "plt.legend()\n",
    "plt.show()"
   ]
  },
  {
   "cell_type": "code",
   "execution_count": null,
   "metadata": {
    "id": "H3FDlbOKV3yK"
   },
   "outputs": [],
   "source": [
    "def softmax_predict(X, w):\n",
    "    z = X @ w\n",
    "    probs = softmax(z)\n",
    "    y_hat = np.argmax(probs, axis=1)\n",
    "    return y_hat.reshape(-1,1)"
   ]
  },
  {
   "cell_type": "code",
   "execution_count": null,
   "metadata": {
    "id": "UCLEnnFnV3yK",
    "outputId": "e4cadf29-3c38-45be-95d5-33a860c4942e"
   },
   "outputs": [
    {
     "data": {
      "text/plain": [
       "(1000, 1)"
      ]
     },
     "execution_count": 40,
     "metadata": {},
     "output_type": "execute_result"
    }
   ],
   "source": [
    "y_hat = softmax_predict(X, w)\n",
    "y_hat.shape"
   ]
  },
  {
   "cell_type": "code",
   "execution_count": null,
   "metadata": {
    "id": "GjjkSFtVV3yK",
    "outputId": "7ae9c321-b258-4f8f-f0e2-adbd335ab18d"
   },
   "outputs": [
    {
     "data": {
      "text/plain": [
       "0.973"
      ]
     },
     "execution_count": 41,
     "metadata": {},
     "output_type": "execute_result"
    }
   ],
   "source": [
    "accuracy_score(y, y_hat)"
   ]
  },
  {
   "cell_type": "code",
   "execution_count": null,
   "metadata": {
    "id": "D6jCRxiBV3yK",
    "outputId": "907cdfa7-b450-4bda-aa0a-07f39cbf3297"
   },
   "outputs": [
    {
     "data": {
      "image/png": "[encoded data removed]",
      "text/plain": [
       "<Figure size 432x288 with 1 Axes>"
      ]
     },
     "metadata": {
      "needs_background": "light"
     },
     "output_type": "display_data"
    }
   ],
   "source": [
    "plot_fill_decision_boundary(softmax_predict, X, y, w, includes_bias=True)"
   ]
  },
  {
   "cell_type": "code",
   "execution_count": 2,
   "metadata": {
    "id": "HpPyPRp9V3yK"
   },
   "outputs": [],
   "source": [
    "def softmax_probabilities(X, w):\n",
    "    z = X @ w\n",
    "    probs = softmax(z)\n",
    "    return probs"
   ]
  },
  {
   "cell_type": "code",
   "execution_count": 3,
   "metadata": {
    "id": "4z9U3xCLV3yK",
    "outputId": "725fd8de-add2-4574-8b60-6ced7c77824c"
   },
   "outputs": [
    {
     "ename": "NameError",
     "evalue": "name 'X' is not defined",
     "output_type": "error",
     "traceback": [
      "\u001b[0;31m---------------------------------------------------------------------------\u001b[0m",
      "\u001b[0;31mNameError\u001b[0m                                 Traceback (most recent call last)",
      "\u001b[0;32m<ipython-input-3-30538c1c7463>\u001b[0m in \u001b[0;36m<module>\u001b[0;34m\u001b[0m\n\u001b[0;32m----> 1\u001b[0;31m \u001b[0mprobs\u001b[0m \u001b[0;34m=\u001b[0m \u001b[0msoftmax_probabilities\u001b[0m\u001b[0;34m(\u001b[0m\u001b[0mX\u001b[0m\u001b[0;34m,\u001b[0m \u001b[0mw\u001b[0m\u001b[0;34m)\u001b[0m\u001b[0;34m\u001b[0m\u001b[0;34m\u001b[0m\u001b[0m\n\u001b[0m\u001b[1;32m      2\u001b[0m \u001b[0mprobs\u001b[0m\u001b[0;34m\u001b[0m\u001b[0;34m\u001b[0m\u001b[0m\n",
      "\u001b[0;31mNameError\u001b[0m: name 'X' is not defined"
     ]
    }
   ],
   "source": [
    "probs = softmax_probabilities(X, w)\n",
    "probs"
   ]
  },
  {
   "cell_type": "code",
   "execution_count": 4,
   "metadata": {},
   "outputs": [
    {
     "data": {
      "text/plain": [
       "array([-2.30258509, -0.69314718, -0.91629073])"
      ]
     },
     "execution_count": 4,
     "metadata": {},
     "output_type": "execute_result"
    }
   ],
   "source": [
    "np.log([0.1,0.5,0.4])"
   ]
  },
  {
   "cell_type": "code",
   "execution_count": null,
   "metadata": {},
   "outputs": [],
   "source": []
  }
 ],
 "metadata": {
  "colab": {
   "collapsed_sections": [
    "PbRPCzTDV3yD",
    "uLIcMQZQV3yE"
   ],
   "provenance": []
  },
  "kernelspec": {
   "display_name": "Python 3",
   "language": "python",
   "name": "python3"
  },
  "language_info": {
   "codemirror_mode": {
    "name": "ipython",
    "version": 3
   },
   "file_extension": ".py",
   "mimetype": "text/x-python",
   "name": "python",
   "nbconvert_exporter": "python",
   "pygments_lexer": "ipython3",
   "version": "3.8.8"
  },
  "toc": {
   "base_numbering": 1,
   "nav_menu": {},
   "number_sections": true,
   "sideBar": true,
   "skip_h1_title": false,
   "title_cell": "Table of Contents",
   "title_sidebar": "Contents",
   "toc_cell": false,
   "toc_position": {
    "height": "calc(100% - 180px)",
    "left": "10px",
    "top": "150px",
    "width": "216px"
   },
   "toc_section_display": true,
   "toc_window_display": true
  }
 },
 "nbformat": 4,
 "nbformat_minor": 1
}
