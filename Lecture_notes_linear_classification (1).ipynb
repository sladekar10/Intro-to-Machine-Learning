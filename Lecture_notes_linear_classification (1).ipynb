{
 "cells": [
  {
   "cell_type": "code",
   "execution_count": 1,
   "metadata": {
    "id": "_LF_9VflBSk9"
   },
   "outputs": [],
   "source": [
    "import numpy as np\n",
    "import pandas as pd\n",
    "import matplotlib.pyplot as plt\n",
    "%matplotlib inline"
   ]
  },
  {
   "cell_type": "markdown",
   "metadata": {
    "id": "FEVS1WiyBSlB"
   },
   "source": [
    "$\\newcommand{\\xv}{\\mathbf{x}}\n",
    " \\newcommand{\\wv}{\\mathbf{w}}\n",
    " \\newcommand{\\yv}{\\mathbf{y}}\n",
    " \\newcommand{\\zv}{\\mathbf{z}}\n",
    " \\newcommand{\\uv}{\\mathbf{u}}\n",
    " \\newcommand{\\vv}{\\mathbf{v}}\n",
    " \\newcommand{\\tv}{\\mathbf{t}}\n",
    "  \\newcommand{\\bv}{\\mathbf{b}}\n",
    " \\newcommand{\\Chi}{\\mathcal{X}}\n",
    " \\newcommand{\\R}{\\rm I\\!R}\n",
    " \\newcommand{\\sign}{\\text{sign}}\n",
    " \\newcommand{\\Tm}{\\mathbf{T}}\n",
    " \\newcommand{\\Xm}{\\mathbf{X}}\n",
    " \\newcommand{\\Zm}{\\mathbf{Z}}\n",
    " \\newcommand{\\Im}{\\mathbf{I}}\n",
    " \\newcommand{\\Um}{\\mathbf{U}}\n",
    " \\newcommand{\\Vm}{\\mathbf{V}} \n",
    " \\newcommand{\\muv}{\\boldsymbol\\mu}\n",
    " \\newcommand{\\Sigmav}{\\boldsymbol\\Sigma}\n",
    " \\newcommand{\\Lambdav}{\\boldsymbol\\Lambda}\n",
    "$\n",
    "\n",
    "# Linear Model for Classification\n",
    "\n"
   ]
  },
  {
   "cell_type": "markdown",
   "metadata": {
    "id": "TFcS1b2jBSlE"
   },
   "source": [
    "## Table of notation\n",
    "\n",
    "| Symbol                     | Meaning                     | Symbol    | Meaning                                                          |\n",
    "|----------------------------|-----------------------------|-----------|------------------------------------------------------------------|\n",
    "| $\\xv$ or $\\vec{x}$         | feature/input vector        | $x_i$     | $i$th element of $\\xv$                                           |\n",
    "| $\\Xm$                      | input matrix                | $x_{i,j}$ | $i$th row and $j$th column of $\\Xm$                              |\n",
    "| $\\yv$ or $\\tv$             | labels/targets              | $n$       | number of features or columns \n",
    "| $\\wv$ or $\\mathbf{\\theta}$ | weight/parameter vector     | $m$       | number of data samples <br>(also used to refer to the slope) |samples or rows                                   |\n",
    "| $f$ or $h$                 | hypothesis function <br> (i.e., a model)        | $\\hat{\\yv}$ <br> $f(\\xv {;} \\wv)$<br>$h(\\xv {;} \\wv)$ | predictions <br> y-hat |\n",
    "| $E$              | error or sum of error (loss)  | $SSE$      | sum of squared error function                                            |\n",
    "| $MSE$                      | mean squared error| $\\nabla$  | gradient (nabla)                                       |\n",
    "| $\\partial$                 | partial derivative          | $\\alpha$  | learning rate (alpha)                                  |       \n",
    "| $J$ | general placeholder for <br>the objective function | $x^T$| transpose of a vector or matrix |\n",
    "$b$ | bias or y-intercept term | $T$ | Threshold |\n",
    "$*$| element-wise<br> multiplication | $\\cdot$ | dot product|\n",
    "| $z$<br>$\\zv$| value before applying activation function | |  |"
   ]
  },
  {
   "cell_type": "markdown",
   "metadata": {
    "id": "mhINvnBHBSlF"
   },
   "source": [
    "## Review\n",
    "\n",
    "### Classification\n",
    "Recall that for classification we want predict some discrete labels, otherwise known as classes. Thus, recall our labels/targets can only take on discrete values. Thus, if we have 3 classes our labels could be $y \\in \\{0, 1, 2\\}$. Further, our predictions will follow suit by attempting to predict the same discrete values $\\hat{y} = \\{0, 1, 2\\}$. \n",
    "\n",
    "In this module, we are going to focus on *binary classification*. Binary classification entails that our dataset has only two class. For example, let's say we have two classes: A and B. Our goal is to predict a given data sample as either A or B! This is an example of a binary classifier whose labels could be $y \\in \\{0,1\\}$ and our predictions would also then be $\\hat{y} \\in \\{0,1\\}$. Here we can say class A corresponds to the label 0, $y=0$, and class B corresponds to the label of 1, $y=1$.\n",
    "\n",
    "<img src=\"https://static.javatpoint.com/tutorial/machine-learning/images/classification-algorithm-in-machine-learning.png\">\n",
    "\n",
    "By learning to predict a given class label, we can think of our model as learning to “separate” the data as seen in the above image. With simple 2D and 3D data we can actually use the weights to draw decision boundaries just like this!"
   ]
  },
  {
   "cell_type": "markdown",
   "metadata": {
    "id": "A4oshHjKBSlG"
   },
   "source": [
    "\n",
    "\n",
    "### Linear Models\n",
    "Further, recall we can make a prediction by taking the dot product of our weights $\\wv$ and input features $\\Xm$. Here $\\Xm$ is a matrix, meaning we are computing the predictions for **MULTIPLE** data samples at once and thus our output would be a **vector** $\\hat{\\yv}$. \n",
    "\n",
    "$$ \\hat{\\yv} = \\Xm \\wv $$\n",
    "\n",
    "In the above equation, $\\hat{\\yv} = [\\hat{y}_0; \\hat{y}_1; \\dots; \\hat{y}_m]$ is a vector which holds the predicted real valued (continuous) outputs each of the $m$ data samples such that $\\hat{\\yv} \\in \\mathbb{R}^m$.\n",
    "\n",
    "\n",
    "If just the feature vector $\\xv$ is given then we would compute predictions for a **SINGLE** data sample and thus our output would be a **scalar** $\\hat{y}$. \n",
    "\n",
    "$$ \\hat{y} = \\wv^\\top \\xv $$\n",
    "\n",
    "In the above equation, $\\hat{y}$ is a scalar which holds the predicted real valued (continuous) output $\\hat{y} \\in \\mathbb{R}$.\n",
    "\n",
    "Further, recall that we should always assume the first column of $\\Xm$ contains the bias column (columns of ones) such that $\\Xm \\wv = \\Xm \\wv + \\bv$ is true. The same is true for $\\xv$ whose first element is the bias term (i.e., a 1) such that  $\\wv^\\top \\xv = \\wv^\\top \\xv +b$ is true. We move the bias term inside $\\Xm$ and $\\xv$ so that our equations are cleaner. **Moving forward, if the bias is not included inside $\\Xm$ or $\\xv$ it will be explicitly stated!**\n",
    "\n",
    "The question is then the following: how can we use a linear model with continuous outputs for classification such that we predict discrete labels like $\\{0, 1\\}$? "
   ]
  },
  {
   "cell_type": "markdown",
   "metadata": {
    "id": "fb5w4QppBSlH"
   },
   "source": [
    "## From linear regression to classification\n",
    "The answer is actually relatively simple, we need to discretize the values of  $\\hat{\\yv}$. To do so, we often use what are called [*activation functions*](https://en.wikipedia.org/wiki/Activation_function) which simply convert inputs into new values using a function. The most naive activation function we can apply is a thresholding function which turns continuous values into discrete values. \n",
    "\n",
    "Thus, given a threshold $T$, if the output $\\hat{y}$ is greater threshold $T$ we assume it belongs to the 1st class. If the output value $\\hat{y}$ is less than or equal to threshold $T$ it then belongs to 2nd class (or vice versa).  For binary classification, we often use the two discrete values such as [0, 1] or [-1, 1] as the class labels.\n",
    "\n",
    "Mathematically, we write a thresholding function using an *indicator function* defined as follows:\n",
    "\n",
    "$$\n",
    "\\hat{y}=\\begin{cases}\n",
    "1  \\quad &\\text{if} \\, \\wv^\\top \\xv - T > 0 \\\\\n",
    "0  \\quad &\\text{else} \\tag{1} \\\\\n",
    "\\end{cases}\n",
    "$$\n",
    "\n",
    "The intuition for $\\wv^\\top \\xv - T > 0$ is that any prediction $\\wv^\\top \\xv$ minus the threshold $T$ must be a positive number if the prediction is larger than the threshold $\\wv^\\top \\xv > T$. Likewise, any prediction $\\wv^\\top \\xv$ minus the threshold $T$ that is negative can then be assumed to less than the threshold $\\wv^\\top \\xv < T$. Remember, this is just basic subtraction rules, a larger number minus a smaller number is positive while a smaller number minus a larger number is negative!\n",
    "\n",
    "As such we could write the same indicator function as given below.\n",
    "\n",
    "$$\n",
    "\\hat{y}=\\begin{cases}\n",
    "1  \\quad &\\text{if} \\, \\wv^\\top \\xv  > T \\\\\n",
    "0  \\quad &\\text{else} \\tag{2} \\\\\n",
    "\\end{cases}\n",
    "$$\n",
    "\n",
    "**However, Eq. $1$ is much more convenient than Eq. $2$ because we can essentially treat the threshold $T$ the same as bias $b$ in a the linear regression equation $\\hat{y} = \\wv^\\top \\xv + b$!** In Eq. $1$ we would have to manually set a threshold where as in Eq. $2$.\n",
    "we can treat the threshold $T$ the same as the bias $b$, such that our model automatically learns the best threshold (just like how linear regression models learn the best bias or y-intercept term)! \n",
    "\n",
    "With these ideas in mind, we can now look at the perceptron algorithm!"
   ]
  },
  {
   "cell_type": "markdown",
   "metadata": {
    "id": "SEJgO4K9BSlI"
   },
   "source": [
    "# Rosenblatt's perceptron Algorithm\n",
    "\n",
    "## General structure\n",
    "\n",
    "The perceptron algorithm was originally developed back in 1957 by Frank Rosenblatt. It is one of the first artificial neural networks architectures. Meaning, the perceptron attempts to replicate a biological neuron in the most naive manner. \n",
    "\n",
    "Below, is example of what a biological neuron looks like. The basic idea here is as follows:\n",
    "1. The dendrites take in inputs from other neurons. \n",
    "2. The inputs from the dendrites are summed in the cell body until a threshold is exceeded.\n",
    "3. Once this threshold is exceeded, the cell fires sending a signal all the down the axon to the axon terminals. \n",
    "4. The axon terminals then distributes the output of the cell to to other neurons.\n",
    "\n",
    "<img src=\"https://upload.wikimedia.org/wikipedia/commons/4/44/Neuron3.png\">\n",
    "\n",
    "Now, the perceptron algorithm takes this idea of summing the inputs, thresholding and outputting and applies it in the most basic form. In the below image, the perceptron works as follows:\n",
    "1. First, just like in linear modeling, we take the dot product of our input features $\\xv$ and weights $\\wv$ (with a bias/threshold term added). Recall that taking the dot product is the same as multiplying each feature by the corresponding weight and summing! This gives us a continuous value, we'll refer to as $z$ when using a single data sample $\\xv$. When using ALL or a mini-batch of our data $\\Xm$, the output would be a vector of continuous values $\\zv$.\n",
    "\n",
    "$$\n",
    "z = \\wv^\\top \\xv\n",
    "$$\n",
    "\n",
    "2. Next, an *activation function* is applied to our continuous values $z$. In particular, the perceptron uses thresholding function called the $sign$ function which squashes the continuous values into discrete values of [-1, 1] giving us our prediction $\\hat{y}$.\n",
    "\n",
    "$$\n",
    "\\hat{y} = \\sign(z)\n",
    "$$\n",
    "\n",
    "<img src=\"https://i.stack.imgur.com/KUvpQ.png\" width=500 height=500>\n",
    "\n",
    "Welp, given the idea of the perceptron, we can see that almost all the steps are the same except for applying the activation function. Let's look at how this $\\sign$ activation function works briefly."
   ]
  },
  {
   "cell_type": "markdown",
   "metadata": {
    "id": "C5m_AGPOBSlJ"
   },
   "source": [
    "### Activation function: sign function\n",
    "\n",
    "**The most important thing about the percreptron is that the $\\sign$ function requires the class labels of [-1, 1] instead of [0, 1].** In coming weeks we will see how to make the perceptron into a more robust algorithm that also uses the class labels of [0, 1].\n",
    "\n",
    "So why do we need the class labels [-1, 1] specifically? Well, this is because the $\\sign$ function simply takes the sign (- or +) of the continuous valued output. By doing so, it converts all continuous outputs into discrete outputs of [-1, 1].  \n",
    "\n",
    "How do we write the $\\sign$ function in more mathematical terms? Well, we can write it just like the $\\{0, 1\\}$ indicator function we defined in Eq. $1$. \n",
    "\n",
    "However now, we will now use the labels [-1, 1].\n",
    "\n",
    "$$\n",
    "\\hat{y}=\\begin{cases}\n",
    "1  \\quad &\\text{if} \\, \\wv^\\top \\xv - T > 0 \\\\\n",
    "-1  \\quad &\\text{else} \\\\\n",
    "\\end{cases}\n",
    "$$\n",
    "\n",
    "Also recall that the threshold $T$ is actually akin the the bias term $b$ which we used in previously in linear regression modeling. This because the bias $b$ and threshold $T$ act in the exact same manner in our equation. Remember that if we remove the bias term from the weights $\\wv$ then we have $\\wv^\\top \\xv + b$. Next, notice this is the same equation as  $\\wv^\\top \\xv - T$ except there is a minus sign. Thus, we can treat the two equations as the same if $b = -T$. Note that in practice, the sign of the bias function doesn't matter! That's it, the reasoning for treating the threshold and bias as the same thing is as simple as that. We can rewrite our sign function definition again as follows:\n",
    "$$\n",
    "\\hat{y}=\\begin{cases}\n",
    "1  \\quad &\\text{if} \\, \\wv^\\top \\xv + b > 0 \\\\\n",
    "-1  \\quad &\\text{else} \\\\\n",
    "\\end{cases}\n",
    "$$\n",
    "Now we can reintegrate the bias $b$  (i.e., threshold $T$) back into our weight matrix to compress the notation as:\n",
    "$$\n",
    "\\hat{y}=\\begin{cases}\n",
    "1  \\quad &\\text{if} \\, \\wv^\\top \\xv > 0 \\\\\n",
    "-1  \\quad &\\text{else} \\\\\n",
    "\\end{cases}\n",
    "$$\n",
    "\n",
    "\n",
    "Thus, the above function is our final definition of the $\\sign$ function. More infomation about sign function can be found [here](https://en.wikipedia.org/wiki/Sign_function).\n",
    " <!-- is as follows:\n",
    "$$\n",
    "\\hat{y}=\\begin{cases}\n",
    "1  \\quad &\\text{if} \\, \\wv^\\top \\xv > 0 \\\\\n",
    "-1  \\quad &\\text{else} \\\\\n",
    "\\end{cases}\n",
    "$$ -->\n",
    "\n",
    "\n",
    "<!-- Visually, the $\\sign$ function looks like the below plot. \n",
    "<img src='https://en.wikipedia.org/wiki/Sign_function#/media/File:Signum_function.svg'> -->\n",
    "\n",
    "\n",
    "<!-- You might be wondering, what happens if our prediction is exactly zero such that $z = \\wv^\\top \\xv = 0$? Does it get assigned the label 1 or-1? Welp, this tie is actually arbitrary but typically we just assign any continuous predictions $z$ of 0 to the have a label of -1. -->\n",
    "\n",
    "Furthermore, notice that this function is not differentiable at zero! This will become important shortly."
   ]
  },
  {
   "cell_type": "code",
   "execution_count": null,
   "metadata": {
    "id": "7dJ65OOvBSlK"
   },
   "outputs": [],
   "source": [
    "x = np.linspace(-10, 10)\n",
    "y = np.sign(x)"
   ]
  },
  {
   "cell_type": "markdown",
   "metadata": {
    "id": "MNNxbmD2BSlL"
   },
   "source": [
    "Random inputs `x`."
   ]
  },
  {
   "cell_type": "code",
   "execution_count": null,
   "metadata": {
    "id": "P-YD0Oe6BSlM",
    "outputId": "a6250e14-94e1-4340-9969-f0b6534877e8"
   },
   "outputs": [
    {
     "data": {
      "text/plain": [
       "array([-10.        ,  -9.59183673,  -9.18367347,  -8.7755102 ,\n",
       "        -8.36734694,  -7.95918367,  -7.55102041,  -7.14285714,\n",
       "        -6.73469388,  -6.32653061,  -5.91836735,  -5.51020408,\n",
       "        -5.10204082,  -4.69387755,  -4.28571429,  -3.87755102,\n",
       "        -3.46938776,  -3.06122449,  -2.65306122,  -2.24489796,\n",
       "        -1.83673469,  -1.42857143,  -1.02040816,  -0.6122449 ,\n",
       "        -0.20408163,   0.20408163,   0.6122449 ,   1.02040816,\n",
       "         1.42857143,   1.83673469,   2.24489796,   2.65306122,\n",
       "         3.06122449,   3.46938776,   3.87755102,   4.28571429,\n",
       "         4.69387755,   5.10204082,   5.51020408,   5.91836735,\n",
       "         6.32653061,   6.73469388,   7.14285714,   7.55102041,\n",
       "         7.95918367,   8.36734694,   8.7755102 ,   9.18367347,\n",
       "         9.59183673,  10.        ])"
      ]
     },
     "execution_count": 3,
     "metadata": {},
     "output_type": "execute_result"
    }
   ],
   "source": [
    "x"
   ]
  },
  {
   "cell_type": "markdown",
   "metadata": {
    "id": "IVNvzV9tBSlN"
   },
   "source": [
    "Values of inputs `x` after being transformed by the $\\sign$ activation function."
   ]
  },
  {
   "cell_type": "code",
   "execution_count": null,
   "metadata": {
    "id": "6GbzXjnYBSlO",
    "outputId": "85f12510-db9b-4bf5-a4fc-83739874ef51"
   },
   "outputs": [
    {
     "data": {
      "text/plain": [
       "array([-1., -1., -1., -1., -1., -1., -1., -1., -1., -1., -1., -1., -1.,\n",
       "       -1., -1., -1., -1., -1., -1., -1., -1., -1., -1., -1., -1.,  1.,\n",
       "        1.,  1.,  1.,  1.,  1.,  1.,  1.,  1.,  1.,  1.,  1.,  1.,  1.,\n",
       "        1.,  1.,  1.,  1.,  1.,  1.,  1.,  1.,  1.,  1.,  1.])"
      ]
     },
     "execution_count": 4,
     "metadata": {},
     "output_type": "execute_result"
    }
   ],
   "source": [
    " np.sign(x)"
   ]
  },
  {
   "cell_type": "code",
   "execution_count": null,
   "metadata": {
    "id": "GiElmTyABSlO",
    "outputId": "90fae1bc-5c96-48c8-e507-296b69fef509"
   },
   "outputs": [
    {
     "data": {
      "image/png": "[encoded data removed]",
      "text/plain": [
       "<Figure size 432x288 with 1 Axes>"
      ]
     },
     "metadata": {
      "needs_background": "light"
     },
     "output_type": "display_data"
    }
   ],
   "source": [
    "plt.plot(x, y)\n",
    "plt.axis('tight')\n",
    "plt.title('The Sign Activation Function')\n",
    "plt.show()"
   ]
  },
  {
   "cell_type": "markdown",
   "metadata": {
    "id": "C8O5DznnBSlP"
   },
   "source": [
    "\n",
    "## The Perceptron Learning Rule\n",
    "So how then do we learn the weights for the perceptron algorithm? What cost function do we even use? Well, there actually isn't a cost function. We could formulate the Perceptron's cost function as *minimizing* the number of misclassified data samples (i.e., predicting the wrong label for a given data sample). In other words, we want to count the number of samples that the prediction is not equals to the label,  $̂\\hat{y} \\neq y$. Recall, $y  \\in \\{-1,1\\}$ and $\\hat{y} \\in \\{-1,1\\}$. Thus, there are only two possible ways when  $̂\\hat{y} \\neq y$, as shown in the following table:\n",
    "\n",
    "| $\\hat{y}$ | $y$ | $\\hat{y}$$y$|\n",
    "|---|---|:------|\n",
    "| -1 | 1 |-1|\n",
    "| 1 | -1 |-1|\n",
    "\n",
    "We observe that, when the sample is misclassified,the following is always true: $\\hat{y}y = -1$. To this end, we can build the loss function below:\n",
    "\n",
    "$$\n",
    "\\begin{align}\n",
    "J(\\wv) &= \\min_\\wv - \\sum_{i=0}^\\mathcal{M} \\Big(\\sign(\\wv^\\top \\xv_i)y) \\\\\n",
    "&= \\min_\\wv - \\sum_{i=0}^\\mathcal{M} \\Big(\\hat{y}y \\Big)  \\\\\n",
    "\\end{align}\n",
    "$$\n",
    "\n",
    "where in this equation:\n",
    "- $\\mathcal{M}$ is the set of data samples in $X$ that are **misclassified**\n",
    "- $\\sign(\\wv^\\top \\xv_i)$ represents the prediction $\\hat{y}$ after multiplying and summing the inputs and weights and after applying the activation function which is the $\\sign$ function. Thus, $\\sign(\\wv^\\top \\xv_i) = \\hat{y}$. \n",
    "\n",
    "<!-- We multiply by the label $y$ because if a sample is misclassifed then the sign of the label will not match the sign of prediction $\\hat{y}$. This means that the following is always true: $\\hat{y}y = -1$. Below is a table of the possible ways a misclassifcation could happen. -->\n",
    "\n",
    "Thus, in the above cost function, we are summing negative values and then taking negative of the sum to compute the total number of samples misclassifed. This is just an complex mathematical way of writing we want to minimize the number of misclassications.\n",
    "\n",
    "However, the issue with this cost function is that it contains the $\\sign$ function. Recall, that the $\\sign$ function is **NOT differentiable**. <u>This means we can't apply any optimizations techniques that we have used so far to find the best weights for our training data</u>.\n",
    "\n",
    "Luckily, Rosenblatt was able to come up with a very clever rule to update the weights **that is guaranteed to converge IF the data is linearly separable.** Let's take a look at this learning rule."
   ]
  },
  {
   "cell_type": "markdown",
   "metadata": {
    "id": "TOH_stC4BSlP"
   },
   "source": [
    "### Weight update\n",
    "Rosenblatt came up with the following **online learning** (we look at one data sample at a time) weight update rule <u>that is applied ONLY when a data sample is misclassified</u>:\n",
    "\n",
    "$$\n",
    "\\wv_{k+1} = \\wv_k + \\alpha y_i \\xv_i\n",
    "$$\n",
    "\n",
    "where in this equation:\n",
    "- $\\wv_{k+t}$ are our weights AFTER being updated. \n",
    "- $\\wv_{k}$ are our weights BEFORE being updated.\n",
    "- $k$ is just notation to help us distinguish the weights before being updated and $k+1$ is used to help us distinguish the weights after being updated.\n",
    "- $\\alpha$ is the learning rate\n",
    "- $y_i$ is the label for the current data sample\n",
    "- $\\xv_i$ is the current data sample's feature vector.\n",
    "- $i$ is just used to indicate which data sample we are currently using for the update.\n",
    "\n",
    "Notice that this equation looks oddly like online gradient descent. However, keep in mind we can NOT perform gradient descent since our cost function isn't differentiable. \n",
    "\n",
    "So how did Rosenblatt come up with this weight update? While we won't dive into the theoretical proof, intuitively, we can breakdown this equation piece-by-piece and see why it works.\n",
    "\n",
    "\n",
    "To understand this equation we need to look at what happens when the perceptron misclassifies a given data sample. Recall that there are only two ways to misclassify binary labels which are given as follows:\n",
    "\n",
    "| $\\hat{y}$ | $y$ |\n",
    "|---|---|\n",
    "| -1 | 1 |\n",
    "| 1 | -1 |\n"
   ]
  },
  {
   "cell_type": "markdown",
   "metadata": {
    "id": "z-Ba9m2wBSlQ"
   },
   "source": [
    "#### **1st case**: Predicting -1 instead of 1\n",
    "In the first case, we predict a negative value $\\hat{y}=-1$ when we should have predicted positive $y=1$. Thus, we can say that the predicted value $z_i$ BEFORE applying the sign was some continuous value that was less than 0. \n",
    "$$\n",
    "z_i = \\wv_{k} ^\\top \\xv_i < 0.\n",
    "$$\n",
    "\n",
    "To fix this misclassification error, we want to update the weight $\\wv_{k}$ by **INCREASING** the predicted output $\\wv_{k} \\xv_i$. Thus, we want the new weights $w_{k+t}$ to predict a larger or non-negative value instead.\n",
    "\n",
    "$$\n",
    " \\wv_{k+1} ^\\top  \\xv_i >  \\wv_{k}^\\top  \\xv_i.\n",
    "$$\n",
    "\n",
    "We do this by using a very basic linear algebra rule: [vector addition/subtraction](https://www.khanacademy.org/math/linear-algebra/vectors-and-spaces/vectors/v/adding-vectors). \n",
    "<!-- Vector addition (or subtraction) says that when we add (or subtract) any two vectors the sum (or difference) is a vector in the direction of both of the vectors.  -->\n",
    "\n",
    "Geometrically speaking, adding the feature vector $\\xv_i$ to the weight vector $\\wv_{k}$ moves the weight vector's decision boundary in the direction of the feature vector $\\xv_i$, thus moving decision boundary to be closer to correctly classifying $\\xv_i$. However, just like in gradient descent, we don't want to move our weights drastically, so we scale the feature vector $\\xv_i$ by the learning rate $\\alpha$.\n",
    "\n",
    "At last, we have this equation for weights update:\n",
    "$$\n",
    "\\wv_{k+1} = \\wv_{k} + \\alpha \\xv_i\n",
    "$$"
   ]
  },
  {
   "cell_type": "markdown",
   "metadata": {
    "id": "gWkL-Z13BSlQ"
   },
   "source": [
    "\n",
    "#### **2nd case**: Predicting 1 instead of -1\n",
    "In the second case, we predict a positive value $\\hat{y}=1$ when we should have predicted positive $y=-1$. Thus, we can say that the predicted value $z_i$ BEFORE applying the sign was greater than 0. \n",
    "\n",
    "$$\n",
    "z_i = \\wv_{k}^\\top  \\xv_i > 0.\n",
    "$$\n",
    "\n",
    "To fix this misclassification error, we want to update the weight $\\wv_{k}$ by DECREASING the predicted output $\\wv_{k} \\xv_i$. Thus, we want our new weights $\\wv_{k+1}$ to predict a smaller or negative value instead.\n",
    "\n",
    "$$\n",
    " \\wv_{k+1}^\\top  \\xv_i <  \\wv_{k}^\\top  \\xv_i.\n",
    "$$\n",
    "\n",
    "Thus, geometrically, we want to move the weight vector's decision boundary in the direction of the feature vector $\\xv_i$. However, this time we want to **SUBTRACT** the feature vector $\\wv_i$ since we want the weights to predict a negative value.\n",
    "\n",
    "$$\n",
    "\\wv_{k+1} = \\wv_{k} - \\alpha \\xv_i\n",
    "$$\n",
    "\n"
   ]
  },
  {
   "cell_type": "markdown",
   "metadata": {
    "id": "4CY0Lqr7BSlQ"
   },
   "source": [
    "\n",
    "#### Accounting for both cases\n",
    "To account for both instances of misclassification, we can use a simple trick. This trick is to simply multiply $ \\alpha \\xv_i$ by current data sample's label $y_i$ in our update. **Recall that we only apply this weight update for misclassified samples.** Thus, the label $y_i$ will change the addition sign to a minus if $y_i=-1$. Likewise, the label $y_i$ will keep the addition sign  if $y_i=1$.\n",
    "\n",
    "$$\n",
    "\\wv_{k+1} = \\wv_k + \\alpha y_i \\xv_i\n",
    "$$\n",
    "\n",
    "<!-- See the below GIF which visually represents everything we just went over! \n",
    "\n",
    "- **green line** represents the decision boundary determined by the weights.\n",
    "    - The **green line with an arrow with a circle on the end** represents the direction of the weight vector. To determine the decision boundary we take a line perpendicular or *orthogonal* to the weight vector. \n",
    "- **gold line with an arrow** represents the direction of the feature vector $\\xv_i$.\n",
    "- **red line with an arrow** represents the scaled direction of the vector $\\alpha y_i \\xv_i$.\n",
    "\n",
    "<img src=\"https://external-content.duckduckgo.com/iu/?u=https%3A%2F%2Fupload.wikimedia.org%2Fwikipedia%2Fcommons%2Fa%2Faa%2FPerceptron_training_without_bias.gif&f=1&nofb=1\" width=500 height=500> -->\n"
   ]
  },
  {
   "cell_type": "markdown",
   "metadata": {
    "id": "RZoD473jBSlR"
   },
   "source": [
    "## Defining Perceptron\n",
    "\n",
    "Below we define the perceptron algorithm in the class `Perceptron` andprovide a brief description of the code. Recall most of the code is similar to online gradient descent.\n",
    "\n",
    "This line loops over the data multiple times. The number of times that the data set is looped over is determined by the `self.epoch` class variable. Recall 1 epoch equates to one pass over the data such that every data sample is used to update the weights once. For each epoch we also track the number of misclassified samples.\n",
    "```Python\n",
    "for e in range(self.epochs):\n",
    "    misclassified = 0\n",
    "```\n",
    "\n",
    "The line loops over each sample in the data `X`. The number of iterations of this loop is therefore dependent on the number of data samples in `X`.\n",
    "```Python\n",
    "for i in range(m_samples):\n",
    "```\n",
    "\n",
    "The below line computes the continuous predicted output. As of right now this output is useless so we store it in an intermediate value `z`.\n",
    "```Python\n",
    "z = self.w @ X[i]\n",
    "```\n",
    "\n",
    "The below line computes the predicted class by applying NumPy's `np.sign()` function to `z`.  The `np.sign()` outputs either -1 if the sign is negative or 1 if the sign is positive\n",
    "```Python\n",
    "y_hat = np.sign(z)\n",
    "```\n",
    "\n",
    "Next is the wight update code. Here we first check if the prediction `y_hat` is misclassified by checking if it does NOT equal the current data sample's label `y[i]`. If the sample is misclassified then we update using the perceptron's learning rule. We also iterate the `misclassified` counter.\n",
    "```Python\n",
    "if y_hat != y[i]:\n",
    "    self.w = self.w + alpha * y[i] * X[i]\n",
    "    self.misclassified += 1\n",
    "```\n",
    "\n",
    "Lastly, we check if our algorithm has converged. If it has converged (the algorithm no longer misclassifies any samples), we then don't need to run any more epochs and we can end the training. We check convergence by seeing if there were NO misclassified data samples. If so, we  end training by breaking out of the for loop and the `fit()` method by using the `return` keyword.\n",
    "```Python\n",
    "if misclassified == 0:\n",
    "    return\n",
    "```"
   ]
  },
  {
   "cell_type": "code",
   "execution_count": null,
   "metadata": {
    "id": "bpN63Vn9BSlR"
   },
   "outputs": [],
   "source": [
    "import IPython.display as ipd  \n",
    "\n",
    "class Perceptron():\n",
    "    def __init__(self, alpha=0.1, epochs=1):\n",
    "        self.alpha = alpha\n",
    "        self.epochs = epochs\n",
    "        self.w = None\n",
    "        self.fig = plt.figure()\n",
    "    \n",
    "    def fit(self, X, y, plot=True):\n",
    "        m_samples = X.shape[0]\n",
    "        n_features = X.shape[1]\n",
    "        \n",
    "        # Randomly initialize weights \n",
    "        rng = np.random.RandomState(42)\n",
    "        self.w = rng.rand(n_features)\n",
    "        \n",
    "        # Loop over dataset multiple times\n",
    "        for e in range(self.epochs):\n",
    "            misclassified = 0\n",
    "            # Loop over all samples\n",
    "            for i in range(m_samples):\n",
    "                # Compute continuous prediction z\n",
    "                z = self.w @ X[i]\n",
    "                \n",
    "                # Computes discrete prediction by applying\n",
    "                # the sign activation function.\n",
    "                # Alternatively you could just call self.predict(X[i])\n",
    "                y_hat = np.sign(z)\n",
    "                \n",
    "                # Check if data sample was misclassified\n",
    "                if y_hat != y[i]:\n",
    "                    # Update rule\n",
    "                    self.w = self.w + self.alpha * y[i] * X[i]\n",
    "                    misclassified += 1\n",
    "                    # Plotting\n",
    "                    if plot:\n",
    "                        self._online_plotting(X, y, e, i)\n",
    "            # Check convergence\n",
    "            if misclassified == 0:\n",
    "                plt.clf();\n",
    "                print(f\"Converged at epoch: {e} - No samples misclassified\")\n",
    "                print(f\"Epochs trained: {e+1}\")\n",
    "                return\n",
    "        plt.clf();\n",
    "        print(f\"Epochs trained: {e+1}\")\n",
    "        \n",
    "    def predict(self, X):\n",
    "        z = X @ self.w\n",
    "        return np.sign(z)\n",
    "    \n",
    "    def _online_plotting(self, X, y, epoch, sample):\n",
    "        plt.clf()\n",
    "        plt.title(f\"Weight boundary updated: Epoch {epoch} Sample: {sample}\")\n",
    "        self.plot_decision_boundry(X, y)\n",
    "        ipd.clear_output(wait=True)\n",
    "        ipd.display(self.fig)\n",
    "    \n",
    "    def plot_decision_boundry(self, X, y):\n",
    "        line_X = np.linspace(np.min(X[:, 1]), np.max(X[:, 1]), len(X)).reshape(-1,1)\n",
    "\n",
    "        slope = -(self.w[0] / self.w[2]) / (self.w[0] / self.w[1])\n",
    "        y_intercept = -self.w[0]/ self.w[2]\n",
    "\n",
    "        decision_boundry = slope * line_X + y_intercept\n",
    "     \n",
    "        class1 = np.where(y == -1)[0]\n",
    "        class2 = np.where(y == 1)[0]\n",
    "        plt.plot(X[class1, 1], X[class1, 2], 'or', label='class1')\n",
    "        plt.plot(X[class2, 1], X[class2, 2], 'xb', label='class2')\n",
    "        plt.plot(line_X, decision_boundry)\n",
    "        plt.ylim(np.min(X[:, 2])-1, np.max(X[:, 2])+1)\n",
    "        plt.xlim(np.min(X[:, 1])-1, np.max(X[:, 1])+1)\n",
    "        plt.legend()\n",
    " "
   ]
  },
  {
   "cell_type": "markdown",
   "metadata": {
    "id": "mwNjLSLSBSlS"
   },
   "source": [
    "## Properties and Issues\n",
    "\n",
    "### Linear Separable\n",
    "The Preceptron is guaranteed to converge within a finite number of epochs or iterations only if the data is linearly separable. One issue is we typically don't know how many epochs are required even if the data is linearly separable. However, we can say that eventually a solution will be found that perfectly divides the two classes.\n",
    "\n",
    "When the data is not linearly separable, there is no guarantee on convergence. Thus, for training, we need to set the maximum number of iterations or epochs. Recall, 1 epoch equates to one pass over the dataset where each data sample is used to update the weights once. \n",
    "\n",
    "### Binary Classification\n",
    "The next major assumption that Perceptron's make is that the data has only 2 classes. The issue here being that most real-world problems require multi-classification where there are multiple classes!\n",
    "\n",
    "\n",
    "### Summary\n",
    "\n",
    "The major issues with Perceptrons is that most real-world datasets aren't linear and most aren't even linearly separable. Furthermore, the real-world datasets don't typically have only 2 classes. All these assumptions make it so Rosenblatt's perceptron is rarely used today. \n",
    "\n",
    "That being said, if we make some changes to Rosenblatt's perceptron we can create a new perceptron algorithm that is much more robust.\n"
   ]
  },
  {
   "cell_type": "markdown",
   "metadata": {
    "id": "rumylXMbBSlS"
   },
   "source": [
    "## Training Rosenblatt's Perceptron\n",
    "\n",
    "Below are examples of training done on separable and non-separable linear data."
   ]
  },
  {
   "cell_type": "markdown",
   "metadata": {
    "id": "0MZoQO-zBSlS"
   },
   "source": [
    "### Linear separable data"
   ]
  },
  {
   "cell_type": "code",
   "execution_count": null,
   "metadata": {
    "id": "eYJZBWFZBSlT",
    "outputId": "d8ccf9d9-2be2-4276-f0af-3ccfab7b4d7d",
    "scrolled": true
   },
   "outputs": [
    {
     "data": {
      "image/png": "[encoded data removed]",
      "text/plain": [
       "<Figure size 432x288 with 1 Axes>"
      ]
     },
     "metadata": {
      "needs_background": "light"
     },
     "output_type": "display_data"
    }
   ],
   "source": [
    "def separable_data():\n",
    "    mu1 = [-1, -1]\n",
    "    cov1 = np.eye(2)\n",
    "\n",
    "    mu2 = [4,4]\n",
    "    cov2 = np.eye(2) * 3\n",
    "    rng = np.random.RandomState(42)\n",
    "    class1 = rng.multivariate_normal(mu1, cov1, 50)\n",
    "    class2 = rng.multivariate_normal(mu2, cov2, 50)\n",
    "    \n",
    "    y = np.ones(len(class1)+len(class2))\n",
    "    y[:len(y)//2] = -1\n",
    "\n",
    "    return class1, class2, y\n",
    "\n",
    "class1, class2, _ = separable_data()\n",
    "data = np.vstack([class1, class2])\n",
    "plt.plot(class1[:, 0], class1[:, 1], 'or', label='class1')\n",
    "plt.plot(class2[:, 0], class2[:, 1], 'xb', label='class2')\n",
    "\n",
    "plt.xlim([np.min(data[:, 0])-1, np.max(data[:, 0])+1])\n",
    "plt.ylim([np.min(data[:, 1])-1, np.max(data[:, 1])+1])\n",
    "plt.legend()\n",
    "plt.show();"
   ]
  },
  {
   "cell_type": "markdown",
   "metadata": {
    "id": "hj0CxV-KBSlT"
   },
   "source": [
    "Run the below code and watch as the decision boundary (given by the blue line) as it quickly finds a boundary that easily separates the two classes. Note that `class1` has the label -1 and `class2` has the label 1."
   ]
  },
  {
   "cell_type": "code",
   "execution_count": null,
   "metadata": {
    "id": "PgcRqpAIBSlT",
    "outputId": "5fc46a04-f2e1-440f-8f2f-cad6757b6cc6"
   },
   "outputs": [
    {
     "data": {
      "image/png": "[encoded data removed]",
      "text/plain": [
       "<Figure size 432x288 with 1 Axes>"
      ]
     },
     "metadata": {},
     "output_type": "display_data"
    },
    {
     "name": "stdout",
     "output_type": "stream",
     "text": [
      "Converged at epoch: 1 - No samples misclassified\n",
      "Epochs trained: 2\n"
     ]
    },
    {
     "data": {
      "text/plain": [
       "<Figure size 432x288 with 0 Axes>"
      ]
     },
     "metadata": {},
     "output_type": "display_data"
    }
   ],
   "source": [
    "class1, class2, y = separable_data()\n",
    "\n",
    "# Combine class data\n",
    "X = np.vstack((class1, class2))\n",
    "m_samples = len(X)\n",
    "# Add bias\n",
    "X1 = np.hstack([np.ones((m_samples, 1)), X])\n",
    "\n",
    "perceptron = Perceptron(alpha=.5, epochs=5)\n",
    "perceptron.fit(X1, y)\n",
    "\n",
    "y_hat = perceptron.predict(X1)\n"
   ]
  },
  {
   "cell_type": "markdown",
   "metadata": {
    "id": "8c9swB3uBSlT"
   },
   "source": [
    "In the first plot above we can see the learned decision boundary for of 1D data. Note we can only visualize this decision boundary when our data is 1-dimensional!\n",
    "\n",
    "In the second plot below we can see how our predictions map onto the sign function equation. Here the X-axis represent the data sample index and the y-index represents the output after applying the $\\text{sign}$ function to our predictions $\\text{sign}(\\hat{y})$. Recall the first 50 samples all belong to the negative class (class 1) while the last 50 samples all belong to the positive class (class 2)."
   ]
  },
  {
   "cell_type": "code",
   "execution_count": null,
   "metadata": {
    "id": "Fo4CAAxnBSlU",
    "outputId": "cdb7819b-733f-476f-d8d1-1675f3300031"
   },
   "outputs": [
    {
     "data": {
      "image/png": "[encoded data removed]",
      "text/plain": [
       "<Figure size 432x288 with 1 Axes>"
      ]
     },
     "metadata": {
      "needs_background": "light"
     },
     "output_type": "display_data"
    }
   ],
   "source": [
    "plt.plot(y)\n",
    "plt.plot(y_hat, 'x')\n",
    "plt.title(\"Predictions for Separable data\")\n",
    "plt.xlabel(\"X index\")\n",
    "plt.ylabel(\"class label prediction (y_hat)\")\n",
    "plt.show();"
   ]
  },
  {
   "cell_type": "markdown",
   "metadata": {
    "id": "4gZ601xNBSlU"
   },
   "source": [
    "### Linearly non-separable data\n",
    "\n",
    "Below we run the `Perceptron` class on linearly non-separable data."
   ]
  },
  {
   "cell_type": "code",
   "execution_count": null,
   "metadata": {
    "id": "VVYVZH7zBSlU",
    "outputId": "b18c8829-17b5-47ef-d417-c9a9de43fc55"
   },
   "outputs": [
    {
     "data": {
      "image/png": "[encoded data removed]",
      "text/plain": [
       "<Figure size 432x288 with 1 Axes>"
      ]
     },
     "metadata": {
      "needs_background": "light"
     },
     "output_type": "display_data"
    }
   ],
   "source": [
    "def nonseparable_data():\n",
    "    mu1 = [-1, -1]\n",
    "    cov1 = np.eye(2) * 3\n",
    "\n",
    "    mu2 = [3, 4]\n",
    "    cov2 = np.eye(2) * 5\n",
    "    rng = np.random.RandomState(42)\n",
    "    class1 = rng.multivariate_normal(mu1, cov1, 50)\n",
    "    class2 = rng.multivariate_normal(mu2, cov2, 50)\n",
    "    \n",
    "    y = np.ones(len(class1)+len(class2))\n",
    "    y[:len(y)//2] = -1\n",
    "\n",
    "    return class1, class2, y\n",
    "\n",
    "\n",
    "class1, class2, y = nonseparable_data()\n",
    "data = np.vstack([class1, class2])\n",
    "plt.plot(class1[:, 0], class1[:, 1], 'or', label='class1')\n",
    "plt.plot(class2[:, 0], class2[:, 1], 'xb', label='class2')\n",
    "\n",
    "plt.xlim([np.min(data[:, 0])-1, np.max(data[:, 0])+1])\n",
    "plt.ylim([np.min(data[:, 1])-1, np.max(data[:, 1])+1])\n",
    "plt.legend()\n",
    "plt.show();"
   ]
  },
  {
   "cell_type": "markdown",
   "metadata": {
    "id": "Gj_VecH0BSlU"
   },
   "source": [
    "Run the below code and watch as the decision boundary (given by the blue line) bounces around as not matter where it draws the boundary samples will always be misclassified. If we increase the learning rate the decision boundary will overfit to each misclassified sample and bounce around even more!"
   ]
  },
  {
   "cell_type": "code",
   "execution_count": null,
   "metadata": {
    "id": "Gu7B4MDKBSlV",
    "outputId": "d551e1a7-272e-422c-b9e0-13cfe257f32d"
   },
   "outputs": [
    {
     "data": {
      "image/png": "[encoded data removed]",
      "text/plain": [
       "<Figure size 432x288 with 1 Axes>"
      ]
     },
     "metadata": {},
     "output_type": "display_data"
    },
    {
     "name": "stdout",
     "output_type": "stream",
     "text": [
      "Epochs trained: 10\n"
     ]
    },
    {
     "data": {
      "text/plain": [
       "<Figure size 432x288 with 0 Axes>"
      ]
     },
     "metadata": {},
     "output_type": "display_data"
    }
   ],
   "source": [
    "class1, class2, y = nonseparable_data()\n",
    "\n",
    "# Combine class data\n",
    "X = np.vstack((class1, class2))\n",
    "m_samples = len(X)\n",
    "# Add bias\n",
    "X1 = np.hstack([np.ones((m_samples, 1)), X])\n",
    "\n",
    "perceptron = Perceptron(alpha=.1, epochs=10)\n",
    "perceptron.fit(X1, y)\n",
    "\n",
    "y_hat = perceptron.predict(X1)\n"
   ]
  },
  {
   "cell_type": "code",
   "execution_count": null,
   "metadata": {
    "id": "LJh94NPhBSlV",
    "outputId": "0bb9f954-45bf-44d2-b766-1067ea29554f"
   },
   "outputs": [
    {
     "data": {
      "image/png": "[encoded data removed]",
      "text/plain": [
       "<Figure size 432x288 with 1 Axes>"
      ]
     },
     "metadata": {
      "needs_background": "light"
     },
     "output_type": "display_data"
    }
   ],
   "source": [
    "plt.plot(y)\n",
    "plt.plot(y_hat, 'x')\n",
    "plt.title(\"Predictions for Non-separable data\")\n",
    "plt.xlabel(\"X index\")\n",
    "plt.ylabel(\"class label prediction (y_hat)\")\n",
    "plt.show();"
   ]
  },
  {
   "cell_type": "markdown",
   "metadata": {
    "id": "L1EQNNn8BSlV"
   },
   "source": [
    "The next question is as follows: how do we assess how well the algorithm classified our data (i.e., what performance metrics can we use)? \n",
    "\n",
    "While for 1-dimensional datasets we can visually tell how the algorithm is doing by looking at the decision boundary. However, for higher dimensional datasets (more than 3 features) we can't visualize them.\n",
    "\n",
    "One naive performance metric is to simply look at how many data samples we got wrong. One can do so using the following code. The first thing we need to do is find all the data samples where the predictions don't match their labels. We can do so using `np.where()` and passing the `y_hat != y` condition which automatically checks if each element in `y_hat` equals the corresponding element in `y`. `np.where()` recall finds all the indexes that have elements equal to `True`."
   ]
  },
  {
   "cell_type": "code",
   "execution_count": null,
   "metadata": {
    "id": "1heurMzqBSlW",
    "outputId": "9095d104-e4e3-4f16-cf6d-07b2df731e54"
   },
   "outputs": [
    {
     "data": {
      "text/plain": [
       "array([False,  True, False,  True, False, False, False, False, False,\n",
       "       False, False, False, False, False, False, False, False, False,\n",
       "       False, False, False, False, False, False, False, False, False,\n",
       "       False, False, False, False, False,  True, False, False, False,\n",
       "       False, False, False, False, False, False, False, False, False,\n",
       "       False, False, False, False, False, False, False, False, False,\n",
       "       False, False, False, False, False, False, False, False, False,\n",
       "       False, False, False, False, False, False, False, False, False,\n",
       "       False,  True, False, False, False, False, False, False, False,\n",
       "       False, False, False, False, False, False, False, False, False,\n",
       "       False, False, False, False, False, False, False, False, False,\n",
       "       False])"
      ]
     },
     "execution_count": 13,
     "metadata": {},
     "output_type": "execute_result"
    }
   ],
   "source": [
    "y_hat != y"
   ]
  },
  {
   "cell_type": "code",
   "execution_count": null,
   "metadata": {
    "id": "amqRk_C4BSlW",
    "outputId": "29be8361-0144-4d21-cab6-4c56f87944aa"
   },
   "outputs": [
    {
     "data": {
      "text/plain": [
       "array([ 1,  3, 32, 73])"
      ]
     },
     "execution_count": 14,
     "metadata": {},
     "output_type": "execute_result"
    }
   ],
   "source": [
    "misclassified_locs = np.where(y_hat != y)[0]\n",
    "misclassified_locs"
   ]
  },
  {
   "cell_type": "markdown",
   "metadata": {
    "id": "YfIrpOWrBSlW"
   },
   "source": [
    "As we can see, we misclassified 4 data samples. Let's see which classes where misclassfied. Notice we misclassified 3 samples from class 1 `class1` (label -1) and 1 sample from `class2` class 2 (label 1)."
   ]
  },
  {
   "cell_type": "code",
   "execution_count": null,
   "metadata": {
    "id": "vyZAN8jjBSlX",
    "outputId": "76b8a385-0446-43ff-c010-915a6fcb5e01"
   },
   "outputs": [
    {
     "data": {
      "text/plain": [
       "array([-1., -1., -1.,  1.])"
      ]
     },
     "execution_count": 15,
     "metadata": {},
     "output_type": "execute_result"
    }
   ],
   "source": [
    "y[misclassified_locs]"
   ]
  },
  {
   "cell_type": "markdown",
   "metadata": {
    "id": "Vbt0NNgWBSlX"
   },
   "source": [
    "This is nice but there must be better metrics to give us a better understanding of our performance, right? Indeed there are!"
   ]
  },
  {
   "cell_type": "markdown",
   "metadata": {
    "id": "RmY2j7JaBSlX"
   },
   "source": [
    "# Performance Measures and Metrics\n",
    "Choosing the right metric for evaluating classification data is crucial. Different classification metrics can tell you different things, some can even lead you to believe your model is performing better than it truly is!\n",
    "\n",
    "\n"
   ]
  },
  {
   "cell_type": "markdown",
   "metadata": {
    "id": "CyYJLBiTBSlX"
   },
   "source": [
    "## Accuracy\n",
    "\n",
    "The most naive and common performance metric for evaluating classification data is *accuracy*. Accuracy reports the percentage of data samples that were CORRECTLY classification.  That is, when there are 1000 labels to classify, if 950 are correctly classified, we can say our model achieved 95% accuracy: \n",
    "\n",
    "$$\n",
    "   \\text{Accuracy} = \\frac{\\text{The number of correct classification}}{\\text{The number of samples}}.\n",
    "$$\n",
    "\n"
   ]
  },
  {
   "cell_type": "markdown",
   "metadata": {
    "id": "ED3sBEr4BSlX"
   },
   "source": [
    "Below we compute the accuracy for our `Perceptron` class instance received on the non-separable data. Here we create a boolean array where the True values are the data samples predicted correctly and the False values are the data samples predicted incorrectly."
   ]
  },
  {
   "cell_type": "code",
   "execution_count": null,
   "metadata": {
    "id": "hSWzL8CvBSlX",
    "outputId": "e7c32fb8-642e-4750-81c8-6d858d4514ec"
   },
   "outputs": [
    {
     "data": {
      "text/plain": [
       "array([ True, False,  True, False,  True,  True,  True,  True,  True,\n",
       "        True,  True,  True,  True,  True,  True,  True,  True,  True,\n",
       "        True,  True,  True,  True,  True,  True,  True,  True,  True,\n",
       "        True,  True,  True,  True,  True, False,  True,  True,  True,\n",
       "        True,  True,  True,  True,  True,  True,  True,  True,  True,\n",
       "        True,  True,  True,  True,  True,  True,  True,  True,  True,\n",
       "        True,  True,  True,  True,  True,  True,  True,  True,  True,\n",
       "        True,  True,  True,  True,  True,  True,  True,  True,  True,\n",
       "        True, False,  True,  True,  True,  True,  True,  True,  True,\n",
       "        True,  True,  True,  True,  True,  True,  True,  True,  True,\n",
       "        True,  True,  True,  True,  True,  True,  True,  True,  True,\n",
       "        True])"
      ]
     },
     "execution_count": 16,
     "metadata": {},
     "output_type": "execute_result"
    }
   ],
   "source": [
    "y_hat == y"
   ]
  },
  {
   "cell_type": "markdown",
   "metadata": {
    "id": "lxNJxg3ZBSlY"
   },
   "source": [
    "Using `np.sum()` we can sum all the True values. By default, `np.sum()` will sum all values that are True!"
   ]
  },
  {
   "cell_type": "code",
   "execution_count": null,
   "metadata": {
    "id": "quHuJdDgBSlY",
    "outputId": "521eb951-9dae-40b9-cde8-d66f1dd6eb9b"
   },
   "outputs": [
    {
     "data": {
      "text/plain": [
       "96"
      ]
     },
     "execution_count": 17,
     "metadata": {},
     "output_type": "execute_result"
    }
   ],
   "source": [
    "np.sum(y_hat == y)"
   ]
  },
  {
   "cell_type": "code",
   "execution_count": null,
   "metadata": {
    "id": "ewrgMeqFBSlY"
   },
   "outputs": [],
   "source": [
    "total_correct = np.sum(y_hat == y)"
   ]
  },
  {
   "cell_type": "code",
   "execution_count": null,
   "metadata": {
    "id": "dbUYDvqaBSlY",
    "outputId": "2b908ea8-e477-45c5-995a-c303860e6d84"
   },
   "outputs": [
    {
     "name": "stdout",
     "output_type": "stream",
     "text": [
      "96 / 100\n"
     ]
    },
    {
     "data": {
      "text/plain": [
       "0.96"
      ]
     },
     "execution_count": 19,
     "metadata": {},
     "output_type": "execute_result"
    }
   ],
   "source": [
    "print(f\"{total_correct} / {len(y)}\")\n",
    "accuracy = total_correct / len(y)\n",
    "accuracy"
   ]
  },
  {
   "cell_type": "markdown",
   "metadata": {
    "id": "P6Pw6BfJBSlY"
   },
   "source": [
    "Alternatively we can just use sklearn's `accuracy_score()` function."
   ]
  },
  {
   "cell_type": "code",
   "execution_count": null,
   "metadata": {
    "id": "Ocasl9sHBSlZ",
    "outputId": "816becf0-d7af-44cc-e4b8-707d3fe20c5d"
   },
   "outputs": [
    {
     "data": {
      "text/plain": [
       "0.96"
      ]
     },
     "execution_count": 20,
     "metadata": {},
     "output_type": "execute_result"
    }
   ],
   "source": [
    "from sklearn.metrics import accuracy_score\n",
    "\n",
    "accuracy_score(y_true=y, y_pred=y_hat)"
   ]
  },
  {
   "cell_type": "markdown",
   "metadata": {
    "id": "dFQ5hpqcBSlZ"
   },
   "source": [
    "### Issues\n",
    "\n",
    "However, accuracy can be deceiving when working with *imbalanced datasets*. For instance, let's say we have 1000 labels to classify. This is a binary classification problem so each label can be either class 1 or class 2. Let's say that class 1 has 900 data samples and class 2 only has 100 data samples. \n",
    "\n",
    "Further, let's say our model correctly classifies 900 data samples correctly. The caveat here is that it classified only the class 1 data samples correctly and classified all the class 2 data samples incorrectly. Our model did so by simply predicting the class 1 label for all data samples. While we may have an accuracy of 90%, our model has misclassfied all the class 2 samples. This isn't something we typically want so we need to use a different metric to account for this! \n",
    "\n",
    "Let's look at some other metrics that can overcome this issue of data imbalance."
   ]
  },
  {
   "cell_type": "markdown",
   "metadata": {
    "collapsed": true,
    "id": "iLApWqQGBSlZ",
    "jupyter": {
     "outputs_hidden": true
    }
   },
   "source": [
    "## Confusion Matrix\n",
    "\n",
    "<img src=\"http://www.andrewgurung.com/wp-content/uploads/2018/12/confusion_matrix.png\" width=500 height=500>\n",
    "\n",
    "\n",
    "Above is an example of a confusion matrix. A confusion matrix visualizes the performance of a model. Each row of the matrix represents the actual class values while each column represents the predicted class values (i.e., ground truth).\n",
    "\n",
    "In the binary classification case, a confusion matrix has 4 cells and one class is referred to as the negative class and the other is referred to as the positive class.The negative class is typically the class  with the label 0 or -1. The positive class is typically the class  with the label 1.\n",
    "\n",
    "- True Negatives (TN): This is the number *negative* class samples that were correctly classified.\n",
    "\n",
    "- True Positive (TP): This is the number of *positive* class samples that were correctly classified.\n",
    "\n",
    "- False Positive (FP): These are the number of *negative* class samples that were classified or predicted to be *positive* samples.\n",
    "\n",
    "- False Negatives (FN): This is the number of *positive* class samples that were classified or predicted to be *negative* samples.\n",
    "\n",
    "Using these 4 new metrics we can also recompute the accuracy as follows:\n",
    "\n",
    "$$\n",
    "   \\text{Accuracy} = \\frac{\\text{TP} + \\text{TN}}{\\text{TP} + \\text{TN} + \\text{FN} + \\text{FP}}.\n",
    "$$"
   ]
  },
  {
   "cell_type": "markdown",
   "metadata": {
    "id": "vnrE-qt5BSlZ"
   },
   "source": [
    "We can use Sklean's `confusion_matrix()` function to compute the confusion matrix for our `Perceptron` class instance received on the non-separable data. Note that Sklean's `confusion_matrix()` returns a NumPy array"
   ]
  },
  {
   "cell_type": "code",
   "execution_count": null,
   "metadata": {
    "id": "Ylw_WR42BSlZ",
    "outputId": "fd32cb24-cb5c-4814-f1be-d3ab1216a528"
   },
   "outputs": [
    {
     "data": {
      "text/plain": [
       "array([[47,  3],\n",
       "       [ 1, 49]])"
      ]
     },
     "execution_count": 21,
     "metadata": {},
     "output_type": "execute_result"
    }
   ],
   "source": [
    "from sklearn.metrics import  confusion_matrix\n",
    "confusion_matrix(y_true=y, y_pred=y_hat)"
   ]
  },
  {
   "cell_type": "markdown",
   "metadata": {
    "id": "bkVHLj6oBSla"
   },
   "source": [
    "Further we wrap the output of  Sklean's `confusion_matrix()` to make it prettier and easier to read."
   ]
  },
  {
   "cell_type": "code",
   "execution_count": null,
   "metadata": {
    "id": "fzCSZCMZBSla",
    "jupyter": {
     "outputs_hidden": true
    }
   },
   "outputs": [],
   "source": [
    "def pretty_confusion_matrix(y_hat, y):\n",
    "    cm = confusion_matrix(y_true=y, y_pred=y_hat)\n",
    "    return pd.DataFrame(cm, columns=['class1', 'class2'], index=['class1', 'class2'])"
   ]
  },
  {
   "cell_type": "code",
   "execution_count": null,
   "metadata": {
    "id": "_6Hpdbu3BSla",
    "outputId": "172c1f91-a748-46a1-d8ca-3f36b12413f0"
   },
   "outputs": [
    {
     "data": {
      "text/html": [
       "<div>\n",
       "<style scoped>\n",
       "    .dataframe tbody tr th:only-of-type {\n",
       "        vertical-align: middle;\n",
       "    }\n",
       "\n",
       "    .dataframe tbody tr th {\n",
       "        vertical-align: top;\n",
       "    }\n",
       "\n",
       "    .dataframe thead th {\n",
       "        text-align: right;\n",
       "    }\n",
       "</style>\n",
       "<table border=\"1\" class=\"dataframe\">\n",
       "  <thead>\n",
       "    <tr style=\"text-align: right;\">\n",
       "      <th></th>\n",
       "      <th>class1</th>\n",
       "      <th>class2</th>\n",
       "    </tr>\n",
       "  </thead>\n",
       "  <tbody>\n",
       "    <tr>\n",
       "      <th>class1</th>\n",
       "      <td>47</td>\n",
       "      <td>3</td>\n",
       "    </tr>\n",
       "    <tr>\n",
       "      <th>class2</th>\n",
       "      <td>1</td>\n",
       "      <td>49</td>\n",
       "    </tr>\n",
       "  </tbody>\n",
       "</table>\n",
       "</div>"
      ],
      "text/plain": [
       "        class1  class2\n",
       "class1      47       3\n",
       "class2       1      49"
      ]
     },
     "execution_count": 23,
     "metadata": {},
     "output_type": "execute_result"
    }
   ],
   "source": [
    "pretty_confusion_matrix(y=y, y_hat=y_hat)"
   ]
  },
  {
   "cell_type": "markdown",
   "metadata": {
    "id": "b5p-DaonBSla"
   },
   "source": [
    "Here our negative class is `class1` as its label is -1. Likewise, the postive class is `class1` as its label is 1.\n",
    "\n",
    "-  True Negatives (TN): The model predicted 47 of the negative class samples correctly.\n",
    "\n",
    "- True Positive (TP):The model predicted 49 of the positive class samples correctly.\n",
    "\n",
    "- False Positive (FP): The model predicted 3 samples of the negative class `class1` as the positive class `class2`.\n",
    "\n",
    "- False Negatives (FN): The model predicted 1 sample of the positive class `class2` as the negative class `class1`.\n"
   ]
  },
  {
   "cell_type": "markdown",
   "metadata": {
    "id": "nCumYdMXBSlb"
   },
   "source": [
    "\n",
    "## Precision, recall, and F1 score\n",
    "\n",
    "Further we can use the confusion matrix to compute new metric scores. The following metric scores are common scores used from values given to us by the confusion matrix.\n",
    "\n",
    "The [wiki](https://en.wikipedia.org/wiki/Sensitivity_and_specificity) has a great break down of these scores and many more.\n",
    "\n",
    "- **Positive predictive value (PPV)** (also called **precision**): The accuracy of positive predictions. In other words, PPV computes the ratio between the positive predictions that were correct over the total number of positive predictions made.\n",
    "\n",
    "$$\n",
    "\\text{PPV} = \\frac{\\text{TP}}{\\text{TP} + \\text{FP}}\n",
    "$$\n",
    "\n",
    "- **True Positive Rate (TPR)** (also called **sensitivity** or **recall**): TPR computes the ratio between the number of positive predictions that were correct over the total number of actual (i.e., *true*) positive class samples. This is a good measure to use for imbalanced datasets if your positive class is the minority class (i.e., the positive class has fewer data samples than the negative class)!\n",
    "\n",
    "$$\n",
    "\\text{TPR} = \\frac{\\text{TP}}{\\text{TP} + \\text{FN}}\n",
    "$$\n",
    "\n",
    "- **True Negative Rate (TNR)** (**specificity**: recall for negative samples): The accuracy of negative predictions. In other words, TNR computes the ratio between the number of negative predictions that were correct over the total number of actual (i.e., *true*) negative class samples. This is a good measure to use for imbalanced datasets if your negative class is the minority class (i.e., the negative class has fewer data samples than the positive class)!\n",
    "\n",
    "$$\n",
    "\\text{TNR} = \\frac{\\text{TN}}{\\text{TN} + \\text{FP}}\n",
    "$$\n",
    "\n",
    "- **F1 score**: a combination between precision and recall. \n",
    "$$\n",
    "F1 = \\frac{2*Precision*Recall}{Precision+Recall}\n",
    "$$"
   ]
  },
  {
   "cell_type": "code",
   "execution_count": null,
   "metadata": {
    "id": "E2-rJunABSlb"
   },
   "outputs": [],
   "source": [
    "def ppv(tp, fp):\n",
    "    return tp / (tp + fp)\n",
    "\n",
    "def tpr(tp, fn):\n",
    "    return tp / (tp + fn)\n",
    "\n",
    "def tnr(tn, fp):\n",
    "    return tn / (tn + fp)"
   ]
  },
  {
   "cell_type": "code",
   "execution_count": null,
   "metadata": {
    "id": "XpMwDeevBSlb",
    "outputId": "6a98af92-3b67-48a7-c503-960de568ca30"
   },
   "outputs": [
    {
     "name": "stdout",
     "output_type": "stream",
     "text": [
      "True negative (TN): 47\n",
      "False positive (FP): 3\n",
      "False negative (FN): 1\n",
      "True positive (TP): 49\n"
     ]
    }
   ],
   "source": [
    "tn, fp, fn, tp = confusion_matrix(y_true=y, y_pred=y_hat).ravel()\n",
    "\n",
    "print(f\"True negative (TN): {tn}\")\n",
    "print(f\"False positive (FP): {fp}\")\n",
    "print(f\"False negative (FN): {fn}\")\n",
    "print(f\"True positive (TP): {tp}\")"
   ]
  },
  {
   "cell_type": "markdown",
   "metadata": {
    "id": "a4mBAkLiBSlb"
   },
   "source": [
    "Below we can see the accuracy, like before, is 96%."
   ]
  },
  {
   "cell_type": "code",
   "execution_count": null,
   "metadata": {
    "id": "1UOWIXgCBSlc",
    "outputId": "a07a9f9e-70fc-445e-e702-0fb756da079c"
   },
   "outputs": [
    {
     "data": {
      "text/plain": [
       "0.96"
      ]
     },
     "execution_count": 26,
     "metadata": {},
     "output_type": "execute_result"
    }
   ],
   "source": [
    "accuracy_score(y_true=y, y_pred=y_hat)"
   ]
  },
  {
   "cell_type": "markdown",
   "metadata": {
    "id": "OTzQLNX2BSlc"
   },
   "source": [
    "Now we can see the precision or PPV score is lower than the accuracy because we have a higher number of false positives. Thus, we can say here that out of all the positive predictions our model got 94% of predicted positive samples correctly.\n",
    "\n",
    "$$\n",
    "\\text{PPV} = \\frac{\\text{49}}{\\text{49} + \\text{3}}\n",
    "$$\n"
   ]
  },
  {
   "cell_type": "code",
   "execution_count": null,
   "metadata": {
    "id": "ZQQeJvFTBSlc",
    "outputId": "a943c0b7-d346-44f2-8a43-499f7fe47e6f"
   },
   "outputs": [
    {
     "data": {
      "text/plain": [
       "0.9423076923076923"
      ]
     },
     "execution_count": 27,
     "metadata": {},
     "output_type": "execute_result"
    }
   ],
   "source": [
    "ppv(tp, fp)"
   ]
  },
  {
   "cell_type": "markdown",
   "metadata": {
    "id": "H_mnuDqoBSlc"
   },
   "source": [
    "Notice recall or TPR is higher than accuracy because we are just looking at the positive data samples and we correctly predicted almost all of the positive class data samples except for 1! Thus, we can say here that we out of all the actual or true positive samples our model predicted 98% of them correctly.\n",
    "\n",
    "$$\n",
    "\\text{TPR} = \\frac{\\text{49}}{\\text{49} + \\text{1}}\n",
    "$$"
   ]
  },
  {
   "cell_type": "code",
   "execution_count": null,
   "metadata": {
    "id": "WNZ1jtc8BSlc",
    "outputId": "6e123344-3987-4c5a-986c-91cb920761bd"
   },
   "outputs": [
    {
     "data": {
      "text/plain": [
       "0.98"
      ]
     },
     "execution_count": 28,
     "metadata": {},
     "output_type": "execute_result"
    }
   ],
   "source": [
    "tpr(tp, fn)"
   ]
  },
  {
   "cell_type": "markdown",
   "metadata": {
    "id": "NhsoOHCjBSld"
   },
   "source": [
    "Once again, specificity or TNR is lower than both accuracy and recall for two reasons. It is lower than accuracy because we have a high number of false positive. It is lower than recall because we predicted less negative class samples as being correct! Thus, we can say here that we out of all the actual negative samples our model predicted ~94% of them correctly.\n",
    "\n",
    "$$\n",
    "\\text{TNR} = \\frac{\\text{47}}{\\text{47} + \\text{3}}\n",
    "$$"
   ]
  },
  {
   "cell_type": "code",
   "execution_count": null,
   "metadata": {
    "id": "679Mv4J9BSld",
    "outputId": "5a9a4c3d-c9f9-4387-944c-6cff371de1c3"
   },
   "outputs": [
    {
     "data": {
      "text/plain": [
       "0.94"
      ]
     },
     "execution_count": 29,
     "metadata": {},
     "output_type": "execute_result"
    }
   ],
   "source": [
    "tnr(tn, fp)"
   ]
  },
  {
   "cell_type": "markdown",
   "metadata": {
    "id": "_olgpyjqBSld"
   },
   "source": [
    "# Pocket algorithm: improving the Perceptron\n",
    "\n",
    "Lastly, one of the major downfalls of the perceptron is that: if the data is non-separable then the learned weights simply equal to the weights learned on the last epoch. The issue here is that the weights on the last epoch might not have actually been the best weights learned throughout all the epochs! Often times, the perceptron can diverge from a good solution that was found much earlier in training!\n",
    "\n",
    "The goal of the pocket algorithm is to make a small change to the perceptron such that it saves the best weights. What does \"best\" mean here? Well, best here is defined as *the weights that produce the least number of misclassifed samples!*\n",
    "\n",
    "\n",
    "**Code Breakdown**\n",
    "\n",
    "Notice we add a new variable called `self.w_best` which will store the best weights and a new method called `replace_best_weights()` which checks whether the current weights `self.w` produce less misclassified samples than our current best weights `self.w_best`. If they do, we then update `self.w_best` with the weights values stored inside `self.w`. If they don't, we simply continue training. \n",
    "\n",
    "<!-- The first thing we do, when `fit()` is called, is we store the current weights `self.w` inside `self.w_best`. Thus, `self.w` and `self.w_best` start off with the same values. However, only `self.w` will be updated every loop while  -->\n",
    "<!-- `self.w_best` will only be updated with the weights that produce the least number of misclassified samples. -->\n",
    "\n",
    "```Python\n",
    "self.w_best = self.w.copy()\n",
    "```\n",
    "\n",
    "Next notice that we compute predictions within the for-loop `for i in range(m_samples):` using the current `self.w` weights.\n",
    "\n",
    "```\n",
    "z = self.w @ X[i]\n",
    "```\n",
    "\n",
    "Additionally, the `self.predict()` method now uses the  `self.w_best` weights instead of the current weights.\n",
    "\n",
    "```\n",
    "z = X @ self.w_best\n",
    "```\n",
    "\n",
    "The below code within `replace_best_weights()` makes the predictions using both the current weights `self.w` and current best weights `self.w_best`.\n",
    "\n",
    "```Python\n",
    "preds_w = np.sign(X @ self.w)\n",
    "preds_w_best = np.sign(X @ self.w_best)\n",
    "```\n",
    "\n",
    "The next lines  within `replace_best_weights()` then count the total number of misclassified samples when using either set of weights.\n",
    "\n",
    "```Python\n",
    "total_corr_w = np.sum(preds_w == y)\n",
    "total_corr_w_best = np.sum(preds_w_best == y)\n",
    "```\n",
    "\n",
    "Finally, the last lines within `replace_best_weights()` return True if the current weights `self.w` produce less misclassified samples than our current best weights `self.w_best` and False otherwise.\n",
    "\n",
    "```Python\n",
    "if total_corr_w > total_corr_w_best:\n",
    "    return True\n",
    "else:\n",
    "    return False\n",
    "\n",
    "```\n",
    "\n",
    "Based on the the returned boolean value from `self.replace_best_weights()` we can then decide if the values of `self.w_best` weights need to be updated using the values inside `self.w`.\n",
    "\n",
    "```Python\n",
    "replace_wights = self.replace_best_weights(X, y)\n",
    "if replace_wights is True:\n",
    "    print(\"Updating best weights...\")\n",
    "    self.w_best[:] = self.w[:]\n",
    "```"
   ]
  },
  {
   "cell_type": "code",
   "execution_count": null,
   "metadata": {
    "id": "giiiAfZfBSle"
   },
   "outputs": [],
   "source": [
    "import IPython.display as ipd  \n",
    "\n",
    "class PocketPerceptron():\n",
    "    def __init__(self, alpha=0.1, epochs=1):\n",
    "        self.alpha = alpha\n",
    "        self.epochs = epochs\n",
    "        self.w = None\n",
    "        self.w_best = self.w\n",
    "        self.fig = plt.figure()\n",
    "    \n",
    "    def replace_best_weights(self, X, y):\n",
    "        preds_w = np.sign(X @ self.w)\n",
    "        preds_w_best = np.sign(X @ self.w_best)\n",
    "        \n",
    "        total_corr_w = np.sum(preds_w == y)\n",
    "        total_corr_w_best = np.sum(preds_w_best == y)\n",
    "\n",
    "        if total_corr_w > total_corr_w_best:\n",
    "            return True\n",
    "        else:\n",
    "            return False\n",
    "\n",
    "    \n",
    "    def fit(self, X, y, plot=True):\n",
    "        m_samples = X.shape[0]\n",
    "        n_features = X.shape[1]\n",
    "        \n",
    "        # Randomly initialize weights \n",
    "        rng = np.random.RandomState(42)\n",
    "        self.w = rng.rand(n_features)\n",
    "        \n",
    "        # Copy weights into best weights\n",
    "        # to initialize best weights\n",
    "        self.w_best = self.w.copy()\n",
    " \n",
    "        # Loop over dataset multiple times\n",
    "        for e in range(self.epochs):\n",
    "            misclassified = 0\n",
    "            # Loop over all samples\n",
    "            for i in range(m_samples):\n",
    "                # Compute continuous prediction z\n",
    "                z = self.w @ X[i]\n",
    "                \n",
    "                # Computes discrete prediction by applying\n",
    "                # the sign activation function.\n",
    "                y_hat = np.sign(z)\n",
    "                \n",
    "                # Check if data sample was misclassified\n",
    "                if y_hat != y[i]:\n",
    "                    # Update rule\n",
    "                    self.w = self.w + self.alpha * y[i] * X[i]\n",
    "                    \n",
    "                    # Update best weights\n",
    "                    replace_wights = self.replace_best_weights(X, y)\n",
    "                    if replace_wights is True:\n",
    "                        print(\"Updating best weights...\")\n",
    "                        self.w_best[:] = self.w[:]\n",
    "                        \n",
    "                        # Only update plot when best weights change\n",
    "                        if plot:\n",
    "                            self._online_plotting(X, y, e, i)\n",
    "                    \n",
    "                    # iterate counter\n",
    "                    misclassified += 1\n",
    "                    \n",
    "            if misclassified == 0:\n",
    "                plt.clf();\n",
    "                print(f\"Converged at epoch: {e} - No samples misclassified\")\n",
    "                print(f\"Epochs trained: {e+1}\")\n",
    "                return\n",
    "        plt.clf();\n",
    "        print(f\"Epochs trained: {e+1}\")\n",
    "        \n",
    "    def predict(self, X):\n",
    "        # notice we use the best weights!\n",
    "        z = X @ self.w_best\n",
    "        return np.sign(z)\n",
    "    \n",
    "    def _online_plotting(self, X, y, epoch, sample):\n",
    "        plt.clf()\n",
    "        plt.title(f\"Best weights boundary updated: Epoch {epoch} Sample: {sample}\")\n",
    "        self.plot_decision_boundry(X, y)\n",
    "        ipd.clear_output(wait=True)\n",
    "        ipd.display(self.fig)\n",
    "    \n",
    "    def plot_decision_boundry(self, X, y):\n",
    "        w = self.w_best\n",
    "        line_X = np.linspace(np.min(X[:, 1]), np.max(X[:, 1]), len(X)).reshape(-1,1)\n",
    "\n",
    "        slope = -(w[0] / w[2]) / (w[0] / w[1])\n",
    "        y_intercept = -w[0]/ w[2]\n",
    "\n",
    "        decision_boundry = slope * line_X + y_intercept\n",
    "     \n",
    "        class1 = np.where(y == -1)[0]\n",
    "        class2 = np.where(y == 1)[0]\n",
    "        plt.plot(X[class1, 1], X[class1, 2], 'or', label='class1')\n",
    "        plt.plot(X[class2, 1], X[class2, 2], 'xb', label='class2')\n",
    "        plt.plot(line_X, decision_boundry)\n",
    "        plt.ylim(np.min(X[:, 2])-1, np.max(X[:, 2])+1)\n",
    "        plt.xlim(np.min(X[:, 1])-1, np.max(X[:, 1])+1)\n",
    "        plt.legend();\n",
    " "
   ]
  },
  {
   "cell_type": "code",
   "execution_count": null,
   "metadata": {
    "id": "TX2kxvuLBSle",
    "outputId": "21ba460f-d280-4d09-f231-da3a980bb665"
   },
   "outputs": [
    {
     "data": {
      "image/png": "[encoded data removed]",
      "text/plain": [
       "<Figure size 432x288 with 1 Axes>"
      ]
     },
     "metadata": {},
     "output_type": "display_data"
    },
    {
     "name": "stdout",
     "output_type": "stream",
     "text": [
      "Epochs trained: 10\n"
     ]
    },
    {
     "data": {
      "text/plain": [
       "<Figure size 432x288 with 0 Axes>"
      ]
     },
     "metadata": {},
     "output_type": "display_data"
    }
   ],
   "source": [
    "class1, class2, y = nonseparable_data()\n",
    "\n",
    "# Combine class data\n",
    "X = np.vstack((class1, class2))\n",
    "m_samples = len(X)\n",
    "# Add bias\n",
    "X1 = np.hstack([np.ones((m_samples, 1)), X])\n",
    "\n",
    "pocket_perceptron = PocketPerceptron(alpha=.1, epochs=10)\n",
    "pocket_perceptron.fit(X1, y)\n",
    "\n",
    "y_hat = pocket_perceptron.predict(X1);"
   ]
  },
  {
   "cell_type": "code",
   "execution_count": null,
   "metadata": {
    "id": "tPgswSSGBSlf",
    "outputId": "16e5850d-fca5-42f3-e5bb-835378328070"
   },
   "outputs": [
    {
     "data": {
      "image/png": "[encoded data removed]",
      "text/plain": [
       "<Figure size 432x288 with 1 Axes>"
      ]
     },
     "metadata": {
      "needs_background": "light"
     },
     "output_type": "display_data"
    }
   ],
   "source": [
    "plt.plot(y)\n",
    "plt.plot(y_hat, 'x')\n",
    "plt.title(\"Predictions for Non-separable data\")\n",
    "plt.xlabel(\"X index\")\n",
    "plt.ylabel(\"class label prediction (y_hat)\")\n",
    "plt.show();"
   ]
  },
  {
   "cell_type": "markdown",
   "metadata": {
    "id": "2DJ1uZ4cBSlf"
   },
   "source": [
    "Notice, now we can run as many epochs as we want and the boundary will only update when the best weights get updated. Further, we can see the best weights increase our accuracy and other performance metric scores!"
   ]
  },
  {
   "cell_type": "code",
   "execution_count": null,
   "metadata": {
    "id": "D-bamwssBSlf",
    "outputId": "8bca2450-e7ab-4972-aa71-ae31aa664c92"
   },
   "outputs": [
    {
     "data": {
      "text/plain": [
       "0.98"
      ]
     },
     "execution_count": 33,
     "metadata": {},
     "output_type": "execute_result"
    }
   ],
   "source": [
    "accuracy_score(y_true=y, y_pred=y_hat)"
   ]
  },
  {
   "cell_type": "code",
   "execution_count": null,
   "metadata": {
    "id": "OMEIPp6ZBSlf",
    "outputId": "6549a1cc-c187-46d7-e060-fde70482afe2"
   },
   "outputs": [
    {
     "data": {
      "text/html": [
       "<div>\n",
       "<style scoped>\n",
       "    .dataframe tbody tr th:only-of-type {\n",
       "        vertical-align: middle;\n",
       "    }\n",
       "\n",
       "    .dataframe tbody tr th {\n",
       "        vertical-align: top;\n",
       "    }\n",
       "\n",
       "    .dataframe thead th {\n",
       "        text-align: right;\n",
       "    }\n",
       "</style>\n",
       "<table border=\"1\" class=\"dataframe\">\n",
       "  <thead>\n",
       "    <tr style=\"text-align: right;\">\n",
       "      <th></th>\n",
       "      <th>class1</th>\n",
       "      <th>class2</th>\n",
       "    </tr>\n",
       "  </thead>\n",
       "  <tbody>\n",
       "    <tr>\n",
       "      <th>class1</th>\n",
       "      <td>49</td>\n",
       "      <td>1</td>\n",
       "    </tr>\n",
       "    <tr>\n",
       "      <th>class2</th>\n",
       "      <td>1</td>\n",
       "      <td>49</td>\n",
       "    </tr>\n",
       "  </tbody>\n",
       "</table>\n",
       "</div>"
      ],
      "text/plain": [
       "        class1  class2\n",
       "class1      49       1\n",
       "class2       1      49"
      ]
     },
     "execution_count": 34,
     "metadata": {},
     "output_type": "execute_result"
    }
   ],
   "source": [
    "pretty_confusion_matrix(y_hat, y)"
   ]
  },
  {
   "cell_type": "code",
   "execution_count": null,
   "metadata": {
    "id": "8IthofCaBSlf",
    "outputId": "27654eb9-2bb6-4b58-c95c-f2b6722a5f25"
   },
   "outputs": [
    {
     "name": "stdout",
     "output_type": "stream",
     "text": [
      "True negative (TN): 49\n",
      "False positive (FP): 1\n",
      "False negative (FN): 1\n",
      "True positive (TP): 49\n"
     ]
    }
   ],
   "source": [
    "tn, fp, fn, tp = confusion_matrix(y_true=y, y_pred=y_hat).ravel()\n",
    "\n",
    "print(f\"True negative (TN): {tn}\")\n",
    "print(f\"False positive (FP): {fp}\")\n",
    "print(f\"False negative (FN): {fn}\")\n",
    "print(f\"True positive (TP): {tp}\")"
   ]
  },
  {
   "cell_type": "code",
   "execution_count": null,
   "metadata": {
    "id": "2lPa7CppBSlg",
    "outputId": "b0b177d3-5af9-4ad4-9b9a-b109b5a23135"
   },
   "outputs": [
    {
     "data": {
      "text/plain": [
       "0.98"
      ]
     },
     "execution_count": 36,
     "metadata": {},
     "output_type": "execute_result"
    }
   ],
   "source": [
    "ppv(tp, fp)"
   ]
  },
  {
   "cell_type": "code",
   "execution_count": null,
   "metadata": {
    "id": "SlJS9gntBSlg",
    "outputId": "fa2dc34c-10a3-4c37-de71-69d121f7596c"
   },
   "outputs": [
    {
     "data": {
      "text/plain": [
       "0.98"
      ]
     },
     "execution_count": 37,
     "metadata": {},
     "output_type": "execute_result"
    }
   ],
   "source": [
    "tpr(tp, fn)"
   ]
  },
  {
   "cell_type": "code",
   "execution_count": null,
   "metadata": {
    "id": "_T1QXlLLBSlg",
    "outputId": "3c934d88-c3b5-4a34-b86b-d55a9c76bbd2"
   },
   "outputs": [
    {
     "data": {
      "text/plain": [
       "0.98"
      ]
     },
     "execution_count": 38,
     "metadata": {},
     "output_type": "execute_result"
    }
   ],
   "source": [
    "tnr(tn, fp)"
   ]
  }
 ],
 "metadata": {
  "colab": {
   "collapsed_sections": [
    "z-Ba9m2wBSlQ",
    "gWkL-Z13BSlQ",
    "4CY0Lqr7BSlQ",
    "dFQ5hpqcBSlZ"
   ],
   "provenance": []
  },
  "kernelspec": {
   "display_name": "Python 3",
   "language": "python",
   "name": "python3"
  },
  "language_info": {
   "codemirror_mode": {
    "name": "ipython",
    "version": 3
   },
   "file_extension": ".py",
   "mimetype": "text/x-python",
   "name": "python",
   "nbconvert_exporter": "python",
   "pygments_lexer": "ipython3",
   "version": "3.8.8"
  },
  "toc": {
   "base_numbering": 1,
   "nav_menu": {},
   "number_sections": true,
   "sideBar": true,
   "skip_h1_title": false,
   "title_cell": "Table of Contents",
   "title_sidebar": "Contents",
   "toc_cell": false,
   "toc_position": {
    "height": "calc(100% - 180px)",
    "left": "10px",
    "top": "150px",
    "width": "165px"
   },
   "toc_section_display": true,
   "toc_window_display": true
  }
 },
 "nbformat": 4,
 "nbformat_minor": 1
}
