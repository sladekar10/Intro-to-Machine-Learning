{
 "cells": [
  {
   "cell_type": "markdown",
   "metadata": {
    "id": "PrVEWwLjXHCp"
   },
   "source": [
    "\n",
    "\n",
    "# Linear Classification \n",
    "\n",
    "Course: ITCS 4156 - Introduction to Machine Learning \n",
    "\n",
    "Instructor: Xiang Zhang\n",
    "\n",
    "$\\newcommand{\\xv}{\\mathbf{x}}\n",
    " \\newcommand{\\wv}{\\mathbf{w}}\n",
    " \\newcommand{\\yv}{\\mathbf{y}}\n",
    " \\newcommand{\\zv}{\\mathbf{z}}\n",
    " \\newcommand{\\uv}{\\mathbf{u}}\n",
    " \\newcommand{\\vv}{\\mathbf{v}}\n",
    " \\newcommand{\\tv}{\\mathbf{t}}\n",
    " \\newcommand{\\Chi}{\\mathcal{X}}\n",
    " \\newcommand{\\R}{\\rm I\\!R}\n",
    " \\newcommand{\\sign}{\\text{sign}}\n",
    " \\newcommand{\\Tm}{\\mathbf{T}}\n",
    " \\newcommand{\\Xm}{\\mathbf{X}}\n",
    " \\newcommand{\\Zm}{\\mathbf{Z}}\n",
    " \\newcommand{\\Im}{\\mathbf{I}}\n",
    " \\newcommand{\\Um}{\\mathbf{U}}\n",
    " \\newcommand{\\Vm}{\\mathbf{V}} \n",
    " \\newcommand{\\muv}{\\boldsymbol\\mu}\n",
    " \\newcommand{\\Sigmav}{\\boldsymbol\\Sigma}\n",
    " \\newcommand{\\Lambdav}{\\boldsymbol\\Lambda}\n",
    "$"
   ]
  },
  {
   "cell_type": "markdown",
   "metadata": {
    "id": "wfzj5vqnXHCw"
   },
   "source": [
    "<br/>\n",
    "<font color=\"blue\"><b>\n",
    "\n",
    "NAME: *Shardul Ladekar*\n",
    "\n",
    "</b> </font>"
   ]
  },
  {
   "cell_type": "markdown",
   "metadata": {
    "id": "Zoyh_B5GXHCx"
   },
   "source": [
    "## Goal\n",
    "\n",
    "The goal of this activity is to practice our first classification algorithm: Rosenblatt's perceptron. Furthermore, we'll look at how we can use the pocket version of  Rosenblatt's perceptron to make sure we always using the best weights. To do so, we'll look at using the Iris dataset which is one of the most famous classical machine learning classification datasets.\n",
    "\n",
    "Your job is to read through the lab and fill in any code segments that are marked by `TODO` headers and comments. **It should be noted, that all the correct outputs are given below each code cell. It might be useful to duplicate all the `TODO` cells so you can try to match the correct output with your own code!**\n",
    "\n",
    "Use the `todo_check()`to help guide you in understanding whether your code for a given TODO is correct or incorrect. However, failing a TODO check doesn't mean you won't receive points, though it could be a good indication. If you are failing, feel free to ask and we can help check what is happening."
   ]
  },
  {
   "cell_type": "markdown",
   "metadata": {
    "id": "rwRLJ-2GXHCy"
   },
   "source": [
    "## Agenda\n",
    "\n",
    "- Describe the Iris dataset classification problem\n",
    "- Load the Iris dataset via Sklearn\n",
    "- Visualize the Iris dataset\n",
    "- Formulate and split Iris dataset into a binary classification problem using one-vs-all\n",
    "- Create the data preparation pipeline where we apply data preprcessing AFTER splitting\n",
    "- Implement Rosenblatt's perceptron with the pocket extension\n",
    "- Investigate one-vs-all classification performance using different combinations of features"
   ]
  },
  {
   "cell_type": "markdown",
   "metadata": {
    "id": "EiCa9HvdXHCz"
   },
   "source": [
    "## Table of notation\n",
    "\n",
    "| Symbol                     | Meaning                     | Symbol    | Meaning                                                          |\n",
    "|----------------------------|-----------------------------|-----------|------------------------------------------------------------------|\n",
    "| $\\xv$ or $\\vec{x}$         | feature/input vector        | $x_i$     | $i$th element of $\\xv$                                           |\n",
    "| $\\Xm$                      | input matrix                | $x_{i,j}$ | $i$th row and $j$th column of $\\Xm$                              |\n",
    "| $\\yv$ or $\\tv$             | labels/targets              | $n$       | number of features or columns \n",
    "| $\\wv$ or $\\mathbf{\\theta}$ | weight/parameter vector     | $m$       | number of data samples <br>(also used to refer to the slope) |samples or rows                                   |\n",
    "| $f$ or $h$                 | hypothesis function <br> (i.e., a model)        | $\\hat{\\yv}$ <br> $f(\\xv {;} \\wv)$<br>$h(\\xv {;} \\wv)$ | predictions <br> y-hat |\n",
    "| $E$              | error or sum of error (loss)  | $SSE$      | sum of squared error function                                            |\n",
    "| $MSE$                      | mean squared error| $\\nabla$  | gradient (nabla)                                       |\n",
    "| $\\partial$                 | partial derivative          | $\\alpha$  | learning rate (alpha)                                  |       \n",
    "| $J$ | general placeholder for <br>the objective function | $x^T$| transpose of a vector or matrix |\n",
    "$b$ | bias or y-intercept term | $T$ | Threshold |\n",
    "$*$| element-wise<br> multiplication | $\\cdot$ | dot product|\n",
    "| $z$<br>$\\zv$| value before applying activation function | |  |"
   ]
  },
  {
   "cell_type": "markdown",
   "metadata": {
    "id": "0adBXFEiXHC1"
   },
   "source": [
    "## Imports "
   ]
  },
  {
   "cell_type": "code",
   "execution_count": 6,
   "metadata": {
    "id": "MgobA0Y-XHC1"
   },
   "outputs": [],
   "source": [
    "import gc\n",
    "from typing import Tuple, Union, List\n",
    "\n",
    "# Debugger\n",
    "from IPython.core.debugger import set_trace\n",
    "\n",
    "import sklearn\n",
    "sklearn_version = '1.0'\n",
    "# Check to make sure you have the right version of sklearn\n",
    "assert sklearn.__version__  > sklearn_version, f'sklearn version is only {sklearn.__version__} and needs to be > {sklearn_version}'\n",
    "\n",
    "import numpy as np\n",
    "import pandas as pd\n",
    "import matplotlib.pyplot as plt \n",
    "\n",
    "%matplotlib inline"
   ]
  },
  {
   "cell_type": "code",
   "execution_count": 7,
   "metadata": {
    "id": "fXQRLwTWXHC3"
   },
   "outputs": [],
   "source": [
    "# Set this to True if you DO NOT want to run the \n",
    "# garbage_collect() functions throughout the notebook\n",
    "turn_off_garbage_collect = False\n",
    "\n",
    "def garbage_collect(vars_):\n",
    "    if not turn_off_garbage_collect:\n",
    "        for v in vars_:\n",
    "            if v in globals():\n",
    "                del globals()[v]\n",
    "        collected = gc.collect()\n",
    "\n",
    "def todo_check(condi_err):\n",
    "    failed_err = \"You passed {}/{} and FAILED the following code checks:{}\"\n",
    "    failed = \"\"\n",
    "    n_failed = 0\n",
    "    for check, (condi, err) in enumerate(condi_err):\n",
    "        if not condi:\n",
    "            n_failed += 1\n",
    "            failed += f\"\\nFailed check [{check+1}]:\\n\\t Tip: {err}\"\n",
    "\n",
    "    if len(failed) != 0:\n",
    "        passed = len(condi_err) - n_failed\n",
    "        err = failed_err.format(passed, len(condi_err), failed)\n",
    "        raise AssertionError(err.format(failed))\n",
    "    print(\"Your code PASSED the code check!\")"
   ]
  },
  {
   "cell_type": "markdown",
   "metadata": {
    "id": "_d0lkPwPXHC4"
   },
   "source": [
    "# Problem statement summary and data loading\n",
    "\n",
    "## Iris dataset problem summary\n",
    "\n",
    "<!-- <img src=\"https://external-content.duckduckgo.com/iu/?u=https%3A%2F%2Fimgs.developpaper.com%2Fimgs%2F1981858-20200805133224053-2053756181.png&f=1&nofb=1\"> -->\n",
    "\n",
    "\n",
    "The data we are going to be using for this lab is the famous iris dataset. This dataset is a frequently used dataset when first being introduced to classification in machine learning. [Kaggles](https://www.kaggle.com/arshid/iris-flower-dataset)  description of the dataset is as follows:\n",
    "\n",
    "> The Iris flower data set is a multivariate data set introduced by the British statistician and biologist Ronald Fisher in his 1936 paper. The use of multiple measurements in taxonomic problems. It is sometimes called Anderson's Iris dataset because Edgar Anderson collected the data to quantify the morphologic variation of Iris flowers of 3 related species. The dataset consists of 50 samples from each of three species of Iris (Iris Setosa, Iris virginica, and Iris versicolor). 4 features were measured from each sample: the length and the width of the sepals and petals, in centimeters.\n",
    "\n",
    "Thus, the goal of this data is a 3-way multi-classification problem where we must classify each data sample either as an Iris setosa, Iris virginica or Iris versicolor."
   ]
  },
  {
   "cell_type": "markdown",
   "metadata": {
    "id": "f4RwB2x8XHC5"
   },
   "source": [
    "## Loading the data\n",
    "Famous datasets like this can often be found within machine learning packages, meaning all you have to do is import the dataset via a given package. For instance, Scikit Learn (sklearn) already has the Iris dataset built into its library. All we need to do is simply import it! "
   ]
  },
  {
   "cell_type": "markdown",
   "metadata": {
    "id": "SqBBj2t2XHC6"
   },
   "source": [
    "#### TODO 1\n",
    "Complete the TODO by loading the Iris dataset using Sklearn.\n",
    "\n",
    "1. Import the `load_iris()` function from `sklearn.datasets` ([docs](https://scikit-learn.org/stable/modules/generated/sklearn.datasets.load_iris.html)).\n",
    "2. Load the Iris dataset by calling the `load_iris()` function. Store the output into `iris`."
   ]
  },
  {
   "cell_type": "code",
   "execution_count": 16,
   "metadata": {
    "id": "ELgOwvlYXHC6",
    "outputId": "679f0ef6-9696-4359-d253-03ec1b10d591"
   },
   "outputs": [
    {
     "name": "stdout",
     "output_type": "stream",
     "text": [
      "Your code PASSED the code check!\n"
     ]
    }
   ],
   "source": [
    "# TODO 1.1\n",
    "from sklearn.datasets import load_iris\n",
    "# TODO 1.2\n",
    "iris = load_iris()\n",
    "\n",
    "todo_check([\n",
    "    (type(iris) == sklearn.utils.Bunch, \"'iris' is not of type Bunch\")\n",
    "])"
   ]
  },
  {
   "cell_type": "markdown",
   "metadata": {
    "id": "sNJc1SJgXHC7"
   },
   "source": [
    "Once loaded, let's check the type of the our `iris` variable so we know how to manipulate our data. To do so we can use Python's built-in function `type()`."
   ]
  },
  {
   "cell_type": "code",
   "execution_count": 17,
   "metadata": {
    "id": "OhbEYgT4XHC8",
    "outputId": "f64c499d-6396-4e17-c273-cba3c400a7ce"
   },
   "outputs": [
    {
     "data": {
      "text/plain": [
       "sklearn.utils.Bunch"
      ]
     },
     "execution_count": 17,
     "metadata": {},
     "output_type": "execute_result"
    }
   ],
   "source": [
    "type(iris)"
   ]
  },
  {
   "cell_type": "markdown",
   "metadata": {
    "id": "ZPuJ06iyXHC8"
   },
   "source": [
    "Hmmm, I don't think we have seen the type `sklearn.utils.Bunch` before. The first thing we should always do when we don't know what a variable's type represents is to check the [docs](https://scikit-learn.org/stable/modules/generated/sklearn.utils.Bunch.html#sklearn.utils.Bunch) and printout the variable itself.\n",
    "\n",
    "We can see in the Sklearn `Bunch` [docs](https://scikit-learn.org/stable/modules/generated/sklearn.utils.Bunch.html#sklearn.utils.Bunch)  that it is an object describes as a \"container object exposing keys as attributes.\" Looking at  the example code in the `Bunch` docs, we can see that it acts similar to a dictionary but with added functionality.\n",
    "\n",
    "Below, we can see what happens when we printout the `iris` variable which contains a `Bunch` object instance. As we can see, it outputs a dictionary with keys and values where some of the keys seem to correspond to the Iris data while others seem to correspond to meta-data (information about our data)."
   ]
  },
  {
   "cell_type": "code",
   "execution_count": 18,
   "metadata": {
    "id": "gghhh4srXHC9",
    "outputId": "b90f4960-1260-4d49-d4dc-daa5547d20c0"
   },
   "outputs": [
    {
     "data": {
      "text/plain": [
       "{'data': array([[5.1, 3.5, 1.4, 0.2],\n",
       "        [4.9, 3. , 1.4, 0.2],\n",
       "        [4.7, 3.2, 1.3, 0.2],\n",
       "        [4.6, 3.1, 1.5, 0.2],\n",
       "        [5. , 3.6, 1.4, 0.2],\n",
       "        [5.4, 3.9, 1.7, 0.4],\n",
       "        [4.6, 3.4, 1.4, 0.3],\n",
       "        [5. , 3.4, 1.5, 0.2],\n",
       "        [4.4, 2.9, 1.4, 0.2],\n",
       "        [4.9, 3.1, 1.5, 0.1],\n",
       "        [5.4, 3.7, 1.5, 0.2],\n",
       "        [4.8, 3.4, 1.6, 0.2],\n",
       "        [4.8, 3. , 1.4, 0.1],\n",
       "        [4.3, 3. , 1.1, 0.1],\n",
       "        [5.8, 4. , 1.2, 0.2],\n",
       "        [5.7, 4.4, 1.5, 0.4],\n",
       "        [5.4, 3.9, 1.3, 0.4],\n",
       "        [5.1, 3.5, 1.4, 0.3],\n",
       "        [5.7, 3.8, 1.7, 0.3],\n",
       "        [5.1, 3.8, 1.5, 0.3],\n",
       "        [5.4, 3.4, 1.7, 0.2],\n",
       "        [5.1, 3.7, 1.5, 0.4],\n",
       "        [4.6, 3.6, 1. , 0.2],\n",
       "        [5.1, 3.3, 1.7, 0.5],\n",
       "        [4.8, 3.4, 1.9, 0.2],\n",
       "        [5. , 3. , 1.6, 0.2],\n",
       "        [5. , 3.4, 1.6, 0.4],\n",
       "        [5.2, 3.5, 1.5, 0.2],\n",
       "        [5.2, 3.4, 1.4, 0.2],\n",
       "        [4.7, 3.2, 1.6, 0.2],\n",
       "        [4.8, 3.1, 1.6, 0.2],\n",
       "        [5.4, 3.4, 1.5, 0.4],\n",
       "        [5.2, 4.1, 1.5, 0.1],\n",
       "        [5.5, 4.2, 1.4, 0.2],\n",
       "        [4.9, 3.1, 1.5, 0.2],\n",
       "        [5. , 3.2, 1.2, 0.2],\n",
       "        [5.5, 3.5, 1.3, 0.2],\n",
       "        [4.9, 3.6, 1.4, 0.1],\n",
       "        [4.4, 3. , 1.3, 0.2],\n",
       "        [5.1, 3.4, 1.5, 0.2],\n",
       "        [5. , 3.5, 1.3, 0.3],\n",
       "        [4.5, 2.3, 1.3, 0.3],\n",
       "        [4.4, 3.2, 1.3, 0.2],\n",
       "        [5. , 3.5, 1.6, 0.6],\n",
       "        [5.1, 3.8, 1.9, 0.4],\n",
       "        [4.8, 3. , 1.4, 0.3],\n",
       "        [5.1, 3.8, 1.6, 0.2],\n",
       "        [4.6, 3.2, 1.4, 0.2],\n",
       "        [5.3, 3.7, 1.5, 0.2],\n",
       "        [5. , 3.3, 1.4, 0.2],\n",
       "        [7. , 3.2, 4.7, 1.4],\n",
       "        [6.4, 3.2, 4.5, 1.5],\n",
       "        [6.9, 3.1, 4.9, 1.5],\n",
       "        [5.5, 2.3, 4. , 1.3],\n",
       "        [6.5, 2.8, 4.6, 1.5],\n",
       "        [5.7, 2.8, 4.5, 1.3],\n",
       "        [6.3, 3.3, 4.7, 1.6],\n",
       "        [4.9, 2.4, 3.3, 1. ],\n",
       "        [6.6, 2.9, 4.6, 1.3],\n",
       "        [5.2, 2.7, 3.9, 1.4],\n",
       "        [5. , 2. , 3.5, 1. ],\n",
       "        [5.9, 3. , 4.2, 1.5],\n",
       "        [6. , 2.2, 4. , 1. ],\n",
       "        [6.1, 2.9, 4.7, 1.4],\n",
       "        [5.6, 2.9, 3.6, 1.3],\n",
       "        [6.7, 3.1, 4.4, 1.4],\n",
       "        [5.6, 3. , 4.5, 1.5],\n",
       "        [5.8, 2.7, 4.1, 1. ],\n",
       "        [6.2, 2.2, 4.5, 1.5],\n",
       "        [5.6, 2.5, 3.9, 1.1],\n",
       "        [5.9, 3.2, 4.8, 1.8],\n",
       "        [6.1, 2.8, 4. , 1.3],\n",
       "        [6.3, 2.5, 4.9, 1.5],\n",
       "        [6.1, 2.8, 4.7, 1.2],\n",
       "        [6.4, 2.9, 4.3, 1.3],\n",
       "        [6.6, 3. , 4.4, 1.4],\n",
       "        [6.8, 2.8, 4.8, 1.4],\n",
       "        [6.7, 3. , 5. , 1.7],\n",
       "        [6. , 2.9, 4.5, 1.5],\n",
       "        [5.7, 2.6, 3.5, 1. ],\n",
       "        [5.5, 2.4, 3.8, 1.1],\n",
       "        [5.5, 2.4, 3.7, 1. ],\n",
       "        [5.8, 2.7, 3.9, 1.2],\n",
       "        [6. , 2.7, 5.1, 1.6],\n",
       "        [5.4, 3. , 4.5, 1.5],\n",
       "        [6. , 3.4, 4.5, 1.6],\n",
       "        [6.7, 3.1, 4.7, 1.5],\n",
       "        [6.3, 2.3, 4.4, 1.3],\n",
       "        [5.6, 3. , 4.1, 1.3],\n",
       "        [5.5, 2.5, 4. , 1.3],\n",
       "        [5.5, 2.6, 4.4, 1.2],\n",
       "        [6.1, 3. , 4.6, 1.4],\n",
       "        [5.8, 2.6, 4. , 1.2],\n",
       "        [5. , 2.3, 3.3, 1. ],\n",
       "        [5.6, 2.7, 4.2, 1.3],\n",
       "        [5.7, 3. , 4.2, 1.2],\n",
       "        [5.7, 2.9, 4.2, 1.3],\n",
       "        [6.2, 2.9, 4.3, 1.3],\n",
       "        [5.1, 2.5, 3. , 1.1],\n",
       "        [5.7, 2.8, 4.1, 1.3],\n",
       "        [6.3, 3.3, 6. , 2.5],\n",
       "        [5.8, 2.7, 5.1, 1.9],\n",
       "        [7.1, 3. , 5.9, 2.1],\n",
       "        [6.3, 2.9, 5.6, 1.8],\n",
       "        [6.5, 3. , 5.8, 2.2],\n",
       "        [7.6, 3. , 6.6, 2.1],\n",
       "        [4.9, 2.5, 4.5, 1.7],\n",
       "        [7.3, 2.9, 6.3, 1.8],\n",
       "        [6.7, 2.5, 5.8, 1.8],\n",
       "        [7.2, 3.6, 6.1, 2.5],\n",
       "        [6.5, 3.2, 5.1, 2. ],\n",
       "        [6.4, 2.7, 5.3, 1.9],\n",
       "        [6.8, 3. , 5.5, 2.1],\n",
       "        [5.7, 2.5, 5. , 2. ],\n",
       "        [5.8, 2.8, 5.1, 2.4],\n",
       "        [6.4, 3.2, 5.3, 2.3],\n",
       "        [6.5, 3. , 5.5, 1.8],\n",
       "        [7.7, 3.8, 6.7, 2.2],\n",
       "        [7.7, 2.6, 6.9, 2.3],\n",
       "        [6. , 2.2, 5. , 1.5],\n",
       "        [6.9, 3.2, 5.7, 2.3],\n",
       "        [5.6, 2.8, 4.9, 2. ],\n",
       "        [7.7, 2.8, 6.7, 2. ],\n",
       "        [6.3, 2.7, 4.9, 1.8],\n",
       "        [6.7, 3.3, 5.7, 2.1],\n",
       "        [7.2, 3.2, 6. , 1.8],\n",
       "        [6.2, 2.8, 4.8, 1.8],\n",
       "        [6.1, 3. , 4.9, 1.8],\n",
       "        [6.4, 2.8, 5.6, 2.1],\n",
       "        [7.2, 3. , 5.8, 1.6],\n",
       "        [7.4, 2.8, 6.1, 1.9],\n",
       "        [7.9, 3.8, 6.4, 2. ],\n",
       "        [6.4, 2.8, 5.6, 2.2],\n",
       "        [6.3, 2.8, 5.1, 1.5],\n",
       "        [6.1, 2.6, 5.6, 1.4],\n",
       "        [7.7, 3. , 6.1, 2.3],\n",
       "        [6.3, 3.4, 5.6, 2.4],\n",
       "        [6.4, 3.1, 5.5, 1.8],\n",
       "        [6. , 3. , 4.8, 1.8],\n",
       "        [6.9, 3.1, 5.4, 2.1],\n",
       "        [6.7, 3.1, 5.6, 2.4],\n",
       "        [6.9, 3.1, 5.1, 2.3],\n",
       "        [5.8, 2.7, 5.1, 1.9],\n",
       "        [6.8, 3.2, 5.9, 2.3],\n",
       "        [6.7, 3.3, 5.7, 2.5],\n",
       "        [6.7, 3. , 5.2, 2.3],\n",
       "        [6.3, 2.5, 5. , 1.9],\n",
       "        [6.5, 3. , 5.2, 2. ],\n",
       "        [6.2, 3.4, 5.4, 2.3],\n",
       "        [5.9, 3. , 5.1, 1.8]]),\n",
       " 'target': array([0, 0, 0, 0, 0, 0, 0, 0, 0, 0, 0, 0, 0, 0, 0, 0, 0, 0, 0, 0, 0, 0,\n",
       "        0, 0, 0, 0, 0, 0, 0, 0, 0, 0, 0, 0, 0, 0, 0, 0, 0, 0, 0, 0, 0, 0,\n",
       "        0, 0, 0, 0, 0, 0, 1, 1, 1, 1, 1, 1, 1, 1, 1, 1, 1, 1, 1, 1, 1, 1,\n",
       "        1, 1, 1, 1, 1, 1, 1, 1, 1, 1, 1, 1, 1, 1, 1, 1, 1, 1, 1, 1, 1, 1,\n",
       "        1, 1, 1, 1, 1, 1, 1, 1, 1, 1, 1, 1, 2, 2, 2, 2, 2, 2, 2, 2, 2, 2,\n",
       "        2, 2, 2, 2, 2, 2, 2, 2, 2, 2, 2, 2, 2, 2, 2, 2, 2, 2, 2, 2, 2, 2,\n",
       "        2, 2, 2, 2, 2, 2, 2, 2, 2, 2, 2, 2, 2, 2, 2, 2, 2, 2]),\n",
       " 'frame': None,\n",
       " 'target_names': array(['setosa', 'versicolor', 'virginica'], dtype='<U10'),\n",
       " 'DESCR': '.. _iris_dataset:\\n\\nIris plants dataset\\n--------------------\\n\\n**Data Set Characteristics:**\\n\\n    :Number of Instances: 150 (50 in each of three classes)\\n    :Number of Attributes: 4 numeric, predictive attributes and the class\\n    :Attribute Information:\\n        - sepal length in cm\\n        - sepal width in cm\\n        - petal length in cm\\n        - petal width in cm\\n        - class:\\n                - Iris-Setosa\\n                - Iris-Versicolour\\n                - Iris-Virginica\\n                \\n    :Summary Statistics:\\n\\n    ============== ==== ==== ======= ===== ====================\\n                    Min  Max   Mean    SD   Class Correlation\\n    ============== ==== ==== ======= ===== ====================\\n    sepal length:   4.3  7.9   5.84   0.83    0.7826\\n    sepal width:    2.0  4.4   3.05   0.43   -0.4194\\n    petal length:   1.0  6.9   3.76   1.76    0.9490  (high!)\\n    petal width:    0.1  2.5   1.20   0.76    0.9565  (high!)\\n    ============== ==== ==== ======= ===== ====================\\n\\n    :Missing Attribute Values: None\\n    :Class Distribution: 33.3% for each of 3 classes.\\n    :Creator: R.A. Fisher\\n    :Donor: Michael Marshall (MARSHALL%PLU@io.arc.nasa.gov)\\n    :Date: July, 1988\\n\\nThe famous Iris database, first used by Sir R.A. Fisher. The dataset is taken\\nfrom Fisher\\'s paper. Note that it\\'s the same as in R, but not as in the UCI\\nMachine Learning Repository, which has two wrong data points.\\n\\nThis is perhaps the best known database to be found in the\\npattern recognition literature.  Fisher\\'s paper is a classic in the field and\\nis referenced frequently to this day.  (See Duda & Hart, for example.)  The\\ndata set contains 3 classes of 50 instances each, where each class refers to a\\ntype of iris plant.  One class is linearly separable from the other 2; the\\nlatter are NOT linearly separable from each other.\\n\\n.. topic:: References\\n\\n   - Fisher, R.A. \"The use of multiple measurements in taxonomic problems\"\\n     Annual Eugenics, 7, Part II, 179-188 (1936); also in \"Contributions to\\n     Mathematical Statistics\" (John Wiley, NY, 1950).\\n   - Duda, R.O., & Hart, P.E. (1973) Pattern Classification and Scene Analysis.\\n     (Q327.D83) John Wiley & Sons.  ISBN 0-471-22361-1.  See page 218.\\n   - Dasarathy, B.V. (1980) \"Nosing Around the Neighborhood: A New System\\n     Structure and Classification Rule for Recognition in Partially Exposed\\n     Environments\".  IEEE Transactions on Pattern Analysis and Machine\\n     Intelligence, Vol. PAMI-2, No. 1, 67-71.\\n   - Gates, G.W. (1972) \"The Reduced Nearest Neighbor Rule\".  IEEE Transactions\\n     on Information Theory, May 1972, 431-433.\\n   - See also: 1988 MLC Proceedings, 54-64.  Cheeseman et al\"s AUTOCLASS II\\n     conceptual clustering system finds 3 classes in the data.\\n   - Many, many more ...',\n",
       " 'feature_names': ['sepal length (cm)',\n",
       "  'sepal width (cm)',\n",
       "  'petal length (cm)',\n",
       "  'petal width (cm)'],\n",
       " 'filename': 'iris.csv',\n",
       " 'data_module': 'sklearn.datasets.data'}"
      ]
     },
     "execution_count": 18,
     "metadata": {},
     "output_type": "execute_result"
    }
   ],
   "source": [
    "iris"
   ]
  },
  {
   "cell_type": "markdown",
   "metadata": {
    "id": "n9Sm5JKcXHC9"
   },
   "source": [
    "So far, it looks like the `iris` variable is an instance of the Sklearn `Bunch` class and within said class instance is some data and meta-data relating to the iris dataset. But how do we access the actual data we need?\n",
    "\n",
    "After a little research by reading the `Bunch` class and `load_iris()` function docs, it looks like each key seen in the above output actually corresponds to a class variable. This means we can access the data by accessing the class variables inside the `iris` instance.  \n",
    "\n",
    "Before we do that, let's first print the keys of the `iris` class instance by calling `iris.keys()` instead of manually going through the large output above."
   ]
  },
  {
   "cell_type": "code",
   "execution_count": 19,
   "metadata": {
    "id": "IH5FM5r0XHC9",
    "outputId": "2b398cf8-8429-4b58-f911-85a48606c529"
   },
   "outputs": [
    {
     "data": {
      "text/plain": [
       "dict_keys(['data', 'target', 'frame', 'target_names', 'DESCR', 'feature_names', 'filename', 'data_module'])"
      ]
     },
     "execution_count": 19,
     "metadata": {},
     "output_type": "execute_result"
    }
   ],
   "source": [
    "iris.keys()"
   ]
  },
  {
   "cell_type": "markdown",
   "metadata": {
    "collapsed": true,
    "id": "AYl5uvhXXHC-"
   },
   "source": [
    "Okay, now we can clearly see the keys. Let's try accessing this data and meta-data now. As mentioned, we can access the 'data' key of `iris` by treating it as an class variable and calling `iris.data`."
   ]
  },
  {
   "cell_type": "code",
   "execution_count": 20,
   "metadata": {
    "id": "3ZAR5LupXHC-",
    "outputId": "c2a5f682-7496-4222-86b9-359d00a5b317"
   },
   "outputs": [
    {
     "data": {
      "text/plain": [
       "array([[5.1, 3.5, 1.4, 0.2],\n",
       "       [4.9, 3. , 1.4, 0.2],\n",
       "       [4.7, 3.2, 1.3, 0.2],\n",
       "       [4.6, 3.1, 1.5, 0.2],\n",
       "       [5. , 3.6, 1.4, 0.2],\n",
       "       [5.4, 3.9, 1.7, 0.4],\n",
       "       [4.6, 3.4, 1.4, 0.3],\n",
       "       [5. , 3.4, 1.5, 0.2],\n",
       "       [4.4, 2.9, 1.4, 0.2],\n",
       "       [4.9, 3.1, 1.5, 0.1],\n",
       "       [5.4, 3.7, 1.5, 0.2],\n",
       "       [4.8, 3.4, 1.6, 0.2],\n",
       "       [4.8, 3. , 1.4, 0.1],\n",
       "       [4.3, 3. , 1.1, 0.1],\n",
       "       [5.8, 4. , 1.2, 0.2],\n",
       "       [5.7, 4.4, 1.5, 0.4],\n",
       "       [5.4, 3.9, 1.3, 0.4],\n",
       "       [5.1, 3.5, 1.4, 0.3],\n",
       "       [5.7, 3.8, 1.7, 0.3],\n",
       "       [5.1, 3.8, 1.5, 0.3],\n",
       "       [5.4, 3.4, 1.7, 0.2],\n",
       "       [5.1, 3.7, 1.5, 0.4],\n",
       "       [4.6, 3.6, 1. , 0.2],\n",
       "       [5.1, 3.3, 1.7, 0.5],\n",
       "       [4.8, 3.4, 1.9, 0.2],\n",
       "       [5. , 3. , 1.6, 0.2],\n",
       "       [5. , 3.4, 1.6, 0.4],\n",
       "       [5.2, 3.5, 1.5, 0.2],\n",
       "       [5.2, 3.4, 1.4, 0.2],\n",
       "       [4.7, 3.2, 1.6, 0.2],\n",
       "       [4.8, 3.1, 1.6, 0.2],\n",
       "       [5.4, 3.4, 1.5, 0.4],\n",
       "       [5.2, 4.1, 1.5, 0.1],\n",
       "       [5.5, 4.2, 1.4, 0.2],\n",
       "       [4.9, 3.1, 1.5, 0.2],\n",
       "       [5. , 3.2, 1.2, 0.2],\n",
       "       [5.5, 3.5, 1.3, 0.2],\n",
       "       [4.9, 3.6, 1.4, 0.1],\n",
       "       [4.4, 3. , 1.3, 0.2],\n",
       "       [5.1, 3.4, 1.5, 0.2],\n",
       "       [5. , 3.5, 1.3, 0.3],\n",
       "       [4.5, 2.3, 1.3, 0.3],\n",
       "       [4.4, 3.2, 1.3, 0.2],\n",
       "       [5. , 3.5, 1.6, 0.6],\n",
       "       [5.1, 3.8, 1.9, 0.4],\n",
       "       [4.8, 3. , 1.4, 0.3],\n",
       "       [5.1, 3.8, 1.6, 0.2],\n",
       "       [4.6, 3.2, 1.4, 0.2],\n",
       "       [5.3, 3.7, 1.5, 0.2],\n",
       "       [5. , 3.3, 1.4, 0.2],\n",
       "       [7. , 3.2, 4.7, 1.4],\n",
       "       [6.4, 3.2, 4.5, 1.5],\n",
       "       [6.9, 3.1, 4.9, 1.5],\n",
       "       [5.5, 2.3, 4. , 1.3],\n",
       "       [6.5, 2.8, 4.6, 1.5],\n",
       "       [5.7, 2.8, 4.5, 1.3],\n",
       "       [6.3, 3.3, 4.7, 1.6],\n",
       "       [4.9, 2.4, 3.3, 1. ],\n",
       "       [6.6, 2.9, 4.6, 1.3],\n",
       "       [5.2, 2.7, 3.9, 1.4],\n",
       "       [5. , 2. , 3.5, 1. ],\n",
       "       [5.9, 3. , 4.2, 1.5],\n",
       "       [6. , 2.2, 4. , 1. ],\n",
       "       [6.1, 2.9, 4.7, 1.4],\n",
       "       [5.6, 2.9, 3.6, 1.3],\n",
       "       [6.7, 3.1, 4.4, 1.4],\n",
       "       [5.6, 3. , 4.5, 1.5],\n",
       "       [5.8, 2.7, 4.1, 1. ],\n",
       "       [6.2, 2.2, 4.5, 1.5],\n",
       "       [5.6, 2.5, 3.9, 1.1],\n",
       "       [5.9, 3.2, 4.8, 1.8],\n",
       "       [6.1, 2.8, 4. , 1.3],\n",
       "       [6.3, 2.5, 4.9, 1.5],\n",
       "       [6.1, 2.8, 4.7, 1.2],\n",
       "       [6.4, 2.9, 4.3, 1.3],\n",
       "       [6.6, 3. , 4.4, 1.4],\n",
       "       [6.8, 2.8, 4.8, 1.4],\n",
       "       [6.7, 3. , 5. , 1.7],\n",
       "       [6. , 2.9, 4.5, 1.5],\n",
       "       [5.7, 2.6, 3.5, 1. ],\n",
       "       [5.5, 2.4, 3.8, 1.1],\n",
       "       [5.5, 2.4, 3.7, 1. ],\n",
       "       [5.8, 2.7, 3.9, 1.2],\n",
       "       [6. , 2.7, 5.1, 1.6],\n",
       "       [5.4, 3. , 4.5, 1.5],\n",
       "       [6. , 3.4, 4.5, 1.6],\n",
       "       [6.7, 3.1, 4.7, 1.5],\n",
       "       [6.3, 2.3, 4.4, 1.3],\n",
       "       [5.6, 3. , 4.1, 1.3],\n",
       "       [5.5, 2.5, 4. , 1.3],\n",
       "       [5.5, 2.6, 4.4, 1.2],\n",
       "       [6.1, 3. , 4.6, 1.4],\n",
       "       [5.8, 2.6, 4. , 1.2],\n",
       "       [5. , 2.3, 3.3, 1. ],\n",
       "       [5.6, 2.7, 4.2, 1.3],\n",
       "       [5.7, 3. , 4.2, 1.2],\n",
       "       [5.7, 2.9, 4.2, 1.3],\n",
       "       [6.2, 2.9, 4.3, 1.3],\n",
       "       [5.1, 2.5, 3. , 1.1],\n",
       "       [5.7, 2.8, 4.1, 1.3],\n",
       "       [6.3, 3.3, 6. , 2.5],\n",
       "       [5.8, 2.7, 5.1, 1.9],\n",
       "       [7.1, 3. , 5.9, 2.1],\n",
       "       [6.3, 2.9, 5.6, 1.8],\n",
       "       [6.5, 3. , 5.8, 2.2],\n",
       "       [7.6, 3. , 6.6, 2.1],\n",
       "       [4.9, 2.5, 4.5, 1.7],\n",
       "       [7.3, 2.9, 6.3, 1.8],\n",
       "       [6.7, 2.5, 5.8, 1.8],\n",
       "       [7.2, 3.6, 6.1, 2.5],\n",
       "       [6.5, 3.2, 5.1, 2. ],\n",
       "       [6.4, 2.7, 5.3, 1.9],\n",
       "       [6.8, 3. , 5.5, 2.1],\n",
       "       [5.7, 2.5, 5. , 2. ],\n",
       "       [5.8, 2.8, 5.1, 2.4],\n",
       "       [6.4, 3.2, 5.3, 2.3],\n",
       "       [6.5, 3. , 5.5, 1.8],\n",
       "       [7.7, 3.8, 6.7, 2.2],\n",
       "       [7.7, 2.6, 6.9, 2.3],\n",
       "       [6. , 2.2, 5. , 1.5],\n",
       "       [6.9, 3.2, 5.7, 2.3],\n",
       "       [5.6, 2.8, 4.9, 2. ],\n",
       "       [7.7, 2.8, 6.7, 2. ],\n",
       "       [6.3, 2.7, 4.9, 1.8],\n",
       "       [6.7, 3.3, 5.7, 2.1],\n",
       "       [7.2, 3.2, 6. , 1.8],\n",
       "       [6.2, 2.8, 4.8, 1.8],\n",
       "       [6.1, 3. , 4.9, 1.8],\n",
       "       [6.4, 2.8, 5.6, 2.1],\n",
       "       [7.2, 3. , 5.8, 1.6],\n",
       "       [7.4, 2.8, 6.1, 1.9],\n",
       "       [7.9, 3.8, 6.4, 2. ],\n",
       "       [6.4, 2.8, 5.6, 2.2],\n",
       "       [6.3, 2.8, 5.1, 1.5],\n",
       "       [6.1, 2.6, 5.6, 1.4],\n",
       "       [7.7, 3. , 6.1, 2.3],\n",
       "       [6.3, 3.4, 5.6, 2.4],\n",
       "       [6.4, 3.1, 5.5, 1.8],\n",
       "       [6. , 3. , 4.8, 1.8],\n",
       "       [6.9, 3.1, 5.4, 2.1],\n",
       "       [6.7, 3.1, 5.6, 2.4],\n",
       "       [6.9, 3.1, 5.1, 2.3],\n",
       "       [5.8, 2.7, 5.1, 1.9],\n",
       "       [6.8, 3.2, 5.9, 2.3],\n",
       "       [6.7, 3.3, 5.7, 2.5],\n",
       "       [6.7, 3. , 5.2, 2.3],\n",
       "       [6.3, 2.5, 5. , 1.9],\n",
       "       [6.5, 3. , 5.2, 2. ],\n",
       "       [6.2, 3.4, 5.4, 2.3],\n",
       "       [5.9, 3. , 5.1, 1.8]])"
      ]
     },
     "execution_count": 20,
     "metadata": {},
     "output_type": "execute_result"
    }
   ],
   "source": [
    "iris.data"
   ]
  },
  {
   "cell_type": "markdown",
   "metadata": {
    "id": "FHo95yiCXHC_"
   },
   "source": [
    "Awesome, we can access the data! Let's check the data structure type of `iris.data`."
   ]
  },
  {
   "cell_type": "code",
   "execution_count": 21,
   "metadata": {
    "id": "cD_rI4bTXHC_",
    "outputId": "d8961585-22b0-4c17-899d-8176d33413b7"
   },
   "outputs": [
    {
     "data": {
      "text/plain": [
       "numpy.ndarray"
      ]
     },
     "execution_count": 21,
     "metadata": {},
     "output_type": "execute_result"
    }
   ],
   "source": [
    "type(iris.data)"
   ]
  },
  {
   "cell_type": "markdown",
   "metadata": {
    "id": "fdLy5uEPXHC_"
   },
   "source": [
    "Hey, look at that! `iris.data` returns the data in the form of a NumPy array. This means we can manipulate this data just like we have in previous labs! However, in the next section we'll convert this array to a DataFrame. \n",
    "\n",
    "Now that we know that `iris.data` is a NumPy array let's check the shape of our data."
   ]
  },
  {
   "cell_type": "code",
   "execution_count": 22,
   "metadata": {
    "id": "IYyDsV8DXHDA",
    "outputId": "2a08c984-6ff5-4f35-a282-31d652a5ae52"
   },
   "outputs": [
    {
     "data": {
      "text/plain": [
       "(150, 4)"
      ]
     },
     "execution_count": 22,
     "metadata": {},
     "output_type": "execute_result"
    }
   ],
   "source": [
    "iris.data.shape"
   ]
  },
  {
   "cell_type": "markdown",
   "metadata": {
    "id": "E2gsqWVwXHDA"
   },
   "source": [
    "Nice, we can see that we have 150 data samples (rows) and 4 features (columns). Recall that each class has 50 samples and we have 3 classes. Let's now check the names of the features we will be working with by accessing the `feature_names` class variable."
   ]
  },
  {
   "cell_type": "code",
   "execution_count": 23,
   "metadata": {
    "id": "zwet5f_5XHDA",
    "outputId": "e0c13c72-3ec5-4eb0-e4ec-b5bbb1575361"
   },
   "outputs": [
    {
     "data": {
      "text/plain": [
       "['sepal length (cm)',\n",
       " 'sepal width (cm)',\n",
       " 'petal length (cm)',\n",
       " 'petal width (cm)']"
      ]
     },
     "execution_count": 23,
     "metadata": {},
     "output_type": "execute_result"
    }
   ],
   "source": [
    "iris.feature_names"
   ]
  },
  {
   "cell_type": "markdown",
   "metadata": {
    "id": "1wy70aPGXHDA"
   },
   "source": [
    "Ah, so we have 4 features: sepal length, sepal width, petal length, and petal width that are all in centimeters (cm). What do these features even refer to?\n",
    "\n",
    "Well, we can see exactly what each feature corresponds to by looking at the below image! Notice, each iris has a sepal and a petal.\n",
    "\n",
    "<img src=\"https://external-content.duckduckgo.com/iu/?u=https%3A%2F%2Fmiro.medium.com%2Fmax%2F1400%2F0*_WfmSKzMX-u_xVyc.png&f=1&nofb=1\">"
   ]
  },
  {
   "cell_type": "markdown",
   "metadata": {
    "id": "tXYMLEj9XHDA"
   },
   "source": [
    "Next, let's look at the labels for each class. We can do so by accessing the `target` class variable."
   ]
  },
  {
   "cell_type": "code",
   "execution_count": 24,
   "metadata": {
    "id": "OduOam3IXHDB",
    "outputId": "8abf329a-8e01-475f-9464-836bfac9b500"
   },
   "outputs": [
    {
     "data": {
      "text/plain": [
       "array([0, 0, 0, 0, 0, 0, 0, 0, 0, 0, 0, 0, 0, 0, 0, 0, 0, 0, 0, 0, 0, 0,\n",
       "       0, 0, 0, 0, 0, 0, 0, 0, 0, 0, 0, 0, 0, 0, 0, 0, 0, 0, 0, 0, 0, 0,\n",
       "       0, 0, 0, 0, 0, 0, 1, 1, 1, 1, 1, 1, 1, 1, 1, 1, 1, 1, 1, 1, 1, 1,\n",
       "       1, 1, 1, 1, 1, 1, 1, 1, 1, 1, 1, 1, 1, 1, 1, 1, 1, 1, 1, 1, 1, 1,\n",
       "       1, 1, 1, 1, 1, 1, 1, 1, 1, 1, 1, 1, 2, 2, 2, 2, 2, 2, 2, 2, 2, 2,\n",
       "       2, 2, 2, 2, 2, 2, 2, 2, 2, 2, 2, 2, 2, 2, 2, 2, 2, 2, 2, 2, 2, 2,\n",
       "       2, 2, 2, 2, 2, 2, 2, 2, 2, 2, 2, 2, 2, 2, 2, 2, 2, 2])"
      ]
     },
     "execution_count": 24,
     "metadata": {},
     "output_type": "execute_result"
    }
   ],
   "source": [
    "iris.target"
   ]
  },
  {
   "cell_type": "code",
   "execution_count": 25,
   "metadata": {
    "id": "Bgh1KXHHXHDB",
    "outputId": "41bba953-3681-4ce1-e2e3-55ebc6606886"
   },
   "outputs": [
    {
     "data": {
      "text/plain": [
       "numpy.ndarray"
      ]
     },
     "execution_count": 25,
     "metadata": {},
     "output_type": "execute_result"
    }
   ],
   "source": [
    "type(iris.target)"
   ]
  },
  {
   "cell_type": "markdown",
   "metadata": {
    "id": "bzyEGYl9XHDB"
   },
   "source": [
    "Ah, here we can see the targets for each of our data samples (rows). It seems that there are 3 classes: 0, 1, and 2. Further we can see that `iris.target` is a NumPy array as well.\n",
    "\n",
    "The last thing to do is check which label corresponds to which class (i.e., Iris type)."
   ]
  },
  {
   "cell_type": "code",
   "execution_count": 26,
   "metadata": {
    "id": "UajEOstHXHDB",
    "outputId": "0042c9d4-37f3-483c-ad62-778cfd0aecbd"
   },
   "outputs": [
    {
     "data": {
      "text/plain": [
       "array(['setosa', 'versicolor', 'virginica'], dtype='<U10')"
      ]
     },
     "execution_count": 26,
     "metadata": {},
     "output_type": "execute_result"
    }
   ],
   "source": [
    "iris.target_names"
   ]
  },
  {
   "cell_type": "markdown",
   "metadata": {
    "id": "Z2mbBwMDXHDC"
   },
   "source": [
    "**Here we can see that label 0 corresponds to 'setosa', label 1 corresponds to 'versicolor', and label 2 corresponds to 'virginica' as the class labels in `iris.targets` correspond to the index of `iris.target_names`.** \n",
    "\n",
    "Recall, our goal for this dataset will be to classify a data sample based on the 4 features 'sepal length', 'sepal width', 'petal length', and 'petal width' into one of the three classes 'setosa', 'versicolor', 'virginica'!"
   ]
  },
  {
   "cell_type": "markdown",
   "metadata": {
    "id": "NYB2vqbBXHDC"
   },
   "source": [
    "## Converting to a DataFrame\n",
    "\n",
    "Before moving on, let's covert the iris data into a Pandas DataFrame so we can reuse the data cleaning and transformation classes we defined in prior labs."
   ]
  },
  {
   "cell_type": "code",
   "execution_count": 27,
   "metadata": {
    "id": "WjDFSmyCXHDC",
    "outputId": "69123012-92f2-43d6-8298-0b20d91b2c8c"
   },
   "outputs": [
    {
     "data": {
      "text/html": [
       "<div>\n",
       "<style scoped>\n",
       "    .dataframe tbody tr th:only-of-type {\n",
       "        vertical-align: middle;\n",
       "    }\n",
       "\n",
       "    .dataframe tbody tr th {\n",
       "        vertical-align: top;\n",
       "    }\n",
       "\n",
       "    .dataframe thead th {\n",
       "        text-align: right;\n",
       "    }\n",
       "</style>\n",
       "<table border=\"1\" class=\"dataframe\">\n",
       "  <thead>\n",
       "    <tr style=\"text-align: right;\">\n",
       "      <th></th>\n",
       "      <th>sepal length</th>\n",
       "      <th>sepal width</th>\n",
       "      <th>petal length</th>\n",
       "      <th>petal width</th>\n",
       "      <th>class</th>\n",
       "    </tr>\n",
       "  </thead>\n",
       "  <tbody>\n",
       "    <tr>\n",
       "      <th>0</th>\n",
       "      <td>5.1</td>\n",
       "      <td>3.5</td>\n",
       "      <td>1.4</td>\n",
       "      <td>0.2</td>\n",
       "      <td>0.0</td>\n",
       "    </tr>\n",
       "    <tr>\n",
       "      <th>1</th>\n",
       "      <td>4.9</td>\n",
       "      <td>3.0</td>\n",
       "      <td>1.4</td>\n",
       "      <td>0.2</td>\n",
       "      <td>0.0</td>\n",
       "    </tr>\n",
       "    <tr>\n",
       "      <th>2</th>\n",
       "      <td>4.7</td>\n",
       "      <td>3.2</td>\n",
       "      <td>1.3</td>\n",
       "      <td>0.2</td>\n",
       "      <td>0.0</td>\n",
       "    </tr>\n",
       "    <tr>\n",
       "      <th>3</th>\n",
       "      <td>4.6</td>\n",
       "      <td>3.1</td>\n",
       "      <td>1.5</td>\n",
       "      <td>0.2</td>\n",
       "      <td>0.0</td>\n",
       "    </tr>\n",
       "    <tr>\n",
       "      <th>4</th>\n",
       "      <td>5.0</td>\n",
       "      <td>3.6</td>\n",
       "      <td>1.4</td>\n",
       "      <td>0.2</td>\n",
       "      <td>0.0</td>\n",
       "    </tr>\n",
       "    <tr>\n",
       "      <th>...</th>\n",
       "      <td>...</td>\n",
       "      <td>...</td>\n",
       "      <td>...</td>\n",
       "      <td>...</td>\n",
       "      <td>...</td>\n",
       "    </tr>\n",
       "    <tr>\n",
       "      <th>145</th>\n",
       "      <td>6.7</td>\n",
       "      <td>3.0</td>\n",
       "      <td>5.2</td>\n",
       "      <td>2.3</td>\n",
       "      <td>2.0</td>\n",
       "    </tr>\n",
       "    <tr>\n",
       "      <th>146</th>\n",
       "      <td>6.3</td>\n",
       "      <td>2.5</td>\n",
       "      <td>5.0</td>\n",
       "      <td>1.9</td>\n",
       "      <td>2.0</td>\n",
       "    </tr>\n",
       "    <tr>\n",
       "      <th>147</th>\n",
       "      <td>6.5</td>\n",
       "      <td>3.0</td>\n",
       "      <td>5.2</td>\n",
       "      <td>2.0</td>\n",
       "      <td>2.0</td>\n",
       "    </tr>\n",
       "    <tr>\n",
       "      <th>148</th>\n",
       "      <td>6.2</td>\n",
       "      <td>3.4</td>\n",
       "      <td>5.4</td>\n",
       "      <td>2.3</td>\n",
       "      <td>2.0</td>\n",
       "    </tr>\n",
       "    <tr>\n",
       "      <th>149</th>\n",
       "      <td>5.9</td>\n",
       "      <td>3.0</td>\n",
       "      <td>5.1</td>\n",
       "      <td>1.8</td>\n",
       "      <td>2.0</td>\n",
       "    </tr>\n",
       "  </tbody>\n",
       "</table>\n",
       "<p>150 rows × 5 columns</p>\n",
       "</div>"
      ],
      "text/plain": [
       "     sepal length  sepal width  petal length  petal width  class\n",
       "0             5.1          3.5           1.4          0.2    0.0\n",
       "1             4.9          3.0           1.4          0.2    0.0\n",
       "2             4.7          3.2           1.3          0.2    0.0\n",
       "3             4.6          3.1           1.5          0.2    0.0\n",
       "4             5.0          3.6           1.4          0.2    0.0\n",
       "..            ...          ...           ...          ...    ...\n",
       "145           6.7          3.0           5.2          2.3    2.0\n",
       "146           6.3          2.5           5.0          1.9    2.0\n",
       "147           6.5          3.0           5.2          2.0    2.0\n",
       "148           6.2          3.4           5.4          2.3    2.0\n",
       "149           5.9          3.0           5.1          1.8    2.0\n",
       "\n",
       "[150 rows x 5 columns]"
      ]
     },
     "metadata": {},
     "output_type": "display_data"
    }
   ],
   "source": [
    "# We have to reshape iris.target so that it is a 2D array\n",
    "# such that it can be stacked with iris.data\n",
    "data = np.hstack([iris.data, iris.target.reshape(-1,1)])\n",
    "\n",
    "# Removes the (cm) from iris.feature_names \n",
    "cleaned_feature_names = [name.replace(' (cm)', '') for name in iris.feature_names]\n",
    "feature_names = np.hstack([cleaned_feature_names, 'class'])\n",
    "\n",
    "iris_df = pd.DataFrame(data, columns=feature_names)\n",
    "display(iris_df)"
   ]
  },
  {
   "cell_type": "markdown",
   "metadata": {
    "id": "36FvJBqMXHDC"
   },
   "source": [
    "# Visualization and exploration\n",
    "\n",
    "Alright, so we have loaded our data and foramtted it as a DataFrame. Let's now do some visualization and exploration to get a better understand for how our features relate to one another. Our goal here is to compare our features such that we want to see if any of the features allow for any of our classes to be linearly separable! \n",
    "\n",
    "Notice that for classification tasks **we are interested in comparing every feature against every other feature** instead of comparing against the labels. This because comparing against the labels stored in the 'class' column doesn't make any sense, since they are discrete values (meaning, you cant really gain any insight into trends or correlations when comparing continuous features against discrete classes)!"
   ]
  },
  {
   "cell_type": "markdown",
   "metadata": {
    "id": "W-ocl1-DXHDD"
   },
   "source": [
    "Before we get started we first need to find the location of the data samples for each iris class. Recall, based on the above Sklearn investigation, setosa corresponds to label 0, versicolor corresponds to label 1, and virginica correspond to label 2.\n",
    "\n",
    "To do so, we can use the `np.where()` function which allow us to check where our class labels `iris_df['class']` are equal to 0. "
   ]
  },
  {
   "cell_type": "code",
   "execution_count": 28,
   "metadata": {
    "id": "8HMkrt1nXHDD",
    "outputId": "8fd3cfd0-51c2-4da8-e48e-d45937ff05c2"
   },
   "outputs": [
    {
     "data": {
      "text/plain": [
       "(array([ 0,  1,  2,  3,  4,  5,  6,  7,  8,  9, 10, 11, 12, 13, 14, 15, 16,\n",
       "        17, 18, 19, 20, 21, 22, 23, 24, 25, 26, 27, 28, 29, 30, 31, 32, 33,\n",
       "        34, 35, 36, 37, 38, 39, 40, 41, 42, 43, 44, 45, 46, 47, 48, 49]),)"
      ]
     },
     "execution_count": 28,
     "metadata": {},
     "output_type": "execute_result"
    }
   ],
   "source": [
    "setosa_locs = np.where(iris_df['class'] == 0)\n",
    "setosa_locs"
   ]
  },
  {
   "cell_type": "markdown",
   "metadata": {
    "id": "n5hrTKSgXHDD"
   },
   "source": [
    "Notice that `setosa_locs` returns a tuple where the first element is an array. To understand why this is the case see this `np.where()` [post](https://stackoverflow.com/questions/50646102/what-is-the-purpose-of-numpy-where-returning-a-tuple). Since we don't want a tuple we can index `setosa_locs` as follows. "
   ]
  },
  {
   "cell_type": "code",
   "execution_count": null,
   "metadata": {
    "id": "5siQDYjLXHDD",
    "outputId": "43dfc3a4-f7a5-433d-acb1-4a0c280fafe5"
   },
   "outputs": [
    {
     "data": {
      "text/plain": [
       "array([ 0,  1,  2,  3,  4,  5,  6,  7,  8,  9, 10, 11, 12, 13, 14, 15, 16,\n",
       "       17, 18, 19, 20, 21, 22, 23, 24, 25, 26, 27, 28, 29, 30, 31, 32, 33,\n",
       "       34, 35, 36, 37, 38, 39, 40, 41, 42, 43, 44, 45, 46, 47, 48, 49])"
      ]
     },
     "execution_count": 16,
     "metadata": {},
     "output_type": "execute_result"
    }
   ],
   "source": [
    "setosa_locs[0]"
   ]
  },
  {
   "cell_type": "markdown",
   "metadata": {
    "id": "2a4-0drCXHDE"
   },
   "source": [
    "#### TODO 2\n",
    "Complete the TODO by finding the locations of the data samples for each iris flower type. \n",
    "\n",
    "**Hint: Use the code for how we found all the `setosa_locs` as an example!**\n",
    "\n",
    "1. Using `iris_df`, find the location of all the data sample locations for the versicolor class which has a label of 1. To do so, use NumPy's `np.where()` function.\n",
    "\n",
    "1. Using `iris_df`, find the location of all the data sample locations for the virginica class which has a label of 2. To do so, use NumPy's `np.where()` function."
   ]
  },
  {
   "cell_type": "code",
   "execution_count": 30,
   "metadata": {
    "id": "XdhWS3CrXHDE",
    "outputId": "519424dd-da00-4e0a-8226-c0a6693deaea"
   },
   "outputs": [
    {
     "name": "stdout",
     "output_type": "stream",
     "text": [
      "Your code PASSED the code check!\n"
     ]
    }
   ],
   "source": [
    "setosa_locs = np.where(iris_df['class'] == 0)[0]\n",
    "\n",
    "# TODO 2.1\n",
    "versicolor_locs = np.where(iris_df['class'] == 1)[0]\n",
    "# TODO 2.2\n",
    "virginica_locs = np.where(iris_df['class'] == 2)[0]\n",
    "\n",
    "todo_check([\n",
    "    (type(versicolor_locs) is np.ndarray, \"'versicolor_locs' is not type np.ndarray. Make sure you indexed np.where() currently!\"),\n",
    "    (type(virginica_locs) is np.ndarray, \"'virginica_locs' is not type np.ndarray. Make sure you indexed np.where() currently!\"),\n",
    "    (versicolor_locs[0] == 50, \"'versicolor_locs' has an incorrect value\"),\n",
    "    (virginica_locs[0] == 100, \"'virginica_locs' has an incorrect value\"),\n",
    "])"
   ]
  },
  {
   "cell_type": "markdown",
   "metadata": {
    "id": "CpdcPvngXHDE"
   },
   "source": [
    "Below we print out the number of data samples for each class and the indexes."
   ]
  },
  {
   "cell_type": "code",
   "execution_count": 33,
   "metadata": {
    "id": "27Ru6p7qXHDE",
    "outputId": "3f5a68dc-3339-4110-ae0b-ca7b2d8f41f0"
   },
   "outputs": [
    {
     "name": "stdout",
     "output_type": "stream",
     "text": [
      "Setosa sample count: 50\n"
     ]
    },
    {
     "data": {
      "text/plain": [
       "array([ 0,  1,  2,  3,  4,  5,  6,  7,  8,  9, 10, 11, 12, 13, 14, 15, 16,\n",
       "       17, 18, 19, 20, 21, 22, 23, 24, 25, 26, 27, 28, 29, 30, 31, 32, 33,\n",
       "       34, 35, 36, 37, 38, 39, 40, 41, 42, 43, 44, 45, 46, 47, 48, 49])"
      ]
     },
     "execution_count": 33,
     "metadata": {},
     "output_type": "execute_result"
    }
   ],
   "source": [
    "print(f\"Setosa sample count: {len(setosa_locs)}\")\n",
    "setosa_locs"
   ]
  },
  {
   "cell_type": "code",
   "execution_count": 34,
   "metadata": {
    "id": "gZ9LT36-XHDE",
    "outputId": "70011994-ef7a-4b06-bd50-de5a71bc6677"
   },
   "outputs": [
    {
     "name": "stdout",
     "output_type": "stream",
     "text": [
      "Versicolor sample count: 50\n"
     ]
    },
    {
     "data": {
      "text/plain": [
       "array([50, 51, 52, 53, 54, 55, 56, 57, 58, 59, 60, 61, 62, 63, 64, 65, 66,\n",
       "       67, 68, 69, 70, 71, 72, 73, 74, 75, 76, 77, 78, 79, 80, 81, 82, 83,\n",
       "       84, 85, 86, 87, 88, 89, 90, 91, 92, 93, 94, 95, 96, 97, 98, 99])"
      ]
     },
     "execution_count": 34,
     "metadata": {},
     "output_type": "execute_result"
    }
   ],
   "source": [
    "print(f\"Versicolor sample count: {len(setosa_locs)}\")\n",
    "versicolor_locs"
   ]
  },
  {
   "cell_type": "code",
   "execution_count": 35,
   "metadata": {
    "id": "k9vFa03OXHDF",
    "outputId": "4df2792d-a3e7-4f6a-8c65-ceea745dd61f"
   },
   "outputs": [
    {
     "name": "stdout",
     "output_type": "stream",
     "text": [
      "Virginica sample count: 50\n"
     ]
    },
    {
     "data": {
      "text/plain": [
       "array([100, 101, 102, 103, 104, 105, 106, 107, 108, 109, 110, 111, 112,\n",
       "       113, 114, 115, 116, 117, 118, 119, 120, 121, 122, 123, 124, 125,\n",
       "       126, 127, 128, 129, 130, 131, 132, 133, 134, 135, 136, 137, 138,\n",
       "       139, 140, 141, 142, 143, 144, 145, 146, 147, 148, 149])"
      ]
     },
     "execution_count": 35,
     "metadata": {},
     "output_type": "execute_result"
    }
   ],
   "source": [
    "print(f\"Virginica sample count: {len(setosa_locs)}\")\n",
    "virginica_locs"
   ]
  },
  {
   "cell_type": "markdown",
   "metadata": {
    "id": "nI7QIFSBXHDF"
   },
   "source": [
    "As we can see, the first 50 samples correspond to setosa, the next 50 samples correspond to versicolor, and the last 50 samples correspond to virginica. "
   ]
  },
  {
   "cell_type": "markdown",
   "metadata": {
    "id": "pniiX0G8XHDF"
   },
   "source": [
    "## Sepal length vs width"
   ]
  },
  {
   "cell_type": "markdown",
   "metadata": {
    "id": "YC7mb9OVXHDF"
   },
   "source": [
    "For our first visualization, let's start by just comparing 'sepal length' vs 'sepal width' where we will plot each class as a different color. By doing so we can observer if any of the classes are linearly separable from the rest."
   ]
  },
  {
   "cell_type": "markdown",
   "metadata": {
    "id": "Pj0vbDUKXHDF"
   },
   "source": [
    "#### TODO 3\n",
    "Complete the TODO by filling in the code for plotting the sepal length and width features against each other for each iris flowers. The resulting plot should match the below plot image. \n",
    "\n",
    "<img src=\"https://live.staticflickr.com/65535/51928822505_a927b494d4_c.jpg\" width=\"300\" height=\"300\" alt=\"lab-5_3\">\n",
    "\n",
    "\n",
    "\n",
    "1. Using all the **setosa data samples ONLY**, index the **'sepal length'** feature from the `iris_df`. Store the output into `setosa_sepal_length`\n",
    "    1. Hint: Recall `.loc[]` requires two inputs, one for rows and one for columns as follows: `.loc[rows, columns]`. The rows we need to access are stored in `setosa_locs`!\n",
    "\n",
    "1. Using TODO 3.1 as an example, index the **'sepal width'** feature from the `iris_df` for all the **setosa data samples**. Store the output into `setosa_sepal_width`\n",
    "\n",
    "1.  Using TODO 3.1 as an example, index the **'sepal length'** feature from the `iris_df` for all the **versicolor data samples**. Store the output into `versicolor_sepal_length`\n",
    "\n",
    "1. Using TODO 3.1 as an example, index the **'sepal width'** feature from the `iris_df` for all the **versicolor data samples**. Store the output into `versicolor_sepal_width`\n",
    "\n",
    "1.  Using TODO 3.1 as an example, index the **'sepal length'** feature from the `iris_df` for all the **virginica data samples**. Store the output into `virginica_sepal_length`\n",
    "\n",
    "1. Using TODO 3.1 as an example, index the **'sepal width'** feature from the `iris_df` for all the **virginica data samples**. Store the output into `virginica_sepal_width`\n",
    "\n",
    "1. Plot the setosa sepal features we just extracted using `plt.scatter()` [docs](https://matplotlib.org/stable/api/_as_gen/matplotlib.pyplot.scatter.html). Make sure `setosa_sepal_length` is plotted on the x-axis and `setosa_sepal_width` is plotted on the y-axis. Additionally, pass the following keyword arguments:\n",
    "    1. `label='setosa'` which will allow the legend to label each data sample plotted as the correct class.\n",
    "\n",
    "1. Plot the versicolor sepal features we just extracted using `plt.scatter()`. Make sure `versicolor_sepal_length` is plotted on the x-axis and `versicolor_sepal_width` is plotted on the y-axis. Additionally, pass the following keyword arguments:\n",
    "    1. `label='versicolor'` which will allow the legend to label each data sample plotted as the correct class.\n",
    "\n",
    "1. Plot the virginica sepal features we just extracted using `plt.scatter()`. Make sure `virginica_sepal_length` is plotted on the x-axis and `virginica_sepal_width` is plotted on the y-axis. Additionally, pass the following keyword arguments:\n",
    "    1. `label='virginica'` which will allow the legend to label each data sample plotted as the correct class."
   ]
  },
  {
   "cell_type": "code",
   "execution_count": 37,
   "metadata": {
    "id": "Vl30gf0-XHDF",
    "outputId": "56ed46fa-26cc-4cad-a581-e0ff3f350fc3"
   },
   "outputs": [
    {
     "data": {
      "image/png": "[encoded data removed]",
      "text/plain": [
       "<Figure size 432x432 with 1 Axes>"
      ]
     },
     "metadata": {
      "needs_background": "light"
     },
     "output_type": "display_data"
    },
    {
     "name": "stdout",
     "output_type": "stream",
     "text": [
      "Your code PASSED the code check!\n"
     ]
    }
   ],
   "source": [
    "def plot_sepal_length_width():    \n",
    "    # TODO 3.1\n",
    "    setosa_sepal_length = iris_df.loc[setosa_locs,'sepal length']\n",
    "    # TODO 3.2\n",
    "    setosa_sepal_width = iris_df.loc[setosa_locs,'sepal width']\n",
    "\n",
    "    # TODO 3.3\n",
    "    versicolor_sepal_length = iris_df.loc[versicolor_locs,'sepal length']\n",
    "    # TODO 3.4\n",
    "    versicolor_sepal_width = iris_df.loc[versicolor_locs,'sepal width']\n",
    "\n",
    "    # TODO 3.5\n",
    "    virginica_sepal_length = iris_df.loc[virginica_locs,'sepal length']\n",
    "    # TODO 3.6\n",
    "    virginica_sepal_width = iris_df.loc[virginica_locs,'sepal width']\n",
    "\n",
    "    # Find min and max x-y coordiantes and add some buffer space for plotting (i.e., +- .5)\n",
    "    x_min = iris_df.loc[:, 'sepal length'].min() - .5\n",
    "    x_max = iris_df.loc[:, 'sepal length'].max() + .5\n",
    "    y_min = iris_df.loc[:, 'sepal width'].min() - .5\n",
    "    y_max = iris_df.loc[:, 'sepal width'].max() + .5\n",
    "\n",
    "    # Set figure size for each plot\n",
    "    plt.figure(figsize=(6,6))\n",
    "\n",
    "    # TODO 3.7\n",
    "    plt.scatter(setosa_sepal_length,setosa_sepal_width,label='setosa')\n",
    "    # TODO 3.8\n",
    "    plt.scatter(versicolor_sepal_length,versicolor_sepal_width,label='versicolor')\n",
    "    # TODO 3.9\n",
    "    plt.scatter(virginica_sepal_length,versicolor_sepal_width,label='virginica')\n",
    "\n",
    "    # Set plot settings\n",
    "    plt.xlabel('Sepal length')\n",
    "    plt.ylabel('Sepal width')\n",
    "    plt.xlim(x_min, x_max)\n",
    "    plt.ylim(y_min, y_max)\n",
    "    plt.legend() # Plots legend\n",
    "    plt.show()\n",
    "\n",
    "    todo_check([\n",
    "        (np.all(setosa_sepal_length.values.flatten()[:3] == [5.1, 4.9, 4.7]), \"'setosa_sepal_length' contains incorrect values!\"),\n",
    "        (np.all(setosa_sepal_width.values.flatten()[:3] == [3.5, 3. , 3.2]), \"'setosa_sepal_width' contains incorrect values!\"),\n",
    "        (np.all(versicolor_sepal_length.values.flatten()[:3] == [7. , 6.4, 6.9]),\"'versicolor_sepal_length' contains incorrect values!\"),\n",
    "        (np.all(versicolor_sepal_width.values.flatten()[:3] == [3.2, 3.2, 3.1]),\"'versicolor_sepal_width' contains incorrect values!\"),\n",
    "        (np.all(virginica_sepal_length.values.flatten()[:3] == [6.3, 5.8, 7.1]),\"'virginica_sepal_length' contains incorrect values!\"),\n",
    "        (np.all(virginica_sepal_width.values.flatten()[:3] == [3.3, 2.7, 3.]),\"'virginica_sepal_width' contains incorrect values!\"),\n",
    "    ])\n",
    "    \n",
    "plot_sepal_length_width()"
   ]
  },
  {
   "cell_type": "markdown",
   "metadata": {
    "id": "0psk9kZvXHDG"
   },
   "source": [
    "Interesting! Here we can see that the setosa flower sepal width and length are quite distinguishable from the rest of the classes. How can we tell this? Easy, just imagine drawing a line between the setosa data points (blue) and versicolor (orange) and virginica (green). \n",
    "\n",
    "On the other hand, the versicolor and virginica flowers sepal features seem to be quite intertwined, therefore it will likely be harder to distinguish between them."
   ]
  },
  {
   "cell_type": "markdown",
   "metadata": {
    "id": "m8t9HO7tXHDG"
   },
   "source": [
    "## Petal length vs width\n",
    "\n",
    "Next, lets make the same visualization but this time let's compare just the 'petal length' and 'petal width' features to see if they present the classes as being linearly separable as well. "
   ]
  },
  {
   "cell_type": "markdown",
   "metadata": {
    "collapsed": true,
    "id": "WZnYvL0SXHDG"
   },
   "source": [
    "#### TODO 4\n",
    "Complete the TODO by filling in the code for selecting only the petal length and width features against each other for each iris flowers. The resulting plot should match the below plot image. \n",
    "\n",
    "<img src=\"https://live.staticflickr.com/65535/51928822510_5dfb1037a7_c.jpg\" width=\"300\" height=\"300\" alt=\"lab-5_4\">\n",
    "\n",
    "\n",
    "\n",
    "1. Using all the **setosa data samples ONLY**, index the **'petal length'** feature from the `iris_df`. Store the output into `setosa_petal_length`\n",
    "    1. Hint: Recall `.loc[]` requires two inputs, one for rows and one for columns as follows: `.loc[rows, columns]`. The rows we need to access are stored in `setosa_locs`!\n",
    "\n",
    "1. Using TODO 4.1 as an example, index the **'petal width'** feature from the `iris_df` for all the **setosa data samples**. Store the output into `setosa_petal_width`\n",
    "\n",
    "1.  Using TODO 4.1 as an example, index the **'petal length'** feature from the `iris_df` for all the **versicolor data samples**. Store the output into `versicolor_petal_length`\n",
    "\n",
    "1. Using TODO 4.1 as an example, index the **'petal width'** feature from the `iris_df` for all the **versicolor data samples**. Store the output into `versicolor_petal_width`\n",
    "\n",
    "1.  Using TODO 4.1 as an example, index the **'petal length'** feature from the `iris_df` for all the **virginica data samples**. Store the output into `virginica_petal_length`\n",
    "\n",
    "1. Using TODO 4.1 as an example, index the **'petal width'** feature from the `iris_df` for all the **virginica data samples**. Store the output into `virginica_petal_width`\n",
    "\n",
    "1. Plot the setosa petal features we just extracted using `plt.scatter()`. Make sure `setosa_petal_length` is plotted on the x-axis and `setosa_petal_width` is plotted on the y-axis. Additionally, pass the following keyword arguments:\n",
    "    1. `label='setosa'` which will allow the legend to label each data sample plotted as the correct class.\n",
    "\n",
    "1. Plot the versicolor petal features we just extracted using `plt.scatter()`. Make sure `versicolor_petal_length` is plotted on the x-axis and `versicolor_petal_width` is plotted on the y-axis. Additionally, pass the following keyword arguments:\n",
    "    1. `label='versicolor'` which will allow the legend to label each data sample plotted as the correct class.\n",
    "\n",
    "1. Plot the virginica petal features we just extracted using `plt.scatter()`. Make sure `virginica_petal_length` is plotted on the x-axis and `virginica_petal_width` is plotted on the y-axis. Additionally, pass the following keyword arguments:\n",
    "    1. `label='virginica'` which will allow the legend to label each data sample plotted as the correct class."
   ]
  },
  {
   "cell_type": "code",
   "execution_count": 42,
   "metadata": {
    "id": "NiNfpPRcXHDG",
    "outputId": "fcafc67c-4185-46fc-df35-6d36d2d0ad9d"
   },
   "outputs": [
    {
     "data": {
      "image/png": "[encoded data removed]",
      "text/plain": [
       "<Figure size 432x432 with 1 Axes>"
      ]
     },
     "metadata": {
      "needs_background": "light"
     },
     "output_type": "display_data"
    },
    {
     "name": "stdout",
     "output_type": "stream",
     "text": [
      "Your code PASSED the code check!\n"
     ]
    }
   ],
   "source": [
    "def plot_petal_length_width():    \n",
    "    # TODO 4.1\n",
    "    setosa_petal_length = iris_df.loc[setosa_locs,'petal length']\n",
    "    # TODO 4.2\n",
    "    setosa_petal_width = iris_df.loc[setosa_locs,'petal width']\n",
    "\n",
    "    # TODO 4.3\n",
    "    versicolor_petal_length = iris_df.loc[versicolor_locs,'petal length']\n",
    "    # TODO 4.4\n",
    "    versicolor_petal_width = iris_df.loc[versicolor_locs,'petal width']\n",
    "\n",
    "    # TODO 4.5\n",
    "    virginica_petal_length = iris_df.loc[virginica_locs,'petal length']\n",
    "    # TODO 4.6\n",
    "    virginica_petal_width = iris_df.loc[virginica_locs,'petal width']\n",
    "\n",
    "    # Find min and max x-y coordiantes and add some buffer space for plotting (i.e., +- .5)\n",
    "    x_min = iris_df.loc[:, 'petal length'].min() - .5\n",
    "    x_max = iris_df.loc[:, 'petal length'].max() + .5\n",
    "    y_min = iris_df.loc[:, 'petal width'].min() - .5\n",
    "    y_max = iris_df.loc[:, 'petal width'].max() + .5\n",
    "\n",
    "    # Set figure size for each plot\n",
    "    plt.figure(figsize=(6,6))\n",
    "\n",
    "    # TODO 4.7\n",
    "    plt.scatter(setosa_petal_length,setosa_petal_width,label='setosa')\n",
    "    # TODO 4.8\n",
    "    plt.scatter(versicolor_petal_length,versicolor_petal_width,label='versicolor')\n",
    "    # TODO 4.9\n",
    "    plt.scatter(virginica_petal_length,virginica_petal_width,label='virginica')\n",
    "\n",
    "    # Set plot settings\n",
    "    plt.xlabel('petal length')\n",
    "    plt.ylabel('petal width')\n",
    "    plt.xlim(x_min, x_max)\n",
    "    plt.ylim(y_min, y_max)\n",
    "    plt.legend() # Plots legend\n",
    "    plt.show()\n",
    "\n",
    "    todo_check([\n",
    "        (np.all(setosa_petal_length.values.flatten()[:3] == [1.4, 1.4, 1.3]), \"'setosa_petal_length' contains incorrect values!\"),\n",
    "        (np.all(setosa_petal_width.values.flatten()[:3] == [0.2, 0.2, 0.2]),\"'setosa_petal_width' contains incorrect values!\"),\n",
    "        (np.all(versicolor_petal_length.values.flatten()[:3] == [4.7, 4.5, 4.9]),\"'versicolor_petal_length' contains incorrect values!\"),\n",
    "        (np.all(versicolor_petal_width.values.flatten()[:3] == [1.4, 1.5, 1.5]),\"'versicolor_petal_width' contains incorrect values!\"),\n",
    "        (np.all(virginica_petal_length.values.flatten()[:3] == [6. , 5.1, 5.9]),\"'virginica_petal_length' contains incorrect values!\"),\n",
    "        (np.all(virginica_petal_width.values.flatten()[:3] == [2.5, 1.9, 2.1]),\"'virginica_petal_width' contains incorrect values!\"),\n",
    "    ])\n",
    "plot_petal_length_width()"
   ]
  },
  {
   "cell_type": "markdown",
   "metadata": {
    "id": "xn6iyN3hXHDG"
   },
   "source": [
    "Take a second to think about what this plot is telling us. How distinguishable are the features for each flower from one another?\n",
    "\n",
    "If you're thinking that all classes seem relatively separable (more so than the sepal length and width) you're on the right track! There is a slight exception with versicolor and virginica again as their petal features slightly overlap. Regardless, the petal features could be really good features to use for classification based on this visualization.\n",
    "\n",
    "*Note, If you are also thinking that all the classes show a linear trend as well you're also on the right track! Each flower petal length seems to grow with petal width.*"
   ]
  },
  {
   "cell_type": "markdown",
   "metadata": {
    "id": "mHDuhjHfXHDH"
   },
   "source": [
    "## All features against each other\n",
    "\n",
    "Now, let's plot all our features against one another and see if our classes are still linear separable. We can do so using Seaborn's `pairplot()` function. Recall, Seaborn is just a high-level wrapper of Matplotlib that allows for more complex plots in few lines of code. Also they tend to be much prettier! \n",
    "\n",
    "Typically, Seaborn works by taking in a DataFrame and plotting the columns of the DataFrame. Notice that the `hue` argument takes in the name 'class' which is the column in our `iris_df` that contains the labels for each data sample. Thus, Seaborn determines the colors of each data sample based on the 'class' column! If you are interested in how `pairplot()` works see the [docs](https://seaborn.pydata.org/generated/seaborn.pairplot.html).\n",
    "\n",
    "The `pairplot()` plots all our features against each other. Therefore, the plots are duplicated across the main diagonal, however the axises are switched. Further, the main diagonal shows each feature plotted against its self. However, instead of actually plotting each feature against itself, it shows the distribution of the feature values for each class. For instance, when looking at sepal length, we can see the distribution of the values of sepal length for each class."
   ]
  },
  {
   "cell_type": "code",
   "execution_count": 38,
   "metadata": {
    "id": "9tx6AvWzXHDH",
    "outputId": "38188205-eac4-4c5a-b518-c36dd51db3c3"
   },
   "outputs": [
    {
     "data": {
      "image/png": "[encoded data removed]",
      "text/plain": [
       "<Figure size 772x720 with 20 Axes>"
      ]
     },
     "metadata": {
      "needs_background": "light"
     },
     "output_type": "display_data"
    }
   ],
   "source": [
    "import seaborn as sns\n",
    "sns.pairplot(iris_df, hue='class', palette=\"tab10\");"
   ]
  },
  {
   "cell_type": "markdown",
   "metadata": {
    "id": "gscoCSXoXHDH"
   },
   "source": [
    "Take a few seconds to see if you can find any other feature combinations that make the classes more linear separable. If you don't know which color corresponds to which class look at the legend. Further, recall the following labels-to-class mapping:\n",
    "\n",
    "- setosa = label 0\n",
    "- versicolor = label 1\n",
    "- virginica = label 2.\n",
    "\n",
    "\n",
    "Notice that sepal width plotted against petal length also seems to relatively separable!"
   ]
  },
  {
   "cell_type": "markdown",
   "metadata": {
    "id": "Cb2FcXjbXHDH"
   },
   "source": [
    "# Data Preparation Pipeline\n",
    "\n",
    "Now it's time to recreate our data preparation pipelines we used in prior weeks. In this lab we will, **once again, apply all our data cleaning and transformation operations after splitting the data.** Further, we need to reformulate the iris dataset as a binary classification problem as currently the iris dataset has 3 classes which means it is a multi-classification problem."
   ]
  },
  {
   "cell_type": "markdown",
   "metadata": {
    "id": "f0NLKEu7XHDH"
   },
   "source": [
    "## Formulating the binary classification problem\n",
    "\n",
    "Recall that Rosenblatt's perceptron only works for binary classification problems. Are you noticing an issue here? Remember how the iris dataset has 3 classes? This means the iris data is a multi-classification problem! The question is then as follows: how do we perform binary classification when we have more than 2 classes?"
   ]
  },
  {
   "cell_type": "code",
   "execution_count": 39,
   "metadata": {
    "id": "syWub3jAXHDI",
    "outputId": "643e9b0a-c315-4aad-f653-c9d51b066e7c"
   },
   "outputs": [
    {
     "data": {
      "text/plain": [
       "array([0., 1., 2.])"
      ]
     },
     "execution_count": 39,
     "metadata": {},
     "output_type": "execute_result"
    }
   ],
   "source": [
    "# Classes in the iris dataset\n",
    "iris_df['class'].unique()"
   ]
  },
  {
   "cell_type": "markdown",
   "metadata": {
    "id": "7SuSfCw_XHDI"
   },
   "source": [
    "We have two choices when answering this question.\n",
    "\n",
    "1. One-vs-one: The first choice is to select only 2 classes from the data. For example, we could choose to classify only setosa and versicolor. Here we can assign either class to be the positive or negative class. **Thus, we end up with a classification problem where the goal is the predict if a data sample is a setosa or versicolor.** (Note we could easily have chosen versicolor and virginica to classify instead - the choice is up to you.)\n",
    "\n",
    "2. One-vs-all: The second choice is to perform one-vs-all classification. This entails selecting one class to as the \"positive\" class and then setting the rest of the classes to be the \"negative\" class. For example, we could choose setosa as our positive class. Thus, we then treat both virginica and versicolor as the negative class. **Thus, we end up with a classification problem where the goal is the predict if a data sample is a setosa or not.** Below is an example of one-vs-all classification given 3 classes.\n",
    "\n",
    "<img src=\"https://miro.medium.com/max/1400/1*RElrybCZ4WPsUfRwDl7fqA.png\" width=400 height=400>"
   ]
  },
  {
   "cell_type": "markdown",
   "metadata": {
    "id": "K-PSu5D1XHDI"
   },
   "source": [
    "### Creating binary classes\n",
    "Before we create a function to create binary classes, let's review some useful Pandas functions that will help us to do this.\n",
    "\n",
    "One really useful Pandas DataFrame method is the `isin(values=)` method ([docs](https://pandas.pydata.org/pandas-docs/stable/reference/api/pandas.DataFrame.isin.html)). This method tells us whether if each element in passed to `values` is contained in the DataFrame. The `values` argument can be a list, tuple, or any other iterable object. Thus, the `isin()` method checks if any element in the list is in the DataFrame. \n",
    "\n",
    "For example, let's say we wanted to see if the `iris_df` 'class' column contains the labels 1 and 2, then we would do the following. "
   ]
  },
  {
   "cell_type": "code",
   "execution_count": 40,
   "metadata": {
    "id": "XQ-kMyIhXHDI",
    "outputId": "90af4ec1-0d0d-4618-f392-983953d7cab1"
   },
   "outputs": [
    {
     "data": {
      "text/plain": [
       "0      False\n",
       "1      False\n",
       "2      False\n",
       "3      False\n",
       "4      False\n",
       "       ...  \n",
       "145     True\n",
       "146     True\n",
       "147     True\n",
       "148     True\n",
       "149     True\n",
       "Name: class, Length: 150, dtype: bool"
      ]
     },
     "execution_count": 40,
     "metadata": {},
     "output_type": "execute_result"
    }
   ],
   "source": [
    "labels_1_2 = iris_df.loc[:, 'class'].isin([1, 2])\n",
    "labels_1_2"
   ]
  },
  {
   "cell_type": "markdown",
   "metadata": {
    "id": "d_yN-E4gXHDI"
   },
   "source": [
    "First, notice that we passed a `list`! If you pass just an `int` then Pandas will throw an error!\n",
    "\n",
    "Additionally, notice, the output is a boolean Pandas Series (this is essentially just a DataFrame with 1 column only). Any element that is `True` means the value was **either** a 1 or 2. Any element that is `False` means the value was **neither** a 1 or 2.\n",
    "\n",
    "This means, we can use the `.isin()` method to find data samples! Recall, we can use boolean arrays to index DataFrames and NumPy arrays. We can do so by simply indexing our `iris_df` by the `labels_1_2` Pandas Series.\n",
    "\n",
    "Finally, we can call the `.copy()` method so that if we need to change the labels it doesn't affect the original `iris_df`!"
   ]
  },
  {
   "cell_type": "code",
   "execution_count": 41,
   "metadata": {
    "id": "8EWVBQwvXHDI"
   },
   "outputs": [],
   "source": [
    "labels_1_2_df = iris_df[labels_1_2].copy()\n",
    "labels_1_2_df.reset_index()\n",
    "\n",
    "garbage_collect(['labels_1_2_df'])"
   ]
  },
  {
   "cell_type": "markdown",
   "metadata": {
    "id": "td-CNJ3CXHDJ"
   },
   "source": [
    "Notice, we now only have 100 samples as we have extracted all the data samples with either a label 1 or 2!"
   ]
  },
  {
   "cell_type": "markdown",
   "metadata": {
    "id": "OKuc1-mEXHDJ"
   },
   "source": [
    "#### TODO 5\n",
    "Complete the `binarize_classes()` function which converts the Iris dataset into either a one-vs-one or one-vs-all classification problem.\n",
    "\n",
    "1. Index the labels stored inside `iris_df` by indexing the 'class' column. Store the output into `labels`.\n",
    "\n",
    "1. As we did above, find all the **positive** data sample locations using `labels` and the `isin()` method. The class labels which correspond to the positive class are stored inside the `pos_class` argument. Store the output into `pos_locs`.\n",
    "\n",
    "1. Index all the positive data samples using the positive data sample locations stored inside `pos_locs`. Once indexed using `pos_locs`, call the `.copy()` to prevent any changes to labels from affecting the original `iris_df`.\n",
    "\n",
    "1. As we did above, find all the **negative** data sample locations using `labels` and the `isin()` method. The class labels which correspond to the negative class are stored inside the `neg_class` argument. Store the output into `neg_locs`.\n",
    "\n",
    "1. Index all the negative data samples using the negative data sample locations stored inside `neg_locs`. Once indexed using `neg_locs`, call the `.copy()` to prevent any changes to labels from affecting the `iris_df`."
   ]
  },
  {
   "cell_type": "code",
   "execution_count": 45,
   "metadata": {
    "id": "ZNUtzimGXHDJ"
   },
   "outputs": [],
   "source": [
    "def binarize_classes(\n",
    "    iris_df: pd.DataFrame, \n",
    "    pos_class: List, \n",
    "    neg_class: List\n",
    ") -> pd.DataFrame:\n",
    "    \"\"\"\n",
    "        Converts data into a one-vs-all or one-vs-one prolbem\n",
    "\n",
    "        Args:\n",
    "            iris_df: DataFrame contianing iris data\n",
    "\n",
    "            pos_class: list of labels that will be used for \n",
    "                the positive class.\n",
    "\n",
    "            neg_class: list of labels that will be used for \n",
    "                the negative class.\n",
    "\n",
    "        Returns:\n",
    "            Returns a Pandas DataFrame with data formatted as a \n",
    "            one-vs-one or one-vs-all problem.\n",
    "    \"\"\"\n",
    "    # TODO 5.1\n",
    "    labels = iris_df['class']\n",
    "    # TODO 5.2\n",
    "    pos_locs = iris_df['class'].isin(pos_class)\n",
    "    # TODO 5.3\n",
    "    pos_df = iris_df[pos_locs].copy()\n",
    "\n",
    "    # Set all labels/classes used for postive class to\n",
    "    # have label 1\n",
    "    pos_df.loc[:, 'class'] = 1\n",
    "    \n",
    "    # TODO 5.4\n",
    "    neg_locs = iris_df['class'].isin(neg_class)\n",
    "    # TODO 5.5\n",
    "    neg_df = iris_df[neg_locs].copy()\n",
    "    \n",
    "    # Set all labels/classes used for negative class to\n",
    "    # have label -1\n",
    "    neg_df.loc[:, 'class'] = -1\n",
    "    \n",
    "    return pd.concat([pos_df, neg_df])"
   ]
  },
  {
   "cell_type": "markdown",
   "metadata": {
    "id": "8b4n6ZqlXHDJ"
   },
   "source": [
    "Run the `TEST_binarize_classes1` and `TEST_binarize_classes2` functions below to check your implementation of the `binarize_classes()` function. "
   ]
  },
  {
   "cell_type": "markdown",
   "metadata": {
    "id": "DbHj87iUXHDJ"
   },
   "source": [
    "The `TEST_binarize_classes1()` function below creates a **one-vs-one** setup where setosa (label was previously 0) is the positive class and versicolor (label was previously 1) is the negative class. Here are somethings to notice:\n",
    "\n",
    "1. First, notice how the function changes all labels to be either 1 for the positive class or -1 for the negative class.\n",
    "1. Second, notice how all the virginica data samples are dropped.\n",
    "1. Lastly, notice that we pass a **list** of labels for the `pos_class` and `neg_class` arguments even when passing only one label for each!"
   ]
  },
  {
   "cell_type": "code",
   "execution_count": 46,
   "metadata": {
    "id": "AQRqkhJ2XHDK",
    "outputId": "8c50fbcb-90e6-4b3b-8294-21599c64944a"
   },
   "outputs": [
    {
     "data": {
      "text/html": [
       "<div>\n",
       "<style scoped>\n",
       "    .dataframe tbody tr th:only-of-type {\n",
       "        vertical-align: middle;\n",
       "    }\n",
       "\n",
       "    .dataframe tbody tr th {\n",
       "        vertical-align: top;\n",
       "    }\n",
       "\n",
       "    .dataframe thead th {\n",
       "        text-align: right;\n",
       "    }\n",
       "</style>\n",
       "<table border=\"1\" class=\"dataframe\">\n",
       "  <thead>\n",
       "    <tr style=\"text-align: right;\">\n",
       "      <th></th>\n",
       "      <th>sepal length</th>\n",
       "      <th>sepal width</th>\n",
       "      <th>petal length</th>\n",
       "      <th>petal width</th>\n",
       "      <th>class</th>\n",
       "    </tr>\n",
       "  </thead>\n",
       "  <tbody>\n",
       "    <tr>\n",
       "      <th>0</th>\n",
       "      <td>5.1</td>\n",
       "      <td>3.5</td>\n",
       "      <td>1.4</td>\n",
       "      <td>0.2</td>\n",
       "      <td>1</td>\n",
       "    </tr>\n",
       "    <tr>\n",
       "      <th>1</th>\n",
       "      <td>4.9</td>\n",
       "      <td>3.0</td>\n",
       "      <td>1.4</td>\n",
       "      <td>0.2</td>\n",
       "      <td>1</td>\n",
       "    </tr>\n",
       "    <tr>\n",
       "      <th>2</th>\n",
       "      <td>4.7</td>\n",
       "      <td>3.2</td>\n",
       "      <td>1.3</td>\n",
       "      <td>0.2</td>\n",
       "      <td>1</td>\n",
       "    </tr>\n",
       "    <tr>\n",
       "      <th>3</th>\n",
       "      <td>4.6</td>\n",
       "      <td>3.1</td>\n",
       "      <td>1.5</td>\n",
       "      <td>0.2</td>\n",
       "      <td>1</td>\n",
       "    </tr>\n",
       "    <tr>\n",
       "      <th>4</th>\n",
       "      <td>5.0</td>\n",
       "      <td>3.6</td>\n",
       "      <td>1.4</td>\n",
       "      <td>0.2</td>\n",
       "      <td>1</td>\n",
       "    </tr>\n",
       "    <tr>\n",
       "      <th>...</th>\n",
       "      <td>...</td>\n",
       "      <td>...</td>\n",
       "      <td>...</td>\n",
       "      <td>...</td>\n",
       "      <td>...</td>\n",
       "    </tr>\n",
       "    <tr>\n",
       "      <th>95</th>\n",
       "      <td>5.7</td>\n",
       "      <td>3.0</td>\n",
       "      <td>4.2</td>\n",
       "      <td>1.2</td>\n",
       "      <td>-1</td>\n",
       "    </tr>\n",
       "    <tr>\n",
       "      <th>96</th>\n",
       "      <td>5.7</td>\n",
       "      <td>2.9</td>\n",
       "      <td>4.2</td>\n",
       "      <td>1.3</td>\n",
       "      <td>-1</td>\n",
       "    </tr>\n",
       "    <tr>\n",
       "      <th>97</th>\n",
       "      <td>6.2</td>\n",
       "      <td>2.9</td>\n",
       "      <td>4.3</td>\n",
       "      <td>1.3</td>\n",
       "      <td>-1</td>\n",
       "    </tr>\n",
       "    <tr>\n",
       "      <th>98</th>\n",
       "      <td>5.1</td>\n",
       "      <td>2.5</td>\n",
       "      <td>3.0</td>\n",
       "      <td>1.1</td>\n",
       "      <td>-1</td>\n",
       "    </tr>\n",
       "    <tr>\n",
       "      <th>99</th>\n",
       "      <td>5.7</td>\n",
       "      <td>2.8</td>\n",
       "      <td>4.1</td>\n",
       "      <td>1.3</td>\n",
       "      <td>-1</td>\n",
       "    </tr>\n",
       "  </tbody>\n",
       "</table>\n",
       "<p>100 rows × 5 columns</p>\n",
       "</div>"
      ],
      "text/plain": [
       "    sepal length  sepal width  petal length  petal width  class\n",
       "0            5.1          3.5           1.4          0.2      1\n",
       "1            4.9          3.0           1.4          0.2      1\n",
       "2            4.7          3.2           1.3          0.2      1\n",
       "3            4.6          3.1           1.5          0.2      1\n",
       "4            5.0          3.6           1.4          0.2      1\n",
       "..           ...          ...           ...          ...    ...\n",
       "95           5.7          3.0           4.2          1.2     -1\n",
       "96           5.7          2.9           4.2          1.3     -1\n",
       "97           6.2          2.9           4.3          1.3     -1\n",
       "98           5.1          2.5           3.0          1.1     -1\n",
       "99           5.7          2.8           4.1          1.3     -1\n",
       "\n",
       "[100 rows x 5 columns]"
      ]
     },
     "metadata": {},
     "output_type": "display_data"
    },
    {
     "name": "stdout",
     "output_type": "stream",
     "text": [
      "one_vs_one labels: [ 1 -1]\n",
      "Your code PASSED the code check!\n"
     ]
    }
   ],
   "source": [
    "def TEST_binarize_classes1():\n",
    "    \n",
    "    one_vs_one = binarize_classes(iris_df, pos_class=[0], neg_class=[1])\n",
    "    display(one_vs_one)\n",
    "    print(f\"one_vs_one labels: {one_vs_one['class'].unique()}\")\n",
    "\n",
    "    todo_check([\n",
    "        (np.all(one_vs_one['class'].unique() == [1, -1]), \"'binarize_classes()' returned the wrong class labels. Check to make sure you used the correct classes.\"),\n",
    "        (np.all(one_vs_one.loc[4].values == [5.0, 3.6, 1.4, 0.2, 1.0]), \"'binarize_classes()' potentially returned the wrong data values. Check to make sure you used the correct classes.\"),\n",
    "        (np.all(one_vs_one.loc[95].values == [5.7, 3.0, 4.2, 1.2, -1.0]), \"'binarize_classes()' potentially returned the wrong data values. Check to make sure you used the correct classes.\"),\n",
    "    ])\n",
    "    \n",
    "TEST_binarize_classes1()\n",
    "garbage_collect(['TEST_binarize_classes1'])"
   ]
  },
  {
   "cell_type": "markdown",
   "metadata": {
    "id": "iivDB5LbXHDK"
   },
   "source": [
    "The `TEST_binarize_classes2()` function below creates a **one-vs-all** setup where setosa (label was previously 0 and now denoted 1) is the positive class and versicolor (label was previously 1) and virginica (label was previously 2) are the negative class (now denoted with -1)."
   ]
  },
  {
   "cell_type": "code",
   "execution_count": null,
   "metadata": {
    "id": "EJIBXjzdXHDK",
    "outputId": "2c6d2668-f933-4932-a732-6eb842671cf1"
   },
   "outputs": [
    {
     "data": {
      "text/html": [
       "<div>\n",
       "<style scoped>\n",
       "    .dataframe tbody tr th:only-of-type {\n",
       "        vertical-align: middle;\n",
       "    }\n",
       "\n",
       "    .dataframe tbody tr th {\n",
       "        vertical-align: top;\n",
       "    }\n",
       "\n",
       "    .dataframe thead th {\n",
       "        text-align: right;\n",
       "    }\n",
       "</style>\n",
       "<table border=\"1\" class=\"dataframe\">\n",
       "  <thead>\n",
       "    <tr style=\"text-align: right;\">\n",
       "      <th></th>\n",
       "      <th>sepal length</th>\n",
       "      <th>sepal width</th>\n",
       "      <th>petal length</th>\n",
       "      <th>petal width</th>\n",
       "      <th>class</th>\n",
       "    </tr>\n",
       "  </thead>\n",
       "  <tbody>\n",
       "    <tr>\n",
       "      <th>0</th>\n",
       "      <td>5.1</td>\n",
       "      <td>3.5</td>\n",
       "      <td>1.4</td>\n",
       "      <td>0.2</td>\n",
       "      <td>1</td>\n",
       "    </tr>\n",
       "    <tr>\n",
       "      <th>1</th>\n",
       "      <td>4.9</td>\n",
       "      <td>3.0</td>\n",
       "      <td>1.4</td>\n",
       "      <td>0.2</td>\n",
       "      <td>1</td>\n",
       "    </tr>\n",
       "    <tr>\n",
       "      <th>2</th>\n",
       "      <td>4.7</td>\n",
       "      <td>3.2</td>\n",
       "      <td>1.3</td>\n",
       "      <td>0.2</td>\n",
       "      <td>1</td>\n",
       "    </tr>\n",
       "    <tr>\n",
       "      <th>3</th>\n",
       "      <td>4.6</td>\n",
       "      <td>3.1</td>\n",
       "      <td>1.5</td>\n",
       "      <td>0.2</td>\n",
       "      <td>1</td>\n",
       "    </tr>\n",
       "    <tr>\n",
       "      <th>4</th>\n",
       "      <td>5.0</td>\n",
       "      <td>3.6</td>\n",
       "      <td>1.4</td>\n",
       "      <td>0.2</td>\n",
       "      <td>1</td>\n",
       "    </tr>\n",
       "    <tr>\n",
       "      <th>...</th>\n",
       "      <td>...</td>\n",
       "      <td>...</td>\n",
       "      <td>...</td>\n",
       "      <td>...</td>\n",
       "      <td>...</td>\n",
       "    </tr>\n",
       "    <tr>\n",
       "      <th>145</th>\n",
       "      <td>6.7</td>\n",
       "      <td>3.0</td>\n",
       "      <td>5.2</td>\n",
       "      <td>2.3</td>\n",
       "      <td>-1</td>\n",
       "    </tr>\n",
       "    <tr>\n",
       "      <th>146</th>\n",
       "      <td>6.3</td>\n",
       "      <td>2.5</td>\n",
       "      <td>5.0</td>\n",
       "      <td>1.9</td>\n",
       "      <td>-1</td>\n",
       "    </tr>\n",
       "    <tr>\n",
       "      <th>147</th>\n",
       "      <td>6.5</td>\n",
       "      <td>3.0</td>\n",
       "      <td>5.2</td>\n",
       "      <td>2.0</td>\n",
       "      <td>-1</td>\n",
       "    </tr>\n",
       "    <tr>\n",
       "      <th>148</th>\n",
       "      <td>6.2</td>\n",
       "      <td>3.4</td>\n",
       "      <td>5.4</td>\n",
       "      <td>2.3</td>\n",
       "      <td>-1</td>\n",
       "    </tr>\n",
       "    <tr>\n",
       "      <th>149</th>\n",
       "      <td>5.9</td>\n",
       "      <td>3.0</td>\n",
       "      <td>5.1</td>\n",
       "      <td>1.8</td>\n",
       "      <td>-1</td>\n",
       "    </tr>\n",
       "  </tbody>\n",
       "</table>\n",
       "<p>150 rows × 5 columns</p>\n",
       "</div>"
      ],
      "text/plain": [
       "     sepal length  sepal width  petal length  petal width  class\n",
       "0             5.1          3.5           1.4          0.2      1\n",
       "1             4.9          3.0           1.4          0.2      1\n",
       "2             4.7          3.2           1.3          0.2      1\n",
       "3             4.6          3.1           1.5          0.2      1\n",
       "4             5.0          3.6           1.4          0.2      1\n",
       "..            ...          ...           ...          ...    ...\n",
       "145           6.7          3.0           5.2          2.3     -1\n",
       "146           6.3          2.5           5.0          1.9     -1\n",
       "147           6.5          3.0           5.2          2.0     -1\n",
       "148           6.2          3.4           5.4          2.3     -1\n",
       "149           5.9          3.0           5.1          1.8     -1\n",
       "\n",
       "[150 rows x 5 columns]"
      ]
     },
     "metadata": {},
     "output_type": "display_data"
    },
    {
     "name": "stdout",
     "output_type": "stream",
     "text": [
      "one_vs_all labels: [ 1 -1]\n",
      "Your code PASSED the code check!\n"
     ]
    }
   ],
   "source": [
    "def TEST_binarize_classes2():\n",
    "    one_vs_all = binarize_classes(iris_df, pos_class=[0], neg_class=[1, 2])\n",
    "    display(one_vs_all)\n",
    "    print(f\"one_vs_all labels: {one_vs_all['class'].unique()}\")\n",
    "\n",
    "    todo_check([\n",
    "        (np.all(one_vs_all['class'].unique() == [1, -1]), \"'binarize_classes()' returned the wrong class labels. Check to make sure you used the correct classes.\"),\n",
    "        (np.all(one_vs_all.loc[4].values == [5.0, 3.6, 1.4, 0.2, 1.0]), \"'binarize_classes()' potentially returned the wrong data values. Check to make sure you used the correct classes.\"),\n",
    "        (np.all(one_vs_all.loc[95].values == [5.7, 3.0, 4.2, 1.2, -1.0]), \"'binarize_classes()' potentially returned the wrong data values. Check to make sure you used the correct classes.\"),\n",
    "    ])\n",
    "    \n",
    "TEST_binarize_classes2()\n",
    "garbage_collect(['TEST_binarize_classes2'])"
   ]
  },
  {
   "cell_type": "markdown",
   "metadata": {
    "id": "McRtyme2XHDK"
   },
   "source": [
    "## Splitting data\n",
    "\n",
    "Next, it's time to split our data like we have done in prior labs. \n",
    "\n",
    "Notice, we have slightly updated the `feature_label_split()` function to be more general by adding an argument `label_name` which takes a string."
   ]
  },
  {
   "cell_type": "code",
   "execution_count": 47,
   "metadata": {
    "id": "bHnxhNn1XHDK"
   },
   "outputs": [],
   "source": [
    "def feature_label_split(df: pd.DataFrame, \n",
    "                        label_name: str) -> Tuple[pd.DataFrame]:\n",
    "    \"\"\" Split dataframe into features and labels\n",
    "    \n",
    "        Args:\n",
    "            df: DataFrame containing both features and labels\n",
    "            \n",
    "            label_name: Name of the column which contains the labels\n",
    "    \"\"\"\n",
    "    \n",
    "    X = df.drop(label_name, axis=1)\n",
    "    y = df[[label_name]].copy()\n",
    "    \n",
    "    return X, y"
   ]
  },
  {
   "cell_type": "markdown",
   "metadata": {
    "id": "N4YymlBfXHDK"
   },
   "source": [
    "Below is an example of how to call the `feature_label_split()` function."
   ]
  },
  {
   "cell_type": "code",
   "execution_count": 48,
   "metadata": {
    "id": "IO9i_ujnXHDK",
    "outputId": "d6b727ff-089f-438d-a7d2-81be78b8f5dc"
   },
   "outputs": [
    {
     "data": {
      "text/html": [
       "<div>\n",
       "<style scoped>\n",
       "    .dataframe tbody tr th:only-of-type {\n",
       "        vertical-align: middle;\n",
       "    }\n",
       "\n",
       "    .dataframe tbody tr th {\n",
       "        vertical-align: top;\n",
       "    }\n",
       "\n",
       "    .dataframe thead th {\n",
       "        text-align: right;\n",
       "    }\n",
       "</style>\n",
       "<table border=\"1\" class=\"dataframe\">\n",
       "  <thead>\n",
       "    <tr style=\"text-align: right;\">\n",
       "      <th></th>\n",
       "      <th>sepal length</th>\n",
       "      <th>sepal width</th>\n",
       "      <th>petal length</th>\n",
       "      <th>petal width</th>\n",
       "    </tr>\n",
       "  </thead>\n",
       "  <tbody>\n",
       "    <tr>\n",
       "      <th>0</th>\n",
       "      <td>5.1</td>\n",
       "      <td>3.5</td>\n",
       "      <td>1.4</td>\n",
       "      <td>0.2</td>\n",
       "    </tr>\n",
       "    <tr>\n",
       "      <th>1</th>\n",
       "      <td>4.9</td>\n",
       "      <td>3.0</td>\n",
       "      <td>1.4</td>\n",
       "      <td>0.2</td>\n",
       "    </tr>\n",
       "    <tr>\n",
       "      <th>2</th>\n",
       "      <td>4.7</td>\n",
       "      <td>3.2</td>\n",
       "      <td>1.3</td>\n",
       "      <td>0.2</td>\n",
       "    </tr>\n",
       "    <tr>\n",
       "      <th>3</th>\n",
       "      <td>4.6</td>\n",
       "      <td>3.1</td>\n",
       "      <td>1.5</td>\n",
       "      <td>0.2</td>\n",
       "    </tr>\n",
       "    <tr>\n",
       "      <th>4</th>\n",
       "      <td>5.0</td>\n",
       "      <td>3.6</td>\n",
       "      <td>1.4</td>\n",
       "      <td>0.2</td>\n",
       "    </tr>\n",
       "    <tr>\n",
       "      <th>...</th>\n",
       "      <td>...</td>\n",
       "      <td>...</td>\n",
       "      <td>...</td>\n",
       "      <td>...</td>\n",
       "    </tr>\n",
       "    <tr>\n",
       "      <th>145</th>\n",
       "      <td>6.7</td>\n",
       "      <td>3.0</td>\n",
       "      <td>5.2</td>\n",
       "      <td>2.3</td>\n",
       "    </tr>\n",
       "    <tr>\n",
       "      <th>146</th>\n",
       "      <td>6.3</td>\n",
       "      <td>2.5</td>\n",
       "      <td>5.0</td>\n",
       "      <td>1.9</td>\n",
       "    </tr>\n",
       "    <tr>\n",
       "      <th>147</th>\n",
       "      <td>6.5</td>\n",
       "      <td>3.0</td>\n",
       "      <td>5.2</td>\n",
       "      <td>2.0</td>\n",
       "    </tr>\n",
       "    <tr>\n",
       "      <th>148</th>\n",
       "      <td>6.2</td>\n",
       "      <td>3.4</td>\n",
       "      <td>5.4</td>\n",
       "      <td>2.3</td>\n",
       "    </tr>\n",
       "    <tr>\n",
       "      <th>149</th>\n",
       "      <td>5.9</td>\n",
       "      <td>3.0</td>\n",
       "      <td>5.1</td>\n",
       "      <td>1.8</td>\n",
       "    </tr>\n",
       "  </tbody>\n",
       "</table>\n",
       "<p>150 rows × 4 columns</p>\n",
       "</div>"
      ],
      "text/plain": [
       "     sepal length  sepal width  petal length  petal width\n",
       "0             5.1          3.5           1.4          0.2\n",
       "1             4.9          3.0           1.4          0.2\n",
       "2             4.7          3.2           1.3          0.2\n",
       "3             4.6          3.1           1.5          0.2\n",
       "4             5.0          3.6           1.4          0.2\n",
       "..            ...          ...           ...          ...\n",
       "145           6.7          3.0           5.2          2.3\n",
       "146           6.3          2.5           5.0          1.9\n",
       "147           6.5          3.0           5.2          2.0\n",
       "148           6.2          3.4           5.4          2.3\n",
       "149           5.9          3.0           5.1          1.8\n",
       "\n",
       "[150 rows x 4 columns]"
      ]
     },
     "metadata": {},
     "output_type": "display_data"
    },
    {
     "data": {
      "text/html": [
       "<div>\n",
       "<style scoped>\n",
       "    .dataframe tbody tr th:only-of-type {\n",
       "        vertical-align: middle;\n",
       "    }\n",
       "\n",
       "    .dataframe tbody tr th {\n",
       "        vertical-align: top;\n",
       "    }\n",
       "\n",
       "    .dataframe thead th {\n",
       "        text-align: right;\n",
       "    }\n",
       "</style>\n",
       "<table border=\"1\" class=\"dataframe\">\n",
       "  <thead>\n",
       "    <tr style=\"text-align: right;\">\n",
       "      <th></th>\n",
       "      <th>class</th>\n",
       "    </tr>\n",
       "  </thead>\n",
       "  <tbody>\n",
       "    <tr>\n",
       "      <th>0</th>\n",
       "      <td>0.0</td>\n",
       "    </tr>\n",
       "    <tr>\n",
       "      <th>1</th>\n",
       "      <td>0.0</td>\n",
       "    </tr>\n",
       "    <tr>\n",
       "      <th>2</th>\n",
       "      <td>0.0</td>\n",
       "    </tr>\n",
       "    <tr>\n",
       "      <th>3</th>\n",
       "      <td>0.0</td>\n",
       "    </tr>\n",
       "    <tr>\n",
       "      <th>4</th>\n",
       "      <td>0.0</td>\n",
       "    </tr>\n",
       "    <tr>\n",
       "      <th>...</th>\n",
       "      <td>...</td>\n",
       "    </tr>\n",
       "    <tr>\n",
       "      <th>145</th>\n",
       "      <td>2.0</td>\n",
       "    </tr>\n",
       "    <tr>\n",
       "      <th>146</th>\n",
       "      <td>2.0</td>\n",
       "    </tr>\n",
       "    <tr>\n",
       "      <th>147</th>\n",
       "      <td>2.0</td>\n",
       "    </tr>\n",
       "    <tr>\n",
       "      <th>148</th>\n",
       "      <td>2.0</td>\n",
       "    </tr>\n",
       "    <tr>\n",
       "      <th>149</th>\n",
       "      <td>2.0</td>\n",
       "    </tr>\n",
       "  </tbody>\n",
       "</table>\n",
       "<p>150 rows × 1 columns</p>\n",
       "</div>"
      ],
      "text/plain": [
       "     class\n",
       "0      0.0\n",
       "1      0.0\n",
       "2      0.0\n",
       "3      0.0\n",
       "4      0.0\n",
       "..     ...\n",
       "145    2.0\n",
       "146    2.0\n",
       "147    2.0\n",
       "148    2.0\n",
       "149    2.0\n",
       "\n",
       "[150 rows x 1 columns]"
      ]
     },
     "metadata": {},
     "output_type": "display_data"
    }
   ],
   "source": [
    "def TEST_feature_label_split():\n",
    "    X, y = feature_label_split(iris_df, label_name='class')\n",
    "    display(X)\n",
    "    display(y)\n",
    "    \n",
    "TEST_feature_label_split()\n",
    "garbage_collect(['TEST_feature_label_split'])"
   ]
  },
  {
   "cell_type": "markdown",
   "metadata": {
    "id": "e4HtCG0CXHDL"
   },
   "source": [
    "Likewise, we have slightly updated the `train_valid_test_split()` function to be more general by adding an argument `test_size` which takes a float and determines the split size."
   ]
  },
  {
   "cell_type": "code",
   "execution_count": 49,
   "metadata": {
    "id": "2DcX0hCfXHDL"
   },
   "outputs": [],
   "source": [
    "from sklearn.model_selection import train_test_split\n",
    "\n",
    "def train_valid_test_split(X, y, test_size=.2, seed=42):\n",
    "    X_trn, X_tst, y_trn, y_tst = train_test_split(X, y, test_size=test_size, random_state=seed)\n",
    "    X_trn, X_vld, y_trn, y_vld = train_test_split(X_trn, y_trn, test_size=test_size, random_state=seed)\n",
    "\n",
    "    return X_trn, y_trn, X_vld, y_vld, X_tst, y_tst"
   ]
  },
  {
   "cell_type": "markdown",
   "metadata": {
    "id": "sQfv3fnXXHDL"
   },
   "source": [
    "Below is an example of how to call both functions `feature_label_split()` and `train_valid_test_split()` to split the data into train, validation, and test sets."
   ]
  },
  {
   "cell_type": "code",
   "execution_count": 50,
   "metadata": {
    "id": "AC2BTmpbXHDL",
    "outputId": "9a36757f-289b-4289-f435-d6c920e2d8c7"
   },
   "outputs": [
    {
     "name": "stdout",
     "output_type": "stream",
     "text": [
      "X_trn shape: (96, 4)\n",
      "y_trn shape: (96, 1)\n",
      "X_vld shape: (24, 4)\n",
      "y_vld shape: (24, 1)\n",
      "X_tst shape: (30, 4)\n",
      "y_tst shape: (30, 1)\n"
     ]
    }
   ],
   "source": [
    "def TEST_train_valid_test_split():\n",
    "    # Split into features and labels\n",
    "    X, y = feature_label_split(iris_df, label_name='class')\n",
    "    # Split into train, validation, and test sets\n",
    "    data = train_valid_test_split(X, y)\n",
    "    X_trn, y_trn, X_vld, y_vld, X_tst, y_tst = data\n",
    "\n",
    "    print(f\"X_trn shape: {X_trn.shape}\")\n",
    "    print(f\"y_trn shape: {y_trn.shape}\")\n",
    "    print(f\"X_vld shape: {X_vld.shape}\")\n",
    "    print(f\"y_vld shape: {y_vld.shape}\")\n",
    "    print(f\"X_tst shape: {X_tst.shape}\")\n",
    "    print(f\"y_tst shape: {y_tst.shape}\")\n",
    "    \n",
    "TEST_train_valid_test_split()\n",
    "garbage_collect(['TEST_train_valid_test_split'])"
   ]
  },
  {
   "cell_type": "markdown",
   "metadata": {
    "id": "5QcsvIFGXHDL"
   },
   "source": [
    "## Transforming and cleaning data\n",
    "\n",
    "Let's now clean our data by cleaning our features and labels separately. Luckily, we actually don't need to clean our labels given in the 'class' column! Recall that the `binarize_classes()` function we just defined will take care of converting our classes and setting the  positive and negative. Thus, there is nothing else for us to do right now!\n",
    "\n",
    "All we really need to do is apply some simply standardization and add the bias to our input features! Further, this means we won't need our custom `DataFrameColumnTransformer` this lab either!"
   ]
  },
  {
   "cell_type": "code",
   "execution_count": 51,
   "metadata": {
    "id": "tjPbbBslXHDM"
   },
   "outputs": [],
   "source": [
    "from sklearn.base import BaseEstimator, TransformerMixin\n",
    "from sklearn.pipeline import Pipeline"
   ]
  },
  {
   "cell_type": "markdown",
   "metadata": {
    "id": "mCYK-BRUXHDM"
   },
   "source": [
    "### Feature cleaning\n",
    "\n",
    "The only feature cleaning/transformation classes we'll need are the `Standardization` and `AddBias` classes which we redefine for you below."
   ]
  },
  {
   "cell_type": "code",
   "execution_count": 52,
   "metadata": {
    "id": "25zWBQALXHDM"
   },
   "outputs": [],
   "source": [
    "class Standardization(BaseEstimator, TransformerMixin):\n",
    "    def __init__(self):\n",
    "        self.feature_names = None\n",
    "    \n",
    "    def fit(self, X: pd.DataFrame) -> pd.DataFrame:\n",
    "        \n",
    "        self.mean = np.mean(X, axis=0)\n",
    "        self.std = np.std(X, axis=0)\n",
    "        return self\n",
    "    \n",
    "    def transform(self, X: pd.DataFrame) -> pd.DataFrame:\n",
    "        self.feature_names = X.columns\n",
    "        return (X  - self.mean) / self.std\n",
    "\n",
    "    def get_feature_names_out(self, name=None) -> pd.Series:\n",
    "        return self.feature_names\n",
    "    \n",
    "class AddBias(BaseEstimator, TransformerMixin):\n",
    "    def __init__(self):\n",
    "        self.feature_names = None\n",
    "    \n",
    "    def fit(self, X: pd.DataFrame) -> pd.DataFrame:\n",
    "        return self\n",
    "    \n",
    "    def transform(self, X: pd.DataFrame) -> pd.DataFrame:\n",
    "        X = X.copy()\n",
    "        X.insert(0, 'bias', 1)\n",
    "        \n",
    "        self.feature_names = X.columns\n",
    "        return X\n",
    "    \n",
    "    def get_feature_names_out(self, names=None) -> List[str]:\n",
    "        return list(self.feature_names)"
   ]
  },
  {
   "cell_type": "markdown",
   "metadata": {
    "id": "FelUWPVZXHDM"
   },
   "source": [
    "#### TODO 6\n",
    "Complete the TODO by finishing the `feature_pipeline()` function.\n",
    "\n",
    "1. Define an instance of Sklearn's `Pipeline` class which applies the `Standardization` class and then the `AddBias` class. Store the output into `feature_pipe`.\n",
    "    1. Hint: Recall the `Pipeline` class takes in a **list of tuples** where each tuple contains two elements: string and a class instance.\n",
    "    1. Hint: You can set the first element of each tuple to whatever string you would like.\n",
    "\n",
    "1. Call the `fit_transform()` method for our `feature_pipe` instance and pass our `X_trn` data to be fitted and then transformed.Store the output into `X_trn_clean`.\n",
    "\n",
    "1. Call the `transform()` method for our `feature_pipe` instance and pass our `X_vld` data to be transformed. Store the output into `X_vld_clean`.\n",
    "\n",
    "1. Call the `transform()` method for our `feature_pipe` instance and pass our `X_tst` data to be transformed. Store the output into `X_tst_clean`."
   ]
  },
  {
   "cell_type": "code",
   "execution_count": 55,
   "metadata": {
    "id": "0SaPeCTaXHDM"
   },
   "outputs": [],
   "source": [
    "def feature_pipeline(\n",
    "    X_trn: pd.DataFrame, \n",
    "    X_vld: pd.DataFrame, \n",
    "    X_tst: pd.DataFrame, \n",
    ") -> List[pd.DataFrame]:\n",
    "    \"\"\" Creates column transformers and pipelines to apply data cleaning and \n",
    "        transfornations to the input features of our data.\n",
    "        \n",
    "        Args:\n",
    "            X_trn: train features\n",
    "            \n",
    "            X_vld: validation features\n",
    "            \n",
    "            X_tst: test features\n",
    "    \"\"\"\n",
    "    # TODO 6.1\n",
    "    feature_pipe = Pipeline([(\"standardization\", Standardization()),(\"add_bias\", AddBias())])\n",
    "    \n",
    "    # TODO 6.2\n",
    "    X_trn_clean = feature_pipe.fit_transform(X_trn)\n",
    "    # TODO 6.3\n",
    "    X_vld_clean = feature_pipe.transform(X_vld)\n",
    "    # TODO 6.4\n",
    "    X_tst_clean = feature_pipe.transform(X_tst)\n",
    "    \n",
    "    return X_trn_clean, X_vld_clean, X_tst_clean"
   ]
  },
  {
   "cell_type": "markdown",
   "metadata": {
    "id": "foED6uinXHDM"
   },
   "source": [
    "Run the below `TEST_feature_pipeline()` function to test your `feature_pipeline()` function implementation."
   ]
  },
  {
   "cell_type": "code",
   "execution_count": 56,
   "metadata": {
    "id": "W6hsVNwqXHDM",
    "outputId": "44530411-f5c2-4800-c650-0e3fe93476fa"
   },
   "outputs": [
    {
     "name": "stdout",
     "output_type": "stream",
     "text": [
      "X_trn shape: (96, 5)\n",
      "X_trn type: <class 'pandas.core.frame.DataFrame'>\n",
      "X_vld shape: (24, 5)\n",
      "X_vld type: <class 'pandas.core.frame.DataFrame'>\n",
      "X_tst shape: (30, 5)\n",
      "X_tst type: <class 'pandas.core.frame.DataFrame'>\n"
     ]
    },
    {
     "data": {
      "text/html": [
       "<div>\n",
       "<style scoped>\n",
       "    .dataframe tbody tr th:only-of-type {\n",
       "        vertical-align: middle;\n",
       "    }\n",
       "\n",
       "    .dataframe tbody tr th {\n",
       "        vertical-align: top;\n",
       "    }\n",
       "\n",
       "    .dataframe thead th {\n",
       "        text-align: right;\n",
       "    }\n",
       "</style>\n",
       "<table border=\"1\" class=\"dataframe\">\n",
       "  <thead>\n",
       "    <tr style=\"text-align: right;\">\n",
       "      <th></th>\n",
       "      <th>bias</th>\n",
       "      <th>sepal length</th>\n",
       "      <th>sepal width</th>\n",
       "      <th>petal length</th>\n",
       "      <th>petal width</th>\n",
       "    </tr>\n",
       "  </thead>\n",
       "  <tbody>\n",
       "    <tr>\n",
       "      <th>138</th>\n",
       "      <td>1</td>\n",
       "      <td>0.161107</td>\n",
       "      <td>-0.237179</td>\n",
       "      <td>0.583828</td>\n",
       "      <td>0.779968</td>\n",
       "    </tr>\n",
       "    <tr>\n",
       "      <th>86</th>\n",
       "      <td>1</td>\n",
       "      <td>1.013582</td>\n",
       "      <td>-0.016119</td>\n",
       "      <td>0.527329</td>\n",
       "      <td>0.386569</td>\n",
       "    </tr>\n",
       "    <tr>\n",
       "      <th>81</th>\n",
       "      <td>1</td>\n",
       "      <td>-0.447803</td>\n",
       "      <td>-1.563541</td>\n",
       "      <td>-0.037666</td>\n",
       "      <td>-0.269096</td>\n",
       "    </tr>\n",
       "    <tr>\n",
       "      <th>20</th>\n",
       "      <td>1</td>\n",
       "      <td>-0.569585</td>\n",
       "      <td>0.647062</td>\n",
       "      <td>-1.167657</td>\n",
       "      <td>-1.318160</td>\n",
       "    </tr>\n",
       "    <tr>\n",
       "      <th>112</th>\n",
       "      <td>1</td>\n",
       "      <td>1.135364</td>\n",
       "      <td>-0.237179</td>\n",
       "      <td>0.979325</td>\n",
       "      <td>1.173367</td>\n",
       "    </tr>\n",
       "    <tr>\n",
       "      <th>...</th>\n",
       "      <td>...</td>\n",
       "      <td>...</td>\n",
       "      <td>...</td>\n",
       "      <td>...</td>\n",
       "      <td>...</td>\n",
       "    </tr>\n",
       "    <tr>\n",
       "      <th>130</th>\n",
       "      <td>1</td>\n",
       "      <td>1.866056</td>\n",
       "      <td>-0.679300</td>\n",
       "      <td>1.318322</td>\n",
       "      <td>0.911101</td>\n",
       "    </tr>\n",
       "    <tr>\n",
       "      <th>10</th>\n",
       "      <td>1</td>\n",
       "      <td>-0.569585</td>\n",
       "      <td>1.310243</td>\n",
       "      <td>-1.280656</td>\n",
       "      <td>-1.318160</td>\n",
       "    </tr>\n",
       "    <tr>\n",
       "      <th>58</th>\n",
       "      <td>1</td>\n",
       "      <td>0.891800</td>\n",
       "      <td>-0.458240</td>\n",
       "      <td>0.470829</td>\n",
       "      <td>0.124303</td>\n",
       "    </tr>\n",
       "    <tr>\n",
       "      <th>49</th>\n",
       "      <td>1</td>\n",
       "      <td>-1.056713</td>\n",
       "      <td>0.426002</td>\n",
       "      <td>-1.337156</td>\n",
       "      <td>-1.318160</td>\n",
       "    </tr>\n",
       "    <tr>\n",
       "      <th>37</th>\n",
       "      <td>1</td>\n",
       "      <td>-1.178495</td>\n",
       "      <td>1.089183</td>\n",
       "      <td>-1.337156</td>\n",
       "      <td>-1.449293</td>\n",
       "    </tr>\n",
       "  </tbody>\n",
       "</table>\n",
       "<p>96 rows × 5 columns</p>\n",
       "</div>"
      ],
      "text/plain": [
       "     bias  sepal length  sepal width  petal length  petal width\n",
       "138     1      0.161107    -0.237179      0.583828     0.779968\n",
       "86      1      1.013582    -0.016119      0.527329     0.386569\n",
       "81      1     -0.447803    -1.563541     -0.037666    -0.269096\n",
       "20      1     -0.569585     0.647062     -1.167657    -1.318160\n",
       "112     1      1.135364    -0.237179      0.979325     1.173367\n",
       "..    ...           ...          ...           ...          ...\n",
       "130     1      1.866056    -0.679300      1.318322     0.911101\n",
       "10      1     -0.569585     1.310243     -1.280656    -1.318160\n",
       "58      1      0.891800    -0.458240      0.470829     0.124303\n",
       "49      1     -1.056713     0.426002     -1.337156    -1.318160\n",
       "37      1     -1.178495     1.089183     -1.337156    -1.449293\n",
       "\n",
       "[96 rows x 5 columns]"
      ]
     },
     "metadata": {},
     "output_type": "display_data"
    },
    {
     "name": "stdout",
     "output_type": "stream",
     "text": [
      "Your code PASSED the code check!\n"
     ]
    }
   ],
   "source": [
    "def TEST_feature_pipeline(): \n",
    "    # Apply feature and label splitting\n",
    "    X, y = feature_label_split(iris_df, label_name='class')\n",
    "    # Apply train, validation and test set splitting\n",
    "    X_trn, y_trn, X_vld, y_vld, X_tst, y_tst = train_valid_test_split(X, y)\n",
    "    # Apply feature cleaning AFTER splitting\n",
    "    X_trn, X_vld, X_tst = feature_pipeline(X_trn, X_vld, X_tst)\n",
    "\n",
    "    print(f\"X_trn shape: {X_trn.shape}\")\n",
    "    print(f\"X_trn type: {type(X_trn)}\")\n",
    "    print(f\"X_vld shape: {X_vld.shape}\")\n",
    "    print(f\"X_vld type: {type(X_vld)}\")\n",
    "    print(f\"X_tst shape: {X_tst.shape}\")\n",
    "    print(f\"X_tst type: {type(X_tst)}\")\n",
    "    display(X_trn)\n",
    "\n",
    "    todo_check([\n",
    "        (np.all(np.isclose(X_trn.describe().loc['mean'], [1, 0, 0, 0, 0])), \"'X_trn' has the wrong mean values\"),\n",
    "        (np.all(np.isclose(X_trn.iloc[:3, 4], [0.77996804,  0.3865691 , -0.2690958], rtol=.01)), \"'X_trn' has incorrect values\"),\n",
    "        (np.all(np.isclose(X_vld.iloc[:3, 4], [-0.2690958 ,  0.12430314, -1.31815965], rtol=.01)), \"'X_vld' has incorrect values\"),\n",
    "        (np.all(np.isclose(X_tst.iloc[:3, 4], [-0.00682984, -1.18702667,  1.43563294], rtol=.01)),\"'X_tst' has incorrect values\"),\n",
    "    ])\n",
    "    \n",
    "TEST_feature_pipeline()\n",
    "garbage_collect(['TEST_feature_pipeline'])"
   ]
  },
  {
   "cell_type": "markdown",
   "metadata": {
    "id": "cFQ97vrnXHDN"
   },
   "source": [
    "\n",
    "## Putting it all together\n",
    "\n",
    "In order to make our lives easier we create a function called `data_prep()` which will run the binarization of our classes, splitting, and the target/feature data cleaning and transformations for us. Thus, whenever we go to implement a new algorithm we can call `data_prep()` to give us our data and override any other variables with the same names!\n",
    "\n",
    "**Take time to also read the DocStrings or in-line documentation, given at the start of the function, which describes what each argument does. You need to understand what each argument does before moving forward!**\n",
    "\n",
    "Note: Any arguments in a function given after the `*` in the function definition below MUST be passed using the keyword. See this [post](https://stackoverflow.com/questions/14301967/bare-asterisk-in-function-arguments) for more information."
   ]
  },
  {
   "cell_type": "code",
   "execution_count": 57,
   "metadata": {
    "id": "8mO9gDaKXHDN"
   },
   "outputs": [],
   "source": [
    "def data_prep(\n",
    "    df: pd.DataFrame,\n",
    "    label_name: str,\n",
    "    pos_class: List[int],\n",
    "    neg_class: List[int],\n",
    "    *,\n",
    "    seed: int = 42,\n",
    "    return_array: bool = False,\n",
    "    drop_features: List[str] = None,\n",
    ") -> Tuple[pd.DataFrame]:\n",
    "    \"\"\" Binarizes data, splits data and runs data cleaning \n",
    "        and transformations.\n",
    "    \n",
    "        Args:\n",
    "            df: A Pandas DataFrame containing our dataset for the \n",
    "                current lab.\n",
    "                \n",
    "            label_name: Name of the column in the DataFrame which\n",
    "                will be used as the label/target. This will be passed\n",
    "                to the feature_label_split() function.\n",
    "            \n",
    "            pos_class: List of class labels to be converted into\n",
    "                the postive class. This will be passed to the\n",
    "                binarize_classes() function.\n",
    "                \n",
    "            neg_class: List of class labels to be converted into the \n",
    "                negative class. This will be passed to the\n",
    "                binarize_classes() function.\n",
    "            \n",
    "            seed: The seed used when splitting data into train, \n",
    "                validation, and test. This will be passed to the\n",
    "                train_valid_test_split() function.\n",
    "            \n",
    "            return_array: A boolean which when True will return all data as NumPy\n",
    "                arrays instead of Pandas DataFrames.\n",
    "            \n",
    "            drop_features: List of feature names in the passed\n",
    "                DataFrame that will be dropped\n",
    "    \"\"\"\n",
    "    # Drop any features we don't want\n",
    "    if drop_features is not None:\n",
    "        df = df.drop(drop_features, axis=1)\n",
    "    \n",
    "    # Turn problem into a binary classification problem\n",
    "    df = binarize_classes(df, pos_class, neg_class)\n",
    "    # Apply feature and label splitting\n",
    "    X, y = feature_label_split(df, label_name=label_name)\n",
    "    # Apply train, validation and test set splitting\n",
    "    data = train_valid_test_split(X, y, seed=seed)\n",
    "    X_trn, y_trn, X_vld, y_vld, X_tst, y_tst = data\n",
    "    # Feature cleaning\n",
    "    X_trn, X_vld, X_tst = feature_pipeline(X_trn, X_vld, X_tst)\n",
    "    \n",
    "    # Store names of features used \n",
    "    feature_names = X_trn.columns\n",
    "\n",
    "    # Resets the Pandas index for the Dataframe and series\n",
    "    # This will prevent any headaches when combining or indexing\n",
    "    # our train, validation, and test data in the future.\n",
    "    X_trn.reset_index(inplace=True, drop=True)\n",
    "    y_trn.reset_index(inplace=True, drop=True)\n",
    "    X_vld.reset_index(inplace=True, drop=True)\n",
    "    y_vld.reset_index(inplace=True, drop=True)\n",
    "    X_tst.reset_index(inplace=True, drop=True)\n",
    "    y_tst.reset_index(inplace=True, drop=True)\n",
    "        \n",
    "    # Return data as arrays instead of DataFrames\n",
    "    if return_array:\n",
    "        X_trn, y_trn, X_vld, y_vld, X_tst, y_tst = (X_trn.values, \n",
    "                                                    y_trn.values, \n",
    "                                                    X_vld.values, \n",
    "                                                    y_vld.values, \n",
    "                                                    X_tst.values, \n",
    "                                                    y_tst.values)\n",
    "                               \n",
    "    \n",
    "    return X_trn, y_trn, X_vld, y_vld, X_tst, y_tst, feature_names"
   ]
  },
  {
   "cell_type": "markdown",
   "metadata": {
    "id": "rQjP1k4tXHDN"
   },
   "source": [
    "#### TODO 7\n",
    "Complete the TODO by practicing calling the `data_prep()` function using different arguments.\n",
    "\n",
    "**Before attempting this TODO, read through the documentation of `data_prep()` in the above code cell. You need to understand what each  argument means in order to complete this and coming TODOs!!!**\n",
    "\n",
    "1. Call the `data_prep()` function to return the data as NumPy arrays and formated as a setosa-vs-all classification problem. To do so, pass the arguments corresponding to the following descriptions:\n",
    "    1. Pass the Iris dataset.\n",
    "    1. Set setosa as the positive class.\n",
    "    1. Set versicolor and virginica to represent the negative class.\n",
    "    1. Set the column 'class' to act as the labels/targets.\n",
    "    1. Return all data as NumPy arrays.\n",
    "    \n",
    "1. Call the `data_prep()` function to return the data as DataFrames and formated as a setosa-vs-versicolor  classification problem where the sepal length and width features are dropped. To do so, pass the arguments corresponding to the following descriptions:\n",
    "    1. Pass the Iris dataset.\n",
    "    1. Set setosa as the positive class.\n",
    "    1. Set versicolor as the negative class.\n",
    "    1. Set the column 'class' to act as the labels/targets.\n",
    "    1. Drop the 'sepal length' and 'sepal width' features."
   ]
  },
  {
   "cell_type": "code",
   "execution_count": 95,
   "metadata": {
    "id": "Q5uvpqMGXHDN",
    "outputId": "0cda5a80-df3c-44d3-ba1e-ec9fd3a3bc55"
   },
   "outputs": [
    {
     "ename": "IndexError",
     "evalue": "only integers, slices (`:`), ellipsis (`...`), numpy.newaxis (`None`) and integer or boolean arrays are valid indices",
     "output_type": "error",
     "traceback": [
      "\u001b[0;31m---------------------------------------------------------------------------\u001b[0m",
      "\u001b[0;31mIndexError\u001b[0m                                Traceback (most recent call last)",
      "\u001b[0;32m<ipython-input-95-c666535286ad>\u001b[0m in \u001b[0;36m<module>\u001b[0;34m\u001b[0m\n\u001b[1;32m     18\u001b[0m     ])\n\u001b[1;32m     19\u001b[0m \u001b[0;34m\u001b[0m\u001b[0m\n\u001b[0;32m---> 20\u001b[0;31m \u001b[0mTEST_setosa_vs_all\u001b[0m\u001b[0;34m(\u001b[0m\u001b[0;34m)\u001b[0m\u001b[0;34m\u001b[0m\u001b[0;34m\u001b[0m\u001b[0m\n\u001b[0m\u001b[1;32m     21\u001b[0m \u001b[0mTEST_setosa_vs_all\u001b[0m\u001b[0;34m(\u001b[0m\u001b[0;34m)\u001b[0m\u001b[0;34m\u001b[0m\u001b[0;34m\u001b[0m\u001b[0m\n\u001b[1;32m     22\u001b[0m \u001b[0mgarbage_collect\u001b[0m\u001b[0;34m(\u001b[0m\u001b[0;34m[\u001b[0m\u001b[0;34m'TEST_setosa_vs_all'\u001b[0m\u001b[0;34m]\u001b[0m\u001b[0;34m)\u001b[0m\u001b[0;34m\u001b[0m\u001b[0;34m\u001b[0m\u001b[0m\n",
      "\u001b[0;32m<ipython-input-95-c666535286ad>\u001b[0m in \u001b[0;36mTEST_setosa_vs_all\u001b[0;34m()\u001b[0m\n\u001b[1;32m      1\u001b[0m \u001b[0;32mdef\u001b[0m \u001b[0mTEST_setosa_vs_all\u001b[0m\u001b[0;34m(\u001b[0m\u001b[0;34m)\u001b[0m\u001b[0;34m:\u001b[0m\u001b[0;34m\u001b[0m\u001b[0;34m\u001b[0m\u001b[0m\n\u001b[1;32m      2\u001b[0m     \u001b[0;31m# TODO 7.1\u001b[0m\u001b[0;34m\u001b[0m\u001b[0;34m\u001b[0m\u001b[0;34m\u001b[0m\u001b[0m\n\u001b[0;32m----> 3\u001b[0;31m     \u001b[0mdata\u001b[0m \u001b[0;34m=\u001b[0m \u001b[0mdata_prep\u001b[0m\u001b[0;34m(\u001b[0m\u001b[0miris\u001b[0m\u001b[0;34m.\u001b[0m\u001b[0mdata\u001b[0m\u001b[0;34m,\u001b[0m \u001b[0mpos_class\u001b[0m\u001b[0;34m=\u001b[0m\u001b[0;34m[\u001b[0m\u001b[0;34m'setosa'\u001b[0m\u001b[0;34m]\u001b[0m\u001b[0;34m,\u001b[0m \u001b[0mneg_class\u001b[0m\u001b[0;34m=\u001b[0m\u001b[0;34m[\u001b[0m\u001b[0;34m'versicolor'\u001b[0m\u001b[0;34m,\u001b[0m \u001b[0;34m'virginica'\u001b[0m\u001b[0;34m]\u001b[0m\u001b[0;34m,\u001b[0m \u001b[0mlabel_name\u001b[0m\u001b[0;34m=\u001b[0m\u001b[0;34m'class'\u001b[0m\u001b[0;34m,\u001b[0m \u001b[0mreturn_array\u001b[0m\u001b[0;34m=\u001b[0m\u001b[0;32mTrue\u001b[0m\u001b[0;34m)\u001b[0m\u001b[0;34m\u001b[0m\u001b[0;34m\u001b[0m\u001b[0m\n\u001b[0m\u001b[1;32m      4\u001b[0m     \u001b[0mX_trn\u001b[0m\u001b[0;34m,\u001b[0m \u001b[0my_trn\u001b[0m\u001b[0;34m,\u001b[0m \u001b[0mX_vld\u001b[0m\u001b[0;34m,\u001b[0m \u001b[0my_vld\u001b[0m\u001b[0;34m,\u001b[0m \u001b[0mX_tst\u001b[0m\u001b[0;34m,\u001b[0m \u001b[0my_tst\u001b[0m\u001b[0;34m,\u001b[0m \u001b[0m_\u001b[0m \u001b[0;34m=\u001b[0m \u001b[0mdata\u001b[0m\u001b[0;34m\u001b[0m\u001b[0;34m\u001b[0m\u001b[0m\n\u001b[1;32m      5\u001b[0m \u001b[0;34m\u001b[0m\u001b[0m\n",
      "\u001b[0;32m<ipython-input-57-5f24b1c0c90f>\u001b[0m in \u001b[0;36mdata_prep\u001b[0;34m(df, label_name, pos_class, neg_class, seed, return_array, drop_features)\u001b[0m\n\u001b[1;32m     43\u001b[0m \u001b[0;34m\u001b[0m\u001b[0m\n\u001b[1;32m     44\u001b[0m     \u001b[0;31m# Turn problem into a binary classification problem\u001b[0m\u001b[0;34m\u001b[0m\u001b[0;34m\u001b[0m\u001b[0;34m\u001b[0m\u001b[0m\n\u001b[0;32m---> 45\u001b[0;31m     \u001b[0mdf\u001b[0m \u001b[0;34m=\u001b[0m \u001b[0mbinarize_classes\u001b[0m\u001b[0;34m(\u001b[0m\u001b[0mdf\u001b[0m\u001b[0;34m,\u001b[0m \u001b[0mpos_class\u001b[0m\u001b[0;34m,\u001b[0m \u001b[0mneg_class\u001b[0m\u001b[0;34m)\u001b[0m\u001b[0;34m\u001b[0m\u001b[0;34m\u001b[0m\u001b[0m\n\u001b[0m\u001b[1;32m     46\u001b[0m     \u001b[0;31m# Apply feature and label splitting\u001b[0m\u001b[0;34m\u001b[0m\u001b[0;34m\u001b[0m\u001b[0;34m\u001b[0m\u001b[0m\n\u001b[1;32m     47\u001b[0m     \u001b[0mX\u001b[0m\u001b[0;34m,\u001b[0m \u001b[0my\u001b[0m \u001b[0;34m=\u001b[0m \u001b[0mfeature_label_split\u001b[0m\u001b[0;34m(\u001b[0m\u001b[0mdf\u001b[0m\u001b[0;34m,\u001b[0m \u001b[0mlabel_name\u001b[0m\u001b[0;34m=\u001b[0m\u001b[0mlabel_name\u001b[0m\u001b[0;34m)\u001b[0m\u001b[0;34m\u001b[0m\u001b[0;34m\u001b[0m\u001b[0m\n",
      "\u001b[0;32m<ipython-input-45-dc01570f3b62>\u001b[0m in \u001b[0;36mbinarize_classes\u001b[0;34m(iris_df, pos_class, neg_class)\u001b[0m\n\u001b[1;32m     21\u001b[0m     \"\"\"\n\u001b[1;32m     22\u001b[0m     \u001b[0;31m# TODO 5.1\u001b[0m\u001b[0;34m\u001b[0m\u001b[0;34m\u001b[0m\u001b[0;34m\u001b[0m\u001b[0m\n\u001b[0;32m---> 23\u001b[0;31m     \u001b[0mlabels\u001b[0m \u001b[0;34m=\u001b[0m \u001b[0miris_df\u001b[0m\u001b[0;34m[\u001b[0m\u001b[0;34m'class'\u001b[0m\u001b[0;34m]\u001b[0m\u001b[0;34m\u001b[0m\u001b[0;34m\u001b[0m\u001b[0m\n\u001b[0m\u001b[1;32m     24\u001b[0m     \u001b[0;31m# TODO 5.2\u001b[0m\u001b[0;34m\u001b[0m\u001b[0;34m\u001b[0m\u001b[0;34m\u001b[0m\u001b[0m\n\u001b[1;32m     25\u001b[0m     \u001b[0mpos_locs\u001b[0m \u001b[0;34m=\u001b[0m \u001b[0miris_df\u001b[0m\u001b[0;34m[\u001b[0m\u001b[0;34m'class'\u001b[0m\u001b[0;34m]\u001b[0m\u001b[0;34m.\u001b[0m\u001b[0misin\u001b[0m\u001b[0;34m(\u001b[0m\u001b[0mpos_class\u001b[0m\u001b[0;34m)\u001b[0m\u001b[0;34m\u001b[0m\u001b[0;34m\u001b[0m\u001b[0m\n",
      "\u001b[0;31mIndexError\u001b[0m: only integers, slices (`:`), ellipsis (`...`), numpy.newaxis (`None`) and integer or boolean arrays are valid indices"
     ]
    }
   ],
   "source": [
    "def TEST_setosa_vs_all():    \n",
    "    # TODO 7.1\n",
    "    data = data_prep(iris.data, pos_class=['setosa'], neg_class=['versicolor', 'virginica'], label_name='class', return_array=True)\n",
    "    X_trn, y_trn, X_vld, y_vld, X_tst, y_tst, _ = data\n",
    "\n",
    "    print(f\"X_trn type: {type(X_trn)}\")\n",
    "    print(f\"X_trn shape: {X_trn.shape}\")\n",
    "    print(f\"y_trn shape: {y_trn.shape}\")\n",
    "    print(f\"X_vld shape: {X_vld.shape}\")\n",
    "    print(f\"y_vld shape: {y_vld.shape}\")\n",
    "    print(f\"X_tst shape: {X_tst.shape}\")\n",
    "    print(f\"y_tst shape: {y_tst.shape}\")\n",
    "\n",
    "    todo_check([\n",
    "        (type(X_trn) is np.ndarray, \"'X_trn' is not type np.ndarray\"),\n",
    "        (type(y_tst) is np.ndarray,\"'y_tst' is not type np.ndarray\"),\n",
    "        (np.all(np.isclose(np.unique(y_trn).flatten(), [-1, 1])), \"'y_trn' does not have class labels [-1, 1]\")\n",
    "    ])\n",
    "    \n",
    "TEST_setosa_vs_all()\n",
    "TEST_setosa_vs_all()\n",
    "garbage_collect(['TEST_setosa_vs_all'])"
   ]
  },
  {
   "cell_type": "code",
   "execution_count": 69,
   "metadata": {
    "id": "iZcKWEFfXHDO",
    "outputId": "38ce0948-96b2-4131-a24c-2370468253f8"
   },
   "outputs": [
    {
     "ename": "ValueError",
     "evalue": "With n_samples=0, test_size=0.2 and train_size=None, the resulting train set will be empty. Adjust any of the aforementioned parameters.",
     "output_type": "error",
     "traceback": [
      "\u001b[0;31m---------------------------------------------------------------------------\u001b[0m",
      "\u001b[0;31mValueError\u001b[0m                                Traceback (most recent call last)",
      "\u001b[0;32m<ipython-input-69-8eef82b5d299>\u001b[0m in \u001b[0;36m<module>\u001b[0;34m\u001b[0m\n\u001b[1;32m     12\u001b[0m     ])\n\u001b[1;32m     13\u001b[0m \u001b[0;34m\u001b[0m\u001b[0m\n\u001b[0;32m---> 14\u001b[0;31m \u001b[0mTEST_setosa_vs_versicolor\u001b[0m\u001b[0;34m(\u001b[0m\u001b[0;34m)\u001b[0m\u001b[0;34m\u001b[0m\u001b[0;34m\u001b[0m\u001b[0m\n\u001b[0m\u001b[1;32m     15\u001b[0m \u001b[0mgarbage_collect\u001b[0m\u001b[0;34m(\u001b[0m\u001b[0;34m[\u001b[0m\u001b[0;34m'TEST_setosa_vs_versicolor'\u001b[0m\u001b[0;34m]\u001b[0m\u001b[0;34m)\u001b[0m\u001b[0;34m\u001b[0m\u001b[0;34m\u001b[0m\u001b[0m\n",
      "\u001b[0;32m<ipython-input-69-8eef82b5d299>\u001b[0m in \u001b[0;36mTEST_setosa_vs_versicolor\u001b[0;34m()\u001b[0m\n\u001b[1;32m      1\u001b[0m \u001b[0;32mdef\u001b[0m \u001b[0mTEST_setosa_vs_versicolor\u001b[0m\u001b[0;34m(\u001b[0m\u001b[0;34m)\u001b[0m\u001b[0;34m:\u001b[0m\u001b[0;34m\u001b[0m\u001b[0;34m\u001b[0m\u001b[0m\n\u001b[1;32m      2\u001b[0m     \u001b[0;31m# TODO 7.2\u001b[0m\u001b[0;34m\u001b[0m\u001b[0;34m\u001b[0m\u001b[0;34m\u001b[0m\u001b[0m\n\u001b[0;32m----> 3\u001b[0;31m     \u001b[0mdata\u001b[0m \u001b[0;34m=\u001b[0m \u001b[0mdata_prep\u001b[0m\u001b[0;34m(\u001b[0m\u001b[0miris_df\u001b[0m\u001b[0;34m,\u001b[0m \u001b[0mpos_class\u001b[0m\u001b[0;34m=\u001b[0m\u001b[0;34m[\u001b[0m\u001b[0;34m'setosa'\u001b[0m\u001b[0;34m]\u001b[0m\u001b[0;34m,\u001b[0m \u001b[0mneg_class\u001b[0m\u001b[0;34m=\u001b[0m\u001b[0;34m[\u001b[0m\u001b[0;34m'versicolor'\u001b[0m\u001b[0;34m]\u001b[0m\u001b[0;34m,\u001b[0m \u001b[0mlabel_name\u001b[0m\u001b[0;34m=\u001b[0m\u001b[0;34m'class'\u001b[0m\u001b[0;34m,\u001b[0m \u001b[0mreturn_array\u001b[0m\u001b[0;34m=\u001b[0m\u001b[0;32mFalse\u001b[0m\u001b[0;34m,\u001b[0m \u001b[0mdrop_features\u001b[0m\u001b[0;34m=\u001b[0m\u001b[0;34m[\u001b[0m\u001b[0;34m'sepal length'\u001b[0m\u001b[0;34m,\u001b[0m \u001b[0;34m'sepal width'\u001b[0m\u001b[0;34m]\u001b[0m\u001b[0;34m)\u001b[0m\u001b[0;34m\u001b[0m\u001b[0;34m\u001b[0m\u001b[0m\n\u001b[0m\u001b[1;32m      4\u001b[0m     \u001b[0mX_trn\u001b[0m\u001b[0;34m,\u001b[0m \u001b[0my_trn\u001b[0m\u001b[0;34m,\u001b[0m \u001b[0mX_vld\u001b[0m\u001b[0;34m,\u001b[0m \u001b[0my_vld\u001b[0m\u001b[0;34m,\u001b[0m \u001b[0mX_tst\u001b[0m\u001b[0;34m,\u001b[0m \u001b[0my_tst\u001b[0m\u001b[0;34m,\u001b[0m \u001b[0m_\u001b[0m \u001b[0;34m=\u001b[0m \u001b[0mdata\u001b[0m\u001b[0;34m\u001b[0m\u001b[0;34m\u001b[0m\u001b[0m\n\u001b[1;32m      5\u001b[0m     \u001b[0mprint\u001b[0m\u001b[0;34m(\u001b[0m\u001b[0;34mf\"Columns in X_trn:\\n\\t{list(X_trn.columns)}\"\u001b[0m\u001b[0;34m)\u001b[0m\u001b[0;34m\u001b[0m\u001b[0;34m\u001b[0m\u001b[0m\n",
      "\u001b[0;32m<ipython-input-57-5f24b1c0c90f>\u001b[0m in \u001b[0;36mdata_prep\u001b[0;34m(df, label_name, pos_class, neg_class, seed, return_array, drop_features)\u001b[0m\n\u001b[1;32m     47\u001b[0m     \u001b[0mX\u001b[0m\u001b[0;34m,\u001b[0m \u001b[0my\u001b[0m \u001b[0;34m=\u001b[0m \u001b[0mfeature_label_split\u001b[0m\u001b[0;34m(\u001b[0m\u001b[0mdf\u001b[0m\u001b[0;34m,\u001b[0m \u001b[0mlabel_name\u001b[0m\u001b[0;34m=\u001b[0m\u001b[0mlabel_name\u001b[0m\u001b[0;34m)\u001b[0m\u001b[0;34m\u001b[0m\u001b[0;34m\u001b[0m\u001b[0m\n\u001b[1;32m     48\u001b[0m     \u001b[0;31m# Apply train, validation and test set splitting\u001b[0m\u001b[0;34m\u001b[0m\u001b[0;34m\u001b[0m\u001b[0;34m\u001b[0m\u001b[0m\n\u001b[0;32m---> 49\u001b[0;31m     \u001b[0mdata\u001b[0m \u001b[0;34m=\u001b[0m \u001b[0mtrain_valid_test_split\u001b[0m\u001b[0;34m(\u001b[0m\u001b[0mX\u001b[0m\u001b[0;34m,\u001b[0m \u001b[0my\u001b[0m\u001b[0;34m,\u001b[0m \u001b[0mseed\u001b[0m\u001b[0;34m=\u001b[0m\u001b[0mseed\u001b[0m\u001b[0;34m)\u001b[0m\u001b[0;34m\u001b[0m\u001b[0;34m\u001b[0m\u001b[0m\n\u001b[0m\u001b[1;32m     50\u001b[0m     \u001b[0mX_trn\u001b[0m\u001b[0;34m,\u001b[0m \u001b[0my_trn\u001b[0m\u001b[0;34m,\u001b[0m \u001b[0mX_vld\u001b[0m\u001b[0;34m,\u001b[0m \u001b[0my_vld\u001b[0m\u001b[0;34m,\u001b[0m \u001b[0mX_tst\u001b[0m\u001b[0;34m,\u001b[0m \u001b[0my_tst\u001b[0m \u001b[0;34m=\u001b[0m \u001b[0mdata\u001b[0m\u001b[0;34m\u001b[0m\u001b[0;34m\u001b[0m\u001b[0m\n\u001b[1;32m     51\u001b[0m     \u001b[0;31m# Feature cleaning\u001b[0m\u001b[0;34m\u001b[0m\u001b[0;34m\u001b[0m\u001b[0;34m\u001b[0m\u001b[0m\n",
      "\u001b[0;32m<ipython-input-49-2c24de65f2f9>\u001b[0m in \u001b[0;36mtrain_valid_test_split\u001b[0;34m(X, y, test_size, seed)\u001b[0m\n\u001b[1;32m      2\u001b[0m \u001b[0;34m\u001b[0m\u001b[0m\n\u001b[1;32m      3\u001b[0m \u001b[0;32mdef\u001b[0m \u001b[0mtrain_valid_test_split\u001b[0m\u001b[0;34m(\u001b[0m\u001b[0mX\u001b[0m\u001b[0;34m,\u001b[0m \u001b[0my\u001b[0m\u001b[0;34m,\u001b[0m \u001b[0mtest_size\u001b[0m\u001b[0;34m=\u001b[0m\u001b[0;36m.2\u001b[0m\u001b[0;34m,\u001b[0m \u001b[0mseed\u001b[0m\u001b[0;34m=\u001b[0m\u001b[0;36m42\u001b[0m\u001b[0;34m)\u001b[0m\u001b[0;34m:\u001b[0m\u001b[0;34m\u001b[0m\u001b[0;34m\u001b[0m\u001b[0m\n\u001b[0;32m----> 4\u001b[0;31m     \u001b[0mX_trn\u001b[0m\u001b[0;34m,\u001b[0m \u001b[0mX_tst\u001b[0m\u001b[0;34m,\u001b[0m \u001b[0my_trn\u001b[0m\u001b[0;34m,\u001b[0m \u001b[0my_tst\u001b[0m \u001b[0;34m=\u001b[0m \u001b[0mtrain_test_split\u001b[0m\u001b[0;34m(\u001b[0m\u001b[0mX\u001b[0m\u001b[0;34m,\u001b[0m \u001b[0my\u001b[0m\u001b[0;34m,\u001b[0m \u001b[0mtest_size\u001b[0m\u001b[0;34m=\u001b[0m\u001b[0mtest_size\u001b[0m\u001b[0;34m,\u001b[0m \u001b[0mrandom_state\u001b[0m\u001b[0;34m=\u001b[0m\u001b[0mseed\u001b[0m\u001b[0;34m)\u001b[0m\u001b[0;34m\u001b[0m\u001b[0;34m\u001b[0m\u001b[0m\n\u001b[0m\u001b[1;32m      5\u001b[0m     \u001b[0mX_trn\u001b[0m\u001b[0;34m,\u001b[0m \u001b[0mX_vld\u001b[0m\u001b[0;34m,\u001b[0m \u001b[0my_trn\u001b[0m\u001b[0;34m,\u001b[0m \u001b[0my_vld\u001b[0m \u001b[0;34m=\u001b[0m \u001b[0mtrain_test_split\u001b[0m\u001b[0;34m(\u001b[0m\u001b[0mX_trn\u001b[0m\u001b[0;34m,\u001b[0m \u001b[0my_trn\u001b[0m\u001b[0;34m,\u001b[0m \u001b[0mtest_size\u001b[0m\u001b[0;34m=\u001b[0m\u001b[0mtest_size\u001b[0m\u001b[0;34m,\u001b[0m \u001b[0mrandom_state\u001b[0m\u001b[0;34m=\u001b[0m\u001b[0mseed\u001b[0m\u001b[0;34m)\u001b[0m\u001b[0;34m\u001b[0m\u001b[0;34m\u001b[0m\u001b[0m\n\u001b[1;32m      6\u001b[0m \u001b[0;34m\u001b[0m\u001b[0m\n",
      "\u001b[0;32m~/opt/anaconda3/lib/python3.8/site-packages/sklearn/model_selection/_split.py\u001b[0m in \u001b[0;36mtrain_test_split\u001b[0;34m(test_size, train_size, random_state, shuffle, stratify, *arrays)\u001b[0m\n\u001b[1;32m   2420\u001b[0m \u001b[0;34m\u001b[0m\u001b[0m\n\u001b[1;32m   2421\u001b[0m     \u001b[0mn_samples\u001b[0m \u001b[0;34m=\u001b[0m \u001b[0m_num_samples\u001b[0m\u001b[0;34m(\u001b[0m\u001b[0marrays\u001b[0m\u001b[0;34m[\u001b[0m\u001b[0;36m0\u001b[0m\u001b[0;34m]\u001b[0m\u001b[0;34m)\u001b[0m\u001b[0;34m\u001b[0m\u001b[0;34m\u001b[0m\u001b[0m\n\u001b[0;32m-> 2422\u001b[0;31m     n_train, n_test = _validate_shuffle_split(\n\u001b[0m\u001b[1;32m   2423\u001b[0m         \u001b[0mn_samples\u001b[0m\u001b[0;34m,\u001b[0m \u001b[0mtest_size\u001b[0m\u001b[0;34m,\u001b[0m \u001b[0mtrain_size\u001b[0m\u001b[0;34m,\u001b[0m \u001b[0mdefault_test_size\u001b[0m\u001b[0;34m=\u001b[0m\u001b[0;36m0.25\u001b[0m\u001b[0;34m\u001b[0m\u001b[0;34m\u001b[0m\u001b[0m\n\u001b[1;32m   2424\u001b[0m     )\n",
      "\u001b[0;32m~/opt/anaconda3/lib/python3.8/site-packages/sklearn/model_selection/_split.py\u001b[0m in \u001b[0;36m_validate_shuffle_split\u001b[0;34m(n_samples, test_size, train_size, default_test_size)\u001b[0m\n\u001b[1;32m   2096\u001b[0m \u001b[0;34m\u001b[0m\u001b[0m\n\u001b[1;32m   2097\u001b[0m     \u001b[0;32mif\u001b[0m \u001b[0mn_train\u001b[0m \u001b[0;34m==\u001b[0m \u001b[0;36m0\u001b[0m\u001b[0;34m:\u001b[0m\u001b[0;34m\u001b[0m\u001b[0;34m\u001b[0m\u001b[0m\n\u001b[0;32m-> 2098\u001b[0;31m         raise ValueError(\n\u001b[0m\u001b[1;32m   2099\u001b[0m             \u001b[0;34m\"With n_samples={}, test_size={} and train_size={}, the \"\u001b[0m\u001b[0;34m\u001b[0m\u001b[0;34m\u001b[0m\u001b[0m\n\u001b[1;32m   2100\u001b[0m             \u001b[0;34m\"resulting train set will be empty. Adjust any of the \"\u001b[0m\u001b[0;34m\u001b[0m\u001b[0;34m\u001b[0m\u001b[0m\n",
      "\u001b[0;31mValueError\u001b[0m: With n_samples=0, test_size=0.2 and train_size=None, the resulting train set will be empty. Adjust any of the aforementioned parameters."
     ]
    }
   ],
   "source": [
    "def TEST_setosa_vs_versicolor():\n",
    "    # TODO 7.2\n",
    "    data = data_prep(iris_df, pos_class=['setosa'], neg_class=['versicolor'], label_name='class', return_array=False, drop_features=['sepal length', 'sepal width'])\n",
    "    X_trn, y_trn, X_vld, y_vld, X_tst, y_tst, _ = data\n",
    "    print(f\"Columns in X_trn:\\n\\t{list(X_trn.columns)}\")\n",
    "\n",
    "    todo_check([\n",
    "        ('sepal width' not in X_trn.columns, \"Column 'sepal width' was not dropped!\"),\n",
    "        ('sepal length' not in X_trn.columns,\"Column 'sepal length' was not dropped!\"),\n",
    "        (type(X_trn) is pd.DataFrame, \"'X_trn' is not type pd.DataFrame\"),\n",
    "        (np.all(np.isclose(np.unique(y_trn).flatten(), [-1, 1])), \"'y_trn' does not have class labels [-1, 1]\"),\n",
    "    ])\n",
    "    \n",
    "TEST_setosa_vs_versicolor()\n",
    "garbage_collect(['TEST_setosa_vs_versicolor'])"
   ]
  },
  {
   "cell_type": "markdown",
   "metadata": {
    "id": "BDo2_we8XHDO"
   },
   "source": [
    "# Defining Classification Metrics and Plots\n",
    "\n",
    "Before we get to our algorithms, let's first define the metrics we'll be using to assess how well our models are classifying the data.\n"
   ]
  },
  {
   "cell_type": "markdown",
   "metadata": {
    "id": "8ozme9spXHDO"
   },
   "source": [
    "## Metrics\n",
    "\n",
    "Below let's define functions compute metrics such as accuracy, confusion matrix, precision, recall, and specificity which we covered in the notes."
   ]
  },
  {
   "cell_type": "markdown",
   "metadata": {
    "id": "ezeQ2SqpXHDO"
   },
   "source": [
    "### Accuracy\n",
    "\n",
    "Recall, the most naive and common performance metric for evaluating classification data is *accuracy*. Accuracy reports the percentage of data samples that were CORRECTLY classification.  That is, when there are 1000 labels to classify, if 950 are correctly classified, we can say our model achieved 95% accuracy: \n",
    "\n",
    "$$\n",
    "   \\text{Accuracy} = \\frac{\\text{The number of correct classification}}{\\text{The number of samples}}.\n",
    "$$\n"
   ]
  },
  {
   "cell_type": "markdown",
   "metadata": {
    "id": "eObsXHdKXHDO"
   },
   "source": [
    "#### TODO 8\n",
    "Complete the TODO by finishing the `accuracy()` function.\n",
    "1. Compute the total number of correct predictions by taking the `np.sum()` of the boolean array produced when comparing `y_hat` and `y` using `==` syntax. Store the output into `total_correct`.\n",
    "    1. Refer section on accuracy in the notes if you are confused as it shows you how to do this exactly!\n",
    "1. Get the total number of data samples using `y` (or `y_hat`). Store the output into `total_samples`.\n",
    "1. Return the accuracy score by dividing the total number of correctly classified data samples by the total number of data samples."
   ]
  },
  {
   "cell_type": "code",
   "execution_count": 70,
   "metadata": {
    "id": "FA9YEeycXHDP"
   },
   "outputs": [],
   "source": [
    "def accuracy(y, y_hat):\n",
    "    # TODO 8.1\n",
    "    total_correct = np.sum(y == y_hat)\n",
    "    # TODO 8.2\n",
    "    total_samples = len(y)\n",
    "    print(f\"Accuracy ratio: {total_correct}/{total_samples}\")\n",
    "    # TODO 8.3\n",
    "    return total_correct / total_samples"
   ]
  },
  {
   "cell_type": "markdown",
   "metadata": {
    "id": "Rp5iuJ53XHDP"
   },
   "source": [
    "Run the `TEST_accuracy()` function to test your implementation of the `accuracy()` function"
   ]
  },
  {
   "cell_type": "code",
   "execution_count": 71,
   "metadata": {
    "id": "09q8k1zJXHDP",
    "outputId": "eba464c0-149e-4ce2-889e-7817cdf69193"
   },
   "outputs": [
    {
     "name": "stdout",
     "output_type": "stream",
     "text": [
      "Accuracy ratio: 90/100\n",
      "Accuracy is: 0.9\n",
      "Your code PASSED the code check!\n"
     ]
    }
   ],
   "source": [
    "def TEST_accuracy():\n",
    "    dummy_y = np.ones([100, 1])\n",
    "    dummy_y_hat = np.ones([100, 1])\n",
    "    dummy_y_hat[90:] = -1\n",
    "\n",
    "    dummy_acc = accuracy(dummy_y_hat, dummy_y)\n",
    "    print(f\"Accuracy is: {dummy_acc}\")\n",
    "    \n",
    "    todo_check([\n",
    "        (dummy_acc == .9, \"Incorrect accuracy value\")\n",
    "    ])\n",
    "    \n",
    "TEST_accuracy()\n",
    "garbage_collect(['TEST_accuracy'])"
   ]
  },
  {
   "cell_type": "markdown",
   "metadata": {
    "id": "7Y1EXaZZXHDP"
   },
   "source": [
    "### Confusion Matrix\n",
    "\n",
    "<img src=\"http://www.andrewgurung.com/wp-content/uploads/2018/12/confusion_matrix.png\" width=500 height=500>\n",
    "\n",
    "Recall from the notes that the above image is an example of a confusion matrix. A confusion matrix visualizes the performance of a model. Each row of the matrix represents the actual class value while each column represents the predicted class values (i.e., ground truth).\n",
    "\n",
    "In the binary classification case, a confusion matrix has 4 cells and one class is referred to as the negative class and the other is referred to as the positive class.The negative class is typically the class  with the label 0 or -1. The positive class is typically the class  with the label 1.\n",
    "\n",
    "- True Negatives (TN): This is the number *negative* class samples that were correctly classified.\n",
    "\n",
    "- True Positive (TP): This is the number of *positive* class samples that were correctly classified.\n",
    "\n",
    "- False Positive (FP): These are the number of *negative* class samples that were classified or predicted to be *positive* samples.\n",
    "\n",
    "- False Negatives (FN): This is the number of *positive* class samples that were classified or predicted to be *negative* samples.\n"
   ]
  },
  {
   "cell_type": "markdown",
   "metadata": {
    "id": "n3N64QMsXHDP"
   },
   "source": [
    "Below we define the `plot_confusion_matrix()` function which simply computes a confusion matrix using Sklearn's `confusion_matrix()` function and then displays said confusion matrix using Seaborn."
   ]
  },
  {
   "cell_type": "code",
   "execution_count": 72,
   "metadata": {
    "id": "wfZ1SroIXHDP"
   },
   "outputs": [],
   "source": [
    "from sklearn.metrics import  confusion_matrix\n",
    "\n",
    "def plot_confusion_matrix(y, y_hat, class_name_key=None):\n",
    "    cfm = confusion_matrix(y_true=y, y_pred=y_hat)\n",
    "    \n",
    "    labels = np.sort(np.unique(y))\n",
    "    if class_name_key is not None:\n",
    "        classes = []\n",
    "        for l in labels:\n",
    "            class_name = class_name_key.get(l, l)\n",
    "            classes.append(class_name)\n",
    "        labels = classes\n",
    "        \n",
    "    columns, index = labels, labels\n",
    "    cfm_df = pd.DataFrame(cfm, index=index, columns=columns)\n",
    "    sns.heatmap(cfm_df, annot=True)\n",
    "    plt.xlabel('Predicted', fontsize=14)\n",
    "    plt.ylabel('Actual', fontsize=14)\n",
    "    return cfm.flatten()"
   ]
  },
  {
   "cell_type": "markdown",
   "metadata": {
    "id": "WNq43MtiXHDQ"
   },
   "source": [
    "The `TEST_plot_confusion_matrix()` function is an example of how to run the `plot_confusion_matrix()` and its output. As we can see using our dummy generated data we have 50 true positives and 50 false positives."
   ]
  },
  {
   "cell_type": "code",
   "execution_count": 73,
   "metadata": {
    "id": "BaYDRl86XHDQ",
    "outputId": "df7be661-0c4d-42a6-e027-8e2e63672967"
   },
   "outputs": [
    {
     "data": {
      "image/png": "[encoded data removed]",
      "text/plain": [
       "<Figure size 432x288 with 2 Axes>"
      ]
     },
     "metadata": {
      "needs_background": "light"
     },
     "output_type": "display_data"
    }
   ],
   "source": [
    "def TEST_plot_confusion_matrix():   \n",
    "    dummy_y = np.ones([100, 1])\n",
    "    dummy_y[len(dummy_y)//2:] = -1\n",
    "    dummy_y_hat = np.ones([100, 1])\n",
    "\n",
    "    class_name_key = {\n",
    "        -1: 'negative',\n",
    "        1: 'positive'\n",
    "    }\n",
    "\n",
    "    plot_confusion_matrix(\n",
    "        y=dummy_y, \n",
    "        y_hat=dummy_y_hat, \n",
    "        class_name_key=class_name_key\n",
    "    );\n",
    "    \n",
    "TEST_plot_confusion_matrix()\n",
    "garbage_collect(['TEST_plot_confusion_matrix'])"
   ]
  },
  {
   "cell_type": "markdown",
   "metadata": {
    "id": "qACPk3aLXHDQ"
   },
   "source": [
    "### Defining PPV/precision \n",
    "Using the confusion matrix we can compute new metrics such as \n",
    "*positive predictive value* (PPV), also called *precision*. Recall PPV computes the accuracy for the positive predictions. In other words, PPV computes the ratio between the positive predictions that were correct over the total number of positive predictions made.\n",
    "\n",
    "$$\n",
    "\\text{PPV} = \\frac{\\text{TP}}{\\text{TP} + \\text{FP}}\n",
    "$$"
   ]
  },
  {
   "cell_type": "markdown",
   "metadata": {
    "id": "ZQI7jaQWXHDQ"
   },
   "source": [
    "#### TODO 9\n",
    "Complete the TODO function by converting the PPV equation into code so that we can compute the PPV score for our data later on.\n",
    "\n",
    "1. Compute and return the PPV score using the above PPV equation. Recall, `tp` stands for true positive and `fp` stands for false positive. "
   ]
  },
  {
   "cell_type": "code",
   "execution_count": 76,
   "metadata": {
    "id": "LPlvcB5jXHDQ"
   },
   "outputs": [],
   "source": [
    "def ppv(tp, fp):\n",
    "    # TODO 9.1\n",
    "    return tp / (tp + fp)"
   ]
  },
  {
   "cell_type": "markdown",
   "metadata": {
    "id": "hfZNqFG1XHDQ"
   },
   "source": [
    "Run the below `TEST_ppv()` function to test your `ppv()` function."
   ]
  },
  {
   "cell_type": "code",
   "execution_count": 77,
   "metadata": {
    "id": "SDe6rB_RXHDR",
    "outputId": "608342f2-c7a1-4855-94c5-27e3513a00cf"
   },
   "outputs": [
    {
     "name": "stdout",
     "output_type": "stream",
     "text": [
      "Your code PASSED the code check!\n"
     ]
    }
   ],
   "source": [
    "def TEST_ppv():\n",
    "    ppv_score = ppv(tp=100, fp=3)\n",
    "\n",
    "    todo_check([\n",
    "        (np.isclose(ppv_score, 0.9708, rtol=.01), \"ppv_score is incorrect\")\n",
    "    ])\n",
    "    \n",
    "TEST_ppv()\n",
    "garbage_collect(['TEST_ppv'])"
   ]
  },
  {
   "cell_type": "markdown",
   "metadata": {
    "id": "2M5ZcQIzXHDR"
   },
   "source": [
    "### Defining TPR/recall \n",
    "\n",
    "Using the confusion matrix we can compute new metrics such as *true positive rate* (TPR), also called *sensitivity* or *recall*. Recall TPR computes the ratio between the number of positive predictions that were correct over the total number of actual (i.e., *true*) positive class samples. This is a good measure to use for imbalanced datasets if your positive class is the minority class (i.e., the positive class has fewer data samples than the negative class)!\n",
    "\n",
    "$$\n",
    "\\text{TPR} = \\frac{\\text{TP}}{\\text{TP} + \\text{FN}}\n",
    "$$"
   ]
  },
  {
   "cell_type": "markdown",
   "metadata": {
    "id": "Zm62Adr_XHDR"
   },
   "source": [
    "#### TODO 10\n",
    "Complete the TODO function by converting the TPR equation into code so that we can compute the TPR score for our data later on.\n",
    "\n",
    "1. Compute and return the TPR score using the above TPR equation. Recall, `tp` stands \n",
    "for true positive and `fn` stands for false negative. "
   ]
  },
  {
   "cell_type": "code",
   "execution_count": 74,
   "metadata": {
    "id": "HrFV8ckCXHDR"
   },
   "outputs": [],
   "source": [
    "def tpr(tp, fn):\n",
    "    # TODO 10.1\n",
    "    return tp / (tp + fn)"
   ]
  },
  {
   "cell_type": "markdown",
   "metadata": {
    "id": "YysbqUpXXHDR"
   },
   "source": [
    "Run the below `TEST_tpr()` function to test your `tpr()` function."
   ]
  },
  {
   "cell_type": "code",
   "execution_count": 92,
   "metadata": {
    "id": "QuVKoxmDXHDR",
    "outputId": "887af692-7f97-4a81-e790-bcf03885d528"
   },
   "outputs": [
    {
     "name": "stdout",
     "output_type": "stream",
     "text": [
      "Your code PASSED the code check!\n"
     ]
    }
   ],
   "source": [
    "def TEST_tpr():\n",
    "    tpr_score = tpr(tp=100, fn=1)\n",
    "\n",
    "    todo_check([\n",
    "        (np.isclose(tpr_score,  0.99009, rtol=.01), \"tpr_score is incorrect\")\n",
    "    ])\n",
    "    \n",
    "TEST_tpr()\n",
    "garbage_collect(['TEST_tpr'])"
   ]
  },
  {
   "cell_type": "markdown",
   "metadata": {
    "id": "-roj6AE1XHDS"
   },
   "source": [
    "### Defining TNR/specificity \n",
    "\n",
    "Using the confusion matrix we can compute new metrics such as *true negative rate (TNR)*, also called *specificity*. Recall, TNR computes the accuracy of negative predictions. In other words, TNR computes the ratio between the number of negative predictions that were correct over the total number of actual (i.e., *true*) negative class samples. This is a good measure to use for imbalanced datasets if your negative class is the minority class (i.e., the negative class has fewer data samples than the positive class)!\n",
    "\n",
    "$$\n",
    "\\text{TNR} = \\frac{\\text{TN}}{\\text{TN} + \\text{FP}}\n",
    "$$"
   ]
  },
  {
   "cell_type": "markdown",
   "metadata": {
    "id": "g7wFDFalXHDS"
   },
   "source": [
    "#### TODO 11\n",
    "Complete the TODO function by converting the TNR equation into code so that we can compute the TNR score for our data later on.\n",
    "\n",
    "1. Compute and return the TNR score using the above TNR equation. Recall, `tn` stands for true negative and `fp` stands for false positive. "
   ]
  },
  {
   "cell_type": "code",
   "execution_count": 78,
   "metadata": {
    "id": "Opbq9LxmXHDS"
   },
   "outputs": [],
   "source": [
    "def tnr(tn, fp):\n",
    "    # TODO 11.1\n",
    "    return tn / (tn + fp)"
   ]
  },
  {
   "cell_type": "markdown",
   "metadata": {
    "id": "hOePF7o1XHDS"
   },
   "source": [
    "Run the below `TEST_tnr()` function to test your `tnr()` function."
   ]
  },
  {
   "cell_type": "code",
   "execution_count": 79,
   "metadata": {
    "id": "86rAv83PXHDS",
    "outputId": "84e60899-df28-4243-aab7-7609b861a7ec"
   },
   "outputs": [
    {
     "name": "stdout",
     "output_type": "stream",
     "text": [
      "Your code PASSED the code check!\n"
     ]
    }
   ],
   "source": [
    "def TEST_tnr():    \n",
    "    tnr_score = tnr(tn=100, fp=40)\n",
    "\n",
    "    todo_check([\n",
    "        (np.isclose(tnr_score, 0.714285, rtol=.01), \"tnr_score is incorrect\")\n",
    "    ])\n",
    "    \n",
    "TEST_tnr()\n",
    "garbage_collect(['TEST_tnr'])"
   ]
  },
  {
   "cell_type": "markdown",
   "metadata": {
    "id": "yZHrI7-1XHDS"
   },
   "source": [
    "## Plots"
   ]
  },
  {
   "cell_type": "markdown",
   "metadata": {
    "id": "a7U7KVEeXHDT"
   },
   "source": [
    "Below we define a simple plot that plots our predictions `y_hat` against the ground truth labels `y`. Prediction `y_hat` are plotted as using 'xr' and labels `y` are plotted using 'ob'. If a prediction and label match they will be plotted on top of one another.\n"
   ]
  },
  {
   "cell_type": "code",
   "execution_count": 80,
   "metadata": {
    "id": "XsxMBT4PXHDT"
   },
   "outputs": [],
   "source": [
    "def plot_preds_vs_true(\n",
    "    y: np.ndarray, \n",
    "    y_hat: np.ndarray, \n",
    "    title: str, \n",
    "    dataset: str,\n",
    "    xlabel: str = None,\n",
    "    ylabel: str = None\n",
    ") -> Tuple[np.ndarray, float, float, float]:\n",
    "\n",
    "    \n",
    "    plt.plot(y.reshape(-1,1), 'ob', label='y')\n",
    "    plt.plot(y_hat.reshape(-1,1), 'xr', label='y_hat')\n",
    "    \n",
    "    plt.title(title)\n",
    "    plt.xlabel(xlabel)\n",
    "    plt.ylabel(ylabel)\n",
    "    \n",
    "    plt.legend()\n",
    "    plt.show()"
   ]
  },
  {
   "cell_type": "markdown",
   "metadata": {
    "id": "jdJ5hGMaXHDT"
   },
   "source": [
    "Additionally, the below function simply plots the decision boundary for problems that have only three weights where one weight is for the bias, and the remaining two are for the two data features. If you have more than three weights (i.e., more than two features) this function will fail as we can't visualize higher dimensions."
   ]
  },
  {
   "cell_type": "code",
   "execution_count": 81,
   "metadata": {
    "id": "FD8uL5MMXHDT"
   },
   "outputs": [],
   "source": [
    "def plot_decision_boundry(\n",
    "    X, y, w,\n",
    "    class_name_key: dict=None,\n",
    "    title: str = '',\n",
    "    xlabel: str = '',\n",
    "    ylabel: str = '',\n",
    ") -> None:\n",
    "    if len(w) > 3:\n",
    "        raise ValueError(\"To plot boundary requires at most 3 weights\")\n",
    "        \n",
    "    # Create decision boundary\n",
    "    line_X = np.linspace(np.min(X[:, 1])-1, np.max(X[:, 1])+1, len(X)).reshape(-1,1)\n",
    "    slope = -(w[0] / w[2]) / (w[0] / w[1])\n",
    "    y_intercept = -w[0]/ w[2]\n",
    "    decision_boundry = slope * line_X + y_intercept\n",
    "    \n",
    "    # Find data samples for each class\n",
    "    neg = np.where(y == -1)[0]\n",
    "    pos = np.where(y == 1)[0]\n",
    "    \n",
    "    # set class name to dict if None\n",
    "    if class_name_key is None:\n",
    "        class_name_key = {}\n",
    "    # Get class names if the binary keys exist\n",
    "    pos_label = class_name_key.get(1, '1')\n",
    "    neg_label = class_name_key.get(-1, '-1')\n",
    "    # Plot\n",
    "    plt.plot(X[pos, 1], X[pos, 2], 'xr', label=pos_label)\n",
    "    plt.plot(X[neg, 1], X[neg, 2], 'ob', label=neg_label)\n",
    "    plt.plot(line_X, decision_boundry)\n",
    "    plt.ylim(np.min(X[:, 2])-1, np.max(X[:, 2])+1)\n",
    "    plt.xlim(np.min(X[:, 1])-1, np.max(X[:, 1])+1)\n",
    "    plt.title(title)\n",
    "    plt.xlabel(xlabel)\n",
    "    plt.ylabel(ylabel)\n",
    "    plt.legend()"
   ]
  },
  {
   "cell_type": "markdown",
   "metadata": {
    "id": "vNOxdxoEXHDT"
   },
   "source": [
    "#  Rosenblatt's Perceptron with pocket\n",
    "Let's now implement the perceptron with pocket algorithm. Recall from our notes that the perceptron algorithm predicts binary classes. The required targets for this algorithm are -1 and 1. This is because the algorithm classifies a data sample as the positive class (label = 1) if the value of the prediction is greater than 0. Likewise, the algorithm classifies a data sample as the negative class (label = -1) if the value of the prediction is less than or equal to zero. When the output is exactly zero we arbitrarily assign it the label -1, however this is usually rare.\n",
    "\n",
    "$$\n",
    "\\hat{y}=\\begin{cases}\n",
    "1  \\quad &\\text{if} \\, \\wv^\\top \\xv - T > 0 \\\\\n",
    "-1  \\quad &\\text{else} \\\\\n",
    "\\end{cases}\n",
    "$$\n",
    "\n",
    "Recall, Rosenblatt came up with the following **online learning** weight update rule <u>that is only applied to misclassified samples</u>:\n",
    "\n",
    "$$\n",
    "\\wv_{k+1} = \\wv_k + \\alpha y_i \\xv_i\n",
    "$$\n",
    "\n",
    "where in this equation:\n",
    "- $\\wv_{k+t}$ are our weights AFTER being updated. \n",
    "- $\\wv_{k}$ are our weights BEFORE being updated.\n",
    "- $k$ is just notation to help us distinguish the weights before being updated and $k+1$ is used to help us distinguish the weights after being updated.\n",
    "- $\\alpha$ is the learning rate\n",
    "- $y_i$ is the label for the current data sample\n",
    "- $\\xv_i$ is the current data sample's feature vector.\n",
    "- $i$ is just used to indicate which data sample we are currently using for the update.\n",
    "\n",
    "Further recall, one of the major downfalls of the perceptron is that if the data is non-separable then the learned weights simply correspond to the weights learned on the last epoch. The issue here is that these weights might not have actually been the best weights! Often times, the perceptron can diverge from a good solution that was found much earlier in training!\n",
    "\n",
    "The goal of the pocket algorithm is to make a small change to the perceptron such that it saves the best weights. What does \"best\" mean here? Well, best here is defined as the weights that produce the least number of misclassifed samples!\n"
   ]
  },
  {
   "cell_type": "markdown",
   "metadata": {
    "id": "XnWsAcPoXHDT"
   },
   "source": [
    "#### TODO 12\n",
    "Compete the TODO by finishing the `PocketPerceptron` class implementation. Remember, this is an **online algorithm** so we loop over one data sample at a time. **If you are having trouble, reference the shape outputs when running the test code below. Also, reference the notes for help!**\n",
    "\n",
    "\n",
    "**`fit()` TODOs**\n",
    "1. First, start by randomly initializing our weights `self.w`. To do so, use the `rng.rand()` function and pass the **number of features** in our data `X` as we have done in prior labs. Store the output into `self.w`\n",
    "\n",
    "2. Initialize the best weights `self.w_best` by creating a copy of `self.w`. To do so, call the `.copy()` method on `self.w` and store the output into `self.w_best`.\n",
    "\n",
    "3. Compute the continuous prediction `z` for the current data sample by computing the dot product between the weights `self.w` and the current data sample's features. \n",
    "    1. Hint: Remember `i` corresponds to the index of the current data sample. \n",
    "\n",
    "4. Convert the continuous prediction `z` to a discrete class label for the current data sample by taking the sign of `z`. To do so, use NumPy's `np.sign()` function. Store the output into `y_hat`.\n",
    "\n",
    "5. Check if the prediction `y_hat` was misclassified by writing an if-statement that checks if the current prediction `y_hat` **does not equal** the current data sample's label.\n",
    "    1. Hint: In python we use `!=` for not equal to.\n",
    "\n",
    "6. Compute the weight update for `self.w` by converting Rosenblatt's weight update equation $\\wv_{k+1} = \\wv_k + \\alpha y_i \\xv_i$ into code. Store the output into `self.w`.\n",
    "   "
   ]
  },
  {
   "cell_type": "markdown",
   "metadata": {
    "id": "PhvMh7zZXHDU"
   },
   "source": [
    "**`replace_best_weights()` TODOs**\n",
    "\n",
    "Determine which weights are performing the best by looking at which wights misclassify the least number of data samples.\n",
    "\n",
    "7. Compute the predicted class labels for **ALL** of the data `X` using the current weights `self.w`. Store the output into `preds_w`.  Once stored, reshape `preds_w` into a 2D array by using calling the `.reshape(-1, 1)` method and storing the output back into `preds_w`. This will prevent any future shape errors!\n",
    "\n",
    "8. Compute the predicted class labels for **ALL** of the data `X` using the current best weights `self.w_best`. Store the output into `preds_w_best`. Once stored, reshape `preds_w_best` into a 2D array by using calling the `.reshape(-1, 1)` method and storing the output back into `preds_w_best`. This will prevent any future shape errors!\n",
    "\n",
    "9. Compute the total number of correct predictions when using the `self.w` weights. Store the output into `total_corr_w`.\n",
    "    1. Refer section on accuracy in the notes and this lab if you are confused as it will show you how to do this exactly!\n",
    "\n",
    "10. Compute the total number of correct predictions when using the **best weights** `self.w_best`. Store the output into `total_corr_w_best`.\n",
    "    1. Refer section on accuracy in the notes and this lab if you are confused as it shows you how to do this exactly!\n",
    "\n",
    "**`predict()` TODOs**\n",
    "\n",
    "11. Compute the predicted labels by using the **best** weights `self.w_best` and return the output. Make sure to reshape the predictions into a 2D array by using `.reshape(-1, 1)` as we have done above. This will help prevent shape errors when comparing our predictions `y_hat` and labels `y`.\n",
    "    1. Hint: Remember to apply the sign function `np.sign()`."
   ]
  },
  {
   "cell_type": "code",
   "execution_count": null,
   "metadata": {
    "id": "70CE5wH6XHDU"
   },
   "outputs": [],
   "source": [
    "class PocketPerceptron():\n",
    "    def __init__(self, alpha=0.1, epochs=1, debug=False):\n",
    "        self.alpha = alpha\n",
    "        self.epochs = epochs\n",
    "        self.w = None\n",
    "        self.debug = debug\n",
    "    \n",
    "    def fit(self, X, y):\n",
    "        # Number of data samples\n",
    "        m_samples = X.shape[0]\n",
    "        \n",
    "        rng = np.random.RandomState(42)\n",
    "        # TODO 12.1\n",
    "        self.w = \n",
    "        \n",
    "        # TODO 12.2\n",
    "        self.w_best = \n",
    "        \n",
    "        if self.debug:\n",
    "            print(f\"X shape: {X.shape}\")\n",
    "            print(f\"y shape: {y.shape}\")\n",
    "            \n",
    "        # Loop over dataset multiple times\n",
    "        for e in range(self.epochs):\n",
    "            print(f\"Epoch {e+1}\")\n",
    "            misclassified = 0\n",
    "            # Loop over all samples\n",
    "            for i in range(m_samples):\n",
    "                \n",
    "                if self.debug: \n",
    "                    print(\"-\"*50)\n",
    "                    print(f\"\\tself.w shape BEFORE  update: {self.w.shape}\")\n",
    "                    print(f\"\\tX[i] value: {X[i]} \\n\\tX[i] shape: {X[i].shape}\")\n",
    "                    print(f\"\\ty[i] value: {y[i]} \\n\\ty[i] shape: {y[i].shape}\")\n",
    "                    \n",
    "                # TODO 12.3\n",
    "                z =  \n",
    "                \n",
    "                if self.debug: print(f\"\\tz value: {z} \\n\\tz shape: {z.shape}\")\n",
    "                \n",
    "                # TODO 12.4\n",
    "                y_hat =\n",
    "                \n",
    "                if self.debug: print(f\"\\ty_hat value: {y_hat} \\n\\ty_hat shape: {y_hat.shape}\")\n",
    "                \n",
    "                # TODO 12.5\n",
    "                \n",
    "                    # TODO 12.6\n",
    "                    self.w = \n",
    "                    \n",
    "                    if self.debug: print(f\"\\tself.w shape AFTER update: {self.w.shape}\")\n",
    "                    \n",
    "                    # Update best weights\n",
    "                    replace_wights = self.replace_best_weights(X, y)\n",
    "                    if replace_wights is True:\n",
    "                        print(f\"\\tUpdating best weights based on data sample {i+1}...\")\n",
    "                        self.w_best[:] = self.w[:]\n",
    "\n",
    "\n",
    "                    misclassified += 1\n",
    "            \n",
    "            print(f\"\\tData samples misclassified: {misclassified}\")      \n",
    "            \n",
    "            # Convergence check to see if we are no longer\n",
    "            # misclassifing data samples\n",
    "            if misclassified == 0:\n",
    "                print(f\"Converged at epoch: {e+1}\")\n",
    "                break\n",
    "                \n",
    "        print(f\"Epochs trained: {e+1}\")\n",
    "        \n",
    "    def replace_best_weights(self, X, y):\n",
    "        # TODO 12.7\n",
    "        preds_w = \n",
    "        # TODO 12.8\n",
    "        preds_w_best = \n",
    "        \n",
    "        if self.debug: \n",
    "            print(f\"\\tpreds_w shape: {preds_w.shape}\")\n",
    "            print(f\"\\tpreds_w_best shape: {preds_w_best.shape}\")\n",
    "\n",
    "        # TODO 12.9\n",
    "        total_corr_w = \n",
    "        # TODO 12.10\n",
    "        total_corr_w_best =\n",
    "                  \n",
    "        if self.debug: \n",
    "            print(f\"\\ttotal_corr_w out of total samples: {total_corr_w}/{len(y)}\")\n",
    "            print(f\"\\ttotal_corr_w_best out of total samples: {total_corr_w_best}/{len(y)}\")\n",
    "            \n",
    "        if len(preds_w.shape) <= 1 or len(preds_w_best.shape) <= 1:\n",
    "            print(f\"\\ttotal_corr_w out of total samples: {total_corr_w}/{len(y)}\")\n",
    "            print(f\"\\ttotal_corr_w_best out of total samples: {total_corr_w_best}/{len(y)}\")\n",
    "            err = \"WARNING: This exception is being thrown because either \" \\\n",
    "                \"preds_w or preds_w_best is a 1D array. This exception is here \" \\\n",
    "                \"to help prevent NumPy from automatically braodcasting and \" \\\n",
    "                \"breaking the total correct count. Look at the above print statements \"\\\n",
    "                \"and notice how we have more correct predictions than data samples! \" \\\n",
    "                \"To fix this reshape both preds_w and preds_w_best to be 2D arrays \" \\\n",
    "                \"using .reshape(-1, 1)\"\n",
    "            raise ValueError(err)\n",
    "        \n",
    "        # Check if total_corr_w correctly classified more\n",
    "        # samples than total_corr_w_best. If so, return True.\n",
    "        if total_corr_w > total_corr_w_best:\n",
    "            return True\n",
    "        else:\n",
    "            return False\n",
    "\n",
    "        \n",
    "    def predict(self, X):\n",
    "        # TODO 12.11\n",
    "        return "
   ]
  },
  {
   "cell_type": "markdown",
   "metadata": {
    "id": "7Tklg0a7XHDV"
   },
   "source": [
    "Run the below `TEST_perceptron()` function to check your implementation using toy data. Set the `debug` argument below when calling the `test_perceptron()` to `False` to disable shape debug information. "
   ]
  },
  {
   "cell_type": "code",
   "execution_count": null,
   "metadata": {
    "id": "Vizd2p5oXHDV",
    "outputId": "067355e1-b23c-4b04-df68-6d9f9b93a8d1"
   },
   "outputs": [
    {
     "name": "stdout",
     "output_type": "stream",
     "text": [
      "X shape: (100, 3)\n",
      "y shape: (100, 1)\n",
      "Epoch 1\n",
      "--------------------------------------------------\n",
      "\tself.w shape BEFORE  update: (3,)\n",
      "\tX[i] value: [ 1.         -0.50328585 -1.1382643 ] \n",
      "\tX[i] shape: (3,)\n",
      "\ty[i] value: [-1.] \n",
      "\ty[i] shape: (1,)\n",
      "\tz value: -0.9371435087359904 \n",
      "\tz shape: ()\n",
      "\ty_hat value: -1.0 \n",
      "\ty_hat shape: ()\n",
      "--------------------------------------------------\n",
      "\tself.w shape BEFORE  update: (3,)\n",
      "\tX[i] value: [ 1.         -0.35231146  0.52302986] \n",
      "\tX[i] shape: (3,)\n",
      "\ty[i] value: [-1.] \n",
      "\ty[i] shape: (1,)\n",
      "\tz value: 0.4224472579846624 \n",
      "\tz shape: ()\n",
      "\ty_hat value: 1.0 \n",
      "\ty_hat shape: ()\n",
      "\tself.w shape AFTER update: (3,)\n",
      "\tpreds_w shape: (100, 1)\n",
      "\tpreds_w_best shape: (100, 1)\n",
      "\ttotal_corr_w out of total samples: 99/100\n",
      "\ttotal_corr_w_best out of total samples: 95/100\n",
      "\tUpdating best weights based on data sample 2...\n",
      "--------------------------------------------------\n",
      "\tself.w shape BEFORE  update: (3,)\n",
      "\tX[i] value: [ 1.         -1.23415337 -1.23413696] \n",
      "\tX[i] shape: (3,)\n",
      "\ty[i] value: [-1.] \n",
      "\ty[i] shape: (1,)\n",
      "\tz value: -2.0968258787964418 \n",
      "\tz shape: ()\n",
      "\ty_hat value: -1.0 \n",
      "\ty_hat shape: ()\n",
      "--------------------------------------------------\n",
      "\tself.w shape BEFORE  update: (3,)\n",
      "\tX[i] value: [ 1.          0.57921282 -0.23256527] \n",
      "\tX[i] shape: (3,)\n",
      "\ty[i] value: [-1.] \n",
      "\ty[i] shape: (1,)\n",
      "\tz value: 0.4178206066698428 \n",
      "\tz shape: ()\n",
      "\ty_hat value: 1.0 \n",
      "\ty_hat shape: ()\n",
      "\tself.w shape AFTER update: (3,)\n",
      "\tpreds_w shape: (100, 1)\n",
      "\tpreds_w_best shape: (100, 1)\n",
      "\ttotal_corr_w out of total samples: 100/100\n",
      "\ttotal_corr_w_best out of total samples: 99/100\n",
      "\tUpdating best weights based on data sample 4...\n",
      "--------------------------------------------------\n",
      "\tself.w shape BEFORE  update: (3,)\n",
      "\tX[i] value: [ 1.         -1.46947439 -0.45743996] \n",
      "\tX[i] shape: (3,)\n",
      "\ty[i] value: [-1.] \n",
      "\ty[i] shape: (1,)\n",
      "\tz value: -2.1242055622915386 \n",
      "\tz shape: ()\n",
      "\ty_hat value: -1.0 \n",
      "\ty_hat shape: ()\n",
      "--------------------------------------------------\n",
      "\tself.w shape BEFORE  update: (3,)\n",
      "\tX[i] value: [ 1.         -1.46341769 -1.46572975] \n",
      "\tX[i] shape: (3,)\n",
      "\ty[i] value: [-1.] \n",
      "\ty[i] shape: (1,)\n",
      "\tz value: -2.710760297504848 \n",
      "\tz shape: ()\n",
      "\ty_hat value: -1.0 \n",
      "\ty_hat shape: ()\n",
      "--------------------------------------------------\n",
      "\tself.w shape BEFORE  update: (3,)\n",
      "\tX[i] value: [ 1.         -0.75803773 -2.91328024] \n",
      "\tX[i] shape: (3,)\n",
      "\ty[i] value: [-1.] \n",
      "\ty[i] shape: (1,)\n",
      "\tz value: -2.969538421484116 \n",
      "\tz shape: ()\n",
      "\ty_hat value: -1.0 \n",
      "\ty_hat shape: ()\n",
      "--------------------------------------------------\n",
      "\tself.w shape BEFORE  update: (3,)\n",
      "\tX[i] value: [ 1.         -2.72491783 -1.56228753] \n",
      "\tX[i] shape: (3,)\n",
      "\ty[i] value: [-1.] \n",
      "\ty[i] shape: (1,)\n",
      "\tz value: -3.823624882898174 \n",
      "\tz shape: ()\n",
      "\ty_hat value: -1.0 \n",
      "\ty_hat shape: ()\n",
      "--------------------------------------------------\n",
      "\tself.w shape BEFORE  update: (3,)\n",
      "\tX[i] value: [ 1.         -2.01283112 -0.68575267] \n",
      "\tX[i] shape: (3,)\n",
      "\ty[i] value: [-1.] \n",
      "\ty[i] shape: (1,)\n",
      "\tz value: -2.7131035367012566 \n",
      "\tz shape: ()\n",
      "\ty_hat value: -1.0 \n",
      "\ty_hat shape: ()\n",
      "--------------------------------------------------\n",
      "\tself.w shape BEFORE  update: (3,)\n",
      "\tX[i] value: [ 1.         -1.90802408 -2.4123037 ] \n",
      "\tX[i] shape: (3,)\n",
      "\ty[i] value: [-1.] \n",
      "\ty[i] shape: (1,)\n",
      "\tz value: -3.6384263417578495 \n",
      "\tz shape: ()\n",
      "\ty_hat value: -1.0 \n",
      "\ty_hat shape: ()\n",
      "--------------------------------------------------\n",
      "\tself.w shape BEFORE  update: (3,)\n",
      "\tX[i] value: [ 1.          0.46564877 -1.2257763 ] \n",
      "\tX[i] shape: (3,)\n",
      "\ty[i] value: [-1.] \n",
      "\ty[i] shape: (1,)\n",
      "\tz value: -0.9548276261803923 \n",
      "\tz shape: ()\n",
      "\ty_hat value: -1.0 \n",
      "\ty_hat shape: ()\n",
      "--------------------------------------------------\n",
      "\tself.w shape BEFORE  update: (3,)\n",
      "\tX[i] value: [ 1.         -0.9324718  -2.42474819] \n",
      "\tX[i] shape: (3,)\n",
      "\ty[i] value: [-1.] \n",
      "\ty[i] shape: (1,)\n",
      "\tz value: -2.828933845228116 \n",
      "\tz shape: ()\n",
      "\ty_hat value: -1.0 \n",
      "\ty_hat shape: ()\n",
      "--------------------------------------------------\n",
      "\tself.w shape BEFORE  update: (3,)\n",
      "\tX[i] value: [ 1.         -1.54438272 -0.88907741] \n",
      "\tX[i] shape: (3,)\n",
      "\ty[i] value: [-1.] \n",
      "\ty[i] shape: (1,)\n",
      "\tz value: -2.440191893967196 \n",
      "\tz shape: ()\n",
      "\ty_hat value: -1.0 \n",
      "\ty_hat shape: ()\n",
      "--------------------------------------------------\n",
      "\tself.w shape BEFORE  update: (3,)\n",
      "\tX[i] value: [ 1.         -2.15099358 -0.62430198] \n",
      "\tX[i] shape: (3,)\n",
      "\ty[i] value: [-1.] \n",
      "\ty[i] shape: (1,)\n",
      "\tz value: -2.7927250312929344 \n",
      "\tz shape: ()\n",
      "\ty_hat value: -1.0 \n",
      "\ty_hat shape: ()\n",
      "--------------------------------------------------\n",
      "\tself.w shape BEFORE  update: (3,)\n",
      "\tX[i] value: [ 1.         -1.60063869 -1.29169375] \n",
      "\tX[i] shape: (3,)\n",
      "\ty[i] value: [-1.] \n",
      "\ty[i] shape: (1,)\n",
      "\tz value: -2.7235327950333064 \n",
      "\tz shape: ()\n",
      "\ty_hat value: -1.0 \n",
      "\ty_hat shape: ()\n",
      "--------------------------------------------------\n",
      "\tself.w shape BEFORE  update: (3,)\n",
      "\tX[i] value: [ 1.         -1.60170661  0.85227818] \n",
      "\tX[i] shape: (3,)\n",
      "\ty[i] value: [-1.] \n",
      "\ty[i] shape: (1,)\n",
      "\tz value: -1.4664264198959924 \n",
      "\tz shape: ()\n",
      "\ty_hat value: -1.0 \n",
      "\ty_hat shape: ()\n",
      "--------------------------------------------------\n",
      "\tself.w shape BEFORE  update: (3,)\n",
      "\tX[i] value: [ 1.         -1.01349722 -2.05771093] \n",
      "\tX[i] shape: (3,)\n",
      "\ty[i] value: [-1.] \n",
      "\ty[i] shape: (1,)\n",
      "\tz value: -2.681410104035348 \n",
      "\tz shape: ()\n",
      "\ty_hat value: -1.0 \n",
      "\ty_hat shape: ()\n",
      "--------------------------------------------------\n",
      "\tself.w shape BEFORE  update: (3,)\n",
      "\tX[i] value: [ 1.         -0.17745509 -2.22084365] \n",
      "\tX[i] shape: (3,)\n",
      "\ty[i] value: [-1.] \n",
      "\ty[i] shape: (1,)\n",
      "\tz value: -2.077142454434035 \n",
      "\tz shape: ()\n",
      "\ty_hat value: -1.0 \n",
      "\ty_hat shape: ()\n",
      "--------------------------------------------------\n",
      "\tself.w shape BEFORE  update: (3,)\n",
      "\tX[i] value: [ 1.         -0.7911364  -2.95967012] \n",
      "\tX[i] shape: (3,)\n",
      "\ty[i] value: [-1.] \n",
      "\ty[i] shape: (1,)\n",
      "\tz value: -3.0244705415875965 \n",
      "\tz shape: ()\n",
      "\ty_hat value: -1.0 \n",
      "\ty_hat shape: ()\n",
      "--------------------------------------------------\n",
      "\tself.w shape BEFORE  update: (3,)\n",
      "\tX[i] value: [ 1.         -2.32818605 -0.80313876] \n",
      "\tX[i] shape: (3,)\n",
      "\ty[i] value: [-1.] \n",
      "\ty[i] shape: (1,)\n",
      "\tz value: -3.0460164084931995 \n",
      "\tz shape: ()\n",
      "\ty_hat value: -1.0 \n",
      "\ty_hat shape: ()\n",
      "--------------------------------------------------\n",
      "\tself.w shape BEFORE  update: (3,)\n",
      "\tX[i] value: [ 1.         -0.26153342 -0.82863172] \n",
      "\tX[i] shape: (3,)\n",
      "\ty[i] value: [-1.] \n",
      "\ty[i] shape: (1,)\n",
      "\tz value: -1.3306416154172311 \n",
      "\tz shape: ()\n",
      "\ty_hat value: -1.0 \n",
      "\ty_hat shape: ()\n",
      "--------------------------------------------------\n",
      "\tself.w shape BEFORE  update: (3,)\n",
      "\tX[i] value: [ 1.         -1.11564828 -1.3011037 ] \n",
      "\tX[i] shape: (3,)\n",
      "\ty[i] value: [-1.] \n",
      "\ty[i] shape: (1,)\n",
      "\tz value: -2.3229893614127937 \n",
      "\tz shape: ()\n",
      "\ty_hat value: -1.0 \n",
      "\ty_hat shape: ()\n",
      "--------------------------------------------------\n",
      "\tself.w shape BEFORE  update: (3,)\n",
      "\tX[i] value: [ 1.         -2.47852199 -1.71984421] \n",
      "\tX[i] shape: (3,)\n",
      "\ty[i] value: [-1.] \n",
      "\ty[i] shape: (1,)\n",
      "\tz value: -3.7097748226596323 \n",
      "\tz shape: ()\n",
      "\ty_hat value: -1.0 \n",
      "\ty_hat shape: ()\n",
      "--------------------------------------------------\n",
      "\tself.w shape BEFORE  update: (3,)\n",
      "\tX[i] value: [ 1.         -1.46063877  0.05712223] \n",
      "\tX[i] shape: (3,)\n",
      "\ty[i] value: [-1.] \n",
      "\ty[i] shape: (1,)\n",
      "\tz value: -1.8148824684169629 \n",
      "\tz shape: ()\n",
      "\ty_hat value: -1.0 \n",
      "\ty_hat shape: ()\n",
      "--------------------------------------------------\n",
      "\tself.w shape BEFORE  update: (3,)\n",
      "\tX[i] value: [ 1.         -0.65638171 -2.76304016] \n",
      "\tX[i] shape: (3,)\n",
      "\ty[i] value: [-1.] \n",
      "\ty[i] shape: (1,)\n",
      "\tz value: -2.7962704123347963 \n",
      "\tz shape: ()\n",
      "\ty_hat value: -1.0 \n",
      "\ty_hat shape: ()\n",
      "--------------------------------------------------\n",
      "\tself.w shape BEFORE  update: (3,)\n",
      "\tX[i] value: [ 1.         -0.67591603 -1.38508228] \n",
      "\tX[i] shape: (3,)\n",
      "\ty[i] value: [-1.] \n",
      "\ty[i] shape: (1,)\n",
      "\tz value: -2.0040929531465563 \n",
      "\tz shape: ()\n",
      "\ty_hat value: -1.0 \n",
      "\ty_hat shape: ()\n",
      "--------------------------------------------------\n",
      "\tself.w shape BEFORE  update: (3,)\n",
      "\tX[i] value: [ 1.         -1.676922   -0.38832371] \n",
      "\tX[i] shape: (3,)\n",
      "\ty[i] value: [-1.] \n",
      "\ty[i] shape: (1,)\n",
      "\tz value: -2.257339142812293 \n",
      "\tz shape: ()\n",
      "\ty_hat value: -1.0 \n",
      "\ty_hat shape: ()\n",
      "--------------------------------------------------\n",
      "\tself.w shape BEFORE  update: (3,)\n",
      "\tX[i] value: [ 1.          0.03099952 -0.06871988] \n",
      "\tX[i] shape: (3,)\n",
      "\ty[i] value: [-1.] \n",
      "\ty[i] shape: (1,)\n",
      "\tz value: -0.6398272990602176 \n",
      "\tz shape: ()\n",
      "\ty_hat value: -1.0 \n",
      "\ty_hat shape: ()\n",
      "--------------------------------------------------\n",
      "\tself.w shape BEFORE  update: (3,)\n",
      "\tX[i] value: [ 1.         -1.83921752 -1.30921238] \n",
      "\tX[i] shape: (3,)\n",
      "\ty[i] value: [-1.] \n",
      "\ty[i] shape: (1,)\n",
      "\tz value: -2.9335654328669207 \n",
      "\tz shape: ()\n",
      "\ty_hat value: -1.0 \n",
      "\ty_hat shape: ()\n",
      "--------------------------------------------------\n",
      "\tself.w shape BEFORE  update: (3,)\n",
      "\tX[i] value: [ 1.         -0.66873657 -0.02445487] \n",
      "\tX[i] shape: (3,)\n",
      "\ty[i] value: [-1.] \n",
      "\ty[i] shape: (1,)\n",
      "\tz value: -1.1997178693623938 \n",
      "\tz shape: ()\n",
      "\ty_hat value: -1.0 \n",
      "\ty_hat shape: ()\n",
      "--------------------------------------------------\n",
      "\tself.w shape BEFORE  update: (3,)\n",
      "\tX[i] value: [ 1.         -1.47917424 -1.18565898] \n",
      "\tX[i] shape: (3,)\n",
      "\ty[i] value: [-1.] \n",
      "\ty[i] shape: (1,)\n",
      "\tz value: -2.559617888686083 \n",
      "\tz shape: ()\n",
      "\ty_hat value: -1.0 \n",
      "\ty_hat shape: ()\n",
      "--------------------------------------------------\n",
      "\tself.w shape BEFORE  update: (3,)\n",
      "\tX[i] value: [ 1.         -2.10633497 -2.19620662] \n",
      "\tX[i] shape: (3,)\n",
      "\ty[i] value: [-1.] \n",
      "\ty[i] shape: (1,)\n",
      "\tz value: -3.6776673670129636 \n",
      "\tz shape: ()\n",
      "\ty_hat value: -1.0 \n",
      "\ty_hat shape: ()\n",
      "--------------------------------------------------\n",
      "\tself.w shape BEFORE  update: (3,)\n",
      "\tX[i] value: [ 1.         -0.18747418  0.35624003] \n",
      "\tX[i] shape: (3,)\n",
      "\ty[i] value: [-1.] \n",
      "\ty[i] shape: (1,)\n",
      "\tz value: -0.573397204937203 \n",
      "\tz shape: ()\n",
      "\ty_hat value: -1.0 \n",
      "\ty_hat shape: ()\n",
      "--------------------------------------------------\n",
      "\tself.w shape BEFORE  update: (3,)\n",
      "\tX[i] value: [ 1.         -1.07201012  0.0035329 ] \n",
      "\tX[i] shape: (3,)\n",
      "\ty[i] value: [-1.] \n",
      "\ty[i] shape: (1,)\n",
      "\tz value: -1.5209419975282406 \n",
      "\tz shape: ()\n",
      "\ty_hat value: -1.0 \n",
      "\ty_hat shape: ()\n",
      "--------------------------------------------------\n",
      "\tself.w shape BEFORE  update: (3,)\n",
      "\tX[i] value: [ 1.         -0.63836397 -1.64511975] \n",
      "\tX[i] shape: (3,)\n",
      "\ty[i] value: [-1.] \n",
      "\ty[i] shape: (1,)\n",
      "\tz value: -2.125231999896364 \n",
      "\tz shape: ()\n",
      "\ty_hat value: -1.0 \n",
      "\ty_hat shape: ()\n",
      "--------------------------------------------------\n",
      "\tself.w shape BEFORE  update: (3,)\n",
      "\tX[i] value: [ 1.         -0.63860439  0.53803657] \n",
      "\tX[i] shape: (3,)\n",
      "\ty[i] value: [-1.] \n",
      "\ty[i] shape: (1,)\n",
      "\tz value: -0.8444408913884084 \n",
      "\tz shape: ()\n",
      "\ty_hat value: -1.0 \n",
      "\ty_hat shape: ()\n",
      "--------------------------------------------------\n",
      "\tself.w shape BEFORE  update: (3,)\n",
      "\tX[i] value: [ 1.         -1.03582604  0.56464366] \n",
      "\tX[i] shape: (3,)\n",
      "\ty[i] value: [-1.] \n",
      "\ty[i] shape: (1,)\n",
      "\tz value: -1.1614081076978282 \n",
      "\tz shape: ()\n",
      "\ty_hat value: -1.0 \n",
      "\ty_hat shape: ()\n",
      "--------------------------------------------------\n",
      "\tself.w shape BEFORE  update: (3,)\n",
      "\tX[i] value: [ 1.        -3.6197451 -0.1780975] \n",
      "\tX[i] shape: (3,)\n",
      "\ty[i] value: [-1.] \n",
      "\ty[i] shape: (1,)\n",
      "\tz value: -3.760641585471984 \n",
      "\tz shape: ()\n",
      "\ty_hat value: -1.0 \n",
      "\ty_hat shape: ()\n",
      "--------------------------------------------------\n",
      "\tself.w shape BEFORE  update: (3,)\n",
      "\tX[i] value: [ 1.         -0.91295293 -1.29900735] \n",
      "\tX[i] shape: (3,)\n",
      "\ty[i] value: [-1.] \n",
      "\ty[i] shape: (1,)\n",
      "\tz value: -2.152049861521532 \n",
      "\tz shape: ()\n",
      "\ty_hat value: -1.0 \n",
      "\ty_hat shape: ()\n",
      "--------------------------------------------------\n",
      "\tself.w shape BEFORE  update: (3,)\n",
      "\tX[i] value: [ 1.         -0.90823922 -2.98756891] \n",
      "\tX[i] shape: (3,)\n",
      "\ty[i] value: [-1.] \n",
      "\ty[i] shape: (1,)\n",
      "\tz value: -3.138886412865733 \n",
      "\tz shape: ()\n",
      "\ty_hat value: -1.0 \n",
      "\ty_hat shape: ()\n",
      "--------------------------------------------------\n",
      "\tself.w shape BEFORE  update: (3,)\n",
      "\tX[i] value: [ 1.         -1.21967189 -0.64288743] \n",
      "\tX[i] shape: (3,)\n",
      "\ty[i] value: [-1.] \n",
      "\ty[i] shape: (1,)\n",
      "\tz value: -2.0238684805727485 \n",
      "\tz shape: ()\n",
      "\ty_hat value: -1.0 \n",
      "\ty_hat shape: ()\n",
      "--------------------------------------------------\n",
      "\tself.w shape BEFORE  update: (3,)\n",
      "\tX[i] value: [ 1.          0.47789404 -1.51827022] \n",
      "\tX[i] shape: (3,)\n",
      "\ty[i] value: [-1.] \n",
      "\ty[i] shape: (1,)\n",
      "\tz value: -1.1161993156341312 \n",
      "\tz shape: ()\n",
      "\ty_hat value: -1.0 \n",
      "\ty_hat shape: ()\n",
      "--------------------------------------------------\n",
      "\tself.w shape BEFORE  update: (3,)\n",
      "\tX[i] value: [ 1.         -1.8084936  -1.50175704] \n",
      "\tX[i] shape: (3,)\n",
      "\ty[i] value: [-1.] \n",
      "\ty[i] shape: (1,)\n",
      "\tz value: -3.020819238567481 \n",
      "\tz shape: ()\n",
      "\ty_hat value: -1.0 \n",
      "\ty_hat shape: ()\n",
      "--------------------------------------------------\n",
      "\tself.w shape BEFORE  update: (3,)\n",
      "\tX[i] value: [ 1.         -0.08459788 -0.67124889] \n",
      "\tX[i] shape: (3,)\n",
      "\ty[i] value: [-1.] \n",
      "\ty[i] shape: (1,)\n",
      "\tz value: -1.0901537169486404 \n",
      "\tz shape: ()\n",
      "\ty_hat value: -1.0 \n",
      "\ty_hat shape: ()\n",
      "--------------------------------------------------\n",
      "\tself.w shape BEFORE  update: (3,)\n",
      "\tX[i] value: [ 1.         -1.5297602  -0.48673257] \n",
      "\tX[i] shape: (3,)\n",
      "\ty[i] value: [-1.] \n",
      "\ty[i] shape: (1,)\n",
      "\tz value: -2.1918684653687186 \n",
      "\tz shape: ()\n",
      "\ty_hat value: -1.0 \n",
      "\ty_hat shape: ()\n",
      "--------------------------------------------------\n",
      "\tself.w shape BEFORE  update: (3,)\n",
      "\tX[i] value: [ 1.         -0.90292245 -0.03135501] \n",
      "\tX[i] shape: (3,)\n",
      "\ty[i] value: [-1.] \n",
      "\ty[i] shape: (1,)\n",
      "\tz value: -1.3998419264984308 \n",
      "\tz shape: ()\n",
      "\ty_hat value: -1.0 \n",
      "\ty_hat shape: ()\n",
      "--------------------------------------------------\n",
      "\tself.w shape BEFORE  update: (3,)\n",
      "\tX[i] value: [ 1.         -1.70205309 -1.32766215] \n",
      "\tX[i] shape: (3,)\n",
      "\ty[i] value: [-1.] \n",
      "\ty[i] shape: (1,)\n",
      "\tz value: -2.8295482628079585 \n",
      "\tz shape: ()\n",
      "\ty_hat value: -1.0 \n",
      "\ty_hat shape: ()\n",
      "--------------------------------------------------\n",
      "\tself.w shape BEFORE  update: (3,)\n",
      "\tX[i] value: [ 1.         -1.39210815 -2.46351495] \n",
      "\tX[i] shape: (3,)\n",
      "\ty[i] value: [-1.] \n",
      "\ty[i] shape: (1,)\n",
      "\tz value: -3.2365174996263653 \n",
      "\tz shape: ()\n",
      "\ty_hat value: -1.0 \n",
      "\ty_hat shape: ()\n",
      "--------------------------------------------------\n",
      "\tself.w shape BEFORE  update: (3,)\n",
      "\tX[i] value: [ 1.         -0.70387972 -0.73894473] \n",
      "\tX[i] shape: (3,)\n",
      "\ty[i] value: [-1.] \n",
      "\ty[i] shape: (1,)\n",
      "\tz value: -1.6483771998219732 \n",
      "\tz shape: ()\n",
      "\ty_hat value: -1.0 \n",
      "\ty_hat shape: ()\n",
      "--------------------------------------------------\n",
      "\tself.w shape BEFORE  update: (3,)\n",
      "\tX[i] value: [ 1.         -0.99488654 -1.23458713] \n",
      "\tX[i] shape: (3,)\n",
      "\ty[i] value: [-1.] \n",
      "\ty[i] shape: (1,)\n",
      "\tz value: -2.1828505817417923 \n",
      "\tz shape: ()\n",
      "\ty_hat value: -1.0 \n",
      "\ty_hat shape: ()\n",
      "--------------------------------------------------\n",
      "\tself.w shape BEFORE  update: (3,)\n",
      "\tX[i] value: [1.         1.54850596 3.27142093] \n",
      "\tX[i] shape: (3,)\n",
      "\ty[i] value: [1.] \n",
      "\ty[i] shape: (1,)\n",
      "\tz value: 2.590592181057959 \n",
      "\tz shape: ()\n",
      "\ty_hat value: 1.0 \n",
      "\ty_hat shape: ()\n",
      "--------------------------------------------------\n",
      "\tself.w shape BEFORE  update: (3,)\n",
      "\tX[i] value: [1.         3.40640104 2.61041501] \n",
      "\tX[i] shape: (3,)\n",
      "\ty[i] value: [1.] \n",
      "\ty[i] shape: (1,)\n",
      "\tz value: 3.7582872363005455 \n",
      "\tz shape: ()\n",
      "\ty_hat value: 1.0 \n",
      "\ty_hat shape: ()\n",
      "--------------------------------------------------\n",
      "\tself.w shape BEFORE  update: (3,)\n",
      "\tX[i] value: [1.         3.72064495 4.69983661] \n",
      "\tX[i] shape: (3,)\n",
      "\ty[i] value: [1.] \n",
      "\ty[i] shape: (1,)\n",
      "\tz value: 5.247384697681968 \n",
      "\tz shape: ()\n",
      "\ty_hat value: 1.0 \n",
      "\ty_hat shape: ()\n"
     ]
    },
    {
     "name": "stdout",
     "output_type": "stream",
     "text": [
      "--------------------------------------------------\n",
      "\tself.w shape BEFORE  update: (3,)\n",
      "\tX[i] value: [1.         7.26696981 4.30237764] \n",
      "\tX[i] shape: (3,)\n",
      "\ty[i] value: [1.] \n",
      "\ty[i] shape: (1,)\n",
      "\tz value: 7.983379840862116 \n",
      "\tz shape: ()\n",
      "\ty_hat value: 1.0 \n",
      "\ty_hat shape: ()\n",
      "--------------------------------------------------\n",
      "\tself.w shape BEFORE  update: (3,)\n",
      "\tX[i] value: [1.         4.44609036 3.87105589] \n",
      "\tX[i] shape: (3,)\n",
      "\ty[i] value: [1.] \n",
      "\ty[i] shape: (1,)\n",
      "\tz value: 5.36847701146697 \n",
      "\tz shape: ()\n",
      "\ty_hat value: 1.0 \n",
      "\ty_hat shape: ()\n",
      "--------------------------------------------------\n",
      "\tself.w shape BEFORE  update: (3,)\n",
      "\tX[i] value: [1.         0.67659077 3.95407662] \n",
      "\tX[i] shape: (3,)\n",
      "\ty[i] value: [1.] \n",
      "\ty[i] shape: (1,)\n",
      "\tz value: 2.261125478492319 \n",
      "\tz shape: ()\n",
      "\ty_hat value: 1.0 \n",
      "\ty_hat shape: ()\n",
      "--------------------------------------------------\n",
      "\tself.w shape BEFORE  update: (3,)\n",
      "\tX[i] value: [1.         4.10432178 8.26646049] \n",
      "\tX[i] shape: (3,)\n",
      "\ty[i] value: [1.] \n",
      "\ty[i] shape: (1,)\n",
      "\tz value: 7.661381461455706 \n",
      "\tz shape: ()\n",
      "\ty_hat value: 1.0 \n",
      "\ty_hat shape: ()\n",
      "--------------------------------------------------\n",
      "\tself.w shape BEFORE  update: (3,)\n",
      "\tX[i] value: [1.         3.66682104 4.52229532] \n",
      "\tX[i] shape: (3,)\n",
      "\ty[i] value: [1.] \n",
      "\ty[i] shape: (1,)\n",
      "\tz value: 5.098145466316725 \n",
      "\tz shape: ()\n",
      "\ty_hat value: 1.0 \n",
      "\ty_hat shape: ()\n",
      "--------------------------------------------------\n",
      "\tself.w shape BEFORE  update: (3,)\n",
      "\tX[i] value: [1.         3.93987745 1.97579026] \n",
      "\tX[i] shape: (3,)\n",
      "\ty[i] value: [1.] \n",
      "\ty[i] shape: (1,)\n",
      "\tz value: 3.8325741656566334 \n",
      "\tz shape: ()\n",
      "\ty_hat value: 1.0 \n",
      "\ty_hat shape: ()\n",
      "--------------------------------------------------\n",
      "\tself.w shape BEFORE  update: (3,)\n",
      "\tX[i] value: [1.         5.97942718 5.30238622] \n",
      "\tX[i] shape: (3,)\n",
      "\ty[i] value: [1.] \n",
      "\ty[i] shape: (1,)\n",
      "\tz value: 7.492133901718276 \n",
      "\tz shape: ()\n",
      "\ty_hat value: 1.0 \n",
      "\ty_hat shape: ()\n",
      "--------------------------------------------------\n",
      "\tself.w shape BEFORE  update: (3,)\n",
      "\tX[i] value: [1.         5.37010752 2.42489472] \n",
      "\tX[i] shape: (3,)\n",
      "\ty[i] value: [1.] \n",
      "\ty[i] shape: (1,)\n",
      "\tz value: 5.293571061959013 \n",
      "\tz shape: ()\n",
      "\ty_hat value: 1.0 \n",
      "\ty_hat shape: ()\n",
      "--------------------------------------------------\n",
      "\tself.w shape BEFORE  update: (3,)\n",
      "\tX[i] value: [1.         6.42971102 1.57192273] \n",
      "\tX[i] shape: (3,)\n",
      "\ty[i] value: [1.] \n",
      "\ty[i] shape: (1,)\n",
      "\tz value: 5.68024727992693 \n",
      "\tz shape: ()\n",
      "\ty_hat value: 1.0 \n",
      "\ty_hat shape: ()\n",
      "--------------------------------------------------\n",
      "\tself.w shape BEFORE  update: (3,)\n",
      "\tX[i] value: [1.         5.0164663  7.79398044] \n",
      "\tX[i] shape: (3,)\n",
      "\ty[i] value: [1.] \n",
      "\ty[i] shape: (1,)\n",
      "\tz value: 8.147853716621164 \n",
      "\tz shape: ()\n",
      "\ty_hat value: 1.0 \n",
      "\ty_hat shape: ()\n",
      "--------------------------------------------------\n",
      "\tself.w shape BEFORE  update: (3,)\n",
      "\tX[i] value: [1.         2.28434076 3.01914356] \n",
      "\tX[i] shape: (3,)\n",
      "\ty[i] value: [1.] \n",
      "\ty[i] shape: (1,)\n",
      "\tz value: 3.0586532072522727 \n",
      "\tz shape: ()\n",
      "\ty_hat value: 1.0 \n",
      "\ty_hat shape: ()\n",
      "--------------------------------------------------\n",
      "\tself.w shape BEFORE  update: (3,)\n",
      "\tX[i] value: [1.         4.17260123 3.12795459] \n",
      "\tX[i] shape: (3,)\n",
      "\ty[i] value: [1.] \n",
      "\ty[i] shape: (1,)\n",
      "\tz value: 4.703471158761689 \n",
      "\tz shape: ()\n",
      "\ty_hat value: 1.0 \n",
      "\ty_hat shape: ()\n",
      "--------------------------------------------------\n",
      "\tself.w shape BEFORE  update: (3,)\n",
      "\tX[i] value: [1.         1.31417215 4.11875456] \n",
      "\tX[i] shape: (3,)\n",
      "\ty[i] value: [1.] \n",
      "\ty[i] shape: (1,)\n",
      "\tz value: 2.89157587988272 \n",
      "\tz shape: ()\n",
      "\ty_hat value: 1.0 \n",
      "\ty_hat shape: ()\n",
      "--------------------------------------------------\n",
      "\tself.w shape BEFORE  update: (3,)\n",
      "\tX[i] value: [1.         2.16003599 4.82028615] \n",
      "\tX[i] shape: (3,)\n",
      "\ty[i] value: [1.] \n",
      "\ty[i] shape: (1,)\n",
      "\tz value: 4.011418747210591 \n",
      "\tz shape: ()\n",
      "\ty_hat value: 1.0 \n",
      "\ty_hat shape: ()\n",
      "--------------------------------------------------\n",
      "\tself.w shape BEFORE  update: (3,)\n",
      "\tX[i] value: [1.         2.40751051 6.68456514] \n",
      "\tX[i] shape: (3,)\n",
      "\ty[i] value: [1.] \n",
      "\ty[i] shape: (1,)\n",
      "\tz value: 5.312507572301293 \n",
      "\tz shape: ()\n",
      "\ty_hat value: 1.0 \n",
      "\ty_hat shape: ()\n",
      "--------------------------------------------------\n",
      "\tself.w shape BEFORE  update: (3,)\n",
      "\tX[i] value: [1.         2.6433655  3.44217309] \n",
      "\tX[i] shape: (3,)\n",
      "\ty[i] value: [1.] \n",
      "\ty[i] shape: (1,)\n",
      "\tz value: 3.60746907281668 \n",
      "\tz shape: ()\n",
      "\ty_hat value: 1.0 \n",
      "\ty_hat shape: ()\n",
      "--------------------------------------------------\n",
      "\tself.w shape BEFORE  update: (3,)\n",
      "\tX[i] value: [1.         5.40905315 1.86808047] \n",
      "\tX[i] shape: (3,)\n",
      "\ty[i] value: [1.] \n",
      "\ty[i] shape: (1,)\n",
      "\tz value: 4.999461569895004 \n",
      "\tz shape: ()\n",
      "\ty_hat value: 1.0 \n",
      "\ty_hat shape: ()\n",
      "--------------------------------------------------\n",
      "\tself.w shape BEFORE  update: (3,)\n",
      "\tX[i] value: [1.         4.39397216 6.26403766] \n",
      "\tX[i] shape: (3,)\n",
      "\ty[i] value: [1.] \n",
      "\ty[i] shape: (1,)\n",
      "\tz value: 6.728950269609349 \n",
      "\tz shape: ()\n",
      "\ty_hat value: 1.0 \n",
      "\ty_hat shape: ()\n",
      "--------------------------------------------------\n",
      "\tself.w shape BEFORE  update: (3,)\n",
      "\tX[i] value: [1.         1.21575737 4.31979522] \n",
      "\tX[i] shape: (3,)\n",
      "\ty[i] value: [1.] \n",
      "\ty[i] shape: (1,)\n",
      "\tz value: 2.9271397123214458 \n",
      "\tz shape: ()\n",
      "\ty_hat value: 1.0 \n",
      "\ty_hat shape: ()\n",
      "--------------------------------------------------\n",
      "\tself.w shape BEFORE  update: (3,)\n",
      "\tX[i] value: [1.         4.4501302  5.35415694] \n",
      "\tX[i] shape: (3,)\n",
      "\ty[i] value: [1.] \n",
      "\ty[i] shape: (1,)\n",
      "\tz value: 6.242086238569753 \n",
      "\tz shape: ()\n",
      "\ty_hat value: 1.0 \n",
      "\ty_hat shape: ()\n",
      "--------------------------------------------------\n",
      "\tself.w shape BEFORE  update: (3,)\n",
      "\tX[i] value: [1.         1.85753852 1.71290206] \n",
      "\tX[i] shape: (3,)\n",
      "\ty[i] value: [1.] \n",
      "\ty[i] shape: (1,)\n",
      "\tz value: 1.9348547997247232 \n",
      "\tz shape: ()\n",
      "\ty_hat value: 1.0 \n",
      "\ty_hat shape: ()\n",
      "--------------------------------------------------\n",
      "\tself.w shape BEFORE  update: (3,)\n",
      "\tX[i] value: [1.         4.90402931 4.51439254] \n",
      "\tX[i] shape: (3,)\n",
      "\ty[i] value: [1.] \n",
      "\ty[i] shape: (1,)\n",
      "\tz value: 6.12937791179223 \n",
      "\tz shape: ()\n",
      "\ty_hat value: 1.0 \n",
      "\ty_hat shape: ()\n",
      "--------------------------------------------------\n",
      "\tself.w shape BEFORE  update: (3,)\n",
      "\tX[i] value: [1.         4.43386634 4.6000659 ] \n",
      "\tX[i] shape: (3,)\n",
      "\ty[i] value: [1.] \n",
      "\ty[i] shape: (1,)\n",
      "\tz value: 5.785997400732816 \n",
      "\tz shape: ()\n",
      "\ty_hat value: 1.0 \n",
      "\ty_hat shape: ()\n",
      "--------------------------------------------------\n",
      "\tself.w shape BEFORE  update: (3,)\n",
      "\tX[i] value: [1.         2.82216263 4.4022752 ] \n",
      "\tX[i] shape: (3,)\n",
      "\ty[i] value: [1.] \n",
      "\ty[i] shape: (1,)\n",
      "\tz value: 4.320520505333486 \n",
      "\tz shape: ()\n",
      "\ty_hat value: 1.0 \n",
      "\ty_hat shape: ()\n",
      "--------------------------------------------------\n",
      "\tself.w shape BEFORE  update: (3,)\n",
      "\tX[i] value: [1.         4.50761641 2.76270705] \n",
      "\tX[i] shape: (3,)\n",
      "\ty[i] value: [1.] \n",
      "\ty[i] shape: (1,)\n",
      "\tz value: 4.769653942713984 \n",
      "\tz shape: ()\n",
      "\ty_hat value: 1.0 \n",
      "\ty_hat shape: ()\n",
      "--------------------------------------------------\n",
      "\tself.w shape BEFORE  update: (3,)\n",
      "\tX[i] value: [1.         7.23161625 4.82070269] \n",
      "\tX[i] shape: (3,)\n",
      "\ty[i] value: [1.] \n",
      "\ty[i] shape: (1,)\n",
      "\tz value: 8.257912849028243 \n",
      "\tz shape: ()\n",
      "\ty_hat value: 1.0 \n",
      "\ty_hat shape: ()\n",
      "--------------------------------------------------\n",
      "\tself.w shape BEFORE  update: (3,)\n",
      "\tX[i] value: [1.         1.93660182 5.13718421] \n",
      "\tX[i] shape: (3,)\n",
      "\ty[i] value: [1.] \n",
      "\ty[i] shape: (1,)\n",
      "\tz value: 4.010289061375805 \n",
      "\tz shape: ()\n",
      "\ty_hat value: 1.0 \n",
      "\ty_hat shape: ()\n",
      "--------------------------------------------------\n",
      "\tself.w shape BEFORE  update: (3,)\n",
      "\tX[i] value: [1.         2.31180183 5.36327052] \n",
      "\tX[i] shape: (3,)\n",
      "\ty[i] value: [1.] \n",
      "\ty[i] shape: (1,)\n",
      "\tz value: 4.457089163169952 \n",
      "\tz shape: ()\n",
      "\ty_hat value: 1.0 \n",
      "\ty_hat shape: ()\n",
      "--------------------------------------------------\n",
      "\tself.w shape BEFORE  update: (3,)\n",
      "\tX[i] value: [1.         6.00674641 2.57853653] \n",
      "\tX[i] shape: (3,)\n",
      "\ty[i] value: [1.] \n",
      "\ty[i] shape: (1,)\n",
      "\tz value: 5.916756763857853 \n",
      "\tz shape: ()\n",
      "\ty_hat value: 1.0 \n",
      "\ty_hat shape: ()\n",
      "--------------------------------------------------\n",
      "\tself.w shape BEFORE  update: (3,)\n",
      "\tX[i] value: [1.         5.6686164  4.71495754] \n",
      "\tX[i] shape: (3,)\n",
      "\ty[i] value: [1.] \n",
      "\ty[i] shape: (1,)\n",
      "\tz value: 6.8872227229930285 \n",
      "\tz shape: ()\n",
      "\ty_hat value: 1.0 \n",
      "\ty_hat shape: ()\n",
      "--------------------------------------------------\n",
      "\tself.w shape BEFORE  update: (3,)\n",
      "\tX[i] value: [1.         5.42384996 7.28534182] \n",
      "\tX[i] shape: (3,)\n",
      "\ty[i] value: [1.] \n",
      "\ty[i] shape: (1,)\n",
      "\tz value: 8.190491604663961 \n",
      "\tz shape: ()\n",
      "\ty_hat value: 1.0 \n",
      "\ty_hat shape: ()\n",
      "--------------------------------------------------\n",
      "\tself.w shape BEFORE  update: (3,)\n",
      "\tX[i] value: [1.         3.57497532 2.69449067] \n",
      "\tX[i] shape: (3,)\n",
      "\ty[i] value: [1.] \n",
      "\ty[i] shape: (1,)\n",
      "\tz value: 3.9487607148170265 \n",
      "\tz shape: ()\n",
      "\ty_hat value: 1.0 \n",
      "\ty_hat shape: ()\n",
      "--------------------------------------------------\n",
      "\tself.w shape BEFORE  update: (3,)\n",
      "\tX[i] value: [1.         2.45931581 2.58697514] \n",
      "\tX[i] shape: (3,)\n",
      "\ty[i] value: [1.] \n",
      "\ty[i] shape: (1,)\n",
      "\tz value: 2.951573600924253 \n",
      "\tz shape: ()\n",
      "\ty_hat value: 1.0 \n",
      "\ty_hat shape: ()\n",
      "--------------------------------------------------\n",
      "\tself.w shape BEFORE  update: (3,)\n",
      "\tX[i] value: [1.         3.86645592 4.59089255] \n",
      "\tX[i] shape: (3,)\n",
      "\ty[i] value: [1.] \n",
      "\ty[i] shape: (1,)\n",
      "\tz value: 5.305542722972269 \n",
      "\tz shape: ()\n",
      "\ty_hat value: 1.0 \n",
      "\ty_hat shape: ()\n",
      "--------------------------------------------------\n",
      "\tself.w shape BEFORE  update: (3,)\n",
      "\tX[i] value: [1.         4.47924252 5.43272341] \n",
      "\tX[i] shape: (3,)\n",
      "\ty[i] value: [1.] \n",
      "\ty[i] shape: (1,)\n",
      "\tz value: 6.312560720480272 \n",
      "\tz shape: ()\n",
      "\ty_hat value: 1.0 \n",
      "\ty_hat shape: ()\n",
      "--------------------------------------------------\n",
      "\tself.w shape BEFORE  update: (3,)\n",
      "\tX[i] value: [1.         4.02251994 6.51759487] \n",
      "\tX[i] shape: (3,)\n",
      "\ty[i] value: [1.] \n",
      "\ty[i] shape: (1,)\n",
      "\tz value: 6.566724476645397 \n",
      "\tz shape: ()\n",
      "\ty_hat value: 1.0 \n",
      "\ty_hat shape: ()\n",
      "--------------------------------------------------\n",
      "\tself.w shape BEFORE  update: (3,)\n",
      "\tX[i] value: [1.         3.54160092 8.7114712 ] \n",
      "\tX[i] shape: (3,)\n",
      "\ty[i] value: [1.] \n",
      "\ty[i] shape: (1,)\n",
      "\tz value: 7.451350966090665 \n",
      "\tz shape: ()\n",
      "\ty_hat value: 1.0 \n",
      "\ty_hat shape: ()\n",
      "--------------------------------------------------\n",
      "\tself.w shape BEFORE  update: (3,)\n",
      "\tX[i] value: [1.         5.08368763 2.51535956] \n",
      "\tX[i] shape: (3,)\n",
      "\ty[i] value: [1.] \n",
      "\ty[i] shape: (1,)\n",
      "\tz value: 5.106843404500897 \n",
      "\tz shape: ()\n",
      "\ty_hat value: 1.0 \n",
      "\ty_hat shape: ()\n",
      "--------------------------------------------------\n",
      "\tself.w shape BEFORE  update: (3,)\n",
      "\tX[i] value: [1.         2.14515978 4.83566674] \n",
      "\tX[i] shape: (3,)\n",
      "\ty[i] value: [1.] \n",
      "\ty[i] shape: (1,)\n",
      "\tz value: 4.007988174056015 \n",
      "\tz shape: ()\n",
      "\ty_hat value: 1.0 \n",
      "\ty_hat shape: ()\n",
      "--------------------------------------------------\n",
      "\tself.w shape BEFORE  update: (3,)\n",
      "\tX[i] value: [1.         3.6129511  5.23668513] \n",
      "\tX[i] shape: (3,)\n",
      "\ty[i] value: [1.] \n",
      "\ty[i] shape: (1,)\n",
      "\tz value: 5.472218676017178 \n",
      "\tz shape: ()\n",
      "\ty_hat value: 1.0 \n",
      "\ty_hat shape: ()\n",
      "--------------------------------------------------\n",
      "\tself.w shape BEFORE  update: (3,)\n",
      "\tX[i] value: [1.         4.81967161 3.87385662] \n",
      "\tX[i] shape: (3,)\n",
      "\ty[i] value: [1.] \n",
      "\ty[i] shape: (1,)\n",
      "\tz value: 5.682906364620748 \n",
      "\tz shape: ()\n",
      "\ty_hat value: 1.0 \n",
      "\ty_hat shape: ()\n",
      "--------------------------------------------------\n",
      "\tself.w shape BEFORE  update: (3,)\n",
      "\tX[i] value: [1.         2.53331026 1.37620764] \n",
      "\tX[i] shape: (3,)\n",
      "\ty[i] value: [1.] \n",
      "\ty[i] shape: (1,)\n",
      "\tz value: 2.3030945242768133 \n",
      "\tz shape: ()\n",
      "\ty_hat value: 1.0 \n",
      "\ty_hat shape: ()\n",
      "--------------------------------------------------\n",
      "\tself.w shape BEFORE  update: (3,)\n",
      "\tX[i] value: [1.         3.22661342 5.48332622] \n",
      "\tX[i] shape: (3,)\n",
      "\ty[i] value: [1.] \n",
      "\ty[i] shape: (1,)\n",
      "\tz value: 5.293471716395851 \n",
      "\tz shape: ()\n",
      "\ty_hat value: 1.0 \n",
      "\ty_hat shape: ()\n",
      "--------------------------------------------------\n",
      "\tself.w shape BEFORE  update: (3,)\n",
      "\tX[i] value: [1.         4.37082124 1.84231714] \n",
      "\tX[i] shape: (3,)\n",
      "\ty[i] value: [1.] \n",
      "\ty[i] shape: (1,)\n",
      "\tz value: 4.115070821092151 \n",
      "\tz shape: ()\n",
      "\ty_hat value: 1.0 \n",
      "\ty_hat shape: ()\n",
      "--------------------------------------------------\n",
      "\tself.w shape BEFORE  update: (3,)\n",
      "\tX[i] value: [1.         4.29995816 4.66738928] \n",
      "\tX[i] shape: (3,)\n",
      "\ty[i] value: [1.] \n",
      "\ty[i] shape: (1,)\n",
      "\tz value: 5.713383726972211 \n",
      "\tz shape: ()\n",
      "\ty_hat value: 1.0 \n",
      "\ty_hat shape: ()\n",
      "--------------------------------------------------\n",
      "\tself.w shape BEFORE  update: (3,)\n",
      "\tX[i] value: [1.         2.46911401 4.26625969] \n",
      "\tX[i] shape: (3,)\n",
      "\ty[i] value: [1.] \n",
      "\ty[i] shape: (1,)\n",
      "\tz value: 3.945117053180847 \n",
      "\tz shape: ()\n",
      "\ty_hat value: 1.0 \n",
      "\ty_hat shape: ()\n",
      "--------------------------------------------------\n",
      "\tself.w shape BEFORE  update: (3,)\n",
      "\tX[i] value: [1.         4.10082046 2.02031737] \n",
      "\tX[i] shape: (3,)\n",
      "\ty[i] value: [1.] \n",
      "\ty[i] shape: (1,)\n",
      "\tz value: 3.9934526928218315 \n",
      "\tz shape: ()\n",
      "\ty_hat value: 1.0 \n",
      "\ty_hat shape: ()\n",
      "\tData samples misclassified: 2\n",
      "Epoch 2\n",
      "--------------------------------------------------\n",
      "\tself.w shape BEFORE  update: (3,)\n",
      "\tX[i] value: [ 1.         -0.50328585 -1.1382643 ] \n",
      "\tX[i] shape: (3,)\n",
      "\ty[i] value: [-1.] \n",
      "\ty[i] shape: (1,)\n",
      "\tz value: -1.7147326545199717 \n",
      "\tz shape: ()\n",
      "\ty_hat value: -1.0 \n",
      "\ty_hat shape: ()\n",
      "--------------------------------------------------\n",
      "\tself.w shape BEFORE  update: (3,)\n",
      "\tX[i] value: [ 1.         -0.35231146  0.52302986] \n",
      "\tX[i] shape: (3,)\n",
      "\ty[i] value: [-1.] \n",
      "\ty[i] shape: (1,)\n",
      "\tz value: -0.6135435934558157 \n",
      "\tz shape: ()\n",
      "\ty_hat value: -1.0 \n",
      "\ty_hat shape: ()\n",
      "--------------------------------------------------\n",
      "\tself.w shape BEFORE  update: (3,)\n",
      "\tX[i] value: [ 1.         -1.23415337 -1.23413696] \n",
      "\tX[i] shape: (3,)\n",
      "\ty[i] value: [-1.] \n",
      "\ty[i] shape: (1,)\n",
      "\tz value: -2.3829158511533612 \n",
      "\tz shape: ()\n",
      "\ty_hat value: -1.0 \n",
      "\ty_hat shape: ()\n",
      "--------------------------------------------------\n",
      "\tself.w shape BEFORE  update: (3,)\n",
      "\tX[i] value: [ 1.          0.57921282 -0.23256527] \n",
      "\tX[i] shape: (3,)\n",
      "\ty[i] value: [-1.] \n",
      "\ty[i] shape: (1,)\n",
      "\tz value: -0.2769664387562474 \n",
      "\tz shape: ()\n",
      "\ty_hat value: -1.0 \n",
      "\ty_hat shape: ()\n",
      "--------------------------------------------------\n",
      "\tself.w shape BEFORE  update: (3,)\n",
      "\tX[i] value: [ 1.         -1.46947439 -0.45743996] \n",
      "\tX[i] shape: (3,)\n",
      "\ty[i] value: [-1.] \n",
      "\ty[i] shape: (1,)\n",
      "\tz value: -2.1242055622915386 \n",
      "\tz shape: ()\n",
      "\ty_hat value: -1.0 \n",
      "\ty_hat shape: ()\n",
      "--------------------------------------------------\n",
      "\tself.w shape BEFORE  update: (3,)\n",
      "\tX[i] value: [ 1.         -1.46341769 -1.46572975] \n",
      "\tX[i] shape: (3,)\n",
      "\ty[i] value: [-1.] \n",
      "\ty[i] shape: (1,)\n",
      "\tz value: -2.710760297504848 \n",
      "\tz shape: ()\n",
      "\ty_hat value: -1.0 \n",
      "\ty_hat shape: ()\n",
      "--------------------------------------------------\n",
      "\tself.w shape BEFORE  update: (3,)\n",
      "\tX[i] value: [ 1.         -0.75803773 -2.91328024] \n",
      "\tX[i] shape: (3,)\n",
      "\ty[i] value: [-1.] \n",
      "\ty[i] shape: (1,)\n",
      "\tz value: -2.969538421484116 \n",
      "\tz shape: ()\n",
      "\ty_hat value: -1.0 \n",
      "\ty_hat shape: ()\n",
      "--------------------------------------------------\n",
      "\tself.w shape BEFORE  update: (3,)\n",
      "\tX[i] value: [ 1.         -2.72491783 -1.56228753] \n",
      "\tX[i] shape: (3,)\n",
      "\ty[i] value: [-1.] \n",
      "\ty[i] shape: (1,)\n",
      "\tz value: -3.823624882898174 \n",
      "\tz shape: ()\n",
      "\ty_hat value: -1.0 \n",
      "\ty_hat shape: ()\n",
      "--------------------------------------------------\n",
      "\tself.w shape BEFORE  update: (3,)\n",
      "\tX[i] value: [ 1.         -2.01283112 -0.68575267] \n",
      "\tX[i] shape: (3,)\n",
      "\ty[i] value: [-1.] \n",
      "\ty[i] shape: (1,)\n",
      "\tz value: -2.7131035367012566 \n",
      "\tz shape: ()\n",
      "\ty_hat value: -1.0 \n",
      "\ty_hat shape: ()\n",
      "--------------------------------------------------\n",
      "\tself.w shape BEFORE  update: (3,)\n",
      "\tX[i] value: [ 1.         -1.90802408 -2.4123037 ] \n",
      "\tX[i] shape: (3,)\n",
      "\ty[i] value: [-1.] \n",
      "\ty[i] shape: (1,)\n",
      "\tz value: -3.6384263417578495 \n",
      "\tz shape: ()\n",
      "\ty_hat value: -1.0 \n",
      "\ty_hat shape: ()\n",
      "--------------------------------------------------\n",
      "\tself.w shape BEFORE  update: (3,)\n",
      "\tX[i] value: [ 1.          0.46564877 -1.2257763 ] \n",
      "\tX[i] shape: (3,)\n",
      "\ty[i] value: [-1.] \n",
      "\ty[i] shape: (1,)\n",
      "\tz value: -0.9548276261803923 \n",
      "\tz shape: ()\n",
      "\ty_hat value: -1.0 \n",
      "\ty_hat shape: ()\n",
      "--------------------------------------------------\n",
      "\tself.w shape BEFORE  update: (3,)\n",
      "\tX[i] value: [ 1.         -0.9324718  -2.42474819] \n"
     ]
    },
    {
     "name": "stdout",
     "output_type": "stream",
     "text": [
      "\tX[i] shape: (3,)\n",
      "\ty[i] value: [-1.] \n",
      "\ty[i] shape: (1,)\n",
      "\tz value: -2.828933845228116 \n",
      "\tz shape: ()\n",
      "\ty_hat value: -1.0 \n",
      "\ty_hat shape: ()\n",
      "--------------------------------------------------\n",
      "\tself.w shape BEFORE  update: (3,)\n",
      "\tX[i] value: [ 1.         -1.54438272 -0.88907741] \n",
      "\tX[i] shape: (3,)\n",
      "\ty[i] value: [-1.] \n",
      "\ty[i] shape: (1,)\n",
      "\tz value: -2.440191893967196 \n",
      "\tz shape: ()\n",
      "\ty_hat value: -1.0 \n",
      "\ty_hat shape: ()\n",
      "--------------------------------------------------\n",
      "\tself.w shape BEFORE  update: (3,)\n",
      "\tX[i] value: [ 1.         -2.15099358 -0.62430198] \n",
      "\tX[i] shape: (3,)\n",
      "\ty[i] value: [-1.] \n",
      "\ty[i] shape: (1,)\n",
      "\tz value: -2.7927250312929344 \n",
      "\tz shape: ()\n",
      "\ty_hat value: -1.0 \n",
      "\ty_hat shape: ()\n",
      "--------------------------------------------------\n",
      "\tself.w shape BEFORE  update: (3,)\n",
      "\tX[i] value: [ 1.         -1.60063869 -1.29169375] \n",
      "\tX[i] shape: (3,)\n",
      "\ty[i] value: [-1.] \n",
      "\ty[i] shape: (1,)\n",
      "\tz value: -2.7235327950333064 \n",
      "\tz shape: ()\n",
      "\ty_hat value: -1.0 \n",
      "\ty_hat shape: ()\n",
      "--------------------------------------------------\n",
      "\tself.w shape BEFORE  update: (3,)\n",
      "\tX[i] value: [ 1.         -1.60170661  0.85227818] \n",
      "\tX[i] shape: (3,)\n",
      "\ty[i] value: [-1.] \n",
      "\ty[i] shape: (1,)\n",
      "\tz value: -1.4664264198959924 \n",
      "\tz shape: ()\n",
      "\ty_hat value: -1.0 \n",
      "\ty_hat shape: ()\n",
      "--------------------------------------------------\n",
      "\tself.w shape BEFORE  update: (3,)\n",
      "\tX[i] value: [ 1.         -1.01349722 -2.05771093] \n",
      "\tX[i] shape: (3,)\n",
      "\ty[i] value: [-1.] \n",
      "\ty[i] shape: (1,)\n",
      "\tz value: -2.681410104035348 \n",
      "\tz shape: ()\n",
      "\ty_hat value: -1.0 \n",
      "\ty_hat shape: ()\n",
      "--------------------------------------------------\n",
      "\tself.w shape BEFORE  update: (3,)\n",
      "\tX[i] value: [ 1.         -0.17745509 -2.22084365] \n",
      "\tX[i] shape: (3,)\n",
      "\ty[i] value: [-1.] \n",
      "\ty[i] shape: (1,)\n",
      "\tz value: -2.077142454434035 \n",
      "\tz shape: ()\n",
      "\ty_hat value: -1.0 \n",
      "\ty_hat shape: ()\n",
      "--------------------------------------------------\n",
      "\tself.w shape BEFORE  update: (3,)\n",
      "\tX[i] value: [ 1.         -0.7911364  -2.95967012] \n",
      "\tX[i] shape: (3,)\n",
      "\ty[i] value: [-1.] \n",
      "\ty[i] shape: (1,)\n",
      "\tz value: -3.0244705415875965 \n",
      "\tz shape: ()\n",
      "\ty_hat value: -1.0 \n",
      "\ty_hat shape: ()\n",
      "--------------------------------------------------\n",
      "\tself.w shape BEFORE  update: (3,)\n",
      "\tX[i] value: [ 1.         -2.32818605 -0.80313876] \n",
      "\tX[i] shape: (3,)\n",
      "\ty[i] value: [-1.] \n",
      "\ty[i] shape: (1,)\n",
      "\tz value: -3.0460164084931995 \n",
      "\tz shape: ()\n",
      "\ty_hat value: -1.0 \n",
      "\ty_hat shape: ()\n",
      "--------------------------------------------------\n",
      "\tself.w shape BEFORE  update: (3,)\n",
      "\tX[i] value: [ 1.         -0.26153342 -0.82863172] \n",
      "\tX[i] shape: (3,)\n",
      "\ty[i] value: [-1.] \n",
      "\ty[i] shape: (1,)\n",
      "\tz value: -1.3306416154172311 \n",
      "\tz shape: ()\n",
      "\ty_hat value: -1.0 \n",
      "\ty_hat shape: ()\n",
      "--------------------------------------------------\n",
      "\tself.w shape BEFORE  update: (3,)\n",
      "\tX[i] value: [ 1.         -1.11564828 -1.3011037 ] \n",
      "\tX[i] shape: (3,)\n",
      "\ty[i] value: [-1.] \n",
      "\ty[i] shape: (1,)\n",
      "\tz value: -2.3229893614127937 \n",
      "\tz shape: ()\n",
      "\ty_hat value: -1.0 \n",
      "\ty_hat shape: ()\n",
      "--------------------------------------------------\n",
      "\tself.w shape BEFORE  update: (3,)\n",
      "\tX[i] value: [ 1.         -2.47852199 -1.71984421] \n",
      "\tX[i] shape: (3,)\n",
      "\ty[i] value: [-1.] \n",
      "\ty[i] shape: (1,)\n",
      "\tz value: -3.7097748226596323 \n",
      "\tz shape: ()\n",
      "\ty_hat value: -1.0 \n",
      "\ty_hat shape: ()\n",
      "--------------------------------------------------\n",
      "\tself.w shape BEFORE  update: (3,)\n",
      "\tX[i] value: [ 1.         -1.46063877  0.05712223] \n",
      "\tX[i] shape: (3,)\n",
      "\ty[i] value: [-1.] \n",
      "\ty[i] shape: (1,)\n",
      "\tz value: -1.8148824684169629 \n",
      "\tz shape: ()\n",
      "\ty_hat value: -1.0 \n",
      "\ty_hat shape: ()\n",
      "--------------------------------------------------\n",
      "\tself.w shape BEFORE  update: (3,)\n",
      "\tX[i] value: [ 1.         -0.65638171 -2.76304016] \n",
      "\tX[i] shape: (3,)\n",
      "\ty[i] value: [-1.] \n",
      "\ty[i] shape: (1,)\n",
      "\tz value: -2.7962704123347963 \n",
      "\tz shape: ()\n",
      "\ty_hat value: -1.0 \n",
      "\ty_hat shape: ()\n",
      "--------------------------------------------------\n",
      "\tself.w shape BEFORE  update: (3,)\n",
      "\tX[i] value: [ 1.         -0.67591603 -1.38508228] \n",
      "\tX[i] shape: (3,)\n",
      "\ty[i] value: [-1.] \n",
      "\ty[i] shape: (1,)\n",
      "\tz value: -2.0040929531465563 \n",
      "\tz shape: ()\n",
      "\ty_hat value: -1.0 \n",
      "\ty_hat shape: ()\n",
      "--------------------------------------------------\n",
      "\tself.w shape BEFORE  update: (3,)\n",
      "\tX[i] value: [ 1.         -1.676922   -0.38832371] \n",
      "\tX[i] shape: (3,)\n",
      "\ty[i] value: [-1.] \n",
      "\ty[i] shape: (1,)\n",
      "\tz value: -2.257339142812293 \n",
      "\tz shape: ()\n",
      "\ty_hat value: -1.0 \n",
      "\ty_hat shape: ()\n",
      "--------------------------------------------------\n",
      "\tself.w shape BEFORE  update: (3,)\n",
      "\tX[i] value: [ 1.          0.03099952 -0.06871988] \n",
      "\tX[i] shape: (3,)\n",
      "\ty[i] value: [-1.] \n",
      "\ty[i] shape: (1,)\n",
      "\tz value: -0.6398272990602176 \n",
      "\tz shape: ()\n",
      "\ty_hat value: -1.0 \n",
      "\ty_hat shape: ()\n",
      "--------------------------------------------------\n",
      "\tself.w shape BEFORE  update: (3,)\n",
      "\tX[i] value: [ 1.         -1.83921752 -1.30921238] \n",
      "\tX[i] shape: (3,)\n",
      "\ty[i] value: [-1.] \n",
      "\ty[i] shape: (1,)\n",
      "\tz value: -2.9335654328669207 \n",
      "\tz shape: ()\n",
      "\ty_hat value: -1.0 \n",
      "\ty_hat shape: ()\n",
      "--------------------------------------------------\n",
      "\tself.w shape BEFORE  update: (3,)\n",
      "\tX[i] value: [ 1.         -0.66873657 -0.02445487] \n",
      "\tX[i] shape: (3,)\n",
      "\ty[i] value: [-1.] \n",
      "\ty[i] shape: (1,)\n",
      "\tz value: -1.1997178693623938 \n",
      "\tz shape: ()\n",
      "\ty_hat value: -1.0 \n",
      "\ty_hat shape: ()\n",
      "--------------------------------------------------\n",
      "\tself.w shape BEFORE  update: (3,)\n",
      "\tX[i] value: [ 1.         -1.47917424 -1.18565898] \n",
      "\tX[i] shape: (3,)\n",
      "\ty[i] value: [-1.] \n",
      "\ty[i] shape: (1,)\n",
      "\tz value: -2.559617888686083 \n",
      "\tz shape: ()\n",
      "\ty_hat value: -1.0 \n",
      "\ty_hat shape: ()\n",
      "--------------------------------------------------\n",
      "\tself.w shape BEFORE  update: (3,)\n",
      "\tX[i] value: [ 1.         -2.10633497 -2.19620662] \n",
      "\tX[i] shape: (3,)\n",
      "\ty[i] value: [-1.] \n",
      "\ty[i] shape: (1,)\n",
      "\tz value: -3.6776673670129636 \n",
      "\tz shape: ()\n",
      "\ty_hat value: -1.0 \n",
      "\ty_hat shape: ()\n",
      "--------------------------------------------------\n",
      "\tself.w shape BEFORE  update: (3,)\n",
      "\tX[i] value: [ 1.         -0.18747418  0.35624003] \n",
      "\tX[i] shape: (3,)\n",
      "\ty[i] value: [-1.] \n",
      "\ty[i] shape: (1,)\n",
      "\tz value: -0.573397204937203 \n",
      "\tz shape: ()\n",
      "\ty_hat value: -1.0 \n",
      "\ty_hat shape: ()\n",
      "--------------------------------------------------\n",
      "\tself.w shape BEFORE  update: (3,)\n",
      "\tX[i] value: [ 1.         -1.07201012  0.0035329 ] \n",
      "\tX[i] shape: (3,)\n",
      "\ty[i] value: [-1.] \n",
      "\ty[i] shape: (1,)\n",
      "\tz value: -1.5209419975282406 \n",
      "\tz shape: ()\n",
      "\ty_hat value: -1.0 \n",
      "\ty_hat shape: ()\n",
      "--------------------------------------------------\n",
      "\tself.w shape BEFORE  update: (3,)\n",
      "\tX[i] value: [ 1.         -0.63836397 -1.64511975] \n",
      "\tX[i] shape: (3,)\n",
      "\ty[i] value: [-1.] \n",
      "\ty[i] shape: (1,)\n",
      "\tz value: -2.125231999896364 \n",
      "\tz shape: ()\n",
      "\ty_hat value: -1.0 \n",
      "\ty_hat shape: ()\n",
      "--------------------------------------------------\n",
      "\tself.w shape BEFORE  update: (3,)\n",
      "\tX[i] value: [ 1.         -0.63860439  0.53803657] \n",
      "\tX[i] shape: (3,)\n",
      "\ty[i] value: [-1.] \n",
      "\ty[i] shape: (1,)\n",
      "\tz value: -0.8444408913884084 \n",
      "\tz shape: ()\n",
      "\ty_hat value: -1.0 \n",
      "\ty_hat shape: ()\n",
      "--------------------------------------------------\n",
      "\tself.w shape BEFORE  update: (3,)\n",
      "\tX[i] value: [ 1.         -1.03582604  0.56464366] \n",
      "\tX[i] shape: (3,)\n",
      "\ty[i] value: [-1.] \n",
      "\ty[i] shape: (1,)\n",
      "\tz value: -1.1614081076978282 \n",
      "\tz shape: ()\n",
      "\ty_hat value: -1.0 \n",
      "\ty_hat shape: ()\n",
      "--------------------------------------------------\n",
      "\tself.w shape BEFORE  update: (3,)\n",
      "\tX[i] value: [ 1.        -3.6197451 -0.1780975] \n",
      "\tX[i] shape: (3,)\n",
      "\ty[i] value: [-1.] \n",
      "\ty[i] shape: (1,)\n",
      "\tz value: -3.760641585471984 \n",
      "\tz shape: ()\n",
      "\ty_hat value: -1.0 \n",
      "\ty_hat shape: ()\n",
      "--------------------------------------------------\n",
      "\tself.w shape BEFORE  update: (3,)\n",
      "\tX[i] value: [ 1.         -0.91295293 -1.29900735] \n",
      "\tX[i] shape: (3,)\n",
      "\ty[i] value: [-1.] \n",
      "\ty[i] shape: (1,)\n",
      "\tz value: -2.152049861521532 \n",
      "\tz shape: ()\n",
      "\ty_hat value: -1.0 \n",
      "\ty_hat shape: ()\n",
      "--------------------------------------------------\n",
      "\tself.w shape BEFORE  update: (3,)\n",
      "\tX[i] value: [ 1.         -0.90823922 -2.98756891] \n",
      "\tX[i] shape: (3,)\n",
      "\ty[i] value: [-1.] \n",
      "\ty[i] shape: (1,)\n",
      "\tz value: -3.138886412865733 \n",
      "\tz shape: ()\n",
      "\ty_hat value: -1.0 \n",
      "\ty_hat shape: ()\n",
      "--------------------------------------------------\n",
      "\tself.w shape BEFORE  update: (3,)\n",
      "\tX[i] value: [ 1.         -1.21967189 -0.64288743] \n",
      "\tX[i] shape: (3,)\n",
      "\ty[i] value: [-1.] \n",
      "\ty[i] shape: (1,)\n",
      "\tz value: -2.0238684805727485 \n",
      "\tz shape: ()\n",
      "\ty_hat value: -1.0 \n",
      "\ty_hat shape: ()\n",
      "--------------------------------------------------\n",
      "\tself.w shape BEFORE  update: (3,)\n",
      "\tX[i] value: [ 1.          0.47789404 -1.51827022] \n",
      "\tX[i] shape: (3,)\n",
      "\ty[i] value: [-1.] \n",
      "\ty[i] shape: (1,)\n",
      "\tz value: -1.1161993156341312 \n",
      "\tz shape: ()\n",
      "\ty_hat value: -1.0 \n",
      "\ty_hat shape: ()\n",
      "--------------------------------------------------\n",
      "\tself.w shape BEFORE  update: (3,)\n",
      "\tX[i] value: [ 1.         -1.8084936  -1.50175704] \n",
      "\tX[i] shape: (3,)\n",
      "\ty[i] value: [-1.] \n",
      "\ty[i] shape: (1,)\n",
      "\tz value: -3.020819238567481 \n",
      "\tz shape: ()\n",
      "\ty_hat value: -1.0 \n",
      "\ty_hat shape: ()\n",
      "--------------------------------------------------\n",
      "\tself.w shape BEFORE  update: (3,)\n",
      "\tX[i] value: [ 1.         -0.08459788 -0.67124889] \n",
      "\tX[i] shape: (3,)\n",
      "\ty[i] value: [-1.] \n",
      "\ty[i] shape: (1,)\n",
      "\tz value: -1.0901537169486404 \n",
      "\tz shape: ()\n",
      "\ty_hat value: -1.0 \n",
      "\ty_hat shape: ()\n",
      "--------------------------------------------------\n",
      "\tself.w shape BEFORE  update: (3,)\n",
      "\tX[i] value: [ 1.         -1.5297602  -0.48673257] \n",
      "\tX[i] shape: (3,)\n",
      "\ty[i] value: [-1.] \n",
      "\ty[i] shape: (1,)\n",
      "\tz value: -2.1918684653687186 \n",
      "\tz shape: ()\n",
      "\ty_hat value: -1.0 \n",
      "\ty_hat shape: ()\n",
      "--------------------------------------------------\n",
      "\tself.w shape BEFORE  update: (3,)\n",
      "\tX[i] value: [ 1.         -0.90292245 -0.03135501] \n",
      "\tX[i] shape: (3,)\n",
      "\ty[i] value: [-1.] \n",
      "\ty[i] shape: (1,)\n",
      "\tz value: -1.3998419264984308 \n",
      "\tz shape: ()\n",
      "\ty_hat value: -1.0 \n",
      "\ty_hat shape: ()\n",
      "--------------------------------------------------\n",
      "\tself.w shape BEFORE  update: (3,)\n",
      "\tX[i] value: [ 1.         -1.70205309 -1.32766215] \n",
      "\tX[i] shape: (3,)\n",
      "\ty[i] value: [-1.] \n",
      "\ty[i] shape: (1,)\n",
      "\tz value: -2.8295482628079585 \n",
      "\tz shape: ()\n",
      "\ty_hat value: -1.0 \n",
      "\ty_hat shape: ()\n",
      "--------------------------------------------------\n",
      "\tself.w shape BEFORE  update: (3,)\n",
      "\tX[i] value: [ 1.         -1.39210815 -2.46351495] \n",
      "\tX[i] shape: (3,)\n",
      "\ty[i] value: [-1.] \n",
      "\ty[i] shape: (1,)\n",
      "\tz value: -3.2365174996263653 \n",
      "\tz shape: ()\n",
      "\ty_hat value: -1.0 \n",
      "\ty_hat shape: ()\n",
      "--------------------------------------------------\n",
      "\tself.w shape BEFORE  update: (3,)\n",
      "\tX[i] value: [ 1.         -0.70387972 -0.73894473] \n",
      "\tX[i] shape: (3,)\n",
      "\ty[i] value: [-1.] \n",
      "\ty[i] shape: (1,)\n",
      "\tz value: -1.6483771998219732 \n",
      "\tz shape: ()\n",
      "\ty_hat value: -1.0 \n",
      "\ty_hat shape: ()\n",
      "--------------------------------------------------\n",
      "\tself.w shape BEFORE  update: (3,)\n",
      "\tX[i] value: [ 1.         -0.99488654 -1.23458713] \n",
      "\tX[i] shape: (3,)\n",
      "\ty[i] value: [-1.] \n",
      "\ty[i] shape: (1,)\n",
      "\tz value: -2.1828505817417923 \n",
      "\tz shape: ()\n",
      "\ty_hat value: -1.0 \n",
      "\ty_hat shape: ()\n",
      "--------------------------------------------------\n",
      "\tself.w shape BEFORE  update: (3,)\n",
      "\tX[i] value: [1.         1.54850596 3.27142093] \n",
      "\tX[i] shape: (3,)\n",
      "\ty[i] value: [1.] \n",
      "\ty[i] shape: (1,)\n",
      "\tz value: 2.590592181057959 \n",
      "\tz shape: ()\n",
      "\ty_hat value: 1.0 \n",
      "\ty_hat shape: ()\n",
      "--------------------------------------------------\n",
      "\tself.w shape BEFORE  update: (3,)\n",
      "\tX[i] value: [1.         3.40640104 2.61041501] \n",
      "\tX[i] shape: (3,)\n",
      "\ty[i] value: [1.] \n",
      "\ty[i] shape: (1,)\n",
      "\tz value: 3.7582872363005455 \n",
      "\tz shape: ()\n",
      "\ty_hat value: 1.0 \n",
      "\ty_hat shape: ()\n",
      "--------------------------------------------------\n",
      "\tself.w shape BEFORE  update: (3,)\n",
      "\tX[i] value: [1.         3.72064495 4.69983661] \n",
      "\tX[i] shape: (3,)\n",
      "\ty[i] value: [1.] \n",
      "\ty[i] shape: (1,)\n",
      "\tz value: 5.247384697681968 \n",
      "\tz shape: ()\n",
      "\ty_hat value: 1.0 \n",
      "\ty_hat shape: ()\n",
      "--------------------------------------------------\n",
      "\tself.w shape BEFORE  update: (3,)\n",
      "\tX[i] value: [1.         7.26696981 4.30237764] \n",
      "\tX[i] shape: (3,)\n",
      "\ty[i] value: [1.] \n",
      "\ty[i] shape: (1,)\n",
      "\tz value: 7.983379840862116 \n",
      "\tz shape: ()\n",
      "\ty_hat value: 1.0 \n",
      "\ty_hat shape: ()\n",
      "--------------------------------------------------\n",
      "\tself.w shape BEFORE  update: (3,)\n",
      "\tX[i] value: [1.         4.44609036 3.87105589] \n",
      "\tX[i] shape: (3,)\n",
      "\ty[i] value: [1.] \n",
      "\ty[i] shape: (1,)\n",
      "\tz value: 5.36847701146697 \n",
      "\tz shape: ()\n",
      "\ty_hat value: 1.0 \n",
      "\ty_hat shape: ()\n",
      "--------------------------------------------------\n",
      "\tself.w shape BEFORE  update: (3,)\n",
      "\tX[i] value: [1.         0.67659077 3.95407662] \n",
      "\tX[i] shape: (3,)\n",
      "\ty[i] value: [1.] \n",
      "\ty[i] shape: (1,)\n",
      "\tz value: 2.261125478492319 \n",
      "\tz shape: ()\n",
      "\ty_hat value: 1.0 \n",
      "\ty_hat shape: ()\n",
      "--------------------------------------------------\n",
      "\tself.w shape BEFORE  update: (3,)\n",
      "\tX[i] value: [1.         4.10432178 8.26646049] \n",
      "\tX[i] shape: (3,)\n",
      "\ty[i] value: [1.] \n",
      "\ty[i] shape: (1,)\n",
      "\tz value: 7.661381461455706 \n",
      "\tz shape: ()\n",
      "\ty_hat value: 1.0 \n",
      "\ty_hat shape: ()\n",
      "--------------------------------------------------\n",
      "\tself.w shape BEFORE  update: (3,)\n",
      "\tX[i] value: [1.         3.66682104 4.52229532] \n",
      "\tX[i] shape: (3,)\n",
      "\ty[i] value: [1.] \n",
      "\ty[i] shape: (1,)\n",
      "\tz value: 5.098145466316725 \n",
      "\tz shape: ()\n",
      "\ty_hat value: 1.0 \n",
      "\ty_hat shape: ()\n",
      "--------------------------------------------------\n",
      "\tself.w shape BEFORE  update: (3,)\n",
      "\tX[i] value: [1.         3.93987745 1.97579026] \n",
      "\tX[i] shape: (3,)\n",
      "\ty[i] value: [1.] \n",
      "\ty[i] shape: (1,)\n",
      "\tz value: 3.8325741656566334 \n",
      "\tz shape: ()\n",
      "\ty_hat value: 1.0 \n",
      "\ty_hat shape: ()\n",
      "--------------------------------------------------\n",
      "\tself.w shape BEFORE  update: (3,)\n",
      "\tX[i] value: [1.         5.97942718 5.30238622] \n",
      "\tX[i] shape: (3,)\n",
      "\ty[i] value: [1.] \n",
      "\ty[i] shape: (1,)\n",
      "\tz value: 7.492133901718276 \n",
      "\tz shape: ()\n",
      "\ty_hat value: 1.0 \n",
      "\ty_hat shape: ()\n",
      "--------------------------------------------------\n",
      "\tself.w shape BEFORE  update: (3,)\n",
      "\tX[i] value: [1.         5.37010752 2.42489472] \n",
      "\tX[i] shape: (3,)\n",
      "\ty[i] value: [1.] \n",
      "\ty[i] shape: (1,)\n",
      "\tz value: 5.293571061959013 \n",
      "\tz shape: ()\n",
      "\ty_hat value: 1.0 \n",
      "\ty_hat shape: ()\n",
      "--------------------------------------------------\n",
      "\tself.w shape BEFORE  update: (3,)\n",
      "\tX[i] value: [1.         6.42971102 1.57192273] \n",
      "\tX[i] shape: (3,)\n",
      "\ty[i] value: [1.] \n",
      "\ty[i] shape: (1,)\n",
      "\tz value: 5.68024727992693 \n",
      "\tz shape: ()\n",
      "\ty_hat value: 1.0 \n",
      "\ty_hat shape: ()\n",
      "--------------------------------------------------\n",
      "\tself.w shape BEFORE  update: (3,)\n",
      "\tX[i] value: [1.         5.0164663  7.79398044] \n",
      "\tX[i] shape: (3,)\n",
      "\ty[i] value: [1.] \n",
      "\ty[i] shape: (1,)\n",
      "\tz value: 8.147853716621164 \n",
      "\tz shape: ()\n",
      "\ty_hat value: 1.0 \n",
      "\ty_hat shape: ()\n",
      "--------------------------------------------------\n",
      "\tself.w shape BEFORE  update: (3,)\n",
      "\tX[i] value: [1.         2.28434076 3.01914356] \n",
      "\tX[i] shape: (3,)\n",
      "\ty[i] value: [1.] \n",
      "\ty[i] shape: (1,)\n",
      "\tz value: 3.0586532072522727 \n",
      "\tz shape: ()\n",
      "\ty_hat value: 1.0 \n",
      "\ty_hat shape: ()\n",
      "--------------------------------------------------\n",
      "\tself.w shape BEFORE  update: (3,)\n",
      "\tX[i] value: [1.         4.17260123 3.12795459] \n",
      "\tX[i] shape: (3,)\n",
      "\ty[i] value: [1.] \n",
      "\ty[i] shape: (1,)\n",
      "\tz value: 4.703471158761689 \n",
      "\tz shape: ()\n",
      "\ty_hat value: 1.0 \n",
      "\ty_hat shape: ()\n",
      "--------------------------------------------------\n",
      "\tself.w shape BEFORE  update: (3,)\n",
      "\tX[i] value: [1.         1.31417215 4.11875456] \n",
      "\tX[i] shape: (3,)\n",
      "\ty[i] value: [1.] \n",
      "\ty[i] shape: (1,)\n",
      "\tz value: 2.89157587988272 \n",
      "\tz shape: ()\n",
      "\ty_hat value: 1.0 \n",
      "\ty_hat shape: ()\n",
      "--------------------------------------------------\n",
      "\tself.w shape BEFORE  update: (3,)\n",
      "\tX[i] value: [1.         2.16003599 4.82028615] \n",
      "\tX[i] shape: (3,)\n",
      "\ty[i] value: [1.] \n",
      "\ty[i] shape: (1,)\n",
      "\tz value: 4.011418747210591 \n",
      "\tz shape: ()\n",
      "\ty_hat value: 1.0 \n",
      "\ty_hat shape: ()\n",
      "--------------------------------------------------\n",
      "\tself.w shape BEFORE  update: (3,)\n",
      "\tX[i] value: [1.         2.40751051 6.68456514] \n",
      "\tX[i] shape: (3,)\n",
      "\ty[i] value: [1.] \n",
      "\ty[i] shape: (1,)\n",
      "\tz value: 5.312507572301293 \n",
      "\tz shape: ()\n",
      "\ty_hat value: 1.0 \n",
      "\ty_hat shape: ()\n",
      "--------------------------------------------------\n",
      "\tself.w shape BEFORE  update: (3,)\n",
      "\tX[i] value: [1.         2.6433655  3.44217309] \n",
      "\tX[i] shape: (3,)\n",
      "\ty[i] value: [1.] \n",
      "\ty[i] shape: (1,)\n",
      "\tz value: 3.60746907281668 \n",
      "\tz shape: ()\n",
      "\ty_hat value: 1.0 \n",
      "\ty_hat shape: ()\n",
      "--------------------------------------------------\n",
      "\tself.w shape BEFORE  update: (3,)\n",
      "\tX[i] value: [1.         5.40905315 1.86808047] \n",
      "\tX[i] shape: (3,)\n",
      "\ty[i] value: [1.] \n",
      "\ty[i] shape: (1,)\n",
      "\tz value: 4.999461569895004 \n"
     ]
    },
    {
     "name": "stdout",
     "output_type": "stream",
     "text": [
      "\tz shape: ()\n",
      "\ty_hat value: 1.0 \n",
      "\ty_hat shape: ()\n",
      "--------------------------------------------------\n",
      "\tself.w shape BEFORE  update: (3,)\n",
      "\tX[i] value: [1.         4.39397216 6.26403766] \n",
      "\tX[i] shape: (3,)\n",
      "\ty[i] value: [1.] \n",
      "\ty[i] shape: (1,)\n",
      "\tz value: 6.728950269609349 \n",
      "\tz shape: ()\n",
      "\ty_hat value: 1.0 \n",
      "\ty_hat shape: ()\n",
      "--------------------------------------------------\n",
      "\tself.w shape BEFORE  update: (3,)\n",
      "\tX[i] value: [1.         1.21575737 4.31979522] \n",
      "\tX[i] shape: (3,)\n",
      "\ty[i] value: [1.] \n",
      "\ty[i] shape: (1,)\n",
      "\tz value: 2.9271397123214458 \n",
      "\tz shape: ()\n",
      "\ty_hat value: 1.0 \n",
      "\ty_hat shape: ()\n",
      "--------------------------------------------------\n",
      "\tself.w shape BEFORE  update: (3,)\n",
      "\tX[i] value: [1.         4.4501302  5.35415694] \n",
      "\tX[i] shape: (3,)\n",
      "\ty[i] value: [1.] \n",
      "\ty[i] shape: (1,)\n",
      "\tz value: 6.242086238569753 \n",
      "\tz shape: ()\n",
      "\ty_hat value: 1.0 \n",
      "\ty_hat shape: ()\n",
      "--------------------------------------------------\n",
      "\tself.w shape BEFORE  update: (3,)\n",
      "\tX[i] value: [1.         1.85753852 1.71290206] \n",
      "\tX[i] shape: (3,)\n",
      "\ty[i] value: [1.] \n",
      "\ty[i] shape: (1,)\n",
      "\tz value: 1.9348547997247232 \n",
      "\tz shape: ()\n",
      "\ty_hat value: 1.0 \n",
      "\ty_hat shape: ()\n",
      "--------------------------------------------------\n",
      "\tself.w shape BEFORE  update: (3,)\n",
      "\tX[i] value: [1.         4.90402931 4.51439254] \n",
      "\tX[i] shape: (3,)\n",
      "\ty[i] value: [1.] \n",
      "\ty[i] shape: (1,)\n",
      "\tz value: 6.12937791179223 \n",
      "\tz shape: ()\n",
      "\ty_hat value: 1.0 \n",
      "\ty_hat shape: ()\n",
      "--------------------------------------------------\n",
      "\tself.w shape BEFORE  update: (3,)\n",
      "\tX[i] value: [1.         4.43386634 4.6000659 ] \n",
      "\tX[i] shape: (3,)\n",
      "\ty[i] value: [1.] \n",
      "\ty[i] shape: (1,)\n",
      "\tz value: 5.785997400732816 \n",
      "\tz shape: ()\n",
      "\ty_hat value: 1.0 \n",
      "\ty_hat shape: ()\n",
      "--------------------------------------------------\n",
      "\tself.w shape BEFORE  update: (3,)\n",
      "\tX[i] value: [1.         2.82216263 4.4022752 ] \n",
      "\tX[i] shape: (3,)\n",
      "\ty[i] value: [1.] \n",
      "\ty[i] shape: (1,)\n",
      "\tz value: 4.320520505333486 \n",
      "\tz shape: ()\n",
      "\ty_hat value: 1.0 \n",
      "\ty_hat shape: ()\n",
      "--------------------------------------------------\n",
      "\tself.w shape BEFORE  update: (3,)\n",
      "\tX[i] value: [1.         4.50761641 2.76270705] \n",
      "\tX[i] shape: (3,)\n",
      "\ty[i] value: [1.] \n",
      "\ty[i] shape: (1,)\n",
      "\tz value: 4.769653942713984 \n",
      "\tz shape: ()\n",
      "\ty_hat value: 1.0 \n",
      "\ty_hat shape: ()\n",
      "--------------------------------------------------\n",
      "\tself.w shape BEFORE  update: (3,)\n",
      "\tX[i] value: [1.         7.23161625 4.82070269] \n",
      "\tX[i] shape: (3,)\n",
      "\ty[i] value: [1.] \n",
      "\ty[i] shape: (1,)\n",
      "\tz value: 8.257912849028243 \n",
      "\tz shape: ()\n",
      "\ty_hat value: 1.0 \n",
      "\ty_hat shape: ()\n",
      "--------------------------------------------------\n",
      "\tself.w shape BEFORE  update: (3,)\n",
      "\tX[i] value: [1.         1.93660182 5.13718421] \n",
      "\tX[i] shape: (3,)\n",
      "\ty[i] value: [1.] \n",
      "\ty[i] shape: (1,)\n",
      "\tz value: 4.010289061375805 \n",
      "\tz shape: ()\n",
      "\ty_hat value: 1.0 \n",
      "\ty_hat shape: ()\n",
      "--------------------------------------------------\n",
      "\tself.w shape BEFORE  update: (3,)\n",
      "\tX[i] value: [1.         2.31180183 5.36327052] \n",
      "\tX[i] shape: (3,)\n",
      "\ty[i] value: [1.] \n",
      "\ty[i] shape: (1,)\n",
      "\tz value: 4.457089163169952 \n",
      "\tz shape: ()\n",
      "\ty_hat value: 1.0 \n",
      "\ty_hat shape: ()\n",
      "--------------------------------------------------\n",
      "\tself.w shape BEFORE  update: (3,)\n",
      "\tX[i] value: [1.         6.00674641 2.57853653] \n",
      "\tX[i] shape: (3,)\n",
      "\ty[i] value: [1.] \n",
      "\ty[i] shape: (1,)\n",
      "\tz value: 5.916756763857853 \n",
      "\tz shape: ()\n",
      "\ty_hat value: 1.0 \n",
      "\ty_hat shape: ()\n",
      "--------------------------------------------------\n",
      "\tself.w shape BEFORE  update: (3,)\n",
      "\tX[i] value: [1.         5.6686164  4.71495754] \n",
      "\tX[i] shape: (3,)\n",
      "\ty[i] value: [1.] \n",
      "\ty[i] shape: (1,)\n",
      "\tz value: 6.8872227229930285 \n",
      "\tz shape: ()\n",
      "\ty_hat value: 1.0 \n",
      "\ty_hat shape: ()\n",
      "--------------------------------------------------\n",
      "\tself.w shape BEFORE  update: (3,)\n",
      "\tX[i] value: [1.         5.42384996 7.28534182] \n",
      "\tX[i] shape: (3,)\n",
      "\ty[i] value: [1.] \n",
      "\ty[i] shape: (1,)\n",
      "\tz value: 8.190491604663961 \n",
      "\tz shape: ()\n",
      "\ty_hat value: 1.0 \n",
      "\ty_hat shape: ()\n",
      "--------------------------------------------------\n",
      "\tself.w shape BEFORE  update: (3,)\n",
      "\tX[i] value: [1.         3.57497532 2.69449067] \n",
      "\tX[i] shape: (3,)\n",
      "\ty[i] value: [1.] \n",
      "\ty[i] shape: (1,)\n",
      "\tz value: 3.9487607148170265 \n",
      "\tz shape: ()\n",
      "\ty_hat value: 1.0 \n",
      "\ty_hat shape: ()\n",
      "--------------------------------------------------\n",
      "\tself.w shape BEFORE  update: (3,)\n",
      "\tX[i] value: [1.         2.45931581 2.58697514] \n",
      "\tX[i] shape: (3,)\n",
      "\ty[i] value: [1.] \n",
      "\ty[i] shape: (1,)\n",
      "\tz value: 2.951573600924253 \n",
      "\tz shape: ()\n",
      "\ty_hat value: 1.0 \n",
      "\ty_hat shape: ()\n",
      "--------------------------------------------------\n",
      "\tself.w shape BEFORE  update: (3,)\n",
      "\tX[i] value: [1.         3.86645592 4.59089255] \n",
      "\tX[i] shape: (3,)\n",
      "\ty[i] value: [1.] \n",
      "\ty[i] shape: (1,)\n",
      "\tz value: 5.305542722972269 \n",
      "\tz shape: ()\n",
      "\ty_hat value: 1.0 \n",
      "\ty_hat shape: ()\n",
      "--------------------------------------------------\n",
      "\tself.w shape BEFORE  update: (3,)\n",
      "\tX[i] value: [1.         4.47924252 5.43272341] \n",
      "\tX[i] shape: (3,)\n",
      "\ty[i] value: [1.] \n",
      "\ty[i] shape: (1,)\n",
      "\tz value: 6.312560720480272 \n",
      "\tz shape: ()\n",
      "\ty_hat value: 1.0 \n",
      "\ty_hat shape: ()\n",
      "--------------------------------------------------\n",
      "\tself.w shape BEFORE  update: (3,)\n",
      "\tX[i] value: [1.         4.02251994 6.51759487] \n",
      "\tX[i] shape: (3,)\n",
      "\ty[i] value: [1.] \n",
      "\ty[i] shape: (1,)\n",
      "\tz value: 6.566724476645397 \n",
      "\tz shape: ()\n",
      "\ty_hat value: 1.0 \n",
      "\ty_hat shape: ()\n",
      "--------------------------------------------------\n",
      "\tself.w shape BEFORE  update: (3,)\n",
      "\tX[i] value: [1.         3.54160092 8.7114712 ] \n",
      "\tX[i] shape: (3,)\n",
      "\ty[i] value: [1.] \n",
      "\ty[i] shape: (1,)\n",
      "\tz value: 7.451350966090665 \n",
      "\tz shape: ()\n",
      "\ty_hat value: 1.0 \n",
      "\ty_hat shape: ()\n",
      "--------------------------------------------------\n",
      "\tself.w shape BEFORE  update: (3,)\n",
      "\tX[i] value: [1.         5.08368763 2.51535956] \n",
      "\tX[i] shape: (3,)\n",
      "\ty[i] value: [1.] \n",
      "\ty[i] shape: (1,)\n",
      "\tz value: 5.106843404500897 \n",
      "\tz shape: ()\n",
      "\ty_hat value: 1.0 \n",
      "\ty_hat shape: ()\n",
      "--------------------------------------------------\n",
      "\tself.w shape BEFORE  update: (3,)\n",
      "\tX[i] value: [1.         2.14515978 4.83566674] \n",
      "\tX[i] shape: (3,)\n",
      "\ty[i] value: [1.] \n",
      "\ty[i] shape: (1,)\n",
      "\tz value: 4.007988174056015 \n",
      "\tz shape: ()\n",
      "\ty_hat value: 1.0 \n",
      "\ty_hat shape: ()\n",
      "--------------------------------------------------\n",
      "\tself.w shape BEFORE  update: (3,)\n",
      "\tX[i] value: [1.         3.6129511  5.23668513] \n",
      "\tX[i] shape: (3,)\n",
      "\ty[i] value: [1.] \n",
      "\ty[i] shape: (1,)\n",
      "\tz value: 5.472218676017178 \n",
      "\tz shape: ()\n",
      "\ty_hat value: 1.0 \n",
      "\ty_hat shape: ()\n",
      "--------------------------------------------------\n",
      "\tself.w shape BEFORE  update: (3,)\n",
      "\tX[i] value: [1.         4.81967161 3.87385662] \n",
      "\tX[i] shape: (3,)\n",
      "\ty[i] value: [1.] \n",
      "\ty[i] shape: (1,)\n",
      "\tz value: 5.682906364620748 \n",
      "\tz shape: ()\n",
      "\ty_hat value: 1.0 \n",
      "\ty_hat shape: ()\n",
      "--------------------------------------------------\n",
      "\tself.w shape BEFORE  update: (3,)\n",
      "\tX[i] value: [1.         2.53331026 1.37620764] \n",
      "\tX[i] shape: (3,)\n",
      "\ty[i] value: [1.] \n",
      "\ty[i] shape: (1,)\n",
      "\tz value: 2.3030945242768133 \n",
      "\tz shape: ()\n",
      "\ty_hat value: 1.0 \n",
      "\ty_hat shape: ()\n",
      "--------------------------------------------------\n",
      "\tself.w shape BEFORE  update: (3,)\n",
      "\tX[i] value: [1.         3.22661342 5.48332622] \n",
      "\tX[i] shape: (3,)\n",
      "\ty[i] value: [1.] \n",
      "\ty[i] shape: (1,)\n",
      "\tz value: 5.293471716395851 \n",
      "\tz shape: ()\n",
      "\ty_hat value: 1.0 \n",
      "\ty_hat shape: ()\n",
      "--------------------------------------------------\n",
      "\tself.w shape BEFORE  update: (3,)\n",
      "\tX[i] value: [1.         4.37082124 1.84231714] \n",
      "\tX[i] shape: (3,)\n",
      "\ty[i] value: [1.] \n",
      "\ty[i] shape: (1,)\n",
      "\tz value: 4.115070821092151 \n",
      "\tz shape: ()\n",
      "\ty_hat value: 1.0 \n",
      "\ty_hat shape: ()\n",
      "--------------------------------------------------\n",
      "\tself.w shape BEFORE  update: (3,)\n",
      "\tX[i] value: [1.         4.29995816 4.66738928] \n",
      "\tX[i] shape: (3,)\n",
      "\ty[i] value: [1.] \n",
      "\ty[i] shape: (1,)\n",
      "\tz value: 5.713383726972211 \n",
      "\tz shape: ()\n",
      "\ty_hat value: 1.0 \n",
      "\ty_hat shape: ()\n",
      "--------------------------------------------------\n",
      "\tself.w shape BEFORE  update: (3,)\n",
      "\tX[i] value: [1.         2.46911401 4.26625969] \n",
      "\tX[i] shape: (3,)\n",
      "\ty[i] value: [1.] \n",
      "\ty[i] shape: (1,)\n",
      "\tz value: 3.945117053180847 \n",
      "\tz shape: ()\n",
      "\ty_hat value: 1.0 \n",
      "\ty_hat shape: ()\n",
      "--------------------------------------------------\n",
      "\tself.w shape BEFORE  update: (3,)\n",
      "\tX[i] value: [1.         4.10082046 2.02031737] \n",
      "\tX[i] shape: (3,)\n",
      "\ty[i] value: [1.] \n",
      "\ty[i] shape: (1,)\n",
      "\tz value: 3.9934526928218315 \n",
      "\tz shape: ()\n",
      "\ty_hat value: 1.0 \n",
      "\ty_hat shape: ()\n",
      "\tData samples misclassified: 0\n",
      "Converged at epoch: 2\n",
      "Epochs trained: 2\n",
      "---------------------Results----------------------\n",
      "Accuracy ratio: 100/100\n"
     ]
    },
    {
     "data": {
      "image/png": "[encoded data removed]",
      "text/plain": [
       "<Figure size 432x288 with 1 Axes>"
      ]
     },
     "metadata": {
      "needs_background": "light"
     },
     "output_type": "display_data"
    },
    {
     "name": "stdout",
     "output_type": "stream",
     "text": [
      "Your code PASSED the code check!\n"
     ]
    }
   ],
   "source": [
    "def TEST_perceptron(debug):\n",
    "    # Generate toy data\n",
    "    rng = np.random.RandomState(42)\n",
    "    mu1 = [-1, -1]\n",
    "    cov1 = np.eye(2)\n",
    "    C1 = rng.multivariate_normal(mu1, cov1, 50)\n",
    "    mu2 = [4,4]\n",
    "    cov2 = np.eye(2) * 3\n",
    "    C2 = rng.multivariate_normal(mu2, cov2, 50)\n",
    "    y = np.ones(len(C1)+len(C2)).reshape(-1, 1)\n",
    "    y[:len(y)//2] = -1\n",
    "\n",
    "    # Combine class data\n",
    "    X = np.vstack((C1, C2))\n",
    "    m_samples = len(X)\n",
    "    # Add bias\n",
    "    X1 = np.hstack([np.ones((m_samples, 1)), X])\n",
    "    \n",
    "    perceptron = PocketPerceptron(alpha=.5, epochs=5, debug=debug)\n",
    "    perceptron.fit(X1, y)\n",
    "    y_hat = perceptron.predict(X1)\n",
    "    \n",
    "    print(\"{:-^50}\".format(\"Results\"))\n",
    "    acc = accuracy(y, y_hat)\n",
    "    \n",
    "    plt.plot(y)\n",
    "    plt.plot(y_hat, 'x')\n",
    "    plt.title(\"Predictions for Separable data\")\n",
    "    plt.xlabel(\"X index\")\n",
    "    plt.ylabel(\"class label prediction (y_hat)\")\n",
    "    plt.show()\n",
    "    \n",
    "    todo_check([\n",
    "        (y_hat.shape == y.shape, f\"'y_hat' shape does not match the shape of {y.shape}\"),\n",
    "        (np.isclose(acc, 1, rtol=.01), \"Accuracy value was incorrect\")\n",
    "    ])\n",
    "    \n",
    "TEST_perceptron(debug=True)\n",
    "garbage_collect(['TEST_perceptron'])"
   ]
  },
  {
   "cell_type": "markdown",
   "metadata": {
    "id": "sMbowEIXXHDV"
   },
   "source": [
    "# Setosa vs All\n",
    "\n",
    "Let's start by formulating the our classification problem as setosa-vs-all. Remember, this means that we want to classify each data sample as either setosa or not. Here setosa will be the positive class (label = 1) and versicolor and virginicas will be the negative class (label = -1)."
   ]
  },
  {
   "cell_type": "markdown",
   "metadata": {
    "id": "y3BdVEzNXHDV"
   },
   "source": [
    "## Petal length and width\n",
    "\n",
    "When we plotted the petal length against the petal width we could clearly see that the Iris setosas could be separated from the other iris types (revisit TODO 4's plot). Let's see if the perceptron can find a decision boundary to easily separate the setosas from the rest of the irises as we observed previously."
   ]
  },
  {
   "cell_type": "markdown",
   "metadata": {
    "id": "r4NfZ3etXHDV"
   },
   "source": [
    "### Training"
   ]
  },
  {
   "cell_type": "markdown",
   "metadata": {
    "id": "wqXocTF2XHDW"
   },
   "source": [
    "#### TODO 13\n",
    "Complete the TODO by getting our data, training the `PocketPerceptron` class and making predictions for our training and validation data.\n",
    "\n",
    "1. Call the `data_prep()` function to get the setosa-vs-all data where the sepal length and width features are dropped. To do so, pass the arguments corresponding to the following descriptions:\n",
    "    1. Pass the Iris dataset.\n",
    "    1. Set setosa as the positive class.\n",
    "    1. Set versicolor and virginica to represent the negative class.\n",
    "    1. Set the column 'class' to act as the labels/targets.\n",
    "    1. Drop the 'sepal length' and 'sepal width' features.\n",
    "    1. Return all data as NumPy arrays.\n",
    "1. Create an instance of the `PocketPerceptron`. Make sure to pass the arguments corresponding to the following descriptions: \n",
    "    1. Allow for training to occur for 10 passes over the data."
   ]
  },
  {
   "cell_type": "code",
   "execution_count": 83,
   "metadata": {
    "id": "JKR8k1VIXHDW",
    "outputId": "6ad3168b-1bff-4409-fb94-dba34ab7c407"
   },
   "outputs": [
    {
     "ename": "ValueError",
     "evalue": "With n_samples=0, test_size=0.2 and train_size=None, the resulting train set will be empty. Adjust any of the aforementioned parameters.",
     "output_type": "error",
     "traceback": [
      "\u001b[0;31m---------------------------------------------------------------------------\u001b[0m",
      "\u001b[0;31mValueError\u001b[0m                                Traceback (most recent call last)",
      "\u001b[0;32m<ipython-input-83-0e47f5a516c5>\u001b[0m in \u001b[0;36m<module>\u001b[0;34m\u001b[0m\n\u001b[1;32m      1\u001b[0m \u001b[0;31m# TODO 13.1\u001b[0m\u001b[0;34m\u001b[0m\u001b[0;34m\u001b[0m\u001b[0;34m\u001b[0m\u001b[0m\n\u001b[0;32m----> 2\u001b[0;31m \u001b[0mdata\u001b[0m \u001b[0;34m=\u001b[0m \u001b[0mdata_prep\u001b[0m\u001b[0;34m(\u001b[0m\u001b[0miris_df\u001b[0m\u001b[0;34m,\u001b[0m \u001b[0mpos_class\u001b[0m\u001b[0;34m=\u001b[0m\u001b[0;34m[\u001b[0m\u001b[0;34m'setosa'\u001b[0m\u001b[0;34m]\u001b[0m\u001b[0;34m,\u001b[0m \u001b[0mneg_class\u001b[0m\u001b[0;34m=\u001b[0m\u001b[0;34m[\u001b[0m\u001b[0;34m'versicolor'\u001b[0m\u001b[0;34m,\u001b[0m \u001b[0;34m'virginica'\u001b[0m\u001b[0;34m]\u001b[0m\u001b[0;34m,\u001b[0m \u001b[0mlabel_name\u001b[0m\u001b[0;34m=\u001b[0m\u001b[0;34m'class'\u001b[0m\u001b[0;34m,\u001b[0m \u001b[0mdrop_features\u001b[0m\u001b[0;34m=\u001b[0m\u001b[0;34m[\u001b[0m\u001b[0;34m'sepal length'\u001b[0m\u001b[0;34m,\u001b[0m \u001b[0;34m'sepal width'\u001b[0m\u001b[0;34m]\u001b[0m\u001b[0;34m,\u001b[0m \u001b[0mreturn_array\u001b[0m\u001b[0;34m=\u001b[0m\u001b[0;32mTrue\u001b[0m\u001b[0;34m)\u001b[0m\u001b[0;34m\u001b[0m\u001b[0;34m\u001b[0m\u001b[0m\n\u001b[0m\u001b[1;32m      3\u001b[0m \u001b[0mX_trn\u001b[0m\u001b[0;34m,\u001b[0m \u001b[0my_trn\u001b[0m\u001b[0;34m,\u001b[0m \u001b[0mX_vld\u001b[0m\u001b[0;34m,\u001b[0m \u001b[0my_vld\u001b[0m\u001b[0;34m,\u001b[0m \u001b[0m_\u001b[0m\u001b[0;34m,\u001b[0m \u001b[0m_\u001b[0m\u001b[0;34m,\u001b[0m \u001b[0mfeature_names\u001b[0m \u001b[0;34m=\u001b[0m \u001b[0mdata\u001b[0m\u001b[0;34m\u001b[0m\u001b[0;34m\u001b[0m\u001b[0m\n\u001b[1;32m      4\u001b[0m \u001b[0;34m\u001b[0m\u001b[0m\n\u001b[1;32m      5\u001b[0m \u001b[0;34m\u001b[0m\u001b[0m\n",
      "\u001b[0;32m<ipython-input-57-5f24b1c0c90f>\u001b[0m in \u001b[0;36mdata_prep\u001b[0;34m(df, label_name, pos_class, neg_class, seed, return_array, drop_features)\u001b[0m\n\u001b[1;32m     47\u001b[0m     \u001b[0mX\u001b[0m\u001b[0;34m,\u001b[0m \u001b[0my\u001b[0m \u001b[0;34m=\u001b[0m \u001b[0mfeature_label_split\u001b[0m\u001b[0;34m(\u001b[0m\u001b[0mdf\u001b[0m\u001b[0;34m,\u001b[0m \u001b[0mlabel_name\u001b[0m\u001b[0;34m=\u001b[0m\u001b[0mlabel_name\u001b[0m\u001b[0;34m)\u001b[0m\u001b[0;34m\u001b[0m\u001b[0;34m\u001b[0m\u001b[0m\n\u001b[1;32m     48\u001b[0m     \u001b[0;31m# Apply train, validation and test set splitting\u001b[0m\u001b[0;34m\u001b[0m\u001b[0;34m\u001b[0m\u001b[0;34m\u001b[0m\u001b[0m\n\u001b[0;32m---> 49\u001b[0;31m     \u001b[0mdata\u001b[0m \u001b[0;34m=\u001b[0m \u001b[0mtrain_valid_test_split\u001b[0m\u001b[0;34m(\u001b[0m\u001b[0mX\u001b[0m\u001b[0;34m,\u001b[0m \u001b[0my\u001b[0m\u001b[0;34m,\u001b[0m \u001b[0mseed\u001b[0m\u001b[0;34m=\u001b[0m\u001b[0mseed\u001b[0m\u001b[0;34m)\u001b[0m\u001b[0;34m\u001b[0m\u001b[0;34m\u001b[0m\u001b[0m\n\u001b[0m\u001b[1;32m     50\u001b[0m     \u001b[0mX_trn\u001b[0m\u001b[0;34m,\u001b[0m \u001b[0my_trn\u001b[0m\u001b[0;34m,\u001b[0m \u001b[0mX_vld\u001b[0m\u001b[0;34m,\u001b[0m \u001b[0my_vld\u001b[0m\u001b[0;34m,\u001b[0m \u001b[0mX_tst\u001b[0m\u001b[0;34m,\u001b[0m \u001b[0my_tst\u001b[0m \u001b[0;34m=\u001b[0m \u001b[0mdata\u001b[0m\u001b[0;34m\u001b[0m\u001b[0;34m\u001b[0m\u001b[0m\n\u001b[1;32m     51\u001b[0m     \u001b[0;31m# Feature cleaning\u001b[0m\u001b[0;34m\u001b[0m\u001b[0;34m\u001b[0m\u001b[0;34m\u001b[0m\u001b[0m\n",
      "\u001b[0;32m<ipython-input-49-2c24de65f2f9>\u001b[0m in \u001b[0;36mtrain_valid_test_split\u001b[0;34m(X, y, test_size, seed)\u001b[0m\n\u001b[1;32m      2\u001b[0m \u001b[0;34m\u001b[0m\u001b[0m\n\u001b[1;32m      3\u001b[0m \u001b[0;32mdef\u001b[0m \u001b[0mtrain_valid_test_split\u001b[0m\u001b[0;34m(\u001b[0m\u001b[0mX\u001b[0m\u001b[0;34m,\u001b[0m \u001b[0my\u001b[0m\u001b[0;34m,\u001b[0m \u001b[0mtest_size\u001b[0m\u001b[0;34m=\u001b[0m\u001b[0;36m.2\u001b[0m\u001b[0;34m,\u001b[0m \u001b[0mseed\u001b[0m\u001b[0;34m=\u001b[0m\u001b[0;36m42\u001b[0m\u001b[0;34m)\u001b[0m\u001b[0;34m:\u001b[0m\u001b[0;34m\u001b[0m\u001b[0;34m\u001b[0m\u001b[0m\n\u001b[0;32m----> 4\u001b[0;31m     \u001b[0mX_trn\u001b[0m\u001b[0;34m,\u001b[0m \u001b[0mX_tst\u001b[0m\u001b[0;34m,\u001b[0m \u001b[0my_trn\u001b[0m\u001b[0;34m,\u001b[0m \u001b[0my_tst\u001b[0m \u001b[0;34m=\u001b[0m \u001b[0mtrain_test_split\u001b[0m\u001b[0;34m(\u001b[0m\u001b[0mX\u001b[0m\u001b[0;34m,\u001b[0m \u001b[0my\u001b[0m\u001b[0;34m,\u001b[0m \u001b[0mtest_size\u001b[0m\u001b[0;34m=\u001b[0m\u001b[0mtest_size\u001b[0m\u001b[0;34m,\u001b[0m \u001b[0mrandom_state\u001b[0m\u001b[0;34m=\u001b[0m\u001b[0mseed\u001b[0m\u001b[0;34m)\u001b[0m\u001b[0;34m\u001b[0m\u001b[0;34m\u001b[0m\u001b[0m\n\u001b[0m\u001b[1;32m      5\u001b[0m     \u001b[0mX_trn\u001b[0m\u001b[0;34m,\u001b[0m \u001b[0mX_vld\u001b[0m\u001b[0;34m,\u001b[0m \u001b[0my_trn\u001b[0m\u001b[0;34m,\u001b[0m \u001b[0my_vld\u001b[0m \u001b[0;34m=\u001b[0m \u001b[0mtrain_test_split\u001b[0m\u001b[0;34m(\u001b[0m\u001b[0mX_trn\u001b[0m\u001b[0;34m,\u001b[0m \u001b[0my_trn\u001b[0m\u001b[0;34m,\u001b[0m \u001b[0mtest_size\u001b[0m\u001b[0;34m=\u001b[0m\u001b[0mtest_size\u001b[0m\u001b[0;34m,\u001b[0m \u001b[0mrandom_state\u001b[0m\u001b[0;34m=\u001b[0m\u001b[0mseed\u001b[0m\u001b[0;34m)\u001b[0m\u001b[0;34m\u001b[0m\u001b[0;34m\u001b[0m\u001b[0m\n\u001b[1;32m      6\u001b[0m \u001b[0;34m\u001b[0m\u001b[0m\n",
      "\u001b[0;32m~/opt/anaconda3/lib/python3.8/site-packages/sklearn/model_selection/_split.py\u001b[0m in \u001b[0;36mtrain_test_split\u001b[0;34m(test_size, train_size, random_state, shuffle, stratify, *arrays)\u001b[0m\n\u001b[1;32m   2420\u001b[0m \u001b[0;34m\u001b[0m\u001b[0m\n\u001b[1;32m   2421\u001b[0m     \u001b[0mn_samples\u001b[0m \u001b[0;34m=\u001b[0m \u001b[0m_num_samples\u001b[0m\u001b[0;34m(\u001b[0m\u001b[0marrays\u001b[0m\u001b[0;34m[\u001b[0m\u001b[0;36m0\u001b[0m\u001b[0;34m]\u001b[0m\u001b[0;34m)\u001b[0m\u001b[0;34m\u001b[0m\u001b[0;34m\u001b[0m\u001b[0m\n\u001b[0;32m-> 2422\u001b[0;31m     n_train, n_test = _validate_shuffle_split(\n\u001b[0m\u001b[1;32m   2423\u001b[0m         \u001b[0mn_samples\u001b[0m\u001b[0;34m,\u001b[0m \u001b[0mtest_size\u001b[0m\u001b[0;34m,\u001b[0m \u001b[0mtrain_size\u001b[0m\u001b[0;34m,\u001b[0m \u001b[0mdefault_test_size\u001b[0m\u001b[0;34m=\u001b[0m\u001b[0;36m0.25\u001b[0m\u001b[0;34m\u001b[0m\u001b[0;34m\u001b[0m\u001b[0m\n\u001b[1;32m   2424\u001b[0m     )\n",
      "\u001b[0;32m~/opt/anaconda3/lib/python3.8/site-packages/sklearn/model_selection/_split.py\u001b[0m in \u001b[0;36m_validate_shuffle_split\u001b[0;34m(n_samples, test_size, train_size, default_test_size)\u001b[0m\n\u001b[1;32m   2096\u001b[0m \u001b[0;34m\u001b[0m\u001b[0m\n\u001b[1;32m   2097\u001b[0m     \u001b[0;32mif\u001b[0m \u001b[0mn_train\u001b[0m \u001b[0;34m==\u001b[0m \u001b[0;36m0\u001b[0m\u001b[0;34m:\u001b[0m\u001b[0;34m\u001b[0m\u001b[0;34m\u001b[0m\u001b[0m\n\u001b[0;32m-> 2098\u001b[0;31m         raise ValueError(\n\u001b[0m\u001b[1;32m   2099\u001b[0m             \u001b[0;34m\"With n_samples={}, test_size={} and train_size={}, the \"\u001b[0m\u001b[0;34m\u001b[0m\u001b[0;34m\u001b[0m\u001b[0m\n\u001b[1;32m   2100\u001b[0m             \u001b[0;34m\"resulting train set will be empty. Adjust any of the \"\u001b[0m\u001b[0;34m\u001b[0m\u001b[0;34m\u001b[0m\u001b[0m\n",
      "\u001b[0;31mValueError\u001b[0m: With n_samples=0, test_size=0.2 and train_size=None, the resulting train set will be empty. Adjust any of the aforementioned parameters."
     ]
    }
   ],
   "source": [
    "# TODO 13.1\n",
    "data = data_prep(iris_df, pos_class=['setosa'], neg_class=['versicolor', 'virginica'], label_name='class', drop_features=['sepal length', 'sepal width'], return_array=True)\n",
    "X_trn, y_trn, X_vld, y_vld, _, _, feature_names = data\n",
    "\n",
    "\n",
    "# TODO 13.2\n",
    "perceptron = PocketPerceptron(num_passes=10)\n",
    "\n",
    "perceptron.fit(X_trn, y_trn)\n",
    "\n",
    "y_hat_trn = perceptron.predict(X_trn)\n",
    "\n",
    "todo_check([\n",
    "    (np.all(feature_names == ['bias', 'petal length', 'petal width']), \"features names for training and validation data incorrect! Make sure you dropped the right features.\"),\n",
    "    (np.all(np.isclose(X_trn[4].flatten(), [1., 0.97932518, 1.17336698])), \"'X_trn' values are incorrect\"),\n",
    "    (np.all(np.isclose(perceptron.w_best, np.array([-0.1254, -0.12089, -0.2218]), rtol=.1)), \"best weight values potentially incorrect\")\n",
    "])"
   ]
  },
  {
   "cell_type": "markdown",
   "metadata": {
    "id": "HCmftT3QXHDW"
   },
   "source": [
    "First, notice that our algorithm converges and ends training only after 2 epochs (see above output)! This is because the decision boundary found in the 2nd epoch misclassifies 0 training data samples!\n",
    "\n",
    "Below, we plot our predicted classes against the actual ground truth labels. Recall, predictions are plotted as the red xs and the ground truth labels are plotted as the blue circles. If a prediction matches the ground truth then the red x will be plotted on top of the blue circle.\n",
    "\n",
    "As we can see it looks like we predicted every training data sample's label correctly, although it is slightly hard to tell as the data samples are packed tightly!"
   ]
  },
  {
   "cell_type": "code",
   "execution_count": 84,
   "metadata": {
    "id": "oKfeHwJsXHDW",
    "outputId": "97e9fc11-2481-432b-8706-a455d6ba634b",
    "scrolled": true
   },
   "outputs": [
    {
     "ename": "NameError",
     "evalue": "name 'y_trn' is not defined",
     "output_type": "error",
     "traceback": [
      "\u001b[0;31m---------------------------------------------------------------------------\u001b[0m",
      "\u001b[0;31mNameError\u001b[0m                                 Traceback (most recent call last)",
      "\u001b[0;32m<ipython-input-84-3bb62cdce248>\u001b[0m in \u001b[0;36m<module>\u001b[0;34m\u001b[0m\n\u001b[1;32m      1\u001b[0m plot_preds_vs_true(\n\u001b[0;32m----> 2\u001b[0;31m     \u001b[0my\u001b[0m\u001b[0;34m=\u001b[0m\u001b[0my_trn\u001b[0m\u001b[0;34m,\u001b[0m\u001b[0;34m\u001b[0m\u001b[0;34m\u001b[0m\u001b[0m\n\u001b[0m\u001b[1;32m      3\u001b[0m     \u001b[0my_hat\u001b[0m\u001b[0;34m=\u001b[0m\u001b[0my_hat_trn\u001b[0m\u001b[0;34m,\u001b[0m\u001b[0;34m\u001b[0m\u001b[0;34m\u001b[0m\u001b[0m\n\u001b[1;32m      4\u001b[0m     \u001b[0mtitle\u001b[0m\u001b[0;34m=\u001b[0m\u001b[0;34m\"Training Predictions\"\u001b[0m\u001b[0;34m,\u001b[0m\u001b[0;34m\u001b[0m\u001b[0;34m\u001b[0m\u001b[0m\n\u001b[1;32m      5\u001b[0m     \u001b[0mdataset\u001b[0m\u001b[0;34m=\u001b[0m\u001b[0;34m\"Training\"\u001b[0m\u001b[0;34m,\u001b[0m\u001b[0;34m\u001b[0m\u001b[0;34m\u001b[0m\u001b[0m\n",
      "\u001b[0;31mNameError\u001b[0m: name 'y_trn' is not defined"
     ]
    }
   ],
   "source": [
    "plot_preds_vs_true(\n",
    "    y=y_trn,\n",
    "    y_hat=y_hat_trn,\n",
    "    title=\"Training Predictions\",\n",
    "    dataset=\"Training\",\n",
    "    xlabel=\"Data Sample Index\",\n",
    "    ylabel=\"Class Labels [-1, 1]\"\n",
    ")"
   ]
  },
  {
   "cell_type": "markdown",
   "metadata": {
    "id": "oAtQ2JL7XHDW"
   },
   "source": [
    "Since we are only using 2 features (petal length and width) we can visualize the weights as forming a decision boundary. As we can see below, the learned weights clearly separate setosa from the rest of the iris flowers.\n",
    "\n",
    "However, notice how close the line is to the 'not setosa' data samples. If we introduced new unseen data samples it could be prone to misclassifying them! "
   ]
  },
  {
   "cell_type": "code",
   "execution_count": null,
   "metadata": {
    "id": "bs9nnSocXHDW",
    "outputId": "ebf25569-d573-42a7-f660-69e75484c42f"
   },
   "outputs": [
    {
     "data": {
      "image/png": "[encoded data removed]",
      "text/plain": [
       "<Figure size 432x288 with 1 Axes>"
      ]
     },
     "metadata": {
      "needs_background": "light"
     },
     "output_type": "display_data"
    }
   ],
   "source": [
    "plot_decision_boundry(\n",
    "    X=X_trn, \n",
    "    y=y_trn, \n",
    "    w=perceptron.w_best,\n",
    "    xlabel='petal length',\n",
    "    ylabel='petal width',\n",
    "    title='Setosa-vs-All Decision Boundary',\n",
    "    class_name_key={1:'setosa', -1:\"not setosa\"}\n",
    ")"
   ]
  },
  {
   "cell_type": "markdown",
   "metadata": {
    "id": "iO3tXx4yXHDX"
   },
   "source": [
    "Next, let's print out our metrics. Most of the time it is much hard for classification algorithms to visualize their results compared to regression. Therefore, most of our analysis is based on metrics and the confusion matrix.\n",
    "\n",
    "Here we start by looking at our accuracy. As we expected from the above visualizations, we are getting 100% training accuracy."
   ]
  },
  {
   "cell_type": "code",
   "execution_count": 85,
   "metadata": {
    "id": "WFqW7GcuXHDX",
    "outputId": "1d32afd6-60b0-4a1d-9006-91c8ceb716a0"
   },
   "outputs": [
    {
     "ename": "NameError",
     "evalue": "name 'y_hat_trn' is not defined",
     "output_type": "error",
     "traceback": [
      "\u001b[0;31m---------------------------------------------------------------------------\u001b[0m",
      "\u001b[0;31mNameError\u001b[0m                                 Traceback (most recent call last)",
      "\u001b[0;32m<ipython-input-85-cb6846e8c5b9>\u001b[0m in \u001b[0;36m<module>\u001b[0;34m\u001b[0m\n\u001b[0;32m----> 1\u001b[0;31m \u001b[0mtrn_acc\u001b[0m \u001b[0;34m=\u001b[0m \u001b[0maccuracy\u001b[0m\u001b[0;34m(\u001b[0m\u001b[0my_hat\u001b[0m\u001b[0;34m=\u001b[0m\u001b[0my_hat_trn\u001b[0m\u001b[0;34m,\u001b[0m \u001b[0my\u001b[0m\u001b[0;34m=\u001b[0m\u001b[0my_trn\u001b[0m\u001b[0;34m)\u001b[0m\u001b[0;34m\u001b[0m\u001b[0;34m\u001b[0m\u001b[0m\n\u001b[0m\u001b[1;32m      2\u001b[0m \u001b[0mprint\u001b[0m\u001b[0;34m(\u001b[0m\u001b[0;34mf\"Training accuracy: {trn_acc}\"\u001b[0m\u001b[0;34m)\u001b[0m\u001b[0;34m\u001b[0m\u001b[0;34m\u001b[0m\u001b[0m\n",
      "\u001b[0;31mNameError\u001b[0m: name 'y_hat_trn' is not defined"
     ]
    }
   ],
   "source": [
    "trn_acc = accuracy(y_hat=y_hat_trn, y=y_trn)\n",
    "print(f\"Training accuracy: {trn_acc}\")"
   ]
  },
  {
   "cell_type": "markdown",
   "metadata": {
    "id": "5vwXwQL-XHDX"
   },
   "source": [
    "Now let's plot the confusion matrix. Here our confusion matrix can be read as follows:\n",
    "\n",
    "- 64 true negatives\n",
    "- 0 false positives\n",
    "- 0 false negatives\n",
    "- 32 true positives\n",
    "\n",
    "Note, the colors correspond to the number of samples where the large the number of samples the brighter the color."
   ]
  },
  {
   "cell_type": "code",
   "execution_count": null,
   "metadata": {
    "id": "NuA5ZlZFXHDX",
    "outputId": "ffd2e05c-e655-48ed-8a96-ddcf70634c15"
   },
   "outputs": [
    {
     "data": {
      "image/png": "[encoded data removed]",
      "text/plain": [
       "<Figure size 432x288 with 2 Axes>"
      ]
     },
     "metadata": {
      "needs_background": "light"
     },
     "output_type": "display_data"
    }
   ],
   "source": [
    "plot_confusion_matrix(y_hat=y_hat_trn, \n",
    "                      y=y_trn,\n",
    "                      class_name_key={1:'setosa', -1:\"not setosa\"});"
   ]
  },
  {
   "cell_type": "markdown",
   "metadata": {
    "id": "fiLC815nXHDX"
   },
   "source": [
    "Lastly, let's compute the scores for the PPV, TPR, and TNR. To do so, we quickly define the function `compute_scores()`."
   ]
  },
  {
   "cell_type": "code",
   "execution_count": null,
   "metadata": {
    "id": "lKOJQWjoXHDX"
   },
   "outputs": [],
   "source": [
    "def compute_scores(y, y_hat):\n",
    "    tn, fp, fn, tp = confusion_matrix(y_true=y, y_pred=y_hat).ravel()\n",
    "    ppv_ = ppv(tp=tp, fp=fp) \n",
    "    tpr_ = tpr(tp=tp, fn=fn)\n",
    "    tnr_ = tnr(tn=tn, fp=fp)\n",
    "    \n",
    "    print(f\"PPV ratio tp/(tp+fp): {tp}/{tp+fp}\")\n",
    "    print(f\"PPV (precision): {ppv_}\\n\")\n",
    "    \n",
    "    print(f\"TPR ratio tp/(tp+fn): {tp}/{tp+fn}\")\n",
    "    print(f\"TPR (recall/sensitivity): {tpr_}\\n\")\n",
    "    \n",
    "    print(f\"TNR ratio tn/(tn+fp): {tn}/{tn+fp}\")\n",
    "    print(f\"TNR specificity: {tnr_}\")\n",
    "    \n",
    "    return ppv_, tpr_, tnr_"
   ]
  },
  {
   "cell_type": "markdown",
   "metadata": {
    "id": "6t9rajCmXHDY"
   },
   "source": [
    "Once again, as expected, we see that all our scores report 100% correct!"
   ]
  },
  {
   "cell_type": "code",
   "execution_count": null,
   "metadata": {
    "id": "ZOhHL6d4XHDY",
    "outputId": "bf7db2e3-fca2-4b4c-99d9-cd8bdbc712bf",
    "scrolled": true
   },
   "outputs": [
    {
     "name": "stdout",
     "output_type": "stream",
     "text": [
      "PPV ratio tp/(tp+fp): 32/32\n",
      "PPV (precision): 1.0\n",
      "\n",
      "TPR ratio tp/(tp+fn): 32/32\n",
      "TPR (recall/sensitivity): 1.0\n",
      "\n",
      "TNR ratio tn/(tn+fp): 64/64\n",
      "TNR specificity: 1.0\n"
     ]
    }
   ],
   "source": [
    "compute_scores(y_hat=y_hat_trn, y=y_trn);"
   ]
  },
  {
   "cell_type": "markdown",
   "metadata": {
    "id": "6uygBdRbXHDY"
   },
   "source": [
    "### Validate\n",
    "\n",
    "Now, let's see how our validation data performs!\n",
    "\n",
    "As we can see with the below two plots, we have correctly classified all the validation data as well!"
   ]
  },
  {
   "cell_type": "code",
   "execution_count": null,
   "metadata": {
    "id": "VyBuI-KfXHDZ",
    "outputId": "77eec929-c966-4414-da37-b86cde82079e"
   },
   "outputs": [
    {
     "data": {
      "image/png": "[encoded data removed]",
      "text/plain": [
       "<Figure size 432x288 with 1 Axes>"
      ]
     },
     "metadata": {
      "needs_background": "light"
     },
     "output_type": "display_data"
    }
   ],
   "source": [
    "y_hat_vld = perceptron.predict(X_vld)\n",
    "\n",
    "plot_preds_vs_true(\n",
    "    y=y_vld,\n",
    "    y_hat=y_hat_vld, \n",
    "    title=\"Validation Predictions\",\n",
    "    dataset=\"Training\",\n",
    "    xlabel=\"Data Sample Index\",\n",
    "    ylabel=\"Class Labels [-1, 1]\"\n",
    ")"
   ]
  },
  {
   "cell_type": "code",
   "execution_count": null,
   "metadata": {
    "id": "_tsddR7ZXHDZ",
    "outputId": "be360b46-a9ed-49f8-b23f-f76bb09bf0da"
   },
   "outputs": [
    {
     "data": {
      "image/png": "[encoded data removed]",
      "text/plain": [
       "<Figure size 432x288 with 1 Axes>"
      ]
     },
     "metadata": {
      "needs_background": "light"
     },
     "output_type": "display_data"
    }
   ],
   "source": [
    "plot_decision_boundry(\n",
    "    X=X_vld, \n",
    "    y=y_vld, \n",
    "    w=perceptron.w_best,\n",
    "    xlabel='petal length',\n",
    "    ylabel='petal width',\n",
    "    title='Setosa-vs-All Decision Boundary',\n",
    "    class_name_key={1:'setosa', -1:\"not setosa\"}\n",
    ")"
   ]
  },
  {
   "cell_type": "markdown",
   "metadata": {
    "id": "RYa1BuBSXHDZ"
   },
   "source": [
    "As always, let's take a quick look at the validation accuracy, confusion matrix, and other scores."
   ]
  },
  {
   "cell_type": "code",
   "execution_count": null,
   "metadata": {
    "id": "KlPiT3ItXHDZ",
    "outputId": "bd4f0e22-a848-44ea-b19d-47084c5d4a72"
   },
   "outputs": [
    {
     "name": "stdout",
     "output_type": "stream",
     "text": [
      "Accuracy ratio: 24/24\n",
      "Validation accuracy: 1.0\n"
     ]
    }
   ],
   "source": [
    "vld_acc = accuracy(y_hat=y_hat_vld, y=y_vld)\n",
    "print(f\"Validation accuracy: {vld_acc}\")"
   ]
  },
  {
   "cell_type": "code",
   "execution_count": null,
   "metadata": {
    "id": "ynP0tqCsXHDZ",
    "outputId": "29d7688d-2978-4ab2-d068-e82c438bc743"
   },
   "outputs": [
    {
     "data": {
      "image/png": "[encoded data removed]",
      "text/plain": [
       "<Figure size 432x288 with 2 Axes>"
      ]
     },
     "metadata": {
      "needs_background": "light"
     },
     "output_type": "display_data"
    }
   ],
   "source": [
    "plot_confusion_matrix(y_hat=y_hat_vld, \n",
    "                      y=y_vld,\n",
    "                      class_name_key={1:'setosa', -1:\"not setosa\"});"
   ]
  },
  {
   "cell_type": "code",
   "execution_count": null,
   "metadata": {
    "id": "llQu6QxMXHDa",
    "outputId": "053d745a-afce-4ee2-d175-68b86208fdfa",
    "scrolled": true
   },
   "outputs": [
    {
     "name": "stdout",
     "output_type": "stream",
     "text": [
      "PPV ratio tp/(tp+fp): 8/8\n",
      "PPV (precision): 1.0\n",
      "\n",
      "TPR ratio tp/(tp+fn): 8/8\n",
      "TPR (recall/sensitivity): 1.0\n",
      "\n",
      "TNR ratio tn/(tn+fp): 16/16\n",
      "TNR specificity: 1.0\n"
     ]
    }
   ],
   "source": [
    "compute_scores(y_hat=y_hat_vld, y=y_vld);"
   ]
  },
  {
   "cell_type": "code",
   "execution_count": null,
   "metadata": {
    "id": "9UZYGvlQXHDa"
   },
   "outputs": [],
   "source": [
    "# Remove data variables for this section from memory\n",
    "garbage_collect(['X_trn', 'y_trn', 'X_vld', 'y_vld','y_hat_trn', 'trn_acc', 'y_hat_vld', 'vld_acc', 'perceptron', 'data', 'feature_names'])"
   ]
  },
  {
   "cell_type": "markdown",
   "metadata": {
    "id": "vB7AMy5AXHDa"
   },
   "source": [
    "#  Versicolor vs all\n",
    "\n",
    "Alright, let's move on to a much harder problem. This time, let's formulate the classification problem as versicolor-vs-all. Remember, this means that we want to classify each data sample as either versicolor or not. Here versicolor will be the positive class (label = 1) and setosa and virginica will be the negative class (label = -1)."
   ]
  },
  {
   "cell_type": "markdown",
   "metadata": {
    "id": "rQdErXQ1XHDa"
   },
   "source": [
    "## Petal length and width\n",
    "Let's first try solving this problem using the petal features only!\n",
    "\n",
    "Recall that when we plotted the petal length against the petal width we could see that the versicolor data samples were plotted directly in the middle  between the setosa and virginica data samples (revisit TODO 4's plot). This means, versicolor-vs-all is not linearly separable when using 2 dimensions! \n",
    "\n",
    "Let's see how the perceptron reacts when using data the is not linearly separable and thus there is no linear decision boundary to easily separate the versicolor from the rest of the iris data samples."
   ]
  },
  {
   "cell_type": "markdown",
   "metadata": {
    "id": "yaxL5-wyXHDa"
   },
   "source": [
    "### Train"
   ]
  },
  {
   "cell_type": "markdown",
   "metadata": {
    "id": "FjTxwd_hXHDa"
   },
   "source": [
    "#### TODO 14\n",
    "Complete the TODO by getting our data, training the `PocketPerceptron` class and making predictions for our training and validation data.\n",
    "\n",
    "1. Call the `data_prep()` function to get the versicolor-vs-all data where the sepal length and width features are dropped. To do so, pass the arguments corresponding to the following descriptions:\n",
    "    1. Pass the Iris dataset.\n",
    "    1. Set versicolor  as the positive class.\n",
    "    1. Set setosa and virginica to represent the negative class.\n",
    "    1. Set the column 'class' to act as the labels/targets.\n",
    "    1. Drop the 'sepal length' and 'sepal width' features.\n",
    "    1. Return all data as NumPy arrays.\n",
    "    \n",
    "1. Create an instance of the `PocketPerceptron`. Make sure to pass the arguments corresponding to the following descriptions: \n",
    "    1. Allow for training to occur for 10 passes over the data."
   ]
  },
  {
   "cell_type": "code",
   "execution_count": 89,
   "metadata": {
    "id": "0ia9H3I_XHDb",
    "outputId": "5577b8b2-5ab0-4aca-cc90-e2c81ed907aa"
   },
   "outputs": [
    {
     "ename": "ValueError",
     "evalue": "With n_samples=0, test_size=0.2 and train_size=None, the resulting train set will be empty. Adjust any of the aforementioned parameters.",
     "output_type": "error",
     "traceback": [
      "\u001b[0;31m---------------------------------------------------------------------------\u001b[0m",
      "\u001b[0;31mValueError\u001b[0m                                Traceback (most recent call last)",
      "\u001b[0;32m<ipython-input-89-0adb8a234bf4>\u001b[0m in \u001b[0;36m<module>\u001b[0;34m\u001b[0m\n\u001b[1;32m      1\u001b[0m \u001b[0;31m# TODO 14.1\u001b[0m\u001b[0;34m\u001b[0m\u001b[0;34m\u001b[0m\u001b[0;34m\u001b[0m\u001b[0m\n\u001b[0;32m----> 2\u001b[0;31m \u001b[0mdata\u001b[0m \u001b[0;34m=\u001b[0m \u001b[0mdata_prep\u001b[0m\u001b[0;34m(\u001b[0m\u001b[0miris_df\u001b[0m\u001b[0;34m,\u001b[0m \u001b[0mpos_class\u001b[0m\u001b[0;34m=\u001b[0m\u001b[0;34m[\u001b[0m\u001b[0;34m'versicolor'\u001b[0m\u001b[0;34m]\u001b[0m\u001b[0;34m,\u001b[0m \u001b[0mneg_class\u001b[0m\u001b[0;34m=\u001b[0m\u001b[0;34m[\u001b[0m\u001b[0;34m'setosa'\u001b[0m\u001b[0;34m,\u001b[0m \u001b[0;34m'virginica'\u001b[0m\u001b[0;34m]\u001b[0m\u001b[0;34m,\u001b[0m \u001b[0mlabel_name\u001b[0m\u001b[0;34m=\u001b[0m\u001b[0;34m'class'\u001b[0m\u001b[0;34m,\u001b[0m \u001b[0mdrop_features\u001b[0m\u001b[0;34m=\u001b[0m\u001b[0;34m[\u001b[0m\u001b[0;34m'sepal length'\u001b[0m\u001b[0;34m,\u001b[0m \u001b[0;34m'sepal width'\u001b[0m\u001b[0;34m]\u001b[0m\u001b[0;34m,\u001b[0m \u001b[0mreturn_array\u001b[0m\u001b[0;34m=\u001b[0m\u001b[0;32mTrue\u001b[0m\u001b[0;34m)\u001b[0m\u001b[0;34m\u001b[0m\u001b[0;34m\u001b[0m\u001b[0m\n\u001b[0m\u001b[1;32m      3\u001b[0m \u001b[0mX_trn\u001b[0m\u001b[0;34m,\u001b[0m \u001b[0my_trn\u001b[0m\u001b[0;34m,\u001b[0m \u001b[0mX_vld\u001b[0m\u001b[0;34m,\u001b[0m \u001b[0my_vld\u001b[0m\u001b[0;34m,\u001b[0m \u001b[0m_\u001b[0m\u001b[0;34m,\u001b[0m \u001b[0m_\u001b[0m\u001b[0;34m,\u001b[0m \u001b[0mfeature_names\u001b[0m \u001b[0;34m=\u001b[0m \u001b[0mdata\u001b[0m\u001b[0;34m\u001b[0m\u001b[0;34m\u001b[0m\u001b[0m\n\u001b[1;32m      4\u001b[0m \u001b[0;34m\u001b[0m\u001b[0m\n\u001b[1;32m      5\u001b[0m \u001b[0;31m# TODO 14.2\u001b[0m\u001b[0;34m\u001b[0m\u001b[0;34m\u001b[0m\u001b[0;34m\u001b[0m\u001b[0m\n",
      "\u001b[0;32m<ipython-input-57-5f24b1c0c90f>\u001b[0m in \u001b[0;36mdata_prep\u001b[0;34m(df, label_name, pos_class, neg_class, seed, return_array, drop_features)\u001b[0m\n\u001b[1;32m     47\u001b[0m     \u001b[0mX\u001b[0m\u001b[0;34m,\u001b[0m \u001b[0my\u001b[0m \u001b[0;34m=\u001b[0m \u001b[0mfeature_label_split\u001b[0m\u001b[0;34m(\u001b[0m\u001b[0mdf\u001b[0m\u001b[0;34m,\u001b[0m \u001b[0mlabel_name\u001b[0m\u001b[0;34m=\u001b[0m\u001b[0mlabel_name\u001b[0m\u001b[0;34m)\u001b[0m\u001b[0;34m\u001b[0m\u001b[0;34m\u001b[0m\u001b[0m\n\u001b[1;32m     48\u001b[0m     \u001b[0;31m# Apply train, validation and test set splitting\u001b[0m\u001b[0;34m\u001b[0m\u001b[0;34m\u001b[0m\u001b[0;34m\u001b[0m\u001b[0m\n\u001b[0;32m---> 49\u001b[0;31m     \u001b[0mdata\u001b[0m \u001b[0;34m=\u001b[0m \u001b[0mtrain_valid_test_split\u001b[0m\u001b[0;34m(\u001b[0m\u001b[0mX\u001b[0m\u001b[0;34m,\u001b[0m \u001b[0my\u001b[0m\u001b[0;34m,\u001b[0m \u001b[0mseed\u001b[0m\u001b[0;34m=\u001b[0m\u001b[0mseed\u001b[0m\u001b[0;34m)\u001b[0m\u001b[0;34m\u001b[0m\u001b[0;34m\u001b[0m\u001b[0m\n\u001b[0m\u001b[1;32m     50\u001b[0m     \u001b[0mX_trn\u001b[0m\u001b[0;34m,\u001b[0m \u001b[0my_trn\u001b[0m\u001b[0;34m,\u001b[0m \u001b[0mX_vld\u001b[0m\u001b[0;34m,\u001b[0m \u001b[0my_vld\u001b[0m\u001b[0;34m,\u001b[0m \u001b[0mX_tst\u001b[0m\u001b[0;34m,\u001b[0m \u001b[0my_tst\u001b[0m \u001b[0;34m=\u001b[0m \u001b[0mdata\u001b[0m\u001b[0;34m\u001b[0m\u001b[0;34m\u001b[0m\u001b[0m\n\u001b[1;32m     51\u001b[0m     \u001b[0;31m# Feature cleaning\u001b[0m\u001b[0;34m\u001b[0m\u001b[0;34m\u001b[0m\u001b[0;34m\u001b[0m\u001b[0m\n",
      "\u001b[0;32m<ipython-input-49-2c24de65f2f9>\u001b[0m in \u001b[0;36mtrain_valid_test_split\u001b[0;34m(X, y, test_size, seed)\u001b[0m\n\u001b[1;32m      2\u001b[0m \u001b[0;34m\u001b[0m\u001b[0m\n\u001b[1;32m      3\u001b[0m \u001b[0;32mdef\u001b[0m \u001b[0mtrain_valid_test_split\u001b[0m\u001b[0;34m(\u001b[0m\u001b[0mX\u001b[0m\u001b[0;34m,\u001b[0m \u001b[0my\u001b[0m\u001b[0;34m,\u001b[0m \u001b[0mtest_size\u001b[0m\u001b[0;34m=\u001b[0m\u001b[0;36m.2\u001b[0m\u001b[0;34m,\u001b[0m \u001b[0mseed\u001b[0m\u001b[0;34m=\u001b[0m\u001b[0;36m42\u001b[0m\u001b[0;34m)\u001b[0m\u001b[0;34m:\u001b[0m\u001b[0;34m\u001b[0m\u001b[0;34m\u001b[0m\u001b[0m\n\u001b[0;32m----> 4\u001b[0;31m     \u001b[0mX_trn\u001b[0m\u001b[0;34m,\u001b[0m \u001b[0mX_tst\u001b[0m\u001b[0;34m,\u001b[0m \u001b[0my_trn\u001b[0m\u001b[0;34m,\u001b[0m \u001b[0my_tst\u001b[0m \u001b[0;34m=\u001b[0m \u001b[0mtrain_test_split\u001b[0m\u001b[0;34m(\u001b[0m\u001b[0mX\u001b[0m\u001b[0;34m,\u001b[0m \u001b[0my\u001b[0m\u001b[0;34m,\u001b[0m \u001b[0mtest_size\u001b[0m\u001b[0;34m=\u001b[0m\u001b[0mtest_size\u001b[0m\u001b[0;34m,\u001b[0m \u001b[0mrandom_state\u001b[0m\u001b[0;34m=\u001b[0m\u001b[0mseed\u001b[0m\u001b[0;34m)\u001b[0m\u001b[0;34m\u001b[0m\u001b[0;34m\u001b[0m\u001b[0m\n\u001b[0m\u001b[1;32m      5\u001b[0m     \u001b[0mX_trn\u001b[0m\u001b[0;34m,\u001b[0m \u001b[0mX_vld\u001b[0m\u001b[0;34m,\u001b[0m \u001b[0my_trn\u001b[0m\u001b[0;34m,\u001b[0m \u001b[0my_vld\u001b[0m \u001b[0;34m=\u001b[0m \u001b[0mtrain_test_split\u001b[0m\u001b[0;34m(\u001b[0m\u001b[0mX_trn\u001b[0m\u001b[0;34m,\u001b[0m \u001b[0my_trn\u001b[0m\u001b[0;34m,\u001b[0m \u001b[0mtest_size\u001b[0m\u001b[0;34m=\u001b[0m\u001b[0mtest_size\u001b[0m\u001b[0;34m,\u001b[0m \u001b[0mrandom_state\u001b[0m\u001b[0;34m=\u001b[0m\u001b[0mseed\u001b[0m\u001b[0;34m)\u001b[0m\u001b[0;34m\u001b[0m\u001b[0;34m\u001b[0m\u001b[0m\n\u001b[1;32m      6\u001b[0m \u001b[0;34m\u001b[0m\u001b[0m\n",
      "\u001b[0;32m~/opt/anaconda3/lib/python3.8/site-packages/sklearn/model_selection/_split.py\u001b[0m in \u001b[0;36mtrain_test_split\u001b[0;34m(test_size, train_size, random_state, shuffle, stratify, *arrays)\u001b[0m\n\u001b[1;32m   2420\u001b[0m \u001b[0;34m\u001b[0m\u001b[0m\n\u001b[1;32m   2421\u001b[0m     \u001b[0mn_samples\u001b[0m \u001b[0;34m=\u001b[0m \u001b[0m_num_samples\u001b[0m\u001b[0;34m(\u001b[0m\u001b[0marrays\u001b[0m\u001b[0;34m[\u001b[0m\u001b[0;36m0\u001b[0m\u001b[0;34m]\u001b[0m\u001b[0;34m)\u001b[0m\u001b[0;34m\u001b[0m\u001b[0;34m\u001b[0m\u001b[0m\n\u001b[0;32m-> 2422\u001b[0;31m     n_train, n_test = _validate_shuffle_split(\n\u001b[0m\u001b[1;32m   2423\u001b[0m         \u001b[0mn_samples\u001b[0m\u001b[0;34m,\u001b[0m \u001b[0mtest_size\u001b[0m\u001b[0;34m,\u001b[0m \u001b[0mtrain_size\u001b[0m\u001b[0;34m,\u001b[0m \u001b[0mdefault_test_size\u001b[0m\u001b[0;34m=\u001b[0m\u001b[0;36m0.25\u001b[0m\u001b[0;34m\u001b[0m\u001b[0;34m\u001b[0m\u001b[0m\n\u001b[1;32m   2424\u001b[0m     )\n",
      "\u001b[0;32m~/opt/anaconda3/lib/python3.8/site-packages/sklearn/model_selection/_split.py\u001b[0m in \u001b[0;36m_validate_shuffle_split\u001b[0;34m(n_samples, test_size, train_size, default_test_size)\u001b[0m\n\u001b[1;32m   2096\u001b[0m \u001b[0;34m\u001b[0m\u001b[0m\n\u001b[1;32m   2097\u001b[0m     \u001b[0;32mif\u001b[0m \u001b[0mn_train\u001b[0m \u001b[0;34m==\u001b[0m \u001b[0;36m0\u001b[0m\u001b[0;34m:\u001b[0m\u001b[0;34m\u001b[0m\u001b[0;34m\u001b[0m\u001b[0m\n\u001b[0;32m-> 2098\u001b[0;31m         raise ValueError(\n\u001b[0m\u001b[1;32m   2099\u001b[0m             \u001b[0;34m\"With n_samples={}, test_size={} and train_size={}, the \"\u001b[0m\u001b[0;34m\u001b[0m\u001b[0;34m\u001b[0m\u001b[0m\n\u001b[1;32m   2100\u001b[0m             \u001b[0;34m\"resulting train set will be empty. Adjust any of the \"\u001b[0m\u001b[0;34m\u001b[0m\u001b[0;34m\u001b[0m\u001b[0m\n",
      "\u001b[0;31mValueError\u001b[0m: With n_samples=0, test_size=0.2 and train_size=None, the resulting train set will be empty. Adjust any of the aforementioned parameters."
     ]
    }
   ],
   "source": [
    "# TODO 14.1\n",
    "data = data_prep(iris_df, pos_class=['versicolor'], neg_class=['setosa', 'virginica'], label_name='class', drop_features=['sepal length', 'sepal width'], return_array=True)\n",
    "X_trn, y_trn, X_vld, y_vld, _, _, feature_names = data\n",
    "\n",
    "# TODO 14.2\n",
    "perceptron = PocketPerceptron(num_passes=10)\n",
    "\n",
    "perceptron.fit(X_trn, y_trn)\n",
    "\n",
    "y_hat_trn = perceptron.predict(X_trn)\n",
    "\n",
    "todo_check([\n",
    "    (np.all(feature_names == ['bias', 'petal length', 'petal width']), \"features names for training and validation data incorrect! Make sure you dropped the right features.\"),\n",
    "    (np.all(np.isclose(X_trn[4].flatten(), [1., 0.95237765, 1.14980508])), \"'X_trn' values are incorrect\"),\n",
    "    (np.all(np.isclose(perceptron.w_best, np.array([-0.02545988,  0.26595776, -0.2066903 ]), rtol=.1)), \"best weight values potentially incorrect\")\n",
    "])"
   ]
  },
  {
   "cell_type": "markdown",
   "metadata": {
    "id": "STm5l0WbXHDb"
   },
   "source": [
    "Looking at the above output from our algorithm we can we that we trained for the full 10 epochs. We can also see that we consistently misclassified  at least 44 samples every epoch.\n",
    "\n",
    "Below we plot the decision boundary that our perceptron learn and oh boy does this look wrong. Since the perceptron is only able to create a **linear** decision boundary it finds the \"optimal\" linearly boundary. Meaning, the one that misclassifies the least number of samples. In this case, even the most optimal boundary performs poorly. "
   ]
  },
  {
   "cell_type": "code",
   "execution_count": null,
   "metadata": {
    "id": "aGVgcsuiXHDb",
    "outputId": "e8bc3d0d-1780-4570-ba14-d7d5cbd8da49"
   },
   "outputs": [
    {
     "data": {
      "image/png": "[encoded data removed]",
      "text/plain": [
       "<Figure size 432x288 with 1 Axes>"
      ]
     },
     "metadata": {
      "needs_background": "light"
     },
     "output_type": "display_data"
    }
   ],
   "source": [
    "plot_decision_boundry(\n",
    "    X=X_trn, \n",
    "    y=y_trn, \n",
    "    w=perceptron.w_best,\n",
    "    xlabel='petal length',\n",
    "    ylabel='petal width',\n",
    "    title='Versicolor-vs-All Decision Boundary',\n",
    "    class_name_key={1:'versicolor', -1:\"not versicolor\"}\n",
    ")"
   ]
  },
  {
   "cell_type": "markdown",
   "metadata": {
    "id": "gHFrcN6kXHDc"
   },
   "source": [
    "Welp, the below prediction vs label graph is really hard to make any sense of. This is an example of visualizations for classification problems being relatively poor outside simple problems. Let's look at our metrics instead!"
   ]
  },
  {
   "cell_type": "code",
   "execution_count": null,
   "metadata": {
    "id": "PwfiYHarXHDc",
    "outputId": "9693dc9c-7afd-4f4d-8336-46c48c90e512"
   },
   "outputs": [
    {
     "data": {
      "image/png": "[encoded data removed]",
      "text/plain": [
       "<Figure size 432x288 with 1 Axes>"
      ]
     },
     "metadata": {
      "needs_background": "light"
     },
     "output_type": "display_data"
    }
   ],
   "source": [
    "plot_preds_vs_true(\n",
    "    y=y_trn,\n",
    "    y_hat=y_hat_trn,\n",
    "    title=\"Training Predictions\",\n",
    "    dataset=\"Training\",\n",
    "    xlabel=\"Data Sample Index\",\n",
    "    ylabel=\"Class Labels [-1, 1]\"\n",
    ")"
   ]
  },
  {
   "cell_type": "markdown",
   "metadata": {
    "id": "RPRA8jhEXHDc"
   },
   "source": [
    "As we can see below, our accuracy actually isn't as bad as it looks. Having a 70% accuracy is low but it isn't awful. Keep in mind having an accuracy below 50% is the worst as you are better off using an algorithm that randomly predicts the values. Thus, anything above 50% usually is considered promising."
   ]
  },
  {
   "cell_type": "code",
   "execution_count": null,
   "metadata": {
    "id": "3HMLSo92XHDc",
    "outputId": "2de5dfa4-ffef-460b-c89c-c6de101c175d"
   },
   "outputs": [
    {
     "name": "stdout",
     "output_type": "stream",
     "text": [
      "Accuracy ratio: 68/96\n",
      "Training accuracy: 0.7083333333333334\n"
     ]
    }
   ],
   "source": [
    "trn_acc = accuracy(y_hat=y_hat_trn, y=y_trn)\n",
    "print(f\"Training accuracy: {trn_acc}\")"
   ]
  },
  {
   "cell_type": "markdown",
   "metadata": {
    "id": "0Ve39V-ZXHDd"
   },
   "source": [
    "Now let's plot the confusion matrix. Here our confusion matrix can be read as follows:\n",
    "\n",
    "- 49 true negatives\n",
    "- 15 false positives\n",
    "- 13 false negatives\n",
    "- 19 true positives\n",
    "\n",
    "From this break down, we can tell that the classifier is having a much easier time classifying the negative samples compared to the positive samples. Let's see how this affects our PPV, TPR, and TNR scores."
   ]
  },
  {
   "cell_type": "code",
   "execution_count": null,
   "metadata": {
    "id": "u7dyFor4XHDd",
    "outputId": "90f41703-108c-481f-ac19-877373913d0f"
   },
   "outputs": [
    {
     "data": {
      "image/png": "[encoded data removed]",
      "text/plain": [
       "<Figure size 432x288 with 2 Axes>"
      ]
     },
     "metadata": {
      "needs_background": "light"
     },
     "output_type": "display_data"
    }
   ],
   "source": [
    "plot_confusion_matrix(y_hat=y_hat_trn, \n",
    "                      y=y_trn,\n",
    "                      class_name_key={1:'versicolor', -1:\"not versicolor\"});"
   ]
  },
  {
   "cell_type": "markdown",
   "metadata": {
    "id": "Dx6JTQ66XHDd"
   },
   "source": [
    "Wow, these scores are looking much worse than the accuracy. Notice that PPV and TPR are below 60% while TNR is nearing 80%! Why is this? Recall that PPV and TPR are focused on computing how well the positive class is being classified while TNR is focused on who well the negative class is being classified. Having a high TNR and a lower TPR and PPV usually indicates to us that our model is misclassifying more positive class data samples than negative class data samples! "
   ]
  },
  {
   "cell_type": "code",
   "execution_count": null,
   "metadata": {
    "id": "hsB-YUsIXHDd",
    "outputId": "f0906beb-f594-4e56-e7b5-189ecdf24d98",
    "scrolled": true
   },
   "outputs": [
    {
     "name": "stdout",
     "output_type": "stream",
     "text": [
      "PPV ratio tp/(tp+fp): 19/34\n",
      "PPV (precision): 0.5588235294117647\n",
      "\n",
      "TPR ratio tp/(tp+fn): 19/32\n",
      "TPR (recall/sensitivity): 0.59375\n",
      "\n",
      "TNR ratio tn/(tn+fp): 49/64\n",
      "TNR specificity: 0.765625\n"
     ]
    }
   ],
   "source": [
    "compute_scores(y_hat=y_hat_trn, y=y_trn);"
   ]
  },
  {
   "cell_type": "markdown",
   "metadata": {
    "id": "VrRVNtsuXHDd"
   },
   "source": [
    "### Validate\n",
    "\n",
    "As always, let's see how our validation data does!"
   ]
  },
  {
   "cell_type": "code",
   "execution_count": null,
   "metadata": {
    "id": "l5NBasB7XHDd",
    "outputId": "e559cced-a7f5-43f6-efb0-57de35ec464f"
   },
   "outputs": [
    {
     "data": {
      "image/png": "[encoded data removed]",
      "text/plain": [
       "<Figure size 432x288 with 1 Axes>"
      ]
     },
     "metadata": {
      "needs_background": "light"
     },
     "output_type": "display_data"
    }
   ],
   "source": [
    "y_hat_vld = perceptron.predict(X_vld)\n",
    "\n",
    "plot_preds_vs_true(\n",
    "    y=y_vld,\n",
    "    y_hat=y_hat_vld,\n",
    "    title=\"Validation Predictions\",\n",
    "    dataset=\"Validation\",\n",
    "    xlabel=\"Data Sample Index\",\n",
    "    ylabel=\"Predicted [-1, 1]\"\n",
    ")"
   ]
  },
  {
   "cell_type": "code",
   "execution_count": null,
   "metadata": {
    "id": "eVBr1jGgXHDd",
    "outputId": "03733fc9-2085-44d6-f4a5-4f03f621e305"
   },
   "outputs": [
    {
     "data": {
      "image/png": "[encoded data removed]",
      "text/plain": [
       "<Figure size 432x288 with 1 Axes>"
      ]
     },
     "metadata": {
      "needs_background": "light"
     },
     "output_type": "display_data"
    }
   ],
   "source": [
    "plot_decision_boundry(\n",
    "    X=X_vld, \n",
    "    y=y_vld, \n",
    "    w=perceptron.w_best,\n",
    "    xlabel='petal length',\n",
    "    ylabel='petal width',\n",
    "    title='Versicolor-vs-All Decision Boundary',\n",
    "    class_name_key={1:'versicolor', -1:\"not versicolor\"}\n",
    ")"
   ]
  },
  {
   "cell_type": "code",
   "execution_count": null,
   "metadata": {
    "id": "z91_2bB9XHDd",
    "outputId": "528c41a8-47d3-4b3b-c170-e495fbdcbcb3"
   },
   "outputs": [
    {
     "name": "stdout",
     "output_type": "stream",
     "text": [
      "Accuracy ratio: 20/24\n",
      "Validation accuracy: 0.8333333333333334\n"
     ]
    }
   ],
   "source": [
    "vld_acc = accuracy(y_hat=y_hat_vld, y=y_vld)\n",
    "print(f\"Validation accuracy: {vld_acc}\")"
   ]
  },
  {
   "cell_type": "markdown",
   "metadata": {
    "id": "jUxiFLq_XHDe"
   },
   "source": [
    "Here our confusion matrix can be read as follows:\n",
    "\n",
    "- 13 true negatives\n",
    "- 3 false positives\n",
    "- 1 false negatives\n",
    "- 7 true positives\n"
   ]
  },
  {
   "cell_type": "code",
   "execution_count": null,
   "metadata": {
    "id": "S9K738sFXHDe",
    "outputId": "d19c70f8-377c-4e7b-a518-9676570a066d"
   },
   "outputs": [
    {
     "data": {
      "image/png": "[encoded data removed]",
      "text/plain": [
       "<Figure size 432x288 with 2 Axes>"
      ]
     },
     "metadata": {
      "needs_background": "light"
     },
     "output_type": "display_data"
    }
   ],
   "source": [
    "plot_confusion_matrix(y_hat=y_hat_vld, \n",
    "                      y=y_vld,\n",
    "                      class_name_key={1:'versicolor', -1:\"not versicolor\"});"
   ]
  },
  {
   "cell_type": "code",
   "execution_count": null,
   "metadata": {
    "id": "59aahj_0XHDe",
    "outputId": "40c44667-c1bb-4edf-c60e-978d212195ec"
   },
   "outputs": [
    {
     "name": "stdout",
     "output_type": "stream",
     "text": [
      "PPV ratio tp/(tp+fp): 7/10\n",
      "PPV (precision): 0.7\n",
      "\n",
      "TPR ratio tp/(tp+fn): 7/8\n",
      "TPR (recall/sensitivity): 0.875\n",
      "\n",
      "TNR ratio tn/(tn+fp): 13/16\n",
      "TNR specificity: 0.8125\n"
     ]
    }
   ],
   "source": [
    "compute_scores(y_hat=y_hat_vld, y=y_vld);"
   ]
  },
  {
   "cell_type": "markdown",
   "metadata": {
    "id": "-C85s80CXHDe",
    "scrolled": false
   },
   "source": [
    "Ah well, the validation scores are actually much higher. Notice that this is because most of the positive validation class samples fall under the line which means all data samples under the decision boundary are classified as the positive class while all data samples on top of the decision boundary are classified as the negative class.  "
   ]
  },
  {
   "cell_type": "code",
   "execution_count": null,
   "metadata": {
    "id": "DxZIkB6sXHDe"
   },
   "outputs": [],
   "source": [
    "# Remove data variables for this section from memory\n",
    "garbage_collect(['X_trn', 'y_trn', 'X_vld', 'y_vld','y_hat_trn', 'trn_acc', 'y_hat_vld', 'vld_acc', 'perceptron', 'data', 'feature_names'])"
   ]
  },
  {
   "cell_type": "markdown",
   "metadata": {
    "id": "Ns26vtw7XHDe"
   },
   "source": [
    "## All Features\n",
    "\n",
    "While Iris versicolor may not be linearly separable in two dimensions, let's see what happens when we use 4 dimensions. To do so, we'll use both the petal and sepal features."
   ]
  },
  {
   "cell_type": "markdown",
   "metadata": {
    "id": "zOag_eG8XHDe"
   },
   "source": [
    "### Train"
   ]
  },
  {
   "cell_type": "markdown",
   "metadata": {
    "id": "9eJtXe24XHDe"
   },
   "source": [
    "#### TODO 15\n",
    "Complete the TODO by getting our data, training the `PocketPerceptron` class and making predictions for our training and validation data.\n",
    "\n",
    "1. Call the `data_prep()` function to get the versicolor-vs-all data. To do so, pass the arguments corresponding to the following descriptions:\n",
    "    1. Pass the Iris dataset.\n",
    "    1. Set versicolor as the positive class.\n",
    "    1. Set setosa and virginica to represent the negative class.\n",
    "    1. Set the column 'class' to act as the labels/targets.\n",
    "    1. Return all data as NumPy arrays.\n",
    "    \n",
    "1. Create an instance of the `PocketPerceptron`. Make sure to pass the arguments corresponding to the following descriptions: \n",
    "    1. Allow for training to occur for 10 passes over the data."
   ]
  },
  {
   "cell_type": "code",
   "execution_count": 91,
   "metadata": {
    "id": "0HNNG5B_XHDf",
    "outputId": "84098c04-add3-4b1e-b0f9-805bce2d80ed"
   },
   "outputs": [
    {
     "ename": "ValueError",
     "evalue": "With n_samples=0, test_size=0.2 and train_size=None, the resulting train set will be empty. Adjust any of the aforementioned parameters.",
     "output_type": "error",
     "traceback": [
      "\u001b[0;31m---------------------------------------------------------------------------\u001b[0m",
      "\u001b[0;31mValueError\u001b[0m                                Traceback (most recent call last)",
      "\u001b[0;32m<ipython-input-91-247e83a0ca1c>\u001b[0m in \u001b[0;36m<module>\u001b[0;34m\u001b[0m\n\u001b[1;32m      1\u001b[0m \u001b[0;31m# TODO 15.1\u001b[0m\u001b[0;34m\u001b[0m\u001b[0;34m\u001b[0m\u001b[0;34m\u001b[0m\u001b[0m\n\u001b[0;32m----> 2\u001b[0;31m \u001b[0mdata\u001b[0m \u001b[0;34m=\u001b[0m \u001b[0mdata_prep\u001b[0m\u001b[0;34m(\u001b[0m\u001b[0miris_df\u001b[0m\u001b[0;34m,\u001b[0m \u001b[0mpos_class\u001b[0m\u001b[0;34m=\u001b[0m\u001b[0;34m[\u001b[0m\u001b[0;34m'versicolor'\u001b[0m\u001b[0;34m]\u001b[0m\u001b[0;34m,\u001b[0m \u001b[0mneg_class\u001b[0m\u001b[0;34m=\u001b[0m\u001b[0;34m[\u001b[0m\u001b[0;34m'setosa'\u001b[0m\u001b[0;34m,\u001b[0m \u001b[0;34m'virginica'\u001b[0m\u001b[0;34m]\u001b[0m\u001b[0;34m,\u001b[0m \u001b[0mlabel_name\u001b[0m\u001b[0;34m=\u001b[0m\u001b[0;34m'class'\u001b[0m\u001b[0;34m,\u001b[0m \u001b[0mreturn_array\u001b[0m\u001b[0;34m=\u001b[0m\u001b[0;32mTrue\u001b[0m\u001b[0;34m)\u001b[0m\u001b[0;34m\u001b[0m\u001b[0;34m\u001b[0m\u001b[0m\n\u001b[0m\u001b[1;32m      3\u001b[0m \u001b[0mX_trn\u001b[0m\u001b[0;34m,\u001b[0m \u001b[0my_trn\u001b[0m\u001b[0;34m,\u001b[0m \u001b[0mX_vld\u001b[0m\u001b[0;34m,\u001b[0m \u001b[0my_vld\u001b[0m\u001b[0;34m,\u001b[0m \u001b[0m_\u001b[0m\u001b[0;34m,\u001b[0m \u001b[0m_\u001b[0m\u001b[0;34m,\u001b[0m \u001b[0mfeature_names\u001b[0m \u001b[0;34m=\u001b[0m \u001b[0mdata\u001b[0m\u001b[0;34m\u001b[0m\u001b[0;34m\u001b[0m\u001b[0m\n\u001b[1;32m      4\u001b[0m \u001b[0;34m\u001b[0m\u001b[0m\n\u001b[1;32m      5\u001b[0m \u001b[0;31m# TODO 15.2\u001b[0m\u001b[0;34m\u001b[0m\u001b[0;34m\u001b[0m\u001b[0;34m\u001b[0m\u001b[0m\n",
      "\u001b[0;32m<ipython-input-57-5f24b1c0c90f>\u001b[0m in \u001b[0;36mdata_prep\u001b[0;34m(df, label_name, pos_class, neg_class, seed, return_array, drop_features)\u001b[0m\n\u001b[1;32m     47\u001b[0m     \u001b[0mX\u001b[0m\u001b[0;34m,\u001b[0m \u001b[0my\u001b[0m \u001b[0;34m=\u001b[0m \u001b[0mfeature_label_split\u001b[0m\u001b[0;34m(\u001b[0m\u001b[0mdf\u001b[0m\u001b[0;34m,\u001b[0m \u001b[0mlabel_name\u001b[0m\u001b[0;34m=\u001b[0m\u001b[0mlabel_name\u001b[0m\u001b[0;34m)\u001b[0m\u001b[0;34m\u001b[0m\u001b[0;34m\u001b[0m\u001b[0m\n\u001b[1;32m     48\u001b[0m     \u001b[0;31m# Apply train, validation and test set splitting\u001b[0m\u001b[0;34m\u001b[0m\u001b[0;34m\u001b[0m\u001b[0;34m\u001b[0m\u001b[0m\n\u001b[0;32m---> 49\u001b[0;31m     \u001b[0mdata\u001b[0m \u001b[0;34m=\u001b[0m \u001b[0mtrain_valid_test_split\u001b[0m\u001b[0;34m(\u001b[0m\u001b[0mX\u001b[0m\u001b[0;34m,\u001b[0m \u001b[0my\u001b[0m\u001b[0;34m,\u001b[0m \u001b[0mseed\u001b[0m\u001b[0;34m=\u001b[0m\u001b[0mseed\u001b[0m\u001b[0;34m)\u001b[0m\u001b[0;34m\u001b[0m\u001b[0;34m\u001b[0m\u001b[0m\n\u001b[0m\u001b[1;32m     50\u001b[0m     \u001b[0mX_trn\u001b[0m\u001b[0;34m,\u001b[0m \u001b[0my_trn\u001b[0m\u001b[0;34m,\u001b[0m \u001b[0mX_vld\u001b[0m\u001b[0;34m,\u001b[0m \u001b[0my_vld\u001b[0m\u001b[0;34m,\u001b[0m \u001b[0mX_tst\u001b[0m\u001b[0;34m,\u001b[0m \u001b[0my_tst\u001b[0m \u001b[0;34m=\u001b[0m \u001b[0mdata\u001b[0m\u001b[0;34m\u001b[0m\u001b[0;34m\u001b[0m\u001b[0m\n\u001b[1;32m     51\u001b[0m     \u001b[0;31m# Feature cleaning\u001b[0m\u001b[0;34m\u001b[0m\u001b[0;34m\u001b[0m\u001b[0;34m\u001b[0m\u001b[0m\n",
      "\u001b[0;32m<ipython-input-49-2c24de65f2f9>\u001b[0m in \u001b[0;36mtrain_valid_test_split\u001b[0;34m(X, y, test_size, seed)\u001b[0m\n\u001b[1;32m      2\u001b[0m \u001b[0;34m\u001b[0m\u001b[0m\n\u001b[1;32m      3\u001b[0m \u001b[0;32mdef\u001b[0m \u001b[0mtrain_valid_test_split\u001b[0m\u001b[0;34m(\u001b[0m\u001b[0mX\u001b[0m\u001b[0;34m,\u001b[0m \u001b[0my\u001b[0m\u001b[0;34m,\u001b[0m \u001b[0mtest_size\u001b[0m\u001b[0;34m=\u001b[0m\u001b[0;36m.2\u001b[0m\u001b[0;34m,\u001b[0m \u001b[0mseed\u001b[0m\u001b[0;34m=\u001b[0m\u001b[0;36m42\u001b[0m\u001b[0;34m)\u001b[0m\u001b[0;34m:\u001b[0m\u001b[0;34m\u001b[0m\u001b[0;34m\u001b[0m\u001b[0m\n\u001b[0;32m----> 4\u001b[0;31m     \u001b[0mX_trn\u001b[0m\u001b[0;34m,\u001b[0m \u001b[0mX_tst\u001b[0m\u001b[0;34m,\u001b[0m \u001b[0my_trn\u001b[0m\u001b[0;34m,\u001b[0m \u001b[0my_tst\u001b[0m \u001b[0;34m=\u001b[0m \u001b[0mtrain_test_split\u001b[0m\u001b[0;34m(\u001b[0m\u001b[0mX\u001b[0m\u001b[0;34m,\u001b[0m \u001b[0my\u001b[0m\u001b[0;34m,\u001b[0m \u001b[0mtest_size\u001b[0m\u001b[0;34m=\u001b[0m\u001b[0mtest_size\u001b[0m\u001b[0;34m,\u001b[0m \u001b[0mrandom_state\u001b[0m\u001b[0;34m=\u001b[0m\u001b[0mseed\u001b[0m\u001b[0;34m)\u001b[0m\u001b[0;34m\u001b[0m\u001b[0;34m\u001b[0m\u001b[0m\n\u001b[0m\u001b[1;32m      5\u001b[0m     \u001b[0mX_trn\u001b[0m\u001b[0;34m,\u001b[0m \u001b[0mX_vld\u001b[0m\u001b[0;34m,\u001b[0m \u001b[0my_trn\u001b[0m\u001b[0;34m,\u001b[0m \u001b[0my_vld\u001b[0m \u001b[0;34m=\u001b[0m \u001b[0mtrain_test_split\u001b[0m\u001b[0;34m(\u001b[0m\u001b[0mX_trn\u001b[0m\u001b[0;34m,\u001b[0m \u001b[0my_trn\u001b[0m\u001b[0;34m,\u001b[0m \u001b[0mtest_size\u001b[0m\u001b[0;34m=\u001b[0m\u001b[0mtest_size\u001b[0m\u001b[0;34m,\u001b[0m \u001b[0mrandom_state\u001b[0m\u001b[0;34m=\u001b[0m\u001b[0mseed\u001b[0m\u001b[0;34m)\u001b[0m\u001b[0;34m\u001b[0m\u001b[0;34m\u001b[0m\u001b[0m\n\u001b[1;32m      6\u001b[0m \u001b[0;34m\u001b[0m\u001b[0m\n",
      "\u001b[0;32m~/opt/anaconda3/lib/python3.8/site-packages/sklearn/model_selection/_split.py\u001b[0m in \u001b[0;36mtrain_test_split\u001b[0;34m(test_size, train_size, random_state, shuffle, stratify, *arrays)\u001b[0m\n\u001b[1;32m   2420\u001b[0m \u001b[0;34m\u001b[0m\u001b[0m\n\u001b[1;32m   2421\u001b[0m     \u001b[0mn_samples\u001b[0m \u001b[0;34m=\u001b[0m \u001b[0m_num_samples\u001b[0m\u001b[0;34m(\u001b[0m\u001b[0marrays\u001b[0m\u001b[0;34m[\u001b[0m\u001b[0;36m0\u001b[0m\u001b[0;34m]\u001b[0m\u001b[0;34m)\u001b[0m\u001b[0;34m\u001b[0m\u001b[0;34m\u001b[0m\u001b[0m\n\u001b[0;32m-> 2422\u001b[0;31m     n_train, n_test = _validate_shuffle_split(\n\u001b[0m\u001b[1;32m   2423\u001b[0m         \u001b[0mn_samples\u001b[0m\u001b[0;34m,\u001b[0m \u001b[0mtest_size\u001b[0m\u001b[0;34m,\u001b[0m \u001b[0mtrain_size\u001b[0m\u001b[0;34m,\u001b[0m \u001b[0mdefault_test_size\u001b[0m\u001b[0;34m=\u001b[0m\u001b[0;36m0.25\u001b[0m\u001b[0;34m\u001b[0m\u001b[0;34m\u001b[0m\u001b[0m\n\u001b[1;32m   2424\u001b[0m     )\n",
      "\u001b[0;32m~/opt/anaconda3/lib/python3.8/site-packages/sklearn/model_selection/_split.py\u001b[0m in \u001b[0;36m_validate_shuffle_split\u001b[0;34m(n_samples, test_size, train_size, default_test_size)\u001b[0m\n\u001b[1;32m   2096\u001b[0m \u001b[0;34m\u001b[0m\u001b[0m\n\u001b[1;32m   2097\u001b[0m     \u001b[0;32mif\u001b[0m \u001b[0mn_train\u001b[0m \u001b[0;34m==\u001b[0m \u001b[0;36m0\u001b[0m\u001b[0;34m:\u001b[0m\u001b[0;34m\u001b[0m\u001b[0;34m\u001b[0m\u001b[0m\n\u001b[0;32m-> 2098\u001b[0;31m         raise ValueError(\n\u001b[0m\u001b[1;32m   2099\u001b[0m             \u001b[0;34m\"With n_samples={}, test_size={} and train_size={}, the \"\u001b[0m\u001b[0;34m\u001b[0m\u001b[0;34m\u001b[0m\u001b[0m\n\u001b[1;32m   2100\u001b[0m             \u001b[0;34m\"resulting train set will be empty. Adjust any of the \"\u001b[0m\u001b[0;34m\u001b[0m\u001b[0;34m\u001b[0m\u001b[0m\n",
      "\u001b[0;31mValueError\u001b[0m: With n_samples=0, test_size=0.2 and train_size=None, the resulting train set will be empty. Adjust any of the aforementioned parameters."
     ]
    }
   ],
   "source": [
    "# TODO 15.1\n",
    "data = data_prep(iris_df, pos_class=['versicolor'], neg_class=['setosa', 'virginica'], label_name='class', return_array=True)\n",
    "X_trn, y_trn, X_vld, y_vld, _, _, feature_names = data\n",
    "\n",
    "# TODO 15.2\n",
    "perceptron = PocketPerceptron(num_passes=10)\n",
    "\n",
    "perceptron.fit(X_trn, y_trn)\n",
    "\n",
    "y_hat_trn = perceptron.predict(X_trn)\n",
    "\n",
    "todo_check([\n",
    "    (np.all(np.isclose(X_trn[4].flatten(), [1., 1.13365878, -0.15635243,  0.95237765,  1.14980508])), \"'X_trn' values are incorrect\"),\n",
    "    (np.all(np.isclose(perceptron.w_best, np.array([-0.12545988,  0.15590326, -0.25504385,  0.18552363, -0.2858944 ]), rtol=.1)), \"best weight values potentially incorrect\")\n",
    "])"
   ]
  },
  {
   "cell_type": "markdown",
   "metadata": {
    "id": "yZ-95uqpXHDf"
   },
   "source": [
    "Looking at the above output from our algorithm again, we can see that we trained for the full 10 epochs. We can also see that we consistently misclassified at least 33 samples every epoch this time.\n",
    "\n",
    "Once again, looking prediction vs ground truth plot below isn't very useful. Further, notice that there is no more decision boundary plot. This is because we are using 4 dimensions (5 including the bias) which means we can't visualize our decision boundary as easily as before - at least without some advanced tricks."
   ]
  },
  {
   "cell_type": "code",
   "execution_count": null,
   "metadata": {
    "id": "eTmh0Z22XHDf",
    "outputId": "68ad11fa-9a45-4b6c-fe9d-1eb10cb8bc5b"
   },
   "outputs": [
    {
     "data": {
      "image/png": "[encoded data removed]",
      "text/plain": [
       "<Figure size 432x288 with 1 Axes>"
      ]
     },
     "metadata": {
      "needs_background": "light"
     },
     "output_type": "display_data"
    }
   ],
   "source": [
    "plot_preds_vs_true(\n",
    "    y=y_trn,\n",
    "    y_hat=y_hat_trn,\n",
    "    title=\"Training Predictions\",\n",
    "    dataset=\"Training\",\n",
    "    xlabel=\"Data Sample Index\",\n",
    "    ylabel=\"Predicted [-1, 1]\"\n",
    ")"
   ]
  },
  {
   "cell_type": "markdown",
   "metadata": {
    "id": "UzbUrwOyXHDf"
   },
   "source": [
    "Looking at our metrics we can see our classification score has increased to about 77%. So far things seem to improved at least slightly."
   ]
  },
  {
   "cell_type": "code",
   "execution_count": null,
   "metadata": {
    "id": "vzM6_dvWXHDf",
    "outputId": "46f27df7-a807-4f44-d955-4428ba3f9e7e"
   },
   "outputs": [
    {
     "name": "stdout",
     "output_type": "stream",
     "text": [
      "Accuracy ratio: 74/96\n",
      "Training accuracy: 0.7708333333333334\n"
     ]
    }
   ],
   "source": [
    "trn_acc = accuracy(y_hat=y_hat_trn, y=y_trn)\n",
    "print(f\"Training accuracy: {trn_acc}\")"
   ]
  },
  {
   "cell_type": "markdown",
   "metadata": {
    "id": "vru6PdpXXHDf"
   },
   "source": [
    "Here our confusion matrix can be read as follows:\n",
    "\n",
    "- 50 true negatives\n",
    "- 14 false positives\n",
    "- 8 false negatives\n",
    "- 24 true positives\n",
    "\n",
    "Notice, our algorithm is slightly better at predicting the positive class  while still predicting the negative class at the same rate. Let's confirm this by looking at our other metrics."
   ]
  },
  {
   "cell_type": "code",
   "execution_count": null,
   "metadata": {
    "id": "xu7lZ9_XXHDf",
    "outputId": "8bb62ef9-f262-4c79-e3e2-9df3392e472e"
   },
   "outputs": [
    {
     "data": {
      "image/png": "[encoded data removed]",
      "text/plain": [
       "<Figure size 432x288 with 2 Axes>"
      ]
     },
     "metadata": {
      "needs_background": "light"
     },
     "output_type": "display_data"
    }
   ],
   "source": [
    "plot_confusion_matrix(y_hat=y_hat_trn, \n",
    "                      y=y_trn,\n",
    "                      class_name_key={1:'versicolor', -1:\"not versicolor\"});"
   ]
  },
  {
   "cell_type": "markdown",
   "metadata": {
    "id": "X3EcbRhWXHDg"
   },
   "source": [
    "As we can see, all scores improved as we suspected - we'll at least for our training data."
   ]
  },
  {
   "cell_type": "code",
   "execution_count": null,
   "metadata": {
    "id": "kQs-iXdKXHDg",
    "outputId": "c31d18c1-9feb-4e72-b3b7-26ff4973b40b",
    "scrolled": true
   },
   "outputs": [
    {
     "name": "stdout",
     "output_type": "stream",
     "text": [
      "PPV ratio tp/(tp+fp): 24/38\n",
      "PPV (precision): 0.631578947368421\n",
      "\n",
      "TPR ratio tp/(tp+fn): 24/32\n",
      "TPR (recall/sensitivity): 0.75\n",
      "\n",
      "TNR ratio tn/(tn+fp): 50/64\n",
      "TNR specificity: 0.78125\n"
     ]
    }
   ],
   "source": [
    "compute_scores(y_hat=y_hat_trn, y=y_trn);"
   ]
  },
  {
   "cell_type": "markdown",
   "metadata": {
    "id": "7sswo_w2XHDg"
   },
   "source": [
    "### Validate\n",
    "\n",
    "Now, let's see how well 4 dimensions does on our validation data."
   ]
  },
  {
   "cell_type": "code",
   "execution_count": null,
   "metadata": {
    "id": "pEJkpRvlXHDg",
    "outputId": "d94fa18d-202d-4d38-c030-5d821f691370"
   },
   "outputs": [
    {
     "data": {
      "image/png": "[encoded data removed]",
      "text/plain": [
       "<Figure size 432x288 with 1 Axes>"
      ]
     },
     "metadata": {
      "needs_background": "light"
     },
     "output_type": "display_data"
    }
   ],
   "source": [
    "y_hat_vld = perceptron.predict(X_vld)\n",
    "\n",
    "plot_preds_vs_true(\n",
    "    y=y_vld,\n",
    "    y_hat=y_hat_vld,\n",
    "    title=\"Training Predictions\",\n",
    "    dataset=\"Training\",\n",
    "    xlabel=\"Data Sample Index\",\n",
    "    ylabel=\"Predicted [-1, 1]\"\n",
    ")"
   ]
  },
  {
   "cell_type": "markdown",
   "metadata": {
    "id": "K0-4THluXHDg"
   },
   "source": [
    "Surprisingly, we can see we get worse performance on our validation dataset. We have gone from roughly 80% accuracy to 70%! Hmm what is causing this?"
   ]
  },
  {
   "cell_type": "code",
   "execution_count": null,
   "metadata": {
    "id": "kFQoYfvIXHDg",
    "outputId": "b22f76e7-0f50-4e0e-b04c-0c6996efae79"
   },
   "outputs": [
    {
     "name": "stdout",
     "output_type": "stream",
     "text": [
      "Accuracy ratio: 17/24\n",
      "Validation accuracy: 0.7083333333333334\n"
     ]
    }
   ],
   "source": [
    "vld_acc = accuracy(y_hat=y_hat_vld, y=y_vld)\n",
    "print(f\"Validation accuracy: {vld_acc}\")"
   ]
  },
  {
   "cell_type": "markdown",
   "metadata": {
    "id": "tfQNit_GXHDg"
   },
   "source": [
    "Here our confusion matrix can be read as follows:\n",
    "\n",
    "- 13 true negatives\n",
    "- 3 false positives\n",
    "- 4 false negatives\n",
    "- 4 true positives\n",
    "\n",
    "Looking at the confusion matrix we can see the new decision boundary misclassified more positive class samples. When comparing to the results when using only the petal features, we have gone from 7 true positive to 4. Meaning, our false negatives have increased while our true positives decreased. Everything else has remained the same."
   ]
  },
  {
   "cell_type": "code",
   "execution_count": null,
   "metadata": {
    "id": "gMf3SksDXHDg",
    "outputId": "1dd4f6fd-f671-46eb-bcb0-42acda8aaa8b"
   },
   "outputs": [
    {
     "data": {
      "image/png": "[encoded data removed]",
      "text/plain": [
       "<Figure size 432x288 with 2 Axes>"
      ]
     },
     "metadata": {
      "needs_background": "light"
     },
     "output_type": "display_data"
    }
   ],
   "source": [
    "plot_confusion_matrix(y_hat=y_hat_vld, \n",
    "                      y=y_vld,\n",
    "                      class_name_key={1:'versicolor', -1:\"not versicolor\"});"
   ]
  },
  {
   "cell_type": "markdown",
   "metadata": {
    "id": "3GfyOkfAXHDg"
   },
   "source": [
    "Looking at the PPV and TPR scores we can see they have decreased due to the decrease in true positives. "
   ]
  },
  {
   "cell_type": "code",
   "execution_count": null,
   "metadata": {
    "id": "1NHtF5CJXHDh",
    "outputId": "5f86b243-d7d4-4870-86e7-b6e66adb75f7",
    "scrolled": false
   },
   "outputs": [
    {
     "name": "stdout",
     "output_type": "stream",
     "text": [
      "PPV ratio tp/(tp+fp): 4/7\n",
      "PPV (precision): 0.5714285714285714\n",
      "\n",
      "TPR ratio tp/(tp+fn): 4/8\n",
      "TPR (recall/sensitivity): 0.5\n",
      "\n",
      "TNR ratio tn/(tn+fp): 13/16\n",
      "TNR specificity: 0.8125\n"
     ]
    }
   ],
   "source": [
    "compute_scores(y_hat=y_hat_vld, y=y_vld);"
   ]
  },
  {
   "cell_type": "markdown",
   "metadata": {
    "id": "b8WRb_Q_XHDh"
   },
   "source": [
    "What gives? Well, what we really need is a non-linear classifier as simply adding more dimensions doesn't seem to be helping. We'll look at some of these in the coming weeks!"
   ]
  },
  {
   "cell_type": "code",
   "execution_count": null,
   "metadata": {
    "id": "BXWXaQb7XHDh"
   },
   "outputs": [],
   "source": [
    "# Remove data variables for this section from memory\n",
    "garbage_collect(['X_trn', 'y_trn', 'X_vld', 'y_vld','y_hat_trn', 'trn_acc', 'y_hat_vld', 'vld_acc', 'perceptron', 'data', 'feature_names'])"
   ]
  }
 ],
 "metadata": {
  "colab": {
   "collapsed_sections": [
    "pniiX0G8XHDF",
    "Pj0vbDUKXHDF",
    "m8t9HO7tXHDG",
    "WZnYvL0SXHDG",
    "mHDuhjHfXHDH",
    "f0NLKEu7XHDH",
    "K-PSu5D1XHDI",
    "OKuc1-mEXHDJ",
    "McRtyme2XHDK",
    "5QcsvIFGXHDL",
    "mCYK-BRUXHDM",
    "FelUWPVZXHDM",
    "cFQ97vrnXHDN",
    "rQjP1k4tXHDN",
    "8ozme9spXHDO",
    "ezeQ2SqpXHDO",
    "eObsXHdKXHDO",
    "7Y1EXaZZXHDP",
    "qACPk3aLXHDQ",
    "ZQI7jaQWXHDQ",
    "2M5ZcQIzXHDR",
    "Zm62Adr_XHDR",
    "-roj6AE1XHDS",
    "g7wFDFalXHDS",
    "yZHrI7-1XHDS",
    "XnWsAcPoXHDT",
    "y3BdVEzNXHDV",
    "r4NfZ3etXHDV",
    "wqXocTF2XHDW",
    "6uygBdRbXHDY",
    "rQdErXQ1XHDa",
    "yaxL5-wyXHDa",
    "FjTxwd_hXHDa",
    "VrRVNtsuXHDd"
   ],
   "provenance": []
  },
  "kernelspec": {
   "display_name": "Python 3",
   "language": "python",
   "name": "python3"
  },
  "language_info": {
   "codemirror_mode": {
    "name": "ipython",
    "version": 3
   },
   "file_extension": ".py",
   "mimetype": "text/x-python",
   "name": "python",
   "nbconvert_exporter": "python",
   "pygments_lexer": "ipython3",
   "version": "3.8.8"
  },
  "toc": {
   "base_numbering": 1,
   "nav_menu": {},
   "number_sections": true,
   "sideBar": true,
   "skip_h1_title": false,
   "title_cell": "Table of Contents",
   "title_sidebar": "Contents",
   "toc_cell": false,
   "toc_position": {
    "height": "calc(100% - 180px)",
    "left": "10px",
    "top": "150px",
    "width": "187.167px"
   },
   "toc_section_display": true,
   "toc_window_display": true
  }
 },
 "nbformat": 4,
 "nbformat_minor": 1
}
