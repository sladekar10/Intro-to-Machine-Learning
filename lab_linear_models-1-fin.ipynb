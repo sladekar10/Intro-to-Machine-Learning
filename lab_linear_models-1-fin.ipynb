{
 "cells": [
  {
   "cell_type": "markdown",
   "metadata": {
    "id": "H4I_GKyvB_Zq"
   },
   "source": [
    "\n",
    "\n",
    "# Linear modeling\n",
    "Course: ITCS 4156 - Introduction to Machine Learning \n",
    "\n",
    "Instructor: Xiang Zhang\n",
    "\n",
    "$\n",
    "\\newcommand{\\xv}{\\mathbf{x}}\n",
    " \\newcommand{\\yv}{\\mathbf{y}}\n",
    " \\newcommand{\\tv}{\\mathbf{t}}\n",
    " \\newcommand{\\wv}{\\mathbf{w}}\n",
    " \\newcommand{\\thetav}{\\mathbf{\\theta}}\n",
    " \\newcommand{\\xspace}{\\mathcal{X}}\n",
    " \\newcommand{\\yspace}{\\mathcal{Y}}\n",
    " \\newcommand{\\R}{\\rm I\\!R}\n",
    " \\newcommand{\\sign}{\\text{sign}}\n",
    " \\newcommand{\\tm}{\\mathbf{T}}\n",
    " \\newcommand{\\xm}{\\mathbf{X}}\n",
    " \\newcommand{\\Xm}{\\mathbf{X}}\n",
    " \\newcommand{\\im}{\\mathbf{I}}\n",
    "$"
   ]
  },
  {
   "cell_type": "markdown",
   "metadata": {
    "id": "f3GQ31XhB_Zw"
   },
   "source": [
    "<br/>\n",
    "<font color=\"blue\"><b>\n",
    "\n",
    "NAME: *Shardul Ladekar*\n",
    "\n",
    "</b> </font>"
   ]
  },
  {
   "cell_type": "markdown",
   "metadata": {
    "id": "BPEElHFkB_Zx"
   },
   "source": [
    "# Goal \n",
    "\n",
    "The goal of this activity is to practice some of the remaining steps of our ML setup (training and exploring models, evaluation, and prediction) which means we get to apply our first machine learning models, ordinary least squares (OLS) and least means squares (LMS)! We'll do so by working with the Forest Fire dataset as we have already performed data exploration and preparation so that we can get to the ML algorithms quicker (we'll hopefully).\n",
    "\n",
    "Your job is to read through the lab and fill in any code segments that are marked by `TODO` headers and comments. **It should be noted, that all the correct outputs are given below each code cell. It might be useful to duplicate all the `TODO` cells so you can try to match the correct output with your own code!** Additionally, use the `todo_check()` output to help guide you.\n",
    "\n",
    "# Agenda\n",
    "- Load data\n",
    "- Test first linear assumption: Linearity \n",
    "- Recreate data preparation pipeline\n",
    "- Implement Ordinary Least Squares\n",
    "- Check remaining linear assumptions\n",
    "- Review gradient descent\n",
    "- Implement Least Means Squares\n",
    "- Test the best model"
   ]
  },
  {
   "cell_type": "markdown",
   "metadata": {
    "id": "ZAK7nOd3B_Zx"
   },
   "source": [
    "## Table of Notation\n",
    "\n",
    "Below is a table of notation you'll encounter throughout this note and the class."
   ]
  },
  {
   "cell_type": "markdown",
   "metadata": {
    "id": "NrzzSxF7B_Zy"
   },
   "source": [
    "| Symbol                     | Meaning                     | Symbol    | Meaning                                                          |\n",
    "|----------------------------|-----------------------------|-----------|------------------------------------------------------------------|\n",
    "| $\\xv$ or $\\vec{x}$         | feature/input vector        | $x_i$     | $i$th element of $\\xv$                                           |\n",
    "| $\\Xm$                      | input matrix                | $x_{i,j}$ | $i$th row and $j$th column of $\\Xm$                              |\n",
    "| $\\yv$ or $\\tv$             | labels/targets              | $n$       | number of features or columns \n",
    "| $\\wv$ or $\\mathbf{\\theta}$ | weight/parameter vector     | $m$       | number of data samples <br>(also used to refer to the slope) |samples or rows                                   |\n",
    "| $f$ or $h$                 | hypothesis function <br> (i.e., a model)        | $\\hat{\\yv}$ <br> $f(\\xv {;} \\wv)$<br>$h(\\xv {;} \\wv)$ | predictions <br> y-hat |\n",
    "| $E$              | error or sum of error (loss)  | $SSE$      | sum of squared error function                                            |\n",
    "| $MSE$                      | mean squared error| $\\nabla$  | gradient (prnounced nabla)                                       |\n",
    "| $\\partial$                 | partial derivative          | $\\alpha$  | learning rate (prnounced alpha)                                  |       \n",
    "| $J$ | general placeholder for the cost/objective function | $x^T$| transpose of a vector or matrix |\n",
    "$b$ | bias or y-intercept term | | |"
   ]
  },
  {
   "cell_type": "code",
   "execution_count": 1,
   "metadata": {
    "id": "V12GSpIfB_Zz"
   },
   "outputs": [],
   "source": [
    "# Imports for this notebook\n",
    "import gc\n",
    "import os\n",
    "from typing import List, Tuple, Callable\n",
    "\n",
    "# Debugger\n",
    "from IPython.core.debugger import set_trace\n",
    "\n",
    "import pandas as pd\n",
    "import numpy as np\n",
    "import matplotlib.pyplot as plt \n",
    "\n",
    "%matplotlib inline"
   ]
  },
  {
   "cell_type": "code",
   "execution_count": 2,
   "metadata": {
    "id": "XoZqbI3FB_Z0"
   },
   "outputs": [],
   "source": [
    "def garbage_collect(vars_):\n",
    "    for v in vars_:\n",
    "        if v in globals():\n",
    "            del globals()[v]\n",
    "    collected = gc.collect()\n",
    "\n",
    "def todo_check(condi_err):\n",
    "    failed_err = \"You passed {}/{} and FAILED the following code checks:{}\"\n",
    "    failed = \"\"\n",
    "    n_failed = 0\n",
    "    for check, (condi, err) in enumerate(condi_err):\n",
    "        if not condi:\n",
    "            n_failed += 1\n",
    "            failed += f\"\\nFailed check [{check+1}]:\\n\\t Tip: {err}\"\n",
    "\n",
    "    if len(failed) != 0:\n",
    "        passed = len(condi_err) - n_failed\n",
    "        err = failed_err.format(passed, len(condi_err), failed)\n",
    "        raise AssertionError(err.format(failed))\n",
    "    print(\"Your code PASSED the code check!\")"
   ]
  },
  {
   "cell_type": "markdown",
   "metadata": {
    "id": "VQZHzMd9B_Z1"
   },
   "source": [
    "# Problem statement summary and data loading\n",
    "\n",
    "![](https://fee.org/media/38322/forest-fire-3782544_1280.jpg?anchor=center&mode=crop&height=656&widthratio=2.1341463414634146341463414634&rnd=132451547710000000)\n",
    "\n",
    "### Problem statement summary\n",
    "\n",
    "Recall that our goal here is to help prevent and make firefighting easier by identifying \"high risk\" areas by either predicting how much a potential area could burn when a forest fire occurs. We think we can achieve this by using supervised learning where our labels correspond to how much an area will is likely to be burned.\n"
   ]
  },
  {
   "cell_type": "markdown",
   "metadata": {
    "id": "dXam0L6YB_Z2"
   },
   "source": [
    "### Data loading\n",
    "\n",
    "To begin, let's fetch the Forest Fire dataset. If you don't have it then download it using the following link: https://archive.ics.uci.edu/ml/datasets/Forest+Fires. When you arrive at the UCI webite click the \"Data Folder\" button near the top right to download the dataset. Once clicked, download the following file: `forestfires.csv`.\n",
    "\n",
    "Be sure to move the `forestfires.csv` file to the **SAME** directory/folder that this Jupyter Notebook is in (i.e., the current path of the notebook). We need to do this so that when we go to load the data we can easily path to the files! Run the below code to check which will print your notebook's current path and which directory the notebook is in!"
   ]
  },
  {
   "cell_type": "code",
   "execution_count": 3,
   "metadata": {
    "id": "Tav9AE4uB_Z3",
    "outputId": "cd24119f-8019-4c29-dc98-ffc18a1d6a48",
    "scrolled": true
   },
   "outputs": [
    {
     "name": "stdout",
     "output_type": "stream",
     "text": [
      "The current path for your notebook is:\n",
      " /Users/shardul/Documents/Intro to ML\n",
      "\n",
      "Your notebook is currently in the following directory:\n",
      " Intro to ML\n"
     ]
    }
   ],
   "source": [
    "print(f\"The current path for your notebook is:\\n {os.getcwd()}\\n\")\n",
    "print(f\"Your notebook is currently in the following directory:\\n {os.path.basename(os.getcwd())}\")"
   ]
  },
  {
   "cell_type": "markdown",
   "metadata": {
    "id": "kMXwPLP5B_Z4"
   },
   "source": [
    "#### TODO 1\n",
    "Let's load the `forestfires.csv` by using Pandas `read_csv()` function.\n",
    "\n",
    "1. Load Forest Fires dataset using the Pandas function `read_csv()` ([docs](https://pandas.pydata.org/pandas-docs/stable/reference/api/pandas.read_csv.html)). Store the output into the `forestfire_df` variable.\n",
    "    1. Hint: We wrote a custom exception to alert you if you didn't move your notebook to the correct location. So if you are getting an error take a second to read what it says."
   ]
  },
  {
   "cell_type": "code",
   "execution_count": 4,
   "metadata": {
    "id": "vaYv-kV0B_Z4",
    "outputId": "eeda432e-3a15-490a-f518-5ee01097c8cb"
   },
   "outputs": [
    {
     "data": {
      "text/html": [
       "<div>\n",
       "<style scoped>\n",
       "    .dataframe tbody tr th:only-of-type {\n",
       "        vertical-align: middle;\n",
       "    }\n",
       "\n",
       "    .dataframe tbody tr th {\n",
       "        vertical-align: top;\n",
       "    }\n",
       "\n",
       "    .dataframe thead th {\n",
       "        text-align: right;\n",
       "    }\n",
       "</style>\n",
       "<table border=\"1\" class=\"dataframe\">\n",
       "  <thead>\n",
       "    <tr style=\"text-align: right;\">\n",
       "      <th></th>\n",
       "      <th>X</th>\n",
       "      <th>Y</th>\n",
       "      <th>month</th>\n",
       "      <th>day</th>\n",
       "      <th>FFMC</th>\n",
       "      <th>DMC</th>\n",
       "      <th>DC</th>\n",
       "      <th>ISI</th>\n",
       "      <th>temp</th>\n",
       "      <th>RH</th>\n",
       "      <th>wind</th>\n",
       "      <th>rain</th>\n",
       "      <th>area</th>\n",
       "    </tr>\n",
       "  </thead>\n",
       "  <tbody>\n",
       "    <tr>\n",
       "      <th>0</th>\n",
       "      <td>7</td>\n",
       "      <td>5</td>\n",
       "      <td>mar</td>\n",
       "      <td>fri</td>\n",
       "      <td>86.2</td>\n",
       "      <td>26.2</td>\n",
       "      <td>94.3</td>\n",
       "      <td>5.1</td>\n",
       "      <td>8.2</td>\n",
       "      <td>51</td>\n",
       "      <td>6.7</td>\n",
       "      <td>0.0</td>\n",
       "      <td>0.00</td>\n",
       "    </tr>\n",
       "    <tr>\n",
       "      <th>1</th>\n",
       "      <td>7</td>\n",
       "      <td>4</td>\n",
       "      <td>oct</td>\n",
       "      <td>tue</td>\n",
       "      <td>90.6</td>\n",
       "      <td>35.4</td>\n",
       "      <td>669.1</td>\n",
       "      <td>6.7</td>\n",
       "      <td>18.0</td>\n",
       "      <td>33</td>\n",
       "      <td>0.9</td>\n",
       "      <td>0.0</td>\n",
       "      <td>0.00</td>\n",
       "    </tr>\n",
       "    <tr>\n",
       "      <th>2</th>\n",
       "      <td>7</td>\n",
       "      <td>4</td>\n",
       "      <td>oct</td>\n",
       "      <td>sat</td>\n",
       "      <td>90.6</td>\n",
       "      <td>43.7</td>\n",
       "      <td>686.9</td>\n",
       "      <td>6.7</td>\n",
       "      <td>14.6</td>\n",
       "      <td>33</td>\n",
       "      <td>1.3</td>\n",
       "      <td>0.0</td>\n",
       "      <td>0.00</td>\n",
       "    </tr>\n",
       "    <tr>\n",
       "      <th>3</th>\n",
       "      <td>8</td>\n",
       "      <td>6</td>\n",
       "      <td>mar</td>\n",
       "      <td>fri</td>\n",
       "      <td>91.7</td>\n",
       "      <td>33.3</td>\n",
       "      <td>77.5</td>\n",
       "      <td>9.0</td>\n",
       "      <td>8.3</td>\n",
       "      <td>97</td>\n",
       "      <td>4.0</td>\n",
       "      <td>0.2</td>\n",
       "      <td>0.00</td>\n",
       "    </tr>\n",
       "    <tr>\n",
       "      <th>4</th>\n",
       "      <td>8</td>\n",
       "      <td>6</td>\n",
       "      <td>mar</td>\n",
       "      <td>sun</td>\n",
       "      <td>89.3</td>\n",
       "      <td>51.3</td>\n",
       "      <td>102.2</td>\n",
       "      <td>9.6</td>\n",
       "      <td>11.4</td>\n",
       "      <td>99</td>\n",
       "      <td>1.8</td>\n",
       "      <td>0.0</td>\n",
       "      <td>0.00</td>\n",
       "    </tr>\n",
       "    <tr>\n",
       "      <th>...</th>\n",
       "      <td>...</td>\n",
       "      <td>...</td>\n",
       "      <td>...</td>\n",
       "      <td>...</td>\n",
       "      <td>...</td>\n",
       "      <td>...</td>\n",
       "      <td>...</td>\n",
       "      <td>...</td>\n",
       "      <td>...</td>\n",
       "      <td>...</td>\n",
       "      <td>...</td>\n",
       "      <td>...</td>\n",
       "      <td>...</td>\n",
       "    </tr>\n",
       "    <tr>\n",
       "      <th>512</th>\n",
       "      <td>4</td>\n",
       "      <td>3</td>\n",
       "      <td>aug</td>\n",
       "      <td>sun</td>\n",
       "      <td>81.6</td>\n",
       "      <td>56.7</td>\n",
       "      <td>665.6</td>\n",
       "      <td>1.9</td>\n",
       "      <td>27.8</td>\n",
       "      <td>32</td>\n",
       "      <td>2.7</td>\n",
       "      <td>0.0</td>\n",
       "      <td>6.44</td>\n",
       "    </tr>\n",
       "    <tr>\n",
       "      <th>513</th>\n",
       "      <td>2</td>\n",
       "      <td>4</td>\n",
       "      <td>aug</td>\n",
       "      <td>sun</td>\n",
       "      <td>81.6</td>\n",
       "      <td>56.7</td>\n",
       "      <td>665.6</td>\n",
       "      <td>1.9</td>\n",
       "      <td>21.9</td>\n",
       "      <td>71</td>\n",
       "      <td>5.8</td>\n",
       "      <td>0.0</td>\n",
       "      <td>54.29</td>\n",
       "    </tr>\n",
       "    <tr>\n",
       "      <th>514</th>\n",
       "      <td>7</td>\n",
       "      <td>4</td>\n",
       "      <td>aug</td>\n",
       "      <td>sun</td>\n",
       "      <td>81.6</td>\n",
       "      <td>56.7</td>\n",
       "      <td>665.6</td>\n",
       "      <td>1.9</td>\n",
       "      <td>21.2</td>\n",
       "      <td>70</td>\n",
       "      <td>6.7</td>\n",
       "      <td>0.0</td>\n",
       "      <td>11.16</td>\n",
       "    </tr>\n",
       "    <tr>\n",
       "      <th>515</th>\n",
       "      <td>1</td>\n",
       "      <td>4</td>\n",
       "      <td>aug</td>\n",
       "      <td>sat</td>\n",
       "      <td>94.4</td>\n",
       "      <td>146.0</td>\n",
       "      <td>614.7</td>\n",
       "      <td>11.3</td>\n",
       "      <td>25.6</td>\n",
       "      <td>42</td>\n",
       "      <td>4.0</td>\n",
       "      <td>0.0</td>\n",
       "      <td>0.00</td>\n",
       "    </tr>\n",
       "    <tr>\n",
       "      <th>516</th>\n",
       "      <td>6</td>\n",
       "      <td>3</td>\n",
       "      <td>nov</td>\n",
       "      <td>tue</td>\n",
       "      <td>79.5</td>\n",
       "      <td>3.0</td>\n",
       "      <td>106.7</td>\n",
       "      <td>1.1</td>\n",
       "      <td>11.8</td>\n",
       "      <td>31</td>\n",
       "      <td>4.5</td>\n",
       "      <td>0.0</td>\n",
       "      <td>0.00</td>\n",
       "    </tr>\n",
       "  </tbody>\n",
       "</table>\n",
       "<p>517 rows × 13 columns</p>\n",
       "</div>"
      ],
      "text/plain": [
       "     X  Y month  day  FFMC    DMC     DC   ISI  temp  RH  wind  rain   area\n",
       "0    7  5   mar  fri  86.2   26.2   94.3   5.1   8.2  51   6.7   0.0   0.00\n",
       "1    7  4   oct  tue  90.6   35.4  669.1   6.7  18.0  33   0.9   0.0   0.00\n",
       "2    7  4   oct  sat  90.6   43.7  686.9   6.7  14.6  33   1.3   0.0   0.00\n",
       "3    8  6   mar  fri  91.7   33.3   77.5   9.0   8.3  97   4.0   0.2   0.00\n",
       "4    8  6   mar  sun  89.3   51.3  102.2   9.6  11.4  99   1.8   0.0   0.00\n",
       "..  .. ..   ...  ...   ...    ...    ...   ...   ...  ..   ...   ...    ...\n",
       "512  4  3   aug  sun  81.6   56.7  665.6   1.9  27.8  32   2.7   0.0   6.44\n",
       "513  2  4   aug  sun  81.6   56.7  665.6   1.9  21.9  71   5.8   0.0  54.29\n",
       "514  7  4   aug  sun  81.6   56.7  665.6   1.9  21.2  70   6.7   0.0  11.16\n",
       "515  1  4   aug  sat  94.4  146.0  614.7  11.3  25.6  42   4.0   0.0   0.00\n",
       "516  6  3   nov  tue  79.5    3.0  106.7   1.1  11.8  31   4.5   0.0   0.00\n",
       "\n",
       "[517 rows x 13 columns]"
      ]
     },
     "metadata": {},
     "output_type": "display_data"
    },
    {
     "name": "stdout",
     "output_type": "stream",
     "text": [
      "Your code PASSED the code check!\n"
     ]
    }
   ],
   "source": [
    "# This line checks to make sure the forestfire.csv is in the \n",
    "# same directory as this notebook.\n",
    "if not os.path.exists(\"forestfires.csv\"):\n",
    "    raise Exception(f\"The forestfires.csv is not detected in your local path! \" \\\n",
    "                    f\"You need to move the 'forestfires.csv' file to the same \" \\\n",
    "                    f\"location/directory as this notebook which is {os.getcwd()}\")   \n",
    "# TODO 1.1\n",
    "forestfire_df = pd.read_csv(\"forestfires.csv\")\n",
    "display(forestfire_df)\n",
    "\n",
    "todo_check([\n",
    "    (np.all(forestfire_df.iloc[0].values == np.array([7, 5, 'mar', 'fri', 86.2, 26.2, 94.3, 5.1, 8.2, 51, 6.7, 0.0, 0.0],\n",
    "      dtype=object)), 'The 1st row does not match! Make sure you loaded the right dataset!')\n",
    "])"
   ]
  },
  {
   "cell_type": "markdown",
   "metadata": {
    "id": "L9qfsi2JB_Z5"
   },
   "source": [
    "# Checking the first linear assumption: Linearity \n",
    "With our data loaded, let's check our first linear assumption to see if a linear model will be a good choice for modeling our data. Recall that the first assumption we can check is if **our features share some form of linear relationship with our labels/targets** (in this case 'area'). \n",
    "We'll check the other linear assumptions after training a model to confirm whether they are true or not!\n",
    "\n",
    "Let's recreate the multi-scatter plots from the data visualization lab which had us plotting the log scaled 'area' against our input features."
   ]
  },
  {
   "cell_type": "markdown",
   "metadata": {
    "id": "PsHXJRGCB_Z5"
   },
   "source": [
    "#### TODO 2\n",
    "Complete the TODO by taking the log of our 'area' targets, extracting our input features, and then creating a multi-scatter plot which plots 'area' against all our features.\n",
    "1. Use the NumPy's handy `np.log1p()` function ([docs](https://numpy.org/doc/stable/reference/generated/numpy.log1p.html))to take the log of our 'area' feature. Recall that we usually need to add 1 to our 'area' feature as we can't take the $log(0)$. Luckily the `log1p()` function does this for us automatically. Store the output into `log_area_values`.\n",
    "2. Extract all our input features **EXCEPT** for the column 'area' which will act as our target. Store the output into `features`.\n",
    "    1. Hint: When you want to extract the majority of your features except a few specifically, try using the Pandas DataFrame `drop()` method to drop the features you don't want. This can be easier than specifying all the features individually\n",
    "3. Complete the for loop which loops over each feature in `features` and plots a sub-plot where the current feature given by the `column_name` variable is plotted on the x-axis and the target 'area', stored in the `log_area_values` variable, is plotted on the y-axis.\n",
    "    1. Hint: Using `plt.plot` plot the current feature specified by `column_name` on the x-axis and our targets 'area', specified by `log_area_values`, on the y-axis.\n",
    "    1. Note: No TODO check here. Compare the output with the below image.\n",
    "    \n",
    "<img src=\"https://live.staticflickr.com/65535/51876122139_3569bbc7fd_o.png\" width=\"400\" height=\"300\" alt=\"linear_models-2-3\">"
   ]
  },
  {
   "cell_type": "code",
   "execution_count": 5,
   "metadata": {
    "id": "f7TBn_mUB_Z6",
    "outputId": "3646e6fa-af65-45a2-8859-71b08d0386a9"
   },
   "outputs": [
    {
     "data": {
      "text/plain": [
       "0      0.000000\n",
       "1      0.000000\n",
       "2      0.000000\n",
       "3      0.000000\n",
       "4      0.000000\n",
       "         ...   \n",
       "512    2.006871\n",
       "513    4.012592\n",
       "514    2.498152\n",
       "515    0.000000\n",
       "516    0.000000\n",
       "Name: area, Length: 517, dtype: float64"
      ]
     },
     "metadata": {},
     "output_type": "display_data"
    },
    {
     "name": "stdout",
     "output_type": "stream",
     "text": [
      "Your code PASSED the code check!\n"
     ]
    }
   ],
   "source": [
    "# TODO 2.1\n",
    "log_area_values = np.log1p(forestfire_df['area'])\n",
    "display(log_area_values)\n",
    "\n",
    "todo_check([\n",
    "    (np.all(np.isclose(log_area_values[512:].values, np.array([2.00687085, 4.01259206, 2.49815188, 0.        , 0.        ]),rtol=.01)), \"log_area_values values were incorrect! Make sure you applied log1p() or added 1 and took the log!\"),\n",
    "])"
   ]
  },
  {
   "cell_type": "code",
   "execution_count": 6,
   "metadata": {
    "id": "VpAcxgA4B_Z6",
    "outputId": "7f0374a5-88ab-4786-c4c8-6b5239b2ed8c"
   },
   "outputs": [
    {
     "name": "stdout",
     "output_type": "stream",
     "text": [
      "Your code PASSED the code check!\n"
     ]
    }
   ],
   "source": [
    "# TODO 2.2\n",
    "features = forestfire_df.drop(['area'], axis=1)\n",
    "todo_check([\n",
    "    (features.shape == (517, 12), 'features shape did not match the shape (517, 12)'),\n",
    "    (np.all(features.iloc[5, 4:].values == np.array([92.3, 85.3, 488.0, 14.7, 22.2, 29, 5.4, 0.0])), \"features values are incorrect!\")\n",
    "])"
   ]
  },
  {
   "cell_type": "code",
   "execution_count": 16,
   "metadata": {
    "id": "PmAPotLDB_Z7",
    "outputId": "a05639e1-1ec2-4ac5-9d52-dc5e49c553d8"
   },
   "outputs": [
    {
     "data": {
      "image/png": "[encoded data removed]",
      "text/plain": [
       "<Figure size 1080x936 with 12 Axes>"
      ]
     },
     "metadata": {
      "needs_background": "light"
     },
     "output_type": "display_data"
    }
   ],
   "source": [
    "fig, _ = plt.subplots(figsize=(15, 13))\n",
    "\n",
    "# column_name holds the current column name\n",
    "# idx holds the current column index\n",
    "# You can use either to index features to get the current feature\n",
    "for idx, column_name in enumerate(features.columns.values):\n",
    "    # Sets sub-plot index\n",
    "    plt.subplot(3, 4, idx+1)\n",
    "    \n",
    "    # TODO 2.3\n",
    "    plt.plot(log_area_values, features[column_name], '.')\n",
    "    plt.ylabel('Area')\n",
    "    plt.xlabel(column_name)\n",
    "\n",
    "    \n",
    "fig.tight_layout()\n",
    "plt.show()"
   ]
  },
  {
   "cell_type": "markdown",
   "metadata": {
    "id": "u6bahnbbB_Z7"
   },
   "source": [
    "Take a second to see if you notice any linear patterns or any patters at all?\n",
    "\n",
    "Further recall the correlation matrix from last week where we saw that there were no strong correlations between any **single** variable and our target 'area'. "
   ]
  },
  {
   "cell_type": "code",
   "execution_count": 7,
   "metadata": {
    "id": "KhEksj49B_Z7",
    "outputId": "f9cbf1c5-0d45-4b94-f75c-63c12c25ac54"
   },
   "outputs": [
    {
     "data": {
      "text/plain": [
       "X       0.063385\n",
       "Y       0.044873\n",
       "FFMC    0.040122\n",
       "DMC     0.072994\n",
       "DC      0.049383\n",
       "ISI     0.008258\n",
       "temp    0.097844\n",
       "RH     -0.075519\n",
       "wind    0.012317\n",
       "rain   -0.007366\n",
       "area    1.000000\n",
       "Name: area, dtype: float64"
      ]
     },
     "execution_count": 7,
     "metadata": {},
     "output_type": "execute_result"
    }
   ],
   "source": [
    "corr_matrix = forestfire_df.corr()\n",
    "corr_matrix['area']"
   ]
  },
  {
   "cell_type": "markdown",
   "metadata": {
    "id": "ublep4jLB_Z8"
   },
   "source": [
    "The correlation matrix and our visualization are a good indication that **no single feature in our data really seems to have a strong or any linear trend with our target 'area'** This means that performing single linear regression (linear regression based on a single feature) is probably a bad idea.\n",
    "\n",
    "However, this isn't the end of the world. We don't know how the regression algorithm will act when considering **all** our features together - though it's not looking great. Moving forward with a linear model might still be worth a shot if we use all our features or a selection. Further note, even if the linear model performs poorly it sets a good baseline we can then use to compare to more complex models."
   ]
  },
  {
   "cell_type": "markdown",
   "metadata": {
    "id": "XEe7IgAyB_Z8"
   },
   "source": [
    "# Data Preparation Pipeline\n",
    "\n",
    "Now it's time to recreate our data preparation pipelines from last week. We are going to make some slight changes such that we have less conflicting code, meaning our code is more encapsulated. With this in mind, we have to spend another decent amount of time on this section.\n",
    "\n",
    "Let's import all the sklean pipeline stuff we'll be needing."
   ]
  },
  {
   "cell_type": "code",
   "execution_count": 10,
   "metadata": {
    "id": "Y1lWCGh_B_Z9"
   },
   "outputs": [],
   "source": [
    "import sklearn\n",
    "# Check to make sure you have the right version of sklearn\n",
    "assert sklearn.__version__  >= '1.0.1', f'sklearn version is only {sklearn.__version__} and needs to be >= 1.0.1'"
   ]
  },
  {
   "cell_type": "code",
   "execution_count": 11,
   "metadata": {
    "id": "I9UiM5ThB_Z9"
   },
   "outputs": [],
   "source": [
    "from sklearn.base import BaseEstimator, TransformerMixin\n",
    "from sklearn.pipeline import Pipeline\n",
    "from sklearn.compose import ColumnTransformer"
   ]
  },
  {
   "cell_type": "markdown",
   "metadata": {
    "id": "0UoVX8bfB_Z-"
   },
   "source": [
    "## Defining our own ColumnTransformer\n",
    "\n",
    "In the previous lab (data visualization) we used the `ColumnTrasformer` class from Sklearn in order to apply our data cleaning and transformations methods to certain columns in our. While we'll still be using the `ColumnTrasformer`, we are going to wrap it's functionality in our own class (otherwise known as creating a \"wrapper\"). \n",
    "\n",
    "But why do this? Recall that the output of a `Columntransformer` is always a NumPy array. We want our output to be a Pandas DataFrame for greater flexibility since we can easily convert a DataFrame to a NumPy array. To achieve this we define our own wrapper called `DataFrameColumnTransformer`. This class simply makes sure the output of our `Columntransformer` is a DataFrame.\n",
    "\n",
    "To achieve this we will have to slightly edit each one of our data cleaning and transformations classes we defined last week (`OneHotEncoding`, `LogTransformer` and `Standardization`) to include the a class variable called `self.feature_names` which will track the feature names for the data passed to the class (these will be used to construct the column names for a DataFrame). Additionally, we will define a `get_feature_names_out()` method which allows us to easily return these feature names. \n",
    "\n",
    "Once our data has passed through the `Columntransformer` we can then use the `Columntransformer.get_feature_names_out()` method which will grab the feature names from each data cleaning and transformation class by calling their corresponding `get_feature_names_out()` method. With the feature names in hand, we can easily turn our NumPy array into a DataFrame!\n",
    "\n",
    "\n",
    "Initializing our `DataFrameColumnTransformer` class will work just like `Columntransformer`. See example below.\n",
    "\n",
    "```Python\n",
    "df_col_trans = DataFrameColumnTransformer([\n",
    "    ('name', Class(), ['feature_name_1', 'feature_name_2']),\n",
    "    ('another_name', AnotherClass(), ['feature_name_3'])\n",
    "])\n",
    "```\n",
    "\n",
    "Take time to look through the code for the below class."
   ]
  },
  {
   "cell_type": "code",
   "execution_count": 12,
   "metadata": {
    "id": "UYD-GgwEB_Z-"
   },
   "outputs": [],
   "source": [
    "class DataFrameColumnTransformer(TransformerMixin):\n",
    "    def __init__(self, stages: List[Tuple]):\n",
    "        self.col_trans = ColumnTransformer(stages)\n",
    "    \n",
    "    def fit(self, X: pd.DataFrame):\n",
    "        \"\"\" Runs our ColumnTransformer.fit() method \"\"\"\n",
    "        self.col_trans.fit(X)\n",
    "        return self\n",
    "    \n",
    "    def transform(self, X: pd.DataFrame) -> pd.DataFrame:\n",
    "        \"\"\" Runs our ColumnTransformer.transform() method \"\"\"\n",
    "        output_arr = self.col_trans.transform(X)\n",
    "        \n",
    "        return self.to_dataframe(output_arr)\n",
    "    \n",
    "    def to_dataframe(self, arr: np.ndarray) -> pd.DataFrame:\n",
    "        \"\"\"Converts our output of ColumnTransformer into a DataFrame\"\"\"\n",
    "        feature_names = self.col_trans.get_feature_names_out()\n",
    "        \n",
    "        # Remove the \"__\" that ColumnTransformer adds to our feature names\n",
    "        # when we call self.col_trans.get_feature_names_out()\n",
    "        for i, name in enumerate(feature_names):\n",
    "            if '__' in name:\n",
    "                feature_names[i] = name.split('__', 1)[-1]\n",
    "        \n",
    "        # Creates a Pandas Dataframe\n",
    "        df = pd.DataFrame(arr, columns=feature_names)\n",
    "        \n",
    "        return df"
   ]
  },
  {
   "cell_type": "markdown",
   "metadata": {
    "id": "fr7SUyguB_Z-"
   },
   "source": [
    "## Pre-split\n",
    "\n",
    "Let's quickly define our pre-split data cleaning and transformation class from last week: `OneHotEncoding` and `LogTransformer`. We won't make you program them again but do take note of the changes we have implemented. If you don't recall how they work review the previous lab (data visualization).\n"
   ]
  },
  {
   "cell_type": "markdown",
   "metadata": {
    "id": "9SlGcV7TB_Z-"
   },
   "source": [
    "### Redefining OneHotEncoding and LogTransformer\n",
    "\n",
    "\n",
    "- Changes\n",
    "    - Added `self.feature_names` to both classes\n",
    "    - Added `get_feature_names_out()` to both classes\n",
    "    - Added more Python hinting\n",
    "        - Recall `X: pd.DataFrame` the `: pd.DataFrame` hints at what type the `X` argument should be receiving. This is just a like a comment through, strict typing is NEVER enforced by Python.\n",
    "        - The ` -> pd.DataFrame` hints at what the return type should be."
   ]
  },
  {
   "cell_type": "code",
   "execution_count": 13,
   "metadata": {
    "id": "uO28XpLoB_Z-"
   },
   "outputs": [],
   "source": [
    "class OneHotEncoding(BaseEstimator, TransformerMixin):\n",
    "    def __init__(self):\n",
    "        self.feature_names = None\n",
    "    \n",
    "    def fit(self,\n",
    "            X: pd.DataFrame, \n",
    "            y: pd.DataFrame = None):\n",
    "        \n",
    "        # We don't need to set/learn any variables so\n",
    "        # we just need to return a reference to the object with 'self'\n",
    "        # If we dont return self the Pipeline class will throw errors\n",
    "        return self\n",
    "    \n",
    "    def transform(self,\n",
    "                  X: pd.DataFrame, \n",
    "                  y: pd.DataFrame = None) -> pd.DataFrame:\n",
    "        \n",
    "        one_hot = pd.get_dummies(X)\n",
    "        self.feature_names = one_hot.columns\n",
    "        \n",
    "        return one_hot\n",
    "    \n",
    "    def get_feature_names_out(self, names=None)-> List[str]:\n",
    "        return list(self.feature_names)"
   ]
  },
  {
   "cell_type": "code",
   "execution_count": 14,
   "metadata": {
    "id": "wqduZknOB_Z_"
   },
   "outputs": [],
   "source": [
    "class LogTransformer(BaseEstimator, TransformerMixin): \n",
    "    def __init__(self):\n",
    "        self.feature_names = None\n",
    "    \n",
    "    def fit(self,\n",
    "            X: pd.DataFrame, \n",
    "            y: pd.DataFrame = None):\n",
    "        \n",
    "        # We don't need to set/learn any variables so\n",
    "        # we just need to return a reference to the object with 'self'\n",
    "        # If we dont return self the Pipeline class will throw errors\n",
    "        return self\n",
    "    \n",
    "    def transform(self,\n",
    "                  X: pd.DataFrame, \n",
    "                  y: pd.DataFrame = None) -> pd.DataFrame:\n",
    "        self.feature_names = X.columns\n",
    "        \n",
    "        return np.log1p(X)\n",
    "    \n",
    "    def get_feature_names_out(self, names=None) -> List[str]:\n",
    "        return list(self.feature_names)"
   ]
  },
  {
   "cell_type": "markdown",
   "metadata": {
    "id": "IqINMmrZB_Z_"
   },
   "source": [
    "### Creating a cleaning pipeline\n",
    "\n",
    "Now it's time to create out before splitting pipeline from last week. This time we are going to wrap all the code for creating and running the pipeline in a function so that we can easily recall these steps at any time!"
   ]
  },
  {
   "cell_type": "markdown",
   "metadata": {
    "id": "k9uRhjDXB_Z_"
   },
   "source": [
    "#### TODO 3\n",
    "Complete the TODO by finishing the `before_pipeline()` function.\n",
    "\n",
    "1. Define the 3 pre-split stages that our `DataFrameColumnTransformer` class will take in. **Recall this must be a <u>list of tuples </u>.** Store the output in `stages`\n",
    "    1. The first tuple should be our pass through stage which simply passes the columns we don't use so that they are added to the output. Define the tuple as follows:\n",
    "        1. Element 1 should be set to the string 'pass'. Recall you can really set this to any string you'd like, it is just a name for the current stage.\n",
    "        2. Element 2 should be set to the string 'passthrough'. Recall this is how we indicate we want `ColumnTransformer` to simply pass our columns to the output.\n",
    "        3. Element 3: should be set to `passthrough_cols` which contains the names of the columns we want to pass through.\n",
    "    2. Define the one-hot encoding stage by defining a tuple as follows:\n",
    "        1. Element 1 should be set to the string 'one_hot'.\n",
    "        2. Element 2 should be set an **instance** of our `OneHotEncoding` class\n",
    "        3. Element 3 should be set to a **list** containing the names of our categorical features 'month' and 'day'.\n",
    "    3. Define the log transformation encoding stage by defining a tuple as follows:\n",
    "        1. Element 1 should be set to the string 'log'.\n",
    "        2. Element 2 should be set an **instance** of our `LogTransformer` class\n",
    "        3. Element 3 should be set to a **list** containing the name of our label/target 'area'.\n",
    "2. Create an instance of our `DataFrameColumnTransformer` and pass `stages`, the data cleaning and transformation stages we just defined above. Store the output into the variable `before_pipe`.\n",
    "3. Call the `fit_transform()` method for our `before_pipe` instance to fit and then transform our Forest Fire data by passing the `forestfire_df` variable. Store the output into `cleaner_df`.\n",
    "\n",
    "These are very similar with the last lab (data preparation), please check the codes in the previous lab if you are confused by this TODO."
   ]
  },
  {
   "cell_type": "code",
   "execution_count": 15,
   "metadata": {
    "id": "ymiGEALAB_Z_"
   },
   "outputs": [],
   "source": [
    "def before_pipeline(forestfire_df):\n",
    "    passthrough_cols = forestfire_df.drop(['month', 'day', 'area'], axis=1).columns \n",
    "\n",
    "    # TODO 3.1\n",
    "    stages = [('pass', 'passthrough', passthrough_cols),('one_hot', OneHotEncoding(), ['month', 'day']), ('log', LogTransformer(), ['area'])]\n",
    "\n",
    "    # TODO 3.2\n",
    "    before_pipe = DataFrameColumnTransformer(stages)\n",
    "    \n",
    "    # TODO 3.3\n",
    "    cleaner_df = before_pipe.fit_transform(forestfire_df)\n",
    "    \n",
    "    return cleaner_df"
   ]
  },
  {
   "cell_type": "markdown",
   "metadata": {
    "id": "gA-rRCciB_Z_"
   },
   "source": [
    "Once you think you have completed the `before_pipeline()` function run the below code to test the function. Observe the displayed DataFrame to see if the transformations were correctly applied. "
   ]
  },
  {
   "cell_type": "code",
   "execution_count": 16,
   "metadata": {
    "id": "NaHk6EktB_aA",
    "outputId": "c8625e95-204a-4361-a2d9-ab0f6e711313"
   },
   "outputs": [
    {
     "name": "stdout",
     "output_type": "stream",
     "text": [
      "forestfire_arr shape: (517, 30)\n",
      "forestfire_arr type: <class 'pandas.core.frame.DataFrame'>\n"
     ]
    },
    {
     "data": {
      "text/html": [
       "<div>\n",
       "<style scoped>\n",
       "    .dataframe tbody tr th:only-of-type {\n",
       "        vertical-align: middle;\n",
       "    }\n",
       "\n",
       "    .dataframe tbody tr th {\n",
       "        vertical-align: top;\n",
       "    }\n",
       "\n",
       "    .dataframe thead th {\n",
       "        text-align: right;\n",
       "    }\n",
       "</style>\n",
       "<table border=\"1\" class=\"dataframe\">\n",
       "  <thead>\n",
       "    <tr style=\"text-align: right;\">\n",
       "      <th></th>\n",
       "      <th>X</th>\n",
       "      <th>Y</th>\n",
       "      <th>FFMC</th>\n",
       "      <th>DMC</th>\n",
       "      <th>DC</th>\n",
       "      <th>ISI</th>\n",
       "      <th>temp</th>\n",
       "      <th>RH</th>\n",
       "      <th>wind</th>\n",
       "      <th>rain</th>\n",
       "      <th>...</th>\n",
       "      <th>month_oct</th>\n",
       "      <th>month_sep</th>\n",
       "      <th>day_fri</th>\n",
       "      <th>day_mon</th>\n",
       "      <th>day_sat</th>\n",
       "      <th>day_sun</th>\n",
       "      <th>day_thu</th>\n",
       "      <th>day_tue</th>\n",
       "      <th>day_wed</th>\n",
       "      <th>area</th>\n",
       "    </tr>\n",
       "  </thead>\n",
       "  <tbody>\n",
       "    <tr>\n",
       "      <th>0</th>\n",
       "      <td>7.0</td>\n",
       "      <td>5.0</td>\n",
       "      <td>86.2</td>\n",
       "      <td>26.2</td>\n",
       "      <td>94.3</td>\n",
       "      <td>5.1</td>\n",
       "      <td>8.2</td>\n",
       "      <td>51.0</td>\n",
       "      <td>6.7</td>\n",
       "      <td>0.0</td>\n",
       "      <td>...</td>\n",
       "      <td>0.0</td>\n",
       "      <td>0.0</td>\n",
       "      <td>1.0</td>\n",
       "      <td>0.0</td>\n",
       "      <td>0.0</td>\n",
       "      <td>0.0</td>\n",
       "      <td>0.0</td>\n",
       "      <td>0.0</td>\n",
       "      <td>0.0</td>\n",
       "      <td>0.000000</td>\n",
       "    </tr>\n",
       "    <tr>\n",
       "      <th>1</th>\n",
       "      <td>7.0</td>\n",
       "      <td>4.0</td>\n",
       "      <td>90.6</td>\n",
       "      <td>35.4</td>\n",
       "      <td>669.1</td>\n",
       "      <td>6.7</td>\n",
       "      <td>18.0</td>\n",
       "      <td>33.0</td>\n",
       "      <td>0.9</td>\n",
       "      <td>0.0</td>\n",
       "      <td>...</td>\n",
       "      <td>1.0</td>\n",
       "      <td>0.0</td>\n",
       "      <td>0.0</td>\n",
       "      <td>0.0</td>\n",
       "      <td>0.0</td>\n",
       "      <td>0.0</td>\n",
       "      <td>0.0</td>\n",
       "      <td>1.0</td>\n",
       "      <td>0.0</td>\n",
       "      <td>0.000000</td>\n",
       "    </tr>\n",
       "    <tr>\n",
       "      <th>2</th>\n",
       "      <td>7.0</td>\n",
       "      <td>4.0</td>\n",
       "      <td>90.6</td>\n",
       "      <td>43.7</td>\n",
       "      <td>686.9</td>\n",
       "      <td>6.7</td>\n",
       "      <td>14.6</td>\n",
       "      <td>33.0</td>\n",
       "      <td>1.3</td>\n",
       "      <td>0.0</td>\n",
       "      <td>...</td>\n",
       "      <td>1.0</td>\n",
       "      <td>0.0</td>\n",
       "      <td>0.0</td>\n",
       "      <td>0.0</td>\n",
       "      <td>1.0</td>\n",
       "      <td>0.0</td>\n",
       "      <td>0.0</td>\n",
       "      <td>0.0</td>\n",
       "      <td>0.0</td>\n",
       "      <td>0.000000</td>\n",
       "    </tr>\n",
       "    <tr>\n",
       "      <th>3</th>\n",
       "      <td>8.0</td>\n",
       "      <td>6.0</td>\n",
       "      <td>91.7</td>\n",
       "      <td>33.3</td>\n",
       "      <td>77.5</td>\n",
       "      <td>9.0</td>\n",
       "      <td>8.3</td>\n",
       "      <td>97.0</td>\n",
       "      <td>4.0</td>\n",
       "      <td>0.2</td>\n",
       "      <td>...</td>\n",
       "      <td>0.0</td>\n",
       "      <td>0.0</td>\n",
       "      <td>1.0</td>\n",
       "      <td>0.0</td>\n",
       "      <td>0.0</td>\n",
       "      <td>0.0</td>\n",
       "      <td>0.0</td>\n",
       "      <td>0.0</td>\n",
       "      <td>0.0</td>\n",
       "      <td>0.000000</td>\n",
       "    </tr>\n",
       "    <tr>\n",
       "      <th>4</th>\n",
       "      <td>8.0</td>\n",
       "      <td>6.0</td>\n",
       "      <td>89.3</td>\n",
       "      <td>51.3</td>\n",
       "      <td>102.2</td>\n",
       "      <td>9.6</td>\n",
       "      <td>11.4</td>\n",
       "      <td>99.0</td>\n",
       "      <td>1.8</td>\n",
       "      <td>0.0</td>\n",
       "      <td>...</td>\n",
       "      <td>0.0</td>\n",
       "      <td>0.0</td>\n",
       "      <td>0.0</td>\n",
       "      <td>0.0</td>\n",
       "      <td>0.0</td>\n",
       "      <td>1.0</td>\n",
       "      <td>0.0</td>\n",
       "      <td>0.0</td>\n",
       "      <td>0.0</td>\n",
       "      <td>0.000000</td>\n",
       "    </tr>\n",
       "    <tr>\n",
       "      <th>...</th>\n",
       "      <td>...</td>\n",
       "      <td>...</td>\n",
       "      <td>...</td>\n",
       "      <td>...</td>\n",
       "      <td>...</td>\n",
       "      <td>...</td>\n",
       "      <td>...</td>\n",
       "      <td>...</td>\n",
       "      <td>...</td>\n",
       "      <td>...</td>\n",
       "      <td>...</td>\n",
       "      <td>...</td>\n",
       "      <td>...</td>\n",
       "      <td>...</td>\n",
       "      <td>...</td>\n",
       "      <td>...</td>\n",
       "      <td>...</td>\n",
       "      <td>...</td>\n",
       "      <td>...</td>\n",
       "      <td>...</td>\n",
       "      <td>...</td>\n",
       "    </tr>\n",
       "    <tr>\n",
       "      <th>512</th>\n",
       "      <td>4.0</td>\n",
       "      <td>3.0</td>\n",
       "      <td>81.6</td>\n",
       "      <td>56.7</td>\n",
       "      <td>665.6</td>\n",
       "      <td>1.9</td>\n",
       "      <td>27.8</td>\n",
       "      <td>32.0</td>\n",
       "      <td>2.7</td>\n",
       "      <td>0.0</td>\n",
       "      <td>...</td>\n",
       "      <td>0.0</td>\n",
       "      <td>0.0</td>\n",
       "      <td>0.0</td>\n",
       "      <td>0.0</td>\n",
       "      <td>0.0</td>\n",
       "      <td>1.0</td>\n",
       "      <td>0.0</td>\n",
       "      <td>0.0</td>\n",
       "      <td>0.0</td>\n",
       "      <td>2.006871</td>\n",
       "    </tr>\n",
       "    <tr>\n",
       "      <th>513</th>\n",
       "      <td>2.0</td>\n",
       "      <td>4.0</td>\n",
       "      <td>81.6</td>\n",
       "      <td>56.7</td>\n",
       "      <td>665.6</td>\n",
       "      <td>1.9</td>\n",
       "      <td>21.9</td>\n",
       "      <td>71.0</td>\n",
       "      <td>5.8</td>\n",
       "      <td>0.0</td>\n",
       "      <td>...</td>\n",
       "      <td>0.0</td>\n",
       "      <td>0.0</td>\n",
       "      <td>0.0</td>\n",
       "      <td>0.0</td>\n",
       "      <td>0.0</td>\n",
       "      <td>1.0</td>\n",
       "      <td>0.0</td>\n",
       "      <td>0.0</td>\n",
       "      <td>0.0</td>\n",
       "      <td>4.012592</td>\n",
       "    </tr>\n",
       "    <tr>\n",
       "      <th>514</th>\n",
       "      <td>7.0</td>\n",
       "      <td>4.0</td>\n",
       "      <td>81.6</td>\n",
       "      <td>56.7</td>\n",
       "      <td>665.6</td>\n",
       "      <td>1.9</td>\n",
       "      <td>21.2</td>\n",
       "      <td>70.0</td>\n",
       "      <td>6.7</td>\n",
       "      <td>0.0</td>\n",
       "      <td>...</td>\n",
       "      <td>0.0</td>\n",
       "      <td>0.0</td>\n",
       "      <td>0.0</td>\n",
       "      <td>0.0</td>\n",
       "      <td>0.0</td>\n",
       "      <td>1.0</td>\n",
       "      <td>0.0</td>\n",
       "      <td>0.0</td>\n",
       "      <td>0.0</td>\n",
       "      <td>2.498152</td>\n",
       "    </tr>\n",
       "    <tr>\n",
       "      <th>515</th>\n",
       "      <td>1.0</td>\n",
       "      <td>4.0</td>\n",
       "      <td>94.4</td>\n",
       "      <td>146.0</td>\n",
       "      <td>614.7</td>\n",
       "      <td>11.3</td>\n",
       "      <td>25.6</td>\n",
       "      <td>42.0</td>\n",
       "      <td>4.0</td>\n",
       "      <td>0.0</td>\n",
       "      <td>...</td>\n",
       "      <td>0.0</td>\n",
       "      <td>0.0</td>\n",
       "      <td>0.0</td>\n",
       "      <td>0.0</td>\n",
       "      <td>1.0</td>\n",
       "      <td>0.0</td>\n",
       "      <td>0.0</td>\n",
       "      <td>0.0</td>\n",
       "      <td>0.0</td>\n",
       "      <td>0.000000</td>\n",
       "    </tr>\n",
       "    <tr>\n",
       "      <th>516</th>\n",
       "      <td>6.0</td>\n",
       "      <td>3.0</td>\n",
       "      <td>79.5</td>\n",
       "      <td>3.0</td>\n",
       "      <td>106.7</td>\n",
       "      <td>1.1</td>\n",
       "      <td>11.8</td>\n",
       "      <td>31.0</td>\n",
       "      <td>4.5</td>\n",
       "      <td>0.0</td>\n",
       "      <td>...</td>\n",
       "      <td>0.0</td>\n",
       "      <td>0.0</td>\n",
       "      <td>0.0</td>\n",
       "      <td>0.0</td>\n",
       "      <td>0.0</td>\n",
       "      <td>0.0</td>\n",
       "      <td>0.0</td>\n",
       "      <td>1.0</td>\n",
       "      <td>0.0</td>\n",
       "      <td>0.000000</td>\n",
       "    </tr>\n",
       "  </tbody>\n",
       "</table>\n",
       "<p>517 rows × 30 columns</p>\n",
       "</div>"
      ],
      "text/plain": [
       "       X    Y  FFMC    DMC     DC   ISI  temp    RH  wind  rain  ...  \\\n",
       "0    7.0  5.0  86.2   26.2   94.3   5.1   8.2  51.0   6.7   0.0  ...   \n",
       "1    7.0  4.0  90.6   35.4  669.1   6.7  18.0  33.0   0.9   0.0  ...   \n",
       "2    7.0  4.0  90.6   43.7  686.9   6.7  14.6  33.0   1.3   0.0  ...   \n",
       "3    8.0  6.0  91.7   33.3   77.5   9.0   8.3  97.0   4.0   0.2  ...   \n",
       "4    8.0  6.0  89.3   51.3  102.2   9.6  11.4  99.0   1.8   0.0  ...   \n",
       "..   ...  ...   ...    ...    ...   ...   ...   ...   ...   ...  ...   \n",
       "512  4.0  3.0  81.6   56.7  665.6   1.9  27.8  32.0   2.7   0.0  ...   \n",
       "513  2.0  4.0  81.6   56.7  665.6   1.9  21.9  71.0   5.8   0.0  ...   \n",
       "514  7.0  4.0  81.6   56.7  665.6   1.9  21.2  70.0   6.7   0.0  ...   \n",
       "515  1.0  4.0  94.4  146.0  614.7  11.3  25.6  42.0   4.0   0.0  ...   \n",
       "516  6.0  3.0  79.5    3.0  106.7   1.1  11.8  31.0   4.5   0.0  ...   \n",
       "\n",
       "     month_oct  month_sep  day_fri  day_mon  day_sat  day_sun  day_thu  \\\n",
       "0          0.0        0.0      1.0      0.0      0.0      0.0      0.0   \n",
       "1          1.0        0.0      0.0      0.0      0.0      0.0      0.0   \n",
       "2          1.0        0.0      0.0      0.0      1.0      0.0      0.0   \n",
       "3          0.0        0.0      1.0      0.0      0.0      0.0      0.0   \n",
       "4          0.0        0.0      0.0      0.0      0.0      1.0      0.0   \n",
       "..         ...        ...      ...      ...      ...      ...      ...   \n",
       "512        0.0        0.0      0.0      0.0      0.0      1.0      0.0   \n",
       "513        0.0        0.0      0.0      0.0      0.0      1.0      0.0   \n",
       "514        0.0        0.0      0.0      0.0      0.0      1.0      0.0   \n",
       "515        0.0        0.0      0.0      0.0      1.0      0.0      0.0   \n",
       "516        0.0        0.0      0.0      0.0      0.0      0.0      0.0   \n",
       "\n",
       "     day_tue  day_wed      area  \n",
       "0        0.0      0.0  0.000000  \n",
       "1        1.0      0.0  0.000000  \n",
       "2        0.0      0.0  0.000000  \n",
       "3        0.0      0.0  0.000000  \n",
       "4        0.0      0.0  0.000000  \n",
       "..       ...      ...       ...  \n",
       "512      0.0      0.0  2.006871  \n",
       "513      0.0      0.0  4.012592  \n",
       "514      0.0      0.0  2.498152  \n",
       "515      0.0      0.0  0.000000  \n",
       "516      1.0      0.0  0.000000  \n",
       "\n",
       "[517 rows x 30 columns]"
      ]
     },
     "metadata": {},
     "output_type": "display_data"
    },
    {
     "name": "stdout",
     "output_type": "stream",
     "text": [
      "Your code PASSED the code check!\n"
     ]
    }
   ],
   "source": [
    "cleaner_df = before_pipeline(forestfire_df)\n",
    "\n",
    "print(f\"forestfire_arr shape: {cleaner_df.shape}\")\n",
    "print(f\"forestfire_arr type: {type(cleaner_df)}\")\n",
    "display(cleaner_df)\n",
    "\n",
    "todo_check([\n",
    "    (cleaner_df.shape == (517, 30),'cleaner_df shape does not match (517, 30)'),\n",
    "    (np.isclose(cleaner_df.describe().loc['mean', 'area'],  1.11, rtol=.01),'cleaner_df area has incorrect values. Make sure LogTransformer was applied to the area target.'),\n",
    "    (np.all(pd.Series(['month_apr', 'month_aug', 'month_dec', 'month_feb', 'month_jan', 'month_jul', 'month_jun', 'month_mar', 'month_may', 'month_nov','month_oct', 'month_sep', 'day_fri', 'day_mon', 'day_sat', 'day_sun','day_thu', 'day_tue', 'day_wed']).isin(cleaner_df.columns)), 'cleraner_df got incorrect values for the month and day one-hot conversion. Make sure OneHotEncoding was applied to the month and day columns.')\n",
    "])\n",
    "\n",
    "garbage_collect(['cleaner_df']) "
   ]
  },
  {
   "cell_type": "markdown",
   "metadata": {
    "id": "XM7zlAVmB_aA"
   },
   "source": [
    "## Splitting data \n",
    "\n",
    "Now on to splitting! Let's quickly create some function to split our data into input features and labels. Further, let's also create a function to split out data into a training, validation, and test set!"
   ]
  },
  {
   "cell_type": "markdown",
   "metadata": {
    "id": "ZSrLItqpB_aA"
   },
   "source": [
    "### Feature and Label Splitting\n",
    "\n",
    "#### TODO 4\n",
    "Complete the TODO by finishing the `feature_label_split()` function\n",
    "\n",
    "1. Extract all the features from our `cleaner_df` **EXCEPT** for our target 'area'. Store the output into the variable `X`.\n",
    "    1. Hint: Use the `drop()` method to drop only 'area'. `drop` will also return a copy of our data without 'area'!\n",
    "2. Extract a <u>**copy**</u> of our target 'area'. Store the output into the variable `y`.\n",
    "    1. Hint: Try using normal indexing with `.iloc`, `loc` or `[ ]` and then call the `copy()` method on the extracted 'area' Series to make a copy!\n",
    "    1. As a note, it is best practice to make copies of the data if it isn't too large. This will prevent any changes we make from affecting the `cleaner_df`. Try using the `.copy()` method on your extracted 'area' data."
   ]
  },
  {
   "cell_type": "code",
   "execution_count": 29,
   "metadata": {
    "id": "cp-09dFUB_aA"
   },
   "outputs": [],
   "source": [
    "def feature_label_split(cleaner_df):\n",
    "    # TODO 4.1\n",
    "    X = cleaner_df.drop(['area'], axis=1)\n",
    "    # TODO 4.2\n",
    "    y = log_area_values.copy()\n",
    "    \n",
    "    return X, y"
   ]
  },
  {
   "cell_type": "markdown",
   "metadata": {
    "id": "W5_zg4kNB_aA"
   },
   "source": [
    "Run the below code to check if you correctly implemented the `feature_label_split()` function."
   ]
  },
  {
   "cell_type": "code",
   "execution_count": 30,
   "metadata": {
    "id": "zDt9WNq5B_aB",
    "outputId": "3730c0d4-f749-4a3e-a674-70866f7c6e3c"
   },
   "outputs": [
    {
     "name": "stdout",
     "output_type": "stream",
     "text": [
      "X shape: (517, 29)\n",
      "y shape: (517,)\n",
      "Your code PASSED the code check!\n"
     ]
    }
   ],
   "source": [
    "# Apply pre-split cleaning\n",
    "cleaner_df = before_pipeline(forestfire_df)\n",
    "# Apply feature and label splitting\n",
    "X, y = feature_label_split(cleaner_df)\n",
    "\n",
    "print(f\"X shape: {X.shape}\")\n",
    "print(f\"y shape: {y.shape}\")\n",
    "\n",
    "todo_check([\n",
    "    (X.shape == (517,29), 'X shape does not match (517, 29)'),\n",
    "    (y.shape == (517,), 'y shape does not match (517,)'),\n",
    "    (not id(y) == id(cleaner_df['area']), \"Memory address of y matched cleaner_df['area']. Make sure to call the .copy() method after indexing 'area' column\"),\n",
    "    (np.isclose(y[512],2.006871), 'y has the wrong values. Make y corresponds to the area column.') \n",
    "])\n",
    "\n",
    "garbage_collect(['X', 'y', 'cleaner_df'])"
   ]
  },
  {
   "cell_type": "markdown",
   "metadata": {
    "id": "SVTeQzXcB_aB"
   },
   "source": [
    "### Train, validation and test splits\n",
    "\n",
    "#### TODO 5\n",
    "Complete the TODO by finishing the `train_valid_test_split()` function.\n",
    "\n",
    "1. It's time to start practicing importing. Import the `train_test_split` function from `sklearn.model_selection`. See [this tutorial](https://www.geeksforgeeks.org/import-module-python/) for more help.\n",
    "    1. Hint: use the import structure: `from <module name> import <function or class name>`.\n",
    "2. Use Sklearn's `train_test_split()` function ([docs](https://scikit-learn.org/stable/modules/generated/sklearn.model_selection.train_test_split.html)) to get a train and test split. Store the output into `X_trn`, `X_tst`, `y_trn`, and `y_tst`.\n",
    "    1. Pass the required arguments `X` and `y`. \n",
    "    2. Further specify we want to use 20% or .2 of the training data by setting the `test_size` keyword argument. \n",
    "    3. Lastly, pass the keyword argument `random_state=42` to set the random seed so we get the same split every time we run this code. \n",
    "2. Use the `train_test_split()` function create a new train split and a validation split. Store the output into `X_trn`, `X_vld`, `y_trn`, and `y_vld`.\n",
    "    1. Pass the required arguments `X_trn` and `y_trn`. \n",
    "    2. Further specify we want to use 20% or .2  of the training data by setting the `test_size` keyword argument. \n",
    "    3. Lastly, pass the keyword argument `random_state=42` to set the random seed so we get the same split every time we run this code. "
   ]
  },
  {
   "cell_type": "code",
   "execution_count": 202,
   "metadata": {
    "id": "VrSS0MuRB_aB",
    "outputId": "14e7eea3-100f-42a7-8c4b-bd0951935640"
   },
   "outputs": [
    {
     "name": "stdout",
     "output_type": "stream",
     "text": [
      "Your code PASSED the code check!\n"
     ]
    }
   ],
   "source": [
    "# TODO 5.1\n",
    "from sklearn.model_selection import train_test_split\n",
    "\n",
    "todo_check([\n",
    "    ('train_test_split' in globals(), 'train_test_split does not appear to have been imported!')\n",
    "])"
   ]
  },
  {
   "cell_type": "code",
   "execution_count": 203,
   "metadata": {
    "id": "9psdIx6JB_aC"
   },
   "outputs": [],
   "source": [
    "def train_valid_test_split(X, y):\n",
    "    # TODO 5.2\n",
    "    X_trn, X_tst, y_trn, y_tst = train_test_split(X, y, test_size=.20, random_state=42)\n",
    "    # TODO 5.3\n",
    "    X_trn, X_vld, y_trn, y_vld = train_test_split(X_trn, y_trn, test_size=.20, random_state=42)\n",
    "    \n",
    "    return X_trn, y_trn, X_vld, y_vld, X_tst, y_tst"
   ]
  },
  {
   "cell_type": "markdown",
   "metadata": {
    "id": "bP5LmhcmB_aC"
   },
   "source": [
    "Run the below code to check your implementation of `train_valid_test_split()`."
   ]
  },
  {
   "cell_type": "code",
   "execution_count": 204,
   "metadata": {
    "id": "nx17GJ6fB_aC",
    "outputId": "17497837-1037-45fd-f784-22d7b08e9055"
   },
   "outputs": [
    {
     "name": "stdout",
     "output_type": "stream",
     "text": [
      "X_trn shape: (330, 29)\n",
      "y_trn shape: (330,)\n",
      "X_vld shape: (83, 29)\n",
      "y_vld shape: (83,)\n",
      "X_tst shape: (104, 29)\n",
      "y_tst shape: (104,)\n",
      "Your code PASSED the code check!\n"
     ]
    }
   ],
   "source": [
    "# Apply pre-split cleaning\n",
    "cleaner_df = before_pipeline(forestfire_df)\n",
    "# Apply feature and label splitting\n",
    "X, y = feature_label_split(cleaner_df)\n",
    "# Apply train, validation and test set splitting\n",
    "X_trn, y_trn, X_vld, y_vld, X_tst, y_tst = train_valid_test_split(X, y)\n",
    "\n",
    "print(f\"X_trn shape: {X_trn.shape}\")\n",
    "print(f\"y_trn shape: {y_trn.shape}\")\n",
    "print(f\"X_vld shape: {X_vld.shape}\")\n",
    "print(f\"y_vld shape: {y_vld.shape}\")\n",
    "print(f\"X_tst shape: {X_tst.shape}\")\n",
    "print(f\"y_tst shape: {y_tst.shape}\")\n",
    "\n",
    "todo_check([\n",
    "    (X_trn.shape == (330,29), 'X_trn shape is not (330, 29)'),\n",
    "    (y_trn.shape == (330,),'y_trn shape is not (330,)'),\n",
    "    (X_vld.shape == (83,29),'X_vld shape is not (83, 29)'),\n",
    "    (y_vld.shape == (83,),'y_vld shape is not (83,)'),\n",
    "    (X_tst.shape == (104,29),'X_tst shape is not (104, 29)'),\n",
    "    (y_tst.shape == (104,),'y_tst shape is not (104,)'),\n",
    "    (np.all(np.equal(X_trn.iloc[:5, 0].values, np.array([5.0, 3.0, 7.0, 3.0, 8.0]))), 'X_trn does not have the correct values!'),\n",
    "    (np.all(np.equal(X_tst.iloc[:5, 0].values, np.array([6.0, 7.0, 8.0, 5.0, 2.0]))), 'X_tst does not have the correct values!'),\n",
    "    (np.all(np.isclose(y_trn[:3].values, np.array([1.2725656, 0.       , 0.       ]), rtol=.01)), 'y_trn does not have the correct values!'),\n",
    "    (np.all(np.isclose(y_tst[:3].values, np.array([0.        , 0.        , 0.80200159]), rtol=.01)), 'y_tst does not have the correct values!'),\n",
    "])\n",
    "\n",
    "garbage_collect(['X', 'y', 'cleaner_df'])"
   ]
  },
  {
   "cell_type": "markdown",
   "metadata": {
    "id": "RmwqLX3aB_aC"
   },
   "source": [
    "Let's quickly check how balanced our data is. What do we mean by \"balance\"? Well, what we are interested in seeing is **whether our train, validation, and test sets have roughly an equal number labels/targets**. \n",
    "\n",
    "In regards to regression this means we want to see if the number of samples with 'area' greater than 0 is roughly the same as the 'area' equal to zero. If this is not the case then our model might be biased towards predicting values near zero or above zero! We'll look at another closely related issue that also concerns balancing later on in this lab.\n",
    "\n",
    "Below we do this check and we can see that our labels seem relatively evenly split! Luckily, the `train_test_split()` function automatically splits our data in this \"even\" fashion so this check is kind of redundant. If you were manually splitting data than this would be an important concept to keep in mind."
   ]
  },
  {
   "cell_type": "markdown",
   "metadata": {
    "id": "sk6HLKznB_aC"
   },
   "source": [
    "Here we check if our train data has roughly the same number of data samples with area greater than zero and equal to zero."
   ]
  },
  {
   "cell_type": "code",
   "execution_count": 205,
   "metadata": {
    "id": "u5Zm87jzB_aD",
    "outputId": "8b970f47-d5dd-4562-da25-158ab41dc6c9"
   },
   "outputs": [
    {
     "data": {
      "text/plain": [
       "(177,)"
      ]
     },
     "execution_count": 205,
     "metadata": {},
     "output_type": "execute_result"
    }
   ],
   "source": [
    "y_trn[y_trn > 0].shape"
   ]
  },
  {
   "cell_type": "code",
   "execution_count": 206,
   "metadata": {
    "id": "m6ANzfFLB_aD",
    "outputId": "6dbd7e90-b7b4-4940-cc62-dc13296a44c7"
   },
   "outputs": [
    {
     "data": {
      "text/plain": [
       "(153,)"
      ]
     },
     "execution_count": 206,
     "metadata": {},
     "output_type": "execute_result"
    }
   ],
   "source": [
    "y_trn[y_trn == 0].shape"
   ]
  },
  {
   "cell_type": "markdown",
   "metadata": {
    "id": "BjQL-1NPB_aD"
   },
   "source": [
    "Here we check if our validation data has roughly the same number of data samples with area greater than zero and equal to zero."
   ]
  },
  {
   "cell_type": "code",
   "execution_count": 207,
   "metadata": {
    "id": "w6J3nCivB_aD",
    "outputId": "3975f5f9-421e-4717-87ef-9906726b0471"
   },
   "outputs": [
    {
     "data": {
      "text/plain": [
       "(40,)"
      ]
     },
     "execution_count": 207,
     "metadata": {},
     "output_type": "execute_result"
    }
   ],
   "source": [
    "y_vld[y_vld > 0].shape"
   ]
  },
  {
   "cell_type": "code",
   "execution_count": 208,
   "metadata": {
    "id": "oUoENlzPB_aD",
    "outputId": "20c859e8-c015-4012-99d4-01098b800665"
   },
   "outputs": [
    {
     "data": {
      "text/plain": [
       "(43,)"
      ]
     },
     "execution_count": 208,
     "metadata": {},
     "output_type": "execute_result"
    }
   ],
   "source": [
    "y_vld[y_vld == 0].shape"
   ]
  },
  {
   "cell_type": "markdown",
   "metadata": {
    "id": "FWo0-lgyB_aD"
   },
   "source": [
    "Here we check if our test data has roughly the same number of data samples with area greater than zero and equal to zero."
   ]
  },
  {
   "cell_type": "code",
   "execution_count": 209,
   "metadata": {
    "id": "9Har_OxAB_aE",
    "outputId": "487206f0-5323-4d24-adda-1d93166daeef"
   },
   "outputs": [
    {
     "data": {
      "text/plain": [
       "(53,)"
      ]
     },
     "execution_count": 209,
     "metadata": {},
     "output_type": "execute_result"
    }
   ],
   "source": [
    "y_tst[y_tst > 0].shape"
   ]
  },
  {
   "cell_type": "code",
   "execution_count": 210,
   "metadata": {
    "id": "llWvZ-wQB_aE",
    "outputId": "67c8199a-c5eb-47ef-89d0-4c743af62c07"
   },
   "outputs": [
    {
     "data": {
      "text/plain": [
       "(51,)"
      ]
     },
     "execution_count": 210,
     "metadata": {},
     "output_type": "execute_result"
    }
   ],
   "source": [
    "y_tst[y_tst == 0].shape"
   ]
  },
  {
   "cell_type": "code",
   "execution_count": 211,
   "metadata": {
    "id": "4iDvvCoFB_aE"
   },
   "outputs": [],
   "source": [
    "# Remove variables from memory to prevent errors/confusion later on in the lab\n",
    "del X_trn, y_trn, X_vld, y_vld, X_tst, y_tst"
   ]
  },
  {
   "cell_type": "markdown",
   "metadata": {
    "id": "7Xrc1RZSB_aE"
   },
   "source": [
    "## Post-split\n",
    "\n",
    "Finally, let' move on to our post-split data cleaning and transformation. Recall last week we only had a single post-split class `Standardization`. This week we are going to add a class called `AddBias` which will add the bias term to our train, validation, and test data!"
   ]
  },
  {
   "cell_type": "markdown",
   "metadata": {
    "id": "FN12tb8qB_aE"
   },
   "source": [
    "### Adding the bias term to our data\n",
    "Typically linear models embed a bias term into the features by adding a column of 1's - these are actually called affine models. The bias column allows for the least squares algorithm, and others, to create a solution that is not restricted to passing through the origin! Instead, the bias term allows the solution to shift the line of best fit up and down the y-axis.\n",
    "\n",
    "Think of a *linear function* $y = mx$ or more concretely an equation like $y = 5x$. This linear function is restricted to passing through the origin thus it can be harder to fit data. Now consider an *affine function* $y = mx + b$ or more concretely an equation like $y = 5x + 1$. This new affine function allows us to adjust the point at which our line of best fit intersects the y-axis (we are no longer confined to the origin). Essentially, adding the bias term is allowing for more flexibility in our models. See the below image for a visual reference!\n",
    "\n",
    "![](https://qph.fs.quoracdn.net/main-qimg-c0bb76e8e57e9a33170c45265eadb213)"
   ]
  },
  {
   "cell_type": "markdown",
   "metadata": {
    "id": "wc8zP2YqB_aE"
   },
   "source": [
    "#### TODO 6\n",
    "Complete the TODO by finishing the `transform()` method for the `AddBias` class.\n",
    "\n",
    "1. Copy the `X` data by calling the `copy()` method on `X`. This will prevent any changes we make to the DataFrame that is passed to `X` from being reflected in the original DataFrame. Store the output into `X`.\n",
    "2. Insert/add a column of ones (bias variables) to our data `X`. Make sure the bias column is the **1st column (index 0)**. Use the DataFrame `insert()` method to add the bias as directed below ([docs](https://pandas.pydata.org/pandas-docs/stable/reference/api/pandas.DataFrame.insert.html)). No need to store the output as `insert()` edits our `X` object inplace.\n",
    "    1. The first argument of `insert` corresponds to the location we want to insert. Recall we want our bias column to be the **1st column** in `X`.\n",
    "    2.The second argument of `insert` corresponds to the name we want to call our column. Call it 'bias'.\n",
    "    3.The third argument of `insert` corresponds the value of the column. If you pass an scalar it fills the entire column with said scalar value. Pass 1, as we typically set the bias feature equal to 1."
   ]
  },
  {
   "cell_type": "code",
   "execution_count": 212,
   "metadata": {
    "id": "LCdFGpLWB_aF"
   },
   "outputs": [],
   "source": [
    "class AddBias(BaseEstimator, TransformerMixin):\n",
    "    def __init__(self):\n",
    "        self.feature_names = None\n",
    "    \n",
    "    def fit(self,\n",
    "            X: pd.DataFrame, \n",
    "            y: pd.DataFrame = None) -> pd.DataFrame:\n",
    "        return self\n",
    "    \n",
    "    def transform(self,\n",
    "                  X: pd.DataFrame, \n",
    "                  y: pd.DataFrame = None) -> pd.DataFrame:\n",
    "        \n",
    "        # TODO 6.1\n",
    "        X = X.copy()\n",
    "        # TODO 6.2\n",
    "        X.insert(0, 'bias', 1)\n",
    "        \n",
    "        self.feature_names = X.columns\n",
    "        return X\n",
    "    \n",
    "    def get_feature_names_out(self, names=None) -> List[str]:\n",
    "        return list(self.feature_names)"
   ]
  },
  {
   "cell_type": "markdown",
   "metadata": {
    "id": "X61B1SAPB_aF"
   },
   "source": [
    "Run the below code to check your `AddBias` implementation."
   ]
  },
  {
   "cell_type": "code",
   "execution_count": 213,
   "metadata": {
    "id": "WvsWRWWaB_aF",
    "outputId": "d39b67c9-57ba-41cd-c2b9-b07c60cf7661"
   },
   "outputs": [
    {
     "data": {
      "text/html": [
       "<div>\n",
       "<style scoped>\n",
       "    .dataframe tbody tr th:only-of-type {\n",
       "        vertical-align: middle;\n",
       "    }\n",
       "\n",
       "    .dataframe tbody tr th {\n",
       "        vertical-align: top;\n",
       "    }\n",
       "\n",
       "    .dataframe thead th {\n",
       "        text-align: right;\n",
       "    }\n",
       "</style>\n",
       "<table border=\"1\" class=\"dataframe\">\n",
       "  <thead>\n",
       "    <tr style=\"text-align: right;\">\n",
       "      <th></th>\n",
       "      <th>bias</th>\n",
       "      <th>X</th>\n",
       "      <th>Y</th>\n",
       "      <th>FFMC</th>\n",
       "      <th>DMC</th>\n",
       "      <th>DC</th>\n",
       "      <th>ISI</th>\n",
       "      <th>temp</th>\n",
       "      <th>RH</th>\n",
       "      <th>wind</th>\n",
       "      <th>...</th>\n",
       "      <th>month_nov</th>\n",
       "      <th>month_oct</th>\n",
       "      <th>month_sep</th>\n",
       "      <th>day_fri</th>\n",
       "      <th>day_mon</th>\n",
       "      <th>day_sat</th>\n",
       "      <th>day_sun</th>\n",
       "      <th>day_thu</th>\n",
       "      <th>day_tue</th>\n",
       "      <th>day_wed</th>\n",
       "    </tr>\n",
       "  </thead>\n",
       "  <tbody>\n",
       "    <tr>\n",
       "      <th>170</th>\n",
       "      <td>1</td>\n",
       "      <td>5.0</td>\n",
       "      <td>4.0</td>\n",
       "      <td>92.9</td>\n",
       "      <td>133.3</td>\n",
       "      <td>699.6</td>\n",
       "      <td>9.2</td>\n",
       "      <td>21.9</td>\n",
       "      <td>35.0</td>\n",
       "      <td>1.8</td>\n",
       "      <td>...</td>\n",
       "      <td>0.0</td>\n",
       "      <td>0.0</td>\n",
       "      <td>1.0</td>\n",
       "      <td>0.0</td>\n",
       "      <td>0.0</td>\n",
       "      <td>0.0</td>\n",
       "      <td>0.0</td>\n",
       "      <td>0.0</td>\n",
       "      <td>0.0</td>\n",
       "      <td>1.0</td>\n",
       "    </tr>\n",
       "    <tr>\n",
       "      <th>268</th>\n",
       "      <td>1</td>\n",
       "      <td>3.0</td>\n",
       "      <td>4.0</td>\n",
       "      <td>92.1</td>\n",
       "      <td>152.6</td>\n",
       "      <td>658.2</td>\n",
       "      <td>14.3</td>\n",
       "      <td>21.0</td>\n",
       "      <td>32.0</td>\n",
       "      <td>3.1</td>\n",
       "      <td>...</td>\n",
       "      <td>0.0</td>\n",
       "      <td>0.0</td>\n",
       "      <td>0.0</td>\n",
       "      <td>0.0</td>\n",
       "      <td>0.0</td>\n",
       "      <td>0.0</td>\n",
       "      <td>0.0</td>\n",
       "      <td>0.0</td>\n",
       "      <td>1.0</td>\n",
       "      <td>0.0</td>\n",
       "    </tr>\n",
       "    <tr>\n",
       "      <th>24</th>\n",
       "      <td>1</td>\n",
       "      <td>7.0</td>\n",
       "      <td>4.0</td>\n",
       "      <td>93.5</td>\n",
       "      <td>139.4</td>\n",
       "      <td>594.2</td>\n",
       "      <td>20.3</td>\n",
       "      <td>23.7</td>\n",
       "      <td>32.0</td>\n",
       "      <td>5.8</td>\n",
       "      <td>...</td>\n",
       "      <td>0.0</td>\n",
       "      <td>0.0</td>\n",
       "      <td>0.0</td>\n",
       "      <td>0.0</td>\n",
       "      <td>0.0</td>\n",
       "      <td>1.0</td>\n",
       "      <td>0.0</td>\n",
       "      <td>0.0</td>\n",
       "      <td>0.0</td>\n",
       "      <td>0.0</td>\n",
       "    </tr>\n",
       "    <tr>\n",
       "      <th>152</th>\n",
       "      <td>1</td>\n",
       "      <td>3.0</td>\n",
       "      <td>4.0</td>\n",
       "      <td>90.1</td>\n",
       "      <td>51.2</td>\n",
       "      <td>424.1</td>\n",
       "      <td>6.2</td>\n",
       "      <td>24.6</td>\n",
       "      <td>43.0</td>\n",
       "      <td>1.8</td>\n",
       "      <td>...</td>\n",
       "      <td>0.0</td>\n",
       "      <td>0.0</td>\n",
       "      <td>0.0</td>\n",
       "      <td>0.0</td>\n",
       "      <td>0.0</td>\n",
       "      <td>1.0</td>\n",
       "      <td>0.0</td>\n",
       "      <td>0.0</td>\n",
       "      <td>0.0</td>\n",
       "      <td>0.0</td>\n",
       "    </tr>\n",
       "    <tr>\n",
       "      <th>4</th>\n",
       "      <td>1</td>\n",
       "      <td>8.0</td>\n",
       "      <td>6.0</td>\n",
       "      <td>89.3</td>\n",
       "      <td>51.3</td>\n",
       "      <td>102.2</td>\n",
       "      <td>9.6</td>\n",
       "      <td>11.4</td>\n",
       "      <td>99.0</td>\n",
       "      <td>1.8</td>\n",
       "      <td>...</td>\n",
       "      <td>0.0</td>\n",
       "      <td>0.0</td>\n",
       "      <td>0.0</td>\n",
       "      <td>0.0</td>\n",
       "      <td>0.0</td>\n",
       "      <td>0.0</td>\n",
       "      <td>1.0</td>\n",
       "      <td>0.0</td>\n",
       "      <td>0.0</td>\n",
       "      <td>0.0</td>\n",
       "    </tr>\n",
       "    <tr>\n",
       "      <th>...</th>\n",
       "      <td>...</td>\n",
       "      <td>...</td>\n",
       "      <td>...</td>\n",
       "      <td>...</td>\n",
       "      <td>...</td>\n",
       "      <td>...</td>\n",
       "      <td>...</td>\n",
       "      <td>...</td>\n",
       "      <td>...</td>\n",
       "      <td>...</td>\n",
       "      <td>...</td>\n",
       "      <td>...</td>\n",
       "      <td>...</td>\n",
       "      <td>...</td>\n",
       "      <td>...</td>\n",
       "      <td>...</td>\n",
       "      <td>...</td>\n",
       "      <td>...</td>\n",
       "      <td>...</td>\n",
       "      <td>...</td>\n",
       "      <td>...</td>\n",
       "    </tr>\n",
       "    <tr>\n",
       "      <th>420</th>\n",
       "      <td>1</td>\n",
       "      <td>8.0</td>\n",
       "      <td>8.0</td>\n",
       "      <td>91.7</td>\n",
       "      <td>191.4</td>\n",
       "      <td>635.9</td>\n",
       "      <td>7.8</td>\n",
       "      <td>26.2</td>\n",
       "      <td>36.0</td>\n",
       "      <td>4.5</td>\n",
       "      <td>...</td>\n",
       "      <td>0.0</td>\n",
       "      <td>0.0</td>\n",
       "      <td>0.0</td>\n",
       "      <td>0.0</td>\n",
       "      <td>0.0</td>\n",
       "      <td>0.0</td>\n",
       "      <td>0.0</td>\n",
       "      <td>0.0</td>\n",
       "      <td>0.0</td>\n",
       "      <td>1.0</td>\n",
       "    </tr>\n",
       "    <tr>\n",
       "      <th>109</th>\n",
       "      <td>1</td>\n",
       "      <td>4.0</td>\n",
       "      <td>5.0</td>\n",
       "      <td>88.6</td>\n",
       "      <td>91.8</td>\n",
       "      <td>709.9</td>\n",
       "      <td>7.1</td>\n",
       "      <td>17.4</td>\n",
       "      <td>56.0</td>\n",
       "      <td>5.4</td>\n",
       "      <td>...</td>\n",
       "      <td>0.0</td>\n",
       "      <td>0.0</td>\n",
       "      <td>1.0</td>\n",
       "      <td>0.0</td>\n",
       "      <td>1.0</td>\n",
       "      <td>0.0</td>\n",
       "      <td>0.0</td>\n",
       "      <td>0.0</td>\n",
       "      <td>0.0</td>\n",
       "      <td>0.0</td>\n",
       "    </tr>\n",
       "    <tr>\n",
       "      <th>61</th>\n",
       "      <td>1</td>\n",
       "      <td>2.0</td>\n",
       "      <td>2.0</td>\n",
       "      <td>89.3</td>\n",
       "      <td>51.3</td>\n",
       "      <td>102.2</td>\n",
       "      <td>9.6</td>\n",
       "      <td>5.5</td>\n",
       "      <td>59.0</td>\n",
       "      <td>6.3</td>\n",
       "      <td>...</td>\n",
       "      <td>0.0</td>\n",
       "      <td>0.0</td>\n",
       "      <td>0.0</td>\n",
       "      <td>0.0</td>\n",
       "      <td>0.0</td>\n",
       "      <td>0.0</td>\n",
       "      <td>1.0</td>\n",
       "      <td>0.0</td>\n",
       "      <td>0.0</td>\n",
       "      <td>0.0</td>\n",
       "    </tr>\n",
       "    <tr>\n",
       "      <th>13</th>\n",
       "      <td>1</td>\n",
       "      <td>6.0</td>\n",
       "      <td>5.0</td>\n",
       "      <td>90.9</td>\n",
       "      <td>126.5</td>\n",
       "      <td>686.5</td>\n",
       "      <td>7.0</td>\n",
       "      <td>21.3</td>\n",
       "      <td>42.0</td>\n",
       "      <td>2.2</td>\n",
       "      <td>...</td>\n",
       "      <td>0.0</td>\n",
       "      <td>0.0</td>\n",
       "      <td>1.0</td>\n",
       "      <td>0.0</td>\n",
       "      <td>1.0</td>\n",
       "      <td>0.0</td>\n",
       "      <td>0.0</td>\n",
       "      <td>0.0</td>\n",
       "      <td>0.0</td>\n",
       "      <td>0.0</td>\n",
       "    </tr>\n",
       "    <tr>\n",
       "      <th>433</th>\n",
       "      <td>1</td>\n",
       "      <td>2.0</td>\n",
       "      <td>4.0</td>\n",
       "      <td>93.6</td>\n",
       "      <td>235.1</td>\n",
       "      <td>723.1</td>\n",
       "      <td>10.1</td>\n",
       "      <td>20.9</td>\n",
       "      <td>66.0</td>\n",
       "      <td>4.9</td>\n",
       "      <td>...</td>\n",
       "      <td>0.0</td>\n",
       "      <td>0.0</td>\n",
       "      <td>0.0</td>\n",
       "      <td>0.0</td>\n",
       "      <td>0.0</td>\n",
       "      <td>0.0</td>\n",
       "      <td>1.0</td>\n",
       "      <td>0.0</td>\n",
       "      <td>0.0</td>\n",
       "      <td>0.0</td>\n",
       "    </tr>\n",
       "  </tbody>\n",
       "</table>\n",
       "<p>330 rows × 30 columns</p>\n",
       "</div>"
      ],
      "text/plain": [
       "     bias    X    Y  FFMC    DMC     DC   ISI  temp    RH  wind  ...  \\\n",
       "170     1  5.0  4.0  92.9  133.3  699.6   9.2  21.9  35.0   1.8  ...   \n",
       "268     1  3.0  4.0  92.1  152.6  658.2  14.3  21.0  32.0   3.1  ...   \n",
       "24      1  7.0  4.0  93.5  139.4  594.2  20.3  23.7  32.0   5.8  ...   \n",
       "152     1  3.0  4.0  90.1   51.2  424.1   6.2  24.6  43.0   1.8  ...   \n",
       "4       1  8.0  6.0  89.3   51.3  102.2   9.6  11.4  99.0   1.8  ...   \n",
       "..    ...  ...  ...   ...    ...    ...   ...   ...   ...   ...  ...   \n",
       "420     1  8.0  8.0  91.7  191.4  635.9   7.8  26.2  36.0   4.5  ...   \n",
       "109     1  4.0  5.0  88.6   91.8  709.9   7.1  17.4  56.0   5.4  ...   \n",
       "61      1  2.0  2.0  89.3   51.3  102.2   9.6   5.5  59.0   6.3  ...   \n",
       "13      1  6.0  5.0  90.9  126.5  686.5   7.0  21.3  42.0   2.2  ...   \n",
       "433     1  2.0  4.0  93.6  235.1  723.1  10.1  20.9  66.0   4.9  ...   \n",
       "\n",
       "     month_nov  month_oct  month_sep  day_fri  day_mon  day_sat  day_sun  \\\n",
       "170        0.0        0.0        1.0      0.0      0.0      0.0      0.0   \n",
       "268        0.0        0.0        0.0      0.0      0.0      0.0      0.0   \n",
       "24         0.0        0.0        0.0      0.0      0.0      1.0      0.0   \n",
       "152        0.0        0.0        0.0      0.0      0.0      1.0      0.0   \n",
       "4          0.0        0.0        0.0      0.0      0.0      0.0      1.0   \n",
       "..         ...        ...        ...      ...      ...      ...      ...   \n",
       "420        0.0        0.0        0.0      0.0      0.0      0.0      0.0   \n",
       "109        0.0        0.0        1.0      0.0      1.0      0.0      0.0   \n",
       "61         0.0        0.0        0.0      0.0      0.0      0.0      1.0   \n",
       "13         0.0        0.0        1.0      0.0      1.0      0.0      0.0   \n",
       "433        0.0        0.0        0.0      0.0      0.0      0.0      1.0   \n",
       "\n",
       "     day_thu  day_tue  day_wed  \n",
       "170      0.0      0.0      1.0  \n",
       "268      0.0      1.0      0.0  \n",
       "24       0.0      0.0      0.0  \n",
       "152      0.0      0.0      0.0  \n",
       "4        0.0      0.0      0.0  \n",
       "..       ...      ...      ...  \n",
       "420      0.0      0.0      1.0  \n",
       "109      0.0      0.0      0.0  \n",
       "61       0.0      0.0      0.0  \n",
       "13       0.0      0.0      0.0  \n",
       "433      0.0      0.0      0.0  \n",
       "\n",
       "[330 rows x 30 columns]"
      ]
     },
     "metadata": {},
     "output_type": "display_data"
    },
    {
     "name": "stdout",
     "output_type": "stream",
     "text": [
      "Your code PASSED the code check!\n"
     ]
    }
   ],
   "source": [
    "# Apply pre-split cleaning\n",
    "cleaner_df = before_pipeline(forestfire_df)\n",
    "# Apply feature and label splitting\n",
    "X, y = feature_label_split(cleaner_df)\n",
    "# Apply train, validation and test set splitting\n",
    "X_trn, y_trn, X_vld, y_vld, X_tst, y_tst = train_valid_test_split(X, y)\n",
    "\n",
    "add_bias =  AddBias()\n",
    "X1_trn = add_bias.fit_transform(X_trn)\n",
    "# Print X1_trn dataframe\n",
    "display(X1_trn)\n",
    "\n",
    "todo_check([\n",
    "    (X1_trn.columns[0], 'bias is missing from the column names!'),\n",
    "    (np.all(X1_trn['bias'] == 1), 'bias column is not equal to all 1s'),\n",
    "])\n",
    "\n",
    "garbage_collect([ 'X_trn', 'y_trn', 'X_vld', 'y_vld', 'X_tst', 'y_tst', 'X', 'y', 'cleaner_df', 'add_bias', 'X1_trn'])"
   ]
  },
  {
   "cell_type": "markdown",
   "metadata": {
    "id": "c_E7kyGuB_aF"
   },
   "source": [
    "### Redefining Standardization\n",
    "- Changes\n",
    "    - Added `self.feature_names`\n",
    "    - Added `get_feature_names_out()` \n",
    "    - Added more Python hinting   "
   ]
  },
  {
   "cell_type": "code",
   "execution_count": 214,
   "metadata": {
    "id": "-azK2i5zB_aG"
   },
   "outputs": [],
   "source": [
    "class Standardization(BaseEstimator, TransformerMixin):\n",
    "    def __init__(self):\n",
    "        self.feature_names = None\n",
    "    \n",
    "    def fit(self,\n",
    "            X: pd.DataFrame, \n",
    "            y: pd.DataFrame = None) -> pd.DataFrame:\n",
    "        \n",
    "        self.mean = np.mean(X, axis=0)\n",
    "        self.std = np.std(X, axis=0)\n",
    "        return self\n",
    "    \n",
    "    def transform(self, \n",
    "                  X: pd.DataFrame, \n",
    "                  y: pd.DataFrame = None) -> pd.DataFrame:\n",
    "        self.feature_names = X.columns\n",
    "        return (X  - self.mean) / self.std\n",
    "\n",
    "    def get_feature_names_out(self, name=None) -> pd.Series:\n",
    "        return self.feature_names"
   ]
  },
  {
   "cell_type": "markdown",
   "metadata": {
    "id": "UmXuaYYsB_aG"
   },
   "source": [
    "### Creating a cleaning pipeline\n",
    "\n",
    "Now it's time to create out after splitting pipeline. This time we are going to wrap all the code for creating and running the pipeline in a function so that we can easily recall these steps at any time!"
   ]
  },
  {
   "cell_type": "markdown",
   "metadata": {
    "id": "P3IIbvkxB_aG"
   },
   "source": [
    "#### TODO 7\n",
    "Complete the TODO by finishing the `after_pipeline()` function.\n",
    "\n",
    "Take note that this function is a little different from our `before_pipeline()` function. Now, sense we want to apply `Standardization` and `AddBias` to all our data, we can use the `Pipeline` class ([docs](https://scikit-learn.org/stable/modules/generated/sklearn.pipeline.Pipeline.html)). Recall, the  Sklearn `Pipeline` class works just like `ColumnTransformer` but applies the data preparation class to ALL columns.\n",
    "\n",
    "1. Define the 2 post-split data preparation stages that the `Pipeline` class will take in. **Recall this must be a <u>list of tuples </u>.** Store the output in `stages`.\n",
    "    1. Define the standardization data prep stage by defining a tuple as follows:\n",
    "        1. Element 1 should be set to the string 'scaler'.\n",
    "        2. Element 2 should be set an **instance** of our `Standardization` class\n",
    "    3. Define the add bias stage to add the bias column to our data by defining a tuple as follows:\n",
    "        1. Element 1 should be set to the string 'bias'.\n",
    "        2. Element 2 should be set an **instance** of our `AddBias` class\n",
    "        \n",
    "2. Create an instance of our `Pipeline` and pass `stages`, the data cleaning and transformation stages we just defined above. Store the output into the variable `after_pipe`.\n",
    "\n",
    "1. Call the `fit_transform()` method of `after_pipe` instance and pass our training data `X_trn`.  Store the output into `X_trn_clean`.\n",
    "    1. Note: recall that this calls both `fit()` which extracts any needed information from the passed data and then `transform()` uses said extracted information to automatically apply the data cleaning and transformation methods to the data.\n",
    "    \n",
    "2. Call the `transform()` method of `after_pipe` to ONLY apply the transformations to our validation data `X_vld`. Store the output into `X_vld_clean`.\n",
    "    1. Note: Remember, we never want to apply the `fit()` method to our \"unseen\" data such as the validation and test set splits.\n",
    "    \n",
    "3. Call the `transform()` method method of `after_pipe` to ONLY apply the transformations to our test data `X_tst`. Store the output into `X_tst_clean`.\n",
    "\n",
    "*Note: although the instruction says using `Pipeline` class, you can use other ways such as `ColumnTransformer` to do the same thing. You have full freedom in coding as long as the results are correct.*"
   ]
  },
  {
   "cell_type": "code",
   "execution_count": 215,
   "metadata": {
    "id": "OCKk1helB_aG"
   },
   "outputs": [],
   "source": [
    "def after_pipeline(X_trn, X_vld, X_tst):\n",
    "    # TODO 7.1\n",
    "    stages = [('scalar', Standardization()), ('bias', AddBias())]\n",
    "    \n",
    "    # TODO 7.2\n",
    "    after_pipe = Pipeline(stages)\n",
    "    \n",
    "    # TODO 7.3\n",
    "    X_trn_clean = after_pipe.fit_transform(X_trn)\n",
    "    # TODO 7.4\n",
    "    X_vld_clean = after_pipe.transform(X_vld)\n",
    "    # TODO 7.5\n",
    "    X_tst_clean = after_pipe.transform(X_tst)\n",
    "    \n",
    "    return X_trn_clean, X_vld_clean, X_tst_clean\n",
    "    "
   ]
  },
  {
   "cell_type": "markdown",
   "metadata": {
    "id": "RvOvtxF0B_aG"
   },
   "source": [
    "Run the below code to check your `after_pipeline` implementation."
   ]
  },
  {
   "cell_type": "code",
   "execution_count": 216,
   "metadata": {
    "id": "iiN7BhunB_aH",
    "outputId": "8252e57b-0629-4b59-b292-c0ec9b5f4582"
   },
   "outputs": [
    {
     "name": "stdout",
     "output_type": "stream",
     "text": [
      "X_trn shape: (330, 30)\n",
      "X_trn type: <class 'pandas.core.frame.DataFrame'>\n",
      "X_vld shape: (83, 30)\n",
      "X_vld type: <class 'pandas.core.frame.DataFrame'>\n",
      "X_tst shape: (104, 30)\n",
      "X_tst type: <class 'pandas.core.frame.DataFrame'>\n"
     ]
    },
    {
     "data": {
      "text/html": [
       "<div>\n",
       "<style scoped>\n",
       "    .dataframe tbody tr th:only-of-type {\n",
       "        vertical-align: middle;\n",
       "    }\n",
       "\n",
       "    .dataframe tbody tr th {\n",
       "        vertical-align: top;\n",
       "    }\n",
       "\n",
       "    .dataframe thead th {\n",
       "        text-align: right;\n",
       "    }\n",
       "</style>\n",
       "<table border=\"1\" class=\"dataframe\">\n",
       "  <thead>\n",
       "    <tr style=\"text-align: right;\">\n",
       "      <th></th>\n",
       "      <th>bias</th>\n",
       "      <th>X</th>\n",
       "      <th>Y</th>\n",
       "      <th>FFMC</th>\n",
       "      <th>DMC</th>\n",
       "      <th>DC</th>\n",
       "      <th>ISI</th>\n",
       "      <th>temp</th>\n",
       "      <th>RH</th>\n",
       "      <th>wind</th>\n",
       "      <th>...</th>\n",
       "      <th>month_nov</th>\n",
       "      <th>month_oct</th>\n",
       "      <th>month_sep</th>\n",
       "      <th>day_fri</th>\n",
       "      <th>day_mon</th>\n",
       "      <th>day_sat</th>\n",
       "      <th>day_sun</th>\n",
       "      <th>day_thu</th>\n",
       "      <th>day_tue</th>\n",
       "      <th>day_wed</th>\n",
       "    </tr>\n",
       "  </thead>\n",
       "  <tbody>\n",
       "    <tr>\n",
       "      <th>170</th>\n",
       "      <td>1</td>\n",
       "      <td>0.165357</td>\n",
       "      <td>-0.246620</td>\n",
       "      <td>0.395645</td>\n",
       "      <td>0.324517</td>\n",
       "      <td>0.611867</td>\n",
       "      <td>0.111110</td>\n",
       "      <td>0.543906</td>\n",
       "      <td>-0.592774</td>\n",
       "      <td>-1.279994</td>\n",
       "      <td>...</td>\n",
       "      <td>-0.055132</td>\n",
       "      <td>-0.176777</td>\n",
       "      <td>1.385768</td>\n",
       "      <td>-0.456937</td>\n",
       "      <td>-0.427546</td>\n",
       "      <td>-0.412568</td>\n",
       "      <td>-0.5</td>\n",
       "      <td>-0.366088</td>\n",
       "      <td>-0.349927</td>\n",
       "      <td>3.000000</td>\n",
       "    </tr>\n",
       "    <tr>\n",
       "      <th>268</th>\n",
       "      <td>1</td>\n",
       "      <td>-0.707728</td>\n",
       "      <td>-0.246620</td>\n",
       "      <td>0.262909</td>\n",
       "      <td>0.616453</td>\n",
       "      <td>0.447616</td>\n",
       "      <td>1.422454</td>\n",
       "      <td>0.386214</td>\n",
       "      <td>-0.773899</td>\n",
       "      <td>-0.534316</td>\n",
       "      <td>...</td>\n",
       "      <td>-0.055132</td>\n",
       "      <td>-0.176777</td>\n",
       "      <td>-0.721621</td>\n",
       "      <td>-0.456937</td>\n",
       "      <td>-0.427546</td>\n",
       "      <td>-0.412568</td>\n",
       "      <td>-0.5</td>\n",
       "      <td>-0.366088</td>\n",
       "      <td>2.857738</td>\n",
       "      <td>-0.333333</td>\n",
       "    </tr>\n",
       "    <tr>\n",
       "      <th>24</th>\n",
       "      <td>1</td>\n",
       "      <td>1.038442</td>\n",
       "      <td>-0.246620</td>\n",
       "      <td>0.495198</td>\n",
       "      <td>0.416787</td>\n",
       "      <td>0.193700</td>\n",
       "      <td>2.965213</td>\n",
       "      <td>0.859291</td>\n",
       "      <td>-0.773899</td>\n",
       "      <td>1.014401</td>\n",
       "      <td>...</td>\n",
       "      <td>-0.055132</td>\n",
       "      <td>-0.176777</td>\n",
       "      <td>-0.721621</td>\n",
       "      <td>-0.456937</td>\n",
       "      <td>-0.427546</td>\n",
       "      <td>2.423840</td>\n",
       "      <td>-0.5</td>\n",
       "      <td>-0.366088</td>\n",
       "      <td>-0.349927</td>\n",
       "      <td>-0.333333</td>\n",
       "    </tr>\n",
       "    <tr>\n",
       "      <th>152</th>\n",
       "      <td>1</td>\n",
       "      <td>-0.707728</td>\n",
       "      <td>-0.246620</td>\n",
       "      <td>-0.068932</td>\n",
       "      <td>-0.917345</td>\n",
       "      <td>-0.481158</td>\n",
       "      <td>-0.660269</td>\n",
       "      <td>1.016983</td>\n",
       "      <td>-0.109773</td>\n",
       "      <td>-1.279994</td>\n",
       "      <td>...</td>\n",
       "      <td>-0.055132</td>\n",
       "      <td>-0.176777</td>\n",
       "      <td>-0.721621</td>\n",
       "      <td>-0.456937</td>\n",
       "      <td>-0.427546</td>\n",
       "      <td>2.423840</td>\n",
       "      <td>-0.5</td>\n",
       "      <td>-0.366088</td>\n",
       "      <td>-0.349927</td>\n",
       "      <td>-0.333333</td>\n",
       "    </tr>\n",
       "    <tr>\n",
       "      <th>4</th>\n",
       "      <td>1</td>\n",
       "      <td>1.474985</td>\n",
       "      <td>1.466741</td>\n",
       "      <td>-0.201669</td>\n",
       "      <td>-0.915833</td>\n",
       "      <td>-1.758272</td>\n",
       "      <td>0.213960</td>\n",
       "      <td>-1.295838</td>\n",
       "      <td>3.271234</td>\n",
       "      <td>-1.279994</td>\n",
       "      <td>...</td>\n",
       "      <td>-0.055132</td>\n",
       "      <td>-0.176777</td>\n",
       "      <td>-0.721621</td>\n",
       "      <td>-0.456937</td>\n",
       "      <td>-0.427546</td>\n",
       "      <td>-0.412568</td>\n",
       "      <td>2.0</td>\n",
       "      <td>-0.366088</td>\n",
       "      <td>-0.349927</td>\n",
       "      <td>-0.333333</td>\n",
       "    </tr>\n",
       "    <tr>\n",
       "      <th>...</th>\n",
       "      <td>...</td>\n",
       "      <td>...</td>\n",
       "      <td>...</td>\n",
       "      <td>...</td>\n",
       "      <td>...</td>\n",
       "      <td>...</td>\n",
       "      <td>...</td>\n",
       "      <td>...</td>\n",
       "      <td>...</td>\n",
       "      <td>...</td>\n",
       "      <td>...</td>\n",
       "      <td>...</td>\n",
       "      <td>...</td>\n",
       "      <td>...</td>\n",
       "      <td>...</td>\n",
       "      <td>...</td>\n",
       "      <td>...</td>\n",
       "      <td>...</td>\n",
       "      <td>...</td>\n",
       "      <td>...</td>\n",
       "      <td>...</td>\n",
       "    </tr>\n",
       "    <tr>\n",
       "      <th>420</th>\n",
       "      <td>1</td>\n",
       "      <td>1.474985</td>\n",
       "      <td>3.180102</td>\n",
       "      <td>0.196541</td>\n",
       "      <td>1.203350</td>\n",
       "      <td>0.359142</td>\n",
       "      <td>-0.248867</td>\n",
       "      <td>1.297325</td>\n",
       "      <td>-0.532399</td>\n",
       "      <td>0.268722</td>\n",
       "      <td>...</td>\n",
       "      <td>-0.055132</td>\n",
       "      <td>-0.176777</td>\n",
       "      <td>-0.721621</td>\n",
       "      <td>-0.456937</td>\n",
       "      <td>-0.427546</td>\n",
       "      <td>-0.412568</td>\n",
       "      <td>-0.5</td>\n",
       "      <td>-0.366088</td>\n",
       "      <td>-0.349927</td>\n",
       "      <td>3.000000</td>\n",
       "    </tr>\n",
       "    <tr>\n",
       "      <th>109</th>\n",
       "      <td>1</td>\n",
       "      <td>-0.271186</td>\n",
       "      <td>0.610060</td>\n",
       "      <td>-0.317813</td>\n",
       "      <td>-0.303221</td>\n",
       "      <td>0.652731</td>\n",
       "      <td>-0.428856</td>\n",
       "      <td>-0.244556</td>\n",
       "      <td>0.675104</td>\n",
       "      <td>0.784961</td>\n",
       "      <td>...</td>\n",
       "      <td>-0.055132</td>\n",
       "      <td>-0.176777</td>\n",
       "      <td>1.385768</td>\n",
       "      <td>-0.456937</td>\n",
       "      <td>2.338929</td>\n",
       "      <td>-0.412568</td>\n",
       "      <td>-0.5</td>\n",
       "      <td>-0.366088</td>\n",
       "      <td>-0.349927</td>\n",
       "      <td>-0.333333</td>\n",
       "    </tr>\n",
       "    <tr>\n",
       "      <th>61</th>\n",
       "      <td>1</td>\n",
       "      <td>-1.144271</td>\n",
       "      <td>-1.959981</td>\n",
       "      <td>-0.201669</td>\n",
       "      <td>-0.915833</td>\n",
       "      <td>-1.758272</td>\n",
       "      <td>0.213960</td>\n",
       "      <td>-2.329600</td>\n",
       "      <td>0.856229</td>\n",
       "      <td>1.301200</td>\n",
       "      <td>...</td>\n",
       "      <td>-0.055132</td>\n",
       "      <td>-0.176777</td>\n",
       "      <td>-0.721621</td>\n",
       "      <td>-0.456937</td>\n",
       "      <td>-0.427546</td>\n",
       "      <td>-0.412568</td>\n",
       "      <td>2.0</td>\n",
       "      <td>-0.366088</td>\n",
       "      <td>-0.349927</td>\n",
       "      <td>-0.333333</td>\n",
       "    </tr>\n",
       "    <tr>\n",
       "      <th>13</th>\n",
       "      <td>1</td>\n",
       "      <td>0.601900</td>\n",
       "      <td>0.610060</td>\n",
       "      <td>0.063804</td>\n",
       "      <td>0.221659</td>\n",
       "      <td>0.559894</td>\n",
       "      <td>-0.454568</td>\n",
       "      <td>0.438778</td>\n",
       "      <td>-0.170148</td>\n",
       "      <td>-1.050555</td>\n",
       "      <td>...</td>\n",
       "      <td>-0.055132</td>\n",
       "      <td>-0.176777</td>\n",
       "      <td>1.385768</td>\n",
       "      <td>-0.456937</td>\n",
       "      <td>2.338929</td>\n",
       "      <td>-0.412568</td>\n",
       "      <td>-0.5</td>\n",
       "      <td>-0.366088</td>\n",
       "      <td>-0.349927</td>\n",
       "      <td>-0.333333</td>\n",
       "    </tr>\n",
       "    <tr>\n",
       "      <th>433</th>\n",
       "      <td>1</td>\n",
       "      <td>-1.144271</td>\n",
       "      <td>-0.246620</td>\n",
       "      <td>0.511790</td>\n",
       "      <td>1.864366</td>\n",
       "      <td>0.705101</td>\n",
       "      <td>0.342524</td>\n",
       "      <td>0.368692</td>\n",
       "      <td>1.278855</td>\n",
       "      <td>0.498162</td>\n",
       "      <td>...</td>\n",
       "      <td>-0.055132</td>\n",
       "      <td>-0.176777</td>\n",
       "      <td>-0.721621</td>\n",
       "      <td>-0.456937</td>\n",
       "      <td>-0.427546</td>\n",
       "      <td>-0.412568</td>\n",
       "      <td>2.0</td>\n",
       "      <td>-0.366088</td>\n",
       "      <td>-0.349927</td>\n",
       "      <td>-0.333333</td>\n",
       "    </tr>\n",
       "  </tbody>\n",
       "</table>\n",
       "<p>330 rows × 30 columns</p>\n",
       "</div>"
      ],
      "text/plain": [
       "     bias         X         Y      FFMC       DMC        DC       ISI  \\\n",
       "170     1  0.165357 -0.246620  0.395645  0.324517  0.611867  0.111110   \n",
       "268     1 -0.707728 -0.246620  0.262909  0.616453  0.447616  1.422454   \n",
       "24      1  1.038442 -0.246620  0.495198  0.416787  0.193700  2.965213   \n",
       "152     1 -0.707728 -0.246620 -0.068932 -0.917345 -0.481158 -0.660269   \n",
       "4       1  1.474985  1.466741 -0.201669 -0.915833 -1.758272  0.213960   \n",
       "..    ...       ...       ...       ...       ...       ...       ...   \n",
       "420     1  1.474985  3.180102  0.196541  1.203350  0.359142 -0.248867   \n",
       "109     1 -0.271186  0.610060 -0.317813 -0.303221  0.652731 -0.428856   \n",
       "61      1 -1.144271 -1.959981 -0.201669 -0.915833 -1.758272  0.213960   \n",
       "13      1  0.601900  0.610060  0.063804  0.221659  0.559894 -0.454568   \n",
       "433     1 -1.144271 -0.246620  0.511790  1.864366  0.705101  0.342524   \n",
       "\n",
       "         temp        RH      wind  ...  month_nov  month_oct  month_sep  \\\n",
       "170  0.543906 -0.592774 -1.279994  ...  -0.055132  -0.176777   1.385768   \n",
       "268  0.386214 -0.773899 -0.534316  ...  -0.055132  -0.176777  -0.721621   \n",
       "24   0.859291 -0.773899  1.014401  ...  -0.055132  -0.176777  -0.721621   \n",
       "152  1.016983 -0.109773 -1.279994  ...  -0.055132  -0.176777  -0.721621   \n",
       "4   -1.295838  3.271234 -1.279994  ...  -0.055132  -0.176777  -0.721621   \n",
       "..        ...       ...       ...  ...        ...        ...        ...   \n",
       "420  1.297325 -0.532399  0.268722  ...  -0.055132  -0.176777  -0.721621   \n",
       "109 -0.244556  0.675104  0.784961  ...  -0.055132  -0.176777   1.385768   \n",
       "61  -2.329600  0.856229  1.301200  ...  -0.055132  -0.176777  -0.721621   \n",
       "13   0.438778 -0.170148 -1.050555  ...  -0.055132  -0.176777   1.385768   \n",
       "433  0.368692  1.278855  0.498162  ...  -0.055132  -0.176777  -0.721621   \n",
       "\n",
       "      day_fri   day_mon   day_sat  day_sun   day_thu   day_tue   day_wed  \n",
       "170 -0.456937 -0.427546 -0.412568     -0.5 -0.366088 -0.349927  3.000000  \n",
       "268 -0.456937 -0.427546 -0.412568     -0.5 -0.366088  2.857738 -0.333333  \n",
       "24  -0.456937 -0.427546  2.423840     -0.5 -0.366088 -0.349927 -0.333333  \n",
       "152 -0.456937 -0.427546  2.423840     -0.5 -0.366088 -0.349927 -0.333333  \n",
       "4   -0.456937 -0.427546 -0.412568      2.0 -0.366088 -0.349927 -0.333333  \n",
       "..        ...       ...       ...      ...       ...       ...       ...  \n",
       "420 -0.456937 -0.427546 -0.412568     -0.5 -0.366088 -0.349927  3.000000  \n",
       "109 -0.456937  2.338929 -0.412568     -0.5 -0.366088 -0.349927 -0.333333  \n",
       "61  -0.456937 -0.427546 -0.412568      2.0 -0.366088 -0.349927 -0.333333  \n",
       "13  -0.456937  2.338929 -0.412568     -0.5 -0.366088 -0.349927 -0.333333  \n",
       "433 -0.456937 -0.427546 -0.412568      2.0 -0.366088 -0.349927 -0.333333  \n",
       "\n",
       "[330 rows x 30 columns]"
      ]
     },
     "metadata": {},
     "output_type": "display_data"
    },
    {
     "name": "stdout",
     "output_type": "stream",
     "text": [
      "Your code PASSED the code check!\n"
     ]
    }
   ],
   "source": [
    "# Apply pre-split cleaning\n",
    "cleaner_df = before_pipeline(forestfire_df)\n",
    "# Apply feature and label splitting\n",
    "X, y = feature_label_split(cleaner_df)\n",
    "# Apply train, validation and test set splitting\n",
    "X_trn, y_trn, X_vld, y_vld, X_tst, y_tst = train_valid_test_split(X, y)\n",
    "# Apply post-split cleaning\n",
    "X_trn, X_vld, X_tst = after_pipeline(X_trn, X_vld, X_tst)\n",
    "\n",
    "print(f\"X_trn shape: {X_trn.shape}\")\n",
    "print(f\"X_trn type: {type(X_trn)}\")\n",
    "print(f\"X_vld shape: {X_vld.shape}\")\n",
    "print(f\"X_vld type: {type(X_vld)}\")\n",
    "print(f\"X_tst shape: {X_tst.shape}\")\n",
    "print(f\"X_tst type: {type(X_tst)}\")\n",
    "\n",
    "display(X_trn)\n",
    "\n",
    "todo_check([\n",
    "    (np.all(np.isclose(X_trn.iloc[:3, 3], [.395645, .262909, .495198], rtol=.01)), 'X_trn has the wrong values!'),\n",
    "    (np.all(np.isclose(X_vld.iloc[:3, 3], [-3.702595, .113580, .528382], rtol=.01)), 'X_vld has the wrong values!'),\n",
    "    (np.all(np.isclose(X_tst.iloc[:3, 3], [-0.898536, .926591, .262909], rtol=.01)), 'X_tst has the wrong values!'),\n",
    "])\n",
    "\n",
    "garbage_collect([ 'X_trn', 'y_trn', 'X_vld', 'y_vld', 'X_tst', 'y_tst', 'X', 'y', 'cleaner_df'])"
   ]
  },
  {
   "cell_type": "markdown",
   "metadata": {
    "id": "ugGYlu_XB_aH"
   },
   "source": [
    "##  Putting it all together\n",
    "\n",
    "In order to make our lives easier we create a function called `data_prep()` which will run all the pre-split, splitting, and post-split data cleaning and transformations for us. Further, it will return our train, validation, and test data for us and apply any other small changes we need to make to the data. Thus, whenever we go to implement a new  algorithm we can call `data_prep()` to give us our data!\n",
    "\n",
    "Take a second to go through the below code and make sure it makes sense. For the most part, we are just combining all the functions we defined above."
   ]
  },
  {
   "cell_type": "code",
   "execution_count": 217,
   "metadata": {
    "id": "QhJqeOIoB_aH"
   },
   "outputs": [],
   "source": [
    "def data_prep(forestfire_df: pd.DataFrame, \n",
    "              return_array: bool = False,\n",
    "              drop_features: List = None) -> Tuple[pd.DataFrame]:\n",
    "    \"\"\" Splits data and runs before and after split data cleaning and transformations\n",
    "    \n",
    "        Args:\n",
    "            forestfire_df: A Pandas DataFrame containing the Forest Fire data\n",
    "            \n",
    "            return_array: A boolean which when True will return all data as NumPy\n",
    "                arrays instead of Pandas DataFrames.\n",
    "                \n",
    "            drop_features: List of feature names to drop\n",
    "    \"\"\"\n",
    "    # Apply pre-split cleaning\n",
    "    cleaner_df = before_pipeline(forestfire_df)\n",
    "    # Apply feature and label splitting\n",
    "    X, y = feature_label_split(cleaner_df)\n",
    "    # Apply train, validation and test set splitting\n",
    "    X_trn, y_trn, X_vld, y_vld, X_tst, y_tst = train_valid_test_split(X, y)\n",
    "    # Apply post-split cleaning\n",
    "    X_trn, X_vld, X_tst = after_pipeline(X_trn, X_vld, X_tst)\n",
    "\n",
    "    # Resets the Pandas index for the Dataframe and series\n",
    "    # This will prevent any headaches when combining or indexing\n",
    "    # our train, validation, and test data in the future.\n",
    "    X_trn.reset_index(inplace=True, drop=True)\n",
    "    y_trn.reset_index(inplace=True, drop=True)\n",
    "    X_vld.reset_index(inplace=True, drop=True)\n",
    "    y_vld.reset_index(inplace=True, drop=True)\n",
    "    X_tst.reset_index(inplace=True, drop=True)\n",
    "    y_tst.reset_index(inplace=True, drop=True)\n",
    "    \n",
    "    # Drop any features we don't want\n",
    "    if drop_features is not None:\n",
    "        X_trn, X_vld, X_tst = (X_trn.drop(drop_features, axis=1),\n",
    "                               X_vld.drop(drop_features, axis=1),\n",
    "                               X_tst.drop(drop_features, axis=1))\n",
    "        \n",
    "    \n",
    "    # Return data as arrays instead of DataFrames\n",
    "    if return_array:\n",
    "        X_trn, y_trn, X_vld, y_vld, X_tst, y_tst = (X_trn.values, \n",
    "                                                    y_trn.values, \n",
    "                                                    X_vld.values, \n",
    "                                                    y_vld.values, \n",
    "                                                    X_tst.values, \n",
    "                                                    y_tst.values)\n",
    "                               \n",
    "    \n",
    "    return X_trn, y_trn, X_vld, y_vld, X_tst, y_tst"
   ]
  },
  {
   "cell_type": "markdown",
   "metadata": {
    "id": "Kl7LPnd9B_aH"
   },
   "source": [
    "Additionally, the `data_prep()` function takes in some keyword arguments we need to be aware of. Read the documentation above, inside the function, to learn what the keyword arguments do! Below we should off some examples of using different keyword arguments."
   ]
  },
  {
   "cell_type": "markdown",
   "metadata": {
    "id": "A4WhjXHVB_aH"
   },
   "source": [
    "Notice that if we pass NO keyword arguments we get back a just a basic DataFrame with all our data preparations applied."
   ]
  },
  {
   "cell_type": "code",
   "execution_count": 218,
   "metadata": {
    "id": "cnRtyVsoB_aH",
    "outputId": "bed05699-d9c6-4f64-8c0f-8db12ac6db3c",
    "scrolled": true
   },
   "outputs": [
    {
     "name": "stdout",
     "output_type": "stream",
     "text": [
      "Type example for X_trn: <class 'pandas.core.frame.DataFrame'>\n"
     ]
    },
    {
     "data": {
      "text/html": [
       "<div>\n",
       "<style scoped>\n",
       "    .dataframe tbody tr th:only-of-type {\n",
       "        vertical-align: middle;\n",
       "    }\n",
       "\n",
       "    .dataframe tbody tr th {\n",
       "        vertical-align: top;\n",
       "    }\n",
       "\n",
       "    .dataframe thead th {\n",
       "        text-align: right;\n",
       "    }\n",
       "</style>\n",
       "<table border=\"1\" class=\"dataframe\">\n",
       "  <thead>\n",
       "    <tr style=\"text-align: right;\">\n",
       "      <th></th>\n",
       "      <th>bias</th>\n",
       "      <th>X</th>\n",
       "      <th>Y</th>\n",
       "      <th>FFMC</th>\n",
       "      <th>DMC</th>\n",
       "      <th>DC</th>\n",
       "      <th>ISI</th>\n",
       "      <th>temp</th>\n",
       "      <th>RH</th>\n",
       "      <th>wind</th>\n",
       "      <th>...</th>\n",
       "      <th>month_nov</th>\n",
       "      <th>month_oct</th>\n",
       "      <th>month_sep</th>\n",
       "      <th>day_fri</th>\n",
       "      <th>day_mon</th>\n",
       "      <th>day_sat</th>\n",
       "      <th>day_sun</th>\n",
       "      <th>day_thu</th>\n",
       "      <th>day_tue</th>\n",
       "      <th>day_wed</th>\n",
       "    </tr>\n",
       "  </thead>\n",
       "  <tbody>\n",
       "    <tr>\n",
       "      <th>0</th>\n",
       "      <td>1</td>\n",
       "      <td>0.165357</td>\n",
       "      <td>-0.246620</td>\n",
       "      <td>0.395645</td>\n",
       "      <td>0.324517</td>\n",
       "      <td>0.611867</td>\n",
       "      <td>0.111110</td>\n",
       "      <td>0.543906</td>\n",
       "      <td>-0.592774</td>\n",
       "      <td>-1.279994</td>\n",
       "      <td>...</td>\n",
       "      <td>-0.055132</td>\n",
       "      <td>-0.176777</td>\n",
       "      <td>1.385768</td>\n",
       "      <td>-0.456937</td>\n",
       "      <td>-0.427546</td>\n",
       "      <td>-0.412568</td>\n",
       "      <td>-0.5</td>\n",
       "      <td>-0.366088</td>\n",
       "      <td>-0.349927</td>\n",
       "      <td>3.000000</td>\n",
       "    </tr>\n",
       "    <tr>\n",
       "      <th>1</th>\n",
       "      <td>1</td>\n",
       "      <td>-0.707728</td>\n",
       "      <td>-0.246620</td>\n",
       "      <td>0.262909</td>\n",
       "      <td>0.616453</td>\n",
       "      <td>0.447616</td>\n",
       "      <td>1.422454</td>\n",
       "      <td>0.386214</td>\n",
       "      <td>-0.773899</td>\n",
       "      <td>-0.534316</td>\n",
       "      <td>...</td>\n",
       "      <td>-0.055132</td>\n",
       "      <td>-0.176777</td>\n",
       "      <td>-0.721621</td>\n",
       "      <td>-0.456937</td>\n",
       "      <td>-0.427546</td>\n",
       "      <td>-0.412568</td>\n",
       "      <td>-0.5</td>\n",
       "      <td>-0.366088</td>\n",
       "      <td>2.857738</td>\n",
       "      <td>-0.333333</td>\n",
       "    </tr>\n",
       "    <tr>\n",
       "      <th>2</th>\n",
       "      <td>1</td>\n",
       "      <td>1.038442</td>\n",
       "      <td>-0.246620</td>\n",
       "      <td>0.495198</td>\n",
       "      <td>0.416787</td>\n",
       "      <td>0.193700</td>\n",
       "      <td>2.965213</td>\n",
       "      <td>0.859291</td>\n",
       "      <td>-0.773899</td>\n",
       "      <td>1.014401</td>\n",
       "      <td>...</td>\n",
       "      <td>-0.055132</td>\n",
       "      <td>-0.176777</td>\n",
       "      <td>-0.721621</td>\n",
       "      <td>-0.456937</td>\n",
       "      <td>-0.427546</td>\n",
       "      <td>2.423840</td>\n",
       "      <td>-0.5</td>\n",
       "      <td>-0.366088</td>\n",
       "      <td>-0.349927</td>\n",
       "      <td>-0.333333</td>\n",
       "    </tr>\n",
       "    <tr>\n",
       "      <th>3</th>\n",
       "      <td>1</td>\n",
       "      <td>-0.707728</td>\n",
       "      <td>-0.246620</td>\n",
       "      <td>-0.068932</td>\n",
       "      <td>-0.917345</td>\n",
       "      <td>-0.481158</td>\n",
       "      <td>-0.660269</td>\n",
       "      <td>1.016983</td>\n",
       "      <td>-0.109773</td>\n",
       "      <td>-1.279994</td>\n",
       "      <td>...</td>\n",
       "      <td>-0.055132</td>\n",
       "      <td>-0.176777</td>\n",
       "      <td>-0.721621</td>\n",
       "      <td>-0.456937</td>\n",
       "      <td>-0.427546</td>\n",
       "      <td>2.423840</td>\n",
       "      <td>-0.5</td>\n",
       "      <td>-0.366088</td>\n",
       "      <td>-0.349927</td>\n",
       "      <td>-0.333333</td>\n",
       "    </tr>\n",
       "    <tr>\n",
       "      <th>4</th>\n",
       "      <td>1</td>\n",
       "      <td>1.474985</td>\n",
       "      <td>1.466741</td>\n",
       "      <td>-0.201669</td>\n",
       "      <td>-0.915833</td>\n",
       "      <td>-1.758272</td>\n",
       "      <td>0.213960</td>\n",
       "      <td>-1.295838</td>\n",
       "      <td>3.271234</td>\n",
       "      <td>-1.279994</td>\n",
       "      <td>...</td>\n",
       "      <td>-0.055132</td>\n",
       "      <td>-0.176777</td>\n",
       "      <td>-0.721621</td>\n",
       "      <td>-0.456937</td>\n",
       "      <td>-0.427546</td>\n",
       "      <td>-0.412568</td>\n",
       "      <td>2.0</td>\n",
       "      <td>-0.366088</td>\n",
       "      <td>-0.349927</td>\n",
       "      <td>-0.333333</td>\n",
       "    </tr>\n",
       "    <tr>\n",
       "      <th>...</th>\n",
       "      <td>...</td>\n",
       "      <td>...</td>\n",
       "      <td>...</td>\n",
       "      <td>...</td>\n",
       "      <td>...</td>\n",
       "      <td>...</td>\n",
       "      <td>...</td>\n",
       "      <td>...</td>\n",
       "      <td>...</td>\n",
       "      <td>...</td>\n",
       "      <td>...</td>\n",
       "      <td>...</td>\n",
       "      <td>...</td>\n",
       "      <td>...</td>\n",
       "      <td>...</td>\n",
       "      <td>...</td>\n",
       "      <td>...</td>\n",
       "      <td>...</td>\n",
       "      <td>...</td>\n",
       "      <td>...</td>\n",
       "      <td>...</td>\n",
       "    </tr>\n",
       "    <tr>\n",
       "      <th>325</th>\n",
       "      <td>1</td>\n",
       "      <td>1.474985</td>\n",
       "      <td>3.180102</td>\n",
       "      <td>0.196541</td>\n",
       "      <td>1.203350</td>\n",
       "      <td>0.359142</td>\n",
       "      <td>-0.248867</td>\n",
       "      <td>1.297325</td>\n",
       "      <td>-0.532399</td>\n",
       "      <td>0.268722</td>\n",
       "      <td>...</td>\n",
       "      <td>-0.055132</td>\n",
       "      <td>-0.176777</td>\n",
       "      <td>-0.721621</td>\n",
       "      <td>-0.456937</td>\n",
       "      <td>-0.427546</td>\n",
       "      <td>-0.412568</td>\n",
       "      <td>-0.5</td>\n",
       "      <td>-0.366088</td>\n",
       "      <td>-0.349927</td>\n",
       "      <td>3.000000</td>\n",
       "    </tr>\n",
       "    <tr>\n",
       "      <th>326</th>\n",
       "      <td>1</td>\n",
       "      <td>-0.271186</td>\n",
       "      <td>0.610060</td>\n",
       "      <td>-0.317813</td>\n",
       "      <td>-0.303221</td>\n",
       "      <td>0.652731</td>\n",
       "      <td>-0.428856</td>\n",
       "      <td>-0.244556</td>\n",
       "      <td>0.675104</td>\n",
       "      <td>0.784961</td>\n",
       "      <td>...</td>\n",
       "      <td>-0.055132</td>\n",
       "      <td>-0.176777</td>\n",
       "      <td>1.385768</td>\n",
       "      <td>-0.456937</td>\n",
       "      <td>2.338929</td>\n",
       "      <td>-0.412568</td>\n",
       "      <td>-0.5</td>\n",
       "      <td>-0.366088</td>\n",
       "      <td>-0.349927</td>\n",
       "      <td>-0.333333</td>\n",
       "    </tr>\n",
       "    <tr>\n",
       "      <th>327</th>\n",
       "      <td>1</td>\n",
       "      <td>-1.144271</td>\n",
       "      <td>-1.959981</td>\n",
       "      <td>-0.201669</td>\n",
       "      <td>-0.915833</td>\n",
       "      <td>-1.758272</td>\n",
       "      <td>0.213960</td>\n",
       "      <td>-2.329600</td>\n",
       "      <td>0.856229</td>\n",
       "      <td>1.301200</td>\n",
       "      <td>...</td>\n",
       "      <td>-0.055132</td>\n",
       "      <td>-0.176777</td>\n",
       "      <td>-0.721621</td>\n",
       "      <td>-0.456937</td>\n",
       "      <td>-0.427546</td>\n",
       "      <td>-0.412568</td>\n",
       "      <td>2.0</td>\n",
       "      <td>-0.366088</td>\n",
       "      <td>-0.349927</td>\n",
       "      <td>-0.333333</td>\n",
       "    </tr>\n",
       "    <tr>\n",
       "      <th>328</th>\n",
       "      <td>1</td>\n",
       "      <td>0.601900</td>\n",
       "      <td>0.610060</td>\n",
       "      <td>0.063804</td>\n",
       "      <td>0.221659</td>\n",
       "      <td>0.559894</td>\n",
       "      <td>-0.454568</td>\n",
       "      <td>0.438778</td>\n",
       "      <td>-0.170148</td>\n",
       "      <td>-1.050555</td>\n",
       "      <td>...</td>\n",
       "      <td>-0.055132</td>\n",
       "      <td>-0.176777</td>\n",
       "      <td>1.385768</td>\n",
       "      <td>-0.456937</td>\n",
       "      <td>2.338929</td>\n",
       "      <td>-0.412568</td>\n",
       "      <td>-0.5</td>\n",
       "      <td>-0.366088</td>\n",
       "      <td>-0.349927</td>\n",
       "      <td>-0.333333</td>\n",
       "    </tr>\n",
       "    <tr>\n",
       "      <th>329</th>\n",
       "      <td>1</td>\n",
       "      <td>-1.144271</td>\n",
       "      <td>-0.246620</td>\n",
       "      <td>0.511790</td>\n",
       "      <td>1.864366</td>\n",
       "      <td>0.705101</td>\n",
       "      <td>0.342524</td>\n",
       "      <td>0.368692</td>\n",
       "      <td>1.278855</td>\n",
       "      <td>0.498162</td>\n",
       "      <td>...</td>\n",
       "      <td>-0.055132</td>\n",
       "      <td>-0.176777</td>\n",
       "      <td>-0.721621</td>\n",
       "      <td>-0.456937</td>\n",
       "      <td>-0.427546</td>\n",
       "      <td>-0.412568</td>\n",
       "      <td>2.0</td>\n",
       "      <td>-0.366088</td>\n",
       "      <td>-0.349927</td>\n",
       "      <td>-0.333333</td>\n",
       "    </tr>\n",
       "  </tbody>\n",
       "</table>\n",
       "<p>330 rows × 30 columns</p>\n",
       "</div>"
      ],
      "text/plain": [
       "     bias         X         Y      FFMC       DMC        DC       ISI  \\\n",
       "0       1  0.165357 -0.246620  0.395645  0.324517  0.611867  0.111110   \n",
       "1       1 -0.707728 -0.246620  0.262909  0.616453  0.447616  1.422454   \n",
       "2       1  1.038442 -0.246620  0.495198  0.416787  0.193700  2.965213   \n",
       "3       1 -0.707728 -0.246620 -0.068932 -0.917345 -0.481158 -0.660269   \n",
       "4       1  1.474985  1.466741 -0.201669 -0.915833 -1.758272  0.213960   \n",
       "..    ...       ...       ...       ...       ...       ...       ...   \n",
       "325     1  1.474985  3.180102  0.196541  1.203350  0.359142 -0.248867   \n",
       "326     1 -0.271186  0.610060 -0.317813 -0.303221  0.652731 -0.428856   \n",
       "327     1 -1.144271 -1.959981 -0.201669 -0.915833 -1.758272  0.213960   \n",
       "328     1  0.601900  0.610060  0.063804  0.221659  0.559894 -0.454568   \n",
       "329     1 -1.144271 -0.246620  0.511790  1.864366  0.705101  0.342524   \n",
       "\n",
       "         temp        RH      wind  ...  month_nov  month_oct  month_sep  \\\n",
       "0    0.543906 -0.592774 -1.279994  ...  -0.055132  -0.176777   1.385768   \n",
       "1    0.386214 -0.773899 -0.534316  ...  -0.055132  -0.176777  -0.721621   \n",
       "2    0.859291 -0.773899  1.014401  ...  -0.055132  -0.176777  -0.721621   \n",
       "3    1.016983 -0.109773 -1.279994  ...  -0.055132  -0.176777  -0.721621   \n",
       "4   -1.295838  3.271234 -1.279994  ...  -0.055132  -0.176777  -0.721621   \n",
       "..        ...       ...       ...  ...        ...        ...        ...   \n",
       "325  1.297325 -0.532399  0.268722  ...  -0.055132  -0.176777  -0.721621   \n",
       "326 -0.244556  0.675104  0.784961  ...  -0.055132  -0.176777   1.385768   \n",
       "327 -2.329600  0.856229  1.301200  ...  -0.055132  -0.176777  -0.721621   \n",
       "328  0.438778 -0.170148 -1.050555  ...  -0.055132  -0.176777   1.385768   \n",
       "329  0.368692  1.278855  0.498162  ...  -0.055132  -0.176777  -0.721621   \n",
       "\n",
       "      day_fri   day_mon   day_sat  day_sun   day_thu   day_tue   day_wed  \n",
       "0   -0.456937 -0.427546 -0.412568     -0.5 -0.366088 -0.349927  3.000000  \n",
       "1   -0.456937 -0.427546 -0.412568     -0.5 -0.366088  2.857738 -0.333333  \n",
       "2   -0.456937 -0.427546  2.423840     -0.5 -0.366088 -0.349927 -0.333333  \n",
       "3   -0.456937 -0.427546  2.423840     -0.5 -0.366088 -0.349927 -0.333333  \n",
       "4   -0.456937 -0.427546 -0.412568      2.0 -0.366088 -0.349927 -0.333333  \n",
       "..        ...       ...       ...      ...       ...       ...       ...  \n",
       "325 -0.456937 -0.427546 -0.412568     -0.5 -0.366088 -0.349927  3.000000  \n",
       "326 -0.456937  2.338929 -0.412568     -0.5 -0.366088 -0.349927 -0.333333  \n",
       "327 -0.456937 -0.427546 -0.412568      2.0 -0.366088 -0.349927 -0.333333  \n",
       "328 -0.456937  2.338929 -0.412568     -0.5 -0.366088 -0.349927 -0.333333  \n",
       "329 -0.456937 -0.427546 -0.412568      2.0 -0.366088 -0.349927 -0.333333  \n",
       "\n",
       "[330 rows x 30 columns]"
      ]
     },
     "metadata": {},
     "output_type": "display_data"
    }
   ],
   "source": [
    "# Example of how to call data_prep which returns data as DataFrames\n",
    "data = data_prep(forestfire_df)\n",
    "X_trn, y_trn, X_vld, y_vld, X_tst, y_tst = data\n",
    "\n",
    "print(f\"Type example for X_trn: {type(X_trn)}\")\n",
    "\n",
    "display(X_trn)\n",
    "\n",
    "garbage_collect([ 'X_trn', 'y_trn', 'X_vld', 'y_vld', 'X_tst', 'y_tst'])"
   ]
  },
  {
   "cell_type": "markdown",
   "metadata": {
    "id": "VFin4nAuB_aI"
   },
   "source": [
    "Next, if we pass `return_array=True`, then the output of `data_prep()` is a NumPy array instead of a DataFrame. We typically want to use this argument when we are going to pass our data to an algorithm as NumPy arrays are better to work with after all data exploration and the data preparations have been applied."
   ]
  },
  {
   "cell_type": "code",
   "execution_count": 219,
   "metadata": {
    "id": "14vyIsfwB_aI",
    "outputId": "32704946-476a-449e-c05e-b5339ba3872d"
   },
   "outputs": [
    {
     "name": "stdout",
     "output_type": "stream",
     "text": [
      "Type example for X_trn: <class 'numpy.ndarray'>\n"
     ]
    },
    {
     "data": {
      "text/plain": [
       "array([[ 1.        ,  0.16535708, -0.24662018, ..., -0.36608827,\n",
       "        -0.34992711,  3.        ],\n",
       "       [ 1.        , -0.7077283 , -0.24662018, ..., -0.36608827,\n",
       "         2.85773803, -0.33333333],\n",
       "       [ 1.        ,  1.03844246, -0.24662018, ..., -0.36608827,\n",
       "        -0.34992711, -0.33333333],\n",
       "       ...,\n",
       "       [ 1.        , -1.14427099, -1.95998141, ..., -0.36608827,\n",
       "        -0.34992711, -0.33333333],\n",
       "       [ 1.        ,  0.60189977,  0.61006044, ..., -0.36608827,\n",
       "        -0.34992711, -0.33333333],\n",
       "       [ 1.        , -1.14427099, -0.24662018, ..., -0.36608827,\n",
       "        -0.34992711, -0.33333333]])"
      ]
     },
     "metadata": {},
     "output_type": "display_data"
    }
   ],
   "source": [
    "# Example of how to call data_prep which returns data as NumPy Arrays\n",
    "data = data_prep(forestfire_df, return_array=True) \n",
    "X_trn, y_trn, X_vld, y_vld, X_tst, y_tst = data\n",
    "\n",
    "print(f\"Type example for X_trn: {type(X_trn)}\")\n",
    "\n",
    "display(X_trn)\n",
    "\n",
    "garbage_collect([ 'X_trn', 'y_trn', 'X_vld', 'y_vld', 'X_tst', 'y_tst'])"
   ]
  },
  {
   "cell_type": "markdown",
   "metadata": {
    "id": "DyUS0Og6B_aI"
   },
   "source": [
    "Finally, below is an example of using the `drop_features` argument which removes any specified features from being returned in the output. Notice, below we remove the `X` and `Y` features."
   ]
  },
  {
   "cell_type": "code",
   "execution_count": 220,
   "metadata": {
    "id": "w_yrBOflB_aI",
    "outputId": "40c6ff17-603e-496d-8502-90983972a535"
   },
   "outputs": [
    {
     "name": "stdout",
     "output_type": "stream",
     "text": [
      "Type example for X_trn: <class 'pandas.core.indexes.base.Index'>\n"
     ]
    },
    {
     "data": {
      "text/html": [
       "<div>\n",
       "<style scoped>\n",
       "    .dataframe tbody tr th:only-of-type {\n",
       "        vertical-align: middle;\n",
       "    }\n",
       "\n",
       "    .dataframe tbody tr th {\n",
       "        vertical-align: top;\n",
       "    }\n",
       "\n",
       "    .dataframe thead th {\n",
       "        text-align: right;\n",
       "    }\n",
       "</style>\n",
       "<table border=\"1\" class=\"dataframe\">\n",
       "  <thead>\n",
       "    <tr style=\"text-align: right;\">\n",
       "      <th></th>\n",
       "      <th>bias</th>\n",
       "      <th>FFMC</th>\n",
       "      <th>DMC</th>\n",
       "      <th>DC</th>\n",
       "      <th>ISI</th>\n",
       "      <th>temp</th>\n",
       "      <th>RH</th>\n",
       "      <th>wind</th>\n",
       "      <th>rain</th>\n",
       "      <th>month_apr</th>\n",
       "      <th>...</th>\n",
       "      <th>month_nov</th>\n",
       "      <th>month_oct</th>\n",
       "      <th>month_sep</th>\n",
       "      <th>day_fri</th>\n",
       "      <th>day_mon</th>\n",
       "      <th>day_sat</th>\n",
       "      <th>day_sun</th>\n",
       "      <th>day_thu</th>\n",
       "      <th>day_tue</th>\n",
       "      <th>day_wed</th>\n",
       "    </tr>\n",
       "  </thead>\n",
       "  <tbody>\n",
       "    <tr>\n",
       "      <th>0</th>\n",
       "      <td>1</td>\n",
       "      <td>0.395645</td>\n",
       "      <td>0.324517</td>\n",
       "      <td>0.611867</td>\n",
       "      <td>0.111110</td>\n",
       "      <td>0.543906</td>\n",
       "      <td>-0.592774</td>\n",
       "      <td>-1.279994</td>\n",
       "      <td>-0.078087</td>\n",
       "      <td>-0.147214</td>\n",
       "      <td>...</td>\n",
       "      <td>-0.055132</td>\n",
       "      <td>-0.176777</td>\n",
       "      <td>1.385768</td>\n",
       "      <td>-0.456937</td>\n",
       "      <td>-0.427546</td>\n",
       "      <td>-0.412568</td>\n",
       "      <td>-0.5</td>\n",
       "      <td>-0.366088</td>\n",
       "      <td>-0.349927</td>\n",
       "      <td>3.000000</td>\n",
       "    </tr>\n",
       "    <tr>\n",
       "      <th>1</th>\n",
       "      <td>1</td>\n",
       "      <td>0.262909</td>\n",
       "      <td>0.616453</td>\n",
       "      <td>0.447616</td>\n",
       "      <td>1.422454</td>\n",
       "      <td>0.386214</td>\n",
       "      <td>-0.773899</td>\n",
       "      <td>-0.534316</td>\n",
       "      <td>-0.078087</td>\n",
       "      <td>-0.147214</td>\n",
       "      <td>...</td>\n",
       "      <td>-0.055132</td>\n",
       "      <td>-0.176777</td>\n",
       "      <td>-0.721621</td>\n",
       "      <td>-0.456937</td>\n",
       "      <td>-0.427546</td>\n",
       "      <td>-0.412568</td>\n",
       "      <td>-0.5</td>\n",
       "      <td>-0.366088</td>\n",
       "      <td>2.857738</td>\n",
       "      <td>-0.333333</td>\n",
       "    </tr>\n",
       "    <tr>\n",
       "      <th>2</th>\n",
       "      <td>1</td>\n",
       "      <td>0.495198</td>\n",
       "      <td>0.416787</td>\n",
       "      <td>0.193700</td>\n",
       "      <td>2.965213</td>\n",
       "      <td>0.859291</td>\n",
       "      <td>-0.773899</td>\n",
       "      <td>1.014401</td>\n",
       "      <td>-0.078087</td>\n",
       "      <td>-0.147214</td>\n",
       "      <td>...</td>\n",
       "      <td>-0.055132</td>\n",
       "      <td>-0.176777</td>\n",
       "      <td>-0.721621</td>\n",
       "      <td>-0.456937</td>\n",
       "      <td>-0.427546</td>\n",
       "      <td>2.423840</td>\n",
       "      <td>-0.5</td>\n",
       "      <td>-0.366088</td>\n",
       "      <td>-0.349927</td>\n",
       "      <td>-0.333333</td>\n",
       "    </tr>\n",
       "    <tr>\n",
       "      <th>3</th>\n",
       "      <td>1</td>\n",
       "      <td>-0.068932</td>\n",
       "      <td>-0.917345</td>\n",
       "      <td>-0.481158</td>\n",
       "      <td>-0.660269</td>\n",
       "      <td>1.016983</td>\n",
       "      <td>-0.109773</td>\n",
       "      <td>-1.279994</td>\n",
       "      <td>-0.078087</td>\n",
       "      <td>-0.147214</td>\n",
       "      <td>...</td>\n",
       "      <td>-0.055132</td>\n",
       "      <td>-0.176777</td>\n",
       "      <td>-0.721621</td>\n",
       "      <td>-0.456937</td>\n",
       "      <td>-0.427546</td>\n",
       "      <td>2.423840</td>\n",
       "      <td>-0.5</td>\n",
       "      <td>-0.366088</td>\n",
       "      <td>-0.349927</td>\n",
       "      <td>-0.333333</td>\n",
       "    </tr>\n",
       "    <tr>\n",
       "      <th>4</th>\n",
       "      <td>1</td>\n",
       "      <td>-0.201669</td>\n",
       "      <td>-0.915833</td>\n",
       "      <td>-1.758272</td>\n",
       "      <td>0.213960</td>\n",
       "      <td>-1.295838</td>\n",
       "      <td>3.271234</td>\n",
       "      <td>-1.279994</td>\n",
       "      <td>-0.078087</td>\n",
       "      <td>-0.147214</td>\n",
       "      <td>...</td>\n",
       "      <td>-0.055132</td>\n",
       "      <td>-0.176777</td>\n",
       "      <td>-0.721621</td>\n",
       "      <td>-0.456937</td>\n",
       "      <td>-0.427546</td>\n",
       "      <td>-0.412568</td>\n",
       "      <td>2.0</td>\n",
       "      <td>-0.366088</td>\n",
       "      <td>-0.349927</td>\n",
       "      <td>-0.333333</td>\n",
       "    </tr>\n",
       "    <tr>\n",
       "      <th>...</th>\n",
       "      <td>...</td>\n",
       "      <td>...</td>\n",
       "      <td>...</td>\n",
       "      <td>...</td>\n",
       "      <td>...</td>\n",
       "      <td>...</td>\n",
       "      <td>...</td>\n",
       "      <td>...</td>\n",
       "      <td>...</td>\n",
       "      <td>...</td>\n",
       "      <td>...</td>\n",
       "      <td>...</td>\n",
       "      <td>...</td>\n",
       "      <td>...</td>\n",
       "      <td>...</td>\n",
       "      <td>...</td>\n",
       "      <td>...</td>\n",
       "      <td>...</td>\n",
       "      <td>...</td>\n",
       "      <td>...</td>\n",
       "      <td>...</td>\n",
       "    </tr>\n",
       "    <tr>\n",
       "      <th>325</th>\n",
       "      <td>1</td>\n",
       "      <td>0.196541</td>\n",
       "      <td>1.203350</td>\n",
       "      <td>0.359142</td>\n",
       "      <td>-0.248867</td>\n",
       "      <td>1.297325</td>\n",
       "      <td>-0.532399</td>\n",
       "      <td>0.268722</td>\n",
       "      <td>-0.078087</td>\n",
       "      <td>-0.147214</td>\n",
       "      <td>...</td>\n",
       "      <td>-0.055132</td>\n",
       "      <td>-0.176777</td>\n",
       "      <td>-0.721621</td>\n",
       "      <td>-0.456937</td>\n",
       "      <td>-0.427546</td>\n",
       "      <td>-0.412568</td>\n",
       "      <td>-0.5</td>\n",
       "      <td>-0.366088</td>\n",
       "      <td>-0.349927</td>\n",
       "      <td>3.000000</td>\n",
       "    </tr>\n",
       "    <tr>\n",
       "      <th>326</th>\n",
       "      <td>1</td>\n",
       "      <td>-0.317813</td>\n",
       "      <td>-0.303221</td>\n",
       "      <td>0.652731</td>\n",
       "      <td>-0.428856</td>\n",
       "      <td>-0.244556</td>\n",
       "      <td>0.675104</td>\n",
       "      <td>0.784961</td>\n",
       "      <td>-0.078087</td>\n",
       "      <td>-0.147214</td>\n",
       "      <td>...</td>\n",
       "      <td>-0.055132</td>\n",
       "      <td>-0.176777</td>\n",
       "      <td>1.385768</td>\n",
       "      <td>-0.456937</td>\n",
       "      <td>2.338929</td>\n",
       "      <td>-0.412568</td>\n",
       "      <td>-0.5</td>\n",
       "      <td>-0.366088</td>\n",
       "      <td>-0.349927</td>\n",
       "      <td>-0.333333</td>\n",
       "    </tr>\n",
       "    <tr>\n",
       "      <th>327</th>\n",
       "      <td>1</td>\n",
       "      <td>-0.201669</td>\n",
       "      <td>-0.915833</td>\n",
       "      <td>-1.758272</td>\n",
       "      <td>0.213960</td>\n",
       "      <td>-2.329600</td>\n",
       "      <td>0.856229</td>\n",
       "      <td>1.301200</td>\n",
       "      <td>-0.078087</td>\n",
       "      <td>-0.147214</td>\n",
       "      <td>...</td>\n",
       "      <td>-0.055132</td>\n",
       "      <td>-0.176777</td>\n",
       "      <td>-0.721621</td>\n",
       "      <td>-0.456937</td>\n",
       "      <td>-0.427546</td>\n",
       "      <td>-0.412568</td>\n",
       "      <td>2.0</td>\n",
       "      <td>-0.366088</td>\n",
       "      <td>-0.349927</td>\n",
       "      <td>-0.333333</td>\n",
       "    </tr>\n",
       "    <tr>\n",
       "      <th>328</th>\n",
       "      <td>1</td>\n",
       "      <td>0.063804</td>\n",
       "      <td>0.221659</td>\n",
       "      <td>0.559894</td>\n",
       "      <td>-0.454568</td>\n",
       "      <td>0.438778</td>\n",
       "      <td>-0.170148</td>\n",
       "      <td>-1.050555</td>\n",
       "      <td>-0.078087</td>\n",
       "      <td>-0.147214</td>\n",
       "      <td>...</td>\n",
       "      <td>-0.055132</td>\n",
       "      <td>-0.176777</td>\n",
       "      <td>1.385768</td>\n",
       "      <td>-0.456937</td>\n",
       "      <td>2.338929</td>\n",
       "      <td>-0.412568</td>\n",
       "      <td>-0.5</td>\n",
       "      <td>-0.366088</td>\n",
       "      <td>-0.349927</td>\n",
       "      <td>-0.333333</td>\n",
       "    </tr>\n",
       "    <tr>\n",
       "      <th>329</th>\n",
       "      <td>1</td>\n",
       "      <td>0.511790</td>\n",
       "      <td>1.864366</td>\n",
       "      <td>0.705101</td>\n",
       "      <td>0.342524</td>\n",
       "      <td>0.368692</td>\n",
       "      <td>1.278855</td>\n",
       "      <td>0.498162</td>\n",
       "      <td>-0.078087</td>\n",
       "      <td>-0.147214</td>\n",
       "      <td>...</td>\n",
       "      <td>-0.055132</td>\n",
       "      <td>-0.176777</td>\n",
       "      <td>-0.721621</td>\n",
       "      <td>-0.456937</td>\n",
       "      <td>-0.427546</td>\n",
       "      <td>-0.412568</td>\n",
       "      <td>2.0</td>\n",
       "      <td>-0.366088</td>\n",
       "      <td>-0.349927</td>\n",
       "      <td>-0.333333</td>\n",
       "    </tr>\n",
       "  </tbody>\n",
       "</table>\n",
       "<p>330 rows × 28 columns</p>\n",
       "</div>"
      ],
      "text/plain": [
       "     bias      FFMC       DMC        DC       ISI      temp        RH  \\\n",
       "0       1  0.395645  0.324517  0.611867  0.111110  0.543906 -0.592774   \n",
       "1       1  0.262909  0.616453  0.447616  1.422454  0.386214 -0.773899   \n",
       "2       1  0.495198  0.416787  0.193700  2.965213  0.859291 -0.773899   \n",
       "3       1 -0.068932 -0.917345 -0.481158 -0.660269  1.016983 -0.109773   \n",
       "4       1 -0.201669 -0.915833 -1.758272  0.213960 -1.295838  3.271234   \n",
       "..    ...       ...       ...       ...       ...       ...       ...   \n",
       "325     1  0.196541  1.203350  0.359142 -0.248867  1.297325 -0.532399   \n",
       "326     1 -0.317813 -0.303221  0.652731 -0.428856 -0.244556  0.675104   \n",
       "327     1 -0.201669 -0.915833 -1.758272  0.213960 -2.329600  0.856229   \n",
       "328     1  0.063804  0.221659  0.559894 -0.454568  0.438778 -0.170148   \n",
       "329     1  0.511790  1.864366  0.705101  0.342524  0.368692  1.278855   \n",
       "\n",
       "         wind      rain  month_apr  ...  month_nov  month_oct  month_sep  \\\n",
       "0   -1.279994 -0.078087  -0.147214  ...  -0.055132  -0.176777   1.385768   \n",
       "1   -0.534316 -0.078087  -0.147214  ...  -0.055132  -0.176777  -0.721621   \n",
       "2    1.014401 -0.078087  -0.147214  ...  -0.055132  -0.176777  -0.721621   \n",
       "3   -1.279994 -0.078087  -0.147214  ...  -0.055132  -0.176777  -0.721621   \n",
       "4   -1.279994 -0.078087  -0.147214  ...  -0.055132  -0.176777  -0.721621   \n",
       "..        ...       ...        ...  ...        ...        ...        ...   \n",
       "325  0.268722 -0.078087  -0.147214  ...  -0.055132  -0.176777  -0.721621   \n",
       "326  0.784961 -0.078087  -0.147214  ...  -0.055132  -0.176777   1.385768   \n",
       "327  1.301200 -0.078087  -0.147214  ...  -0.055132  -0.176777  -0.721621   \n",
       "328 -1.050555 -0.078087  -0.147214  ...  -0.055132  -0.176777   1.385768   \n",
       "329  0.498162 -0.078087  -0.147214  ...  -0.055132  -0.176777  -0.721621   \n",
       "\n",
       "      day_fri   day_mon   day_sat  day_sun   day_thu   day_tue   day_wed  \n",
       "0   -0.456937 -0.427546 -0.412568     -0.5 -0.366088 -0.349927  3.000000  \n",
       "1   -0.456937 -0.427546 -0.412568     -0.5 -0.366088  2.857738 -0.333333  \n",
       "2   -0.456937 -0.427546  2.423840     -0.5 -0.366088 -0.349927 -0.333333  \n",
       "3   -0.456937 -0.427546  2.423840     -0.5 -0.366088 -0.349927 -0.333333  \n",
       "4   -0.456937 -0.427546 -0.412568      2.0 -0.366088 -0.349927 -0.333333  \n",
       "..        ...       ...       ...      ...       ...       ...       ...  \n",
       "325 -0.456937 -0.427546 -0.412568     -0.5 -0.366088 -0.349927  3.000000  \n",
       "326 -0.456937  2.338929 -0.412568     -0.5 -0.366088 -0.349927 -0.333333  \n",
       "327 -0.456937 -0.427546 -0.412568      2.0 -0.366088 -0.349927 -0.333333  \n",
       "328 -0.456937  2.338929 -0.412568     -0.5 -0.366088 -0.349927 -0.333333  \n",
       "329 -0.456937 -0.427546 -0.412568      2.0 -0.366088 -0.349927 -0.333333  \n",
       "\n",
       "[330 rows x 28 columns]"
      ]
     },
     "metadata": {},
     "output_type": "display_data"
    }
   ],
   "source": [
    "# Example of how to call data_prep which returns data as NumPy Arrays\n",
    "data = data_prep(forestfire_df, drop_features=['X', 'Y'])\n",
    "X_trn, y_trn, X_vld, y_vld, X_tst, y_tst = data\n",
    "\n",
    "print(f\"Type example for X_trn: {type(X_trn.columns)}\")\n",
    "\n",
    "display(X_trn)\n",
    "\n",
    "garbage_collect([ 'X_trn', 'y_trn', 'X_vld', 'y_vld', 'X_tst', 'y_tst'])"
   ]
  },
  {
   "cell_type": "markdown",
   "metadata": {
    "id": "54ijuTvKB_aI"
   },
   "source": [
    "# Applying Ordinary Least Squares\n",
    "Finally, it's time to apply least squares to our data in an attempt to develop a model for predicting burned forest area! Recall that the least squares formula is used to generate weights $\\wv$ that produce a model that best fits our training data. Recall we define the \"best fit\" by our cost function which would be *mean squared error (MSE)*. Thus, we want to learn the weights that produce the smallest MSE or, alternatively, the smallest *sum of squared error (SSE)*.\n",
    "\n",
    "Remember the ordinary least squares equation is as follows:\n",
    "\n",
    "$$\n",
    "\\wv = (\\xm^\\top \\xm)^{-1} \\xm^\\top \\yv.\n",
    "$$\n",
    "\n",
    "We can then make predictions using the weights by taking the dot product between our data and waits as follows:\n",
    "\n",
    "$$\n",
    "\\hat{\\yv} = \\xm \\wv.\n",
    "$$\n",
    "Further recall that we have already observed, in this lab and the data visualization lab, that there doesn't seem to be a single feature that possess a strong correlation or linear trend with our target 'area'. Thus, we will only try applying multiple least squares where we utilize all or some of our features for learning!"
   ]
  },
  {
   "cell_type": "markdown",
   "metadata": {
    "id": "PyHRJ_FdB_aJ"
   },
   "source": [
    "## Defining Ordinary Least Squares"
   ]
  },
  {
   "cell_type": "markdown",
   "metadata": {
    "id": "EIssHHVNB_aJ"
   },
   "source": [
    "#### TODO 8\n",
    "Complete the following TODO by finishing creating a class called `OrdinaryLeastSquares`.\n",
    "\n",
    "1. Define a class called `OrdinaryLeastSquares` that contains the following methods:\n",
    "    1. Define the constructor method called `__init__()`. This method should not take any arguments other than `self` as it is a method. \n",
    "        1. This method should also initialize our weights variable. Do so by declaring a variable called `self.w` and setting it equal to `None`.\n",
    "    2. Define a method called `fit()` which will apply our OLS equation. This method should take 3 arguments: `self`, `X` which corresponds to the passed data, and `y` which corresponds to the passed targets. \n",
    "        1. Convert the above OLS algorithm into code. Store the output into `self.w` since the equation provides us with the weights that minimize our MSE cost function. Here `X` corresponds to $X$ and `y` corresponds to $y$. See this weeks notes if you are struggling!\n",
    "            1. Hint: Use Numpy's `@` symbol or `np.dot` to compute the dot products.\n",
    "            1. Hint: Use the `.T` NumPy array variable to apply the transpose.\n",
    "            1. Hint: Try using Numpy's [`linalg.pinv()`](https://docs.scipy.org/doc/numpy/reference/generated/numpy.linalg.pinv.html) to calculate the pseudo inverse ([docs](https://numpy.org/doc/stable/reference/generated/numpy.linalg.pinv.html)).\n",
    "    3. Define a method called `predict()` which will make a prediction using our weights `self.w` that are learned when we call `fit()`. This method should take 2 arguments: `self` and `X` which corresponds to the passed data. Finally, this method should return our predictions.\n",
    "        1. Hint: Recall that to make predictions we take the linear combination of our data `X` and weights `self.w`. In other words, we simply take the dot product between the two."
   ]
  },
  {
   "cell_type": "code",
   "execution_count": 234,
   "metadata": {
    "id": "AiVoGYcgB_aJ"
   },
   "outputs": [],
   "source": [
    "# TODO 8.1\n",
    "class OrdinaryLeastSquares():\n",
    "    def __init__(self):\n",
    "        self.w = None\n",
    "        \n",
    "    def fit(self, X, y):\n",
    "        self.w = np.linalg.pinv(X.T @ X) @ X.T @ y\n",
    "        \n",
    "    def predict(self, X):\n",
    "        return X@self.w"
   ]
  },
  {
   "cell_type": "markdown",
   "metadata": {
    "id": "I--ua_ukB_aJ"
   },
   "source": [
    "## Training\n",
    "\n",
    "Run the below code to test your `OrdinaryLeastSquares` implementation. \n",
    "\n",
    "Notice that we get our data with `return_array=True` as we want to use NumPy arrays when running our ML algorithms for faster performance and to avoid any headaches and slowdowns Pandas can encounter when performing linear algebra operations.\n",
    "\n",
    "Also note that we use underscores to indicate `_` an empty place holder for the testing data. Recall that we don't want to utilize our testing data until the very end when we can have selected our best model. Thus, we only need the training and validation data for now.\n",
    "\n",
    "``` Python\n",
    "X_trn, y_trn, X_vld, y_vld, _, _ = data_prep(forestfire_df, \n",
    "                                             return_array=True)\n",
    "```\n",
    "\n",
    "Further note that we can make predictions using our **training data** in order to see how well our weights actually modeled our training data.\n",
    "\n",
    "```Python\n",
    "y_hat = ols.predict(X_trn)\n",
    "```"
   ]
  },
  {
   "cell_type": "code",
   "execution_count": 235,
   "metadata": {
    "id": "1Nw2fwKYB_aJ"
   },
   "outputs": [],
   "source": [
    "# Get our data and return them as NumPy arrays\n",
    "X_trn, y_trn, X_vld, y_vld, _, _ = data_prep(forestfire_df, \n",
    "                                             return_array=True)\n",
    "\n",
    "ols = OrdinaryLeastSquares()\n",
    "\n",
    "# Fit our data and learn \"best\" weights for training data\n",
    "ols.fit(X_trn, y_trn)\n",
    "\n",
    "# Check how well our weights learned our TRAIN data\n",
    "y_hat_trn = ols.predict(X_trn)"
   ]
  },
  {
   "cell_type": "code",
   "execution_count": 236,
   "metadata": {
    "id": "fZ0Y_gxiB_aJ",
    "outputId": "d824ea63-e650-4aa6-a022-921f6b723b01",
    "scrolled": true
   },
   "outputs": [
    {
     "data": {
      "text/plain": [
       "array([1.2725656 , 0.        , 0.        , 0.88789126, 0.        ,\n",
       "       0.        , 1.07840958, 2.28747146, 1.39871688, 2.75238601,\n",
       "       3.22803376, 2.11745961, 0.        , 0.        , 0.        ,\n",
       "       5.63310962, 3.67579421, 1.141033  , 2.19722458, 4.27332722,\n",
       "       2.12823171, 2.02022218, 0.        , 3.24220165, 0.82855182,\n",
       "       2.52812577, 0.64185389, 0.        , 3.04594999, 0.        ,\n",
       "       0.        , 1.1568812 , 1.30562646, 0.        , 2.40964417,\n",
       "       0.        , 2.49815188, 2.48989419, 0.        , 5.04908648,\n",
       "       2.05796251, 0.        , 1.82937633, 1.84530024, 3.3116373 ,\n",
       "       0.        , 0.94000726, 2.39425228, 1.50851199, 1.59938758,\n",
       "       0.        , 0.        , 0.        , 0.        , 2.00552586,\n",
       "       0.        , 0.35767444, 0.69813472, 0.        , 0.        ,\n",
       "       0.        , 0.        , 0.        , 0.78390154, 0.        ,\n",
       "       1.01160091, 1.06471074, 0.        , 0.        , 2.37676449,\n",
       "       0.        , 0.        , 4.64813389, 0.        , 0.        ,\n",
       "       1.59736533, 0.        , 1.10856262, 0.        , 0.        ,\n",
       "       0.66782937, 3.37382618, 0.        , 3.78123072, 4.17592455,\n",
       "       0.96698385, 0.54232429, 0.75141609, 0.        , 4.4710672 ,\n",
       "       2.8524391 , 0.        , 0.        , 1.07840958, 0.57097955,\n",
       "       0.        , 0.        , 0.        , 0.        , 3.29583687,\n",
       "       0.        , 0.        , 0.43825493, 1.1442228 , 0.        ,\n",
       "       0.        , 2.39425228, 0.        , 1.59533899, 0.        ,\n",
       "       0.        , 1.09861229, 0.        , 0.        , 2.57870053,\n",
       "       4.04375278, 1.43270073, 0.74193734, 0.98954119, 1.5040774 ,\n",
       "       2.48989419, 1.47017585, 0.        , 2.80032548, 1.71018782,\n",
       "       0.        , 0.        , 0.        , 1.01523068, 1.29198368,\n",
       "       2.83321334, 3.63811234, 2.26072089, 0.51879379, 2.9601051 ,\n",
       "       1.16627094, 0.        , 0.        , 2.02946317, 0.        ,\n",
       "       3.49225611, 0.47623418, 0.        , 0.        , 3.44425687,\n",
       "       0.        , 1.20896035, 2.51122396, 0.        , 0.        ,\n",
       "       0.        , 0.        , 3.96613233, 2.40514168, 0.21511138,\n",
       "       0.        , 3.91939576, 2.47905624, 0.        , 0.        ,\n",
       "       0.        , 0.        , 1.40854497, 2.1029139 , 4.66964621,\n",
       "       1.1442228 , 0.        , 0.        , 0.        , 0.        ,\n",
       "       2.57261223, 0.        , 0.        , 0.        , 1.89461685,\n",
       "       0.        , 0.        , 2.90142159, 0.        , 3.41707073,\n",
       "       1.53471437, 0.        , 0.        , 0.15700375, 3.6076694 ,\n",
       "       0.        , 1.95160817, 0.81536481, 3.22843004, 0.90016135,\n",
       "       0.73716407, 0.        , 0.        , 0.        , 0.        ,\n",
       "       1.12167756, 0.        , 0.        , 1.01160091, 0.        ,\n",
       "       1.82131827, 3.48798651, 1.78339122, 4.26717679, 0.        ,\n",
       "       0.        , 0.90421815, 1.99877364, 2.4283363 , 1.85473427,\n",
       "       1.26129787, 0.        , 2.30058309, 0.        , 0.        ,\n",
       "       0.        , 1.32175584, 3.65609796, 2.08442908, 2.27315628,\n",
       "       0.        , 0.        , 0.        , 2.22354189, 0.        ,\n",
       "       0.        , 0.        , 1.54968791, 0.        , 3.79143604,\n",
       "       0.        , 3.69759139, 0.        , 0.        , 1.72633166,\n",
       "       0.        , 0.        , 6.61643995, 2.00552586, 2.50470928,\n",
       "       0.        , 0.19062036, 2.74534599, 0.        , 4.49412689,\n",
       "       0.        , 0.        , 1.10194008, 0.        , 0.        ,\n",
       "       1.96009478, 0.        , 1.43031125, 5.28563731, 0.        ,\n",
       "       3.38979934, 2.13771045, 0.9477894 , 0.        , 2.64333389,\n",
       "       3.39249294, 0.        , 2.19944433, 0.        , 2.61300665,\n",
       "       1.403643  , 0.        , 0.        , 0.        , 4.42783617,\n",
       "       0.28517894, 3.43977686, 3.8649314 , 2.72719902, 1.92132467,\n",
       "       3.34462703, 0.43178242, 0.        , 1.54968791, 0.97077892,\n",
       "       0.        , 0.53649337, 0.        , 0.        , 2.32922702,\n",
       "       5.30797062, 2.2104698 , 0.        , 0.        , 0.        ,\n",
       "       0.        , 1.98787435, 0.0861777 , 0.        , 0.41871033,\n",
       "       0.        , 0.        , 0.        , 0.        , 0.        ,\n",
       "       0.        , 0.        , 0.        , 1.07840958, 0.67294447,\n",
       "       0.        , 0.        , 2.2700619 , 0.        , 0.        ,\n",
       "       1.78507048, 3.30064013, 1.94161522, 1.65822808, 0.97077892,\n",
       "       1.68824909, 2.17475172, 1.2669476 , 0.        , 0.        ,\n",
       "       0.        , 4.28082413, 0.        , 1.53255687, 0.        ,\n",
       "       5.22982437, 0.        , 0.        , 0.        , 2.79361609])"
      ]
     },
     "execution_count": 236,
     "metadata": {},
     "output_type": "execute_result"
    }
   ],
   "source": [
    "y_trn"
   ]
  },
  {
   "cell_type": "markdown",
   "metadata": {
    "id": "1yKNWfuvB_aJ"
   },
   "source": [
    "Let's visualize our predications and compare them to our labels. How do think our weights are doing at modeling the training data?"
   ]
  },
  {
   "cell_type": "code",
   "execution_count": 237,
   "metadata": {
    "id": "ptNN5KpAB_aK",
    "outputId": "663aa3c1-dbc9-4f6e-e22e-52583e36fd63"
   },
   "outputs": [
    {
     "data": {
      "image/png": "[encoded data removed]",
      "text/plain": [
       "<Figure size 432x288 with 1 Axes>"
      ]
     },
     "metadata": {
      "needs_background": "light"
     },
     "output_type": "display_data"
    }
   ],
   "source": [
    "plt.plot(y_trn, 'ob')\n",
    "plt.plot(y_hat_trn, 'xr')\n",
    "plt.xlabel('data sample index')\n",
    "plt.ylabel(\"log area\")\n",
    "plt.title(\"Training Predictions Log Transform\")\n",
    "plt.show()"
   ]
  },
  {
   "cell_type": "markdown",
   "metadata": {
    "id": "K348ycw-B_aK"
   },
   "source": [
    "Well, it doesn't look awful, but it's also hard to tell which prediction lines up with which label. We can short of tell most of our predictions are centered around the value 1.\n",
    "\n",
    "We can confirm this by looking at the mean and STD of our predictions."
   ]
  },
  {
   "cell_type": "code",
   "execution_count": 238,
   "metadata": {
    "id": "tMBseCOwB_aK",
    "outputId": "8a9f330e-cd66-4dea-b43f-040bc21b915d"
   },
   "outputs": [
    {
     "data": {
      "text/plain": [
       "1.1587072234679385"
      ]
     },
     "execution_count": 238,
     "metadata": {},
     "output_type": "execute_result"
    }
   ],
   "source": [
    "y_hat_trn.mean()"
   ]
  },
  {
   "cell_type": "code",
   "execution_count": 239,
   "metadata": {
    "id": "VvHddKNkB_aN",
    "outputId": "d4a77a43-0c9e-4843-ae3b-2282a5a039f2"
   },
   "outputs": [
    {
     "data": {
      "text/plain": [
       "0.4730434660946137"
      ]
     },
     "execution_count": 239,
     "metadata": {},
     "output_type": "execute_result"
    }
   ],
   "source": [
    "y_hat_trn.std()"
   ]
  },
  {
   "cell_type": "markdown",
   "metadata": {
    "id": "-xp89LBWB_aN"
   },
   "source": [
    "Note if we wanted to convert our predictions for the 'area' back to thier original units, which were given in [hectare](https://en.wikipedia.org/wiki/Hectare), we can reverse the log transform by doing $e^{y} -1$ as `np.log` uses log base $e$ by default."
   ]
  },
  {
   "cell_type": "code",
   "execution_count": 240,
   "metadata": {
    "id": "BWOvVkx2B_aN",
    "outputId": "aa58245a-b7c2-4da5-ecbe-f555ff144a28"
   },
   "outputs": [
    {
     "data": {
      "image/png": "[encoded data removed]",
      "text/plain": [
       "<Figure size 432x288 with 1 Axes>"
      ]
     },
     "metadata": {
      "needs_background": "light"
     },
     "output_type": "display_data"
    }
   ],
   "source": [
    "plt.plot(np.exp(y_trn)-1, 'ob')\n",
    "plt.plot(np.exp(y_hat_trn)-1, 'xr')\n",
    "plt.xlabel('data sample index')\n",
    "plt.ylabel(\"area in hectare (ha)\")\n",
    "plt.title(\"Training Predictions in Hectares\")\n",
    "plt.show()"
   ]
  },
  {
   "cell_type": "markdown",
   "metadata": {
    "id": "smsGFrg7B_aN"
   },
   "source": [
    "Notice we can tell even less about what is happening since the units are too large and spread out."
   ]
  },
  {
   "cell_type": "markdown",
   "metadata": {
    "id": "3vuu6MASB_aO"
   },
   "source": [
    "Let's now compute our training error and some other performance measures for our data so we can get a better idea for how well the learned weights are modeling the training data. Recall we'll need to compute MSE to get a summary of how well our model is performing which is defined as follows:\n",
    "\n",
    "$$\n",
    "MSE  = \\frac{1}{m}\\sum_{i=0}^m (\\hat{y} - y)^2\n",
    "$$ \n",
    "\n",
    "Note that we are going to define a new cost function that acts as a very useful performance metric called *Root Mean Squared Error (RMSE)* which is defined as follows:\n",
    "\n",
    "$$\n",
    "RMSE  = \\sqrt{\\frac{1}{m}\\sum_{i=0}^m (\\hat{y} - y)^2}\n",
    "$$ \n",
    "\n",
    "All this does is take the square root of the MSE which then cancels out the squared error. This allows us to **get our error in the same units as our target** 'area'.\n",
    "\n",
    "#### TODO 9\n",
    "Complete the following TODO by finishing the `error()`, `mse()`, and `rmse()` functions. \n",
    "1. Compute the error (difference) between our predictions `y_hat` and `y` (do NOT sum). Return the output.\n",
    "2. Compute the MSE between our predictions `y_hat` and `y`. Return the output.\n",
    "    1. Hint: Feel free to call the `error()` function as part of this function if you want.\n",
    "    1. Hint: try using the NumPy `mean()` function and refer to out notes if you get stuck.\n",
    "3. Compute the RMSE between our predictions `y_hat` and `y`. Return the output.\n",
    "    1. Hint: Feel free to call the `mse()` function as part of this function if you want.\n",
    "    2. Hint: try using the NumPy `sqrt()` function,\n",
    "\n",
    "\n",
    "*Below we also define a function called `performance_measures()` which will compute and return our errors, SSE, MSE, and RMSE!*"
   ]
  },
  {
   "cell_type": "code",
   "execution_count": 241,
   "metadata": {
    "id": "CPnrfbrEB_aO"
   },
   "outputs": [],
   "source": [
    "def error(y, y_hat):\n",
    "    # TODO 9.1\n",
    "    return (y_hat-y)\n",
    "\n",
    "def mse(y, y_hat):\n",
    "    # TODO 9.2\n",
    "    return np.mean((error(y,y_hat)**2))\n",
    "\n",
    "def rmse(y, y_hat):\n",
    "    # TODO 9.3\n",
    "    return np.sqrt(mse(y,y_hat))\n",
    "\n",
    "def performance_measures(y: np.ndarray, y_hat: np.ndarray) -> Tuple[np.ndarray]:\n",
    "    err = error(y, y_hat)\n",
    "    sse = np.sum(err**2)\n",
    "    mse_ = mse(y, y_hat)\n",
    "    rmse_ = rmse(y, y_hat)\n",
    "    return err, sse, mse_, rmse_\n"
   ]
  },
  {
   "cell_type": "markdown",
   "metadata": {
    "id": "Y2xqf9MEB_aO"
   },
   "source": [
    "Run the below code to check your implementations. Take a second to observe the values for MSE, RMSE, and SSE."
   ]
  },
  {
   "cell_type": "code",
   "execution_count": 242,
   "metadata": {
    "id": "aO0RFm94B_aO",
    "outputId": "ca467ef3-7300-4df8-a76b-903d3c0ad0b6"
   },
   "outputs": [
    {
     "name": "stdout",
     "output_type": "stream",
     "text": [
      "Train MSE: 1.7974549413600216\n",
      "Train RMSE: 1.3406919636366967\n",
      "Train SSE: 593.1601306488071\n",
      "Your code PASSED the code check!\n"
     ]
    }
   ],
   "source": [
    "trn_scores = performance_measures(y=y_trn, y_hat=y_hat_trn)\n",
    "trn_error, trn_sse, trn_mse, trn_rmse = trn_scores\n",
    "\n",
    "print(f\"Train MSE: {trn_mse}\")\n",
    "print(f\"Train RMSE: {trn_rmse}\")\n",
    "print(f\"Train SSE: {trn_sse}\")\n",
    "\n",
    "todo_check([\n",
    "    (np.isclose(trn_mse, 1.797454941360022, rtol=.01), 'trn_mse values is wrong!'),\n",
    "    (np.isclose(trn_rmse, 1.3406919636366967, rtol=.01),'trn_rmse values is wrong!'),\n",
    "    (np.isclose(trn_sse, 593.1601306488072, rtol=.01),'trn_sse values is wrong!'),\n",
    "])"
   ]
  },
  {
   "cell_type": "markdown",
   "metadata": {
    "id": "nAySUacZB_aP"
   },
   "source": [
    "Hmm the question is whether our MSE and RMSE values are good. We'll take a deeper look at the answer to this question here soon. First, let's quickly define the function `analyze()` which computes our performance measure scores and plots our targets/predictions for us. Then, let's see what our validation scores are like!"
   ]
  },
  {
   "cell_type": "code",
   "execution_count": 243,
   "metadata": {
    "id": "jQBacaCaB_aP"
   },
   "outputs": [],
   "source": [
    "def analyze(\n",
    "    y: np.ndarray, \n",
    "    y_hat: np.ndarray,\n",
    "    title: str, \n",
    "    dataset: str,\n",
    "    xlabel: str = None,\n",
    "    ylabel: str = None\n",
    ") -> Tuple[np.ndarray]:\n",
    "    \"\"\" Plot your results and compute perforamnce measures \n",
    "        using your predictions and labels.\n",
    "    \"\"\"\n",
    "    \n",
    "    err, sse, mse_, rmse_ = performance_measures(y=y, y_hat=y_hat)\n",
    "    \n",
    "    plt.plot(y, 'ob')\n",
    "    plt.plot(y_hat, 'xr')\n",
    "    plt.xlabel(xlabel)\n",
    "    plt.ylabel(ylabel)\n",
    "    plt.title(title)\n",
    "    plt.show()\n",
    "    \n",
    "    print(f\"{dataset} MSE: {mse_}\")\n",
    "    print(f\"{dataset} RMSE: {rmse_}\")\n",
    "    print(f\"{dataset} SSE: {sse}\")\n",
    "    \n",
    "    return err, sse, mse_, rmse_"
   ]
  },
  {
   "cell_type": "markdown",
   "metadata": {
    "id": "UwEYW3GZB_aP"
   },
   "source": [
    "## Validation\n",
    "Now let's see how our learned model performs on our validation data set.\n",
    "\n",
    "#### TODO 10\n",
    "Complete the todo by making predictions for our `X_vld` data.\n",
    "\n",
    "1. Using our `ols` make predictions for our `X_vld` data using the `predict()` method. Store the output into `y_hat_vld`."
   ]
  },
  {
   "cell_type": "code",
   "execution_count": 244,
   "metadata": {
    "id": "5TtaEBY-B_aQ",
    "outputId": "e1e03018-0536-4e6f-ba02-41b9dc4bffd6"
   },
   "outputs": [
    {
     "data": {
      "image/png": "[encoded data removed]",
      "text/plain": [
       "<Figure size 432x288 with 1 Axes>"
      ]
     },
     "metadata": {
      "needs_background": "light"
     },
     "output_type": "display_data"
    },
    {
     "name": "stdout",
     "output_type": "stream",
     "text": [
      "Validation MSE: 5.574843910551195\n",
      "Validation RMSE: 2.361110736613426\n",
      "Validation SSE: 462.7120445757492\n",
      "Your code PASSED the code check!\n"
     ]
    }
   ],
   "source": [
    "# TODO 10.1\n",
    "y_hat_vld = ols.predict(X_vld)\n",
    "\n",
    "vld_scores = analyze(\n",
    "    y=y_vld,\n",
    "    y_hat=y_hat_vld,\n",
    "    title=\"Validation Predictions Log Transform\",\n",
    "    dataset=\"Validation\",\n",
    "    xlabel=\"Data Sample Index\",\n",
    "    ylabel=\"Log Area\")\n",
    "\n",
    "_, vld_sse, vld_mse, vld_rmse = vld_scores\n",
    "\n",
    "\n",
    "todo_check([\n",
    "    (np.isclose(vld_mse, 5.574843910551131, rtol=.01), 'vld_mse values is wrong!'),\n",
    "    (np.isclose(vld_rmse, 2.3611107366134125, rtol=.01), 'vld_rmse values is wrong!'),\n",
    "    (np.isclose(vld_sse, 462.7120445757439, rtol=.01), 'vld_sse values is wrong!'),\n",
    "])"
   ]
  },
  {
   "cell_type": "markdown",
   "metadata": {
    "id": "OaMNv2BKB_aQ"
   },
   "source": [
    "At first glance this plot looks better. However, we can see the RMSE and MSE are much higher than our training data. When transform the predictions back to hectares we can see some of our predictions are vastly off."
   ]
  },
  {
   "cell_type": "code",
   "execution_count": 245,
   "metadata": {
    "id": "jOHYrNLtB_aQ",
    "outputId": "b7df2c09-f9d2-449c-e1f2-20303a89f807"
   },
   "outputs": [
    {
     "data": {
      "image/png": "[encoded data removed]",
      "text/plain": [
       "<Figure size 432x288 with 1 Axes>"
      ]
     },
     "metadata": {
      "needs_background": "light"
     },
     "output_type": "display_data"
    }
   ],
   "source": [
    "plt.plot(np.exp(y_vld)-1, 'ob')\n",
    "plt.plot(np.exp(y_hat_vld)-1, 'xr')\n",
    "plt.xlabel('data sample index')\n",
    "plt.ylabel(\"area in hectare (ha)\")\n",
    "plt.title(\"Validation Predictions in Hectares\")\n",
    "plt.show()"
   ]
  },
  {
   "cell_type": "markdown",
   "metadata": {
    "id": "EeWKorGlB_aQ"
   },
   "source": [
    "## Analyzing Performance\n",
    "\n",
    "### Looking at RMSE  performance\n",
    "\n",
    "It turns out our MSE and RMSE values for our training and validation are actually pretty high.  \n",
    "\n",
    "Let's focus on the RMSE for our analysis as the training and validation RMSE  tells us our error with respect to the original units. \n",
    "<!-- This means if our error for predicting stock market prices was 1.9 then on average our predictions are off by $1.90.  -->\n",
    "\n",
    "In terms of our data, this tells us how many hectare (ha) on average our predictions are off by. Below is a visualize for the size of a hectare for reference.\n",
    "\n",
    "![](https://i.pinimg.com/736x/66/2e/3e/662e3e176afae29d9c59e95f53675bd3--acre-vs.jpg)"
   ]
  },
  {
   "cell_type": "markdown",
   "metadata": {
    "id": "SOHBF1wkB_aR"
   },
   "source": [
    "Having a rough idea for the size of a hectare, let's see how much we are off on average. \n",
    "\n",
    "Below we define the `unlog()` function which will undo the log transformation that was applied to our targets 'area' and in turn is inherently applied to our predictions. Recall that since our targets `y` have had the log transform applied to them, our predictions will then try to predict values on the same scale. Thus, our RMSE will be given in the same scale as the predicted and target values.\n",
    "\n",
    "#### TODO 11\n",
    "Complete the TODO by defining the `unlog()` function by converting the equation $e^{x} -1$ for reversing the log transform into code. Recall we use $e^x$ as `np.log` uses log base $e$ by default.\n",
    "\n",
    "1. Define a function called `unlog()`. It should take `x` its only argument.\n",
    "    1. Convert the reverse of the log transform for any input `x` and return the output.\n",
    "        1. Hint: Use the above equation to complete this TODO. You can use `np.exp()` function to represent the natural exponent $e$."
   ]
  },
  {
   "cell_type": "code",
   "execution_count": 246,
   "metadata": {
    "id": "ADH-b045B_aR",
    "outputId": "d6da29f9-45ca-42c0-d702-32b10f3e1bc0"
   },
   "outputs": [
    {
     "name": "stdout",
     "output_type": "stream",
     "text": [
      "Train RMSE: 2.8216870591150642 ha\n",
      "Validation RMSE: 9.602721745620691 ha\n",
      "Your code PASSED the code check!\n"
     ]
    }
   ],
   "source": [
    "# TODO 11.1\n",
    "def unlog(x):\n",
    "    return np.exp(x) - 1\n",
    "\n",
    "trn_rmse_ha = unlog(trn_rmse)\n",
    "vld_rmse_ha = unlog(vld_rmse)\n",
    "\n",
    "print(f\"Train RMSE: {trn_rmse_ha} ha\")\n",
    "print(f\"Validation RMSE: {vld_rmse_ha} ha\")\n",
    "\n",
    "todo_check([\n",
    "    (np.isclose(trn_rmse_ha,  2.8216870591, rtol=.01), 'trn_rmse_ha value is incorrect!'),\n",
    "    (np.isclose(vld_rmse_ha,  9.6027217456, rtol=.01), 'vld_rmse_ha value is incorrect!'),\n",
    "])\n",
    "\n",
    "del trn_rmse_ha, vld_rmse_ha"
   ]
  },
  {
   "cell_type": "markdown",
   "metadata": {
    "id": "IcJTw-pOB_aR"
   },
   "source": [
    "So we can see our model is, on average, ~3 ha off a given training data sample while our model is ~10 ha off a given validation data sample. Depending on the accuracy needed this might be acceptable. However, ~10 ha off our validation data (i.e., unseen data) seems like a lot."
   ]
  },
  {
   "cell_type": "markdown",
   "metadata": {
    "id": "nZ4s-sOcB_aR"
   },
   "source": [
    "### Analyzing targets/labels\n",
    "\n",
    "So what might the issue be here? Why is our RMSE pretty high, even more so for validation data? We'll one issue is that our targets have a skewed distribution. Even with the log transform our targets are still skewed. See the below plot as a reminder. "
   ]
  },
  {
   "cell_type": "code",
   "execution_count": 247,
   "metadata": {
    "id": "9L69IzZvB_aR",
    "outputId": "0d2cedcc-3572-4d81-835f-556a61e96aa3"
   },
   "outputs": [
    {
     "data": {
      "image/png": "[encoded data removed]",
      "text/plain": [
       "<Figure size 432x288 with 1 Axes>"
      ]
     },
     "metadata": {
      "needs_background": "light"
     },
     "output_type": "display_data"
    }
   ],
   "source": [
    "# Apply pre-split cleaning\n",
    "cleaner_df = before_pipeline(forestfire_df)\n",
    "# Apply feature and label splitting\n",
    "X, y = feature_label_split(cleaner_df)\n",
    "\n",
    "plt.hist(y)\n",
    "plt.xlabel('log area value')\n",
    "plt.ylabel('number of occurances')\n",
    "plt.title(\"Log Area Value Counts\")\n",
    "plt.show()\n",
    "\n",
    "del X, y, cleaner_df"
   ]
  },
  {
   "cell_type": "markdown",
   "metadata": {
    "id": "kioxtOpkB_aR"
   },
   "source": [
    "So why does a skewed or heavy tailed distribution distort our results? This relates to another issue regarding **data balance**. If we recall many of our target values (burned forest area values) were 0. However, a further issue is that many of our none zero values are also near zero! Having so many values near and at 0 can influence our predictions by biasing the algorithm towards predicting values closer to 0.\n",
    "The model will predict lots of zeros lazily. \n",
    "\n",
    "Further, it is typical for validation scores to be worse than training scores as the data has not been seen before. However, if your validation RMSE or MSE is much significantly higher, this could indicate our model is overfitting to the training data and thus failing to generalize to new unseen data! "
   ]
  },
  {
   "cell_type": "markdown",
   "metadata": {
    "id": "gVnOgR3_B_aS"
   },
   "source": [
    "### Analyzing weight values\n",
    "\n",
    "Let's now look at our weights. What do you think the weight values represent?"
   ]
  },
  {
   "cell_type": "code",
   "execution_count": 248,
   "metadata": {
    "id": "nx85TKjAB_aS",
    "outputId": "b88e917a-0a2c-480d-dcd2-5032b9a3b1d3"
   },
   "outputs": [
    {
     "data": {
      "text/plain": [
       "array([ 1.15870722,  0.17463344,  0.0469797 ,  0.0726667 ,  0.36799776,\n",
       "       -0.65727664, -0.05196925,  0.24519706,  0.10619986,  0.06702135,\n",
       "       -0.12916433, -0.1576489 , -0.0900321 ,  0.17030006, -0.04714236,\n",
       "       -0.01147216, -0.0955457 , -0.14109477, -0.28416465,  0.11462751,\n",
       "       -0.08519655,  0.10327673,  0.37139444, -0.05217581,  0.02084817,\n",
       "        0.07904557, -0.05881664, -0.00309924,  0.07641145, -0.04991833])"
      ]
     },
     "execution_count": 248,
     "metadata": {},
     "output_type": "execute_result"
    }
   ],
   "source": [
    "ols.w"
   ]
  },
  {
   "cell_type": "markdown",
   "metadata": {
    "id": "7LeLvkU2B_aS"
   },
   "source": [
    "Notice the largest weight is for the bias as this controls the y-intercept.(We can think of the bias as controlling a y-intercept like value however since we are using multiple features then we are no longer in 2D space!) \n",
    "\n",
    "Further, a bonus of linear models is that we can roughly regard the absolution value of a weight as the importance of the weight. (Note that negative values don't hold any particular significance so we take the absolute value.) However, we can only say this if **all** our features are operating on the same scale. Since we standardized our data we can say this is approximately true! \n",
    "\n",
    "Below is check to make sure our data is all operating on a similar scale (mean of 0, STD of 1)."
   ]
  },
  {
   "cell_type": "code",
   "execution_count": 249,
   "metadata": {
    "id": "mgM_JdTeB_aS",
    "outputId": "acc81e1d-18ed-4243-a635-9379c26a2a91"
   },
   "outputs": [
    {
     "data": {
      "text/html": [
       "<div>\n",
       "<style scoped>\n",
       "    .dataframe tbody tr th:only-of-type {\n",
       "        vertical-align: middle;\n",
       "    }\n",
       "\n",
       "    .dataframe tbody tr th {\n",
       "        vertical-align: top;\n",
       "    }\n",
       "\n",
       "    .dataframe thead th {\n",
       "        text-align: right;\n",
       "    }\n",
       "</style>\n",
       "<table border=\"1\" class=\"dataframe\">\n",
       "  <thead>\n",
       "    <tr style=\"text-align: right;\">\n",
       "      <th></th>\n",
       "      <th>bias</th>\n",
       "      <th>X</th>\n",
       "      <th>Y</th>\n",
       "      <th>FFMC</th>\n",
       "      <th>DMC</th>\n",
       "      <th>DC</th>\n",
       "      <th>ISI</th>\n",
       "      <th>temp</th>\n",
       "      <th>RH</th>\n",
       "      <th>wind</th>\n",
       "      <th>...</th>\n",
       "      <th>month_nov</th>\n",
       "      <th>month_oct</th>\n",
       "      <th>month_sep</th>\n",
       "      <th>day_fri</th>\n",
       "      <th>day_mon</th>\n",
       "      <th>day_sat</th>\n",
       "      <th>day_sun</th>\n",
       "      <th>day_thu</th>\n",
       "      <th>day_tue</th>\n",
       "      <th>day_wed</th>\n",
       "    </tr>\n",
       "  </thead>\n",
       "  <tbody>\n",
       "    <tr>\n",
       "      <th>count</th>\n",
       "      <td>330.0</td>\n",
       "      <td>3.300000e+02</td>\n",
       "      <td>3.300000e+02</td>\n",
       "      <td>3.300000e+02</td>\n",
       "      <td>3.300000e+02</td>\n",
       "      <td>3.300000e+02</td>\n",
       "      <td>3.300000e+02</td>\n",
       "      <td>3.300000e+02</td>\n",
       "      <td>3.300000e+02</td>\n",
       "      <td>3.300000e+02</td>\n",
       "      <td>...</td>\n",
       "      <td>3.300000e+02</td>\n",
       "      <td>3.300000e+02</td>\n",
       "      <td>3.300000e+02</td>\n",
       "      <td>3.300000e+02</td>\n",
       "      <td>3.300000e+02</td>\n",
       "      <td>3.300000e+02</td>\n",
       "      <td>3.300000e+02</td>\n",
       "      <td>3.300000e+02</td>\n",
       "      <td>3.300000e+02</td>\n",
       "      <td>3.300000e+02</td>\n",
       "    </tr>\n",
       "    <tr>\n",
       "      <th>mean</th>\n",
       "      <td>1.0</td>\n",
       "      <td>4.373606e-17</td>\n",
       "      <td>-2.545943e-16</td>\n",
       "      <td>6.936539e-15</td>\n",
       "      <td>3.229740e-17</td>\n",
       "      <td>-4.548550e-16</td>\n",
       "      <td>5.213002e-16</td>\n",
       "      <td>-7.514191e-16</td>\n",
       "      <td>-1.285167e-16</td>\n",
       "      <td>-1.311409e-15</td>\n",
       "      <td>...</td>\n",
       "      <td>1.742714e-16</td>\n",
       "      <td>2.910130e-17</td>\n",
       "      <td>6.728624e-19</td>\n",
       "      <td>5.584758e-17</td>\n",
       "      <td>1.522351e-16</td>\n",
       "      <td>9.184572e-17</td>\n",
       "      <td>1.184238e-16</td>\n",
       "      <td>-2.556877e-16</td>\n",
       "      <td>1.278439e-16</td>\n",
       "      <td>6.964126e-17</td>\n",
       "    </tr>\n",
       "    <tr>\n",
       "      <th>std</th>\n",
       "      <td>0.0</td>\n",
       "      <td>1.001519e+00</td>\n",
       "      <td>1.001519e+00</td>\n",
       "      <td>1.001519e+00</td>\n",
       "      <td>1.001519e+00</td>\n",
       "      <td>1.001519e+00</td>\n",
       "      <td>1.001519e+00</td>\n",
       "      <td>1.001519e+00</td>\n",
       "      <td>1.001519e+00</td>\n",
       "      <td>1.001519e+00</td>\n",
       "      <td>...</td>\n",
       "      <td>1.001519e+00</td>\n",
       "      <td>1.001519e+00</td>\n",
       "      <td>1.001519e+00</td>\n",
       "      <td>1.001519e+00</td>\n",
       "      <td>1.001519e+00</td>\n",
       "      <td>1.001519e+00</td>\n",
       "      <td>1.001519e+00</td>\n",
       "      <td>1.001519e+00</td>\n",
       "      <td>1.001519e+00</td>\n",
       "      <td>1.001519e+00</td>\n",
       "    </tr>\n",
       "    <tr>\n",
       "      <th>min</th>\n",
       "      <td>1.0</td>\n",
       "      <td>-1.580814e+00</td>\n",
       "      <td>-1.959981e+00</td>\n",
       "      <td>-1.191567e+01</td>\n",
       "      <td>-1.675169e+00</td>\n",
       "      <td>-2.132400e+00</td>\n",
       "      <td>-2.254453e+00</td>\n",
       "      <td>-2.907805e+00</td>\n",
       "      <td>-1.800277e+00</td>\n",
       "      <td>-1.796233e+00</td>\n",
       "      <td>...</td>\n",
       "      <td>-5.513178e-02</td>\n",
       "      <td>-1.767767e-01</td>\n",
       "      <td>-7.216213e-01</td>\n",
       "      <td>-4.569368e-01</td>\n",
       "      <td>-4.275461e-01</td>\n",
       "      <td>-4.125685e-01</td>\n",
       "      <td>-5.000000e-01</td>\n",
       "      <td>-3.660883e-01</td>\n",
       "      <td>-3.499271e-01</td>\n",
       "      <td>-3.333333e-01</td>\n",
       "    </tr>\n",
       "    <tr>\n",
       "      <th>25%</th>\n",
       "      <td>1.0</td>\n",
       "      <td>-7.077283e-01</td>\n",
       "      <td>-2.466202e-01</td>\n",
       "      <td>-5.234042e-02</td>\n",
       "      <td>-6.208716e-01</td>\n",
       "      <td>-4.537831e-01</td>\n",
       "      <td>-6.345568e-01</td>\n",
       "      <td>-5.949835e-01</td>\n",
       "      <td>-7.135243e-01</td>\n",
       "      <td>-7.637554e-01</td>\n",
       "      <td>...</td>\n",
       "      <td>-5.513178e-02</td>\n",
       "      <td>-1.767767e-01</td>\n",
       "      <td>-7.216213e-01</td>\n",
       "      <td>-4.569368e-01</td>\n",
       "      <td>-4.275461e-01</td>\n",
       "      <td>-4.125685e-01</td>\n",
       "      <td>-5.000000e-01</td>\n",
       "      <td>-3.660883e-01</td>\n",
       "      <td>-3.499271e-01</td>\n",
       "      <td>-3.333333e-01</td>\n",
       "    </tr>\n",
       "    <tr>\n",
       "      <th>50%</th>\n",
       "      <td>1.0</td>\n",
       "      <td>-2.711856e-01</td>\n",
       "      <td>-2.466202e-01</td>\n",
       "      <td>1.799485e-01</td>\n",
       "      <td>-5.288217e-02</td>\n",
       "      <td>4.609065e-01</td>\n",
       "      <td>-9.459135e-02</td>\n",
       "      <td>5.330746e-02</td>\n",
       "      <td>-1.701481e-01</td>\n",
       "      <td>-1.807705e-02</td>\n",
       "      <td>...</td>\n",
       "      <td>-5.513178e-02</td>\n",
       "      <td>-1.767767e-01</td>\n",
       "      <td>-7.216213e-01</td>\n",
       "      <td>-4.569368e-01</td>\n",
       "      <td>-4.275461e-01</td>\n",
       "      <td>-4.125685e-01</td>\n",
       "      <td>-5.000000e-01</td>\n",
       "      <td>-3.660883e-01</td>\n",
       "      <td>-3.499271e-01</td>\n",
       "      <td>-3.333333e-01</td>\n",
       "    </tr>\n",
       "    <tr>\n",
       "      <th>75%</th>\n",
       "      <td>1.0</td>\n",
       "      <td>9.293068e-01</td>\n",
       "      <td>6.100604e-01</td>\n",
       "      <td>3.914973e-01</td>\n",
       "      <td>4.455267e-01</td>\n",
       "      <td>6.701881e-01</td>\n",
       "      <td>4.710867e-01</td>\n",
       "      <td>6.972180e-01</td>\n",
       "      <td>5.392597e-01</td>\n",
       "      <td>7.849612e-01</td>\n",
       "      <td>...</td>\n",
       "      <td>-5.513178e-02</td>\n",
       "      <td>-1.767767e-01</td>\n",
       "      <td>1.385768e+00</td>\n",
       "      <td>-4.569368e-01</td>\n",
       "      <td>-4.275461e-01</td>\n",
       "      <td>-4.125685e-01</td>\n",
       "      <td>-5.000000e-01</td>\n",
       "      <td>-3.660883e-01</td>\n",
       "      <td>-3.499271e-01</td>\n",
       "      <td>-3.333333e-01</td>\n",
       "    </tr>\n",
       "    <tr>\n",
       "      <th>max</th>\n",
       "      <td>1.0</td>\n",
       "      <td>1.911528e+00</td>\n",
       "      <td>4.036783e+00</td>\n",
       "      <td>9.431834e-01</td>\n",
       "      <td>2.714459e+00</td>\n",
       "      <td>1.250622e+00</td>\n",
       "      <td>3.582316e+00</td>\n",
       "      <td>2.506300e+00</td>\n",
       "      <td>3.331610e+00</td>\n",
       "      <td>3.079356e+00</td>\n",
       "      <td>...</td>\n",
       "      <td>1.813836e+01</td>\n",
       "      <td>5.656854e+00</td>\n",
       "      <td>1.385768e+00</td>\n",
       "      <td>2.188487e+00</td>\n",
       "      <td>2.338929e+00</td>\n",
       "      <td>2.423840e+00</td>\n",
       "      <td>2.000000e+00</td>\n",
       "      <td>2.731582e+00</td>\n",
       "      <td>2.857738e+00</td>\n",
       "      <td>3.000000e+00</td>\n",
       "    </tr>\n",
       "  </tbody>\n",
       "</table>\n",
       "<p>8 rows × 30 columns</p>\n",
       "</div>"
      ],
      "text/plain": [
       "        bias             X             Y          FFMC           DMC  \\\n",
       "count  330.0  3.300000e+02  3.300000e+02  3.300000e+02  3.300000e+02   \n",
       "mean     1.0  4.373606e-17 -2.545943e-16  6.936539e-15  3.229740e-17   \n",
       "std      0.0  1.001519e+00  1.001519e+00  1.001519e+00  1.001519e+00   \n",
       "min      1.0 -1.580814e+00 -1.959981e+00 -1.191567e+01 -1.675169e+00   \n",
       "25%      1.0 -7.077283e-01 -2.466202e-01 -5.234042e-02 -6.208716e-01   \n",
       "50%      1.0 -2.711856e-01 -2.466202e-01  1.799485e-01 -5.288217e-02   \n",
       "75%      1.0  9.293068e-01  6.100604e-01  3.914973e-01  4.455267e-01   \n",
       "max      1.0  1.911528e+00  4.036783e+00  9.431834e-01  2.714459e+00   \n",
       "\n",
       "                 DC           ISI          temp            RH          wind  \\\n",
       "count  3.300000e+02  3.300000e+02  3.300000e+02  3.300000e+02  3.300000e+02   \n",
       "mean  -4.548550e-16  5.213002e-16 -7.514191e-16 -1.285167e-16 -1.311409e-15   \n",
       "std    1.001519e+00  1.001519e+00  1.001519e+00  1.001519e+00  1.001519e+00   \n",
       "min   -2.132400e+00 -2.254453e+00 -2.907805e+00 -1.800277e+00 -1.796233e+00   \n",
       "25%   -4.537831e-01 -6.345568e-01 -5.949835e-01 -7.135243e-01 -7.637554e-01   \n",
       "50%    4.609065e-01 -9.459135e-02  5.330746e-02 -1.701481e-01 -1.807705e-02   \n",
       "75%    6.701881e-01  4.710867e-01  6.972180e-01  5.392597e-01  7.849612e-01   \n",
       "max    1.250622e+00  3.582316e+00  2.506300e+00  3.331610e+00  3.079356e+00   \n",
       "\n",
       "       ...     month_nov     month_oct     month_sep       day_fri  \\\n",
       "count  ...  3.300000e+02  3.300000e+02  3.300000e+02  3.300000e+02   \n",
       "mean   ...  1.742714e-16  2.910130e-17  6.728624e-19  5.584758e-17   \n",
       "std    ...  1.001519e+00  1.001519e+00  1.001519e+00  1.001519e+00   \n",
       "min    ... -5.513178e-02 -1.767767e-01 -7.216213e-01 -4.569368e-01   \n",
       "25%    ... -5.513178e-02 -1.767767e-01 -7.216213e-01 -4.569368e-01   \n",
       "50%    ... -5.513178e-02 -1.767767e-01 -7.216213e-01 -4.569368e-01   \n",
       "75%    ... -5.513178e-02 -1.767767e-01  1.385768e+00 -4.569368e-01   \n",
       "max    ...  1.813836e+01  5.656854e+00  1.385768e+00  2.188487e+00   \n",
       "\n",
       "            day_mon       day_sat       day_sun       day_thu       day_tue  \\\n",
       "count  3.300000e+02  3.300000e+02  3.300000e+02  3.300000e+02  3.300000e+02   \n",
       "mean   1.522351e-16  9.184572e-17  1.184238e-16 -2.556877e-16  1.278439e-16   \n",
       "std    1.001519e+00  1.001519e+00  1.001519e+00  1.001519e+00  1.001519e+00   \n",
       "min   -4.275461e-01 -4.125685e-01 -5.000000e-01 -3.660883e-01 -3.499271e-01   \n",
       "25%   -4.275461e-01 -4.125685e-01 -5.000000e-01 -3.660883e-01 -3.499271e-01   \n",
       "50%   -4.275461e-01 -4.125685e-01 -5.000000e-01 -3.660883e-01 -3.499271e-01   \n",
       "75%   -4.275461e-01 -4.125685e-01 -5.000000e-01 -3.660883e-01 -3.499271e-01   \n",
       "max    2.338929e+00  2.423840e+00  2.000000e+00  2.731582e+00  2.857738e+00   \n",
       "\n",
       "            day_wed  \n",
       "count  3.300000e+02  \n",
       "mean   6.964126e-17  \n",
       "std    1.001519e+00  \n",
       "min   -3.333333e-01  \n",
       "25%   -3.333333e-01  \n",
       "50%   -3.333333e-01  \n",
       "75%   -3.333333e-01  \n",
       "max    3.000000e+00  \n",
       "\n",
       "[8 rows x 30 columns]"
      ]
     },
     "metadata": {},
     "output_type": "display_data"
    }
   ],
   "source": [
    "X_trn_df, y_trn_df, _, _, _, _ = data_prep(forestfire_df)\n",
    "display(X_trn_df.describe())\n"
   ]
  },
  {
   "cell_type": "markdown",
   "metadata": {
    "id": "pnr0ytYTB_aS"
   },
   "source": [
    "With this idea of importance in mind, we can take the absolute value of our weights and sort them from largest to smallest and see what features our model is \"valuing\" the most. Below we get the indexes of the weights who have the largest absolute value in descending order (largest to smallest)."
   ]
  },
  {
   "cell_type": "code",
   "execution_count": 250,
   "metadata": {
    "id": "fgtQShFHB_aS",
    "outputId": "61ebaed5-dfda-42cc-9b9a-a668a32dbec2"
   },
   "outputs": [
    {
     "data": {
      "text/plain": [
       "array([ 0,  5, 22,  4, 18,  7,  1, 13, 11, 17, 10, 19,  8, 21, 16, 12, 20,\n",
       "       25, 28,  3,  9, 26, 23,  6, 29, 14,  2, 24, 15, 27])"
      ]
     },
     "execution_count": 250,
     "metadata": {},
     "output_type": "execute_result"
    }
   ],
   "source": [
    "top_index = np.abs(ols.w).argsort()[::-1]\n",
    "top_index"
   ]
  },
  {
   "cell_type": "markdown",
   "metadata": {
    "id": "4-UklEZwB_aS"
   },
   "source": [
    "Next, we can sort our original weights in descending order."
   ]
  },
  {
   "cell_type": "code",
   "execution_count": 251,
   "metadata": {
    "id": "Hka9F3QZB_aT",
    "outputId": "d7e9744b-1e14-4ced-8fae-34cb96aa4e3a"
   },
   "outputs": [
    {
     "data": {
      "text/plain": [
       "array([ 1.15870722, -0.65727664,  0.37139444,  0.36799776, -0.28416465,\n",
       "        0.24519706,  0.17463344,  0.17030006, -0.1576489 , -0.14109477,\n",
       "       -0.12916433,  0.11462751,  0.10619986,  0.10327673, -0.0955457 ,\n",
       "       -0.0900321 , -0.08519655,  0.07904557,  0.07641145,  0.0726667 ,\n",
       "        0.06702135, -0.05881664, -0.05217581, -0.05196925, -0.04991833,\n",
       "       -0.04714236,  0.0469797 ,  0.02084817, -0.01147216, -0.00309924])"
      ]
     },
     "execution_count": 251,
     "metadata": {},
     "output_type": "execute_result"
    }
   ],
   "source": [
    "ols.w[top_index]"
   ]
  },
  {
   "cell_type": "markdown",
   "metadata": {
    "id": "MaDPzs-UB_aT"
   },
   "source": [
    "Lastly, we can get the names of the features in descending order of \"importance\" based on the highest weights."
   ]
  },
  {
   "cell_type": "code",
   "execution_count": 252,
   "metadata": {
    "id": "bWUJop3fB_aT",
    "outputId": "bad6dd83-0c9f-434f-8965-eb8e363022b5"
   },
   "outputs": [
    {
     "data": {
      "text/html": [
       "<div>\n",
       "<style scoped>\n",
       "    .dataframe tbody tr th:only-of-type {\n",
       "        vertical-align: middle;\n",
       "    }\n",
       "\n",
       "    .dataframe tbody tr th {\n",
       "        vertical-align: top;\n",
       "    }\n",
       "\n",
       "    .dataframe thead th {\n",
       "        text-align: right;\n",
       "    }\n",
       "</style>\n",
       "<table border=\"1\" class=\"dataframe\">\n",
       "  <thead>\n",
       "    <tr style=\"text-align: right;\">\n",
       "      <th></th>\n",
       "      <th>weight</th>\n",
       "    </tr>\n",
       "  </thead>\n",
       "  <tbody>\n",
       "    <tr>\n",
       "      <th>bias</th>\n",
       "      <td>1.158707</td>\n",
       "    </tr>\n",
       "    <tr>\n",
       "      <th>DC</th>\n",
       "      <td>-0.657277</td>\n",
       "    </tr>\n",
       "    <tr>\n",
       "      <th>month_sep</th>\n",
       "      <td>0.371394</td>\n",
       "    </tr>\n",
       "    <tr>\n",
       "      <th>DMC</th>\n",
       "      <td>0.367998</td>\n",
       "    </tr>\n",
       "    <tr>\n",
       "      <th>month_mar</th>\n",
       "      <td>-0.284165</td>\n",
       "    </tr>\n",
       "    <tr>\n",
       "      <th>temp</th>\n",
       "      <td>0.245197</td>\n",
       "    </tr>\n",
       "    <tr>\n",
       "      <th>X</th>\n",
       "      <td>0.174633</td>\n",
       "    </tr>\n",
       "    <tr>\n",
       "      <th>month_dec</th>\n",
       "      <td>0.170300</td>\n",
       "    </tr>\n",
       "    <tr>\n",
       "      <th>month_apr</th>\n",
       "      <td>-0.157649</td>\n",
       "    </tr>\n",
       "    <tr>\n",
       "      <th>month_jun</th>\n",
       "      <td>-0.141095</td>\n",
       "    </tr>\n",
       "    <tr>\n",
       "      <th>rain</th>\n",
       "      <td>-0.129164</td>\n",
       "    </tr>\n",
       "    <tr>\n",
       "      <th>month_may</th>\n",
       "      <td>0.114628</td>\n",
       "    </tr>\n",
       "    <tr>\n",
       "      <th>RH</th>\n",
       "      <td>0.106200</td>\n",
       "    </tr>\n",
       "    <tr>\n",
       "      <th>month_oct</th>\n",
       "      <td>0.103277</td>\n",
       "    </tr>\n",
       "    <tr>\n",
       "      <th>month_jul</th>\n",
       "      <td>-0.095546</td>\n",
       "    </tr>\n",
       "    <tr>\n",
       "      <th>month_aug</th>\n",
       "      <td>-0.090032</td>\n",
       "    </tr>\n",
       "    <tr>\n",
       "      <th>month_nov</th>\n",
       "      <td>-0.085197</td>\n",
       "    </tr>\n",
       "    <tr>\n",
       "      <th>day_sat</th>\n",
       "      <td>0.079046</td>\n",
       "    </tr>\n",
       "    <tr>\n",
       "      <th>day_tue</th>\n",
       "      <td>0.076411</td>\n",
       "    </tr>\n",
       "    <tr>\n",
       "      <th>FFMC</th>\n",
       "      <td>0.072667</td>\n",
       "    </tr>\n",
       "    <tr>\n",
       "      <th>wind</th>\n",
       "      <td>0.067021</td>\n",
       "    </tr>\n",
       "    <tr>\n",
       "      <th>day_sun</th>\n",
       "      <td>-0.058817</td>\n",
       "    </tr>\n",
       "    <tr>\n",
       "      <th>day_fri</th>\n",
       "      <td>-0.052176</td>\n",
       "    </tr>\n",
       "    <tr>\n",
       "      <th>ISI</th>\n",
       "      <td>-0.051969</td>\n",
       "    </tr>\n",
       "    <tr>\n",
       "      <th>day_wed</th>\n",
       "      <td>-0.049918</td>\n",
       "    </tr>\n",
       "    <tr>\n",
       "      <th>month_feb</th>\n",
       "      <td>-0.047142</td>\n",
       "    </tr>\n",
       "    <tr>\n",
       "      <th>Y</th>\n",
       "      <td>0.046980</td>\n",
       "    </tr>\n",
       "    <tr>\n",
       "      <th>day_mon</th>\n",
       "      <td>0.020848</td>\n",
       "    </tr>\n",
       "    <tr>\n",
       "      <th>month_jan</th>\n",
       "      <td>-0.011472</td>\n",
       "    </tr>\n",
       "    <tr>\n",
       "      <th>day_thu</th>\n",
       "      <td>-0.003099</td>\n",
       "    </tr>\n",
       "  </tbody>\n",
       "</table>\n",
       "</div>"
      ],
      "text/plain": [
       "             weight\n",
       "bias       1.158707\n",
       "DC        -0.657277\n",
       "month_sep  0.371394\n",
       "DMC        0.367998\n",
       "month_mar -0.284165\n",
       "temp       0.245197\n",
       "X          0.174633\n",
       "month_dec  0.170300\n",
       "month_apr -0.157649\n",
       "month_jun -0.141095\n",
       "rain      -0.129164\n",
       "month_may  0.114628\n",
       "RH         0.106200\n",
       "month_oct  0.103277\n",
       "month_jul -0.095546\n",
       "month_aug -0.090032\n",
       "month_nov -0.085197\n",
       "day_sat    0.079046\n",
       "day_tue    0.076411\n",
       "FFMC       0.072667\n",
       "wind       0.067021\n",
       "day_sun   -0.058817\n",
       "day_fri   -0.052176\n",
       "ISI       -0.051969\n",
       "day_wed   -0.049918\n",
       "month_feb -0.047142\n",
       "Y          0.046980\n",
       "day_mon    0.020848\n",
       "month_jan -0.011472\n",
       "day_thu   -0.003099"
      ]
     },
     "execution_count": 252,
     "metadata": {},
     "output_type": "execute_result"
    }
   ],
   "source": [
    "pd.DataFrame(ols.w[top_index], index=X_trn_df.columns[top_index], columns=['weight'])"
   ]
  },
  {
   "cell_type": "markdown",
   "metadata": {
    "id": "KfXHeU74B_aT"
   },
   "source": [
    "Notice that most of the 'day' features are ranked really low. In theory, would knowing the day really influence when a fire might occur? Recall in the data visualization lab the day feature almost seemed randomly distributed (see visualization below)! *Maybe we could drop these features from our data since their corresponding weights seem to be very low aren't adding a lot.*"
   ]
  },
  {
   "cell_type": "code",
   "execution_count": 253,
   "metadata": {
    "id": "A1O5nVvoB_aT",
    "outputId": "89e630da-ffb0-4947-895b-0a14ef9100a4"
   },
   "outputs": [
    {
     "data": {
      "image/png": "[encoded data removed]",
      "text/plain": [
       "<Figure size 432x288 with 1 Axes>"
      ]
     },
     "metadata": {
      "needs_background": "light"
     },
     "output_type": "display_data"
    }
   ],
   "source": [
    "day_counts = forestfire_df['day'].value_counts()\n",
    "plt.bar(day_counts.index, day_counts.values)\n",
    "plt.xlabel('days')\n",
    "plt.ylabel('number of occurances')\n",
    "plt.title(\"Day Distribution\")\n",
    "plt.show()"
   ]
  },
  {
   "cell_type": "markdown",
   "metadata": {
    "id": "3Xc6TIKvB_aT"
   },
   "source": [
    "### Checking remaining linear assumptions\n",
    "\n",
    "Let's check our remaining linear model assumptions to see if our poor results can be explained by having poor data."
   ]
  },
  {
   "cell_type": "markdown",
   "metadata": {
    "id": "qHK9Y0JeB_aU"
   },
   "source": [
    "#### Equal variance (Homoscedsticity)\n",
    "Recall that this check refers to seeing if the variance of our errors/residuals are approximately equal. We can check this by ploting our errors against our predicting. We are looking for a plot where all the errors essentially form  a rectangle-like pattern. If equal variance does not hold we will see more of a cone shape. See the below visualization.\n",
    "\n",
    "<img src=https://dataaspirant.com/wp-content/uploads/2020/12/10-Homoscedasticity-Vs-Heteroscedasticity.png width=500, height=500>\n",
    "\n",
    "**Homoscedsticity means the larger error occur to the larger predicted values. Thus, the error is not dependent on the values/scales of the labels.**\n",
    "For example, for two samples with area of 1 (sample A) and 10 (sample B), respectively. We make predictions to them as 1.1 and 11. Although the error at sample B is ten times larger than the error at sample A, the variances for them are both 10%. Thus, the error is not related to the scale of the predicted value. This is why it's called **equal variance**.\n"
   ]
  },
  {
   "cell_type": "markdown",
   "metadata": {
    "id": "hnowCD6jB_aU"
   },
   "source": [
    "Based on our below graph our errors seem to be roughly have equal variance. however, there is a slight abnormality around 0 which recall most of our targets are centered around 0!"
   ]
  },
  {
   "cell_type": "code",
   "execution_count": 254,
   "metadata": {
    "id": "1uGVof1jB_aU",
    "outputId": "465bc332-3bbf-4adf-d5d4-b014fc6c0d8a"
   },
   "outputs": [
    {
     "data": {
      "image/png": "[encoded data removed]",
      "text/plain": [
       "<Figure size 432x288 with 1 Axes>"
      ]
     },
     "metadata": {
      "needs_background": "light"
     },
     "output_type": "display_data"
    }
   ],
   "source": [
    "trn_error = error(y_hat_trn, y_trn)\n",
    "plt.plot(y_trn, trn_error, 'b.')\n",
    "\n",
    "plt.title(f\"Equal Variance Check (Homoscedsticity)\")\n",
    "plt.ylabel('errors')\n",
    "plt.xlabel('predictions')\n",
    "plt.show();"
   ]
  },
  {
   "cell_type": "markdown",
   "metadata": {
    "id": "HDf48PSJB_aU"
   },
   "source": [
    "#### Normality of errors\n",
    "\n",
    "Next we need to check if our errors are normally distributed. We can do so using an Q-Q plot or plotting the distribution of our errors."
   ]
  },
  {
   "cell_type": "markdown",
   "metadata": {
    "id": "6KBOf1xyB_aU"
   },
   "source": [
    "For those that don't know, a Q-Q plot or quantile-quantile plot is a graphical way of comparing two distributions. In our case, we want to check our error distribution against the normal or Gaussian distribution. \n",
    "\n",
    "In the below plot our error values are marked by the blue dots and the theoretical normal or Gaussian are indicated by the red line. If our errors are normally distributed they should follow the red line. You can see our values slightly diverge from the line on the ends. However, this divergence isn't too major and thus we might be able to claim our errors are roughly normally distributed. "
   ]
  },
  {
   "cell_type": "code",
   "execution_count": 255,
   "metadata": {
    "id": "-ZX8DK4CB_aU",
    "outputId": "2c6b3ca6-e42a-4a8c-af54-ff8ecc5d7d31"
   },
   "outputs": [
    {
     "data": {
      "image/png": "[encoded data removed]",
      "text/plain": [
       "<Figure size 432x288 with 1 Axes>"
      ]
     },
     "metadata": {
      "needs_background": "light"
     },
     "output_type": "display_data"
    }
   ],
   "source": [
    "# Normality of errors\n",
    "import scipy.stats as stats\n",
    "stats.probplot(trn_error.reshape(-1,), dist=\"norm\", plot=plt)\n",
    "plt.title(f\"Normality Check\")\n",
    "plt.show()"
   ]
  },
  {
   "cell_type": "markdown",
   "metadata": {
    "id": "s45qaxlcB_aU"
   },
   "source": [
    "Alternatively we can simply use a histogram to plot our errors and see if the error distribution looks something like a normal distribution. Recall a normal distribution looks like the following\n",
    "\n",
    "<img src=\"https://external-content.duckduckgo.com/iu/?u=http%3A%2F%2Fmichaelminn.net%2Ftutorials%2Fr-normal-rank-order%2Fbell-curve.png&f=1&nofb=1\" width=500 height=500>\n",
    "\n",
    "Thus, our histogram should match the shape of a the normal distribution if our errors are truly normally distributed. Below we do so using **Seaborn**, a high-level wrapper for matplotlib that makes nicer looking plots by default (more on Seaborn in future labs)."
   ]
  },
  {
   "cell_type": "code",
   "execution_count": 256,
   "metadata": {
    "id": "46MYxzz3B_aV",
    "outputId": "262cc363-d57c-45c3-9096-f75556aae5af"
   },
   "outputs": [
    {
     "data": {
      "image/png": "[encoded data removed]",
      "text/plain": [
       "<Figure size 360x360 with 1 Axes>"
      ]
     },
     "metadata": {
      "needs_background": "light"
     },
     "output_type": "display_data"
    }
   ],
   "source": [
    "import seaborn as sns\n",
    "sns.displot(trn_error, kde=True);\n",
    "plt.xlabel(\"Error Values\")\n",
    "plt.show();"
   ]
  },
  {
   "cell_type": "markdown",
   "metadata": {
    "id": "DG0vTF6sB_aV"
   },
   "source": [
    "Once again we notice that our errors are slightly skewed, meaning we don't fully meet the normality check."
   ]
  },
  {
   "cell_type": "markdown",
   "metadata": {
    "id": "EB3TJd4UB_aV"
   },
   "source": [
    "#### Did we meet the liner assumptions?\n",
    "\n",
    "Based on the results we can conclude that we approximately meet our assumptions, however it isn't super clear cut. As we can see this is reflected in the performance of our results as our results aren't horrid but they aren't great either.\n",
    "\n",
    "Most of the time it actually might be faster to just test your data on a linear model and see how it performs. Getting stuck on the assumptions too much might be too time consuming, however this will depend on your problem at hand. The big assumption to pay attention to is our first assumption of linearity.\n",
    "\n",
    "<!-- *Note we did not check for independence of errors as our data is not time-series data. Thus, we do not know the order our data was collected in and it is hard to check for independence if this is not known.* -->"
   ]
  },
  {
   "cell_type": "code",
   "execution_count": 257,
   "metadata": {
    "id": "p3elt42RB_aV"
   },
   "outputs": [],
   "source": [
    "# Remove data variables for this section from memory\n",
    "garbage_collect(['X_trn', 'y_trn', 'X_vld', 'y_vld','y_hat_trn', 'trn_sse', 'trn_mse', 'trn_rmse', 'y_hat_vld', 'vld_sse', 'vld_mse', 'vld_rmse'])"
   ]
  },
  {
   "cell_type": "markdown",
   "metadata": {
    "id": "d5DlC31OB_aV"
   },
   "source": [
    "## Training with certain features\n",
    "\n",
    "Recall that while analysis our weights it seem like the 'day' features received very small weights and thus could be interpreted as being of less \"importance.\" Let's check this observation and see how our OLS model performs when we drop these features."
   ]
  },
  {
   "cell_type": "code",
   "execution_count": 258,
   "metadata": {
    "id": "Ka558FSIB_aV",
    "outputId": "ed420a42-bb2c-4013-afda-d3b3c9db99a8"
   },
   "outputs": [
    {
     "data": {
      "text/plain": [
       "['day_sat', 'day_tue', 'day_sun', 'day_fri', 'day_wed', 'day_mon', 'day_thu']"
      ]
     },
     "execution_count": 258,
     "metadata": {},
     "output_type": "execute_result"
    }
   ],
   "source": [
    "drop_features = ['day_sat', 'day_tue', 'day_sun', 'day_fri', 'day_wed','day_mon','day_thu']\n",
    "drop_features"
   ]
  },
  {
   "cell_type": "code",
   "execution_count": 259,
   "metadata": {
    "id": "btrs7Xc4B_aV",
    "outputId": "c37b48a2-4817-4f30-ace7-38613fca9a92"
   },
   "outputs": [
    {
     "data": {
      "image/png": "[encoded data removed]",
      "text/plain": [
       "<Figure size 432x288 with 1 Axes>"
      ]
     },
     "metadata": {
      "needs_background": "light"
     },
     "output_type": "display_data"
    },
    {
     "name": "stdout",
     "output_type": "stream",
     "text": [
      "Training MSE: 1.8207379826417998\n",
      "Training RMSE: 1.349347243166784\n",
      "Training SSE: 600.8435342717939\n"
     ]
    }
   ],
   "source": [
    "# Get our data and return them as NumPy arrays\n",
    "X_trn, y_trn, X_vld, y_vld, _, _ = data_prep(forestfire_df,\n",
    "                                             drop_features=drop_features,\n",
    "                                             return_array=True)\n",
    "\n",
    "ols = OrdinaryLeastSquares()\n",
    "# Fit our data and learn \"best\" weights for training data\n",
    "ols.fit(X_trn, y_trn)\n",
    "# Check how well our weights learned our TRAIN data\n",
    "y_hat_trn = ols.predict(X_trn)\n",
    "\n",
    "_, trn_sse, trn_mse, trn_rmse = analyze(y_hat_trn, y_trn,\n",
    "                                        title=\"Training Predictions Log Transform\",\n",
    "                                        dataset=\"Training\",\n",
    "                                        xlabel=\"Data Sample Index\",\n",
    "                                        ylabel=\"Log Area\")"
   ]
  },
  {
   "cell_type": "markdown",
   "metadata": {
    "id": "zKWr7BLUB_aW"
   },
   "source": [
    "Well our training error doesn't seem any better does it? If anything it seems to have gotten slightly worse as our previous RMSE was ~1.340 and the current RMSE is ~1.349. Before we make any conclusions let's check our performance on the validation data and see how it is doing."
   ]
  },
  {
   "cell_type": "code",
   "execution_count": 260,
   "metadata": {
    "id": "HOD2CtIzB_aW",
    "outputId": "f699a3fd-6eb9-4cdc-caa9-7df0c0e41007"
   },
   "outputs": [
    {
     "data": {
      "image/png": "[encoded data removed]",
      "text/plain": [
       "<Figure size 432x288 with 1 Axes>"
      ]
     },
     "metadata": {
      "needs_background": "light"
     },
     "output_type": "display_data"
    },
    {
     "name": "stdout",
     "output_type": "stream",
     "text": [
      "Validation MSE: 4.919558828266865\n",
      "Validation RMSE: 2.218007851263576\n",
      "Validation SSE: 408.3233827461498\n"
     ]
    }
   ],
   "source": [
    "y_hat_vld = ols.predict(X_vld)\n",
    "\n",
    "_, vld_sse, vld_mse, vld_rmse = analyze(y_hat_vld, y_vld,\n",
    "                                        title=\"Validation Predictions Log Transform\",\n",
    "                                        dataset=\"Validation\",\n",
    "                                        xlabel=\"Data Sample Index\",\n",
    "                                        ylabel=\"Log Area\")"
   ]
  },
  {
   "cell_type": "markdown",
   "metadata": {
    "id": "NCO3FLIlB_aW"
   },
   "source": [
    "Interesting! Our previous validation RMSE was about ~2.36 and the current RMSE is ~2.21. Our validation scores have actually slightly improved! This could indicate that our model could be slightly overfitting to our the the 'day' feature when training!\n",
    "\n",
    "Recall that overfitting means our model is fitting to noise in the data that doesn't actually server as a useful predictor when used for unseen data! **In short, overfitting means: good training performance but worse validation/test performance.** In this case, our model might be using some pattern in 'day' feature that is only present in our training data and not in our unseen data - leading to decreased performance on unseen data. \n"
   ]
  },
  {
   "cell_type": "code",
   "execution_count": 261,
   "metadata": {
    "id": "mA2H5F4uB_aW"
   },
   "outputs": [],
   "source": [
    "# Remove data variables for this section from memory\n",
    "garbage_collect(['X_trn', 'y_trn', 'X_vld', 'y_vld','y_hat_trn', 'trn_sse', 'trn_mse', 'trn_rmse', 'y_hat_vld', 'vld_sse', 'vld_mse', 'vld_rmse', 'data_features'])"
   ]
  },
  {
   "cell_type": "markdown",
   "metadata": {
    "id": "esMdX6k6B_aW"
   },
   "source": [
    "# **Gradient Descent** Review\n",
    "\n",
    "Before we get to least means squared, let's start off simple and review the concept of gradient descent by looking at a toy problem."
   ]
  },
  {
   "cell_type": "markdown",
   "metadata": {
    "id": "rnOsjntaB_aW"
   },
   "source": [
    "## Toy Example: Minimizing $x^2$\n",
    "\n",
    "Below we can see a toy example of gradient descent in action. Given some x-y coordinate starting point on a function, in particular the $x^2$ function, we want to find the minimum. To do so, we can simply use the idea of gradient descent to slowly move from our starting x-y position to the minimum of the $x^2$ function. Since the $x^2$ function is essentially just a bowl the minimum will be at 0. \n",
    "\n",
    "Remember from calculus class that we could directly solve for the minimum by taking the derivative of our function and setting it equal to $f'(x) = 0$ and then solve for $x$ (like we did for ordinary least squares)! For more complex functions (like neural networks) and problems where the data has too many features or is too large to fit into memory we need to iteratively approximate the minimum. To do this we use gradient descent!"
   ]
  },
  {
   "cell_type": "markdown",
   "metadata": {
    "id": "1az4vjLRB_aW"
   },
   "source": [
    "Below we define a helper plotting function called `plot_function()` which will plot any passed mathematical function. "
   ]
  },
  {
   "cell_type": "code",
   "execution_count": 262,
   "metadata": {
    "id": "B2ufu5I8B_aX"
   },
   "outputs": [],
   "source": [
    "def plot_function(f, steps=100, xlabel=None, ylabel=None, title=None, min_ls=-1, max_ls=1, ax=None, figsize=(6,4)):\n",
    "    x = np.linspace(min_ls, max_ls,steps)\n",
    "    if ax is None:\n",
    "        fig, ax = plt.subplots(figsize=figsize)\n",
    "    ax.plot(x,f(x))\n",
    "    if xlabel is not None: \n",
    "        ax.set_xlabel(xlabel)\n",
    "    if ylabel is not None: \n",
    "        ax.set_ylabel(ylabel)\n",
    "    if title is not None: \n",
    "        ax.set_title(title)"
   ]
  },
  {
   "cell_type": "markdown",
   "metadata": {
    "id": "b_eceHrsB_aX"
   },
   "source": [
    "Additionally, we also define our $x^2$ function using the `f()` function and the derivative $2x$ using the `f_prime()` function as we will be using these our gradient descent toy problem."
   ]
  },
  {
   "cell_type": "code",
   "execution_count": 263,
   "metadata": {
    "id": "gxc7M1zAB_aX"
   },
   "outputs": [],
   "source": [
    "def f(x):\n",
    "    return x**2\n",
    "\n",
    "def f_prime(x):\n",
    "    return 2*x"
   ]
  },
  {
   "cell_type": "markdown",
   "metadata": {
    "id": "cEotJT_FB_aX"
   },
   "source": [
    "Here we use our `plot_function()` function to plot our $x^2$ function `f()`. Next, we can plot the starting coordinate (1,1) for our gradient descent problem using `x_start` and `y_start`. **The starting point will always be represented by the green dot!**"
   ]
  },
  {
   "cell_type": "code",
   "execution_count": 264,
   "metadata": {
    "id": "N2dZ4BkGB_aX",
    "outputId": "e243bb36-c1c6-4749-e1de-5eb6dd69d1d1"
   },
   "outputs": [
    {
     "data": {
      "text/plain": [
       "[<matplotlib.lines.Line2D at 0x7fa99884de20>]"
      ]
     },
     "execution_count": 264,
     "metadata": {},
     "output_type": "execute_result"
    },
    {
     "data": {
      "image/png": "[encoded data removed]",
      "text/plain": [
       "<Figure size 432x288 with 1 Axes>"
      ]
     },
     "metadata": {
      "needs_background": "light"
     },
     "output_type": "display_data"
    }
   ],
   "source": [
    "x_start = 1 \n",
    "y_start = f(x_start)\n",
    "\n",
    "plot_function(f, xlabel='x', ylabel='y')\n",
    "\n",
    "plt.plot(x_start, y_start, 'go')"
   ]
  },
  {
   "cell_type": "markdown",
   "metadata": {
    "id": "tKXfGwGWB_aX"
   },
   "source": [
    "Alright, we have our function and our starting point plotted! Now we just need to find our way to the minimum at (0, 0) using the gradient descent algorithm.\n",
    "\n",
    "#### TODO 12\n",
    "Complete the TODO by finishing the `gradient_descent()` function.\n",
    "\n",
    "1. Compute the y coordinate for the passed input `x`. Do so by simply passing `x` to the passed function `f()`. Store the output into `y`.\n",
    "\n",
    "2. Compute the gradient at the current x coordinate. Do so by simply passing `x` to the passed derivative function `f_prime()`. Store the output into `dx`.\n",
    "\n",
    "3. Take a gradient step and update the x coordinate (the updated x is still named as x):\n",
    "> Take a gradient step by using the gradient update equation $x = x - \\alpha \\nabla f(x)$. Store the output into `x`.\n",
    "> > Hint 1: $\\alpha$ refers to the learning rate `lr`.\n",
    "> > Hint 2: $\\nabla f(x)$ refers to the gradient of $f(x)$. Recall we already computed the gradient and stored the output into `dx`!\n",
    " \n",
    "4. Update the y coordinate for our new x coordinate. Do so by simply passing `x` to the passed function `f()`. Store the output into `y`."
   ]
  },
  {
   "cell_type": "code",
   "execution_count": 265,
   "metadata": {
    "id": "bD38JjOlB_aX"
   },
   "outputs": [],
   "source": [
    "def gradient_descent(x: float, \n",
    "                     f: Callable, \n",
    "                     f_prime: Callable, \n",
    "                     n_iter: int = 10, \n",
    "                     lr: float = .1):\n",
    "    \"\"\" Performs gradient descent given a passed function and its derivative\n",
    "    \n",
    "        Args:\n",
    "            x: The starting x coordiante where GD will start from.\n",
    "            \n",
    "            f: A callable function that contains the desired function GD will\n",
    "                try to find a minimum for.\n",
    "                \n",
    "            f_prime: The derivative of the function 'f' which is also a callable \n",
    "                function.\n",
    "            \n",
    "            n_iter: The number of gradient descent steps to take\n",
    "            \n",
    "            lr: The learning rate which determines the step size for \n",
    "                each gradient descent step.\n",
    "    \n",
    "    \"\"\"\n",
    "    \n",
    "    # TODO 12.1\n",
    "    y = f(x)\n",
    "    \n",
    "    x_hist = [x]\n",
    "    y_hist = [y]\n",
    "\n",
    "    for i in range(n_iter):\n",
    "        # TODO 12.2\n",
    "        dx = f_prime(x)\n",
    "        \n",
    "        print(\"(x, y): ({:.3f}, {:.3f}), Grad: {:.4f}, Scaled-grad: {:.4f}\".format(\n",
    "             x, y, dx, dx*lr)\n",
    "             )\n",
    "        \n",
    "        # TODO 12.3\n",
    "        x = x - (lr*dx)\n",
    "    \n",
    "        # TODO 12.4\n",
    "        y = f(x)\n",
    "\n",
    "        # Track the x and y position history\n",
    "        x_hist.append(x)\n",
    "        y_hist.append(y)\n",
    "\n",
    "        # Convergence check to see if gradient is near zero!\n",
    "        # In other words, check if gradient is near a minimum!\n",
    "        # Recall that when the gradient equals zero we are either\n",
    "        # near a local minimum, local maximum, or saddle point!\n",
    "        if abs(dx) <= .001:\n",
    "            break\n",
    "        \n",
    "    print(\"Total iterations taken: {}\".format(i))\n",
    "    return x_hist, y_hist"
   ]
  },
  {
   "cell_type": "code",
   "execution_count": null,
   "metadata": {
    "id": "OuQRP-aXB_aY",
    "outputId": "277c7242-7e4b-4b25-d33a-bc1d2b0bbbc4"
   },
   "outputs": [
    {
     "name": "stdout",
     "output_type": "stream",
     "text": [
      "(x, y): (1.000, 1.000), Grad: 2.0000, Scaled-grad: 0.2000\n",
      "(x, y): (0.800, 0.640), Grad: 1.6000, Scaled-grad: 0.1600\n",
      "(x, y): (0.640, 0.410), Grad: 1.2800, Scaled-grad: 0.1280\n",
      "(x, y): (0.512, 0.262), Grad: 1.0240, Scaled-grad: 0.1024\n",
      "(x, y): (0.410, 0.168), Grad: 0.8192, Scaled-grad: 0.0819\n",
      "(x, y): (0.328, 0.107), Grad: 0.6554, Scaled-grad: 0.0655\n",
      "(x, y): (0.262, 0.069), Grad: 0.5243, Scaled-grad: 0.0524\n",
      "(x, y): (0.210, 0.044), Grad: 0.4194, Scaled-grad: 0.0419\n",
      "(x, y): (0.168, 0.028), Grad: 0.3355, Scaled-grad: 0.0336\n",
      "(x, y): (0.134, 0.018), Grad: 0.2684, Scaled-grad: 0.0268\n",
      "(x, y): (0.107, 0.012), Grad: 0.2147, Scaled-grad: 0.0215\n",
      "(x, y): (0.086, 0.007), Grad: 0.1718, Scaled-grad: 0.0172\n",
      "(x, y): (0.069, 0.005), Grad: 0.1374, Scaled-grad: 0.0137\n",
      "(x, y): (0.055, 0.003), Grad: 0.1100, Scaled-grad: 0.0110\n",
      "(x, y): (0.044, 0.002), Grad: 0.0880, Scaled-grad: 0.0088\n",
      "(x, y): (0.035, 0.001), Grad: 0.0704, Scaled-grad: 0.0070\n",
      "(x, y): (0.028, 0.001), Grad: 0.0563, Scaled-grad: 0.0056\n",
      "(x, y): (0.023, 0.001), Grad: 0.0450, Scaled-grad: 0.0045\n",
      "(x, y): (0.018, 0.000), Grad: 0.0360, Scaled-grad: 0.0036\n",
      "(x, y): (0.014, 0.000), Grad: 0.0288, Scaled-grad: 0.0029\n",
      "(x, y): (0.012, 0.000), Grad: 0.0231, Scaled-grad: 0.0023\n",
      "(x, y): (0.009, 0.000), Grad: 0.0184, Scaled-grad: 0.0018\n",
      "(x, y): (0.007, 0.000), Grad: 0.0148, Scaled-grad: 0.0015\n",
      "(x, y): (0.006, 0.000), Grad: 0.0118, Scaled-grad: 0.0012\n",
      "(x, y): (0.005, 0.000), Grad: 0.0094, Scaled-grad: 0.0009\n",
      "(x, y): (0.004, 0.000), Grad: 0.0076, Scaled-grad: 0.0008\n",
      "(x, y): (0.003, 0.000), Grad: 0.0060, Scaled-grad: 0.0006\n",
      "(x, y): (0.002, 0.000), Grad: 0.0048, Scaled-grad: 0.0005\n",
      "(x, y): (0.002, 0.000), Grad: 0.0039, Scaled-grad: 0.0004\n",
      "(x, y): (0.002, 0.000), Grad: 0.0031, Scaled-grad: 0.0003\n",
      "(x, y): (0.001, 0.000), Grad: 0.0025, Scaled-grad: 0.0002\n",
      "(x, y): (0.001, 0.000), Grad: 0.0020, Scaled-grad: 0.0002\n",
      "(x, y): (0.001, 0.000), Grad: 0.0016, Scaled-grad: 0.0002\n",
      "(x, y): (0.001, 0.000), Grad: 0.0013, Scaled-grad: 0.0001\n",
      "(x, y): (0.001, 0.000), Grad: 0.0010, Scaled-grad: 0.0001\n",
      "(x, y): (0.000, 0.000), Grad: 0.0008, Scaled-grad: 0.0001\n",
      "Total iterations taken: 35\n",
      "Your code PASSED the code check!\n"
     ]
    },
    {
     "data": {
      "image/png": "[encoded data removed]",
      "text/plain": [
       "<Figure size 432x288 with 1 Axes>"
      ]
     },
     "metadata": {
      "needs_background": "light"
     },
     "output_type": "display_data"
    }
   ],
   "source": [
    "x_hist, y_hist = gradient_descent(x_start, f, f_prime, n_iter=100, lr=.1)\n",
    "\n",
    "todo_check([\n",
    "    (np.all(np.isclose(x_hist[1:4], [.8, .64, .512], rtol=.01)), 'Gradient values were incorrect!'),\n",
    "])\n",
    "\n",
    "# Plot the x^2 function\n",
    "plot_function(f, xlabel='x', ylabel='y')\n",
    "# Plot the history of x-y coordinates (i.e., steps taken)\n",
    "plt.plot(x_hist, y_hist, 'ro-')\n",
    "# Plot start position\n",
    "plt.plot(x_hist[0], y_hist[0], 'go')\n",
    "# Plot end position\n",
    "plt.plot(x_hist[-1], y_hist[-1], 'bo');\n",
    "\n",
    "del x_hist, y_hist"
   ]
  },
  {
   "cell_type": "markdown",
   "metadata": {
    "id": "If7lRXSrB_aY"
   },
   "source": [
    "You might be wondering, well, if we take smaller and smaller steps near the minimum why don't we just increase the learning rate so then we can take larger steps near the minimum.\n",
    "\n",
    "Let's see what happens when we pass a large learning rate of $0.9$."
   ]
  },
  {
   "cell_type": "code",
   "execution_count": 266,
   "metadata": {
    "id": "3l3ipxaUB_aY",
    "outputId": "c2d21367-467e-465d-a513-91ec75cc29bc"
   },
   "outputs": [
    {
     "name": "stdout",
     "output_type": "stream",
     "text": [
      "(x, y): (1.000, 1.000), Grad: 2.0000, Scaled-grad: 1.8000\n",
      "(x, y): (-0.800, 0.640), Grad: -1.6000, Scaled-grad: -1.4400\n",
      "(x, y): (0.640, 0.410), Grad: 1.2800, Scaled-grad: 1.1520\n",
      "(x, y): (-0.512, 0.262), Grad: -1.0240, Scaled-grad: -0.9216\n",
      "(x, y): (0.410, 0.168), Grad: 0.8192, Scaled-grad: 0.7373\n",
      "(x, y): (-0.328, 0.107), Grad: -0.6554, Scaled-grad: -0.5898\n",
      "(x, y): (0.262, 0.069), Grad: 0.5243, Scaled-grad: 0.4719\n",
      "(x, y): (-0.210, 0.044), Grad: -0.4194, Scaled-grad: -0.3775\n",
      "(x, y): (0.168, 0.028), Grad: 0.3355, Scaled-grad: 0.3020\n",
      "(x, y): (-0.134, 0.018), Grad: -0.2684, Scaled-grad: -0.2416\n",
      "(x, y): (0.107, 0.012), Grad: 0.2147, Scaled-grad: 0.1933\n",
      "(x, y): (-0.086, 0.007), Grad: -0.1718, Scaled-grad: -0.1546\n",
      "(x, y): (0.069, 0.005), Grad: 0.1374, Scaled-grad: 0.1237\n",
      "(x, y): (-0.055, 0.003), Grad: -0.1100, Scaled-grad: -0.0990\n",
      "(x, y): (0.044, 0.002), Grad: 0.0880, Scaled-grad: 0.0792\n",
      "(x, y): (-0.035, 0.001), Grad: -0.0704, Scaled-grad: -0.0633\n",
      "(x, y): (0.028, 0.001), Grad: 0.0563, Scaled-grad: 0.0507\n",
      "(x, y): (-0.023, 0.001), Grad: -0.0450, Scaled-grad: -0.0405\n",
      "(x, y): (0.018, 0.000), Grad: 0.0360, Scaled-grad: 0.0324\n",
      "(x, y): (-0.014, 0.000), Grad: -0.0288, Scaled-grad: -0.0259\n",
      "Total iterations taken: 19\n"
     ]
    },
    {
     "data": {
      "image/png": "[encoded data removed]",
      "text/plain": [
       "<Figure size 432x288 with 1 Axes>"
      ]
     },
     "metadata": {
      "needs_background": "light"
     },
     "output_type": "display_data"
    }
   ],
   "source": [
    "x_hist, y_hist = gradient_descent(x_start, f, f_prime, n_iter=20, lr=.9)\n",
    "\n",
    "# Plot the x^2 function\n",
    "plot_function(f, xlabel='x', ylabel='y')\n",
    "# Plot the history of x-y coordinates (i.e., steps taken)\n",
    "plt.plot(x_hist, y_hist, 'ro-')\n",
    "# Plot start position\n",
    "plt.plot(x_hist[0], y_hist[0], 'go')\n",
    "# Plot end position\n",
    "plt.plot(x_hist[-1], y_hist[-1], 'bo');\n",
    "\n",
    "del x_hist, y_hist"
   ]
  },
  {
   "cell_type": "markdown",
   "metadata": {
    "id": "QXewaRGWB_aZ"
   },
   "source": [
    "Well, it turns out we will still find our way to a minimum but our path there is quite a bit more chaotic. If we increase the learning rate any further gradient descent might just become even more unstable and either not find the minimum or completely overshoot it!\n",
    "\n",
    "Likewise, let's see what happens when we pass a really small learning rate of $0.001$. "
   ]
  },
  {
   "cell_type": "code",
   "execution_count": 267,
   "metadata": {
    "id": "bqimxmZbB_aZ",
    "outputId": "bddccd35-5dde-4453-eb4f-ec5b0508c37b",
    "scrolled": true
   },
   "outputs": [
    {
     "name": "stdout",
     "output_type": "stream",
     "text": [
      "(x, y): (1.000, 1.000), Grad: 2.0000, Scaled-grad: 0.0020\n",
      "(x, y): (0.998, 0.996), Grad: 1.9960, Scaled-grad: 0.0020\n",
      "(x, y): (0.996, 0.992), Grad: 1.9920, Scaled-grad: 0.0020\n",
      "(x, y): (0.994, 0.988), Grad: 1.9880, Scaled-grad: 0.0020\n",
      "(x, y): (0.992, 0.984), Grad: 1.9840, Scaled-grad: 0.0020\n",
      "(x, y): (0.990, 0.980), Grad: 1.9801, Scaled-grad: 0.0020\n",
      "(x, y): (0.988, 0.976), Grad: 1.9761, Scaled-grad: 0.0020\n",
      "(x, y): (0.986, 0.972), Grad: 1.9722, Scaled-grad: 0.0020\n",
      "(x, y): (0.984, 0.968), Grad: 1.9682, Scaled-grad: 0.0020\n",
      "(x, y): (0.982, 0.965), Grad: 1.9643, Scaled-grad: 0.0020\n",
      "(x, y): (0.980, 0.961), Grad: 1.9604, Scaled-grad: 0.0020\n",
      "(x, y): (0.978, 0.957), Grad: 1.9564, Scaled-grad: 0.0020\n",
      "(x, y): (0.976, 0.953), Grad: 1.9525, Scaled-grad: 0.0020\n",
      "(x, y): (0.974, 0.949), Grad: 1.9486, Scaled-grad: 0.0019\n",
      "(x, y): (0.972, 0.945), Grad: 1.9447, Scaled-grad: 0.0019\n",
      "(x, y): (0.970, 0.942), Grad: 1.9408, Scaled-grad: 0.0019\n",
      "(x, y): (0.968, 0.938), Grad: 1.9370, Scaled-grad: 0.0019\n",
      "(x, y): (0.967, 0.934), Grad: 1.9331, Scaled-grad: 0.0019\n",
      "(x, y): (0.965, 0.930), Grad: 1.9292, Scaled-grad: 0.0019\n",
      "(x, y): (0.963, 0.927), Grad: 1.9254, Scaled-grad: 0.0019\n",
      "(x, y): (0.961, 0.923), Grad: 1.9215, Scaled-grad: 0.0019\n",
      "(x, y): (0.959, 0.919), Grad: 1.9177, Scaled-grad: 0.0019\n",
      "(x, y): (0.957, 0.916), Grad: 1.9138, Scaled-grad: 0.0019\n",
      "(x, y): (0.955, 0.912), Grad: 1.9100, Scaled-grad: 0.0019\n",
      "(x, y): (0.953, 0.908), Grad: 1.9062, Scaled-grad: 0.0019\n",
      "(x, y): (0.951, 0.905), Grad: 1.9024, Scaled-grad: 0.0019\n",
      "(x, y): (0.949, 0.901), Grad: 1.8986, Scaled-grad: 0.0019\n",
      "(x, y): (0.947, 0.898), Grad: 1.8948, Scaled-grad: 0.0019\n",
      "(x, y): (0.945, 0.894), Grad: 1.8910, Scaled-grad: 0.0019\n",
      "(x, y): (0.944, 0.890), Grad: 1.8872, Scaled-grad: 0.0019\n",
      "(x, y): (0.942, 0.887), Grad: 1.8834, Scaled-grad: 0.0019\n",
      "(x, y): (0.940, 0.883), Grad: 1.8796, Scaled-grad: 0.0019\n",
      "(x, y): (0.938, 0.880), Grad: 1.8759, Scaled-grad: 0.0019\n",
      "(x, y): (0.936, 0.876), Grad: 1.8721, Scaled-grad: 0.0019\n",
      "(x, y): (0.934, 0.873), Grad: 1.8684, Scaled-grad: 0.0019\n",
      "(x, y): (0.932, 0.869), Grad: 1.8647, Scaled-grad: 0.0019\n",
      "(x, y): (0.930, 0.866), Grad: 1.8609, Scaled-grad: 0.0019\n",
      "(x, y): (0.929, 0.862), Grad: 1.8572, Scaled-grad: 0.0019\n",
      "(x, y): (0.927, 0.859), Grad: 1.8535, Scaled-grad: 0.0019\n",
      "(x, y): (0.925, 0.855), Grad: 1.8498, Scaled-grad: 0.0018\n",
      "(x, y): (0.923, 0.852), Grad: 1.8461, Scaled-grad: 0.0018\n",
      "(x, y): (0.921, 0.849), Grad: 1.8424, Scaled-grad: 0.0018\n",
      "(x, y): (0.919, 0.845), Grad: 1.8387, Scaled-grad: 0.0018\n",
      "(x, y): (0.918, 0.842), Grad: 1.8350, Scaled-grad: 0.0018\n",
      "(x, y): (0.916, 0.838), Grad: 1.8314, Scaled-grad: 0.0018\n",
      "(x, y): (0.914, 0.835), Grad: 1.8277, Scaled-grad: 0.0018\n",
      "(x, y): (0.912, 0.832), Grad: 1.8240, Scaled-grad: 0.0018\n",
      "(x, y): (0.910, 0.828), Grad: 1.8204, Scaled-grad: 0.0018\n",
      "(x, y): (0.908, 0.825), Grad: 1.8168, Scaled-grad: 0.0018\n",
      "(x, y): (0.907, 0.822), Grad: 1.8131, Scaled-grad: 0.0018\n",
      "(x, y): (0.905, 0.819), Grad: 1.8095, Scaled-grad: 0.0018\n",
      "(x, y): (0.903, 0.815), Grad: 1.8059, Scaled-grad: 0.0018\n",
      "(x, y): (0.901, 0.812), Grad: 1.8023, Scaled-grad: 0.0018\n",
      "(x, y): (0.899, 0.809), Grad: 1.7987, Scaled-grad: 0.0018\n",
      "(x, y): (0.898, 0.806), Grad: 1.7951, Scaled-grad: 0.0018\n",
      "(x, y): (0.896, 0.802), Grad: 1.7915, Scaled-grad: 0.0018\n",
      "(x, y): (0.894, 0.799), Grad: 1.7879, Scaled-grad: 0.0018\n",
      "(x, y): (0.892, 0.796), Grad: 1.7843, Scaled-grad: 0.0018\n",
      "(x, y): (0.890, 0.793), Grad: 1.7807, Scaled-grad: 0.0018\n",
      "(x, y): (0.889, 0.790), Grad: 1.7772, Scaled-grad: 0.0018\n",
      "(x, y): (0.887, 0.786), Grad: 1.7736, Scaled-grad: 0.0018\n",
      "(x, y): (0.885, 0.783), Grad: 1.7701, Scaled-grad: 0.0018\n",
      "(x, y): (0.883, 0.780), Grad: 1.7665, Scaled-grad: 0.0018\n",
      "(x, y): (0.882, 0.777), Grad: 1.7630, Scaled-grad: 0.0018\n",
      "(x, y): (0.880, 0.774), Grad: 1.7595, Scaled-grad: 0.0018\n",
      "(x, y): (0.878, 0.771), Grad: 1.7560, Scaled-grad: 0.0018\n",
      "(x, y): (0.876, 0.768), Grad: 1.7525, Scaled-grad: 0.0018\n",
      "(x, y): (0.874, 0.765), Grad: 1.7489, Scaled-grad: 0.0017\n",
      "(x, y): (0.873, 0.762), Grad: 1.7454, Scaled-grad: 0.0017\n",
      "(x, y): (0.871, 0.759), Grad: 1.7420, Scaled-grad: 0.0017\n",
      "(x, y): (0.869, 0.756), Grad: 1.7385, Scaled-grad: 0.0017\n",
      "(x, y): (0.867, 0.753), Grad: 1.7350, Scaled-grad: 0.0017\n",
      "(x, y): (0.866, 0.750), Grad: 1.7315, Scaled-grad: 0.0017\n",
      "(x, y): (0.864, 0.747), Grad: 1.7281, Scaled-grad: 0.0017\n",
      "(x, y): (0.862, 0.744), Grad: 1.7246, Scaled-grad: 0.0017\n",
      "(x, y): (0.861, 0.741), Grad: 1.7212, Scaled-grad: 0.0017\n",
      "(x, y): (0.859, 0.738), Grad: 1.7177, Scaled-grad: 0.0017\n",
      "(x, y): (0.857, 0.735), Grad: 1.7143, Scaled-grad: 0.0017\n",
      "(x, y): (0.855, 0.732), Grad: 1.7109, Scaled-grad: 0.0017\n",
      "(x, y): (0.854, 0.729), Grad: 1.7074, Scaled-grad: 0.0017\n",
      "(x, y): (0.852, 0.726), Grad: 1.7040, Scaled-grad: 0.0017\n",
      "(x, y): (0.850, 0.723), Grad: 1.7006, Scaled-grad: 0.0017\n",
      "(x, y): (0.849, 0.720), Grad: 1.6972, Scaled-grad: 0.0017\n",
      "(x, y): (0.847, 0.717), Grad: 1.6938, Scaled-grad: 0.0017\n",
      "(x, y): (0.845, 0.714), Grad: 1.6904, Scaled-grad: 0.0017\n",
      "(x, y): (0.844, 0.712), Grad: 1.6870, Scaled-grad: 0.0017\n",
      "(x, y): (0.842, 0.709), Grad: 1.6837, Scaled-grad: 0.0017\n",
      "(x, y): (0.840, 0.706), Grad: 1.6803, Scaled-grad: 0.0017\n",
      "(x, y): (0.838, 0.703), Grad: 1.6769, Scaled-grad: 0.0017\n",
      "(x, y): (0.837, 0.700), Grad: 1.6736, Scaled-grad: 0.0017\n",
      "(x, y): (0.835, 0.697), Grad: 1.6702, Scaled-grad: 0.0017\n",
      "(x, y): (0.833, 0.695), Grad: 1.6669, Scaled-grad: 0.0017\n",
      "(x, y): (0.832, 0.692), Grad: 1.6636, Scaled-grad: 0.0017\n",
      "(x, y): (0.830, 0.689), Grad: 1.6602, Scaled-grad: 0.0017\n",
      "(x, y): (0.828, 0.686), Grad: 1.6569, Scaled-grad: 0.0017\n",
      "(x, y): (0.827, 0.684), Grad: 1.6536, Scaled-grad: 0.0017\n",
      "(x, y): (0.825, 0.681), Grad: 1.6503, Scaled-grad: 0.0017\n",
      "(x, y): (0.823, 0.678), Grad: 1.6470, Scaled-grad: 0.0016\n",
      "(x, y): (0.822, 0.675), Grad: 1.6437, Scaled-grad: 0.0016\n",
      "(x, y): (0.820, 0.673), Grad: 1.6404, Scaled-grad: 0.0016\n",
      "Total iterations taken: 99\n"
     ]
    },
    {
     "data": {
      "image/png": "[encoded data removed]",
      "text/plain": [
       "<Figure size 432x288 with 1 Axes>"
      ]
     },
     "metadata": {
      "needs_background": "light"
     },
     "output_type": "display_data"
    }
   ],
   "source": [
    "x_hist, y_hist = gradient_descent(x_start, f, f_prime, n_iter=100, lr=.001)\n",
    "\n",
    "# Plot the x^2 function\n",
    "plot_function(f, xlabel='x', ylabel='y')\n",
    "# Plot the history of x-y coordinates (i.e., steps taken)\n",
    "plt.plot(x_hist, y_hist, 'ro-')\n",
    "# Plot start position\n",
    "plt.plot(x_hist[0], y_hist[0], 'go')\n",
    "# Plot end position\n",
    "plt.plot(x_hist[-1], y_hist[-1], 'bo');\n",
    "\n",
    "del x_hist, y_hist"
   ]
  },
  {
   "cell_type": "markdown",
   "metadata": {
    "id": "dXMD0KIIB_aZ"
   },
   "source": [
    "Notice even after 100 iterations we barely made it anywhere because our steps were too small. This means we would require loads more iterations before making it to the minimum and depending on the complexity of the problem this could be very time consuming!"
   ]
  },
  {
   "cell_type": "markdown",
   "metadata": {
    "id": "FtpD7SzDB_aZ"
   },
   "source": [
    "# Least Mean Squares \n",
    "\n",
    "Finally, let's practice *Least Means Squares (LMS)*, the online and iterative linear regression algorithm. Recall that the following equation is the update rule for slowly moving our weights towards achieving the smallest training error and hopefully the most optimal weights:\n",
    "\n",
    "$$\n",
    "\\begin{align}\n",
    "\\wv_{k+1} &=  \\wv_{k} - \\alpha \\nabla J(\\wv_{k}) \\\\\n",
    "&= \\wv_{k} - \\alpha \\Big( {\\wv_{k}}^\\top \\xv_i - y_i \\Big) \\xv_i.\\\\\n",
    "&= \\wv_{k} - \\alpha \\Big( \\hat{y} - y_i \\Big) \\xv_i.\n",
    "\\end{align}\n",
    "$$\n",
    "\n",
    "Here $\\wv_k$ is the current weight vector where each element corresponding to an input feature. $\\wv_{k+1}$ indicates the weights after being updated using  the current data sample $i$. $\\xv_i$ is the current data samples or vector of input features and $y_i$ is the current target for said data sample. "
   ]
  },
  {
   "cell_type": "markdown",
   "metadata": {
    "id": "M9REx4C6B_aZ"
   },
   "source": [
    "#### TODO 13\n",
    "Complete the TODO by finishing the `LeastMeanSqaures` class. Reference the LMS algorithm in our notes for help on the TODOs.\n",
    "\n",
    "1. First, complete the `self.predict()` method to which returns the prediction between our input data `X` and weights `self.w`. We'll be using this method to complete our `fit()` method as well!\n",
    "\n",
    "2. Initialize the weights `self.w` randomly using our instance variable `rng` of NumPy's `np.random.RandomState` class. To do so, use `rng.rand()` and pass it the **number of features** in our input data `X` to set the shape of the weights vector.  Store the output back into our class variable `self.w`.\n",
    "    1. Note: Recall we must have a weight for each feature in the data! Therefore, the shape of the weights must be a vector whose length is equal to *the number of features in the data*, including the added bias feature!\n",
    "    \n",
    "3. Make a prediction using our `self.predict()` method for the **CURRENT data sample indexed at `i`**. Do so by indexing the training data array `X` at index `i` to get the $i$th data sample and passing the data sample to  `self.predict()`. Store the output into `y_hat`.\n",
    "\n",
    "4. Convert the weight update equation $\\wv_{k+1} = \\wv_{k} - \\alpha \\Big( \\hat{y} - y_i \\Big) \\xv_i$ for the current data samples into code in order to update our weights `self.w`. Store the output into `self.w`.\n",
    "    1. Hint: $k$ does not correspond to anything specific in code. It is simply a term to refer to the weights before $k$ and after being updated $k+1$. \n",
    "    1. Hint: $i$ does refer to our data `X` being indexed at the data sample index `i`. In our case, $i$ is the index used to access the current data sample.\n",
    "    \n",
    "5. Compute the predictions for the **ENTIRE training data `X`** using the `self.predict()` method. Store the output into `preds`.\n",
    "    1. Note: This will allow us to see how well our model is doing at making predictions for the entire data after EACH weight update.\n",
    " \n",
    "6. Compute the RMSE between **ALL the training data labels `y` and their corresponding predictions `preds`** by using the `rmse()` function. Store the output in `trn_rmse`."
   ]
  },
  {
   "cell_type": "code",
   "execution_count": 331,
   "metadata": {
    "id": "M7LAGJdoB_aZ",
    "scrolled": true
   },
   "outputs": [],
   "source": [
    "import IPython.display as ipd  # for display and clear_output\n",
    "\n",
    "class LeastMeanSqaures():\n",
    "    def __init__(self, alpha=.001, epochs=1):\n",
    "        self.w = None\n",
    "        self.alpha = alpha\n",
    "        self.epochs = epochs\n",
    "        self.fig = plt.figure(figsize=(10,5))\n",
    "        self.trn_err_hist = []\n",
    "        \n",
    "    def predict(self, X):\n",
    "        # TODO 13.1\n",
    "        return X@self.w\n",
    "    \n",
    "    def fit(self, X, y, weight_seed=1):\n",
    "        m_samples = len(X)\n",
    "        \n",
    "        rng = np.random.RandomState(weight_seed)\n",
    "        # TODO 13.2\n",
    "        self.w = rng.rand(X.shape[1],1)\n",
    "        \n",
    "        print(\"Shape check...\")\n",
    "        print(f\"\\t X shape: {X.shape}\")\n",
    "        print(f\"\\t y shape: {y.shape}\")\n",
    "        print(f\"\\t w shape: {self.w.shape}\")\n",
    "\n",
    "        for e in range(self.epochs):\n",
    "            for i in range(m_samples):\n",
    "                print(f\"\\ty[i] shape: {y[i].shape}\")\n",
    "                print(f\"\\tX[i] shape: {X[i].shape}\")\n",
    "                \n",
    "                # TODO 13.3\n",
    "                y_hat = self.predict(X[i])\n",
    "                print(f\"\\ty_hat shape: {y_hat.shape}\")\n",
    "\n",
    "                # TODO 13.4\n",
    "                self.w = self.w - self.alpha * (y_hat - y[i]) * X[i].reshape(-1,1)\n",
    "\n",
    "                # TODO 13.5 \n",
    "                # Make prediction for all samples instead of the current sample `x[i]`\n",
    "                preds = self.predict(X)\n",
    "\n",
    "                # We need to reshape our preds to be a 2D array\n",
    "                # otherwise when we compute (preds - y)**2 we will\n",
    "                # get an array of shape (100, 100) instead of a (100, 1)\n",
    "                # this is due to the automatic broadcasting NumPy does!\n",
    "                preds = preds.reshape(-1, 1)\n",
    "                \n",
    "                # TODO 13.6\n",
    "                # the trn_rmse stores the RMSE of the current sample  `x[i]`\n",
    "                trn_rmse = rmse(y,preds)\n",
    "                self.trn_err_hist.append(trn_rmse) #Don't change this line. \n",
    "                # After the loop across all samples, the self.trn_err_hist stores the trn_rmse for all samples.\n",
    "                \n",
    "                # plot\n",
    "                self._plot_rmse_hist()\n",
    "        ipd.clear_output(wait=True)\n",
    "    \n",
    "\n",
    "    def _plot_rmse_hist(self):\n",
    "\n",
    "        plt.clf()\n",
    "        # Training RMSE tracking (left graph)\n",
    "        plt.subplot(1, 2, 1)\n",
    "        plt.plot(self.trn_err_hist)\n",
    "        plt.ylabel(f\"Training RMSE\")\n",
    "        plt.xlabel(\"Data Sample\")\n",
    "        plt.title(f\"RMSE History -  Current RMSE: {self.trn_err_hist[-1]}\")\n",
    "        \n",
    "        # clear display\n",
    "        ipd.clear_output(wait=True)\n",
    "        ipd.display(self.fig)"
   ]
  },
  {
   "cell_type": "markdown",
   "metadata": {
    "id": "z1ahHzQCB_aa"
   },
   "source": [
    "Run the **two code cells below** to check your implementation of the `LeastMeanSqaures` class. \n",
    "\n",
    "**Warning: The below code can take ~30 seconds, longer or shorter depending on your computer!**\n",
    "\n",
    "\n",
    "Notice that we plot the RMSE value for our entire training dataset every time we update our weights (each iteration). Since we update our weights for each data sample we can see that over time the RMSE value decreases, but not by a lot. Updating our model for each individual sample often leads to very chaotic learning if we use larger learning rates. \n",
    "\n",
    "Thus, our learning rate is very small $0.0001$ which makes learning slow. We can run multiple epochs to further try and reduce the RMSE but we could begin to overfit if we aren't too careful. In coming weeks we'll look at how to improve the gradient descent algorithm to get better results!"
   ]
  },
  {
   "cell_type": "code",
   "execution_count": 332,
   "metadata": {
    "id": "1vTKVxRNB_aa",
    "outputId": "d4d1a4d5-f850-472e-a24e-809c30b41e9d"
   },
   "outputs": [
    {
     "data": {
      "image/png": "[encoded data removed]",
      "text/plain": [
       "<Figure size 720x360 with 1 Axes>"
      ]
     },
     "metadata": {
      "needs_background": "light"
     },
     "output_type": "display_data"
    }
   ],
   "source": [
    "# Get our data and return them as NumPy arrays\n",
    "X_trn, y_trn, X_vld, y_vld, _, _ = data_prep(forestfire_df, \n",
    "                                             return_array=True)\n",
    "\n",
    "lms = LeastMeanSqaures(alpha=0.0001, epochs=1)\n",
    "lms.fit(X_trn, y_trn)\n",
    "y_hat_trn = lms.predict(X_trn)"
   ]
  },
  {
   "cell_type": "markdown",
   "metadata": {
    "id": "rCZ0wt0oB_aa"
   },
   "source": [
    "Let's analyze our model by plotting the predictions and reviewing the performance measures."
   ]
  },
  {
   "cell_type": "code",
   "execution_count": 333,
   "metadata": {
    "id": "EQAGnh-VB_aa",
    "outputId": "7b5f8319-8a9c-4784-b59b-1d3d7c0d2acd"
   },
   "outputs": [
    {
     "ename": "ValueError",
     "evalue": "operands could not be broadcast together with shapes (330,) (330,30) ",
     "output_type": "error",
     "traceback": [
      "\u001b[0;31m---------------------------------------------------------------------------\u001b[0m",
      "\u001b[0;31mValueError\u001b[0m                                Traceback (most recent call last)",
      "\u001b[0;32m<ipython-input-333-99188bd65801>\u001b[0m in \u001b[0;36m<module>\u001b[0;34m\u001b[0m\n\u001b[0;32m----> 1\u001b[0;31m _, trn_sse, trn_mse, trn_rmse = analyze(y_hat_trn, y_trn,\n\u001b[0m\u001b[1;32m      2\u001b[0m                                         \u001b[0mtitle\u001b[0m\u001b[0;34m=\u001b[0m\u001b[0;34m\"Training Predictions Log Transform\"\u001b[0m\u001b[0;34m,\u001b[0m\u001b[0;34m\u001b[0m\u001b[0;34m\u001b[0m\u001b[0m\n\u001b[1;32m      3\u001b[0m                                         \u001b[0mdataset\u001b[0m\u001b[0;34m=\u001b[0m\u001b[0;34m\"Training\"\u001b[0m\u001b[0;34m,\u001b[0m\u001b[0;34m\u001b[0m\u001b[0;34m\u001b[0m\u001b[0m\n\u001b[1;32m      4\u001b[0m                                         \u001b[0mxlabel\u001b[0m\u001b[0;34m=\u001b[0m\u001b[0;34m\"Data Sample Index\"\u001b[0m\u001b[0;34m,\u001b[0m\u001b[0;34m\u001b[0m\u001b[0;34m\u001b[0m\u001b[0m\n\u001b[1;32m      5\u001b[0m                                         ylabel=\"Log Area\")\n",
      "\u001b[0;32m<ipython-input-243-aa3fd1828ac5>\u001b[0m in \u001b[0;36manalyze\u001b[0;34m(y, y_hat, title, dataset, xlabel, ylabel)\u001b[0m\n\u001b[1;32m     11\u001b[0m     \"\"\"\n\u001b[1;32m     12\u001b[0m \u001b[0;34m\u001b[0m\u001b[0m\n\u001b[0;32m---> 13\u001b[0;31m     \u001b[0merr\u001b[0m\u001b[0;34m,\u001b[0m \u001b[0msse\u001b[0m\u001b[0;34m,\u001b[0m \u001b[0mmse_\u001b[0m\u001b[0;34m,\u001b[0m \u001b[0mrmse_\u001b[0m \u001b[0;34m=\u001b[0m \u001b[0mperformance_measures\u001b[0m\u001b[0;34m(\u001b[0m\u001b[0my\u001b[0m\u001b[0;34m=\u001b[0m\u001b[0my\u001b[0m\u001b[0;34m,\u001b[0m \u001b[0my_hat\u001b[0m\u001b[0;34m=\u001b[0m\u001b[0my_hat\u001b[0m\u001b[0;34m)\u001b[0m\u001b[0;34m\u001b[0m\u001b[0;34m\u001b[0m\u001b[0m\n\u001b[0m\u001b[1;32m     14\u001b[0m \u001b[0;34m\u001b[0m\u001b[0m\n\u001b[1;32m     15\u001b[0m     \u001b[0mplt\u001b[0m\u001b[0;34m.\u001b[0m\u001b[0mplot\u001b[0m\u001b[0;34m(\u001b[0m\u001b[0my\u001b[0m\u001b[0;34m,\u001b[0m \u001b[0;34m'ob'\u001b[0m\u001b[0;34m)\u001b[0m\u001b[0;34m\u001b[0m\u001b[0;34m\u001b[0m\u001b[0m\n",
      "\u001b[0;32m<ipython-input-241-59bc2c652c09>\u001b[0m in \u001b[0;36mperformance_measures\u001b[0;34m(y, y_hat)\u001b[0m\n\u001b[1;32m     12\u001b[0m \u001b[0;34m\u001b[0m\u001b[0m\n\u001b[1;32m     13\u001b[0m \u001b[0;32mdef\u001b[0m \u001b[0mperformance_measures\u001b[0m\u001b[0;34m(\u001b[0m\u001b[0my\u001b[0m\u001b[0;34m:\u001b[0m \u001b[0mnp\u001b[0m\u001b[0;34m.\u001b[0m\u001b[0mndarray\u001b[0m\u001b[0;34m,\u001b[0m \u001b[0my_hat\u001b[0m\u001b[0;34m:\u001b[0m \u001b[0mnp\u001b[0m\u001b[0;34m.\u001b[0m\u001b[0mndarray\u001b[0m\u001b[0;34m)\u001b[0m \u001b[0;34m->\u001b[0m \u001b[0mTuple\u001b[0m\u001b[0;34m[\u001b[0m\u001b[0mnp\u001b[0m\u001b[0;34m.\u001b[0m\u001b[0mndarray\u001b[0m\u001b[0;34m]\u001b[0m\u001b[0;34m:\u001b[0m\u001b[0;34m\u001b[0m\u001b[0;34m\u001b[0m\u001b[0m\n\u001b[0;32m---> 14\u001b[0;31m     \u001b[0merr\u001b[0m \u001b[0;34m=\u001b[0m \u001b[0merror\u001b[0m\u001b[0;34m(\u001b[0m\u001b[0my\u001b[0m\u001b[0;34m,\u001b[0m \u001b[0my_hat\u001b[0m\u001b[0;34m)\u001b[0m\u001b[0;34m\u001b[0m\u001b[0;34m\u001b[0m\u001b[0m\n\u001b[0m\u001b[1;32m     15\u001b[0m     \u001b[0msse\u001b[0m \u001b[0;34m=\u001b[0m \u001b[0mnp\u001b[0m\u001b[0;34m.\u001b[0m\u001b[0msum\u001b[0m\u001b[0;34m(\u001b[0m\u001b[0merr\u001b[0m\u001b[0;34m**\u001b[0m\u001b[0;36m2\u001b[0m\u001b[0;34m)\u001b[0m\u001b[0;34m\u001b[0m\u001b[0;34m\u001b[0m\u001b[0m\n\u001b[1;32m     16\u001b[0m     \u001b[0mmse_\u001b[0m \u001b[0;34m=\u001b[0m \u001b[0mmse\u001b[0m\u001b[0;34m(\u001b[0m\u001b[0my\u001b[0m\u001b[0;34m,\u001b[0m \u001b[0my_hat\u001b[0m\u001b[0;34m)\u001b[0m\u001b[0;34m\u001b[0m\u001b[0;34m\u001b[0m\u001b[0m\n",
      "\u001b[0;32m<ipython-input-241-59bc2c652c09>\u001b[0m in \u001b[0;36merror\u001b[0;34m(y, y_hat)\u001b[0m\n\u001b[1;32m      1\u001b[0m \u001b[0;32mdef\u001b[0m \u001b[0merror\u001b[0m\u001b[0;34m(\u001b[0m\u001b[0my\u001b[0m\u001b[0;34m,\u001b[0m \u001b[0my_hat\u001b[0m\u001b[0;34m)\u001b[0m\u001b[0;34m:\u001b[0m\u001b[0;34m\u001b[0m\u001b[0;34m\u001b[0m\u001b[0m\n\u001b[1;32m      2\u001b[0m     \u001b[0;31m# TODO 9.1\u001b[0m\u001b[0;34m\u001b[0m\u001b[0;34m\u001b[0m\u001b[0;34m\u001b[0m\u001b[0m\n\u001b[0;32m----> 3\u001b[0;31m     \u001b[0;32mreturn\u001b[0m \u001b[0;34m(\u001b[0m\u001b[0my_hat\u001b[0m\u001b[0;34m-\u001b[0m\u001b[0my\u001b[0m\u001b[0;34m)\u001b[0m\u001b[0;34m\u001b[0m\u001b[0;34m\u001b[0m\u001b[0m\n\u001b[0m\u001b[1;32m      4\u001b[0m \u001b[0;34m\u001b[0m\u001b[0m\n\u001b[1;32m      5\u001b[0m \u001b[0;32mdef\u001b[0m \u001b[0mmse\u001b[0m\u001b[0;34m(\u001b[0m\u001b[0my\u001b[0m\u001b[0;34m,\u001b[0m \u001b[0my_hat\u001b[0m\u001b[0;34m)\u001b[0m\u001b[0;34m:\u001b[0m\u001b[0;34m\u001b[0m\u001b[0;34m\u001b[0m\u001b[0m\n",
      "\u001b[0;31mValueError\u001b[0m: operands could not be broadcast together with shapes (330,) (330,30) "
     ]
    }
   ],
   "source": [
    "_, trn_sse, trn_mse, trn_rmse = analyze(y_hat_trn, y_trn,\n",
    "                                        title=\"Training Predictions Log Transform\",\n",
    "                                        dataset=\"Training\",\n",
    "                                        xlabel=\"Data Sample Index\",\n",
    "                                        ylabel=\"Log Area\")\n",
    "\n",
    "todo_check([\n",
    "    (np.isclose(trn_mse, 6.81587082640964, rtol=.01), 'trn_mse values is incorrect!'),\n",
    "    (np.isclose(trn_rmse, 2.6107222805977734, rtol=.01), 'trn_rmse values is incorrect!'),\n",
    "    (np.isclose(trn_sse, 2249.237372715181, rtol=.01), 'trn_sse values is incorrect!'),\n",
    "])"
   ]
  },
  {
   "cell_type": "markdown",
   "metadata": {
    "id": "pp8oBruyB_aa"
   },
   "source": [
    "Notice that our training MSE an RMSE are much higher than OLS which had a RMSE around ~1.34. Once agian, this most likely because we are updating our model for every data sample which leads to our model making vast changes from data sample to data sample even when a small learning rate is used. Additionally, since we are using smaller learning rates we might need to run more epochs in order to see similar MSE and RMSE scores to OLS (feel free to try this above but expect the `todo_check` to fail).\n",
    "\n",
    "Let's see if these higher scores are reflected in our validation data."
   ]
  },
  {
   "cell_type": "code",
   "execution_count": 307,
   "metadata": {
    "id": "kmFgMoChB_ab",
    "outputId": "d38520e8-f621-4441-bc43-31c7af492a67"
   },
   "outputs": [
    {
     "data": {
      "image/png": "[encoded data removed]",
      "text/plain": [
       "<Figure size 432x288 with 1 Axes>"
      ]
     },
     "metadata": {
      "needs_background": "light"
     },
     "output_type": "display_data"
    },
    {
     "name": "stdout",
     "output_type": "stream",
     "text": [
      "Validation MSE: 45.084100228247586\n",
      "Validation RMSE: 6.714469467370269\n",
      "Validation SSE: 310584.36647239764\n"
     ]
    }
   ],
   "source": [
    "y_hat_vld = lms.predict(X_vld)\n",
    "\n",
    "_, vld_sse, vld_mse, vld_rmse = analyze(y_hat_vld, y_vld,\n",
    "                                        title=\"Validation Predictions Log Transform\",\n",
    "                                        dataset=\"Validation\",\n",
    "                                        xlabel=\"Data Sample Index\",\n",
    "                                        ylabel=\"Log Area\")\n"
   ]
  },
  {
   "cell_type": "markdown",
   "metadata": {
    "id": "vz5a-W5iB_ab"
   },
   "source": [
    "Indeed our validation RMSE are much high than the OLS RMSE was about ~2.36.\n",
    "\n",
    "\n",
    "As shown in the two cells below, you can see the LMS model seems to be struggling with the data sample 80, which demonstrating the poor performance as the RMSE is very large."
   ]
  },
  {
   "cell_type": "code",
   "execution_count": 308,
   "metadata": {
    "id": "Xs58zlkAB_ab",
    "outputId": "3bc5afde-6fc9-446c-9b4c-2e7c80f699c3"
   },
   "outputs": [
    {
     "data": {
      "text/plain": [
       "array([56.23567835])"
      ]
     },
     "execution_count": 308,
     "metadata": {},
     "output_type": "execute_result"
    }
   ],
   "source": [
    "y_hat_vld[80]"
   ]
  },
  {
   "cell_type": "code",
   "execution_count": 309,
   "metadata": {
    "id": "avhxsGXLB_ab",
    "outputId": "5f0a1323-046c-4ee2-89c0-0ea71979cd78"
   },
   "outputs": [
    {
     "data": {
      "text/plain": [
       "2.469793011977952"
      ]
     },
     "execution_count": 309,
     "metadata": {},
     "output_type": "execute_result"
    }
   ],
   "source": [
    "y_vld[80]"
   ]
  },
  {
   "cell_type": "markdown",
   "metadata": {
    "id": "hRHQVJC3B_ab"
   },
   "source": [
    "At this point, we can see that the OLS model is simply performing better. Depending on how much better we wanted to make our results we could further pursue hyperparameter tuning, try training with different features on each of our models, or try different forms of gradient descent for LMS (we'll look at these different forms soon). \n",
    "\n",
    "However, for the sake of time, we are just going to choose the OLS model as the best performing model. This means we can now utilize our test set to see how well our OLS model performs."
   ]
  },
  {
   "cell_type": "code",
   "execution_count": 310,
   "metadata": {
    "id": "yHZqk_iLB_ac"
   },
   "outputs": [],
   "source": [
    "# Remove data variables for this section from memory\n",
    "garbage_collect(['X_trn', 'y_trn', 'X_vld', 'y_vld','y_hat_trn', 'trn_sse', 'trn_mse', 'trn_rmse', 'y_hat_vld', 'vld_sse', 'vld_mse', 'vld_rmse'])"
   ]
  },
  {
   "cell_type": "markdown",
   "metadata": {
    "id": "7b-EX9f4B_ac"
   },
   "source": [
    "# Testing our best model"
   ]
  },
  {
   "cell_type": "markdown",
   "metadata": {
    "id": "WYJUCDvhB_ac"
   },
   "source": [
    "Before utilizing your test set it is common practice to combine the training and validation set into a new training set and then use said larger training set to train a new model using your best model. Once trained, we can then analyze the model using our test set.\n",
    "\n"
   ]
  },
  {
   "cell_type": "code",
   "execution_count": 311,
   "metadata": {
    "id": "PYyG6BPBB_ac",
    "outputId": "69e71ddf-970e-439d-9843-7057d974f0bd"
   },
   "outputs": [
    {
     "name": "stdout",
     "output_type": "stream",
     "text": [
      "Training data shape: (330, 30)\n",
      "Training target shape: (330,)\n"
     ]
    }
   ],
   "source": [
    "# Get our data and return them as NumPy arrays\n",
    "X_trn, y_trn, X_vld, y_vld, X_tst, y_tst = data_prep(forestfire_df, \n",
    "                                                     return_array=True)\n",
    "\n",
    "print(f\"Training data shape: {X_trn.shape}\")\n",
    "print(f\"Training target shape: {y_trn.shape}\")\n"
   ]
  },
  {
   "cell_type": "markdown",
   "metadata": {
    "id": "ZQPMC8jwB_ac"
   },
   "source": [
    "Below we fit our OLS model using the combined training and validation sets and analyze our training predictions and metrics."
   ]
  },
  {
   "cell_type": "code",
   "execution_count": 312,
   "metadata": {
    "id": "d6Vw8m5IB_ac",
    "outputId": "d76c4b6d-3776-4c95-b5d1-56a717794371"
   },
   "outputs": [
    {
     "data": {
      "image/png": "[encoded data removed]",
      "text/plain": [
       "<Figure size 432x288 with 1 Axes>"
      ]
     },
     "metadata": {
      "needs_background": "light"
     },
     "output_type": "display_data"
    },
    {
     "name": "stdout",
     "output_type": "stream",
     "text": [
      "Training MSE: 1.7974549413600216\n",
      "Training RMSE: 1.3406919636366967\n",
      "Training SSE: 593.1601306488071\n"
     ]
    }
   ],
   "source": [
    "ols = OrdinaryLeastSquares()\n",
    "ols.fit(X_trn, y_trn)\n",
    "\n",
    "ols_y_hat_trn = ols.predict(X_trn)\n",
    "\n",
    "_, ols_trn_sse, ols_trn_mse, ols_trn_rmse = analyze(ols_y_hat_trn, y_trn,\n",
    "                                                    title=\"OLS Training Predictions Log Transform\",\n",
    "                                                    dataset=\"Training\",\n",
    "                                                    xlabel=\"Data Sample Index\",\n",
    "                                                    ylabel=\"Log Area\")"
   ]
  },
  {
   "cell_type": "markdown",
   "metadata": {
    "id": "T7AqJ-ILB_ad"
   },
   "source": [
    "With the added data we can see we got slightly lower scores than before. Recall our prior training MSE was around ~1.79 and our training RMSE was around ~1.34.\n",
    "\n",
    "Now, let's see how we do on the test set!\n",
    "\n",
    "#### TODO 14\n",
    "Complete the TODO by feeding the testing set to the linear model.\n",
    "\n",
    "1. Feed testing features `X_tst` to the `ols.predict()` for prediction.. Store the output into `ols_y_tst_hat`.\n",
    "2. Feed the predicted results `ols_y_tst_hat` and true label `y_tst`, as two arguments, to the function of  `analyze`. \n",
    "\n",
    "There is no todo checker here."
   ]
  },
  {
   "cell_type": "code",
   "execution_count": 313,
   "metadata": {
    "id": "xMiOmg9HB_ad",
    "outputId": "3ea22672-71ad-45bd-a656-5ea82ec9c0f3"
   },
   "outputs": [
    {
     "data": {
      "image/png": "[encoded data removed]",
      "text/plain": [
       "<Figure size 432x288 with 1 Axes>"
      ]
     },
     "metadata": {
      "needs_background": "light"
     },
     "output_type": "display_data"
    },
    {
     "name": "stdout",
     "output_type": "stream",
     "text": [
      "Testing MSE: 2.472095602075285\n",
      "Testing RMSE: 1.5722899230343255\n",
      "Testing SSE: 257.09794261582965\n"
     ]
    }
   ],
   "source": [
    "#TODO 14.1\n",
    "ols_y_tst_hat = ols.predict(X_tst)\n",
    "\n",
    "_, ols_tst_sse, ols_tst_mse, ols_tst_rmse = analyze(ols_y_tst_hat, y_tst,\n",
    "                                                    # TODO 14.2 (write down your code in the following line)\n",
    "\n",
    "                                                    title=\"OLS Testing Predictions Log Transform\",\n",
    "                                                    dataset=\"Testing\",\n",
    "                                                    xlabel=\"Data Sample Index\",\n",
    "                                                    ylabel=\"Log Area\")\n"
   ]
  },
  {
   "cell_type": "markdown",
   "metadata": {
    "id": "UAVtoRxSB_ad"
   },
   "source": [
    "Not too bad, these test scores are actually lower than our validation scores we originally had for OLS. Recall, our original validation MSE was about ~5.57 and the RMSE was about ~2.36. "
   ]
  }
 ],
 "metadata": {
  "colab": {
   "collapsed_sections": [],
   "provenance": []
  },
  "kernelspec": {
   "display_name": "Python 3",
   "language": "python",
   "name": "python3"
  },
  "language_info": {
   "codemirror_mode": {
    "name": "ipython",
    "version": 3
   },
   "file_extension": ".py",
   "mimetype": "text/x-python",
   "name": "python",
   "nbconvert_exporter": "python",
   "pygments_lexer": "ipython3",
   "version": "3.8.8"
  },
  "toc": {
   "base_numbering": 1,
   "nav_menu": {},
   "number_sections": true,
   "sideBar": true,
   "skip_h1_title": false,
   "title_cell": "Table of Contents",
   "title_sidebar": "Contents",
   "toc_cell": false,
   "toc_position": {
    "height": "calc(100% - 180px)",
    "left": "10px",
    "top": "150px",
    "width": "216px"
   },
   "toc_section_display": true,
   "toc_window_display": true
  }
 },
 "nbformat": 4,
 "nbformat_minor": 1
}
