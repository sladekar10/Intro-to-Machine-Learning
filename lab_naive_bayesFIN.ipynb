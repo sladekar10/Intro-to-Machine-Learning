{
 "cells": [
  {
   "cell_type": "markdown",
   "id": "0dbc6343",
   "metadata": {
    "id": "0dbc6343"
   },
   "source": [
    "\n",
    "\n",
    "# Naive Bayes \n",
    "\n",
    "Course: ITCS 4156 - Introduction to Machine Learning \n",
    "\n",
    "Instructor: Xiang Zhang\n",
    "\n",
    "$\\newcommand{\\xv}{\\mathbf{x}}\n",
    " \\newcommand{\\wv}{\\mathbf{w}}\n",
    " \\newcommand{\\yv}{\\mathbf{y}}\n",
    " \\newcommand{\\zv}{\\mathbf{z}}\n",
    " \\newcommand{\\uv}{\\mathbf{u}}\n",
    " \\newcommand{\\vv}{\\mathbf{v}}\n",
    " \\newcommand{\\tv}{\\mathbf{t}}\n",
    " \\newcommand{\\Chi}{\\mathcal{X}}\n",
    " \\newcommand{\\R}{\\rm I\\!R}\n",
    " \\newcommand{\\sign}{\\text{sign}}\n",
    " \\newcommand{\\Tm}{\\mathbf{T}}\n",
    " \\newcommand{\\Xm}{\\mathbf{X}}\n",
    " \\newcommand{\\Zm}{\\mathbf{Z}}\n",
    " \\newcommand{\\Im}{\\mathbf{I}}\n",
    " \\newcommand{\\Um}{\\mathbf{U}}\n",
    " \\newcommand{\\Vm}{\\mathbf{V}} \n",
    " \\newcommand{\\muv}{\\boldsymbol\\mu}\n",
    " \\newcommand{\\Sigmav}{\\boldsymbol\\Sigma}\n",
    " \\newcommand{\\Lambdav}{\\boldsymbol\\Lambda}\n",
    "$"
   ]
  },
  {
   "cell_type": "markdown",
   "id": "e54b5d9e",
   "metadata": {
    "id": "e54b5d9e"
   },
   "source": [
    "<br/>\n",
    "<font color=\"blue\"><b>\n",
    "\n",
    "NAME: *Shardul Ladekar*\n",
    "\n",
    "</b> </font>"
   ]
  },
  {
   "cell_type": "markdown",
   "id": "7b79167e",
   "metadata": {
    "id": "7b79167e"
   },
   "source": [
    "## Goal\n",
    "\n",
    "The goal of this activity is to practice using the Gaussian Naive Bayes algorithm. To do so, we'll look at using the Iris dataset which is one of the most famous classical machine learning classification datasets.\n",
    "\n",
    "Your job is to read through the lab and fill in any code segments that are marked by `TODO` headers and comments. **It should be noted, that all the correct outputs are given below each code cell. It might be useful to duplicate all the `TODO` cells so you can try to match the correct output with your own code!**\n",
    "\n",
    "Use the `todo_check()`to help guide you in understanding whether your code for a given TODO is correct or incorrect. However, failing a TODO check doesn't mean you won't receive points, though it could be a good indication. If you are failing feel free to ask and we can help check what is happening."
   ]
  },
  {
   "cell_type": "markdown",
   "id": "e15cbe8e",
   "metadata": {
    "id": "e15cbe8e"
   },
   "source": [
    "## Agenda\n",
    "\n",
    "- Review and load the Iris dataset via Sklearn\n",
    "- Quickly re-visualize the Iris dataset\n",
    "- Create the data preparation pipeline where we apply data preprocessing AFTER splitting\n",
    "- Implement Gaussian Naive Bayes\n",
    "- Investigate multi-class classification using different features"
   ]
  },
  {
   "cell_type": "markdown",
   "id": "7903b01e",
   "metadata": {
    "id": "7903b01e"
   },
   "source": [
    "## Table of notation\n",
    "\n",
    "| Symbol                     | Meaning                     | Symbol    | Meaning                                                          |\n",
    "|----------------------------|-----------------------------|-----------|------------------------------------------------------------------|\n",
    "| $\\xv$ or $\\vec{x}$         | feature/input vector        | $x_i$     | $i$th element of $\\xv$                                           |\n",
    "| $\\Xm$                      | input matrix                | $x_{i,j}$ | $i$th row and $j$th column of $\\Xm$                              |\n",
    "| $\\yv$ or $\\tv$             | labels/targets              | $n$       | number of features or columns \n",
    "| $\\wv$ or $\\mathbf{\\theta}$ | weight/parameter vector     | $m$       | number of data samples <br>(also used to refer to the slope) |samples or rows                                   |\n",
    "| $f$ or $h$                 | hypothesis function <br> (i.e., a model)        | $\\hat{\\yv}$ <br> $f(\\xv {;} \\wv)$<br>$h(\\xv {;} \\wv)$ | predictions <br> y-hat |\n",
    "| $E$              | error or sum of error (loss)  | $SSE$      | sum of squared error function                                            |\n",
    "| $MSE$                      | mean squared error| $\\nabla$  | gradient (nabla)                                       |\n",
    "| $\\partial$                 | partial derivative          | $\\alpha$  | learning rate (alpha)                                  |       \n",
    "| $J$ | general placeholder for <br>the objective function | $x^T$| transpose of a vector or matrix |\n",
    "$b$ | bias or y-intercept term | $T$ | Threshold |\n",
    "$*$| element-wise<br> multiplication | $\\cdot$ | dot product|\n",
    "| $z$<br>$\\zv$| value before applying activation function |  $X, Y$ | Random variables |\n",
    "| $K$| number/set of classes | $k$ | current class|\n",
    "| $MAP$|  maximum a posteriori | $ML$ |  maximum likelihood|\n"
   ]
  },
  {
   "cell_type": "markdown",
   "id": "d94abe3e",
   "metadata": {
    "id": "d94abe3e"
   },
   "source": [
    "## Imports "
   ]
  },
  {
   "cell_type": "code",
   "execution_count": 1,
   "id": "3b1fcfb1",
   "metadata": {
    "id": "3b1fcfb1"
   },
   "outputs": [],
   "source": [
    "import gc\n",
    "from typing import Tuple, Union, List\n",
    "\n",
    "# Debugger\n",
    "from IPython.core.debugger import set_trace\n",
    "\n",
    "import sklearn\n",
    "sklearn_version = '1.0'\n",
    "# Check to make sure you have the right version of sklearn\n",
    "assert sklearn.__version__  > sklearn_version, f'sklearn version is only {sklearn.__version__} and needs to be > {sklearn_version}'\n",
    "\n",
    "import numpy as np\n",
    "np.set_printoptions(suppress=True)\n",
    "import pandas as pd\n",
    "import matplotlib.pyplot as plt \n",
    "\n",
    "%matplotlib inline"
   ]
  },
  {
   "cell_type": "code",
   "execution_count": 2,
   "id": "1e691ad2",
   "metadata": {
    "id": "1e691ad2"
   },
   "outputs": [],
   "source": [
    "# Set this to True if you DO NOT want to run the \n",
    "# garbage_collect() functions throughout the notebook\n",
    "turn_off_garbage_collect = False\n",
    "\n",
    "def garbage_collect(vars_):\n",
    "    if not turn_off_garbage_collect:\n",
    "        for v in vars_:\n",
    "            if v in globals():\n",
    "                del globals()[v]\n",
    "        collected = gc.collect()\n",
    "\n",
    "def todo_check(condi_err):\n",
    "    failed_err = \"You passed {}/{} and FAILED the following code checks:{}\"\n",
    "    failed = \"\"\n",
    "    n_failed = 0\n",
    "    for check, (condi, err) in enumerate(condi_err):\n",
    "        if not condi:\n",
    "            n_failed += 1\n",
    "            failed += f\"\\nFailed check [{check+1}]:\\n\\t Tip: {err}\"\n",
    "\n",
    "    if len(failed) != 0:\n",
    "        passed = len(condi_err) - n_failed\n",
    "        err = failed_err.format(passed, len(condi_err), failed)\n",
    "        raise AssertionError(err.format(failed))\n",
    "    print(\"Your code PASSED the code check!\")"
   ]
  },
  {
   "cell_type": "markdown",
   "id": "a11dad86",
   "metadata": {
    "id": "a11dad86"
   },
   "source": [
    "# Problem statement summary and data loading\n",
    "\n",
    "## Iris dataset problem summary\n",
    "\n",
    "<img src=\"https://external-content.duckduckgo.com/iu/?u=https%3A%2F%2Fmiro.medium.com%2Fmax%2F1400%2F0*_WfmSKzMX-u_xVyc.png&f=1&nofb=1\">\n",
    "\n",
    "\n",
    "The data we are going to be using for this lab is the famous iris dataset. This dataset is a frequently used dataset when first being introduced to classification in machine learning. [Kaggle's](https://www.kaggle.com/arshid/iris-flower-dataset)  description of the dataset is as follows:\n",
    "\n",
    "> The Iris flower data set is a multivariate data set introduced by the British statistician and biologist Ronald Fisher in his 1936 paper. The use of multiple measurements in taxonomic problems. It is sometimes called Anderson's Iris dataset because Edgar Anderson collected the data to quantify the morphologic variation of Iris flowers of 3 related species. The dataset consists of 50 samples from each of three species of Iris (Iris Setosa, Iris virginica, and Iris versicolor). 4 features were measured from each sample: the length and the width of the sepals and petals, in centimeters.\n",
    "\n",
    "Thus, the goal of this data is a three-way multi-classification problem where we must classify each data sample either as an iris setosa, iris virginica or iris versicolor."
   ]
  },
  {
   "cell_type": "markdown",
   "id": "85a2dd3e",
   "metadata": {
    "id": "85a2dd3e"
   },
   "source": [
    "## Loading the data\n",
    "Famous datasets like the Iris dataset can often be found within machine learning packages, meaning all you have to do is import the dataset via a given package. For instance, Scikit Learn (sklearn) already has the Iris dataset built into its library. All we need to do is simply import it! "
   ]
  },
  {
   "cell_type": "markdown",
   "id": "01f4b3f2",
   "metadata": {
    "id": "01f4b3f2"
   },
   "source": [
    "#### TODO 1\n",
    "Complete the TODO by loading the Iris dataset using Sklearn.\n",
    "\n",
    "1. Import the `load_iris()` function from `sklearn.datasets` ([docs](https://scikit-learn.org/stable/modules/generated/sklearn.datasets.load_iris.html)).\n",
    "2. Load the Iris dataset by calling the `load_iris()` function. Store the output into `iris`."
   ]
  },
  {
   "cell_type": "code",
   "execution_count": 4,
   "id": "cb575f8e",
   "metadata": {
    "id": "cb575f8e",
    "outputId": "734c63bc-b2a9-4b7d-d1f3-7f784ffb2203"
   },
   "outputs": [
    {
     "name": "stdout",
     "output_type": "stream",
     "text": [
      "Your code PASSED the code check!\n"
     ]
    }
   ],
   "source": [
    "# TODO 1.1\n",
    "from sklearn.datasets import load_iris\n",
    "\n",
    "# TODO 1.2\n",
    "iris = load_iris()\n",
    "\n",
    "todo_check([\n",
    "    (type(iris) == sklearn.utils.Bunch, \"'iris' is not of type Bunch\")\n",
    "])"
   ]
  },
  {
   "cell_type": "markdown",
   "id": "497fdeba",
   "metadata": {
    "id": "497fdeba"
   },
   "source": [
    "Remember, the `iris` variable stores a class instance of Skleanr's e `sklearn.utils.Bunch` (see last module's lab).\n",
    "\n",
    "Below, we can access the data, feature names, class targets/labels, and class names."
   ]
  },
  {
   "cell_type": "code",
   "execution_count": 5,
   "id": "f60c5a45",
   "metadata": {
    "id": "f60c5a45",
    "outputId": "42a8ae17-5165-4c23-c5ba-39c174eeb22b"
   },
   "outputs": [
    {
     "data": {
      "text/plain": [
       "array([[5.1, 3.5, 1.4, 0.2],\n",
       "       [4.9, 3. , 1.4, 0.2],\n",
       "       [4.7, 3.2, 1.3, 0.2],\n",
       "       [4.6, 3.1, 1.5, 0.2],\n",
       "       [5. , 3.6, 1.4, 0.2],\n",
       "       [5.4, 3.9, 1.7, 0.4],\n",
       "       [4.6, 3.4, 1.4, 0.3],\n",
       "       [5. , 3.4, 1.5, 0.2],\n",
       "       [4.4, 2.9, 1.4, 0.2],\n",
       "       [4.9, 3.1, 1.5, 0.1],\n",
       "       [5.4, 3.7, 1.5, 0.2],\n",
       "       [4.8, 3.4, 1.6, 0.2],\n",
       "       [4.8, 3. , 1.4, 0.1],\n",
       "       [4.3, 3. , 1.1, 0.1],\n",
       "       [5.8, 4. , 1.2, 0.2],\n",
       "       [5.7, 4.4, 1.5, 0.4],\n",
       "       [5.4, 3.9, 1.3, 0.4],\n",
       "       [5.1, 3.5, 1.4, 0.3],\n",
       "       [5.7, 3.8, 1.7, 0.3],\n",
       "       [5.1, 3.8, 1.5, 0.3],\n",
       "       [5.4, 3.4, 1.7, 0.2],\n",
       "       [5.1, 3.7, 1.5, 0.4],\n",
       "       [4.6, 3.6, 1. , 0.2],\n",
       "       [5.1, 3.3, 1.7, 0.5],\n",
       "       [4.8, 3.4, 1.9, 0.2],\n",
       "       [5. , 3. , 1.6, 0.2],\n",
       "       [5. , 3.4, 1.6, 0.4],\n",
       "       [5.2, 3.5, 1.5, 0.2],\n",
       "       [5.2, 3.4, 1.4, 0.2],\n",
       "       [4.7, 3.2, 1.6, 0.2],\n",
       "       [4.8, 3.1, 1.6, 0.2],\n",
       "       [5.4, 3.4, 1.5, 0.4],\n",
       "       [5.2, 4.1, 1.5, 0.1],\n",
       "       [5.5, 4.2, 1.4, 0.2],\n",
       "       [4.9, 3.1, 1.5, 0.2],\n",
       "       [5. , 3.2, 1.2, 0.2],\n",
       "       [5.5, 3.5, 1.3, 0.2],\n",
       "       [4.9, 3.6, 1.4, 0.1],\n",
       "       [4.4, 3. , 1.3, 0.2],\n",
       "       [5.1, 3.4, 1.5, 0.2],\n",
       "       [5. , 3.5, 1.3, 0.3],\n",
       "       [4.5, 2.3, 1.3, 0.3],\n",
       "       [4.4, 3.2, 1.3, 0.2],\n",
       "       [5. , 3.5, 1.6, 0.6],\n",
       "       [5.1, 3.8, 1.9, 0.4],\n",
       "       [4.8, 3. , 1.4, 0.3],\n",
       "       [5.1, 3.8, 1.6, 0.2],\n",
       "       [4.6, 3.2, 1.4, 0.2],\n",
       "       [5.3, 3.7, 1.5, 0.2],\n",
       "       [5. , 3.3, 1.4, 0.2],\n",
       "       [7. , 3.2, 4.7, 1.4],\n",
       "       [6.4, 3.2, 4.5, 1.5],\n",
       "       [6.9, 3.1, 4.9, 1.5],\n",
       "       [5.5, 2.3, 4. , 1.3],\n",
       "       [6.5, 2.8, 4.6, 1.5],\n",
       "       [5.7, 2.8, 4.5, 1.3],\n",
       "       [6.3, 3.3, 4.7, 1.6],\n",
       "       [4.9, 2.4, 3.3, 1. ],\n",
       "       [6.6, 2.9, 4.6, 1.3],\n",
       "       [5.2, 2.7, 3.9, 1.4],\n",
       "       [5. , 2. , 3.5, 1. ],\n",
       "       [5.9, 3. , 4.2, 1.5],\n",
       "       [6. , 2.2, 4. , 1. ],\n",
       "       [6.1, 2.9, 4.7, 1.4],\n",
       "       [5.6, 2.9, 3.6, 1.3],\n",
       "       [6.7, 3.1, 4.4, 1.4],\n",
       "       [5.6, 3. , 4.5, 1.5],\n",
       "       [5.8, 2.7, 4.1, 1. ],\n",
       "       [6.2, 2.2, 4.5, 1.5],\n",
       "       [5.6, 2.5, 3.9, 1.1],\n",
       "       [5.9, 3.2, 4.8, 1.8],\n",
       "       [6.1, 2.8, 4. , 1.3],\n",
       "       [6.3, 2.5, 4.9, 1.5],\n",
       "       [6.1, 2.8, 4.7, 1.2],\n",
       "       [6.4, 2.9, 4.3, 1.3],\n",
       "       [6.6, 3. , 4.4, 1.4],\n",
       "       [6.8, 2.8, 4.8, 1.4],\n",
       "       [6.7, 3. , 5. , 1.7],\n",
       "       [6. , 2.9, 4.5, 1.5],\n",
       "       [5.7, 2.6, 3.5, 1. ],\n",
       "       [5.5, 2.4, 3.8, 1.1],\n",
       "       [5.5, 2.4, 3.7, 1. ],\n",
       "       [5.8, 2.7, 3.9, 1.2],\n",
       "       [6. , 2.7, 5.1, 1.6],\n",
       "       [5.4, 3. , 4.5, 1.5],\n",
       "       [6. , 3.4, 4.5, 1.6],\n",
       "       [6.7, 3.1, 4.7, 1.5],\n",
       "       [6.3, 2.3, 4.4, 1.3],\n",
       "       [5.6, 3. , 4.1, 1.3],\n",
       "       [5.5, 2.5, 4. , 1.3],\n",
       "       [5.5, 2.6, 4.4, 1.2],\n",
       "       [6.1, 3. , 4.6, 1.4],\n",
       "       [5.8, 2.6, 4. , 1.2],\n",
       "       [5. , 2.3, 3.3, 1. ],\n",
       "       [5.6, 2.7, 4.2, 1.3],\n",
       "       [5.7, 3. , 4.2, 1.2],\n",
       "       [5.7, 2.9, 4.2, 1.3],\n",
       "       [6.2, 2.9, 4.3, 1.3],\n",
       "       [5.1, 2.5, 3. , 1.1],\n",
       "       [5.7, 2.8, 4.1, 1.3],\n",
       "       [6.3, 3.3, 6. , 2.5],\n",
       "       [5.8, 2.7, 5.1, 1.9],\n",
       "       [7.1, 3. , 5.9, 2.1],\n",
       "       [6.3, 2.9, 5.6, 1.8],\n",
       "       [6.5, 3. , 5.8, 2.2],\n",
       "       [7.6, 3. , 6.6, 2.1],\n",
       "       [4.9, 2.5, 4.5, 1.7],\n",
       "       [7.3, 2.9, 6.3, 1.8],\n",
       "       [6.7, 2.5, 5.8, 1.8],\n",
       "       [7.2, 3.6, 6.1, 2.5],\n",
       "       [6.5, 3.2, 5.1, 2. ],\n",
       "       [6.4, 2.7, 5.3, 1.9],\n",
       "       [6.8, 3. , 5.5, 2.1],\n",
       "       [5.7, 2.5, 5. , 2. ],\n",
       "       [5.8, 2.8, 5.1, 2.4],\n",
       "       [6.4, 3.2, 5.3, 2.3],\n",
       "       [6.5, 3. , 5.5, 1.8],\n",
       "       [7.7, 3.8, 6.7, 2.2],\n",
       "       [7.7, 2.6, 6.9, 2.3],\n",
       "       [6. , 2.2, 5. , 1.5],\n",
       "       [6.9, 3.2, 5.7, 2.3],\n",
       "       [5.6, 2.8, 4.9, 2. ],\n",
       "       [7.7, 2.8, 6.7, 2. ],\n",
       "       [6.3, 2.7, 4.9, 1.8],\n",
       "       [6.7, 3.3, 5.7, 2.1],\n",
       "       [7.2, 3.2, 6. , 1.8],\n",
       "       [6.2, 2.8, 4.8, 1.8],\n",
       "       [6.1, 3. , 4.9, 1.8],\n",
       "       [6.4, 2.8, 5.6, 2.1],\n",
       "       [7.2, 3. , 5.8, 1.6],\n",
       "       [7.4, 2.8, 6.1, 1.9],\n",
       "       [7.9, 3.8, 6.4, 2. ],\n",
       "       [6.4, 2.8, 5.6, 2.2],\n",
       "       [6.3, 2.8, 5.1, 1.5],\n",
       "       [6.1, 2.6, 5.6, 1.4],\n",
       "       [7.7, 3. , 6.1, 2.3],\n",
       "       [6.3, 3.4, 5.6, 2.4],\n",
       "       [6.4, 3.1, 5.5, 1.8],\n",
       "       [6. , 3. , 4.8, 1.8],\n",
       "       [6.9, 3.1, 5.4, 2.1],\n",
       "       [6.7, 3.1, 5.6, 2.4],\n",
       "       [6.9, 3.1, 5.1, 2.3],\n",
       "       [5.8, 2.7, 5.1, 1.9],\n",
       "       [6.8, 3.2, 5.9, 2.3],\n",
       "       [6.7, 3.3, 5.7, 2.5],\n",
       "       [6.7, 3. , 5.2, 2.3],\n",
       "       [6.3, 2.5, 5. , 1.9],\n",
       "       [6.5, 3. , 5.2, 2. ],\n",
       "       [6.2, 3.4, 5.4, 2.3],\n",
       "       [5.9, 3. , 5.1, 1.8]])"
      ]
     },
     "execution_count": 5,
     "metadata": {},
     "output_type": "execute_result"
    }
   ],
   "source": [
    "iris.data"
   ]
  },
  {
   "cell_type": "code",
   "execution_count": 6,
   "id": "11a0c674",
   "metadata": {
    "id": "11a0c674",
    "outputId": "9d33bc1f-5ade-4fcb-9ea9-1f83734089e9"
   },
   "outputs": [
    {
     "data": {
      "text/plain": [
       "['sepal length (cm)',\n",
       " 'sepal width (cm)',\n",
       " 'petal length (cm)',\n",
       " 'petal width (cm)']"
      ]
     },
     "execution_count": 6,
     "metadata": {},
     "output_type": "execute_result"
    }
   ],
   "source": [
    "iris.feature_names"
   ]
  },
  {
   "cell_type": "markdown",
   "id": "797a763e",
   "metadata": {
    "id": "797a763e"
   },
   "source": [
    "**Here we can see that label 0 corresponds to 'setosa', label 1 corresponds to 'versicolor', and label 2 corresponds to 'virginica' as the class labels in `iris.targets` correspond to the index of `iris.target_names`.** \n"
   ]
  },
  {
   "cell_type": "code",
   "execution_count": 7,
   "id": "3c60b5ff",
   "metadata": {
    "id": "3c60b5ff",
    "outputId": "55457d25-63a0-47c3-a454-794770536050"
   },
   "outputs": [
    {
     "data": {
      "text/plain": [
       "array([0, 0, 0, 0, 0, 0, 0, 0, 0, 0, 0, 0, 0, 0, 0, 0, 0, 0, 0, 0, 0, 0,\n",
       "       0, 0, 0, 0, 0, 0, 0, 0, 0, 0, 0, 0, 0, 0, 0, 0, 0, 0, 0, 0, 0, 0,\n",
       "       0, 0, 0, 0, 0, 0, 1, 1, 1, 1, 1, 1, 1, 1, 1, 1, 1, 1, 1, 1, 1, 1,\n",
       "       1, 1, 1, 1, 1, 1, 1, 1, 1, 1, 1, 1, 1, 1, 1, 1, 1, 1, 1, 1, 1, 1,\n",
       "       1, 1, 1, 1, 1, 1, 1, 1, 1, 1, 1, 1, 2, 2, 2, 2, 2, 2, 2, 2, 2, 2,\n",
       "       2, 2, 2, 2, 2, 2, 2, 2, 2, 2, 2, 2, 2, 2, 2, 2, 2, 2, 2, 2, 2, 2,\n",
       "       2, 2, 2, 2, 2, 2, 2, 2, 2, 2, 2, 2, 2, 2, 2, 2, 2, 2])"
      ]
     },
     "execution_count": 7,
     "metadata": {},
     "output_type": "execute_result"
    }
   ],
   "source": [
    "iris.target"
   ]
  },
  {
   "cell_type": "code",
   "execution_count": 8,
   "id": "c548825f",
   "metadata": {
    "id": "c548825f",
    "outputId": "543dd2d6-9a9f-43cf-d60d-02ae95cbb7a5"
   },
   "outputs": [
    {
     "data": {
      "text/plain": [
       "array(['setosa', 'versicolor', 'virginica'], dtype='<U10')"
      ]
     },
     "execution_count": 8,
     "metadata": {},
     "output_type": "execute_result"
    }
   ],
   "source": [
    "iris.target_names"
   ]
  },
  {
   "cell_type": "markdown",
   "id": "a35f296f",
   "metadata": {
    "id": "a35f296f"
   },
   "source": [
    "## Converting to a DataFrame\n",
    "\n",
    "Before moving on, let's covert the iris data into a Pandas DataFrame so we can reuse the data cleaning and transformation classes we defined in prior labs."
   ]
  },
  {
   "cell_type": "code",
   "execution_count": 9,
   "id": "252303bd",
   "metadata": {
    "id": "252303bd",
    "outputId": "b5879b14-27b1-4768-81f3-7d30e39f07e0"
   },
   "outputs": [
    {
     "data": {
      "text/html": [
       "<div>\n",
       "<style scoped>\n",
       "    .dataframe tbody tr th:only-of-type {\n",
       "        vertical-align: middle;\n",
       "    }\n",
       "\n",
       "    .dataframe tbody tr th {\n",
       "        vertical-align: top;\n",
       "    }\n",
       "\n",
       "    .dataframe thead th {\n",
       "        text-align: right;\n",
       "    }\n",
       "</style>\n",
       "<table border=\"1\" class=\"dataframe\">\n",
       "  <thead>\n",
       "    <tr style=\"text-align: right;\">\n",
       "      <th></th>\n",
       "      <th>sepal length</th>\n",
       "      <th>sepal width</th>\n",
       "      <th>petal length</th>\n",
       "      <th>petal width</th>\n",
       "      <th>class</th>\n",
       "    </tr>\n",
       "  </thead>\n",
       "  <tbody>\n",
       "    <tr>\n",
       "      <th>0</th>\n",
       "      <td>5.1</td>\n",
       "      <td>3.5</td>\n",
       "      <td>1.4</td>\n",
       "      <td>0.2</td>\n",
       "      <td>0.0</td>\n",
       "    </tr>\n",
       "    <tr>\n",
       "      <th>1</th>\n",
       "      <td>4.9</td>\n",
       "      <td>3.0</td>\n",
       "      <td>1.4</td>\n",
       "      <td>0.2</td>\n",
       "      <td>0.0</td>\n",
       "    </tr>\n",
       "    <tr>\n",
       "      <th>2</th>\n",
       "      <td>4.7</td>\n",
       "      <td>3.2</td>\n",
       "      <td>1.3</td>\n",
       "      <td>0.2</td>\n",
       "      <td>0.0</td>\n",
       "    </tr>\n",
       "    <tr>\n",
       "      <th>3</th>\n",
       "      <td>4.6</td>\n",
       "      <td>3.1</td>\n",
       "      <td>1.5</td>\n",
       "      <td>0.2</td>\n",
       "      <td>0.0</td>\n",
       "    </tr>\n",
       "    <tr>\n",
       "      <th>4</th>\n",
       "      <td>5.0</td>\n",
       "      <td>3.6</td>\n",
       "      <td>1.4</td>\n",
       "      <td>0.2</td>\n",
       "      <td>0.0</td>\n",
       "    </tr>\n",
       "    <tr>\n",
       "      <th>...</th>\n",
       "      <td>...</td>\n",
       "      <td>...</td>\n",
       "      <td>...</td>\n",
       "      <td>...</td>\n",
       "      <td>...</td>\n",
       "    </tr>\n",
       "    <tr>\n",
       "      <th>145</th>\n",
       "      <td>6.7</td>\n",
       "      <td>3.0</td>\n",
       "      <td>5.2</td>\n",
       "      <td>2.3</td>\n",
       "      <td>2.0</td>\n",
       "    </tr>\n",
       "    <tr>\n",
       "      <th>146</th>\n",
       "      <td>6.3</td>\n",
       "      <td>2.5</td>\n",
       "      <td>5.0</td>\n",
       "      <td>1.9</td>\n",
       "      <td>2.0</td>\n",
       "    </tr>\n",
       "    <tr>\n",
       "      <th>147</th>\n",
       "      <td>6.5</td>\n",
       "      <td>3.0</td>\n",
       "      <td>5.2</td>\n",
       "      <td>2.0</td>\n",
       "      <td>2.0</td>\n",
       "    </tr>\n",
       "    <tr>\n",
       "      <th>148</th>\n",
       "      <td>6.2</td>\n",
       "      <td>3.4</td>\n",
       "      <td>5.4</td>\n",
       "      <td>2.3</td>\n",
       "      <td>2.0</td>\n",
       "    </tr>\n",
       "    <tr>\n",
       "      <th>149</th>\n",
       "      <td>5.9</td>\n",
       "      <td>3.0</td>\n",
       "      <td>5.1</td>\n",
       "      <td>1.8</td>\n",
       "      <td>2.0</td>\n",
       "    </tr>\n",
       "  </tbody>\n",
       "</table>\n",
       "<p>150 rows × 5 columns</p>\n",
       "</div>"
      ],
      "text/plain": [
       "     sepal length  sepal width  petal length  petal width  class\n",
       "0             5.1          3.5           1.4          0.2    0.0\n",
       "1             4.9          3.0           1.4          0.2    0.0\n",
       "2             4.7          3.2           1.3          0.2    0.0\n",
       "3             4.6          3.1           1.5          0.2    0.0\n",
       "4             5.0          3.6           1.4          0.2    0.0\n",
       "..            ...          ...           ...          ...    ...\n",
       "145           6.7          3.0           5.2          2.3    2.0\n",
       "146           6.3          2.5           5.0          1.9    2.0\n",
       "147           6.5          3.0           5.2          2.0    2.0\n",
       "148           6.2          3.4           5.4          2.3    2.0\n",
       "149           5.9          3.0           5.1          1.8    2.0\n",
       "\n",
       "[150 rows x 5 columns]"
      ]
     },
     "metadata": {},
     "output_type": "display_data"
    }
   ],
   "source": [
    "# We have to reshape iris.target so that it is a 2D array\n",
    "# such that it can be stacked with iris.data\n",
    "data = np.hstack([iris.data, iris.target.reshape(-1,1)])\n",
    "\n",
    "# Removes the (cm) from iris.feature_names \n",
    "cleaned_feature_names = [name.replace(' (cm)', '') for name in iris.feature_names]\n",
    "feature_names = np.hstack([cleaned_feature_names, 'class'])\n",
    "\n",
    "iris_df = pd.DataFrame(data, columns=feature_names)\n",
    "display(iris_df)"
   ]
  },
  {
   "cell_type": "markdown",
   "id": "d9500d65",
   "metadata": {
    "id": "d9500d65"
   },
   "source": [
    "# Visualization and exploration\n",
    "\n",
    "## All features against each other\n",
    "\n",
    "Now, let's plot all our features against one another and see if our classes are still linear separable. We can do so using Seaborn's `pairplot()` function. Recall, Seaborn is just a high-level wrapper of Matplotlib that allows for more complex plots in few lines of code. Also, Seaborn produces much prettier plots! \n",
    "\n",
    "Typically, Seaborn works by taking in a DataFrame and plotting the columns of the DataFrame. Notice that the `hue` argument takes in the name 'class' which is the column in our `iris_df` that contains the class labels. Thus, Seaborn determines the colors of each data sample based on the 'class' column! Meaning, each unique label gets it's own color. In turn, this means each class setosa (label 0), versicolor (label 1), and virginica (label 2) are color coded. If you are interested in how `pairplot()` works see the [docs](https://seaborn.pydata.org/generated/seaborn.pairplot.html).\n",
    "\n",
    "The `pairplot()` plots all our features against each other. Therefore, the plots are duplicated across the main diagonal, however the axises are switched. Further, the main diagonal shows each feature plotted again its self. However, instead of actually plotting each feature against itself, it shows the distribution of the feature values for each class. For instance, when looking at sepal length, we can see the distribution of the values of sepal length for each class."
   ]
  },
  {
   "cell_type": "code",
   "execution_count": 14,
   "id": "2a4f537c",
   "metadata": {
    "id": "2a4f537c",
    "outputId": "8355f47a-8bf9-4f31-89d5-42854e25c3de"
   },
   "outputs": [
    {
     "data": {
      "image/png": "[encoded data removed]",
      "text/plain": [
       "<Figure size 772x720 with 20 Axes>"
      ]
     },
     "metadata": {
      "needs_background": "light"
     },
     "output_type": "display_data"
    }
   ],
   "source": [
    "import seaborn as sns\n",
    "sns.pairplot(iris_df, hue='class', palette=\"tab10\");"
   ]
  },
  {
   "cell_type": "markdown",
   "id": "f21b52ac",
   "metadata": {
    "id": "f21b52ac"
   },
   "source": [
    "# Data Preparation Pipeline\n",
    "\n",
    "Now it's time to recreate our data preparation pipelines we used in prior weeks. In this lab we will,once again, apply all our data cleaning and transformation operations AFTER splitting the data. \n",
    "\n",
    "*Note, in this lab, we don't need to formulate our problem as a binary classification problem as Naive Bayes is capable of doing multi-class classification.* "
   ]
  },
  {
   "cell_type": "markdown",
   "id": "1ed8fc55",
   "metadata": {
    "id": "1ed8fc55"
   },
   "source": [
    "## Splitting data\n",
    "\n",
    "Below, are the splitting functions we'll be using once again to split our data. "
   ]
  },
  {
   "cell_type": "code",
   "execution_count": 15,
   "id": "94321f79",
   "metadata": {
    "id": "94321f79"
   },
   "outputs": [],
   "source": [
    "def feature_label_split(df: pd.DataFrame, \n",
    "                        label_name: str) -> Tuple[pd.DataFrame]:\n",
    "    \"\"\" Split dataframe into features and labels\n",
    "    \n",
    "        Args:\n",
    "            df: DataFrame containing both features and labels\n",
    "            \n",
    "            label_name: Name of the column which contains the labels\n",
    "    \"\"\"\n",
    "    \n",
    "    X = df.drop(label_name, axis=1)\n",
    "    y = df[[label_name]].copy()\n",
    "    \n",
    "    return X, y"
   ]
  },
  {
   "cell_type": "markdown",
   "id": "91df3ce7",
   "metadata": {
    "id": "91df3ce7"
   },
   "source": [
    "The below `TEST_feature_label_split()` function provides example code for how to call the `feature_label_split()` function."
   ]
  },
  {
   "cell_type": "code",
   "execution_count": 16,
   "id": "9715c1c6",
   "metadata": {
    "id": "9715c1c6",
    "outputId": "a9aeb7be-859d-468e-e226-f4abb7faeb89"
   },
   "outputs": [
    {
     "data": {
      "text/html": [
       "<div>\n",
       "<style scoped>\n",
       "    .dataframe tbody tr th:only-of-type {\n",
       "        vertical-align: middle;\n",
       "    }\n",
       "\n",
       "    .dataframe tbody tr th {\n",
       "        vertical-align: top;\n",
       "    }\n",
       "\n",
       "    .dataframe thead th {\n",
       "        text-align: right;\n",
       "    }\n",
       "</style>\n",
       "<table border=\"1\" class=\"dataframe\">\n",
       "  <thead>\n",
       "    <tr style=\"text-align: right;\">\n",
       "      <th></th>\n",
       "      <th>sepal length</th>\n",
       "      <th>sepal width</th>\n",
       "      <th>petal length</th>\n",
       "      <th>petal width</th>\n",
       "    </tr>\n",
       "  </thead>\n",
       "  <tbody>\n",
       "    <tr>\n",
       "      <th>0</th>\n",
       "      <td>5.1</td>\n",
       "      <td>3.5</td>\n",
       "      <td>1.4</td>\n",
       "      <td>0.2</td>\n",
       "    </tr>\n",
       "    <tr>\n",
       "      <th>1</th>\n",
       "      <td>4.9</td>\n",
       "      <td>3.0</td>\n",
       "      <td>1.4</td>\n",
       "      <td>0.2</td>\n",
       "    </tr>\n",
       "    <tr>\n",
       "      <th>2</th>\n",
       "      <td>4.7</td>\n",
       "      <td>3.2</td>\n",
       "      <td>1.3</td>\n",
       "      <td>0.2</td>\n",
       "    </tr>\n",
       "    <tr>\n",
       "      <th>3</th>\n",
       "      <td>4.6</td>\n",
       "      <td>3.1</td>\n",
       "      <td>1.5</td>\n",
       "      <td>0.2</td>\n",
       "    </tr>\n",
       "    <tr>\n",
       "      <th>4</th>\n",
       "      <td>5.0</td>\n",
       "      <td>3.6</td>\n",
       "      <td>1.4</td>\n",
       "      <td>0.2</td>\n",
       "    </tr>\n",
       "    <tr>\n",
       "      <th>...</th>\n",
       "      <td>...</td>\n",
       "      <td>...</td>\n",
       "      <td>...</td>\n",
       "      <td>...</td>\n",
       "    </tr>\n",
       "    <tr>\n",
       "      <th>145</th>\n",
       "      <td>6.7</td>\n",
       "      <td>3.0</td>\n",
       "      <td>5.2</td>\n",
       "      <td>2.3</td>\n",
       "    </tr>\n",
       "    <tr>\n",
       "      <th>146</th>\n",
       "      <td>6.3</td>\n",
       "      <td>2.5</td>\n",
       "      <td>5.0</td>\n",
       "      <td>1.9</td>\n",
       "    </tr>\n",
       "    <tr>\n",
       "      <th>147</th>\n",
       "      <td>6.5</td>\n",
       "      <td>3.0</td>\n",
       "      <td>5.2</td>\n",
       "      <td>2.0</td>\n",
       "    </tr>\n",
       "    <tr>\n",
       "      <th>148</th>\n",
       "      <td>6.2</td>\n",
       "      <td>3.4</td>\n",
       "      <td>5.4</td>\n",
       "      <td>2.3</td>\n",
       "    </tr>\n",
       "    <tr>\n",
       "      <th>149</th>\n",
       "      <td>5.9</td>\n",
       "      <td>3.0</td>\n",
       "      <td>5.1</td>\n",
       "      <td>1.8</td>\n",
       "    </tr>\n",
       "  </tbody>\n",
       "</table>\n",
       "<p>150 rows × 4 columns</p>\n",
       "</div>"
      ],
      "text/plain": [
       "     sepal length  sepal width  petal length  petal width\n",
       "0             5.1          3.5           1.4          0.2\n",
       "1             4.9          3.0           1.4          0.2\n",
       "2             4.7          3.2           1.3          0.2\n",
       "3             4.6          3.1           1.5          0.2\n",
       "4             5.0          3.6           1.4          0.2\n",
       "..            ...          ...           ...          ...\n",
       "145           6.7          3.0           5.2          2.3\n",
       "146           6.3          2.5           5.0          1.9\n",
       "147           6.5          3.0           5.2          2.0\n",
       "148           6.2          3.4           5.4          2.3\n",
       "149           5.9          3.0           5.1          1.8\n",
       "\n",
       "[150 rows x 4 columns]"
      ]
     },
     "metadata": {},
     "output_type": "display_data"
    },
    {
     "data": {
      "text/html": [
       "<div>\n",
       "<style scoped>\n",
       "    .dataframe tbody tr th:only-of-type {\n",
       "        vertical-align: middle;\n",
       "    }\n",
       "\n",
       "    .dataframe tbody tr th {\n",
       "        vertical-align: top;\n",
       "    }\n",
       "\n",
       "    .dataframe thead th {\n",
       "        text-align: right;\n",
       "    }\n",
       "</style>\n",
       "<table border=\"1\" class=\"dataframe\">\n",
       "  <thead>\n",
       "    <tr style=\"text-align: right;\">\n",
       "      <th></th>\n",
       "      <th>class</th>\n",
       "    </tr>\n",
       "  </thead>\n",
       "  <tbody>\n",
       "    <tr>\n",
       "      <th>0</th>\n",
       "      <td>0.0</td>\n",
       "    </tr>\n",
       "    <tr>\n",
       "      <th>1</th>\n",
       "      <td>0.0</td>\n",
       "    </tr>\n",
       "    <tr>\n",
       "      <th>2</th>\n",
       "      <td>0.0</td>\n",
       "    </tr>\n",
       "    <tr>\n",
       "      <th>3</th>\n",
       "      <td>0.0</td>\n",
       "    </tr>\n",
       "    <tr>\n",
       "      <th>4</th>\n",
       "      <td>0.0</td>\n",
       "    </tr>\n",
       "    <tr>\n",
       "      <th>...</th>\n",
       "      <td>...</td>\n",
       "    </tr>\n",
       "    <tr>\n",
       "      <th>145</th>\n",
       "      <td>2.0</td>\n",
       "    </tr>\n",
       "    <tr>\n",
       "      <th>146</th>\n",
       "      <td>2.0</td>\n",
       "    </tr>\n",
       "    <tr>\n",
       "      <th>147</th>\n",
       "      <td>2.0</td>\n",
       "    </tr>\n",
       "    <tr>\n",
       "      <th>148</th>\n",
       "      <td>2.0</td>\n",
       "    </tr>\n",
       "    <tr>\n",
       "      <th>149</th>\n",
       "      <td>2.0</td>\n",
       "    </tr>\n",
       "  </tbody>\n",
       "</table>\n",
       "<p>150 rows × 1 columns</p>\n",
       "</div>"
      ],
      "text/plain": [
       "     class\n",
       "0      0.0\n",
       "1      0.0\n",
       "2      0.0\n",
       "3      0.0\n",
       "4      0.0\n",
       "..     ...\n",
       "145    2.0\n",
       "146    2.0\n",
       "147    2.0\n",
       "148    2.0\n",
       "149    2.0\n",
       "\n",
       "[150 rows x 1 columns]"
      ]
     },
     "metadata": {},
     "output_type": "display_data"
    }
   ],
   "source": [
    "def TEST_feature_label_split():\n",
    "    X, y = feature_label_split(iris_df, label_name='class')\n",
    "    display(X)\n",
    "    display(y)\n",
    "    \n",
    "TEST_feature_label_split()\n",
    "garbage_collect(['TEST_feature_label_split'])"
   ]
  },
  {
   "cell_type": "code",
   "execution_count": 17,
   "id": "78f29e08",
   "metadata": {
    "id": "78f29e08"
   },
   "outputs": [],
   "source": [
    "from sklearn.model_selection import train_test_split\n",
    "\n",
    "def train_valid_test_split(X, y, test_size=.2, seed=42):\n",
    "    X_trn, X_tst, y_trn, y_tst = train_test_split(X, y, test_size=test_size, random_state=seed)\n",
    "    X_trn, X_vld, y_trn, y_vld = train_test_split(X_trn, y_trn, test_size=test_size, random_state=seed)\n",
    "\n",
    "    return X_trn, y_trn, X_vld, y_vld, X_tst, y_tst"
   ]
  },
  {
   "cell_type": "markdown",
   "id": "ee7710ca",
   "metadata": {
    "id": "ee7710ca"
   },
   "source": [
    "The below `TEST_train_valid_test_split()` function provides example code for how to call both functions `feature_label_split()` and `train_valid_test_split()`."
   ]
  },
  {
   "cell_type": "code",
   "execution_count": 18,
   "id": "f65b3bb6",
   "metadata": {
    "id": "f65b3bb6",
    "outputId": "4fba4cc5-7693-4b99-b19f-a5d7d632724d"
   },
   "outputs": [
    {
     "name": "stdout",
     "output_type": "stream",
     "text": [
      "X_trn shape: (96, 4)\n",
      "y_trn shape: (96, 1)\n",
      "X_vld shape: (24, 4)\n",
      "y_vld shape: (24, 1)\n",
      "X_tst shape: (30, 4)\n",
      "y_tst shape: (30, 1)\n"
     ]
    }
   ],
   "source": [
    "def TEST_train_valid_test_split():\n",
    "    # Split into features and labels\n",
    "    X, y = feature_label_split(iris_df, label_name='class')\n",
    "    # Split into train, validation, and test sets\n",
    "    data = train_valid_test_split(X, y)\n",
    "    X_trn, y_trn, X_vld, y_vld, X_tst, y_tst = data\n",
    "\n",
    "    print(f\"X_trn shape: {X_trn.shape}\")\n",
    "    print(f\"y_trn shape: {y_trn.shape}\")\n",
    "    print(f\"X_vld shape: {X_vld.shape}\")\n",
    "    print(f\"y_vld shape: {y_vld.shape}\")\n",
    "    print(f\"X_tst shape: {X_tst.shape}\")\n",
    "    print(f\"y_tst shape: {y_tst.shape}\")\n",
    "    \n",
    "TEST_train_valid_test_split()\n",
    "garbage_collect(['TEST_train_valid_test_split'])"
   ]
  },
  {
   "cell_type": "markdown",
   "id": "d84e0e54",
   "metadata": {
    "id": "d84e0e54"
   },
   "source": [
    "## Transforming and cleaning data\n",
    "\n",
    "This module's data cleaning is very easy. All we really need to do is apply standardization to our input features. Keep in mind, we do **NOT** need the `AddBias` class as Naive Bayes does not require any bias term. "
   ]
  },
  {
   "cell_type": "code",
   "execution_count": 19,
   "id": "86a32b0e",
   "metadata": {
    "id": "86a32b0e"
   },
   "outputs": [],
   "source": [
    "from sklearn.base import BaseEstimator, TransformerMixin\n",
    "from sklearn.pipeline import Pipeline"
   ]
  },
  {
   "cell_type": "markdown",
   "id": "ba09cf4a",
   "metadata": {
    "id": "ba09cf4a"
   },
   "source": [
    "### Feature cleaning\n",
    "\n",
    "The only feature cleaning classes we'll need is our `Standardization` classes which we redefine for you below."
   ]
  },
  {
   "cell_type": "code",
   "execution_count": 20,
   "id": "9421b2a4",
   "metadata": {
    "id": "9421b2a4"
   },
   "outputs": [],
   "source": [
    "class Standardization(BaseEstimator, TransformerMixin):\n",
    "    def __init__(self):\n",
    "        self.feature_names = None\n",
    "    \n",
    "    def fit(self,\n",
    "            X: pd.DataFrame, \n",
    "            y: pd.DataFrame = None) -> pd.DataFrame:\n",
    "        \n",
    "        self.mean = np.mean(X, axis=0)\n",
    "        self.std = np.std(X, axis=0)\n",
    "        return self\n",
    "    \n",
    "    def transform(self, \n",
    "                  X: pd.DataFrame, \n",
    "                  y: pd.DataFrame = None) -> pd.DataFrame:\n",
    "        self.feature_names = X.columns\n",
    "        return (X  - self.mean) / self.std\n",
    "\n",
    "    def get_feature_names(self) -> pd.Series:\n",
    "        return self.feature_names"
   ]
  },
  {
   "cell_type": "markdown",
   "id": "f72d8050",
   "metadata": {
    "id": "f72d8050"
   },
   "source": [
    "#### TODO 2\n",
    "Complete the TODO by finishing the `feature_pipeline()` function.\n",
    "\n",
    "1. Define an instance of Sklearn's `Pipeline` class which applies the `Standardization` class. Store the output into `feature_pipe`.\n",
    "    1. Hint: Recall the `Pipeline` class takes in a **list of tuples** where each tuple contains two elements: string and a class instance.\n",
    "    1. Hint: You can set the first element of each tuple to whatever string you would like.\n",
    "\n",
    "\n",
    "2. Fit and transform the training data `X_trn` using the `feature_pipe` instance. Store the transformed output into `X_trn_clean`.\n",
    "\n",
    "\n",
    "3. Transform the validation data `X_vld`. Store the output into `X_vld_clean`.\n",
    "\n",
    "\n",
    "4. Transform the test data `X_tst`. Store the output into `X_tst_clean`."
   ]
  },
  {
   "cell_type": "code",
   "execution_count": 29,
   "id": "68f73ca0",
   "metadata": {
    "id": "68f73ca0"
   },
   "outputs": [],
   "source": [
    "def feature_pipeline(\n",
    "    X_trn: pd.DataFrame, \n",
    "    X_vld: pd.DataFrame, \n",
    "    X_tst: pd.DataFrame, \n",
    ") -> List[pd.DataFrame]:\n",
    "    \"\"\" Creates column transformers and pipelines to apply data cleaning and \n",
    "        transfornations to the input features of our data.\n",
    "        \n",
    "        Args:\n",
    "            X_trn: train features\n",
    "            \n",
    "            X_vld: validation features\n",
    "            \n",
    "            X_tst: test features\n",
    "    \"\"\"\n",
    "    # TODO 2.1\n",
    "    feature_pipe = Pipeline([(\"standardization\", Standardization())])\n",
    "    \n",
    "    # TODO 2.2\n",
    "    X_trn_clean = feature_pipe.fit_transform(X_trn)\n",
    "    # TODO 2.3\n",
    "    X_vld_clean = feature_pipe.transform(X_vld)\n",
    "    # TODO 2.4\n",
    "    X_tst_clean = feature_pipe.transform(X_tst)\n",
    "    \n",
    "    return X_trn_clean, X_vld_clean, X_tst_clean"
   ]
  },
  {
   "cell_type": "markdown",
   "id": "6e108f67",
   "metadata": {
    "id": "6e108f67"
   },
   "source": [
    "Run the below `TEST_feature_pipeline()` function to test your `feature_pipeline()` function implementation."
   ]
  },
  {
   "cell_type": "code",
   "execution_count": 30,
   "id": "d9bd7078",
   "metadata": {
    "id": "d9bd7078",
    "outputId": "f1b6449e-aabc-4ebb-8098-8967111e5f98"
   },
   "outputs": [
    {
     "name": "stdout",
     "output_type": "stream",
     "text": [
      "X_trn shape: (96, 4)\n",
      "X_trn type: <class 'pandas.core.frame.DataFrame'>\n",
      "X_vld shape: (24, 4)\n",
      "X_vld type: <class 'pandas.core.frame.DataFrame'>\n",
      "X_tst shape: (30, 4)\n",
      "X_tst type: <class 'pandas.core.frame.DataFrame'>\n"
     ]
    },
    {
     "data": {
      "text/html": [
       "<div>\n",
       "<style scoped>\n",
       "    .dataframe tbody tr th:only-of-type {\n",
       "        vertical-align: middle;\n",
       "    }\n",
       "\n",
       "    .dataframe tbody tr th {\n",
       "        vertical-align: top;\n",
       "    }\n",
       "\n",
       "    .dataframe thead th {\n",
       "        text-align: right;\n",
       "    }\n",
       "</style>\n",
       "<table border=\"1\" class=\"dataframe\">\n",
       "  <thead>\n",
       "    <tr style=\"text-align: right;\">\n",
       "      <th></th>\n",
       "      <th>sepal length</th>\n",
       "      <th>sepal width</th>\n",
       "      <th>petal length</th>\n",
       "      <th>petal width</th>\n",
       "    </tr>\n",
       "  </thead>\n",
       "  <tbody>\n",
       "    <tr>\n",
       "      <th>138</th>\n",
       "      <td>0.161107</td>\n",
       "      <td>-0.237179</td>\n",
       "      <td>0.583828</td>\n",
       "      <td>0.779968</td>\n",
       "    </tr>\n",
       "    <tr>\n",
       "      <th>86</th>\n",
       "      <td>1.013582</td>\n",
       "      <td>-0.016119</td>\n",
       "      <td>0.527329</td>\n",
       "      <td>0.386569</td>\n",
       "    </tr>\n",
       "    <tr>\n",
       "      <th>81</th>\n",
       "      <td>-0.447803</td>\n",
       "      <td>-1.563541</td>\n",
       "      <td>-0.037666</td>\n",
       "      <td>-0.269096</td>\n",
       "    </tr>\n",
       "    <tr>\n",
       "      <th>20</th>\n",
       "      <td>-0.569585</td>\n",
       "      <td>0.647062</td>\n",
       "      <td>-1.167657</td>\n",
       "      <td>-1.318160</td>\n",
       "    </tr>\n",
       "    <tr>\n",
       "      <th>112</th>\n",
       "      <td>1.135364</td>\n",
       "      <td>-0.237179</td>\n",
       "      <td>0.979325</td>\n",
       "      <td>1.173367</td>\n",
       "    </tr>\n",
       "    <tr>\n",
       "      <th>...</th>\n",
       "      <td>...</td>\n",
       "      <td>...</td>\n",
       "      <td>...</td>\n",
       "      <td>...</td>\n",
       "    </tr>\n",
       "    <tr>\n",
       "      <th>130</th>\n",
       "      <td>1.866056</td>\n",
       "      <td>-0.679300</td>\n",
       "      <td>1.318322</td>\n",
       "      <td>0.911101</td>\n",
       "    </tr>\n",
       "    <tr>\n",
       "      <th>10</th>\n",
       "      <td>-0.569585</td>\n",
       "      <td>1.310243</td>\n",
       "      <td>-1.280656</td>\n",
       "      <td>-1.318160</td>\n",
       "    </tr>\n",
       "    <tr>\n",
       "      <th>58</th>\n",
       "      <td>0.891800</td>\n",
       "      <td>-0.458240</td>\n",
       "      <td>0.470829</td>\n",
       "      <td>0.124303</td>\n",
       "    </tr>\n",
       "    <tr>\n",
       "      <th>49</th>\n",
       "      <td>-1.056713</td>\n",
       "      <td>0.426002</td>\n",
       "      <td>-1.337156</td>\n",
       "      <td>-1.318160</td>\n",
       "    </tr>\n",
       "    <tr>\n",
       "      <th>37</th>\n",
       "      <td>-1.178495</td>\n",
       "      <td>1.089183</td>\n",
       "      <td>-1.337156</td>\n",
       "      <td>-1.449293</td>\n",
       "    </tr>\n",
       "  </tbody>\n",
       "</table>\n",
       "<p>96 rows × 4 columns</p>\n",
       "</div>"
      ],
      "text/plain": [
       "     sepal length  sepal width  petal length  petal width\n",
       "138      0.161107    -0.237179      0.583828     0.779968\n",
       "86       1.013582    -0.016119      0.527329     0.386569\n",
       "81      -0.447803    -1.563541     -0.037666    -0.269096\n",
       "20      -0.569585     0.647062     -1.167657    -1.318160\n",
       "112      1.135364    -0.237179      0.979325     1.173367\n",
       "..            ...          ...           ...          ...\n",
       "130      1.866056    -0.679300      1.318322     0.911101\n",
       "10      -0.569585     1.310243     -1.280656    -1.318160\n",
       "58       0.891800    -0.458240      0.470829     0.124303\n",
       "49      -1.056713     0.426002     -1.337156    -1.318160\n",
       "37      -1.178495     1.089183     -1.337156    -1.449293\n",
       "\n",
       "[96 rows x 4 columns]"
      ]
     },
     "metadata": {},
     "output_type": "display_data"
    },
    {
     "name": "stdout",
     "output_type": "stream",
     "text": [
      "Your code PASSED the code check!\n"
     ]
    }
   ],
   "source": [
    "def TEST_feature_pipeline(): \n",
    "    # Apply feature and label splitting\n",
    "    X, y = feature_label_split(iris_df, label_name='class')\n",
    "    # Apply train, validation and test set splitting\n",
    "    X_trn, y_trn, X_vld, y_vld, X_tst, y_tst = train_valid_test_split(X, y)\n",
    "    # Apply feature cleaning AFTER splitting\n",
    "    X_trn, X_vld, X_tst = feature_pipeline(X_trn, X_vld, X_tst)\n",
    "\n",
    "    print(f\"X_trn shape: {X_trn.shape}\")\n",
    "    print(f\"X_trn type: {type(X_trn)}\")\n",
    "    print(f\"X_vld shape: {X_vld.shape}\")\n",
    "    print(f\"X_vld type: {type(X_vld)}\")\n",
    "    print(f\"X_tst shape: {X_tst.shape}\")\n",
    "    print(f\"X_tst type: {type(X_tst)}\")\n",
    "    display(X_trn)\n",
    "\n",
    "    todo_check([\n",
    "        (np.all(np.isclose(X_trn.describe().loc['mean'], [0, 0, 0, 0])), \"'X_trn' has the wrong mean values\"),\n",
    "        (np.all(np.isclose(X_trn.iloc[:3, 3], [0.77996804,  0.3865691 , -0.2690958], rtol=.01)), \"'X_trn' has incorrect values\"),\n",
    "        (np.all(np.isclose(X_vld.iloc[:3, 3], [-0.2690958 ,  0.12430314, -1.31815965], rtol=.01)), \"'X_vld' has incorrect values\"),\n",
    "        (np.all(np.isclose(X_tst.iloc[:3, 3], [-0.00682984, -1.18702667,  1.43563294], rtol=.01)),\"'X_tst' has incorrect values\"),\n",
    "    ])\n",
    "    \n",
    "TEST_feature_pipeline()\n",
    "garbage_collect(['TEST_feature_pipeline'])"
   ]
  },
  {
   "cell_type": "markdown",
   "id": "e9a72b4c",
   "metadata": {
    "id": "e9a72b4c"
   },
   "source": [
    "\n",
    "## Putting it all together\n",
    "\n",
    "In order to make our lives easier, we create a function called `data_prep()` which will split the data and apply our target/feature data cleaning and transformations for us. Thus, whenever we go to implement a new algorithm we can call `data_prep()` to give us our preprocessed data.\n",
    "\n",
    "**Take time to also read the DocStrings or in-line documentation, given at the start of the function, which describes what each argument does. You need to understand what each argument does before moving forward!**\n",
    "\n",
    "Note: Any arguments in a function given after the `*` in the function definition below MUST be passed using the keyword. See this [post](https://stackoverflow.com/questions/14301967/bare-asterisk-in-function-arguments) for more information."
   ]
  },
  {
   "cell_type": "code",
   "execution_count": 31,
   "id": "51d41a4e",
   "metadata": {
    "id": "51d41a4e"
   },
   "outputs": [],
   "source": [
    "def data_prep(\n",
    "    df: pd.DataFrame,\n",
    "    label_name: str,\n",
    "    *,\n",
    "    seed: int = 42,\n",
    "    return_array: bool = False,\n",
    "    drop_features: List[str] = None,\n",
    ") -> Tuple[pd.DataFrame]:\n",
    "    \"\"\" Splits data and runs data cleaning and transformations.\n",
    "    \n",
    "        Args:\n",
    "            df: A Pandas DataFrame containing our dataset for the \n",
    "                current lab.\n",
    "                \n",
    "            label_name: Name of the column in the DataFrame store in df \n",
    "                which will be used as the label/target. This will be \n",
    "                passed to the feature_label_split() function.\n",
    "            \n",
    "            seed: The seed used when splitting data into train, \n",
    "                validation, and test. This will be passed to the\n",
    "                train_valid_test_split() function.\n",
    "            \n",
    "            return_array: A boolean which when True will return all data as NumPy\n",
    "                arrays instead of Pandas DataFrames.\n",
    "            \n",
    "            drop_features: List of feature names to drop from the passed\n",
    "                DataFrame stored in df.\n",
    "    \"\"\"\n",
    "    # Drop any features we don't want\n",
    "    if drop_features is not None:\n",
    "        df = df.drop(drop_features, axis=1)\n",
    "    \n",
    "    # Apply feature and label splitting\n",
    "    X, y = feature_label_split(df, label_name=label_name)\n",
    "    \n",
    "    # Apply train, validation and test set splitting\n",
    "    data = train_valid_test_split(X, y, seed=seed)\n",
    "    X_trn, y_trn, X_vld, y_vld, X_tst, y_tst = data\n",
    "    \n",
    "    # Feature cleaning\n",
    "    X_trn, X_vld, X_tst = feature_pipeline(X_trn, X_vld, X_tst)\n",
    "    \n",
    "    # Store names of features used \n",
    "    feature_names = X_trn.columns\n",
    "\n",
    "    # Resets the Pandas index for the Dataframe and series\n",
    "    # This will prevent any headaches when combining or indexing\n",
    "    # our train, validation, and test data in the future.\n",
    "    X_trn.reset_index(inplace=True, drop=True)\n",
    "    y_trn.reset_index(inplace=True, drop=True)\n",
    "    X_vld.reset_index(inplace=True, drop=True)\n",
    "    y_vld.reset_index(inplace=True, drop=True)\n",
    "    X_tst.reset_index(inplace=True, drop=True)\n",
    "    y_tst.reset_index(inplace=True, drop=True)\n",
    "        \n",
    "    # Return data as arrays instead of DataFrames\n",
    "    if return_array:\n",
    "        X_trn, y_trn, X_vld, y_vld, X_tst, y_tst = (X_trn.values, \n",
    "                                                    y_trn.values, \n",
    "                                                    X_vld.values, \n",
    "                                                    y_vld.values, \n",
    "                                                    X_tst.values, \n",
    "                                                    y_tst.values)\n",
    "                               \n",
    "    \n",
    "    return X_trn, y_trn, X_vld, y_vld, X_tst, y_tst, feature_names"
   ]
  },
  {
   "cell_type": "markdown",
   "id": "5c198c83",
   "metadata": {
    "id": "5c198c83"
   },
   "source": [
    "#### TODO 3\n",
    "Complete the TODO by practicing calling the `data_prep()` function using different arguments.\n",
    "\n",
    "**Before attempting this TODO, read through the documentation of `data_prep()` in the above code cell. You need to understand what each  argument means in order to complete this and coming TODOs!!!**\n",
    "\n",
    "1. Call the `data_prep()` function to return the three-way multi-class classification Iris data formatted as NumPy arrays. To do so, pass the  arguments to `data_prep()` that  corresponding to the following descriptions:\n",
    "    1. Pass the Iris dataset.\n",
    "    1. Set the column 'class' to act as the labels/targets.\n",
    "    1. Return all data as NumPy arrays."
   ]
  },
  {
   "cell_type": "code",
   "execution_count": 37,
   "id": "fa1f64e4",
   "metadata": {
    "id": "fa1f64e4",
    "outputId": "19e01e69-9574-451a-eb1e-5d1ed2297baa"
   },
   "outputs": [
    {
     "name": "stdout",
     "output_type": "stream",
     "text": [
      "X_trn type: <class 'numpy.ndarray'>\n",
      "X_trn shape: (96, 4)\n",
      "y_trn shape: (96, 1)\n",
      "X_vld shape: (24, 4)\n",
      "y_vld shape: (24, 1)\n",
      "X_tst shape: (30, 4)\n",
      "y_tst shape: (30, 1)\n",
      "Your code PASSED the code check!\n"
     ]
    }
   ],
   "source": [
    "def TEST_data_prep():\n",
    "    # TODO 3.1\n",
    "    data = data_prep(df=iris_df, label_name='class', return_array=True)\n",
    "    X_trn, y_trn, X_vld, y_vld, X_tst, y_tst, _ = data\n",
    "\n",
    "    print(f\"X_trn type: {type(X_trn)}\")\n",
    "    print(f\"X_trn shape: {X_trn.shape}\")\n",
    "    print(f\"y_trn shape: {y_trn.shape}\")\n",
    "    print(f\"X_vld shape: {X_vld.shape}\")\n",
    "    print(f\"y_vld shape: {y_vld.shape}\")\n",
    "    print(f\"X_tst shape: {X_tst.shape}\")\n",
    "    print(f\"y_tst shape: {y_tst.shape}\")\n",
    "\n",
    "    todo_check([\n",
    "        (type(X_trn) is np.ndarray, \"'X_trn' is not type np.ndarray\"),\n",
    "        (type(y_tst) is np.ndarray,\"'y_tst' is not type np.ndarray\"),\n",
    "        (np.all(np.isclose(np.unique(y_trn).flatten(), [0, 1, 2])), \"y_trn does not have all the unique class label values [0, 1, 2]\"),\n",
    "    ])\n",
    "    \n",
    "TEST_data_prep()\n",
    "garbage_collect(['TEST_data_prep'])"
   ]
  },
  {
   "cell_type": "markdown",
   "id": "f4e8f93b",
   "metadata": {
    "id": "f4e8f93b"
   },
   "source": [
    "# Defining Classification Metrics and Plots\n",
    "\n",
    "Before we get to our algorithms, let's first define the metrics and plots we'll be using to assess how good predictions are. \n"
   ]
  },
  {
   "cell_type": "markdown",
   "id": "d58656b5",
   "metadata": {
    "id": "d58656b5"
   },
   "source": [
    "## Metrics\n",
    "\n",
    "### Accuracy\n",
    "Below we redefine the `accuracy()` function which you defined in last module's lab."
   ]
  },
  {
   "cell_type": "code",
   "execution_count": 38,
   "id": "7b8a866d",
   "metadata": {
    "id": "7b8a866d"
   },
   "outputs": [],
   "source": [
    "def accuracy(y_hat, y):\n",
    "    total_correct = np.sum(y_hat == y)\n",
    "    total_samples = len(y)\n",
    "    print(f\"Accuracy ratio: {total_correct}/{total_samples}\")\n",
    "\n",
    "    return total_correct / total_samples"
   ]
  },
  {
   "cell_type": "markdown",
   "id": "50161e25",
   "metadata": {
    "id": "50161e25"
   },
   "source": [
    "### Confusion Matrix\n",
    "\n",
    "Keep in mind, we will be looking at multi-class classification which means the confusion matrix will be a 3x3 since we have 3 classes. Recall the confusion for **binary classification** looked like the below image.\n",
    "\n",
    "<img src=\"http://www.andrewgurung.com/wp-content/uploads/2018/12/confusion_matrix.png\" width=500 height=500>\n",
    "\n",
    "\n",
    "The below image is what a **multi-class classification confusion matrix** looks like. Further, the below image shows how to determine the false positives, true positives, false negatives, and true negatives for each class. More on this later in the lab.\n",
    "\n",
    "\n",
    "<img src=\"https://i.stack.imgur.com/AuTKP.png\" width=300 height=300>\n"
   ]
  },
  {
   "cell_type": "code",
   "execution_count": 39,
   "id": "6365f565",
   "metadata": {
    "id": "6365f565"
   },
   "outputs": [],
   "source": [
    "from sklearn.metrics import confusion_matrix\n",
    "\n",
    "def plot_confusion_matrix(y_hat, y, class_names=None):\n",
    "    cfm = confusion_matrix(y_pred=y_hat, y_true=y)\n",
    "    \n",
    "    labels = np.sort(np.unique(y))\n",
    "    if class_names is not None:\n",
    "        classes = []\n",
    "        for l in labels:\n",
    "            class_name = class_names.get(l, l)\n",
    "            classes.append(class_name)\n",
    "        labels = classes\n",
    "        \n",
    "    columns, index = labels, labels\n",
    "    cfm_df = pd.DataFrame(cfm, index=index, columns=columns)\n",
    "    sns.heatmap(cfm_df, annot=True)\n",
    "    plt.xlabel('Predicted', fontsize=14)\n",
    "    plt.ylabel('Actual', fontsize=14)\n",
    "    \n",
    "    return cfm.flatten()"
   ]
  },
  {
   "cell_type": "markdown",
   "id": "bab4e8d6",
   "metadata": {
    "id": "bab4e8d6"
   },
   "source": [
    "### Other scores\n",
    "\n",
    "Below we define functions for the positive predictive value (PPV) or precision, True positive rate (TPR) or recall, and true negative rate (TNR) or specificity.\n",
    "\n",
    "$$\n",
    "\\text{PPV} = \\frac{\\text{TP}}{\\text{TP} + \\text{FP}}\n",
    "$$\n",
    "\n",
    "$$\n",
    "\\text{TPR} = \\frac{\\text{TP}}{\\text{TP} + \\text{FN}}\n",
    "$$\n",
    "\n",
    "$$\n",
    "\\text{TNR} = \\frac{\\text{TN}}{\\text{TN} + \\text{FP}}\n",
    "$$\n",
    "\n",
    "Lastly, we define `compute_scores()` which will automatically compute the PPV, TPR, and TNR scores for each class using the multi-class confusion matrix."
   ]
  },
  {
   "cell_type": "code",
   "execution_count": 40,
   "id": "29514732",
   "metadata": {
    "id": "29514732"
   },
   "outputs": [],
   "source": [
    "def ppv(tp, fp):\n",
    "    return tp / (tp + fp)\n",
    "\n",
    "def tpr(tp, fn):\n",
    "    return tp / (tp + fn)\n",
    "\n",
    "def tnr(tn, fp):\n",
    "    return tn / (tn + fp)\n",
    "\n",
    "def compute_scores(y, y_hat, class_names=None):\n",
    "    def print_scores(tn, fn, fp, tp):\n",
    "\n",
    "        print(f\"\\tPPV ratio tp/(tp+fp): {tp}/{tp+fp}\")\n",
    "        print(f\"\\tPPV (precision): {ppv(tp=tp, fp=fp) }\\n\")\n",
    "\n",
    "        print(f\"\\tTPR ratio tp/(tp+fn): {tp}/{tp+fn}\")\n",
    "        print(f\"\\tTPR (recall/sensitivity): {tpr(tp=tp, fn=fn)}\\n\")\n",
    "\n",
    "        print(f\"\\tTNR ratio tn/(tn+fp): {tn}/{tn+fp}\")\n",
    "        print(f\"\\tTNR (specificity): {tnr(tn=tn, fp=fp)}\")\n",
    "    \n",
    "    if class_names is None:\n",
    "        class_names = {}\n",
    "    \n",
    "    # Convert y from one-hot encoding back to normal\n",
    "    if len(y.shape) > 1 and y.shape[-1] > 1:\n",
    "        y = np.argmax(y, axis=1).reshape(-1,1)\n",
    "    \n",
    "    cm = confusion_matrix(y_true=y, y_pred=y_hat)\n",
    "    \n",
    "    # Computing multi-class classification tp, fn, tp, tn\n",
    "    fp = cm.sum(axis=0) - np.diag(cm)  \n",
    "    fn = cm.sum(axis=1) - np.diag(cm)\n",
    "    tp = np.diag(cm)\n",
    "    tn = cm.sum() - (fp + fn + tp)\n",
    "    \n",
    "    ppv_ = ppv(tp=tp, fp=fp) \n",
    "    tpr_ = tpr(tp=tp, fn=fn)\n",
    "    tnr_ = tnr(tn=tn, fp=fp)\n",
    "    \n",
    "    class_labels = np.unique(y)\n",
    "    \n",
    "    if len(class_labels) == 2:\n",
    "        class_name = class_names.get(class_labels[-1], class_labels[-1])\n",
    "        print(f\"Scores for binary problem: positive label is {class_name}\")\n",
    "        print_scores(tn[-1], fn[-1], fp[-1], tp[-1])\n",
    "    else:\n",
    "        for i, label in enumerate(class_labels):\n",
    "            class_name = class_names.get(label, label)\n",
    "            print(f\"Scores for class {class_name}\")\n",
    "            print_scores(tn[i], fn[i], fp[i], tp[i])\n",
    "\n",
    "    return ppv_, tpr_, tnr_"
   ]
  },
  {
   "cell_type": "markdown",
   "id": "845d40b9",
   "metadata": {
    "id": "845d40b9"
   },
   "source": [
    "## Plots\n",
    "\n",
    "Below, the function `plot_decision_boundary()` is defined. This function aims to draw the decision boundary using a contour plot. This function will only work when our data has 2 features. Remember, having more than 2-3 features (i.e., higher dimensional features) means we have a much hard time visualizing the data. "
   ]
  },
  {
   "cell_type": "code",
   "execution_count": 41,
   "id": "b224f18c",
   "metadata": {
    "id": "b224f18c"
   },
   "outputs": [],
   "source": [
    "def plot_decision_boundary(\n",
    "    gnb, \n",
    "    X: np.ndarray, \n",
    "    y: np.ndarray,\n",
    "    xlabel: str = '',\n",
    "    ylabel: str = '',\n",
    "    class_names=None):\n",
    "    if class_names is None:\n",
    "        class_names = {}\n",
    "\n",
    "    # Generate fake data to cover entire space of our input features X\n",
    "    buffer = .5\n",
    "    x_min, x_max = X[:, 0].min() - buffer, X[:, 0].max() + buffer\n",
    "    y_min, y_max = X[:, 1].min() - buffer, X[:, 1].max() + buffer\n",
    "    xx, yy = np.meshgrid(np.arange(x_min, x_max, .02),\n",
    "                         np.arange(y_min, y_max, .02))\n",
    "    fake_data = np.c_[xx.ravel(), yy.ravel()].reshape(-1,2)\n",
    "\n",
    "    # Make prediction\n",
    "    y_hat = gnb.predict(fake_data)\n",
    "\n",
    "    # Plot\n",
    "    plt.contourf(xx, yy, y_hat.reshape(xx.shape))\n",
    "    \n",
    "    labels = np.unique(y)\n",
    "    for l in labels:\n",
    "        class_locs = np.where(y == l)[0]\n",
    "        class_X = X[class_locs]\n",
    "        class_name = class_names.get(l, f'class {l}')\n",
    "        plt.scatter(class_X[:, 0], class_X[:, 1], label=class_name)\n",
    "\n",
    "    plt.xlim(xx.min(), xx.max())\n",
    "    plt.ylim(yy.min(), yy.max())\n",
    "    plt.xlabel(xlabel)\n",
    "    plt.ylabel(ylabel)\n",
    "    plt.legend()\n",
    "    plt.show()"
   ]
  },
  {
   "cell_type": "markdown",
   "id": "cebc75c8",
   "metadata": {
    "id": "cebc75c8"
   },
   "source": [
    "# Gaussian Naive Bayes \n",
    "It's time to begin implementing Gaussian Naive Bayes. Recall that our goal is to compute the $\\log$ maximum a posteriori (MAP) which will give us the class label prediction for each data sample. To refresh, the MAP equation is given as follows:\n",
    "\n",
    "$$\n",
    "\\begin{align}\n",
    "\\hat{y}_{MAP} &= \\arg \\max_{k \\in K} \\log P(y_k) + \\sum_{i=0}^n \\log P(x_i|y_k) \\\\\n",
    "&=  \\arg \\max_{k \\in K} \\log P(\\xv \\mid y_k) + \\log P(y_k). \\\\\n",
    "\\end{align}\n",
    "$$\n",
    "\n",
    "Thus, to do so, we need to compute the log likelihoods $\\log P(\\xv \\mid y_k)$ and the priors $\\log P(y_k)$ for each class. Once we do this, we can add  the log likelihoods and the log priors to get what we call the *joint log likelihood*. Then, all we need to do is extract the predicted class label by taking the $\\arg \\max$ of the joint log likelihoods $ \\arg \\max_{k \\in K} \\log P(\\xv \\mid y_k) + \\log P(y_k)$.\n",
    "\n",
    "Like in the notes, we are going to implement each part of Gaussian Naive Bayes piece-by-piece so we can develop a concrete understanding for what the likelihood and priors correspond to. Before that, let's recall what Gaussian Naive Bayes is and how it works. Below is the quick explanation of Gaussian Naive Bayes from our notes.\n",
    "\n",
    "> Gaussian Naive Bayes aims to expand Naive Bayes to work with continuous features. Typically, [classical Naive Bayes](https://scikit-learn.org/stable/modules/naive_bayes.html#categorical-naive-bayes) (also called Categorical Naive Bayes) computes the likelihood $P(\\xv \\mid y_k)$ for each feature in a class by counting the frequency of unique values (i.e., categories) and dividing by the total number of values seen for said feature. Notice, that is impossible for continuous features since almost all the values for the continuous feature will be unique. Therefore, classical Naive Bayes can only be used on discrete/categorical features. Thus, we need a different approach that works for continuous features.\n",
    ">\n",
    "> Gaussian Naive Bayes computes the likelihood $P(\\xv \\mid y_k)$ by modeling each feature as a Gaussian distribution (i.e., Gaussian Naive Bayes assumes our data follows a Gaussian distribution which may not be true). By doing so, Gaussian Naive Bayes **ONLY** works with continuous features. \n",
    ">\n",
    "> All we need to do to compute the likelihoods $P(\\xv \\mid y_k)$ is for every class, we need to compute the mean and standard deviation for every continuous feature. We do so using the training data only. Once this is done, we can simply pass any data along with the means and standard deviations to the Gaussian equation to compute the likelihoods for all data samples and classes!\n",
    ">\n",
    "> Recall, to make a prediction we will use the $\\log$ of the MAP equation given previously! That being said, keep in mind that when the priors $P(y_k)$ are equal for all classes, MAP essentially reduces to a scaled version ML. We can compute the priors $P(y_k)$ for each class by computing the ratio of data samples per class divided by the total number of data samples.\n",
    "\n"
   ]
  },
  {
   "cell_type": "markdown",
   "id": "dc56d37d",
   "metadata": {
    "id": "dc56d37d"
   },
   "source": [
    "## Computing log priors P(Y)\n",
    "The first components of the MAP equation we need to compute are the priors $P(y_k)$ for each class. To do so, we simply count the number of training data samples for each class and divide by the total number of training data samples. Doing so will give us the proportion of each class in the training data. This will act as a naive way to compute the prior if you don't have additional expert knowledge about your dataset."
   ]
  },
  {
   "cell_type": "markdown",
   "id": "d68ab125",
   "metadata": {
    "id": "d68ab125"
   },
   "source": [
    "#### TODO 4\n",
    "Complete the TODO by computing the prior and the log of the prior for the **setosa class ONLY**. Follow the below TODOs to do so. If you are struggling refer to the notes for help!\n",
    "\n",
    "1. First, since we only want to focus on the setosa class at the current moment, we need to find all the setosa data sample indexes in the training data. Remember, we can do so by using NumPy's `np.where()` function to search for the all the labels in the training labels array `y_trn` that have the setosa class label 0. Store the output into `setosa_indexes`.\n",
    "    1. Hint: Don't forget to index the output of `np.where()` as it returns a tuple!!!\n",
    "    \n",
    "    \n",
    "2. Next, we need to compute the prior $P(y_\\text{setosa})$ for the setosa class. Remember, this simply means we need to compute the proportion of data samples in the training dataset that belong to the setosa class. Follow the following instructions to do so:\n",
    "    1. First, we need to find the total number of data samples that belong to the setosa class within the training dataset. One way to do this is by using NumPy's `np.unique()` in conjunction with the setosa labels stored in `setosa_y`. `np.unique()` returns a array of unique values that were found in the passed array. Additionally, it *can* return the total count for how many times each unique value appeared in the array if you specify the argument `return_count`! We can use this argument to return the number number of data samples that belong to the setosa class. Refer to the [docs](https://numpy.org/doc/stable/reference/generated/numpy.unique.html) to learn more about `np.unique()`.\n",
    "        1. Note: Optionally, you could just use `len(setosa_y)` to compute the total number of data samples for the setosa class ONLY. However, you'll see shortly that `np.unique()` can compute the total number of data samples for each class automatically for us.\n",
    "    2. Store the outputs into `class_labels` and `class_count`.\n",
    " \n",
    " \n",
    "3. Compute the prior $P(y_\\text{setosa})$  for the setosa class by dividing the total number of setosa data samples by the total number of data samples in the training data. Store the output into `setosa_prior`.\n",
    "    1. Hint: To get the total number of data of training samples we can use the `len()` function or `.shape()` method on either our `X_trn` or `y_trn` variables.\n",
    "    \n",
    "    \n",
    "4. Compute the log of the setosa prior $\\log P(y_\\text{setosa})$ using `setosa_prior` and NumPy's `np.log()` function. Store the output into `setosa_log_prior`.\n"
   ]
  },
  {
   "cell_type": "code",
   "execution_count": 50,
   "id": "d679aea8",
   "metadata": {
    "id": "d679aea8",
    "outputId": "20a1f7ca-379c-4a77-e3a1-6c22ed31389f"
   },
   "outputs": [
    {
     "name": "stdout",
     "output_type": "stream",
     "text": [
      "Setosa locations/indexes:\n",
      "[ 3  7 15 16 19 20 27 29 32 34 35 37 41 42 43 44 46 47 51 61 62 63 65 66\n",
      " 67 75 76 79 90 92 94 95]\n",
      "Your code PASSED the code check!\n"
     ]
    }
   ],
   "source": [
    "# Load the training data\n",
    "data = data_prep(df=iris_df, label_name='class', return_array=True)\n",
    "X_trn, y_trn, _, _, _, _, _ = data\n",
    "\n",
    "# TODO 4.1\n",
    "setosa_indexes = np.where(y_trn == 0)[0]\n",
    "print(f\"Setosa locations/indexes:\\n{setosa_indexes}\")\n",
    "\n",
    "setosa_X = X_trn[setosa_indexes]\n",
    "setosa_y = y_trn[setosa_indexes]\n",
    "\n",
    "todo_check([\n",
    "    (setosa_indexes.shape == (32,), 'setosa_indexes shape is not (32,)'),\n",
    "    (np.sum(setosa_indexes) == 1573, \"setosa_indexes values are incorrect\"),\n",
    "])"
   ]
  },
  {
   "cell_type": "code",
   "execution_count": 51,
   "id": "29c44c4d",
   "metadata": {
    "id": "29c44c4d",
    "outputId": "ae3e0fa9-48e4-4675-b758-3e6fe0f6571d",
    "scrolled": true
   },
   "outputs": [
    {
     "data": {
      "text/plain": [
       "array([[-0.56958464,  0.64706191, -1.16765695, -1.31815965],\n",
       "       [-1.42205876,  0.20494132, -1.39365507, -1.31815965],\n",
       "       [-0.81314868,  2.194484  , -1.28065601, -1.44929263],\n",
       "       [-0.93493069,  0.42600162, -1.16765695, -0.9247607 ],\n",
       "       [-0.93493069,  1.53130311, -1.05465789, -1.05589368],\n",
       "       [-0.93493069,  1.31024281, -1.28065601, -1.05589368],\n",
       "       [-0.93493069,  0.64706191, -1.28065601, -1.31815965],\n",
       "       [-1.78740481, -0.45823958, -1.33715554, -1.31815965],\n",
       "       [-0.81314868,  0.86812221, -1.28065601, -1.31815965],\n",
       "       [-1.78740481, -0.23717928, -1.39365507, -1.31815965],\n",
       "       [-1.90918683, -0.23717928, -1.50665412, -1.44929263],\n",
       "       [-1.05671271,  0.86812221, -1.39365507, -1.18702667],\n",
       "       [-1.05671271,  1.08918251, -1.33715554, -1.31815965],\n",
       "       [-0.56958464,  1.7523634 , -1.39365507, -1.05589368],\n",
       "       [-0.93493069,  1.53130311, -1.22415648, -1.31815965],\n",
       "       [-1.30027674,  0.64706191, -1.22415648, -1.31815965],\n",
       "       [-1.54384078,  0.20494132, -1.33715554, -1.31815965],\n",
       "       [-0.08245657,  1.9734237 , -1.45015459, -1.31815965],\n",
       "       [-0.69136666,  1.31024281, -1.28065601, -1.31815965],\n",
       "       [-0.44780262,  2.4155443 , -1.33715554, -1.31815965],\n",
       "       [-1.05671271,  0.86812221, -1.22415648, -0.79362772],\n",
       "       [-0.56958464,  1.7523634 , -1.16765695, -1.05589368],\n",
       "       [-1.05671271,  0.64706191, -1.28065601, -1.31815965],\n",
       "       [-1.54384078,  0.64706191, -1.33715554, -1.18702667],\n",
       "       [-1.05671271, -0.23717928, -1.22415648, -1.31815965],\n",
       "       [-0.20423859,  2.8576649 , -1.28065601, -1.05589368],\n",
       "       [-1.05671271,  0.20494132, -1.45015459, -1.31815965],\n",
       "       [-0.93493069,  0.86812221, -1.33715554, -1.31815965],\n",
       "       [-0.93493069,  0.86812221, -1.33715554, -1.18702667],\n",
       "       [-0.56958464,  1.31024281, -1.28065601, -1.31815965],\n",
       "       [-1.05671271,  0.42600162, -1.33715554, -1.31815965],\n",
       "       [-1.17849473,  1.08918251, -1.33715554, -1.44929263]])"
      ]
     },
     "execution_count": 51,
     "metadata": {},
     "output_type": "execute_result"
    }
   ],
   "source": [
    "# Feature vectors for each setosa data sample\n",
    "setosa_X"
   ]
  },
  {
   "cell_type": "code",
   "execution_count": 52,
   "id": "1a5285ac",
   "metadata": {
    "id": "1a5285ac",
    "outputId": "c70925f1-b3e0-40ae-f461-2b109c384c0c",
    "scrolled": true
   },
   "outputs": [
    {
     "data": {
      "text/plain": [
       "array([[0.],\n",
       "       [0.],\n",
       "       [0.],\n",
       "       [0.],\n",
       "       [0.],\n",
       "       [0.],\n",
       "       [0.],\n",
       "       [0.],\n",
       "       [0.],\n",
       "       [0.],\n",
       "       [0.],\n",
       "       [0.],\n",
       "       [0.],\n",
       "       [0.],\n",
       "       [0.],\n",
       "       [0.],\n",
       "       [0.],\n",
       "       [0.],\n",
       "       [0.],\n",
       "       [0.],\n",
       "       [0.],\n",
       "       [0.],\n",
       "       [0.],\n",
       "       [0.],\n",
       "       [0.],\n",
       "       [0.],\n",
       "       [0.],\n",
       "       [0.],\n",
       "       [0.],\n",
       "       [0.],\n",
       "       [0.],\n",
       "       [0.]])"
      ]
     },
     "execution_count": 52,
     "metadata": {},
     "output_type": "execute_result"
    }
   ],
   "source": [
    "# Labels for each setosa data sample\n",
    "setosa_y"
   ]
  },
  {
   "cell_type": "code",
   "execution_count": 60,
   "id": "16bd53f5",
   "metadata": {
    "id": "16bd53f5",
    "outputId": "eb26d240-d53b-4411-a9ba-f8a8c519dc97"
   },
   "outputs": [
    {
     "name": "stdout",
     "output_type": "stream",
     "text": [
      "Your code PASSED the code check!\n"
     ]
    }
   ],
   "source": [
    "# TODO 4.2\n",
    "setosa_label, setosa_count = np.unique(setosa_y, return_counts=True)\n",
    "\n",
    "todo_check([\n",
    "    (np.all(setosa_label == np.array([0.])), 'setosa_label label is not equal to the label 0'),\n",
    "    (np.all(setosa_count == np.array([32])), 'setosa_count is not equal to 32'),\n",
    "])"
   ]
  },
  {
   "cell_type": "markdown",
   "id": "8fc5e71d",
   "metadata": {
    "id": "8fc5e71d"
   },
   "source": [
    "Below we can see `setosa_label` contains a single label of 0. This should be expected as we are using just the setosa data right now. "
   ]
  },
  {
   "cell_type": "code",
   "execution_count": 61,
   "id": "a438e316",
   "metadata": {
    "id": "a438e316",
    "outputId": "a1e1ff5b-33e5-4385-b3fa-35d2386e73dc"
   },
   "outputs": [
    {
     "data": {
      "text/plain": [
       "array([0.])"
      ]
     },
     "execution_count": 61,
     "metadata": {},
     "output_type": "execute_result"
    }
   ],
   "source": [
    "setosa_label"
   ]
  },
  {
   "cell_type": "markdown",
   "id": "313f4c93",
   "metadata": {
    "id": "313f4c93"
   },
   "source": [
    "Next, we can see the counts for the setosa class. Since setosa is the first element in `setosa_label`, the first element of `setosa_count` corresponds to the setosa class (when we have more classes keep this idea in mind). This means, setosa has 32 data samples in the training data."
   ]
  },
  {
   "cell_type": "code",
   "execution_count": 62,
   "id": "41e3210f",
   "metadata": {
    "id": "41e3210f",
    "outputId": "eee62c45-728d-46b9-c40a-077e51ca015c"
   },
   "outputs": [
    {
     "data": {
      "text/plain": [
       "array([32])"
      ]
     },
     "execution_count": 62,
     "metadata": {},
     "output_type": "execute_result"
    }
   ],
   "source": [
    "setosa_count"
   ]
  },
  {
   "cell_type": "code",
   "execution_count": 70,
   "id": "d151062b",
   "metadata": {
    "id": "d151062b",
    "outputId": "3bc78ade-7cd1-4bd8-e939-2a9af8ac7c51"
   },
   "outputs": [
    {
     "name": "stdout",
     "output_type": "stream",
     "text": [
      "Setosa prior: [0.33333333]\n",
      "Your code PASSED the code check!\n"
     ]
    }
   ],
   "source": [
    "# TODO 4.3\n",
    "setosa_prior = setosa_count/len(y_trn)\n",
    "print(f\"Setosa prior: {setosa_prior}\")\n",
    "\n",
    "todo_check([\n",
    "    (np.isclose(setosa_prior, np.array([0.33333333]),rtol=.1) , \"setosa_prior value is incorrect\")\n",
    "])"
   ]
  },
  {
   "cell_type": "code",
   "execution_count": 71,
   "id": "7dd1cf3a",
   "metadata": {
    "id": "7dd1cf3a",
    "outputId": "cdf7bf78-2e4f-4678-e86b-c7e38fb00206"
   },
   "outputs": [
    {
     "name": "stdout",
     "output_type": "stream",
     "text": [
      "Setosa log prior: [-1.09861229]\n",
      "Your code PASSED the code check!\n"
     ]
    }
   ],
   "source": [
    "# TODO 4.4\n",
    "setosa_log_prior = np.log(setosa_prior)\n",
    "print(f\"Setosa log prior: {setosa_log_prior}\")\n",
    "\n",
    "todo_check([\n",
    "     (np.isclose(setosa_log_prior, np.array([-1.09861229])), \"setosa_log_prior value is incorrect\"),\n",
    "])"
   ]
  },
  {
   "cell_type": "code",
   "execution_count": 72,
   "id": "b5ed96ce",
   "metadata": {
    "id": "b5ed96ce"
   },
   "outputs": [],
   "source": [
    "garbage_collect(['setosa_prior', 'setosa_log_prior', 'setosa_count', 'setosa_label', 'setosa_indexes', 'data', 'X_trn', 'y_trn'])"
   ]
  },
  {
   "cell_type": "markdown",
   "id": "3bcaa6ef",
   "metadata": {
    "id": "3bcaa6ef"
   },
   "source": [
    "#### TODO 5\n",
    "Complete the TODO by implementing the `compute_priors()` function. To do so, follow the same steps we just used to compute the prior and log prior for the setosa class, however now do so for all classes!\n",
    "\n",
    "**Hint: You do NOT need to use any for loops for this function! Simply reuse the code we used in the prior TODO but now generalize it to so that we compute the priors for ALL classes at once!**\n",
    "\n",
    "1. Compute the counts (i.e., number of data samples) for each of the unique class labels contained in `y`. To do so, simply use the `np.unique()` function as we just did above but now pass ALL the labels passed to the argument `y`. Store the outputs into `class_labels` and `class_counts`.\n",
    "\n",
    "\n",
    "2. Compute the total number of data samples using `len()` function or `.shape()` method on the passed labels `y`. Store the output into `total_data_samples`.\n",
    "\n",
    "\n",
    "3. Compute the priors $P(y_k)$  for ALL classes. Store the output into `priors`.\n",
    "\n",
    "\n",
    "4. Compute the log priors $\\log P(y_k)$  for ALL classes. Store the output into `log_priors`."
   ]
  },
  {
   "cell_type": "code",
   "execution_count": 81,
   "id": "e66e738b",
   "metadata": {
    "id": "e66e738b"
   },
   "outputs": [],
   "source": [
    "def compute_log_priors(y: np.ndarray, verbose: bool = False):\n",
    "    \"\"\" Computes the log priors for each class\n",
    "    \n",
    "        Args:\n",
    "            y: Lables\n",
    "            \n",
    "            verbose: If True prints info about priors\n",
    "    \"\"\"\n",
    "    # TODO 5.1\n",
    "    class_labels, class_counts = np.unique(y, return_counts=True)\n",
    "    # TODO 5.2\n",
    "    total_data_samples = len(y)\n",
    "    # TODO 5.3\n",
    "    priors = class_counts/total_data_samples\n",
    "    # TODO 5.4\n",
    "    log_priors = np.log(priors)\n",
    "    \n",
    "    if verbose:\n",
    "        print(f\"class_labels: {class_labels}\")\n",
    "        print(f\"class_counts: {class_counts}\")\n",
    "        print(f\"priors: {priors}\")\n",
    "        print(f\"log_priors: {log_priors}\")\n",
    "        print(\"\\nNumber of samples per class\")\n",
    "        for c, label in enumerate(class_labels):\n",
    "            print(f\"\\t Class: {c} Label: {label} Count: {class_counts[c]}\")\n",
    "    \n",
    "    return log_priors"
   ]
  },
  {
   "cell_type": "markdown",
   "id": "5e6fcb96",
   "metadata": {
    "id": "5e6fcb96"
   },
   "source": [
    "Run the below `TEST_compute_log_priors()` function to test your implementation of the `compute_log_priors()` function."
   ]
  },
  {
   "cell_type": "code",
   "execution_count": 82,
   "id": "b12d059d",
   "metadata": {
    "id": "b12d059d",
    "outputId": "3ae9a0c9-3a22-4bbf-b761-1c68f805969c"
   },
   "outputs": [
    {
     "name": "stdout",
     "output_type": "stream",
     "text": [
      "class_labels: [0. 1. 2.]\n",
      "class_counts: [32 30 34]\n",
      "priors: [0.33333333 0.3125     0.35416667]\n",
      "log_priors: [-1.09861229 -1.16315081 -1.03798767]\n",
      "\n",
      "Number of samples per class\n",
      "\t Class: 0 Label: 0.0 Count: 32\n",
      "\t Class: 1 Label: 1.0 Count: 30\n",
      "\t Class: 2 Label: 2.0 Count: 34\n",
      "Your code PASSED the code check!\n"
     ]
    }
   ],
   "source": [
    "def TEST_compute_log_priors():\n",
    "    # Load the training data\n",
    "    data = data_prep(df=iris_df, label_name='class', return_array=True)\n",
    "    X_trn, y_trn, _, _, _, _, _ = data\n",
    "    \n",
    "    # Compute the log priors\n",
    "    log_priors = compute_log_priors(y_trn, verbose=True)\n",
    "\n",
    "    todo_check([\n",
    "        (np.all(np.isclose(log_priors, np.array([-1.09861229, -1.16315081, -1.03798767]))), \"log_priors values are incorrect\")\n",
    "    ])\n",
    "    \n",
    "TEST_compute_log_priors()\n",
    "garbage_collect(['TEST_compute_log_priors']) "
   ]
  },
  {
   "cell_type": "markdown",
   "id": "ad80fd7f",
   "metadata": {
    "id": "ad80fd7f"
   },
   "source": [
    "Notice, in the above output how each class has a different number of data samples (refer to the \"class_counts\" print statement). This is because our training data is randomly selected, thus only approximately balanced. Meaning, if your data set is perfectly balanced your training data might not actually be!\n",
    "\n",
    "Further, notice that the priors all sum to 1. We can see that setosa (label 0) has 32 samples and a prior of ~33% while versicolor (label 1)  has 30 samples and a prior of ~31%. Lastly, we can see that virginica (label 2) has 34 samples and a prior of ~35%.\n",
    "\n",
    "Finally, notice that the log transformed priors are not really all that interpretable. Thus, it is often best to refer to the plain priors to build intuition about your data!"
   ]
  },
  {
   "cell_type": "markdown",
   "id": "904d92da",
   "metadata": {
    "id": "904d92da"
   },
   "source": [
    "## Computing log likelihoods logP(X | Y)\n",
    "\n",
    "The next components for the MAP equation we need to compute are the $\\log P(\\xv \\mid y_k)$ likelihoods for each class. **In order to do so, we will need to model EACH continuous features' distribution for EVERY class**. In order to model the distribution for a continuous feature, we need to select a distribution to use. Gaussian Naive Bayes aims to model the feature distributions using a Gaussian distribution.\n",
    "\n",
    "This means, all we need to do to compute $\\log P(\\xv \\mid y_k)$ is for each class, compute the mean and standard deviation for every continuous feature. We do so using the training data only!\n",
    "\n",
    "Remember, the feature log likelihoods $\\{\\log  P(x_1 \\mid y_k), \\log P(x_2 \\mid y_k), ..., \\log P(x_n \\mid y_k)\\}$ are used to compute the log likelihood for a class. Recall, the following equation uses each feature's log likelihood (i.e., feature distributions) to compute the log likelihood for the current class $k$:\n",
    "$$\n",
    "\\begin{align}\n",
    "\\log P(\\xv | y_k) &= \\log P(x_1|y_k) + \\log P(x_2|y_k) + ... + \\log P(x_n|y_k) \\\\\n",
    "&= \\sum_{i=0}^n \\log P(x_i|y_k)\n",
    "\\end{align}\n",
    "$$\n"
   ]
  },
  {
   "cell_type": "markdown",
   "id": "534d1711",
   "metadata": {
    "id": "534d1711"
   },
   "source": [
    "### Gaussian distribution\n",
    "\n",
    "Recall that a [normal or Gaussian distribution](https://machinelearningmastery.com/statistical-data-distributions/) has the parameters $\\mu$ (referred to as mu) which represents the mean and $\\sigma$ (referred to as sigma) represents the standard deviation. An image of a Gaussian is given below.\n",
    " \n",
    " \n",
    "<img src=\"https://external-content.duckduckgo.com/iu/?u=https%3A%2F%2Fupload.wikimedia.org%2Fwikipedia%2Fcommons%2Fthumb%2Fc%2Fc8%2FGaussian_distribution.svg%2F1280px-Gaussian_distribution.svg.png&f=1&nofb=1\" width=500 height=500>\n",
    "\n",
    "\n",
    "The formula for computing a normal distribution is given as follows:\n",
    "\n",
    "![](https://wikimedia.org/api/rest_v1/media/math/render/svg/00cb9b2c9b866378626bcfa45c86a6de2f2b2e40)\n",
    "\n"
   ]
  },
  {
   "cell_type": "markdown",
   "id": "69f38573",
   "metadata": {
    "id": "69f38573"
   },
   "source": [
    "#### TODO 6\n",
    "Compute the TODO by implementing the `gaussian_distribution()` function.\n",
    "\n",
    "1. Define a function called `gaussian_distribution()` that takes in the arguments `X`, `mu`, and `sig`. Convert the above Gaussian distribution equation, given above, into code and return the output of the equation. Recall that `mu` represents the mean $\\mu$, `sig` represents standard deviation (std) $\\sigma$ and `X` represents the data $x$.\n",
    "    1. Hint: Use NumPy's `np.sqrt()` for the square root and `np.exp()` for the exponential $e$.\n",
    "    1. Hint: Try breaking the equation into parts instead of computing the entire equation in one line!"
   ]
  },
  {
   "cell_type": "code",
   "execution_count": 85,
   "id": "7cef4bc4",
   "metadata": {
    "id": "7cef4bc4"
   },
   "outputs": [],
   "source": [
    "# TODO 6.1\n",
    "def gaussian_distribution(X:np.ndarray, mu:np.ndarray, sig:np.ndarray):\n",
    "    \"\"\" Computes the value at a given point in a Gaussian distribution\n",
    "    \n",
    "        Args:\n",
    "            X: Data for which an output value is computed for.\n",
    "            \n",
    "            mu: Feature means\n",
    "            \n",
    "            sig: Feature standard deviations\n",
    "    \"\"\"\n",
    "    return (1/(sig * np.sqrt(2 * np.pi))) * np.exp(-((X - mu)**2/(2 * sig**2)))"
   ]
  },
  {
   "cell_type": "markdown",
   "id": "cf106e59",
   "metadata": {
    "id": "cf106e59"
   },
   "source": [
    "Run the below `TEST_gaussian_distribution()` function to check your `gaussian_distribution()` function implementation."
   ]
  },
  {
   "cell_type": "code",
   "execution_count": 86,
   "id": "4d96e92e",
   "metadata": {
    "id": "4d96e92e",
    "outputId": "22e5a762-03d9-4a08-eb0f-ef100d167c90"
   },
   "outputs": [
    {
     "data": {
      "image/png": "[encoded data removed]",
      "text/plain": [
       "<Figure size 432x288 with 1 Axes>"
      ]
     },
     "metadata": {
      "needs_background": "light"
     },
     "output_type": "display_data"
    },
    {
     "name": "stdout",
     "output_type": "stream",
     "text": [
      "Your code PASSED the code check!\n"
     ]
    }
   ],
   "source": [
    "def TEST_gaussian_distribution():\n",
    "    mu, sig = 0, 1\n",
    "    x_values = np.linspace(-4, 4, 120)\n",
    "    y_values = gaussian_distribution(x_values, mu=mu, sig=sig)\n",
    "\n",
    "    plt.plot(x_values, y_values)\n",
    "    plt.title(f\"Mean: {mu} STD: {sig}\")\n",
    "    plt.ylabel(f\"Probability Density\")\n",
    "    plt.show()\n",
    "\n",
    "    todo_check([\n",
    "        (np.all(np.isclose(y_values[:4], [0.00013383, 0.00017473, 0.00022709, 0.00029382], rtol=.01)), \"The y_values for the gaussian distribution seem to be incorrect!\")\n",
    "    ])\n",
    "    \n",
    "TEST_gaussian_distribution()\n",
    "garbage_collect(['TEST_gaussian_distribution'])"
   ]
  },
  {
   "cell_type": "markdown",
   "id": "e383e6b9",
   "metadata": {
    "id": "e383e6b9"
   },
   "source": [
    "### Computing parameters\n",
    "Now, onto computing the mean $\\mu$ and std $\\sigma$ for our training data.  Let's start by practicing computing the mean and std for the just the setosa class data again!"
   ]
  },
  {
   "cell_type": "markdown",
   "id": "25bf10eb",
   "metadata": {
    "id": "25bf10eb"
   },
   "source": [
    "#### TODO 7\n",
    "Complete the TODO by finding the **mean** of each feature for the **setosa data ONLY**.\n",
    "\n",
    "1. Compute the mean for **each feature** in the `setosa_X` data. Store the output into `setosa_mean`.\n",
    "    1. Hint: Remember to pass the correct axis! Recall we are taking the mean, therefore whichever axis we specify is the axis that will be REDUCED over, meaning it will be removed."
   ]
  },
  {
   "cell_type": "code",
   "execution_count": 89,
   "id": "1e5f4e5e",
   "metadata": {
    "id": "1e5f4e5e",
    "outputId": "fa9b07dc-d0df-4077-a6ac-2500ccfcff3d"
   },
   "outputs": [
    {
     "name": "stdout",
     "output_type": "stream",
     "text": [
      "Your code PASSED the code check!\n"
     ]
    }
   ],
   "source": [
    "# TODO 7.1\n",
    "setosa_means = np.mean(setosa_X, axis=0)\n",
    "\n",
    "todo_check([\n",
    "    (setosa_means.shape == (4,), \"setosa_means shape is not (4,)\"),\n",
    "    (np.all(np.isclose(setosa_means, np.array([-0.99201601,  0.93720356, -1.30360894, -1.24849525]))), \"setosa_means has incorrect values\")\n",
    "])"
   ]
  },
  {
   "cell_type": "code",
   "execution_count": 90,
   "id": "2f681fe5",
   "metadata": {
    "id": "2f681fe5",
    "outputId": "c9a8589b-538b-48d8-f2db-8ad3f36c3e58"
   },
   "outputs": [
    {
     "data": {
      "text/html": [
       "<div>\n",
       "<style scoped>\n",
       "    .dataframe tbody tr th:only-of-type {\n",
       "        vertical-align: middle;\n",
       "    }\n",
       "\n",
       "    .dataframe tbody tr th {\n",
       "        vertical-align: top;\n",
       "    }\n",
       "\n",
       "    .dataframe thead th {\n",
       "        text-align: right;\n",
       "    }\n",
       "</style>\n",
       "<table border=\"1\" class=\"dataframe\">\n",
       "  <thead>\n",
       "    <tr style=\"text-align: right;\">\n",
       "      <th></th>\n",
       "      <th>sepal length (cm)</th>\n",
       "      <th>sepal width (cm)</th>\n",
       "      <th>petal length (cm)</th>\n",
       "      <th>petal width (cm)</th>\n",
       "    </tr>\n",
       "  </thead>\n",
       "  <tbody>\n",
       "    <tr>\n",
       "      <th>setosa mean</th>\n",
       "      <td>-0.992016</td>\n",
       "      <td>0.937204</td>\n",
       "      <td>-1.303609</td>\n",
       "      <td>-1.248495</td>\n",
       "    </tr>\n",
       "  </tbody>\n",
       "</table>\n",
       "</div>"
      ],
      "text/plain": [
       "             sepal length (cm)  sepal width (cm)  petal length (cm)  \\\n",
       "setosa mean          -0.992016          0.937204          -1.303609   \n",
       "\n",
       "             petal width (cm)  \n",
       "setosa mean         -1.248495  "
      ]
     },
     "execution_count": 90,
     "metadata": {},
     "output_type": "execute_result"
    }
   ],
   "source": [
    "setosa_means_df = pd.DataFrame(setosa_means.reshape(1, -1), index=[\"setosa mean\"], columns=iris.feature_names)\n",
    "setosa_means_df"
   ]
  },
  {
   "cell_type": "markdown",
   "id": "be8b4492",
   "metadata": {
    "id": "be8b4492"
   },
   "source": [
    "#### TODO 8\n",
    "Complete the TODO by finding the **standard deviation** of each feature for the **setosa data ONLY**.\n",
    "\n",
    "1. Compute the standard deviation for **each feature** in the `setosa_X` data. Store the output into `setosa_std`.\n",
    "    1. Hint: Remember to pass the correct axis! Recall we are taking the std, therefore whichever axis we specify is the axis that will be REDUCED over and removed."
   ]
  },
  {
   "cell_type": "code",
   "execution_count": 91,
   "id": "9395b664",
   "metadata": {
    "id": "9395b664",
    "outputId": "9e2e96c3-7439-4acd-ae66-79368bc010c4"
   },
   "outputs": [
    {
     "name": "stdout",
     "output_type": "stream",
     "text": [
      "Your code PASSED the code check!\n"
     ]
    }
   ],
   "source": [
    "# TODO 8.1\n",
    "setosa_stds = np.std(setosa_X, axis=0)\n",
    "\n",
    "todo_check([\n",
    "    (setosa_stds.shape == (4,), \"setosa_stds shape is not (4,)\"),\n",
    "    (np.all(np.isclose(setosa_stds, np.array([0.42184812, 0.7843699 , 0.09247147, 0.1501758 ]))),  \"setosa_stds has incorrect values\")\n",
    "])"
   ]
  },
  {
   "cell_type": "code",
   "execution_count": 92,
   "id": "8daeecfb",
   "metadata": {
    "id": "8daeecfb",
    "outputId": "3687c95d-f3fe-41c1-c027-1e4f47f4a806"
   },
   "outputs": [
    {
     "data": {
      "text/html": [
       "<div>\n",
       "<style scoped>\n",
       "    .dataframe tbody tr th:only-of-type {\n",
       "        vertical-align: middle;\n",
       "    }\n",
       "\n",
       "    .dataframe tbody tr th {\n",
       "        vertical-align: top;\n",
       "    }\n",
       "\n",
       "    .dataframe thead th {\n",
       "        text-align: right;\n",
       "    }\n",
       "</style>\n",
       "<table border=\"1\" class=\"dataframe\">\n",
       "  <thead>\n",
       "    <tr style=\"text-align: right;\">\n",
       "      <th></th>\n",
       "      <th>sepal length (cm)</th>\n",
       "      <th>sepal width (cm)</th>\n",
       "      <th>petal length (cm)</th>\n",
       "      <th>petal width (cm)</th>\n",
       "    </tr>\n",
       "  </thead>\n",
       "  <tbody>\n",
       "    <tr>\n",
       "      <th>setosa std</th>\n",
       "      <td>0.421848</td>\n",
       "      <td>0.78437</td>\n",
       "      <td>0.092471</td>\n",
       "      <td>0.150176</td>\n",
       "    </tr>\n",
       "  </tbody>\n",
       "</table>\n",
       "</div>"
      ],
      "text/plain": [
       "            sepal length (cm)  sepal width (cm)  petal length (cm)  \\\n",
       "setosa std           0.421848           0.78437           0.092471   \n",
       "\n",
       "            petal width (cm)  \n",
       "setosa std          0.150176  "
      ]
     },
     "execution_count": 92,
     "metadata": {},
     "output_type": "execute_result"
    }
   ],
   "source": [
    "setosa_stds_df = pd.DataFrame(setosa_stds.reshape(1, -1), index=[\"setosa std\"], columns=iris.feature_names)\n",
    "setosa_stds_df"
   ]
  },
  {
   "cell_type": "code",
   "execution_count": 93,
   "id": "08d6c942",
   "metadata": {
    "id": "08d6c942"
   },
   "outputs": [],
   "source": [
    "garbage_collect(['setosa_stds_df', 'setosa_stds', 'setosa_means_df', 'setosa_means'])"
   ]
  },
  {
   "cell_type": "markdown",
   "id": "8efeeb21",
   "metadata": {
    "id": "8efeeb21"
   },
   "source": [
    "#### TODO 9\n",
    "Now, it's time to generalize our code to work for ALL classes. Complete the TODO by finishing the `compute_parameters()` function which uses ideas from the previous TODOs.\n",
    "\n",
    "1. Find all the unique labels in the passed labels `y`. We need to do this so we have access to each unique class label. Store the output into `class_labels`.\n",
    "\n",
    "\n",
    "2. Create a `for` loop that loops over each label in `class_labels`. The name of the for-loop's variable should be called `label`. You can use the Python keyword `for` in conjunction with `in` to do so.  \n",
    "    1. Hint: See this [guide](https://www.w3schools.com/python/python_for_loops.asp) for how to write a for-loop using `for` and `in`.\n",
    "\n",
    "\n",
    "3. Find the indexes/locations of all data samples for the current class label `label` by searching for them using `np.where()`. Store the output in `class_locs`.\n",
    "    1. Hint: Don't forget to index the output of `np.where()` as it returns a tuple!!!\n",
    "    1. Hint: Refer to the notes and TODO 4.1 to recall how to find the indexes of the data samples for a particular label.\n",
    "\n",
    "\n",
    "4. Compute the **mean** for **each feature** in the `class_X` data. Store the output into `class_mean`.\n",
    "    1. Hint: Remember to pass the correct axis! Recall we are taking the mean, therefore whichever axis we specify is the axis that will be REDUCED over and removed.\n",
    "    \n",
    "    \n",
    "5. Compute the **std** for **each feature** in the `class_X` data. Store the output into `class_std`.\n",
    "    1. Hint: Remember to pass the correct axis! Recall we are taking the std, therefore whichever axis we specify is the axis that will be REDUCED over and removed."
   ]
  },
  {
   "cell_type": "code",
   "execution_count": 121,
   "id": "bbe584d1",
   "metadata": {
    "id": "bbe584d1"
   },
   "outputs": [],
   "source": [
    "def compute_parameters(\n",
    "    X:np.ndarray, \n",
    "    y:np.ndarray,\n",
    "    smoothing: float = 10e-3\n",
    "):\n",
    "    \"\"\" Computes the means and standard deviations for classes and features\n",
    "    \n",
    "        Args:\n",
    "            X: Data \n",
    "            \n",
    "            y: Labels\n",
    "            \n",
    "            smoothing: Default STD value which prevents the STD from ever \n",
    "                being 0 which. If the STD is ever 0 numerical instabilities\n",
    "                can occur.\n",
    "    \"\"\"\n",
    "    # TODO 9.1\n",
    "    class_labels = np.unique(y)\n",
    "    \n",
    "    means = []\n",
    "    stds = []\n",
    "    # TODO 9.2\n",
    "    for label in class_labels:\n",
    "        # TODO 9.3\n",
    "        class_locs = np.where(y == label)[0]\n",
    "        class_X = X[class_locs]\n",
    "        \n",
    "        \n",
    "        # TODO 9.4\n",
    "        class_mean = np.mean(class_X, axis=0)\n",
    "        means.append(class_mean)\n",
    "        \n",
    "        # TODO 9.5\n",
    "        class_std = np.std(class_X, axis=0)\n",
    "        stds.append(class_std)\n",
    "    \n",
    "    means = np.vstack(means)\n",
    "    stds = np.vstack(stds) + smoothing\n",
    "    return means, stds"
   ]
  },
  {
   "cell_type": "markdown",
   "id": "f8dc606e",
   "metadata": {
    "id": "f8dc606e"
   },
   "source": [
    "Run the below `TEST_compute_parameters()` function to test your implementation for `compute_parameters()` function."
   ]
  },
  {
   "cell_type": "code",
   "execution_count": 122,
   "id": "85b5c908",
   "metadata": {
    "id": "85b5c908",
    "outputId": "fb1b620b-5585-42f6-bca3-52d541c71845"
   },
   "outputs": [
    {
     "name": "stdout",
     "output_type": "stream",
     "text": [
      "Your code PASSED the code check!\n"
     ]
    }
   ],
   "source": [
    "def TEST_compute_parameters():\n",
    "    # Load Iris data\n",
    "    data = data_prep(df=iris_df, label_name='class', return_array=True)\n",
    "    X_trn, y_trn, _, _, _, _, _ = data\n",
    "    \n",
    "    # Compute mean and std for each class\n",
    "    means, stds = compute_parameters(X_trn, y_trn)\n",
    "    \n",
    "    todo_check([\n",
    "        (np.all(np.isclose(np.diagonal(means), [-0.99201601, -0.7014059 ,  0.99594269], rtol=.01)), \"means has incorrect values\"),\n",
    "        (np.all(np.isclose(np.diagonal(stds), [0.43184812, 0.68619403, 0.32173667], rtol=.01)),  \"stds has incorrect values\"),\n",
    "    ])\n",
    "    \n",
    "    return means, stds\n",
    "    \n",
    "means, stds = TEST_compute_parameters()\n",
    "garbage_collect(['TEST_compute_parameters'])"
   ]
  },
  {
   "cell_type": "markdown",
   "id": "4b689974",
   "metadata": {
    "id": "4b689974"
   },
   "source": [
    "To further visualize the output of the `compute_parameters()` function, we can convert our basic NumPy array, which holds the means and stds for every class and feature, into a DataFrame.\n",
    "\n",
    "Below are the means for each class and all the features. As we can see, we have 3 classes and 4 features. Therefore, we have 12 means!"
   ]
  },
  {
   "cell_type": "code",
   "execution_count": 123,
   "id": "f22a67d1",
   "metadata": {
    "id": "f22a67d1",
    "outputId": "eb05c13e-f2d1-49e1-e6ad-bba46940d192"
   },
   "outputs": [
    {
     "name": "stdout",
     "output_type": "stream",
     "text": [
      "=========Iris Training Data Feature Means=========\n"
     ]
    },
    {
     "data": {
      "text/html": [
       "<div>\n",
       "<style scoped>\n",
       "    .dataframe tbody tr th:only-of-type {\n",
       "        vertical-align: middle;\n",
       "    }\n",
       "\n",
       "    .dataframe tbody tr th {\n",
       "        vertical-align: top;\n",
       "    }\n",
       "\n",
       "    .dataframe thead th {\n",
       "        text-align: right;\n",
       "    }\n",
       "</style>\n",
       "<table border=\"1\" class=\"dataframe\">\n",
       "  <thead>\n",
       "    <tr style=\"text-align: right;\">\n",
       "      <th></th>\n",
       "      <th>sepal length (cm)</th>\n",
       "      <th>sepal width (cm)</th>\n",
       "      <th>petal length (cm)</th>\n",
       "      <th>petal width (cm)</th>\n",
       "    </tr>\n",
       "  </thead>\n",
       "  <tbody>\n",
       "    <tr>\n",
       "      <th>setosa</th>\n",
       "      <td>-0.992016</td>\n",
       "      <td>0.937204</td>\n",
       "      <td>-1.303609</td>\n",
       "      <td>-1.248495</td>\n",
       "    </tr>\n",
       "    <tr>\n",
       "      <th>versicolor</th>\n",
       "      <td>0.112395</td>\n",
       "      <td>-0.701406</td>\n",
       "      <td>0.261781</td>\n",
       "      <td>0.141788</td>\n",
       "    </tr>\n",
       "    <tr>\n",
       "      <th>virginica</th>\n",
       "      <td>0.834490</td>\n",
       "      <td>-0.263186</td>\n",
       "      <td>0.995943</td>\n",
       "      <td>1.049948</td>\n",
       "    </tr>\n",
       "  </tbody>\n",
       "</table>\n",
       "</div>"
      ],
      "text/plain": [
       "            sepal length (cm)  sepal width (cm)  petal length (cm)  \\\n",
       "setosa              -0.992016          0.937204          -1.303609   \n",
       "versicolor           0.112395         -0.701406           0.261781   \n",
       "virginica            0.834490         -0.263186           0.995943   \n",
       "\n",
       "            petal width (cm)  \n",
       "setosa             -1.248495  \n",
       "versicolor          0.141788  \n",
       "virginica           1.049948  "
      ]
     },
     "execution_count": 123,
     "metadata": {},
     "output_type": "execute_result"
    }
   ],
   "source": [
    "means_df = pd.DataFrame(means, index=iris.target_names, columns=iris.feature_names)\n",
    "print(\"{:=^50}\".format(\"Iris Training Data Feature Means\"))\n",
    "means_df"
   ]
  },
  {
   "cell_type": "markdown",
   "id": "ade06325",
   "metadata": {
    "id": "ade06325"
   },
   "source": [
    "Below are the standard deviations for each class and all the features. As we can see once again, we have 3 classes and 4 features. Therefore, we have 12 stds!"
   ]
  },
  {
   "cell_type": "code",
   "execution_count": 124,
   "id": "da6bded6",
   "metadata": {
    "id": "da6bded6",
    "outputId": "7af1a837-2ce5-4254-dc6c-940769e0a1df"
   },
   "outputs": [
    {
     "name": "stdout",
     "output_type": "stream",
     "text": [
      "=========Iris Training Data Feature STDs==========\n"
     ]
    },
    {
     "data": {
      "text/html": [
       "<div>\n",
       "<style scoped>\n",
       "    .dataframe tbody tr th:only-of-type {\n",
       "        vertical-align: middle;\n",
       "    }\n",
       "\n",
       "    .dataframe tbody tr th {\n",
       "        vertical-align: top;\n",
       "    }\n",
       "\n",
       "    .dataframe thead th {\n",
       "        text-align: right;\n",
       "    }\n",
       "</style>\n",
       "<table border=\"1\" class=\"dataframe\">\n",
       "  <thead>\n",
       "    <tr style=\"text-align: right;\">\n",
       "      <th></th>\n",
       "      <th>sepal length (cm)</th>\n",
       "      <th>sepal width (cm)</th>\n",
       "      <th>petal length (cm)</th>\n",
       "      <th>petal width (cm)</th>\n",
       "    </tr>\n",
       "  </thead>\n",
       "  <tbody>\n",
       "    <tr>\n",
       "      <th>setosa</th>\n",
       "      <td>0.431848</td>\n",
       "      <td>0.794370</td>\n",
       "      <td>0.102471</td>\n",
       "      <td>0.160176</td>\n",
       "    </tr>\n",
       "    <tr>\n",
       "      <th>versicolor</th>\n",
       "      <td>0.707886</td>\n",
       "      <td>0.686194</td>\n",
       "      <td>0.284532</td>\n",
       "      <td>0.276027</td>\n",
       "    </tr>\n",
       "    <tr>\n",
       "      <th>virginica</th>\n",
       "      <td>0.779784</td>\n",
       "      <td>0.724840</td>\n",
       "      <td>0.321737</td>\n",
       "      <td>0.400743</td>\n",
       "    </tr>\n",
       "  </tbody>\n",
       "</table>\n",
       "</div>"
      ],
      "text/plain": [
       "            sepal length (cm)  sepal width (cm)  petal length (cm)  \\\n",
       "setosa               0.431848          0.794370           0.102471   \n",
       "versicolor           0.707886          0.686194           0.284532   \n",
       "virginica            0.779784          0.724840           0.321737   \n",
       "\n",
       "            petal width (cm)  \n",
       "setosa              0.160176  \n",
       "versicolor          0.276027  \n",
       "virginica           0.400743  "
      ]
     },
     "execution_count": 124,
     "metadata": {},
     "output_type": "execute_result"
    }
   ],
   "source": [
    "stds_df = pd.DataFrame(stds, index=iris.target_names, columns=iris.feature_names)\n",
    "print(\"{:=^50}\".format(\"Iris Training Data Feature STDs\"))\n",
    "stds_df"
   ]
  },
  {
   "cell_type": "code",
   "execution_count": 125,
   "id": "2a6a9836",
   "metadata": {
    "id": "2a6a9836"
   },
   "outputs": [],
   "source": [
    "garbage_collect(['means_df', 'stds_df', 'means', 'stds'])"
   ]
  },
  {
   "cell_type": "markdown",
   "id": "0b1e8723",
   "metadata": {
    "id": "0b1e8723"
   },
   "source": [
    "### Computing log likelihoods\n",
    "\n",
    "Finally, now that we have computed the parameters (mean and std) for each class and feature we can compute the log likelihoods $P(\\xv \\mid y_k)$. Once again, let's start off by just computing the log likelihood for the setosa class."
   ]
  },
  {
   "cell_type": "markdown",
   "id": "b19e6c21",
   "metadata": {
    "id": "b19e6c21"
   },
   "source": [
    "#### TODO 10\n",
    "1. Compute the setosa mean and std by passing `setosa_X` and `setosa_y` to the `compute_parameters()` function. Store the outputs into `setosa_means` and `setosa_stds`.\n",
    "\n",
    "\n",
    "2. Compute the setosa feature likelihoods for ALL the training data `X_trn` by passing `X_trn`, `setosa_means`, and `setosa_stds` to the `gaussian_distribution()` function. Store the output into `feature_likelihoods`.\n",
    "\n",
    "\n",
    "3. Compute the setosa feature log likelihoods by taking the log of `feature_likelihoods`. Store the output into `feature_log_likelihoods`.\n",
    "\n",
    "\n",
    "4. Compute the log likelihood for the setosa class $P(\\xv \\mid y_\\text{setosa})$  by summing all the feature log likelihoods in `feature_log_likelihoods`. Refer to below equation to refresh your memory on how to compute a class's log likelihood.\n",
    "    1. Hint: Try using `np.sum()` and specifying the correct axis! Recall  whichever axis we specify is the axis that will be REDUCED over and removed.\n",
    "\n",
    "$$\n",
    "\\begin{align}\n",
    "\\log P(\\xv | y_\\text{setosa}) &= \\log P(x_1|y_\\text{setosa}) + \\log P(x_2|y_\\text{setosa}) + ... + \\log P(x_n|y_\\text{setosa}) \\\\\n",
    "&= \\sum_{i=0}^n \\log P(x_i|y_\\text{setosa})\n",
    "\\end{align}\n",
    "$$"
   ]
  },
  {
   "cell_type": "code",
   "execution_count": 126,
   "id": "b8ba314f",
   "metadata": {
    "id": "b8ba314f",
    "outputId": "f508545c-22a7-472b-aab8-6cea703c7d40"
   },
   "outputs": [
    {
     "name": "stdout",
     "output_type": "stream",
     "text": [
      "Your code PASSED the code check!\n"
     ]
    }
   ],
   "source": [
    "# Load Iris data\n",
    "data = data_prep(df=iris_df, label_name='class', return_array=True)\n",
    "X_trn, y_trn, _, _, _, _, _ = data\n",
    "\n",
    "# TODO 10.1\n",
    "setosa_means, setosa_stds = compute_parameters(setosa_X, setosa_y)\n",
    "\n",
    "todo_check([\n",
    "    (setosa_means.shape == (1, 4), \"setosa_means is does not have shape (1, 4)\"),\n",
    "    (np.all(np.isclose(setosa_means, np.array([[-0.99201601,  0.93720356, -1.30360894, -1.24849525]]), rtol=.01)), \"setosa_means has incorrect values\"),\n",
    "    (setosa_stds.shape == (1, 4), \"setosa_stds is does not have shape (1, 4)\"),\n",
    "    (np.all(np.isclose(setosa_stds, np.array([[0.43184812, 0.7943699 , 0.10247147, 0.1601758]]), rtol=.01)), \"setosa_stds has incorrect values\"),\n",
    "])"
   ]
  },
  {
   "cell_type": "code",
   "execution_count": 127,
   "id": "fae5fb4a",
   "metadata": {
    "id": "fae5fb4a",
    "outputId": "40376ab7-d92d-4b2f-ad03-a1c22c8e8cfe"
   },
   "outputs": [
    {
     "name": "stdout",
     "output_type": "stream",
     "text": [
      "Your code PASSED the code check!\n"
     ]
    }
   ],
   "source": [
    "# TODO 10.2\n",
    "feature_likelihoods = gaussian_distribution(X_trn, setosa_means, setosa_stds)\n",
    "\n",
    "todo_check([\n",
    "    (feature_likelihoods.shape == (96, 4), \"feature_likelihoods does not have the shape (96, 4)\"),\n",
    "    (np.isclose(feature_likelihoods[0, 1], 0.1683785, rtol=.01), \"feature_likelihoods has incorrect values\")\n",
    "])"
   ]
  },
  {
   "cell_type": "markdown",
   "id": "2d49d90a",
   "metadata": {
    "id": "2d49d90a"
   },
   "source": [
    "Wrapping the `feature_likelihoods` in a DataFrame we can see the likelihoods for each data sample and feature. Recall, the likelihood values here are really uninterpretable since the likelihood really isn't a probability. Thus, interpreting the values of `feature_likelihoods` is hard. That's okay though, we are really interested in the end product, the class label prediction. "
   ]
  },
  {
   "cell_type": "code",
   "execution_count": 128,
   "id": "1f8b1749",
   "metadata": {
    "id": "1f8b1749",
    "outputId": "f4a3c5cc-3f8e-4f70-8541-7732557caeed",
    "scrolled": true
   },
   "outputs": [
    {
     "data": {
      "text/html": [
       "<div>\n",
       "<style scoped>\n",
       "    .dataframe tbody tr th:only-of-type {\n",
       "        vertical-align: middle;\n",
       "    }\n",
       "\n",
       "    .dataframe tbody tr th {\n",
       "        vertical-align: top;\n",
       "    }\n",
       "\n",
       "    .dataframe thead th {\n",
       "        text-align: right;\n",
       "    }\n",
       "</style>\n",
       "<table border=\"1\" class=\"dataframe\">\n",
       "  <thead>\n",
       "    <tr style=\"text-align: right;\">\n",
       "      <th></th>\n",
       "      <th>sepal length (cm)</th>\n",
       "      <th>sepal width (cm)</th>\n",
       "      <th>petal length (cm)</th>\n",
       "      <th>petal width (cm)</th>\n",
       "    </tr>\n",
       "  </thead>\n",
       "  <tbody>\n",
       "    <tr>\n",
       "      <th>0</th>\n",
       "      <td>2.614081e-02</td>\n",
       "      <td>0.168379</td>\n",
       "      <td>8.314299e-74</td>\n",
       "      <td>3.724071e-35</td>\n",
       "    </tr>\n",
       "    <tr>\n",
       "      <th>1</th>\n",
       "      <td>1.914161e-05</td>\n",
       "      <td>0.244424</td>\n",
       "      <td>1.838197e-69</td>\n",
       "      <td>5.876859e-23</td>\n",
       "    </tr>\n",
       "    <tr>\n",
       "      <th>2</th>\n",
       "      <td>4.175694e-01</td>\n",
       "      <td>0.003539</td>\n",
       "      <td>2.808555e-33</td>\n",
       "      <td>1.895530e-08</td>\n",
       "    </tr>\n",
       "    <tr>\n",
       "      <th>3</th>\n",
       "      <td>5.725305e-01</td>\n",
       "      <td>0.469806</td>\n",
       "      <td>1.614662e+00</td>\n",
       "      <td>2.265884e+00</td>\n",
       "    </tr>\n",
       "    <tr>\n",
       "      <th>4</th>\n",
       "      <td>4.965047e-06</td>\n",
       "      <td>0.168379</td>\n",
       "      <td>6.472313e-108</td>\n",
       "      <td>5.664462e-50</td>\n",
       "    </tr>\n",
       "    <tr>\n",
       "      <th>...</th>\n",
       "      <td>...</td>\n",
       "      <td>...</td>\n",
       "      <td>...</td>\n",
       "      <td>...</td>\n",
       "    </tr>\n",
       "    <tr>\n",
       "      <th>91</th>\n",
       "      <td>2.846487e-10</td>\n",
       "      <td>0.063340</td>\n",
       "      <td>2.665990e-142</td>\n",
       "      <td>8.371685e-40</td>\n",
       "    </tr>\n",
       "    <tr>\n",
       "      <th>92</th>\n",
       "      <td>5.725305e-01</td>\n",
       "      <td>0.449780</td>\n",
       "      <td>3.796751e+00</td>\n",
       "      <td>2.265884e+00</td>\n",
       "    </tr>\n",
       "    <tr>\n",
       "      <th>93</th>\n",
       "      <td>6.815475e-05</td>\n",
       "      <td>0.107349</td>\n",
       "      <td>2.998679e-65</td>\n",
       "      <td>2.791409e-16</td>\n",
       "    </tr>\n",
       "    <tr>\n",
       "      <th>94</th>\n",
       "      <td>9.134933e-01</td>\n",
       "      <td>0.408281</td>\n",
       "      <td>3.690069e+00</td>\n",
       "      <td>2.265884e+00</td>\n",
       "    </tr>\n",
       "    <tr>\n",
       "      <th>95</th>\n",
       "      <td>8.415671e-01</td>\n",
       "      <td>0.493104</td>\n",
       "      <td>3.690069e+00</td>\n",
       "      <td>1.135168e+00</td>\n",
       "    </tr>\n",
       "  </tbody>\n",
       "</table>\n",
       "<p>96 rows × 4 columns</p>\n",
       "</div>"
      ],
      "text/plain": [
       "    sepal length (cm)  sepal width (cm)  petal length (cm)  petal width (cm)\n",
       "0        2.614081e-02          0.168379       8.314299e-74      3.724071e-35\n",
       "1        1.914161e-05          0.244424       1.838197e-69      5.876859e-23\n",
       "2        4.175694e-01          0.003539       2.808555e-33      1.895530e-08\n",
       "3        5.725305e-01          0.469806       1.614662e+00      2.265884e+00\n",
       "4        4.965047e-06          0.168379      6.472313e-108      5.664462e-50\n",
       "..                ...               ...                ...               ...\n",
       "91       2.846487e-10          0.063340      2.665990e-142      8.371685e-40\n",
       "92       5.725305e-01          0.449780       3.796751e+00      2.265884e+00\n",
       "93       6.815475e-05          0.107349       2.998679e-65      2.791409e-16\n",
       "94       9.134933e-01          0.408281       3.690069e+00      2.265884e+00\n",
       "95       8.415671e-01          0.493104       3.690069e+00      1.135168e+00\n",
       "\n",
       "[96 rows x 4 columns]"
      ]
     },
     "execution_count": 128,
     "metadata": {},
     "output_type": "execute_result"
    }
   ],
   "source": [
    "feature_likelihoods_df = pd.DataFrame(feature_likelihoods, columns=iris.feature_names)\n",
    "feature_likelihoods_df"
   ]
  },
  {
   "cell_type": "code",
   "execution_count": 130,
   "id": "93f0cfed",
   "metadata": {
    "id": "93f0cfed",
    "outputId": "a8cdfac8-ff9c-48ab-a296-91572112c485"
   },
   "outputs": [
    {
     "name": "stdout",
     "output_type": "stream",
     "text": [
      "Your code PASSED the code check!\n"
     ]
    }
   ],
   "source": [
    "# TODO 10.3\n",
    "feature_log_likelihood = np.log(feature_likelihoods)\n",
    "\n",
    "todo_check([\n",
    "    (feature_log_likelihood.shape == (96, 4), \"feature_log_likelihood does not have the shape (96, 4)\"),\n",
    "    (np.isclose(feature_log_likelihood[0, 1], -1.78154, rtol=.01), \"feature_log_likelihood has incorrect values\")\n",
    "])"
   ]
  },
  {
   "cell_type": "markdown",
   "id": "a7ac7058",
   "metadata": {
    "id": "a7ac7058"
   },
   "source": [
    "Below we can see another prettier print out of `feature_log_likelihood`. Notice, only the values have changed since we took the log."
   ]
  },
  {
   "cell_type": "code",
   "execution_count": null,
   "id": "969daf32",
   "metadata": {
    "id": "969daf32",
    "outputId": "eec9634d-82d4-4ca4-d1b3-966dbbc6d806",
    "scrolled": true
   },
   "outputs": [
    {
     "data": {
      "text/html": [
       "<div>\n",
       "<style scoped>\n",
       "    .dataframe tbody tr th:only-of-type {\n",
       "        vertical-align: middle;\n",
       "    }\n",
       "\n",
       "    .dataframe tbody tr th {\n",
       "        vertical-align: top;\n",
       "    }\n",
       "\n",
       "    .dataframe thead th {\n",
       "        text-align: right;\n",
       "    }\n",
       "</style>\n",
       "<table border=\"1\" class=\"dataframe\">\n",
       "  <thead>\n",
       "    <tr style=\"text-align: right;\">\n",
       "      <th></th>\n",
       "      <th>sepal length (cm)</th>\n",
       "      <th>sepal width (cm)</th>\n",
       "      <th>petal length (cm)</th>\n",
       "      <th>petal width (cm)</th>\n",
       "    </tr>\n",
       "  </thead>\n",
       "  <tbody>\n",
       "    <tr>\n",
       "      <th>0</th>\n",
       "      <td>-3.644258</td>\n",
       "      <td>-1.781540</td>\n",
       "      <td>-168.273320</td>\n",
       "      <td>-79.275661</td>\n",
       "    </tr>\n",
       "    <tr>\n",
       "      <th>1</th>\n",
       "      <td>-10.863646</td>\n",
       "      <td>-1.408851</td>\n",
       "      <td>-158.269586</td>\n",
       "      <td>-51.188435</td>\n",
       "    </tr>\n",
       "    <tr>\n",
       "      <th>2</th>\n",
       "      <td>-0.873305</td>\n",
       "      <td>-5.643955</td>\n",
       "      <td>-74.952638</td>\n",
       "      <td>-17.781182</td>\n",
       "    </tr>\n",
       "    <tr>\n",
       "      <th>3</th>\n",
       "      <td>-0.557689</td>\n",
       "      <td>-0.755435</td>\n",
       "      <td>0.479126</td>\n",
       "      <td>0.817965</td>\n",
       "    </tr>\n",
       "    <tr>\n",
       "      <th>4</th>\n",
       "      <td>-12.213088</td>\n",
       "      <td>-1.781540</td>\n",
       "      <td>-246.811656</td>\n",
       "      <td>-113.395043</td>\n",
       "    </tr>\n",
       "    <tr>\n",
       "      <th>...</th>\n",
       "      <td>...</td>\n",
       "      <td>...</td>\n",
       "      <td>...</td>\n",
       "      <td>...</td>\n",
       "    </tr>\n",
       "    <tr>\n",
       "      <th>91</th>\n",
       "      <td>-21.979765</td>\n",
       "      <td>-2.759244</td>\n",
       "      <td>-325.986508</td>\n",
       "      <td>-89.978549</td>\n",
       "    </tr>\n",
       "    <tr>\n",
       "      <th>92</th>\n",
       "      <td>-0.557689</td>\n",
       "      <td>-0.798996</td>\n",
       "      <td>1.334146</td>\n",
       "      <td>0.817965</td>\n",
       "    </tr>\n",
       "    <tr>\n",
       "      <th>93</th>\n",
       "      <td>-9.593730</td>\n",
       "      <td>-2.231671</td>\n",
       "      <td>-148.569859</td>\n",
       "      <td>-35.814815</td>\n",
       "    </tr>\n",
       "    <tr>\n",
       "      <th>94</th>\n",
       "      <td>-0.090479</td>\n",
       "      <td>-0.895799</td>\n",
       "      <td>1.305645</td>\n",
       "      <td>0.817965</td>\n",
       "    </tr>\n",
       "    <tr>\n",
       "      <th>95</th>\n",
       "      <td>-0.172490</td>\n",
       "      <td>-0.707034</td>\n",
       "      <td>1.305645</td>\n",
       "      <td>0.126781</td>\n",
       "    </tr>\n",
       "  </tbody>\n",
       "</table>\n",
       "<p>96 rows × 4 columns</p>\n",
       "</div>"
      ],
      "text/plain": [
       "    sepal length (cm)  sepal width (cm)  petal length (cm)  petal width (cm)\n",
       "0           -3.644258         -1.781540        -168.273320        -79.275661\n",
       "1          -10.863646         -1.408851        -158.269586        -51.188435\n",
       "2           -0.873305         -5.643955         -74.952638        -17.781182\n",
       "3           -0.557689         -0.755435           0.479126          0.817965\n",
       "4          -12.213088         -1.781540        -246.811656       -113.395043\n",
       "..                ...               ...                ...               ...\n",
       "91         -21.979765         -2.759244        -325.986508        -89.978549\n",
       "92          -0.557689         -0.798996           1.334146          0.817965\n",
       "93          -9.593730         -2.231671        -148.569859        -35.814815\n",
       "94          -0.090479         -0.895799           1.305645          0.817965\n",
       "95          -0.172490         -0.707034           1.305645          0.126781\n",
       "\n",
       "[96 rows x 4 columns]"
      ]
     },
     "execution_count": 53,
     "metadata": {},
     "output_type": "execute_result"
    }
   ],
   "source": [
    "feature_ll_df = pd.DataFrame(feature_log_likelihood, columns=iris.feature_names)\n",
    "feature_ll_df"
   ]
  },
  {
   "cell_type": "code",
   "execution_count": 136,
   "id": "56055748",
   "metadata": {
    "id": "56055748",
    "outputId": "f6683a56-fef0-474d-ac97-76ae1fe2891a"
   },
   "outputs": [
    {
     "name": "stdout",
     "output_type": "stream",
     "text": [
      "Your code PASSED the code check!\n"
     ]
    }
   ],
   "source": [
    "# TODO 10.4\n",
    "setosa_log_likelihood = np.sum(feature_log_likelihood, axis=1)\n",
    "\n",
    "todo_check([\n",
    "    (setosa_log_likelihood.shape == (96,), \"setosa_log_likelihood does not have the shape (96,)\"),\n",
    "    (np.isclose(setosa_log_likelihood[0], -252.974778, rtol=.01), \"setosa_log_likelihood has incorrect values\")\n",
    "])"
   ]
  },
  {
   "cell_type": "markdown",
   "id": "27516d50",
   "metadata": {
    "id": "27516d50"
   },
   "source": [
    "Below is the pretty print out of `class_log_likelihoods`. Notice that we now only have a single log likelihood value for each data sample. This is the log likelihood a data sample belongs to the setosa class $\\log P(\\xv \\mid y_\\text{setosa})$. Here, we can roughly say the larger the value the more likely the data sample belongs to the setosa class. However, without the other class log likelihoods we can't say what the predicted label would be."
   ]
  },
  {
   "cell_type": "code",
   "execution_count": 137,
   "id": "94b56d2e",
   "metadata": {
    "id": "94b56d2e",
    "outputId": "cb6bb828-4755-4d30-d7b7-375bd5426156",
    "scrolled": true
   },
   "outputs": [
    {
     "data": {
      "text/html": [
       "<div>\n",
       "<style scoped>\n",
       "    .dataframe tbody tr th:only-of-type {\n",
       "        vertical-align: middle;\n",
       "    }\n",
       "\n",
       "    .dataframe tbody tr th {\n",
       "        vertical-align: top;\n",
       "    }\n",
       "\n",
       "    .dataframe thead th {\n",
       "        text-align: right;\n",
       "    }\n",
       "</style>\n",
       "<table border=\"1\" class=\"dataframe\">\n",
       "  <thead>\n",
       "    <tr style=\"text-align: right;\">\n",
       "      <th></th>\n",
       "      <th>Setosa Likelihood</th>\n",
       "    </tr>\n",
       "  </thead>\n",
       "  <tbody>\n",
       "    <tr>\n",
       "      <th>0</th>\n",
       "      <td>-252.974779</td>\n",
       "    </tr>\n",
       "    <tr>\n",
       "      <th>1</th>\n",
       "      <td>-221.730518</td>\n",
       "    </tr>\n",
       "    <tr>\n",
       "      <th>2</th>\n",
       "      <td>-99.251079</td>\n",
       "    </tr>\n",
       "    <tr>\n",
       "      <th>3</th>\n",
       "      <td>-0.016034</td>\n",
       "    </tr>\n",
       "    <tr>\n",
       "      <th>4</th>\n",
       "      <td>-374.201327</td>\n",
       "    </tr>\n",
       "    <tr>\n",
       "      <th>...</th>\n",
       "      <td>...</td>\n",
       "    </tr>\n",
       "    <tr>\n",
       "      <th>91</th>\n",
       "      <td>-440.704066</td>\n",
       "    </tr>\n",
       "    <tr>\n",
       "      <th>92</th>\n",
       "      <td>0.795425</td>\n",
       "    </tr>\n",
       "    <tr>\n",
       "      <th>93</th>\n",
       "      <td>-196.210076</td>\n",
       "    </tr>\n",
       "    <tr>\n",
       "      <th>94</th>\n",
       "      <td>1.137332</td>\n",
       "    </tr>\n",
       "    <tr>\n",
       "      <th>95</th>\n",
       "      <td>0.552902</td>\n",
       "    </tr>\n",
       "  </tbody>\n",
       "</table>\n",
       "<p>96 rows × 1 columns</p>\n",
       "</div>"
      ],
      "text/plain": [
       "    Setosa Likelihood\n",
       "0         -252.974779\n",
       "1         -221.730518\n",
       "2          -99.251079\n",
       "3           -0.016034\n",
       "4         -374.201327\n",
       "..                ...\n",
       "91        -440.704066\n",
       "92           0.795425\n",
       "93        -196.210076\n",
       "94           1.137332\n",
       "95           0.552902\n",
       "\n",
       "[96 rows x 1 columns]"
      ]
     },
     "execution_count": 137,
     "metadata": {},
     "output_type": "execute_result"
    }
   ],
   "source": [
    "setosa_ll_df = pd.DataFrame(setosa_log_likelihood, columns=['Setosa Likelihood'])\n",
    "setosa_ll_df"
   ]
  },
  {
   "cell_type": "code",
   "execution_count": 138,
   "id": "f68a2c90",
   "metadata": {
    "id": "f68a2c90"
   },
   "outputs": [],
   "source": [
    "garbage_collect(['feature_log_likelihood', 'setosa_log_likelihood', 'feature_ll_df', 'setosa_ll_df', 'setosa_log_likelihood',  'setosa_stds',  'setosa_means', 'data', 'X_trn', 'y_trn'])"
   ]
  },
  {
   "cell_type": "markdown",
   "id": "31c33825",
   "metadata": {
    "id": "31c33825"
   },
   "source": [
    "#### TODO 11\n",
    "It's time to generalize our code to work for ALL classes. Complete the TODO by finishing the `compute_log_likelihoods()` function which uses ideas from past TODOs.\n",
    "\n",
    "**Hint: Notice the loop is looping over the rows of `means` and `stds`. Recall that each row in `means` and `stds` corresponds to a class. Thus, the loop is looping over means and stds for each class which are stored in the `for` loop's `class_mean` and `class_std`  variables.**\n",
    "\n",
    "1. Compute the feature likelihoods for the current class by using the `gaussian_distribution()` function and passing ALL the input data `X` and the current class's means and stds. Store the output into `feature_likelihoods`.\n",
    "\n",
    "\n",
    "2. Compute the log likelihoods by taking the log of `feature_likelihoods`. Store the output into `feature_log_likelihoods`.\n",
    "\n",
    "\n",
    "3.  Compute the log likelihood for the current class by summing over the feature log likelihoods stored in `feature_log_likelihoods`. Refer to below equation to refresh your memory on how to compute a class's log likelihood.\n",
    "\n",
    "$$\n",
    "\\begin{align}\n",
    "\\log P(\\xv | y_k) &= \\log P(x_1|y_k) + \\log P(x_2|y_k) + ... + \\log P(x_n|y_k) \\\\\n",
    "&= \\sum_{i=0}^n \\log P(x_i|y_k)\n",
    "\\end{align}\n",
    "$$"
   ]
  },
  {
   "cell_type": "code",
   "execution_count": 147,
   "id": "444ccb66",
   "metadata": {
    "id": "444ccb66"
   },
   "outputs": [],
   "source": [
    "def compute_log_likelihoods(X, means, stds, verbose=True):\n",
    "    \"\"\" Computes the log likelihoods for all classes and data samples\n",
    "    \n",
    "        Args:\n",
    "            X: Data to compute log likelihoods for.\n",
    "            \n",
    "            means: Means for each class and feature.\n",
    "            \n",
    "            stds: Standard deviations for each class and feature.\n",
    "    \"\"\"\n",
    "    log_likelihoods = []\n",
    "\n",
    "    for class_mean, class_std in zip(means, stds):\n",
    "        # TODO 11.1\n",
    "        feature_likelihoods = gaussian_distribution(X, class_mean, class_std)\n",
    "        \n",
    "        # TODO 11.2\n",
    "        feature_log_likelihoods = np.log(feature_likelihoods)\n",
    "\n",
    "        # TODO 11.3\n",
    "        class_log_likelihoods = np.sum(feature_log_likelihoods, axis=1)\n",
    "        \n",
    "        log_likelihoods.append(class_log_likelihoods)\n",
    "    \n",
    "    log_likelihoods = np.vstack(log_likelihoods)\n",
    "    log_likelihoods = log_likelihoods.T\n",
    "    return log_likelihoods"
   ]
  },
  {
   "cell_type": "markdown",
   "id": "c7a81a07",
   "metadata": {
    "id": "c7a81a07"
   },
   "source": [
    "To check our `compute_log_likelihoods()` function run the below `TEST_compute_log_likelihoods()` function."
   ]
  },
  {
   "cell_type": "code",
   "execution_count": 148,
   "id": "93590460",
   "metadata": {
    "id": "93590460",
    "outputId": "c32df2f2-877d-4f74-93ce-e53f5124bf9e"
   },
   "outputs": [
    {
     "name": "stdout",
     "output_type": "stream",
     "text": [
      "Your code PASSED the code check!\n"
     ]
    }
   ],
   "source": [
    "def TEST_compute_log_likelihoods():\n",
    "    # Load Iris data\n",
    "    data = data_prep(df=iris_df, label_name='class', return_array=True)\n",
    "    X_trn, y_trn, _, _, _, _, _ = data\n",
    "    \n",
    "    # Compute mean and std for each class\n",
    "    means, stds = compute_parameters(X_trn, y_trn)\n",
    "    # Compute log likelihoods\n",
    "    log_likelihoods = compute_log_likelihoods(X_trn, means, stds)\n",
    "\n",
    "    todo_check([\n",
    "        (np.all(np.isclose(log_likelihoods[[0, -1]].flatten(), [-252.97477874,   -3.95399147,   -2.47755232,    0.55290199,  -37.87952095, -51.86898544], rtol=.01)), \"log_likelihoods has incorrect values\"),\n",
    "    ])\n",
    "    \n",
    "    return log_likelihoods\n",
    "    \n",
    "log_likelihoods = TEST_compute_log_likelihoods()\n",
    "garbage_collect(['TEST_compute_log_likelihoods'])"
   ]
  },
  {
   "cell_type": "code",
   "execution_count": 149,
   "id": "d82625d1",
   "metadata": {
    "id": "d82625d1",
    "outputId": "41be4971-76d7-4b83-fa87-d3c07b8f047d",
    "scrolled": true
   },
   "outputs": [
    {
     "data": {
      "text/plain": [
       "array([[-252.97477874,   -3.95399147,   -2.47755232],\n",
       "       [-221.73051843,   -2.54726534,   -3.57206332],\n",
       "       [ -99.25107947,   -3.17362651,  -14.59535499],\n",
       "       [  -0.01603372,  -29.41139102,  -43.53733921],\n",
       "       [-374.2013275 ,  -11.8458369 ,   -1.18059437],\n",
       "       [-397.14173288,  -13.81326957,   -1.62744677],\n",
       "       [-548.15322797,  -22.23915719,   -4.93913532],\n",
       "       [   0.10241297,  -34.54385826,  -50.49377865],\n",
       "       [-193.41255971,   -1.36708085,   -5.16890792],\n",
       "       [-456.47068683,  -14.24989392,   -2.91609972],\n",
       "       [-358.71169026,  -15.26562688,   -3.02882341],\n",
       "       [-178.71710975,   -1.88549108,   -7.97205565],\n",
       "       [-267.48211146,   -4.18034758,   -2.35892234],\n",
       "       [-111.55571369,   -2.39003477,  -13.02309743],\n",
       "       [-132.23302911,   -0.88397273,   -9.53277092],\n",
       "       [  -0.64537197,  -41.47589923,  -53.51895501],\n",
       "       [  -1.63458566,  -22.93805368,  -38.83507891],\n",
       "       [-128.07407429,   -1.63066264,  -10.70191295],\n",
       "       [-410.82605204,  -12.40643722,   -2.34429553],\n",
       "       [  -2.45870175,  -26.91400925,  -40.81341918],\n",
       "       [   0.6367708 ,  -29.90801385,  -44.82857164],\n",
       "       [-363.12582152,  -11.89803468,   -1.33498545],\n",
       "       [-290.23910254,   -6.06984494,   -2.73553711],\n",
       "       [-197.95492835,   -1.02202845,   -4.60484271],\n",
       "       [-251.57646263,   -3.78035272,   -6.12137552],\n",
       "       [-164.65052257,   -0.5692153 ,   -6.24303152],\n",
       "       [ -74.56845628,   -5.83230461,  -19.28127957],\n",
       "       [   1.30868144,  -32.11581726,  -46.91423149],\n",
       "       [-260.31737406,   -2.46654893,   -2.95400696],\n",
       "       [  -1.88347863,  -33.85069033,  -50.49815211],\n",
       "       [-153.25854228,   -0.64711973,   -7.943267  ],\n",
       "       [-284.09678232,   -4.80864095,   -2.08857182],\n",
       "       [   1.29456302,  -32.56105629,  -47.00154382],\n",
       "       [-295.74867299,   -5.86561106,   -2.47883338],\n",
       "       [  -1.76585542,  -35.15233013,  -51.75144282],\n",
       "       [  -4.59323774,  -40.64386832,  -56.94617265],\n",
       "       [-370.75066727,  -14.81126683,   -1.83811412],\n",
       "       [   1.02905436,  -32.90197882,  -48.37704125],\n",
       "       [-513.37055329,  -28.87451903,   -5.11699681],\n",
       "       [-143.4961324 ,   -0.86547381,   -7.98292801],\n",
       "       [-452.01759579,  -22.72065644,   -2.8871632 ],\n",
       "       [   1.32609679,  -34.95502446,  -49.49082002],\n",
       "       [  -0.61018297,  -33.60577636,  -47.93213565],\n",
       "       [   0.8202098 ,  -34.42167113,  -47.96310067],\n",
       "       [   0.78714419,  -31.9558625 ,  -46.85994213],\n",
       "       [-334.78864041,   -7.04725128,   -1.37164104],\n",
       "       [   0.11433516,  -33.7959849 ,  -49.66905847],\n",
       "       [  -2.68224792,  -40.1325547 ,  -52.86985521],\n",
       "       [-198.76865035,   -2.10524609,   -4.29790232],\n",
       "       [-487.45851648,  -23.99767591,   -3.23540392],\n",
       "       [-166.63367995,   -0.77047096,   -6.11964511],\n",
       "       [   1.03151537,  -34.03221178,  -47.82177547],\n",
       "       [-271.08100839,   -4.30480675,   -2.0168563 ],\n",
       "       [-323.48737564,   -6.87916465,   -1.61282102],\n",
       "       [-210.92087654,   -1.50466478,   -3.92699186],\n",
       "       [-380.23711771,  -16.11021818,   -2.48612747],\n",
       "       [-255.61753954,   -3.8085381 ,   -2.42074255],\n",
       "       [-426.23539902,  -17.83539166,   -1.9201988 ],\n",
       "       [-213.39625591,   -4.33956811,   -7.63217719],\n",
       "       [-208.10478614,   -1.02158147,   -4.36921148],\n",
       "       [-164.13581191,   -1.11190333,   -8.55359727],\n",
       "       [  -1.17013029,  -40.81632187,  -52.99013901],\n",
       "       [  -2.84404597,  -23.76803708,  -39.60506898],\n",
       "       [  -1.10419452,  -29.30001104,  -42.96174887],\n",
       "       [-365.09930013,   -8.70064933,   -2.56287472],\n",
       "       [   1.30619628,  -32.38514468,  -47.2808039 ],\n",
       "       [   0.49344888,  -32.45469623,  -48.36888592],\n",
       "       [   0.0045848 ,  -29.62637165,  -45.26576394],\n",
       "       [-283.96042609,   -6.80769378,   -2.94000278],\n",
       "       [-251.59360164,   -4.60040781,   -2.83251982],\n",
       "       [-310.89769155,   -4.41093254,   -3.98093766],\n",
       "       [-244.82040183,   -3.49398817,   -3.24270585],\n",
       "       [-571.11935755,  -31.08302517,   -8.04046111],\n",
       "       [ -89.57673046,   -7.17040529,  -20.30690285],\n",
       "       [-139.76673062,   -0.54534431,   -7.74604086],\n",
       "       [  -3.83045411,  -38.06726456,  -50.05427924],\n",
       "       [  -0.04949578,  -34.73331401,  -50.5674115 ],\n",
       "       [-541.37385436,  -22.67570487,   -4.20909149],\n",
       "       [-185.52142977,   -1.86028816,   -5.07337722],\n",
       "       [   1.34310231,  -33.89694366,  -48.60174167],\n",
       "       [-425.06652537,  -18.74433825,   -1.98050187],\n",
       "       [ -73.73568423,   -5.67458177,  -19.07860992],\n",
       "       [-322.86488124,   -8.24572823,   -1.22831798],\n",
       "       [-144.94850174,   -0.54540156,   -7.92683561],\n",
       "       [-419.8105938 ,  -19.53726564,   -2.76256605],\n",
       "       [-168.71201506,   -1.0386751 ,   -5.67251463],\n",
       "       [-217.70024201,   -3.40266142,   -4.5351001 ],\n",
       "       [-430.29400895,  -15.0433396 ,   -1.68155146],\n",
       "       [-152.60062014,   -0.5761275 ,   -7.37287556],\n",
       "       [ -62.73595923,   -5.43667458,  -18.99823515],\n",
       "       [   1.36404729,  -31.49706494,  -46.7216149 ],\n",
       "       [-440.70406582,  -14.25669285,   -2.65857316],\n",
       "       [   0.79542521,  -33.85167362,  -47.52837407],\n",
       "       [-196.21007553,   -1.35035086,   -5.09520767],\n",
       "       [   1.13733219,  -32.90011436,  -48.2023368 ],\n",
       "       [   0.55290199,  -37.87952095,  -51.86898544]])"
      ]
     },
     "execution_count": 149,
     "metadata": {},
     "output_type": "execute_result"
    }
   ],
   "source": [
    "log_likelihoods"
   ]
  },
  {
   "cell_type": "markdown",
   "id": "40d64373",
   "metadata": {
    "id": "40d64373"
   },
   "source": [
    "As we can see that we have computed the log likelihood $\\log P(\\xv |y_k)$ for every data sample and each class. Recall that we can roughly say that the larger the value, the more likely the data sample belongs to a class (recall the classes are the columns in the `log_likelihoods` array and `ll_df` DataFrame).\n",
    "\n",
    "For example, the first data sample is likely to belong to virginica. If we were solving the maximum likelihood (ML) we would simply take the $\\arg \\max$ of the `log_likelihoods` array. However, recall that we want to compute MAP. As you can see, we haven't added our log priors yet. Doing so might just shift the actual prediction to another class. "
   ]
  },
  {
   "cell_type": "code",
   "execution_count": 150,
   "id": "a6e5b345",
   "metadata": {
    "id": "a6e5b345",
    "outputId": "90b28da5-96f5-41e4-eb55-fb059c12bab9"
   },
   "outputs": [
    {
     "data": {
      "text/html": [
       "<div>\n",
       "<style scoped>\n",
       "    .dataframe tbody tr th:only-of-type {\n",
       "        vertical-align: middle;\n",
       "    }\n",
       "\n",
       "    .dataframe tbody tr th {\n",
       "        vertical-align: top;\n",
       "    }\n",
       "\n",
       "    .dataframe thead th {\n",
       "        text-align: right;\n",
       "    }\n",
       "</style>\n",
       "<table border=\"1\" class=\"dataframe\">\n",
       "  <thead>\n",
       "    <tr style=\"text-align: right;\">\n",
       "      <th></th>\n",
       "      <th>setosa</th>\n",
       "      <th>versicolor</th>\n",
       "      <th>virginica</th>\n",
       "    </tr>\n",
       "  </thead>\n",
       "  <tbody>\n",
       "    <tr>\n",
       "      <th>0</th>\n",
       "      <td>-252.974779</td>\n",
       "      <td>-3.953991</td>\n",
       "      <td>-2.477552</td>\n",
       "    </tr>\n",
       "    <tr>\n",
       "      <th>1</th>\n",
       "      <td>-221.730518</td>\n",
       "      <td>-2.547265</td>\n",
       "      <td>-3.572063</td>\n",
       "    </tr>\n",
       "    <tr>\n",
       "      <th>2</th>\n",
       "      <td>-99.251079</td>\n",
       "      <td>-3.173627</td>\n",
       "      <td>-14.595355</td>\n",
       "    </tr>\n",
       "    <tr>\n",
       "      <th>3</th>\n",
       "      <td>-0.016034</td>\n",
       "      <td>-29.411391</td>\n",
       "      <td>-43.537339</td>\n",
       "    </tr>\n",
       "    <tr>\n",
       "      <th>4</th>\n",
       "      <td>-374.201327</td>\n",
       "      <td>-11.845837</td>\n",
       "      <td>-1.180594</td>\n",
       "    </tr>\n",
       "    <tr>\n",
       "      <th>...</th>\n",
       "      <td>...</td>\n",
       "      <td>...</td>\n",
       "      <td>...</td>\n",
       "    </tr>\n",
       "    <tr>\n",
       "      <th>91</th>\n",
       "      <td>-440.704066</td>\n",
       "      <td>-14.256693</td>\n",
       "      <td>-2.658573</td>\n",
       "    </tr>\n",
       "    <tr>\n",
       "      <th>92</th>\n",
       "      <td>0.795425</td>\n",
       "      <td>-33.851674</td>\n",
       "      <td>-47.528374</td>\n",
       "    </tr>\n",
       "    <tr>\n",
       "      <th>93</th>\n",
       "      <td>-196.210076</td>\n",
       "      <td>-1.350351</td>\n",
       "      <td>-5.095208</td>\n",
       "    </tr>\n",
       "    <tr>\n",
       "      <th>94</th>\n",
       "      <td>1.137332</td>\n",
       "      <td>-32.900114</td>\n",
       "      <td>-48.202337</td>\n",
       "    </tr>\n",
       "    <tr>\n",
       "      <th>95</th>\n",
       "      <td>0.552902</td>\n",
       "      <td>-37.879521</td>\n",
       "      <td>-51.868985</td>\n",
       "    </tr>\n",
       "  </tbody>\n",
       "</table>\n",
       "<p>96 rows × 3 columns</p>\n",
       "</div>"
      ],
      "text/plain": [
       "        setosa  versicolor  virginica\n",
       "0  -252.974779   -3.953991  -2.477552\n",
       "1  -221.730518   -2.547265  -3.572063\n",
       "2   -99.251079   -3.173627 -14.595355\n",
       "3    -0.016034  -29.411391 -43.537339\n",
       "4  -374.201327  -11.845837  -1.180594\n",
       "..         ...         ...        ...\n",
       "91 -440.704066  -14.256693  -2.658573\n",
       "92    0.795425  -33.851674 -47.528374\n",
       "93 -196.210076   -1.350351  -5.095208\n",
       "94    1.137332  -32.900114 -48.202337\n",
       "95    0.552902  -37.879521 -51.868985\n",
       "\n",
       "[96 rows x 3 columns]"
      ]
     },
     "execution_count": 150,
     "metadata": {},
     "output_type": "execute_result"
    }
   ],
   "source": [
    "ll_df = pd.DataFrame(log_likelihoods, columns=iris.target_names)\n",
    "ll_df"
   ]
  },
  {
   "cell_type": "code",
   "execution_count": 151,
   "id": "39680405",
   "metadata": {
    "id": "39680405"
   },
   "outputs": [],
   "source": [
    "garbage_collect(['log_likelihoods', 'll_df'])"
   ]
  },
  {
   "cell_type": "markdown",
   "id": "634e276a",
   "metadata": {
    "id": "634e276a"
   },
   "source": [
    "### Making predictions"
   ]
  },
  {
   "cell_type": "markdown",
   "id": "65e152c7",
   "metadata": {
    "id": "65e152c7"
   },
   "source": [
    "To compute the predictions is easy! Recall, we need want to use the log of MAP equation which is defined as follows:\n",
    "\n",
    "$$\n",
    "\\arg \\max_{k \\in K} \\log P(\\xv \\mid y_k) + \\log P(y_k)\n",
    "$$\n"
   ]
  },
  {
   "cell_type": "markdown",
   "id": "693b1d85",
   "metadata": {
    "id": "693b1d85"
   },
   "source": [
    "#### TODO 12\n",
    "Complete the TODO by finishing the `compute_predictions()` function.\n",
    "\n",
    "1. Compute the joint log likelihood $\\log P(\\xv \\mid y_k) + \\log P(y_k)$ by adding the log likelihoods and log priors together. Store the output into `joint_log_likelihoods`.\n",
    "\n",
    "\n",
    "2. Find the most likely class locations which correspond to the largest joint log likelihood for each data sample in `joint_log_likelihoods`. Do so by using NumPy's `np.argmax()` function and specify the correct axis. Store the output into  `most_likely_locs`.\n",
    "    1. Hint: If we want to reduce the columns (i.e., the classes) which column do we need to specify?\n",
    "\n",
    "\n",
    "3. Get the actual class labels. To do so, use `most_likely_locs` to index the unique class labels stored in `class_labels` argument. Store the output into `y_hat`."
   ]
  },
  {
   "cell_type": "code",
   "execution_count": 156,
   "id": "56432f90",
   "metadata": {
    "id": "56432f90"
   },
   "outputs": [],
   "source": [
    "def compute_predictions(\n",
    "    class_labels: np.ndarray, \n",
    "    log_likelihoods: np.ndarray,\n",
    "    log_priors: np.ndarray\n",
    "):\n",
    "    \"\"\" Make a prediction using log maximum a posteriori (MAP)\n",
    "    \n",
    "        Args:\n",
    "            class_labels: takes the unique class labels. In the case \n",
    "                of the Iris data that is 0, 1, and 2.\n",
    "            \n",
    "            log_likelihoods: The log likelihoods for all data samples\n",
    "                and classes in the data.\n",
    "            \n",
    "            log_priors: The log priors corresponding to the classes\n",
    "                in the data.\n",
    "    \"\"\"\n",
    "    # TODO 12.1\n",
    "    joint_log_likelihoods = log_likelihoods + log_priors\n",
    "    # TODO 12.2\n",
    "    most_likely_locs = np.argmax(joint_log_likelihoods, axis=1)\n",
    "    # TODO 12.3\n",
    "    y_hat = class_labels[most_likely_locs]\n",
    "    \n",
    "    return y_hat.reshape(-1, 1)"
   ]
  },
  {
   "cell_type": "markdown",
   "id": "08876a75",
   "metadata": {
    "id": "08876a75"
   },
   "source": [
    "Run the below `TEST_compute_predictions()` function to test your implementation of the `compute_predictions()` function."
   ]
  },
  {
   "cell_type": "code",
   "execution_count": 157,
   "id": "f1b2e497",
   "metadata": {
    "id": "f1b2e497",
    "outputId": "2b4ce4bd-6c0f-40c0-df77-8adba5a97bb6"
   },
   "outputs": [
    {
     "name": "stdout",
     "output_type": "stream",
     "text": [
      "Your code PASSED the code check!\n"
     ]
    }
   ],
   "source": [
    "def TEST_compute_predictions():\n",
    "    # Load Iris data\n",
    "    data = data_prep(df=iris_df, label_name='class', return_array=True)\n",
    "    X_trn, y_trn, _, _, _, _, _ = data\n",
    "    \n",
    "    # Compute log priors\n",
    "    log_priors = compute_log_priors(y_trn)\n",
    "    # Compute mean and std for each class\n",
    "    means, stds = compute_parameters(X_trn, y_trn)\n",
    "    # Compute log likelihoods\n",
    "    log_likelihoods = compute_log_likelihoods(X_trn, means, stds)\n",
    "    # Get unique class labels from our training data \n",
    "    class_labels = np.unique(y_trn)\n",
    "    \n",
    "    # Compute the label prediction for each of the training data samples\n",
    "    y_hat = compute_predictions(class_labels, log_likelihoods, log_priors)\n",
    "\n",
    "    todo_check([\n",
    "        (np.sum(y_hat!= y_trn) == 6, \"Wrong number of misclassifications\")\n",
    "    ])\n",
    "    \n",
    "    return y_hat\n",
    "\n",
    "y_hat = TEST_compute_predictions()\n",
    "garbage_collect(['TEST_compute_predictions'])"
   ]
  },
  {
   "cell_type": "markdown",
   "id": "3836985c",
   "metadata": {
    "id": "3836985c"
   },
   "source": [
    "Below we can see that we have successfully made predictions for every data sample in `X_trn`. We'll assess how well Gaussian Naive Bayes is performing shortly."
   ]
  },
  {
   "cell_type": "code",
   "execution_count": 158,
   "id": "838b11d2",
   "metadata": {
    "id": "838b11d2",
    "outputId": "0aab7f7e-54ae-46a6-9407-607d2fa625cd"
   },
   "outputs": [
    {
     "name": "stdout",
     "output_type": "stream",
     "text": [
      "[2. 1. 1. 0. 2. 2. 2. 0. 1. 2. 2. 1. 2. 1. 1. 0. 0. 1. 2. 0. 0. 2. 2. 1.\n",
      " 1. 1. 1. 0. 1. 0. 1. 2. 0. 2. 0. 0. 2. 0. 2. 1. 2. 0. 0. 0. 0. 2. 0. 0.\n",
      " 1. 2. 1. 0. 2. 2. 1. 2. 2. 2. 1. 1. 1. 0. 0. 0. 2. 0. 0. 0. 2. 2. 2. 2.\n",
      " 2. 1. 1. 0. 0. 2. 1. 0. 2. 1. 2. 1. 2. 1. 1. 2. 1. 1. 0. 2. 0. 1. 0. 0.]\n"
     ]
    }
   ],
   "source": [
    "print(y_hat.flatten())"
   ]
  },
  {
   "cell_type": "code",
   "execution_count": 159,
   "id": "eedc4bd9",
   "metadata": {
    "id": "eedc4bd9"
   },
   "outputs": [],
   "source": [
    "garbage_collect(['y_hat'])"
   ]
  },
  {
   "cell_type": "markdown",
   "id": "92c01826",
   "metadata": {
    "id": "92c01826"
   },
   "source": [
    "### Computing probabilities \n",
    "Lastly, let's compute the probability that a given data sample belongs to a particular class. To do so, we have to compute the evidence $P(X)$ and divide it by the joint likelihoods $P(X \\mid Y) P(Y)$\n",
    "\n",
    "### Adding back the evidence P(X)\n",
    "While making a prediction does not require the evidence $P(X = \\xv)$, computing the probabilities does. Recall that $P(\\xv)$ is the normalizing term that converts $P(\\xv \\mid y_k) P(y_k)$ into a probability! In order to compute the probability that each data sample belongs a particular class we have to compute $P(X = \\xv)$ and divide $P(\\xv \\mid y_k) P(y_k)$ by it. Keep in mind, we do NOT need the $\\log$ of the priors and likelihoods here! \n",
    "\n",
    "Recall, below is full Naive Bayes equation which computes the probability a given data sample belongs to a specific class.\n",
    "$$\n",
    "\\begin{align}\n",
    "P(y_k \\mid \\xv) &= \\frac{P(\\xv \\mid y_k) P(y_k)}{P(\\xv)} \\\\\n",
    "&= \\frac{(\\xv \\mid y_k) P(y_k)}{\\sum_{k=1}^K P(\\xv |y_k)P(y_k)}\n",
    "\\end{align}\n",
    "$$"
   ]
  },
  {
   "cell_type": "markdown",
   "id": "62c7021d",
   "metadata": {
    "id": "62c7021d"
   },
   "source": [
    "#### TODO 13\n",
    "Complete the TODO by finishing the `compute_probabilities()` function.\n",
    "\n",
    "1. Compute the joint likelihood $P(\\xv \\mid y_k) + P(y_k)$ by adding the likelihoods and priors together. Store the output into `joint_likelihoods`.\n",
    "\n",
    "\n",
    "2. Compute the evidence $P(\\xv) = \\sum_{k=1}^K P(\\xv |y_k)P(y_k)$ by summing over the class joint likelihoods `joint_likelihoods` for every data sample. To do so, use  NumPy's `np.sum()` and remember to specify the axis that corresponds to the classes (i.e., columns)! Store the output into `evidence`.\n",
    "\n",
    "\n",
    "3. Compute the probability that each data sample belongs to a class by dividing the joint likelihoods `joint_likelihoods` by the evidence `evidence`. Store the output into `probs`."
   ]
  },
  {
   "cell_type": "code",
   "execution_count": 160,
   "id": "b91e95b9",
   "metadata": {
    "id": "b91e95b9"
   },
   "outputs": [],
   "source": [
    "def compute_probabilities(likelihoods: np.ndarray, priors:np.ndarray):\n",
    "    \"\"\" Compute a probabilities a data sample belongs to a class\n",
    "    \n",
    "        Args:\n",
    "            likelihoods: The log likelihoods for all data samples\n",
    "                and classes in the data. Here the rows should be\n",
    "                data samples and the columns should be the classes.\n",
    "            \n",
    "            priors: The log priors corresponding to the classes\n",
    "                in the data.\n",
    "    \"\"\"\n",
    "    # TODO 13.1\n",
    "    joint_likelihoods = likelihoods + priors\n",
    "    \n",
    "    # TODO 13.2\n",
    "    evidence = np.sum(joint_likelihoods, axis=1)\n",
    "    evidence = evidence.reshape(-1, 1)\n",
    "    \n",
    "    # TODO 13.3\n",
    "    probs = joint_likelihoods / evidence\n",
    "    return probs"
   ]
  },
  {
   "cell_type": "markdown",
   "id": "69d2ff5a",
   "metadata": {
    "id": "69d2ff5a"
   },
   "source": [
    "Run the below `TEST_compute_probabilities()` function to test your implementation of the `compute_probabilities()` function."
   ]
  },
  {
   "cell_type": "code",
   "execution_count": 161,
   "id": "cba23e1d",
   "metadata": {
    "id": "cba23e1d",
    "outputId": "e6312999-a14f-4716-f054-84ab9cd96be3"
   },
   "outputs": [
    {
     "name": "stdout",
     "output_type": "stream",
     "text": [
      "Your code PASSED the code check!\n"
     ]
    }
   ],
   "source": [
    "def TEST_compute_probabilities():\n",
    "    # Load Iris data\n",
    "    data = data_prep(df=iris_df, label_name='class', return_array=True)\n",
    "    X_trn, y_trn, _, _, _, _, _ = data\n",
    "    \n",
    "    # Compute log priors\n",
    "    log_priors = compute_log_priors(y_trn)\n",
    "    # Compute mean and std for each class\n",
    "    means, stds = compute_parameters(X_trn, y_trn)\n",
    "    # Compute log likelihoods\n",
    "    log_likelihoods = compute_log_likelihoods(X_trn, means, stds)\n",
    "    \n",
    "    # Undo log for the priors\n",
    "    priors = np.exp(log_priors)\n",
    "    # Undo log for the likelihoods\n",
    "    likelihoods = np.exp(log_likelihoods)\n",
    "    # Compute probability each data sample belongs to each class\n",
    "    probs = compute_probabilities(likelihoods, priors)\n",
    "\n",
    "    todo_check([\n",
    "        (probs.shape == (96, 3), \"probs does not have the shape (96, 3)\"),\n",
    "        (np.all(np.isclose(probs[0], np.array([0.30217146, 0.30067088, 0.39715766]), rtol=.01)), \"probs has incorrect values\")\n",
    "    ])\n",
    "         \n",
    "    return probs\n",
    "\n",
    "probs = TEST_compute_probabilities()\n",
    "garbage_collect(['TEST_compute_probabilities'])"
   ]
  },
  {
   "cell_type": "markdown",
   "id": "0aac95bb",
   "metadata": {
    "id": "0aac95bb"
   },
   "source": [
    "Below we can see the probability that each data sample belongs to a given class. For instance, the first data sample has a ~40% chance to belong to virginica."
   ]
  },
  {
   "cell_type": "code",
   "execution_count": 162,
   "id": "3d31cd24",
   "metadata": {
    "id": "3d31cd24",
    "outputId": "1986f3d4-e448-4ced-e685-861ff00e62de"
   },
   "outputs": [
    {
     "data": {
      "text/html": [
       "<div>\n",
       "<style scoped>\n",
       "    .dataframe tbody tr th:only-of-type {\n",
       "        vertical-align: middle;\n",
       "    }\n",
       "\n",
       "    .dataframe tbody tr th {\n",
       "        vertical-align: top;\n",
       "    }\n",
       "\n",
       "    .dataframe thead th {\n",
       "        text-align: right;\n",
       "    }\n",
       "</style>\n",
       "<table border=\"1\" class=\"dataframe\">\n",
       "  <thead>\n",
       "    <tr style=\"text-align: right;\">\n",
       "      <th></th>\n",
       "      <th>setosa</th>\n",
       "      <th>versicolor</th>\n",
       "      <th>virginica</th>\n",
       "    </tr>\n",
       "  </thead>\n",
       "  <tbody>\n",
       "    <tr>\n",
       "      <th>0</th>\n",
       "      <td>0.302171</td>\n",
       "      <td>0.300671</td>\n",
       "      <td>0.397158</td>\n",
       "    </tr>\n",
       "    <tr>\n",
       "      <th>1</th>\n",
       "      <td>0.301279</td>\n",
       "      <td>0.353216</td>\n",
       "      <td>0.345505</td>\n",
       "    </tr>\n",
       "    <tr>\n",
       "      <th>2</th>\n",
       "      <td>0.319943</td>\n",
       "      <td>0.340117</td>\n",
       "      <td>0.339940</td>\n",
       "    </tr>\n",
       "    <tr>\n",
       "      <th>3</th>\n",
       "      <td>0.663994</td>\n",
       "      <td>0.157503</td>\n",
       "      <td>0.178503</td>\n",
       "    </tr>\n",
       "    <tr>\n",
       "      <th>4</th>\n",
       "      <td>0.255017</td>\n",
       "      <td>0.239084</td>\n",
       "      <td>0.505899</td>\n",
       "    </tr>\n",
       "    <tr>\n",
       "      <th>...</th>\n",
       "      <td>...</td>\n",
       "      <td>...</td>\n",
       "      <td>...</td>\n",
       "    </tr>\n",
       "    <tr>\n",
       "      <th>91</th>\n",
       "      <td>0.311512</td>\n",
       "      <td>0.292043</td>\n",
       "      <td>0.396444</td>\n",
       "    </tr>\n",
       "    <tr>\n",
       "      <th>92</th>\n",
       "      <td>0.792663</td>\n",
       "      <td>0.097189</td>\n",
       "      <td>0.110148</td>\n",
       "    </tr>\n",
       "    <tr>\n",
       "      <th>93</th>\n",
       "      <td>0.263447</td>\n",
       "      <td>0.451798</td>\n",
       "      <td>0.284754</td>\n",
       "    </tr>\n",
       "    <tr>\n",
       "      <th>94</th>\n",
       "      <td>0.838126</td>\n",
       "      <td>0.075878</td>\n",
       "      <td>0.085995</td>\n",
       "    </tr>\n",
       "    <tr>\n",
       "      <th>95</th>\n",
       "      <td>0.756539</td>\n",
       "      <td>0.114122</td>\n",
       "      <td>0.129339</td>\n",
       "    </tr>\n",
       "  </tbody>\n",
       "</table>\n",
       "<p>96 rows × 3 columns</p>\n",
       "</div>"
      ],
      "text/plain": [
       "      setosa  versicolor  virginica\n",
       "0   0.302171    0.300671   0.397158\n",
       "1   0.301279    0.353216   0.345505\n",
       "2   0.319943    0.340117   0.339940\n",
       "3   0.663994    0.157503   0.178503\n",
       "4   0.255017    0.239084   0.505899\n",
       "..       ...         ...        ...\n",
       "91  0.311512    0.292043   0.396444\n",
       "92  0.792663    0.097189   0.110148\n",
       "93  0.263447    0.451798   0.284754\n",
       "94  0.838126    0.075878   0.085995\n",
       "95  0.756539    0.114122   0.129339\n",
       "\n",
       "[96 rows x 3 columns]"
      ]
     },
     "metadata": {},
     "output_type": "display_data"
    }
   ],
   "source": [
    "probs_df = pd.DataFrame(probs, columns=iris.target_names)\n",
    "display(probs_df)"
   ]
  },
  {
   "cell_type": "code",
   "execution_count": 163,
   "id": "70d62404",
   "metadata": {
    "id": "70d62404"
   },
   "outputs": [],
   "source": [
    "garbage_collect(['probs_df', 'probs'])"
   ]
  },
  {
   "cell_type": "markdown",
   "id": "dbd9df72",
   "metadata": {
    "id": "dbd9df72"
   },
   "source": [
    "## GaussianNaiveBayes Class\n",
    "\n",
    "Finally, let's combine all the functions we have defined so far into a single class. This will make training and predicting with Gaussian Naive Bayes much easier!"
   ]
  },
  {
   "cell_type": "markdown",
   "id": "e636461b",
   "metadata": {
    "id": "e636461b"
   },
   "source": [
    "#### TODO 14\n",
    "Complete the TODO by finishing the `GaussianNaiveBayes` class. Refer to TODOs 4-13 to recall what needs to be passed to each function!\n",
    "\n",
    "**TODOs for the `fit()` method**\n",
    "1. Compute the log priors using the `compute_log_priors()` function. Store the output into `self.log_priors`\n",
    "\n",
    "\n",
    "2. Compute the normal priors by undoing the log that was applied to `self.log_prior` (we need the normal prior for computing probabilities). Store the output into `self.priors`.\n",
    "\n",
    "\n",
    "3. Compute the the means and standard deviations for each class and feature using the `compute_parameters()`. Store the outputs into `self.means` and `self.stds`.\n",
    "\n",
    "**TODOs for the `predict()` method**\n",
    "\n",
    "4. Compute the log likelihoods for each class using the `compute_log_likelihoods()` function. Store the output into `log_likelihoods`.\n",
    "\n",
    "\n",
    "5. Make the predictions for the passed data by using the `compute_predictions()` function. \n",
    "    1. Hint: Recall, that the `fit()` method defined our log priors `self.log_priors` and the class labels `self.class_labels`.\n",
    "\n",
    "**TODOs for the `probabilities()` method**\n",
    "\n",
    "6. Compute the log likelihoods for each class using the `compute_log_likelihoods()` function. Store the output into `log_likelihoods`.\n",
    "\n",
    "\n",
    "7. Compute the likelihood by undoing the log that was applied to `log_likelihoods` (we need the normal likelihoods for computing probabilities). Store the output into `likelihoods`.\n",
    "\n",
    "\n",
    "8. Compute the probabilities using the `compute_probabilities()` function. Store the output into `probs`."
   ]
  },
  {
   "cell_type": "code",
   "execution_count": 187,
   "id": "48336056",
   "metadata": {
    "id": "48336056"
   },
   "outputs": [],
   "source": [
    "class GaussianNaiveBayes():\n",
    "    def __init__(self):\n",
    "        pass\n",
    "    \n",
    "    def fit(self, X, y):\n",
    "        self.class_labels = np.unique(y)\n",
    "        \n",
    "        # TOOD 14.1\n",
    "        self.log_priors = compute_log_priors(y)\n",
    "        # TOOD 14.2\n",
    "        self.priors = np.exp(self.log_priors)\n",
    "        # TOOD 14.3\n",
    "        self.means, self.stds = compute_parameters(X, y)\n",
    "      \n",
    "    def predict(self, X):\n",
    "        # TOOD 14.4\n",
    "        log_likelihoods = compute_log_likelihoods(X, self.means, self.stds)\n",
    "  \n",
    "        # TODO 14.5\n",
    "        y_hat = compute_predictions(self.class_labels, log_likelihoods, self.priors)\n",
    "        \n",
    "        return y_hat\n",
    "    \n",
    "    def probabilities(self, X):\n",
    "        # TODO 14.6\n",
    "        log_likelihoods = compute_log_likelihoods(X, self.means, self.stds)\n",
    "        \n",
    "        # TODO 14.7\n",
    "        likelihoods = np.exp(log_likelihoods)\n",
    "        \n",
    "        # TODO 14.8\n",
    "        probs = compute_probabilities(likelihoods, self.priors)\n",
    "\n",
    "        return probs\n",
    "        "
   ]
  },
  {
   "cell_type": "markdown",
   "id": "10975531",
   "metadata": {
    "id": "10975531"
   },
   "source": [
    "Run the below `TEST_GaussianNaiveBayes()` function to test your implementation of the `GaussianNaiveBayes` class."
   ]
  },
  {
   "cell_type": "code",
   "execution_count": 188,
   "id": "c5ac035d",
   "metadata": {
    "id": "c5ac035d",
    "outputId": "1e78c9ba-c1fd-4e78-cbc5-6aabe5556bfd"
   },
   "outputs": [
    {
     "data": {
      "image/png": "[encoded data removed]",
      "text/plain": [
       "<Figure size 432x288 with 1 Axes>"
      ]
     },
     "metadata": {
      "needs_background": "light"
     },
     "output_type": "display_data"
    },
    {
     "name": "stdout",
     "output_type": "stream",
     "text": [
      "Your code PASSED the code check!\n"
     ]
    }
   ],
   "source": [
    "from sklearn.datasets import make_circles\n",
    "\n",
    "def TEST_GaussianNaiveBayes():\n",
    "    def nonlinear_data(\n",
    "        n_samples: int = 100, \n",
    "        balance: List = None,\n",
    "        seed: int = 42\n",
    "    ) -> List[np.ndarray]:\n",
    "        X, y = make_circles(random_state=seed, factor=.5, noise=.05)\n",
    "\n",
    "        return X, y\n",
    "\n",
    "    X, y = nonlinear_data()\n",
    "    class_names = {\n",
    "        0: 'C1',\n",
    "        1: 'C2',\n",
    "    }\n",
    "    gnb = GaussianNaiveBayes()\n",
    "    gnb.fit(X, y)\n",
    "    plot_decision_boundary(gnb, X, y, class_names)\n",
    "\n",
    "    todo_check([\n",
    "        (np.all(np.isclose(gnb.log_priors, np.array([-0.69314718, -0.69314718]), rtol=.1)), \"gnb.log_priors has incorrect values\"),\n",
    "        (np.all(np.isclose(gnb.priors, np.array([0.5, 0.5]), rtol=.1)), \"gnb.priors has incorrect values\"),\n",
    "        (np.all(np.isclose(gnb.means.flatten(), np.array([-0.00126599, -0.00426598,  0.00605525,  0.00029719]), rtol=.1)),\"gnb.means has incorrect values\"),\n",
    "        (np.all(np.isclose(gnb.probabilities(X)[1], np.array([0.4478195, 0.5521805]), rtol=.01)), \"probabilities has incorrect values\"),\n",
    "        (np.all(np.isclose(gnb.predict(X)[:3].flatten(), np.array([1, 1, 1]))), \"wrong label predictions were detected.\")\n",
    "    ])\n",
    "    \n",
    "TEST_GaussianNaiveBayes()\n",
    "garbage_collect(['TEST_GaussianNaiveBayes'])"
   ]
  },
  {
   "cell_type": "markdown",
   "id": "eb5d54c7",
   "metadata": {
    "id": "eb5d54c7"
   },
   "source": [
    "# Multi-class Classification"
   ]
  },
  {
   "cell_type": "markdown",
   "id": "7a607fa2",
   "metadata": {
    "id": "7a607fa2"
   },
   "source": [
    "## Petal length and width\n",
    "\n",
    "Let's first try solving the iris classification problem again by using the petal features only!\n",
    "\n",
    "Recall that when we plotted the petal length against the petal width we could see that the versicolor data samples were plotted directly in the middle between the setosa and virginica data samples. Let's see if Gaussian Naive Bayes can correctly separate these three classes.\n",
    "\n",
    "\n",
    "### Training"
   ]
  },
  {
   "cell_type": "markdown",
   "id": "6a106fb4",
   "metadata": {
    "id": "6a106fb4"
   },
   "source": [
    "#### TODO 15\n",
    "Complete the TODO by getting our data, training the `GaussianNaiveBayes` class and making predictions for our training and validation data.\n",
    "\n",
    "1. Call the `data_prep()` function to get the data where we only use the petal length and width features. Store the output into `data`. To do so, pass the arguments corresponding to the following descriptions:\n",
    "    1. Pass the Iris dataset.\n",
    "    1. Set the column 'class' to act as the labels/targets.\n",
    "    1. Return all data as NumPy arrays.\n",
    "    1. Drop the 'sepal length' and 'sepal width' features.\n",
    "    1. Return all data as arrays using the `return_array` argument\n",
    "    \n",
    "1. Create an instance of the `GaussianNaiveBayes`. Store the output into `gnb`."
   ]
  },
  {
   "cell_type": "code",
   "execution_count": 192,
   "id": "e75e1845",
   "metadata": {
    "id": "e75e1845",
    "outputId": "56f9ca6a-c8f5-4585-d7a3-f08b5c58e8b4"
   },
   "outputs": [
    {
     "name": "stdout",
     "output_type": "stream",
     "text": [
      "Your code PASSED the code check!\n"
     ]
    }
   ],
   "source": [
    "# TODO 15.1\n",
    "data = data_prep(df=iris_df, label_name='class', drop_features=['sepal length', 'sepal width'], return_array=True)\n",
    "X_trn, y_trn, X_vld, y_vld, _, _, feature_names = data\n",
    "\n",
    "# TODO 15.2\n",
    "gnb = GaussianNaiveBayes()\n",
    "\n",
    "gnb.fit(X_trn, y_trn)\n",
    "y_hat_trn = gnb.predict(X_trn)\n",
    "\n",
    "todo_check([\n",
    "    (np.all(np.isclose(X_trn[4].flatten(), [0.97932518, 1.17336698])), \"X_trn has wrong values\"),\n",
    "    (np.sum(y_hat_trn != y_trn) == 5, \"y_hat_trn has the wrong number of isclassified samples\"),\n",
    "    (np.all(np.isclose(gnb.means[1], np.array([0.26178115, 0.14178753]))), \"gnb.means has incorrect values\"),\n",
    "    (np.all(np.isclose(gnb.priors, np.array([0.33333333, 0.3125    , 0.35416667]))), \"gnb.priors has incorrect values\")\n",
    "])"
   ]
  },
  {
   "cell_type": "markdown",
   "id": "23f122bc",
   "metadata": {
    "id": "23f122bc"
   },
   "source": [
    "Below we can see the probabilities for each of the iris flower classes given the training data."
   ]
  },
  {
   "cell_type": "code",
   "execution_count": 193,
   "id": "f56f4556",
   "metadata": {
    "id": "f56f4556",
    "outputId": "b62c9c5c-7b8d-4597-e7af-37619b5ad32d"
   },
   "outputs": [
    {
     "data": {
      "text/html": [
       "<div>\n",
       "<style scoped>\n",
       "    .dataframe tbody tr th:only-of-type {\n",
       "        vertical-align: middle;\n",
       "    }\n",
       "\n",
       "    .dataframe tbody tr th {\n",
       "        vertical-align: top;\n",
       "    }\n",
       "\n",
       "    .dataframe thead th {\n",
       "        text-align: right;\n",
       "    }\n",
       "</style>\n",
       "<table border=\"1\" class=\"dataframe\">\n",
       "  <thead>\n",
       "    <tr style=\"text-align: right;\">\n",
       "      <th></th>\n",
       "      <th>setosa</th>\n",
       "      <th>versicolor</th>\n",
       "      <th>virginica</th>\n",
       "    </tr>\n",
       "  </thead>\n",
       "  <tbody>\n",
       "    <tr>\n",
       "      <th>0</th>\n",
       "      <td>0.221206</td>\n",
       "      <td>0.256328</td>\n",
       "      <td>0.522466</td>\n",
       "    </tr>\n",
       "    <tr>\n",
       "      <th>1</th>\n",
       "      <td>0.167223</td>\n",
       "      <td>0.600632</td>\n",
       "      <td>0.232145</td>\n",
       "    </tr>\n",
       "    <tr>\n",
       "      <th>2</th>\n",
       "      <td>0.240729</td>\n",
       "      <td>0.503474</td>\n",
       "      <td>0.255797</td>\n",
       "    </tr>\n",
       "    <tr>\n",
       "      <th>3</th>\n",
       "      <td>0.856897</td>\n",
       "      <td>0.067080</td>\n",
       "      <td>0.076024</td>\n",
       "    </tr>\n",
       "    <tr>\n",
       "      <th>4</th>\n",
       "      <td>0.153205</td>\n",
       "      <td>0.143666</td>\n",
       "      <td>0.703129</td>\n",
       "    </tr>\n",
       "    <tr>\n",
       "      <th>...</th>\n",
       "      <td>...</td>\n",
       "      <td>...</td>\n",
       "      <td>...</td>\n",
       "    </tr>\n",
       "    <tr>\n",
       "      <th>91</th>\n",
       "      <td>0.195651</td>\n",
       "      <td>0.183448</td>\n",
       "      <td>0.620901</td>\n",
       "    </tr>\n",
       "    <tr>\n",
       "      <th>92</th>\n",
       "      <td>0.930577</td>\n",
       "      <td>0.032542</td>\n",
       "      <td>0.036881</td>\n",
       "    </tr>\n",
       "    <tr>\n",
       "      <th>93</th>\n",
       "      <td>0.129872</td>\n",
       "      <td>0.723326</td>\n",
       "      <td>0.146802</td>\n",
       "    </tr>\n",
       "    <tr>\n",
       "      <th>94</th>\n",
       "      <td>0.928785</td>\n",
       "      <td>0.033382</td>\n",
       "      <td>0.037833</td>\n",
       "    </tr>\n",
       "    <tr>\n",
       "      <th>95</th>\n",
       "      <td>0.871519</td>\n",
       "      <td>0.060225</td>\n",
       "      <td>0.068255</td>\n",
       "    </tr>\n",
       "  </tbody>\n",
       "</table>\n",
       "<p>96 rows × 3 columns</p>\n",
       "</div>"
      ],
      "text/plain": [
       "      setosa  versicolor  virginica\n",
       "0   0.221206    0.256328   0.522466\n",
       "1   0.167223    0.600632   0.232145\n",
       "2   0.240729    0.503474   0.255797\n",
       "3   0.856897    0.067080   0.076024\n",
       "4   0.153205    0.143666   0.703129\n",
       "..       ...         ...        ...\n",
       "91  0.195651    0.183448   0.620901\n",
       "92  0.930577    0.032542   0.036881\n",
       "93  0.129872    0.723326   0.146802\n",
       "94  0.928785    0.033382   0.037833\n",
       "95  0.871519    0.060225   0.068255\n",
       "\n",
       "[96 rows x 3 columns]"
      ]
     },
     "execution_count": 193,
     "metadata": {},
     "output_type": "execute_result"
    }
   ],
   "source": [
    "trn_probs = gnb.probabilities(X_trn)\n",
    "trn_probs_df = pd.DataFrame(trn_probs, columns=iris.target_names)\n",
    "trn_probs_df"
   ]
  },
  {
   "cell_type": "markdown",
   "id": "96a4d38c",
   "metadata": {
    "id": "96a4d38c"
   },
   "source": [
    "Next, since we are using 2 features, we can visualize the boundaries between the classes. Here is how you read the below plot:\n",
    "\n",
    "- The **purple** shaded region corresponds to all the possible values for petal length and width that would be predicted to be setosa.\n",
    "- The **turquoise** shaded region corresponds to all the possible values for petal length and width that would be predicted to be versicolor. \n",
    "- The **yellow** shaded region corresponds to all the possible values for petal length and width that would be predicted to be virginica. \n",
    "\n",
    "Notice, as the Gaussian Naive Bayes does a good job at separating all the classes even when they are overlapping with each other."
   ]
  },
  {
   "cell_type": "code",
   "execution_count": 194,
   "id": "7f16f6ae",
   "metadata": {
    "id": "7f16f6ae",
    "outputId": "af344340-23c6-4bc1-e973-faf589565058"
   },
   "outputs": [
    {
     "data": {
      "image/png": "[encoded data removed]",
      "text/plain": [
       "<Figure size 432x288 with 1 Axes>"
      ]
     },
     "metadata": {
      "needs_background": "light"
     },
     "output_type": "display_data"
    }
   ],
   "source": [
    "class_names = {\n",
    "    0: 'setosa',\n",
    "    1: 'versicolor',\n",
    "    2: 'virginica'\n",
    "}\n",
    "\n",
    "plot_decision_boundary(\n",
    "    gnb, X_trn, y_trn, \n",
    "    xlabel='Petal Length', \n",
    "    ylabel='Petal Width',\n",
    "    class_names=class_names\n",
    ");"
   ]
  },
  {
   "cell_type": "markdown",
   "id": "51fb9f96",
   "metadata": {
    "id": "51fb9f96"
   },
   "source": [
    "Let's now observe our classification metrics. Below we can see the accuracy is pretty high. We only missed 4 data samples! These missed data samples are most likely versicolor and virginica since these two classes overlap."
   ]
  },
  {
   "cell_type": "code",
   "execution_count": 195,
   "id": "f8b6ef13",
   "metadata": {
    "id": "f8b6ef13",
    "outputId": "80f79211-f53e-4d12-f787-ab6703aa9457"
   },
   "outputs": [
    {
     "name": "stdout",
     "output_type": "stream",
     "text": [
      "Accuracy ratio: 91/96\n",
      "Training accuracy: 0.9479166666666666\n"
     ]
    }
   ],
   "source": [
    "trn_acc = accuracy(y_hat=y_hat_trn, y=y_trn)\n",
    "print(f\"Training accuracy: {trn_acc}\")"
   ]
  },
  {
   "cell_type": "markdown",
   "id": "f2de86b1",
   "metadata": {
    "id": "f2de86b1"
   },
   "source": [
    "Next, let's breakdown the predictions using the confusion matrix. Notice, the confusion matrix is a 3x3! This is because we have 3 classes! A confusion matrix will always be a square matrix whose dimensions equal the number of classes in your data.\n",
    "\n",
    "\n",
    "How do we read this new 3x3 confusion matrix? Recall, the rows correspond to the actual classes and the columns correspond to the predicted classes. Thus, we can read the below confusion matrix as follows:\n",
    "\n",
    "- Setosa had 32 correct predictions\n",
    "- Versicolor had 28 correct predictions\n",
    "- Versicolor had 2 samples that were predicted to be virginica\n",
    "- Virginica had 31 correct predictions \n",
    "- Virginica had 3 samples that were predicted to be versicolor\n"
   ]
  },
  {
   "cell_type": "code",
   "execution_count": 196,
   "id": "8a2b650a",
   "metadata": {
    "id": "8a2b650a",
    "outputId": "70171d91-ff04-4e57-8e76-7eb3b39d50cb"
   },
   "outputs": [
    {
     "data": {
      "image/png": "[encoded data removed]",
      "text/plain": [
       "<Figure size 432x288 with 2 Axes>"
      ]
     },
     "metadata": {
      "needs_background": "light"
     },
     "output_type": "display_data"
    }
   ],
   "source": [
    "plot_confusion_matrix(\n",
    "    y_hat=y_hat_trn, \n",
    "    y=y_trn,\n",
    "    class_names=class_names\n",
    ");"
   ]
  },
  {
   "cell_type": "markdown",
   "id": "c19a73f9",
   "metadata": {
    "id": "c19a73f9"
   },
   "source": [
    "Now let's compute our PPV, TPR, and TNR scores. However, recall we need to compute the true positives, false positives, false negatives, and true negatives. How do we do this for a multi-class classification problem?\n",
    "\n",
    "We can do so using the below picture we saw earlier. The goal is to treat the confusion matrix as a one-vs-all problem. Here we can see the true positives are on the main diagonal. The false positives correspond to the  column of the current true positive class and the false negatives correspond to the row of the current true positive class. Everything else is then considered to be a turn negative.\n",
    "\n",
    "<img src=\"https://i.stack.imgur.com/AuTKP.png\" width=300 height=300>\n",
    "\n",
    "\n",
    "For more information on how to compute the true positives, false positives, false negatives, and true negatives for multi-class classifications problems see this [post](https://stackoverflow.com/questions/31324218/scikit-learn-how-to-obtain-true-positive-true-negative-false-positive-and-fal)."
   ]
  },
  {
   "cell_type": "markdown",
   "id": "eda2ed09",
   "metadata": {
    "id": "eda2ed09"
   },
   "source": [
    "With these ideas in mind, the `compute_scores()` function was updated to work for multi-class classification problems. Feel free to go back and review the code. Notice in the below output we get a PPV, TPR, and TRN score for each class where each class is framed from the one-vs-all perspective.\n",
    "\n",
    "We can see that seotsa has 100% on all the scores but the veriscolor and virginica scores are lower due to misclassifications."
   ]
  },
  {
   "cell_type": "code",
   "execution_count": 197,
   "id": "3c474b06",
   "metadata": {
    "id": "3c474b06",
    "outputId": "d8290698-6058-4a64-f1ae-0835645179ea"
   },
   "outputs": [
    {
     "name": "stdout",
     "output_type": "stream",
     "text": [
      "Scores for class setosa\n",
      "\tPPV ratio tp/(tp+fp): 32/32\n",
      "\tPPV (precision): 1.0\n",
      "\n",
      "\tTPR ratio tp/(tp+fn): 32/32\n",
      "\tTPR (recall/sensitivity): 1.0\n",
      "\n",
      "\tTNR ratio tn/(tn+fp): 64/64\n",
      "\tTNR (specificity): 1.0\n",
      "Scores for class versicolor\n",
      "\tPPV ratio tp/(tp+fp): 28/31\n",
      "\tPPV (precision): 0.9032258064516129\n",
      "\n",
      "\tTPR ratio tp/(tp+fn): 28/30\n",
      "\tTPR (recall/sensitivity): 0.9333333333333333\n",
      "\n",
      "\tTNR ratio tn/(tn+fp): 63/66\n",
      "\tTNR (specificity): 0.9545454545454546\n",
      "Scores for class virginica\n",
      "\tPPV ratio tp/(tp+fp): 31/33\n",
      "\tPPV (precision): 0.9393939393939394\n",
      "\n",
      "\tTPR ratio tp/(tp+fn): 31/34\n",
      "\tTPR (recall/sensitivity): 0.9117647058823529\n",
      "\n",
      "\tTNR ratio tn/(tn+fp): 60/62\n",
      "\tTNR (specificity): 0.967741935483871\n"
     ]
    }
   ],
   "source": [
    "compute_scores(\n",
    "    y_hat=y_hat_trn, \n",
    "    y=y_trn, \n",
    "    class_names=class_names\n",
    ");"
   ]
  },
  {
   "cell_type": "markdown",
   "id": "d6c8c85e",
   "metadata": {
    "id": "d6c8c85e"
   },
   "source": [
    "### Validating\n",
    "\n",
    "Below we compute the predictions and metrics for all the validation data."
   ]
  },
  {
   "cell_type": "code",
   "execution_count": 198,
   "id": "57d59628",
   "metadata": {
    "id": "57d59628"
   },
   "outputs": [],
   "source": [
    "y_hat_vld = gnb.predict(X_vld)"
   ]
  },
  {
   "cell_type": "code",
   "execution_count": 199,
   "id": "9650229d",
   "metadata": {
    "id": "9650229d",
    "outputId": "0a9c8aaa-5c20-4370-a1d4-d44ad26df195"
   },
   "outputs": [
    {
     "data": {
      "text/html": [
       "<div>\n",
       "<style scoped>\n",
       "    .dataframe tbody tr th:only-of-type {\n",
       "        vertical-align: middle;\n",
       "    }\n",
       "\n",
       "    .dataframe tbody tr th {\n",
       "        vertical-align: top;\n",
       "    }\n",
       "\n",
       "    .dataframe thead th {\n",
       "        text-align: right;\n",
       "    }\n",
       "</style>\n",
       "<table border=\"1\" class=\"dataframe\">\n",
       "  <thead>\n",
       "    <tr style=\"text-align: right;\">\n",
       "      <th></th>\n",
       "      <th>setosa</th>\n",
       "      <th>versicolor</th>\n",
       "      <th>virginica</th>\n",
       "    </tr>\n",
       "  </thead>\n",
       "  <tbody>\n",
       "    <tr>\n",
       "      <th>0</th>\n",
       "      <td>0.207930</td>\n",
       "      <td>0.571052</td>\n",
       "      <td>0.221018</td>\n",
       "    </tr>\n",
       "    <tr>\n",
       "      <th>1</th>\n",
       "      <td>0.118018</td>\n",
       "      <td>0.755764</td>\n",
       "      <td>0.126218</td>\n",
       "    </tr>\n",
       "    <tr>\n",
       "      <th>2</th>\n",
       "      <td>0.904708</td>\n",
       "      <td>0.044668</td>\n",
       "      <td>0.050624</td>\n",
       "    </tr>\n",
       "    <tr>\n",
       "      <th>3</th>\n",
       "      <td>0.930577</td>\n",
       "      <td>0.032542</td>\n",
       "      <td>0.036881</td>\n",
       "    </tr>\n",
       "    <tr>\n",
       "      <th>4</th>\n",
       "      <td>0.928785</td>\n",
       "      <td>0.033382</td>\n",
       "      <td>0.037833</td>\n",
       "    </tr>\n",
       "    <tr>\n",
       "      <th>5</th>\n",
       "      <td>0.226723</td>\n",
       "      <td>0.212553</td>\n",
       "      <td>0.560724</td>\n",
       "    </tr>\n",
       "    <tr>\n",
       "      <th>6</th>\n",
       "      <td>0.192156</td>\n",
       "      <td>0.505525</td>\n",
       "      <td>0.302319</td>\n",
       "    </tr>\n",
       "    <tr>\n",
       "      <th>7</th>\n",
       "      <td>0.176912</td>\n",
       "      <td>0.170830</td>\n",
       "      <td>0.652257</td>\n",
       "    </tr>\n",
       "    <tr>\n",
       "      <th>8</th>\n",
       "      <td>0.184756</td>\n",
       "      <td>0.174915</td>\n",
       "      <td>0.640329</td>\n",
       "    </tr>\n",
       "    <tr>\n",
       "      <th>9</th>\n",
       "      <td>0.168375</td>\n",
       "      <td>0.159599</td>\n",
       "      <td>0.672026</td>\n",
       "    </tr>\n",
       "    <tr>\n",
       "      <th>10</th>\n",
       "      <td>0.119781</td>\n",
       "      <td>0.744257</td>\n",
       "      <td>0.135962</td>\n",
       "    </tr>\n",
       "    <tr>\n",
       "      <th>11</th>\n",
       "      <td>0.213019</td>\n",
       "      <td>0.314909</td>\n",
       "      <td>0.472072</td>\n",
       "    </tr>\n",
       "    <tr>\n",
       "      <th>12</th>\n",
       "      <td>0.185797</td>\n",
       "      <td>0.561208</td>\n",
       "      <td>0.252995</td>\n",
       "    </tr>\n",
       "    <tr>\n",
       "      <th>13</th>\n",
       "      <td>0.121106</td>\n",
       "      <td>0.749311</td>\n",
       "      <td>0.129583</td>\n",
       "    </tr>\n",
       "    <tr>\n",
       "      <th>14</th>\n",
       "      <td>0.133071</td>\n",
       "      <td>0.724390</td>\n",
       "      <td>0.142539</td>\n",
       "    </tr>\n",
       "    <tr>\n",
       "      <th>15</th>\n",
       "      <td>0.906406</td>\n",
       "      <td>0.043872</td>\n",
       "      <td>0.049722</td>\n",
       "    </tr>\n",
       "    <tr>\n",
       "      <th>16</th>\n",
       "      <td>0.167648</td>\n",
       "      <td>0.160098</td>\n",
       "      <td>0.672254</td>\n",
       "    </tr>\n",
       "    <tr>\n",
       "      <th>17</th>\n",
       "      <td>0.508663</td>\n",
       "      <td>0.230314</td>\n",
       "      <td>0.261023</td>\n",
       "    </tr>\n",
       "    <tr>\n",
       "      <th>18</th>\n",
       "      <td>0.270112</td>\n",
       "      <td>0.442887</td>\n",
       "      <td>0.287002</td>\n",
       "    </tr>\n",
       "    <tr>\n",
       "      <th>19</th>\n",
       "      <td>0.928785</td>\n",
       "      <td>0.033382</td>\n",
       "      <td>0.037833</td>\n",
       "    </tr>\n",
       "    <tr>\n",
       "      <th>20</th>\n",
       "      <td>0.118018</td>\n",
       "      <td>0.755764</td>\n",
       "      <td>0.126218</td>\n",
       "    </tr>\n",
       "    <tr>\n",
       "      <th>21</th>\n",
       "      <td>0.148429</td>\n",
       "      <td>0.666611</td>\n",
       "      <td>0.184960</td>\n",
       "    </tr>\n",
       "    <tr>\n",
       "      <th>22</th>\n",
       "      <td>0.543749</td>\n",
       "      <td>0.213868</td>\n",
       "      <td>0.242383</td>\n",
       "    </tr>\n",
       "    <tr>\n",
       "      <th>23</th>\n",
       "      <td>0.930577</td>\n",
       "      <td>0.032542</td>\n",
       "      <td>0.036881</td>\n",
       "    </tr>\n",
       "  </tbody>\n",
       "</table>\n",
       "</div>"
      ],
      "text/plain": [
       "      setosa  versicolor  virginica\n",
       "0   0.207930    0.571052   0.221018\n",
       "1   0.118018    0.755764   0.126218\n",
       "2   0.904708    0.044668   0.050624\n",
       "3   0.930577    0.032542   0.036881\n",
       "4   0.928785    0.033382   0.037833\n",
       "5   0.226723    0.212553   0.560724\n",
       "6   0.192156    0.505525   0.302319\n",
       "7   0.176912    0.170830   0.652257\n",
       "8   0.184756    0.174915   0.640329\n",
       "9   0.168375    0.159599   0.672026\n",
       "10  0.119781    0.744257   0.135962\n",
       "11  0.213019    0.314909   0.472072\n",
       "12  0.185797    0.561208   0.252995\n",
       "13  0.121106    0.749311   0.129583\n",
       "14  0.133071    0.724390   0.142539\n",
       "15  0.906406    0.043872   0.049722\n",
       "16  0.167648    0.160098   0.672254\n",
       "17  0.508663    0.230314   0.261023\n",
       "18  0.270112    0.442887   0.287002\n",
       "19  0.928785    0.033382   0.037833\n",
       "20  0.118018    0.755764   0.126218\n",
       "21  0.148429    0.666611   0.184960\n",
       "22  0.543749    0.213868   0.242383\n",
       "23  0.930577    0.032542   0.036881"
      ]
     },
     "execution_count": 199,
     "metadata": {},
     "output_type": "execute_result"
    }
   ],
   "source": [
    "vld_probs = gnb.probabilities(X_vld)\n",
    "vld_probs_df = pd.DataFrame(vld_probs, columns=iris.target_names)\n",
    "vld_probs_df"
   ]
  },
  {
   "cell_type": "code",
   "execution_count": 200,
   "id": "c8f1b2b2",
   "metadata": {
    "id": "c8f1b2b2",
    "outputId": "ec224d53-1476-48dc-b864-30fffd3bbb8b"
   },
   "outputs": [
    {
     "data": {
      "image/png": "[encoded data removed]",
      "text/plain": [
       "<Figure size 432x288 with 1 Axes>"
      ]
     },
     "metadata": {
      "needs_background": "light"
     },
     "output_type": "display_data"
    }
   ],
   "source": [
    "plot_decision_boundary(gnb, X_vld, y_vld, class_names)"
   ]
  },
  {
   "cell_type": "markdown",
   "id": "62372dd1",
   "metadata": {
    "id": "62372dd1"
   },
   "source": [
    "So far we can see the validation scores and visualizations look good. As we can see below, the validation accuracy is 95% and we only misclassified one sample."
   ]
  },
  {
   "cell_type": "code",
   "execution_count": 201,
   "id": "6b8807e3",
   "metadata": {
    "id": "6b8807e3",
    "outputId": "3a370804-943e-4321-851e-eaf60c35d271"
   },
   "outputs": [
    {
     "name": "stdout",
     "output_type": "stream",
     "text": [
      "Accuracy ratio: 23/24\n",
      "Validation accuracy: 0.9583333333333334\n"
     ]
    }
   ],
   "source": [
    "vld_acc = accuracy(y_hat=y_hat_vld, y=y_vld)\n",
    "print(f\"Validation accuracy: {vld_acc}\")"
   ]
  },
  {
   "cell_type": "markdown",
   "id": "455430b8",
   "metadata": {
    "id": "455430b8"
   },
   "source": [
    "We can read the below confusion matrix as follows:\n",
    "\n",
    "- Setosa had 8 correct predictions\n",
    "- Versicolor had 10 correct predictions\n",
    "- Versicolor had 1 sample that was predicted to be virginica\n",
    "- Virginica had 5 correct predictions "
   ]
  },
  {
   "cell_type": "code",
   "execution_count": 202,
   "id": "0828b953",
   "metadata": {
    "id": "0828b953",
    "outputId": "10a4a769-19cc-443a-9686-8ed5922e667f"
   },
   "outputs": [
    {
     "data": {
      "image/png": "[encoded data removed]",
      "text/plain": [
       "<Figure size 432x288 with 2 Axes>"
      ]
     },
     "metadata": {
      "needs_background": "light"
     },
     "output_type": "display_data"
    }
   ],
   "source": [
    "plot_confusion_matrix(\n",
    "    y_hat=y_hat_vld, \n",
    "    y=y_vld,\n",
    "    class_names=class_names);"
   ]
  },
  {
   "cell_type": "markdown",
   "id": "a0927c58",
   "metadata": {
    "id": "a0927c58"
   },
   "source": [
    "Let's quickly see what the probability was for the 1 misclassified virginica sample. We can do so by indexing the `vld_probs_df` by a boolean array where every True element indicates `y_hat_vld` did not equal `y_vld`.\n",
    "\n",
    "As we can see, our model predicted a 47% chance that the misclassified sample was virginica while only 30% chance that it was the true class versicolor."
   ]
  },
  {
   "cell_type": "code",
   "execution_count": 203,
   "id": "c1bf01e3",
   "metadata": {
    "id": "c1bf01e3",
    "outputId": "f95f0130-9bac-42f8-da86-4d4e1845a330"
   },
   "outputs": [
    {
     "data": {
      "text/html": [
       "<div>\n",
       "<style scoped>\n",
       "    .dataframe tbody tr th:only-of-type {\n",
       "        vertical-align: middle;\n",
       "    }\n",
       "\n",
       "    .dataframe tbody tr th {\n",
       "        vertical-align: top;\n",
       "    }\n",
       "\n",
       "    .dataframe thead th {\n",
       "        text-align: right;\n",
       "    }\n",
       "</style>\n",
       "<table border=\"1\" class=\"dataframe\">\n",
       "  <thead>\n",
       "    <tr style=\"text-align: right;\">\n",
       "      <th></th>\n",
       "      <th>setosa</th>\n",
       "      <th>versicolor</th>\n",
       "      <th>virginica</th>\n",
       "    </tr>\n",
       "  </thead>\n",
       "  <tbody>\n",
       "    <tr>\n",
       "      <th>11</th>\n",
       "      <td>0.213019</td>\n",
       "      <td>0.314909</td>\n",
       "      <td>0.472072</td>\n",
       "    </tr>\n",
       "  </tbody>\n",
       "</table>\n",
       "</div>"
      ],
      "text/plain": [
       "      setosa  versicolor  virginica\n",
       "11  0.213019    0.314909   0.472072"
      ]
     },
     "execution_count": 203,
     "metadata": {},
     "output_type": "execute_result"
    }
   ],
   "source": [
    "prob_of_misclassified = vld_probs_df[y_hat_vld != y_vld]\n",
    "prob_of_misclassified"
   ]
  },
  {
   "cell_type": "code",
   "execution_count": 204,
   "id": "7ee0c517",
   "metadata": {
    "id": "7ee0c517",
    "outputId": "e7e7f730-8934-4260-c95d-fa52864de452"
   },
   "outputs": [
    {
     "name": "stdout",
     "output_type": "stream",
     "text": [
      "Scores for class setosa\n",
      "\tPPV ratio tp/(tp+fp): 8/8\n",
      "\tPPV (precision): 1.0\n",
      "\n",
      "\tTPR ratio tp/(tp+fn): 8/8\n",
      "\tTPR (recall/sensitivity): 1.0\n",
      "\n",
      "\tTNR ratio tn/(tn+fp): 16/16\n",
      "\tTNR (specificity): 1.0\n",
      "Scores for class versicolor\n",
      "\tPPV ratio tp/(tp+fp): 10/10\n",
      "\tPPV (precision): 1.0\n",
      "\n",
      "\tTPR ratio tp/(tp+fn): 10/11\n",
      "\tTPR (recall/sensitivity): 0.9090909090909091\n",
      "\n",
      "\tTNR ratio tn/(tn+fp): 13/13\n",
      "\tTNR (specificity): 1.0\n",
      "Scores for class virginica\n",
      "\tPPV ratio tp/(tp+fp): 5/6\n",
      "\tPPV (precision): 0.8333333333333334\n",
      "\n",
      "\tTPR ratio tp/(tp+fn): 5/5\n",
      "\tTPR (recall/sensitivity): 1.0\n",
      "\n",
      "\tTNR ratio tn/(tn+fp): 18/19\n",
      "\tTNR (specificity): 0.9473684210526315\n"
     ]
    }
   ],
   "source": [
    "compute_scores(\n",
    "    y_hat=y_hat_vld, \n",
    "    y=y_vld, \n",
    "    class_names=class_names\n",
    ");"
   ]
  },
  {
   "cell_type": "code",
   "execution_count": 205,
   "id": "3394733c",
   "metadata": {
    "id": "3394733c"
   },
   "outputs": [],
   "source": [
    "# Remove data variables for this section from memory\n",
    "garbage_collect(['gnb', 'X_trn', 'y_trn', 'X_vld', 'y_vld','y_hat_trn', 'trn_acc', 'y_hat_vld', 'vld_acc', 'prob_of_misclassified', 'data', 'feature_names', 'trn_probs', 'trn_probs_df', 'vld_probs', 'vld_probs_df'])"
   ]
  },
  {
   "cell_type": "markdown",
   "id": "914f1f8b",
   "metadata": {
    "id": "914f1f8b"
   },
   "source": [
    "## All Features\n",
    "\n",
    "Now, let's see what happens when we use 4 dimensions. To do so, we'll use both the petal and sepal features.\n",
    "\n",
    "### Training"
   ]
  },
  {
   "cell_type": "markdown",
   "id": "4ebafb3c",
   "metadata": {
    "id": "4ebafb3c"
   },
   "source": [
    "#### TODO 16\n",
    "Complete the TODO by getting our data, training the `GaussianNaiveBayes` class and making predictions for our training and validation data.\n",
    "\n",
    "1. Call the `data_prep()` function to get the data containing ALL features. Store the ouput into `data`. To do so, pass the arguments corresponding to the following descriptions:\n",
    "    1. Pass the Iris dataset.\n",
    "    1. Set the column 'class' to act as the labels/targets.\n",
    "    1. Return all data as NumPy arrays.\n",
    "    1. Return all data as arrays using the `return_array` argument\n",
    " \n",
    " \n",
    "2. Create an instance of the `GaussianNaiveBayes`. Store the output into `gnb`."
   ]
  },
  {
   "cell_type": "code",
   "execution_count": 206,
   "id": "896755ce",
   "metadata": {
    "id": "896755ce",
    "outputId": "21d6a0f8-7d22-4ee9-925e-da85fc185e27"
   },
   "outputs": [
    {
     "name": "stdout",
     "output_type": "stream",
     "text": [
      "Your code PASSED the code check!\n"
     ]
    }
   ],
   "source": [
    "# TODO 16.1\n",
    "data = data_prep(df=iris_df, label_name='class', return_array=True)\n",
    "X_trn, y_trn, X_vld, y_vld, _, _, feature_names = data\n",
    "\n",
    "# TODO 16.2\n",
    "gnb = GaussianNaiveBayes()\n",
    "\n",
    "gnb.fit(X_trn, y_trn)\n",
    "y_hat_trn = gnb.predict(X_trn)\n",
    "\n",
    "todo_check([\n",
    "    (np.all(np.isclose(X_trn[4].flatten(), [1.1353636 , -0.23717928,  0.97932518,  1.17336698], rtol=.01)), \"X_trn has incorrect values\"),\n",
    "    (np.all(np.isclose(gnb.means[1], np.array([ 0.11239465, -0.7014059 ,  0.26178115,  0.14178753]), rtol=.01)), \"gnb.means has incorrect values\"),\n",
    "    (np.all(np.isclose(gnb.priors, np.array([0.33333333, 0.3125    , 0.35416667]), rtol=.01)), \"gnb.priors has incorrect values\"),\n",
    "    (np.sum(y_hat_trn != y_trn) == 6, \"wrong number of misclassified samples detected!\")\n",
    "])"
   ]
  },
  {
   "cell_type": "code",
   "execution_count": 207,
   "id": "0d67cf64",
   "metadata": {
    "id": "0d67cf64",
    "outputId": "22c109df-aacd-4b02-d397-223b15e2497c"
   },
   "outputs": [
    {
     "data": {
      "text/html": [
       "<div>\n",
       "<style scoped>\n",
       "    .dataframe tbody tr th:only-of-type {\n",
       "        vertical-align: middle;\n",
       "    }\n",
       "\n",
       "    .dataframe tbody tr th {\n",
       "        vertical-align: top;\n",
       "    }\n",
       "\n",
       "    .dataframe thead th {\n",
       "        text-align: right;\n",
       "    }\n",
       "</style>\n",
       "<table border=\"1\" class=\"dataframe\">\n",
       "  <thead>\n",
       "    <tr style=\"text-align: right;\">\n",
       "      <th></th>\n",
       "      <th>setosa</th>\n",
       "      <th>versicolor</th>\n",
       "      <th>virginica</th>\n",
       "    </tr>\n",
       "  </thead>\n",
       "  <tbody>\n",
       "    <tr>\n",
       "      <th>0</th>\n",
       "      <td>0.302171</td>\n",
       "      <td>0.300671</td>\n",
       "      <td>0.397158</td>\n",
       "    </tr>\n",
       "    <tr>\n",
       "      <th>1</th>\n",
       "      <td>0.301279</td>\n",
       "      <td>0.353216</td>\n",
       "      <td>0.345505</td>\n",
       "    </tr>\n",
       "    <tr>\n",
       "      <th>2</th>\n",
       "      <td>0.319943</td>\n",
       "      <td>0.340117</td>\n",
       "      <td>0.339940</td>\n",
       "    </tr>\n",
       "    <tr>\n",
       "      <th>3</th>\n",
       "      <td>0.663994</td>\n",
       "      <td>0.157503</td>\n",
       "      <td>0.178503</td>\n",
       "    </tr>\n",
       "    <tr>\n",
       "      <th>4</th>\n",
       "      <td>0.255017</td>\n",
       "      <td>0.239084</td>\n",
       "      <td>0.505899</td>\n",
       "    </tr>\n",
       "    <tr>\n",
       "      <th>...</th>\n",
       "      <td>...</td>\n",
       "      <td>...</td>\n",
       "      <td>...</td>\n",
       "    </tr>\n",
       "    <tr>\n",
       "      <th>91</th>\n",
       "      <td>0.311512</td>\n",
       "      <td>0.292043</td>\n",
       "      <td>0.396444</td>\n",
       "    </tr>\n",
       "    <tr>\n",
       "      <th>92</th>\n",
       "      <td>0.792663</td>\n",
       "      <td>0.097189</td>\n",
       "      <td>0.110148</td>\n",
       "    </tr>\n",
       "    <tr>\n",
       "      <th>93</th>\n",
       "      <td>0.263447</td>\n",
       "      <td>0.451798</td>\n",
       "      <td>0.284754</td>\n",
       "    </tr>\n",
       "    <tr>\n",
       "      <th>94</th>\n",
       "      <td>0.838126</td>\n",
       "      <td>0.075878</td>\n",
       "      <td>0.085995</td>\n",
       "    </tr>\n",
       "    <tr>\n",
       "      <th>95</th>\n",
       "      <td>0.756539</td>\n",
       "      <td>0.114122</td>\n",
       "      <td>0.129339</td>\n",
       "    </tr>\n",
       "  </tbody>\n",
       "</table>\n",
       "<p>96 rows × 3 columns</p>\n",
       "</div>"
      ],
      "text/plain": [
       "      setosa  versicolor  virginica\n",
       "0   0.302171    0.300671   0.397158\n",
       "1   0.301279    0.353216   0.345505\n",
       "2   0.319943    0.340117   0.339940\n",
       "3   0.663994    0.157503   0.178503\n",
       "4   0.255017    0.239084   0.505899\n",
       "..       ...         ...        ...\n",
       "91  0.311512    0.292043   0.396444\n",
       "92  0.792663    0.097189   0.110148\n",
       "93  0.263447    0.451798   0.284754\n",
       "94  0.838126    0.075878   0.085995\n",
       "95  0.756539    0.114122   0.129339\n",
       "\n",
       "[96 rows x 3 columns]"
      ]
     },
     "execution_count": 207,
     "metadata": {},
     "output_type": "execute_result"
    }
   ],
   "source": [
    "trn_probs = gnb.probabilities(X_trn)\n",
    "trn_probs_df = pd.DataFrame(trn_probs, columns=iris.target_names)\n",
    "trn_probs_df"
   ]
  },
  {
   "cell_type": "code",
   "execution_count": 208,
   "id": "14aded03",
   "metadata": {
    "id": "14aded03",
    "outputId": "afc920d2-d984-4be9-c6a7-db0d565d5366"
   },
   "outputs": [
    {
     "name": "stdout",
     "output_type": "stream",
     "text": [
      "Accuracy ratio: 90/96\n",
      "Training accuracy: 0.9375\n"
     ]
    }
   ],
   "source": [
    "trn_acc = accuracy(y_hat=y_hat_trn, y=y_trn)\n",
    "print(f\"Training accuracy: {trn_acc}\")"
   ]
  },
  {
   "cell_type": "markdown",
   "id": "9f3ce2f4",
   "metadata": {
    "id": "9f3ce2f4"
   },
   "source": [
    "We can read the below confusion matrix as follows:\n",
    "\n",
    "- Setosa had 32 correct predictions\n",
    "- Versicolor had 27 correct predictions\n",
    "- Versicolor had 3 samples that were predicted to be virginica\n",
    "- Virginica had 31 correct predictions \n",
    "- Virginica had 3 samples that were predicted to be versicolor\n",
    "\n",
    "\n",
    "Notice, the model performed worse as it missed 1 extra virginica data samples this time!"
   ]
  },
  {
   "cell_type": "code",
   "execution_count": 209,
   "id": "13c84c20",
   "metadata": {
    "id": "13c84c20",
    "outputId": "06459707-f348-4f97-d9d2-ae5d28b93783"
   },
   "outputs": [
    {
     "data": {
      "image/png": "[encoded data removed]",
      "text/plain": [
       "<Figure size 432x288 with 2 Axes>"
      ]
     },
     "metadata": {
      "needs_background": "light"
     },
     "output_type": "display_data"
    }
   ],
   "source": [
    "plot_confusion_matrix(\n",
    "    y_hat=y_hat_trn, \n",
    "    y=y_trn,\n",
    "    class_names=class_names\n",
    ");"
   ]
  },
  {
   "cell_type": "code",
   "execution_count": 210,
   "id": "b5f81518",
   "metadata": {
    "id": "b5f81518",
    "outputId": "cc83357d-54f7-41cd-a071-c0d990e0cc05"
   },
   "outputs": [
    {
     "name": "stdout",
     "output_type": "stream",
     "text": [
      "Scores for class setosa\n",
      "\tPPV ratio tp/(tp+fp): 32/32\n",
      "\tPPV (precision): 1.0\n",
      "\n",
      "\tTPR ratio tp/(tp+fn): 32/32\n",
      "\tTPR (recall/sensitivity): 1.0\n",
      "\n",
      "\tTNR ratio tn/(tn+fp): 64/64\n",
      "\tTNR (specificity): 1.0\n",
      "Scores for class versicolor\n",
      "\tPPV ratio tp/(tp+fp): 27/30\n",
      "\tPPV (precision): 0.9\n",
      "\n",
      "\tTPR ratio tp/(tp+fn): 27/30\n",
      "\tTPR (recall/sensitivity): 0.9\n",
      "\n",
      "\tTNR ratio tn/(tn+fp): 63/66\n",
      "\tTNR (specificity): 0.9545454545454546\n",
      "Scores for class virginica\n",
      "\tPPV ratio tp/(tp+fp): 31/34\n",
      "\tPPV (precision): 0.9117647058823529\n",
      "\n",
      "\tTPR ratio tp/(tp+fn): 31/34\n",
      "\tTPR (recall/sensitivity): 0.9117647058823529\n",
      "\n",
      "\tTNR ratio tn/(tn+fp): 59/62\n",
      "\tTNR (specificity): 0.9516129032258065\n"
     ]
    }
   ],
   "source": [
    "compute_scores(\n",
    "    y_hat=y_hat_trn, \n",
    "    y=y_trn, \n",
    "    class_names=class_names\n",
    ");"
   ]
  },
  {
   "cell_type": "markdown",
   "id": "f64b1da1",
   "metadata": {
    "id": "f64b1da1"
   },
   "source": [
    "### Validating\n",
    "\n",
    "Below we can see that using all features doesn't affect our validation scores."
   ]
  },
  {
   "cell_type": "code",
   "execution_count": 211,
   "id": "f96c33ba",
   "metadata": {
    "id": "f96c33ba"
   },
   "outputs": [],
   "source": [
    "y_hat_vld = gnb.predict(X_vld)"
   ]
  },
  {
   "cell_type": "code",
   "execution_count": 212,
   "id": "bf5272cc",
   "metadata": {
    "id": "bf5272cc",
    "outputId": "591d30ba-eb9c-4241-df24-5d4759040301",
    "scrolled": true
   },
   "outputs": [
    {
     "data": {
      "text/html": [
       "<div>\n",
       "<style scoped>\n",
       "    .dataframe tbody tr th:only-of-type {\n",
       "        vertical-align: middle;\n",
       "    }\n",
       "\n",
       "    .dataframe tbody tr th {\n",
       "        vertical-align: top;\n",
       "    }\n",
       "\n",
       "    .dataframe thead th {\n",
       "        text-align: right;\n",
       "    }\n",
       "</style>\n",
       "<table border=\"1\" class=\"dataframe\">\n",
       "  <thead>\n",
       "    <tr style=\"text-align: right;\">\n",
       "      <th></th>\n",
       "      <th>setosa</th>\n",
       "      <th>versicolor</th>\n",
       "      <th>virginica</th>\n",
       "    </tr>\n",
       "  </thead>\n",
       "  <tbody>\n",
       "    <tr>\n",
       "      <th>0</th>\n",
       "      <td>0.322880</td>\n",
       "      <td>0.334058</td>\n",
       "      <td>0.343062</td>\n",
       "    </tr>\n",
       "    <tr>\n",
       "      <th>1</th>\n",
       "      <td>0.296141</td>\n",
       "      <td>0.389193</td>\n",
       "      <td>0.314666</td>\n",
       "    </tr>\n",
       "    <tr>\n",
       "      <th>2</th>\n",
       "      <td>0.500087</td>\n",
       "      <td>0.234334</td>\n",
       "      <td>0.265579</td>\n",
       "    </tr>\n",
       "    <tr>\n",
       "      <th>3</th>\n",
       "      <td>0.759294</td>\n",
       "      <td>0.112831</td>\n",
       "      <td>0.127875</td>\n",
       "    </tr>\n",
       "    <tr>\n",
       "      <th>4</th>\n",
       "      <td>0.846055</td>\n",
       "      <td>0.072162</td>\n",
       "      <td>0.081783</td>\n",
       "    </tr>\n",
       "    <tr>\n",
       "      <th>5</th>\n",
       "      <td>0.324699</td>\n",
       "      <td>0.304405</td>\n",
       "      <td>0.370896</td>\n",
       "    </tr>\n",
       "    <tr>\n",
       "      <th>6</th>\n",
       "      <td>0.298853</td>\n",
       "      <td>0.370494</td>\n",
       "      <td>0.330653</td>\n",
       "    </tr>\n",
       "    <tr>\n",
       "      <th>7</th>\n",
       "      <td>0.306746</td>\n",
       "      <td>0.290183</td>\n",
       "      <td>0.403071</td>\n",
       "    </tr>\n",
       "    <tr>\n",
       "      <th>8</th>\n",
       "      <td>0.323233</td>\n",
       "      <td>0.303603</td>\n",
       "      <td>0.373164</td>\n",
       "    </tr>\n",
       "    <tr>\n",
       "      <th>9</th>\n",
       "      <td>0.267498</td>\n",
       "      <td>0.251499</td>\n",
       "      <td>0.481003</td>\n",
       "    </tr>\n",
       "    <tr>\n",
       "      <th>10</th>\n",
       "      <td>0.265223</td>\n",
       "      <td>0.447575</td>\n",
       "      <td>0.287202</td>\n",
       "    </tr>\n",
       "    <tr>\n",
       "      <th>11</th>\n",
       "      <td>0.301066</td>\n",
       "      <td>0.333280</td>\n",
       "      <td>0.365654</td>\n",
       "    </tr>\n",
       "    <tr>\n",
       "      <th>12</th>\n",
       "      <td>0.319988</td>\n",
       "      <td>0.331585</td>\n",
       "      <td>0.348426</td>\n",
       "    </tr>\n",
       "    <tr>\n",
       "      <th>13</th>\n",
       "      <td>0.235912</td>\n",
       "      <td>0.513226</td>\n",
       "      <td>0.250862</td>\n",
       "    </tr>\n",
       "    <tr>\n",
       "      <th>14</th>\n",
       "      <td>0.277593</td>\n",
       "      <td>0.427414</td>\n",
       "      <td>0.294992</td>\n",
       "    </tr>\n",
       "    <tr>\n",
       "      <th>15</th>\n",
       "      <td>0.334913</td>\n",
       "      <td>0.311759</td>\n",
       "      <td>0.353327</td>\n",
       "    </tr>\n",
       "    <tr>\n",
       "      <th>16</th>\n",
       "      <td>0.261129</td>\n",
       "      <td>0.245580</td>\n",
       "      <td>0.493291</td>\n",
       "    </tr>\n",
       "    <tr>\n",
       "      <th>17</th>\n",
       "      <td>0.378023</td>\n",
       "      <td>0.291552</td>\n",
       "      <td>0.330425</td>\n",
       "    </tr>\n",
       "    <tr>\n",
       "      <th>18</th>\n",
       "      <td>0.315199</td>\n",
       "      <td>0.349901</td>\n",
       "      <td>0.334899</td>\n",
       "    </tr>\n",
       "    <tr>\n",
       "      <th>19</th>\n",
       "      <td>0.694863</td>\n",
       "      <td>0.143033</td>\n",
       "      <td>0.162104</td>\n",
       "    </tr>\n",
       "    <tr>\n",
       "      <th>20</th>\n",
       "      <td>0.259971</td>\n",
       "      <td>0.463766</td>\n",
       "      <td>0.276263</td>\n",
       "    </tr>\n",
       "    <tr>\n",
       "      <th>21</th>\n",
       "      <td>0.278356</td>\n",
       "      <td>0.423048</td>\n",
       "      <td>0.298596</td>\n",
       "    </tr>\n",
       "    <tr>\n",
       "      <th>22</th>\n",
       "      <td>0.422870</td>\n",
       "      <td>0.270530</td>\n",
       "      <td>0.306600</td>\n",
       "    </tr>\n",
       "    <tr>\n",
       "      <th>23</th>\n",
       "      <td>0.641314</td>\n",
       "      <td>0.168134</td>\n",
       "      <td>0.190552</td>\n",
       "    </tr>\n",
       "  </tbody>\n",
       "</table>\n",
       "</div>"
      ],
      "text/plain": [
       "      setosa  versicolor  virginica\n",
       "0   0.322880    0.334058   0.343062\n",
       "1   0.296141    0.389193   0.314666\n",
       "2   0.500087    0.234334   0.265579\n",
       "3   0.759294    0.112831   0.127875\n",
       "4   0.846055    0.072162   0.081783\n",
       "5   0.324699    0.304405   0.370896\n",
       "6   0.298853    0.370494   0.330653\n",
       "7   0.306746    0.290183   0.403071\n",
       "8   0.323233    0.303603   0.373164\n",
       "9   0.267498    0.251499   0.481003\n",
       "10  0.265223    0.447575   0.287202\n",
       "11  0.301066    0.333280   0.365654\n",
       "12  0.319988    0.331585   0.348426\n",
       "13  0.235912    0.513226   0.250862\n",
       "14  0.277593    0.427414   0.294992\n",
       "15  0.334913    0.311759   0.353327\n",
       "16  0.261129    0.245580   0.493291\n",
       "17  0.378023    0.291552   0.330425\n",
       "18  0.315199    0.349901   0.334899\n",
       "19  0.694863    0.143033   0.162104\n",
       "20  0.259971    0.463766   0.276263\n",
       "21  0.278356    0.423048   0.298596\n",
       "22  0.422870    0.270530   0.306600\n",
       "23  0.641314    0.168134   0.190552"
      ]
     },
     "execution_count": 212,
     "metadata": {},
     "output_type": "execute_result"
    }
   ],
   "source": [
    "vld_probs = gnb.probabilities(X_vld)\n",
    "vld_probs_df = pd.DataFrame(vld_probs, columns=iris.target_names)\n",
    "vld_probs_df"
   ]
  },
  {
   "cell_type": "code",
   "execution_count": 213,
   "id": "42eea07c",
   "metadata": {
    "id": "42eea07c",
    "outputId": "c8f5b2cd-865c-4c03-d078-bd743015039b"
   },
   "outputs": [
    {
     "name": "stdout",
     "output_type": "stream",
     "text": [
      "Accuracy ratio: 24/24\n",
      "Validation accuracy: 1.0\n"
     ]
    }
   ],
   "source": [
    "vld_acc = accuracy(y_hat=y_hat_vld, y=y_vld)\n",
    "print(f\"Validation accuracy: {vld_acc}\")"
   ]
  },
  {
   "cell_type": "markdown",
   "id": "6d7f821f",
   "metadata": {
    "id": "6d7f821f"
   },
   "source": [
    "We can read the below confusion matrix as follows:\n",
    "\n",
    "- Setosa had 8 correct predictions\n",
    "- Versicolor had 10 correct predictions\n",
    "- Versicolor had 1 sample that was predicted to be virginica\n",
    "- Virginica had 5 correct predictions "
   ]
  },
  {
   "cell_type": "code",
   "execution_count": 214,
   "id": "021ca255",
   "metadata": {
    "id": "021ca255",
    "outputId": "49bbf9d7-5f6a-43c3-dd7c-c05999eeb0b4"
   },
   "outputs": [
    {
     "data": {
      "image/png": "[encoded data removed]",
      "text/plain": [
       "<Figure size 432x288 with 2 Axes>"
      ]
     },
     "metadata": {
      "needs_background": "light"
     },
     "output_type": "display_data"
    }
   ],
   "source": [
    "plot_confusion_matrix(\n",
    "    y_hat=y_hat_vld, \n",
    "    y=y_vld,\n",
    "    class_names=class_names\n",
    ");"
   ]
  },
  {
   "cell_type": "markdown",
   "id": "43d46cf8",
   "metadata": {
    "id": "43d46cf8"
   },
   "source": [
    "While the results are the same, we can see our model decreased the chance that the misclassified sample belonged to the virginica class and increased the probability that it belonged to the correct class versicolor. However, it wasn't enough to correctly classify the data sample!"
   ]
  },
  {
   "cell_type": "code",
   "execution_count": 215,
   "id": "3e27c11a",
   "metadata": {
    "id": "3e27c11a",
    "outputId": "32288d36-4f05-4230-e71e-3044a9f28862"
   },
   "outputs": [
    {
     "data": {
      "text/html": [
       "<div>\n",
       "<style scoped>\n",
       "    .dataframe tbody tr th:only-of-type {\n",
       "        vertical-align: middle;\n",
       "    }\n",
       "\n",
       "    .dataframe tbody tr th {\n",
       "        vertical-align: top;\n",
       "    }\n",
       "\n",
       "    .dataframe thead th {\n",
       "        text-align: right;\n",
       "    }\n",
       "</style>\n",
       "<table border=\"1\" class=\"dataframe\">\n",
       "  <thead>\n",
       "    <tr style=\"text-align: right;\">\n",
       "      <th></th>\n",
       "      <th>setosa</th>\n",
       "      <th>versicolor</th>\n",
       "      <th>virginica</th>\n",
       "    </tr>\n",
       "  </thead>\n",
       "  <tbody>\n",
       "  </tbody>\n",
       "</table>\n",
       "</div>"
      ],
      "text/plain": [
       "Empty DataFrame\n",
       "Columns: [setosa, versicolor, virginica]\n",
       "Index: []"
      ]
     },
     "execution_count": 215,
     "metadata": {},
     "output_type": "execute_result"
    }
   ],
   "source": [
    "prob_of_misclassified = vld_probs_df[y_hat_vld != y_vld]\n",
    "prob_of_misclassified"
   ]
  },
  {
   "cell_type": "code",
   "execution_count": 216,
   "id": "0ccb4302",
   "metadata": {
    "id": "0ccb4302",
    "outputId": "02362e2a-bf1f-44b5-ae66-75614f761282",
    "scrolled": true
   },
   "outputs": [
    {
     "name": "stdout",
     "output_type": "stream",
     "text": [
      "Scores for class setosa\n",
      "\tPPV ratio tp/(tp+fp): 8/8\n",
      "\tPPV (precision): 1.0\n",
      "\n",
      "\tTPR ratio tp/(tp+fn): 8/8\n",
      "\tTPR (recall/sensitivity): 1.0\n",
      "\n",
      "\tTNR ratio tn/(tn+fp): 16/16\n",
      "\tTNR (specificity): 1.0\n",
      "Scores for class versicolor\n",
      "\tPPV ratio tp/(tp+fp): 11/11\n",
      "\tPPV (precision): 1.0\n",
      "\n",
      "\tTPR ratio tp/(tp+fn): 11/11\n",
      "\tTPR (recall/sensitivity): 1.0\n",
      "\n",
      "\tTNR ratio tn/(tn+fp): 13/13\n",
      "\tTNR (specificity): 1.0\n",
      "Scores for class virginica\n",
      "\tPPV ratio tp/(tp+fp): 5/5\n",
      "\tPPV (precision): 1.0\n",
      "\n",
      "\tTPR ratio tp/(tp+fn): 5/5\n",
      "\tTPR (recall/sensitivity): 1.0\n",
      "\n",
      "\tTNR ratio tn/(tn+fp): 19/19\n",
      "\tTNR (specificity): 1.0\n"
     ]
    }
   ],
   "source": [
    "compute_scores(\n",
    "    y_hat=y_hat_vld, \n",
    "    y=y_vld, \n",
    "    class_names=class_names\n",
    ");"
   ]
  },
  {
   "cell_type": "code",
   "execution_count": 217,
   "id": "9460c7dd",
   "metadata": {
    "id": "9460c7dd"
   },
   "outputs": [],
   "source": [
    "# Remove data variables for this section from memory\n",
    "garbage_collect(['gnb', 'X_trn', 'y_trn', 'X_vld', 'y_vld','y_hat_trn', 'trn_acc', 'y_hat_vld', 'vld_acc', 'prob_of_misclassified', 'data', 'feature_names', 'trn_probs', 'trn_probs_df', 'vld_probs', 'vld_probs_df'])"
   ]
  },
  {
   "cell_type": "code",
   "execution_count": null,
   "id": "f1552fa9",
   "metadata": {},
   "outputs": [],
   "source": []
  }
 ],
 "metadata": {
  "colab": {
   "collapsed_sections": [
    "ba09cf4a",
    "f72d8050",
    "5c198c83",
    "50161e25",
    "bab4e8d6",
    "d68ab125",
    "3bcaa6ef",
    "534d1711",
    "69f38573",
    "e383e6b9",
    "25bf10eb",
    "be8b4492",
    "8efeeb21",
    "0b1e8723",
    "b19e6c21",
    "31c33825",
    "634e276a",
    "693b1d85",
    "92c01826",
    "62c7021d",
    "e636461b",
    "6a106fb4",
    "d6c8c85e",
    "4ebafb3c",
    "f64b1da1"
   ],
   "provenance": []
  },
  "kernelspec": {
   "display_name": "Python 3",
   "language": "python",
   "name": "python3"
  },
  "language_info": {
   "codemirror_mode": {
    "name": "ipython",
    "version": 3
   },
   "file_extension": ".py",
   "mimetype": "text/x-python",
   "name": "python",
   "nbconvert_exporter": "python",
   "pygments_lexer": "ipython3",
   "version": "3.8.8"
  },
  "toc": {
   "base_numbering": 1,
   "nav_menu": {},
   "number_sections": true,
   "sideBar": true,
   "skip_h1_title": false,
   "title_cell": "Table of Contents",
   "title_sidebar": "Contents",
   "toc_cell": false,
   "toc_position": {
    "height": "calc(100% - 180px)",
    "left": "10px",
    "top": "150px",
    "width": "216px"
   },
   "toc_section_display": true,
   "toc_window_display": true
  }
 },
 "nbformat": 4,
 "nbformat_minor": 5
}
