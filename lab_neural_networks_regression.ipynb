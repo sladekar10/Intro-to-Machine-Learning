{
 "cells": [
  {
   "cell_type": "markdown",
   "id": "b2533568",
   "metadata": {
    "id": "b2533568"
   },
   "source": [
    "\n",
    "# Intro to Neural Networks for Regression\n",
    "Course: ITCS 4156 - Introduction to Machine Learning \n",
    "\n",
    "Instructor: Xiang Zhang\n",
    "\n",
    "$\\newcommand{\\xv}{\\mathbf{x}}\n",
    " \\newcommand{\\wv}{\\mathbf{w}}\n",
    " \\newcommand{\\yv}{\\mathbf{y}}\n",
    " \\newcommand{\\zv}{\\mathbf{z}}\n",
    " \\newcommand{\\uv}{\\mathbf{u}}\n",
    " \\newcommand{\\vv}{\\mathbf{v}}\n",
    " \\newcommand{\\tv}{\\mathbf{t}}\n",
    " \\newcommand{\\bv}{\\mathbf{b}}\n",
    " \\newcommand{\\av}{\\mathbf{a}}\n",
    " \\newcommand{\\Chi}{\\mathcal{X}}\n",
    " \\newcommand{\\R}{\\rm I\\!R}\n",
    " \\newcommand{\\sign}{\\text{sign}}\n",
    " \\newcommand{\\Ym}{\\mathbf{Y}}\n",
    " \\newcommand{\\Xm}{\\mathbf{X}}\n",
    " \\newcommand{\\Wm}{\\mathbf{W}}\n",
    " \\newcommand{\\Zm}{\\mathbf{Z}}\n",
    " \\newcommand{\\Im}{\\mathbf{I}}\n",
    " \\newcommand{\\Um}{\\mathbf{U}}\n",
    " \\newcommand{\\Vm}{\\mathbf{V}}\n",
    " \\newcommand{\\Am}{\\mathbf{A}}\n",
    " \\newcommand{\\muv}{\\boldsymbol\\mu}\n",
    " \\newcommand{\\Sigmav}{\\boldsymbol\\Sigma}\n",
    " \\newcommand{\\Lambdav}{\\boldsymbol\\Lambda}\n",
    "$"
   ]
  },
  {
   "cell_type": "markdown",
   "id": "fba8af07",
   "metadata": {
    "id": "fba8af07"
   },
   "source": [
    "<br/>\n",
    "<font color=\"blue\"><b>\n",
    "\n",
    "NAME: *Shardul Ladekar*\n",
    "\n",
    "</b> </font>"
   ]
  },
  {
   "cell_type": "markdown",
   "id": "1f3b523d",
   "metadata": {
    "id": "1f3b523d"
   },
   "source": [
    "## Goal \n",
    "The goal of this lab will be to practice implementing the feed-forward and feedback processes used by neural networks. We'll also take a look at manual hyper-parameter tuning. We'll do so by, once again, working with the Forest Fire dataset as we have already performed data exploration and preparation so that we can get to implementing neural networks more quickly.\n",
    "\n",
    "Your job is to read through the lab and fill in any code segments that are marked by `TODO` headers and comments. **It should be noted, that all the correct outputs are given below each code cell. It might be useful to duplicate all the `TODO` cells so you can try to match the correct output with your own code!**\n",
    "\n",
    "Use the `todo_check()`to help guide you in understanding whether your code for a given TODO is correct or incorrect. However, failing a TODO check doesn't mean you won't receive points, though it could be a good indication. If you are failing feel free to ask and we can help check what is happening.\n",
    "\n",
    "## Agenda\n",
    "- Review and load the Forest Fires dataset\n",
    "- Visualize and explore the Forest Fires dataset\n",
    "- Create the data preparation pipeline where we apply data preprocessing AFTER splitting\n",
    "- Implement a simple 2 layer neural network\n",
    "    - Implement identity/linear, sigmoid, and tanh activation functions.\n",
    "    - Implement the neural network feed-forward process for making predictions\n",
    "    - Implement the neural network feedback process for updating the weights and biases\n",
    "- Investigate model tuning by manually turning hyper-parameters"
   ]
  },
  {
   "cell_type": "markdown",
   "id": "a44daf24",
   "metadata": {
    "id": "a44daf24"
   },
   "source": [
    "## Table of notation\n",
    "\n",
    "| Symbol                     | Meaning                     | Symbol    | Meaning                                                          |\n",
    "|----------------------------|-----------------------------|-----------|------------------------------------------------------------------|\n",
    "| $\\xv$ or $\\vec{x}$         | feature/input vector        | $x_i$     | $i$th element of $\\xv$                                           |\n",
    "| $\\Xm$                      | input matrix                | $x_{i,j}$ | $i$th row and $j$th column of $\\Xm$                              |\n",
    "| $\\yv$ or $\\tv$             | labels/targets              | $n$       | number of features or columns \n",
    "| $\\wv$ or $\\mathbf{\\theta}$ | weight/parameter vector     | $m$       | number of data samples <br>(also used to refer to the slope) |samples or rows                                   |\n",
    "| $f$ or $h$                 | hypothesis function <br> (i.e., a model)        | $\\hat{\\yv}$ <br> $f(\\xv {;} \\wv)$<br>$h(\\xv {;} \\wv)$ | predictions <br> y-hat |\n",
    "| $E$              | error or sum of error (loss)  | $SSE$      | sum of squared error function                                            |\n",
    "| $MSE$                      | mean squared error| $\\nabla$  | gradient (nabla)                                       |\n",
    "| $\\partial$                 | partial derivative          | $\\alpha$  | learning rate (alpha)                                  |       \n",
    "| $J$ | general placeholder for <br>the objective function | $x^T$| transpose of a vector or matrix |\n",
    "$b$ | bias or y-intercept term | $T$ | Threshold |\n",
    "$*$| element-wise<br> multiplication | $\\cdot$ | dot product|\n",
    "| $z$<br>$\\zv$| value before applying activation function |  $X, Y$ | Random variables |\n",
    "| $K$| number/set of classes | $k$ | current class|\n",
    "| $MLE$|  maximum likelihood estimation | $ML$ |  maximum likelihood|\n",
    "| $MLL$|  maximum log likelihood | $LL$ | log likelihood |\n",
    "| $L$|  likelihood | $NLL$ | negative log likelihood |\n",
    "| $g$ | activation function | $a$/$h$ <br> $\\av/\\mathbf{h}$<br>$\\Am$/$\\mathbf{H}$ | output of activation function <br> or neuron\n",
    "$w$<br>$\\wv$<br>$\\Wm$ | weights| $z$<br>$\\zv$<br>$\\Zm$ | linear combination output|\n",
    "|$\\Wm^{[l]}$| $l$th layer weights| $\\Am^{[l]}$| $l$th layer activations\n",
    "|$\\Zm^{[l]}$| $l$th layer linear combinations| $\\bv^{[l]}$| $l$th layer bias"
   ]
  },
  {
   "cell_type": "markdown",
   "id": "3cfaed5b",
   "metadata": {
    "id": "3cfaed5b"
   },
   "source": [
    "## Imports"
   ]
  },
  {
   "cell_type": "code",
   "execution_count": 1,
   "id": "7f6cf537",
   "metadata": {
    "id": "7f6cf537"
   },
   "outputs": [],
   "source": [
    "import os\n",
    "import warnings\n",
    "import gc\n",
    "from typing import Tuple, Union, List, Dict\n",
    "\n",
    "import sklearn\n",
    "sklearn_version = '1.0'\n",
    "# Check to make sure you have the right version of sklearn\n",
    "assert sklearn.__version__  > sklearn_version, f'sklearn version is only {sklearn.__version__} and needs to be > {sklearn_version}'\n",
    "\n",
    "import numpy as np\n",
    "import pandas as pd\n",
    "import matplotlib.pyplot as plt \n",
    "import seaborn as sns\n",
    "\n",
    "np.set_printoptions(suppress=True) \n",
    "%matplotlib inline"
   ]
  },
  {
   "cell_type": "code",
   "execution_count": 2,
   "id": "e578ddee",
   "metadata": {
    "id": "e578ddee"
   },
   "outputs": [],
   "source": [
    "# Set this to True if you DO NOT want to run the \n",
    "# garbage_collect() functions throughout the notebook\n",
    "turn_off_garbage_collect = False\n",
    "\n",
    "def garbage_collect(vars_):\n",
    "    if not turn_off_garbage_collect:\n",
    "        for v in vars_:\n",
    "            if v in globals():\n",
    "                del globals()[v]\n",
    "        collected = gc.collect()\n",
    "\n",
    "def todo_check(condi_err):\n",
    "    failed_err = \"You passed {}/{} and FAILED the following code checks:{}\"\n",
    "    failed = \"\"\n",
    "    n_failed = 0\n",
    "    for check, (condi, err) in enumerate(condi_err):\n",
    "        if not condi:\n",
    "            n_failed += 1\n",
    "            failed += f\"\\nFailed check [{check+1}]:\\n\\t Tip: {err}\"\n",
    "\n",
    "    if len(failed) != 0:\n",
    "        passed = len(condi_err) - n_failed\n",
    "        err = failed_err.format(passed, len(condi_err), failed)\n",
    "        raise AssertionError(err.format(failed))\n",
    "    print(\"Your code PASSED the code check!\")"
   ]
  },
  {
   "cell_type": "markdown",
   "id": "806fd51f",
   "metadata": {
    "id": "806fd51f"
   },
   "source": [
    "# Problem statement summary and data loading\n",
    "\n",
    "![](https://fee.org/media/38322/forest-fire-3782544_1280.jpg?anchor=center&mode=crop&height=656&widthratio=2.1341463414634146341463414634&rnd=132451547710000000)\n",
    "\n",
    "### Problem statement summary\n",
    "\n",
    "Recall that our goal here is to help prevent and make firefighting easier by identifying \"high risk\" areas by predicting how much area of a forest could burn when a fire occurs. We are attempting to achieve this by using supervised learning where our labels corresponds to the amount of forest area (in hectares) that has burned in the past."
   ]
  },
  {
   "cell_type": "markdown",
   "id": "b969dac8",
   "metadata": {
    "id": "b969dac8"
   },
   "source": [
    "### Data loading\n",
    "\n",
    "To begin, let's fetch the Forest Fire dataset. If you don't have it then download it using the following link: https://archive.ics.uci.edu/ml/datasets/Forest+Fires. When you arrive at the UCI webite click the \"Data Folder\" button near the top right to download the dataset. Once clicked, download the following file: `forestfires.csv`.\n",
    "\n",
    "Be sure to move the `forestfires.csv` file to the **SAME** directory/folder that this Jupyter Notebook is in (i.e., the current path of the notebook). We need to do this so that when we go to load the data we can easily path to the files! Run the below code to check which will print your notebook's current path and which directory the notebook is in!"
   ]
  },
  {
   "cell_type": "code",
   "execution_count": 3,
   "id": "2ed8c23c",
   "metadata": {
    "id": "2ed8c23c",
    "outputId": "be87c657-84e9-4c7a-e56d-e9952a2ce2bb"
   },
   "outputs": [
    {
     "name": "stdout",
     "output_type": "stream",
     "text": [
      "The current path for your notebook is:\n",
      " /Users/shardul/Documents/Intro to ML\n",
      "\n",
      "Your notebook is currently in the following directory:\n",
      " Intro to ML\n"
     ]
    }
   ],
   "source": [
    "print(f\"The current path for your notebook is:\\n {os.getcwd()}\\n\")\n",
    "print(f\"Your notebook is currently in the following directory:\\n {os.path.basename(os.getcwd())}\")"
   ]
  },
  {
   "cell_type": "markdown",
   "id": "b30179ca",
   "metadata": {
    "id": "b30179ca"
   },
   "source": [
    "#### TODO 1\n",
    "Complete the TODO by loading the `forestfires.csv`.\n",
    "\n",
    "1. Load Forest Fires dataset using the Pandas. Store the output into the `forestfire_df` variable."
   ]
  },
  {
   "cell_type": "code",
   "execution_count": 5,
   "id": "0f0b1167",
   "metadata": {
    "id": "0f0b1167",
    "outputId": "2eeee1fc-2aa2-4dc8-f373-44e380ae07d6"
   },
   "outputs": [
    {
     "data": {
      "text/html": [
       "<div>\n",
       "<style scoped>\n",
       "    .dataframe tbody tr th:only-of-type {\n",
       "        vertical-align: middle;\n",
       "    }\n",
       "\n",
       "    .dataframe tbody tr th {\n",
       "        vertical-align: top;\n",
       "    }\n",
       "\n",
       "    .dataframe thead th {\n",
       "        text-align: right;\n",
       "    }\n",
       "</style>\n",
       "<table border=\"1\" class=\"dataframe\">\n",
       "  <thead>\n",
       "    <tr style=\"text-align: right;\">\n",
       "      <th></th>\n",
       "      <th>X</th>\n",
       "      <th>Y</th>\n",
       "      <th>month</th>\n",
       "      <th>day</th>\n",
       "      <th>FFMC</th>\n",
       "      <th>DMC</th>\n",
       "      <th>DC</th>\n",
       "      <th>ISI</th>\n",
       "      <th>temp</th>\n",
       "      <th>RH</th>\n",
       "      <th>wind</th>\n",
       "      <th>rain</th>\n",
       "      <th>area</th>\n",
       "    </tr>\n",
       "  </thead>\n",
       "  <tbody>\n",
       "    <tr>\n",
       "      <th>0</th>\n",
       "      <td>7</td>\n",
       "      <td>5</td>\n",
       "      <td>mar</td>\n",
       "      <td>fri</td>\n",
       "      <td>86.2</td>\n",
       "      <td>26.2</td>\n",
       "      <td>94.3</td>\n",
       "      <td>5.1</td>\n",
       "      <td>8.2</td>\n",
       "      <td>51</td>\n",
       "      <td>6.7</td>\n",
       "      <td>0.0</td>\n",
       "      <td>0.00</td>\n",
       "    </tr>\n",
       "    <tr>\n",
       "      <th>1</th>\n",
       "      <td>7</td>\n",
       "      <td>4</td>\n",
       "      <td>oct</td>\n",
       "      <td>tue</td>\n",
       "      <td>90.6</td>\n",
       "      <td>35.4</td>\n",
       "      <td>669.1</td>\n",
       "      <td>6.7</td>\n",
       "      <td>18.0</td>\n",
       "      <td>33</td>\n",
       "      <td>0.9</td>\n",
       "      <td>0.0</td>\n",
       "      <td>0.00</td>\n",
       "    </tr>\n",
       "    <tr>\n",
       "      <th>2</th>\n",
       "      <td>7</td>\n",
       "      <td>4</td>\n",
       "      <td>oct</td>\n",
       "      <td>sat</td>\n",
       "      <td>90.6</td>\n",
       "      <td>43.7</td>\n",
       "      <td>686.9</td>\n",
       "      <td>6.7</td>\n",
       "      <td>14.6</td>\n",
       "      <td>33</td>\n",
       "      <td>1.3</td>\n",
       "      <td>0.0</td>\n",
       "      <td>0.00</td>\n",
       "    </tr>\n",
       "    <tr>\n",
       "      <th>3</th>\n",
       "      <td>8</td>\n",
       "      <td>6</td>\n",
       "      <td>mar</td>\n",
       "      <td>fri</td>\n",
       "      <td>91.7</td>\n",
       "      <td>33.3</td>\n",
       "      <td>77.5</td>\n",
       "      <td>9.0</td>\n",
       "      <td>8.3</td>\n",
       "      <td>97</td>\n",
       "      <td>4.0</td>\n",
       "      <td>0.2</td>\n",
       "      <td>0.00</td>\n",
       "    </tr>\n",
       "    <tr>\n",
       "      <th>4</th>\n",
       "      <td>8</td>\n",
       "      <td>6</td>\n",
       "      <td>mar</td>\n",
       "      <td>sun</td>\n",
       "      <td>89.3</td>\n",
       "      <td>51.3</td>\n",
       "      <td>102.2</td>\n",
       "      <td>9.6</td>\n",
       "      <td>11.4</td>\n",
       "      <td>99</td>\n",
       "      <td>1.8</td>\n",
       "      <td>0.0</td>\n",
       "      <td>0.00</td>\n",
       "    </tr>\n",
       "    <tr>\n",
       "      <th>...</th>\n",
       "      <td>...</td>\n",
       "      <td>...</td>\n",
       "      <td>...</td>\n",
       "      <td>...</td>\n",
       "      <td>...</td>\n",
       "      <td>...</td>\n",
       "      <td>...</td>\n",
       "      <td>...</td>\n",
       "      <td>...</td>\n",
       "      <td>...</td>\n",
       "      <td>...</td>\n",
       "      <td>...</td>\n",
       "      <td>...</td>\n",
       "    </tr>\n",
       "    <tr>\n",
       "      <th>512</th>\n",
       "      <td>4</td>\n",
       "      <td>3</td>\n",
       "      <td>aug</td>\n",
       "      <td>sun</td>\n",
       "      <td>81.6</td>\n",
       "      <td>56.7</td>\n",
       "      <td>665.6</td>\n",
       "      <td>1.9</td>\n",
       "      <td>27.8</td>\n",
       "      <td>32</td>\n",
       "      <td>2.7</td>\n",
       "      <td>0.0</td>\n",
       "      <td>6.44</td>\n",
       "    </tr>\n",
       "    <tr>\n",
       "      <th>513</th>\n",
       "      <td>2</td>\n",
       "      <td>4</td>\n",
       "      <td>aug</td>\n",
       "      <td>sun</td>\n",
       "      <td>81.6</td>\n",
       "      <td>56.7</td>\n",
       "      <td>665.6</td>\n",
       "      <td>1.9</td>\n",
       "      <td>21.9</td>\n",
       "      <td>71</td>\n",
       "      <td>5.8</td>\n",
       "      <td>0.0</td>\n",
       "      <td>54.29</td>\n",
       "    </tr>\n",
       "    <tr>\n",
       "      <th>514</th>\n",
       "      <td>7</td>\n",
       "      <td>4</td>\n",
       "      <td>aug</td>\n",
       "      <td>sun</td>\n",
       "      <td>81.6</td>\n",
       "      <td>56.7</td>\n",
       "      <td>665.6</td>\n",
       "      <td>1.9</td>\n",
       "      <td>21.2</td>\n",
       "      <td>70</td>\n",
       "      <td>6.7</td>\n",
       "      <td>0.0</td>\n",
       "      <td>11.16</td>\n",
       "    </tr>\n",
       "    <tr>\n",
       "      <th>515</th>\n",
       "      <td>1</td>\n",
       "      <td>4</td>\n",
       "      <td>aug</td>\n",
       "      <td>sat</td>\n",
       "      <td>94.4</td>\n",
       "      <td>146.0</td>\n",
       "      <td>614.7</td>\n",
       "      <td>11.3</td>\n",
       "      <td>25.6</td>\n",
       "      <td>42</td>\n",
       "      <td>4.0</td>\n",
       "      <td>0.0</td>\n",
       "      <td>0.00</td>\n",
       "    </tr>\n",
       "    <tr>\n",
       "      <th>516</th>\n",
       "      <td>6</td>\n",
       "      <td>3</td>\n",
       "      <td>nov</td>\n",
       "      <td>tue</td>\n",
       "      <td>79.5</td>\n",
       "      <td>3.0</td>\n",
       "      <td>106.7</td>\n",
       "      <td>1.1</td>\n",
       "      <td>11.8</td>\n",
       "      <td>31</td>\n",
       "      <td>4.5</td>\n",
       "      <td>0.0</td>\n",
       "      <td>0.00</td>\n",
       "    </tr>\n",
       "  </tbody>\n",
       "</table>\n",
       "<p>517 rows × 13 columns</p>\n",
       "</div>"
      ],
      "text/plain": [
       "     X  Y month  day  FFMC    DMC     DC   ISI  temp  RH  wind  rain   area\n",
       "0    7  5   mar  fri  86.2   26.2   94.3   5.1   8.2  51   6.7   0.0   0.00\n",
       "1    7  4   oct  tue  90.6   35.4  669.1   6.7  18.0  33   0.9   0.0   0.00\n",
       "2    7  4   oct  sat  90.6   43.7  686.9   6.7  14.6  33   1.3   0.0   0.00\n",
       "3    8  6   mar  fri  91.7   33.3   77.5   9.0   8.3  97   4.0   0.2   0.00\n",
       "4    8  6   mar  sun  89.3   51.3  102.2   9.6  11.4  99   1.8   0.0   0.00\n",
       "..  .. ..   ...  ...   ...    ...    ...   ...   ...  ..   ...   ...    ...\n",
       "512  4  3   aug  sun  81.6   56.7  665.6   1.9  27.8  32   2.7   0.0   6.44\n",
       "513  2  4   aug  sun  81.6   56.7  665.6   1.9  21.9  71   5.8   0.0  54.29\n",
       "514  7  4   aug  sun  81.6   56.7  665.6   1.9  21.2  70   6.7   0.0  11.16\n",
       "515  1  4   aug  sat  94.4  146.0  614.7  11.3  25.6  42   4.0   0.0   0.00\n",
       "516  6  3   nov  tue  79.5    3.0  106.7   1.1  11.8  31   4.5   0.0   0.00\n",
       "\n",
       "[517 rows x 13 columns]"
      ]
     },
     "execution_count": 5,
     "metadata": {},
     "output_type": "execute_result"
    }
   ],
   "source": [
    "# This line checks to make sure the forestfire.csv is in the \n",
    "# same directory as this notebook.\n",
    "if not os.path.exists(\"forestfires.csv\"):\n",
    "    warnings.warn(f\"The forestfires.csv is not detected in your local path! \" \\\n",
    "                    f\"You need to move the 'forestfires.csv' file to the same \" \\\n",
    "                    f\"location/directory as this notebook which is {os.getcwd()}\")   \n",
    "# TODO 1.1\n",
    "forestfire_df = pd.read_csv(\"forestfires.csv\")\n",
    "forestfire_df"
   ]
  },
  {
   "cell_type": "markdown",
   "id": "3e1c7831",
   "metadata": {
    "id": "3e1c7831"
   },
   "source": [
    "# Visualization and exploration\n",
    "\n",
    "Now, we have already done most of the visualization and data exploration in prior labs. However, let's start by reviewing some of the ideas we learned while exploring the data."
   ]
  },
  {
   "cell_type": "markdown",
   "id": "db24bef1",
   "metadata": {
    "id": "db24bef1"
   },
   "source": [
    "## Observing linear and non-linear trends\n",
    "\n",
    "First, let's review how each one of our features correlates with our target 'area'. Recall, we have take the log of our target 'area' in order to spread out the skewed distribution towards being more normal. Below, is the code from previous labs for plotting our target 'area' against every input feature. \n",
    "\n",
    "Once again, take note that none of our features, when compared 1-1 with our target, seem to show a linear or non-linear trend."
   ]
  },
  {
   "cell_type": "code",
   "execution_count": 6,
   "id": "29f636a8",
   "metadata": {
    "id": "29f636a8",
    "outputId": "78f2d06f-4b04-4e18-dba5-24c445e1c660"
   },
   "outputs": [
    {
     "data": {
      "image/png": "[encoded data removed]",
      "text/plain": [
       "<Figure size 1080x936 with 12 Axes>"
      ]
     },
     "metadata": {
      "needs_background": "light"
     },
     "output_type": "display_data"
    }
   ],
   "source": [
    "log_area_values = np.log1p(forestfire_df['area'])\n",
    "features = forestfire_df.drop('area', axis=1)\n",
    "\n",
    "fig, _ = plt.subplots(figsize=(15, 13))\n",
    "\n",
    "# column_name holds the current column name\n",
    "# idx holds the current column index\n",
    "# You can use either to index features to get the current feature\n",
    "for idx, column_name in enumerate(features.columns.values):\n",
    "    plt.subplot(3, 4, idx+1)\n",
    "    plt.plot(features[column_name], log_area_values, '.')\n",
    "    plt.ylabel('Area')\n",
    "    plt.xlabel(column_name)\n",
    "fig.tight_layout()\n",
    "plt.show()"
   ]
  },
  {
   "cell_type": "markdown",
   "id": "e66511b6",
   "metadata": {
    "id": "e66511b6"
   },
   "source": [
    "# Data Preparation Pipeline\n",
    "\n",
    "Now it's time to recreate our data preparation pipelines we used in prior weeks. In this lab we will, once again, apply all our data cleaning and transformation operations AFTER splitting the data since the data is technically partly split already. "
   ]
  },
  {
   "cell_type": "markdown",
   "id": "e07136df",
   "metadata": {
    "id": "e07136df"
   },
   "source": [
    "## Dropping outliers\n",
    "Recall, before we do anything, we need to remove any extreme outliers that might distort the performance of our model. Below we define a function for you for dropping outliers that we used in prior labs."
   ]
  },
  {
   "cell_type": "code",
   "execution_count": 7,
   "id": "59da3fbe",
   "metadata": {
    "id": "59da3fbe"
   },
   "outputs": [],
   "source": [
    "from scipy.stats import zscore\n",
    "\n",
    "def outlier_locations(z, threshold):\n",
    "    abs_z = np.abs(z)\n",
    "    outlier_locs = np.where(abs_z > threshold)\n",
    "    return outlier_locs[0]\n",
    "\n",
    "def drop_outliers(df, threshold, verbose=False):\n",
    "    numerical_cols_df = df.drop(['day', 'month', 'area'], axis=1)\n",
    "    # Get z-scores\n",
    "    z = numerical_cols_df.apply(zscore)\n",
    "\n",
    "    # Find outlier locations\n",
    "    outlier_locs = outlier_locations(z, threshold=threshold)\n",
    "    \n",
    "    # Drop samples\n",
    "    new_df = df.drop(outlier_locs, axis=0)\n",
    "    \n",
    "    if verbose:\n",
    "        print(\"Dropping...\")\n",
    "        print(f\"forestfire_df BEFORE dropping: {forestfire_df.shape}\")\n",
    "        print(f\"forestfire_df AFTER dropping: {new_df.shape}\")\n",
    "        display(df.iloc[outlier_locs])\n",
    "\n",
    "    return new_df"
   ]
  },
  {
   "cell_type": "markdown",
   "id": "aaf8b570",
   "metadata": {
    "id": "aaf8b570"
   },
   "source": [
    "Below, the `TEST_drop_outliers()` function provides example code for running the `drop_outliers()` function. Notice, using a threshold of 5 removes any data sample whose feature values are greater than 5 standard deviations above or below the feature mean."
   ]
  },
  {
   "cell_type": "code",
   "execution_count": 8,
   "id": "08bc262a",
   "metadata": {
    "id": "08bc262a",
    "outputId": "fc275604-7ed3-4a2c-cdb5-7da532b49d78"
   },
   "outputs": [
    {
     "name": "stdout",
     "output_type": "stream",
     "text": [
      "Dropping...\n",
      "forestfire_df BEFORE dropping: (517, 13)\n",
      "forestfire_df AFTER dropping: (512, 13)\n"
     ]
    },
    {
     "data": {
      "text/html": [
       "<div>\n",
       "<style scoped>\n",
       "    .dataframe tbody tr th:only-of-type {\n",
       "        vertical-align: middle;\n",
       "    }\n",
       "\n",
       "    .dataframe tbody tr th {\n",
       "        vertical-align: top;\n",
       "    }\n",
       "\n",
       "    .dataframe thead th {\n",
       "        text-align: right;\n",
       "    }\n",
       "</style>\n",
       "<table border=\"1\" class=\"dataframe\">\n",
       "  <thead>\n",
       "    <tr style=\"text-align: right;\">\n",
       "      <th></th>\n",
       "      <th>X</th>\n",
       "      <th>Y</th>\n",
       "      <th>month</th>\n",
       "      <th>day</th>\n",
       "      <th>FFMC</th>\n",
       "      <th>DMC</th>\n",
       "      <th>DC</th>\n",
       "      <th>ISI</th>\n",
       "      <th>temp</th>\n",
       "      <th>RH</th>\n",
       "      <th>wind</th>\n",
       "      <th>rain</th>\n",
       "      <th>area</th>\n",
       "    </tr>\n",
       "  </thead>\n",
       "  <tbody>\n",
       "    <tr>\n",
       "      <th>22</th>\n",
       "      <td>7</td>\n",
       "      <td>4</td>\n",
       "      <td>jun</td>\n",
       "      <td>sun</td>\n",
       "      <td>94.3</td>\n",
       "      <td>96.3</td>\n",
       "      <td>200.0</td>\n",
       "      <td>56.1</td>\n",
       "      <td>21.0</td>\n",
       "      <td>44</td>\n",
       "      <td>4.5</td>\n",
       "      <td>0.0</td>\n",
       "      <td>0.00</td>\n",
       "    </tr>\n",
       "    <tr>\n",
       "      <th>299</th>\n",
       "      <td>6</td>\n",
       "      <td>5</td>\n",
       "      <td>jun</td>\n",
       "      <td>sat</td>\n",
       "      <td>53.4</td>\n",
       "      <td>71.0</td>\n",
       "      <td>233.8</td>\n",
       "      <td>0.4</td>\n",
       "      <td>10.6</td>\n",
       "      <td>90</td>\n",
       "      <td>2.7</td>\n",
       "      <td>0.0</td>\n",
       "      <td>0.00</td>\n",
       "    </tr>\n",
       "    <tr>\n",
       "      <th>312</th>\n",
       "      <td>2</td>\n",
       "      <td>4</td>\n",
       "      <td>sep</td>\n",
       "      <td>sun</td>\n",
       "      <td>50.4</td>\n",
       "      <td>46.2</td>\n",
       "      <td>706.6</td>\n",
       "      <td>0.4</td>\n",
       "      <td>12.2</td>\n",
       "      <td>78</td>\n",
       "      <td>6.3</td>\n",
       "      <td>0.0</td>\n",
       "      <td>0.00</td>\n",
       "    </tr>\n",
       "    <tr>\n",
       "      <th>379</th>\n",
       "      <td>4</td>\n",
       "      <td>5</td>\n",
       "      <td>jan</td>\n",
       "      <td>sun</td>\n",
       "      <td>18.7</td>\n",
       "      <td>1.1</td>\n",
       "      <td>171.4</td>\n",
       "      <td>0.0</td>\n",
       "      <td>5.2</td>\n",
       "      <td>100</td>\n",
       "      <td>0.9</td>\n",
       "      <td>0.0</td>\n",
       "      <td>0.00</td>\n",
       "    </tr>\n",
       "    <tr>\n",
       "      <th>499</th>\n",
       "      <td>7</td>\n",
       "      <td>5</td>\n",
       "      <td>aug</td>\n",
       "      <td>tue</td>\n",
       "      <td>96.1</td>\n",
       "      <td>181.1</td>\n",
       "      <td>671.2</td>\n",
       "      <td>14.3</td>\n",
       "      <td>27.3</td>\n",
       "      <td>63</td>\n",
       "      <td>4.9</td>\n",
       "      <td>6.4</td>\n",
       "      <td>10.82</td>\n",
       "    </tr>\n",
       "  </tbody>\n",
       "</table>\n",
       "</div>"
      ],
      "text/plain": [
       "     X  Y month  day  FFMC    DMC     DC   ISI  temp   RH  wind  rain   area\n",
       "22   7  4   jun  sun  94.3   96.3  200.0  56.1  21.0   44   4.5   0.0   0.00\n",
       "299  6  5   jun  sat  53.4   71.0  233.8   0.4  10.6   90   2.7   0.0   0.00\n",
       "312  2  4   sep  sun  50.4   46.2  706.6   0.4  12.2   78   6.3   0.0   0.00\n",
       "379  4  5   jan  sun  18.7    1.1  171.4   0.0   5.2  100   0.9   0.0   0.00\n",
       "499  7  5   aug  tue  96.1  181.1  671.2  14.3  27.3   63   4.9   6.4  10.82"
      ]
     },
     "metadata": {},
     "output_type": "display_data"
    }
   ],
   "source": [
    "def TEST_drop_outliers():\n",
    "\n",
    "    dropped_forestfire_df = drop_outliers(\n",
    "        forestfire_df, \n",
    "        threshold=5, \n",
    "        verbose=True\n",
    "    )\n",
    "    \n",
    "TEST_drop_outliers()\n",
    "garbage_collect(['TEST_drop_outliers'])    "
   ]
  },
  {
   "cell_type": "markdown",
   "id": "d3ec5e39",
   "metadata": {
    "id": "d3ec5e39"
   },
   "source": [
    "## Splitting data\n",
    "\n",
    "Now onto splitting! Below we redefine the splitting functions `feature_label_split()` and `train_valid_test_split()` which we have seen in prior labs."
   ]
  },
  {
   "cell_type": "code",
   "execution_count": 9,
   "id": "218e7c62",
   "metadata": {
    "id": "218e7c62"
   },
   "outputs": [],
   "source": [
    "def feature_label_split(df: pd.DataFrame, \n",
    "                        label_name: str) -> Tuple[pd.DataFrame]:\n",
    "    \"\"\" Split dataframe into features and labels\n",
    "    \n",
    "        Args:\n",
    "            df: DataFrame containing both features and labels\n",
    "            \n",
    "            label_name: Name of the column which contains the labels\n",
    "    \"\"\"\n",
    "    \n",
    "    X = df.drop(label_name, axis=1)\n",
    "    y = df[[label_name]].copy()\n",
    "    \n",
    "    return X, y"
   ]
  },
  {
   "cell_type": "markdown",
   "id": "89826f3e",
   "metadata": {
    "id": "89826f3e"
   },
   "source": [
    "Below, within the `TEST_feature_label_split()` function is an example of how to call the `feature_label_split()` function."
   ]
  },
  {
   "cell_type": "code",
   "execution_count": 10,
   "id": "d62ab902",
   "metadata": {
    "id": "d62ab902",
    "outputId": "eb441926-676a-465e-a646-7092b195facc"
   },
   "outputs": [
    {
     "name": "stdout",
     "output_type": "stream",
     "text": [
      "X shape: (512, 12)\n",
      "y shape: (512, 1)\n"
     ]
    }
   ],
   "source": [
    "def TEST_feature_label_split():\n",
    "    # Drop outliers\n",
    "    dropped_forestfire_df = drop_outliers(forestfire_df, threshold=5)\n",
    "    # Apply feature and label splitting\n",
    "    X, y = feature_label_split(dropped_forestfire_df, label_name='area')\n",
    "\n",
    "    print(f\"X shape: {X.shape}\")\n",
    "    print(f\"y shape: {y.shape}\")\n",
    "    \n",
    "TEST_feature_label_split()\n",
    "garbage_collect(['TEST_feature_label_split'])"
   ]
  },
  {
   "cell_type": "code",
   "execution_count": 11,
   "id": "928e484c",
   "metadata": {
    "id": "928e484c"
   },
   "outputs": [],
   "source": [
    "from sklearn.model_selection import train_test_split\n",
    "\n",
    "def train_valid_test_split(\n",
    "    X: pd.DataFrame, \n",
    "    y: pd.DataFrame, \n",
    "    seed: int = 42\n",
    ") -> Tuple[pd.DataFrame]:\n",
    "    \"\"\" Split data into trining, validation, and test sets\n",
    "        \n",
    "        Args:\n",
    "            X: Features typically given as a Panda's DataFrame\n",
    "            \n",
    "            y: Targets/labels typically given as a Panda's DataFrame\n",
    "            \n",
    "            seed: Seed to create reproducible validation and testing splits\n",
    "    \"\"\"\n",
    "    X_trn, X_tst, y_trn, y_tst = train_test_split(X, y, test_size=.2, random_state=seed)\n",
    "    X_trn, X_vld, y_trn, y_vld = train_test_split(X_trn, y_trn, test_size=.2, random_state=seed)\n",
    "    \n",
    "    return X_trn, y_trn, X_vld, y_vld, X_tst, y_tst"
   ]
  },
  {
   "cell_type": "markdown",
   "id": "02dcfdb3",
   "metadata": {
    "id": "02dcfdb3"
   },
   "source": [
    "Below, within the `TEST_train_valid_test_split()` function is an example of how to call the `train_valid_test_split()` function."
   ]
  },
  {
   "cell_type": "code",
   "execution_count": 12,
   "id": "39025fc8",
   "metadata": {
    "id": "39025fc8",
    "outputId": "f59770a8-51bd-462e-f094-d4a17b11596a"
   },
   "outputs": [
    {
     "name": "stdout",
     "output_type": "stream",
     "text": [
      "X_trn shape: (327, 12)\n",
      "y_trn shape: (327, 1)\n",
      "X_vld shape: (82, 12)\n",
      "y_vld shape: (82, 1)\n",
      "X_tst shape: (103, 12)\n",
      "y_tst shape: (103, 1)\n"
     ]
    }
   ],
   "source": [
    "def TEST_train_valid_test_split():\n",
    "    \n",
    "    # Drop outliers\n",
    "    dropped_forestfire_df = drop_outliers(forestfire_df, threshold=5)\n",
    "    # Apply feature and label splitting\n",
    "    X, y = feature_label_split(dropped_forestfire_df, label_name='area')\n",
    "    # Apply train, validation and test set splitting\n",
    "    X_trn, y_trn, X_vld, y_vld, X_tst, y_tst = train_valid_test_split(X, y)\n",
    "\n",
    "    print(f\"X_trn shape: {X_trn.shape}\")\n",
    "    print(f\"y_trn shape: {y_trn.shape}\")\n",
    "    print(f\"X_vld shape: {X_vld.shape}\")\n",
    "    print(f\"y_vld shape: {y_vld.shape}\")\n",
    "    print(f\"X_tst shape: {X_tst.shape}\")\n",
    "    print(f\"y_tst shape: {y_tst.shape}\")\n",
    "\n",
    "TEST_train_valid_test_split()\n",
    "garbage_collect(['TEST_train_valid_test_split'])"
   ]
  },
  {
   "cell_type": "markdown",
   "id": "6fffc2c2",
   "metadata": {
    "id": "6fffc2c2"
   },
   "source": [
    "## Transforming and cleaning data\n",
    "\n",
    "This module's data cleaning will contain nothing new. As we are working with the Forest Fire dataset we'll apply the `LogTransformer`class to the targets while applying `OneHotEncoding` and `Standardization` classes to the features. Keep in mind, we'll also be using Sklearn's `ColumnTransformer` and our own `DataFrameColumnTransformer` which applies Sklearn's `ColumnTransformer`  but returns the output as a DataFrame.\n",
    "\n",
    "If you get lost be sure to reference the regression labs from early in the semester for help!"
   ]
  },
  {
   "cell_type": "code",
   "execution_count": 13,
   "id": "771985a8",
   "metadata": {
    "id": "771985a8"
   },
   "outputs": [],
   "source": [
    "from sklearn.base import BaseEstimator, TransformerMixin\n",
    "from sklearn.pipeline import Pipeline\n",
    "from sklearn.compose import ColumnTransformer"
   ]
  },
  {
   "cell_type": "markdown",
   "id": "6c2d51fe",
   "metadata": {
    "id": "6c2d51fe"
   },
   "source": [
    "### DataFrameColumnTransformer\n",
    "\n",
    "Below we redefine our `DataFrameColumnTransformer` which we'll need when conducting feature preprocessing. Remember, this class acts just like Sklearn's `ColumnTransformer` which will only apply certain preprocessing steps to certain columns in our DataFrame. The difference is that the output of our `DataFrameColumnTransformer` will be DataFrame and not a NumPy array."
   ]
  },
  {
   "cell_type": "code",
   "execution_count": 14,
   "id": "4dbebedc",
   "metadata": {
    "id": "4dbebedc"
   },
   "outputs": [],
   "source": [
    "class DataFrameColumnTransformer(TransformerMixin):\n",
    "    def __init__(self, stages: List[Tuple]):\n",
    "        self.col_trans = ColumnTransformer(stages, remainder='passthrough')\n",
    "    \n",
    "    def fit(self, X: pd.DataFrame):\n",
    "        \"\"\" Runs our ColumnTransformer.fit() method \"\"\"\n",
    "        self.col_trans.fit(X)\n",
    "        return self\n",
    "    \n",
    "    def transform(self, X: pd.DataFrame) -> pd.DataFrame:\n",
    "        \"\"\" Runs our ColumnTransformer.transform() method \"\"\"\n",
    "        output_arr = self.col_trans.transform(X)\n",
    "        \n",
    "        return self.to_dataframe(output_arr)\n",
    "    \n",
    "    def to_dataframe(self, arr: np.ndarray) -> pd.DataFrame:\n",
    "        \"\"\"Converts our output of ColumnTransformer into a DataFrame\"\"\"\n",
    "        feature_names = self.col_trans.get_feature_names_out()\n",
    "        \n",
    "        # Remove the \"__\" that ColumnTransformer adds to our feature names\n",
    "        # when we call self.col_trans.get_feature_names_out()\n",
    "        for i, name in enumerate(feature_names):\n",
    "            if '__' in name:\n",
    "                feature_names[i] = name.split('__', 1)[-1]\n",
    "        \n",
    "        # Creates a Pandas Dataframe\n",
    "        df = pd.DataFrame(arr, columns=feature_names)\n",
    "        return df"
   ]
  },
  {
   "cell_type": "markdown",
   "id": "22a1a73e",
   "metadata": {
    "id": "22a1a73e"
   },
   "source": [
    "### Target cleaning\n",
    "\n",
    "The only preprocessing steps for our targets will be to apply the log transform using the `LogTransformer` class. Recall that we do this in an attempt to make the target values less of a skewed distribution by using the log transform to help spread out the values."
   ]
  },
  {
   "cell_type": "code",
   "execution_count": 15,
   "id": "7352dc2c",
   "metadata": {
    "id": "7352dc2c"
   },
   "outputs": [],
   "source": [
    "class LogTransformer(BaseEstimator, TransformerMixin): \n",
    "    def __init__(self):\n",
    "        self.feature_names = None\n",
    "    \n",
    "    def fit(self, y: pd.DataFrame):\n",
    "        \n",
    "        # We don't need to set/learn any variables so\n",
    "        # we just need to return a reference to the object with 'self'\n",
    "        # If we dont return self the Pipeline class will throw errors\n",
    "        return self\n",
    "    \n",
    "    def transform(self, y: pd.DataFrame) -> pd.DataFrame:\n",
    "        self.feature_names = y.columns\n",
    "        \n",
    "        return np.log1p(y)\n",
    "    \n",
    "    def get_feature_names_out(self, name=None) -> pd.Series:\n",
    "        return self.feature_names"
   ]
  },
  {
   "cell_type": "markdown",
   "id": "60ad1c44",
   "metadata": {
    "id": "60ad1c44"
   },
   "source": [
    "#### TODO 2\n",
    "\n",
    "Complete the TODO by coding the `target_pipeline()` function.\n",
    "\n",
    "1. Complete the `target_pipeline()` function as follows: \n",
    "    1. Define an instance of Sklearn's `Pipeline` class which applies the `LogTransformer` class. \n",
    "\n",
    "    2. Fit and transform the training labels `y_trn`.\n",
    "\n",
    "    3. Transform the validation labels `y_vld`. \n",
    "\n",
    "    4. Transform the test labels `y_tst`.\n",
    "\n",
    "    5.  Return the cleaned output for training, validation, and testing labels. The order of returned values should be training, validation, and then testing.\n"
   ]
  },
  {
   "cell_type": "code",
   "execution_count": 16,
   "id": "b6fd0dec",
   "metadata": {
    "id": "b6fd0dec"
   },
   "outputs": [],
   "source": [
    "# TODO 2.1\n",
    "def target_pipeline(y_trn, y_vld, y_tst):\n",
    "    \"\"\" Creates Pipeline to apply data cleaning and transformations \n",
    "        to the targets/labels.\n",
    "        \n",
    "        Args:\n",
    "            y_trn: train labels\n",
    "            \n",
    "            y_vld: validation labels\n",
    "            \n",
    "            y_tst: test labels\n",
    "    \"\"\"\n",
    "    pipeline = Pipeline(steps = [('log_transformer', LogTransformer())])\n",
    "    y_trn_clean = pipeline.fit_transform(y_trn)\n",
    "    y_vld_clean = pipeline.transform(y_vld)\n",
    "    y_tst_clean = pipeline.transform(y_tst)\n",
    "    return y_trn_clean, y_vld_clean, y_tst_clean\n"
   ]
  },
  {
   "cell_type": "markdown",
   "id": "88bb25e4",
   "metadata": {
    "id": "88bb25e4"
   },
   "source": [
    "Run the below `TEST_target_pipeline()` function to test your implementation of the `target_pipeline()` function."
   ]
  },
  {
   "cell_type": "code",
   "execution_count": 17,
   "id": "b59d03d2",
   "metadata": {
    "id": "b59d03d2",
    "outputId": "9174c36a-7de5-4077-a767-8f9f47a7c3c1"
   },
   "outputs": [
    {
     "name": "stdout",
     "output_type": "stream",
     "text": [
      "y_trn shape: (327, 1)\n",
      "y_trn type: <class 'pandas.core.frame.DataFrame'>\n",
      "y_vld shape: (82, 1)\n",
      "y_vld type: <class 'pandas.core.frame.DataFrame'>\n",
      "y_tst shape: (103, 1)\n",
      "y_tst type: <class 'pandas.core.frame.DataFrame'>\n",
      "Your code PASSED the code check!\n"
     ]
    }
   ],
   "source": [
    "def TEST_target_pipeline():\n",
    "    # Drop outliers\n",
    "    dropped_forestfire_df = drop_outliers(forestfire_df, threshold=5)\n",
    "    # Apply feature and label splitting\n",
    "    X, y = feature_label_split(dropped_forestfire_df, label_name='area')\n",
    "    # Apply train, validation and test set splitting\n",
    "    X_trn, y_trn, X_vld, y_vld, X_tst, y_tst = train_valid_test_split(X, y)\n",
    "    # Apply  data cleaning and transformations\n",
    "    y_trn, y_vld, y_tst = target_pipeline(y_trn, y_vld, y_tst)\n",
    "\n",
    "    print(f\"y_trn shape: {y_trn.shape}\")\n",
    "    print(f\"y_trn type: {type(y_trn)}\")\n",
    "    print(f\"y_vld shape: {y_vld.shape}\")\n",
    "    print(f\"y_vld type: {type(y_vld)}\")\n",
    "    print(f\"y_tst shape: {y_tst.shape}\")\n",
    "    print(f\"y_tst type: {type(y_tst)}\")\n",
    "\n",
    "    todo_check([\n",
    "        (np.all(np.isclose(y_trn.iloc[:3].values.reshape(-1,), [0, 1.854734, 2.833213], rtol=.01)),'y_trn possibly contains incorrect values'),\n",
    "        (np.all(np.isclose(y_vld.iloc[:3].values.reshape(-1,), [0, 2.489894, 1.435085], rtol=.01)), 'y_vld possibly contains incorrect values'),\n",
    "        (np.all(np.isclose(y_tst.iloc[:3].values.reshape(-1,), [0.343590, 0, 0], rtol=.01)), 'y_tst possibly contains incorrect values')\n",
    "    ])\n",
    "\n",
    "TEST_target_pipeline()\n",
    "garbage_collect(['TEST_target_pipeline'])"
   ]
  },
  {
   "cell_type": "markdown",
   "id": "ea71ceb7",
   "metadata": {
    "id": "ea71ceb7"
   },
   "source": [
    "### Feature cleaning\n",
    "\n",
    "The only feature cleaning classes we'll need is our `OneHotEncoding` and `Standardization` classes which we redefine for you below. \n",
    "\n",
    "**Notice we have NO `AddBias` class!** Although the bias term is still required, for neural networks we'll treat the bias as a separate term which we can optimize for directly for the sake of clarity. This means we don't need to add a column of 1s to our data as, once again, the bias will be treated separately from the weights!"
   ]
  },
  {
   "cell_type": "code",
   "execution_count": 18,
   "id": "de7c3ee0",
   "metadata": {
    "id": "de7c3ee0"
   },
   "outputs": [],
   "source": [
    "from sklearn.preprocessing import OneHotEncoder\n",
    "\n",
    "class OneHotEncoding(BaseEstimator, TransformerMixin):\n",
    "    def __init__(self, feature_names='auto'):\n",
    "        self.feature_names = feature_names\n",
    "        self.encoder = OneHotEncoder(categories=feature_names, sparse=False)\n",
    "\n",
    "    def fit(self, X: pd.DataFrame):\n",
    "        \n",
    "        self.encoder.fit(X)\n",
    "        \n",
    "        # Store names of features\n",
    "        self.feature_names = self.encoder.get_feature_names_out()\n",
    "        return self\n",
    "\n",
    "    def transform(self, X: pd.DataFrame) -> pd.DataFrame:\n",
    "        \n",
    "        one_hot =  self.encoder.transform(X)\n",
    "\n",
    "        return pd.DataFrame(one_hot, columns=self.get_feature_names_out())\n",
    "    \n",
    "    def get_feature_names_out(self, name=None)-> pd.Series:\n",
    "        return self.feature_names"
   ]
  },
  {
   "cell_type": "code",
   "execution_count": 19,
   "id": "e56eac76",
   "metadata": {
    "id": "e56eac76"
   },
   "outputs": [],
   "source": [
    "class Standardization(BaseEstimator, TransformerMixin):\n",
    "    def __init__(self):\n",
    "        self.feature_names = None\n",
    "    \n",
    "    def fit(self, X: pd.DataFrame) -> pd.DataFrame:\n",
    "        \n",
    "        self.mean = np.mean(X, axis=0)\n",
    "        self.std = np.std(X, axis=0)\n",
    "        return self\n",
    "    \n",
    "    def transform(self, X: pd.DataFrame) -> pd.DataFrame:\n",
    "        self.feature_names = X.columns\n",
    "        return (X  - self.mean) / self.std\n",
    "\n",
    "    def get_feature_names_out(self, name=None) -> pd.Series:\n",
    "        return self.feature_names"
   ]
  },
  {
   "cell_type": "markdown",
   "id": "fe84e666",
   "metadata": {
    "id": "fe84e666"
   },
   "source": [
    "#### TODO 3\n",
    "Complete the TODO by coding the `feature_pipeline()` function.\n",
    "\n",
    "1. Define the `feature_pipeline()` function as follows:\n",
    "    1. First, declare an instance of `DataFrameColumnTransformer` which applies the `OneHotEncoding()` class to the ONLY the \"day\" and \"month\" features. \n",
    "    \n",
    "    2. Now, declare an instance of the Sklearn's `Pipeline` class which is a list of tuples. The 1st tuple should apply your `DataFrameColumnTransformer`  instance and the 2nd tuple should apply an instance of the `Standardization()` class.\n",
    "    \n",
    "    3. Fit and transform the training data `X_trn` using your `Pipeline` class instance.\n",
    "\n",
    "    4. Transform the validation data `X_vld` using your `Pipeline` class instance.\n",
    "\n",
    "    5. Transform the test data `X_tst` using your `Pipeline` class instance.\n",
    "\n",
    "    6.  Return the cleaned output for training, validation, and testing data. The order of returned values should be training, validation, and then testing."
   ]
  },
  {
   "cell_type": "code",
   "execution_count": 22,
   "id": "4042dce4",
   "metadata": {
    "id": "4042dce4"
   },
   "outputs": [],
   "source": [
    "# TODO 3.1\n",
    "def feature_pipeline(X_trn: pd.DataFrame, \n",
    "                     X_vld: pd.DataFrame, \n",
    "                     X_tst: pd.DataFrame) -> List[pd.DataFrame]:\n",
    "    \"\"\" Creates column transformers and pipelines to apply data clean and \n",
    "        transfornations to the input features of our data.\n",
    "        \n",
    "        Args:\n",
    "            X_trn: train features\n",
    "            \n",
    "            X_vld: validation features\n",
    "            \n",
    "            X_tst: test features\n",
    "    \"\"\"\n",
    "    column_transformer = DataFrameColumnTransformer([('onehot', OneHotEncoding(), ['day', 'month'])])\n",
    "    pipeline = Pipeline([('column_transformer', column_transformer), ('standardization', Standardization())])\n",
    "    X_trn_clean = pipeline.fit_transform(X_trn)\n",
    "    X_vld_clean = pipeline.transform(X_vld)\n",
    "    X_tst_clean = pipeline.transform(X_tst)\n",
    "    return X_trn_clean, X_vld_clean, X_tst_clean\n",
    "    "
   ]
  },
  {
   "cell_type": "markdown",
   "id": "b6f9aff7",
   "metadata": {
    "id": "b6f9aff7"
   },
   "source": [
    "Run the below `TEST_feature_pipeline()` function to check you implementation of the `feature_pipeline()` class."
   ]
  },
  {
   "cell_type": "code",
   "execution_count": 23,
   "id": "0f924753",
   "metadata": {
    "id": "0f924753",
    "outputId": "feb955ac-4144-4ca6-d607-ad7cf8c09574",
    "scrolled": false
   },
   "outputs": [
    {
     "name": "stdout",
     "output_type": "stream",
     "text": [
      "[-0.37862467  2.64113797 -0.37862467]\n",
      "X_trn shape: (327, 29)\n",
      "X_trn type: <class 'pandas.core.frame.DataFrame'>\n",
      "X_vld shape: (82, 29)\n",
      "X_vld type: <class 'pandas.core.frame.DataFrame'>\n",
      "X_tst shape: (103, 29)\n",
      "X_tst type: <class 'pandas.core.frame.DataFrame'>\n"
     ]
    },
    {
     "data": {
      "text/html": [
       "<div>\n",
       "<style scoped>\n",
       "    .dataframe tbody tr th:only-of-type {\n",
       "        vertical-align: middle;\n",
       "    }\n",
       "\n",
       "    .dataframe tbody tr th {\n",
       "        vertical-align: top;\n",
       "    }\n",
       "\n",
       "    .dataframe thead th {\n",
       "        text-align: right;\n",
       "    }\n",
       "</style>\n",
       "<table border=\"1\" class=\"dataframe\">\n",
       "  <thead>\n",
       "    <tr style=\"text-align: right;\">\n",
       "      <th></th>\n",
       "      <th>day_fri</th>\n",
       "      <th>day_mon</th>\n",
       "      <th>day_sat</th>\n",
       "      <th>day_sun</th>\n",
       "      <th>day_thu</th>\n",
       "      <th>day_tue</th>\n",
       "      <th>day_wed</th>\n",
       "      <th>month_apr</th>\n",
       "      <th>month_aug</th>\n",
       "      <th>month_dec</th>\n",
       "      <th>...</th>\n",
       "      <th>X</th>\n",
       "      <th>Y</th>\n",
       "      <th>FFMC</th>\n",
       "      <th>DMC</th>\n",
       "      <th>DC</th>\n",
       "      <th>ISI</th>\n",
       "      <th>temp</th>\n",
       "      <th>RH</th>\n",
       "      <th>wind</th>\n",
       "      <th>rain</th>\n",
       "    </tr>\n",
       "  </thead>\n",
       "  <tbody>\n",
       "    <tr>\n",
       "      <th>0</th>\n",
       "      <td>-0.439808</td>\n",
       "      <td>-0.399468</td>\n",
       "      <td>-0.439808</td>\n",
       "      <td>-0.474045</td>\n",
       "      <td>2.678619</td>\n",
       "      <td>-0.378625</td>\n",
       "      <td>-0.346212</td>\n",
       "      <td>-0.124611</td>\n",
       "      <td>-0.776493</td>\n",
       "      <td>-0.136717</td>\n",
       "      <td>...</td>\n",
       "      <td>0.986994</td>\n",
       "      <td>-0.250217</td>\n",
       "      <td>-0.307653</td>\n",
       "      <td>2.642035</td>\n",
       "      <td>1.205984</td>\n",
       "      <td>-0.538765</td>\n",
       "      <td>0.112289</td>\n",
       "      <td>-0.001283</td>\n",
       "      <td>-0.253254</td>\n",
       "      <td>-0.085642</td>\n",
       "    </tr>\n",
       "    <tr>\n",
       "      <th>1</th>\n",
       "      <td>-0.439808</td>\n",
       "      <td>-0.399468</td>\n",
       "      <td>-0.439808</td>\n",
       "      <td>-0.474045</td>\n",
       "      <td>-0.373327</td>\n",
       "      <td>2.641138</td>\n",
       "      <td>-0.346212</td>\n",
       "      <td>-0.124611</td>\n",
       "      <td>-0.776493</td>\n",
       "      <td>-0.136717</td>\n",
       "      <td>...</td>\n",
       "      <td>0.556665</td>\n",
       "      <td>0.551948</td>\n",
       "      <td>-3.997167</td>\n",
       "      <td>-1.626181</td>\n",
       "      <td>-2.077810</td>\n",
       "      <td>-1.782123</td>\n",
       "      <td>-2.368005</td>\n",
       "      <td>2.216283</td>\n",
       "      <td>1.278240</td>\n",
       "      <td>-0.085642</td>\n",
       "    </tr>\n",
       "    <tr>\n",
       "      <th>2</th>\n",
       "      <td>-0.439808</td>\n",
       "      <td>-0.399468</td>\n",
       "      <td>-0.439808</td>\n",
       "      <td>2.109502</td>\n",
       "      <td>-0.373327</td>\n",
       "      <td>-0.378625</td>\n",
       "      <td>-0.346212</td>\n",
       "      <td>-0.124611</td>\n",
       "      <td>1.287842</td>\n",
       "      <td>-0.136717</td>\n",
       "      <td>...</td>\n",
       "      <td>-1.164653</td>\n",
       "      <td>-0.250217</td>\n",
       "      <td>0.172490</td>\n",
       "      <td>1.043718</td>\n",
       "      <td>0.274571</td>\n",
       "      <td>-0.335768</td>\n",
       "      <td>0.363670</td>\n",
       "      <td>0.298388</td>\n",
       "      <td>-1.047362</td>\n",
       "      <td>-0.085642</td>\n",
       "    </tr>\n",
       "    <tr>\n",
       "      <th>3</th>\n",
       "      <td>-0.439808</td>\n",
       "      <td>-0.399468</td>\n",
       "      <td>-0.439808</td>\n",
       "      <td>-0.474045</td>\n",
       "      <td>-0.373327</td>\n",
       "      <td>-0.378625</td>\n",
       "      <td>2.888400</td>\n",
       "      <td>-0.124611</td>\n",
       "      <td>1.287842</td>\n",
       "      <td>-0.136717</td>\n",
       "      <td>...</td>\n",
       "      <td>-1.164653</td>\n",
       "      <td>-0.250217</td>\n",
       "      <td>0.324113</td>\n",
       "      <td>-0.310097</td>\n",
       "      <td>-0.156646</td>\n",
       "      <td>0.171725</td>\n",
       "      <td>0.330152</td>\n",
       "      <td>1.497072</td>\n",
       "      <td>-1.047362</td>\n",
       "      <td>-0.085642</td>\n",
       "    </tr>\n",
       "    <tr>\n",
       "      <th>4</th>\n",
       "      <td>-0.439808</td>\n",
       "      <td>-0.399468</td>\n",
       "      <td>-0.439808</td>\n",
       "      <td>2.109502</td>\n",
       "      <td>-0.373327</td>\n",
       "      <td>-0.378625</td>\n",
       "      <td>-0.346212</td>\n",
       "      <td>-0.124611</td>\n",
       "      <td>-0.776493</td>\n",
       "      <td>7.314369</td>\n",
       "      <td>...</td>\n",
       "      <td>-0.303994</td>\n",
       "      <td>1.354113</td>\n",
       "      <td>-1.646997</td>\n",
       "      <td>-1.282067</td>\n",
       "      <td>-0.748289</td>\n",
       "      <td>-0.538765</td>\n",
       "      <td>-2.334487</td>\n",
       "      <td>0.717928</td>\n",
       "      <td>2.526124</td>\n",
       "      <td>-0.085642</td>\n",
       "    </tr>\n",
       "    <tr>\n",
       "      <th>...</th>\n",
       "      <td>...</td>\n",
       "      <td>...</td>\n",
       "      <td>...</td>\n",
       "      <td>...</td>\n",
       "      <td>...</td>\n",
       "      <td>...</td>\n",
       "      <td>...</td>\n",
       "      <td>...</td>\n",
       "      <td>...</td>\n",
       "      <td>...</td>\n",
       "      <td>...</td>\n",
       "      <td>...</td>\n",
       "      <td>...</td>\n",
       "      <td>...</td>\n",
       "      <td>...</td>\n",
       "      <td>...</td>\n",
       "      <td>...</td>\n",
       "      <td>...</td>\n",
       "      <td>...</td>\n",
       "      <td>...</td>\n",
       "      <td>...</td>\n",
       "    </tr>\n",
       "    <tr>\n",
       "      <th>322</th>\n",
       "      <td>2.273722</td>\n",
       "      <td>-0.399468</td>\n",
       "      <td>-0.439808</td>\n",
       "      <td>-0.474045</td>\n",
       "      <td>-0.373327</td>\n",
       "      <td>-0.378625</td>\n",
       "      <td>-0.346212</td>\n",
       "      <td>-0.124611</td>\n",
       "      <td>-0.776493</td>\n",
       "      <td>-0.136717</td>\n",
       "      <td>...</td>\n",
       "      <td>0.986994</td>\n",
       "      <td>-0.250217</td>\n",
       "      <td>-1.596456</td>\n",
       "      <td>-1.644292</td>\n",
       "      <td>-1.969809</td>\n",
       "      <td>-1.426878</td>\n",
       "      <td>-1.764690</td>\n",
       "      <td>0.478191</td>\n",
       "      <td>3.036622</td>\n",
       "      <td>-0.085642</td>\n",
       "    </tr>\n",
       "    <tr>\n",
       "      <th>323</th>\n",
       "      <td>-0.439808</td>\n",
       "      <td>-0.399468</td>\n",
       "      <td>-0.439808</td>\n",
       "      <td>-0.474045</td>\n",
       "      <td>-0.373327</td>\n",
       "      <td>2.641138</td>\n",
       "      <td>-0.346212</td>\n",
       "      <td>-0.124611</td>\n",
       "      <td>1.287842</td>\n",
       "      <td>-0.136717</td>\n",
       "      <td>...</td>\n",
       "      <td>-1.594983</td>\n",
       "      <td>-1.854546</td>\n",
       "      <td>0.981150</td>\n",
       "      <td>-0.058049</td>\n",
       "      <td>0.408981</td>\n",
       "      <td>2.049449</td>\n",
       "      <td>-0.021781</td>\n",
       "      <td>0.358322</td>\n",
       "      <td>0.257244</td>\n",
       "      <td>-0.085642</td>\n",
       "    </tr>\n",
       "    <tr>\n",
       "      <th>324</th>\n",
       "      <td>-0.439808</td>\n",
       "      <td>2.503331</td>\n",
       "      <td>-0.439808</td>\n",
       "      <td>-0.474045</td>\n",
       "      <td>-0.373327</td>\n",
       "      <td>-0.378625</td>\n",
       "      <td>-0.346212</td>\n",
       "      <td>-0.124611</td>\n",
       "      <td>-0.776493</td>\n",
       "      <td>-0.136717</td>\n",
       "      <td>...</td>\n",
       "      <td>-0.303994</td>\n",
       "      <td>-0.250217</td>\n",
       "      <td>-0.939419</td>\n",
       "      <td>-1.331873</td>\n",
       "      <td>-1.886640</td>\n",
       "      <td>-1.223881</td>\n",
       "      <td>-1.161375</td>\n",
       "      <td>-0.600625</td>\n",
       "      <td>-1.274250</td>\n",
       "      <td>-0.085642</td>\n",
       "    </tr>\n",
       "    <tr>\n",
       "      <th>325</th>\n",
       "      <td>-0.439808</td>\n",
       "      <td>-0.399468</td>\n",
       "      <td>2.273722</td>\n",
       "      <td>-0.474045</td>\n",
       "      <td>-0.373327</td>\n",
       "      <td>-0.378625</td>\n",
       "      <td>-0.346212</td>\n",
       "      <td>-0.124611</td>\n",
       "      <td>-0.776493</td>\n",
       "      <td>-0.136717</td>\n",
       "      <td>...</td>\n",
       "      <td>0.556665</td>\n",
       "      <td>0.551948</td>\n",
       "      <td>0.197760</td>\n",
       "      <td>-1.152270</td>\n",
       "      <td>-1.823179</td>\n",
       "      <td>-0.285019</td>\n",
       "      <td>-0.222886</td>\n",
       "      <td>-1.199967</td>\n",
       "      <td>0.484132</td>\n",
       "      <td>-0.085642</td>\n",
       "    </tr>\n",
       "    <tr>\n",
       "      <th>326</th>\n",
       "      <td>2.273722</td>\n",
       "      <td>-0.399468</td>\n",
       "      <td>-0.439808</td>\n",
       "      <td>-0.474045</td>\n",
       "      <td>-0.373327</td>\n",
       "      <td>-0.378625</td>\n",
       "      <td>-0.346212</td>\n",
       "      <td>-0.124611</td>\n",
       "      <td>1.287842</td>\n",
       "      <td>-0.136717</td>\n",
       "      <td>...</td>\n",
       "      <td>0.556665</td>\n",
       "      <td>0.551948</td>\n",
       "      <td>0.020866</td>\n",
       "      <td>0.826383</td>\n",
       "      <td>0.824826</td>\n",
       "      <td>-0.462641</td>\n",
       "      <td>-0.088816</td>\n",
       "      <td>1.017599</td>\n",
       "      <td>0.767742</td>\n",
       "      <td>-0.085642</td>\n",
       "    </tr>\n",
       "  </tbody>\n",
       "</table>\n",
       "<p>327 rows × 29 columns</p>\n",
       "</div>"
      ],
      "text/plain": [
       "      day_fri   day_mon   day_sat   day_sun   day_thu   day_tue   day_wed  \\\n",
       "0   -0.439808 -0.399468 -0.439808 -0.474045  2.678619 -0.378625 -0.346212   \n",
       "1   -0.439808 -0.399468 -0.439808 -0.474045 -0.373327  2.641138 -0.346212   \n",
       "2   -0.439808 -0.399468 -0.439808  2.109502 -0.373327 -0.378625 -0.346212   \n",
       "3   -0.439808 -0.399468 -0.439808 -0.474045 -0.373327 -0.378625  2.888400   \n",
       "4   -0.439808 -0.399468 -0.439808  2.109502 -0.373327 -0.378625 -0.346212   \n",
       "..        ...       ...       ...       ...       ...       ...       ...   \n",
       "322  2.273722 -0.399468 -0.439808 -0.474045 -0.373327 -0.378625 -0.346212   \n",
       "323 -0.439808 -0.399468 -0.439808 -0.474045 -0.373327  2.641138 -0.346212   \n",
       "324 -0.439808  2.503331 -0.439808 -0.474045 -0.373327 -0.378625 -0.346212   \n",
       "325 -0.439808 -0.399468  2.273722 -0.474045 -0.373327 -0.378625 -0.346212   \n",
       "326  2.273722 -0.399468 -0.439808 -0.474045 -0.373327 -0.378625 -0.346212   \n",
       "\n",
       "     month_apr  month_aug  month_dec  ...         X         Y      FFMC  \\\n",
       "0    -0.124611  -0.776493  -0.136717  ...  0.986994 -0.250217 -0.307653   \n",
       "1    -0.124611  -0.776493  -0.136717  ...  0.556665  0.551948 -3.997167   \n",
       "2    -0.124611   1.287842  -0.136717  ... -1.164653 -0.250217  0.172490   \n",
       "3    -0.124611   1.287842  -0.136717  ... -1.164653 -0.250217  0.324113   \n",
       "4    -0.124611  -0.776493   7.314369  ... -0.303994  1.354113 -1.646997   \n",
       "..         ...        ...        ...  ...       ...       ...       ...   \n",
       "322  -0.124611  -0.776493  -0.136717  ...  0.986994 -0.250217 -1.596456   \n",
       "323  -0.124611   1.287842  -0.136717  ... -1.594983 -1.854546  0.981150   \n",
       "324  -0.124611  -0.776493  -0.136717  ... -0.303994 -0.250217 -0.939419   \n",
       "325  -0.124611  -0.776493  -0.136717  ...  0.556665  0.551948  0.197760   \n",
       "326  -0.124611   1.287842  -0.136717  ...  0.556665  0.551948  0.020866   \n",
       "\n",
       "          DMC        DC       ISI      temp        RH      wind      rain  \n",
       "0    2.642035  1.205984 -0.538765  0.112289 -0.001283 -0.253254 -0.085642  \n",
       "1   -1.626181 -2.077810 -1.782123 -2.368005  2.216283  1.278240 -0.085642  \n",
       "2    1.043718  0.274571 -0.335768  0.363670  0.298388 -1.047362 -0.085642  \n",
       "3   -0.310097 -0.156646  0.171725  0.330152  1.497072 -1.047362 -0.085642  \n",
       "4   -1.282067 -0.748289 -0.538765 -2.334487  0.717928  2.526124 -0.085642  \n",
       "..        ...       ...       ...       ...       ...       ...       ...  \n",
       "322 -1.644292 -1.969809 -1.426878 -1.764690  0.478191  3.036622 -0.085642  \n",
       "323 -0.058049  0.408981  2.049449 -0.021781  0.358322  0.257244 -0.085642  \n",
       "324 -1.331873 -1.886640 -1.223881 -1.161375 -0.600625 -1.274250 -0.085642  \n",
       "325 -1.152270 -1.823179 -0.285019 -0.222886 -1.199967  0.484132 -0.085642  \n",
       "326  0.826383  0.824826 -0.462641 -0.088816  1.017599  0.767742 -0.085642  \n",
       "\n",
       "[327 rows x 29 columns]"
      ]
     },
     "metadata": {},
     "output_type": "display_data"
    },
    {
     "name": "stdout",
     "output_type": "stream",
     "text": [
      "Your code PASSED the code check!\n"
     ]
    }
   ],
   "source": [
    "def TEST_feature_pipeline(): \n",
    "    \n",
    "    # Drop outliers\n",
    "    dropped_forestfire_df = drop_outliers(forestfire_df, threshold=5)\n",
    "    # Apply feature and label splitting\n",
    "    X, y = feature_label_split(dropped_forestfire_df, label_name='area')\n",
    "    # Apply train, validation and test set splitting\n",
    "    X_trn, y_trn, X_vld, y_vld, X_tst, y_tst = train_valid_test_split(X, y)\n",
    "\n",
    "    X_trn, X_vld, X_tst = feature_pipeline(X_trn, X_vld, X_tst)\n",
    "    print(X_tst.iloc[:3, 5].values)\n",
    "    print(f\"X_trn shape: {X_trn.shape}\")\n",
    "    print(f\"X_trn type: {type(X_trn)}\")\n",
    "    print(f\"X_vld shape: {X_vld.shape}\")\n",
    "    print(f\"X_vld type: {type(X_vld)}\")\n",
    "    print(f\"X_tst shape: {X_tst.shape}\")\n",
    "    print(f\"X_tst type: {type(X_tst)}\")\n",
    "    display(X_trn)\n",
    "\n",
    "    todo_check([\n",
    "        (X_trn.shape[1] == 29, \"X_trn does not have enough columns\"),\n",
    "        ('day_fri' in X_trn.columns, \"X_trn is missing one-hot encoded columns\"),\n",
    "        ('month_apr' in X_vld.columns, \"X_vld is missing one-hot encoded columns\"),\n",
    "        ('day_thu' in X_tst.columns, \"X_tst is missing one-hot encoded columns\"),\n",
    "        (np.all(np.isclose(X_trn.iloc[:3, 5], [-0.37862467,  2.64113797, -0.37862467], rtol=.01)), \"X_trn possibly contains incorrect values!\"),\n",
    "        (np.all(np.isclose(X_vld.iloc[:3, 5], [ 2.64113797, -0.37862467, -0.37862467], rtol=.01)), \"X_vld possibly contains incorrect values!\"),\n",
    "        (np.all(np.isclose(X_tst.iloc[:3, 5], [-0.37862467,  2.64113797, -0.37862467], rtol=.01)), \"X_tst possibly contains incorrect values!\"),\n",
    "    ])\n",
    "    \n",
    "TEST_feature_pipeline()\n",
    "garbage_collect(['TEST_feature_pipeline'])"
   ]
  },
  {
   "cell_type": "markdown",
   "id": "7a5db71c",
   "metadata": {
    "id": "7a5db71c"
   },
   "source": [
    "## Putting it all together\n",
    "\n",
    "In order to make our lives easier we created a function called `data_prep()` which will apply the outlier removal, data splitting, and data cleaning/transforming for us. Thus, whenever we go to implement a new algorithm we can call `data_prep()` to give us our data and override any other variables with the same names!\n",
    "\n",
    "**Take time to also read the DocStrings or in-line documentation, given at the start of the function, which describes what each argument does. You need to understand what each argument does before moving forward!**\n",
    "\n",
    "*Note: Any arguments in a function given after the `*` in the function definition below MUST be passed using the keyword. See this [post](https://stackoverflow.com/questions/14301967/bare-asterisk-in-function-arguments) for more information.*"
   ]
  },
  {
   "cell_type": "code",
   "execution_count": 24,
   "id": "4bbc73d2",
   "metadata": {
    "id": "4bbc73d2"
   },
   "outputs": [],
   "source": [
    "def data_prep(df: pd.DataFrame,\n",
    "              label_name: str,\n",
    "              *,\n",
    "              seed: int = 42,\n",
    "              return_array: bool = False,\n",
    "              outlier_threshold: int = 5) -> Tuple[pd.DataFrame]:\n",
    "    \"\"\" Removes outliers, splits data and runs target/feature data cleaning \n",
    "        and transformations.\n",
    "    \n",
    "        Args:\n",
    "            df: A Pandas DataFrame containing our dataset for the \n",
    "                current lab.\n",
    "                \n",
    "            label_name: Name of the column in the DataFrame store in df \n",
    "                which will be used as the label/target. This will be \n",
    "                passed to the feature_label_split() function.\n",
    "            \n",
    "            seed: The seed used when splitting data into train, \n",
    "                validation, and test. This will be passed to the\n",
    "                train_valid_test_split() function.\n",
    "            \n",
    "            return_array: A boolean which when True will return all data as NumPy\n",
    "                arrays instead of Pandas DataFrames.\n",
    "            \n",
    "            outlier_threshold: outlier threshold where if a data sample exceeds\n",
    "                the STD threshold for any given feature then it is dropped. This\n",
    "                will be passed to the drop_outliers() function.\n",
    "    \"\"\"   \n",
    "    # Drop outliers\n",
    "    dropped_df = drop_outliers(df, threshold=outlier_threshold)\n",
    "    # Apply feature and label splitting\n",
    "    X, y = feature_label_split(dropped_df, label_name=label_name)\n",
    "    # Apply train, validation and test set splitting\n",
    "    X_trn, y_trn, X_vld, y_vld, X_tst, y_tst = train_valid_test_split(X, y, seed)\n",
    "    # Target cleaning\n",
    "    y_trn, y_vld, y_tst = target_pipeline(y_trn, y_vld, y_tst)\n",
    "    # Feature cleaning\n",
    "    X_trn, X_vld, X_tst = feature_pipeline(X_trn, X_vld, X_tst)\n",
    "    \n",
    "    # Resets the Pandas index for the Dataframe and series\n",
    "    # This will prevent any headaches when combining or indexing\n",
    "    # the train, validation, and test data in the future.\n",
    "    X_trn.reset_index(inplace=True, drop=True)\n",
    "    y_trn.reset_index(inplace=True, drop=True)\n",
    "    X_vld.reset_index(inplace=True, drop=True)\n",
    "    y_vld.reset_index(inplace=True, drop=True)\n",
    "    X_tst.reset_index(inplace=True, drop=True)\n",
    "    y_tst.reset_index(inplace=True, drop=True)\n",
    "        \n",
    "    # Return data as arrays instead of DataFrames\n",
    "    if return_array:\n",
    "        X_trn, y_trn, X_vld, y_vld, X_tst, y_tst = (X_trn.values, \n",
    "                                                    y_trn.values, \n",
    "                                                    X_vld.values, \n",
    "                                                    y_vld.values, \n",
    "                                                    X_tst.values, \n",
    "                                                    y_tst.values)\n",
    "                               \n",
    "    \n",
    "    return X_trn, y_trn, X_vld, y_vld, X_tst, y_tst"
   ]
  },
  {
   "cell_type": "markdown",
   "id": "69a7ba8a",
   "metadata": {
    "id": "69a7ba8a"
   },
   "source": [
    "#### TODO 4\n",
    "Complete this TODO by calling `data_prep()` as specified below.\n",
    "\n",
    "\n",
    "1. Call the `data_prep()` so that it will return the Forest Fire regression data formatted as NumPy arrays by passing the arguments which correspond to the following:\n",
    "    1. Pass all required arguments for `df` and `label_name`.\n",
    "    1. Return all data as NumPy arrays."
   ]
  },
  {
   "cell_type": "code",
   "execution_count": 42,
   "id": "cc2bab65",
   "metadata": {
    "id": "cc2bab65",
    "outputId": "c4b1a15d-456e-458c-81ed-2cb101d80daf"
   },
   "outputs": [
    {
     "name": "stdout",
     "output_type": "stream",
     "text": [
      "X_trn type: <class 'numpy.ndarray'>\n",
      "X_trn shape: (327, 29)\n",
      "y_trn shape: (327, 1)\n",
      "X_vld type: <class 'numpy.ndarray'>\n",
      "X_vld shape: (82, 29)\n",
      "y_vld shape: (82, 1)\n",
      "X_tst type: <class 'numpy.ndarray'>\n",
      "X_tst shape: (103, 29)\n",
      "y_tst shape: (103, 1)\n",
      "Your code PASSED the code check!\n"
     ]
    }
   ],
   "source": [
    "def TEST_data_prep():\n",
    "    # TODO 4.1\n",
    "    data = data_prep(df=forestfire_df, label_name='area', return_array=True)\n",
    "    X_trn, y_trn, X_vld, y_vld, X_tst, y_tst = data\n",
    "\n",
    "    print(f\"X_trn type: {type(X_trn)}\")\n",
    "    print(f\"X_trn shape: {X_trn.shape}\")\n",
    "    print(f\"y_trn shape: {y_trn.shape}\")\n",
    "    print(f\"X_vld type: {type(X_vld)}\")\n",
    "    print(f\"X_vld shape: {X_vld.shape}\")\n",
    "    print(f\"y_vld shape: {y_vld.shape}\")\n",
    "    print(f\"X_tst type: {type(X_tst)}\")\n",
    "    print(f\"X_tst shape: {X_tst.shape}\")\n",
    "    print(f\"y_tst shape: {y_tst.shape}\")\n",
    "\n",
    "    todo_check([\n",
    "        (type(X_trn) is np.ndarray, \"X_trn is not a NumPy array\"),\n",
    "        (np.all(np.isclose(y_trn[:3].flatten(), np.array([0., 1.85473427, 2.83321334]), rtol=.01)), \"y_trn has incorrect values! Make sure the current column name was given to act as the labels!\")\n",
    "    ])\n",
    "    \n",
    "TEST_data_prep()\n",
    "garbage_collect(['TEST_data_prep'])"
   ]
  },
  {
   "cell_type": "markdown",
   "id": "0c50e130",
   "metadata": {
    "id": "0c50e130"
   },
   "source": [
    "# Metrics and Plots\n",
    "\n",
    "Like always, below are functions which will bes used to measure the model's performance, compute loss/cost values, and visualize any results."
   ]
  },
  {
   "cell_type": "markdown",
   "id": "3765f9ca",
   "metadata": {
    "id": "3765f9ca"
   },
   "source": [
    "#### TODO 5\n",
    "\n",
    "Complete the following TODO by finishing the following performance metric functions: sum of squared error `sse()`, mean squared error `mse()`, and root mean square error `rmse()`.\n",
    "\n",
    "1. Implement the sum of squared errors (SSE) cost function by finishing the `sse()` function. Store output into `sse_`.\n",
    "\n",
    "$$\n",
    "SSE  = \\sum_{i=0}^m (\\hat{y} - y)^2\n",
    "$$ \n",
    "\n",
    "2. Implement the mean square error (MSE) loss function by finishing the `mse()` function. Store output into `mse_`.\n",
    "$$\n",
    "MSE  = \\frac{1}{m}\\sum_{i=0}^m (\\hat{y} - y)^2\n",
    "$$ \n",
    "\n",
    "3. Implement the root mean squared error (RMSE) loss function by finishing the `rmse()` function. Store output into `rmse_`.\n",
    "$$\n",
    "RMSE  = \\sqrt{\\frac{1}{m}\\sum_{i=0}^m (\\hat{y} - y)^2}\n",
    "$$ "
   ]
  },
  {
   "cell_type": "code",
   "execution_count": 172,
   "id": "1d50ca79",
   "metadata": {
    "id": "1d50ca79"
   },
   "outputs": [],
   "source": [
    "def reshape_labels(y):\n",
    "    if len(y.shape) != 2:\n",
    "        y = y.reshape(-1, 1)\n",
    "    return y\n",
    "\n",
    "def sse(y: np.ndarray, y_hat: np.ndarray):\n",
    "    # Checks if y or y_hat need to be reshaped into 2D arrays\n",
    "    y = reshape_labels(y)\n",
    "    y_hat = reshape_labels(y_hat)\n",
    "    \n",
    "    # TODO 5.1\n",
    "    sse_ = np.sum((y_hat-y)**2)\n",
    "    return sse_"
   ]
  },
  {
   "cell_type": "markdown",
   "id": "537c4a43",
   "metadata": {
    "id": "537c4a43"
   },
   "source": [
    "Run the below `TEST_sse` function to test your implementation of the `sse()` function."
   ]
  },
  {
   "cell_type": "code",
   "execution_count": 173,
   "id": "efd2febd",
   "metadata": {
    "id": "efd2febd",
    "outputId": "5c776f72-eb28-4df6-d466-c4ecfe00eb04"
   },
   "outputs": [
    {
     "name": "stdout",
     "output_type": "stream",
     "text": [
      "Fake SSE: 17.32899026015814\n",
      "Your code PASSED the code check!\n"
     ]
    }
   ],
   "source": [
    "def TEST_sse():\n",
    "    rng = np.random.RandomState(0)\n",
    "    fake_y_hat = rng.rand(100, 1)\n",
    "    fake_y = rng.rand(100, 1)\n",
    "    \n",
    "    sse_ = sse(y=fake_y, y_hat=fake_y_hat)\n",
    "    print(f\"Fake SSE: {sse_}\")\n",
    "\n",
    "    todo_check([\n",
    "        (np.isclose(sse_, 17.328, rtol=.01), 'sse value is wrong!'),\n",
    "    ])\n",
    "    \n",
    "TEST_sse()\n",
    "garbage_collect(['TEST_sse'])"
   ]
  },
  {
   "cell_type": "code",
   "execution_count": 143,
   "id": "390b424e",
   "metadata": {
    "id": "390b424e"
   },
   "outputs": [],
   "source": [
    "def mse(y: np.ndarray, y_hat: np.ndarray):\n",
    "    y = reshape_labels(y)\n",
    "    y_hat = reshape_labels(y_hat)\n",
    "    \n",
    "    # TODO 5.2\n",
    "    mse_ = np.mean(np.square(y_hat-y))\n",
    "    return mse_"
   ]
  },
  {
   "cell_type": "markdown",
   "id": "c2db7b7f",
   "metadata": {
    "id": "c2db7b7f"
   },
   "source": [
    "Run the below `TEST_mse` function to test your implementation of the `mse()` function."
   ]
  },
  {
   "cell_type": "code",
   "execution_count": 54,
   "id": "e909452c",
   "metadata": {
    "id": "e909452c",
    "outputId": "7247020a-6647-400f-84c2-3dc3e1c1b38d"
   },
   "outputs": [
    {
     "name": "stdout",
     "output_type": "stream",
     "text": [
      "Fake MSE: 0.1732899026015814\n",
      "Your code PASSED the code check!\n"
     ]
    }
   ],
   "source": [
    "def TEST_mse():\n",
    "    rng = np.random.RandomState(0)\n",
    "    fake_y_hat = rng.rand(100, 1)\n",
    "    fake_y = rng.rand(100, 1)\n",
    "\n",
    "    mse_ = mse(y=fake_y, y_hat=fake_y_hat)\n",
    "    print(f\"Fake MSE: {mse_}\")\n",
    "\n",
    "    todo_check([\n",
    "        (np.isclose(mse_, 0.173, rtol=.01),'mse_ value is wrong!'),\n",
    "    ])\n",
    "    \n",
    "TEST_mse()\n",
    "garbage_collect(['TEST_mse'])"
   ]
  },
  {
   "cell_type": "code",
   "execution_count": 57,
   "id": "a0b621d3",
   "metadata": {
    "id": "a0b621d3"
   },
   "outputs": [],
   "source": [
    "def rmse(y: np.ndarray, y_hat: np.ndarray):\n",
    "    y = reshape_labels(y)\n",
    "    y_hat = reshape_labels(y_hat)\n",
    "    \n",
    "    # TODO 5.3\n",
    "    rmse_ = np.sqrt(np.mean(np.square(y_hat-y)))\n",
    "    return rmse_"
   ]
  },
  {
   "cell_type": "markdown",
   "id": "83cc036e",
   "metadata": {
    "id": "83cc036e"
   },
   "source": [
    "Run the below `TEST_rmse` function to test your implementation of the `rmse()` function."
   ]
  },
  {
   "cell_type": "code",
   "execution_count": 58,
   "id": "acde76fa",
   "metadata": {
    "id": "acde76fa",
    "outputId": "623e3753-5376-4a4c-82f6-8d6aff7c3f9a"
   },
   "outputs": [
    {
     "name": "stdout",
     "output_type": "stream",
     "text": [
      "Fake RMSE: 0.41628103800387234\n",
      "Your code PASSED the code check!\n"
     ]
    }
   ],
   "source": [
    "def TEST_rmse():\n",
    "    rng = np.random.RandomState(0)\n",
    "    fake_y_hat = rng.rand(100, 1)\n",
    "    fake_y = rng.rand(100, 1)\n",
    "\n",
    "    rmse_ = rmse(y=fake_y, y_hat=fake_y_hat)\n",
    "    print(f\"Fake RMSE: {rmse_}\")\n",
    "\n",
    "    todo_check([\n",
    "        (np.isclose(rmse_, 0.416, rtol=.01), 'rmse_ value is wrong!'),\n",
    "    ])\n",
    "    \n",
    "TEST_rmse()\n",
    "garbage_collect(['TEST_rmse'])"
   ]
  },
  {
   "cell_type": "markdown",
   "id": "c79fa430",
   "metadata": {
    "id": "c79fa430"
   },
   "source": [
    "Below we define the `unlog()` function for you. The equation $e^{x} -1$ is used for reversing the log transform. Recall we use this to undo the log transformation done to our target 'area'. Further, we use this function in conjunction with RMSE to get the average loss in the original units hectare (ha)."
   ]
  },
  {
   "cell_type": "code",
   "execution_count": 59,
   "id": "4592a061",
   "metadata": {
    "id": "4592a061"
   },
   "outputs": [],
   "source": [
    "def unlog(x):\n",
    "    return np.exp(x) - 1"
   ]
  },
  {
   "cell_type": "markdown",
   "id": "e6c39ae6",
   "metadata": {
    "id": "e6c39ae6"
   },
   "source": [
    "Next, we quickly define the `performance_measures()` function which will automatically compute the SSE, MSE, and RMSE using the functions you implemented above. "
   ]
  },
  {
   "cell_type": "code",
   "execution_count": 60,
   "id": "d4e4aaa9",
   "metadata": {
    "id": "d4e4aaa9"
   },
   "outputs": [],
   "source": [
    "def performance_measures(y: np.ndarray, y_hat: np.ndarray) -> Tuple[np.ndarray]:   \n",
    "    sse_ = sse(y=y, y_hat=y_hat)\n",
    "    mse_ = mse(y=y, y_hat=y_hat)\n",
    "    rmse_ = rmse(y=y, y_hat=y_hat)\n",
    "    \n",
    "    return sse_, mse_, rmse_"
   ]
  },
  {
   "cell_type": "markdown",
   "id": "b89e9b42",
   "metadata": {
    "id": "b89e9b42"
   },
   "source": [
    "Lastly, we quickly define the function `analyze()` function which computes all the loss/cost function scores and plots our targets and predictions. \n",
    "\n",
    "There are two plots that we will use. The first simply plots the targets and predictions on top of each other while the second plots the targets against the predictions where the targets are on the y-axis and predictions are on the x-axis.\n",
    "\n",
    "The second plot is a QQ plot (see below image). We use the QQ plot to plot the targets against the predictions. The diagonal line indicates the line of zero error. The closer each data point is to the line the lower the loss. Thus, the closer the prediction is to the actual target value. Good performance is indicated by the majority of the data points being close to the diagonal line.\n",
    "<img src=\"https://miro.medium.com/max/384/1*pmqp-wtSjUgPHCBs1Mm7Xg.jpeg\" width=300 height=300>\n"
   ]
  },
  {
   "cell_type": "code",
   "execution_count": 61,
   "id": "135d43dd",
   "metadata": {
    "id": "135d43dd"
   },
   "outputs": [],
   "source": [
    "def analyze(\n",
    "    y: np.ndarray,\n",
    "    y_hat: np.ndarray,  \n",
    "    title: str, \n",
    "    dataset: str,\n",
    "    xlabel: str = None,\n",
    "    ylabel: str = None\n",
    ") -> Tuple[np.ndarray, float, float, float]:\n",
    "    \"\"\" Plot your results and compute perforamnce measures \n",
    "        using your predictions and labels.\n",
    "        \n",
    "        Args:\n",
    "            y: Labels\n",
    "            \n",
    "            y_hat: Predictions\n",
    "            \n",
    "            title: Title of plot\n",
    "            \n",
    "            dataset: Name of dataset being plotted \n",
    "                (typically training, validaiton, or test).\n",
    "                \n",
    "            xlabel: X-axis label for the 1st plot\n",
    "            \n",
    "            ylabel - Y-axis label for both plots\n",
    "    \"\"\"\n",
    "    y = reshape_labels(y)\n",
    "    y_hat = reshape_labels(y_hat)\n",
    "    \n",
    "    sse_, mse_, rmse_ = performance_measures(y=y, y_hat=y_hat)\n",
    "    \n",
    "    # plotting\n",
    "    fig, axs = plt.subplots(1, 2, figsize=(15,7))\n",
    "    fig.suptitle(title, fontsize=15)\n",
    "    axs[0].plot(y, 'ob', label='Target')\n",
    "    axs[0].plot(y_hat, 'xr', label='Prediction')\n",
    "    axs[0].set_xlabel(xlabel)\n",
    "    axs[0].set_ylabel(ylabel)\n",
    "    axs[0].legend()\n",
    "\n",
    "    y1 = min(y)\n",
    "    y2 = max(y)\n",
    "    line = np.arange(y1,y2)\n",
    "    axs[1].scatter(y, y_hat, label=\"True vs Predicted\", color='b', marker='*')\n",
    "    axs[1].set_xlabel(\"Targets\")\n",
    "    axs[1].set_ylabel(ylabel)\n",
    "    # axs[1].set_ylim(y1, y2)\n",
    "    # axs[1].set_xlim(y1, y2)\n",
    "    axs[1].plot(line, line, label = \"Line of Zero Error\", color='r')\n",
    "    plt.legend()\n",
    "    plt.show()\n",
    "    \n",
    "    print(f\"{dataset} MSE: {mse_}\")\n",
    "    print(f\"{dataset} RMSE: {rmse_}\")\n",
    "    print(f\"{dataset} SSE: {sse_}\\n\")\n",
    "    \n",
    "    print(f\"{dataset} unlogged MSE: {unlog(mse_)} ha\")\n",
    "    print(f\"{dataset} unlogged RMSE: {unlog(rmse_)} ha\")\n",
    "    \n",
    "    return sse_, mse_, rmse_"
   ]
  },
  {
   "cell_type": "markdown",
   "id": "1106c911",
   "metadata": {
    "id": "1106c911"
   },
   "source": [
    "# Neural Networks\n",
    "Let's get onto implementing the neural network algorithm. A short summary of neural networks will be given below. For more details see the notes.\n",
    "\n",
    "A general neural network framework can be seen in the below image. The below neural network is an example of a 2 layer neural network. We'll be working with 2 layer neural networks throughout this lab. \n",
    "\n",
    "\n",
    "<img src=\"https://images.squarespace-cdn.com/content/v1/5ccb715016b640627a1c2782/1586907440135-6INS2V3VS31ICY3TNUIW/ai-artificial-neural-network-alex-castrounis.png?format=500w\" height=400 width=400>\n",
    "\n",
    "**Neurons**\n",
    "\n",
    "Recall that a neural network is made of neurons. The structure of a neuron is given by the below image. \n",
    "\n",
    "<img src=\"https://live.staticflickr.com/65535/51633984258_9b95f324ce.jpg\" width=\"300\" height=\"150\" alt=\"artifcal-neuron\">\n",
    "\n",
    "The 4 basics steps all neurons utilize are given as follows:\n",
    "1. First, each neuron takes input from every neuron in the previous layer represented by $x$ or $a$. The 1st hidden layer always takes in the data $x$ as input.\n",
    "2. Next, each input is assigned a weight just like we have seen in previous algorithms. For clarity sack, we will keep the bias separate from the weights even though they can be combined as we have done in the past. Using the weights, a linear combination can be taken between the weights and inputs where the bias is also added such that we get the following: $z = \\wv^\\top \\xv + b$. Recall $z$ represents the continuous output of a neuron (i.e., the output after the linear combination of inputs). This linear combination of inputs is nothing new, we have seen this time and time again with linear regression and classification algorithms alike.\n",
    "3. Next, an activation function $g(\\cdot)$is applied to $z$ producing the  neuron output $a$ where $a = g(z)$. The activation function is often picked to be a non-linear function. We do this in order to convert our equation from a linear equation to a non-linear equation (more on this later). \n",
    "4. Finally, after applying the activation function, the output $a$ is passed to the next layer and acts as the inputs for the next layer. \n",
    "\n",
    "**Layers**\n",
    "\n",
    "Lastly, recall that a neuron network can stack multiple neurons to create layers. For a basic 2 layer neural network there are two main layers: the hidden layer and the output layer.\n",
    "\n",
    "**Input layer:**\n",
    "\n",
    "The layer which takes in all the inputs of the data is referred to as the *input layer*. While this layer is not counted as an actual layer as it contains no neurons. It is often referred to as the input layer regardless. This layer is used to represent all the data features that will be input into the actual neural network. In other words, we can think of this layer as representing the input data as a matrix $\\Xm$ (multiple data samples) or a vector $\\xv$ (a single data sample) where each blue circle in the input layer image above can be thought of as a single feature in the data. Thus, the above data would have 3 features.\n",
    "\n",
    "**Hidden layer:**\n",
    "\n",
    "The first actual layer is called the *hidden layer*. The hidden layer acts as a intermediate layer between the input layer and output layers. A hidden layer is the 1st real layer in a neural network. The hidden layer contains neurons which are more specifically referred to as *hidden neurons*, also known as *hidden units*. This is partly done to differentiate the hidden neurons from the output neurons. \n",
    "\n",
    "**Output layer:**\n",
    "\n",
    "The second and last layer is called the *output layer*. The output layer contains neurons which produce the outputs of the neural network. In other words, the output layer is responsible for computing the predictions $\\hat{y}$. \n"
   ]
  },
  {
   "cell_type": "markdown",
   "id": "ba5944fa",
   "metadata": {
    "id": "ba5944fa"
   },
   "source": [
    "## Activation Functions\n",
    "\n",
    "Before we can implement neural networks we need to define our activation functions we'll be using in this lab. Recall each neuron can have an activation function. **The KEY element of neurons in neural networks are non-linear activation functions.** By introducing non-linearity with non-linear activation functions, neural networks are able to learn more complex non-linear models. \n",
    "\n",
    "\n",
    "Below are classes who have two static methods `activation()` and `derivative()`. Here the  `activation()`  static method computes the equation of the activation function while the `derivative()` static method computes the derivative of the activation function. We'll use the `activation()` static method for the feed-forward processes and the `derivative()` static method for the feedback process.\n",
    "\n",
    "*If you don't know what a static method is, see this [post](https://pythonbasics.org/static-method/).*"
   ]
  },
  {
   "cell_type": "markdown",
   "id": "d144b3e1",
   "metadata": {
    "id": "d144b3e1"
   },
   "source": [
    "### Identity/Linear\n",
    "Let's start by implementing the simplest activation function which is a linear activation function referred to as the identity/linear activation function. Recall, this activation function is more of a placeholder activation function when you want to apply no activation function.\n",
    "\n",
    "Since we are performing regression we'll use this activation in the output layer as we DO NOT want to apply any activation function to our predictions. This because regression problems typically require that we predict continuous values (values between $-\\infty$ and $\\infty$) not values squashed within a certain value range!\n",
    "#### TODO 6\n",
    "Complete the TODO by implementing the `activation()` and `derivative()` static methods for the `Linear` class.\n",
    "\n",
    "1. Implement the `activation()` method to simply return the input `z`.\n",
    "\n",
    "\n",
    "2. Implement the `derivative()` method which returns the derivative of the linear activation function. Recall this is simply just an array of ones that is the same shape as the input `z`."
   ]
  },
  {
   "cell_type": "code",
   "execution_count": 70,
   "id": "4ad7966f",
   "metadata": {
    "id": "4ad7966f"
   },
   "outputs": [],
   "source": [
    "class Linear():\n",
    "    @staticmethod\n",
    "    def activation(z):\n",
    "        # TODO 6.1\n",
    "        return z\n",
    "    \n",
    "    @staticmethod\n",
    "    def derivative(z):\n",
    "        # TODO 6.2\n",
    "        return np.ones_like(z)"
   ]
  },
  {
   "cell_type": "code",
   "execution_count": 71,
   "id": "8657d8b4",
   "metadata": {
    "id": "8657d8b4",
    "outputId": "23d4ebc0-7dfe-4c4b-e050-0b891616df08"
   },
   "outputs": [
    {
     "data": {
      "image/png": "[encoded data removed]",
      "text/plain": [
       "<Figure size 432x288 with 1 Axes>"
      ]
     },
     "metadata": {
      "needs_background": "light"
     },
     "output_type": "display_data"
    },
    {
     "name": "stdout",
     "output_type": "stream",
     "text": [
      "Your code PASSED the code check!\n"
     ]
    }
   ],
   "source": [
    "def TEST_Linear():\n",
    "    x = np.arange(-10, 10 , .2)\n",
    "    y = Linear.activation(x)\n",
    "    dy = Linear.derivative(x)\n",
    "\n",
    "    plt.plot(x ,dy, label='Derivative')\n",
    "    plt.plot(x ,y, label='Activation')\n",
    "    plt.legend()\n",
    "    plt.show()\n",
    "\n",
    "    todo_check([\n",
    "        (np.all(np.isclose(y[50:53], np.array([0. ,  0.2,  0.4]))), \"y values are incorrect\"),\n",
    "        (np.all(np.isclose(dy[50:53], np.array([1., 1., 1.]))), \"yd derivative values are incorrect\")\n",
    "    ])\n",
    "    \n",
    "TEST_Linear()\n",
    "garbage_collect(['TEST_Linear'])"
   ]
  },
  {
   "cell_type": "markdown",
   "id": "eb79008e",
   "metadata": {
    "id": "eb79008e"
   },
   "source": [
    "### Sigmoid\n",
    "\n",
    "Next, we'll need to implement the  non-linear sigmoid activation function which squashes values between 0 and 1. Recall, the sigmoid activation function equation is given as follows:\n",
    "\n",
    "$$\n",
    "\\begin{align}\n",
    "g(z) &= \\frac{1}{1 + e^{-z}} \\\\\n",
    "&= \\frac{e^z}{1 + e^{z}}\n",
    "\\end{align}\n",
    "$$\n",
    "\n",
    "Further the derivative of the sigmoid activation is given as follows:\n",
    "\n",
    "$$\n",
    "\\begin{align}\n",
    "g'(z) &= \\frac{1}{1 + e^{-z}} (1 - \\frac{1}{1 + e^{-z}}) \\\\\n",
    "&= g(z)(1- g(z))\n",
    "\\end{align}\n",
    "$$\n",
    "\n",
    "#### TODO 7\n",
    "Complete the TODO by implementing the `activation()` and `derivative()` static methods for the `Sigmoid` class.\n",
    "\n",
    "1. Implement the `activation()` method by implementing the below version of the sigmoid function. Return the output of the equation.\n",
    "\n",
    "$$\n",
    "g(z) = \\frac{e^z}{1 + e^{z}}\n",
    "$$ \n",
    "\n",
    "2. Implement the `derivative()` method implementing the derivative of the sigmoid equation given above. Return the output of the equation.\n"
   ]
  },
  {
   "cell_type": "code",
   "execution_count": 72,
   "id": "1296d8ad",
   "metadata": {
    "id": "1296d8ad"
   },
   "outputs": [],
   "source": [
    "class Sigmoid():\n",
    "    @staticmethod\n",
    "    def activation(z):\n",
    "        # TODO 7.1\n",
    "        return (np.exp(z))/(1+np.exp(z))\n",
    "    \n",
    "    @staticmethod\n",
    "    def derivative(z):\n",
    "        # TODO 7.2\n",
    "        return ((np.exp(z))/(1+np.exp(z)))*(1 - ((np.exp(z))/(1+np.exp(z))))"
   ]
  },
  {
   "cell_type": "code",
   "execution_count": 73,
   "id": "fd3c2421",
   "metadata": {
    "id": "fd3c2421",
    "outputId": "6ad15eec-cd36-4199-affa-ec5b1c18fe36"
   },
   "outputs": [
    {
     "data": {
      "image/png": "[encoded data removed]",
      "text/plain": [
       "<Figure size 432x288 with 1 Axes>"
      ]
     },
     "metadata": {
      "needs_background": "light"
     },
     "output_type": "display_data"
    },
    {
     "name": "stdout",
     "output_type": "stream",
     "text": [
      "Your code PASSED the code check!\n"
     ]
    }
   ],
   "source": [
    "def TEST_Sigmoid():\n",
    "    x = np.arange(-10, 10 , .2)\n",
    "    y = Sigmoid.activation(x)\n",
    "    dy = Sigmoid.derivative(x)\n",
    "\n",
    "\n",
    "    plt.hlines(.5, xmin=-10, xmax=10, colors='black', linestyles='dotted')\n",
    "    plt.plot(x ,dy, label='Derivative')\n",
    "    plt.plot(x ,y, label='Activation')\n",
    "    plt.legend()\n",
    "    plt.show()\n",
    "\n",
    "\n",
    "    todo_check([\n",
    "        (np.all(np.isclose(y[50:53], np.array([0.5, 0.549834  , 0.59868766]))), \"y values are incorrect\"),\n",
    "        (np.all(np.isclose(dy[50:53], np.array([0.25, 0.24751657, 0.24026075]))), \"yd derivative values are incorrect\")\n",
    "    ])\n",
    "\n",
    "\n",
    "TEST_Sigmoid()\n",
    "garbage_collect(['TEST_Sigmoid'])"
   ]
  },
  {
   "cell_type": "markdown",
   "id": "caf1c11e",
   "metadata": {
    "id": "caf1c11e"
   },
   "source": [
    "### Tanh\n",
    "\n",
    "Next, we'll need to implement the  non-linear $\\tanh$  activation function which squashes values between -1 and 1. Recall, the $\\tanh$  activation function equation is given as follows:\n",
    "\n",
    "$$\n",
    "\\begin{align}\n",
    "g(z) &= \\tanh(z) \\\\\n",
    "&= \\frac{e^z - e^{-z}}{e^z + e^{-z}}\n",
    "\\end{align}\n",
    "$$\n",
    "\n",
    "Further, the derivative of the $\\tanh$  activation is given as follows:\n",
    "\n",
    "$$\n",
    "\\begin{align}\n",
    "g'(z) &=  1 - \\tanh^2(z)\n",
    "\\end{align}\n",
    "$$\n",
    "\n",
    "#### TODO 8\n",
    "\n",
    "Complete the TODO by implementing the `activation()` and `derivative()` static methods for the `Tanh` class.\n",
    "\n",
    "1. Implement the `activation()` method by implementing the $\\tanh$  equation given above. Return the output of the equation.\n",
    "    1. Hint: NumPy has already implemented a function for $\\tanh$\n",
    "\n",
    "\n",
    "2. Implement the `derivative()` method implementing the derivative of the $\\tanh$ equation given above. Return the output of the equation.\n"
   ]
  },
  {
   "cell_type": "code",
   "execution_count": 74,
   "id": "3a16353b",
   "metadata": {
    "id": "3a16353b"
   },
   "outputs": [],
   "source": [
    "class Tanh():\n",
    "    @staticmethod\n",
    "    def activation(z):\n",
    "        # TODO 8.1\n",
    "        return np.tanh(z)\n",
    "    \n",
    "    @staticmethod\n",
    "    def derivative(z):\n",
    "        # TODO 8.2\n",
    "        return 1 - np.square(np.tanh(z))"
   ]
  },
  {
   "cell_type": "code",
   "execution_count": 75,
   "id": "a1d80479",
   "metadata": {
    "id": "a1d80479",
    "outputId": "bc0c0612-9304-473c-c65b-7383117d7f84"
   },
   "outputs": [
    {
     "data": {
      "image/png": "[encoded data removed]",
      "text/plain": [
       "<Figure size 432x288 with 1 Axes>"
      ]
     },
     "metadata": {
      "needs_background": "light"
     },
     "output_type": "display_data"
    },
    {
     "name": "stdout",
     "output_type": "stream",
     "text": [
      "Your code PASSED the code check!\n"
     ]
    }
   ],
   "source": [
    "def TEST_Tanh():\n",
    "    x = np.arange(-10, 10 , .2)\n",
    "    y = Tanh.activation(x)\n",
    "    dy = Tanh.derivative(x)\n",
    "\n",
    "    plt.hlines(0, xmin=-10, xmax=10, colors='black', linestyles='dotted')\n",
    "    plt.plot(x ,dy, label='Derivative')\n",
    "    plt.plot(x ,y, label='Activation')\n",
    "    plt.legend()\n",
    "    plt.show();\n",
    "\n",
    "\n",
    "    todo_check([\n",
    "        (np.all(np.isclose(y[50:53], np.array([0.,  0.19737532,  0.37994896]))), \"y values are incorrect\"),\n",
    "        (np.all(np.isclose(dy[50:53], np.array([1., 0.96104298, 0.85563879]))), \"yd derivative values are incorrect\")\n",
    "    ])\n",
    "    \n",
    "TEST_Tanh()\n",
    "garbage_collect(['TEST_Tanh'])"
   ]
  },
  {
   "cell_type": "markdown",
   "id": "092dc3d4",
   "metadata": {
    "id": "092dc3d4"
   },
   "source": [
    "## Forward pass\n",
    "\n",
    "Now it's time to implement the feed-forward processes for our neural network algorithm. To do so we are going to look at how data flows through an 2 layer neural network. We'll use the below image of a 2 layer neural network as a schematic for our initial implementation. However, as we'll see, adding additional neurons will be trivial thanks to vector notation.\n",
    "\n",
    "**This section will be notation heavy. If you get lost please refer to the notes or the table of notation located at the top of this notebook.**\n",
    "\n",
    "Below is image of the base single layer neural network we will use to practice implementation. Note that it corresponds to our Forest Fire dataset as it has 29 feature inputs!\n",
    "\n",
    "<img src=\"https://live.staticflickr.com/65535/51990549288_5a1aa0b89e_k.jpg\" width=\"500\" height=\"409\" alt=\"single_layer_nn\">\n",
    "\n"
   ]
  },
  {
   "cell_type": "markdown",
   "id": "6533b54d",
   "metadata": {
    "id": "6533b54d"
   },
   "source": [
    "### Hidden layer\n",
    "\n",
    "Alright, the first step in computing the predictions for a neural network is compute the output of the first layer. In our case, this is the first and only hidden layer. Below is the image of the hidden layer and the input layer. The input layer will provide the inputs that the hidden layer will use to compute its outputs. \n",
    "\n",
    "The hidden layer will have 2 hidden units or neurons where each hidden neuron will use the sigmoid activation function.\n",
    "\n",
    "<img src=\"https://live.staticflickr.com/65535/51990489126_be1cd013c6_h.jpg\" width=\"300\" height=\"209\" alt=\"signle_nn_hidden_layers\">\n",
    "\n",
    "*Note, the red arrow in the picture points in the direction information is flowing. In this case, information is flowing forwards.*"
   ]
  },
  {
   "cell_type": "markdown",
   "id": "97162ae0",
   "metadata": {
    "id": "97162ae0"
   },
   "source": [
    "#### TODO 9\n",
    "\n",
    "Complete the TODO by implementing each equation to compute the output of the hidden layer using the training data `X_trn` and `y_trn`.\n",
    "\n",
    "**Initialization**\n",
    "1. Initialize the weights $\\Wm^{[1]}$ for the hidden layer. Store the output into `W1`. To do so, use the following tips:\n",
    "    1. The inputs for the hidden layer correspond to the **number of features** in the passed input data, in this case `X_trn`. \n",
    "    1. The hidden layer should have 2 hidden units or neurons.\n",
    "\n",
    "    1. The weights should have the shape (neurons, inputs). Think about what the inputs are and how many neurons the hidden layer has.\n",
    "    1. Use the NumPy's `rng.uniform()` function ([docs](https://numpy.org/doc/stable/reference/random/generated/numpy.random.uniform.html)) to randomly generate the weight matrix of shape (neurons, inputs). The weight values should be restricted between the range of -0.5 (minimum) and 0.5 (maximum). \n",
    "2. Initialize the biases $\\bv^{[1]}$ for the hidden layer. Store the output into `b1`. To do so, use the following tips:\n",
    "    1. The biases should be a vector of all 1s with the shape (neurons, 1). Try using `np.ones()` ([docs](https://numpy.org/doc/stable/reference/generated/numpy.ones.html)).\n",
    "\n",
    "**Computing linear combinations**\n",
    "\n",
    "3. Compute $\\Zm^{[1]}$ the linear combination of the input features with the weights for ALL neurons in the hidden layer simultaneously using `X_trn` as the input. Convert the below equation to do so where you might need to transpose certain variables. Store the output into `Z1`.\n",
    "    1. Hint: The input data `X_trn` must be of shape (features, data samples). However, to work with our neural network algorithm, we need `X_trn` to have the shape (data samples, features).\n",
    "$$\n",
    "\\Zm^{[1]} = \\Wm^{[1]} \\Xm+ \\bv^{[1]}.\n",
    "$$\n",
    "\n",
    "**Computing layer outputs**\n",
    "\n",
    "4. Compute $\\Am^{[1]} $ the output of ALL neurons in the hidden layer simultaneously by applying the sigmoid activation function to the linear combination output $\\Zm^{[1]}$. Convert the below equation where $g$ is the `Sigmoid` class and the `activation()` static method applies the activation function equation. Store the output into `A1`.\n",
    "    1. Hint: To call a static method such as the `activation()` method for the `Sigmoid` class you DO NOT need to instantiate the class. See an example in this [post](https://stackoverflow.com/questions/11759269/calling-static-method-in-python).\n",
    "\n",
    "$$\n",
    "\\Am^{[1]} = g(\\Zm^{[1]})\n",
    "$$"
   ]
  },
  {
   "cell_type": "code",
   "execution_count": 76,
   "id": "28f847a9",
   "metadata": {
    "id": "28f847a9",
    "outputId": "0d95e34b-c92f-4150-c61c-659ac08ac885"
   },
   "outputs": [
    {
     "name": "stdout",
     "output_type": "stream",
     "text": [
      "X_trn shape: (327, 29)\n"
     ]
    }
   ],
   "source": [
    "data = data_prep(df=forestfire_df, label_name='area', return_array=True)\n",
    "X_trn, y_trn, _, _, _,_ = data\n",
    "\n",
    "print(f\"X_trn shape: {X_trn.shape}\")"
   ]
  },
  {
   "cell_type": "code",
   "execution_count": 84,
   "id": "844b5aec",
   "metadata": {
    "id": "844b5aec",
    "outputId": "a78fc2eb-6570-441c-a6bb-47282eb031d1"
   },
   "outputs": [
    {
     "name": "stdout",
     "output_type": "stream",
     "text": [
      "Hidden layer weights shape: (2, 29)\n",
      "Hidden layer bias shape: (2, 1)\n",
      "Your code PASSED the code check!\n"
     ]
    }
   ],
   "source": [
    "rng = np.random.RandomState(0)\n",
    "\n",
    "# TODO 9.1\n",
    "W1 = rng.uniform(low=-0.5, high=0.5, size=(2, X_trn.shape[1]))\n",
    "\n",
    "# TODO 9.2\n",
    "b1 = np.ones((2, 1))\n",
    "\n",
    "print(f\"Hidden layer weights shape: {W1.shape}\")\n",
    "print(f\"Hidden layer bias shape: {b1.shape}\")\n",
    "\n",
    "todo_check([\n",
    "    (W1.shape == (2, 29), \"W1 has the wrong shape\"),\n",
    "    (b1.shape == (2, 1), \"b1 has the wrong shape\"),\n",
    "    (np.all(np.isclose(W1[0][:3], np.array([0.0488135 , 0.21518937, 0.10276338]), rtol=.01)), \"W1 has incorrect values\"),\n",
    "    (np.all(b1 == 1), 'b1 has incorrect values')\n",
    "])"
   ]
  },
  {
   "cell_type": "code",
   "execution_count": 86,
   "id": "54d059c6",
   "metadata": {
    "id": "54d059c6",
    "outputId": "865806b1-d7c6-47e9-e476-a0e3a602e6b5"
   },
   "outputs": [
    {
     "name": "stdout",
     "output_type": "stream",
     "text": [
      "(2, 327) =  (2, 29) @ (29, 327) + (2, 1)\n",
      "Z1 shape: (2, 327)\n",
      "Your code PASSED the code check!\n"
     ]
    }
   ],
   "source": [
    "# TODO 9.3\n",
    "Z1 = W1 @ X_trn.T + b1\n",
    "\n",
    "print(f\"{Z1.shape} =  {W1.shape} @ {X_trn.T.shape} + {b1.shape}\")\n",
    "print(f\"Z1 shape: {Z1.shape}\")\n",
    "\n",
    "todo_check([\n",
    "    (Z1.shape == (2, 327), \"Z1 has the wrong shape\"),\n",
    "    (np.all(np.isclose(Z1[0][:3], np.array([1.10623323, 0.96034753, 0.46206967]), rtol=.01)), \"Z1 has incorrect values\")\n",
    "])"
   ]
  },
  {
   "cell_type": "code",
   "execution_count": 87,
   "id": "a1584bf9",
   "metadata": {
    "id": "a1584bf9",
    "outputId": "657daedc-15df-4050-c2ba-087f31206ebb"
   },
   "outputs": [
    {
     "name": "stdout",
     "output_type": "stream",
     "text": [
      "A1 shape: (2, 327)\n",
      "Your code PASSED the code check!\n"
     ]
    }
   ],
   "source": [
    "# TODO 9.4\n",
    "A1 = Sigmoid.activation(Z1)\n",
    "\n",
    "print(f\"A1 shape: {A1.shape}\")\n",
    "\n",
    "todo_check([\n",
    "    (A1.shape == (2, 327), \"A1 has the wrong shape\"),\n",
    "    (np.all(np.isclose(A1[0][:3], np.array([0.7514262 , 0.72319138, 0.61350504]), rtol=.01)), \"A1 has incorrect values\")\n",
    "])"
   ]
  },
  {
   "cell_type": "markdown",
   "id": "aefdeba7",
   "metadata": {
    "id": "aefdeba7"
   },
   "source": [
    "### Output Layer\n",
    "\n",
    "The final step in computing the predictions for a neural network is to compute the output of the 2nd layer (i.e., output layer). Below is the image of the hidden layer and the output layer. The hidden layer will provide the inputs that the output layer will use to compute its SINGLE output for each data sample.\n",
    "\n",
    "The output layer will have 1 hidden unit or neuron which utilizes the identity/linear activation function (i.e., no activation function).\n",
    "\n",
    "<img src=\"https://live.staticflickr.com/65535/51990775824_3574bc97a4_h.jpg\" width=\"300\" height=\"239\" alt=\"signle_nn_output_layer\">\n",
    "\n",
    "*Note, the red arrow in the picture points in the direction information is flowing. In this case, information is flowing forwards.*"
   ]
  },
  {
   "cell_type": "markdown",
   "id": "a0b51104",
   "metadata": {
    "id": "a0b51104"
   },
   "source": [
    "#### TODO 10\n",
    "\n",
    "Complete the TODO by implementing each equation to compute the output of the output layer using the output from the hidden layer `A1`.\n",
    "\n",
    "**Initialization**\n",
    "1. Initialize the weights $\\wv^{[2]}$ of the output layer. Store the output into `W2`. To do so, use the following tips:\n",
    "    1. The inputs for the output layer correspond to the number of outputs from the previous layer's neurons `A1`. \n",
    "    1. The output layer should have 1 neuron.\n",
    "    1. The weights should have the shape (neurons, inputs). Think about how many neurons were in the previous layer and how many neurons the output layer has.\n",
    "    1. Use the NumPy's `rng.uniform()` function ([docs](https://numpy.org/doc/stable/reference/random/generated/numpy.random.uniform.html)) to randomly generate the weight matrix of shape (neurons, inputs). The weight values should be restricted between the range of -0.5 (minimum) and 0.5 (maximum). \n",
    "2. Initialize the biases $\\bv^{[2]}$ of the output layer. Store the output into `b2`. To do so, use the following tips:\n",
    "    1. The biases should be a vector of all 1s with the shape (neurons, 1). Try using `np.ones()` ([docs](https://numpy.org/doc/stable/reference/generated/numpy.ones.html)).\n",
    "\n",
    "**Computing linear combinations**\n",
    "\n",
    "3. Compute $\\zv^{[2]} $ the linear combination of the input features with the weights for ALL neurons in the output layer simultaneously. Convert the below equation to do so. Store the output into `Z2`.\n",
    "\n",
    "$$\n",
    "\\zv^{[2]} = \\wv^{[2]} \\Am^{[1]} + \\bv^{[2]}.\n",
    "$$\n",
    "\n",
    "**Computing layer outputs**\n",
    "\n",
    "4. Compute $\\av^{[2]}$ the output of ALL neurons in the output layer simultaneously by applying the identity/linear activation function (i.e., no activation function) to the linear combination output $\\zv^{[1]}$. Convert the below equation to do so where $g$ is the `Linear` class and the `activation()` static method applies the activation function equation. Store the output into `A2`.\n",
    "    1. Hint: To call a static method such as the `activation()` method for the `Linear` class you DO NOT need to instantiate the class. See an example in this [post](https://stackoverflow.com/questions/11759269/calling-static-method-in-python).\n",
    "\n",
    "$$\n",
    "\\av^{[2]} = g(\\zv^{[2]})\n",
    "$$"
   ]
  },
  {
   "cell_type": "code",
   "execution_count": 99,
   "id": "e322ee8e",
   "metadata": {
    "id": "e322ee8e",
    "outputId": "b9218f3d-8288-45d3-8e6c-1d00a2018a5d"
   },
   "outputs": [
    {
     "name": "stdout",
     "output_type": "stream",
     "text": [
      "Input activations A1 shape: (2, 327)\n",
      "Output layer weights shape: (1, 2)\n",
      "Output layer bias shape: (1, 1)\n",
      "Your code PASSED the code check!\n"
     ]
    }
   ],
   "source": [
    "rng = np.random.RandomState(1)\n",
    "\n",
    "# TODO 10.1\n",
    "W2 = rng.uniform(low=-0.5, high=0.5, size=(1, 2))\n",
    "# TODO 10.2\n",
    "b2 = np.ones((1,1))\n",
    "\n",
    "print(f\"Input activations A1 shape: {A1.shape}\")\n",
    "print(f\"Output layer weights shape: {W2.shape}\")\n",
    "print(f\"Output layer bias shape: {b2.shape}\")\n",
    "\n",
    "todo_check([\n",
    "    (W2.shape == (1, 2), \"W2 has the wrong shape\"),\n",
    "    (b2.shape == (1, 1), \"b1 has the wrong shape\"),\n",
    "    (np.all(np.isclose(W2[0][:3], np.array([-0.082978  ,  0.22032449]), rtol=.01)), \"W2 has incorrect values\"),\n",
    "    (np.all(b2 == 1), \"b1 has incorrect values\"),\n",
    "])"
   ]
  },
  {
   "cell_type": "code",
   "execution_count": 100,
   "id": "8b01fc05",
   "metadata": {
    "id": "8b01fc05",
    "outputId": "515713fe-d149-4ae5-d058-a7f28871de30"
   },
   "outputs": [
    {
     "name": "stdout",
     "output_type": "stream",
     "text": [
      "(1, 327) =  (1, 2) @ (2, 327) + (1, 1)\n",
      "Z2 shape: (1, 327)\n",
      "Your code PASSED the code check!\n"
     ]
    }
   ],
   "source": [
    "# TODO 10.3\n",
    "Z2 = W2 @ A1 + b2\n",
    "\n",
    "print(f\"{Z2.shape} =  {W2.shape} @ {A1.shape} + {b2.shape}\")\n",
    "print(f\"Z2 shape: {Z2.shape}\")\n",
    "\n",
    "todo_check([\n",
    "    (Z2.shape == (1, 327), \"Z2 has the wrong shape\"),\n",
    "    (np.all(np.isclose(Z2[0][:3], np.array([1.10726381, 1.06542374, 1.13297247]), rtol=.01)), \"Z2 has incorrect values\"),\n",
    "])"
   ]
  },
  {
   "cell_type": "code",
   "execution_count": 101,
   "id": "12bffb65",
   "metadata": {
    "id": "12bffb65",
    "outputId": "5b411779-070a-47ae-d56a-4ca46f84d7b2"
   },
   "outputs": [
    {
     "name": "stdout",
     "output_type": "stream",
     "text": [
      "A2 shape: (1, 327)\n",
      "Your code PASSED the code check!\n"
     ]
    }
   ],
   "source": [
    "# TODO 10.4\n",
    "A2 = Linear.activation(Z2)\n",
    "\n",
    "print(f\"A2 shape: {A2.shape}\")\n",
    "\n",
    "todo_check([\n",
    "    (A2.shape == (1, 327), \"A2 has the wrong shape\"),\n",
    "    (np.all(np.isclose(A2[0][:3], np.array([1.10726381, 1.06542374, 1.13297247]), rtol=.01)), \"A2 has incorrect values\"),\n",
    "])"
   ]
  },
  {
   "cell_type": "markdown",
   "id": "62aa6516",
   "metadata": {
    "id": "62aa6516"
   },
   "source": [
    "Notice we need to transpose `A2` the output from the output layer to make the predictions match the shape of the original labels `y_trn` (data samples, 1). We have to do this because we transposed the inputs to be (data samples, features)."
   ]
  },
  {
   "cell_type": "code",
   "execution_count": 102,
   "id": "c1dbe0ea",
   "metadata": {
    "id": "c1dbe0ea",
    "outputId": "602c81d6-9b7d-42eb-c931-5ccf0492dbcc"
   },
   "outputs": [
    {
     "data": {
      "text/plain": [
       "(1, 327)"
      ]
     },
     "execution_count": 102,
     "metadata": {},
     "output_type": "execute_result"
    }
   ],
   "source": [
    "A2.shape"
   ]
  },
  {
   "cell_type": "code",
   "execution_count": 103,
   "id": "437e01db",
   "metadata": {
    "id": "437e01db",
    "outputId": "6da3daf9-86f9-4d6b-9ddd-31ad355113a7"
   },
   "outputs": [
    {
     "data": {
      "text/plain": [
       "(327, 1)"
      ]
     },
     "execution_count": 103,
     "metadata": {},
     "output_type": "execute_result"
    }
   ],
   "source": [
    "y_trn.shape"
   ]
  },
  {
   "cell_type": "code",
   "execution_count": 104,
   "id": "530855e0",
   "metadata": {
    "id": "530855e0",
    "outputId": "0b629e0f-7758-431d-dc7f-a896ac922a78"
   },
   "outputs": [
    {
     "data": {
      "text/plain": [
       "(327, 1)"
      ]
     },
     "execution_count": 104,
     "metadata": {},
     "output_type": "execute_result"
    }
   ],
   "source": [
    "y_hat = A2.T\n",
    "y_hat.shape"
   ]
  },
  {
   "cell_type": "code",
   "execution_count": 105,
   "id": "6ae0c37b",
   "metadata": {
    "id": "6ae0c37b"
   },
   "outputs": [],
   "source": [
    "garbage_collect(['data', 'X_trn', 'y_trn', 'y_hat', 'A2', 'Z2', 'b2', 'W2', 'rng', 'A1', 'Z1', 'b1', 'W1', 'n_input_features', 'hidden_neurons'])"
   ]
  },
  {
   "cell_type": "markdown",
   "id": "0913be5d",
   "metadata": {
    "id": "0913be5d"
   },
   "source": [
    "### Putting it all together\n",
    "\n",
    "We can put all the code together by putting the weight and bias initializations into a function called `init_weights()` and the forward pass code into a function called `forward()`.\n",
    "\n",
    "The `init_weights()` function will simply initialize the weights and biases for each layer for us and return them in a `weights` dictionary and a `bias` dictionary. The `forward()` function will apply the forward pass for all layers starting from the input layer and ending with the output layer."
   ]
  },
  {
   "cell_type": "markdown",
   "id": "c54e783b",
   "metadata": {
    "id": "c54e783b"
   },
   "source": [
    "#### TODO 11\n",
    "Complete the TODO by moving the code you used for prior TODOs into the `init_weights()` function.\n",
    "\n",
    "1. Initialize the weights using the instructions given in `TODO 10.1`. Use the `n_inputs_features`, `hidden_neurons`, and `output_neurons` arguments to determine the weight shapes for the hidden and output layers. Store the hidden layer weights into the dictionary `W` with the key `W1`.  Store the output layer weights into the dictionary `W` with the key `W2`.\n",
    "\n",
    "\n",
    "2. Initialize the biases  using the instructions given in `TODO 10.2`. Use the  `hidden_neurons` and `output_neurons` arguments to determine bias shapes for the hidden and output layers. Store the hidden layer biases into the dictionary `b` with the key `b1`.  Store the output layer biases into the dictionary `b` with the key `b2`."
   ]
  },
  {
   "cell_type": "code",
   "execution_count": 106,
   "id": "71976f2c",
   "metadata": {
    "id": "71976f2c"
   },
   "outputs": [],
   "source": [
    "def init_weights(\n",
    "    n_input_features: int, \n",
    "    hidden_neurons: int, \n",
    "    output_neurons: int, \n",
    "    seed=0) -> Tuple[dict, dict]:\n",
    "    \"\"\" Initilize a two layer neural network's weights and baises\n",
    "        \n",
    "        Args:\n",
    "            n_input_features: The number of input features\n",
    "\n",
    "            hidden_neurons: The number of hidden neurons or units to \n",
    "                use in the hidden layer.\n",
    "\n",
    "            output_neurons: The number of output neurons to use in \n",
    "                the output layer.\n",
    "    \"\"\"\n",
    "    \n",
    "    W = {}\n",
    "    b = {}\n",
    "    \n",
    "    rng = np.random.RandomState(seed)\n",
    "    # TODO 11.1\n",
    "    W['W1'] = rng.uniform(low=-0.5, high=0.5, size=(hidden_neurons, n_input_features))\n",
    "    W['W2'] = rng.uniform(low=-0.5, high=0.5, size=(output_neurons, hidden_neurons))\n",
    "    # TODO 11.2\n",
    "    b['b1'] = np.ones([hidden_neurons, 1])\n",
    "    b['b2'] = np.ones([output_neurons, 1])\n",
    "    \n",
    "    return W, b"
   ]
  },
  {
   "cell_type": "markdown",
   "id": "784075e1",
   "metadata": {
    "id": "784075e1"
   },
   "source": [
    "Run the below `TEST_init_weights()` function to test your implementation of the `init_weights()` function."
   ]
  },
  {
   "cell_type": "code",
   "execution_count": 107,
   "id": "793f71df",
   "metadata": {
    "id": "793f71df",
    "outputId": "75d88b6f-d3c2-44be-9530-f55826caa7a9"
   },
   "outputs": [
    {
     "data": {
      "text/plain": [
       "{'W1': array([[ 0.0488135 ,  0.21518937,  0.10276338,  0.04488318, -0.0763452 ,\n",
       "          0.14589411, -0.06241279,  0.391773  ,  0.46366276, -0.11655848,\n",
       "          0.29172504,  0.02889492,  0.06804456,  0.42559664, -0.42896394,\n",
       "         -0.4128707 , -0.4797816 ,  0.33261985,  0.27815675,  0.37001215,\n",
       "          0.47861834,  0.29915856, -0.03852064,  0.28052918, -0.38172557,\n",
       "          0.13992102, -0.35664671,  0.44466892,  0.02184832],\n",
       "        [-0.08533806, -0.23544439,  0.27423369, -0.04384967,  0.06843395,\n",
       "         -0.4812102 ,  0.1176355 ,  0.11209572,  0.116934  ,  0.44374808,\n",
       "          0.1818203 , -0.1404921 , -0.06296805,  0.1976312 , -0.43977453,\n",
       "          0.16676672,  0.17063787, -0.28961744, -0.3710737 , -0.18457165,\n",
       "         -0.13628923,  0.07019677, -0.06139849,  0.48837384, -0.39795519,\n",
       "         -0.29112324, -0.33869048,  0.15310833, -0.2467084 ]]),\n",
       " 'W2': array([[-0.03368923, -0.25557441]])}"
      ]
     },
     "metadata": {},
     "output_type": "display_data"
    },
    {
     "data": {
      "text/plain": [
       "{'b1': array([[1.],\n",
       "        [1.]]),\n",
       " 'b2': array([[1.]])}"
      ]
     },
     "metadata": {},
     "output_type": "display_data"
    },
    {
     "name": "stdout",
     "output_type": "stream",
     "text": [
      "Your code PASSED the code check!\n"
     ]
    }
   ],
   "source": [
    "def TEST_init_weights():\n",
    "    # Get training data\n",
    "    data = data_prep(df=forestfire_df,label_name='area', return_array=True)\n",
    "    X_trn, y_trn, _, _, _,_ = data\n",
    "\n",
    "    # Init weights and baises\n",
    "    W, b = init_weights(\n",
    "        n_input_features=X_trn.shape[1],\n",
    "        hidden_neurons=2,\n",
    "        output_neurons=1\n",
    "    )\n",
    "    \n",
    "    display(W)\n",
    "    display(b)\n",
    "\n",
    "    todo_check([\n",
    "        ('W1' in W, \"W dict is missing key 'W1'\"),\n",
    "        ('W2' in W, \"W dict is missing key 'W2'\"),\n",
    "        ('b1' in b, \"b dict is missing key 'b1'\"),\n",
    "        ('b2' in b, \"b dict is missing key 'b2'\"),\n",
    "        (W['W1'].shape == (2, X_trn.shape[1]), \"W['W1'] has the wrong shape\"),\n",
    "        (W['W2'].shape == (1, 2), \"W['W2'] has the wrong shape\"),\n",
    "        (b['b1'].shape == (2, 1), \"b['b1'] has the wrong shape\"),\n",
    "        (b['b2'].shape == (1, 1), \"b['b2'] has the wrong shape\"),\n",
    "        (np.all(np.isclose(W['W1'][0][:3], np.array([0.0488135 , 0.21518937, 0.10276338]), rtol=.01)), \"W['W1'] has incorrect values\"),\n",
    "        (np.all(b['b1']  == 1), \"b['b1'] has incorrect values\"),\n",
    "        (np.all(np.isclose(W['W2'][0][:3], np.array([-0.03368923, -0.25557441]), rtol=.01)), \"W['W2'] has incorrect values\"),\n",
    "        (np.all(b['b2'] == 1), \"b['b2'] has incorrect values\"),\n",
    "    ])\n",
    "    \n",
    "TEST_init_weights()\n",
    "garbage_collect(['TEST_init_weights'])"
   ]
  },
  {
   "cell_type": "markdown",
   "id": "98390858",
   "metadata": {
    "id": "98390858"
   },
   "source": [
    "#### TODO 12\n",
    "Complete the TODO by recoding the code you used for prior TODOs inside the `forward()` function. Notice, the weights and biases are stored in dictionaries now. Further, the activation function for ALL the hidden layer neurons is passed to the `g_hidden` argument while the activation function for ALL the output layer neurons is passed to the `g_output` argument. You'll need to update the code to match these changes.\n",
    "\n",
    "**Input layer**\n",
    "\n",
    "1. Store the transposed input features `X` into the dictionary `As` with the key `A0`. Recall, neural networks only take input features with the shape (features, data samples). Further, the notation $\\Am^{[0]}$ is often used to represent $\\Xm$ as the output for the input layer.\n",
    "\n",
    "**Hidden layer**\n",
    "\n",
    "Inputs are stored in `As['A0']`, weights are stored in `W['W1']` and biases are stored in `b['b1']` and activation function for the neurons is stored in `g_hidden` argument.\n",
    "\n",
    "2. Compute $\\Zm^{[1]}$ the linear computation of inputs for ALL neurons using `As['A0']`. Store the output into the dictionary `Zs` with the key `Z1`.\n",
    "$$\n",
    "\\Zm^{[1]} = \\Wm^{[1]} \\Am^{[0]}+ \\bv^{[1]}.\n",
    "$$\n",
    "3. Compute $\\Am^{[1]}$ the activation output for ALL neurons. Store the output into the dictionary `As` with the key `A1`.\n",
    "$$\n",
    "\\Am^{[1]} = g(\\Zm^{[1]})\n",
    "$$\n",
    "\n",
    "**Output layer**\n",
    "\n",
    "Inputs are stored in `As['A1']`, weights are stored in `W['W2']`, biases are stored in `b['b2']` and activation function for the neuron is stored in `g_output` argument.\n",
    "\n",
    "4. Compute $\\zv^{[2]}$ the linear computation of inputs for ALL neurons. Store the output into the dictionary `Zs` with the key `Z2`.\n",
    "$$\n",
    "\\zv^{[2]} = \\wv^{[2]} \\Am^{[1]} + \\bv^{[2]}.\n",
    "$$\n",
    "5. Compute $\\av^{[2]}$ the activation output for ALL neurons. Store the output into the dictionary `As` with the key `A2`.\n",
    "$$\n",
    "\\av^{[2]} = g(\\zv^{[2]})\n",
    "$$\n",
    "6. Transpose the output layer output `As['A2']` to make predictions match the shape of the ground truth which is (data samples, 1). Store the output into `y_hat`.\n",
    "\n",
    "$$\n",
    "\\hat{\\yv} = \\av^{[2]\\top}\n",
    "$$\n"
   ]
  },
  {
   "cell_type": "code",
   "execution_count": 110,
   "id": "000ec5c1",
   "metadata": {
    "id": "000ec5c1"
   },
   "outputs": [],
   "source": [
    "def forward(\n",
    "    X: np.ndarray, \n",
    "    W: Dict[str, np.ndarray], \n",
    "    b:  Dict[str, np.ndarray], \n",
    "    g_hidden: object, \n",
    "    g_output: object) -> Tuple[np.ndarray, dict, dict]:\n",
    "    \"\"\" Forward pass for 2 layer neural network\n",
    "    \n",
    "        Args:\n",
    "            X: Input features\n",
    "            \n",
    "            W: Weights for all layers given as a dictionary\n",
    "            \n",
    "            b: Biases for all layers given as a dictionary\n",
    "            \n",
    "            g_hidden: Activation class containing a static method \n",
    "                called activation() for the first hidden layer.\n",
    "                \n",
    "            g_output: Activation class containing a static method \n",
    "                called activation() for the output layer.\n",
    "    \"\"\"\n",
    "    \n",
    "    Zs = {}\n",
    "    As = {}\n",
    "    # Input layer\n",
    "    # TODO 12.1\n",
    "    As['A0'] = X.T\n",
    "    \n",
    "    # hidden layer\n",
    "    # TODO 12.2\n",
    "    Zs['Z1'] = W['W1'] @ As['A0'] + b['b1']\n",
    "    # TODO 12.3\n",
    "    As['A1'] = Sigmoid.activation(Zs['Z1'])\n",
    "    \n",
    "    # Output layer\n",
    "    # TODO 12.4\n",
    "    Zs['Z2'] = W['W2'] @ As['A1'] + b['b2']\n",
    "    # TODO 12.5\n",
    "    As['A2'] = Linear.activation(Zs['Z2'])\n",
    "    # TODO 12.6\n",
    "    y_hat = As['A2'].T\n",
    "    \n",
    "    return y_hat, Zs, As"
   ]
  },
  {
   "cell_type": "markdown",
   "id": "288e17ea",
   "metadata": {
    "id": "288e17ea"
   },
   "source": [
    "Run the below code to test your implementation of the `forward()` function."
   ]
  },
  {
   "cell_type": "code",
   "execution_count": 111,
   "id": "225ce544",
   "metadata": {
    "id": "225ce544",
    "outputId": "c8dafb77-7c35-4a29-9316-21ce08c130ea"
   },
   "outputs": [
    {
     "name": "stdout",
     "output_type": "stream",
     "text": [
      "Your code PASSED the code check!\n"
     ]
    }
   ],
   "source": [
    "# Get training data\n",
    "data = data_prep(df=forestfire_df, label_name='area', return_array=True)\n",
    "X_trn, y_trn, _, _, _,_ = data\n",
    "\n",
    "# Init weights and baises\n",
    "W, b = init_weights(\n",
    "    n_input_features=X_trn.shape[1],\n",
    "    hidden_neurons=2,\n",
    "    output_neurons=1\n",
    ")\n",
    "\n",
    "# Perform 1 forward pass\n",
    "y_hat, Zs, As = forward(\n",
    "    X=X_trn, \n",
    "    W=W,\n",
    "    b=b, \n",
    "    g_hidden=Sigmoid, \n",
    "    g_output=Linear\n",
    ")\n",
    "\n",
    "# Compute performance measures\n",
    "sse_score = sse(y=y_trn, y_hat=y_hat)\n",
    "mse_score = mse(y=y_trn, y_hat=y_hat)\n",
    "\n",
    "todo_check([\n",
    "    (y_hat.shape == (327, 1), \"y_hat has the wrong shape\"),\n",
    "    (As['A0'].shape == (29, 327), \"As['A0'] has the wrong shape\"),\n",
    "    (Zs['Z1'].shape == (2, 327), \"Zs['Z1'] has the wrong shape\"),\n",
    "    (Zs['Z2'].shape == (1, 327), \"Zs['Z2'] has the wrong shape\"),\n",
    "    (np.isclose(sse_score, 680.360, rtol=.01), 'sse_score is incorrect'),\n",
    "    (np.isclose(mse_score, 2.080612, rtol=.01),'mse_score is incorrect'),\n",
    "    (np.all(np.isclose(As['A1'][0][:3], np.array([0.7514262 , 0.72319138, 0.61350504]),rtol=.01)), \"As['A1'] has incorrect values\"),\n",
    "    (np.all(np.isclose(As['A2'][0][:3], np.array([0.77793242, 0.83013544, 0.76603249]),rtol=.01)), \"As['A2'] has incorrect values\"),\n",
    "])"
   ]
  },
  {
   "cell_type": "markdown",
   "id": "096abb39",
   "metadata": {
    "id": "096abb39"
   },
   "source": [
    "Below, you can see the output for the the `sse_score`, `mse_score`, `y_hat`, `W`, `b`, `Zs`, and `As`. Keep in mind, `W`, `b`, `Zs`, and `As` are all dictionaries where the keys correspond to layers!!"
   ]
  },
  {
   "cell_type": "code",
   "execution_count": 112,
   "id": "47a29049",
   "metadata": {
    "id": "47a29049",
    "outputId": "2171a314-9c2e-4696-a63f-52629fb2459f"
   },
   "outputs": [
    {
     "data": {
      "text/plain": [
       "680.360422268039"
      ]
     },
     "execution_count": 112,
     "metadata": {},
     "output_type": "execute_result"
    }
   ],
   "source": [
    "sse_score"
   ]
  },
  {
   "cell_type": "code",
   "execution_count": 113,
   "id": "bd91424f",
   "metadata": {
    "id": "bd91424f",
    "outputId": "c14efdfd-456e-4de6-8ced-79c0c77c4218"
   },
   "outputs": [
    {
     "data": {
      "text/plain": [
       "2.0806129121346757"
      ]
     },
     "execution_count": 113,
     "metadata": {},
     "output_type": "execute_result"
    }
   ],
   "source": [
    "mse_score"
   ]
  },
  {
   "cell_type": "code",
   "execution_count": 114,
   "id": "bd1268ff",
   "metadata": {
    "id": "bd1268ff",
    "outputId": "600a5130-d86d-4e82-eb98-e80e41be2eb5"
   },
   "outputs": [
    {
     "data": {
      "text/plain": [
       "{'W1': array([[ 0.0488135 ,  0.21518937,  0.10276338,  0.04488318, -0.0763452 ,\n",
       "          0.14589411, -0.06241279,  0.391773  ,  0.46366276, -0.11655848,\n",
       "          0.29172504,  0.02889492,  0.06804456,  0.42559664, -0.42896394,\n",
       "         -0.4128707 , -0.4797816 ,  0.33261985,  0.27815675,  0.37001215,\n",
       "          0.47861834,  0.29915856, -0.03852064,  0.28052918, -0.38172557,\n",
       "          0.13992102, -0.35664671,  0.44466892,  0.02184832],\n",
       "        [-0.08533806, -0.23544439,  0.27423369, -0.04384967,  0.06843395,\n",
       "         -0.4812102 ,  0.1176355 ,  0.11209572,  0.116934  ,  0.44374808,\n",
       "          0.1818203 , -0.1404921 , -0.06296805,  0.1976312 , -0.43977453,\n",
       "          0.16676672,  0.17063787, -0.28961744, -0.3710737 , -0.18457165,\n",
       "         -0.13628923,  0.07019677, -0.06139849,  0.48837384, -0.39795519,\n",
       "         -0.29112324, -0.33869048,  0.15310833, -0.2467084 ]]),\n",
       " 'W2': array([[-0.03368923, -0.25557441]])}"
      ]
     },
     "execution_count": 114,
     "metadata": {},
     "output_type": "execute_result"
    }
   ],
   "source": [
    "W"
   ]
  },
  {
   "cell_type": "code",
   "execution_count": 115,
   "id": "1560ded3",
   "metadata": {
    "id": "1560ded3",
    "outputId": "4416ca4e-150f-47f7-a5e3-3e77764e7a8c"
   },
   "outputs": [
    {
     "data": {
      "text/plain": [
       "{'b1': array([[1.],\n",
       "        [1.]]),\n",
       " 'b2': array([[1.]])}"
      ]
     },
     "execution_count": 115,
     "metadata": {},
     "output_type": "execute_result"
    }
   ],
   "source": [
    "b"
   ]
  },
  {
   "cell_type": "code",
   "execution_count": 116,
   "id": "0460cace",
   "metadata": {
    "id": "0460cace",
    "outputId": "df30bdeb-38c4-4b44-b22b-78c8b0206a89"
   },
   "outputs": [
    {
     "data": {
      "text/plain": [
       "{'Z1': array([[ 1.10623323,  0.96034753,  0.46206967, -0.50514863,  0.12042766,\n",
       "          1.77345091,  2.35575052, -8.57522445,  0.85582786, -0.19400628,\n",
       "          1.91059301,  1.93048677, -0.14456068,  3.34177131, -0.50316614,\n",
       "          1.33407706,  0.07615618, -1.16500805,  2.53290132, -1.15991197,\n",
       "          0.69577067,  3.18048908,  0.17076103, -5.64857572, -0.3027869 ,\n",
       "          0.73075035,  3.51702609, -1.5448738 ,  3.09180038,  0.89992932,\n",
       "         -0.10758145,  1.122188  , -5.71263948,  2.20147576,  1.1606645 ,\n",
       "         -0.56128324,  1.64751464,  0.77999293,  1.42898251, -1.02015898,\n",
       "         -1.17329561,  1.46670255,  1.44556629,  2.79207385,  1.15427591,\n",
       "         -0.51640409,  0.15800634,  2.66730807,  0.57480769,  0.29678078,\n",
       "          2.00942184,  1.93174222,  3.3773085 ,  1.13748623,  0.73517526,\n",
       "          1.60971249,  1.21141017, -1.99001044,  1.17441071,  0.84931772,\n",
       "          1.11596178,  1.00474429,  2.64382002,  3.44783131, -0.9193632 ,\n",
       "         -0.59130026,  1.10533438,  2.75457666,  0.86500475,  2.16550985,\n",
       "          1.20300283,  0.58040298,  2.19960466,  1.71540297,  1.47312863,\n",
       "         -0.24184459, -1.23435878,  0.0213702 ,  3.15935901,  1.39299468,\n",
       "          2.49673947,  1.58910091,  2.78468707,  0.54519897, -0.22511806,\n",
       "          1.6665659 ,  1.44722491,  3.05484332,  0.76456304,  1.69071145,\n",
       "          2.50383512,  0.80058154, -3.00962976,  0.95978718,  1.50896265,\n",
       "         -2.56754151,  1.43945115,  3.23995685,  3.42867878,  0.70309585,\n",
       "          0.52289847,  1.1918299 , -1.51865707,  1.49721961,  1.03292729,\n",
       "         -1.60992448,  2.95928326,  1.62227678,  2.45266323,  1.3716357 ,\n",
       "         -1.41310641, -0.50589429,  1.6335296 ,  2.04574491,  2.23891349,\n",
       "          0.32272742,  4.56932097,  1.41549691,  1.37429783,  1.60575034,\n",
       "          0.87306824,  1.27881246,  2.23516688, -0.43478884,  2.62572879,\n",
       "          0.26906087, -0.72184323,  2.81570873,  1.59854415,  0.42319698,\n",
       "          2.84825623,  3.00064637, -0.47641757,  3.74649143,  0.72813278,\n",
       "          2.0205045 , -1.35280616,  1.9857797 ,  1.28560754,  2.0167899 ,\n",
       "          1.07664723,  1.77495794,  1.65976058, -1.09070383, -1.86663843,\n",
       "          0.60150231,  0.69479793,  2.64964732,  1.01003401,  1.22904386,\n",
       "          1.89946607,  1.47197284, -0.02669431,  1.97312568, -0.31191426,\n",
       "         -1.3734237 ,  0.03379055,  0.32956518,  1.10534444,  1.74269513,\n",
       "          1.79275674,  1.84118738,  1.162758  ,  1.01550112,  0.85650025,\n",
       "          0.35083798,  3.17399317,  0.75820564, -0.73614691,  2.49310062,\n",
       "          0.40137464,  1.42257231,  0.64332238, -1.1281798 ,  0.48832568,\n",
       "          3.64660604,  2.18389104,  0.91486501,  1.47042821,  2.02153994,\n",
       "         -0.00779963,  0.94790711,  2.19741262,  1.9071968 ,  1.03921683,\n",
       "          2.84825623,  1.5856311 , -0.10346419,  0.57628533,  0.65608411,\n",
       "          2.42638821, -0.5521288 ,  3.12634657,  3.41334182, -0.81273127,\n",
       "         -0.20641243, -0.58992893,  1.69756609,  2.4801348 , -0.17369973,\n",
       "          0.57403436,  1.75902151,  0.51993228,  1.60381548,  2.13084653,\n",
       "          1.93895715, -1.22378576,  1.60310906,  2.3439766 , -0.19109973,\n",
       "         -0.81558628,  0.57421673,  0.21676705,  0.22552596,  1.29644735,\n",
       "          1.75345826,  4.11465767,  0.98576   ,  2.70122049,  0.51754609,\n",
       "          0.57066378,  1.39003891,  0.87136679,  1.71200722,  0.93274224,\n",
       "          0.69972109,  1.41992594,  1.92891239,  1.26930925, -0.07645557,\n",
       "          1.57124212,  2.09313612, -1.03518746, -0.25174944,  0.39019024,\n",
       "         -0.72586867,  1.06729682, -0.05680312,  1.27691679,  3.44442974,\n",
       "          1.62379299,  0.91550157,  2.24138496,  0.72910326,  0.46801537,\n",
       "          2.15558436, -0.29198395,  0.55368952,  1.06251195,  1.35695431,\n",
       "         -0.50893143,  0.57037115,  0.2935412 ,  0.19854529,  0.63295092,\n",
       "          1.56001147,  0.90386484,  1.03408161,  2.85363045,  1.7413562 ,\n",
       "          0.69577067,  0.34376394,  0.80253087,  0.20191452,  1.88935641,\n",
       "          1.72636544,  1.4683026 , -0.81872365, -1.36234783,  2.88462462,\n",
       "          0.10189168,  0.13705067,  2.9566082 ,  2.25371614,  0.74930803,\n",
       "         -0.40583655,  1.62729911,  1.0018203 , -1.85950753,  0.18861311,\n",
       "         -1.41005257,  0.34758986,  2.21761798,  1.34183648,  0.95263784,\n",
       "         -1.19952463,  0.70990444,  1.19749708,  0.70258854,  3.69893585,\n",
       "          2.86618636,  1.31486304,  0.76059213,  0.50931594,  0.87076242,\n",
       "          1.6202936 ,  1.86716914, -0.47493667,  0.57477127,  3.95130043,\n",
       "          0.05549749,  1.72891263,  1.64486873,  1.77910561,  1.02666259,\n",
       "          3.82591323,  0.6630274 , -2.37022118,  2.63478891,  0.08198699,\n",
       "          3.04038074,  0.49698632,  0.4737766 ,  0.42891709,  0.19854529,\n",
       "          3.03240098,  0.61853412,  1.70536516,  2.0753399 ,  1.44166772,\n",
       "          4.64849358,  3.47763267,  2.52731667, -0.2240353 , -1.54045232,\n",
       "         -0.06420832,  2.1525176 ],\n",
       "        [ 1.20743461,  0.27903232,  1.61848944,  1.39726824,  5.09285369,\n",
       "         -0.03547377, -0.89428138,  3.58098993,  0.95485695,  0.60159291,\n",
       "          0.13060281,  1.11792026,  2.78405756,  0.57487373,  0.05177137,\n",
       "          1.82463154,  0.70809859, -1.5608458 ,  0.03406442,  0.6062125 ,\n",
       "          0.32573915,  0.55942955,  1.3069176 ,  3.23594554,  1.5969345 ,\n",
       "          1.79402516,  0.70133086, -2.74860362, -0.15119696,  0.31211198,\n",
       "          0.98242929,  1.75688624,  3.11173975,  0.02656593, -0.22530616,\n",
       "         -0.29563521,  1.50608239,  1.27530744,  0.60230836,  0.82147067,\n",
       "         -0.21712041, -0.06325112,  0.49842684,  1.75841799, -0.4509646 ,\n",
       "         -0.74712429,  1.66999139,  0.64422764,  0.65828391,  1.49703522,\n",
       "         -0.73915275,  1.81638672,  0.52319995, -0.23286952, -0.30186687,\n",
       "          1.19926407,  0.52973245, -0.15529434,  1.26467615,  2.43501475,\n",
       "          0.36276503,  0.61085862,  0.30135906,  2.23224332,  0.64536187,\n",
       "          5.02487799,  2.23313499,  0.70783765,  0.01175262,  2.25290213,\n",
       "          1.22895336, -0.36396071,  1.24185992,  0.58062318,  0.98690749,\n",
       "          0.23829686, -0.26867406,  0.85716303,  1.29381617, -0.07086974,\n",
       "         -0.30297614, -1.30374842, -1.44014121,  0.66822639,  1.66539756,\n",
       "          1.31061191,  0.48309224,  1.46848782,  1.13968537,  1.75939859,\n",
       "          1.4623456 ,  1.47330451,  0.00987642, -0.16956915,  2.52132856,\n",
       "          0.07970484,  1.56861773,  0.7382856 , -0.93656764,  0.6338067 ,\n",
       "          1.31782861,  0.91147589,  3.20707051,  1.51003959,  1.15718522,\n",
       "         -0.85493086,  1.18927068,  1.2558553 ,  0.84732806,  2.15627156,\n",
       "         -0.22866822,  1.53223272,  1.21883708,  2.42499064,  0.25896249,\n",
       "          0.41253161,  2.42250442, -0.03350825,  1.75246134,  1.32750627,\n",
       "          1.47411457,  0.47699648,  1.45810466, -1.31986265, -0.8069829 ,\n",
       "          2.44771237, -0.67801827,  2.27465475,  0.52572845,  2.41312178,\n",
       "          1.93544242,  1.28073992,  0.89789181,  0.36296878,  0.98528241,\n",
       "          2.93589954, -0.87181374,  1.46881571,  0.31219888,  1.82433073,\n",
       "          2.3567834 ,  1.6191467 ,  0.61205692,  1.83502875,  0.37571396,\n",
       "          0.16776804,  2.26799787, -0.24122213,  1.09583975,  1.48755415,\n",
       "          1.80645494, -0.4507815 ,  2.73025495, -2.72784072,  1.65971063,\n",
       "         -0.73048217,  1.01937769,  2.83712943,  5.9180806 ,  0.5395181 ,\n",
       "          1.13941046,  0.31450169,  1.92155492,  0.08378814,  0.72674362,\n",
       "          5.27561942,  2.41877155,  1.57194395,  5.49262335, -0.70728957,\n",
       "          0.66448625,  1.33230241,  2.70203886, -0.03522793,  2.1708076 ,\n",
       "          1.44007279,  1.40667441,  2.18248696,  0.30022405,  1.75383416,\n",
       "         -1.05418238,  1.58646137,  1.26523504, -0.18762674,  0.9087424 ,\n",
       "          1.93544242,  1.66519546,  1.14870457,  1.48473054,  2.56330159,\n",
       "          1.64088993,  2.40202054,  1.60258303,  2.10210571,  2.04712944,\n",
       "          0.0971871 ,  2.23211346,  0.81260058,  1.51781506,  0.92893216,\n",
       "          1.33241971,  0.82823082,  3.01234736,  0.94155402, -0.22010092,\n",
       "          1.48815513, -0.99337311, -0.29267749, -3.58012597,  1.17756678,\n",
       "          1.05779665,  0.99650553,  2.91503887,  2.88115331,  0.46990647,\n",
       "         -0.18622531, -0.46709139,  1.74605274, -1.09704354,  2.35774146,\n",
       "          1.13148906, -0.71621097,  2.0709754 ,  2.15990097,  0.3128098 ,\n",
       "          1.35867447,  1.82622252, -0.03153855,  0.28305379, -0.83416057,\n",
       "          4.79491632, -0.4577679 , -0.38001379, -0.5923196 ,  0.77156356,\n",
       "          1.53650443,  2.1729115 , -0.84659261,  1.74642437,  1.53136083,\n",
       "          1.01907997,  1.5284041 ,  1.96536489,  1.59894428,  0.3872987 ,\n",
       "         -0.58707486,  2.62697421,  0.33701367,  1.14850427,  0.9717871 ,\n",
       "          1.92557227, -0.09573036,  2.63185787,  0.50465287,  0.44179625,\n",
       "          1.89908516, -0.5842094 ,  0.68412635,  1.26700516,  0.97731761,\n",
       "          0.32573915,  1.39730084,  1.95467957,  1.08343899,  0.33761197,\n",
       "          2.00231607,  1.32552607,  0.6542246 , -0.30457533,  0.79340571,\n",
       "          0.72196774,  1.23949848,  0.33078647,  0.08518151,  0.72945465,\n",
       "         -0.1443428 ,  2.43715136,  2.12338468,  1.03798107,  2.35128991,\n",
       "         -0.69193478,  0.63004118,  0.51591472,  1.80115877,  1.50492402,\n",
       "         -0.43973841,  1.87245025,  2.98605557,  1.22316515,  0.23560847,\n",
       "          1.17206867,  1.00656571,  2.64834894,  1.02610968,  0.50496445,\n",
       "          1.37854955, -0.26799457, -1.02391981,  1.20509134,  1.64824122,\n",
       "          1.15532175,  1.75080512,  1.57223128,  1.18488604,  0.80598788,\n",
       "          2.24166918,  0.7508956 , -2.39461495,  2.35803688,  1.27766063,\n",
       "          0.03323337,  0.59621432,  1.13331014,  1.16160047,  0.50465287,\n",
       "          2.55534039,  1.42455748,  1.28351731,  1.85202916,  1.99863676,\n",
       "         -0.46718469,  0.94846792,  2.29377229,  0.10922198, -0.67744623,\n",
       "          0.4071278 ,  1.56114448]]),\n",
       " 'Z2': array([[0.77793242, 0.83013544, 0.76603249, 0.78241489, 0.72812769,\n",
       "         0.84567865, 0.89505397, 0.75134367, 0.79180934, 0.81967791,\n",
       "         0.83453375, 0.77797751, 0.74366873, 0.80392305, 0.85621168,\n",
       "         0.75325402, 0.81128432, 0.94764147, 0.83882626, 0.82658279,\n",
       "         0.82910313, 0.80502795, 0.7805844 , 0.75397705, 0.77315325,\n",
       "         0.75812616, 0.796435  , 0.97869972, 0.84962941, 0.82848031,\n",
       "         0.79810722, 0.75662626, 0.75520866, 0.84018233, 0.86089505,\n",
       "         0.87872798, 0.76256722, 0.7771303 , 0.8076733 , 0.81356367,\n",
       "         0.87807175, 0.84887842, 0.81374463, 0.75024857, 0.87493434,\n",
       "         0.90525662, 0.76674242, 0.80091591, 0.81005168, 0.771836  ,\n",
       "         0.88769447, 0.75074668, 0.80694885, 0.86151471, 0.86858313,\n",
       "         0.77554256, 0.813177  , 0.87806389, 0.77495881, 0.74141315,\n",
       "         0.82390928, 0.80969267, 0.82164905, 0.73653828, 0.82274788,\n",
       "         0.73408965, 0.7438595 , 0.79711113, 0.8477546 , 0.73850765,\n",
       "         0.77636962, 0.87361402, 0.77137547, 0.80757011, 0.78641273,\n",
       "         0.8422412 , 0.88168262, 0.8035449 , 0.76710988, 0.8497516 ,\n",
       "         0.86029839, 0.91744741, 0.91932155, 0.80971226, 0.77011526,\n",
       "         0.77036903, 0.81465908, 0.7600892 , 0.78338361, 0.75351629,\n",
       "         0.76135873, 0.76882621, 0.86999861, 0.85866131, 0.73584595,\n",
       "         0.86472227, 0.76125673, 0.79465353, 0.89540072, 0.81048608,\n",
       "         0.77724679, 0.79185631, 0.74831498, 0.76313795, 0.78070842,\n",
       "         0.91812412, 0.77204559, 0.77294925, 0.79007674, 0.74406855,\n",
       "         0.88016542, 0.77716037, 0.77454646, 0.73536803, 0.82531399,\n",
       "         0.82668284, 0.73190429, 0.84724615, 0.75529691, 0.76992979,\n",
       "         0.76827988, 0.81594746, 0.76223354, 0.93287509, 0.88973148,\n",
       "         0.74567369, 0.90293119, 0.73646993, 0.81135179, 0.74507142,\n",
       "         0.74482214, 0.76790121, 0.80550398, 0.81636024, 0.79118233,\n",
       "         0.72756304, 0.9177168 , 0.76262656, 0.82603351, 0.75019634,\n",
       "         0.74141255, 0.75787106, 0.80597715, 0.77113057, 0.8439735 ,\n",
       "         0.83975532, 0.74592875, 0.85608567, 0.78375704, 0.76546146,\n",
       "         0.7511748 , 0.87313547, 0.74344989, 0.95474307, 0.77102793,\n",
       "         0.9101081 , 0.79506162, 0.73897629, 0.71980196, 0.80988306,\n",
       "         0.77750355, 0.82320536, 0.75139387, 0.8421313 , 0.80407233,\n",
       "         0.72595661, 0.73298302, 0.76542776, 0.73456332, 0.88449255,\n",
       "         0.81107209, 0.7706393 , 0.73840582, 0.86622648, 0.74971951,\n",
       "         0.76054384, 0.76443253, 0.7462701 , 0.82577973, 0.7523903 ,\n",
       "         0.91717483, 0.76356354, 0.77035001, 0.85483256, 0.792955  ,\n",
       "         0.74482214, 0.75711666, 0.78997496, 0.7700655 , 0.74052854,\n",
       "         0.75496231, 0.753334  , 0.75499205, 0.73964051, 0.76329568,\n",
       "         0.85089575, 0.75717635, 0.79449827, 0.75928734, 0.80140396,\n",
       "         0.77622837, 0.7933853 , 0.73527707, 0.78808833, 0.8561057 ,\n",
       "         0.7620497 , 0.92327537, 0.86273598, 0.96232986, 0.78937081,\n",
       "         0.79996244, 0.79178367, 0.73890281, 0.73925878, 0.81627531,\n",
       "         0.85536083, 0.86837806, 0.75785592, 0.90446107, 0.74541183,\n",
       "         0.78523212, 0.88914181, 0.74928524, 0.74231642, 0.8282112 ,\n",
       "         0.77417062, 0.75274009, 0.8448127 , 0.82794862, 0.90641975,\n",
       "         0.71862893, 0.87096966, 0.88737595, 0.89425381, 0.80513329,\n",
       "         0.77868738, 0.74548017, 0.90692349, 0.75603564, 0.75721832,\n",
       "         0.78406442, 0.76591762, 0.74538067, 0.76466808, 0.82705567,\n",
       "         0.87848972, 0.74725429, 0.82948894, 0.78092146, 0.78779518,\n",
       "         0.76429684, 0.85680236, 0.74227943, 0.82212468, 0.82243079,\n",
       "         0.7498652 , 0.88453534, 0.8052774 , 0.7687399 , 0.78564107,\n",
       "         0.82910313, 0.77538016, 0.75286513, 0.79050961, 0.82157891,\n",
       "         0.74622835, 0.77068818, 0.82153172, 0.8846563 , 0.79211471,\n",
       "         0.81028612, 0.78381091, 0.81924416, 0.83628577, 0.8046917 ,\n",
       "         0.86794671, 0.73681206, 0.7470915 , 0.80672848, 0.74822271,\n",
       "         0.90812897, 0.81349501, 0.80957972, 0.75393452, 0.76654981,\n",
       "         0.89206403, 0.75589846, 0.73083246, 0.78000803, 0.82435261,\n",
       "         0.77298911, 0.78627263, 0.73835811, 0.79081225, 0.81686966,\n",
       "         0.76773294, 0.86005492, 0.91954266, 0.78179707, 0.75260809,\n",
       "         0.78832845, 0.75362536, 0.76012027, 0.77545064, 0.79852888,\n",
       "         0.73600823, 0.80413657, 0.97575852, 0.73508034, 0.78259295,\n",
       "         0.83793776, 0.81426194, 0.78590903, 0.78494585, 0.82212468,\n",
       "         0.73070438, 0.77209964, 0.77136402, 0.74915807, 0.7476825 ,\n",
       "         0.8681619 , 0.78310013, 0.73664905, 0.85027557, 0.90796936,\n",
       "         0.83024937, 0.75858097]])}"
      ]
     },
     "execution_count": 116,
     "metadata": {},
     "output_type": "execute_result"
    }
   ],
   "source": [
    "Zs"
   ]
  },
  {
   "cell_type": "markdown",
   "id": "4e35bdf0",
   "metadata": {
    "id": "4e35bdf0"
   },
   "source": [
    "Notice that the key `A0` corresponds to then input features transposed (features, data samples) and `A2` corresponds to the predictions transposed (1, data samples). Recall, `A1` is just the output of the hidden layer."
   ]
  },
  {
   "cell_type": "code",
   "execution_count": 117,
   "id": "d81c7f3b",
   "metadata": {
    "id": "d81c7f3b",
    "outputId": "b73b4ce8-78cd-4d2b-b71a-248819ba3033"
   },
   "outputs": [
    {
     "data": {
      "text/plain": [
       "{'A0': array([[-0.43980752, -0.43980752, -0.43980752, ..., -0.43980752,\n",
       "         -0.43980752,  2.27372191],\n",
       "        [-0.39946773, -0.39946773, -0.39946773, ...,  2.50333111,\n",
       "         -0.39946773, -0.39946773],\n",
       "        [-0.43980752, -0.43980752, -0.43980752, ..., -0.43980752,\n",
       "          2.27372191, -0.43980752],\n",
       "        ...,\n",
       "        [-0.001283  ,  2.21628288,  0.29838807, ..., -0.60062512,\n",
       "         -1.19996725,  1.01759862],\n",
       "        [-0.25325416,  1.27823968, -1.04736209, ..., -1.27425006,\n",
       "          0.48413176,  0.76774173],\n",
       "        [-0.08564231, -0.08564231, -0.08564231, ..., -0.08564231,\n",
       "         -0.08564231, -0.08564231]]),\n",
       " 'A1': array([[0.7514262 , 0.72319138, 0.61350504, 0.37633149, 0.53007058,\n",
       "         0.8548863 , 0.91339023, 0.00018869, 0.70178824, 0.45164999,\n",
       "         0.87108575, 0.87330329, 0.46392264, 0.96583434, 0.3767969 ,\n",
       "         0.79151423, 0.51902985, 0.23775849, 0.92641638, 0.23868328,\n",
       "         0.66724941, 0.96009341, 0.54258683, 0.00351017, 0.42487634,\n",
       "         0.67496991, 0.97116835, 0.17582788, 0.95655325, 0.71093498,\n",
       "         0.47313055, 0.75439434, 0.00329306, 0.90038196, 0.76145344,\n",
       "         0.3632506 , 0.83855486, 0.68567859, 0.80674273, 0.26499644,\n",
       "         0.2362598 , 0.81255567, 0.80931514, 0.942246  , 0.76029106,\n",
       "         0.37369346, 0.53941961, 0.93506978, 0.63987178, 0.57365536,\n",
       "         0.88178277, 0.87344213, 0.96698779, 0.75721781, 0.67593992,\n",
       "         0.83337147, 0.77054837, 0.12025576, 0.76394135, 0.700424  ,\n",
       "         0.7532389 , 0.73199034, 0.93362907, 0.9691664 , 0.28508766,\n",
       "         0.35633657, 0.75125827, 0.9401713 , 0.70370523, 0.89710924,\n",
       "         0.76905854, 0.64116013, 0.900214  , 0.84753576, 0.81353246,\n",
       "         0.43983183, 0.22541945, 0.50534235, 0.95927591, 0.8010699 ,\n",
       "         0.92391293, 0.83048957, 0.94184271, 0.633021  , 0.44395697,\n",
       "         0.84111743, 0.80957098, 0.95499117, 0.6823436 , 0.8443177 ,\n",
       "         0.92441024, 0.69009886, 0.04699272, 0.72307919, 0.81890742,\n",
       "         0.07125683, 0.80836964, 0.96231054, 0.9685889 , 0.6688738 ,\n",
       "         0.62782528, 0.76706818, 0.17965936, 0.81715942, 0.73748302,\n",
       "         0.1665991 , 0.95070041, 0.83510889, 0.92075599, 0.7976443 ,\n",
       "         0.19574456, 0.37615649, 0.83665259, 0.88551696, 0.90368994,\n",
       "         0.5799888 , 0.98974134, 0.8046315 , 0.79807365, 0.83282054,\n",
       "         0.70538373, 0.78224756, 0.90336336, 0.39298338, 0.9324992 ,\n",
       "         0.56686234, 0.32698722, 0.94351881, 0.83181481, 0.60424801,\n",
       "         0.94522847, 0.95260332, 0.38309842, 0.97694373, 0.67439539,\n",
       "         0.88293317, 0.20541198, 0.87929593, 0.78340279, 0.88254867,\n",
       "         0.74585898, 0.85507316, 0.84020586, 0.25148577, 0.13393116,\n",
       "         0.64599994, 0.6670334 , 0.93398925, 0.73302681, 0.77365118,\n",
       "         0.86983108, 0.81335706, 0.49332682, 0.87794645, 0.42264756,\n",
       "         0.20206726, 0.50844683, 0.58165357, 0.75126015, 0.85102907,\n",
       "         0.85726493, 0.86308908, 0.7618335 , 0.73409535, 0.70192894,\n",
       "         0.58682077, 0.95984378, 0.68096403, 0.32384728, 0.92365673,\n",
       "         0.59901789, 0.80574136, 0.6555041 , 0.24449717, 0.61971193,\n",
       "         0.97458336, 0.89879357, 0.71399466, 0.81312246, 0.88304015,\n",
       "         0.4980501 , 0.72069409, 0.90001692, 0.8707039 , 0.73869887,\n",
       "         0.94522847, 0.83000054, 0.474157  , 0.64021221, 0.65838019,\n",
       "         0.91881753, 0.36537065, 0.95796653, 0.96811891, 0.30730878,\n",
       "         0.44857933, 0.35665116, 0.84521658, 0.92273741, 0.45668392,\n",
       "         0.63969356, 0.85308707, 0.62713193, 0.83255098, 0.89386535,\n",
       "         0.87423753, 0.22727091, 0.83245247, 0.91245426, 0.45236993,\n",
       "         0.30670137, 0.63973559, 0.55398056, 0.55614373, 0.78523647,\n",
       "         0.85238846, 0.9839309 , 0.72824963, 0.93709862, 0.62657378,\n",
       "         0.63891632, 0.80059845, 0.70503002, 0.84709645, 0.71763129,\n",
       "         0.66812593, 0.80532681, 0.87312899, 0.78062448, 0.48089541,\n",
       "         0.82796061, 0.89023425, 0.26207964, 0.43739295, 0.59632849,\n",
       "         0.32610197, 0.74408251, 0.48580304, 0.78192449, 0.96906459,\n",
       "         0.83531757, 0.71412463, 0.90390482, 0.67460846, 0.61491391,\n",
       "         0.89618946, 0.42751823, 0.63499116, 0.74317029, 0.79526425,\n",
       "         0.37544406, 0.63884881, 0.57286286, 0.54947391, 0.65315827,\n",
       "         0.826355  , 0.71174308, 0.73770643, 0.94550604, 0.85085925,\n",
       "         0.66724941, 0.58510454, 0.6905156 , 0.55030783, 0.86868213,\n",
       "         0.84894693, 0.81279925, 0.30603466, 0.20385898, 0.94708112,\n",
       "         0.5254509 , 0.53420914, 0.95057488, 0.9049706 , 0.6790279 ,\n",
       "         0.39991086, 0.83579931, 0.73141632, 0.13476046, 0.54701398,\n",
       "         0.19622577, 0.586033  , 0.90182049, 0.79279179, 0.72164536,\n",
       "         0.23155979, 0.67038004, 0.76807923, 0.66876144, 0.97584791,\n",
       "         0.94614937, 0.78832578, 0.68148228, 0.6246461 , 0.70490432,\n",
       "         0.83483562, 0.86613038, 0.38344847, 0.63986339, 0.98113313,\n",
       "         0.51387081, 0.84927328, 0.83819634, 0.85558639, 0.73626836,\n",
       "         0.97866652, 0.65994012, 0.08547185, 0.93306725, 0.52048527,\n",
       "         0.95436541, 0.62175085, 0.61627724, 0.60561505, 0.54947391,\n",
       "         0.95401662, 0.64988508, 0.84623416, 0.88848314, 0.80871277,\n",
       "         0.99051481, 0.97004461, 0.92603477, 0.44422427, 0.17646953,\n",
       "         0.48395343, 0.8959038 ],\n",
       "        [0.76984472, 0.56930897, 0.8345867 , 0.80175004, 0.993897  ,\n",
       "         0.49113249, 0.29022709, 0.97290639, 0.7220909 , 0.64602065,\n",
       "         0.53260437, 0.75360274, 0.94180822, 0.639887  , 0.51293995,\n",
       "         0.86112095, 0.66998088, 0.17352531, 0.50851528, 0.64707634,\n",
       "         0.58072229, 0.63632054, 0.7869969 , 0.96216479, 0.8315895 ,\n",
       "         0.85742006, 0.66848278, 0.06016556, 0.46227261, 0.57740069,\n",
       "         0.72758997, 0.85281926, 0.95737441, 0.50664109, 0.44391053,\n",
       "         0.42662484, 0.81847989, 0.78164994, 0.64618425, 0.69454843,\n",
       "         0.44593213, 0.48419249, 0.62208956, 0.85301141, 0.38913145,\n",
       "         0.32144823, 0.84157467, 0.6557085 , 0.65887479, 0.81713187,\n",
       "         0.32318944, 0.860132  , 0.62789572, 0.44204429, 0.42510118,\n",
       "         0.76839384, 0.62942071, 0.46125425, 0.77983003, 0.91945868,\n",
       "         0.5897096 , 0.64813664, 0.57477472, 0.90310784, 0.65596451,\n",
       "         0.99347053, 0.90318583, 0.66992318, 0.50293812, 0.90490057,\n",
       "         0.77363533, 0.41000113, 0.7758876 , 0.64121079, 0.72847666,\n",
       "         0.5592939 , 0.43323264, 0.70206759, 0.78479241, 0.48228998,\n",
       "         0.4248301 , 0.21353484, 0.19152348, 0.6611059 , 0.84096123,\n",
       "         0.78761553, 0.6184778 , 0.81282743, 0.75762187, 0.85313432,\n",
       "         0.81189117, 0.81355914, 0.50246909, 0.457709  , 0.92562357,\n",
       "         0.51991567, 0.82758647, 0.67662085, 0.28159418, 0.65335212,\n",
       "         0.78882022, 0.71330208, 0.96109949, 0.81906707, 0.76082088,\n",
       "         0.29839952, 0.7666106 , 0.7783118 , 0.70000634, 0.89625338,\n",
       "         0.44308075, 0.82233275, 0.77185883, 0.91871322, 0.56438123,\n",
       "         0.60169476, 0.91852736, 0.49162372, 0.85226298, 0.79042784,\n",
       "         0.81368197, 0.61703839, 0.81124262, 0.21084115, 0.30853379,\n",
       "         0.920394  , 0.33670375, 0.90675609, 0.62848629, 0.91782245,\n",
       "         0.87385059, 0.7825757 , 0.71051608, 0.5897589 , 0.7281551 ,\n",
       "         0.94959281, 0.29487704, 0.81287731, 0.57742189, 0.86108497,\n",
       "         0.9134719 , 0.83467742, 0.64840987, 0.8623597 , 0.59283895,\n",
       "         0.54184391, 0.90619173, 0.4399852 , 0.74947979, 0.81571088,\n",
       "         0.85893288, 0.38917497, 0.93878849, 0.06135039, 0.84019915,\n",
       "         0.32508893, 0.73485136, 0.94464956, 0.99731686, 0.63170031,\n",
       "         0.75757138, 0.57798369, 0.87231173, 0.52093479, 0.67409028,\n",
       "         0.99491124, 0.91824757, 0.82806056, 0.99589985, 0.33019802,\n",
       "         0.66026744, 0.79122123, 0.93714685, 0.49119393, 0.89759722,\n",
       "         0.80846592, 0.80324088, 0.89866577, 0.57449729, 0.85243575,\n",
       "         0.25842278, 0.83011766, 0.77992597, 0.45323044, 0.71274275,\n",
       "         0.87385059, 0.8409342 , 0.75927422, 0.81528604, 0.92846206,\n",
       "         0.83765599, 0.91698125, 0.83237909, 0.89110767, 0.88565724,\n",
       "         0.52427767, 0.90309647, 0.6926634 , 0.82021651, 0.71685859,\n",
       "         0.7912406 , 0.69598072, 0.95312883, 0.71941345, 0.44519584,\n",
       "         0.81580121, 0.27024634, 0.4273485 , 0.02711639, 0.76451002,\n",
       "         0.74226926, 0.73037097, 0.94858487, 0.94690688, 0.61536162,\n",
       "         0.45357775, 0.3853049 , 0.85145424, 0.25029426, 0.9135476 ,\n",
       "         0.7561136 , 0.3282279 , 0.88804997, 0.89659037, 0.57757095,\n",
       "         0.79554418, 0.86131111, 0.49211602, 0.57029474, 0.30276606,\n",
       "         0.99179617, 0.38751547, 0.40612357, 0.35610281, 0.68385903,\n",
       "         0.822956  , 0.89779044, 0.30014812, 0.85150124, 0.82220533,\n",
       "         0.73479335, 0.82177269, 0.87711238, 0.83187078, 0.59563225,\n",
       "         0.3573063 , 0.93257755, 0.58346493, 0.75923761, 0.72547556,\n",
       "         0.87275853, 0.47608567, 0.93288397, 0.62355215, 0.60868696,\n",
       "         0.86978795, 0.35796459, 0.66465903, 0.78022965, 0.72657565,\n",
       "         0.58072229, 0.80175522, 0.87595601, 0.74714423, 0.58361033,\n",
       "         0.88104004, 0.79009963, 0.65796183, 0.42443939, 0.68856213,\n",
       "         0.67304018, 0.77547671, 0.58195072, 0.52128251, 0.67468559,\n",
       "         0.46397682, 0.91961676, 0.89315536, 0.73846027, 0.9130367 ,\n",
       "         0.33360281, 0.6524988 , 0.626192  , 0.85828993, 0.81830773,\n",
       "         0.3918033 , 0.86674154, 0.95194017, 0.77262008, 0.55863114,\n",
       "         0.76351873, 0.73234752, 0.93390916, 0.73616098, 0.62362528,\n",
       "         0.79875795, 0.43339949, 0.26426457, 0.76942927, 0.8386532 ,\n",
       "         0.76048161, 0.85205432, 0.82810146, 0.76582519, 0.69125389,\n",
       "         0.90392951, 0.67937382, 0.08358426, 0.91357092, 0.7820513 ,\n",
       "         0.50830758, 0.64478973, 0.75644926, 0.76162341, 0.62355215,\n",
       "         0.92793147, 0.80605189, 0.78304791, 0.86436517, 0.88065387,\n",
       "         0.38528281, 0.72080696, 0.90835995, 0.52727838, 0.33683152,\n",
       "         0.60039898, 0.82651752]]),\n",
       " 'A2': array([[0.77793242, 0.83013544, 0.76603249, 0.78241489, 0.72812769,\n",
       "         0.84567865, 0.89505397, 0.75134367, 0.79180934, 0.81967791,\n",
       "         0.83453375, 0.77797751, 0.74366873, 0.80392305, 0.85621168,\n",
       "         0.75325402, 0.81128432, 0.94764147, 0.83882626, 0.82658279,\n",
       "         0.82910313, 0.80502795, 0.7805844 , 0.75397705, 0.77315325,\n",
       "         0.75812616, 0.796435  , 0.97869972, 0.84962941, 0.82848031,\n",
       "         0.79810722, 0.75662626, 0.75520866, 0.84018233, 0.86089505,\n",
       "         0.87872798, 0.76256722, 0.7771303 , 0.8076733 , 0.81356367,\n",
       "         0.87807175, 0.84887842, 0.81374463, 0.75024857, 0.87493434,\n",
       "         0.90525662, 0.76674242, 0.80091591, 0.81005168, 0.771836  ,\n",
       "         0.88769447, 0.75074668, 0.80694885, 0.86151471, 0.86858313,\n",
       "         0.77554256, 0.813177  , 0.87806389, 0.77495881, 0.74141315,\n",
       "         0.82390928, 0.80969267, 0.82164905, 0.73653828, 0.82274788,\n",
       "         0.73408965, 0.7438595 , 0.79711113, 0.8477546 , 0.73850765,\n",
       "         0.77636962, 0.87361402, 0.77137547, 0.80757011, 0.78641273,\n",
       "         0.8422412 , 0.88168262, 0.8035449 , 0.76710988, 0.8497516 ,\n",
       "         0.86029839, 0.91744741, 0.91932155, 0.80971226, 0.77011526,\n",
       "         0.77036903, 0.81465908, 0.7600892 , 0.78338361, 0.75351629,\n",
       "         0.76135873, 0.76882621, 0.86999861, 0.85866131, 0.73584595,\n",
       "         0.86472227, 0.76125673, 0.79465353, 0.89540072, 0.81048608,\n",
       "         0.77724679, 0.79185631, 0.74831498, 0.76313795, 0.78070842,\n",
       "         0.91812412, 0.77204559, 0.77294925, 0.79007674, 0.74406855,\n",
       "         0.88016542, 0.77716037, 0.77454646, 0.73536803, 0.82531399,\n",
       "         0.82668284, 0.73190429, 0.84724615, 0.75529691, 0.76992979,\n",
       "         0.76827988, 0.81594746, 0.76223354, 0.93287509, 0.88973148,\n",
       "         0.74567369, 0.90293119, 0.73646993, 0.81135179, 0.74507142,\n",
       "         0.74482214, 0.76790121, 0.80550398, 0.81636024, 0.79118233,\n",
       "         0.72756304, 0.9177168 , 0.76262656, 0.82603351, 0.75019634,\n",
       "         0.74141255, 0.75787106, 0.80597715, 0.77113057, 0.8439735 ,\n",
       "         0.83975532, 0.74592875, 0.85608567, 0.78375704, 0.76546146,\n",
       "         0.7511748 , 0.87313547, 0.74344989, 0.95474307, 0.77102793,\n",
       "         0.9101081 , 0.79506162, 0.73897629, 0.71980196, 0.80988306,\n",
       "         0.77750355, 0.82320536, 0.75139387, 0.8421313 , 0.80407233,\n",
       "         0.72595661, 0.73298302, 0.76542776, 0.73456332, 0.88449255,\n",
       "         0.81107209, 0.7706393 , 0.73840582, 0.86622648, 0.74971951,\n",
       "         0.76054384, 0.76443253, 0.7462701 , 0.82577973, 0.7523903 ,\n",
       "         0.91717483, 0.76356354, 0.77035001, 0.85483256, 0.792955  ,\n",
       "         0.74482214, 0.75711666, 0.78997496, 0.7700655 , 0.74052854,\n",
       "         0.75496231, 0.753334  , 0.75499205, 0.73964051, 0.76329568,\n",
       "         0.85089575, 0.75717635, 0.79449827, 0.75928734, 0.80140396,\n",
       "         0.77622837, 0.7933853 , 0.73527707, 0.78808833, 0.8561057 ,\n",
       "         0.7620497 , 0.92327537, 0.86273598, 0.96232986, 0.78937081,\n",
       "         0.79996244, 0.79178367, 0.73890281, 0.73925878, 0.81627531,\n",
       "         0.85536083, 0.86837806, 0.75785592, 0.90446107, 0.74541183,\n",
       "         0.78523212, 0.88914181, 0.74928524, 0.74231642, 0.8282112 ,\n",
       "         0.77417062, 0.75274009, 0.8448127 , 0.82794862, 0.90641975,\n",
       "         0.71862893, 0.87096966, 0.88737595, 0.89425381, 0.80513329,\n",
       "         0.77868738, 0.74548017, 0.90692349, 0.75603564, 0.75721832,\n",
       "         0.78406442, 0.76591762, 0.74538067, 0.76466808, 0.82705567,\n",
       "         0.87848972, 0.74725429, 0.82948894, 0.78092146, 0.78779518,\n",
       "         0.76429684, 0.85680236, 0.74227943, 0.82212468, 0.82243079,\n",
       "         0.7498652 , 0.88453534, 0.8052774 , 0.7687399 , 0.78564107,\n",
       "         0.82910313, 0.77538016, 0.75286513, 0.79050961, 0.82157891,\n",
       "         0.74622835, 0.77068818, 0.82153172, 0.8846563 , 0.79211471,\n",
       "         0.81028612, 0.78381091, 0.81924416, 0.83628577, 0.8046917 ,\n",
       "         0.86794671, 0.73681206, 0.7470915 , 0.80672848, 0.74822271,\n",
       "         0.90812897, 0.81349501, 0.80957972, 0.75393452, 0.76654981,\n",
       "         0.89206403, 0.75589846, 0.73083246, 0.78000803, 0.82435261,\n",
       "         0.77298911, 0.78627263, 0.73835811, 0.79081225, 0.81686966,\n",
       "         0.76773294, 0.86005492, 0.91954266, 0.78179707, 0.75260809,\n",
       "         0.78832845, 0.75362536, 0.76012027, 0.77545064, 0.79852888,\n",
       "         0.73600823, 0.80413657, 0.97575852, 0.73508034, 0.78259295,\n",
       "         0.83793776, 0.81426194, 0.78590903, 0.78494585, 0.82212468,\n",
       "         0.73070438, 0.77209964, 0.77136402, 0.74915807, 0.7476825 ,\n",
       "         0.8681619 , 0.78310013, 0.73664905, 0.85027557, 0.90796936,\n",
       "         0.83024937, 0.75858097]])}"
      ]
     },
     "execution_count": 117,
     "metadata": {},
     "output_type": "execute_result"
    }
   ],
   "source": [
    "As"
   ]
  },
  {
   "cell_type": "markdown",
   "id": "ef3648c7",
   "metadata": {
    "id": "ef3648c7"
   },
   "source": [
    "## Backward pass\n",
    "Now it's time to update the weights and biases using backpropagation. In order to do so remember we first need to perform the forward pass to get the predictions. We then need to assess the error/loss using our loss function, MSE in this case. \n",
    "\n",
    "Given the loss we can backpropagate the error through the network to update the weights in the direction that minimizes the loss (i.e., makes the total average loss smaller). Remember backpropagate here just means finding the gradient with respect to each of the parameters $\\Wm^{[1]}$, $\\bv^{[1]}$, $\\Wm^{[2]}$, and $\\bv^{[2]}$.\n",
    "\n",
    "Recall, we can write out all the equations for our 2 layer neural network including the loss as follows:\n",
    "\n",
    "\n",
    "1. Hidden layer (layer 1) equations\n",
    "\n",
    "$$\n",
    "\\Zm^{[1]} = \\Wm^{[1]} \\Xm + \\bv^{[1]}\n",
    "$$\n",
    "\n",
    "$$\n",
    "\\Am^{[1]} = g(\\Zm^{[1]} )\n",
    "$$\n",
    "\n",
    "2. Output layer (layer 2) equations\n",
    "\n",
    "$$\n",
    "\\zv^{[2]} = \\wv^{[2]} \\Am^{[1]} + \\bv^{[2]}\n",
    "$$\n",
    "\n",
    "$$\n",
    "\\av^{[2]} = g(\\zv^{[2]})\n",
    "$$\n",
    "\n",
    "3. MSE loss\n",
    "$$\n",
    " \\hat{\\yv} = \\av^{[2]\\top} \n",
    "$$\n",
    "\n",
    "$$\n",
    "MSE = \\frac{1}{2m} (\\hat{\\yv} - {\\yv})^2 \n",
    "$$\n",
    "\n",
    "The goal will be to solve for $\\frac{\\partial MSE}{\\partial  \\Wm^{[1]}}$, $\\frac{\\partial MSE}{\\partial \\bv^{[1]}}$,  $\\frac{\\partial MSE}{\\partial \\wv^{[2]}}$, and $\\frac{\\partial MSE}{\\partial \\bv^{[2]}}$ where the MSE loss will be the \"parent\" or root equation where the computation of computing each gradient starts. Given the partial derivatives, we can then perform the following gradient descent updates.\n",
    "\n",
    "**Hidden layer updates**\n",
    "$$\n",
    "\\Wm^{[1]} = \\Wm^{[1]} - \\alpha \\nabla \\frac{\\partial MSE}{\\partial  \\Wm^{[1]}}\n",
    "$$\n",
    "\n",
    "$$\n",
    "\\bv^{[1]} = \\bv^{[1]} - \\alpha \\nabla \\frac{\\partial MSE}{\\partial  \\bv^{[1]}}\n",
    "$$\n",
    "**Output layer updates**\n",
    "$$\n",
    "\\Wm^{[2]} = \\wv^{[2]} - \\alpha \\nabla \\frac{\\partial MSE}{\\partial  \\wv^{[2]}}\n",
    "$$\n",
    "\n",
    "$$\n",
    "\\bv^{[2]} = \\bv^{[2]} - \\alpha \\nabla \\frac{\\partial MSE}{\\partial  \\bv^{[2]}}\n",
    "$$\n",
    "\n",
    "\n"
   ]
  },
  {
   "cell_type": "markdown",
   "id": "b6cc3929",
   "metadata": {
    "id": "b6cc3929"
   },
   "source": [
    "### MSE Derivative \n",
    "\n",
    "Before we start, we need to compute the derivative of the MSE loss function as it will act as the \"parent\" or root equation where each partial derivative equation will start from. "
   ]
  },
  {
   "cell_type": "markdown",
   "id": "686d9ce1",
   "metadata": {
    "id": "686d9ce1"
   },
   "source": [
    "#### TODO 13\n",
    "Complete the TODO by implementing the derivative of the MSE loss function inside the `delta_mse()` function.\n",
    "\n",
    "1. Compute the derivative of the MSE loss function and return the output. The MSE derivative is given as follows:\n",
    "\n",
    "$$\n",
    "\\frac{\\partial MSE}{\\partial \\hat{\\yv}} = \\hat{\\yv} - \\yv\n",
    "$$\n",
    "where $ \\hat{\\yv} = \\av^{[2]\\top}$."
   ]
  },
  {
   "cell_type": "code",
   "execution_count": 118,
   "id": "3b6e578b",
   "metadata": {
    "id": "3b6e578b"
   },
   "outputs": [],
   "source": [
    "def delta_mse(y, y_hat):\n",
    "    # TODO 13.1\n",
    "    return y_hat - y"
   ]
  },
  {
   "cell_type": "markdown",
   "id": "1f03ed7c",
   "metadata": {
    "id": "1f03ed7c"
   },
   "source": [
    "Run the below code to test your implementation of the `delta_mse()` function."
   ]
  },
  {
   "cell_type": "code",
   "execution_count": 119,
   "id": "1f61d3af",
   "metadata": {
    "id": "1f61d3af",
    "outputId": "ed53a017-3c4b-4952-a510-1de68d20d0ed"
   },
   "outputs": [
    {
     "name": "stdout",
     "output_type": "stream",
     "text": [
      "Your code PASSED the code check!\n"
     ]
    }
   ],
   "source": [
    "def TEST_delta_mse():\n",
    "    fake_y = np.array([[.2, 1.2, 3.4]])\n",
    "    fake_y_hat = np.array([[1.5, 1.1, 3.0]])\n",
    "    fake_delta_mse = delta_mse(fake_y, fake_y_hat)\n",
    "\n",
    "    todo_check([\n",
    "        (np.all(np.isclose(fake_delta_mse, np.array([[ 1.3, -0.1, -0.4]]), rtol=.01)), \"delta_mse has an incorrect value\")\n",
    "    ])\n",
    "    \n",
    "TEST_delta_mse()\n",
    "garbage_collect(['TEST_delta_mse'])"
   ]
  },
  {
   "cell_type": "markdown",
   "id": "0d9654b4",
   "metadata": {
    "id": "0d9654b4"
   },
   "source": [
    "### Output Layer\n",
    "\n",
    "To start off, we first compute the derivative of the parent function, the MSE loss, and then slowly compute the derivatives of each equation up until we reach the desired weight and bias parameter. The first parameters we will run into are the weights and biases for the output layer. Thus, we'll compute the partial derivatives $\\frac{\\partial MSE}{\\partial \\wv^{[2]}}$ and $\\frac{\\partial MSE}{\\partial \\bv^{[2]}}$ first as they are the first parameters we run into when propagating backwards through the network.\n",
    "\n",
    "This process is visually depicted with the below image where we are backpropagating through the network up to the end of the output layer.\n",
    "\n",
    "<img src=\"https://live.staticflickr.com/65535/51990775829_30775493eb_h.jpg\" width=\"300\" height=\"246\" alt=\"signle_nn_output_layers_back\">\n",
    "\n",
    "To compute the gradient or partial derivative of the weights $\\Wm^{[2]}$ and bias $\\bv^{[2]}$ we need the following equations:\n",
    "\n",
    "$$\n",
    "\\begin{align}\n",
    "MSE &= \\frac{1}{2m} (\\av^{[2]\\top} - {\\yv})^2  \\\\ \n",
    " \\\\\n",
    "\\av^{[2]} &= g(\\zv^{[2]}) \\\\\n",
    "\\\\\n",
    "\\zv^{[2]} &= \\wv^{[2]} \\Am^{[1]} + \\bv^{[2]}\n",
    "\\end{align}\n",
    "$$\n",
    "\n",
    "where $\\hat{\\yv} = \\av^{[2]\\top}$."
   ]
  },
  {
   "cell_type": "markdown",
   "id": "686dd0c4",
   "metadata": {
    "id": "686dd0c4"
   },
   "source": [
    "<hr>\n",
    "\n",
    "**Weights**\n",
    "\n",
    "If we expand $\\frac{\\partial MSE}{\\partial \\wv^{[2]}}$ we get the following equation that we need to solve:\n",
    "$$\n",
    "\\frac{\\partial MSE}{\\partial \\wv^{[2]}} = \\frac{\\partial MSE}{\\partial \\av^{[2]}}\\frac{\\partial \\av^{[2]}}{\\partial \\zv^{[2]} }\\frac{\\partial \\zv^{[2]} }{\\partial  \\wv^{[2]} }\n",
    "$$\n",
    "\n",
    "If we compute the derivative of each of the partial derivatives we get the following:\n",
    "\n",
    "$$\n",
    "\\begin{align}\n",
    "\\frac{\\partial MSE}{\\partial \\av^{[2]}} &= (\\av^{[2]\\top} - {\\yv}) \\\\\n",
    "\\frac{\\partial \\av^{[2]}}{\\partial \\zv^{[2]} } &= \\mathbf{1} \\\\\n",
    "\\frac{\\partial \\zv^{[2]} }{\\partial  \\wv^{[2]} } &= \\Am^{[1]}\n",
    "\\end{align}\n",
    "$$\n",
    "\n",
    "Sadly, we can't always compute $\\frac{\\partial MSE}{\\partial \\wv^{[2]}}$ by simply multiplying all the values for the expanded partial derivative equation. Since we are working with vectors and matrices we need to utilize the dot product and, in turn, rearrange some of the partial derivatives. \n",
    "\n",
    "$$\n",
    "\\begin{align}\n",
    "\\frac{\\partial MSE}{\\partial \\wv^{[2]}} &=  \\frac{\\partial MSE}{\\partial \\av^{[2]}} \\frac{\\partial \\av^{[2]}}{\\partial \\zv^{[2]} } \\frac{\\partial \\zv^{[2]}}{\\partial  \\wv^{[2]}}\\\\\n",
    "\\\\\n",
    "&=  \\big (\\frac{\\partial MSE}{\\partial \\av^{[2]}}^\\top * \\frac{\\partial \\av^{[2]}}{\\partial \\zv^{[2]} } \\big ) \\cdot \\frac{\\partial \\zv^{[2]}}{\\partial  \\wv^{[2]}}^\\top  \\\\\n",
    "\\\\\n",
    "&= \\big( (\\av^{[2]} - {\\yv})^\\top * \\mathbf{1} \\big )  \\cdot  \\Am^{[1]\\top}\n",
    "\\end{align}\n",
    "$$\n",
    "where $\\cdot$ represents the dot product and $*$ represents element-wise multiplication. Notice, that the equation inherently computes the sum of the gradients due to the addition of the dot product. This means we only need to divide by the number of data samples used to compute the gradient to get the average gradient.\n",
    "\n",
    "<!-- *Note: this general equation is needed as we could have the following shape issues when performing element-wise multiplication where we have 2 output neurons, 100 data samples, and 3 hidden units: $\\big[(\\av^{[2]}(2, 100) - \\yv(2, 100))^\\top * \\mathbf{1}(2, 100) \\big ] * \\Am^{[1]}(3, 100)$. Notice, $(2, 100)$ can note be element-wise multiplied with a $(3, 100)$*\n",
    " -->\n",
    "<hr>"
   ]
  },
  {
   "cell_type": "markdown",
   "id": "46513697",
   "metadata": {
    "id": "46513697"
   },
   "source": [
    "**Bias**\n",
    "\n",
    "If we expand $\\frac{\\partial MSE}{\\partial \\bv^{[2]}}$ we get the following equation that we need to solve:\n",
    "$$\n",
    "\\frac{\\partial MSE}{\\partial \\bv^{[2]}} = \\frac{\\partial MSE}{\\partial \\av^{[2]}}\\frac{\\partial \\av^{[2]}}{\\partial \\zv^{[2]} }\\frac{\\partial \\zv^{[2]} }{\\partial  \\bv^{[2]} }\n",
    "$$\n",
    "Notice, the only NEW partial derivative is $\\frac{\\partial \\zv^{[2]} }{\\partial \\bv^{[2]}}$, the rest we have already seen before. If we compute the partial derivatives we get the following:\n",
    "\n",
    "$$\n",
    "\\begin{align}\n",
    "\\frac{\\partial \\zv^{[2]} }{\\partial  \\bv^{[2]} } &= \\mathbf{1}\n",
    "\\end{align}\n",
    "$$\n",
    "\n",
    "Using the same equation format as the output layer weight update, we can compute $\\frac{\\partial MSE}{\\partial \\bv^{[2]}}$ by using the dot product and element-wise multiplication.\n",
    "\n",
    "\n",
    "$$\n",
    "\\begin{align}\n",
    "\\frac{\\partial MSE}{\\partial \\bv^{[2]}} &=  (\\frac{\\partial MSE}{\\partial \\av^{[2]}} * \\frac{\\partial \\av^{[2]}}{\\partial \\zv^{[2]} }) \\cdot \\frac{\\partial \\zv^{[2]}}{\\partial  \\bv^{[2]}}^\\top \\\\\n",
    "&=  \\big ( (\\av^{[2]} - {\\yv})^\\top * \\mathbf{1} \\big ) \\cdot \\mathbf{1}^\\top\n",
    "\\end{align}\n",
    "$$\n",
    "\n",
    " Notice, that the equation inherently computes the sum of the gradients due to the addition of the dot product. This means we only need to divide by the number of data samples used to compute the gradient to get the average gradient.\n",
    "\n",
    "<!-- *Note: We could use a similar general equation (as we'll see for the hidden layer bias) that utilizes the dot product for computing $\\frac{\\partial MSE}{\\partial \\bv^{[2]}}$. However, it is never needed to prevent shape mismatch errors as the derivative of $\\frac{\\partial \\zv^{[2]} }{\\partial  \\bv^{[2]} }$ is always 1.* -->"
   ]
  },
  {
   "cell_type": "code",
   "execution_count": 120,
   "id": "0974bc41",
   "metadata": {
    "id": "0974bc41",
    "outputId": "4593915f-52c8-4164-acec-9d9c8653c8d8"
   },
   "outputs": [
    {
     "name": "stdout",
     "output_type": "stream",
     "text": [
      "W['W2'] shape: (1, 2)\n"
     ]
    },
    {
     "data": {
      "text/plain": [
       "array([[-0.03368923, -0.25557441]])"
      ]
     },
     "execution_count": 120,
     "metadata": {},
     "output_type": "execute_result"
    }
   ],
   "source": [
    "print(f\"W['W2'] shape: {W['W2'].shape}\")\n",
    "W['W2']"
   ]
  },
  {
   "cell_type": "code",
   "execution_count": 121,
   "id": "2b999dd0",
   "metadata": {
    "id": "2b999dd0",
    "outputId": "6891bdef-6ab4-45ef-e78a-e224cc72e49f"
   },
   "outputs": [
    {
     "name": "stdout",
     "output_type": "stream",
     "text": [
      "b['b2'] shape: (1, 1)\n"
     ]
    },
    {
     "data": {
      "text/plain": [
       "array([[1.]])"
      ]
     },
     "execution_count": 121,
     "metadata": {},
     "output_type": "execute_result"
    }
   ],
   "source": [
    "print(f\"b['b2'] shape: {b['b2'].shape}\")\n",
    "b['b2']"
   ]
  },
  {
   "cell_type": "markdown",
   "id": "591b2d0f",
   "metadata": {
    "id": "591b2d0f"
   },
   "source": [
    "#### TODO 14\n",
    "Complete the TODO by finishing the `get_output_layer_grads()` function to compute the gradients for the output layer weights and biases. **Use the partial derivative solutions and convert them into code where each of the partial derivatives map to the following variables:**\n",
    "- $\\frac{\\partial MSE}{\\partial \\av^{[2]}}$ corresponds to  `delta_mse_A2` \n",
    "- $\\frac{\\partial \\av^{[2]}}{\\partial \\zv^{[2]} }$ corresponds to `delta_A2_Z2`\n",
    "- $ \\frac{\\partial \\zv^{[2]}}{\\partial \\wv^{[2]} }$ corresponds to `delta_Z2_W2`\n",
    "- $\\frac{\\partial \\zv^{[2]} }{\\partial \\bv^{[2]} }$ corresponds to `delta_Z2_B2` \n",
    "\n",
    "*Note: delta corresponds to $\\partial$.*\n",
    "\n",
    "**Output layer weight gradients**\n",
    "$$\n",
    "\\begin{align}\n",
    "\\frac{\\partial MSE}{\\partial \\wv^{[2]}} &=  \\big (\\frac{\\partial MSE}{\\partial \\av^{[2]}}^\\top * \\frac{\\partial \\av^{[2]}}{\\partial \\zv^{[2]} } \\big ) \\cdot \\frac{\\partial \\zv^{[2]}}{\\partial  \\wv^{[2]}}^\\top  \\\\\n",
    "\\\\\n",
    "&= \\big( (\\av^{[2]} - {\\yv})^\\top * \\mathbf{1} \\big )  \\cdot  \\Am^{[1]\\top}\n",
    "\\end{align}\n",
    "$$\n",
    "\n",
    "1. Compute the partial derivative solution $\\frac{\\partial MSE}{\\partial \\wv^{[2]}}$ for the output layer weights $\\Wm^{[2]}$. Store the output into `delta_mse_W2`.\n",
    "\n",
    "2. Compute the average gradient for $\\frac{\\partial MSE}{\\partial \\wv^{[2]}}$ by dividing the number of data samples. Store the output into `W2_avg_grad`.\n",
    "\n",
    "**Output layer bias gradients**\n",
    "$$\n",
    "\\begin{align}\n",
    "\\frac{\\partial MSE}{\\partial \\bv^{[2]}} &=  (\\frac{\\partial MSE}{\\partial \\av^{[2]}} * \\frac{\\partial \\av^{[2]}}{\\partial \\zv^{[2]} }) \\cdot \\frac{\\partial \\zv^{[2]}}{\\partial  \\bv^{[2]}}^\\top \\\\\n",
    "&=  \\big ( (\\av^{[2]} - {\\yv})^\\top * \\mathbf{1} \\big ) \\cdot \\mathbf{1}^\\top\n",
    "\\end{align}\n",
    "$$\n",
    "\n",
    "3. Compute the partial derivative solution $\\frac{\\partial MSE}{\\partial \\bv^{[2]}}$ for the output layer weights $\\bv^{[2]}$. Store the output into `delta_mse_b2`.\n",
    "\n",
    "4. Compute the average gradient for $\\frac{\\partial MSE}{\\partial \\bv^{[2]}}$ by dividing by the number of data samples. Store the output into `b2_avg_grad`."
   ]
  },
  {
   "cell_type": "code",
   "execution_count": 122,
   "id": "68068256",
   "metadata": {
    "id": "68068256"
   },
   "outputs": [],
   "source": [
    "def get_output_layer_grads(\n",
    "    y: np.ndarray, \n",
    "    y_hat: np.ndarray, \n",
    "    Zs: dict, \n",
    "    As: dict, \n",
    "    g_output: object, \n",
    "    verbose: bool = False\n",
    "):\n",
    "    \"\"\" Compute gradients for output layer parameters\n",
    "    \n",
    "        Args:\n",
    "            y: NumPy array of labels\n",
    "            \n",
    "            y_hat: NumPy array of predictions\n",
    "            \n",
    "            Zs: Dictionary containing values for the linar combination\n",
    "                of each layer with the weights and inputs\n",
    "            \n",
    "            g_output: Activation function class for output layer\n",
    "            \n",
    "            verbose: If true, all extra information print statements\n",
    "                will be printed.\n",
    "    \n",
    "    \"\"\"\n",
    "    delta_mse_A2 = delta_mse(y, y_hat)\n",
    "    delta_A2_Z2 = g_output.derivative(Zs['Z2'])\n",
    "    delta_Z2_W2 = As['A1']\n",
    "    delta_Z2_b2 = np.ones([1, len(y)])\n",
    "    \n",
    "    if verbose:\n",
    "        print(f\"\\ny shape: {y.shape}\")\n",
    "        print(f\"y_hat shape: {y_hat.shape}\")\n",
    "        print(f\"delta_mse_A2 shape: {delta_mse_A2.shape}\")\n",
    "        print(f\"delta_A2_Z2 shape: {delta_A2_Z2.shape}\")\n",
    "        print(f\"delta_Z2_W2 shape: {delta_Z2_W2.shape}\")\n",
    "        print(f\"delta_Z2_b2 shape: {delta_Z2_b2.shape}\\n\")\n",
    "    \n",
    "    # TODO 14.1\n",
    "    delta_mse_W2 = (delta_mse_A2.T * delta_A2_Z2) @ delta_Z2_W2.T\n",
    "    # TODO 14.2\n",
    "    W2_avg_grad = delta_mse_W2 / len(y)\n",
    "    \n",
    "    # TODO 14.3\n",
    "    delta_mse_b2 = (delta_mse_A2.T * delta_A2_Z2) @ delta_Z2_b2.T\n",
    "    # TODO 14.4\n",
    "    b2_avg_grad = delta_mse_b2 / len(y)\n",
    "    \n",
    "    return W2_avg_grad, b2_avg_grad"
   ]
  },
  {
   "cell_type": "markdown",
   "id": "a31586cc",
   "metadata": {
    "id": "a31586cc"
   },
   "source": [
    "Run the below code to test your implementation of the `get_output_layer_grads()` function."
   ]
  },
  {
   "cell_type": "code",
   "execution_count": 123,
   "id": "1cb47ba6",
   "metadata": {
    "id": "1cb47ba6",
    "outputId": "d35f78e6-632a-4f9b-9017-445d42fc0cac"
   },
   "outputs": [
    {
     "name": "stdout",
     "output_type": "stream",
     "text": [
      "\n",
      "y shape: (327, 1)\n",
      "y_hat shape: (327, 1)\n",
      "delta_mse_A2 shape: (327, 1)\n",
      "delta_A2_Z2 shape: (1, 327)\n",
      "delta_Z2_W2 shape: (2, 327)\n",
      "delta_Z2_b2 shape: (1, 327)\n",
      "\n",
      "Output layer weight grads:[[-0.27083818 -0.26163788]]\n",
      "Output layer bias grads:[[-0.3407989]]\n",
      "\n",
      "Your code PASSED the code check!\n"
     ]
    }
   ],
   "source": [
    "W2_avg_grad, b2_avg_grad = get_output_layer_grads(\n",
    "    y=y_trn, \n",
    "    y_hat=y_hat, \n",
    "    Zs=Zs, \n",
    "    As=As, \n",
    "    g_output=Linear, \n",
    "    verbose=True\n",
    ")\n",
    "\n",
    "print(f\"Output layer weight grads:{W2_avg_grad}\")\n",
    "print(f\"Output layer bias grads:{b2_avg_grad}\\n\")\n",
    "\n",
    "todo_check([\n",
    "    (W2_avg_grad.shape == (1, 2), \"W2_avg_grad has the wrong shape\"),\n",
    "    (b2_avg_grad.shape == (1, 1), \"b2_avg_grad has the wrong shape\"),\n",
    "    (np.all(np.isclose(W2_avg_grad, np.array([[-0.27083818, -0.26163788]]),rtol=.01)), \"W2_avg_grad has incorrect values\"),\n",
    "    (np.all(np.isclose(b2_avg_grad, np.array([[-0.3407989]]),rtol=.01)), \"b1_avg_grad has incorrect values\"),\n",
    "])"
   ]
  },
  {
   "cell_type": "markdown",
   "id": "5256aa5c",
   "metadata": {
    "id": "5256aa5c"
   },
   "source": [
    "#### TODO 15 \n",
    "Complete the TODO by updating the weights and biases for the output layer. Use the following update equations for the weights and biases:\n",
    "$$\n",
    "\\Wm^{[2]} = \\wv^{[2]} - \\alpha \\nabla \\frac{\\partial MSE}{\\partial  \\wv^{[2]}}\n",
    "$$\n",
    "\n",
    "$$\n",
    "\\bv^{[2]} = \\bv^{[2]} - \\alpha \\nabla \\frac{\\partial MSE}{\\partial  \\bv^{[2]}}.\n",
    "$$\n",
    "\n",
    "1. Update the weights stored in `W['W2']` using `alpha` and `W2_avg_grad`. Store the output into `W2_new`.\n",
    "2. Update the weights stored in `b['b2']` using `alpha` and `b2_avg_grad`. Store the output into `b2_new`."
   ]
  },
  {
   "cell_type": "code",
   "execution_count": 124,
   "id": "d320d70b",
   "metadata": {
    "id": "d320d70b",
    "outputId": "89eea1d4-40d2-4ad1-dae3-2e76b3cd23ac"
   },
   "outputs": [
    {
     "name": "stdout",
     "output_type": "stream",
     "text": [
      "Updated output layer weights: [[-0.00660541 -0.22941062]]\n",
      "Updated output layer biases: [[1.03407989]]\n",
      "Your code PASSED the code check!\n"
     ]
    }
   ],
   "source": [
    "alpha = .1\n",
    "\n",
    "# TODO 15.1\n",
    "W2_new = W['W2']-alpha*W2_avg_grad\n",
    "print(f\"Updated output layer weights: {W2_new}\")\n",
    "\n",
    "# TODO 15.2\n",
    "b2_new =b['b2']-alpha*b2_avg_grad\n",
    "print(f\"Updated output layer biases: {b2_new}\")\n",
    "\n",
    "todo_check([\n",
    "    (np.all(np.isclose(W2_new, np.array([[-0.00660541, -0.22941062]]),rtol=.01)), \"W2_new has incorrect values\"),\n",
    "    (np.all(np.isclose(b2_new, np.array([[1.03407989]]),rtol=.01)), \"b2_new has incorrect values\"),\n",
    "])"
   ]
  },
  {
   "cell_type": "code",
   "execution_count": 125,
   "id": "b2623605",
   "metadata": {
    "id": "b2623605"
   },
   "outputs": [],
   "source": [
    "garbage_collect(['W2_new', 'b2_new', 'W2_avg_grad', 'b2_avg_grad', 'alpha'])"
   ]
  },
  {
   "cell_type": "markdown",
   "id": "ad46528c",
   "metadata": {
    "id": "ad46528c"
   },
   "source": [
    "### Hidden layer\n",
    "Now, it's time to propagate the error further into the network. Therefore, we need to now compute the gradients for the hidden layer weights and biases. Thus, we need to compute the partial derivatives $\\frac{\\partial MSE}{\\partial \\Wm^{[1]}}$ and $\\frac{\\partial MSE}{\\partial \\bv^{[1]}}$.\n",
    "\n",
    "\n",
    "This is depicted visually in the below image where we backpropagating through the ENTIRE network to reach the hidden layer.\n",
    "\n",
    "<img src=\"https://live.staticflickr.com/65535/51989492762_456f04dd83_h.jpg\" width=\"400\" height=\"389\" alt=\"signle_nn_hidden_layers_back\">\n",
    "\n",
    "\n",
    "To compute the gradient or partial derivative of the weights $\\Wm^{[1]}$ and biases $\\bv^{[1]}$ we need the following equations:\n",
    "\n",
    "$$\n",
    "MSE = \\frac{1}{2m} (\\av^{[2]} - {\\yv})^2  \\\\ \n",
    "\\av^{[2]} = g(\\zv^{[2]}) \\\\\n",
    "\\zv^{[2]} = \\wv^{[2]} \\Am^{[1]} + \\bv^{[2]}\\\\\n",
    "\\Am^{[1]} = g(\\Zm^{[1]}) \\\\\n",
    "\\Zm^{[1]} = \\Wm^{[1]} \\Xm + \\bv^{[1]}\n",
    "$$\n",
    "where $\\hat{\\yv} = \\av^{[2]\\top}$."
   ]
  },
  {
   "cell_type": "markdown",
   "id": "2486698b",
   "metadata": {
    "id": "2486698b"
   },
   "source": [
    "<hr>\n",
    "\n",
    "**Weights**\n",
    "\n",
    "If we expand $\\frac{\\partial MSE}{\\partial \\Wm^{[1]}}$ we get the following equation:\n",
    "$$\n",
    "\\frac{\\partial MSE}{\\partial \\Wm^{[1]}} = \\frac{\\partial MSE}{\\partial \\av^{[2]}}\\frac{\\partial \\av^{[2]}}{\\partial \\zv^{[2]} }\\frac{\\partial \\zv^{[2]} }{\\partial  \\Am^{[1]} } \\frac{\\partial \\Am^{[1]}}{\\partial \\Zm^{[1]} } \\frac{\\partial \\Zm^{[1]}}{\\partial \\Wm^{[1]} }\n",
    "$$\n",
    "\n",
    "Notice, in order to compute $\\frac{\\partial MSE}{\\partial \\Wm^{[1]}}$ we have to recompute ALL the partial derivatives up to $\\frac{\\partial \\Zm^{[1]}}{\\partial \\Wm^{[1]} }$. This is where we can start to see how backpropagation got its name! If we compute the partial derivatives we get the following:\n",
    "\n",
    "\n",
    "$$\n",
    "\\frac{\\partial MSE}{\\partial \\av^{[2]}} = (\\av^{[2]} - {\\yv}) \\\\\n",
    "\\frac{\\partial \\av^{[2]}}{\\partial \\zv^{[2]} } = \\mathbf{1} \\\\\n",
    "\\frac{\\partial \\zv^{[2]} }{\\partial  \\Am^{[1]} }  = \\wv^{[2]} \\\\\n",
    "\\frac{\\partial \\Am^{[1]}}{\\partial \\Zm^{[1]} } = g( \\Zm^{[1]}) (\\mathbf{1} - g( \\Zm^{[1]})) \\\\\n",
    " \\frac{\\partial \\Zm^{[1]}}{\\partial \\Wm^{[1]} } = \\Xm\n",
    "$$\n",
    "\n",
    "\n",
    "Sadly, we can't compute $\\frac{\\partial MSE}{\\partial \\Wm^{[1]}}$ by simply multiplying all the values for the expanded partial derivative equation. Since we are working with vectors and matrices we need to utilize the dot product and, in turn, rearrange some of the partial derivatives. \n",
    "\n",
    "$$\n",
    "\\begin{align}\n",
    "\\frac{\\partial MSE}{\\partial \\Wm^{[1]}} &= \\frac{\\partial MSE}{\\partial \\av^{[2]}} \\frac{\\partial \\av^{[2]}}{\\partial \\zv^{[2]} }  \\frac{\\partial \\zv^{[2]} }{\\partial \\Am^{[1]} } \\frac{\\partial \\Am^{[1]}}{\\partial \\Zm^{[1]} } \\frac{\\partial \\Zm^{[1]}}{\\partial \\Wm^{[1]} } \\\\\n",
    "\\\\\n",
    " &= \\frac{\\partial \\zv^{[2]} }{\\partial \\Am^{[1]} }^\\top \\cdot \\big(\\frac{\\partial MSE}{\\partial \\av^{[2]}}^\\top * \\frac{\\partial \\av^{[2]}}{\\partial \\zv^{[2]} }\\big) * \\frac{\\partial \\Am^{[1]}}{\\partial \\Zm^{[1]} } \\cdot \\frac{\\partial \\Zm^{[1]}}{\\partial \\Wm^{[1]} }^\\top \\\\\n",
    " \\\\\n",
    "&=   \\Wm^{[2]\\top} \\cdot \\big ( (\\av^{[2]} - {\\yv} )^\\top * \\mathbf{1} \\big )  * \\big( \\Zm^{[1]} *(\\mathbf{1}  - g( \\Zm^{[1]}) \\big )\\cdot \\Xm^\\top\n",
    "\\end{align}\n",
    "$$\n",
    "\n",
    "where $\\cdot$ represents the dot product and $*$ represents element-wise multiplication. Notice, that the equation inherently computes the sum of the gradients due to the addition of the dot product. This means we only need to divide by the number of data samples used to compute the gradient to get the average gradient.\n"
   ]
  },
  {
   "cell_type": "markdown",
   "id": "b34b4ba2",
   "metadata": {
    "id": "b34b4ba2"
   },
   "source": [
    "<hr>\n",
    "\n",
    "**Biases**\n",
    "\n",
    "Thus, if we expand $\\frac{\\partial MSE}{\\partial \\bv^{[1]}}$ we get the following equation:\n",
    "$$\n",
    "\\frac{\\partial MSE}{\\partial \\bv^{[1]}} = \\frac{\\partial MSE}{\\partial \\av^{[2]}}\\frac{\\partial \\av^{[2]}}{\\partial \\zv^{[2]} }\\frac{\\partial \\zv^{[2]} }{\\partial  \\Am^{[1]} } \\frac{\\partial \\Am^{[1]}}{\\partial \\Zm^{[1]} } \\frac{\\partial \\Zm^{[1]}}{\\partial \\bv^{[1]} }\n",
    "$$\n",
    "\n",
    "Notice, the only new partial derivative is $\\frac{\\partial \\Zm^{[1]} }{\\partial \\bv^{[1]}}$, the rest we have already seen before. If we compute the partial derivatives we get the following:\n",
    "\n",
    "\n",
    "$$\n",
    " \\frac{\\partial \\Zm^{[1]}}{\\partial \\bv^{[1]} } = \\mathbf{1}\n",
    "$$\n",
    "\n",
    "Using the same equation format as the hidden layer weight update, we can compute $\\frac{\\partial MSE}{\\partial \\bv^{[1]}}$ by using the dot product and element-wise multiplication. Since we are working with vectors and matrices, we need to utilize the dot product and, in turn, rearrange some of the partial derivatives. \n",
    "\n",
    "$$\n",
    "\\begin{align}\n",
    "\\frac{\\partial MSE}{\\partial \\bv^{[1]}} &= \\frac{\\partial MSE}{\\partial \\av^{[2]}} \\frac{\\partial \\av^{[2]}}{\\partial \\zv^{[2]} }  \\frac{\\partial \\zv^{[2]} }{\\partial \\Am^{[1]} } \\frac{\\partial \\Am^{[1]}}{\\partial \\Zm^{[1]} } \\frac{\\partial \\Zm^{[1]}}{\\partial \\bv^{[1]} } \\\\\n",
    "\\\\\n",
    " &= \\frac{\\partial \\zv^{[2]} }{\\partial \\Am^{[1]} }^\\top \\cdot \\big(\\frac{\\partial MSE}{\\partial \\av^{[2]}} * \\frac{\\partial \\av^{[2]}}{\\partial \\zv^{[2]} }\\big) * \\frac{\\partial \\Am^{[1]}}{\\partial \\Zm^{[1]} } \\cdot \\frac{\\partial \\Zm^{[1]}}{\\partial \\bv^{[1]} }^\\top \\\\\n",
    " \\\\\n",
    "&=   \\Wm^{[2]\\top} \\cdot \\big ( (\\av^{[2]} - {\\yv} )^\\top * \\mathbf{1} \\big )  *\\big( ( \\Zm^{[1]}) (\\mathbf{1} - g( \\Zm^{[1]})) \\big ) \\cdot \\mathbf{1}^\\top\n",
    "\\end{align}\n",
    "$$\n",
    "\n",
    "where $\\cdot$ represents the dot product and $*$ represents element-wise multiplication. Notice, that the equation inherently computes the sum of the gradients due to the addition of the dot product. This means we only need to divide by the number of data samples used to compute the gradient to get the average gradient."
   ]
  },
  {
   "cell_type": "code",
   "execution_count": 126,
   "id": "798e3c65",
   "metadata": {
    "id": "798e3c65",
    "outputId": "6a1a72fb-bda6-478e-fcb7-b13dfc0d5628"
   },
   "outputs": [
    {
     "name": "stdout",
     "output_type": "stream",
     "text": [
      "W['W1'] shape: (2, 29)\n"
     ]
    },
    {
     "data": {
      "text/plain": [
       "array([[ 0.0488135 ,  0.21518937,  0.10276338,  0.04488318, -0.0763452 ,\n",
       "         0.14589411, -0.06241279,  0.391773  ,  0.46366276, -0.11655848,\n",
       "         0.29172504,  0.02889492,  0.06804456,  0.42559664, -0.42896394,\n",
       "        -0.4128707 , -0.4797816 ,  0.33261985,  0.27815675,  0.37001215,\n",
       "         0.47861834,  0.29915856, -0.03852064,  0.28052918, -0.38172557,\n",
       "         0.13992102, -0.35664671,  0.44466892,  0.02184832],\n",
       "       [-0.08533806, -0.23544439,  0.27423369, -0.04384967,  0.06843395,\n",
       "        -0.4812102 ,  0.1176355 ,  0.11209572,  0.116934  ,  0.44374808,\n",
       "         0.1818203 , -0.1404921 , -0.06296805,  0.1976312 , -0.43977453,\n",
       "         0.16676672,  0.17063787, -0.28961744, -0.3710737 , -0.18457165,\n",
       "        -0.13628923,  0.07019677, -0.06139849,  0.48837384, -0.39795519,\n",
       "        -0.29112324, -0.33869048,  0.15310833, -0.2467084 ]])"
      ]
     },
     "execution_count": 126,
     "metadata": {},
     "output_type": "execute_result"
    }
   ],
   "source": [
    "print(f\"W['W1'] shape: {W['W1'].shape}\")\n",
    "W['W1']"
   ]
  },
  {
   "cell_type": "code",
   "execution_count": 127,
   "id": "552ea2f4",
   "metadata": {
    "id": "552ea2f4",
    "outputId": "ebe661d3-7ab0-4a1d-a203-a2413562f7e4"
   },
   "outputs": [
    {
     "name": "stdout",
     "output_type": "stream",
     "text": [
      "b['b1'] shape: (2, 1)\n"
     ]
    },
    {
     "data": {
      "text/plain": [
       "array([[1.],\n",
       "       [1.]])"
      ]
     },
     "execution_count": 127,
     "metadata": {},
     "output_type": "execute_result"
    }
   ],
   "source": [
    "print(f\"b['b1'] shape: {b['b1'].shape}\")\n",
    "b['b1']"
   ]
  },
  {
   "cell_type": "markdown",
   "id": "32ebb761",
   "metadata": {
    "id": "32ebb761"
   },
   "source": [
    "#### TODO 16\n",
    "\n",
    "Each of the partial derivatives map to the following variables where delta corresponds to $\\partial$:\n",
    "- $\\frac{\\partial MSE}{\\partial \\av^{[2]}}$ corresponds to  `delta_mse_A2` \n",
    "- $\\frac{\\partial \\av^{[2]}}{\\partial \\zv^{[2]} }$ corresponds to `delta_A2_Z2`\n",
    "- $\\frac{\\partial \\zv^{[2]} }{\\partial \\Am^{[1]} }$ corresponds to `delta_Z2_A1` \n",
    "- $\\frac{\\partial \\Am^{[1]}}{\\partial \\Zm^{[1]} }$ corresponds to `delta_A1_Z1`\n",
    "- $\\frac{\\partial MSE}{\\partial \\Am^{[1]}}$ corresponds to `delta_mse_A1`\n",
    "- $ \\frac{\\partial \\Zm^{[1]}}{\\partial \\Wm^{[1]} }$ corresponds to `delta_Z1_W1`\n",
    "- $ \\frac{\\partial \\Zm^{[1]}}{\\partial \\bv^{[1]} }$ corresponds to `delta_Z1_b1`\n",
    "\n",
    "*Note: delta corresponds to $\\partial$.*\n",
    "\n",
    "**Output layer activation partial derivative**\n",
    "$$\n",
    "\\begin{align}\n",
    "\\frac{\\partial MSE}{\\partial \\Am^{[1]}} &= \\frac{\\partial \\zv^{[2]} }{\\partial \\Am^{[1]} } \\cdot \\big(\\frac{\\partial MSE}{\\partial \\av^{[2]}} * \\frac{\\partial \\av^{[2]}}{\\partial \\zv^{[2]} }\\big)\n",
    "\\\\\n",
    "&=   \\Wm^{[2]\\top} \\cdot \\big ( (\\av^{[2]} - {\\yv} )^\\top * \\mathbf{1} \\big )\n",
    "\\end{align}\n",
    "$$\n",
    "1. Compute the partial derivative solution $\\frac{\\partial MSE}{\\partial \\Am^{[1]}}$ for the output layer with respect to the  activation $\\Am^{[1]}$. Notice that both weights and biases for the hidden layer use this partial derivative therefore we only need to solve for it once! Store the output into `delta_mse_A1`.\n",
    "\n",
    "\n",
    "**Hidden layer weight gradients**\n",
    "$$\n",
    "\\begin{align}\n",
    "\\frac{\\partial MSE}{\\partial \\Wm^{[1]}} &= \\frac{\\partial MSE}{\\partial \\Am^{[1]}} * \\frac{\\partial \\Am^{[1]}}{\\partial \\Zm^{[1]} } \\cdot \\frac{\\partial \\Zm^{[1]}}{\\partial \\Wm^{[1]} } \\\\\n",
    " \\\\\n",
    "&=   \\Wm^{[2]\\top} \\cdot \\big ( (\\av^{[2]} - {\\yv} )^\\top * \\mathbf{1} \\big )  * \\big( \\Zm^{[1]} *(\\mathbf{1} - g( \\Zm^{[1]}) \\big ) \\cdot \\Xm^\\top\n",
    "\\end{align}\n",
    "$$\n",
    "where $\\Xm = \\Am^{[0]}$\n",
    "\n",
    "2. Compute the partial derivative solution $\\frac{\\partial MSE}{\\partial \\Wm^{[1]}}$ for the output layer weights $\\Wm^{[1]}$. Store the output into `delta_mse_W1`.\n",
    "\n",
    "3. Compute the average gradient for $\\frac{\\partial MSE}{\\partial \\Wm^{[1]}}$ by dividing the number of data samples. Store the output into `W1_avg_grad`.\n",
    "\n",
    "**Hidden layer bias gradients**\n",
    "$$\n",
    "\\begin{align}\n",
    "\\frac{\\partial MSE}{\\partial \\bv^{[1]}} &= \\frac{\\partial MSE}{\\partial \\Am^{[1]}} * \\frac{\\partial \\Am^{[1]}}{\\partial \\Zm^{[1]} } \\cdot \\frac{\\partial \\Zm^{[1]}}{\\partial \\bv^{[1]} }^\\top \\\\\n",
    " \\\\\n",
    "&=  \\Wm^{[2]\\top} \\cdot \\big ( (\\av^{[2]} - {\\yv} )^\\top * \\mathbf{1} \\big )  *\\big( ( \\Zm^{[1]}) (\\mathbf{1} - g( \\Zm^{[1]})) \\big ) \\cdot \\mathbf{1}^\\top\n",
    "\\end{align}\n",
    "$$\n",
    "\n",
    "4. Compute the partial derivative solution $\\frac{\\partial MSE}{\\partial \\bv^{[1]}}$ for the output layer weights $\\bv^{[1]}$. Store the output into `delta_mse_b1`.\n",
    "\n",
    "5. Compute the average gradient for $\\frac{\\partial MSE}{\\partial \\bv^{[1]}}$ by dividing the number of data samples. Store the output into `b1_avg_grad`."
   ]
  },
  {
   "cell_type": "code",
   "execution_count": 128,
   "id": "a4e437b1",
   "metadata": {
    "id": "a4e437b1"
   },
   "outputs": [],
   "source": [
    "def get_hidden_layer_grads(\n",
    "    y: np.ndarray,  \n",
    "    y_hat: np.ndarray,\n",
    "    W: Dict, \n",
    "    Zs: Dict,\n",
    "    As: Dict,\n",
    "    g_hidden: object, \n",
    "    g_output: object, \n",
    "    verbose=False\n",
    "):\n",
    "    \"\"\" Compute gradients for hidden layer parameters\n",
    "    \n",
    "        Args:\n",
    "            y: NumPy array of labels\n",
    "            \n",
    "            y_hat: NumPy array of predictions\n",
    "            \n",
    "            W: Dictionary of weights\n",
    "            \n",
    "            Zs: Dictionary containing values for the linar combination\n",
    "                of each layer with the weights and inputs\n",
    "            \n",
    "            As: Dictionary of neuron activation outputs\n",
    "            \n",
    "            g_hidden: Activation function class for hidden layer\n",
    "            \n",
    "            g_output: Activation function class for output layer\n",
    "            \n",
    "            verbose: If true, all extra information print statements\n",
    "                will be printed.\n",
    "    \n",
    "    \"\"\"\n",
    "    delta_mse_A2 = delta_mse(y, y_hat)\n",
    "    delta_A2_Z2 = g_output.derivative(Zs['Z2'])\n",
    "    delta_Z2_A1 = W['W2']\n",
    "    delta_A1_Z1 = g_hidden.derivative(Zs['Z1'])\n",
    "    delta_Z1_W1 = As['A0']\n",
    "    delta_Z1_b1 = np.ones([1, len(y)])\n",
    "    \n",
    "    if verbose:\n",
    "        print(f\"\\ny shape: {y.shape}\")\n",
    "        print(f\"y_hat shape: {y_hat.shape}\")\n",
    "        print(f\"delta_mse_A2 shape: {delta_mse_A2.shape}\")\n",
    "        print(f\"delta_A2_Z2 shape: {delta_A2_Z2.shape}\")\n",
    "        print(f\"delta_Z2_A1 shape: {delta_Z2_A1.shape}\")\n",
    "        print(f\"delta_A1_Z1 shape: {delta_A1_Z1.shape}\")\n",
    "        print(f\"delta_Z1_W1 shape: {delta_Z1_W1.shape}\")\n",
    "        print(f\"delta_Z1_b1 shape: {delta_Z1_b1.shape}\")\n",
    "    \n",
    "    # TODO 16.1\n",
    "    delta_mse_A1 = delta_Z2_A1.T @ (delta_mse_A2.T * delta_A2_Z2)\n",
    "    if verbose: print(f\"delta_mse_A1 shape: {delta_mse_A1.shape}\\n\")\n",
    "        \n",
    "    # TODO 16.2\n",
    "    delta_mse_W1 = ((delta_mse_A1 * delta_A1_Z1) @ delta_Z1_W1.T)\n",
    "    # TODO 16.3\n",
    "    W1_avg_grad = delta_mse_W1 / len(y)\n",
    "    \n",
    "    # TODO 16.4\n",
    "    delta_mse_b1 = (delta_mse_A1 * delta_A1_Z1) @ delta_Z1_b1.T\n",
    "    # TODO 16.5\n",
    "    b1_avg_grad = delta_mse_b1 / len(y)\n",
    "    \n",
    "    return W1_avg_grad, b1_avg_grad"
   ]
  },
  {
   "cell_type": "markdown",
   "id": "c8a1f063",
   "metadata": {
    "id": "c8a1f063"
   },
   "source": [
    "Run the below code to test your implementation of the `get_hidden_layer_grads()` function."
   ]
  },
  {
   "cell_type": "code",
   "execution_count": 129,
   "id": "ffd4dd88",
   "metadata": {
    "id": "ffd4dd88",
    "outputId": "61480297-39ca-4114-aa95-c8ee142eeab5"
   },
   "outputs": [
    {
     "name": "stdout",
     "output_type": "stream",
     "text": [
      "\n",
      "y shape: (327, 1)\n",
      "y_hat shape: (327, 1)\n",
      "delta_mse_A2 shape: (327, 1)\n",
      "delta_A2_Z2 shape: (1, 327)\n",
      "delta_Z2_A1 shape: (1, 2)\n",
      "delta_A1_Z1 shape: (2, 327)\n",
      "delta_Z1_W1 shape: (29, 327)\n",
      "delta_Z1_b1 shape: (1, 327)\n",
      "delta_mse_A1 shape: (2, 327)\n",
      "\n",
      "Hidden layer weight grads:\n",
      "[[-0.00094709  0.00000367  0.00209902  0.00029255 -0.00268483 -0.00009403\n",
      "   0.00120274 -0.00042582  0.00080543  0.00412368 -0.00127937 -0.00056117\n",
      "  -0.00020014 -0.00047428 -0.0018242  -0.00024985 -0.00017648 -0.00061742\n",
      "   0.00047459 -0.00139918 -0.0017888   0.00006853  0.00175618  0.00194415\n",
      "   0.00138509 -0.00015809  0.0008642   0.00096992 -0.00046256]\n",
      " [-0.00218032  0.00175431 -0.00695183 -0.00616441 -0.00996077  0.02451534\n",
      "   0.00094624 -0.00253417 -0.00182419 -0.00382956 -0.00503547 -0.00943162\n",
      "   0.01926825 -0.00505689 -0.01491295 -0.00201778 -0.00158789 -0.00938203\n",
      "   0.01324665  0.01831678 -0.00059254  0.00231968  0.01766634  0.01819502\n",
      "   0.00190069  0.02447209 -0.0040375  -0.00099329 -0.00264244]]\n",
      "Hidden layer bias grads:\n",
      "[[0.00318644]\n",
      " [0.02807532]]\n",
      "\n",
      "Your code PASSED the code check!\n"
     ]
    }
   ],
   "source": [
    "W1_avg_grad, b1_avg_grad = get_hidden_layer_grads(\n",
    "    y=y_trn, \n",
    "    y_hat=y_hat,\n",
    "    W=W,\n",
    "    Zs=Zs, \n",
    "    As=As, \n",
    "    g_hidden=Tanh,\n",
    "    g_output=Linear, \n",
    "    verbose=True\n",
    ")\n",
    "\n",
    "print(f\"Hidden layer weight grads:\\n{W1_avg_grad}\")\n",
    "print(f\"Hidden layer bias grads:\\n{b1_avg_grad}\\n\")\n",
    "\n",
    "todo_check([\n",
    "    (W1_avg_grad.shape == (2, 29), \"W1_avg_grad has the wrong shape\"),\n",
    "    (b1_avg_grad.shape == (2, 1), \"b1_avg_grad has the wrong shape\"),\n",
    "    (np.all(np.isclose(W1_avg_grad[0][:3], np.array([-0.00094709,  0.00000367,  0.00209902]),rtol=.01)), \"W1_avg_grad has incorrect values\"),\n",
    "    (np.all(np.isclose(b1_avg_grad, np.array([[0.00318644],[0.02807532]]),rtol=.01)), \"b1_avg_grad has incorrect values\"),\n",
    "])"
   ]
  },
  {
   "cell_type": "markdown",
   "id": "0c17ca8e",
   "metadata": {
    "id": "0c17ca8e"
   },
   "source": [
    "#### TODO 17 \n",
    "Complete the TODO by updating the weights and biases for the hidden layer. Use the following update equations to for the weights and biases:\n",
    "$$\n",
    "\\Wm^{[1]} = \\Wm^{[1]} - \\alpha \\nabla \\frac{\\partial MSE}{\\partial  \\Wm^{[1]}}\n",
    "$$\n",
    "\n",
    "$$\n",
    "\\bv^{[1]} = \\bv^{[1]} - \\alpha \\nabla \\frac{\\partial MSE}{\\partial  \\bv^{[1]}}.\n",
    "$$\n",
    "\n",
    "1. Update the weights stored in `W['W1']` using `alpha` and `W1_avg_grad`. Store the output into `W1_new`.\n",
    "\n",
    "2. Update the weights stored in `b['b1']` using `alpha` and `b1_avg_grad`. Store the output into `b1_new`."
   ]
  },
  {
   "cell_type": "code",
   "execution_count": 130,
   "id": "48b635c5",
   "metadata": {
    "id": "48b635c5",
    "outputId": "22faebc6-07b1-456d-c35d-0ee9639cd1e2"
   },
   "outputs": [
    {
     "name": "stdout",
     "output_type": "stream",
     "text": [
      "Updated hidden layer weights:\n",
      "[[ 0.04890821  0.215189    0.10255347  0.04485393 -0.07607672  0.14590352\n",
      "  -0.06253306  0.39181558  0.46358222 -0.11697085  0.29185297  0.02895104\n",
      "   0.06806458  0.42564407 -0.42878152 -0.41284572 -0.47976395  0.33268159\n",
      "   0.27810929  0.37015207  0.47879722  0.29915171 -0.03869626  0.28033476\n",
      "  -0.38186408  0.13993683 -0.35673313  0.44457193  0.02189458]\n",
      " [-0.08512003 -0.23561982  0.27492887 -0.04323323  0.06943003 -0.48366173\n",
      "   0.11754087  0.11234914  0.11711642  0.44413103  0.18232385 -0.13954894\n",
      "  -0.06489487  0.19813689 -0.43828323  0.16696849  0.17079666 -0.28867924\n",
      "  -0.37239837 -0.18640333 -0.13622998  0.0699648  -0.06316512  0.48655434\n",
      "  -0.39814526 -0.29357045 -0.33828673  0.15320765 -0.24644415]]\n",
      "Updated hidden layer biases:\n",
      "[[0.99968136]\n",
      " [0.99719247]]\n",
      "Your code PASSED the code check!\n"
     ]
    }
   ],
   "source": [
    "alpha = .1\n",
    "# TODO 17.1\n",
    "W1_new = W['W1'] - alpha*W1_avg_grad\n",
    "print(f\"Updated hidden layer weights:\\n{W1_new}\")\n",
    "\n",
    "# TODO 17.2\n",
    "b1_new = b['b1'] - alpha*b1_avg_grad\n",
    "print(f\"Updated hidden layer biases:\\n{b1_new}\")\n",
    "\n",
    "todo_check([\n",
    "    (np.all(np.isclose(W1_new[0][:3], np.array([0.04890821, 0.215189, 0.10255347]),rtol=.01)), \"W1_new has incorrect values\"), \n",
    "    (np.all(np.isclose(b1_new, np.array([[0.99968136], [0.99719247]]),rtol=.01)), \"b1_new has incorrect values\"), \n",
    "])"
   ]
  },
  {
   "cell_type": "code",
   "execution_count": 131,
   "id": "008f1860",
   "metadata": {
    "id": "008f1860"
   },
   "outputs": [],
   "source": [
    "garbage_collect(['W1_new', 'b1_new', 'W1_avg_grad', 'b1_avg_grad', 'alpha'])"
   ]
  },
  {
   "cell_type": "markdown",
   "id": "e341d204",
   "metadata": {
    "id": "e341d204"
   },
   "source": [
    "### Putting it all together\n",
    " Now it's time to combine both the forward pass and backward pass code into one class. Thus, we'll need to define a `NeuralNetwork()` class whose `fit()` method perform multiple epochs of mini-batch gradient descent. \n",
    " \n",
    " \n",
    "For each mini-batch we'll make predictions by calling the `forward()` function and then compute the gradients using the `get_output_layer_grads()` and `get_hidden_layer_grads()` functions. Using the gradients for each mini-batch we can then update the weights and biases. We'll perform updates for each mini-batch until we have looped over the entire data. After one epoch (i.e., one pass over the entire data), we can continue running more epochs or end training."
   ]
  },
  {
   "cell_type": "markdown",
   "id": "bf9b3966",
   "metadata": {
    "id": "bf9b3966"
   },
   "source": [
    "Below we define our trusty `get_mini_batches()` functions which generates mini-batches for the passed data."
   ]
  },
  {
   "cell_type": "code",
   "execution_count": 132,
   "id": "055889c0",
   "metadata": {
    "id": "055889c0"
   },
   "outputs": [],
   "source": [
    "def get_mini_batches(data_len: int, \n",
    "                     batch_size: int = 32) -> List[np.ndarray]:\n",
    "    \"\"\" Generates mini-batches based on the data indexes\n",
    "        \n",
    "        Args:\n",
    "            data_len: Length of the data or number of data samples \n",
    "                in the data.\n",
    "            \n",
    "            batch_size: Size of each mini-batch where the last mini-batch\n",
    "                might be smaller than the rest if the batch_size does not \n",
    "                evenly divide the data length.\n",
    "    \"\"\"\n",
    "    X_idx = np.arange(data_len)\n",
    "    np.random.shuffle(X_idx)\n",
    "    batches = [X_idx[i:i+batch_size] for i in range(0, data_len, batch_size)]\n",
    "    \n",
    "    return batches"
   ]
  },
  {
   "cell_type": "markdown",
   "id": "e9da1225",
   "metadata": {
    "id": "e9da1225"
   },
   "source": [
    "#### TODO 18\n",
    "Complete the TODO by implementing the `NeuralNetwork()` which runs mini-batch gradient descent. You need to simply call the functions we have already defined such as `init_weights()`, `forward()`, `get_output_layer_grads()`, and `get_hidden_layer_grads()`. **Also, be sure to read the documentation for the attributes (class variables) in the `NeuralNetwork` class!**\n",
    "**Weight initialization**\n",
    "\n",
    "1. Call the `init_weights()` function to initialize the weights. Store the outputs into `self.W` and `self.b`.\n",
    "    1. Hint: Remember to pass the required arguments and the `seed` argument. Read the documentation given in the `init_weights()` function to see what each argument corresponds to.\n",
    "\n",
    "**Forward pass**\n",
    "\n",
    "2. Call the `forward()` function to get the predictions for the current mini-batch. Store the outputs into `y_hat`, `Zs`, and `As`. \n",
    "    1. Hint: Remember to pass the required arguments and the current mini-batch of data. Read the documentation given in the `forward()` function to see what each argument corresponds to.\n",
    "\n",
    "**Backwards pass**\n",
    "\n",
    "3. Call the `get_output_layer_grads()` function to get the gradients for the output layer weights and biases. Store the outputs into `W2_avg_grad` and `b2_avg_grad`. \n",
    "    1. Hint: Remember to pass the required arguments and the current mini-batch of labels. Read the documentation given in the `get_output_layer_grads()` function to see what each argument corresponds to.\n",
    "4. Call the `get_hidden_layer_grads()` function to get the gradients for the hidden layer weights and biases. Store the outputs into `W1_avg_grad` and `b1_avg_grad`.\n",
    "    1. Hint: Remember to pass the required arguments and the current mini-batch of labels. Read the documentation given in the `get_hidden_layer_grads()` function to see what each argument corresponds to.\n",
    "5. Update the weights stored in `W['W2']` using `alpha` and `W2_avg_grad`. Store the output into `W['W2']`.\n",
    "6. Update the weights stored in `b['b2']` using `alpha` and `b2_avg_grad`. Store the output into `b['b2']`.\n",
    "7. Update the weights stored in `W['W1']` using `alpha` and `W1_avg_grad`. Store the output into `W['W1']`.\n",
    "2. Update the weights stored in `b['b1']` using `alpha` and `b1_avg_grad`. Store the output into `b['b1']`.\n",
    "\n",
    "**Predicting**\n",
    "\n",
    "9. Call the `forward()` function to get the predictions for the passed data `X`. Store the outputs into `y_hat`, `_`, and `_`. \n",
    "    1. Hint: Remember to pass the required arguments. Read the documentation given in the `forward()` function to see what each argument corresponds to."
   ]
  },
  {
   "cell_type": "code",
   "execution_count": 180,
   "id": "13943fa0",
   "metadata": {
    "id": "13943fa0"
   },
   "outputs": [],
   "source": [
    "class NeuralNetwork():\n",
    "    def __init__(self,\n",
    "        hidden_neurons: int,\n",
    "        g_hidden: object,\n",
    "        g_output: object,\n",
    "        output_neurons: int = 1,\n",
    "        batch_size: int = 32, \n",
    "        alpha: float = .01, \n",
    "        epochs: int = 1,\n",
    "        verbose: bool = False\n",
    "    ):\n",
    "        \"\"\" A 2 layer neural network which learnins using mini-batch GD \n",
    "            \n",
    "            Attributes:\n",
    "                hidden_neurons: Number of hidden units/neurons.\n",
    "                \n",
    "                output_neurons: Number of output neuorns\n",
    "                \n",
    "                g_hidden: Activation function to be used by the hidden \n",
    "                    units/neurons.\n",
    "                    \n",
    "                g_output: Activation function to be used by the output\n",
    "                    neurons.\n",
    "                \n",
    "                batch_size: Size of each mini-batch.\n",
    "                \n",
    "                alpha: Learning rate to use for gradient descent updates.\n",
    "                \n",
    "                epochs: Number of epochs to use when training.\n",
    "                \n",
    "                verbose: If true all extra infomation print statements will \n",
    "                    be printed.\n",
    "                    \n",
    "                W (dict): Dictionary of weights for each layer\n",
    "                \n",
    "                b (dict): Dictionary of baises for each layer\n",
    "                \n",
    "                epoch_losses (list): Tracks average training loss per epoch\n",
    "                \n",
    "                vld_epoch_losses (list): Tracks average validation loss per\n",
    "                    epoch.\n",
    "        \"\"\"\n",
    "        self.hidden_neurons = hidden_neurons\n",
    "        self.output_neurons = output_neurons\n",
    "        self.g_hidden = g_hidden\n",
    "        self.g_output = g_output\n",
    "        self.batch_size = batch_size\n",
    "        self.alpha = alpha\n",
    "        self.epochs = epochs\n",
    "        self.verbose = verbose\n",
    "        self.W = None\n",
    "        self.b = None\n",
    "        self.epoch_losses = None\n",
    "        self.vld_epoch_losses = None\n",
    "\n",
    "    def fit(\n",
    "        self,\n",
    "        X: np.ndarray, \n",
    "        y: np.ndarray,\n",
    "        *,\n",
    "        X_vld: np.ndarray = None, \n",
    "        y_vld:np.ndarray = None,\n",
    "        seed: int = 0,\n",
    "    ): \n",
    "        \"\"\" Training method for a 2 layer neural network \n",
    "        \n",
    "            Args:\n",
    "                X: Data used for training neural network\n",
    "                \n",
    "                y: Labels corresponding to data used for training the\n",
    "                    neural network.\n",
    "                \n",
    "                X_vld: Validation data for assessing network performance.\n",
    "                \n",
    "                y_vld: Validation lables which correspond to validation\n",
    "                    data.\n",
    "                    \n",
    "                seed: Used to make neural network training reproducible.\n",
    "                    Controls the selection of mini-batches and initial\n",
    "                    weight values.\n",
    "        \"\"\"\n",
    "        np.random.seed(seed)\n",
    "        m = len(X)\n",
    "        self.epoch_losses = []\n",
    "        self.vld_epoch_losses = []\n",
    "\n",
    "        # Initialize weights and biases\n",
    "        # TODO 18.1\n",
    "        self.W, self.b = init_weights(X.shape[1], 2, 1, seed=0)\n",
    "        \n",
    "        if self.verbose:\n",
    "            print(f\"self.W['W1'] shape: {self.W['W1'].shape}\")\n",
    "            print(f\"self.b['b1'] shape: {self.b['b1'].shape}\")\n",
    "            print(f\"self.W['W2'] shape: {self.W['W2'].shape}\")\n",
    "            print(f\"self.b['b2'] shape: {self.b['b2'].shape}\")\n",
    "        \n",
    "        # Iterate epochs\n",
    "        for e in range(self.epochs):\n",
    "            print(f\"Epoch: {e+1}\")\n",
    "            batches = get_mini_batches(data_len=m, batch_size=self.batch_size)\n",
    "            epoch_sse = 0\n",
    "            # Iterate mini-batch\n",
    "            for mb in batches:\n",
    "                # Forward pass to get predictions\n",
    "                # TODO 18.2\n",
    "                y_hat, Zs, As = forward(X_trn, W, b, Sigmoid, Linear)\n",
    "\n",
    "                # Backward pass to update weights and biases\n",
    "                # TODO 18.3\n",
    "                W2_avg_grad, b2_avg_grad = get_output_layer_grads(y_trn, y_hat, Zs, As, Linear, True)\n",
    "                \n",
    "                # TODO 18.4\n",
    "                W1_avg_grad, b1_avg_grad = get_hidden_layer_grads(y_trn, y_hat, W, Zs, As, Tanh, Linear, True)\n",
    "                                        \n",
    "                # Update output layer's weights and biases\n",
    "                # TODO 18.5\n",
    "                self.W['W2'] = W['W2']- .1*W2_avg_grad\n",
    "                # TODO 18.6\n",
    "                self.b['b2'] = b['b2']- .1*b2_avg_grad\n",
    "                \n",
    "                # Update hidden layer's weights and biases\n",
    "                # TODO 18.7\n",
    "                self.W['W1'] = W['W1']- .1*W1_avg_grad\n",
    "                # TODO 18.8\n",
    "                self.b['b1'] = b['b1']- .1*b1_avg_grad\n",
    "\n",
    "                # Compute squared error for current mini-batch\n",
    "                batch_sse = sse(y[mb], y_hat)\n",
    "                epoch_sse += batch_sse\n",
    "\n",
    "            # Compute MSE for entire dataset\n",
    "            epoch_mse = epoch_sse / m\n",
    "            self.epoch_losses.append(epoch_mse)\n",
    "            print(f\"\\t Train MSE: {epoch_mse}\")\n",
    "             \n",
    "            # Compute validation MSE if data was passed\n",
    "            if X_vld is not None and y_vld is not None:\n",
    "                vld_epoch_mse = self.check_valid_scores(X_vld, y_vld)\n",
    "                self.vld_epoch_losses.append(vld_epoch_mse)\n",
    "                print(f\"\\t Valid MSE: {vld_epoch_mse}\")\n",
    "    \n",
    "    def check_valid_scores(self, X_vld, y_vld):\n",
    "        y_hat, _, _ = forward(\n",
    "            X=X_vld,\n",
    "            W=self.W,\n",
    "            b=self.b,\n",
    "            g_hidden=self.g_hidden,\n",
    "            g_output=self.g_output,\n",
    "        )\n",
    "        vld_mse = mse(y_vld, y_hat)\n",
    "        return vld_mse\n",
    "    \n",
    "    def predict(self, X: np.ndarray):\n",
    "        # TODO 18.9\n",
    "        y_hat, _, _  = forward(X, W, b, Sigmoid, Linear)\n",
    "        \n",
    "        return y_hat"
   ]
  },
  {
   "cell_type": "markdown",
   "id": "c23c0d3d",
   "metadata": {
    "id": "c23c0d3d"
   },
   "source": [
    "Run the `TEST_neural_network()` function code to test your implementation of the `NeuralNetwork` class."
   ]
  },
  {
   "cell_type": "code",
   "execution_count": 181,
   "id": "2d90e23a",
   "metadata": {
    "id": "2d90e23a",
    "outputId": "6da142d1-1857-4179-dcaf-55f412b4c377"
   },
   "outputs": [
    {
     "name": "stdout",
     "output_type": "stream",
     "text": [
      "Epoch: 1\n",
      "\n",
      "y shape: (327, 1)\n",
      "y_hat shape: (327, 1)\n",
      "delta_mse_A2 shape: (327, 1)\n",
      "delta_A2_Z2 shape: (1, 327)\n",
      "delta_Z2_W2 shape: (2, 327)\n",
      "delta_Z2_b2 shape: (1, 327)\n",
      "\n",
      "\n",
      "y shape: (327, 1)\n",
      "y_hat shape: (327, 1)\n",
      "delta_mse_A2 shape: (327, 1)\n",
      "delta_A2_Z2 shape: (1, 327)\n",
      "delta_Z2_A1 shape: (1, 2)\n",
      "delta_A1_Z1 shape: (2, 327)\n",
      "delta_Z1_W1 shape: (29, 327)\n",
      "delta_Z1_b1 shape: (1, 327)\n",
      "delta_mse_A1 shape: (2, 327)\n",
      "\n"
     ]
    },
    {
     "ename": "ValueError",
     "evalue": "operands could not be broadcast together with shapes (327,1) (64,1) ",
     "output_type": "error",
     "traceback": [
      "\u001b[0;31m---------------------------------------------------------------------------\u001b[0m",
      "\u001b[0;31mValueError\u001b[0m                                Traceback (most recent call last)",
      "\u001b[0;32m<ipython-input-181-f46d4235f782>\u001b[0m in \u001b[0;36m<module>\u001b[0;34m\u001b[0m\n\u001b[1;32m     32\u001b[0m     ])\n\u001b[1;32m     33\u001b[0m \u001b[0;34m\u001b[0m\u001b[0m\n\u001b[0;32m---> 34\u001b[0;31m \u001b[0mTEST_neural_network\u001b[0m\u001b[0;34m(\u001b[0m\u001b[0;34m)\u001b[0m\u001b[0;34m\u001b[0m\u001b[0;34m\u001b[0m\u001b[0m\n\u001b[0m\u001b[1;32m     35\u001b[0m \u001b[0mgarbage_collect\u001b[0m\u001b[0;34m(\u001b[0m\u001b[0;34m[\u001b[0m\u001b[0;34m'TEST_neural_network'\u001b[0m\u001b[0;34m]\u001b[0m\u001b[0;34m)\u001b[0m\u001b[0;34m\u001b[0m\u001b[0;34m\u001b[0m\u001b[0m\n",
      "\u001b[0;32m<ipython-input-181-f46d4235f782>\u001b[0m in \u001b[0;36mTEST_neural_network\u001b[0;34m()\u001b[0m\n\u001b[1;32m     19\u001b[0m \u001b[0;34m\u001b[0m\u001b[0m\n\u001b[1;32m     20\u001b[0m     \u001b[0mX\u001b[0m\u001b[0;34m,\u001b[0m \u001b[0my\u001b[0m \u001b[0;34m=\u001b[0m \u001b[0mnonlinear_data\u001b[0m\u001b[0;34m(\u001b[0m\u001b[0;34m)\u001b[0m\u001b[0;34m\u001b[0m\u001b[0;34m\u001b[0m\u001b[0m\n\u001b[0;32m---> 21\u001b[0;31m     \u001b[0mnn\u001b[0m\u001b[0;34m.\u001b[0m\u001b[0mfit\u001b[0m\u001b[0;34m(\u001b[0m\u001b[0mX\u001b[0m\u001b[0;34m,\u001b[0m \u001b[0my\u001b[0m\u001b[0;34m)\u001b[0m\u001b[0;34m\u001b[0m\u001b[0;34m\u001b[0m\u001b[0m\n\u001b[0m\u001b[1;32m     22\u001b[0m \u001b[0;34m\u001b[0m\u001b[0m\n\u001b[1;32m     23\u001b[0m     \u001b[0my_hat\u001b[0m \u001b[0;34m=\u001b[0m \u001b[0mnn\u001b[0m\u001b[0;34m.\u001b[0m\u001b[0mpredict\u001b[0m\u001b[0;34m(\u001b[0m\u001b[0mX\u001b[0m\u001b[0;34m)\u001b[0m\u001b[0;34m\u001b[0m\u001b[0;34m\u001b[0m\u001b[0m\n",
      "\u001b[0;32m<ipython-input-180-f23bcabe19f3>\u001b[0m in \u001b[0;36mfit\u001b[0;34m(self, X, y, X_vld, y_vld, seed)\u001b[0m\n\u001b[1;32m    126\u001b[0m \u001b[0;34m\u001b[0m\u001b[0m\n\u001b[1;32m    127\u001b[0m                 \u001b[0;31m# Compute squared error for current mini-batch\u001b[0m\u001b[0;34m\u001b[0m\u001b[0;34m\u001b[0m\u001b[0;34m\u001b[0m\u001b[0m\n\u001b[0;32m--> 128\u001b[0;31m                 \u001b[0mbatch_sse\u001b[0m \u001b[0;34m=\u001b[0m \u001b[0msse\u001b[0m\u001b[0;34m(\u001b[0m\u001b[0my\u001b[0m\u001b[0;34m[\u001b[0m\u001b[0mmb\u001b[0m\u001b[0;34m]\u001b[0m\u001b[0;34m,\u001b[0m \u001b[0my_hat\u001b[0m\u001b[0;34m)\u001b[0m\u001b[0;34m\u001b[0m\u001b[0;34m\u001b[0m\u001b[0m\n\u001b[0m\u001b[1;32m    129\u001b[0m                 \u001b[0mepoch_sse\u001b[0m \u001b[0;34m+=\u001b[0m \u001b[0mbatch_sse\u001b[0m\u001b[0;34m\u001b[0m\u001b[0;34m\u001b[0m\u001b[0m\n\u001b[1;32m    130\u001b[0m \u001b[0;34m\u001b[0m\u001b[0m\n",
      "\u001b[0;32m<ipython-input-172-8d5b879a4050>\u001b[0m in \u001b[0;36msse\u001b[0;34m(y, y_hat)\u001b[0m\n\u001b[1;32m     10\u001b[0m \u001b[0;34m\u001b[0m\u001b[0m\n\u001b[1;32m     11\u001b[0m     \u001b[0;31m# TODO 5.1\u001b[0m\u001b[0;34m\u001b[0m\u001b[0;34m\u001b[0m\u001b[0;34m\u001b[0m\u001b[0m\n\u001b[0;32m---> 12\u001b[0;31m     \u001b[0msse_\u001b[0m \u001b[0;34m=\u001b[0m \u001b[0mnp\u001b[0m\u001b[0;34m.\u001b[0m\u001b[0msum\u001b[0m\u001b[0;34m(\u001b[0m\u001b[0;34m(\u001b[0m\u001b[0my_hat\u001b[0m\u001b[0;34m-\u001b[0m\u001b[0my\u001b[0m\u001b[0;34m)\u001b[0m\u001b[0;34m**\u001b[0m\u001b[0;36m2\u001b[0m\u001b[0;34m)\u001b[0m\u001b[0;34m\u001b[0m\u001b[0;34m\u001b[0m\u001b[0m\n\u001b[0m\u001b[1;32m     13\u001b[0m     \u001b[0;32mreturn\u001b[0m \u001b[0msse_\u001b[0m\u001b[0;34m\u001b[0m\u001b[0;34m\u001b[0m\u001b[0m\n",
      "\u001b[0;31mValueError\u001b[0m: operands could not be broadcast together with shapes (327,1) (64,1) "
     ]
    }
   ],
   "source": [
    "def TEST_neural_network():\n",
    "    \n",
    "    def nonlinear_data(m=100):\n",
    "        rng = np.random.RandomState(42)\n",
    "        X = np.sort(6 * rng.rand(m, 1) - 3, axis=0)\n",
    "\n",
    "        y = (2 + .5* X**2 + X) + rng.rand(m, 1)\n",
    "\n",
    "        return X, y.reshape(-1, 1)\n",
    "    \n",
    "    nn = NeuralNetwork(\n",
    "        alpha=.1,\n",
    "        hidden_neurons=20,\n",
    "        g_hidden=Sigmoid,\n",
    "        g_output=Linear,\n",
    "        batch_size=64, \n",
    "        epochs=500\n",
    "    )\n",
    "    \n",
    "    X, y = nonlinear_data()\n",
    "    nn.fit(X, y)\n",
    "    \n",
    "    y_hat = nn.predict(X)\n",
    "    mse_ = mse(y=y, y_hat=y_hat)\n",
    "\n",
    "    plt.plot(y, '.')\n",
    "    plt.plot(y_hat, '.')\n",
    "    plt.title(f\"Final MSE {mse_}\")\n",
    "    \n",
    "    todo_check([\n",
    "        (np.isclose(mse_, .165, rtol=.1), \"mse_ value is incorrect\")\n",
    "    ])\n",
    "    \n",
    "TEST_neural_network()\n",
    "garbage_collect(['TEST_neural_network'])"
   ]
  },
  {
   "cell_type": "markdown",
   "id": "675acea1",
   "metadata": {
    "id": "675acea1"
   },
   "source": [
    "# Non-linear Regression\n",
    "\n",
    "Now it's time to apply our neural network implementation to the Forest Fire dataset."
   ]
  },
  {
   "cell_type": "markdown",
   "id": "2ebb5bd3",
   "metadata": {
    "id": "2ebb5bd3"
   },
   "source": [
    "## Training\n"
   ]
  },
  {
   "cell_type": "markdown",
   "id": "18fbe597",
   "metadata": {
    "id": "18fbe597"
   },
   "source": [
    "#### TODO 19\n",
    "Let's try training our `NeuralNetwork` class. The goal for the this TODO will be to get your validation MSE below 2. To do so, you'll have to manually tune the hyper-parameters such as the number of hidden units `hidden_neurons`, which activation function you'll use for `g_hidden` (`Sigmoid` or `Tanh`), the learning rate `alpha`, the size of the mini-batches `batch_size`, and the number of epochs `epochs`.\n",
    "\n",
    "1. Call the `data_prep()` so that it will return the Forest Fire regression data formatted as NumPy arrays. Do so by passing the arguments which correspond to the following:\n",
    "    1. Pass any required arguments (i.e., arguments with no default values).\n",
    "    1. Return all data as NumPy arrays.\n",
    "\n",
    "\n",
    "2. Create an instance of the `NeuralNetwork` class. Store the output into `nn`. In order to pass the TODO check you will need to tune the hyper-parameters (i.e., arguments passed to the  `NeuralNetwork` class) such that you get a validation MSE score below 2. Thus, you need to determine which arguments to pass to the `NeuralNetwork` class. The only argument that should remain static is the `g_output` argument. Recall, this will always need to be set to the `Linear` class for regression problems.\n",
    "    1. Hint: Use the learning curve plot that is plotted at the end of the training to help select how many epochs you need. Refer to this [post](https://machinelearningmastery.com/learning-curves-for-diagnosing-machine-learning-model-performance/) or last weeks lab on how to interpret the training and validation learning curves."
   ]
  },
  {
   "cell_type": "code",
   "execution_count": 174,
   "id": "3b492bae",
   "metadata": {
    "id": "3b492bae",
    "outputId": "b4cc8636-656f-4ed0-d811-b29b207b8a19",
    "scrolled": true
   },
   "outputs": [
    {
     "name": "stdout",
     "output_type": "stream",
     "text": [
      "Epoch: 1\n",
      "\n",
      "y shape: (327, 1)\n",
      "y_hat shape: (327, 1)\n",
      "delta_mse_A2 shape: (327, 1)\n",
      "delta_A2_Z2 shape: (1, 327)\n",
      "delta_Z2_W2 shape: (2, 327)\n",
      "delta_Z2_b2 shape: (1, 327)\n",
      "\n",
      "\n",
      "y shape: (327, 1)\n",
      "y_hat shape: (327, 1)\n",
      "delta_mse_A2 shape: (327, 1)\n",
      "delta_A2_Z2 shape: (1, 327)\n",
      "delta_Z2_A1 shape: (1, 2)\n",
      "delta_A1_Z1 shape: (2, 327)\n",
      "delta_Z1_W1 shape: (29, 327)\n",
      "delta_Z1_b1 shape: (1, 327)\n",
      "delta_mse_A1 shape: (2, 327)\n",
      "\n"
     ]
    },
    {
     "ename": "ValueError",
     "evalue": "operands could not be broadcast together with shapes (327,1) (64,1) ",
     "output_type": "error",
     "traceback": [
      "\u001b[0;31m---------------------------------------------------------------------------\u001b[0m",
      "\u001b[0;31mValueError\u001b[0m                                Traceback (most recent call last)",
      "\u001b[0;32m<ipython-input-174-4ba5f23bbb0a>\u001b[0m in \u001b[0;36m<module>\u001b[0;34m\u001b[0m\n\u001b[1;32m      6\u001b[0m \u001b[0mnn\u001b[0m \u001b[0;34m=\u001b[0m \u001b[0mNeuralNetwork\u001b[0m\u001b[0;34m(\u001b[0m\u001b[0;36m.1\u001b[0m\u001b[0;34m,\u001b[0m \u001b[0;36m20\u001b[0m\u001b[0;34m,\u001b[0m \u001b[0mSigmoid\u001b[0m\u001b[0;34m,\u001b[0m \u001b[0mLinear\u001b[0m\u001b[0;34m,\u001b[0m \u001b[0;36m64\u001b[0m\u001b[0;34m,\u001b[0m \u001b[0;36m500\u001b[0m\u001b[0;34m)\u001b[0m\u001b[0;34m\u001b[0m\u001b[0;34m\u001b[0m\u001b[0m\n\u001b[1;32m      7\u001b[0m \u001b[0;34m\u001b[0m\u001b[0m\n\u001b[0;32m----> 8\u001b[0;31m \u001b[0mnn\u001b[0m\u001b[0;34m.\u001b[0m\u001b[0mfit\u001b[0m\u001b[0;34m(\u001b[0m\u001b[0mX_trn\u001b[0m\u001b[0;34m,\u001b[0m \u001b[0my_trn\u001b[0m\u001b[0;34m,\u001b[0m \u001b[0mX_vld\u001b[0m\u001b[0;34m=\u001b[0m\u001b[0mX_vld\u001b[0m\u001b[0;34m,\u001b[0m \u001b[0my_vld\u001b[0m\u001b[0;34m=\u001b[0m\u001b[0my_vld\u001b[0m\u001b[0;34m)\u001b[0m\u001b[0;34m\u001b[0m\u001b[0;34m\u001b[0m\u001b[0m\n\u001b[0m\u001b[1;32m      9\u001b[0m \u001b[0mvld_mse\u001b[0m \u001b[0;34m=\u001b[0m \u001b[0mmse\u001b[0m\u001b[0;34m(\u001b[0m\u001b[0my_vld\u001b[0m\u001b[0;34m,\u001b[0m \u001b[0mnn\u001b[0m\u001b[0;34m.\u001b[0m\u001b[0mpredict\u001b[0m\u001b[0;34m(\u001b[0m\u001b[0mX_vld\u001b[0m\u001b[0;34m)\u001b[0m\u001b[0;34m)\u001b[0m\u001b[0;34m\u001b[0m\u001b[0;34m\u001b[0m\u001b[0m\n\u001b[1;32m     10\u001b[0m \u001b[0;34m\u001b[0m\u001b[0m\n",
      "\u001b[0;32m<ipython-input-162-64de367b6143>\u001b[0m in \u001b[0;36mfit\u001b[0;34m(self, X, y, X_vld, y_vld, seed)\u001b[0m\n\u001b[1;32m    126\u001b[0m \u001b[0;34m\u001b[0m\u001b[0m\n\u001b[1;32m    127\u001b[0m                 \u001b[0;31m# Compute squared error for current mini-batch\u001b[0m\u001b[0;34m\u001b[0m\u001b[0;34m\u001b[0m\u001b[0;34m\u001b[0m\u001b[0m\n\u001b[0;32m--> 128\u001b[0;31m                 \u001b[0mbatch_sse\u001b[0m \u001b[0;34m=\u001b[0m \u001b[0msse\u001b[0m\u001b[0;34m(\u001b[0m\u001b[0my\u001b[0m\u001b[0;34m[\u001b[0m\u001b[0mmb\u001b[0m\u001b[0;34m]\u001b[0m\u001b[0;34m,\u001b[0m \u001b[0my_hat\u001b[0m\u001b[0;34m)\u001b[0m\u001b[0;34m\u001b[0m\u001b[0;34m\u001b[0m\u001b[0m\n\u001b[0m\u001b[1;32m    129\u001b[0m                 \u001b[0mepoch_sse\u001b[0m \u001b[0;34m+=\u001b[0m \u001b[0mbatch_sse\u001b[0m\u001b[0;34m\u001b[0m\u001b[0;34m\u001b[0m\u001b[0m\n\u001b[1;32m    130\u001b[0m \u001b[0;34m\u001b[0m\u001b[0m\n",
      "\u001b[0;32m<ipython-input-172-8d5b879a4050>\u001b[0m in \u001b[0;36msse\u001b[0;34m(y, y_hat)\u001b[0m\n\u001b[1;32m     10\u001b[0m \u001b[0;34m\u001b[0m\u001b[0m\n\u001b[1;32m     11\u001b[0m     \u001b[0;31m# TODO 5.1\u001b[0m\u001b[0;34m\u001b[0m\u001b[0;34m\u001b[0m\u001b[0;34m\u001b[0m\u001b[0m\n\u001b[0;32m---> 12\u001b[0;31m     \u001b[0msse_\u001b[0m \u001b[0;34m=\u001b[0m \u001b[0mnp\u001b[0m\u001b[0;34m.\u001b[0m\u001b[0msum\u001b[0m\u001b[0;34m(\u001b[0m\u001b[0;34m(\u001b[0m\u001b[0my_hat\u001b[0m\u001b[0;34m-\u001b[0m\u001b[0my\u001b[0m\u001b[0;34m)\u001b[0m\u001b[0;34m**\u001b[0m\u001b[0;36m2\u001b[0m\u001b[0;34m)\u001b[0m\u001b[0;34m\u001b[0m\u001b[0;34m\u001b[0m\u001b[0m\n\u001b[0m\u001b[1;32m     13\u001b[0m     \u001b[0;32mreturn\u001b[0m \u001b[0msse_\u001b[0m\u001b[0;34m\u001b[0m\u001b[0;34m\u001b[0m\u001b[0m\n",
      "\u001b[0;31mValueError\u001b[0m: operands could not be broadcast together with shapes (327,1) (64,1) "
     ]
    }
   ],
   "source": [
    "# TODO 19.1\n",
    "data = data_prep(df=forestfire_df, label_name='area', return_array=True)\n",
    "X_trn, y_trn, X_vld, y_vld, X_tst, y_tst = data\n",
    "\n",
    "# TODO 19.2\n",
    "nn = NeuralNetwork(.1, 20, Sigmoid, Linear, 64, 500)\n",
    "    \n",
    "nn.fit(X_trn, y_trn, X_vld=X_vld, y_vld=y_vld)\n",
    "vld_mse = mse(y_vld, nn.predict(X_vld))\n",
    "\n",
    "print(\"-\"*50)\n",
    "plt.plot(nn.epoch_losses, label='Train loss')\n",
    "plt.plot(nn.vld_epoch_losses, label='Valid loss')\n",
    "plt.title(\"Learning Curve\")\n",
    "plt.ylabel(\"Average MSE\")\n",
    "plt.xlabel(\"Epoch\")\n",
    "plt.legend()\n",
    "plt.show()\n",
    "\n",
    "\n",
    "print(\"-\"*50)\n",
    "print(f\"Valid MSE score: {vld_mse}\")\n",
    "todo_check([\n",
    "    (vld_mse < 1.97, \"vld_mse was not less than 1.97\")\n",
    "])"
   ]
  },
  {
   "cell_type": "code",
   "execution_count": 175,
   "id": "faa33aa6",
   "metadata": {
    "id": "faa33aa6",
    "outputId": "972a8ac8-ef95-4d37-8aa3-ce18a8e7ae37"
   },
   "outputs": [
    {
     "ename": "TypeError",
     "evalue": "forward() missing 2 required positional arguments: 'g_hidden' and 'g_output'",
     "output_type": "error",
     "traceback": [
      "\u001b[0;31m---------------------------------------------------------------------------\u001b[0m",
      "\u001b[0;31mTypeError\u001b[0m                                 Traceback (most recent call last)",
      "\u001b[0;32m<ipython-input-175-8e6e312e3f4c>\u001b[0m in \u001b[0;36m<module>\u001b[0;34m\u001b[0m\n\u001b[0;32m----> 1\u001b[0;31m \u001b[0my_hat_trn\u001b[0m \u001b[0;34m=\u001b[0m \u001b[0mnn\u001b[0m\u001b[0;34m.\u001b[0m\u001b[0mpredict\u001b[0m\u001b[0;34m(\u001b[0m\u001b[0mX_trn\u001b[0m\u001b[0;34m)\u001b[0m\u001b[0;34m\u001b[0m\u001b[0;34m\u001b[0m\u001b[0m\n\u001b[0m\u001b[1;32m      2\u001b[0m \u001b[0;34m\u001b[0m\u001b[0m\n\u001b[1;32m      3\u001b[0m trn_sse, trn_mse, trn_rmse = analyze(y_trn, y_hat_trn,\n\u001b[1;32m      4\u001b[0m                                         \u001b[0mtitle\u001b[0m\u001b[0;34m=\u001b[0m\u001b[0;34m\"Training Predictions Log Transform\"\u001b[0m\u001b[0;34m,\u001b[0m\u001b[0;34m\u001b[0m\u001b[0;34m\u001b[0m\u001b[0m\n\u001b[1;32m      5\u001b[0m                                         \u001b[0mdataset\u001b[0m\u001b[0;34m=\u001b[0m\u001b[0;34m\"Training\"\u001b[0m\u001b[0;34m,\u001b[0m\u001b[0;34m\u001b[0m\u001b[0;34m\u001b[0m\u001b[0m\n",
      "\u001b[0;32m<ipython-input-162-64de367b6143>\u001b[0m in \u001b[0;36mpredict\u001b[0;34m(self, X)\u001b[0m\n\u001b[1;32m    153\u001b[0m     \u001b[0;32mdef\u001b[0m \u001b[0mpredict\u001b[0m\u001b[0;34m(\u001b[0m\u001b[0mself\u001b[0m\u001b[0;34m,\u001b[0m \u001b[0mX\u001b[0m\u001b[0;34m:\u001b[0m \u001b[0mnp\u001b[0m\u001b[0;34m.\u001b[0m\u001b[0mndarray\u001b[0m\u001b[0;34m)\u001b[0m\u001b[0;34m:\u001b[0m\u001b[0;34m\u001b[0m\u001b[0;34m\u001b[0m\u001b[0m\n\u001b[1;32m    154\u001b[0m         \u001b[0;31m# TODO 18.9\u001b[0m\u001b[0;34m\u001b[0m\u001b[0;34m\u001b[0m\u001b[0;34m\u001b[0m\u001b[0m\n\u001b[0;32m--> 155\u001b[0;31m         \u001b[0my_hat\u001b[0m\u001b[0;34m,\u001b[0m \u001b[0m_\u001b[0m\u001b[0;34m,\u001b[0m \u001b[0m_\u001b[0m  \u001b[0;34m=\u001b[0m \u001b[0mforward\u001b[0m\u001b[0;34m(\u001b[0m\u001b[0mX\u001b[0m\u001b[0;34m,\u001b[0m \u001b[0mW\u001b[0m\u001b[0;34m,\u001b[0m \u001b[0mb\u001b[0m\u001b[0;34m)\u001b[0m\u001b[0;34m\u001b[0m\u001b[0;34m\u001b[0m\u001b[0m\n\u001b[0m\u001b[1;32m    156\u001b[0m \u001b[0;34m\u001b[0m\u001b[0m\n\u001b[1;32m    157\u001b[0m         \u001b[0;32mreturn\u001b[0m \u001b[0my_hat\u001b[0m\u001b[0;34m\u001b[0m\u001b[0;34m\u001b[0m\u001b[0m\n",
      "\u001b[0;31mTypeError\u001b[0m: forward() missing 2 required positional arguments: 'g_hidden' and 'g_output'"
     ]
    }
   ],
   "source": [
    "y_hat_trn = nn.predict(X_trn)\n",
    "\n",
    "trn_sse, trn_mse, trn_rmse = analyze(y_trn, y_hat_trn,\n",
    "                                        title=\"Training Predictions Log Transform\",\n",
    "                                        dataset=\"Training\",\n",
    "                                        xlabel=\"Data Sample Index\",\n",
    "                                        ylabel=\"Predicted Log Area\");\n"
   ]
  },
  {
   "cell_type": "markdown",
   "id": "d706f009",
   "metadata": {
    "id": "d706f009"
   },
   "source": [
    "### Validation evaluation \n",
    "\n",
    "Use the below code to visualize the results for your validation data."
   ]
  },
  {
   "cell_type": "code",
   "execution_count": 179,
   "id": "bafec6cc",
   "metadata": {
    "id": "bafec6cc",
    "outputId": "d44c63ef-fb18-4d5d-af8b-b0951c923698",
    "scrolled": true
   },
   "outputs": [
    {
     "ename": "TypeError",
     "evalue": "forward() missing 2 required positional arguments: 'g_hidden' and 'g_output'",
     "output_type": "error",
     "traceback": [
      "\u001b[0;31m---------------------------------------------------------------------------\u001b[0m",
      "\u001b[0;31mTypeError\u001b[0m                                 Traceback (most recent call last)",
      "\u001b[0;32m<ipython-input-179-47f6ebea928d>\u001b[0m in \u001b[0;36m<module>\u001b[0;34m\u001b[0m\n\u001b[0;32m----> 1\u001b[0;31m \u001b[0my_hat_vld\u001b[0m \u001b[0;34m=\u001b[0m \u001b[0mnn\u001b[0m\u001b[0;34m.\u001b[0m\u001b[0mpredict\u001b[0m\u001b[0;34m(\u001b[0m\u001b[0mX_vld\u001b[0m\u001b[0;34m)\u001b[0m\u001b[0;34m\u001b[0m\u001b[0;34m\u001b[0m\u001b[0m\n\u001b[0m\u001b[1;32m      2\u001b[0m \u001b[0;34m\u001b[0m\u001b[0m\n\u001b[1;32m      3\u001b[0m analyze(y_vld, y_hat_vld,\n\u001b[1;32m      4\u001b[0m         \u001b[0mtitle\u001b[0m\u001b[0;34m=\u001b[0m\u001b[0;34m\"Validation Predictions Log Transform\"\u001b[0m\u001b[0;34m,\u001b[0m\u001b[0;34m\u001b[0m\u001b[0;34m\u001b[0m\u001b[0m\n\u001b[1;32m      5\u001b[0m         \u001b[0mdataset\u001b[0m\u001b[0;34m=\u001b[0m\u001b[0;34m\"Validation\"\u001b[0m\u001b[0;34m,\u001b[0m\u001b[0;34m\u001b[0m\u001b[0;34m\u001b[0m\u001b[0m\n",
      "\u001b[0;32m<ipython-input-162-64de367b6143>\u001b[0m in \u001b[0;36mpredict\u001b[0;34m(self, X)\u001b[0m\n\u001b[1;32m    153\u001b[0m     \u001b[0;32mdef\u001b[0m \u001b[0mpredict\u001b[0m\u001b[0;34m(\u001b[0m\u001b[0mself\u001b[0m\u001b[0;34m,\u001b[0m \u001b[0mX\u001b[0m\u001b[0;34m:\u001b[0m \u001b[0mnp\u001b[0m\u001b[0;34m.\u001b[0m\u001b[0mndarray\u001b[0m\u001b[0;34m)\u001b[0m\u001b[0;34m:\u001b[0m\u001b[0;34m\u001b[0m\u001b[0;34m\u001b[0m\u001b[0m\n\u001b[1;32m    154\u001b[0m         \u001b[0;31m# TODO 18.9\u001b[0m\u001b[0;34m\u001b[0m\u001b[0;34m\u001b[0m\u001b[0;34m\u001b[0m\u001b[0m\n\u001b[0;32m--> 155\u001b[0;31m         \u001b[0my_hat\u001b[0m\u001b[0;34m,\u001b[0m \u001b[0m_\u001b[0m\u001b[0;34m,\u001b[0m \u001b[0m_\u001b[0m  \u001b[0;34m=\u001b[0m \u001b[0mforward\u001b[0m\u001b[0;34m(\u001b[0m\u001b[0mX\u001b[0m\u001b[0;34m,\u001b[0m \u001b[0mW\u001b[0m\u001b[0;34m,\u001b[0m \u001b[0mb\u001b[0m\u001b[0;34m)\u001b[0m\u001b[0;34m\u001b[0m\u001b[0;34m\u001b[0m\u001b[0m\n\u001b[0m\u001b[1;32m    156\u001b[0m \u001b[0;34m\u001b[0m\u001b[0m\n\u001b[1;32m    157\u001b[0m         \u001b[0;32mreturn\u001b[0m \u001b[0my_hat\u001b[0m\u001b[0;34m\u001b[0m\u001b[0;34m\u001b[0m\u001b[0m\n",
      "\u001b[0;31mTypeError\u001b[0m: forward() missing 2 required positional arguments: 'g_hidden' and 'g_output'"
     ]
    }
   ],
   "source": [
    "y_hat_vld = nn.predict(X_vld)\n",
    "\n",
    "analyze(y_vld, y_hat_vld,\n",
    "        title=\"Validation Predictions Log Transform\",\n",
    "        dataset=\"Validation\",\n",
    "        xlabel=\"Data Sample Index\",\n",
    "        ylabel=\"Log Area\");\n"
   ]
  },
  {
   "cell_type": "markdown",
   "id": "ef935c9f",
   "metadata": {
    "id": "ef935c9f"
   },
   "source": [
    "### Testing evaluation\n",
    "\n",
    "Use the below code to visualize the results for your testing data. Depending on your hyper-parameter fine tuning, you should notice that, for the most part, performance is on par or slightly worse than the linear regression and polynomial regression algorithms which achieved around ~1.4 RMSE. \n",
    "\n",
    "Once again, this is most likely because we need more data and possibly better features to solve this problem. Keep in mind, neural networks aren't a golden bullet. Meaning, they aren't the best algorithm for every problem (hence recall back to the [no free lunch theorem](https://machinelearningmastery.com/no-free-lunch-theorem-for-machine-learning/)). As we'll see in the near future, deep learning can be quite powerful but even it too has its limitations."
   ]
  },
  {
   "cell_type": "code",
   "execution_count": null,
   "id": "297d7736",
   "metadata": {
    "id": "297d7736",
    "outputId": "ce886b2c-1925-425b-bc09-eeacc1dd2032"
   },
   "outputs": [
    {
     "data": {
      "image/png": "[encoded data removed]",
      "text/plain": [
       "<Figure size 1080x504 with 2 Axes>"
      ]
     },
     "metadata": {
      "needs_background": "light"
     },
     "output_type": "display_data"
    },
    {
     "name": "stdout",
     "output_type": "stream",
     "text": [
      "Test MSE: 2.0500357758912258\n",
      "Test RMSE: 1.4317945997562729\n",
      "Test SSE: 211.15368491679627\n",
      "\n",
      "Test unlogged MSE: 6.768179014862987 ha\n",
      "Test unlogged RMSE: 3.186205017436497 ha\n"
     ]
    }
   ],
   "source": [
    "y_hat_tst = nn.predict(X_tst)\n",
    "\n",
    "analyze(y_tst, y_hat_tst,\n",
    "        title=\"Test Predictions Log Transform\",\n",
    "        dataset=\"Test\",\n",
    "        xlabel=\"Data Sample Index\",\n",
    "        ylabel=\"Log Area\");\n"
   ]
  }
 ],
 "metadata": {
  "colab": {
   "provenance": []
  },
  "kernelspec": {
   "display_name": "Python 3",
   "language": "python",
   "name": "python3"
  },
  "language_info": {
   "codemirror_mode": {
    "name": "ipython",
    "version": 3
   },
   "file_extension": ".py",
   "mimetype": "text/x-python",
   "name": "python",
   "nbconvert_exporter": "python",
   "pygments_lexer": "ipython3",
   "version": "3.8.8"
  },
  "toc": {
   "base_numbering": 1,
   "nav_menu": {},
   "number_sections": true,
   "sideBar": true,
   "skip_h1_title": false,
   "title_cell": "Table of Contents",
   "title_sidebar": "Contents",
   "toc_cell": false,
   "toc_position": {
    "height": "1626px",
    "left": "566px",
    "top": "111.133px",
    "width": "189.733px"
   },
   "toc_section_display": true,
   "toc_window_display": true
  }
 },
 "nbformat": 4,
 "nbformat_minor": 5
}
