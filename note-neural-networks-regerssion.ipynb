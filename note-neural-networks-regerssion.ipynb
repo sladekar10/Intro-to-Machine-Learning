{
 "cells": [
  {
   "cell_type": "code",
   "execution_count": 88,
   "id": "5d3c124e",
   "metadata": {},
   "outputs": [],
   "source": [
    "from typing import List, Tuple\n",
    "\n",
    "import numpy as np\n",
    "import pandas as pd\n",
    "import seaborn as sns\n",
    "import matplotlib.pyplot as plt\n",
    "%matplotlib inline\n",
    "\n",
    "# Supress numpy scientific notation\n",
    "np.set_printoptions(suppress=True)"
   ]
  },
  {
   "cell_type": "markdown",
   "id": "14fa108f",
   "metadata": {},
   "source": [
    "$\\newcommand{\\xv}{\\mathbf{x}}\n",
    " \\newcommand{\\wv}{\\mathbf{w}}\n",
    " \\newcommand{\\yv}{\\mathbf{y}}\n",
    " \\newcommand{\\zv}{\\mathbf{z}}\n",
    " \\newcommand{\\uv}{\\mathbf{u}}\n",
    " \\newcommand{\\vv}{\\mathbf{v}}\n",
    " \\newcommand{\\tv}{\\mathbf{t}}\n",
    " \\newcommand{\\bv}{\\mathbf{b}}\n",
    " \\newcommand{\\av}{\\mathbf{a}}\n",
    " \\newcommand{\\Chi}{\\mathcal{X}}\n",
    " \\newcommand{\\R}{\\rm I\\!R}\n",
    " \\newcommand{\\sign}{\\text{sign}}\n",
    " \\newcommand{\\Ym}{\\mathbf{Y}}\n",
    " \\newcommand{\\Xm}{\\mathbf{X}}\n",
    " \\newcommand{\\Wm}{\\mathbf{W}}\n",
    " \\newcommand{\\Zm}{\\mathbf{Z}}\n",
    " \\newcommand{\\Im}{\\mathbf{I}}\n",
    " \\newcommand{\\Um}{\\mathbf{U}}\n",
    " \\newcommand{\\Vm}{\\mathbf{V}}\n",
    " \\newcommand{\\Am}{\\mathbf{A}}\n",
    " \\newcommand{\\muv}{\\boldsymbol\\mu}\n",
    " \\newcommand{\\Sigmav}{\\boldsymbol\\Sigma}\n",
    " \\newcommand{\\Lambdav}{\\boldsymbol\\Lambda}\n",
    "$\n",
    "\n",
    "# Neural Networks Regression and Introduction"
   ]
  },
  {
   "cell_type": "markdown",
   "id": "3cdeae4a",
   "metadata": {},
   "source": [
    "## Table of notation\n",
    "\n",
    "| Symbol                     | Meaning                     | Symbol    | Meaning                                                          |\n",
    "|----------------------------|-----------------------------|-----------|------------------------------------------------------------------|\n",
    "| $\\xv$ or $\\vec{x}$         | feature/input vector        | $x_i$     | $i$th element of $\\xv$                                           |\n",
    "| $\\Xm$                      | input matrix                | $x_{i,j}$ | $i$th row and $j$th column of $\\Xm$                              |\n",
    "| $\\yv$ or $\\tv$             | labels/targets              | $n$       | number of features or columns \n",
    "| $\\wv$ or $\\mathbf{\\theta}$ | weight/parameter vector     | $m$       | number of data samples <br>(also used to refer to the slope) |samples or rows                                   |\n",
    "| $f$ or $h$                 | hypothesis function <br> (i.e., a model)        | $\\hat{\\yv}$ <br> $f(\\xv {;} \\wv)$<br>$h(\\xv {;} \\wv)$ | predictions <br> y-hat |\n",
    "| $E$              | error or sum of error (loss)  | $SSE$      | sum of squared error function                                            |\n",
    "| $MSE$                      | mean squared error| $\\nabla$  | gradient (nabla)                                       |\n",
    "| $\\partial$                 | partial derivative          | $\\alpha$  | learning rate (alpha)                                  |       \n",
    "| $J$ | general placeholder for <br>the objective function | $x^T$| transpose of a vector or matrix |\n",
    "$b$ | bias or y-intercept term | $T$ | Threshold |\n",
    "$*$| element-wise<br> multiplication | $\\cdot$ | dot product|\n",
    "| $z$<br>$\\zv$| value before applying activation function |  $X, Y$ | Random variables |\n",
    "| $K$| number/set of classes | $k$ | current class|\n",
    "| $MLE$|  maximum likelihood estimation | $ML$ |  maximum likelihood|\n",
    "| $MLL$|  maximum log likelihood | $LL$ | log likelihood |\n",
    "| $L$|  likelihood | $NLL$ | negative log likelihood |\n",
    "| $g$ | activation function | $a$/$h$ <br> $\\av/\\mathbf{h}$<br>$\\Am$/$\\mathbf{H}$ | output of activation function <br> or neuron\n",
    "$w$<br>$\\wv$<br>$\\Wm$ | weights| $z$<br>$\\zv$<br>$\\Zm$ | linear combination output|\n",
    "|$\\Wm^{[l]}$| $l$th layer weights| $\\Am^{[l]}$| $l$th layer activations\n",
    "|$\\Zm^{[l]}$| $l$th layer linear combinations| $\\bv^{[l]}$| $l$th layer bias"
   ]
  },
  {
   "cell_type": "markdown",
   "id": "24e786e1",
   "metadata": {},
   "source": [
    "## Perceptron Review\n",
    "\n",
    "\n",
    "Recall that the perceptron framework attempted to simulate, in the most naive manner, a single biological neuron. The perceptron did so by simply taking inputs, performing a weights sum, applying an function activation to the weighted summation and then producing an output. \n",
    "\n",
    "More specifically, the perceptron worked by dotting inputs $\\Xm$ with the weights $\\wv$ to get an output $\\zv$. An activation function $g$ is then applied to the continuous outputs $g(\\zv)$ which squashes the values into a new value range (discrete or another continuous value range). Recall, with logistic regression we could use the predictions made by the same perceptron structure to compute the error and then update the weights, given we had a loss/cost function that could be differentiated. \n",
    "<img src=\"https://sebastianraschka.com/images/faq/logisticregr-neuralnet/schematic.png\" width=500 height=500>\n",
    "\n",
    "\n",
    "Now, a simple extension might be to add multiple neurons. The idea being, adding more neurons could lead to a more complex model, in turn allowing for the modeling of more complex data. This is the exact idea of neural networks! Take for instance the below picture which represents the basic framework of the perceptron. Notice, that there is only a single neuron represented by the empty circle.\n",
    "\n",
    "\n",
    "<img src=\"https://live.staticflickr.com/65535/51632957722_a8e02fd162.jpg\" width=\"300\" height=\"150\" alt=\"basic-perceptron\">\n",
    "\n",
    "By adding multiple neurons we can get the below image. This is an example of a neural network or in other words a network of multiple neurons.\n",
    "<img src=\"https://live.staticflickr.com/65535/51634637165_1ebcf48062.jpg\" width=\"300\" height=\"150\" alt=\"basic-nn\">"
   ]
  },
  {
   "cell_type": "markdown",
   "id": "fd498bf9",
   "metadata": {},
   "source": [
    "## Neural Network Framework\n",
    "\n",
    "<img src=\"https://images.squarespace-cdn.com/content/v1/5ccb715016b640627a1c2782/1586907440135-6INS2V3VS31ICY3TNUIW/ai-artificial-neural-network-alex-castrounis.png?format=500w\" >\n",
    "\n",
    "The general neural network framework can be seen in the above image. The above neural network is an example of a two layer neural network. We'll be working with two layer neural networks throughout these notes. Let's start by first reviewing the general structure of a neuron and then talcking what each layer is doing. From there we can then understand how neural networks make predictions and, even better, how they can learn!"
   ]
  },
  {
   "cell_type": "markdown",
   "id": "af292a2f",
   "metadata": {},
   "source": [
    "### Neurons\n",
    "\n",
    "Let's start by understand the most basic unit in neural networks: the neuron. Recall, we actually already have all the basic ideas for how a neuron works as neurons in neural networks work almost exactly the same as the single neuron in Rosenblatt's perceptron. Below is an image of a neuron. There are 4 main components of a neuron: inputs, weighted summation of inputs (i.e., linear combination of inputs), applying an activation function to said weighted summation, and outputting the activation.\n",
    "\n",
    "<img src=\"https://live.staticflickr.com/65535/51633984258_9b95f324ce.jpg\" width=\"300\" height=\"150\" alt=\"artifcal-neuron\">\n",
    "\n",
    "Let's start by reviewing the 4 basic steps mentioned:\n",
    "\n",
    "1. First, each neuron takes input from every neuron in the previous layer represented by $x$ or $a$. The 1st hidden layer always takes in the data $x$ as input.\n",
    "2. Next, each input is assigned a weight just like we have seen in previous algorithms. For clarity sack, we will keep the bias separate from the weights even though they can be combined as we have done in the past. Using the weights, a linear combination can be taken between the weights and inputs where the bias is also added such that we get the following: $z = \\wv^\\top \\xv + b$. Recall $z$ represents the continuous output of a neuron (i.e., the output after the linear combination of inputs). This linear combination of inputs is nothing new, we have seen this time and time again with linear regression and classification algorithms alike.\n",
    "3. Next, an activation function $g(\\cdot)$is applied to $z$ producing the  neuron output $a$ where $a = g(z)$. The activation function is often picked to be a non-linear function. We do this in order to convert our equation from a linear equation to a non-linear equation (more on this later). \n",
    "4. Finally, after applying the activation function, the output $a$ is passed to the next layer and acts as the inputs for the next layer. \n",
    "\n",
    "\n",
    "Here are the key take aways and notation details:\n",
    "- $x$ stands for an input data sample and $a$ stands for the output of a neuron after applying an activation. As we'll see, while $a$ is the activation output of a neuron, it will also act as input for the next layer. Thus, $x$ acts as input for the first hidden layer and $a$ acts as input for the proceeding hidden layer or output layer.\n",
    "- Each neuron has weights $\\wv$ where there is a weight for EACH input $x$ or $a$. If the bias $b$ is included in the weights then there is a weight for bias. However, since we are treating the bias as a separate entity, we can treat it as a parameter on its own that needs to be optimized. \n",
    "- $z$ acts as the continuous output after a linear combination of inputs $x$ or $a$ is taken with the neurons wights $\\wv$.\n",
    "- $a$ is the output of a neuron after applying an activation function $g(z)$ to $z$."
   ]
  },
  {
   "cell_type": "markdown",
   "id": "9526a892",
   "metadata": {},
   "source": [
    "### Layers\n",
    "Next, let's breakdown what the layers represent and how they interact with each other. The most important and general idea to note about layers is that EVERY neuron in a layer is fully connected to the neurons in the next layer. This means, there is connection between every neuron in the previous layer and every neuron in the current layer! This is why neural networks layers are sometimes called fully connected layers.\n",
    "\n",
    "Before we do continue, let's review how we can tell how many layers a neural networks actually has. Recall, we will be working with two layer neural networks throughout this note. The below is an image of a two layer neural network which includes an input layer, hidden layer, and output layer. Now, you might be scratching your head and thinking, wait a second, you named three layers not two! \n",
    "\n",
    "While logically you would be correct, in this case you are actually wrong. The number of layers in a neural network is determined by the number of hidden layers plus the output layer such that the input layer is not counted. In other words, as we'll see later one, the number of layers corresponds to the number of weight matrices needed by a given neural network.\n",
    "\n",
    "<img src=\"https://images.squarespace-cdn.com/content/v1/5ccb715016b640627a1c2782/1586907440135-6INS2V3VS31ICY3TNUIW/ai-artificial-neural-network-alex-castrounis.png?format=500w\" width=300 height=300>"
   ]
  },
  {
   "cell_type": "markdown",
   "id": "0e1fbd1c",
   "metadata": {},
   "source": [
    "\n",
    "#### Input layer\n",
    "The layer which takes in all the inputs of the data is referred to as the *input layer*. While this layer is not counted as an actual layer as it contains no neurons. It is often referred to as the input layer regardless. This layer is used to represent all the data features that will be input into the actual neural network. In other words, we can think of this layer as representing the input data as a matrix $\\Xm$ (multiple data samples) or a vector $\\xv$ (a single data sample) where each blue circle in the input layer image above can be thought of as a single feature in the data. Thus, the above data would have 3 features.\n",
    "\n",
    "#### Hidden Layer\n",
    "The first actual layer is called the *hidden layer*. The hidden layer acts as a intermediate layer between the input layer and output layers. A hidden layer is the 1st real layer in a neural network. The hidden layer contains neurons which are more specifically referred to as *hidden neurons*, also known as *hidden units*. This is partly done to differentiate the hidden neurons from the output neurons. \n",
    "\n",
    "**Hidden neurons/units:** \n",
    "There can be as many hidden neurons as you'd like in a given hidden layer. Thus, hidden neurons act as a hyper-parameter you can tune where the optimal number of hidden neurons is often unknown and changes based on the given problem at hand. Each white circle in the above image can be seen as representing a hidden unit. Thus, the above image would have 5 hidden neurons. \n",
    "\n",
    "**Multiple hidden layers:** A two layer neural network is the most simplistic neural network as it consists of only a single hidden layer. However, it is possible to stack hidden layers such that there are multiple hidden layers between the input and output layers. Once again, the number of hidden layers to use is often considered a hyper-parameter that needs to be tuned given the current problem at hand. When we stack enough of these layers (typically 3 or more) we'll see that we get what are classified as *deep neural networks* (more on this and deep learning in the future.)\n",
    "\n",
    "**Inputs-outputs:** Each neuron in the first hidden layer takes each of the data features $x$ as inputs. If there are multiple hidden layers, each proceeding hidden layer takes the output from previous hidden layer $a$ as input. Recall, each hidden unit or neuron outputs an activation $a$, thus all the outputs from all the hidden neurons can be represented as a matrix $\\Am$ for multiple data samples $\\Xm$ or a vector $\\av$ for a single data sample $\\xv$. \n",
    "\n",
    "#### Output Layer\n",
    "\n",
    "The second and last layer is called the *output layer*. The output layer contains neurons which produce the outputs of the neural network. In other words, the output layer is responsible for computing the predictions $\\hat{y}$. \n",
    "\n",
    "**Output neurons**: Output neurons function just like the neurons in the hidden layers. The main difference is that the outputs $a$ is the prediction for the model such that $a = \\hat{y}$. Each orange circle in the above image can be seen as representing an output neuron. The above image would have 1 output neuron and one prediction $\\hat{y}$. Thus, the output/prediction can be represented as a vector $\\hat{\\yv}$ for multiple data samples $\\Xm$ or a single value $\\hat{y}$ for a single data sample $\\xv$ . \n",
    "\n",
    "**Regression outputs:** In the case of regression, the output layers typically have a single neuron with a linear activation function. As we'll see, a linear activation just means the weighted sum of inputs is used as the output directly. In other words, you can think about this as there being no activation function applied. Further, regression problems typically have a single output neuron as regression problems tend to require the prediction of single continuous number. Although, it is totally possible and valid to have multiple outputs for a regression problem and therefore multiple output neurons. \n",
    "\n",
    "**Inputs-outputs:** Each neuron in the output layer takes the outputs from the each neuron in the last hidden layer as inputs. In other words, the output layer takes the outputs from the last hidden layer $\\Am$ or $\\av$ as inputs."
   ]
  },
  {
   "cell_type": "markdown",
   "id": "fc3ae099",
   "metadata": {},
   "source": [
    "# Feed-forward: Making Predictions \n",
    "\n",
    "Given a basic understanding of neurons and layers we are ready to see how a neural network makes predictions. To do so we are going to look at how data flows through an two layer neural network. Further, we'll look at the notation for neural networks as the notation can become cluttered quickly.\n",
    "\n",
    "To keep things simple, let's look at a two layer neural network that takes 3 input features, has 2 hidden neurons (i.e., neurons), and 1 output neuron. See the below image for a visualization of this network.\n",
    "\n",
    "<img src=\"https://live.staticflickr.com/65535/51636259865_8edb486543.jpg\" width=\"500\" height=\"300\" alt=\"single_layer_nn\">"
   ]
  },
  {
   "cell_type": "markdown",
   "id": "22c4d384",
   "metadata": {},
   "source": [
    "## Notation\n",
    "\n",
    "First let's start with notation for each input, layer, weight, linear combination, activation, and output. First, we need to cover the general notation in regards to the super and subscript. Unless otherwise specified, subscript indicates the neuron $a_1$ or feature number $x_1$ in a particular layer while superscript indicates the layer $a^{[1]}$. For instance, $a^{[1]}_2$ would be the activation for the 2nd neuron in layer 1 (i.e., the hidden layer)."
   ]
  },
  {
   "cell_type": "markdown",
   "id": "a23d5d80",
   "metadata": {},
   "source": [
    "### Feature inputs $x$\n",
    "$x$ represents a SINGLE input features from the data. Here $x_1$ is the first input feature, $x_2$ is the second input feature, and $x_3$ is the third input feature. \n",
    "$$\n",
    "x_{\\text{feature}}\n",
    "$$\n",
    "- $\\xv$ represents a SINGLE data sample flowing through the network where each element corresponds to the features for the element. If we were using online gradient decent we'd only pass a single data sample like this. Visually $\\xv$ looks like the following:\n",
    "$$\n",
    "\\xv = \\begin{bmatrix}\n",
    "                   x_1\\\\\n",
    "                   x_2\\\\\n",
    "                   x_3\n",
    "             \\end{bmatrix}\n",
    "$$\n",
    "where the subscript $x_1$ indicates the feature for of the $n$ features in the data.\n",
    "- $\\Xm$ represents MULTIPLE data samples flowing through the network where each row corresponds to a feature and each column corresponds to a data sample such that the <u>shape is **(features, data samples)**</u>. Notice, this is reverse or transpose of what we are used to seeing (data samples, features)!!!! We'll see why this is the case soon! Visually $\\Xm$ looks like the following:\n",
    "$$\n",
    "\\Xm = \\begin{bmatrix}\n",
    "                       |  & | &  & | \\\\\n",
    "                   \\xv^{1} & \\xv^{2} & \\dots & \\xv^{m}\\\\\n",
    "                       |  & | &  & | \\\\\n",
    "             \\end{bmatrix}\n",
    "$$\n",
    "where the superscript $\\xv^{1}$ here refers to the data sample for each of the $m$ data samples in the data."
   ]
  },
  {
   "cell_type": "markdown",
   "id": "c3d8066c",
   "metadata": {},
   "source": [
    "### Weights $w$\n",
    "$w$ represents the weight for each neuron in a given layer. The weights are given by the connections between the inputs and hidden neurons and between the hidden neurons and output neuron. Now there is a lot of superscript and subscript notation here. Recall the superscript corresponds to the layer number while the subscript here corresponds to the neuron AND the weight index (i.e., the weight for a given input). This notation corresponds to a single weight given as follows:\n",
    "$$\n",
    "w^{[\\text{layer}]}_{\\text{neuron}, \\text{weight index}}\n",
    "$$\n",
    "For instance, $w^{[2]}_{1, 2}$ corresponds to the 2nd weight for the 1st neuron in the 2nd layer. Additionally, $w^{[1]}_{2, 3}$ corresponds to the 3rd weight for the 2nd neuron in 1st layer.\n",
    "\n",
    "- $\\wv$ or $\\wv^{[\\text{layer}]}_{\\text{neuron}}$ represents the weight vector for EACH neuron. Recall each neuron is connected to all the neurons in the previous/next layer. Thus, each neuron has a weight for each connection. For instance, the weight vector for the 1st layer and 1st neuron would be given as follows:\n",
    "$$\n",
    "\\wv^{[1]}_1=  \\begin{bmatrix}\n",
    "                   w^{[1]}_{1,1}\\\\\n",
    "                   w^{[1]}_{1,2}\\\\\n",
    "                   w^{[1]}_{1,3}\n",
    "             \\end{bmatrix}\n",
    "$$\n",
    "Additionally, $\\wv^{[2]}_2$ would then be a vector of ALL the weights for the 2nd neuron in the 2nd layer.\n",
    "- $\\Wm$ or $\\Wm^{[\\text{layer}]}$ corresponds to a matrix of weights for the ENTIRE layer. This notation corresponds to the following:\n",
    "$$\n",
    "\\begin{align}\n",
    "\\Wm^{[1]} =\\begin{bmatrix}\n",
    "                       - \\wv^{[1]\\top}_1 -\\\\\n",
    "                       - \\wv^{[1]\\top}_2 -\\\\\n",
    "             \\end{bmatrix} =  \\begin{bmatrix}\n",
    "                   w^{[1]}_{1,1} & w^{[1]}_{1,2} & w^{[1]}_{1,3}\\\\\n",
    "                   w^{[1]}_{2,1} & w^{[1]}_{2,2} & w^{[1]}_{2,3}\\\\\n",
    "             \\end{bmatrix}\n",
    "\\end{align}\n",
    "$$\n",
    "where each row corresponds to a neuron and each column corresponds to the number of inputs. <u>Thus, the shape of $\\Wm$ is (neurons, inputs)</u>. For instance, $\\Wm^{[1]}$ corresponds to the weight matrix for the 1st layer. Lastly, notice $\\Wm$ is simply created by stacking the transpose of each neuron's weight vector $\\wv^\\top$."
   ]
  },
  {
   "cell_type": "markdown",
   "id": "01578117",
   "metadata": {},
   "source": [
    "### Linear combination $z$\n",
    "\n",
    "$z$ represents the linear combination output for a given layer. Recall, $z$ is produced by taking the linear combination of weights $\\wv$ with the inputs $\\xv$ or $\\av$ plus a bias $b$. For a SINGLE data sample and a SINGLE neuron in a given layer $z$ would be given as follows:\n",
    "\n",
    "$$\n",
    "z^{[\\text{layer}]}_{\\text{neuron}} = \\wv^{[\\text{layer}]\\top}_{\\text{neuron}} \\xv + b^{[\\text{layer}]}_{\\text{neuron}}\n",
    "$$\n",
    "For instance, $z^{[1]}_{2}$ corresponds to the linear combination output for the 1st neuron in the 1st layer.\n",
    "- $\\zv$ represents the  linear combination output for MULTIPLE data samples and a SINGLE neuron. The equation for computing $\\zv$ for a SINGLE neuron and a given layer is given as follows:\n",
    "$$\n",
    "\\zv^{[\\text{layer}]}_{\\text{neuron}} = \\wv^{[\\text{layer}]\\top}_{\\text{neuron}} \\Xm + b^{[\\text{layer}]}_{\\text{neuron}}\n",
    "$$\n",
    "Thus, computing $\\zv^{[1]}_{2}$ for multiple data samples $\\Xm$ would be given as follows:\n",
    "\n",
    "$$\n",
    "\\zv^{[1]}_{2} = \\wv^{[1]\\top}_{2} \\Xm + b^{[1]}_2.\n",
    "$$\n",
    "- $\\Zm$ represents the linear combination output for MULTIPLE data samples and ALL neurons in a given layer. <u>$\\Zm$ has the shape (neurons, data samples)</u>. The equation for computing $\\Zm$ for ALL neurons for a particular layer is given as follows:\n",
    "$$\n",
    "\\Zm^{[\\text{layer}]} = \\Wm^{[\\text{layer}]} \\Xm + \\bv^{[\\text{layer}]}\n",
    "$$\n",
    "Thus, computing $\\Zm^{[1]}$ for multiple data samples $\\Xm$ would be given as follows:\n",
    "$$\n",
    "\\Zm^{[1]} = \\Wm^{[1]} \\Xm + \\bv^{[1]}\n",
    "$$\n",
    "\n"
   ]
  },
  {
   "cell_type": "markdown",
   "id": "7e438b6b",
   "metadata": {},
   "source": [
    "### Activation $a$\n",
    "\n",
    "Lastly, $a$ represents the activation of the neuron after applying the activation function $g(\\cdot)$.  For a SINGLE data sample and a SINGLE neuron in a given layer $a$ would be given as follows:\n",
    "\n",
    "$$\n",
    "\\begin{align}\n",
    "a^{[\\text{layer}]}_{\\text{neuron}} &= g(z^{[\\text{layer}]}_{\\text{neuron}}) \\\\\n",
    "\\\\\n",
    "&= g(\\wv^{[\\text{layer}]\\top}_{\\text{neuron}} \\xv + b^{[\\text{layer}]}_{\\text{neuron}})\n",
    "\\end{align}\n",
    "$$\n",
    "\n",
    "- $\\av$ represents the neuron activation output for MULTIPLE data samples and a SINGLE neuron. The equation for computing $\\av$ for a SINGLE neuron and a given layer is given as follows:\n",
    "$$\n",
    "\\av^{[\\text{layer}]}_{\\text{neuron}} = g(\\zv^{[\\text{layer}]}_{\\text{neuron}})\n",
    "$$\n",
    "Thus, computing $\\av^{[1]}_{2}$ for multiple data samples $\\Xm$ would be given as follows:\n",
    "\n",
    "$$\n",
    "\\av^{[1]}_{2} = g(\\zv^{[1]}_{2})\n",
    "$$\n",
    "- $\\Am$ represents the neuron activation output for MULTIPLE data samples and a ALL neurons in a given layer. <u>$\\Am$ has the shape (neurons, data samples)</u>.  The equation for computing $\\Am$ for a ALL neurons for a particular layer is given as follows:\n",
    "$$\n",
    "\\Am^{[\\text{layer}]} = g(\\Zm^{[\\text{layer}]})\n",
    "$$\n",
    "Thus, computing $\\Am^{[1]}$ for multiple data samples $\\Xm$ would be given as follows:\n",
    "$$\n",
    "\\Am^{[1]} = g(\\Zm^{[1]} )\n",
    "$$\n"
   ]
  },
  {
   "cell_type": "markdown",
   "id": "1a2822de",
   "metadata": {},
   "source": [
    "## Activation functions: the key element\n",
    "\n",
    "Now, recall each neuron can have an activation function. Previously we have seen the sigmoid and binary/step-function activation functions when working with Rosenblatt's perceptron and logistic regression. However, there are many, MANY, more activation functions out there. \n",
    "\n",
    "**The KEY element of neurons in neural networks are non-linear activation functions.** By introducing non-linearity with non-linear activation functions neural networks are able to learn more complex non-linear models. \n",
    "\n",
    "Without non-linear activation functions, neural networks would simply amount to a linear combination of many linear equations. As you might know, the output of a combination of linear equations is itself linear.  Thus, even if we used hundreds of neurons with a linear activation function (i.e., no activation $z = a$) the output could only ever be linear. \n",
    "\n",
    "However, by wrapping the output of a neuron in a non-linear activation function,  the output of a neural network can now be non-linear. This simple addition of a non-linear activation is what allows neural networks to begin to learn more complex models that can deal with complex and non-linear data. \n",
    "\n",
    "\n",
    "### Types of activation functions\n",
    "\n",
    "As mentioned, there are many different types of activation functions. See the below animation which gives you a glimpse an just handful of the activation functions used throughout history and today. \n",
    "<img src=\"https://mlfromscratch.com/content/images/2019/12/activationfunctions.2019-08-01-16_58_53.gif\">\n",
    "\n",
    "For now, we are going to focus on about 4 of the activation functions given in the above GIF for the rest of the course. Three of these functions are non-linear and one is a linear activation function which acts as if no activation function was applied.\n",
    "\n",
    "The 3 non-linear activation functions are the sigmoid, tanh, and ReLU. The sigmoid and tanh activation functions were some of the first activation functions used in neural networks while ReLU is a modern day activation function that is extremely effective and alleviates many of the issues the sigmoid and tanh activation functions introduced into neural networks. The one linear activation function we'll look at is the identity activation also referred to as just the linear activation.\n",
    "\n",
    "For this module, we'll simply be looking at the sigmoid, tanh, and linear activation function. In following modules we'll take a closer look at the ReLU and, while not mentioned, the softmax activation functions."
   ]
  },
  {
   "cell_type": "markdown",
   "id": "1b44ffa8",
   "metadata": {},
   "source": [
    "#### Sigmoid \n",
    "\n",
    "The sigmoid activation squashes values between 0 and 1 and is one of the first non-linear activation functions to be used. Recall, this is because it is the smooth version of the binary activation function used by Rosenblatt's perceptron.\n",
    "\n",
    "While the sigmoid activation function is more biologically plausible, it actually doesn't work well in neural networks (unless you are using it as as the activation function for an output neuron to predict probabilities in binary classification). The issue here is two fold: \n",
    "1. The first issue is that the mean of the sigmoid function is 0.5. Recall, we like to standardize our data to have a mean of zero. One reason we do this is because it helps create smoother learning as values near zero produce more stable weight/gradient updates. Now, since the sigmoid has a mean of 0.5 this can be seen as \"undoing\" the standardization we performed on our data and creates more unstable gradients.\n",
    "2. The second issue is referred to as saturating. What this means is that the output of the sigmoid gets saturated near the boundaries of the function which means the derivative is near zero. Thus, when learning the weights using gradient decent the derivative will be near zero and little to no learning will occur. Having the majority of your neurons with near zero gradients is particularly bad for neural networks as gradients are propagated through the entire network leading to a problem called the [*vanishing gradient problem*](https://en.wikipedia.org/wiki/Vanishing_gradient_problem).\n",
    "\n",
    "Recall the sigmoid activation function equation is given as follows:\n",
    "\n",
    "$$\n",
    "\\begin{align}\n",
    "g(z) &= \\frac{1}{1 + e^{-z}} \\\\\n",
    "&= \\frac{e^z}{1 + e^{z}}\n",
    "\\end{align}\n",
    "$$\n",
    "\n",
    "Further the derivative of the sigmoid activation is given as follows:\n",
    "\n",
    "$$\n",
    "\\begin{align}\n",
    "g'(z) &= \\frac{1}{1 + e^{-z}} (1 - \\frac{1}{1 + e^{-z}}) \\\\\n",
    "&= g(z)(1- g(z))\n",
    "\\end{align}\n",
    "$$\n",
    "\n",
    "Below is the `Sigmoid` class which contains two static methods `activation()` and `derivative`. The activation computes the sigmoid activation function while the `derivative` computes the derivative of the activation function which we'll need when learning weights of a neural network. \n",
    "\n",
    "Notice that the methods have a decorator that make the methods static methods. Recall, [static methods](https://pythonbasics.org/static-method/) are allowed to be called without initializing the class."
   ]
  },
  {
   "cell_type": "code",
   "execution_count": 89,
   "id": "87f4896e",
   "metadata": {},
   "outputs": [],
   "source": [
    "class Sigmoid():\n",
    "    @staticmethod\n",
    "    def activation(z):\n",
    "        return 1 / (1 + np.exp(-z))\n",
    "    \n",
    "    @staticmethod\n",
    "    def derivative(z):\n",
    "        return Sigmoid.activation(z) * (1 -  Sigmoid.activation(z))"
   ]
  },
  {
   "cell_type": "markdown",
   "id": "bc0d14ac",
   "metadata": {},
   "source": [
    "Below is the plot for the sigmoid activation function and the derivative of the sigmoid function for values between -10 and 10. \n",
    "\n",
    "Notice, as the sigmoid function (orange line) approaches 0 and 1 the derivative (blue line) goes to 0! Finally, note that the doted black line indicates the mean of the sigmoid function."
   ]
  },
  {
   "cell_type": "code",
   "execution_count": 90,
   "id": "6579b98a",
   "metadata": {},
   "outputs": [
    {
     "data": {
      "image/png": "[encoded data removed]",
      "text/plain": [
       "<Figure size 432x288 with 1 Axes>"
      ]
     },
     "metadata": {
      "needs_background": "light"
     },
     "output_type": "display_data"
    }
   ],
   "source": [
    "x = np.arange(-10, 10 , .2)\n",
    "y = Sigmoid.activation(x)\n",
    "dy = Sigmoid.derivative(x)\n",
    "\n",
    "plt.hlines(.5, xmin=-10, xmax=10, colors='black', linestyles='dotted')\n",
    "plt.plot(x ,dy, label='Derivative')\n",
    "plt.plot(x ,y, label='Activation')\n",
    "plt.legend()\n",
    "plt.show();"
   ]
  },
  {
   "cell_type": "markdown",
   "id": "64ad4283",
   "metadata": {},
   "source": [
    "#### Tanh\n",
    "\n",
    "The tanh is the evolution of the sigmoid function which squashes values between -1 and 1. Tanh acts almost identically to the sigmoid function, however the tanh activation function has a mean of 0. Still, tanh, just like the sigmoid, suffers from the saturation problem where values at -1 and 1 have a near zero derivative. Regardless, when choosing between the sigmoid and tanh there is almost no reason to ever go with the sigmoid!\n",
    "\n",
    "The tanh activation function equation is given as follows:\n",
    "\n",
    "$$\n",
    "\\begin{align}\n",
    "g(z) &= \\tanh(z) \\\\\n",
    "&= \\frac{e^z - e^{-z}}{e^z + e^{-z}}\n",
    "\\end{align}\n",
    "$$\n",
    "\n",
    "Further, the derivative of the tanh activation is given as follows:\n",
    "\n",
    "$$\n",
    "\\begin{align}\n",
    "g'(z) &=  1 - \\tanh^2(z)\n",
    "\\end{align}\n",
    "$$\n"
   ]
  },
  {
   "cell_type": "code",
   "execution_count": 91,
   "id": "beebf80e",
   "metadata": {},
   "outputs": [],
   "source": [
    "class Tanh():\n",
    "    @staticmethod\n",
    "    def activation(z):\n",
    "        return np.tanh(z)\n",
    "    \n",
    "    @staticmethod\n",
    "    def derivative(z):\n",
    "        return 1 - np.tanh(z)**2"
   ]
  },
  {
   "cell_type": "markdown",
   "id": "e7f644e0",
   "metadata": {},
   "source": [
    "Below is the plot containing the tanh activation function and the derivative of the tanh function for values between -10 and 10. \n",
    "\n",
    "Notice, as the tanh function (orange line) approaches -1 and 1 the derivative (blue line) goes to 0! Finally, note that the doted black line indicates the mean of the tanh function."
   ]
  },
  {
   "cell_type": "code",
   "execution_count": 92,
   "id": "5e26d31d",
   "metadata": {},
   "outputs": [
    {
     "data": {
      "image/png": "[encoded data removed]",
      "text/plain": [
       "<Figure size 432x288 with 1 Axes>"
      ]
     },
     "metadata": {
      "needs_background": "light"
     },
     "output_type": "display_data"
    }
   ],
   "source": [
    "x = np.arange(-10, 10 , .2)\n",
    "y = Tanh.activation(x)\n",
    "dy = Tanh.derivative(x)\n",
    "\n",
    "plt.hlines(0, xmin=-10, xmax=10, colors='black', linestyles='dotted')\n",
    "plt.plot(x ,dy, label='Derivative')\n",
    "plt.plot(x ,y, label='Activation')\n",
    "plt.legend()\n",
    "plt.show();"
   ]
  },
  {
   "cell_type": "markdown",
   "id": "8aae9869",
   "metadata": {},
   "source": [
    "#### Identity or linear\n",
    "\n",
    "The last activation function is more of a placeholder activation function when you want to apply no activation function. The identity or linear activation function simply servers to act as if no activation was applied. To do so, we simply apply a linear or the identity transformation where the input is equal to the output.\n",
    "\n",
    "The main take away here is that anytime you hear there is no activation function for a neuron then you can think of the neuron as having the identity/linear activation function."
   ]
  },
  {
   "cell_type": "code",
   "execution_count": 93,
   "id": "28dfea84",
   "metadata": {},
   "outputs": [],
   "source": [
    "class Linear():\n",
    "    @staticmethod\n",
    "    def activation(z):\n",
    "        return z\n",
    "    \n",
    "    @staticmethod\n",
    "    def derivative(z):\n",
    "        return np.ones(z.shape)"
   ]
  },
  {
   "cell_type": "markdown",
   "id": "d0ec2667",
   "metadata": {},
   "source": [
    "Below is the plot containing the identity/linear activation function and the derivative of the identity/linear function for values between -10 and 10. \n",
    "\n",
    "Notice, that the identity/linear function is just a straight line where the x value is equal to the y value (i.e., input equals output). Further, notice that the derivative is always 1."
   ]
  },
  {
   "cell_type": "code",
   "execution_count": 94,
   "id": "7ef27d21",
   "metadata": {},
   "outputs": [
    {
     "data": {
      "text/plain": [
       "<matplotlib.legend.Legend at 0x7fb7dc94ab50>"
      ]
     },
     "execution_count": 94,
     "metadata": {},
     "output_type": "execute_result"
    },
    {
     "data": {
      "image/png": "[encoded data removed]",
      "text/plain": [
       "<Figure size 432x288 with 1 Axes>"
      ]
     },
     "metadata": {
      "needs_background": "light"
     },
     "output_type": "display_data"
    }
   ],
   "source": [
    "x = np.arange(-10, 10 , .2)\n",
    "y = Linear.activation(x)\n",
    "dy = Linear.derivative(x)\n",
    "\n",
    "plt.plot(x ,dy, label='Derivative')\n",
    "plt.plot(x ,y, label='Activation')\n",
    "plt.legend()"
   ]
  },
  {
   "cell_type": "markdown",
   "id": "9ffc9aa7",
   "metadata": {},
   "source": [
    "## Feed-forward Code\n",
    "\n",
    "\n",
    "Finally, it's time to see how we can make a prediction using neural network. To do so, we'll compute each layers output starting from the input layer all the way to the output layer. Let's do so using the very basic two layer neural network given below. \n",
    "\n",
    "<img src=\"https://live.staticflickr.com/65535/51636259865_8edb486543.jpg\" width=\"500\" height=\"409\" alt=\"single_layer_nn\">\n",
    "\n",
    "The goal will be to efficiently compute output of each layer. Recall, we can do so by computing the output for EVERY neuron in the layer at once by applying the following equations in order.\n",
    "\n",
    "1. First we compute the 1st layer outputs by computing $\\Am^{[1]}$. Here we'll use the sigmoid activation function for $g$.\n",
    "$$\n",
    "\\Zm^{[1]} = \\Wm^{[1]} \\Xm + \\bv^{[1]}\n",
    "$$\n",
    "\n",
    "$$\n",
    "\\Am^{[1]} = g(\\Zm^{[1]} )\n",
    "$$\n",
    "\n",
    "2. Next, we compute 2nd layer (i.e., output layer) SINGLE output by computing $\\av^{[2]}$. Here we'll use the identity/linear activation function for $g$ as linear regression requires no activation for the output neuron.\n",
    "\n",
    "$$\n",
    "\\zv^{[2]} = \\wv^{[2]} \\Am^{[1]} + \\bv^{[2]}\n",
    "$$\n",
    "\n",
    "$$\n",
    "\\av^{[2]} = g(\\zv^{[2]})\n",
    "$$\n",
    "\n",
    "3. Lastly, since the output of the 2nd layer is the output layer then the activations are the same as the predictions.\n",
    "\n",
    "$$\n",
    "\\hat{\\yv} = \\av^{[2]\\top} \n",
    "$$"
   ]
  },
  {
   "cell_type": "markdown",
   "id": "888aa88b",
   "metadata": {},
   "source": [
    "### Toy Data\n",
    "\n",
    "Below, the `nonlinear_data()` function defines some toy non-linear regression data that we'll use to test out the neural network implementation.\n"
   ]
  },
  {
   "cell_type": "code",
   "execution_count": 95,
   "id": "49011fb9",
   "metadata": {},
   "outputs": [],
   "source": [
    "from sklearn.datasets import make_regression, make_friedman1\n",
    "\n",
    "def nonlinear_data(m=100, n=3):\n",
    "    X, _ = make_regression(\n",
    "        n_samples=m, \n",
    "        n_features=n, \n",
    "        n_informative=1,\n",
    "        noise=3.5,\n",
    "        random_state=42,\n",
    "    )\n",
    "    rng = np.random.RandomState(42)\n",
    "    X[:, 0] = np.sort(6 * rng.rand(m, 1) - 3, axis=0).reshape(m,)\n",
    "    y = (2 + .5* X[:, 0]**2 + X[:, 0]) + rng.rand(m)\n",
    "\n",
    "    return X, y.reshape(-1, 1)"
   ]
  },
  {
   "cell_type": "markdown",
   "id": "d9dfebb6",
   "metadata": {},
   "source": [
    "Below we can see the shape of the data which has 100 data samples and 3 features."
   ]
  },
  {
   "cell_type": "code",
   "execution_count": 96,
   "id": "5f7ab82e",
   "metadata": {},
   "outputs": [],
   "source": [
    "X, y = nonlinear_data()"
   ]
  },
  {
   "cell_type": "code",
   "execution_count": 97,
   "id": "f510aff5",
   "metadata": {},
   "outputs": [
    {
     "data": {
      "text/plain": [
       "(100, 3)"
      ]
     },
     "execution_count": 97,
     "metadata": {},
     "output_type": "execute_result"
    }
   ],
   "source": [
    "X.shape"
   ]
  },
  {
   "cell_type": "code",
   "execution_count": 98,
   "id": "b499f3e1",
   "metadata": {
    "scrolled": true
   },
   "outputs": [
    {
     "data": {
      "text/plain": [
       "array([[-2.9668673 ,  0.34115197, -0.07710171],\n",
       "       [-2.87649303,  1.16316375, -1.43586215],\n",
       "       [-2.84748524, -0.16128571, -0.80227727],\n",
       "       [-2.79366887, -1.23695071,  0.78182287],\n",
       "       [-2.72863627, -0.33450124, -1.20029641],\n",
       "       [-2.72129752,  0.06980208, -0.60021688],\n",
       "       [-2.65149833,  2.13303337, -1.2378155 ],\n",
       "       [-2.6186499 ,  1.46564877, -1.4123037 ],\n",
       "       [-2.60969044, -1.91877122, -0.07444592],\n",
       "       [-2.55573209,  0.17457781,  1.8861859 ],\n",
       "       [-2.55269614, -1.07774478,  0.06428002],\n",
       "       [-2.46904499,  0.75193303,  1.14282281],\n",
       "       [-2.41396732,  0.09965137, -0.56629773],\n",
       "       [-2.35265144,  0.18463386, -1.60748323],\n",
       "       [-2.30478564,  0.91786195, -1.26088395],\n",
       "       [-2.28243452, -1.15099358,  0.11092259],\n",
       "       [-2.26777059,  1.35624003,  0.81252582],\n",
       "       [-2.16303684,  0.62962884,  0.81286212],\n",
       "       [-2.15445465,  0.06856297, -1.55066343],\n",
       "       [-2.06403288,  3.85273149,  0.51504769],\n",
       "       [-2.06388816, -0.51827022,  1.47789404],\n",
       "       [-1.97685526, -0.32206152, -0.78325329],\n",
       "       [-1.9090502 , -1.10633497, -0.18565898],\n",
       "       [-1.89957294,  1.76545424, -0.65332923],\n",
       "       [-1.89087327, -0.83921752,  0.93128012],\n",
       "       [-1.82410283,  1.6324113 , -1.24778318],\n",
       "       [-1.80770591,  0.61167629, -0.676922  ],\n",
       "       [-1.80195731, -0.21967189, -1.98756891],\n",
       "       [-1.72596534, -1.0708925 , -0.85715756],\n",
       "       [-1.44732011, -0.70766947,  1.26691115],\n",
       "       [-1.37190581, -2.6197451 ,  1.56464366],\n",
       "       [-1.31439294, -0.65160035,  0.04557184],\n",
       "       [-1.25262516,  0.8496021 , -0.58936476],\n",
       "       [-1.24713211, -1.1913035 ,  0.47383292],\n",
       "       [-1.17454654, -1.42474819,  0.0675282 ],\n",
       "       [-1.17231738,  0.13074058, -0.44004449],\n",
       "       [-1.13410607,  1.40279431, -0.90938745],\n",
       "       [-1.12973354, -0.70205309,  0.96864499],\n",
       "       [-1.04890007,  1.05712223, -0.46063877],\n",
       "       [-1.04801802, -0.20812225, -0.62269952],\n",
       "       [-1.01461185, -0.01349722,  1.85227818],\n",
       "       [-0.85948004, -1.32818605, -1.95967012],\n",
       "       [-0.84920563, -0.23413696, -0.23415337],\n",
       "       [-0.80182894,  0.31424733, -1.01283112],\n",
       "       [-0.75275929, -1.02438764, -3.24126734],\n",
       "       [-0.66793626,  0.01300189,  0.82718325],\n",
       "       [-0.43475389,  0.35778736, -1.1429703 ],\n",
       "       [-0.40832989,  0.97554513,  0.33126343],\n",
       "       [-0.35908504,  0.85243333, -0.66178646],\n",
       "       [-0.26358009, -0.47193187, -1.61271587],\n",
       "       [-0.16671045,  1.89679298,  0.82206016],\n",
       "       [-0.03722642, -0.29169375, -0.60063869],\n",
       "       [-0.02893854,  0.58831721, -0.1517851 ],\n",
       "       [ 0.08540663,  0.91540212, -0.50175704],\n",
       "       [ 0.12040813,  0.50498728, -0.11473644],\n",
       "       [ 0.13639698, -2.02514259,  0.63391902],\n",
       "       [ 0.14853859,  1.05380205,  1.08305124],\n",
       "       [ 0.2561765 ,  2.19045563,  0.58685709],\n",
       "       [ 0.28026168,  0.96337613, -0.82068232],\n",
       "       [ 0.36766319,  0.51503527, -0.93782504],\n",
       "       [ 0.55448741,  2.72016917, -0.26465683],\n",
       "       [ 0.58739987, -1.47852199, -0.3011037 ],\n",
       "       [ 0.59195091,  1.53803657,  0.36139561],\n",
       "       [ 0.60669007,  0.00511346,  0.26105527],\n",
       "       [ 0.64526911,  0.95400176,  1.13556564],\n",
       "       [ 0.67111737, -0.71435142,  0.29307247],\n",
       "       [ 0.73978876, -0.84679372, -0.07282891],\n",
       "       [ 0.82534483, -1.86726519,  2.31465857],\n",
       "       [ 0.97513371,  0.51326743, -0.5297602 ],\n",
       "       [ 1.10539816, -1.51936997,  1.03246526],\n",
       "       [ 1.24114406, -0.48536355, -0.23681861],\n",
       "       [ 1.24843547,  0.85639879, -0.44651495],\n",
       "       [ 1.27946872,  2.46324211,  0.06023021],\n",
       "       [ 1.37404301,  0.89959988, -0.6929096 ],\n",
       "       [ 1.37763707,  0.15372511, -0.88385744],\n",
       "       [ 1.39196365,  0.17136828,  0.73846658],\n",
       "       [ 1.56471029,  0.36163603,  1.0035329 ],\n",
       "       [ 1.62580308,  0.22745993, -1.23086432],\n",
       "       [ 1.62762208,  0.32408397, -1.76304016],\n",
       "       [ 1.63346862, -0.88951443, -0.75373616],\n",
       "       [ 1.65079694, -1.72491783, -1.91328024],\n",
       "       [ 1.71105577, -0.92693047,  0.77463405],\n",
       "       [ 1.81318188,  0.66213067,  0.11351735],\n",
       "       [ 1.85038409, -1.22084365,  0.82254491],\n",
       "       [ 1.89276857,  0.29698467,  0.52194157],\n",
       "       [ 1.97242505, -0.46947439,  0.76743473],\n",
       "       [ 1.99465584,  0.7870846 , -0.97468167],\n",
       "       [ 2.17862056,  0.46210347, -0.98150865],\n",
       "       [ 2.19705687, -0.29900735,  0.08704707],\n",
       "       [ 2.32327646, -0.03471177,  0.30154734],\n",
       "       [ 2.3689641 ,  0.75896922, -0.31526924],\n",
       "       [ 2.45592241, -0.42064532, -1.41537074],\n",
       "       [ 2.53124541, -1.46351495, -0.39210815],\n",
       "       [ 2.63699365,  0.17318093, -1.24573878],\n",
       "       [ 2.69331322,  0.71400049, -0.22346279],\n",
       "       [ 2.70428584, -0.46572975, -0.46341769],\n",
       "       [ 2.7937922 , -0.73036663,  0.67959775],\n",
       "       [ 2.81750777, -0.91942423,  0.47359243],\n",
       "       [ 2.81945911, -0.68002472,  0.34644821],\n",
       "       [ 2.92132162,  0.64768854, -0.1382643 ]])"
      ]
     },
     "execution_count": 98,
     "metadata": {},
     "output_type": "execute_result"
    }
   ],
   "source": [
    "X"
   ]
  },
  {
   "cell_type": "markdown",
   "id": "c1fa3575",
   "metadata": {},
   "source": [
    "Below we can see the shape of the labels which has 100 target/labels."
   ]
  },
  {
   "cell_type": "code",
   "execution_count": 99,
   "id": "b5f8f055",
   "metadata": {
    "scrolled": true
   },
   "outputs": [
    {
     "data": {
      "text/plain": [
       "(100, 1)"
      ]
     },
     "execution_count": 99,
     "metadata": {},
     "output_type": "execute_result"
    }
   ],
   "source": [
    "y.shape"
   ]
  },
  {
   "cell_type": "code",
   "execution_count": 100,
   "id": "b2d3eea5",
   "metadata": {
    "scrolled": true
   },
   "outputs": [
    {
     "data": {
      "text/plain": [
       "array([[3.46571267],\n",
       "       [3.89702347],\n",
       "       [3.52095684],\n",
       "       [3.6171947 ],\n",
       "       [3.90165814],\n",
       "       [3.23072481],\n",
       "       [3.27410629],\n",
       "       [3.56556489],\n",
       "       [3.02434983],\n",
       "       [2.78713108],\n",
       "       [2.9951841 ],\n",
       "       [2.74026788],\n",
       "       [3.42934944],\n",
       "       [3.22295334],\n",
       "       [2.98463654],\n",
       "       [3.19377974],\n",
       "       [3.10729321],\n",
       "       [2.3628974 ],\n",
       "       [3.05894177],\n",
       "       [2.60542522],\n",
       "       [2.87336916],\n",
       "       [2.8732144 ],\n",
       "       [2.23118961],\n",
       "       [2.01466766],\n",
       "       [2.12476275],\n",
       "       [2.26668052],\n",
       "       [2.64420919],\n",
       "       [2.68229834],\n",
       "       [1.77046497],\n",
       "       [2.11079494],\n",
       "       [1.98656797],\n",
       "       [1.77152927],\n",
       "       [1.6517751 ],\n",
       "       [1.86815231],\n",
       "       [2.45814295],\n",
       "       [1.83804957],\n",
       "       [2.02778284],\n",
       "       [2.21143436],\n",
       "       [1.86482521],\n",
       "       [2.47293495],\n",
       "       [2.46255405],\n",
       "       [1.76165523],\n",
       "       [2.00861798],\n",
       "       [1.82051419],\n",
       "       [1.81540448],\n",
       "       [1.59202011],\n",
       "       [2.26931592],\n",
       "       [2.17771578],\n",
       "       [1.75686475],\n",
       "       [2.0498036 ],\n",
       "       [2.75545162],\n",
       "       [2.20302837],\n",
       "       [2.11637505],\n",
       "       [2.57850654],\n",
       "       [3.11330764],\n",
       "       [2.38775432],\n",
       "       [2.83170599],\n",
       "       [3.05060931],\n",
       "       [2.55717252],\n",
       "       [3.16346764],\n",
       "       [3.07599869],\n",
       "       [3.39222501],\n",
       "       [3.40068355],\n",
       "       [3.32650118],\n",
       "       [2.94374499],\n",
       "       [3.73161912],\n",
       "       [3.33421253],\n",
       "       [3.35246038],\n",
       "       [3.49135172],\n",
       "       [4.30724365],\n",
       "       [4.68892772],\n",
       "       [4.04431885],\n",
       "       [4.61008189],\n",
       "       [4.54453588],\n",
       "       [4.97175181],\n",
       "       [4.53511148],\n",
       "       [5.47980718],\n",
       "       [5.33415625],\n",
       "       [5.88892889],\n",
       "       [5.10509942],\n",
       "       [5.35442856],\n",
       "       [5.28838521],\n",
       "       [6.38168978],\n",
       "       [6.43968408],\n",
       "       [5.94199663],\n",
       "       [6.5776394 ],\n",
       "       [6.80120401],\n",
       "       [7.10701513],\n",
       "       [7.14023691],\n",
       "       [7.26393549],\n",
       "       [7.26806233],\n",
       "       [8.36891562],\n",
       "       [8.63526513],\n",
       "       [8.74696286],\n",
       "       [8.65931107],\n",
       "       [8.71007636],\n",
       "       [9.4223853 ],\n",
       "       [9.68379303],\n",
       "       [9.68122038],\n",
       "       [9.96825717]])"
      ]
     },
     "execution_count": 100,
     "metadata": {},
     "output_type": "execute_result"
    }
   ],
   "source": [
    "y"
   ]
  },
  {
   "cell_type": "markdown",
   "id": "ad38c84b",
   "metadata": {},
   "source": [
    "Below is each feature of the toy data plotted against the target. Notice that we have 3 features. However, only the 1st feature has a non-linear trend with the target. This means, features 2 and 3 don't provide any information about predicting the target `y`.\n",
    "\n",
    "Thus, even though our data has 3 features, there is only one informative feature which corresponds to feature 1. Our neural network will have to learn that feature 1 is the only informative feature and it will have to learn feature 1's non-linear mapping in order to predict the targets."
   ]
  },
  {
   "cell_type": "code",
   "execution_count": 101,
   "id": "0574f70c",
   "metadata": {},
   "outputs": [
    {
     "data": {
      "image/png": "[encoded data removed]",
      "text/plain": [
       "<Figure size 1080x360 with 3 Axes>"
      ]
     },
     "metadata": {
      "needs_background": "light"
     },
     "output_type": "display_data"
    }
   ],
   "source": [
    "feature1 = X[:, 0]\n",
    "feature2 = X[:, 1]\n",
    "feature3 = X[:, 2]\n",
    "\n",
    "fig, ax = plt.subplots(1, 3, figsize=(15,5))\n",
    "\n",
    "ax[0].plot(feature1, y, 'ob')\n",
    "ax[0].set_title(\"Feature 1 vs Target\")\n",
    "ax[0].set_xlabel(\"Feature 1\")\n",
    "ax[0].set_ylabel(\"Target y\")\n",
    "\n",
    "ax[1].plot(feature2, y,  'or')\n",
    "ax[1].set_title(\"Feature 2 vs Target\")\n",
    "ax[1].set_xlabel(\"Feature 2\")\n",
    "\n",
    "ax[2].plot(feature3, y, 'og')\n",
    "ax[2].set_title(\"Feature 3 vs Target\")\n",
    "ax[2].set_xlabel(\"Feature 3\")\n",
    "\n",
    "plt.show()"
   ]
  },
  {
   "cell_type": "markdown",
   "id": "c21af6a0",
   "metadata": {},
   "source": [
    "### Hidden Layer 1\n",
    "\n",
    "Alright, the first step in computing the predictions for a neural network is compute the output of the first layer. In our case, this is the first and only hidden layer. Below is the image of the 1st hidden layer and the input layer. The input layer will provide the inputs that the hidden layer will use to compute its outputs.\n",
    "\n",
    "<img src=\"https://live.staticflickr.com/65535/51636177013_f3088e6720.jpg\" width=\"300\" height=\"209\" alt=\"signle_nn_hidden_layers\">\n",
    "\n",
    "*Note, the red arrow in the picture points in the direction information is flowing. In this case, information is flowing forwards.*"
   ]
  },
  {
   "cell_type": "markdown",
   "id": "d5cad60f",
   "metadata": {},
   "source": [
    "#### Initializing weights\n",
    "Before we compute the 1st hidden layers outputs, we need to initialize the weights and bias for the 1st hidden layer. \n",
    "\n",
    "The shape of the weights must always be (neurons, inputs). In the case of the hidden layer weight $\\Wm^{[1]}$, it's shape would be (hidden neurons=2, feature inputs=3) or (2, 3) as we have 2 hidden neurons and 3 feature inputs. We'll refer to the hidden layer's weights as `W1`.\n",
    "\n",
    "We can initialize the weights to using a random uniform distribution that range between -0.5 and 0.5. Now there is a whole research field dedicated to researching the best ways to initialize weights. However, for now, we'll just use a naive method that keeps our weight values small, but not too small. This will help prevent issues like overflow/underflow when dealing with many hidden neurons. \n",
    "\n",
    "The shape of the bias is always (neurons, 1). In the case of the hidden layer bias $\\bv^{[1]}$, it's shape would be (hidden neurons=2, 1) or (2,1) as we have 2 hidden neurons. Recall that a bias must be added to each neuron, therefore the bias is simply initialized as a vector of 1s. We'll refer to the hidden layer's bias as `b1`.\n",
    "\n",
    "Below is the code for initializing the weights and biases."
   ]
  },
  {
   "cell_type": "code",
   "execution_count": 102,
   "id": "e4857246",
   "metadata": {},
   "outputs": [],
   "source": [
    "rng = np.random.RandomState(0)\n",
    "\n",
    "n_input_features = X.shape[1]\n",
    "hidden_neurons = 2\n",
    "\n",
    "W1 = rng.uniform(low=-0.5, high=0.5, size=(hidden_neurons, n_input_features))\n",
    "b1 = np.ones([hidden_neurons, 1])"
   ]
  },
  {
   "cell_type": "code",
   "execution_count": 103,
   "id": "5129c23f",
   "metadata": {},
   "outputs": [
    {
     "data": {
      "text/plain": [
       "array([[ 0.0488135 ,  0.21518937,  0.10276338],\n",
       "       [ 0.04488318, -0.0763452 ,  0.14589411]])"
      ]
     },
     "execution_count": 103,
     "metadata": {},
     "output_type": "execute_result"
    }
   ],
   "source": [
    "W1"
   ]
  },
  {
   "cell_type": "markdown",
   "id": "f158a0ed",
   "metadata": {},
   "source": [
    "Below are the shapes for the inputs $\\Xm$ which corresponds to `X`, weights $\\Wm^{[1]}$ which corresponds to `W1`, and bias $\\bv^{[1]}$ which corresponds to `b1`."
   ]
  },
  {
   "cell_type": "code",
   "execution_count": 104,
   "id": "5dbb9747",
   "metadata": {},
   "outputs": [
    {
     "name": "stdout",
     "output_type": "stream",
     "text": [
      "Input data X shape: (100, 3)\n",
      "Hidden layer weights W1 shape: (2, 3)\n",
      "Hidden layer bias b1 shape: (2, 1)\n"
     ]
    }
   ],
   "source": [
    "print(f\"Input data X shape: {X.shape}\")\n",
    "print(f\"Hidden layer weights W1 shape: {W1.shape}\")\n",
    "print(f\"Hidden layer bias b1 shape: {b1.shape}\")"
   ]
  },
  {
   "cell_type": "markdown",
   "id": "5345a9ab",
   "metadata": {},
   "source": [
    "Notice anything wrong here with the input features? Recall, the input layer requires the input data to be of shape (features, data samples). Thus, we need to transpose our data to be a (features=3, data samples=100) instead of (data samples=100, features=3)."
   ]
  },
  {
   "cell_type": "code",
   "execution_count": 105,
   "id": "1a903e41",
   "metadata": {},
   "outputs": [
    {
     "name": "stdout",
     "output_type": "stream",
     "text": [
      "Input data X.T shape: (3, 100)\n"
     ]
    }
   ],
   "source": [
    "print(f\"Input data X.T shape: {X.T.shape}\")"
   ]
  },
  {
   "cell_type": "markdown",
   "id": "c14c0d10",
   "metadata": {},
   "source": [
    "#### Computing $\\Zm^{[1]}$\n",
    "\n",
    "The first component we must compute for each neuron is $\\Zm^{[1]}$ which contains the linear combination of inputs for all the neurons in the 1st hidden layer. We can do so using the following equation:\n",
    "$$\n",
    "\\Zm^{[1]} = \\Wm^{[1]} \\Xm + \\bv^{[1]}.\n",
    "$$\n",
    "where $\\Zm^{[1]}$ has the shape (neurons=2, data samples=100).\n",
    "\n",
    "Turning this into code looks like the below. Notice, input features `X` are transposed to be the correct shape of (features=3, data samples=100)."
   ]
  },
  {
   "cell_type": "code",
   "execution_count": 106,
   "id": "503ce014",
   "metadata": {
    "scrolled": true
   },
   "outputs": [
    {
     "name": "stdout",
     "output_type": "stream",
     "text": [
      "(2, 100) =  (2, 3) @ (3, 100) + (2, 1)\n",
      "Continuous neuron outputs Z1 shape: (2, 100)\n"
     ]
    }
   ],
   "source": [
    "Z1 = W1 @ X.T + b1\n",
    "print(f\"{Z1.shape} =  {W1.shape} @ {X.T.shape} + {b1.shape}\")\n",
    "print(f\"Continuous neuron outputs Z1 shape: {Z1.shape}\")"
   ]
  },
  {
   "cell_type": "markdown",
   "id": "3f02c681",
   "metadata": {},
   "source": [
    "Here, $\\Zm^{[1]}$ corresponds to `Z1`. `Z1` is a matrix where the rows correspond to the neurons and the columns correspond to the linear combination (i.e. continuous output) for each data sample. Indexing the first row of `Z1` provides us with the linear combinations for the 1st hidden neuron in 1st hidden layer."
   ]
  },
  {
   "cell_type": "code",
   "execution_count": 107,
   "id": "d76d84dd",
   "metadata": {},
   "outputs": [
    {
     "data": {
      "text/plain": [
       "array([0.92066586, 0.96233472, 0.74385258, 0.67779535, 0.67147808,\n",
       "       0.82050429, 1.20237508, 1.04243346, 0.45206239, 1.10664388,\n",
       "       0.65008037, 1.15872559, 0.84541504, 0.75969968, 0.95543678,\n",
       "       0.65230357, 1.2646485 , 1.11343648, 0.75023613, 1.78124221,\n",
       "       0.93960153, 0.7537088 , 0.64966211, 1.22004385, 0.82281065,\n",
       "       1.13401029, 0.97382298, 0.6605198 , 0.5972205 , 0.90726036,\n",
       "       0.53007925, 0.80030553, 1.0611152 , 0.73145994, 0.64301503,\n",
       "       0.92568861, 1.153055  , 0.89332062, 1.12894418, 0.84006617,\n",
       "       1.13791514, 0.47085194, 0.88410112, 0.92440066, 0.40973428,\n",
       "       1.0551977 , 0.93831469, 1.22403667, 1.09789898, 0.71985089,\n",
       "       1.48450964, 0.8736898 , 1.10958907, 1.14959155, 1.10275473,\n",
       "       0.63601252, 1.34531569, 1.54417505, 1.13665277, 1.03240297,\n",
       "       1.58522092, 0.6795684 , 1.39700254, 1.05754195, 1.35348344,\n",
       "       0.90915588, 0.84640653, 0.87633449, 1.10360944, 0.83310571,\n",
       "       0.93180324, 1.19934304, 1.59870832, 1.18945045, 1.00949913,\n",
       "       1.18071057, 1.25732565, 1.00182033, 0.9680134 , 0.81086481,\n",
       "       0.51278207, 0.96366106, 1.24265667, 0.91213865, 1.20993709,\n",
       "       1.07411927, 1.1665768 , 1.10492271, 1.05184809, 1.13692568,\n",
       "       1.24656141, 0.8839155 , 0.76833175, 1.03797127, 1.26215158,\n",
       "       0.98416321, 1.04904541, 0.98835007, 1.02689578, 1.26776712])"
      ]
     },
     "execution_count": 107,
     "metadata": {},
     "output_type": "execute_result"
    }
   ],
   "source": [
    "Z1[0]"
   ]
  },
  {
   "cell_type": "markdown",
   "id": "3e7a2103",
   "metadata": {},
   "source": [
    "Indexing the second row of `Z1` provides us with the linear combinations for the 2nd hidden neuron in 1st hidden layer."
   ]
  },
  {
   "cell_type": "code",
   "execution_count": 108,
   "id": "d9d8c8f5",
   "metadata": {},
   "outputs": [
    {
     "data": {
      "text/plain": [
       "array([0.82954355, 0.57260803, 0.76746166, 1.08310985, 0.7279515 ,\n",
       "       0.78496234, 0.53755546, 0.56452461, 1.01849654, 1.14714585,\n",
       "       0.97708559, 0.99850604, 0.80142605, 0.64578727, 0.64252398,\n",
       "       1.00161286, 0.91321555, 0.97343868, 0.6718341 , 0.6883645 ,\n",
       "       1.16254961, 0.82158825, 0.97169256, 0.68464027, 1.11507011,\n",
       "       0.61145747, 0.77340692, 0.64591871, 0.87923644, 1.17390171,\n",
       "       1.36670176, 0.99740108, 0.7929303 , 1.10410448, 1.06590727,\n",
       "       0.87320135, 0.70932682, 1.14421195, 0.80501133, 0.87800256,\n",
       "       1.22572792, 0.7769201 , 0.94559858, 0.79225399, 0.57153902,\n",
       "       1.08970943, 0.78641888, 0.95552405, 0.82225318, 0.78891367,\n",
       "       0.9676402 , 0.93296893, 0.9316414 , 0.86074336, 0.95011157,\n",
       "       1.2532169 , 1.08422496, 0.92988624, 0.81929717, 0.84035827,\n",
       "       0.77860343, 1.09531318, 0.96187242, 1.06492622, 1.12180062,\n",
       "       1.12741673, 1.0872274 , 1.5172959 , 0.9272927 , 1.316241  ,\n",
       "       1.05821123, 0.92550792, 0.87815715, 0.89189986, 0.92114697,\n",
       "       1.15713054, 1.18902955, 0.87602989, 0.79109342, 1.03125976,\n",
       "       0.92664589, 1.26057887, 1.04739239, 1.29626114, 1.13842833,\n",
       "       1.23633504, 0.88723605, 0.91930771, 1.13413834, 1.1509201 ,\n",
       "       1.00238707, 0.93584961, 1.16813642, 0.92338918, 1.03377205,\n",
       "       1.08932327, 1.28030358, 1.26574669, 1.22900768, 1.06149835])"
      ]
     },
     "execution_count": 108,
     "metadata": {},
     "output_type": "execute_result"
    }
   ],
   "source": [
    "Z1[1]"
   ]
  },
  {
   "cell_type": "markdown",
   "id": "d64ebc45",
   "metadata": {},
   "source": [
    "#### Computing $\\Am^{[1]}$\n",
    "\n",
    "Next, we need to apply the activation function to the linear combination outputs $\\Zm^{[1]}$ for each neuron. Doing so will give us the neuron outputs $\\Am^{[1]}$ for the 1st hidden layer. For now, we are just going to use the sigmoid activation function.\n",
    "\n",
    "$$\n",
    "\\Am^{[1]} = g(\\Zm^{[1]})\n",
    "$$\n",
    "\n",
    "We can simply get $\\Am^{[1]}$  by calling the `Sigmoid.activation()` method. As `Sigmoid.activation()` is a static method, this means we DO NOT have to initialize the `Sigmoid` class in order to call the `activation()` static method!\n",
    "\n",
    "Below is the code for applying the sigmoid activation function to `Z1`."
   ]
  },
  {
   "cell_type": "code",
   "execution_count": 109,
   "id": "243c4052",
   "metadata": {},
   "outputs": [
    {
     "name": "stdout",
     "output_type": "stream",
     "text": [
      "Activation neuron outputs A1 shape: (2, 100)\n"
     ]
    }
   ],
   "source": [
    "A1 = Sigmoid.activation(Z1)\n",
    "print(f\"Activation neuron outputs A1 shape: {A1.shape}\")"
   ]
  },
  {
   "cell_type": "markdown",
   "id": "c352a7b4",
   "metadata": {},
   "source": [
    "Here, 1st layer activations $\\Am^{[1]}$ corresponds to `A1`. `A1` is a matrix where the rows correspond to the neurons and the columns correspond to the activations for each data sample. Indexing the first row of `A1` provides us with the activation outputs for the 1st hidden neuron in 1st hidden layer."
   ]
  },
  {
   "cell_type": "code",
   "execution_count": 110,
   "id": "89b52eb7",
   "metadata": {},
   "outputs": [
    {
     "data": {
      "text/plain": [
       "array([0.71517776, 0.72358901, 0.67783773, 0.66324647, 0.66183405,\n",
       "       0.69434338, 0.76894703, 0.73931927, 0.61112947, 0.7515029 ,\n",
       "       0.65702857, 0.76110107, 0.69960446, 0.68128853, 0.72220724,\n",
       "       0.65752938, 0.77982528, 0.75276922, 0.67923015, 0.85585019,\n",
       "       0.71901916, 0.67998629, 0.65693431, 0.77207127, 0.69483264,\n",
       "       0.75657822, 0.72588084, 0.65937715, 0.64502014, 0.71243922,\n",
       "       0.62950159, 0.69003983, 0.7429036 , 0.67512556, 0.65543469,\n",
       "       0.71619978, 0.76006848, 0.70957496, 0.755644  , 0.69847915,\n",
       "       0.75729665, 0.61558538, 0.70767135, 0.71593792, 0.60102416,\n",
       "       0.74177175, 0.71875911, 0.77277315, 0.74986623, 0.67257418,\n",
       "       0.81525277, 0.70551289, 0.75205249, 0.7594363 , 0.7507759 ,\n",
       "       0.65385153, 0.79336275, 0.82407083, 0.75706455, 0.7373815 ,\n",
       "       0.82994266, 0.66364236, 0.80170781, 0.74222053, 0.79469854,\n",
       "       0.7128274 , 0.69981279, 0.70606206, 0.75093579, 0.69701122,\n",
       "       0.71744098, 0.76840789, 0.83183778, 0.76664276, 0.73292212,\n",
       "       0.76507554, 0.77856539, 0.73141633, 0.72472335, 0.69229376,\n",
       "       0.62545843, 0.72385421, 0.77602611, 0.7134376 , 0.77028782,\n",
       "       0.7453795 , 0.7625257 , 0.75118134, 0.74112963, 0.75711474,\n",
       "       0.77670406, 0.70763295, 0.68315991, 0.73845837, 0.77939627,\n",
       "       0.72793351, 0.74059155, 0.72876191, 0.73631364, 0.78036028])"
      ]
     },
     "execution_count": 110,
     "metadata": {},
     "output_type": "execute_result"
    }
   ],
   "source": [
    "A1[0]"
   ]
  },
  {
   "cell_type": "markdown",
   "id": "18f2027e",
   "metadata": {},
   "source": [
    "Indexing the second row of `A1` provides us with the activation outputs for the 2nd hidden neuron in 1st hidden layer."
   ]
  },
  {
   "cell_type": "code",
   "execution_count": 111,
   "id": "b5fb731b",
   "metadata": {},
   "outputs": [
    {
     "data": {
      "text/plain": [
       "array([0.69625841, 0.63936475, 0.68297154, 0.74708204, 0.67435558,\n",
       "       0.68674863, 0.63124357, 0.6374988 , 0.73467964, 0.75898921,\n",
       "       0.72652955, 0.73076475, 0.69027945, 0.65606051, 0.65532379,\n",
       "       0.73137557, 0.71365771, 0.72580437, 0.66191372, 0.665603  ,\n",
       "       0.76179568, 0.69457338, 0.72545673, 0.66477357, 0.75307313,\n",
       "       0.6482732 , 0.68425742, 0.65609017, 0.70666397, 0.76384954,\n",
       "       0.79684675, 0.73054729, 0.68846018, 0.75102837, 0.74381781,\n",
       "       0.7054114 , 0.67025239, 0.75845212, 0.69104543, 0.70640813,\n",
       "       0.77306999, 0.68501594, 0.72022916, 0.6883151 , 0.63911822,\n",
       "       0.748327  , 0.68706188, 0.72222475, 0.69471442, 0.68759803,\n",
       "       0.72464889, 0.71767723, 0.71740817, 0.70281594, 0.72113762,\n",
       "       0.77785623, 0.74729268, 0.7170522 , 0.69408713, 0.69854067,\n",
       "       0.68537904, 0.74938091, 0.72349654, 0.74363083, 0.75432256,\n",
       "       0.75536185, 0.74785926, 0.82013994, 0.71652571, 0.78855563,\n",
       "       0.74234856, 0.71616305, 0.70644019, 0.70928208, 0.71527575,\n",
       "       0.76081093, 0.76656745, 0.70599884, 0.68806606, 0.73716005,\n",
       "       0.71639432, 0.77912574, 0.74027385, 0.78520507, 0.75739096,\n",
       "       0.77492543, 0.70831946, 0.71490103, 0.75660181, 0.75967894,\n",
       "       0.73152765, 0.71826054, 0.762808  , 0.71573217, 0.73764653,\n",
       "       0.74825427, 0.78250145, 0.78001378, 0.77364485, 0.74297678])"
      ]
     },
     "execution_count": 111,
     "metadata": {},
     "output_type": "execute_result"
    }
   ],
   "source": [
    "A1[1]"
   ]
  },
  {
   "cell_type": "markdown",
   "id": "a7723e8f",
   "metadata": {},
   "source": [
    "### Output Layer\n",
    "\n",
    "The final step in computing the predictions for a neural network is to compute the output of the 2nd layer (i.e., output layer). Below is the image of the 1st hidden layer and the output layer. The 1st hidden layer will provide the inputs that the output layer will use to compute its SINGLE output per data sample.\n",
    "\n",
    "<img src=\"https://live.staticflickr.com/65535/51636813390_2a66fa526a.jpg\" width=\"300\" height=\"239\" alt=\"signle_nn_output_layer\">\n",
    "\n",
    "*Note, the red arrow in the picture points in the direction information is flowing. In this case, information is flowing forwards.*"
   ]
  },
  {
   "cell_type": "markdown",
   "id": "c860d212",
   "metadata": {},
   "source": [
    "#### Initializing weights\n",
    "\n",
    "Before we compute the output layer output, we need to initialize the weights and biases for the layer. \n",
    "\n",
    "The shape of the weights must always be (neurons, inputs). In the case of the output layer weights $\\wv^{[2]}$, it's would be (output neurons=1, hidden neuron inputs=2) or (1, 2) as we have 1 output neuron and 2 hidden neurons from the 1st hidden layer acting as inputs. We can initialize the weights to random numbers for now. We'll refer to the output layer's weights as `W2`.\n",
    "\n",
    "The shape of the bias is always (neurons, 1). In the case of the output layer bias $\\bv^{[2]}$, it's shape would be (output neurons=1, 1) or (1,1) as we have 1 output neuron. Recall that a bias must be added to each neuron, therefore the bias simply initialized as a vector of 1s. We'll refer to the output layer's bias as `b2`.\n",
    "\n",
    "Below is the code for initializing the weights and biases."
   ]
  },
  {
   "cell_type": "code",
   "execution_count": 112,
   "id": "cda5534f",
   "metadata": {},
   "outputs": [],
   "source": [
    "output_neurons = 1\n",
    "\n",
    "W2 = rng.uniform(low=-0.5, high=0.5, size=(output_neurons, hidden_neurons))\n",
    "b2 = np.ones([output_neurons, 1])"
   ]
  },
  {
   "cell_type": "code",
   "execution_count": 113,
   "id": "b77621c5",
   "metadata": {},
   "outputs": [
    {
     "data": {
      "text/plain": [
       "array([[-0.06241279,  0.391773  ]])"
      ]
     },
     "execution_count": 113,
     "metadata": {},
     "output_type": "execute_result"
    }
   ],
   "source": [
    "W2"
   ]
  },
  {
   "cell_type": "markdown",
   "id": "196f7f3a",
   "metadata": {},
   "source": [
    "Below are the shapes for the inputs $\\Am^{[1]}$ which corresponds to `A1`, weights $\\wv^{[2]}$ which corresponds to `W2`, and bias $\\bv^{[2]}$ which corresponds to `b2`."
   ]
  },
  {
   "cell_type": "code",
   "execution_count": 114,
   "id": "5f38f8a8",
   "metadata": {},
   "outputs": [
    {
     "name": "stdout",
     "output_type": "stream",
     "text": [
      "Input activations A1 shape: (2, 100)\n",
      "Output layer weights shape: (1, 2)\n",
      "Output layer bias shape: (1, 1)\n"
     ]
    }
   ],
   "source": [
    "print(f\"Input activations A1 shape: {A1.shape}\")\n",
    "print(f\"Output layer weights shape: {W2.shape}\")\n",
    "print(f\"Output layer bias shape: {b2.shape}\")"
   ]
  },
  {
   "cell_type": "markdown",
   "id": "979a375d",
   "metadata": {},
   "source": [
    "#### Computing $\\zv^{[2]}$\n",
    "\n",
    "Like always, we first compute have to compute are the linear combinations $\\zv^{[2]}$ for each neuron in the output layer using the outputs from the previous layer's neurons $\\Am^{[1]}$. To do so, we use the following equation:\n",
    "$$\n",
    "\\zv^{[2]} = \\wv^{[2]} \\Am^{[1]} + \\bv^{[2]}\n",
    "$$\n",
    "where $\\zv^{[2]}$ s a vector as there is only 1 output neuron and $z$ always has the shape (neurons, data samples).\n",
    "\n",
    "This equation turned into code is given below."
   ]
  },
  {
   "cell_type": "code",
   "execution_count": 115,
   "id": "ff55df2d",
   "metadata": {},
   "outputs": [
    {
     "name": "stdout",
     "output_type": "stream",
     "text": [
      "(1, 100) =  (1, 2) @ (2, 100) + (1, 1)\n",
      "Continuous neuron outputs Z2 shape: (1, 100)\n"
     ]
    }
   ],
   "source": [
    "Z2 = W2 @ A1 + b2\n",
    "print(f\"{Z2.shape} =  {W2.shape} @ {A1.shape} + {b2.shape}\")\n",
    "print(f\"Continuous neuron outputs Z2 shape: {Z2.shape}\")"
   ]
  },
  {
   "cell_type": "markdown",
   "id": "41df6f10",
   "metadata": {},
   "source": [
    "Here, $\\zv^{[2]}$ corresponds to `Z2`. `Z2` is a vector where the row correspond to the neuron and the columns correspond to the linear combination for each data sample. Indexing the first row of `Z2` provides us with the linear combinations for the only neuron in output layer."
   ]
  },
  {
   "cell_type": "code",
   "execution_count": 116,
   "id": "7e78bbb6",
   "metadata": {},
   "outputs": [
    {
     "data": {
      "text/plain": [
       "array([1.22813901, 1.20532464, 1.22526407, 1.25129151, 1.2228874 ,\n",
       "       1.22571366, 1.19931206, 1.20361184, 1.24968535, 1.25044809,\n",
       "       1.24362768, 1.23879146, 1.22676858, 1.21450568, 1.2116632 ,\n",
       "       1.24549496, 1.23092075, 1.23736813, 1.21692728, 1.20734929,\n",
       "       1.25357499, 1.22967526, 1.24321326, 1.21225322, 1.25166728,\n",
       "       1.20675578, 1.22276933, 1.21588485, 1.23659436, 1.25479031,\n",
       "       1.27289409, 1.2431414 , 1.22335342, 1.25209617, 1.25050023,\n",
       "       1.23166111, 1.2151488 , 1.25285451, 1.22357109, 1.2331576 ,\n",
       "       1.25560295, 1.22995035, 1.2379986 , 1.22497959, 1.21287767,\n",
       "       1.24687827, 1.22431253, 1.23471723, 1.22536911, 1.22740511,\n",
       "       1.23301567, 1.23713353, 1.23412346, 1.22794577, 1.23566423,\n",
       "       1.26393437, 1.24325312, 1.22948914, 1.22467409, 1.22764734,\n",
       "       1.21671397, 1.25216744, 1.23340959, 1.24501043, 1.24592386,\n",
       "       1.25144083, 1.2493138 , 1.27724138, 1.23384743, 1.26543239,\n",
       "       1.24605463, 1.23261487, 1.22484688, 1.23002926, 1.23448201,\n",
       "       1.25031468, 1.25172799, 1.23094155, 1.2243337 , 1.24559142,\n",
       "       1.24162735, 1.26006267, 1.24158535, 1.26309452, 1.24864952,\n",
       "       1.25707365, 1.22990909, 1.2331956 , 1.25016019, 1.25036805,\n",
       "       1.23811651, 1.23722974, 1.25620966, 1.23431529, 1.2403457 ,\n",
       "       1.24771346, 1.26034056, 1.26010428, 1.25713778, 1.24237378])"
      ]
     },
     "execution_count": 116,
     "metadata": {},
     "output_type": "execute_result"
    }
   ],
   "source": [
    "Z2[0]"
   ]
  },
  {
   "cell_type": "markdown",
   "id": "d7f38761",
   "metadata": {},
   "source": [
    "#### Computing $\\av^{[2]}$\n",
    "\n",
    "Next, we need to apply the activation function to the linear combination outputs $\\zv^{[2]}$ for each neuron. Doing so will give us the neuron outputs $\\av^{[2]}$ for the output layer.  For now, we are just going to use the identity/linear activation function.\n",
    "\n",
    "$$\n",
    "\\av^{[2]} = g(\\zv^{[2]})\n",
    "$$\n",
    "\n",
    "As we are performing regression no activation function is used for the output neurons. This is because we want the network to predict any continuous values between negative infinity and positive infinity. However, we can simply apply the identity or linear activation which returns the input as output giving off the guise that no activation function was applied! \n",
    "\n",
    "Below is the code for applying the linear activation function to `Z2`."
   ]
  },
  {
   "cell_type": "code",
   "execution_count": 117,
   "id": "0cf85cf1",
   "metadata": {},
   "outputs": [
    {
     "name": "stdout",
     "output_type": "stream",
     "text": [
      "Activation neuron outputs A2 shape: (1, 100)\n"
     ]
    }
   ],
   "source": [
    "A2 = Linear.activation(Z2)\n",
    "print(f\"Activation neuron outputs A2 shape: {A2.shape}\")"
   ]
  },
  {
   "cell_type": "markdown",
   "id": "9c5e8fff",
   "metadata": {},
   "source": [
    "Here, the output layer activation $\\av^{[2]}$ corresponds to `A1`. `A1` is a matrix where the rows correspond to the output neuron and the columns correspond to the activations for each data sample. Indexing the first row of `A1` provides us with the activation outputs for the only output neuron."
   ]
  },
  {
   "cell_type": "code",
   "execution_count": 118,
   "id": "8c0b6b51",
   "metadata": {
    "scrolled": true
   },
   "outputs": [
    {
     "data": {
      "text/plain": [
       "array([1.22813901, 1.20532464, 1.22526407, 1.25129151, 1.2228874 ,\n",
       "       1.22571366, 1.19931206, 1.20361184, 1.24968535, 1.25044809,\n",
       "       1.24362768, 1.23879146, 1.22676858, 1.21450568, 1.2116632 ,\n",
       "       1.24549496, 1.23092075, 1.23736813, 1.21692728, 1.20734929,\n",
       "       1.25357499, 1.22967526, 1.24321326, 1.21225322, 1.25166728,\n",
       "       1.20675578, 1.22276933, 1.21588485, 1.23659436, 1.25479031,\n",
       "       1.27289409, 1.2431414 , 1.22335342, 1.25209617, 1.25050023,\n",
       "       1.23166111, 1.2151488 , 1.25285451, 1.22357109, 1.2331576 ,\n",
       "       1.25560295, 1.22995035, 1.2379986 , 1.22497959, 1.21287767,\n",
       "       1.24687827, 1.22431253, 1.23471723, 1.22536911, 1.22740511,\n",
       "       1.23301567, 1.23713353, 1.23412346, 1.22794577, 1.23566423,\n",
       "       1.26393437, 1.24325312, 1.22948914, 1.22467409, 1.22764734,\n",
       "       1.21671397, 1.25216744, 1.23340959, 1.24501043, 1.24592386,\n",
       "       1.25144083, 1.2493138 , 1.27724138, 1.23384743, 1.26543239,\n",
       "       1.24605463, 1.23261487, 1.22484688, 1.23002926, 1.23448201,\n",
       "       1.25031468, 1.25172799, 1.23094155, 1.2243337 , 1.24559142,\n",
       "       1.24162735, 1.26006267, 1.24158535, 1.26309452, 1.24864952,\n",
       "       1.25707365, 1.22990909, 1.2331956 , 1.25016019, 1.25036805,\n",
       "       1.23811651, 1.23722974, 1.25620966, 1.23431529, 1.2403457 ,\n",
       "       1.24771346, 1.26034056, 1.26010428, 1.25713778, 1.24237378])"
      ]
     },
     "execution_count": 118,
     "metadata": {},
     "output_type": "execute_result"
    }
   ],
   "source": [
    "A2[0]"
   ]
  },
  {
   "cell_type": "markdown",
   "id": "d9bf467b",
   "metadata": {},
   "source": [
    "Also notice `A2` is equal to `Z2` as the linear function simply returns whatever the input is as the output."
   ]
  },
  {
   "cell_type": "code",
   "execution_count": 119,
   "id": "fa0b394f",
   "metadata": {},
   "outputs": [
    {
     "data": {
      "text/plain": [
       "True"
      ]
     },
     "execution_count": 119,
     "metadata": {},
     "output_type": "execute_result"
    }
   ],
   "source": [
    "np.all(A2 == Z2)"
   ]
  },
  {
   "cell_type": "markdown",
   "id": "ca386a5a",
   "metadata": {},
   "source": [
    "Finally, we can say that `A2` contains the predictions made by the neural network. We can therefore say $\\hat{\\yv} = \\av^{[2]\\top}$. Notice, we need to transpose the predictions to get them to match the shape of the ground truth `y` which has the shape (data samples, 1)."
   ]
  },
  {
   "cell_type": "code",
   "execution_count": 120,
   "id": "723c8f43",
   "metadata": {
    "scrolled": true
   },
   "outputs": [
    {
     "data": {
      "text/plain": [
       "array([[1.22813901],\n",
       "       [1.20532464],\n",
       "       [1.22526407],\n",
       "       [1.25129151],\n",
       "       [1.2228874 ],\n",
       "       [1.22571366],\n",
       "       [1.19931206],\n",
       "       [1.20361184],\n",
       "       [1.24968535],\n",
       "       [1.25044809],\n",
       "       [1.24362768],\n",
       "       [1.23879146],\n",
       "       [1.22676858],\n",
       "       [1.21450568],\n",
       "       [1.2116632 ],\n",
       "       [1.24549496],\n",
       "       [1.23092075],\n",
       "       [1.23736813],\n",
       "       [1.21692728],\n",
       "       [1.20734929],\n",
       "       [1.25357499],\n",
       "       [1.22967526],\n",
       "       [1.24321326],\n",
       "       [1.21225322],\n",
       "       [1.25166728],\n",
       "       [1.20675578],\n",
       "       [1.22276933],\n",
       "       [1.21588485],\n",
       "       [1.23659436],\n",
       "       [1.25479031],\n",
       "       [1.27289409],\n",
       "       [1.2431414 ],\n",
       "       [1.22335342],\n",
       "       [1.25209617],\n",
       "       [1.25050023],\n",
       "       [1.23166111],\n",
       "       [1.2151488 ],\n",
       "       [1.25285451],\n",
       "       [1.22357109],\n",
       "       [1.2331576 ],\n",
       "       [1.25560295],\n",
       "       [1.22995035],\n",
       "       [1.2379986 ],\n",
       "       [1.22497959],\n",
       "       [1.21287767],\n",
       "       [1.24687827],\n",
       "       [1.22431253],\n",
       "       [1.23471723],\n",
       "       [1.22536911],\n",
       "       [1.22740511],\n",
       "       [1.23301567],\n",
       "       [1.23713353],\n",
       "       [1.23412346],\n",
       "       [1.22794577],\n",
       "       [1.23566423],\n",
       "       [1.26393437],\n",
       "       [1.24325312],\n",
       "       [1.22948914],\n",
       "       [1.22467409],\n",
       "       [1.22764734],\n",
       "       [1.21671397],\n",
       "       [1.25216744],\n",
       "       [1.23340959],\n",
       "       [1.24501043],\n",
       "       [1.24592386],\n",
       "       [1.25144083],\n",
       "       [1.2493138 ],\n",
       "       [1.27724138],\n",
       "       [1.23384743],\n",
       "       [1.26543239],\n",
       "       [1.24605463],\n",
       "       [1.23261487],\n",
       "       [1.22484688],\n",
       "       [1.23002926],\n",
       "       [1.23448201],\n",
       "       [1.25031468],\n",
       "       [1.25172799],\n",
       "       [1.23094155],\n",
       "       [1.2243337 ],\n",
       "       [1.24559142],\n",
       "       [1.24162735],\n",
       "       [1.26006267],\n",
       "       [1.24158535],\n",
       "       [1.26309452],\n",
       "       [1.24864952],\n",
       "       [1.25707365],\n",
       "       [1.22990909],\n",
       "       [1.2331956 ],\n",
       "       [1.25016019],\n",
       "       [1.25036805],\n",
       "       [1.23811651],\n",
       "       [1.23722974],\n",
       "       [1.25620966],\n",
       "       [1.23431529],\n",
       "       [1.2403457 ],\n",
       "       [1.24771346],\n",
       "       [1.26034056],\n",
       "       [1.26010428],\n",
       "       [1.25713778],\n",
       "       [1.24237378]])"
      ]
     },
     "execution_count": 120,
     "metadata": {},
     "output_type": "execute_result"
    }
   ],
   "source": [
    "y_hat = A2.T\n",
    "y_hat"
   ]
  },
  {
   "cell_type": "markdown",
   "id": "9418b776",
   "metadata": {},
   "source": [
    "### Putting it all together\n",
    "\n",
    "We can put all the code together by putting the weight and bias initializations into a function called `init_weights()` and the forward pass code into a function called `forward()`.\n",
    "\n",
    "The `init_weights()` function will simply initialize the weights and biases for each layer for us and return them in a `weights` dictionary and a `bias` dictionary. \n",
    "\n",
    "**Inputs**: The `init_weights()` function takes in the following:\n",
    "- `n_input_features` number of input features\n",
    "- `hidden_neurons` the number of hidden neurons or units to use in the 1st hidden layer\n",
    "- `output_neurons` the number of output neurons to use in the output layer .\n",
    "\n",
    "**Outputs**: Returns the weights and biases for each layer which are formated as dictionaries."
   ]
  },
  {
   "cell_type": "code",
   "execution_count": 121,
   "id": "73515f35",
   "metadata": {},
   "outputs": [],
   "source": [
    "def init_weights(n_input_features, hidden_neurons, output_neurons, seed=0):\n",
    "    weights = {}\n",
    "    bias = {}\n",
    "    \n",
    "    rng = np.random.RandomState(seed)\n",
    "    weights['W1'] = rng.uniform(low=-0.5, high=0.5, size=(hidden_neurons, n_input_features))\n",
    "    weights['W2'] = rng.uniform(low=-0.5, high=0.5, size=(output_neurons, hidden_neurons))\n",
    "\n",
    "    \n",
    "    bias['b1'] = np.ones([hidden_neurons, 1])\n",
    "    bias['b2'] = np.ones([output_neurons, 1])\n",
    "    \n",
    "    return weights, bias"
   ]
  },
  {
   "cell_type": "markdown",
   "id": "a4dc79aa",
   "metadata": {},
   "source": [
    "\n",
    "The `forward()` function compute the outputs for each layer and then returns the predictions of the neural network. Notice, we store the transposed feature inputs `X.T` into `As['A0']`. For generalization purposes, feature inputs $\\Xm$ are often also denoted as $\\Am^{[0]}$.\n",
    "\n",
    "**Inputs**: The `forward()` function also takes in following:\n",
    "\n",
    "- `X` which corresponds to the input features\n",
    "- `weights` which corresponds to the `weights` dictionary\n",
    "- `bias` which corresponds to the `bias` dictionary\n",
    "\n",
    "**Outputs**: Returns predictions `y_hat` as a NumPy array along with the linear combinations for each layer $\\Zm$ as the dictionary `Zs` and activations for each layer $\\Am$ as the dictionary `As`. \n",
    "\n"
   ]
  },
  {
   "cell_type": "code",
   "execution_count": 122,
   "id": "b3c4cae6",
   "metadata": {},
   "outputs": [],
   "source": [
    "def forward(X, weights, bias):\n",
    "    Zs = {}\n",
    "    As = {}\n",
    "    \n",
    "    As['A0'] = X.T\n",
    "    # Forward pass\n",
    "    Zs['Z1'] = weights['W1'] @ As['A0'] + bias['b1']\n",
    "    As['A1'] = Sigmoid.activation(Zs['Z1'])\n",
    "    Zs['Z2'] = weights['W2'] @ As['A1'] + bias['b2']\n",
    "    As['A2'] = Linear.activation(Zs['Z2'])\n",
    "    \n",
    "    y_hat = As['A2'].T\n",
    "    return y_hat, Zs, As"
   ]
  },
  {
   "cell_type": "markdown",
   "id": "90455edf",
   "metadata": {},
   "source": [
    "Below we call the `init_weights()` function passing the number of features, 2 hidden neurons, and 1 output neuron to replicate the structure our neural network. Further, we call the `forward()` function passing the data, weights, and biases."
   ]
  },
  {
   "cell_type": "code",
   "execution_count": 123,
   "id": "3b86f3d3",
   "metadata": {},
   "outputs": [],
   "source": [
    "weights, bias = init_weights(\n",
    "    n_input_features=X.shape[1],\n",
    "    hidden_neurons=2,\n",
    "    output_neurons=1\n",
    ")\n",
    "\n",
    "y_hat, Zs, As = forward(X, weights=weights, bias=bias)"
   ]
  },
  {
   "cell_type": "markdown",
   "id": "3026c30c",
   "metadata": {},
   "source": [
    "As we are looking at a non-linear regression problem, we also define the mean squared error (MSE) loss function and sum of square errors (SSE) cost function below. Recall, we'll need a cost/loss function to assess the performance of the network and for gradient descent to update the weights (see next section)."
   ]
  },
  {
   "cell_type": "code",
   "execution_count": 124,
   "id": "f89d5c13",
   "metadata": {},
   "outputs": [],
   "source": [
    "def reshape_labels(y):\n",
    "    if len(y.shape) != 2:\n",
    "        y = y.reshape(-1, 1)\n",
    "    return y\n",
    "\n",
    "def sse(y, y_hat):\n",
    "    y = reshape_labels(y)\n",
    "    y_hat = reshape_labels(y_hat)\n",
    "    \n",
    "    sqrd_err = (y_hat - y)**2\n",
    "    \n",
    "    return np.sum(sqrd_err)\n",
    "\n",
    "def mse(y, y_hat):\n",
    "    y = reshape_labels(y)\n",
    "    y_hat = reshape_labels(y_hat)\n",
    "    \n",
    "    sqrd_err = (y_hat - y)**2\n",
    "    \n",
    "    return np.mean(sqrd_err)"
   ]
  },
  {
   "cell_type": "markdown",
   "id": "161da405",
   "metadata": {},
   "source": [
    "Below, you can see the output for the the SSE, MSE, `y_hat`, `weights`, `bias`, `Zs`, and `As`. "
   ]
  },
  {
   "cell_type": "code",
   "execution_count": 125,
   "id": "db769835",
   "metadata": {},
   "outputs": [
    {
     "data": {
      "text/plain": [
       "1183.8792691026304"
      ]
     },
     "execution_count": 125,
     "metadata": {},
     "output_type": "execute_result"
    }
   ],
   "source": [
    "sse(y, y_hat)"
   ]
  },
  {
   "cell_type": "code",
   "execution_count": 126,
   "id": "91a200c8",
   "metadata": {},
   "outputs": [
    {
     "data": {
      "text/plain": [
       "11.838792691026304"
      ]
     },
     "execution_count": 126,
     "metadata": {},
     "output_type": "execute_result"
    }
   ],
   "source": [
    "mse(y, y_hat)"
   ]
  },
  {
   "cell_type": "code",
   "execution_count": 127,
   "id": "47a6cae9",
   "metadata": {},
   "outputs": [
    {
     "data": {
      "text/plain": [
       "(100, 1)"
      ]
     },
     "execution_count": 127,
     "metadata": {},
     "output_type": "execute_result"
    }
   ],
   "source": [
    "y_hat.shape"
   ]
  },
  {
   "cell_type": "code",
   "execution_count": 128,
   "id": "1539904b",
   "metadata": {},
   "outputs": [
    {
     "data": {
      "text/plain": [
       "{'W1': array([[ 0.0488135 ,  0.21518937,  0.10276338],\n",
       "        [ 0.04488318, -0.0763452 ,  0.14589411]]),\n",
       " 'W2': array([[-0.06241279,  0.391773  ]])}"
      ]
     },
     "execution_count": 128,
     "metadata": {},
     "output_type": "execute_result"
    }
   ],
   "source": [
    "weights"
   ]
  },
  {
   "cell_type": "code",
   "execution_count": 129,
   "id": "137a9e7f",
   "metadata": {},
   "outputs": [
    {
     "data": {
      "text/plain": [
       "{'b1': array([[1.],\n",
       "        [1.]]),\n",
       " 'b2': array([[1.]])}"
      ]
     },
     "execution_count": 129,
     "metadata": {},
     "output_type": "execute_result"
    }
   ],
   "source": [
    "bias"
   ]
  },
  {
   "cell_type": "code",
   "execution_count": 130,
   "id": "ceda5dcc",
   "metadata": {
    "scrolled": true
   },
   "outputs": [
    {
     "data": {
      "text/plain": [
       "{'Z1': array([[0.92066586, 0.96233472, 0.74385258, 0.67779535, 0.67147808,\n",
       "         0.82050429, 1.20237508, 1.04243346, 0.45206239, 1.10664388,\n",
       "         0.65008037, 1.15872559, 0.84541504, 0.75969968, 0.95543678,\n",
       "         0.65230357, 1.2646485 , 1.11343648, 0.75023613, 1.78124221,\n",
       "         0.93960153, 0.7537088 , 0.64966211, 1.22004385, 0.82281065,\n",
       "         1.13401029, 0.97382298, 0.6605198 , 0.5972205 , 0.90726036,\n",
       "         0.53007925, 0.80030553, 1.0611152 , 0.73145994, 0.64301503,\n",
       "         0.92568861, 1.153055  , 0.89332062, 1.12894418, 0.84006617,\n",
       "         1.13791514, 0.47085194, 0.88410112, 0.92440066, 0.40973428,\n",
       "         1.0551977 , 0.93831469, 1.22403667, 1.09789898, 0.71985089,\n",
       "         1.48450964, 0.8736898 , 1.10958907, 1.14959155, 1.10275473,\n",
       "         0.63601252, 1.34531569, 1.54417505, 1.13665277, 1.03240297,\n",
       "         1.58522092, 0.6795684 , 1.39700254, 1.05754195, 1.35348344,\n",
       "         0.90915588, 0.84640653, 0.87633449, 1.10360944, 0.83310571,\n",
       "         0.93180324, 1.19934304, 1.59870832, 1.18945045, 1.00949913,\n",
       "         1.18071057, 1.25732565, 1.00182033, 0.9680134 , 0.81086481,\n",
       "         0.51278207, 0.96366106, 1.24265667, 0.91213865, 1.20993709,\n",
       "         1.07411927, 1.1665768 , 1.10492271, 1.05184809, 1.13692568,\n",
       "         1.24656141, 0.8839155 , 0.76833175, 1.03797127, 1.26215158,\n",
       "         0.98416321, 1.04904541, 0.98835007, 1.02689578, 1.26776712],\n",
       "        [0.82954355, 0.57260803, 0.76746166, 1.08310985, 0.7279515 ,\n",
       "         0.78496234, 0.53755546, 0.56452461, 1.01849654, 1.14714585,\n",
       "         0.97708559, 0.99850604, 0.80142605, 0.64578727, 0.64252398,\n",
       "         1.00161286, 0.91321555, 0.97343868, 0.6718341 , 0.6883645 ,\n",
       "         1.16254961, 0.82158825, 0.97169256, 0.68464027, 1.11507011,\n",
       "         0.61145747, 0.77340692, 0.64591871, 0.87923644, 1.17390171,\n",
       "         1.36670176, 0.99740108, 0.7929303 , 1.10410448, 1.06590727,\n",
       "         0.87320135, 0.70932682, 1.14421195, 0.80501133, 0.87800256,\n",
       "         1.22572792, 0.7769201 , 0.94559858, 0.79225399, 0.57153902,\n",
       "         1.08970943, 0.78641888, 0.95552405, 0.82225318, 0.78891367,\n",
       "         0.9676402 , 0.93296893, 0.9316414 , 0.86074336, 0.95011157,\n",
       "         1.2532169 , 1.08422496, 0.92988624, 0.81929717, 0.84035827,\n",
       "         0.77860343, 1.09531318, 0.96187242, 1.06492622, 1.12180062,\n",
       "         1.12741673, 1.0872274 , 1.5172959 , 0.9272927 , 1.316241  ,\n",
       "         1.05821123, 0.92550792, 0.87815715, 0.89189986, 0.92114697,\n",
       "         1.15713054, 1.18902955, 0.87602989, 0.79109342, 1.03125976,\n",
       "         0.92664589, 1.26057887, 1.04739239, 1.29626114, 1.13842833,\n",
       "         1.23633504, 0.88723605, 0.91930771, 1.13413834, 1.1509201 ,\n",
       "         1.00238707, 0.93584961, 1.16813642, 0.92338918, 1.03377205,\n",
       "         1.08932327, 1.28030358, 1.26574669, 1.22900768, 1.06149835]]),\n",
       " 'Z2': array([[1.22813901, 1.20532464, 1.22526407, 1.25129151, 1.2228874 ,\n",
       "         1.22571366, 1.19931206, 1.20361184, 1.24968535, 1.25044809,\n",
       "         1.24362768, 1.23879146, 1.22676858, 1.21450568, 1.2116632 ,\n",
       "         1.24549496, 1.23092075, 1.23736813, 1.21692728, 1.20734929,\n",
       "         1.25357499, 1.22967526, 1.24321326, 1.21225322, 1.25166728,\n",
       "         1.20675578, 1.22276933, 1.21588485, 1.23659436, 1.25479031,\n",
       "         1.27289409, 1.2431414 , 1.22335342, 1.25209617, 1.25050023,\n",
       "         1.23166111, 1.2151488 , 1.25285451, 1.22357109, 1.2331576 ,\n",
       "         1.25560295, 1.22995035, 1.2379986 , 1.22497959, 1.21287767,\n",
       "         1.24687827, 1.22431253, 1.23471723, 1.22536911, 1.22740511,\n",
       "         1.23301567, 1.23713353, 1.23412346, 1.22794577, 1.23566423,\n",
       "         1.26393437, 1.24325312, 1.22948914, 1.22467409, 1.22764734,\n",
       "         1.21671397, 1.25216744, 1.23340959, 1.24501043, 1.24592386,\n",
       "         1.25144083, 1.2493138 , 1.27724138, 1.23384743, 1.26543239,\n",
       "         1.24605463, 1.23261487, 1.22484688, 1.23002926, 1.23448201,\n",
       "         1.25031468, 1.25172799, 1.23094155, 1.2243337 , 1.24559142,\n",
       "         1.24162735, 1.26006267, 1.24158535, 1.26309452, 1.24864952,\n",
       "         1.25707365, 1.22990909, 1.2331956 , 1.25016019, 1.25036805,\n",
       "         1.23811651, 1.23722974, 1.25620966, 1.23431529, 1.2403457 ,\n",
       "         1.24771346, 1.26034056, 1.26010428, 1.25713778, 1.24237378]])}"
      ]
     },
     "execution_count": 130,
     "metadata": {},
     "output_type": "execute_result"
    }
   ],
   "source": [
    "Zs"
   ]
  },
  {
   "cell_type": "code",
   "execution_count": 131,
   "id": "e7f8eac5",
   "metadata": {
    "scrolled": true
   },
   "outputs": [
    {
     "data": {
      "text/plain": [
       "{'A0': array([[-2.9668673 , -2.87649303, -2.84748524, -2.79366887, -2.72863627,\n",
       "         -2.72129752, -2.65149833, -2.6186499 , -2.60969044, -2.55573209,\n",
       "         -2.55269614, -2.46904499, -2.41396732, -2.35265144, -2.30478564,\n",
       "         -2.28243452, -2.26777059, -2.16303684, -2.15445465, -2.06403288,\n",
       "         -2.06388816, -1.97685526, -1.9090502 , -1.89957294, -1.89087327,\n",
       "         -1.82410283, -1.80770591, -1.80195731, -1.72596534, -1.44732011,\n",
       "         -1.37190581, -1.31439294, -1.25262516, -1.24713211, -1.17454654,\n",
       "         -1.17231738, -1.13410607, -1.12973354, -1.04890007, -1.04801802,\n",
       "         -1.01461185, -0.85948004, -0.84920563, -0.80182894, -0.75275929,\n",
       "         -0.66793626, -0.43475389, -0.40832989, -0.35908504, -0.26358009,\n",
       "         -0.16671045, -0.03722642, -0.02893854,  0.08540663,  0.12040813,\n",
       "          0.13639698,  0.14853859,  0.2561765 ,  0.28026168,  0.36766319,\n",
       "          0.55448741,  0.58739987,  0.59195091,  0.60669007,  0.64526911,\n",
       "          0.67111737,  0.73978876,  0.82534483,  0.97513371,  1.10539816,\n",
       "          1.24114406,  1.24843547,  1.27946872,  1.37404301,  1.37763707,\n",
       "          1.39196365,  1.56471029,  1.62580308,  1.62762208,  1.63346862,\n",
       "          1.65079694,  1.71105577,  1.81318188,  1.85038409,  1.89276857,\n",
       "          1.97242505,  1.99465584,  2.17862056,  2.19705687,  2.32327646,\n",
       "          2.3689641 ,  2.45592241,  2.53124541,  2.63699365,  2.69331322,\n",
       "          2.70428584,  2.7937922 ,  2.81750777,  2.81945911,  2.92132162],\n",
       "        [ 0.34115197,  1.16316375, -0.16128571, -1.23695071, -0.33450124,\n",
       "          0.06980208,  2.13303337,  1.46564877, -1.91877122,  0.17457781,\n",
       "         -1.07774478,  0.75193303,  0.09965137,  0.18463386,  0.91786195,\n",
       "         -1.15099358,  1.35624003,  0.62962884,  0.06856297,  3.85273149,\n",
       "         -0.51827022, -0.32206152, -1.10633497,  1.76545424, -0.83921752,\n",
       "          1.6324113 ,  0.61167629, -0.21967189, -1.0708925 , -0.70766947,\n",
       "         -2.6197451 , -0.65160035,  0.8496021 , -1.1913035 , -1.42474819,\n",
       "          0.13074058,  1.40279431, -0.70205309,  1.05712223, -0.20812225,\n",
       "         -0.01349722, -1.32818605, -0.23413696,  0.31424733, -1.02438764,\n",
       "          0.01300189,  0.35778736,  0.97554513,  0.85243333, -0.47193187,\n",
       "          1.89679298, -0.29169375,  0.58831721,  0.91540212,  0.50498728,\n",
       "         -2.02514259,  1.05380205,  2.19045563,  0.96337613,  0.51503527,\n",
       "          2.72016917, -1.47852199,  1.53803657,  0.00511346,  0.95400176,\n",
       "         -0.71435142, -0.84679372, -1.86726519,  0.51326743, -1.51936997,\n",
       "         -0.48536355,  0.85639879,  2.46324211,  0.89959988,  0.15372511,\n",
       "          0.17136828,  0.36163603,  0.22745993,  0.32408397, -0.88951443,\n",
       "         -1.72491783, -0.92693047,  0.66213067, -1.22084365,  0.29698467,\n",
       "         -0.46947439,  0.7870846 ,  0.46210347, -0.29900735, -0.03471177,\n",
       "          0.75896922, -0.42064532, -1.46351495,  0.17318093,  0.71400049,\n",
       "         -0.46572975, -0.73036663, -0.91942423, -0.68002472,  0.64768854],\n",
       "        [-0.07710171, -1.43586215, -0.80227727,  0.78182287, -1.20029641,\n",
       "         -0.60021688, -1.2378155 , -1.4123037 , -0.07444592,  1.8861859 ,\n",
       "          0.06428002,  1.14282281, -0.56629773, -1.60748323, -1.26088395,\n",
       "          0.11092259,  0.81252582,  0.81286212, -1.55066343,  0.51504769,\n",
       "          1.47789404, -0.78325329, -0.18565898, -0.65332923,  0.93128012,\n",
       "         -1.24778318, -0.676922  , -1.98756891, -0.85715756,  1.26691115,\n",
       "          1.56464366,  0.04557184, -0.58936476,  0.47383292,  0.0675282 ,\n",
       "         -0.44004449, -0.90938745,  0.96864499, -0.46063877, -0.62269952,\n",
       "          1.85227818, -1.95967012, -0.23415337, -1.01283112, -3.24126734,\n",
       "          0.82718325, -1.1429703 ,  0.33126343, -0.66178646, -1.61271587,\n",
       "          0.82206016, -0.60063869, -0.1517851 , -0.50175704, -0.11473644,\n",
       "          0.63391902,  1.08305124,  0.58685709, -0.82068232, -0.93782504,\n",
       "         -0.26465683, -0.3011037 ,  0.36139561,  0.26105527,  1.13556564,\n",
       "          0.29307247, -0.07282891,  2.31465857, -0.5297602 ,  1.03246526,\n",
       "         -0.23681861, -0.44651495,  0.06023021, -0.6929096 , -0.88385744,\n",
       "          0.73846658,  1.0035329 , -1.23086432, -1.76304016, -0.75373616,\n",
       "         -1.91328024,  0.77463405,  0.11351735,  0.82254491,  0.52194157,\n",
       "          0.76743473, -0.97468167, -0.98150865,  0.08704707,  0.30154734,\n",
       "         -0.31526924, -1.41537074, -0.39210815, -1.24573878, -0.22346279,\n",
       "         -0.46341769,  0.67959775,  0.47359243,  0.34644821, -0.1382643 ]]),\n",
       " 'A1': array([[0.71517776, 0.72358901, 0.67783773, 0.66324647, 0.66183405,\n",
       "         0.69434338, 0.76894703, 0.73931927, 0.61112947, 0.7515029 ,\n",
       "         0.65702857, 0.76110107, 0.69960446, 0.68128853, 0.72220724,\n",
       "         0.65752938, 0.77982528, 0.75276922, 0.67923015, 0.85585019,\n",
       "         0.71901916, 0.67998629, 0.65693431, 0.77207127, 0.69483264,\n",
       "         0.75657822, 0.72588084, 0.65937715, 0.64502014, 0.71243922,\n",
       "         0.62950159, 0.69003983, 0.7429036 , 0.67512556, 0.65543469,\n",
       "         0.71619978, 0.76006848, 0.70957496, 0.755644  , 0.69847915,\n",
       "         0.75729665, 0.61558538, 0.70767135, 0.71593792, 0.60102416,\n",
       "         0.74177175, 0.71875911, 0.77277315, 0.74986623, 0.67257418,\n",
       "         0.81525277, 0.70551289, 0.75205249, 0.7594363 , 0.7507759 ,\n",
       "         0.65385153, 0.79336275, 0.82407083, 0.75706455, 0.7373815 ,\n",
       "         0.82994266, 0.66364236, 0.80170781, 0.74222053, 0.79469854,\n",
       "         0.7128274 , 0.69981279, 0.70606206, 0.75093579, 0.69701122,\n",
       "         0.71744098, 0.76840789, 0.83183778, 0.76664276, 0.73292212,\n",
       "         0.76507554, 0.77856539, 0.73141633, 0.72472335, 0.69229376,\n",
       "         0.62545843, 0.72385421, 0.77602611, 0.7134376 , 0.77028782,\n",
       "         0.7453795 , 0.7625257 , 0.75118134, 0.74112963, 0.75711474,\n",
       "         0.77670406, 0.70763295, 0.68315991, 0.73845837, 0.77939627,\n",
       "         0.72793351, 0.74059155, 0.72876191, 0.73631364, 0.78036028],\n",
       "        [0.69625841, 0.63936475, 0.68297154, 0.74708204, 0.67435558,\n",
       "         0.68674863, 0.63124357, 0.6374988 , 0.73467964, 0.75898921,\n",
       "         0.72652955, 0.73076475, 0.69027945, 0.65606051, 0.65532379,\n",
       "         0.73137557, 0.71365771, 0.72580437, 0.66191372, 0.665603  ,\n",
       "         0.76179568, 0.69457338, 0.72545673, 0.66477357, 0.75307313,\n",
       "         0.6482732 , 0.68425742, 0.65609017, 0.70666397, 0.76384954,\n",
       "         0.79684675, 0.73054729, 0.68846018, 0.75102837, 0.74381781,\n",
       "         0.7054114 , 0.67025239, 0.75845212, 0.69104543, 0.70640813,\n",
       "         0.77306999, 0.68501594, 0.72022916, 0.6883151 , 0.63911822,\n",
       "         0.748327  , 0.68706188, 0.72222475, 0.69471442, 0.68759803,\n",
       "         0.72464889, 0.71767723, 0.71740817, 0.70281594, 0.72113762,\n",
       "         0.77785623, 0.74729268, 0.7170522 , 0.69408713, 0.69854067,\n",
       "         0.68537904, 0.74938091, 0.72349654, 0.74363083, 0.75432256,\n",
       "         0.75536185, 0.74785926, 0.82013994, 0.71652571, 0.78855563,\n",
       "         0.74234856, 0.71616305, 0.70644019, 0.70928208, 0.71527575,\n",
       "         0.76081093, 0.76656745, 0.70599884, 0.68806606, 0.73716005,\n",
       "         0.71639432, 0.77912574, 0.74027385, 0.78520507, 0.75739096,\n",
       "         0.77492543, 0.70831946, 0.71490103, 0.75660181, 0.75967894,\n",
       "         0.73152765, 0.71826054, 0.762808  , 0.71573217, 0.73764653,\n",
       "         0.74825427, 0.78250145, 0.78001378, 0.77364485, 0.74297678]]),\n",
       " 'A2': array([[1.22813901, 1.20532464, 1.22526407, 1.25129151, 1.2228874 ,\n",
       "         1.22571366, 1.19931206, 1.20361184, 1.24968535, 1.25044809,\n",
       "         1.24362768, 1.23879146, 1.22676858, 1.21450568, 1.2116632 ,\n",
       "         1.24549496, 1.23092075, 1.23736813, 1.21692728, 1.20734929,\n",
       "         1.25357499, 1.22967526, 1.24321326, 1.21225322, 1.25166728,\n",
       "         1.20675578, 1.22276933, 1.21588485, 1.23659436, 1.25479031,\n",
       "         1.27289409, 1.2431414 , 1.22335342, 1.25209617, 1.25050023,\n",
       "         1.23166111, 1.2151488 , 1.25285451, 1.22357109, 1.2331576 ,\n",
       "         1.25560295, 1.22995035, 1.2379986 , 1.22497959, 1.21287767,\n",
       "         1.24687827, 1.22431253, 1.23471723, 1.22536911, 1.22740511,\n",
       "         1.23301567, 1.23713353, 1.23412346, 1.22794577, 1.23566423,\n",
       "         1.26393437, 1.24325312, 1.22948914, 1.22467409, 1.22764734,\n",
       "         1.21671397, 1.25216744, 1.23340959, 1.24501043, 1.24592386,\n",
       "         1.25144083, 1.2493138 , 1.27724138, 1.23384743, 1.26543239,\n",
       "         1.24605463, 1.23261487, 1.22484688, 1.23002926, 1.23448201,\n",
       "         1.25031468, 1.25172799, 1.23094155, 1.2243337 , 1.24559142,\n",
       "         1.24162735, 1.26006267, 1.24158535, 1.26309452, 1.24864952,\n",
       "         1.25707365, 1.22990909, 1.2331956 , 1.25016019, 1.25036805,\n",
       "         1.23811651, 1.23722974, 1.25620966, 1.23431529, 1.2403457 ,\n",
       "         1.24771346, 1.26034056, 1.26010428, 1.25713778, 1.24237378]])}"
      ]
     },
     "execution_count": 131,
     "metadata": {},
     "output_type": "execute_result"
    }
   ],
   "source": [
    "As"
   ]
  },
  {
   "cell_type": "markdown",
   "id": "d37b820a",
   "metadata": {},
   "source": [
    "#  Feedback: Learning Weights with Backpropagation\n",
    "\n",
    "<img src=\"https://machinelearningknowledge.ai/wp-content/uploads/2019/10/Backpropagation.gif\" width=500 height=500>\n",
    "\n",
    "Now the question is, given the predictions predictions made by the forward pass, how can we compute the gradients to then learn best weights and biases for the given data? Well, you might have seen this coming, the answer is gradient descent.\n",
    "\n",
    "However, remember that neural networks have multiple parameters where each layer has its own weights and biases. This means the hidden layer has its own weights and biases and the output layer has its own weights and biases. With a two layer neural network we then have four sets of weights and biases to learn. So, how do we update multiple weights and biases? Further, how do we update weights and biases whose values influence each other? Recall, later layers, like the output layer, are influenced by earlier layers. This means, changes in the weights in the hidden layer will influence the output in the output layer! \n",
    "\n",
    "What if we just tried updating each weight and bias one at a time while treating the other weights and biases as constants? Well, this is the general idea of *backpropagation*, a method for computing the gradients with respect to each set of weights and bias in the network.\n",
    "\n",
    "The goal of backpropogration is to compute the gradient of each layer's weights and biases one at a time. However, instead of starting at the 1st layer we start at the last layer and we backpropogate the error/loss (i.e., the parent or root equation) through the network. When we say \" backpropogate the error/loss through the network\" all this means is we compute the gradient starting with the loss function and then we continue to compute the gradient of subsequent equations until we reach our desired weight or bias parameter. In order to do this, we need to utilize and understand the concept of partial derivatives and the chain rule from calculus."
   ]
  },
  {
   "cell_type": "markdown",
   "id": "116ed444",
   "metadata": {},
   "source": [
    "\n",
    "\n",
    "## Partial derivatives with Chain Rule\n",
    "If you are unfamiliar with partial derivatives and the Chain Rule it is highly recommended you check out [this video](https://www.khanacademy.org/math/multivariable-calculus/multivariable-derivatives/multivariable-chain-rule/v/multivariable-chain-rule) or [post](https://www.khanacademy.org/math/multivariable-calculus/multivariable-derivatives/differentiating-vector-valued-functions/a/multivariable-chain-rule-simple-version). With this in mind, we will quickly review the concept by using a simple example.\n",
    "\n",
    "The goal of computing partial derivatives with the Chain Rule is to compute the derivatives for an equation with multiple variables and multiple equations or sub-functions. [Partial derivatives](https://www.khanacademy.org/math/multivariable-calculus/multivariable-derivatives/partial-derivative-and-gradient-articles/a/introduction-to-partial-derivatives) refer to computing the derivatives for two or more variables in an equation. The [Chain Rule](https://www.khanacademy.org/math/ap-calculus-ab/ab-differentiation-2-new/ab-3-1a/a/chain-rule-review) refers to computing the derivative of equations within equations such as $h'(x) = f'(g(x))g'(x)$. As we will soon see, neural networks are just a combination many equations with different variables nested inside one another (i.e., there are many variables and many small equations that make up neural networks).\n",
    "\n",
    "Let's look at a very basic example. Given the equations below, the goal will be to compute the derivative of the \"parent\" or root equation $f(x, y)$ with respect to the variable $s$. However, notice $s$ is nested in the variable $t$ and $t$ is nested in the variable $x$.\n",
    "$$\n",
    "f(x, y) = x^2 y \\\\\n",
    "x = t^3 \\\\\n",
    "t = \\log(s)\n",
    "$$\n",
    "If we wrote out the entire equation plugging in each variable we would get the following:\n",
    "$$\n",
    "f(x, y) = (\\log(s)^3)^2 y \n",
    "$$\n",
    "Notice, when framed this way, this is just a matter of computing the derivative of $s$. However, computing that derivative directly is a small nightmare. It would be much easier if we computed the derivative in smaller parts. This is the exact idea of the computing partial derivative with the Chain Rule."
   ]
  },
  {
   "cell_type": "markdown",
   "id": "7cc14e58",
   "metadata": {},
   "source": [
    "Let's solve this problem. Our goal is to then compute the derivative $s$ which can be written in partial derivative notation as $\\frac{\\partial f(x, y)}{\\partial s}$ where $\\partial$ indicates the partial derivative (i.e., the derivative for a single variable). Notation wise, the variable we want to find, $s$ in this case, goes in the denominator and the equation the variable is nested inside, $f(x, y)$ in this case, goes in the numerator.\n",
    "\n",
    "Now we can solve for $\\frac{\\partial f(x, y)}{\\partial s}$ by holding each variable constant and solving for the derivative of each equation one at a time. The expanded form is given as follows: \n",
    "\n",
    "$$\n",
    "\\frac{\\partial f(x, y)}{\\partial s} = \\frac{\\partial f(x, y)}{\\partial x}\\frac{\\partial x}{\\partial t}\\frac{\\partial t}{\\partial s}.\n",
    "$$\n",
    "\n",
    "Notice, the first derivative we most compute is  $\\frac{\\partial f(x, y)}{\\partial x}$. This says, treat all other variables as a constant (in this case we would treat $y$ as a constant as it is the only other variable) and solve for $x$. We solve for $x$ because $s$ is nested within $x$. The next derivative we have to compute is $\\frac{\\partial x}{\\partial t}$. Once again, we need to compute the derivative of $x$'s equation with respect to $t$ because $s$ is nested in $t$. Finally, $\\frac{\\partial t}{\\partial s}$ computes the derivative of $t$'s equation with respect to $s$. Now, all we do is multiply all the solutions together and that gives us the derivative of $\\frac{\\partial f(x, y)}{\\partial s}$.\n",
    "\n",
    "Computing the derivative for each partial equation looks as follows:\n",
    "$$\n",
    "\\frac{\\partial f(x, y)}{\\partial x} = 2x \\\\\n",
    "\\frac{\\partial x}{\\partial t} = 3t^2 \\\\\n",
    "\\frac{\\partial t}{\\partial s} = \\frac{1}{s}\n",
    "$$\n",
    "Combining all the partial derivatives gives us the following solution:\n",
    "\n",
    "$$\n",
    "\\begin{align}\n",
    "\\frac{\\partial f(x, y)}{\\partial s} &= \\frac{\\partial f(x, y)}{\\partial x}\\frac{\\partial x}{\\partial t}\\frac{\\partial t}{\\partial s} \\\\\n",
    "&=  (2x)(3t^2)(\\frac{1}{s})\n",
    "\\end{align}\n",
    "$$\n",
    "where we simply plugged the partial derivatives solutions back into the original expanded equation.\n",
    "\n",
    "Now, all we have to do is take this idea and apply it to computing the derivatives/gradients of our parameters for our neural network and then apply the gradient descent updates!"
   ]
  },
  {
   "cell_type": "markdown",
   "id": "467da4f7",
   "metadata": {},
   "source": [
    "## Backpropagation \n",
    "\n",
    "Recall, we can write out all the equations for our two layer neural network including the loss as follows:\n",
    "\n",
    "\n",
    "1. Hidden layer (layer 1) equations\n",
    "\n",
    "$$\n",
    "\\Zm^{[1]} = \\Wm^{[1]} \\Xm + \\bv^{[1]}\n",
    "$$\n",
    "\n",
    "$$\n",
    "\\Am^{[1]} = g(\\Zm^{[1]} )\n",
    "$$\n",
    "\n",
    "2. Output layer (layer 2) equations\n",
    "\n",
    "$$\n",
    "\\zv^{[2]} = \\wv^{[2]} \\Am^{[1]} + \\bv^{[2]}\n",
    "$$\n",
    "\n",
    "$$\n",
    "\\av^{[2]} = g(\\zv^{[2]})\n",
    "$$\n",
    "\n",
    "\n",
    "\n",
    "3. MSE loss\n",
    "$$\n",
    "\\hat{\\yv} = \\av^{[2]\\top}\n",
    "$$\n",
    "\n",
    "$$\n",
    "MSE = \\frac{1}{2m} (\\hat{\\yv} - {\\yv})^2 \n",
    "$$\n",
    " \n",
    "Thus, we need to compute the gradients or partial derivatives with respect to $\\Wm^{[1]}$, $\\bv^{[1]}$, $\\wv^{[2]}$, and $\\bv^{[2]}$ using all of the above equations. \n",
    "\n",
    "As this is a non-regression problem, we'll use the mean squared error (MSE) loss to measure the performance of the network and compute the gradients. Remember the negative gradient corresponds to how we need to change the weights such that the value of the loss decreases or is minimized! Thus, the MSE loss will be the \"parent\" equation we use to compute the gradients with. \n",
    "\n",
    "Remember we will need to compute the gradients with respect to each of the previously mentioned weights and biases. This means we need to solve for $\\frac{\\partial MSE}{\\partial  \\Wm^{[1]}}$, $\\frac{\\partial MSE}{\\partial \\bv^{[1]}}$,  $\\frac{\\partial MSE}{\\partial \\wv^{[2]}}$, and $\\frac{\\partial MSE}{\\partial \\bv^{[2]}}$."
   ]
  },
  {
   "cell_type": "markdown",
   "id": "66e37142",
   "metadata": {},
   "source": [
    "Before we start, we define `delta_mse` which is the derivative of the MSE the loss function $MSE = \\frac{1}{2m}(\\hat{y} - y)^2$ where we remove the $\\frac{1}{m}$ for convenience sake."
   ]
  },
  {
   "cell_type": "code",
   "execution_count": 132,
   "id": "917e3759",
   "metadata": {},
   "outputs": [],
   "source": [
    "def delta_mse(y, y_hat):\n",
    "    return y_hat - y"
   ]
  },
  {
   "cell_type": "markdown",
   "id": "a6e1cc36",
   "metadata": {},
   "source": [
    "### Output Layer\n",
    "\n",
    "To start computing gradients, we first compute the derivative of the parent function, the MSE loss, and then slowly compute the derivatives of each equation up until we reach the desired weight and bias parameter. The first parameters we will run into are the weights and biases for the output layer. Thus, we'll compute the partial derivatives $\\frac{\\partial MSE}{\\partial \\wv^{[2]}}$ and $\\frac{\\partial MSE}{\\partial \\bv^{[2]}}$ first as they are the first parameters we run into when propagating backwards through the network.\n",
    "\n",
    "To compute gradients for $\\frac{\\partial MSE}{\\partial \\wv^{[2]}}$ and $\\frac{\\partial MSE}{\\partial \\bv^{[2]}}$ we'll only need information regarding the loss, output layer, and hidden layer outputs $\\Am^{[1]}$. Visually, this looks like the below image where we are backpropagating through the network up to the end of the output layer.\n",
    "\n",
    "<img src=\"https://live.staticflickr.com/65535/51635129152_217a68e8d4.jpg\" width=\"300\" height=\"246\" alt=\"signle_nn_output_layers_back\">"
   ]
  },
  {
   "cell_type": "markdown",
   "id": "470f5812",
   "metadata": {},
   "source": [
    "#### Weight update\n",
    "\n",
    "To compute the gradient or partial derivative of the  weights $\\wv^{[2]}$ we need the following equations:\n",
    "\n",
    "$$\n",
    "\\begin{align}\n",
    "MSE &= \\frac{1}{2m} (\\av^{[2]\\top} - {\\yv})^2  \\\\ \n",
    " \\\\\n",
    "\\av^{[2]} &= g(\\zv^{[2]}) \\\\\n",
    "\\\\\n",
    "\\zv^{[2]} &= \\wv^{[2]} \\Am^{[1]} + \\bv^{[2]}\n",
    "\\end{align}\n",
    "$$\n",
    "where $\\hat{\\yv} = \\av^{[2]\\top}$.\n",
    "\n",
    "Thus, if we expand $\\frac{\\partial MSE}{\\partial \\wv^{[2]}}$ we get the following equation:\n",
    "$$\n",
    "\\frac{\\partial MSE}{\\partial \\wv^{[2]}} = \\frac{\\partial MSE}{\\partial \\av^{[2]}}\\frac{\\partial \\av^{[2]}}{\\partial \\zv^{[2]} }\\frac{\\partial \\zv^{[2]} }{\\partial  \\wv^{[2]} }\n",
    "$$\n",
    "\n",
    "If we compute the derivative of each of the partial derivatives we get the following:\n",
    "\n",
    "$$\n",
    "\\begin{align}\n",
    "\\frac{\\partial MSE}{\\partial \\av^{[2]}} &= (\\av^{[2]\\top} - {\\yv}) \\\\\n",
    "\\frac{\\partial \\av^{[2]}}{\\partial \\zv^{[2]} } &= \\mathbf{1} \\\\\n",
    "\\frac{\\partial \\zv^{[2]} }{\\partial  \\wv^{[2]} } &= \\Am^{[1]}\n",
    "\\end{align}\n",
    "$$\n",
    "\n",
    "Heres a short description of what we did to find each of the partial derivatives.\n",
    "1. Computing $\\frac{\\partial MSE}{\\partial \\av^{[2]}}$ simply requires taking the derivative of the MSE loss function. Recall, for regression problems, the output of the output layer is equal to the predictions such that $\\hat{\\yv} = \\av^{[2]\\top}$ is true.\n",
    "2. Computing $\\frac{\\partial \\av^{[2]}}{\\partial \\zv^{[2]} }$ gives us matrix or vector of 1s because we set $g$ as the identity/linear activation in the output neuron. Recall, this means the input is equal to the output. Thus, the derivative for each data sample is simply 1. The shape of $\\mathbf{1}$ is the same as $\\zv$.\n",
    "3. Computing $\\frac{\\partial \\zv^{[2]} }{\\partial  \\wv^{[2]} }$ simply requires taking derivative of the linear combination equation $\\wv^{[2]} \\Am^{[1]} + \\bv^{[2]}$ where $\\wv^{[2]}$ goes away and $\\bv^{[2]}$ goes to zero as it is treated as constant and does not depend on $\\wv^{[2]}$. This leaves only the activation outputs $\\Am^{[1]}$ from the hidden layer. "
   ]
  },
  {
   "cell_type": "markdown",
   "id": "b82bda59",
   "metadata": {},
   "source": [
    "Turning all this into code looks as follows. Below are the weights before updating the network."
   ]
  },
  {
   "cell_type": "code",
   "execution_count": 133,
   "id": "d5beeb1d",
   "metadata": {},
   "outputs": [
    {
     "name": "stdout",
     "output_type": "stream",
     "text": [
      "weights['W2'] shape: (1, 2)\n"
     ]
    },
    {
     "data": {
      "text/plain": [
       "array([[-0.06241279,  0.391773  ]])"
      ]
     },
     "execution_count": 133,
     "metadata": {},
     "output_type": "execute_result"
    }
   ],
   "source": [
    "print(f\"weights['W2'] shape: {weights['W2'].shape}\")\n",
    "weights['W2']"
   ]
  },
  {
   "cell_type": "markdown",
   "id": "6f515c31",
   "metadata": {},
   "source": [
    "Next, we set each of the partial derivatives equal to their derivative where\n",
    "- $\\frac{\\partial MSE}{\\partial \\av^{[2]}}$ corresponds to  `delta_mse_A2` \n",
    "- $\\frac{\\partial \\av^{[2]}}{\\partial \\zv^{[2]} }$ corresponds to `delta_A2_Z2`\n",
    "- $\\frac{\\partial \\zv^{[2]} }{\\partial \\wv^{[2]} }$ corresponds to `delta_Z2_W2` \n",
    "\n",
    "Below is a short description of what we did to find each of the partial derivatives.\n",
    "\n",
    "```Python\n",
    "delta_mse_A2 = delta_mse(y, y_hat)\n",
    "```\n",
    "To compute the partial derivative $\\frac{\\partial MSE}{\\partial \\av^{[2]}}$ we use the `delta_mse()` which is the derivative of the MSE where we remove the $\\frac{1}{m}$ for convenience sake. \n",
    "\n",
    "```Python\n",
    "delta_A2_Z2 = Linear.derivative(Zs['Z2'])\n",
    "```\n",
    "To compute the partial derivative $\\frac{\\partial \\av^{[2]}}{\\partial \\zv^{[2]} }$ we can call the static method `Linear.derivative()` and pass `Z2` which will return a NumPy array of ones whose shape is the same as `Z2` which is (neurons=1, data samples=100).\n",
    "\n",
    "```Python\n",
    "delta_Z2_W2 = As['A1']\n",
    "```\n",
    "Lastly, the partial derivative for $\\frac{\\partial \\zv^{[2]} }{\\partial  \\wv^{[2]} }$ is simply set to `As['A1']` which corresponds to activation outputs from the hidden layer $\\Am^{[1]}$.\n",
    "\n"
   ]
  },
  {
   "cell_type": "code",
   "execution_count": 134,
   "id": "df96ca4b",
   "metadata": {
    "scrolled": true
   },
   "outputs": [],
   "source": [
    "delta_mse_A2 = delta_mse(y, y_hat)\n",
    "delta_A2_Z2 = Linear.derivative(Zs['Z2'])\n",
    "delta_Z2_W2 = As['A1']"
   ]
  },
  {
   "cell_type": "markdown",
   "id": "03d35ebd",
   "metadata": {},
   "source": [
    "Below are the shapes of each of the partial derivatives, the labels, and predictions."
   ]
  },
  {
   "cell_type": "code",
   "execution_count": 135,
   "id": "e60764a5",
   "metadata": {},
   "outputs": [
    {
     "name": "stdout",
     "output_type": "stream",
     "text": [
      "y shape: (100, 1)\n",
      "y_hat shape: (100, 1)\n",
      "delta_mse_A2 shape: (100, 1)\n",
      "delta_A2_Z2 shape: (1, 100)\n",
      "delta_Z2_W2 shape: (2, 100)\n"
     ]
    }
   ],
   "source": [
    "print(f\"y shape: {y.shape}\")\n",
    "print(f\"y_hat shape: {y_hat.shape}\")\n",
    "print(f\"delta_mse_A2 shape: {delta_mse_A2.shape}\")\n",
    "print(f\"delta_A2_Z2 shape: {delta_A2_Z2.shape}\")\n",
    "print(f\"delta_Z2_W2 shape: {delta_Z2_W2.shape}\")"
   ]
  },
  {
   "cell_type": "markdown",
   "id": "ff535dbd",
   "metadata": {},
   "source": [
    "Sadly, we can't always compute $\\frac{\\partial MSE}{\\partial \\wv^{[2]}}$ by simply multiplying all the values for the expanded partial derivative equation. Since we are working with vectors and matrices we need to utilize the dot product and, in turn, rearrange some of the partial derivatives. \n",
    "\n",
    "$$\n",
    "\\begin{align}\n",
    "\\frac{\\partial MSE}{\\partial \\wv^{[2]}} &=  \\frac{\\partial MSE}{\\partial \\av^{[2]}} \\frac{\\partial \\av^{[2]}}{\\partial \\zv^{[2]} } \\frac{\\partial \\zv^{[2]}}{\\partial  \\wv^{[2]}}\\\\\n",
    "\\\\\n",
    "&=  \\big (\\frac{\\partial MSE}{\\partial \\av^{[2]}}^\\top * \\frac{\\partial \\av^{[2]}}{\\partial \\zv^{[2]} } \\big ) \\cdot \\frac{\\partial \\zv^{[2]}}{\\partial  \\wv^{[2]}}^\\top  \\\\\n",
    "\\\\\n",
    "&= \\big( (\\av^{[2]} - {\\yv})^\\top * \\mathbf{1} \\big )  \\cdot  \\Am^{[1]\\top}\n",
    "\\end{align}\n",
    "$$\n",
    "\n",
    "where $\\cdot$ represents the dot product and $*$ represents element-wise multiplication. Notice, that the equation inherently computes the sum of the gradients due to the addition of the dot product. This means we only need to divide by the number of data samples used to compute the gradient to get the average gradient.\n",
    "\n",
    "Further, we need to add some transposes to make the equation function properly. If we don't do this, shape mismatch errors will be thrown.\n",
    "\n",
    "- First, we have to transpose $\\frac{\\partial MSE}{\\partial \\av^{[2]}}^\\top$ (i.e., `delta_mse_A2`). This allows us to take the element-wise product $*$ with the partial derivative of the activation function $\\frac{\\partial \\av^{[2]}}{\\partial \\zv^{[2]} }$ (i.e., `delta_A2_Z2`) which has the shape (1, data samples=100).\n",
    "    - Original shape: (data samples=100, 1) \n",
    "    - Transposed shape: (1, data samples=100) \n",
    "\n",
    "- Second, we have to transpose $\\frac{\\partial \\zv^{[2]}}{\\partial  \\wv^{[2]}}^\\top$  (i.e., ``delta_Z2_W2``) because its shape ()to get the shape (data samples, neurons) so that when we take the dot product with $\\big( (\\av^{[2]} - {\\yv})^\\top * \\mathbf{1} \\big )$ which has shape (1 , data samples=100).\n",
    "    - Original shape: (input=2, data samples=100) \n",
    "    - Transposed shape: (data samples=100, input=2) "
   ]
  },
  {
   "cell_type": "code",
   "execution_count": 136,
   "id": "861ba991",
   "metadata": {},
   "outputs": [
    {
     "data": {
      "text/plain": [
       "array([[-1.96239859, -1.95823307]])"
      ]
     },
     "execution_count": 136,
     "metadata": {},
     "output_type": "execute_result"
    }
   ],
   "source": [
    "# Gradient\n",
    "delta_mse_W2 = (delta_mse_A2.T * delta_A2_Z2) @ delta_Z2_W2.T\n",
    "# Average Gradient\n",
    "W2_avg_grad = delta_mse_W2 / len(y)\n",
    "W2_avg_grad"
   ]
  },
  {
   "cell_type": "markdown",
   "id": "584f6f41",
   "metadata": {},
   "source": [
    "Below are the shapes of the variables used in the equation."
   ]
  },
  {
   "cell_type": "code",
   "execution_count": 137,
   "id": "70c93d7f",
   "metadata": {},
   "outputs": [
    {
     "name": "stdout",
     "output_type": "stream",
     "text": [
      "(1, 2) =  (1, 100) * (1, 100) @ (100, 2)\n",
      "(1, 2) = (1, 2) / 100\n"
     ]
    }
   ],
   "source": [
    "print(f\"{delta_mse_W2.shape} =  {delta_mse_A2.T.shape} * {delta_A2_Z2.shape} @ {delta_Z2_W2.T.shape}\")\n",
    "print(f\"{W2_avg_grad.shape} = {delta_mse_W2.shape} / {len(y)}\")"
   ]
  },
  {
   "cell_type": "markdown",
   "id": "0fa5da30",
   "metadata": {},
   "source": [
    "Additionally, we add the implementation to the `get_output_layer_weight_grads()` function."
   ]
  },
  {
   "cell_type": "code",
   "execution_count": 138,
   "id": "416cc48b",
   "metadata": {},
   "outputs": [],
   "source": [
    "def get_output_layer_weight_grads(y, y_hat, Zs, As):\n",
    "    delta_mse_A2 = delta_mse(y, y_hat)\n",
    "    delta_A2_Z2 = Linear.derivative(Zs['Z2'])\n",
    "    delta_Z2_W2 = As['A1']\n",
    "\n",
    "    delta_mse_W2 = (delta_mse_A2.T * delta_A2_Z2) @ delta_Z2_W2.T\n",
    "    W2_avg_grad = delta_mse_W2 / len(y)\n",
    "\n",
    "    return W2_avg_grad"
   ]
  },
  {
   "cell_type": "code",
   "execution_count": 139,
   "id": "7ae64eca",
   "metadata": {},
   "outputs": [
    {
     "data": {
      "text/plain": [
       "array([[-1.96239859, -1.95823307]])"
      ]
     },
     "execution_count": 139,
     "metadata": {},
     "output_type": "execute_result"
    }
   ],
   "source": [
    "W2_avg_grad = get_output_layer_weight_grads(y, y_hat, Zs, As)\n",
    "W2_avg_grad"
   ]
  },
  {
   "cell_type": "markdown",
   "id": "9640c137",
   "metadata": {},
   "source": [
    "Finally, to update the weights `W2` using the computed gradient we just need to apply the minimization gradient update equation which scales the gradient by the learning rate $\\alpha$ and then subtracts the scaled gradient. Below, we can see what the new values of the weights would be after the update.\n",
    "\n",
    "*Note, we typically do not want to update any parameters until we have computed the gradients for ALL weights and biases in the network. Updating the weights and biases too soon can cause issues with the gradients of weights and biases that haven't been updated yet. We are only displaying what the new weights would be, we are NOT actually updating them right now.*"
   ]
  },
  {
   "cell_type": "code",
   "execution_count": 140,
   "id": "bd81ce62",
   "metadata": {},
   "outputs": [
    {
     "data": {
      "text/plain": [
       "array([[0.13382707, 0.58759631]])"
      ]
     },
     "execution_count": 140,
     "metadata": {},
     "output_type": "execute_result"
    }
   ],
   "source": [
    "alpha = .1\n",
    "W2 = weights['W2'] - alpha * W2_avg_grad\n",
    "W2"
   ]
  },
  {
   "cell_type": "markdown",
   "id": "8998b83e",
   "metadata": {},
   "source": [
    "#### Bias update\n",
    "To compute the gradient or partial derivative of the biases $\\bv^{[2]}$ we need same equations as we used in the weight computation.\n",
    "\n",
    "$$\n",
    "\\begin{align}\n",
    "MSE &= \\frac{1}{2m} (\\av^{[2]} - {\\yv})^2  \\\\ \n",
    " \\\\\n",
    "\\av^{[2]} &= g(\\zv^{[2]}) \\\\\n",
    "\\\\\n",
    "\\zv^{[2]} &= \\wv^{[2]} \\Am^{[1]} + \\bv^{[2]}\n",
    "\\end{align}\n",
    "$$\n",
    "where $\\hat{\\yv} = \\av^{[2]\\top}$.\n",
    "\n",
    "If we expand $\\frac{\\partial MSE}{\\partial \\bv^{[2]}}$ we get the following equation:\n",
    "$$\n",
    "\\frac{\\partial MSE}{\\partial \\bv^{[2]}} = \\frac{\\partial MSE}{\\partial \\av^{[2]}}\\frac{\\partial \\av^{[2]}}{\\partial \\zv^{[2]} }\\frac{\\partial \\zv^{[2]} }{\\partial  \\bv^{[2]} }\n",
    "$$\n",
    "Notice, the only new partial derivative is $\\frac{\\partial \\zv^{[2]} }{\\partial \\bv^{[2]}}$, the rest we have already seen before. If we compute the partial derivatives we get the following:\n",
    "\n",
    "$$\n",
    "\\begin{align}\n",
    "\\frac{\\partial MSE}{\\partial \\av^{[2]}} &= (\\av^{[2]} - {\\yv}) \\\\\n",
    "\\frac{\\partial \\av^{[2]}}{\\partial \\zv^{[2]} } &= \\mathbf{1} \\\\\n",
    "\\frac{\\partial \\zv^{[2]} }{\\partial  \\bv^{[2]} } &= \\mathbf{1}\n",
    "\\end{align}\n",
    "$$\n",
    "\n",
    "\n",
    "Heres a short description of what we did to find each of the NEW partial derivatives.\n",
    "1. Computing $\\frac{\\partial \\zv^{[2]} }{\\partial \\bv^{[2]} }$ simply requires taking derivative of the linear combination equation $\\wv^{[2]} \\Am^{[1]} + \\bv^{[2]}$. Here $\\wv^{[2]}$ and $\\Am^{[1]}$ act constants and go to zero as they do not depend on $\\bv^{[2]}$. Meanwhile, the derivative of $\\bv^{[2]}$ is simply an vector of ones of shape (1, data samples). "
   ]
  },
  {
   "cell_type": "markdown",
   "id": "9a7a9515",
   "metadata": {},
   "source": [
    "Turning all this into code looks as follows. Below are the biases before updating the network."
   ]
  },
  {
   "cell_type": "code",
   "execution_count": 141,
   "id": "09e178ef",
   "metadata": {},
   "outputs": [
    {
     "name": "stdout",
     "output_type": "stream",
     "text": [
      "bias['b2'] shape: (1, 1)\n"
     ]
    },
    {
     "data": {
      "text/plain": [
       "array([[1.]])"
      ]
     },
     "execution_count": 141,
     "metadata": {},
     "output_type": "execute_result"
    }
   ],
   "source": [
    "print(f\"bias['b2'] shape: {bias['b2'].shape}\")\n",
    "bias['b2']"
   ]
  },
  {
   "cell_type": "markdown",
   "id": "db5b7e86",
   "metadata": {},
   "source": [
    "Next, we set each of the partial derivatives equal to their derivative where\n",
    "- $\\frac{\\partial MSE}{\\partial \\av^{[2]}}$ corresponds to  `delta_mse_A2` \n",
    "- $\\frac{\\partial \\av^{[2]}}{\\partial \\zv^{[2]} }$ corresponds to `delta_A2_Z2`\n",
    "- $\\frac{\\partial \\zv^{[2]} }{\\partial \\bv^{[2]} }$ corresponds to `delta_Z2_b2` \n",
    "\n",
    "Below is a short description of what we did to find each of the NEW partial derivatives.\n",
    "\n",
    "```Python\n",
    "delta_Z2_b2 = np.ones([1, len(y)])\n",
    "```\n",
    "We set `delta_Z2_b2` equal to an array of ones with a shape of (1, data samples=100). We do this because the derivative of $\\frac{\\partial \\zv^{[2]} }{\\partial \\bv^{[2]} }$ is one and we have to set the partial derivative for each data sample.\n",
    "\n"
   ]
  },
  {
   "cell_type": "code",
   "execution_count": 142,
   "id": "dc49317a",
   "metadata": {},
   "outputs": [],
   "source": [
    "delta_mse_A2 = delta_mse(y, y_hat)\n",
    "delta_A2_Z2 = Linear.derivative(Zs['Z2'])\n",
    "delta_Z2_b2 = np.ones([1, len(y)])"
   ]
  },
  {
   "cell_type": "markdown",
   "id": "877e5213",
   "metadata": {},
   "source": [
    "Below are the shapes of each of the partial derivatives, the labels, and predictions."
   ]
  },
  {
   "cell_type": "code",
   "execution_count": 143,
   "id": "1a109151",
   "metadata": {},
   "outputs": [
    {
     "name": "stdout",
     "output_type": "stream",
     "text": [
      "y shape: (100, 1)\n",
      "y_hat shape: (100, 1)\n",
      "delta_mse_A2 shape: (100, 1)\n",
      "delta_A2_Z2 shape: (1, 100)\n",
      "delta_Z2_b2 shape: (1, 100)\n"
     ]
    }
   ],
   "source": [
    "print(f\"y shape: {y.shape}\")\n",
    "print(f\"y_hat shape: {y_hat.shape}\")\n",
    "print(f\"delta_mse_A2 shape: {delta_mse_A2.shape}\")\n",
    "print(f\"delta_A2_Z2 shape: {delta_A2_Z2.shape}\")\n",
    "print(f\"delta_Z2_b2 shape: {delta_Z2_b2.shape}\")"
   ]
  },
  {
   "cell_type": "markdown",
   "id": "a990104c",
   "metadata": {},
   "source": [
    "Using the same equation format as the output layer weight update, we can compute $\\frac{\\partial MSE}{\\partial \\bv^{[2]}}$ by using the dot product and element-wise multiplication.\n",
    "\n",
    "$$\n",
    "\\begin{align}\n",
    "\\frac{\\partial MSE}{\\partial \\bv^{[2]}} &=  (\\frac{\\partial MSE}{\\partial \\av^{[2]}} * \\frac{\\partial \\av^{[2]}}{\\partial \\zv^{[2]} }) \\cdot \\frac{\\partial \\zv^{[2]}}{\\partial  \\bv^{[2]}}^\\top \\\\\n",
    "&=  \\big ( (\\av^{[2]} - {\\yv})^\\top * \\mathbf{1} \\big ) \\cdot \\mathbf{1}^\\top\n",
    "\\end{align}\n",
    "$$\n",
    "\n",
    "where $\\cdot$ represents the dot product and $*$ represents element-wise multiplication. Notice, that the equation inherently computes the sum of the gradients due to the addition of the dot product. This means we only need to divide by the number of data samples used to compute the gradient to get the average gradient.\n",
    "\n",
    "\n",
    "Further, we need to add some transposes to make the equation function properly. If we don't do this, shape mismatch errors will be thrown.\n",
    "\n",
    "- First, we have to transpose $\\frac{\\partial MSE}{\\partial \\av^{[2]}}^\\top$ (i.e., `delta_mse_A2`). This allows us to take the element-wise product $*$ with the partial derivative of the activation function $\\frac{\\partial \\av^{[2]}}{\\partial \\zv^{[2]} }$ (i.e., `delta_A2_Z2`) which has the shape (1, data samples=100).\n",
    "    - Original shape: (data samples=100, 1) \n",
    "    - Transposed shape: (1, data samples=100)\n",
    "\n",
    "- Second, we have to transpose $\\frac{\\partial \\zv^{[2]}}{\\partial  \\bv^{[2]}}^\\top$ (i.e., `delta_Z2_b2`). This allows us to take the dot product with $\\big( (\\av^{[2]} - {\\yv})^\\top * \\mathbf{1} \\big )$ which has shape (1 , data samples=100)\n",
    "    - Original shape: (1, data samples=100)\n",
    "    - Transposed shape: (data samples=100, 1)\n"
   ]
  },
  {
   "cell_type": "code",
   "execution_count": 144,
   "id": "e11c0b1f",
   "metadata": {},
   "outputs": [
    {
     "data": {
      "text/plain": [
       "array([[-2.67470392]])"
      ]
     },
     "execution_count": 144,
     "metadata": {},
     "output_type": "execute_result"
    }
   ],
   "source": [
    "# Gradient\n",
    "delta_mse_b2 = (delta_mse_A2.T * delta_A2_Z2) @ delta_Z2_b2.T\n",
    "# Average Gradient\n",
    "b2_avg_grad = delta_mse_b2 / len(y)\n",
    "\n",
    "b2_avg_grad"
   ]
  },
  {
   "cell_type": "markdown",
   "id": "9af84bd4",
   "metadata": {},
   "source": [
    "Below are the shapes of the variables used in the equation."
   ]
  },
  {
   "cell_type": "code",
   "execution_count": 145,
   "id": "86c474f9",
   "metadata": {},
   "outputs": [
    {
     "name": "stdout",
     "output_type": "stream",
     "text": [
      "(1, 1) =  ((1, 100) * (1, 100)) @ (100, 1)\n",
      "(1, 1) = (1, 1) / 100\n"
     ]
    }
   ],
   "source": [
    "print(f\"{delta_mse_b2.shape} =  ({delta_mse_A2.T.shape} * {delta_A2_Z2.shape}) @ {delta_Z2_b2.T.shape}\")\n",
    "print(f\"{b2_avg_grad.shape} = {delta_mse_b2.shape} / {len(y)}\")"
   ]
  },
  {
   "cell_type": "markdown",
   "id": "8060eafb",
   "metadata": {},
   "source": [
    "Additionally, we add the implementation to the `get_output_layer_bias_grads()` function."
   ]
  },
  {
   "cell_type": "code",
   "execution_count": 146,
   "id": "fcff2daf",
   "metadata": {},
   "outputs": [],
   "source": [
    "def get_output_layer_bias_grads(y, y_hat, Zs):\n",
    "    delta_mse_A2 = delta_mse(y, y_hat)\n",
    "    delta_A2_Z2 = Linear.derivative(Zs['Z2'])\n",
    "    delta_Z2_b2 = np.ones([1, len(y)])\n",
    "    \n",
    "    delta_mse_b2 = (delta_mse_A2.T * delta_A2_Z2) @ delta_Z2_b2.T\n",
    "    b2_avg_grad = delta_mse_b2 / len(y)\n",
    "    \n",
    "    return b2_avg_grad"
   ]
  },
  {
   "cell_type": "code",
   "execution_count": 147,
   "id": "9740f9ef",
   "metadata": {},
   "outputs": [
    {
     "data": {
      "text/plain": [
       "array([[-2.67470392]])"
      ]
     },
     "execution_count": 147,
     "metadata": {},
     "output_type": "execute_result"
    }
   ],
   "source": [
    "b2_avg_grad = get_output_layer_bias_grads(y, y_hat, Zs)\n",
    "b2_avg_grad"
   ]
  },
  {
   "cell_type": "markdown",
   "id": "fccb802a",
   "metadata": {},
   "source": [
    "Finally, below is an example of what the updated bias values `b2` would be if the gradient update equation was applied."
   ]
  },
  {
   "cell_type": "code",
   "execution_count": 148,
   "id": "a7bc49af",
   "metadata": {},
   "outputs": [
    {
     "data": {
      "text/plain": [
       "array([[1.26747039]])"
      ]
     },
     "execution_count": 148,
     "metadata": {},
     "output_type": "execute_result"
    }
   ],
   "source": [
    "alpha = .1\n",
    "b2 = bias['b2'] - alpha * b2_avg_grad\n",
    "b2"
   ]
  },
  {
   "cell_type": "markdown",
   "id": "ab20d621",
   "metadata": {},
   "source": [
    "### Hidden Layer\n",
    "Now, it's time to propagate the error further into the network. Therefore, we need to now compute the gradients for the hidden layer weights and biases. Thus, we need to compute the partial derivatives $\\frac{\\partial MSE}{\\partial \\Wm^{[1]}}$ and $\\frac{\\partial MSE}{\\partial \\bv^{[1]}}$.\n",
    "\n",
    "\n",
    "As we'll see, to compute gradients for $\\frac{\\partial MSE}{\\partial \\Wm^{[1]}}$ and $\\frac{\\partial MSE}{\\partial \\bv^{[1]}}$ we'll need to first compute the derivatives of the loss and the output layer again before we can compute the gradients for the hidden layer's weights and biases. \n",
    "\n",
    "Visually, this looks like the below image where we backpropagating through the ENTIRE network to reach the hidden layer.\n",
    "\n",
    "<img src=\"https://live.staticflickr.com/65535/51640582927_8ec720874d.jpg\" width=\"400\" height=\"389\" alt=\"signle_nn_hidden_layers_back\">\n",
    "\n"
   ]
  },
  {
   "cell_type": "markdown",
   "id": "f7821b8f",
   "metadata": {},
   "source": [
    "#### Weight update\n",
    "\n",
    "To compute the gradient or partial derivative of the  weights $\\Wm^{[1]}$ we need the following equations:\n",
    "\n",
    "$$\n",
    "MSE = \\frac{1}{2m} (\\av^{[2]} - {\\yv})^2  \\\\ \n",
    "\\av^{[2]} = g(\\zv^{[2]}) \\\\\n",
    "\\zv^{[2]} = \\wv^{[2]} \\Am^{[1]} + \\bv^{[2]}\\\\\n",
    "\\Am^{[1]} = g(\\Zm^{[1]}) \\\\\n",
    "\\Zm^{[1]} = \\Wm^{[1]} \\Xm + \\bv^{[1]}\n",
    "$$\n",
    "where $\\hat{\\yv} = \\av^{[2]\\top}$.\n",
    "\n",
    "Thus, if we expand $\\frac{\\partial MSE}{\\partial \\Wm^{[1]}}$ we get the following equation:\n",
    "$$\n",
    "\\frac{\\partial MSE}{\\partial \\Wm^{[1]}} = \\frac{\\partial MSE}{\\partial \\av^{[2]}}\\frac{\\partial \\av^{[2]}}{\\partial \\zv^{[2]} }\\frac{\\partial \\zv^{[2]} }{\\partial  \\Am^{[1]} } \\frac{\\partial \\Am^{[1]}}{\\partial \\Zm^{[1]} } \\frac{\\partial \\Zm^{[1]}}{\\partial \\Wm^{[1]} }\n",
    "$$\n",
    "\n",
    "Notice, in order to compute $\\frac{\\partial MSE}{\\partial \\Wm^{[1]}}$ we have to recompute ALL the partial derivatives up to $\\frac{\\partial \\Zm^{[1]}}{\\partial \\Wm^{[1]} }$. This is where we can start to see how backpropagation got its name! If we compute the partial derivatives we get the following:\n",
    "\n",
    "\n",
    "$$\n",
    "\\frac{\\partial MSE}{\\partial \\av^{[2]}} = (\\av^{[2]} - {\\yv}) \\\\\n",
    "\\frac{\\partial \\av^{[2]}}{\\partial \\zv^{[2]} } = \\mathbf{1} \\\\\n",
    "\\frac{\\partial \\zv^{[2]} }{\\partial  \\Am^{[1]} }  = \\wv^{[2]} \\\\\n",
    "\\frac{\\partial \\Am^{[1]}}{\\partial \\Zm^{[1]} } = g( \\Zm^{[1]}) (\\mathbf{1} - g( \\Zm^{[1]})) \\\\\n",
    " \\frac{\\partial \\Zm^{[1]}}{\\partial \\Wm^{[1]} } = \\Xm\n",
    "$$\n",
    "\n",
    "Heres a short description of what we did to find each of the NEW partial derivatives.\n",
    "1. Computing $\\frac{\\partial \\zv^{[2]} }{\\partial \\Am^{[1]}}$ simply requires taking derivative of the linear combination equation $\\wv^{[2]} \\Am^{[1]} + \\bv^{[2]}$ where $\\Am^{[1]}$ goes away and $\\bv^{[2]}$ goes to zero as it is treated as constant and does not depend on $\\Am^{[1]}$. This simply leaves the output layer weights $\\wv^{[2]}$.\n",
    "1. Computing $\\frac{\\partial \\Am^{[1]}}{\\partial \\Zm^{[1]}}$ requires computing the derivative of the activation function. Remember, we used the sigmoid activation function for $g$ in the hidden neurons, thus we are left with the derivative of the sigmoid activation function.\n",
    "1. Computing $ \\frac{\\partial \\Zm^{[1]}}{\\partial \\Wm^{[1]}}$ simply requires taking derivative of the linear combination equation $\\Wm^{[1]} \\Xm + \\bv^{[1]}$ where $\\Wm^{[1]}$ goes away and $\\bv^{[1]}$ goes to zero as it is treated as constant and does not depend on $\\Wm^{[1]}$. This simply leaves the input features $\\Xm$."
   ]
  },
  {
   "cell_type": "markdown",
   "id": "afb23e39",
   "metadata": {},
   "source": [
    "Turning all this into code looks as follows. Below are the weights before updating the network."
   ]
  },
  {
   "cell_type": "code",
   "execution_count": 149,
   "id": "28d0726b",
   "metadata": {},
   "outputs": [
    {
     "name": "stdout",
     "output_type": "stream",
     "text": [
      "weights['W1'] shape: (2, 3)\n"
     ]
    },
    {
     "data": {
      "text/plain": [
       "array([[ 0.0488135 ,  0.21518937,  0.10276338],\n",
       "       [ 0.04488318, -0.0763452 ,  0.14589411]])"
      ]
     },
     "execution_count": 149,
     "metadata": {},
     "output_type": "execute_result"
    }
   ],
   "source": [
    "print(f\"weights['W1'] shape: {weights['W1'].shape}\")\n",
    "weights['W1']"
   ]
  },
  {
   "cell_type": "markdown",
   "id": "2c4aeadd",
   "metadata": {},
   "source": [
    "Next, we set each of the partial derivatives equal to their derivative where\n",
    "- $\\frac{\\partial MSE}{\\partial \\av^{[2]}}$ corresponds to  `delta_mse_A2` \n",
    "- $\\frac{\\partial \\av^{[2]}}{\\partial \\zv^{[2]} }$ corresponds to `delta_A2_Z2`\n",
    "- $\\frac{\\partial \\zv^{[2]} }{\\partial \\Am^{[1]} }$ corresponds to `delta_Z2_A1` \n",
    "- $\\frac{\\partial \\Am^{[1]}}{\\partial \\Zm^{[1]} }$ corresponds to `delta_A1_Z1`\n",
    "- $ \\frac{\\partial \\Zm^{[1]}}{\\partial \\Wm^{[1]} }$ corresponds to `delta_Z1_W1`\n",
    "\n",
    "Below is a short description of what we did to find each of the NEW partial derivatives.\n",
    "\n",
    "```Python\n",
    "delta_Z2_A1 = weights['W2']\n",
    "```\n",
    "To get partial derivative for $\\frac{\\partial \\zv^{[2]} }{\\partial \\Am^{[1]} }$ is equal to the weights for the output layer which corresponds to `weights['W2']`.\n",
    "\n",
    "```Python\n",
    "delta_A1_Z1 = Sigmoid.derivative(Zs['Z1'])\n",
    "```\n",
    "The partial derivative for $\\frac{\\partial \\Am^{[1]}}{\\partial \\Zm^{[1]} }$  is equal to he derivative of the sigmoid activation function which is accessed by calling the static method `Sigmoid.derivative()` and passing `Z1`.\n",
    "\n",
    "```Python\n",
    "delta_Z1_W1 = X.T\n",
    "```\n",
    "The partial derivative for $\\frac{\\partial \\Zm^{[1]}}{\\partial \\Wm^{[1]} }$ is equal to the input features which corresponds to `X.T`. Remember we assume neural networks take inputs with shape (features=3, data samples=100) so we have to transpose `X` which has the shape (data samples=100, features=3)."
   ]
  },
  {
   "cell_type": "code",
   "execution_count": 150,
   "id": "8154c8cc",
   "metadata": {},
   "outputs": [],
   "source": [
    "delta_mse_A2 = delta_mse(y, y_hat)\n",
    "delta_A2_Z2 = Linear.derivative(Zs['Z2'])\n",
    "delta_Z2_A1 = weights['W2']\n",
    "delta_A1_Z1 = Sigmoid.derivative(Zs['Z1'])\n",
    "delta_Z1_W1 = X.T"
   ]
  },
  {
   "cell_type": "markdown",
   "id": "5f0dc12d",
   "metadata": {},
   "source": [
    "Below are the shapes of each of the partial derivatives, the labels, and predictions."
   ]
  },
  {
   "cell_type": "code",
   "execution_count": 151,
   "id": "f614b667",
   "metadata": {},
   "outputs": [
    {
     "name": "stdout",
     "output_type": "stream",
     "text": [
      "y shape: (100, 1)\n",
      "y_hat shape: (100, 1)\n",
      "delta_mse_A2 shape: (100, 1)\n",
      "delta_A2_Z2 shape: (1, 100)\n",
      "delta_Z2_A1 shape: (1, 2)\n",
      "delta_A1_Z1 shape: (2, 100)\n",
      "delta_Z1_W1 shape: (3, 100)\n"
     ]
    }
   ],
   "source": [
    "print(f\"y shape: {y.shape}\")\n",
    "print(f\"y_hat shape: {y_hat.shape}\")\n",
    "print(f\"delta_mse_A2 shape: {delta_mse_A2.shape}\")\n",
    "print(f\"delta_A2_Z2 shape: {delta_A2_Z2.shape}\")\n",
    "print(f\"delta_Z2_A1 shape: {delta_Z2_A1.shape}\")\n",
    "print(f\"delta_A1_Z1 shape: {delta_A1_Z1.shape}\")\n",
    "print(f\"delta_Z1_W1 shape: {delta_Z1_W1.shape}\")"
   ]
  },
  {
   "cell_type": "markdown",
   "id": "094e3e21",
   "metadata": {},
   "source": [
    "Sadly, we can't compute $\\frac{\\partial MSE}{\\partial \\Wm^{[1]}}$ by simply multiplying all the values for the expanded partial derivative equation. Since we are working with vectors and matrices we need to utilize the dot product and, in turn, rearrange some of the partial derivatives. \n",
    "\n",
    "$$\n",
    "\\begin{align}\n",
    "\\frac{\\partial MSE}{\\partial \\Wm^{[1]}} &= \\frac{\\partial MSE}{\\partial \\av^{[2]}} \\frac{\\partial \\av^{[2]}}{\\partial \\zv^{[2]} }  \\frac{\\partial \\zv^{[2]} }{\\partial \\Am^{[1]} } \\frac{\\partial \\Am^{[1]}}{\\partial \\Zm^{[1]} } \\frac{\\partial \\Zm^{[1]}}{\\partial \\Wm^{[1]} } \\\\\n",
    "\\\\\n",
    " &= \\frac{\\partial \\zv^{[2]} }{\\partial \\Am^{[1]} }^\\top \\cdot \\big(\\frac{\\partial MSE}{\\partial \\av^{[2]}}^\\top * \\frac{\\partial \\av^{[2]}}{\\partial \\zv^{[2]} }\\big) * \\frac{\\partial \\Am^{[1]}}{\\partial \\Zm^{[1]} } \\cdot \\frac{\\partial \\Zm^{[1]}}{\\partial \\Wm^{[1]} }^\\top \\\\\n",
    " \\\\\n",
    "&=   \\Wm^{[2]\\top} \\cdot \\big ( (\\av^{[2]} - {\\yv} )^\\top * \\mathbf{1} \\big )  * \\big( \\Zm^{[1]} *(\\mathbf{1}  - g( \\Zm^{[1]}) \\big )\\cdot \\Xm^\\top\n",
    "\\end{align}\n",
    "$$\n",
    "where $\\cdot$ represents the dot product and $*$ represents element-wise multiplication. Notice, that the equation inherently computes the sum of the gradients due to the addition of the dot product. This means we only need to divide by the number of data samples used to compute the gradient to get the average gradient.\n",
    "\n",
    "Further, we need to add some transposes to make the equation function properly. If we don't do this shape mismatch errors will be thrown.\n",
    "\n",
    "- First, we have to transpose $\\frac{\\partial MSE}{\\partial \\av^{[2]}}^\\top$ (i.e., `delta_mse_A2`). This will allow us to take the element-wise product $*$ with the partial derivative of the activation function $\\frac{\\partial \\av^{[2]}}{\\partial \\zv^{[2]} }$ (i.e., `delta_A2_Z2`) which has the shape (1, data samples=100).\n",
    "    - Original shape: (data samples=100, 1)\n",
    "    - Transposed shape: (1, data samples=100)\n",
    "\n",
    "- Second, we have to transpose $\\frac{\\partial \\zv^{[2]} }{\\partial \\Am^{[1]} }^\\top $  (i.e., `delta_Z2_A1`). This will allow us to take the dot product with $\\big( (\\av^{[2]} - {\\yv})^\\top * \\mathbf{1} \\big )$ which has shape (1 , data samples=100).\n",
    "    - Original shape: (neurons=1, inputs=2)\n",
    "    - Transposed shape: (inputs=2, neurons=1) \n",
    "\n",
    "- Third, we have to transpose $\\frac{\\partial \\Zm^{[1]}}{\\partial \\Wm^{[1]} }^\\top $ (i.e., `delta_Z1_W1`). This will allow us to take the dot product with $\\Wm^{[2]\\top} \\cdot \\big ( (\\av^{[2]} - {\\yv} )^\\top * \\mathbf{1} \\big )  * \\big( \\Zm^{[1]} *(\\mathbf{1}  - g( \\Zm^{[1]}) \\big )$ which has the shape (2, data samples=100).\n",
    "    - Original shape: (features=3, data samples=100)\n",
    "    - Transposed shape: (data samples=100. features=3)"
   ]
  },
  {
   "cell_type": "code",
   "execution_count": 152,
   "id": "4a93e7a0",
   "metadata": {},
   "outputs": [
    {
     "data": {
      "text/plain": [
       "array([[ 0.027934  , -0.00273238, -0.00690201],\n",
       "       [-0.16938226, -0.00982561,  0.05053177]])"
      ]
     },
     "execution_count": 152,
     "metadata": {},
     "output_type": "execute_result"
    }
   ],
   "source": [
    "delta_mse_A1 = delta_Z2_A1.T @ (delta_mse_A2.T * delta_A2_Z2)\n",
    "delta_mse_W1 = ((delta_mse_A1 * delta_A1_Z1) @ delta_Z1_W1.T)\n",
    "W1_avg_grad = delta_mse_W1 / len(y)\n",
    "W1_avg_grad"
   ]
  },
  {
   "cell_type": "markdown",
   "id": "1cdcb5cd",
   "metadata": {},
   "source": [
    "Below are the shapes of the variables used in the equation."
   ]
  },
  {
   "cell_type": "code",
   "execution_count": 153,
   "id": "b9c7dd87",
   "metadata": {},
   "outputs": [
    {
     "name": "stdout",
     "output_type": "stream",
     "text": [
      "(2, 100) =  (2, 1) @ ((1, 100) * (1, 100))\n",
      "(2, 3) =  ((2, 100) * (2, 100)) @ (100, 3)\n",
      "(2, 3) = (2, 3) / 100\n"
     ]
    }
   ],
   "source": [
    "print(f\"{delta_mse_A1.shape} =  {delta_Z2_A1.T.shape} @ ({delta_mse_A2.T.shape} * {delta_A2_Z2.shape})\")\n",
    "print(f\"{delta_mse_W1.shape} =  ({delta_mse_A1.shape} * {delta_A1_Z1.shape}) @ {delta_Z1_W1.T.shape}\")\n",
    "print(f\"{W1_avg_grad.shape} = {delta_mse_W1.shape} / {len(y)}\")"
   ]
  },
  {
   "cell_type": "markdown",
   "id": "880f5e20",
   "metadata": {},
   "source": [
    "Additionally, we add the implementation to the `get_hidden_layer1_weight_grads()` function."
   ]
  },
  {
   "cell_type": "code",
   "execution_count": 154,
   "id": "5a925cce",
   "metadata": {},
   "outputs": [],
   "source": [
    "def get_hidden_layer1_weight_grads(X, y, y_hat, weights, bias, Zs):\n",
    "    delta_mse_A2 = delta_mse(y, y_hat)\n",
    "    delta_A2_Z2 = Linear.derivative(Zs['Z2'])\n",
    "    delta_Z2_A1 = weights['W2']\n",
    "    delta_A1_Z1 = Sigmoid.derivative(Zs['Z1'])\n",
    "    delta_Z1_W1 = X.T\n",
    "\n",
    "    delta_mse_A1 = delta_Z2_A1.T @ (delta_mse_A2.T * delta_A2_Z2)\n",
    "    delta_mse_W1 = ((delta_mse_A1 * delta_A1_Z1) @ delta_Z1_W1.T)\n",
    "    W1_avg_grad = delta_mse_W1 / len(y)\n",
    "\n",
    "    return W1_avg_grad"
   ]
  },
  {
   "cell_type": "code",
   "execution_count": 155,
   "id": "3c7b1a49",
   "metadata": {},
   "outputs": [
    {
     "data": {
      "text/plain": [
       "array([[ 0.027934  , -0.00273238, -0.00690201],\n",
       "       [-0.16938226, -0.00982561,  0.05053177]])"
      ]
     },
     "execution_count": 155,
     "metadata": {},
     "output_type": "execute_result"
    }
   ],
   "source": [
    "W1_avg_grad = get_hidden_layer1_weight_grads(X, y, y_hat, weights, bias, Zs)\n",
    "W1_avg_grad"
   ]
  },
  {
   "cell_type": "markdown",
   "id": "3a3d50e1",
   "metadata": {},
   "source": [
    "Finally, below is an example of what the updated weight values `W1` would be if the gradient update equation was applied."
   ]
  },
  {
   "cell_type": "code",
   "execution_count": 156,
   "id": "b427cb97",
   "metadata": {},
   "outputs": [
    {
     "data": {
      "text/plain": [
       "array([[ 0.0460201 ,  0.2154626 ,  0.10345358],\n",
       "       [ 0.06182141, -0.07536264,  0.14084094]])"
      ]
     },
     "execution_count": 156,
     "metadata": {},
     "output_type": "execute_result"
    }
   ],
   "source": [
    "alpha = .1\n",
    "W1 = weights['W1'] - alpha * W1_avg_grad\n",
    "W1"
   ]
  },
  {
   "cell_type": "markdown",
   "id": "78281fae",
   "metadata": {},
   "source": [
    "#### Bias update\n",
    "\n",
    "To compute the gradient or partial derivative of the bias $\\bv^{[1]}$ we need the following equations once again:\n",
    "\n",
    "$$\n",
    "MSE = \\frac{1}{2m} (\\av^{[2]} - {\\yv})^2  \\\\ \n",
    "\\av^{[2]} = \\zv^{[2]} \\\\\n",
    "\\zv^{[2]} = \\wv^{[2]} \\Am^{[1]} + \\bv^{[2]}\\\\\n",
    "\\Am^{[1]} = \\Zm^{[1]} \\\\\n",
    "\\Zm^{[1]} = \\Wm^{[1]} \\Xm + \\bv^{[1]}\n",
    "$$\n",
    "where $\\hat{\\yv} = \\av^{[2]\\top}$.\n",
    "\n",
    "Thus, if we expand $\\frac{\\partial MSE}{\\partial \\bv^{[1]}}$ we get the following equation:\n",
    "$$\n",
    "\\frac{\\partial MSE}{\\partial \\bv^{[1]}} = \\frac{\\partial MSE}{\\partial \\av^{[2]}}\\frac{\\partial \\av^{[2]}}{\\partial \\zv^{[2]} }\\frac{\\partial \\zv^{[2]} }{\\partial  \\Am^{[1]} } \\frac{\\partial \\Am^{[1]}}{\\partial \\Zm^{[1]} } \\frac{\\partial \\Zm^{[1]}}{\\partial \\bv^{[1]} }\n",
    "$$\n",
    "\n",
    "Notice, the only new partial derivative is $\\frac{\\partial \\Zm^{[1]} }{\\partial \\bv^{[1]}}$, the rest we have already seen before. If we compute the partial derivatives we get the following:\n",
    "\n",
    "\n",
    "$$\n",
    "\\frac{\\partial MSE}{\\partial \\av^{[2]}} = (\\av^{[2]} - {\\yv}) \\\\\n",
    "\\frac{\\partial \\av^{[2]}}{\\partial \\zv^{[2]} } = \\mathbf{1} \\\\\n",
    "\\frac{\\partial \\zv^{[2]} }{\\partial  \\Am^{[1]} }  = \\wv^{[2]} \\\\\n",
    "\\frac{\\partial \\Am^{[1]}}{\\partial \\Zm^{[1]} } = g( \\Zm^{[1]}) (\\mathbf{1} - g( \\Zm^{[1]})) \\\\\n",
    " \\frac{\\partial \\Zm^{[1]}}{\\partial \\bv^{[1]} } = \\mathbf{1}\n",
    "$$\n",
    "\n",
    "Heres a short description of what we did to find each of the NEW partial derivatives.\n",
    "1. 1. Computing $\\frac{\\partial \\Zm^{[1]} }{\\partial \\bv^{[1]} }$ simply requires taking derivative of the linear combination equation $\\Wm^{[1]} \\Xm + \\bv^{[1]}$. Here $\\Wm^{[1]} \\Xm$ act as constants and goes to zero as it does not depend on $\\bv^{[1]}$. Meanwhile, the derivative of $\\bv^{[1]}$ is simply an array of ones of shape (1, data samples). \n"
   ]
  },
  {
   "cell_type": "markdown",
   "id": "4a8bead5",
   "metadata": {},
   "source": [
    "Turning all this into code looks as follows. Below are the biases before updating the network."
   ]
  },
  {
   "cell_type": "code",
   "execution_count": 157,
   "id": "acca8a8f",
   "metadata": {},
   "outputs": [
    {
     "name": "stdout",
     "output_type": "stream",
     "text": [
      "bias['b1'] shape: (2, 1)\n"
     ]
    },
    {
     "data": {
      "text/plain": [
       "array([[1.],\n",
       "       [1.]])"
      ]
     },
     "execution_count": 157,
     "metadata": {},
     "output_type": "execute_result"
    }
   ],
   "source": [
    "print(f\"bias['b1'] shape: {bias['b1'].shape}\")\n",
    "bias['b1']"
   ]
  },
  {
   "cell_type": "markdown",
   "id": "485e3875",
   "metadata": {},
   "source": [
    "Next, we set each of the partial derivatives equal to their derivative where\n",
    "- $\\frac{\\partial MSE}{\\partial \\av^{[2]}}$ corresponds to  `delta_mse_A2` \n",
    "- $\\frac{\\partial \\av^{[2]}}{\\partial \\zv^{[2]} }$ corresponds to `delta_A2_Z2`\n",
    "- $\\frac{\\partial \\zv^{[2]} }{\\partial \\Am^{[1]} }$ corresponds to `delta_Z2_A1` \n",
    "- $\\frac{\\partial \\Am^{[1]}}{\\partial \\Zm^{[1]} }$ corresponds to `delta_A1_Z1`\n",
    "- $ \\frac{\\partial \\Zm^{[1]}}{\\partial \\bv^{[1]} }$ corresponds to `delta_Z1_b1`\n",
    "\n",
    "Below is a short description of what we did to find each of the NEW partial derivatives.\n",
    "\n",
    "```Python\n",
    "delta_Z1_b1 = np.ones([1, len(y)])\n",
    "```\n",
    "We set `delta_Z2_b2` equal to an array of ones with a shape of (1, data samples=100). We do this because the derivative of $\\frac{\\partial \\zv^{[2]} }{\\partial \\bv^{[2]} }$ is one and we have to set the derivative for each data sample."
   ]
  },
  {
   "cell_type": "code",
   "execution_count": 158,
   "id": "352ee149",
   "metadata": {},
   "outputs": [],
   "source": [
    "delta_mse_A2 = delta_mse(y, y_hat)\n",
    "delta_A2_Z2 = Linear.derivative(Zs['Z2'])\n",
    "delta_Z2_A1 = weights['W2']\n",
    "delta_A1_Z1 = Sigmoid.derivative(Zs['Z1'])\n",
    "delta_Z1_b1 = np.ones([1, len(y)])"
   ]
  },
  {
   "cell_type": "code",
   "execution_count": 159,
   "id": "b46bdfac",
   "metadata": {},
   "outputs": [
    {
     "name": "stdout",
     "output_type": "stream",
     "text": [
      "y shape: (100, 1)\n",
      "y_hat shape: (100, 1)\n",
      "delta_mse_A2 shape: (100, 1)\n",
      "delta_A2_Z2 shape: (1, 100)\n",
      "delta_Z2_A1 shape: (1, 2)\n",
      "delta_A1_Z1 shape: (2, 100)\n",
      "delta_Z1_b1 shape: (1, 100)\n"
     ]
    }
   ],
   "source": [
    "print(f\"y shape: {y.shape}\")\n",
    "print(f\"y_hat shape: {y_hat.shape}\")\n",
    "print(f\"delta_mse_A2 shape: {delta_mse_A2.shape}\")\n",
    "print(f\"delta_A2_Z2 shape: {delta_A2_Z2.shape}\")\n",
    "print(f\"delta_Z2_A1 shape: {delta_Z2_A1.shape}\")\n",
    "print(f\"delta_A1_Z1 shape: {delta_A1_Z1.shape}\")\n",
    "print(f\"delta_Z1_b1 shape: {delta_Z1_b1.shape}\")"
   ]
  },
  {
   "cell_type": "markdown",
   "id": "178e3722",
   "metadata": {},
   "source": [
    "Using the same equation format as the hidden layer weight update, we can compute $\\frac{\\partial MSE}{\\partial \\bv^{[1]}}$ by using the dot product and element-wise multiplication. Since we are working with vectors and matrices, we need to utilize the dot product and, in turn, rearrange some of the partial derivatives. \n",
    "\n",
    "$$\n",
    "\\begin{align}\n",
    "\\frac{\\partial MSE}{\\partial \\bv^{[1]}} &= \\frac{\\partial MSE}{\\partial \\av^{[2]}} \\frac{\\partial \\av^{[2]}}{\\partial \\zv^{[2]} }  \\frac{\\partial \\zv^{[2]} }{\\partial \\Am^{[1]} } \\frac{\\partial \\Am^{[1]}}{\\partial \\Zm^{[1]} } \\frac{\\partial \\Zm^{[1]}}{\\partial \\bv^{[1]} } \\\\\n",
    "\\\\\n",
    " &= \\frac{\\partial \\zv^{[2]} }{\\partial \\Am^{[1]} }^\\top \\cdot \\big(\\frac{\\partial MSE}{\\partial \\av^{[2]}} * \\frac{\\partial \\av^{[2]}}{\\partial \\zv^{[2]} }\\big) * \\frac{\\partial \\Am^{[1]}}{\\partial \\Zm^{[1]} } \\cdot \\frac{\\partial \\Zm^{[1]}}{\\partial \\bv^{[1]} }^\\top \\\\\n",
    " \\\\\n",
    "&=  \\Wm^{[2]\\top} \\cdot \\big ( (\\av^{[2]} - {\\yv} )^\\top * \\mathbf{1} \\big )  *\\big( ( \\Zm^{[1]}) (\\mathbf{1} - g( \\Zm^{[1]})) \\big ) \\cdot \\mathbf{1}^\\top\n",
    "\\end{align}\n",
    "$$\n",
    "where $\\cdot$ represents the dot product and $*$ represents element-wise multiplication. Notice, that the equation inherently computes the sum of the gradients due to the addition of the dot product. This means we only need to divide by the number of data samples used to compute the gradient to get the average gradient.\n",
    "\n",
    "Further, we need to add some transposes to make the equation function properly. If we don't do this shape mismatch errors will be thrown.\n",
    "\n",
    "\n",
    "- First, we have to transpose $\\frac{\\partial MSE}{\\partial \\av^{[2]}}^\\top$ (i.e., `delta_mse_A2`). This will allow us to take the element-wise product $*$ with the partial derivative of the activation function $\\frac{\\partial \\av^{[2]}}{\\partial \\zv^{[2]} }$ (i.e., `delta_A2_Z2`) which has the shape (1, data samples=100).\n",
    "    - Original shape: (data samples=100, 1)\n",
    "    - Transposed shape: (1, data samples=100)\n",
    "\n",
    "- Second, we have to transpose $\\frac{\\partial \\zv^{[2]} }{\\partial \\Am^{[1]} }^\\top $  (i.e., `delta_Z2_A1`). This will allow us to take the dot product with $\\big( (\\av^{[2]} - {\\yv})^\\top * \\mathbf{1} \\big )$ which has shape (1 , data samples=100).\n",
    "    - Original shape: (neurons=1, inputs=2)\n",
    "    - Transposed shape: (inputs=2, neurons=1) \n",
    "\n",
    "- Third, we have to transpose $\\frac{\\partial \\Zm^{[1]}}{\\partial \\bv^{[1]} }^\\top$ (i.e., `delta_Z1_b1`). This will allow us to take the dot product with $\\Wm^{[2]\\top} \\cdot \\big ( (\\av^{[2]} - {\\yv} )^\\top * \\mathbf{1} \\big )  * \\big( \\Zm^{[1]} *(\\mathbf{1}  - g( \\Zm^{[1]}) \\big )$ which has the shape (neurons=2, data samples=100).\n",
    "    - Original shape: (1, data samples=100)\n",
    "    - Transposed shape: (data samples=100, 1) "
   ]
  },
  {
   "cell_type": "code",
   "execution_count": 160,
   "id": "81670987",
   "metadata": {},
   "outputs": [
    {
     "data": {
      "text/plain": [
       "array([[ 0.03230379],\n",
       "       [-0.20405097]])"
      ]
     },
     "execution_count": 160,
     "metadata": {},
     "output_type": "execute_result"
    }
   ],
   "source": [
    "delta_mse_A1 = delta_Z2_A1.T @ (delta_mse_A2.T * delta_A2_Z2)  \n",
    "delta_mse_b1 = (delta_mse_A1 * delta_A1_Z1) @ delta_Z1_b1.T\n",
    "b1_avg_grad = delta_mse_b1 / len(y)\n",
    "b1_avg_grad"
   ]
  },
  {
   "cell_type": "markdown",
   "id": "c5c9d4cd",
   "metadata": {},
   "source": [
    "Below are the shapes of the variables used in the equation."
   ]
  },
  {
   "cell_type": "code",
   "execution_count": 161,
   "id": "3bf488fd",
   "metadata": {},
   "outputs": [
    {
     "name": "stdout",
     "output_type": "stream",
     "text": [
      "(2, 100) =  (2, 1) @ ((1, 100) * ((1, 100))\n",
      "(2, 1) =  ((2, 100) * (2, 100)) @ (100, 1)\n",
      "(2, 1) = (2, 1) / 100\n"
     ]
    }
   ],
   "source": [
    "print(f\"{delta_mse_A1.shape} =  {delta_Z2_A1.T.shape} @ ({delta_mse_A2.T.shape} * ({delta_A2_Z2.shape})\")\n",
    "print(f\"{delta_mse_b1.shape} =  ({delta_mse_A1.shape} * {delta_A1_Z1.shape}) @ {delta_Z1_b1.T.shape}\")\n",
    "print(f\"{b1_avg_grad.shape} = {delta_mse_b1.shape} / {len(y)}\")"
   ]
  },
  {
   "cell_type": "markdown",
   "id": "06c7f123",
   "metadata": {},
   "source": [
    "Additionally, we add the implementation to the `get_hidden_layer1_bias_grads()` function."
   ]
  },
  {
   "cell_type": "code",
   "execution_count": 162,
   "id": "637de2df",
   "metadata": {},
   "outputs": [],
   "source": [
    "def get_hidden_layer1_bias_grads(y, y_hat, weights, bias, Zs):\n",
    "    delta_mse_A2 = delta_mse(y, y_hat)\n",
    "    delta_A2_Z2 = Linear.derivative(Zs['Z2'])\n",
    "    delta_Z2_A1 = weights['W2']\n",
    "    delta_A1_Z1 = Sigmoid.derivative(Zs['Z1'])\n",
    "    delta_Z1_b1 = np.ones([1, len(y)])\n",
    "    \n",
    "    delta_mse_A1 = delta_Z2_A1.T @ (delta_mse_A2.T * delta_A2_Z2)  \n",
    "    delta_mse_b1 = (delta_mse_A1 * delta_A1_Z1) @ delta_Z1_b1.T\n",
    "    b1_avg_grad = delta_mse_b1 / len(y)\n",
    "    \n",
    "    return b1_avg_grad"
   ]
  },
  {
   "cell_type": "code",
   "execution_count": 163,
   "id": "07cef2b7",
   "metadata": {},
   "outputs": [
    {
     "data": {
      "text/plain": [
       "array([[ 0.03230379],\n",
       "       [-0.20405097]])"
      ]
     },
     "execution_count": 163,
     "metadata": {},
     "output_type": "execute_result"
    }
   ],
   "source": [
    "b1_avg_grads = get_hidden_layer1_bias_grads(y, y_hat, weights, bias, Zs)\n",
    "b1_avg_grad"
   ]
  },
  {
   "cell_type": "markdown",
   "id": "009b8d09",
   "metadata": {},
   "source": [
    "Finally, below is an example of what the updated bias values `b1` would be if the gradient update equation was applied."
   ]
  },
  {
   "cell_type": "code",
   "execution_count": 164,
   "id": "91395118",
   "metadata": {},
   "outputs": [
    {
     "data": {
      "text/plain": [
       "array([[0.99676962],\n",
       "       [1.0204051 ]])"
      ]
     },
     "execution_count": 164,
     "metadata": {},
     "output_type": "execute_result"
    }
   ],
   "source": [
    "alpha = .1\n",
    "b1 = bias['b1'] - alpha * b1_avg_grad\n",
    "b1"
   ]
  },
  {
   "cell_type": "markdown",
   "id": "d7e3efd6",
   "metadata": {},
   "source": [
    "## Putting it all together\n",
    "\n",
    "Now, to put everything together. Below we use mini-batch gradient descent to train our two layer neural networks. To do so, we define the `fit()` method. All this function does is run the `forward()` function to get the predictions and update the parameters using said predictions. \n",
    "\n",
    "To compute the gradients for each weight and bias in each layer we simply call the `get_output_layer_weight_grads()`, `get_output_layer_bias_grads()`, `get_hidden_layer1_weight_grads()`, and `get_hidden_layer1_bias_grads()` functions. After computing the gradients, we then apply the updates for each parameter. Finally, we compute the sum of squared error for each mini-batch and track the running SSE in `epoch_sse_loss`. Once an epoch is over, we compute the MSE for the entire dataset `X` by dividing `epoch_sse_loss` by the number of data samples $m$. We store each epoch's MSE into `epoch_mse_loss`."
   ]
  },
  {
   "cell_type": "code",
   "execution_count": 165,
   "id": "a4d44f18",
   "metadata": {},
   "outputs": [],
   "source": [
    "def get_mini_batches(data_len: int, \n",
    "                     batch_size: int = 32, \n",
    "                     seed: int = None) -> List[np.ndarray]:\n",
    "    \"\"\" Generates mini-batches based on the data indexes\n",
    "        \n",
    "        Args:\n",
    "            data_len: Length of the data\n",
    "            \n",
    "            batch_size: Size of each mini batch where the last mini-batch\n",
    "                might be smaller than the rest if the batch_size does not \n",
    "                evenly divide the data length.\n",
    "            \n",
    "            seed: Random seed for generating the same mini-batches.\n",
    "    \n",
    "    \"\"\"\n",
    "    rng = np.random.RandomState(seed)\n",
    "    X_idx = np.arange(data_len)\n",
    "    rng.shuffle(X_idx)\n",
    "    batches = [X_idx[i:i+batch_size] for i in range(0, data_len, batch_size)]\n",
    "    \n",
    "    return batches"
   ]
  },
  {
   "cell_type": "code",
   "execution_count": 166,
   "id": "d85062eb",
   "metadata": {},
   "outputs": [],
   "source": [
    "def fit(\n",
    "    X: np.ndarray, \n",
    "    y: np.ndarray, \n",
    "    hidden_neurons: int,\n",
    "    output_neurons: int = 1, \n",
    "    batch_size: int = 32, \n",
    "    alpha: float = .1, \n",
    "    epochs: int =1\n",
    "): \n",
    "    \"\"\" Training function for a two layer neural network \"\"\"\n",
    "    m = len(X)\n",
    "    epoch_losses = []\n",
    "    \n",
    "    # Initialize weights and biases\n",
    "    weights, bias = init_weights(\n",
    "        n_input_features=X.shape[1],\n",
    "        hidden_neurons=hidden_neurons,\n",
    "        output_neurons=output_neurons\n",
    "    )\n",
    "\n",
    "    for e in range(epochs):\n",
    "        print(f\"Epoch: {e+1}\")\n",
    "        batches = get_mini_batches(data_len=m, batch_size=batch_size)\n",
    "        epoch_sse_loss = 0\n",
    "        for mb in batches:\n",
    "            # Forward pass to get predictions\n",
    "            y_hat, Zs, As = forward(X[mb], weights=weights, bias=bias)\n",
    "\n",
    "            # Backward pass to update weights and biases\n",
    "            W2_avg_grad = get_output_layer_weight_grads(y[mb], y_hat, Zs, As)\n",
    "            b2_avg_grad = get_output_layer_bias_grads(y[mb], y_hat, Zs)\n",
    "            W1_avg_grads = get_hidden_layer1_weight_grads(X[mb], y[mb], y_hat, weights, bias, Zs)\n",
    "            b1_avg_grads = get_hidden_layer1_bias_grads(y[mb], y_hat, weights, bias, Zs)\n",
    "\n",
    "            # Update output layer's weights and biases\n",
    "            weights['W2'] -= alpha * W2_avg_grad\n",
    "            bias['b2'] -=  alpha * b2_avg_grad\n",
    "            # Update hidden layer's weights and biases\n",
    "            weights['W1'] -= alpha * W1_avg_grads\n",
    "            bias['b1'] -= alpha * b1_avg_grads\n",
    "            \n",
    "            # Compute squared error for current mini-batch\n",
    "            batch_sse_loss = sse(y[mb], y_hat)\n",
    "            epoch_sse_loss += batch_sse_loss\n",
    "            \n",
    "        # Compute MSE for entire dataset\n",
    "        epoch_mse_loss = epoch_sse_loss / m\n",
    "        print(f\"\\t MSE train loss: {epoch_mse_loss}\")\n",
    "        epoch_losses.append(epoch_mse_loss)\n",
    "        \n",
    "    return weights, bias, epoch_losses"
   ]
  },
  {
   "cell_type": "markdown",
   "id": "747b548f",
   "metadata": {},
   "source": [
    "Below we train the neural network by calling the `fit()` method."
   ]
  },
  {
   "cell_type": "code",
   "execution_count": 167,
   "id": "3bda34e0",
   "metadata": {
    "scrolled": true
   },
   "outputs": [
    {
     "name": "stdout",
     "output_type": "stream",
     "text": [
      "Epoch: 1\n",
      "\t MSE train loss: 16.449990753880435\n",
      "Epoch: 2\n",
      "\t MSE train loss: 4.549560983977363\n",
      "Epoch: 3\n",
      "\t MSE train loss: 4.193221062092258\n",
      "Epoch: 4\n",
      "\t MSE train loss: 3.9378276339683658\n",
      "Epoch: 5\n",
      "\t MSE train loss: 3.618077366708817\n",
      "Epoch: 6\n",
      "\t MSE train loss: 3.5460976168368643\n",
      "Epoch: 7\n",
      "\t MSE train loss: 3.2367278768822065\n",
      "Epoch: 8\n",
      "\t MSE train loss: 3.056276784418658\n",
      "Epoch: 9\n",
      "\t MSE train loss: 2.895021778191542\n",
      "Epoch: 10\n",
      "\t MSE train loss: 2.7887999597168847\n",
      "Epoch: 11\n",
      "\t MSE train loss: 2.698668306108599\n",
      "Epoch: 12\n",
      "\t MSE train loss: 2.621336524133603\n",
      "Epoch: 13\n",
      "\t MSE train loss: 2.566868801058394\n",
      "Epoch: 14\n",
      "\t MSE train loss: 2.479515622310063\n",
      "Epoch: 15\n",
      "\t MSE train loss: 2.420526773154072\n",
      "Epoch: 16\n",
      "\t MSE train loss: 2.3768261447457686\n",
      "Epoch: 17\n",
      "\t MSE train loss: 2.3279661684634685\n",
      "Epoch: 18\n",
      "\t MSE train loss: 2.3002839885576476\n",
      "Epoch: 19\n",
      "\t MSE train loss: 2.3126950996166307\n",
      "Epoch: 20\n",
      "\t MSE train loss: 2.3146260823290197\n",
      "Epoch: 21\n",
      "\t MSE train loss: 2.1944456242962516\n",
      "Epoch: 22\n",
      "\t MSE train loss: 2.1741156656787566\n",
      "Epoch: 23\n",
      "\t MSE train loss: 2.199897602186714\n",
      "Epoch: 24\n",
      "\t MSE train loss: 2.225072159317886\n",
      "Epoch: 25\n",
      "\t MSE train loss: 2.09733268243609\n",
      "Epoch: 26\n",
      "\t MSE train loss: 2.0801551267892116\n",
      "Epoch: 27\n",
      "\t MSE train loss: 2.100516365793956\n",
      "Epoch: 28\n",
      "\t MSE train loss: 2.068234535904771\n",
      "Epoch: 29\n",
      "\t MSE train loss: 2.054273528279077\n",
      "Epoch: 30\n",
      "\t MSE train loss: 2.0891938766183955\n",
      "Epoch: 31\n",
      "\t MSE train loss: 1.959679006046938\n",
      "Epoch: 32\n",
      "\t MSE train loss: 1.9414106289965354\n",
      "Epoch: 33\n",
      "\t MSE train loss: 1.920152142032422\n",
      "Epoch: 34\n",
      "\t MSE train loss: 1.9007392061335964\n",
      "Epoch: 35\n",
      "\t MSE train loss: 2.0221929408142323\n",
      "Epoch: 36\n",
      "\t MSE train loss: 2.0936638518883415\n",
      "Epoch: 37\n",
      "\t MSE train loss: 1.8696193852827392\n",
      "Epoch: 38\n",
      "\t MSE train loss: 1.8097577750318765\n",
      "Epoch: 39\n",
      "\t MSE train loss: 1.801204312631571\n",
      "Epoch: 40\n",
      "\t MSE train loss: 1.7873132845923596\n",
      "Epoch: 41\n",
      "\t MSE train loss: 1.8390027749192654\n",
      "Epoch: 42\n",
      "\t MSE train loss: 1.8859774813350747\n",
      "Epoch: 43\n",
      "\t MSE train loss: 1.8457004152679062\n",
      "Epoch: 44\n",
      "\t MSE train loss: 1.7804898418085258\n",
      "Epoch: 45\n",
      "\t MSE train loss: 1.7207211858439249\n",
      "Epoch: 46\n",
      "\t MSE train loss: 1.665428648389512\n",
      "Epoch: 47\n",
      "\t MSE train loss: 1.7519233804504761\n",
      "Epoch: 48\n",
      "\t MSE train loss: 1.7380916661383958\n",
      "Epoch: 49\n",
      "\t MSE train loss: 1.6117573768925493\n",
      "Epoch: 50\n",
      "\t MSE train loss: 1.5915401163962712\n",
      "Epoch: 51\n",
      "\t MSE train loss: 1.5756164372530403\n",
      "Epoch: 52\n",
      "\t MSE train loss: 1.5736448790653261\n",
      "Epoch: 53\n",
      "\t MSE train loss: 1.5506386198018265\n",
      "Epoch: 54\n",
      "\t MSE train loss: 1.5321403228632398\n",
      "Epoch: 55\n",
      "\t MSE train loss: 1.541038920512585\n",
      "Epoch: 56\n",
      "\t MSE train loss: 1.5168607297327958\n",
      "Epoch: 57\n",
      "\t MSE train loss: 1.4814847429072262\n",
      "Epoch: 58\n",
      "\t MSE train loss: 1.4664058990589797\n",
      "Epoch: 59\n",
      "\t MSE train loss: 1.5493706046846212\n",
      "Epoch: 60\n",
      "\t MSE train loss: 1.4932252155451697\n",
      "Epoch: 61\n",
      "\t MSE train loss: 1.4136830770621214\n",
      "Epoch: 62\n",
      "\t MSE train loss: 1.4049627379961585\n",
      "Epoch: 63\n",
      "\t MSE train loss: 1.3825344939416886\n",
      "Epoch: 64\n",
      "\t MSE train loss: 1.3574374617261986\n",
      "Epoch: 65\n",
      "\t MSE train loss: 1.3582389230373204\n",
      "Epoch: 66\n",
      "\t MSE train loss: 1.3491650343541055\n",
      "Epoch: 67\n",
      "\t MSE train loss: 1.3835186058410756\n",
      "Epoch: 68\n",
      "\t MSE train loss: 1.3383378410755733\n",
      "Epoch: 69\n",
      "\t MSE train loss: 1.3215513873051652\n",
      "Epoch: 70\n",
      "\t MSE train loss: 1.2956329952166932\n",
      "Epoch: 71\n",
      "\t MSE train loss: 1.3592652900418207\n",
      "Epoch: 72\n",
      "\t MSE train loss: 1.2631654206035932\n",
      "Epoch: 73\n",
      "\t MSE train loss: 1.2872525339072687\n",
      "Epoch: 74\n",
      "\t MSE train loss: 1.2323096394133182\n",
      "Epoch: 75\n",
      "\t MSE train loss: 1.2033458466189664\n",
      "Epoch: 76\n",
      "\t MSE train loss: 1.1910657338250106\n",
      "Epoch: 77\n",
      "\t MSE train loss: 1.1826523548969963\n",
      "Epoch: 78\n",
      "\t MSE train loss: 1.1687719956555171\n",
      "Epoch: 79\n",
      "\t MSE train loss: 1.1556654050195383\n",
      "Epoch: 80\n",
      "\t MSE train loss: 1.1593330595951772\n",
      "Epoch: 81\n",
      "\t MSE train loss: 1.1986725181825268\n",
      "Epoch: 82\n",
      "\t MSE train loss: 1.1350033597164335\n",
      "Epoch: 83\n",
      "\t MSE train loss: 1.1900977665258967\n",
      "Epoch: 84\n",
      "\t MSE train loss: 1.1252345132441461\n",
      "Epoch: 85\n",
      "\t MSE train loss: 1.1020402294055665\n",
      "Epoch: 86\n",
      "\t MSE train loss: 1.084318539024855\n",
      "Epoch: 87\n",
      "\t MSE train loss: 1.163142971185074\n",
      "Epoch: 88\n",
      "\t MSE train loss: 1.284231993032575\n",
      "Epoch: 89\n",
      "\t MSE train loss: 1.1413762505440568\n",
      "Epoch: 90\n",
      "\t MSE train loss: 1.0502321197613218\n",
      "Epoch: 91\n",
      "\t MSE train loss: 1.0200855344879214\n",
      "Epoch: 92\n",
      "\t MSE train loss: 1.0346021686568139\n",
      "Epoch: 93\n",
      "\t MSE train loss: 1.0139180614809171\n",
      "Epoch: 94\n",
      "\t MSE train loss: 0.9922344466321539\n",
      "Epoch: 95\n",
      "\t MSE train loss: 1.0329927146931266\n",
      "Epoch: 96\n",
      "\t MSE train loss: 1.0622028409513447\n",
      "Epoch: 97\n",
      "\t MSE train loss: 1.0013847131097118\n",
      "Epoch: 98\n",
      "\t MSE train loss: 0.9644253560413495\n",
      "Epoch: 99\n",
      "\t MSE train loss: 0.9346325023076745\n",
      "Epoch: 100\n",
      "\t MSE train loss: 0.9385498280646617\n",
      "Epoch: 101\n",
      "\t MSE train loss: 0.9173866182772332\n",
      "Epoch: 102\n",
      "\t MSE train loss: 0.9192924307323983\n",
      "Epoch: 103\n",
      "\t MSE train loss: 0.8960537292118117\n",
      "Epoch: 104\n",
      "\t MSE train loss: 0.9045096809357386\n",
      "Epoch: 105\n",
      "\t MSE train loss: 0.8956855189275895\n",
      "Epoch: 106\n",
      "\t MSE train loss: 0.8943331372520847\n",
      "Epoch: 107\n",
      "\t MSE train loss: 0.8755915180403856\n",
      "Epoch: 108\n",
      "\t MSE train loss: 0.876214963273878\n",
      "Epoch: 109\n",
      "\t MSE train loss: 0.925780138796294\n",
      "Epoch: 110\n",
      "\t MSE train loss: 0.849020488724228\n",
      "Epoch: 111\n",
      "\t MSE train loss: 0.8415470219472166\n",
      "Epoch: 112\n",
      "\t MSE train loss: 0.8204416372735522\n",
      "Epoch: 113\n",
      "\t MSE train loss: 0.8216059188028754\n",
      "Epoch: 114\n",
      "\t MSE train loss: 0.8004676584056495\n",
      "Epoch: 115\n",
      "\t MSE train loss: 0.7874199368940942\n",
      "Epoch: 116\n",
      "\t MSE train loss: 0.804777816499041\n",
      "Epoch: 117\n",
      "\t MSE train loss: 0.8117933139787435\n",
      "Epoch: 118\n",
      "\t MSE train loss: 0.7664255109229609\n",
      "Epoch: 119\n",
      "\t MSE train loss: 0.7822829945327932\n",
      "Epoch: 120\n",
      "\t MSE train loss: 0.7795336245488437\n",
      "Epoch: 121\n",
      "\t MSE train loss: 0.7411484992928072\n",
      "Epoch: 122\n",
      "\t MSE train loss: 0.7397719562260994\n",
      "Epoch: 123\n",
      "\t MSE train loss: 0.7474382731505814\n",
      "Epoch: 124\n",
      "\t MSE train loss: 0.7226264795371563\n",
      "Epoch: 125\n",
      "\t MSE train loss: 0.7205644215450002\n",
      "Epoch: 126\n",
      "\t MSE train loss: 0.7067244499165407\n",
      "Epoch: 127\n",
      "\t MSE train loss: 0.7325866757383486\n",
      "Epoch: 128\n",
      "\t MSE train loss: 0.7260673404273844\n",
      "Epoch: 129\n",
      "\t MSE train loss: 0.6962650561107299\n",
      "Epoch: 130\n",
      "\t MSE train loss: 0.6831315456647978\n",
      "Epoch: 131\n",
      "\t MSE train loss: 0.6882088380232884\n",
      "Epoch: 132\n",
      "\t MSE train loss: 0.698061753966082\n",
      "Epoch: 133\n",
      "\t MSE train loss: 0.6728390048902861\n",
      "Epoch: 134\n",
      "\t MSE train loss: 0.6506367764906537\n",
      "Epoch: 135\n",
      "\t MSE train loss: 0.6921990955086156\n",
      "Epoch: 136\n",
      "\t MSE train loss: 0.6611621966034527\n",
      "Epoch: 137\n",
      "\t MSE train loss: 0.6630783408252335\n",
      "Epoch: 138\n",
      "\t MSE train loss: 0.6740990946808029\n",
      "Epoch: 139\n",
      "\t MSE train loss: 0.630865487023641\n",
      "Epoch: 140\n",
      "\t MSE train loss: 0.62389715108574\n",
      "Epoch: 141\n",
      "\t MSE train loss: 0.6253044789622559\n",
      "Epoch: 142\n",
      "\t MSE train loss: 0.6027125559870438\n",
      "Epoch: 143\n",
      "\t MSE train loss: 0.6060025335534757\n",
      "Epoch: 144\n",
      "\t MSE train loss: 0.5865337531262533\n",
      "Epoch: 145\n",
      "\t MSE train loss: 0.582558699130832\n",
      "Epoch: 146\n",
      "\t MSE train loss: 0.5805346193345471\n",
      "Epoch: 147\n",
      "\t MSE train loss: 0.6093027172357631\n",
      "Epoch: 148\n",
      "\t MSE train loss: 0.5644494320295812\n",
      "Epoch: 149\n",
      "\t MSE train loss: 0.5857253324848422\n",
      "Epoch: 150\n",
      "\t MSE train loss: 0.6031951550412298\n",
      "Epoch: 151\n",
      "\t MSE train loss: 0.5601136598760804\n",
      "Epoch: 152\n",
      "\t MSE train loss: 0.5437397666060818\n",
      "Epoch: 153\n",
      "\t MSE train loss: 0.5379070782295905\n",
      "Epoch: 154\n",
      "\t MSE train loss: 0.5571272452190771\n",
      "Epoch: 155\n",
      "\t MSE train loss: 0.5800212584299179\n",
      "Epoch: 156\n",
      "\t MSE train loss: 0.5464369129967794\n",
      "Epoch: 157\n",
      "\t MSE train loss: 0.5326228475769418\n",
      "Epoch: 158\n",
      "\t MSE train loss: 0.5148281932366094\n",
      "Epoch: 159\n",
      "\t MSE train loss: 0.5194420276656984\n",
      "Epoch: 160\n",
      "\t MSE train loss: 0.5035923330451412\n",
      "Epoch: 161\n",
      "\t MSE train loss: 0.4973810183004007\n",
      "Epoch: 162\n",
      "\t MSE train loss: 0.49616137294096846\n",
      "Epoch: 163\n",
      "\t MSE train loss: 0.4967176334819158\n",
      "Epoch: 164\n",
      "\t MSE train loss: 0.4893529577966863\n",
      "Epoch: 165\n",
      "\t MSE train loss: 0.48939852806279865\n",
      "Epoch: 166\n",
      "\t MSE train loss: 0.479574760167596\n",
      "Epoch: 167\n",
      "\t MSE train loss: 0.49469070100947066\n",
      "Epoch: 168\n",
      "\t MSE train loss: 0.4705396026344138\n",
      "Epoch: 169\n",
      "\t MSE train loss: 0.46635378593457644\n",
      "Epoch: 170\n",
      "\t MSE train loss: 0.4601936888416776\n",
      "Epoch: 171\n",
      "\t MSE train loss: 0.4630280446814281\n",
      "Epoch: 172\n",
      "\t MSE train loss: 0.45029365880394706\n",
      "Epoch: 173\n",
      "\t MSE train loss: 0.46537603513051773\n",
      "Epoch: 174\n",
      "\t MSE train loss: 0.45119485882896404\n",
      "Epoch: 175\n",
      "\t MSE train loss: 0.4409166591370473\n",
      "Epoch: 176\n",
      "\t MSE train loss: 0.4340375153754899\n",
      "Epoch: 177\n",
      "\t MSE train loss: 0.4309153599181388\n",
      "Epoch: 178\n",
      "\t MSE train loss: 0.43001565688892085\n",
      "Epoch: 179\n",
      "\t MSE train loss: 0.4365434929234604\n",
      "Epoch: 180\n",
      "\t MSE train loss: 0.42053354893204786\n",
      "Epoch: 181\n"
     ]
    },
    {
     "name": "stdout",
     "output_type": "stream",
     "text": [
      "\t MSE train loss: 0.41514538094766495\n",
      "Epoch: 182\n",
      "\t MSE train loss: 0.4149055724811421\n",
      "Epoch: 183\n",
      "\t MSE train loss: 0.4247373821166949\n",
      "Epoch: 184\n",
      "\t MSE train loss: 0.4446857226010513\n",
      "Epoch: 185\n",
      "\t MSE train loss: 0.421167204355591\n",
      "Epoch: 186\n",
      "\t MSE train loss: 0.3968466333991475\n",
      "Epoch: 187\n",
      "\t MSE train loss: 0.3952190183635511\n",
      "Epoch: 188\n",
      "\t MSE train loss: 0.3985683653071304\n",
      "Epoch: 189\n",
      "\t MSE train loss: 0.3926717134349758\n",
      "Epoch: 190\n",
      "\t MSE train loss: 0.38466337736617573\n",
      "Epoch: 191\n",
      "\t MSE train loss: 0.38435976858552656\n",
      "Epoch: 192\n",
      "\t MSE train loss: 0.3791293927102647\n",
      "Epoch: 193\n",
      "\t MSE train loss: 0.37825722980046433\n",
      "Epoch: 194\n",
      "\t MSE train loss: 0.39885545943189954\n",
      "Epoch: 195\n",
      "\t MSE train loss: 0.37962718500123843\n",
      "Epoch: 196\n",
      "\t MSE train loss: 0.37055850418465425\n",
      "Epoch: 197\n",
      "\t MSE train loss: 0.36305986568096216\n",
      "Epoch: 198\n",
      "\t MSE train loss: 0.367317398759969\n",
      "Epoch: 199\n",
      "\t MSE train loss: 0.36910673616573414\n",
      "Epoch: 200\n",
      "\t MSE train loss: 0.35623976399571433\n",
      "Epoch: 201\n",
      "\t MSE train loss: 0.35779166312317917\n",
      "Epoch: 202\n",
      "\t MSE train loss: 0.37385440464644887\n",
      "Epoch: 203\n",
      "\t MSE train loss: 0.3467094664802998\n",
      "Epoch: 204\n",
      "\t MSE train loss: 0.3468909871394551\n",
      "Epoch: 205\n",
      "\t MSE train loss: 0.341907143777467\n",
      "Epoch: 206\n",
      "\t MSE train loss: 0.33860906738905\n",
      "Epoch: 207\n",
      "\t MSE train loss: 0.335773135764268\n",
      "Epoch: 208\n",
      "\t MSE train loss: 0.33377344319302765\n",
      "Epoch: 209\n",
      "\t MSE train loss: 0.3359145791093034\n",
      "Epoch: 210\n",
      "\t MSE train loss: 0.32806493139450466\n",
      "Epoch: 211\n",
      "\t MSE train loss: 0.3277233675624425\n",
      "Epoch: 212\n",
      "\t MSE train loss: 0.32501061150997373\n",
      "Epoch: 213\n",
      "\t MSE train loss: 0.3296366860189543\n",
      "Epoch: 214\n",
      "\t MSE train loss: 0.3211121241290076\n",
      "Epoch: 215\n",
      "\t MSE train loss: 0.3187103441204692\n",
      "Epoch: 216\n",
      "\t MSE train loss: 0.3259192258529597\n",
      "Epoch: 217\n",
      "\t MSE train loss: 0.31438609297802783\n",
      "Epoch: 218\n",
      "\t MSE train loss: 0.3421315923152753\n",
      "Epoch: 219\n",
      "\t MSE train loss: 0.320347974116118\n",
      "Epoch: 220\n",
      "\t MSE train loss: 0.3514371338832752\n",
      "Epoch: 221\n",
      "\t MSE train loss: 0.31465228180178306\n",
      "Epoch: 222\n",
      "\t MSE train loss: 0.30433810779389625\n",
      "Epoch: 223\n",
      "\t MSE train loss: 0.3049013375545542\n",
      "Epoch: 224\n",
      "\t MSE train loss: 0.30415205763154546\n",
      "Epoch: 225\n",
      "\t MSE train loss: 0.30185511996739756\n",
      "Epoch: 226\n",
      "\t MSE train loss: 0.2969853967797645\n",
      "Epoch: 227\n",
      "\t MSE train loss: 0.311612666918986\n",
      "Epoch: 228\n",
      "\t MSE train loss: 0.3349279266837057\n",
      "Epoch: 229\n",
      "\t MSE train loss: 0.3068533716776709\n",
      "Epoch: 230\n",
      "\t MSE train loss: 0.2980447530298856\n",
      "Epoch: 231\n",
      "\t MSE train loss: 0.2857260730216142\n",
      "Epoch: 232\n",
      "\t MSE train loss: 0.2899684832225715\n",
      "Epoch: 233\n",
      "\t MSE train loss: 0.28769585321500174\n",
      "Epoch: 234\n",
      "\t MSE train loss: 0.29001519691355054\n",
      "Epoch: 235\n",
      "\t MSE train loss: 0.29010009536978404\n",
      "Epoch: 236\n",
      "\t MSE train loss: 0.28139024155516623\n",
      "Epoch: 237\n",
      "\t MSE train loss: 0.2745397755979799\n",
      "Epoch: 238\n",
      "\t MSE train loss: 0.2775986541535592\n",
      "Epoch: 239\n",
      "\t MSE train loss: 0.27444442219284704\n",
      "Epoch: 240\n",
      "\t MSE train loss: 0.28028274297054645\n",
      "Epoch: 241\n",
      "\t MSE train loss: 0.2701202219195206\n",
      "Epoch: 242\n",
      "\t MSE train loss: 0.27632456796217536\n",
      "Epoch: 243\n",
      "\t MSE train loss: 0.27592258556617355\n",
      "Epoch: 244\n",
      "\t MSE train loss: 0.27465699348184464\n",
      "Epoch: 245\n",
      "\t MSE train loss: 0.2687270591859276\n",
      "Epoch: 246\n",
      "\t MSE train loss: 0.2747288425950746\n",
      "Epoch: 247\n",
      "\t MSE train loss: 0.26869359677173177\n",
      "Epoch: 248\n",
      "\t MSE train loss: 0.2628670663356669\n",
      "Epoch: 249\n",
      "\t MSE train loss: 0.2648169336971633\n",
      "Epoch: 250\n",
      "\t MSE train loss: 0.2676521127032164\n",
      "Epoch: 251\n",
      "\t MSE train loss: 0.2590471790452027\n",
      "Epoch: 252\n",
      "\t MSE train loss: 0.2988280744559915\n",
      "Epoch: 253\n",
      "\t MSE train loss: 0.28939437767671367\n",
      "Epoch: 254\n",
      "\t MSE train loss: 0.2553408276092377\n",
      "Epoch: 255\n",
      "\t MSE train loss: 0.25489825313744663\n",
      "Epoch: 256\n",
      "\t MSE train loss: 0.24888787136129223\n",
      "Epoch: 257\n",
      "\t MSE train loss: 0.25523139901224573\n",
      "Epoch: 258\n",
      "\t MSE train loss: 0.2831105034736145\n",
      "Epoch: 259\n",
      "\t MSE train loss: 0.269246485805698\n",
      "Epoch: 260\n",
      "\t MSE train loss: 0.2459408872723982\n",
      "Epoch: 261\n",
      "\t MSE train loss: 0.2413954122615541\n",
      "Epoch: 262\n",
      "\t MSE train loss: 0.24306531341575188\n",
      "Epoch: 263\n",
      "\t MSE train loss: 0.2566762183356364\n",
      "Epoch: 264\n",
      "\t MSE train loss: 0.26012590121544266\n",
      "Epoch: 265\n",
      "\t MSE train loss: 0.24750595808584364\n",
      "Epoch: 266\n",
      "\t MSE train loss: 0.244036935270004\n",
      "Epoch: 267\n",
      "\t MSE train loss: 0.2366920747347418\n",
      "Epoch: 268\n",
      "\t MSE train loss: 0.23547192631755748\n",
      "Epoch: 269\n",
      "\t MSE train loss: 0.23702385970525014\n",
      "Epoch: 270\n",
      "\t MSE train loss: 0.2422146356115894\n",
      "Epoch: 271\n",
      "\t MSE train loss: 0.2324260215035909\n",
      "Epoch: 272\n",
      "\t MSE train loss: 0.22992893800352923\n",
      "Epoch: 273\n",
      "\t MSE train loss: 0.2503322550862477\n",
      "Epoch: 274\n",
      "\t MSE train loss: 0.266946750919524\n",
      "Epoch: 275\n",
      "\t MSE train loss: 0.25015474093784656\n",
      "Epoch: 276\n",
      "\t MSE train loss: 0.25349445110018803\n",
      "Epoch: 277\n",
      "\t MSE train loss: 0.24905094211658071\n",
      "Epoch: 278\n",
      "\t MSE train loss: 0.23019065895587937\n",
      "Epoch: 279\n",
      "\t MSE train loss: 0.2345238183868974\n",
      "Epoch: 280\n",
      "\t MSE train loss: 0.2375425448005849\n",
      "Epoch: 281\n",
      "\t MSE train loss: 0.23891024887294726\n",
      "Epoch: 282\n",
      "\t MSE train loss: 0.22367508233338054\n",
      "Epoch: 283\n",
      "\t MSE train loss: 0.22175623386841775\n",
      "Epoch: 284\n",
      "\t MSE train loss: 0.22022460078910064\n",
      "Epoch: 285\n",
      "\t MSE train loss: 0.21852826384996418\n",
      "Epoch: 286\n",
      "\t MSE train loss: 0.22855151042813077\n",
      "Epoch: 287\n",
      "\t MSE train loss: 0.24537703947449038\n",
      "Epoch: 288\n",
      "\t MSE train loss: 0.22658758002769816\n",
      "Epoch: 289\n",
      "\t MSE train loss: 0.21532699923171778\n",
      "Epoch: 290\n",
      "\t MSE train loss: 0.21644043095640988\n",
      "Epoch: 291\n",
      "\t MSE train loss: 0.21867895196187936\n",
      "Epoch: 292\n",
      "\t MSE train loss: 0.21654242470331503\n",
      "Epoch: 293\n",
      "\t MSE train loss: 0.21227675014321165\n",
      "Epoch: 294\n",
      "\t MSE train loss: 0.2256984912863201\n",
      "Epoch: 295\n",
      "\t MSE train loss: 0.2503151484755282\n",
      "Epoch: 296\n",
      "\t MSE train loss: 0.21094544985282748\n",
      "Epoch: 297\n",
      "\t MSE train loss: 0.2129712149266182\n",
      "Epoch: 298\n",
      "\t MSE train loss: 0.20948839526327515\n",
      "Epoch: 299\n",
      "\t MSE train loss: 0.2096793589507668\n",
      "Epoch: 300\n",
      "\t MSE train loss: 0.20734469130254266\n",
      "Epoch: 301\n",
      "\t MSE train loss: 0.2111195004294955\n",
      "Epoch: 302\n",
      "\t MSE train loss: 0.23305844613399004\n",
      "Epoch: 303\n",
      "\t MSE train loss: 0.22475684522904507\n",
      "Epoch: 304\n",
      "\t MSE train loss: 0.20658024359657032\n",
      "Epoch: 305\n",
      "\t MSE train loss: 0.20633882605661988\n",
      "Epoch: 306\n",
      "\t MSE train loss: 0.20415570072637335\n",
      "Epoch: 307\n",
      "\t MSE train loss: 0.20755190935542175\n",
      "Epoch: 308\n",
      "\t MSE train loss: 0.21435898930288771\n",
      "Epoch: 309\n",
      "\t MSE train loss: 0.21459253733980826\n",
      "Epoch: 310\n",
      "\t MSE train loss: 0.22207215440691874\n",
      "Epoch: 311\n",
      "\t MSE train loss: 0.26253901077026554\n",
      "Epoch: 312\n",
      "\t MSE train loss: 0.2098717220935783\n",
      "Epoch: 313\n",
      "\t MSE train loss: 0.2046611544187502\n",
      "Epoch: 314\n",
      "\t MSE train loss: 0.20313326595498424\n",
      "Epoch: 315\n",
      "\t MSE train loss: 0.2019116680927904\n",
      "Epoch: 316\n",
      "\t MSE train loss: 0.19937166226541994\n",
      "Epoch: 317\n",
      "\t MSE train loss: 0.21150042001855088\n",
      "Epoch: 318\n",
      "\t MSE train loss: 0.2044855179649036\n",
      "Epoch: 319\n",
      "\t MSE train loss: 0.2007400255350715\n",
      "Epoch: 320\n",
      "\t MSE train loss: 0.20541379490646475\n",
      "Epoch: 321\n",
      "\t MSE train loss: 0.20278875786315254\n",
      "Epoch: 322\n",
      "\t MSE train loss: 0.2072363015962136\n",
      "Epoch: 323\n",
      "\t MSE train loss: 0.19772117851738044\n",
      "Epoch: 324\n",
      "\t MSE train loss: 0.20310362963529863\n",
      "Epoch: 325\n",
      "\t MSE train loss: 0.2133144733406363\n",
      "Epoch: 326\n",
      "\t MSE train loss: 0.2006395070095623\n",
      "Epoch: 327\n",
      "\t MSE train loss: 0.19626108349384347\n",
      "Epoch: 328\n",
      "\t MSE train loss: 0.19608819857312715\n",
      "Epoch: 329\n",
      "\t MSE train loss: 0.21170487570873905\n",
      "Epoch: 330\n",
      "\t MSE train loss: 0.24514380349317336\n",
      "Epoch: 331\n",
      "\t MSE train loss: 0.23198793782039512\n",
      "Epoch: 332\n",
      "\t MSE train loss: 0.20429076962617315\n",
      "Epoch: 333\n",
      "\t MSE train loss: 0.19846889718588795\n",
      "Epoch: 334\n",
      "\t MSE train loss: 0.20900169196001284\n",
      "Epoch: 335\n",
      "\t MSE train loss: 0.19132785927874973\n",
      "Epoch: 336\n",
      "\t MSE train loss: 0.18971231219540624\n",
      "Epoch: 337\n",
      "\t MSE train loss: 0.19051211408761554\n",
      "Epoch: 338\n",
      "\t MSE train loss: 0.1881153162968813\n",
      "Epoch: 339\n",
      "\t MSE train loss: 0.1936684397096363\n",
      "Epoch: 340\n",
      "\t MSE train loss: 0.1906313199308455\n",
      "Epoch: 341\n",
      "\t MSE train loss: 0.1930708965932886\n",
      "Epoch: 342\n",
      "\t MSE train loss: 0.19294008201763962\n",
      "Epoch: 343\n",
      "\t MSE train loss: 0.1915004193653072\n",
      "Epoch: 344\n",
      "\t MSE train loss: 0.1881189653250901\n",
      "Epoch: 345\n",
      "\t MSE train loss: 0.19839202317294014\n",
      "Epoch: 346\n",
      "\t MSE train loss: 0.19995779916023895\n",
      "Epoch: 347\n",
      "\t MSE train loss: 0.18827817949646486\n",
      "Epoch: 348\n",
      "\t MSE train loss: 0.18653561959987108\n",
      "Epoch: 349\n",
      "\t MSE train loss: 0.18973347671204358\n",
      "Epoch: 350\n",
      "\t MSE train loss: 0.18408244649025357\n",
      "Epoch: 351\n",
      "\t MSE train loss: 0.1830384525240391\n",
      "Epoch: 352\n",
      "\t MSE train loss: 0.18339488728741188\n",
      "Epoch: 353\n",
      "\t MSE train loss: 0.18424888639862202\n",
      "Epoch: 354\n",
      "\t MSE train loss: 0.18219945734653759\n",
      "Epoch: 355\n",
      "\t MSE train loss: 0.1836209382197663\n",
      "Epoch: 356\n"
     ]
    },
    {
     "name": "stdout",
     "output_type": "stream",
     "text": [
      "\t MSE train loss: 0.18141102795068065\n",
      "Epoch: 357\n",
      "\t MSE train loss: 0.19304426672187414\n",
      "Epoch: 358\n",
      "\t MSE train loss: 0.1969488312757738\n",
      "Epoch: 359\n",
      "\t MSE train loss: 0.18072667259581693\n",
      "Epoch: 360\n",
      "\t MSE train loss: 0.1860689409795868\n",
      "Epoch: 361\n",
      "\t MSE train loss: 0.18395711848634305\n",
      "Epoch: 362\n",
      "\t MSE train loss: 0.18234280498895764\n",
      "Epoch: 363\n",
      "\t MSE train loss: 0.18304001188282767\n",
      "Epoch: 364\n",
      "\t MSE train loss: 0.19128550416960283\n",
      "Epoch: 365\n",
      "\t MSE train loss: 0.18039033808249674\n",
      "Epoch: 366\n",
      "\t MSE train loss: 0.18108779119330465\n",
      "Epoch: 367\n",
      "\t MSE train loss: 0.17970055470111757\n",
      "Epoch: 368\n",
      "\t MSE train loss: 0.19898948386875556\n",
      "Epoch: 369\n",
      "\t MSE train loss: 0.18730343506878114\n",
      "Epoch: 370\n",
      "\t MSE train loss: 0.17765313967801094\n",
      "Epoch: 371\n",
      "\t MSE train loss: 0.17813171391708507\n",
      "Epoch: 372\n",
      "\t MSE train loss: 0.17905339077879132\n",
      "Epoch: 373\n",
      "\t MSE train loss: 0.1984444395043126\n",
      "Epoch: 374\n",
      "\t MSE train loss: 0.19494402794829416\n",
      "Epoch: 375\n",
      "\t MSE train loss: 0.17780704827664195\n",
      "Epoch: 376\n",
      "\t MSE train loss: 0.18082298589520707\n",
      "Epoch: 377\n",
      "\t MSE train loss: 0.18588047794618856\n",
      "Epoch: 378\n",
      "\t MSE train loss: 0.17531325448282575\n",
      "Epoch: 379\n",
      "\t MSE train loss: 0.17541233871455905\n",
      "Epoch: 380\n",
      "\t MSE train loss: 0.17663105124945308\n",
      "Epoch: 381\n",
      "\t MSE train loss: 0.18079656945588318\n",
      "Epoch: 382\n",
      "\t MSE train loss: 0.17582369299624814\n",
      "Epoch: 383\n",
      "\t MSE train loss: 0.19517520115703912\n",
      "Epoch: 384\n",
      "\t MSE train loss: 0.18558058802136718\n",
      "Epoch: 385\n",
      "\t MSE train loss: 0.17320493630076014\n",
      "Epoch: 386\n",
      "\t MSE train loss: 0.17689703604738777\n",
      "Epoch: 387\n",
      "\t MSE train loss: 0.18034247557756625\n",
      "Epoch: 388\n",
      "\t MSE train loss: 0.2013241896528501\n",
      "Epoch: 389\n",
      "\t MSE train loss: 0.17423655590813628\n",
      "Epoch: 390\n",
      "\t MSE train loss: 0.18358180316050884\n",
      "Epoch: 391\n",
      "\t MSE train loss: 0.1889093634221928\n",
      "Epoch: 392\n",
      "\t MSE train loss: 0.17305176128146343\n",
      "Epoch: 393\n",
      "\t MSE train loss: 0.17604230764407672\n",
      "Epoch: 394\n",
      "\t MSE train loss: 0.17474952585106338\n",
      "Epoch: 395\n",
      "\t MSE train loss: 0.17383513967810135\n",
      "Epoch: 396\n",
      "\t MSE train loss: 0.18272638516806008\n",
      "Epoch: 397\n",
      "\t MSE train loss: 0.17089527536964105\n",
      "Epoch: 398\n",
      "\t MSE train loss: 0.17064740959795255\n",
      "Epoch: 399\n",
      "\t MSE train loss: 0.17010582374195657\n",
      "Epoch: 400\n",
      "\t MSE train loss: 0.17081657585315235\n",
      "Epoch: 401\n",
      "\t MSE train loss: 0.17017269929374612\n",
      "Epoch: 402\n",
      "\t MSE train loss: 0.1700429677764795\n",
      "Epoch: 403\n",
      "\t MSE train loss: 0.17211410254698137\n",
      "Epoch: 404\n",
      "\t MSE train loss: 0.17210844857568974\n",
      "Epoch: 405\n",
      "\t MSE train loss: 0.17096684118918223\n",
      "Epoch: 406\n",
      "\t MSE train loss: 0.1951377512416571\n",
      "Epoch: 407\n",
      "\t MSE train loss: 0.17993981523803554\n",
      "Epoch: 408\n",
      "\t MSE train loss: 0.16983256806605046\n",
      "Epoch: 409\n",
      "\t MSE train loss: 0.16877957190012366\n",
      "Epoch: 410\n",
      "\t MSE train loss: 0.1740604362037631\n",
      "Epoch: 411\n",
      "\t MSE train loss: 0.17474757619882653\n",
      "Epoch: 412\n",
      "\t MSE train loss: 0.16921548155000604\n",
      "Epoch: 413\n",
      "\t MSE train loss: 0.1791066803062452\n",
      "Epoch: 414\n",
      "\t MSE train loss: 0.17029907295577043\n",
      "Epoch: 415\n",
      "\t MSE train loss: 0.16790834790382145\n",
      "Epoch: 416\n",
      "\t MSE train loss: 0.16918791561735663\n",
      "Epoch: 417\n",
      "\t MSE train loss: 0.16637659551858167\n",
      "Epoch: 418\n",
      "\t MSE train loss: 0.16718770536182462\n",
      "Epoch: 419\n",
      "\t MSE train loss: 0.1687559704710014\n",
      "Epoch: 420\n",
      "\t MSE train loss: 0.1689799804351905\n",
      "Epoch: 421\n",
      "\t MSE train loss: 0.1714212047264161\n",
      "Epoch: 422\n",
      "\t MSE train loss: 0.1747810077265732\n",
      "Epoch: 423\n",
      "\t MSE train loss: 0.19212816185706352\n",
      "Epoch: 424\n",
      "\t MSE train loss: 0.18417127894878982\n",
      "Epoch: 425\n",
      "\t MSE train loss: 0.17242359561880755\n",
      "Epoch: 426\n",
      "\t MSE train loss: 0.17224947964718854\n",
      "Epoch: 427\n",
      "\t MSE train loss: 0.16566566702739924\n",
      "Epoch: 428\n",
      "\t MSE train loss: 0.1676242496527334\n",
      "Epoch: 429\n",
      "\t MSE train loss: 0.16523909672522444\n",
      "Epoch: 430\n",
      "\t MSE train loss: 0.17034909397534936\n",
      "Epoch: 431\n",
      "\t MSE train loss: 0.1990435452865027\n",
      "Epoch: 432\n",
      "\t MSE train loss: 0.19559685987366546\n",
      "Epoch: 433\n",
      "\t MSE train loss: 0.16888403748123185\n",
      "Epoch: 434\n",
      "\t MSE train loss: 0.16595268814154068\n",
      "Epoch: 435\n",
      "\t MSE train loss: 0.16413023941706256\n",
      "Epoch: 436\n",
      "\t MSE train loss: 0.1685385408294313\n",
      "Epoch: 437\n",
      "\t MSE train loss: 0.16404060671554213\n",
      "Epoch: 438\n",
      "\t MSE train loss: 0.1658708137934322\n",
      "Epoch: 439\n",
      "\t MSE train loss: 0.1643427138899949\n",
      "Epoch: 440\n",
      "\t MSE train loss: 0.16718961197939586\n",
      "Epoch: 441\n",
      "\t MSE train loss: 0.17139240061312855\n",
      "Epoch: 442\n",
      "\t MSE train loss: 0.17273573682433369\n",
      "Epoch: 443\n",
      "\t MSE train loss: 0.16323168278739772\n",
      "Epoch: 444\n",
      "\t MSE train loss: 0.1681856029163623\n",
      "Epoch: 445\n",
      "\t MSE train loss: 0.16278352816261574\n",
      "Epoch: 446\n",
      "\t MSE train loss: 0.17140058729661106\n",
      "Epoch: 447\n",
      "\t MSE train loss: 0.184042071266068\n",
      "Epoch: 448\n",
      "\t MSE train loss: 0.17727535675562142\n",
      "Epoch: 449\n",
      "\t MSE train loss: 0.16721012743713237\n",
      "Epoch: 450\n",
      "\t MSE train loss: 0.16694215749635052\n",
      "Epoch: 451\n",
      "\t MSE train loss: 0.16329043608162588\n",
      "Epoch: 452\n",
      "\t MSE train loss: 0.168161077276215\n",
      "Epoch: 453\n",
      "\t MSE train loss: 0.17596809647867354\n",
      "Epoch: 454\n",
      "\t MSE train loss: 0.1611271576503128\n",
      "Epoch: 455\n",
      "\t MSE train loss: 0.1629333370571743\n",
      "Epoch: 456\n",
      "\t MSE train loss: 0.16610985221166844\n",
      "Epoch: 457\n",
      "\t MSE train loss: 0.17173638544795203\n",
      "Epoch: 458\n",
      "\t MSE train loss: 0.17657790852008662\n",
      "Epoch: 459\n",
      "\t MSE train loss: 0.19515745750226007\n",
      "Epoch: 460\n",
      "\t MSE train loss: 0.18422035386312202\n",
      "Epoch: 461\n",
      "\t MSE train loss: 0.164545640895305\n",
      "Epoch: 462\n",
      "\t MSE train loss: 0.16626916713989437\n",
      "Epoch: 463\n",
      "\t MSE train loss: 0.15993977482402738\n",
      "Epoch: 464\n",
      "\t MSE train loss: 0.16147204675679025\n",
      "Epoch: 465\n",
      "\t MSE train loss: 0.16314937949980787\n",
      "Epoch: 466\n",
      "\t MSE train loss: 0.1639559263697243\n",
      "Epoch: 467\n",
      "\t MSE train loss: 0.16580776281188528\n",
      "Epoch: 468\n",
      "\t MSE train loss: 0.1608845374132825\n",
      "Epoch: 469\n",
      "\t MSE train loss: 0.16116967994246134\n",
      "Epoch: 470\n",
      "\t MSE train loss: 0.1660029172480231\n",
      "Epoch: 471\n",
      "\t MSE train loss: 0.168486566502445\n",
      "Epoch: 472\n",
      "\t MSE train loss: 0.16709965855564726\n",
      "Epoch: 473\n",
      "\t MSE train loss: 0.1637321982195508\n",
      "Epoch: 474\n",
      "\t MSE train loss: 0.18047475360497509\n",
      "Epoch: 475\n",
      "\t MSE train loss: 0.17680014573234495\n",
      "Epoch: 476\n",
      "\t MSE train loss: 0.16579695151261953\n",
      "Epoch: 477\n",
      "\t MSE train loss: 0.16143889598450797\n",
      "Epoch: 478\n",
      "\t MSE train loss: 0.17004102881861585\n",
      "Epoch: 479\n",
      "\t MSE train loss: 0.16412653033848565\n",
      "Epoch: 480\n",
      "\t MSE train loss: 0.1623299171614535\n",
      "Epoch: 481\n",
      "\t MSE train loss: 0.1576554499830772\n",
      "Epoch: 482\n",
      "\t MSE train loss: 0.15837785138749352\n",
      "Epoch: 483\n",
      "\t MSE train loss: 0.1594450853196183\n",
      "Epoch: 484\n",
      "\t MSE train loss: 0.1568659351720908\n",
      "Epoch: 485\n",
      "\t MSE train loss: 0.15918653468503505\n",
      "Epoch: 486\n",
      "\t MSE train loss: 0.1645355745488217\n",
      "Epoch: 487\n",
      "\t MSE train loss: 0.16300802965741445\n",
      "Epoch: 488\n",
      "\t MSE train loss: 0.15601588922335444\n",
      "Epoch: 489\n",
      "\t MSE train loss: 0.15646290728802575\n",
      "Epoch: 490\n",
      "\t MSE train loss: 0.15713412220728354\n",
      "Epoch: 491\n",
      "\t MSE train loss: 0.15851170447558383\n",
      "Epoch: 492\n",
      "\t MSE train loss: 0.15742890746302252\n",
      "Epoch: 493\n",
      "\t MSE train loss: 0.1564029391273281\n",
      "Epoch: 494\n",
      "\t MSE train loss: 0.15767446184404232\n",
      "Epoch: 495\n",
      "\t MSE train loss: 0.15854981267727372\n",
      "Epoch: 496\n",
      "\t MSE train loss: 0.16210378751152724\n",
      "Epoch: 497\n",
      "\t MSE train loss: 0.16186166713703742\n",
      "Epoch: 498\n",
      "\t MSE train loss: 0.16371992525517925\n",
      "Epoch: 499\n",
      "\t MSE train loss: 0.15966322072979452\n",
      "Epoch: 500\n",
      "\t MSE train loss: 0.1769477047826351\n"
     ]
    }
   ],
   "source": [
    "weights, bias, epoch_losses = fit(\n",
    "    X, y, \n",
    "    batch_size=64, \n",
    "    hidden_neurons=20, \n",
    "    epochs=500, \n",
    "    alpha=.1\n",
    ")"
   ]
  },
  {
   "cell_type": "code",
   "execution_count": 168,
   "id": "3c3cc3c2",
   "metadata": {},
   "outputs": [
    {
     "data": {
      "image/png": "[encoded data removed]",
      "text/plain": [
       "<Figure size 432x288 with 1 Axes>"
      ]
     },
     "metadata": {
      "needs_background": "light"
     },
     "output_type": "display_data"
    }
   ],
   "source": [
    "plt.plot(epoch_losses, label='Train loss')\n",
    "plt.title(\"Learning Curve\")\n",
    "plt.ylabel(\"MSE\")\n",
    "plt.xlabel(\"Epoch\")\n",
    "plt.legend()\n",
    "plt.show()"
   ]
  },
  {
   "cell_type": "markdown",
   "id": "a575dfd4",
   "metadata": {},
   "source": [
    "Finally, we can make predictions simply by passing data to the `forward()` function."
   ]
  },
  {
   "cell_type": "code",
   "execution_count": 169,
   "id": "abbd9a54",
   "metadata": {
    "scrolled": true
   },
   "outputs": [
    {
     "data": {
      "text/plain": [
       "array([[3.4438196 ],\n",
       "       [3.39941493],\n",
       "       [3.39051256],\n",
       "       [3.13830421],\n",
       "       [3.30190806],\n",
       "       [3.35099988],\n",
       "       [3.19593143],\n",
       "       [3.25598872],\n",
       "       [2.95642252],\n",
       "       [2.95735068],\n",
       "       [3.12238783],\n",
       "       [3.05592309],\n",
       "       [3.21350747],\n",
       "       [3.13888044],\n",
       "       [3.15067387],\n",
       "       [2.99077946],\n",
       "       [2.97243141],\n",
       "       [2.99663331],\n",
       "       [3.04074303],\n",
       "       [2.62318184],\n",
       "       [2.84362717],\n",
       "       [2.977201  ],\n",
       "       [2.84407245],\n",
       "       [2.90969515],\n",
       "       [2.82407862],\n",
       "       [2.88258666],\n",
       "       [2.94816922],\n",
       "       [2.78794219],\n",
       "       [2.74519444],\n",
       "       [2.64792441],\n",
       "       [2.26018301],\n",
       "       [2.6860188 ],\n",
       "       [2.71918225],\n",
       "       [2.58096881],\n",
       "       [2.51640161],\n",
       "       [2.69444582],\n",
       "       [2.64324097],\n",
       "       [2.59001536],\n",
       "       [2.64628725],\n",
       "       [2.6278341 ],\n",
       "       [2.48382782],\n",
       "       [2.24820533],\n",
       "       [2.59104389],\n",
       "       [2.56344294],\n",
       "       [2.04013298],\n",
       "       [2.55708037],\n",
       "       [2.50625531],\n",
       "       [2.55614979],\n",
       "       [2.54964892],\n",
       "       [2.40410065],\n",
       "       [2.54098838],\n",
       "       [2.60254749],\n",
       "       [2.65435859],\n",
       "       [2.68854206],\n",
       "       [2.73357234],\n",
       "       [2.60622178],\n",
       "       [2.73013603],\n",
       "       [2.82316923],\n",
       "       [2.79699958],\n",
       "       [2.86185652],\n",
       "       [3.19825291],\n",
       "       [3.10270353],\n",
       "       [3.21079399],\n",
       "       [3.24864265],\n",
       "       [3.29536584],\n",
       "       [3.33921097],\n",
       "       [3.42203964],\n",
       "       [3.54976168],\n",
       "       [3.85650443],\n",
       "       [4.22061266],\n",
       "       [4.5694384 ],\n",
       "       [4.53347568],\n",
       "       [4.65951056],\n",
       "       [4.86547933],\n",
       "       [4.89060761],\n",
       "       [5.03737987],\n",
       "       [5.56050471],\n",
       "       [5.64377072],\n",
       "       [5.57537314],\n",
       "       [5.76506733],\n",
       "       [5.70688021],\n",
       "       [6.06971832],\n",
       "       [6.34404287],\n",
       "       [6.52022149],\n",
       "       [6.64455257],\n",
       "       [6.94149368],\n",
       "       [6.86608159],\n",
       "       [7.50198683],\n",
       "       [7.66670173],\n",
       "       [8.02504932],\n",
       "       [8.07972526],\n",
       "       [8.37602105],\n",
       "       [8.58924549],\n",
       "       [8.78019042],\n",
       "       [8.89603563],\n",
       "       [8.99526542],\n",
       "       [9.12806923],\n",
       "       [9.17844134],\n",
       "       [9.19392533],\n",
       "       [9.33057151]])"
      ]
     },
     "execution_count": 169,
     "metadata": {},
     "output_type": "execute_result"
    }
   ],
   "source": [
    "y_hat, _, _ = forward(X, weights=weights, bias=bias)\n",
    "y_hat"
   ]
  },
  {
   "cell_type": "code",
   "execution_count": 170,
   "id": "56c646c3",
   "metadata": {},
   "outputs": [
    {
     "data": {
      "text/plain": [
       "[<matplotlib.lines.Line2D at 0x7fb7dc6a3760>]"
      ]
     },
     "execution_count": 170,
     "metadata": {},
     "output_type": "execute_result"
    },
    {
     "data": {
      "image/png": "[encoded data removed]",
      "text/plain": [
       "<Figure size 432x288 with 1 Axes>"
      ]
     },
     "metadata": {
      "needs_background": "light"
     },
     "output_type": "display_data"
    }
   ],
   "source": [
    "plt.plot(y, '.')\n",
    "plt.plot(y_hat, '.')"
   ]
  }
 ],
 "metadata": {
  "kernelspec": {
   "display_name": "Python 3",
   "language": "python",
   "name": "python3"
  },
  "language_info": {
   "codemirror_mode": {
    "name": "ipython",
    "version": 3
   },
   "file_extension": ".py",
   "mimetype": "text/x-python",
   "name": "python",
   "nbconvert_exporter": "python",
   "pygments_lexer": "ipython3",
   "version": "3.8.8"
  },
  "toc": {
   "base_numbering": 1,
   "nav_menu": {},
   "number_sections": true,
   "sideBar": true,
   "skip_h1_title": false,
   "title_cell": "Table of Contents",
   "title_sidebar": "Contents",
   "toc_cell": false,
   "toc_position": {
    "height": "calc(100% - 180px)",
    "left": "10px",
    "top": "150px",
    "width": "216px"
   },
   "toc_section_display": true,
   "toc_window_display": true
  }
 },
 "nbformat": 4,
 "nbformat_minor": 5
}
