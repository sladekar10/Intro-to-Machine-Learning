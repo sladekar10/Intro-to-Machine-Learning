{
 "cells": [
  {
   "cell_type": "code",
   "execution_count": 80,
   "metadata": {
    "id": "ljZZdX21X8LE"
   },
   "outputs": [],
   "source": [
    "from typing import List, Tuple\n",
    "\n",
    "import numpy as np\n",
    "import pandas as pd\n",
    "import seaborn as sns\n",
    "import matplotlib.pyplot as plt\n",
    "%matplotlib inline"
   ]
  },
  {
   "cell_type": "markdown",
   "metadata": {
    "id": "qH3kUs4eX8LG"
   },
   "source": [
    "$\\newcommand{\\xv}{\\mathbf{x}}\n",
    " \\newcommand{\\wv}{\\mathbf{w}}\n",
    " \\newcommand{\\yv}{\\mathbf{y}}\n",
    " \\newcommand{\\zv}{\\mathbf{z}}\n",
    " \\newcommand{\\uv}{\\mathbf{u}}\n",
    " \\newcommand{\\vv}{\\mathbf{v}}\n",
    " \\newcommand{\\tv}{\\mathbf{t}}\n",
    "  \\newcommand{\\bv}{\\mathbf{b}}\n",
    " \\newcommand{\\Chi}{\\mathcal{X}}\n",
    " \\newcommand{\\R}{\\rm I\\!R}\n",
    " \\newcommand{\\sign}{\\text{sign}}\n",
    " \\newcommand{\\Tm}{\\mathbf{T}}\n",
    " \\newcommand{\\Xm}{\\mathbf{X}}\n",
    " \\newcommand{\\Zm}{\\mathbf{Z}}\n",
    " \\newcommand{\\Im}{\\mathbf{I}}\n",
    " \\newcommand{\\Um}{\\mathbf{U}}\n",
    " \\newcommand{\\Vm}{\\mathbf{V}} \n",
    " \\newcommand{\\muv}{\\boldsymbol\\mu}\n",
    " \\newcommand{\\Sigmav}{\\boldsymbol\\Sigma}\n",
    " \\newcommand{\\Lambdav}{\\boldsymbol\\Lambda}\n",
    "$\n",
    "\n",
    "# Naive Bayes\n"
   ]
  },
  {
   "cell_type": "markdown",
   "metadata": {
    "id": "vAAvWkfcX8LH"
   },
   "source": [
    "## Table of notation\n",
    "\n",
    "| Symbol                     | Meaning                     | Symbol    | Meaning                                                          |\n",
    "|----------------------------|-----------------------------|-----------|------------------------------------------------------------------|\n",
    "| $\\xv$ or $\\vec{x}$         | feature/input vector        | $x_i$     | $i$th element of $\\xv$                                           |\n",
    "| $\\Xm$                      | input matrix                | $x_{i,j}$ | $i$th row and $j$th column of $\\Xm$                              |\n",
    "| $\\yv$ or $\\tv$             | labels/targets              | $n$       | number of features or columns \n",
    "| $\\wv$ or $\\mathbf{\\theta}$ | weight/parameter vector     | $m$       | number of data samples <br>(also used to refer to the slope) |samples or rows                                   |\n",
    "| $f$ or $h$                 | hypothesis function <br> (i.e., a model)        | $\\hat{\\yv}$ <br> $f(\\xv {;} \\wv)$<br>$h(\\xv {;} \\wv)$ | predictions <br> y-hat |\n",
    "| $E$              | error or sum of error (loss)  | $SSE$      | sum of squared error function                                            |\n",
    "| $MSE$                      | mean squared error| $\\nabla$  | gradient (nabla)                                       |\n",
    "| $\\partial$                 | partial derivative          | $\\alpha$  | learning rate (alpha)                                  |       \n",
    "| $J$ | general placeholder for <br>the objective function | $x^T$| transpose of a vector or matrix |\n",
    "$b$ | bias or y-intercept term | $T$ | Threshold |\n",
    "$*$| element-wise<br> multiplication | $\\cdot$ | dot product|\n",
    "| $z$<br>$\\zv$| value before applying activation function |  $X, Y$ | Random variables |\n",
    "| $K$| number/set of classes | $k$ | current class|\n",
    "| $MAP$|  maximum a posteriori | $ML$ |  maximum likelihood|\n"
   ]
  },
  {
   "cell_type": "markdown",
   "metadata": {
    "id": "NY2vJQljX8LI"
   },
   "source": [
    "## Review\n",
    "Before we dive into Naive Bayes we first need to review the fundamentals of probability theory. As we'll see shortly, Naive Bayes takes these fundamentals and creates a simple and elegant algorithm.\n",
    "\n",
    "### Probability theory\n",
    "First, recall the following foundational terms.\n",
    "\n",
    "#### **Random variables**: X and Y\n",
    "Here $X$ and $Y$ will be <u>two different [random variables](https://www.khanacademy.org/math/statistics-probability/random-variables-stats-library/random-variables-discrete/v/random-variables?modal=1)</u>. In classical probability theory. Further, depending on the domain/field, the following could be other ways to write the random variables $X$ and $Y$: \n",
    "\n",
    "$$\n",
    "X = B = E \\\\\n",
    "Y = A = H\n",
    "$$\n",
    "\n",
    "*Note, $X$ and $Y$ here DO NOT refer to matrices!*\n",
    "\n",
    "#### **Marginal probability**: P(X) or P(Y)\n",
    "$P(X)$ is read as the *probability of $X$ occurring* while $P(Y)$ is read as the probability of $Y$ occurring. When we are interested in the probability of a <u>single random event occurring irrespective of the outcome of another variable</u> we refer to this as the marginal probability. Thus, we want just the probability of $X$ or just the probability of $Y$ occurring.\n",
    "\n",
    "#### **Joint probability**: P(X, Y)\n",
    "$P(X, Y)$ is read as *the probability of $X$ and $Y$*. $P(X, Y)$ can also be written $P(X \\cap Y)$ or $P(X \\land Y)$. Joint probability simply refers to when we are interested in probability of <u>two or more events occurring simultaneously</u>. Thus, we want the probability $X$ and $Y$ occur at the same time.\n",
    "\n",
    "#### **Conditional probability**: P(Y | X)\n",
    "$P(Y \\mid X)$ is read as the *probability of $Y$ given $X$*. When we are interested in the <u>probability of $Y$ occurring **given** $X$ has already occurred</u>, we refer to this as the conditional probability. Meaning, we are interested in the probability of $Y$ conditioned on $X$.\n",
    "\n",
    "#### **Product rule** or chain rule \n",
    "The product rules is defined as follows:\n",
    "$$\n",
    "P(X, Y) = P(Y \\mid X) P (X) = P(X | Y) P (Y)\n",
    "$$\n",
    "\n",
    "The product rule relates the joint and conditional probabilities and provides us with a way of computing the joint or conditional probability if one is not given. Notice that the product rule is symmetrical, meaning we can swap the places $X$ and $Y$ and achieve the same answer $P(Y \\mid X) P (X) = P(X | Y) P (Y)$.\n",
    "\n",
    "#### **Independence rule**\n",
    "When we assume our random variables are independent from one another, meaning $X$ does not influence the outcome of $Y$ and vice-versa, the following can be said about the our conditional and joint probabilities:\n",
    "\n",
    "- **Conditional**: $P(Y \\mid X) = P(Y)$\n",
    "    - If $Y$ is independent of $X$ then when given $X$, the probability of $Y$ occurring is unchanged or simply just the marginal of $Y$. The same idea is applied to the reverse $P(X \\mid Y) = P(X)$.\n",
    "    \n",
    "- **Joint**: $P(X, Y) = P(X) P(Y)$\n",
    "    - When $X$ and $Y$ are independent the joint probability is simply the two probabilities multiplied. Notice, assuming independence means we simplify the product rule simply to $P(X)P(Y)$.\n",
    "    \n",
    "<!-- *Note, it is assumed we multiply the probabilities when no operator is given.* -->"
   ]
  },
  {
   "cell_type": "markdown",
   "metadata": {
    "id": "YYfTDelHX8LI"
   },
   "source": [
    "## Probabilistic classification\n",
    "\n",
    "With these fundamental probability definitions in mind, let's reformulate our classification problem using conditional probability $P(Y \\mid X)$.\n",
    "\n",
    "Recall $\\Xm$ contains our input features with $m$ data samples and $n$ features. Further, for each data sample $\\xv$, there is a corresponding label $y$. Thus, we'll say $X = \\xv$ and $Y = y$.\n",
    "\n",
    "We can formulate **our classification problem** as the probability of a label $y$ given a single data sample $\\xv$. Recall, this **is just a conditional probability** that can be written as follows:\n",
    "$$\n",
    "P(y \\mid \\xv).\n",
    "$$\n",
    "\n",
    "Now, recall we typically have multiple classes and therefore multiple labels such that we have $K$ classes $\\{1, 2, ..., k\\}$. This means we want to predict/compute the probability for EACH class. Thus, we compute the probability that a data sample $\\xv$ belongs to a given class $y_k$ where $k$ is simply a placeholder for the current class. We can write the following instead:\n",
    "\n",
    "$$\n",
    "P(y_k \\mid \\xv), \\textrm{ or}\\quad P(y = k\\mid \\xv)\n",
    "$$\n",
    "where in this equation\n",
    "- $P(y_k \\mid \\xv)$ is the probability of class $y_k$ given the current data sample $\\xv$. If we had 3 classes $K=3$ we would need to compute $P(y_k \\mid \\xv)$ for EACH class! See the below example.\n",
    "    - Probability of class 1:  $P(y_1 \\mid \\xv)$ \n",
    "    - Probability of class 2:  $P(y_2 \\mid \\xv)$ \n",
    "    - Probability of class 3:  $P(y_3 \\mid \\xv)$ \n",
    "\n",
    "To select the predicted label for each data sample, we simply select the class label with **largest probability**. This can be written mathematically as follows:\n",
    "\n",
    "$$\n",
    "\\hat{y} = \\arg \\max_{k \\in K} P(Y=y_k \\mid X=\\xv)\n",
    "$$\n",
    "\n",
    "\n",
    "where in this equation\n",
    "- $K$ is the set of classes or number of class. For instance, if we had 3 classes then $K$ would contain the set $K \\in \\{1,2,3\\}$\n",
    "- $\\arg \\max$, in general terms, refers to the point that maximizes a given function. In relation to our problem, $\\arg \\max$ refers to selecting the **label** for the class that has the highest probability.\n",
    "    - $\\arg \\max_{k \\in K}$ indicates we want to compute the $\\arg \\max$ over all the possible classes. <u>This means $\\hat{y} $ would be the label corresponding to the class with the largest probability</u>. For instance, if our labels were {0,1,2\\}, $\\hat{y}$  could only take on ONE of the labels from the set such that $\\hat{y} \\in$  \\{0,1,2\\}."
   ]
  },
  {
   "cell_type": "markdown",
   "metadata": {
    "id": "YCdVGrK3X8LJ"
   },
   "source": [
    "# Naive Bayes classifier\n",
    "\n",
    "Given these probability fundamentals and the formulation of probabilistic classification we are ready to tackle Naive Bayes. Our goal will be to find what we call the posterior probability $P(Y = y_k \\mid X = \\xv)$ for each of the $K$ classes. However, directly computing the posterior probability from the training data isn't possible. All hope isn't lost, we can actually approximate the posterior probability using Bayes rule! Let's take a look at how to derive Bayes rule."
   ]
  },
  {
   "cell_type": "markdown",
   "metadata": {
    "id": "2edC07KuX8LJ"
   },
   "source": [
    "## Bayes rule\n",
    "\n",
    "Recall that Bayes rules is given as follows:\n",
    "$$\n",
    "P(Y \\mid X)  = \\frac{P(X \\mid Y) P(Y)}{P(X)}\n",
    "$$\n",
    "\n",
    "How did we get here though? We'll, we can simply use the definitions of joint and conditional probability to derive Bayes rule.\n",
    "\n",
    "First, recall that the joint probability definition is symmetrical such that the following is true:\n",
    "$$\n",
    "P(Y, X) = P(X, Y). \n",
    "$$\n",
    "\n",
    "Additionally, we can write the joint probability using the product rule, which is also symmetrical, as follows:\n",
    "$$\n",
    "\\begin{align}\n",
    "P(Y, X) = P(Y \\mid X) P(X), \\\\\n",
    "P(X, Y) = P(X \\mid Y) P(Y). \n",
    "\\end{align}\n",
    "$$\n",
    "\n",
    "Now, if we substitute the product rule into the symmetrical joint distribution definition given above we get the following:\n",
    "\n",
    "$$\n",
    "P(Y \\mid X) P(X) = P(X \\mid Y) P(Y)\n",
    "$$\n",
    "\n",
    "Thus, if we move $P(X)$ to the right hand side of the equation (by dividing) we get Bayes rule as follows:\n",
    "\n",
    "$$\n",
    "P(Y \\mid X)  = \\frac{P(X \\mid Y) P(Y)}{P(X)}\n",
    "$$\n",
    "\n",
    "where the following terms are used.\n",
    "- $P(Y \\mid X)$ is referred to as the *posterior*\n",
    "    - Recall, in practice, the posterior is the probability of a label given our data. This is what we want to find!\n",
    "- $P(X \\mid Y)$ is referred to as the *likelihood*\n",
    "    - Likelihood is slightly less intuitive. It refers to the *likelihood* a data sample belongs to a label. It is common practice to refer to the likelihood as the probability although this is technically incorrect as the likelihood is not a probability as its value is not constrained between 0 and 1. More on this soon.\n",
    "- $P(Y)$ is referred to as the *prior*\n",
    "    - The prior simply refers to the distribution of our labels or what is the probability of each label occurring. This is easily computed from the training data.\n",
    "- $P(X \\mid Y) P (Y)$ is often referred to as the *joint likelihood*\n",
    "- $P(X)$ is referred to as the *evidence*\n",
    "    - Evidence refers to the distribution over our data or the probability of data occurring. As we'll see shortly, the evidence acts as a normalization term and turns the joint likelihood into an actual probability. More on this term soon!\n",
    "\n",
    "The below picture depicts these same terms. Here $A=Y$ and $X=B$.\n",
    "<img src=\"https://miro.medium.com/max/1400/1*CnoTGGO7XeUpUMeXDrIfvA.png\" width=300 height=300>\n",
    "\n"
   ]
  },
  {
   "cell_type": "markdown",
   "metadata": {
    "id": "5vCGLeayX8LJ"
   },
   "source": [
    "## Naive Bayes assumption\n",
    "The big assumption that Naive Bayes makes is called *conditional independence*. Before explaining what this term means, let's see how we would compute $P(\\xv | y_k)$ first. \n",
    "\n",
    "Recall that $\\xv$ contains $n$ features meaning $P(\\xv | y_k) = P(x_1, x_2, ..., x_n | y_k)$. Thus, we would have to compute the probability of a feature $x_i$ given a particular label $y_k$ and combinations of the other features. For instance, imagine we have 3 features, to compute  $P(\\xv | y_k)$ we would have to do the following:\n",
    "$$\n",
    "\\begin{align}\n",
    "P(x_1, x_2, x_3 | y_k) = & P(x_1|x_2,x_3,y_k) P(x_1| x_2, y_k) P(x_1| x_3, y_k) \\\\ \n",
    "& P(x_2 | x_1, x_3, y_k) P(x_2|x_1,y_k) P(x_2|x_3,y_k) \\\\\n",
    "& P(x_3|x_1,x_2,y_k) P(x_3 | x_1, y_k) P(x_3 | x_1, y_k)\n",
    "\\end{align}\n",
    "$$\n",
    "\n",
    "However, if we assume our data is conditional independent we only have to compute the following:\n",
    "\n",
    "$$\n",
    "P(x_1, x_2, x_3 | y_k) = P(x_1|y_k) P(x_2|y_k) P(x_3 | y_k)\n",
    "$$\n",
    "\n",
    "Recall that **conditional independence** means that our data features are independent of each other only when conditioned on $y$. Now **this assumption is not usually actually true, however it greatly simplifies the math**. While this assumption isn't always true and often limits Naive Bayes, results produced by Naive Bayes can still be surprisingly good.\n",
    "\n",
    "**Naive Bayes is referred to as *naive* due to this conditional independence assumption**. In more general terms, for data with $n$ features we can compute $P(\\xv | y_k)$ as follows:\n",
    "\n",
    "$$\n",
    "\\begin{align}\n",
    "P(\\xv | y_k) &= P(x_1|y_k) P(x_2|y_k) ... P(x_n|y_k) \\\\\n",
    "&= \\prod_{i=0}^n P(x_i|y_k)\n",
    "\\end{align}\n",
    "$$\n",
    "\n",
    "where is this equation\n",
    "- $\\prod$ (referred to as the upper case Greek symbol Pi)is the [product symbol](https://mathmaine.com/2018/03/04/pi-notation/) taken over all $n$ features in our data.\n",
    "- $i$ is used to index each of the $n$ features. "
   ]
  },
  {
   "cell_type": "markdown",
   "metadata": {
    "id": "teBlLwgzX8LK"
   },
   "source": [
    "##  Probabilistic Classification with MAP and ML\n",
    "Recall, our goal is to maximize the following equation where $\\hat{y}$ contains the label of the class with the highest probability:\n",
    "\n",
    "$$\n",
    "\\hat{y} = \\arg \\max_{k \\in K} P(Y=y_k \\mid X=\\xv).\n",
    "$$\n",
    "\n",
    "Further, recall that Bayes rule defines how we can compute $P(Y=y_k \\mid X=\\xv)$ such that we can substitute Bayes rule into our maximization equation:\n",
    "\n",
    "$$\n",
    "\\hat{y} = \\arg \\max_{k \\in K} \\frac{P(\\xv \\mid y_k) P(y_k)}{P(\\xv)}\n",
    "$$"
   ]
  },
  {
   "cell_type": "markdown",
   "metadata": {
    "id": "ympQJG1gX8LK"
   },
   "source": [
    "### Temporally dropping the evidence P(X)\n",
    "\n",
    "In practice, we typically drop the denominator $P(X)$ when computing the predictions. In turn, this leaves us with the following equation:\n",
    "\n",
    "$$\n",
    "P(Y \\mid X)  = P(X \\mid Y) P(Y)\n",
    "$$\n",
    "\n",
    "In other words, we have: \n",
    "$$\n",
    "\\hat{y} = \\arg \\max_{k \\in K} P(\\xv \\mid y_k) P(y_k)\n",
    "$$\n",
    "\n",
    "==== Following are explanations, you may skip if not interested in. =======\n",
    "\n",
    "We can drop the denominator $P(X)$ because it acts as a constant. This is because it does not depend on a given class, rather $P(X)$ is based on the sum of ALL classes which means the term never changes (i.e., a constant). This term is also computationally expensive to compute so excluding it can lead to major performance increases as well.\n",
    "\n",
    "If we wanted to compute $P(X)$ we would use the following equation:\n",
    "$$\n",
    "P(X) = \\sum_{k=1}^K P(X | Y= y_k)P(Y = y_k).\n",
    "$$\n",
    "\n",
    "Notice how this equation is the same no matter which class we use since the sum is always over ALL classes!\n",
    "\n",
    "Finally, for some more intuition for $P(X)$, below is the Bayes rule with the expanded equation of $P(X)$.\n",
    "\n",
    "$$\n",
    "\\begin{align}\n",
    "P(Y \\mid X) &= \\frac{P(X | Y)P(Y)}{P(X)} \\\\\n",
    "&= \\frac{P(X | Y = y_k)P(Y = y_k)}{\\sum_{k=1}^K P(X | Y= y_k)P(Y = y_k)}\n",
    "\\end{align}\n",
    "$$\n",
    "\n",
    "Notice, how the numerator and denominator are almost the same, except the denominator has a summation over ALL classes! This is because $P(X)$ acts as a normalizing term. Recall the numerator is for a specific class $k$ and the denominator is for all classes! \n",
    "\n",
    "Remember how the denominator $P(X)$ computes the distribution over our data? This means our numerator computes the distribution over our data for a given class and the denominator computes the distribution over our data for ALL classes! If we left $P(X)$ in Bayes rule, it would convert the product in the numerator into an actual probability (more on this soon)."
   ]
  },
  {
   "cell_type": "markdown",
   "metadata": {
    "id": "YaMMA2BLX8LK"
   },
   "source": [
    "\n",
    "### Maximum a posteriori (MAP)\n",
    "\n",
    "After dropping $P(\\xv)$, as this term is a constant, this leaves us with an equation we refer to as the *maximum a posteriori* (MAP). MAP is given as follows:\n",
    "\n",
    "$$\n",
    "\\begin{align}\n",
    "\\hat{y}_{MAP} &=  \\arg \\max_{k \\in K} P(y_k) \\prod_{i=0}^n P(x_i|y_k) \\\\\n",
    "&= \\arg \\max_{k \\in K} P(\\xv \\mid y_k) P(y_k)\n",
    "\\end{align}\n",
    "$$\n",
    "\n",
    "Notice, we are making a prediction based on the largest joint likelihood now!\n",
    "\n",
    "### Maximum likelihood (ML)\n",
    "\n",
    "Lastly, we can drop $P(y_k)$ if we assume all the classes are equally likely to be picked. In other words, we assume there are equal number of data samples for each class such that $P(y)$ for all classes is a uniform distribution. This means, all class priors are the same! In turn, $P(y_k)$ then becomes constant and we can drop it from the equation! \n",
    "\n",
    "Finally, after dropping both $P(\\xv)$ and $P(y_k)$, this leaves us with an equation we refer to as the *maximum likelihood* (ML). ML is given as follows:\n",
    "$$\n",
    "\\begin{align}\n",
    "\\hat{y}_{ML} &= \\arg \\max_{k \\in K} \\prod_{i=0}^n P(x_i|y_k) \\\\\n",
    "&= \\arg \\max_{k \\in K} P(\\xv \\mid y_k)\n",
    "\\end{align}\n",
    "$$\n",
    "\n",
    "Notice, we are making a prediction based on the largest likelihood now!\n",
    "\n",
    "### Differences between MAP and ML\n",
    "\n",
    "The main differences between MAP and ML is that *MAP assumes some prior evidence while ML does not*. Which is better? Well, it is hard to say which is truly better. However, we can say that when given enough data MAP and ML tend to perform the same. Thus, it can be more efficient to use ML. Further, *if we have very little data, MAP can perform better as it allows us to inject our prior knowledge or beliefs into the equation*. That being said, if our prior beliefs are wrong, MAP can perform worse than ML."
   ]
  },
  {
   "cell_type": "markdown",
   "metadata": {
    "id": "a69kTbCcX8LK"
   },
   "source": [
    "### More efficient MAP and ML equations\n",
    "You might be wondering at this point. Hey, there is a product term $\\prod$ in both the MAP and ML equations. Isn't this an issue as computing the product over small numbers can lead to numerical instability such as [underflow](https://www.computerhope.com/jargon/u/underflo.htm)?\n",
    "\n",
    "The answer is yes, this is an issue. The solution to this is actually extremely simple and it requires using our good friend the $\\log$.\n",
    "\n",
    "Recall that taking the log of a product converts said product to a sum. For instance, if we have $f = a * b$ and we take the $\\log$ of $f$ we get the following: \n",
    "\n",
    "$$\n",
    "\\log(f) = \\log(a*b) = \\log(a) + \\log(b).\n",
    "$$ \n",
    "\n",
    "Further, if we take the $\\log$ of a product $\\prod$ we get a sum $\\sum$.\n",
    "\n",
    "#### Log maximum a posteriori (MAP)\n",
    "Applying the log to MAP gives us the following equation:\n",
    "$$\n",
    "\\begin{align}\n",
    "\\hat{y}_{MAP} &=  \\arg \\max_{k \\in K} \\log P(y_k) + \\sum_{i=0}^n \\log P(x_i|y_k) \\\\\n",
    "&=  \\arg \\max_{k \\in K} \\log P(\\xv \\mid y_k) + \\log P(y_k).\n",
    "\\end{align}\n",
    "$$\n",
    "\n",
    "\n",
    "#### Log maximum likelihood  (ML)\n",
    "Applying the log to ML gives us the following equation:\n",
    "$$\n",
    "\\begin{align}\n",
    "\\hat{y}_{ML} &= \\arg \\max_{k \\in K} \\sum_{i=0}^n \\log P(x_i|y_k) \\\\\n",
    "&= \\arg \\max_{k \\in K} \\log P(\\xv \\mid y_k).\n",
    "\\end{align}\n",
    "$$"
   ]
  },
  {
   "cell_type": "markdown",
   "metadata": {
    "id": "0ou7jUx1X8LL"
   },
   "source": [
    "### Goal\n",
    "**Our goal for Naive Bayes is to make predictions using either the $\\log$ of the MAP or ML equations, <u>however we'll focus on MAP.</u>** For Naive Bayes this means we need to simply compute the $P(\\xv \\mid y_k)$ and $P(y_k)$ from our training data and then apply the $\\log$. Now, to compute these terms there are multiple ways for doing. For this module, we are going to look at how to do so using Gaussian Naive Bayes. \n",
    "\n",
    "*Note, in the future we'll see algorithms that use a variation of ML as a cost function (for those interested I'm referring to cross-entropy and the negative log likelihood)!*"
   ]
  },
  {
   "cell_type": "markdown",
   "metadata": {
    "id": "iFSlSqmTX8LL"
   },
   "source": [
    "# Gaussian Naive Bayes\n",
    "\n",
    "Gaussian Naive Bayes aims to expand Naive Bayes to work with continuous features. Typically, [classical Naive Bayes](https://scikit-learn.org/stable/modules/naive_bayes.html#categorical-naive-bayes) (also called Categorical Naive Bayes) computes the likelihood $P(\\xv \\mid y_k)$ for each feature in a class by counting the frequency of unique values (i.e., categories) and dividing by the total number of values seen for said feature. Notice, that is impossible for continuous features since almost all the values for the continuous feature will be unique. Therefore, classical Naive Bayes can only be used on discrete/categorical features. Thus, we need a different approach that works for continuous features.\n",
    "\n",
    "Gaussian Naive Bayes computes the likelihood $P(\\xv \\mid y_k)$ by modeling each feature as a Gaussian distribution (i.e., Gaussian Naive Bayes assumes our data follows a Gaussian distribution which may not be true). By doing so, Gaussian Naive Bayes **ONLY** works with continuous features. \n",
    "\n",
    "All we need to do to compute the likelihoods $P(\\xv \\mid y_k)$ is that: for **every class** is we need to **compute the mean and standard deviation** for **every continuous feature**. We do so using the training data only. Once this is done, we can simply pass any data along with the means and standard deviations to the Gaussian equation to compute the likelihoods for all data samples and classes!\n",
    "\n",
    "Recall, to make a prediction we will use the $\\log$ of the MAP equation given previously! That being said, keep in mind that when the priors $P(y_k)$ are equal for all classes, MAP essentially reduces to a scaled version ML. We can compute the priors $P(y_k)$ for each class by computing the ratio of data samples per class divided by the total number of data samples. \n",
    "\n",
    "Let's take a deeper look at how to compute the $\\log$ of $P(\\xv \\mid y_k)$ and $P(y_k)$."
   ]
  },
  {
   "cell_type": "markdown",
   "metadata": {
    "id": "GgxsXJgVX8LL"
   },
   "source": [
    "### Toy Data\n",
    "\n",
    "Before we get started we need to define some toy data. We do so using Sklearn's `make_circles()` function which makes non-linear data that consists of 2 class, an outer circle class (class 0, label 0) and inner circle class (class 1, label 1)."
   ]
  },
  {
   "cell_type": "code",
   "execution_count": 81,
   "metadata": {
    "colab": {
     "base_uri": "https://localhost:8080/",
     "height": 302
    },
    "id": "rmwIEi71X8LL",
    "outputId": "48f9684f-aae6-4723-e6e1-42e05bb8fda5"
   },
   "outputs": [
    {
     "name": "stdout",
     "output_type": "stream",
     "text": [
      "X shape: (100, 2)\n",
      "y shape: (100,)\n"
     ]
    },
    {
     "data": {
      "image/png": "[encoded data removed]",
      "text/plain": [
       "<Figure size 432x288 with 1 Axes>"
      ]
     },
     "metadata": {
      "needs_background": "light"
     },
     "output_type": "display_data"
    }
   ],
   "source": [
    "from sklearn.datasets import make_circles\n",
    "\n",
    "def nonlinear_data(\n",
    "    n_samples: int = 100, \n",
    "    balance: List = None,\n",
    "    seed: int = 42\n",
    ") -> List[np.ndarray]:\n",
    "    X, y = make_circles(random_state=seed, factor=.5, noise=.05)\n",
    "    \n",
    "    classes = np.unique(y)\n",
    "    \n",
    "    # Create imbalanced data by selecting only a\n",
    "    # subset of the actual data samples for each class\n",
    "    if balance is not None:\n",
    "        rng = np.random.RandomState(seed)\n",
    "        new_X = []\n",
    "        new_y = []\n",
    "        for idx, c in enumerate(classes):\n",
    "            class_locations = np.where(y == c)[0]\n",
    "            selected_samples = int(len(X)*balance[idx])\n",
    "            subsample_locs = rng.choice(class_locations, selected_samples)\n",
    "            new_X.append(X[subsample_locs])\n",
    "            new_y.append(y[subsample_locs])\n",
    "        X = np.vstack(new_X)\n",
    "        y = np.hstack(new_y)\n",
    "    return X, y\n",
    "    \n",
    "X, y = nonlinear_data()\n",
    "print(f\"X shape: {X.shape}\")\n",
    "print(f\"y shape: {y.shape}\")\n",
    "\n",
    "# Find data samples for each class\n",
    "class_0 = np.where(y == 0)[0]\n",
    "class_1 = np.where(y == 1)[0]\n",
    "\n",
    "# Plot data\n",
    "plt.plot(X[class_0, 0], X[class_0, 1], 'or', label='class 0')\n",
    "plt.plot(X[class_1, 0], X[class_1, 1], 'xb', label='class 1')\n",
    "plt.xlim([np.min(X[:, 0])-.5, np.max(X[:, 0])+.5])\n",
    "plt.ylim([np.min(X[:, 1])-.5, np.max(X[:, 1])+.5])\n",
    "plt.legend()\n",
    "plt.show();"
   ]
  },
  {
   "cell_type": "markdown",
   "metadata": {
    "id": "2fm4yW43X8LM"
   },
   "source": [
    "Below we can see our data is a (100, 2) meaning we have 100 data samples and 2 features."
   ]
  },
  {
   "cell_type": "code",
   "execution_count": 82,
   "metadata": {
    "colab": {
     "base_uri": "https://localhost:8080/"
    },
    "id": "y-deVTzeX8LM",
    "outputId": "ea7be6b3-3006-49d5-81ea-00b454cc40ff",
    "scrolled": true
   },
   "outputs": [
    {
     "data": {
      "text/plain": [
       "array([[-0.23609814, -0.4675    ],\n",
       "       [ 0.48869037,  0.24924534],\n",
       "       [-0.39392915,  0.32374486],\n",
       "       [ 0.76420024, -0.59338464],\n",
       "       [ 0.80241569, -0.74074202],\n",
       "       [ 0.23488158, -0.89596143],\n",
       "       [-0.90688223,  0.28391018],\n",
       "       [-0.38816624, -0.29794857],\n",
       "       [ 0.33240673,  0.98786263],\n",
       "       [ 0.96101491, -0.04219482],\n",
       "       [-0.64495068,  0.72223536],\n",
       "       [-0.80149254, -0.59345631],\n",
       "       [-0.35261517,  0.0730904 ],\n",
       "       [-0.57492919, -0.82313077],\n",
       "       [ 0.19814375, -0.36116696],\n",
       "       [ 0.95745271,  0.52294033],\n",
       "       [-0.48140439, -0.0178351 ],\n",
       "       [-0.51480768, -0.14015324],\n",
       "       [-0.01133069,  0.98658435],\n",
       "       [-0.68083656, -0.69503173],\n",
       "       [ 0.36580635,  0.27590372],\n",
       "       [ 0.06759942, -0.5118016 ],\n",
       "       [-0.94961864, -0.19089944],\n",
       "       [ 0.49231155, -0.86966009],\n",
       "       [-0.42998185,  0.48945672],\n",
       "       [-0.36383028,  0.99680073],\n",
       "       [ 0.27571396, -0.97674589],\n",
       "       [ 0.45321948, -0.31380268],\n",
       "       [ 0.39264238,  0.89750341],\n",
       "       [-0.50718909,  0.14293781],\n",
       "       [ 0.24171767,  1.03253659],\n",
       "       [ 0.90768818, -0.37233281],\n",
       "       [-0.09265769, -0.5468522 ],\n",
       "       [-0.91287535, -0.26939599],\n",
       "       [ 0.41696373, -0.48225218],\n",
       "       [ 0.77088565,  0.59621822],\n",
       "       [-0.27898349,  0.41900119],\n",
       "       [-0.16137305,  0.54559434],\n",
       "       [-0.31128713, -0.94020968],\n",
       "       [-0.4001581 ,  0.93200149],\n",
       "       [ 0.99351967, -0.18518759],\n",
       "       [-0.38629565, -0.88325258],\n",
       "       [ 0.58258637,  0.73639816],\n",
       "       [ 0.44888408, -0.26361847],\n",
       "       [-1.00459806, -0.26218658],\n",
       "       [-0.73614174,  0.71539729],\n",
       "       [-0.30203728, -0.3389911 ],\n",
       "       [-0.94153962,  0.04366585],\n",
       "       [ 0.04167777,  0.4268392 ],\n",
       "       [-0.11417606,  1.03508876],\n",
       "       [-1.07764118,  0.13128216],\n",
       "       [ 0.97980077,  0.3757456 ],\n",
       "       [-0.56589666,  0.80199721],\n",
       "       [ 0.10359816, -0.97444136],\n",
       "       [ 0.52155233,  0.89759255],\n",
       "       [-0.42218835, -0.09463258],\n",
       "       [ 0.75731333,  0.67632208],\n",
       "       [-0.1008402 ,  0.39441512],\n",
       "       [-0.17984836, -0.983073  ],\n",
       "       [ 0.02718695, -0.49240801],\n",
       "       [ 0.43164272,  0.30554617],\n",
       "       [ 0.44806262, -0.00742021],\n",
       "       [ 0.46986535,  0.3939316 ],\n",
       "       [ 0.57149548, -0.73449388],\n",
       "       [ 0.51579455,  0.00296406],\n",
       "       [-0.22238779,  0.42067769],\n",
       "       [ 0.77948787, -0.52412155],\n",
       "       [-0.25049032,  0.44385807],\n",
       "       [ 0.0750347 ,  0.51632348],\n",
       "       [ 0.60408515, -0.18562162],\n",
       "       [-0.43873251, -0.2313469 ],\n",
       "       [ 0.45612808, -0.92227211],\n",
       "       [ 0.29821987,  0.32495248],\n",
       "       [ 0.9854031 , -0.2461584 ],\n",
       "       [ 0.47341873, -0.14810781],\n",
       "       [ 0.28824333,  0.34458057],\n",
       "       [-0.61590341, -0.01340092],\n",
       "       [-0.5826075 , -0.78728379],\n",
       "       [ 0.39623994, -0.3962836 ],\n",
       "       [ 0.14760477,  0.41487543],\n",
       "       [-0.08267025,  0.43986138],\n",
       "       [-0.19040094, -0.36346731],\n",
       "       [-0.09613769, -1.08261764],\n",
       "       [-0.84346681, -0.55354872],\n",
       "       [ 0.93295142,  0.15008302],\n",
       "       [ 0.4760261 ,  0.08998618],\n",
       "       [-0.87288912,  0.46128323],\n",
       "       [ 1.06306054,  0.21489965],\n",
       "       [-1.01425379,  0.22593823],\n",
       "       [-0.05203334, -0.46923118],\n",
       "       [ 0.11331276, -0.43111223],\n",
       "       [-0.52312162,  0.10150777],\n",
       "       [-0.09607284, -0.4652089 ],\n",
       "       [-0.33828209, -0.36335549],\n",
       "       [-0.7258285 ,  0.55082343],\n",
       "       [ 0.14914877,  0.45121739],\n",
       "       [-0.35850425,  0.21917976],\n",
       "       [-0.22401592,  0.95337341],\n",
       "       [ 0.26112753, -0.46183921],\n",
       "       [ 0.47763485,  0.07052671]])"
      ]
     },
     "execution_count": 82,
     "metadata": {},
     "output_type": "execute_result"
    }
   ],
   "source": [
    "X"
   ]
  },
  {
   "cell_type": "code",
   "execution_count": 83,
   "metadata": {
    "colab": {
     "base_uri": "https://localhost:8080/"
    },
    "id": "G0eEa3ovX8LM",
    "outputId": "0b5633c3-f460-4ebb-effb-e1f065eac9bd"
   },
   "outputs": [
    {
     "data": {
      "text/plain": [
       "(100, 2)"
      ]
     },
     "execution_count": 83,
     "metadata": {},
     "output_type": "execute_result"
    }
   ],
   "source": [
    "X.shape"
   ]
  },
  {
   "cell_type": "markdown",
   "metadata": {
    "id": "2-c3u69pX8LM"
   },
   "source": [
    "Next, we can see our labels `y` consist of either the label 0 for class 0 or 1 for class 1."
   ]
  },
  {
   "cell_type": "code",
   "execution_count": 84,
   "metadata": {
    "colab": {
     "base_uri": "https://localhost:8080/"
    },
    "id": "5AmRSgvxX8LM",
    "outputId": "f7564362-7fda-4a15-ea4a-f3081ca044f6"
   },
   "outputs": [
    {
     "data": {
      "text/plain": [
       "array([1, 1, 1, 0, 0, 0, 0, 1, 0, 0, 0, 0, 1, 0, 1, 0, 1, 1, 0, 0, 1, 1,\n",
       "       0, 0, 1, 0, 0, 1, 0, 1, 0, 0, 1, 0, 1, 0, 1, 1, 0, 0, 0, 0, 0, 1,\n",
       "       0, 0, 1, 0, 1, 0, 0, 0, 0, 0, 0, 1, 0, 1, 0, 1, 1, 1, 1, 0, 1, 1,\n",
       "       0, 1, 1, 1, 1, 0, 1, 0, 1, 1, 1, 0, 1, 1, 1, 1, 0, 0, 0, 1, 0, 0,\n",
       "       0, 1, 1, 1, 1, 1, 0, 1, 1, 0, 1, 1])"
      ]
     },
     "execution_count": 84,
     "metadata": {},
     "output_type": "execute_result"
    }
   ],
   "source": [
    "y"
   ]
  },
  {
   "cell_type": "markdown",
   "metadata": {
    "id": "0ymiRpu8X8LM"
   },
   "source": [
    "## Computing priors P(Y)\n",
    "\n",
    "The first and easiest thing we need to do when computing MAP is to compute the priors $P(y_k)$. To do so, we simply count the number of data samples for each class and divide by the total number of data samples.\n",
    "\n",
    "We can easily get the unique labels from `y` and the number of data samples for each label (i.e., class) by using NumPy's `np.unique()` function and passing the keyword argument `return_counts=True`."
   ]
  },
  {
   "cell_type": "code",
   "execution_count": 85,
   "metadata": {
    "id": "s9_bsCjTX8LN"
   },
   "outputs": [],
   "source": [
    "class_labels, class_count = np.unique(y, return_counts=True)"
   ]
  },
  {
   "cell_type": "code",
   "execution_count": 86,
   "metadata": {
    "colab": {
     "base_uri": "https://localhost:8080/"
    },
    "id": "oFKp3tDIX8LN",
    "outputId": "13ea6626-ff94-455e-e864-3021d7832635"
   },
   "outputs": [
    {
     "data": {
      "text/plain": [
       "array([0, 1])"
      ]
     },
     "execution_count": 86,
     "metadata": {},
     "output_type": "execute_result"
    }
   ],
   "source": [
    "class_labels"
   ]
  },
  {
   "cell_type": "code",
   "execution_count": 87,
   "metadata": {
    "colab": {
     "base_uri": "https://localhost:8080/"
    },
    "id": "6oQMMA2UX8LN",
    "outputId": "f318c6c6-75ba-4155-974b-356d245b11ab"
   },
   "outputs": [
    {
     "data": {
      "text/plain": [
       "array([50, 50])"
      ]
     },
     "execution_count": 87,
     "metadata": {},
     "output_type": "execute_result"
    }
   ],
   "source": [
    "class_count"
   ]
  },
  {
   "cell_type": "markdown",
   "metadata": {
    "id": "5GuZeCb_X8LN"
   },
   "source": [
    "Turning this idea into a function can be see below in the `compute_priors()` function. Notice that all we do to compute the priors is divide the `class_count` array by the total number of data samples `total_data_samples`."
   ]
  },
  {
   "cell_type": "code",
   "execution_count": 88,
   "metadata": {
    "id": "zmxiSC-eX8LN"
   },
   "outputs": [],
   "source": [
    "def compute_priors(y, verbose=True):\n",
    "    class_labels, class_count = np.unique(y, return_counts=True)\n",
    "    total_data_samples = len(y)\n",
    "    priors = class_count / total_data_samples\n",
    "    \n",
    "    if verbose:\n",
    "        print(\"Number of samples per class\")\n",
    "        for c, label in enumerate(class_labels):\n",
    "            print(f\"\\t Class: {c} Label: {label} Count: {class_count[c]}\")\n",
    "    \n",
    "    return priors"
   ]
  },
  {
   "cell_type": "markdown",
   "metadata": {
    "id": "W9IXFcq4X8LN"
   },
   "source": [
    "As we can see, the priors are equal meaning our solution to MAP will just be a scaled version of ML. We say \"scaled\" because the prior just acts as a constant that scales the value."
   ]
  },
  {
   "cell_type": "code",
   "execution_count": 89,
   "metadata": {
    "colab": {
     "base_uri": "https://localhost:8080/"
    },
    "id": "fhKlfCOhX8LN",
    "outputId": "131f5acf-b73b-4797-bbd5-abd061d83e35"
   },
   "outputs": [
    {
     "name": "stdout",
     "output_type": "stream",
     "text": [
      "Number of samples per class\n",
      "\t Class: 0 Label: 0 Count: 50\n",
      "\t Class: 1 Label: 1 Count: 50\n",
      "priors: [0.5 0.5]\n"
     ]
    }
   ],
   "source": [
    "X, y = nonlinear_data()\n",
    "\n",
    "priors = compute_priors(y, verbose=True)\n",
    "print(f\"priors: {priors}\")"
   ]
  },
  {
   "cell_type": "markdown",
   "metadata": {
    "id": "vIe-FAoDX8LN"
   },
   "source": [
    " Furthermore, if the classes were not balanced, the priors might look like the below example. Notice, when we only include 50% of the class 0 data, we can see our priors shift and are no longer equal as our data is imbalanced!"
   ]
  },
  {
   "cell_type": "code",
   "execution_count": 90,
   "metadata": {
    "colab": {
     "base_uri": "https://localhost:8080/"
    },
    "id": "Fz30Pr1-X8LO",
    "outputId": "85e4cf34-53c3-4a8a-997e-0850cdcd134f"
   },
   "outputs": [
    {
     "name": "stdout",
     "output_type": "stream",
     "text": [
      "Number of samples per class\n",
      "\t Class: 0 Label: 0 Count: 50\n",
      "\t Class: 1 Label: 1 Count: 100\n",
      "imbalanced priors: [0.33333333 0.66666667]\n"
     ]
    }
   ],
   "source": [
    "imbalanced_X, imbalanced_y = nonlinear_data(balance=[.5, 1])\n",
    "\n",
    "imbalanced_priors = compute_priors(imbalanced_y, verbose=True)\n",
    "print(f\"imbalanced priors: {imbalanced_priors}\")"
   ]
  },
  {
   "cell_type": "markdown",
   "metadata": {
    "id": "sbApxLz3X8LO"
   },
   "source": [
    "## Computing likelihood P(X | Y)\n",
    "\n",
    "Recall, all we need to do to compute $P(\\xv \\mid y_k)$ is for **each class**, compute the mean and standard deviation for **every continuous feature**. We do so using the training data only!"
   ]
  },
  {
   "cell_type": "markdown",
   "metadata": {
    "id": "S2efDqGrX8LO"
   },
   "source": [
    "### Gaussian distribution\n",
    "\n",
    "Recall that a [normal or Gaussian distribution](https://machinelearningmastery.com/statistical-data-distributions/) has the parameters $\\mu$ (referred to as mu) which represents the mean and $\\sigma$ (referred to as sigma) represents the standard deviation. An image of a Gaussian is given below.\n",
    " \n",
    " \n",
    "<img src=\"https://external-content.duckduckgo.com/iu/?u=https%3A%2F%2Fupload.wikimedia.org%2Fwikipedia%2Fcommons%2Fthumb%2Fc%2Fc8%2FGaussian_distribution.svg%2F1280px-Gaussian_distribution.svg.png&f=1&nofb=1\" width=500 height=500>\n",
    "\n",
    "\n",
    "The formula for a normal distribution is given as follows:\n",
    "\n",
    "![](https://wikimedia.org/api/rest_v1/media/math/render/svg/00cb9b2c9b866378626bcfa45c86a6de2f2b2e40)\n",
    "\n",
    "<!-- $$\n",
    "f(x) = \\frac{1}{\\sigma \\sqrt{2 \\pi}}\\exp^{-\\frac{1}{2}(\\frac{x - \\mu}{\\sigma})^2}\n",
    "$$ -->\n",
    "\n",
    "Thus, in order to compute the likelihood for a given class all we need to do is compute the mean $\\mu$ and standard deviation (std) $\\sigma$ for each feature. Computing the likelihood for each feature and class is then done by simply plugging in our data $\\Xm$. "
   ]
  },
  {
   "cell_type": "markdown",
   "metadata": {
    "id": "H_FrXfw_X8LO"
   },
   "source": [
    "Below is the `gaussian_distribution()` function which contains the equation for the Gaussian distribution. A plot is also provided to make sure the `gaussian_distribution()` function works as intended.\n",
    "\n",
    "The `gaussian_distribution()` will be returning the feature likelihoods which are used to compute the likelihoods for each class as given in the following equation:\n",
    "$$\n",
    "\\begin{align}\n",
    "P(\\xv | y_k) &= P(x_1|y_k) P(x_2|y_k) ... P(x_n|y_k) \\\\\n",
    "&= \\prod_{i=0}^n P(x_i|y_k)\n",
    "\\end{align}\n",
    "$$"
   ]
  },
  {
   "cell_type": "code",
   "execution_count": 91,
   "metadata": {
    "id": "z3r-WUCfX8LO"
   },
   "outputs": [],
   "source": [
    "def gaussian_distribution(X, mu, sig):\n",
    "    leading_term =  1 / (sig * np.sqrt(2 * np.pi))\n",
    "    exponent = -0.5 * ( (X - mu) / sig)**2\n",
    "    return leading_term * np.exp(exponent)"
   ]
  },
  {
   "cell_type": "code",
   "execution_count": 92,
   "metadata": {
    "colab": {
     "base_uri": "https://localhost:8080/",
     "height": 265
    },
    "id": "-NeSFU1OX8LO",
    "outputId": "b9306ccb-761c-41f5-c6c9-2cc86ac4dfd0",
    "scrolled": true
   },
   "outputs": [
    {
     "data": {
      "image/png": "[encoded data removed]",
      "text/plain": [
       "<Figure size 432x288 with 1 Axes>"
      ]
     },
     "metadata": {
      "needs_background": "light"
     },
     "output_type": "display_data"
    }
   ],
   "source": [
    "x_values = np.linspace(-4, 4, 120)\n",
    "y_values = gaussian_distribution(x_values, mu=0, sig=1)\n",
    "plt.plot(x_values, y_values)\n",
    "plt.show()"
   ]
  },
  {
   "cell_type": "markdown",
   "metadata": {
    "id": "XrxnoZnZX8LO"
   },
   "source": [
    "### Computing parameters\n",
    "Now, onto computing the mean $\\mu$ and std $\\sigma$. To do so, the function `compute_paramters()` is defined. All this function does is loop over the labels (i.e., classes), find the corresponding data samples for each label, and compute the mean and std for each feature. Here is what is happening.\n",
    "\n",
    "First, we get all the unique labels (i.e., classes) that are contained in the labels/targets `y` by using the `np.unique()` function.\n",
    "```Python\n",
    "class_labels = np.unique(y)\n",
    "```\n",
    "\n",
    "\n",
    "We then loop over each unique label found in `class_labels`. \n",
    "```Python\n",
    "for label in class_labels:\n",
    "```\n",
    "\n",
    "Within this loop we then find all the data samples for the current label/class using `np.where()`. \n",
    "\n",
    "```Python\n",
    "class_locs = np.where(y == label)[0]\n",
    "class_X = X[class_locs]\n",
    "```\n",
    "\n",
    "Next, using ONLY the current classes data samples, we then compute the mean and std for all features which are stored in `class_X`. Instead of passing one data sample at a time $\\xv$, we use ALL the data samples for a given class `class_X`. Lastly, we specify `axis=0` so we get the mean and std for all the features (i.e., columns).\n",
    "\n",
    "```Python\n",
    "class_mean = np.mean(class_X, axis=0)\n",
    "means.append(class_mean)\n",
    "\n",
    "class_std = np.std(class_X, axis=0)\n",
    "stds.append(class_std)\n",
    "```\n",
    "\n",
    "Lastly, we stack all the means and stds into a NumPy array. Notice we also add what we call a *smoothing* term to the std. Essentially, all this smoothing term does is prevent the std from ever being 0. To do so, we add a small number like .0001 to ALL the computed std values. If we have a std of zero, computing the likelihoods using the Gaussian distribution equation can become numerically unstable and lead to divide by zero errors. You can think about the smoothing term as a hyperparamter that can be adjusted as well.\n",
    "\n",
    "```Python\n",
    "means = np.vstack(means)\n",
    "stds = np.vstack(stds) + smoothing\n",
    "```"
   ]
  },
  {
   "cell_type": "code",
   "execution_count": 93,
   "metadata": {
    "id": "BOprHyfVX8LO"
   },
   "outputs": [],
   "source": [
    "def compute_parameters(X, y, smoothing=10e-5):\n",
    "    # Find all unique labels for each class\n",
    "    class_labels = np.unique(y)\n",
    "    \n",
    "    means = []\n",
    "    stds = []\n",
    "    # Compute means and stds for each class and feature\n",
    "    for label in class_labels:\n",
    "        class_locs = np.where(y == label)[0]\n",
    "        class_X = X[class_locs]\n",
    "        \n",
    "        class_mean = np.mean(class_X, axis=0)\n",
    "        means.append(class_mean)\n",
    "        \n",
    "        class_std = np.std(class_X, axis=0)\n",
    "        stds.append(class_std)\n",
    "    \n",
    "    means = np.vstack(means)\n",
    "    stds = np.vstack(stds) + smoothing\n",
    "    return means, stds"
   ]
  },
  {
   "cell_type": "code",
   "execution_count": 94,
   "metadata": {
    "id": "325iOVPFX8LP"
   },
   "outputs": [],
   "source": [
    "means, stds = compute_parameters(X, y)"
   ]
  },
  {
   "cell_type": "markdown",
   "metadata": {
    "id": "ZR_Vkg-pX8LP"
   },
   "source": [
    "We can see the output of `means` and `stds` is as given below. Notice that the rows correspond to the classes and the columns correspond to the features!"
   ]
  },
  {
   "cell_type": "code",
   "execution_count": 95,
   "metadata": {
    "colab": {
     "base_uri": "https://localhost:8080/",
     "height": 112
    },
    "id": "5AnwgKKCX8LP",
    "outputId": "184e7d37-1f85-412f-9e45-055755a6030e"
   },
   "outputs": [
    {
     "data": {
      "text/html": [
       "\n",
       "  <div id=\"df-c557cab7-88be-4ac5-ba03-5d7a9942da13\">\n",
       "    <div class=\"colab-df-container\">\n",
       "      <div>\n",
       "<style scoped>\n",
       "    .dataframe tbody tr th:only-of-type {\n",
       "        vertical-align: middle;\n",
       "    }\n",
       "\n",
       "    .dataframe tbody tr th {\n",
       "        vertical-align: top;\n",
       "    }\n",
       "\n",
       "    .dataframe thead th {\n",
       "        text-align: right;\n",
       "    }\n",
       "</style>\n",
       "<table border=\"1\" class=\"dataframe\">\n",
       "  <thead>\n",
       "    <tr style=\"text-align: right;\">\n",
       "      <th></th>\n",
       "      <th>Feature 1</th>\n",
       "      <th>Feature 2</th>\n",
       "    </tr>\n",
       "  </thead>\n",
       "  <tbody>\n",
       "    <tr>\n",
       "      <th>Class 0</th>\n",
       "      <td>-0.001266</td>\n",
       "      <td>-0.004266</td>\n",
       "    </tr>\n",
       "    <tr>\n",
       "      <th>Class 1</th>\n",
       "      <td>0.006055</td>\n",
       "      <td>0.000297</td>\n",
       "    </tr>\n",
       "  </tbody>\n",
       "</table>\n",
       "</div>\n",
       "      <button class=\"colab-df-convert\" onclick=\"convertToInteractive('df-c557cab7-88be-4ac5-ba03-5d7a9942da13')\"\n",
       "              title=\"Convert this dataframe to an interactive table.\"\n",
       "              style=\"display:none;\">\n",
       "        \n",
       "  <svg xmlns=\"http://www.w3.org/2000/svg\" height=\"24px\"viewBox=\"0 0 24 24\"\n",
       "       width=\"24px\">\n",
       "    <path d=\"M0 0h24v24H0V0z\" fill=\"none\"/>\n",
       "    <path d=\"M18.56 5.44l.94 2.06.94-2.06 2.06-.94-2.06-.94-.94-2.06-.94 2.06-2.06.94zm-11 1L8.5 8.5l.94-2.06 2.06-.94-2.06-.94L8.5 2.5l-.94 2.06-2.06.94zm10 10l.94 2.06.94-2.06 2.06-.94-2.06-.94-.94-2.06-.94 2.06-2.06.94z\"/><path d=\"M17.41 7.96l-1.37-1.37c-.4-.4-.92-.59-1.43-.59-.52 0-1.04.2-1.43.59L10.3 9.45l-7.72 7.72c-.78.78-.78 2.05 0 2.83L4 21.41c.39.39.9.59 1.41.59.51 0 1.02-.2 1.41-.59l7.78-7.78 2.81-2.81c.8-.78.8-2.07 0-2.86zM5.41 20L4 18.59l7.72-7.72 1.47 1.35L5.41 20z\"/>\n",
       "  </svg>\n",
       "      </button>\n",
       "      \n",
       "  <style>\n",
       "    .colab-df-container {\n",
       "      display:flex;\n",
       "      flex-wrap:wrap;\n",
       "      gap: 12px;\n",
       "    }\n",
       "\n",
       "    .colab-df-convert {\n",
       "      background-color: #E8F0FE;\n",
       "      border: none;\n",
       "      border-radius: 50%;\n",
       "      cursor: pointer;\n",
       "      display: none;\n",
       "      fill: #1967D2;\n",
       "      height: 32px;\n",
       "      padding: 0 0 0 0;\n",
       "      width: 32px;\n",
       "    }\n",
       "\n",
       "    .colab-df-convert:hover {\n",
       "      background-color: #E2EBFA;\n",
       "      box-shadow: 0px 1px 2px rgba(60, 64, 67, 0.3), 0px 1px 3px 1px rgba(60, 64, 67, 0.15);\n",
       "      fill: #174EA6;\n",
       "    }\n",
       "\n",
       "    [theme=dark] .colab-df-convert {\n",
       "      background-color: #3B4455;\n",
       "      fill: #D2E3FC;\n",
       "    }\n",
       "\n",
       "    [theme=dark] .colab-df-convert:hover {\n",
       "      background-color: #434B5C;\n",
       "      box-shadow: 0px 1px 3px 1px rgba(0, 0, 0, 0.15);\n",
       "      filter: drop-shadow(0px 1px 2px rgba(0, 0, 0, 0.3));\n",
       "      fill: #FFFFFF;\n",
       "    }\n",
       "  </style>\n",
       "\n",
       "      <script>\n",
       "        const buttonEl =\n",
       "          document.querySelector('#df-c557cab7-88be-4ac5-ba03-5d7a9942da13 button.colab-df-convert');\n",
       "        buttonEl.style.display =\n",
       "          google.colab.kernel.accessAllowed ? 'block' : 'none';\n",
       "\n",
       "        async function convertToInteractive(key) {\n",
       "          const element = document.querySelector('#df-c557cab7-88be-4ac5-ba03-5d7a9942da13');\n",
       "          const dataTable =\n",
       "            await google.colab.kernel.invokeFunction('convertToInteractive',\n",
       "                                                     [key], {});\n",
       "          if (!dataTable) return;\n",
       "\n",
       "          const docLinkHtml = 'Like what you see? Visit the ' +\n",
       "            '<a target=\"_blank\" href=https://colab.research.google.com/notebooks/data_table.ipynb>data table notebook</a>'\n",
       "            + ' to learn more about interactive tables.';\n",
       "          element.innerHTML = '';\n",
       "          dataTable['output_type'] = 'display_data';\n",
       "          await google.colab.output.renderOutput(dataTable, element);\n",
       "          const docLink = document.createElement('div');\n",
       "          docLink.innerHTML = docLinkHtml;\n",
       "          element.appendChild(docLink);\n",
       "        }\n",
       "      </script>\n",
       "    </div>\n",
       "  </div>\n",
       "  "
      ],
      "text/plain": [
       "         Feature 1  Feature 2\n",
       "Class 0  -0.001266  -0.004266\n",
       "Class 1   0.006055   0.000297"
      ]
     },
     "execution_count": 95,
     "metadata": {},
     "output_type": "execute_result"
    }
   ],
   "source": [
    "# Means for each feature and class\n",
    "means_df = pd.DataFrame(means, index=['Class 0', 'Class 1'], columns=[\"Feature 1\", \"Feature 2\"])\n",
    "means_df"
   ]
  },
  {
   "cell_type": "code",
   "execution_count": 96,
   "metadata": {
    "colab": {
     "base_uri": "https://localhost:8080/",
     "height": 112
    },
    "id": "qcVC0A3fX8LP",
    "outputId": "e843c4c7-25d9-40e7-ce35-25e613dad120"
   },
   "outputs": [
    {
     "data": {
      "text/html": [
       "\n",
       "  <div id=\"df-cb08ceb9-903c-4891-bf4b-fa21a56d13bc\">\n",
       "    <div class=\"colab-df-container\">\n",
       "      <div>\n",
       "<style scoped>\n",
       "    .dataframe tbody tr th:only-of-type {\n",
       "        vertical-align: middle;\n",
       "    }\n",
       "\n",
       "    .dataframe tbody tr th {\n",
       "        vertical-align: top;\n",
       "    }\n",
       "\n",
       "    .dataframe thead th {\n",
       "        text-align: right;\n",
       "    }\n",
       "</style>\n",
       "<table border=\"1\" class=\"dataframe\">\n",
       "  <thead>\n",
       "    <tr style=\"text-align: right;\">\n",
       "      <th></th>\n",
       "      <th>Feature 1</th>\n",
       "      <th>Feature 2</th>\n",
       "    </tr>\n",
       "  </thead>\n",
       "  <tbody>\n",
       "    <tr>\n",
       "      <th>Class 0</th>\n",
       "      <td>0.704095</td>\n",
       "      <td>0.711904</td>\n",
       "    </tr>\n",
       "    <tr>\n",
       "      <th>Class 1</th>\n",
       "      <td>0.359206</td>\n",
       "      <td>0.352977</td>\n",
       "    </tr>\n",
       "  </tbody>\n",
       "</table>\n",
       "</div>\n",
       "      <button class=\"colab-df-convert\" onclick=\"convertToInteractive('df-cb08ceb9-903c-4891-bf4b-fa21a56d13bc')\"\n",
       "              title=\"Convert this dataframe to an interactive table.\"\n",
       "              style=\"display:none;\">\n",
       "        \n",
       "  <svg xmlns=\"http://www.w3.org/2000/svg\" height=\"24px\"viewBox=\"0 0 24 24\"\n",
       "       width=\"24px\">\n",
       "    <path d=\"M0 0h24v24H0V0z\" fill=\"none\"/>\n",
       "    <path d=\"M18.56 5.44l.94 2.06.94-2.06 2.06-.94-2.06-.94-.94-2.06-.94 2.06-2.06.94zm-11 1L8.5 8.5l.94-2.06 2.06-.94-2.06-.94L8.5 2.5l-.94 2.06-2.06.94zm10 10l.94 2.06.94-2.06 2.06-.94-2.06-.94-.94-2.06-.94 2.06-2.06.94z\"/><path d=\"M17.41 7.96l-1.37-1.37c-.4-.4-.92-.59-1.43-.59-.52 0-1.04.2-1.43.59L10.3 9.45l-7.72 7.72c-.78.78-.78 2.05 0 2.83L4 21.41c.39.39.9.59 1.41.59.51 0 1.02-.2 1.41-.59l7.78-7.78 2.81-2.81c.8-.78.8-2.07 0-2.86zM5.41 20L4 18.59l7.72-7.72 1.47 1.35L5.41 20z\"/>\n",
       "  </svg>\n",
       "      </button>\n",
       "      \n",
       "  <style>\n",
       "    .colab-df-container {\n",
       "      display:flex;\n",
       "      flex-wrap:wrap;\n",
       "      gap: 12px;\n",
       "    }\n",
       "\n",
       "    .colab-df-convert {\n",
       "      background-color: #E8F0FE;\n",
       "      border: none;\n",
       "      border-radius: 50%;\n",
       "      cursor: pointer;\n",
       "      display: none;\n",
       "      fill: #1967D2;\n",
       "      height: 32px;\n",
       "      padding: 0 0 0 0;\n",
       "      width: 32px;\n",
       "    }\n",
       "\n",
       "    .colab-df-convert:hover {\n",
       "      background-color: #E2EBFA;\n",
       "      box-shadow: 0px 1px 2px rgba(60, 64, 67, 0.3), 0px 1px 3px 1px rgba(60, 64, 67, 0.15);\n",
       "      fill: #174EA6;\n",
       "    }\n",
       "\n",
       "    [theme=dark] .colab-df-convert {\n",
       "      background-color: #3B4455;\n",
       "      fill: #D2E3FC;\n",
       "    }\n",
       "\n",
       "    [theme=dark] .colab-df-convert:hover {\n",
       "      background-color: #434B5C;\n",
       "      box-shadow: 0px 1px 3px 1px rgba(0, 0, 0, 0.15);\n",
       "      filter: drop-shadow(0px 1px 2px rgba(0, 0, 0, 0.3));\n",
       "      fill: #FFFFFF;\n",
       "    }\n",
       "  </style>\n",
       "\n",
       "      <script>\n",
       "        const buttonEl =\n",
       "          document.querySelector('#df-cb08ceb9-903c-4891-bf4b-fa21a56d13bc button.colab-df-convert');\n",
       "        buttonEl.style.display =\n",
       "          google.colab.kernel.accessAllowed ? 'block' : 'none';\n",
       "\n",
       "        async function convertToInteractive(key) {\n",
       "          const element = document.querySelector('#df-cb08ceb9-903c-4891-bf4b-fa21a56d13bc');\n",
       "          const dataTable =\n",
       "            await google.colab.kernel.invokeFunction('convertToInteractive',\n",
       "                                                     [key], {});\n",
       "          if (!dataTable) return;\n",
       "\n",
       "          const docLinkHtml = 'Like what you see? Visit the ' +\n",
       "            '<a target=\"_blank\" href=https://colab.research.google.com/notebooks/data_table.ipynb>data table notebook</a>'\n",
       "            + ' to learn more about interactive tables.';\n",
       "          element.innerHTML = '';\n",
       "          dataTable['output_type'] = 'display_data';\n",
       "          await google.colab.output.renderOutput(dataTable, element);\n",
       "          const docLink = document.createElement('div');\n",
       "          docLink.innerHTML = docLinkHtml;\n",
       "          element.appendChild(docLink);\n",
       "        }\n",
       "      </script>\n",
       "    </div>\n",
       "  </div>\n",
       "  "
      ],
      "text/plain": [
       "         Feature 1  Feature 2\n",
       "Class 0   0.704095   0.711904\n",
       "Class 1   0.359206   0.352977"
      ]
     },
     "execution_count": 96,
     "metadata": {},
     "output_type": "execute_result"
    }
   ],
   "source": [
    "# stds for each feature and class\n",
    "stds_df = pd.DataFrame(stds, index=['Class 0', 'Class 1'], columns=[\"Feature 1\", \"Feature 2\"])\n",
    "stds_df"
   ]
  },
  {
   "cell_type": "markdown",
   "metadata": {
    "id": "Op8fz3e-X8LP"
   },
   "source": [
    "### Computing log likelihoods logP(X | Y)\n",
    "\n",
    "Next, we need to compute the likelihood $ P(\\xv \\mid y_k)$ and apply the $\\log$ to get $\\log P(\\xv \\mid y_k)$. To do so is more straight forward than it sounds. The below function `compute_log_likelihoods()` does exactly this. Here is how it works.\n",
    "\n",
    "First, notice the function takes in data `X` along with the `means` and `stds` we computed using `compute_parameters()` function. Using these parameters, the function loops over the mean and std for each class. Recall, that the rows of `means` and `stds` correspond to classes! Each iteration of the loop is then looking at a given class's mean and std.\n",
    "```Python\n",
    "for class_mean, class_std in zip(mean, stds):\n",
    "```\n",
    "\n",
    "Next, the likelihood for EVERY feature is computed for the current class. This is done by passing **ALL** data samples and the current class's mean and std to the `gaussian_distribution()` function. \n",
    "\n",
    "```Python\n",
    "feature_likelihoods = gaussian_distribution(X, \n",
    "                                            mu=class_mean,\n",
    "                                            sig=class_std)\n",
    "```\n",
    "\n",
    "The next line applies the log to each of the feature likelihoods. Recall, this allows us to only have to **SUM** the likelihoods of each feature instead of taking the product between them.\n",
    "```Python\n",
    "feature_log_likelihood = np.log(feature_likelihoods)\n",
    "```\n",
    "\n",
    "As you might expect, the feature log likelihoods are then summed for all data samples (hence `axis=1` is passed as we want to compress the columns or feature log likelihoods). This computes the log likelihood for the current class for ALL data samples!\n",
    "```Python\n",
    "class_log_likelihoods = np.sum(feature_log_likelihood, axis=1)\n",
    "log_likelihoods.append(class_log_likelihoods)\n",
    "```\n",
    "\n",
    "After iterating through all the classes and computing the log likelihoods for all data samples, the  `log_likelihoods` list is then stacked and transformed. The transform `.T` is applied because the shape of `log_likelihoods`, after being vertically stacked, is `(2, 100)` and we want a `(100 , 2)` so that the data samples are the 1st dimension and the classes are the 2nd dimension.\n",
    "```Python\n",
    "log_likelihoods = np.vstack(log_likelihoods)\n",
    "log_likelihoods = log_likelihoods.T\n",
    "```"
   ]
  },
  {
   "cell_type": "code",
   "execution_count": 97,
   "metadata": {
    "id": "hPYAvg-mX8LP"
   },
   "outputs": [],
   "source": [
    "def compute_log_likelihoods(X, mean, stds, verbose=False):\n",
    "    log_likelihoods = []\n",
    "    for class_mean, class_std in zip(mean, stds):\n",
    "        # Compute likelihood for every feature uisng all data samples\n",
    "        feature_likelihoods = gaussian_distribution(X, \n",
    "                                                    mu=class_mean,\n",
    "                                                    sig=class_std)\n",
    "    \n",
    "        feature_log_likelihood = np.log(feature_likelihoods)\n",
    "        \n",
    "        class_log_likelihoods = np.sum(feature_log_likelihood, axis=1)\n",
    "        \n",
    "        log_likelihoods.append(class_log_likelihoods)\n",
    "        \n",
    "        if verbose:\n",
    "            print(f\"feature_likelihoods shape: {feature_likelihoods.shape}\")\n",
    "            print(f\"feature_log_likelihood shape: {feature_log_likelihood.shape}\")\n",
    "            print(f\"class_log_likelihoods shape: {class_log_likelihoods.shape}\")\n",
    "            print(\"-\"*50)\n",
    "        \n",
    "    log_likelihoods = np.vstack(log_likelihoods)\n",
    "    log_likelihoods = log_likelihoods.T\n",
    "    return log_likelihoods"
   ]
  },
  {
   "cell_type": "code",
   "execution_count": 98,
   "metadata": {
    "colab": {
     "base_uri": "https://localhost:8080/"
    },
    "id": "pJbZLWG_X8LP",
    "outputId": "4f9bc08f-e839-4dca-8cc7-06bdcefcab18",
    "scrolled": true
   },
   "outputs": [
    {
     "name": "stdout",
     "output_type": "stream",
     "text": [
      "feature_likelihoods shape: (100, 2)\n",
      "feature_log_likelihood shape: (100, 2)\n",
      "class_log_likelihoods shape: (100,)\n",
      "--------------------------------------------------\n",
      "feature_likelihoods shape: (100, 2)\n",
      "feature_log_likelihood shape: (100, 2)\n",
      "class_log_likelihoods shape: (100,)\n",
      "--------------------------------------------------\n",
      "log likelihood shape: (100, 2)\n"
     ]
    }
   ],
   "source": [
    "log_likelihoods = compute_log_likelihoods(X, means, stds, verbose=True)\n",
    "print(f\"log likelihood shape: {log_likelihoods.shape}\")"
   ]
  },
  {
   "cell_type": "markdown",
   "metadata": {
    "id": "F-zw2S9jX8LP"
   },
   "source": [
    "Notice that the output is of shape `(100, 2)`. This is because we just computed the log likelihoods $\\log P(\\Xm \\mid y_k)$ for all data samples and classes. Thus, the rows correspond to data samples and the columns correspond to the classes. Each element then corresponds to the log likelihood that a data sample corresponds to a given class $\\log P(\\xv \\mid y_k)$.\n",
    "\n",
    "Here we can roughly say that the larger the value, the *more likely* a data sample belongs to a particular class. For instance, the first data sample is more likely to belong to class 2. However, because we are using MAP, and not ML, we still need to add our log priors to log likelihoods before we can truly say which class a data sample belongs to."
   ]
  },
  {
   "cell_type": "code",
   "execution_count": 99,
   "metadata": {
    "colab": {
     "base_uri": "https://localhost:8080/",
     "height": 424
    },
    "id": "_yhxQIXPX8LP",
    "outputId": "179fcd66-73dd-47a5-d6ad-d5d21f22a5c4"
   },
   "outputs": [
    {
     "data": {
      "text/html": [
       "\n",
       "  <div id=\"df-176abc5d-05dd-449c-ae4e-a04d0ba956da\">\n",
       "    <div class=\"colab-df-container\">\n",
       "      <div>\n",
       "<style scoped>\n",
       "    .dataframe tbody tr th:only-of-type {\n",
       "        vertical-align: middle;\n",
       "    }\n",
       "\n",
       "    .dataframe tbody tr th {\n",
       "        vertical-align: top;\n",
       "    }\n",
       "\n",
       "    .dataframe thead th {\n",
       "        text-align: right;\n",
       "    }\n",
       "</style>\n",
       "<table border=\"1\" class=\"dataframe\">\n",
       "  <thead>\n",
       "    <tr style=\"text-align: right;\">\n",
       "      <th></th>\n",
       "      <th>Class 0</th>\n",
       "      <th>Class 1</th>\n",
       "    </tr>\n",
       "  </thead>\n",
       "  <tbody>\n",
       "    <tr>\n",
       "      <th>0</th>\n",
       "      <td>-1.414546</td>\n",
       "      <td>-0.878092</td>\n",
       "    </tr>\n",
       "    <tr>\n",
       "      <th>1</th>\n",
       "      <td>-1.452743</td>\n",
       "      <td>-0.924029</td>\n",
       "    </tr>\n",
       "    <tr>\n",
       "      <th>2</th>\n",
       "      <td>-1.408875</td>\n",
       "      <td>-0.812474</td>\n",
       "    </tr>\n",
       "    <tr>\n",
       "      <th>3</th>\n",
       "      <td>-2.080584</td>\n",
       "      <td>-3.414450</td>\n",
       "    </tr>\n",
       "    <tr>\n",
       "      <th>4</th>\n",
       "      <td>-2.333776</td>\n",
       "      <td>-4.433950</td>\n",
       "    </tr>\n",
       "    <tr>\n",
       "      <th>...</th>\n",
       "      <td>...</td>\n",
       "      <td>...</td>\n",
       "    </tr>\n",
       "    <tr>\n",
       "      <th>95</th>\n",
       "      <td>-1.374720</td>\n",
       "      <td>-0.667986</td>\n",
       "    </tr>\n",
       "    <tr>\n",
       "      <th>96</th>\n",
       "      <td>-1.325194</td>\n",
       "      <td>-0.479945</td>\n",
       "    </tr>\n",
       "    <tr>\n",
       "      <th>97</th>\n",
       "      <td>-2.102022</td>\n",
       "      <td>-3.623078</td>\n",
       "    </tr>\n",
       "    <tr>\n",
       "      <th>98</th>\n",
       "      <td>-1.423225</td>\n",
       "      <td>-0.881859</td>\n",
       "    </tr>\n",
       "    <tr>\n",
       "      <th>99</th>\n",
       "      <td>-1.384054</td>\n",
       "      <td>-0.654232</td>\n",
       "    </tr>\n",
       "  </tbody>\n",
       "</table>\n",
       "<p>100 rows × 2 columns</p>\n",
       "</div>\n",
       "      <button class=\"colab-df-convert\" onclick=\"convertToInteractive('df-176abc5d-05dd-449c-ae4e-a04d0ba956da')\"\n",
       "              title=\"Convert this dataframe to an interactive table.\"\n",
       "              style=\"display:none;\">\n",
       "        \n",
       "  <svg xmlns=\"http://www.w3.org/2000/svg\" height=\"24px\"viewBox=\"0 0 24 24\"\n",
       "       width=\"24px\">\n",
       "    <path d=\"M0 0h24v24H0V0z\" fill=\"none\"/>\n",
       "    <path d=\"M18.56 5.44l.94 2.06.94-2.06 2.06-.94-2.06-.94-.94-2.06-.94 2.06-2.06.94zm-11 1L8.5 8.5l.94-2.06 2.06-.94-2.06-.94L8.5 2.5l-.94 2.06-2.06.94zm10 10l.94 2.06.94-2.06 2.06-.94-2.06-.94-.94-2.06-.94 2.06-2.06.94z\"/><path d=\"M17.41 7.96l-1.37-1.37c-.4-.4-.92-.59-1.43-.59-.52 0-1.04.2-1.43.59L10.3 9.45l-7.72 7.72c-.78.78-.78 2.05 0 2.83L4 21.41c.39.39.9.59 1.41.59.51 0 1.02-.2 1.41-.59l7.78-7.78 2.81-2.81c.8-.78.8-2.07 0-2.86zM5.41 20L4 18.59l7.72-7.72 1.47 1.35L5.41 20z\"/>\n",
       "  </svg>\n",
       "      </button>\n",
       "      \n",
       "  <style>\n",
       "    .colab-df-container {\n",
       "      display:flex;\n",
       "      flex-wrap:wrap;\n",
       "      gap: 12px;\n",
       "    }\n",
       "\n",
       "    .colab-df-convert {\n",
       "      background-color: #E8F0FE;\n",
       "      border: none;\n",
       "      border-radius: 50%;\n",
       "      cursor: pointer;\n",
       "      display: none;\n",
       "      fill: #1967D2;\n",
       "      height: 32px;\n",
       "      padding: 0 0 0 0;\n",
       "      width: 32px;\n",
       "    }\n",
       "\n",
       "    .colab-df-convert:hover {\n",
       "      background-color: #E2EBFA;\n",
       "      box-shadow: 0px 1px 2px rgba(60, 64, 67, 0.3), 0px 1px 3px 1px rgba(60, 64, 67, 0.15);\n",
       "      fill: #174EA6;\n",
       "    }\n",
       "\n",
       "    [theme=dark] .colab-df-convert {\n",
       "      background-color: #3B4455;\n",
       "      fill: #D2E3FC;\n",
       "    }\n",
       "\n",
       "    [theme=dark] .colab-df-convert:hover {\n",
       "      background-color: #434B5C;\n",
       "      box-shadow: 0px 1px 3px 1px rgba(0, 0, 0, 0.15);\n",
       "      filter: drop-shadow(0px 1px 2px rgba(0, 0, 0, 0.3));\n",
       "      fill: #FFFFFF;\n",
       "    }\n",
       "  </style>\n",
       "\n",
       "      <script>\n",
       "        const buttonEl =\n",
       "          document.querySelector('#df-176abc5d-05dd-449c-ae4e-a04d0ba956da button.colab-df-convert');\n",
       "        buttonEl.style.display =\n",
       "          google.colab.kernel.accessAllowed ? 'block' : 'none';\n",
       "\n",
       "        async function convertToInteractive(key) {\n",
       "          const element = document.querySelector('#df-176abc5d-05dd-449c-ae4e-a04d0ba956da');\n",
       "          const dataTable =\n",
       "            await google.colab.kernel.invokeFunction('convertToInteractive',\n",
       "                                                     [key], {});\n",
       "          if (!dataTable) return;\n",
       "\n",
       "          const docLinkHtml = 'Like what you see? Visit the ' +\n",
       "            '<a target=\"_blank\" href=https://colab.research.google.com/notebooks/data_table.ipynb>data table notebook</a>'\n",
       "            + ' to learn more about interactive tables.';\n",
       "          element.innerHTML = '';\n",
       "          dataTable['output_type'] = 'display_data';\n",
       "          await google.colab.output.renderOutput(dataTable, element);\n",
       "          const docLink = document.createElement('div');\n",
       "          docLink.innerHTML = docLinkHtml;\n",
       "          element.appendChild(docLink);\n",
       "        }\n",
       "      </script>\n",
       "    </div>\n",
       "  </div>\n",
       "  "
      ],
      "text/plain": [
       "     Class 0   Class 1\n",
       "0  -1.414546 -0.878092\n",
       "1  -1.452743 -0.924029\n",
       "2  -1.408875 -0.812474\n",
       "3  -2.080584 -3.414450\n",
       "4  -2.333776 -4.433950\n",
       "..       ...       ...\n",
       "95 -1.374720 -0.667986\n",
       "96 -1.325194 -0.479945\n",
       "97 -2.102022 -3.623078\n",
       "98 -1.423225 -0.881859\n",
       "99 -1.384054 -0.654232\n",
       "\n",
       "[100 rows x 2 columns]"
      ]
     },
     "execution_count": 99,
     "metadata": {},
     "output_type": "execute_result"
    }
   ],
   "source": [
    "log_likelihoods_df = pd.DataFrame(log_likelihoods, \n",
    "                                  columns=[\"Class 0\", \"Class 1\"])\n",
    "log_likelihoods_df"
   ]
  },
  {
   "cell_type": "markdown",
   "metadata": {
    "id": "yGzYguDAX8LQ"
   },
   "source": [
    "## Computing predictions \n",
    "To compute the predictions is easy! Recall, we need want to use the log of MAP which is defined as follows:\n",
    "\n",
    "$$\n",
    "\\arg \\max_{k \\in K} \\log P(\\xv \\mid y_k) + \\log P(y_k)\n",
    "$$\n",
    "\n",
    "\n",
    "All that is left is taking the log of the priors `priors`, adding the log priors $\\log P(y_k)$ to the log likelihoods $\\log P(\\xv \\mid y_k)$, and taking the $\\arg \\max_{k \\in K}$."
   ]
  },
  {
   "cell_type": "markdown",
   "metadata": {
    "id": "gJae5A8lX8LQ"
   },
   "source": [
    "Below we compute the log of the priors by applying the `np.log()` function to `priors` and add the output to `log_likelihoods`."
   ]
  },
  {
   "cell_type": "code",
   "execution_count": 100,
   "metadata": {
    "colab": {
     "base_uri": "https://localhost:8080/"
    },
    "id": "g5GcAlQTX8LQ",
    "outputId": "73a3f6cb-a4af-45ed-b228-af18a59fd31f"
   },
   "outputs": [
    {
     "name": "stdout",
     "output_type": "stream",
     "text": [
      "joint log likelihood shape: (100, 2)\n"
     ]
    }
   ],
   "source": [
    "joint_log_likelihoods = log_likelihoods + np.log(priors)\n",
    "print(f\"joint log likelihood shape: {joint_log_likelihoods.shape}\")"
   ]
  },
  {
   "cell_type": "code",
   "execution_count": 101,
   "metadata": {
    "colab": {
     "base_uri": "https://localhost:8080/",
     "height": 424
    },
    "id": "Ja2zM0m1X8LQ",
    "outputId": "6057fdf5-1b66-44ff-e4b0-fc9678e7efd9"
   },
   "outputs": [
    {
     "data": {
      "text/html": [
       "\n",
       "  <div id=\"df-d2248243-2599-4b86-adc1-dff8fef459b5\">\n",
       "    <div class=\"colab-df-container\">\n",
       "      <div>\n",
       "<style scoped>\n",
       "    .dataframe tbody tr th:only-of-type {\n",
       "        vertical-align: middle;\n",
       "    }\n",
       "\n",
       "    .dataframe tbody tr th {\n",
       "        vertical-align: top;\n",
       "    }\n",
       "\n",
       "    .dataframe thead th {\n",
       "        text-align: right;\n",
       "    }\n",
       "</style>\n",
       "<table border=\"1\" class=\"dataframe\">\n",
       "  <thead>\n",
       "    <tr style=\"text-align: right;\">\n",
       "      <th></th>\n",
       "      <th>Class 0</th>\n",
       "      <th>Class 1</th>\n",
       "    </tr>\n",
       "  </thead>\n",
       "  <tbody>\n",
       "    <tr>\n",
       "      <th>0</th>\n",
       "      <td>-2.107693</td>\n",
       "      <td>-1.571240</td>\n",
       "    </tr>\n",
       "    <tr>\n",
       "      <th>1</th>\n",
       "      <td>-2.145890</td>\n",
       "      <td>-1.617176</td>\n",
       "    </tr>\n",
       "    <tr>\n",
       "      <th>2</th>\n",
       "      <td>-2.102022</td>\n",
       "      <td>-1.505622</td>\n",
       "    </tr>\n",
       "    <tr>\n",
       "      <th>3</th>\n",
       "      <td>-2.773731</td>\n",
       "      <td>-4.107598</td>\n",
       "    </tr>\n",
       "    <tr>\n",
       "      <th>4</th>\n",
       "      <td>-3.026923</td>\n",
       "      <td>-5.127098</td>\n",
       "    </tr>\n",
       "    <tr>\n",
       "      <th>...</th>\n",
       "      <td>...</td>\n",
       "      <td>...</td>\n",
       "    </tr>\n",
       "    <tr>\n",
       "      <th>95</th>\n",
       "      <td>-2.067867</td>\n",
       "      <td>-1.361133</td>\n",
       "    </tr>\n",
       "    <tr>\n",
       "      <th>96</th>\n",
       "      <td>-2.018341</td>\n",
       "      <td>-1.173092</td>\n",
       "    </tr>\n",
       "    <tr>\n",
       "      <th>97</th>\n",
       "      <td>-2.795169</td>\n",
       "      <td>-4.316225</td>\n",
       "    </tr>\n",
       "    <tr>\n",
       "      <th>98</th>\n",
       "      <td>-2.116372</td>\n",
       "      <td>-1.575006</td>\n",
       "    </tr>\n",
       "    <tr>\n",
       "      <th>99</th>\n",
       "      <td>-2.077201</td>\n",
       "      <td>-1.347379</td>\n",
       "    </tr>\n",
       "  </tbody>\n",
       "</table>\n",
       "<p>100 rows × 2 columns</p>\n",
       "</div>\n",
       "      <button class=\"colab-df-convert\" onclick=\"convertToInteractive('df-d2248243-2599-4b86-adc1-dff8fef459b5')\"\n",
       "              title=\"Convert this dataframe to an interactive table.\"\n",
       "              style=\"display:none;\">\n",
       "        \n",
       "  <svg xmlns=\"http://www.w3.org/2000/svg\" height=\"24px\"viewBox=\"0 0 24 24\"\n",
       "       width=\"24px\">\n",
       "    <path d=\"M0 0h24v24H0V0z\" fill=\"none\"/>\n",
       "    <path d=\"M18.56 5.44l.94 2.06.94-2.06 2.06-.94-2.06-.94-.94-2.06-.94 2.06-2.06.94zm-11 1L8.5 8.5l.94-2.06 2.06-.94-2.06-.94L8.5 2.5l-.94 2.06-2.06.94zm10 10l.94 2.06.94-2.06 2.06-.94-2.06-.94-.94-2.06-.94 2.06-2.06.94z\"/><path d=\"M17.41 7.96l-1.37-1.37c-.4-.4-.92-.59-1.43-.59-.52 0-1.04.2-1.43.59L10.3 9.45l-7.72 7.72c-.78.78-.78 2.05 0 2.83L4 21.41c.39.39.9.59 1.41.59.51 0 1.02-.2 1.41-.59l7.78-7.78 2.81-2.81c.8-.78.8-2.07 0-2.86zM5.41 20L4 18.59l7.72-7.72 1.47 1.35L5.41 20z\"/>\n",
       "  </svg>\n",
       "      </button>\n",
       "      \n",
       "  <style>\n",
       "    .colab-df-container {\n",
       "      display:flex;\n",
       "      flex-wrap:wrap;\n",
       "      gap: 12px;\n",
       "    }\n",
       "\n",
       "    .colab-df-convert {\n",
       "      background-color: #E8F0FE;\n",
       "      border: none;\n",
       "      border-radius: 50%;\n",
       "      cursor: pointer;\n",
       "      display: none;\n",
       "      fill: #1967D2;\n",
       "      height: 32px;\n",
       "      padding: 0 0 0 0;\n",
       "      width: 32px;\n",
       "    }\n",
       "\n",
       "    .colab-df-convert:hover {\n",
       "      background-color: #E2EBFA;\n",
       "      box-shadow: 0px 1px 2px rgba(60, 64, 67, 0.3), 0px 1px 3px 1px rgba(60, 64, 67, 0.15);\n",
       "      fill: #174EA6;\n",
       "    }\n",
       "\n",
       "    [theme=dark] .colab-df-convert {\n",
       "      background-color: #3B4455;\n",
       "      fill: #D2E3FC;\n",
       "    }\n",
       "\n",
       "    [theme=dark] .colab-df-convert:hover {\n",
       "      background-color: #434B5C;\n",
       "      box-shadow: 0px 1px 3px 1px rgba(0, 0, 0, 0.15);\n",
       "      filter: drop-shadow(0px 1px 2px rgba(0, 0, 0, 0.3));\n",
       "      fill: #FFFFFF;\n",
       "    }\n",
       "  </style>\n",
       "\n",
       "      <script>\n",
       "        const buttonEl =\n",
       "          document.querySelector('#df-d2248243-2599-4b86-adc1-dff8fef459b5 button.colab-df-convert');\n",
       "        buttonEl.style.display =\n",
       "          google.colab.kernel.accessAllowed ? 'block' : 'none';\n",
       "\n",
       "        async function convertToInteractive(key) {\n",
       "          const element = document.querySelector('#df-d2248243-2599-4b86-adc1-dff8fef459b5');\n",
       "          const dataTable =\n",
       "            await google.colab.kernel.invokeFunction('convertToInteractive',\n",
       "                                                     [key], {});\n",
       "          if (!dataTable) return;\n",
       "\n",
       "          const docLinkHtml = 'Like what you see? Visit the ' +\n",
       "            '<a target=\"_blank\" href=https://colab.research.google.com/notebooks/data_table.ipynb>data table notebook</a>'\n",
       "            + ' to learn more about interactive tables.';\n",
       "          element.innerHTML = '';\n",
       "          dataTable['output_type'] = 'display_data';\n",
       "          await google.colab.output.renderOutput(dataTable, element);\n",
       "          const docLink = document.createElement('div');\n",
       "          docLink.innerHTML = docLinkHtml;\n",
       "          element.appendChild(docLink);\n",
       "        }\n",
       "      </script>\n",
       "    </div>\n",
       "  </div>\n",
       "  "
      ],
      "text/plain": [
       "     Class 0   Class 1\n",
       "0  -2.107693 -1.571240\n",
       "1  -2.145890 -1.617176\n",
       "2  -2.102022 -1.505622\n",
       "3  -2.773731 -4.107598\n",
       "4  -3.026923 -5.127098\n",
       "..       ...       ...\n",
       "95 -2.067867 -1.361133\n",
       "96 -2.018341 -1.173092\n",
       "97 -2.795169 -4.316225\n",
       "98 -2.116372 -1.575006\n",
       "99 -2.077201 -1.347379\n",
       "\n",
       "[100 rows x 2 columns]"
      ]
     },
     "execution_count": 101,
     "metadata": {},
     "output_type": "execute_result"
    }
   ],
   "source": [
    "joint_log_likelihoods_df = pd.DataFrame(joint_log_likelihoods, \n",
    "                                        columns=[\"Class 0\", \"Class 1\"])\n",
    "joint_log_likelihoods_df"
   ]
  },
  {
   "cell_type": "markdown",
   "metadata": {
    "id": "eZMI6xJuX8LQ"
   },
   "source": [
    "Lastly, we just need to take the $\\arg \\max_{k \\in K}$ which can be easily done by using NumPy's `np.argmax()` function. When this function uses `axis=1` it finds the maximum value for each row and returns the **INDEX** for which column contained the largest joint log likelihood. Remember that the columns represents the classes!"
   ]
  },
  {
   "cell_type": "code",
   "execution_count": 102,
   "metadata": {
    "colab": {
     "base_uri": "https://localhost:8080/"
    },
    "id": "Mj8ejxqAX8LQ",
    "outputId": "2cd1f92c-e607-4e6d-908a-6f57dcd27180"
   },
   "outputs": [
    {
     "data": {
      "text/plain": [
       "array([0, 1])"
      ]
     },
     "execution_count": 102,
     "metadata": {},
     "output_type": "execute_result"
    }
   ],
   "source": [
    "class_labels = np.unique(y)\n",
    "class_labels"
   ]
  },
  {
   "cell_type": "code",
   "execution_count": 103,
   "metadata": {
    "colab": {
     "base_uri": "https://localhost:8080/"
    },
    "id": "dfRU_vfzX8LQ",
    "outputId": "b76a802f-6f01-487d-c938-7798551ac8f0"
   },
   "outputs": [
    {
     "data": {
      "text/plain": [
       "array([1, 1, 1, 0, 0, 0, 0, 1, 0, 0, 0, 0, 1, 0, 1, 0, 1, 1, 0, 0, 1, 1,\n",
       "       0, 0, 1, 0, 0, 1, 0, 1, 0, 0, 1, 0, 1, 0, 1, 1, 0, 0, 0, 0, 0, 1,\n",
       "       0, 0, 1, 0, 1, 0, 0, 0, 0, 0, 0, 1, 0, 1, 0, 1, 1, 1, 1, 0, 1, 1,\n",
       "       0, 1, 1, 1, 1, 0, 1, 0, 1, 1, 1, 0, 1, 1, 1, 1, 0, 0, 0, 1, 0, 0,\n",
       "       0, 1, 1, 1, 1, 1, 0, 1, 1, 0, 1, 1])"
      ]
     },
     "execution_count": 103,
     "metadata": {},
     "output_type": "execute_result"
    }
   ],
   "source": [
    "y_hat = np.argmax(joint_log_likelihoods, axis=1)\n",
    "y_hat"
   ]
  },
  {
   "cell_type": "markdown",
   "metadata": {
    "id": "xnvsX2nSX8LQ"
   },
   "source": [
    "Below is a visualization of data and the decision boundaries Gaussian Naive Bayes creates. Notice that the yellow area corresponds to all points that would be predicted as class 1 and the purple area corresponds to all the points that would be predicted as class 0.\n",
    "\n",
    "As you can see, Naive Bayes can easily handle this non-linear data."
   ]
  },
  {
   "cell_type": "code",
   "execution_count": 104,
   "metadata": {
    "colab": {
     "base_uri": "https://localhost:8080/",
     "height": 320
    },
    "id": "QNU01btwX8LR",
    "outputId": "e14b57ae-28fc-441e-89d2-88bd5bf80a50"
   },
   "outputs": [
    {
     "name": "stdout",
     "output_type": "stream",
     "text": [
      "Number of samples per class\n",
      "\t Class: 0 Label: 0 Count: 50\n",
      "\t Class: 1 Label: 1 Count: 50\n"
     ]
    },
    {
     "data": {
      "image/png": "[encoded data removed]",
      "text/plain": [
       "<Figure size 432x288 with 1 Axes>"
      ]
     },
     "metadata": {
      "needs_background": "light"
     },
     "output_type": "display_data"
    }
   ],
   "source": [
    "buffer = .5\n",
    "\n",
    "# Generate fake data to cover entire space\n",
    "x_min, x_max = X[:, 0].min() - buffer, X[:, 0].max() + buffer\n",
    "y_min, y_max = X[:, 1].min() - buffer, X[:, 1].max() + buffer\n",
    "xx, yy = np.meshgrid(np.arange(x_min, x_max, .02),\n",
    "                     np.arange(y_min, y_max, .02))\n",
    "fake_data = np.c_[xx.ravel(), yy.ravel()].reshape(-1,2)\n",
    "\n",
    "# Make prediction\n",
    "lp = np.log(compute_priors(y))\n",
    "jll = compute_log_likelihoods(fake_data, means, stds)\n",
    "bcl = np.argmax(jll+lp, axis=1)\n",
    "fake_y_hat = class_labels[bcl]\n",
    "\n",
    "# Plot\n",
    "plt.contourf(xx, yy, fake_y_hat.reshape(xx.shape))\n",
    "plt.plot(X[class_0, 0], X[class_0, 1], 'or', label='Class 0')\n",
    "plt.plot(X[class_1, 0], X[class_1, 1], 'xb', label='Class 1')\n",
    "plt.xlim(xx.min(), xx.max())\n",
    "plt.ylim(yy.min(), yy.max())\n",
    "plt.legend()\n",
    "plt.show()"
   ]
  },
  {
   "cell_type": "markdown",
   "metadata": {
    "id": "qSgO7TSSX8LR"
   },
   "source": [
    "## Computing probabilities  \n",
    "\n",
    "Last thing we can do is compute the probability a given data samples belongs to any of the classes in our data. To do so, we have to use the evidence $P(X)$ that we removed earlier. Remember we removed this term as it is not needed UNLESS we want to compute the probabilities!\n",
    "\n",
    "### Adding back the evidence P(X)\n",
    "While making a prediction does not require the evidence $P(X = \\xv)$, computing the probabilities does. Recall that $P(\\xv)$ is the normalizing term that converts $P(\\xv \\mid y_k) P(y_k)$ into a probability! In order to compute the probability that each data sample belongs a particular class we have to compute $P(X = \\xv)$ and divide $P(\\xv \\mid y_k) P(y_k)$ by it. \n",
    "\n",
    "Recall, below is full Naive Bayes equation which computes the probability a given data sample belongs to a specific class.\n",
    "$$\n",
    "\\begin{align}\n",
    "P(y_k \\mid \\xv) &= \\frac{P(\\xv \\mid y_k) P(y_k)}{P(\\xv)} \\\\\n",
    "&= \\frac{(\\xv \\mid y_k) P(y_k)}{\\sum_{k=1}^K P(\\xv |y_k)P(y_k)}\n",
    "\\end{align}\n",
    "$$\n",
    "\n",
    "\n"
   ]
  },
  {
   "cell_type": "markdown",
   "metadata": {
    "id": "LyJBbdOoX8LR"
   },
   "source": [
    "To compute the probabilities, notice that we have no logs. Thus, we have to undo the logs we applied to the log likelihoods by using NumPy's `np.exp()`. Recall, `np.log()` uses base $e$ so we can use the exponential function `np.exp()` to undo the $\\log$."
   ]
  },
  {
   "cell_type": "code",
   "execution_count": 105,
   "metadata": {
    "colab": {
     "base_uri": "https://localhost:8080/"
    },
    "id": "X88UREY1X8LR",
    "outputId": "9358e08b-7c78-4872-d384-ee9452788cd8"
   },
   "outputs": [
    {
     "name": "stdout",
     "output_type": "stream",
     "text": [
      "joint likelihood shape: (100, 2)\n"
     ]
    }
   ],
   "source": [
    "joint_likelihoods = np.exp(joint_log_likelihoods)\n",
    "print(f\"joint likelihood shape: {joint_likelihoods.shape}\")"
   ]
  },
  {
   "cell_type": "markdown",
   "metadata": {
    "id": "vE97X3D6X8LR"
   },
   "source": [
    "To compute the evidence $P(\\xv)$ for a single data sample we sum the likelihoods across all classes. Thus, we use NumPy's `np.sum()` and pass `axis=1` to sum across all the columns (i.e., classes)."
   ]
  },
  {
   "cell_type": "code",
   "execution_count": 106,
   "metadata": {
    "colab": {
     "base_uri": "https://localhost:8080/"
    },
    "id": "S9rsrFkOX8LR",
    "outputId": "1845687c-936a-4172-f8f9-5c4e63ba6af7",
    "scrolled": true
   },
   "outputs": [
    {
     "name": "stdout",
     "output_type": "stream",
     "text": [
      "evidence shape BEFORE reshape: (100,)\n",
      "evidence shape AFTER reshape: (100, 1)\n"
     ]
    },
    {
     "data": {
      "text/plain": [
       "array([[0.32930546],\n",
       "       [0.31542215],\n",
       "       [0.34408836],\n",
       "       [0.07887588],\n",
       "       [0.05439827],\n",
       "       [0.08888843],\n",
       "       [0.08194461],\n",
       "       [0.36588247],\n",
       "       [0.06202358],\n",
       "       [0.08049392],\n",
       "       [0.07710259],\n",
       "       [0.07127278],\n",
       "       [0.51256825],\n",
       "       [0.06995485],\n",
       "       [0.45653037],\n",
       "       [0.05404325],\n",
       "       [0.37539373],\n",
       "       [0.32213222],\n",
       "       [0.07290274],\n",
       "       [0.07671981],\n",
       "       [0.40848401],\n",
       "       [0.33845261],\n",
       "       [0.07766364],\n",
       "       [0.07135623],\n",
       "       [0.21870316],\n",
       "       [0.05860169],\n",
       "       [0.06807035],\n",
       "       [0.31191949],\n",
       "       [0.07476968],\n",
       "       [0.32845485],\n",
       "       [0.05883   ],\n",
       "       [0.07576931],\n",
       "       [0.29952098],\n",
       "       [0.08183876],\n",
       "       [0.23437417],\n",
       "       [0.07660891],\n",
       "       [0.34976586],\n",
       "       [0.28552734],\n",
       "       [0.07292286],\n",
       "       [0.06710908],\n",
       "       [0.06915158],\n",
       "       [0.07885978],\n",
       "       [0.08519742],\n",
       "       [0.34307147],\n",
       "       [0.06295492],\n",
       "       [0.06478053],\n",
       "       [0.40348031],\n",
       "       [0.08413542],\n",
       "       [0.43285155],\n",
       "       [0.06206371],\n",
       "       [0.05464554],\n",
       "       [0.06119526],\n",
       "       [0.07400981],\n",
       "       [0.07539383],\n",
       "       [0.06287196],\n",
       "       [0.42912475],\n",
       "       [0.06751825],\n",
       "       [0.45629117],\n",
       "       [0.07106973],\n",
       "       [0.36191057],\n",
       "       [0.33357794],\n",
       "       [0.42381572],\n",
       "       [0.25496151],\n",
       "       [0.08821371],\n",
       "       [0.35052998],\n",
       "       [0.37873579],\n",
       "       [0.08625238],\n",
       "       [0.34313668],\n",
       "       [0.33244121],\n",
       "       [0.24284065],\n",
       "       [0.35948948],\n",
       "       [0.06538412],\n",
       "       [0.42567625],\n",
       "       [0.06809624],\n",
       "       [0.37037159],\n",
       "       [0.41587216],\n",
       "       [0.24852411],\n",
       "       [0.07525824],\n",
       "       [0.30141298],\n",
       "       [0.42190222],\n",
       "       [0.41016538],\n",
       "       [0.45260835],\n",
       "       [0.05540146],\n",
       "       [0.06882967],\n",
       "       [0.08485101],\n",
       "       [0.38327432],\n",
       "       [0.07298264],\n",
       "       [0.05517625],\n",
       "       [0.06258258],\n",
       "       [0.38367065],\n",
       "       [0.41532078],\n",
       "       [0.32281092],\n",
       "       [0.38020053],\n",
       "       [0.35783565],\n",
       "       [0.09232124],\n",
       "       [0.38282539],\n",
       "       [0.44228447],\n",
       "       [0.07445474],\n",
       "       [0.32747415],\n",
       "       [0.38520101]])"
      ]
     },
     "execution_count": 106,
     "metadata": {},
     "output_type": "execute_result"
    }
   ],
   "source": [
    "evidence = np.sum(joint_likelihoods, axis=1)\n",
    "print(f\"evidence shape BEFORE reshape: {evidence.shape}\")\n",
    "evidence = evidence.reshape(-1, 1)\n",
    "print(f\"evidence shape AFTER reshape: {evidence.shape}\")\n",
    "evidence"
   ]
  },
  {
   "cell_type": "markdown",
   "metadata": {
    "id": "zSs6sMgfX8LR"
   },
   "source": [
    "To compute the probabilities for each data sample we simply divide the `joint_likelihoods` by the `evidence` as is done in the full Naive Bayes equation given above.  Recall, `joint_likelihoods` contains the likelihoods for all the data $\\Xm$ which means we can compute the evidence for every data sample at once."
   ]
  },
  {
   "cell_type": "code",
   "execution_count": 107,
   "metadata": {
    "colab": {
     "base_uri": "https://localhost:8080/"
    },
    "id": "_B0RyEbpX8LR",
    "outputId": "aff9c783-74e4-49b6-b977-95a4c20d5eec",
    "scrolled": true
   },
   "outputs": [
    {
     "name": "stdout",
     "output_type": "stream",
     "text": [
      "probs shape: (100, 2)\n"
     ]
    }
   ],
   "source": [
    "probs = joint_likelihoods / evidence\n",
    "print(f\"probs shape: {probs.shape}\")"
   ]
  },
  {
   "cell_type": "markdown",
   "metadata": {
    "id": "y-98Dt1YX8LR"
   },
   "source": [
    "Below we can see the probability each data sample belongs to a given class."
   ]
  },
  {
   "cell_type": "code",
   "execution_count": 108,
   "metadata": {
    "colab": {
     "base_uri": "https://localhost:8080/",
     "height": 424
    },
    "id": "ONSPxilIX8LS",
    "outputId": "43a0f31a-7bf2-435d-e231-78af02bc2d24"
   },
   "outputs": [
    {
     "data": {
      "text/html": [
       "\n",
       "  <div id=\"df-1f0cd0cc-bb55-48dc-94dc-39ef10d4a380\">\n",
       "    <div class=\"colab-df-container\">\n",
       "      <div>\n",
       "<style scoped>\n",
       "    .dataframe tbody tr th:only-of-type {\n",
       "        vertical-align: middle;\n",
       "    }\n",
       "\n",
       "    .dataframe tbody tr th {\n",
       "        vertical-align: top;\n",
       "    }\n",
       "\n",
       "    .dataframe thead th {\n",
       "        text-align: right;\n",
       "    }\n",
       "</style>\n",
       "<table border=\"1\" class=\"dataframe\">\n",
       "  <thead>\n",
       "    <tr style=\"text-align: right;\">\n",
       "      <th></th>\n",
       "      <th>Class 0</th>\n",
       "      <th>Class 1</th>\n",
       "    </tr>\n",
       "  </thead>\n",
       "  <tbody>\n",
       "    <tr>\n",
       "      <th>0</th>\n",
       "      <td>0.369013</td>\n",
       "      <td>0.630987</td>\n",
       "    </tr>\n",
       "    <tr>\n",
       "      <th>1</th>\n",
       "      <td>0.370817</td>\n",
       "      <td>0.629183</td>\n",
       "    </tr>\n",
       "    <tr>\n",
       "      <th>2</th>\n",
       "      <td>0.355168</td>\n",
       "      <td>0.644832</td>\n",
       "    </tr>\n",
       "    <tr>\n",
       "      <th>3</th>\n",
       "      <td>0.791479</td>\n",
       "      <td>0.208521</td>\n",
       "    </tr>\n",
       "    <tr>\n",
       "      <th>4</th>\n",
       "      <td>0.890920</td>\n",
       "      <td>0.109080</td>\n",
       "    </tr>\n",
       "    <tr>\n",
       "      <th>...</th>\n",
       "      <td>...</td>\n",
       "      <td>...</td>\n",
       "    </tr>\n",
       "    <tr>\n",
       "      <th>95</th>\n",
       "      <td>0.330321</td>\n",
       "      <td>0.669679</td>\n",
       "    </tr>\n",
       "    <tr>\n",
       "      <th>96</th>\n",
       "      <td>0.300430</td>\n",
       "      <td>0.699570</td>\n",
       "    </tr>\n",
       "    <tr>\n",
       "      <th>97</th>\n",
       "      <td>0.820694</td>\n",
       "      <td>0.179306</td>\n",
       "    </tr>\n",
       "    <tr>\n",
       "      <th>98</th>\n",
       "      <td>0.367870</td>\n",
       "      <td>0.632130</td>\n",
       "    </tr>\n",
       "    <tr>\n",
       "      <th>99</th>\n",
       "      <td>0.325234</td>\n",
       "      <td>0.674766</td>\n",
       "    </tr>\n",
       "  </tbody>\n",
       "</table>\n",
       "<p>100 rows × 2 columns</p>\n",
       "</div>\n",
       "      <button class=\"colab-df-convert\" onclick=\"convertToInteractive('df-1f0cd0cc-bb55-48dc-94dc-39ef10d4a380')\"\n",
       "              title=\"Convert this dataframe to an interactive table.\"\n",
       "              style=\"display:none;\">\n",
       "        \n",
       "  <svg xmlns=\"http://www.w3.org/2000/svg\" height=\"24px\"viewBox=\"0 0 24 24\"\n",
       "       width=\"24px\">\n",
       "    <path d=\"M0 0h24v24H0V0z\" fill=\"none\"/>\n",
       "    <path d=\"M18.56 5.44l.94 2.06.94-2.06 2.06-.94-2.06-.94-.94-2.06-.94 2.06-2.06.94zm-11 1L8.5 8.5l.94-2.06 2.06-.94-2.06-.94L8.5 2.5l-.94 2.06-2.06.94zm10 10l.94 2.06.94-2.06 2.06-.94-2.06-.94-.94-2.06-.94 2.06-2.06.94z\"/><path d=\"M17.41 7.96l-1.37-1.37c-.4-.4-.92-.59-1.43-.59-.52 0-1.04.2-1.43.59L10.3 9.45l-7.72 7.72c-.78.78-.78 2.05 0 2.83L4 21.41c.39.39.9.59 1.41.59.51 0 1.02-.2 1.41-.59l7.78-7.78 2.81-2.81c.8-.78.8-2.07 0-2.86zM5.41 20L4 18.59l7.72-7.72 1.47 1.35L5.41 20z\"/>\n",
       "  </svg>\n",
       "      </button>\n",
       "      \n",
       "  <style>\n",
       "    .colab-df-container {\n",
       "      display:flex;\n",
       "      flex-wrap:wrap;\n",
       "      gap: 12px;\n",
       "    }\n",
       "\n",
       "    .colab-df-convert {\n",
       "      background-color: #E8F0FE;\n",
       "      border: none;\n",
       "      border-radius: 50%;\n",
       "      cursor: pointer;\n",
       "      display: none;\n",
       "      fill: #1967D2;\n",
       "      height: 32px;\n",
       "      padding: 0 0 0 0;\n",
       "      width: 32px;\n",
       "    }\n",
       "\n",
       "    .colab-df-convert:hover {\n",
       "      background-color: #E2EBFA;\n",
       "      box-shadow: 0px 1px 2px rgba(60, 64, 67, 0.3), 0px 1px 3px 1px rgba(60, 64, 67, 0.15);\n",
       "      fill: #174EA6;\n",
       "    }\n",
       "\n",
       "    [theme=dark] .colab-df-convert {\n",
       "      background-color: #3B4455;\n",
       "      fill: #D2E3FC;\n",
       "    }\n",
       "\n",
       "    [theme=dark] .colab-df-convert:hover {\n",
       "      background-color: #434B5C;\n",
       "      box-shadow: 0px 1px 3px 1px rgba(0, 0, 0, 0.15);\n",
       "      filter: drop-shadow(0px 1px 2px rgba(0, 0, 0, 0.3));\n",
       "      fill: #FFFFFF;\n",
       "    }\n",
       "  </style>\n",
       "\n",
       "      <script>\n",
       "        const buttonEl =\n",
       "          document.querySelector('#df-1f0cd0cc-bb55-48dc-94dc-39ef10d4a380 button.colab-df-convert');\n",
       "        buttonEl.style.display =\n",
       "          google.colab.kernel.accessAllowed ? 'block' : 'none';\n",
       "\n",
       "        async function convertToInteractive(key) {\n",
       "          const element = document.querySelector('#df-1f0cd0cc-bb55-48dc-94dc-39ef10d4a380');\n",
       "          const dataTable =\n",
       "            await google.colab.kernel.invokeFunction('convertToInteractive',\n",
       "                                                     [key], {});\n",
       "          if (!dataTable) return;\n",
       "\n",
       "          const docLinkHtml = 'Like what you see? Visit the ' +\n",
       "            '<a target=\"_blank\" href=https://colab.research.google.com/notebooks/data_table.ipynb>data table notebook</a>'\n",
       "            + ' to learn more about interactive tables.';\n",
       "          element.innerHTML = '';\n",
       "          dataTable['output_type'] = 'display_data';\n",
       "          await google.colab.output.renderOutput(dataTable, element);\n",
       "          const docLink = document.createElement('div');\n",
       "          docLink.innerHTML = docLinkHtml;\n",
       "          element.appendChild(docLink);\n",
       "        }\n",
       "      </script>\n",
       "    </div>\n",
       "  </div>\n",
       "  "
      ],
      "text/plain": [
       "     Class 0   Class 1\n",
       "0   0.369013  0.630987\n",
       "1   0.370817  0.629183\n",
       "2   0.355168  0.644832\n",
       "3   0.791479  0.208521\n",
       "4   0.890920  0.109080\n",
       "..       ...       ...\n",
       "95  0.330321  0.669679\n",
       "96  0.300430  0.699570\n",
       "97  0.820694  0.179306\n",
       "98  0.367870  0.632130\n",
       "99  0.325234  0.674766\n",
       "\n",
       "[100 rows x 2 columns]"
      ]
     },
     "execution_count": 108,
     "metadata": {},
     "output_type": "execute_result"
    }
   ],
   "source": [
    "probs_df = pd.DataFrame(probs, columns=[\"Class 0\", \"Class 1\"])\n",
    "probs_df"
   ]
  }
 ],
 "metadata": {
  "colab": {
   "collapsed_sections": [],
   "provenance": []
  },
  "kernelspec": {
   "display_name": "Python 3",
   "language": "python",
   "name": "python3"
  },
  "language_info": {
   "codemirror_mode": {
    "name": "ipython",
    "version": 3
   },
   "file_extension": ".py",
   "mimetype": "text/x-python",
   "name": "python",
   "nbconvert_exporter": "python",
   "pygments_lexer": "ipython3",
   "version": "3.8.8"
  },
  "toc": {
   "base_numbering": 1,
   "nav_menu": {},
   "number_sections": true,
   "sideBar": true,
   "skip_h1_title": false,
   "title_cell": "Table of Contents",
   "title_sidebar": "Contents",
   "toc_cell": false,
   "toc_position": {
    "height": "calc(100% - 180px)",
    "left": "10px",
    "top": "150px",
    "width": "256px"
   },
   "toc_section_display": true,
   "toc_window_display": true
  }
 },
 "nbformat": 4,
 "nbformat_minor": 1
}
